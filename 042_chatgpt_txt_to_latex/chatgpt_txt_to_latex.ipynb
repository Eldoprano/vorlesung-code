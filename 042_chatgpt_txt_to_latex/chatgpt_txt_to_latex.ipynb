{
 "cells": [
  {
   "cell_type": "markdown",
   "id": "c61333a7-b0d1-43b1-9269-e134e230e6df",
   "metadata": {},
   "source": [
    "# Settings"
   ]
  },
  {
   "cell_type": "code",
   "execution_count": 31,
   "id": "feff8a94-c550-4e1f-bb01-cac6407f892b",
   "metadata": {},
   "outputs": [],
   "source": [
    "txt_folder = \"/home/juebrauer/link_to_vcd/03_au/07_chatgpt/01_saved_chats\"\n",
    "out_folder = \"/home/juebrauer/link_to_vcd/03_au/07_chatgpt/\""
   ]
  },
  {
   "cell_type": "markdown",
   "id": "15a194ac-dd4a-4a44-9ff6-bc30fbbd52ba",
   "metadata": {},
   "source": [
    "# Get list of all conversation files"
   ]
  },
  {
   "cell_type": "code",
   "execution_count": 77,
   "id": "aadf0d8a-6583-44e1-8c59-079cbcc54f51",
   "metadata": {},
   "outputs": [
    {
     "data": {
      "text/plain": [
       "['/home/juebrauer/link_to_vcd/03_au/07_chatgpt/01_saved_chats/01_erstkontakt_woerter_rueckwaerts_schreiben.txt']"
      ]
     },
     "execution_count": 77,
     "metadata": {},
     "output_type": "execute_result"
    }
   ],
   "source": [
    "from os import listdir\n",
    "from os.path import isfile, join\n",
    "listfiles = [ f\"{txt_folder}/{f}\" for f in listdir(txt_folder) if isfile(join(txt_folder, f))]\n",
    "listfiles"
   ]
  },
  {
   "cell_type": "markdown",
   "id": "a157c13e-61c2-4236-bd78-d5d6e6b900e2",
   "metadata": {},
   "source": [
    "# Process all files"
   ]
  },
  {
   "cell_type": "code",
   "execution_count": 83,
   "id": "66c18f6a-73a2-4059-9355-549d1b528a91",
   "metadata": {},
   "outputs": [
    {
     "name": "stdout",
     "output_type": "stream",
     "text": [
      "Processing:\n",
      "/home/juebrauer/link_to_vcd/03_au/07_chatgpt/01_saved_chats/01_erstkontakt_woerter_rueckwaerts_schreiben.txt\n"
     ]
    }
   ],
   "source": [
    "themen = {\"01_erstkontakt_woerter_rueckwaerts_schreiben.txt\": \n",
    "          \"Los geht's mit einer einfachen Aufgabe: Wörter und Sätze rückwärts schreiben\" }\n",
    "\n",
    "\n",
    "def txt_to_latex(fname, fobj_latex):\n",
    "    \n",
    "    key = fname[fname.rfind(\"/\")+1:]    \n",
    "    thema = themen[key]\n",
    "    fobj_latex.write( thema )\n",
    "    fobj_latex.write( r\"\\vspace{1cm}\" )\n",
    "    \n",
    "    fobj= open(fname)\n",
    "    lines = fobj.readlines()    \n",
    "    \n",
    "    who = \"JB\"\n",
    "    fobj_latex.write(r\"\\\\\" + \"\\n\" + r\"\\textit{\" + who + \"}: \")\n",
    "    \n",
    "    for line in lines:\n",
    "        \n",
    "        # For the case of a percent sign...\n",
    "        line = line.replace(r\"%\", r\"\\%\")\n",
    "        \n",
    "        # For the case of code...\n",
    "        line = line.replace(r\"Copy code\", r\"\")\n",
    "        \n",
    "        # Change of speaker?\n",
    "        if line.startswith(\"---\"):\n",
    "            if who == \"JB\":\n",
    "                who = \"ChatGPT\"\n",
    "            else:\n",
    "                who = \"JB\"\n",
    "            \n",
    "            fobj_latex.write(r\"\\\\\" + \"\\n\" + r\"\\textit{\" + who + \"}: \")\n",
    "            continue\n",
    "            \n",
    "        # Generate LaTeX string\n",
    "        fobj_latex.write( f\"{line}\" + r\"\\\\\" )\n",
    "        #latex = r\"\\vspace{0.5cm}\" + \"\\n\\n\" + f\"{line}\" + r\"\\\\\"\n",
    "                \n",
    "        # Write LaTeX string to LaTeX file\n",
    "        \n",
    "        \n",
    "    fobj.close()\n",
    "    \n",
    "    \n",
    "latex_fname =  f\"{out_folder}/buch.tex\"\n",
    "fobj_latex = open(latex_fname, \"w\")\n",
    "\n",
    "latex_header = r\"\"\"\n",
    "\\documentclass{book}\n",
    "\\title{ChatGPT}\n",
    "\\setlength{\\parindent}{0pt}\n",
    "\\usepackage[top=4cm,bottom=4cm,left=4cm,right=4cm]{geometry}\n",
    "\n",
    "\\begin{document}\n",
    "\\maketitle\n",
    "\"\"\"\n",
    "fobj_latex.write(latex_header)\n",
    "    \n",
    "for fname in listfiles:\n",
    "    print( \"Processing:\" )\n",
    "    print( fname )\n",
    "    txt_to_latex(fname, fobj_latex)\n",
    "    \n",
    "latex_footer = \"\"\"\n",
    "\\end{document}\n",
    "\"\"\"\n",
    "fobj_latex.write(latex_footer)\n",
    "    \n",
    "fobj_latex.close()"
   ]
  },
  {
   "cell_type": "code",
   "execution_count": null,
   "id": "9f427e92-1814-4903-b546-a7d72c074ae7",
   "metadata": {},
   "outputs": [],
   "source": []
  }
 ],
 "metadata": {
  "kernelspec": {
   "display_name": "Python 3 (ipykernel)",
   "language": "python",
   "name": "python3"
  },
  "language_info": {
   "codemirror_mode": {
    "name": "ipython",
    "version": 3
   },
   "file_extension": ".py",
   "mimetype": "text/x-python",
   "name": "python",
   "nbconvert_exporter": "python",
   "pygments_lexer": "ipython3",
   "version": "3.8.10"
  },
  "toc-autonumbering": true
 },
 "nbformat": 4,
 "nbformat_minor": 5
}
