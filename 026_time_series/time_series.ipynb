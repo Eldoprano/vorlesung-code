{
 "cells": [
  {
   "cell_type": "markdown",
   "id": "7b1f3412-5d19-4017-956b-df829f9f3249",
   "metadata": {},
   "source": [
    "# Eine erste Zeitreihe simulieren\n",
    "\n",
    "Wir wollen einige Szenarios simulieren, bei denen wir als Eingabe Sensorzeitreihen haben und den Abnutzungsgrad eines Bauteiles oder eine Maschine vorhersagen wollen.\n",
    "\n",
    "Hierbei sind verschiedene Situationen möglich:\n",
    "- in nur einer oder in mehreren der Eingabezeitreihen gibt es Signale, die mit dem Abnutzungsgrad zu tun haben\n",
    "- die Signale treten als Einzelereignis auf bzw. zeigen sich als Trendentwicklung\n",
    "- der Abnutzungsgrad ist ein kontinuierlicher Wert oder ein diskreter Wert"
   ]
  },
  {
   "cell_type": "markdown",
   "id": "701b1b2e-5a75-4755-afdb-346523c80fa2",
   "metadata": {},
   "source": [
    "## Einen Sensorwert simulieren"
   ]
  },
  {
   "cell_type": "code",
   "execution_count": null,
   "id": "e6e29936-4620-4e54-81ee-4e50691f39eb",
   "metadata": {},
   "outputs": [],
   "source": [
    "import numpy as np\n",
    "\n",
    "max_time = 3600\n",
    "dt = 1\n",
    "\n",
    "t = np.arange(0.0, 3600.0, dt)"
   ]
  },
  {
   "cell_type": "code",
   "execution_count": null,
   "id": "3cdf0c39-80a1-4299-8cd0-ab0d4628817a",
   "metadata": {},
   "outputs": [],
   "source": [
    "t[:100]"
   ]
  },
  {
   "cell_type": "code",
   "execution_count": null,
   "id": "588ff1bb-5573-4606-8271-b21dc319edc8",
   "metadata": {},
   "outputs": [],
   "source": [
    "# Eine Schwingung pro alle 10 Minuten = 600sec\n",
    "phase = 2*np.pi / 600.0\n",
    "s = np.sin(t * phase)"
   ]
  },
  {
   "cell_type": "code",
   "execution_count": null,
   "id": "0870bdd2-1e3f-45f4-9445-1c67e0c31b90",
   "metadata": {},
   "outputs": [],
   "source": [
    "s[:100]"
   ]
  },
  {
   "cell_type": "code",
   "execution_count": null,
   "id": "036ae77d-e062-42dc-9b71-558d8aad6386",
   "metadata": {},
   "outputs": [],
   "source": [
    "import matplotlib.pyplot as plt\n",
    "\n",
    "plt.plot(t, s)\n",
    "plt.show()"
   ]
  },
  {
   "cell_type": "code",
   "execution_count": null,
   "id": "cc7c4834-0329-4387-b0a9-6d86305fb9ac",
   "metadata": {},
   "outputs": [],
   "source": [
    "noise = np.random.normal(0.0, 0.05, size=10000)\n",
    "plt.hist(noise, bins=50)\n",
    "plt.show()"
   ]
  },
  {
   "cell_type": "code",
   "execution_count": null,
   "id": "9e8f8bf4-ce39-4435-939b-210264814586",
   "metadata": {},
   "outputs": [],
   "source": [
    "s = np.sin(t * phase) + np.random.normal(0.0, 0.05, size=len(t))"
   ]
  },
  {
   "cell_type": "code",
   "execution_count": null,
   "id": "8a02c757-78ee-4bf8-9ea9-4e745ae387e6",
   "metadata": {},
   "outputs": [],
   "source": [
    "plt.plot(t, s)\n",
    "plt.xlim(0,600)\n",
    "plt.show()"
   ]
  },
  {
   "cell_type": "markdown",
   "id": "7afec4d9-60c0-43cb-b51b-f05557526101",
   "metadata": {},
   "source": [
    "## Schädigendes Ereignis simulieren"
   ]
  },
  {
   "cell_type": "code",
   "execution_count": null,
   "id": "7b8df3c4-4bae-46e3-9fc6-d151f18005e9",
   "metadata": {},
   "outputs": [],
   "source": [
    "np.random.uniform()"
   ]
  },
  {
   "cell_type": "code",
   "execution_count": null,
   "id": "2f7d1d16-b4e4-46d6-a3a5-36177e16b74e",
   "metadata": {},
   "outputs": [],
   "source": [
    "ereignis_wkeit = 0.01\n",
    "\n",
    "signal = np.array( [0.5, 0.4, 0.3, 0.2, 0.1] )\n",
    "N = len(signal)\n",
    "abnutzungs_werte = []\n",
    "abnutzung = 0\n",
    "ereignis = np.zeros(len(t))\n",
    "\n",
    "s1 = np.sin(t * phase) + np.random.normal(0.0, 0.05, size=len(t))\n",
    "s2 = np.cos(t * phase) + np.random.normal(0.0, 0.05, size=len(t))\n",
    "s3 = 1.0 - t/3600 + np.random.normal(0.0, 0.01, size=len(t))\n",
    "\n",
    "for i in range(len(t)):\n",
    "    zufallszahl = np.random.uniform()\n",
    "    if zufallszahl<ereignis_wkeit:\n",
    "        ereignis[i] = 1\n",
    "        s1[i:i+N] = s1[i:i+N] + signal\n",
    "        abnutzung += 0.01                \n",
    "    abnutzungs_werte.append(  abnutzung )\n",
    "        \n",
    "abnutzungs_werte = np.array( abnutzungs_werte )\n",
    "        \n",
    "plt.plot(t, s1, \"blue\", label=\"s1\")\n",
    "plt.plot(t, s2, \"green\", label=\"s2\")\n",
    "plt.plot(t, s3, \"orange\", label=\"s3\")\n",
    "plt.plot(t, abnutzungs_werte, \"red\", label=\"abnutzung\")\n",
    "plt.plot(t, ereignis, \"black\", label=\"ereignis\")\n",
    "#plt.xlim(0,600)\n",
    "plt.legend(bbox_to_anchor=(1.0,1.0))\n",
    "plt.show()\n",
    "\n",
    "print( f\"Anz. Abnutzungsereignisse = {np.sum(ereignis)}\" )"
   ]
  },
  {
   "cell_type": "code",
   "execution_count": null,
   "id": "0fd22ccf-66c5-4d03-98c5-0b701eed1c1e",
   "metadata": {},
   "outputs": [],
   "source": [
    "type(s1)"
   ]
  },
  {
   "cell_type": "code",
   "execution_count": null,
   "id": "6aba0861-4cbb-4dc2-a975-76b224a80067",
   "metadata": {},
   "outputs": [],
   "source": [
    "type(abnutzungs_werte)"
   ]
  },
  {
   "cell_type": "code",
   "execution_count": null,
   "id": "df2a624e-dbe1-431a-a098-adba5d2c94ea",
   "metadata": {},
   "outputs": [],
   "source": [
    "len(s1)"
   ]
  },
  {
   "cell_type": "code",
   "execution_count": null,
   "id": "9006ec1c-d66f-4da8-a088-bbaf0ccb2219",
   "metadata": {},
   "outputs": [],
   "source": [
    "len(abnutzungs_werte)"
   ]
  },
  {
   "cell_type": "code",
   "execution_count": null,
   "id": "08981836-b636-446b-9a58-6d7b84f2b6a3",
   "metadata": {},
   "outputs": [],
   "source": [
    "s1.shape"
   ]
  },
  {
   "cell_type": "code",
   "execution_count": null,
   "id": "454a63dd-ec21-4940-a0af-285c9574dae6",
   "metadata": {},
   "outputs": [],
   "source": [
    "abnutzungs_werte.shape"
   ]
  },
  {
   "cell_type": "markdown",
   "id": "69e7cd36-f83f-43ef-bc83-7062cd17b9d7",
   "metadata": {},
   "source": [
    "# Tabelle zur besseren Übersicht"
   ]
  },
  {
   "cell_type": "code",
   "execution_count": null,
   "id": "96cb76bf-713b-47ee-add5-7c250a6057bb",
   "metadata": {},
   "outputs": [],
   "source": [
    "import pandas\n",
    "\n",
    "d = {\"s1\":s1,\n",
    "     \"s2\":s2,\n",
    "     \"s3\":s3,\n",
    "     \"abnutzung\": abnutzungs_werte,\n",
    "     \"ereignis\": ereignis}\n",
    "\n",
    "df = pandas.DataFrame(d)"
   ]
  },
  {
   "cell_type": "code",
   "execution_count": null,
   "id": "8c420082-873b-49e1-807e-b6412a5e3d2c",
   "metadata": {},
   "outputs": [],
   "source": [
    "df"
   ]
  },
  {
   "cell_type": "code",
   "execution_count": null,
   "id": "7828711f-1caf-4e93-b365-fb55ed0b6cd8",
   "metadata": {},
   "outputs": [],
   "source": [
    "print( df.to_string()[:3000] )"
   ]
  },
  {
   "cell_type": "markdown",
   "id": "0ff219f1-807b-467e-860e-104ac6bc0c93",
   "metadata": {},
   "source": [
    "# Trainings- und Testdaten vorbereiten"
   ]
  },
  {
   "cell_type": "markdown",
   "id": "df5f2265-e64a-4a1d-a3db-c832e33d481e",
   "metadata": {},
   "source": [
    "## Ein einzelnes Beispiel extrahieren"
   ]
  },
  {
   "cell_type": "code",
   "execution_count": null,
   "id": "ef96c770-c503-4c26-83dc-020ef882935d",
   "metadata": {},
   "outputs": [],
   "source": [
    "df.values"
   ]
  },
  {
   "cell_type": "code",
   "execution_count": null,
   "id": "359244db-d701-4d74-ba31-e638d475c8ef",
   "metadata": {},
   "outputs": [],
   "source": [
    "df.shape"
   ]
  },
  {
   "cell_type": "code",
   "execution_count": null,
   "id": "8fe0ac79-62e3-4a38-b52a-76bfdda82a8c",
   "metadata": {},
   "outputs": [],
   "source": [
    "start = 20\n",
    "window_size = 10\n",
    "time_window = df.values[start:start+window_size]\n",
    "time_window"
   ]
  },
  {
   "cell_type": "code",
   "execution_count": null,
   "id": "f9464919-744f-477d-ad58-fa31873a26be",
   "metadata": {},
   "outputs": [],
   "source": [
    "def erzeuge_ein_beispiel(df, start, window_size):\n",
    "    time_window = df.values[start:start+window_size]\n",
    "    x = time_window[:,0:3].flatten()\n",
    "    #y = time_window[:,4]\n",
    "    y = sum(time_window[:,4])>0\n",
    "    return x,y"
   ]
  },
  {
   "cell_type": "code",
   "execution_count": null,
   "id": "16736107-d68a-4185-a234-8dca03d9bd8f",
   "metadata": {},
   "outputs": [],
   "source": [
    "x,y = erzeuge_ein_beispiel(df, 20, 10)"
   ]
  },
  {
   "cell_type": "code",
   "execution_count": null,
   "id": "295c7ad3-cd5a-4793-a9a4-e66d6e277bfb",
   "metadata": {},
   "outputs": [],
   "source": [
    "x"
   ]
  },
  {
   "cell_type": "code",
   "execution_count": null,
   "id": "49ae7420-75c9-4d33-8e0d-b89f4db71b0b",
   "metadata": {},
   "outputs": [],
   "source": [
    "y"
   ]
  },
  {
   "cell_type": "markdown",
   "id": "e9ed932d-9bba-4569-a479-3bda851505f3",
   "metadata": {},
   "source": [
    "## Alle Beispiele erzeugen"
   ]
  },
  {
   "cell_type": "code",
   "execution_count": null,
   "id": "638d8607-76df-4180-9b27-683660736b6f",
   "metadata": {},
   "outputs": [],
   "source": [
    "window_size = 10\n",
    "t_bis = 3600-window_size\n",
    "inp = np.zeros((t_bis,window_size*3))\n",
    "out = np.zeros((t_bis,1))"
   ]
  },
  {
   "cell_type": "code",
   "execution_count": null,
   "id": "baa28c64-4850-46ff-a2ae-455a07fc1f2d",
   "metadata": {},
   "outputs": [],
   "source": [
    "inp.shape"
   ]
  },
  {
   "cell_type": "code",
   "execution_count": null,
   "id": "2833f20d-a9c2-4021-94a7-2743cbaa056a",
   "metadata": {},
   "outputs": [],
   "source": [
    "out.shape"
   ]
  },
  {
   "cell_type": "code",
   "execution_count": null,
   "id": "0e16b192-3aad-4237-865c-db2fccdf8144",
   "metadata": {},
   "outputs": [],
   "source": [
    "print( inp[0], \"-->\", out[0] )"
   ]
  },
  {
   "cell_type": "code",
   "execution_count": null,
   "id": "ebd62c4e-2b79-4203-baff-0cbfc7e8dbc1",
   "metadata": {},
   "outputs": [],
   "source": [
    "zeile = 0\n",
    "for time_step in range(0,t_bis):\n",
    "    x,y = erzeuge_ein_beispiel(df, time_step, window_size)\n",
    "    inp[zeile,:] = x\n",
    "    out[zeile,:] = y\n",
    "    zeile += 1\n",
    "    \n",
    "    if zeile<30:\n",
    "        print( x, \"-->\", y )"
   ]
  },
  {
   "cell_type": "code",
   "execution_count": null,
   "id": "688bd6b6-3fea-4e54-9a44-ca2744eddf73",
   "metadata": {},
   "outputs": [],
   "source": [
    "print( inp[0], \"-->\", out[0] )"
   ]
  },
  {
   "cell_type": "markdown",
   "id": "4ccaae10-5d53-4d21-9970-82e462396fe7",
   "metadata": {},
   "source": [
    "## Aufspaltung der Beispiele in Trainings- und Testdaten"
   ]
  },
  {
   "cell_type": "code",
   "execution_count": null,
   "id": "30c9679d-8e3c-44e9-a352-6b875c25fc6a",
   "metadata": {},
   "outputs": [],
   "source": [
    "inp.shape"
   ]
  },
  {
   "cell_type": "code",
   "execution_count": null,
   "id": "ff05fc97-27f9-4ff9-84b6-7519e8861e24",
   "metadata": {},
   "outputs": [],
   "source": [
    "out.shape"
   ]
  },
  {
   "cell_type": "code",
   "execution_count": null,
   "id": "a56b779f-b8b4-4707-b01e-d00f9d1a3f98",
   "metadata": {},
   "outputs": [],
   "source": [
    "N = int(len(inp)*0.6)\n",
    "N"
   ]
  },
  {
   "cell_type": "code",
   "execution_count": null,
   "id": "4678191a-ed06-45fd-b98c-b0adc4662b11",
   "metadata": {},
   "outputs": [],
   "source": [
    "x_train = inp[:N]\n",
    "y_train = out[:N]\n",
    "x_test = inp[N:]\n",
    "y_test = out[N:]"
   ]
  },
  {
   "cell_type": "code",
   "execution_count": null,
   "id": "ae29876d-1aa3-4ee9-86a7-077d3b708801",
   "metadata": {},
   "outputs": [],
   "source": [
    "x_train.shape"
   ]
  },
  {
   "cell_type": "code",
   "execution_count": null,
   "id": "36d3f6a4-e88a-4cf8-9610-5b9443cdccbb",
   "metadata": {},
   "outputs": [],
   "source": [
    "y_train.shape"
   ]
  },
  {
   "cell_type": "code",
   "execution_count": null,
   "id": "d1812410-58c2-43ad-a8ce-fcf526a2d70b",
   "metadata": {},
   "outputs": [],
   "source": [
    "x_test.shape"
   ]
  },
  {
   "cell_type": "code",
   "execution_count": null,
   "id": "7855ca0c-ebf9-4e62-98b2-aa0e8d3d178e",
   "metadata": {},
   "outputs": [],
   "source": [
    "y_test.shape"
   ]
  },
  {
   "cell_type": "markdown",
   "id": "328186ba-908a-4849-b207-5df6564cf529",
   "metadata": {},
   "source": [
    "# NN erzeugen und trainieren"
   ]
  },
  {
   "cell_type": "code",
   "execution_count": null,
   "id": "8ec399e1-7df9-4477-b8dd-7ff7e2a5c10e",
   "metadata": {},
   "outputs": [],
   "source": [
    "nr_inputs = x_test.shape[1]\n",
    "nr_inputs"
   ]
  },
  {
   "cell_type": "code",
   "execution_count": null,
   "id": "bfee984b-7d45-47f9-92be-295658a9765d",
   "metadata": {},
   "outputs": [],
   "source": [
    "from tensorflow import keras\n",
    "\n",
    "m = keras.Sequential()\n",
    "l0 = keras.layers.Input(shape=(nr_inputs,))\n",
    "l1 = keras.layers.Dense(10, activation=\"relu\")\n",
    "l2 = keras.layers.Dense(1)\n",
    "m.add( l0 )\n",
    "m.add( l1 )\n",
    "m.add( l2 )\n",
    "m.summary()\n",
    "\n",
    "m.compile(optimizer=\"sgd\", loss=keras.losses.MeanSquaredError())\n",
    "\n",
    "print(\"Training Start\")\n",
    "history = m.fit(x_train,y_train, epochs=500, verbose=0)\n",
    "print(\"Training Ende\")\n",
    "\n",
    "import matplotlib.pyplot as plt\n",
    "plt.plot(history.history[\"loss\"])\n",
    "plt.show()"
   ]
  },
  {
   "cell_type": "markdown",
   "id": "45731c71-adfa-412b-a274-d0234c0030dd",
   "metadata": {},
   "source": [
    "# NN testen auf Testdaten"
   ]
  },
  {
   "cell_type": "code",
   "execution_count": null,
   "id": "db6794ff-6a7a-4ee2-a986-a1d5d04f36c2",
   "metadata": {},
   "outputs": [],
   "source": [
    "x_test.shape"
   ]
  },
  {
   "cell_type": "code",
   "execution_count": null,
   "id": "8cabe82c-edbd-47ec-958b-745bb2b47f72",
   "metadata": {},
   "outputs": [],
   "source": [
    "x_test[0]"
   ]
  },
  {
   "cell_type": "code",
   "execution_count": null,
   "id": "adc4059c-81f9-45fa-8ded-eb62a8811a7f",
   "metadata": {},
   "outputs": [],
   "source": [
    "y_test[1]"
   ]
  },
  {
   "cell_type": "code",
   "execution_count": null,
   "id": "af9cd541-fe21-4aaa-b583-991e1483c755",
   "metadata": {},
   "outputs": [],
   "source": [
    "preds = m.predict( x_test ).flatten()\n",
    "preds"
   ]
  },
  {
   "cell_type": "code",
   "execution_count": null,
   "id": "616b804e-0d5c-4d4c-86cf-1e3441dba49b",
   "metadata": {},
   "outputs": [],
   "source": [
    "preds.shape"
   ]
  },
  {
   "cell_type": "code",
   "execution_count": null,
   "id": "de5e8157-4f20-4392-b8d9-514aadbaa1f0",
   "metadata": {},
   "outputs": [],
   "source": [
    "plt.plot(preds)\n",
    "plt.show()"
   ]
  },
  {
   "cell_type": "code",
   "execution_count": null,
   "id": "524eb4e8-3672-44af-bbe9-9e4f5c36ea97",
   "metadata": {},
   "outputs": [],
   "source": [
    "preds_binary = preds>0.5"
   ]
  },
  {
   "cell_type": "code",
   "execution_count": null,
   "id": "6d64bb17-ea46-42be-9764-533cbb6b6ff8",
   "metadata": {},
   "outputs": [],
   "source": [
    "preds_binary.shape"
   ]
  },
  {
   "cell_type": "code",
   "execution_count": null,
   "id": "c1453eeb-388a-40de-83da-c595eb723b27",
   "metadata": {},
   "outputs": [],
   "source": [
    "preds_binary[:5]"
   ]
  },
  {
   "cell_type": "code",
   "execution_count": null,
   "id": "281c640d-9eae-42f2-b074-ea397bfc908f",
   "metadata": {},
   "outputs": [],
   "source": [
    "sum(preds_binary==0)"
   ]
  },
  {
   "cell_type": "code",
   "execution_count": null,
   "id": "b45d7311-9833-4273-b79d-f2d61f298e4a",
   "metadata": {},
   "outputs": [],
   "source": [
    "sum(preds_binary==1)"
   ]
  },
  {
   "cell_type": "code",
   "execution_count": null,
   "id": "af78da68-8047-405c-9f90-5bb022e1d7b7",
   "metadata": {},
   "outputs": [],
   "source": [
    "sum(y_test.flatten()==0)"
   ]
  },
  {
   "cell_type": "code",
   "execution_count": null,
   "id": "f59eeaf2-e3de-461b-a8f6-39eb2d2f800d",
   "metadata": {},
   "outputs": [],
   "source": [
    "sum(y_test.flatten()==1)"
   ]
  },
  {
   "cell_type": "code",
   "execution_count": null,
   "id": "27719488-5acf-4915-ac7d-c992a1a89bf2",
   "metadata": {},
   "outputs": [],
   "source": [
    "plt.plot(preds_binary)\n",
    "plt.plot(y_test.flatten()*0.5)\n",
    "#plt.xlim(0,200)\n",
    "plt.show()"
   ]
  },
  {
   "cell_type": "code",
   "execution_count": null,
   "id": "4f60b766-999b-487b-a49c-f36344f0b872",
   "metadata": {},
   "outputs": [],
   "source": [
    "y_test.flatten()"
   ]
  },
  {
   "cell_type": "code",
   "execution_count": null,
   "id": "df95e465-1313-4fbf-8714-e68bf1e9310b",
   "metadata": {},
   "outputs": [],
   "source": [
    "nr_errors = sum(abs(preds_binary - y_test.flatten()))\n",
    "nr_errors"
   ]
  },
  {
   "cell_type": "code",
   "execution_count": null,
   "id": "ac3f8237-ffea-4114-9297-2b82d9bc1a40",
   "metadata": {},
   "outputs": [],
   "source": [
    "percent_errors = (nr_errors / len(x_test))*100.0\n",
    "percent_errors"
   ]
  },
  {
   "cell_type": "markdown",
   "id": "5c1935e2-2a28-43c4-9e47-6c8653138241",
   "metadata": {},
   "source": [
    "# NN testen auf Trainingsdaten"
   ]
  },
  {
   "cell_type": "code",
   "execution_count": null,
   "id": "3d7972d6-6fb4-4aa0-a33d-71bd6cc26ac7",
   "metadata": {},
   "outputs": [],
   "source": [
    "preds = m.predict( x_train ).flatten()\n",
    "preds_binary = preds>0.5"
   ]
  },
  {
   "cell_type": "code",
   "execution_count": null,
   "id": "c1729cc8-a2c2-42bf-a849-321c1c21dd3d",
   "metadata": {},
   "outputs": [],
   "source": [
    "sum(preds_binary==0)"
   ]
  },
  {
   "cell_type": "code",
   "execution_count": null,
   "id": "f1c2810d-fd67-4112-a295-9490aacf537a",
   "metadata": {},
   "outputs": [],
   "source": [
    "sum(preds_binary==1)"
   ]
  },
  {
   "cell_type": "code",
   "execution_count": null,
   "id": "55d77b8e-b617-4bdd-ad04-5d49a9d8fc67",
   "metadata": {},
   "outputs": [],
   "source": [
    "sum(y_train.flatten()==0)"
   ]
  },
  {
   "cell_type": "code",
   "execution_count": null,
   "id": "162387ed-d723-451c-92b4-e5a83c491718",
   "metadata": {},
   "outputs": [],
   "source": [
    "sum(y_train.flatten()==1)"
   ]
  },
  {
   "cell_type": "code",
   "execution_count": null,
   "id": "575f712c-fb64-4219-af0b-572b3edf0477",
   "metadata": {},
   "outputs": [],
   "source": [
    "nr_errors = sum(abs(preds_binary - y_train.flatten()))\n",
    "nr_errors"
   ]
  },
  {
   "cell_type": "code",
   "execution_count": null,
   "id": "ae30abac-9860-4301-bc30-e0303f006291",
   "metadata": {},
   "outputs": [],
   "source": [
    "percent_errors = (nr_errors / len(x_test))*100.0\n",
    "percent_errors"
   ]
  },
  {
   "cell_type": "markdown",
   "id": "1983452d-8099-42d0-9de7-a0c5101a7995",
   "metadata": {},
   "source": [
    "# Alles in einer Codezelle"
   ]
  },
  {
   "cell_type": "code",
   "execution_count": null,
   "id": "41409c68-dbc5-4838-a525-b195d497e53f",
   "metadata": {},
   "outputs": [],
   "source": [
    "# 1. Erzeuge Zeitreihen\n",
    "########################\n",
    "import numpy as np\n",
    "import matplotlib.pyplot as plt\n",
    "max_time = 3600\n",
    "dt = 1\n",
    "t = np.arange(0.0, 3600.0, dt)\n",
    "\n",
    "ereignis_wkeit = 0.01\n",
    "signal = np.array( [0.5, 0.4, 0.3, 0.2, 0.1] )\n",
    "N = len(signal)\n",
    "abnutzungs_werte = []\n",
    "abnutzung = 0\n",
    "ereignis = np.zeros(len(t))\n",
    "\n",
    "phase = 2*np.pi / 600.0\n",
    "s1 = np.sin(t * phase) + np.random.normal(0.0, 0.05, size=len(t))\n",
    "s2 = np.cos(t * phase) + np.random.normal(0.0, 0.05, size=len(t))\n",
    "s3 = 1.0 - t/3600 + np.random.normal(0.0, 0.01, size=len(t))\n",
    "\n",
    "for i in range(len(t)):\n",
    "    zufallszahl = np.random.uniform()\n",
    "    if zufallszahl<ereignis_wkeit:\n",
    "        ereignis[i] = 1\n",
    "        s1[i:i+N] = s1[i:i+N] + signal\n",
    "        abnutzung += 0.01                \n",
    "    abnutzungs_werte.append(  abnutzung )\n",
    "        \n",
    "abnutzungs_werte = np.array( abnutzungs_werte )\n",
    "        \n",
    "plt.plot(t, s1, \"blue\", label=\"s1\")\n",
    "plt.plot(t, s2, \"green\", label=\"s2\")\n",
    "plt.plot(t, s3, \"orange\", label=\"s3\")\n",
    "plt.plot(t, abnutzungs_werte, \"red\", label=\"abnutzung\")\n",
    "plt.plot(t, ereignis, \"black\", label=\"ereignis\")\n",
    "#plt.xlim(0,600)\n",
    "plt.legend(bbox_to_anchor=(1.0,1.0))\n",
    "plt.show()\n",
    "\n",
    "print( f\"Anz. Abnutzungsereignisse = {np.sum(ereignis)}\" )\n",
    "\n",
    "\n",
    "# 2. Erstelle Tabelle zur besseren Übersicht\n",
    "########################\n",
    "import pandas\n",
    "d = {\"s1\":s1,\n",
    "     \"s2\":s2,\n",
    "     \"s3\":s3,\n",
    "     \"abnutzung\": abnutzungs_werte,\n",
    "     \"ereignis\": ereignis}\n",
    "df = pandas.DataFrame(d)\n",
    "\n",
    "\n",
    "# 3. Hilfsfunktion um ein Beispiel aus Zeitreihe zu erzeugen\n",
    "########################\n",
    "def erzeuge_ein_beispiel(df, start, window_size):\n",
    "    time_window = df.values[start:start+window_size]\n",
    "    x = time_window[:,0:3].flatten()\n",
    "    #y = time_window[:,4]\n",
    "    y = sum(time_window[:,4])>0\n",
    "    return x,y\n",
    "\n",
    "\n",
    "# 4. Alle Beispiele erzeugen\n",
    "########################\n",
    "window_size = 10\n",
    "t_bis = 3600-window_size\n",
    "inp = np.zeros((t_bis,window_size*3))\n",
    "out = np.zeros((t_bis,1))\n",
    "\n",
    "zeile = 0\n",
    "for time_step in range(0,t_bis):\n",
    "    x,y = erzeuge_ein_beispiel(df, time_step, window_size)\n",
    "    inp[zeile,:] = x\n",
    "    out[zeile,:] = y\n",
    "    zeile += 1\n",
    "    \n",
    "    if zeile<5:\n",
    "        print( x, \"-->\", y )\n",
    "        \n",
    "        \n",
    "# 5. Aufspaltung in Trainings- und Testdaten\n",
    "############################################\n",
    "N = int(len(inp)*0.6)\n",
    "x_train = inp[:N]\n",
    "y_train = out[:N]\n",
    "x_test = inp[N:]\n",
    "y_test = out[N:]\n",
    "\n",
    "\n",
    "# 6. NN erzeugen und trainieren\n",
    "###############################\n",
    "from tensorflow import keras\n",
    "\n",
    "nr_inputs = x_test.shape[1]\n",
    "m = keras.Sequential()\n",
    "l0 = keras.layers.Input(shape=(nr_inputs,))\n",
    "l1 = keras.layers.Dense(10, activation=\"relu\")\n",
    "l2 = keras.layers.Dense(1)\n",
    "m.add( l0 )\n",
    "m.add( l1 )\n",
    "m.add( l2 )\n",
    "m.summary()\n",
    "\n",
    "m.compile(optimizer=\"sgd\", loss=keras.losses.MeanSquaredError())\n",
    "\n",
    "print(\"Training Start\")\n",
    "history = m.fit(x_train,y_train, epochs=500, verbose=0)\n",
    "print(\"Training Ende\")\n",
    "\n",
    "import matplotlib.pyplot as plt\n",
    "plt.plot(history.history[\"loss\"])\n",
    "plt.show()\n",
    "\n",
    "\n",
    "# 7. NN testen\n",
    "##############\n",
    "preds = m.predict( x_test ).flatten()\n",
    "preds_binary = preds>0.5\n",
    "plt.plot(preds_binary)\n",
    "plt.plot(y_test.flatten()*0.5)\n",
    "plt.show()\n",
    "\n",
    "nr_errors = sum(abs(preds_binary - y_test.flatten()))\n",
    "print(\"Anzahl Fehler: \", nr_errors)\n",
    "percent_errors = (nr_errors / len(x_test))*100.0\n",
    "print(\"Prozent Fehler: \", percent_errors)"
   ]
  },
  {
   "cell_type": "markdown",
   "id": "64268c76-a22f-4945-accf-958de4c06818",
   "metadata": {},
   "source": [
    "# Kontinuierliche Abnutzung vorhersagen"
   ]
  },
  {
   "cell_type": "code",
   "execution_count": null,
   "id": "bad827c5-45b6-47b6-8859-0b6b4b144118",
   "metadata": {},
   "outputs": [],
   "source": [
    "# 1. Erzeuge Zeitreihen\n",
    "########################\n",
    "import numpy as np\n",
    "import matplotlib.pyplot as plt\n",
    "max_time = 3600\n",
    "dt = 1\n",
    "t = np.arange(0.0, 3600.0, dt)\n",
    "\n",
    "N = len(signal)\n",
    "abnutzungs_werte = []\n",
    "abnutzung = 0\n",
    "\n",
    "phase = 2*np.pi / 600.0\n",
    "s1 = t/3600 + np.sin(t * phase) + np.random.normal(0.0, 0.05, size=len(t))\n",
    "s2 = np.cos(t * phase) + np.random.normal(0.0, 0.05, size=len(t))\n",
    "\n",
    "for i in range(len(t)):    \n",
    "    abnutzung += 1/3600\n",
    "    abnutzungs_werte.append(  abnutzung )\n",
    "        \n",
    "abnutzungs_werte = np.array( abnutzungs_werte )\n",
    "        \n",
    "plt.plot(t, s1, \"blue\", label=\"s1\")\n",
    "plt.plot(t, s2, \"green\", label=\"s2\")\n",
    "plt.plot(t, abnutzungs_werte, \"red\", label=\"abnutzung\")\n",
    "#plt.xlim(0,600)\n",
    "plt.legend(bbox_to_anchor=(1.0,1.0))\n",
    "plt.show()\n",
    "\n",
    "\n",
    "\n",
    "# 2. Erstelle Tabelle zur besseren Übersicht\n",
    "########################\n",
    "import pandas\n",
    "d = {\"s1\":s1,\n",
    "     \"s2\":s2,\n",
    "     \"abnutzung\": abnutzungs_werte}\n",
    "df = pandas.DataFrame(d)\n",
    "\n",
    "print(df)\n",
    "\n",
    "\n",
    "# 3. Hilfsfunktion um ein Beispiel aus Zeitreihe zu erzeugen\n",
    "########################\n",
    "def erzeuge_ein_beispiel(df, start, window_size):\n",
    "    time_window = df.values[start:start+window_size]\n",
    "    x = time_window[:,0:2].flatten()\n",
    "    y = time_window[:,2][-1]\n",
    "    return x,y\n",
    "\n",
    "\n",
    "# 4. Alle Beispiele erzeugen\n",
    "########################\n",
    "window_size = 120\n",
    "t_bis = 3600-window_size\n",
    "inp = np.zeros((t_bis,window_size*2))\n",
    "out = np.zeros((t_bis,1))\n",
    "\n",
    "zeile = 0\n",
    "for time_step in range(0,t_bis):\n",
    "    x,y = erzeuge_ein_beispiel(df, time_step, window_size)\n",
    "    if zeile<5:\n",
    "        print( x, \"-->\", y )\n",
    "        \n",
    "    inp[zeile,:] = x\n",
    "    out[zeile,:] = y\n",
    "    zeile += 1   \n",
    "    \n",
    "        \n",
    "        \n",
    "# 5. Aufspaltung in Trainings- und Testdaten\n",
    "############################################\n",
    "N = int(len(inp)*0.6)\n",
    "x_train = inp[:N]\n",
    "y_train = out[:N]\n",
    "x_test = inp[N:]\n",
    "y_test = out[N:]\n",
    "\n",
    "\n",
    "# 6. NN erzeugen und trainieren\n",
    "###############################\n",
    "from tensorflow import keras\n",
    "\n",
    "nr_inputs = x_test.shape[1]\n",
    "m = keras.Sequential()\n",
    "l0 = keras.layers.Input(shape=(nr_inputs,))\n",
    "l1 = keras.layers.Dense(100, activation=\"relu\")\n",
    "l2 = keras.layers.Dense(1)\n",
    "m.add( l0 )\n",
    "m.add( l1 )\n",
    "m.add( l2 )\n",
    "m.summary()\n",
    "\n",
    "m.compile(optimizer=\"adam\", loss=keras.losses.MeanSquaredError())\n",
    "\n",
    "print(\"Training Start\")\n",
    "history = m.fit(x_train,y_train, epochs=1000, verbose=0)\n",
    "print(\"Training Ende\")\n",
    "\n",
    "import matplotlib.pyplot as plt\n",
    "plt.plot(history.history[\"loss\"])\n",
    "plt.show()\n",
    "\n",
    "\n",
    "# 7. NN testen\n",
    "##############\n",
    "preds = m.predict( x_test ).flatten()\n",
    "plt.plot(preds,            \"orange\", label=\"Prädiktion der Abnutzung\")\n",
    "plt.plot(y_test.flatten(), \"red\",    label=\"Tatsächliche Abnutzung\")\n",
    "plt.legend()\n",
    "plt.show()"
   ]
  },
  {
   "cell_type": "markdown",
   "id": "cba97e46-5667-4126-9e00-8b7b96dd0d84",
   "metadata": {},
   "source": [
    "# Prädiktion mit einem RNN"
   ]
  },
  {
   "cell_type": "markdown",
   "id": "c815751f-9ce1-479d-ba06-dbd74e14f571",
   "metadata": {},
   "source": [
    "## RNNs brauchen eine andere Input-Shape"
   ]
  },
  {
   "cell_type": "code",
   "execution_count": null,
   "id": "adc48b7e-aae6-42a8-97a9-cc343571067b",
   "metadata": {},
   "outputs": [],
   "source": [
    "# input has to be a 3D tensor, with shape [batch, nr of timesteps, nr of features]\n",
    "inputs = np.random.random([8, 5, 2]).astype(np.float32)\n",
    "inputs"
   ]
  },
  {
   "cell_type": "code",
   "execution_count": null,
   "id": "d10a8284-997a-4c51-a816-6c7ba54fe60a",
   "metadata": {},
   "outputs": [],
   "source": [
    "simple_rnn = keras.layers.SimpleRNN(units=3)"
   ]
  },
  {
   "cell_type": "code",
   "execution_count": null,
   "id": "e7e8e75c-fc8f-493b-bedf-cab9f97cb3f0",
   "metadata": {},
   "outputs": [],
   "source": [
    "output = simple_rnn(inputs)"
   ]
  },
  {
   "cell_type": "code",
   "execution_count": null,
   "id": "e726dc8d-3f31-4b77-9108-0042d00f97c7",
   "metadata": {},
   "outputs": [],
   "source": [
    "output"
   ]
  },
  {
   "cell_type": "code",
   "execution_count": null,
   "id": "59e7c308-d972-46c3-8725-f849ddfbda27",
   "metadata": {},
   "outputs": [],
   "source": [
    "output.shape"
   ]
  },
  {
   "cell_type": "code",
   "execution_count": null,
   "id": "2ce41bd1-b9e6-493a-9e04-da29ff60100f",
   "metadata": {},
   "outputs": [],
   "source": [
    "simple_rnn = keras.layers.SimpleRNN(3, return_sequences=True, return_state=True)\n",
    "whole_sequence_output, final_state = simple_rnn(inputs)"
   ]
  },
  {
   "cell_type": "code",
   "execution_count": null,
   "id": "09b113db-f0cf-4e88-a62b-ff47d7300468",
   "metadata": {},
   "outputs": [],
   "source": [
    "final_state"
   ]
  },
  {
   "cell_type": "code",
   "execution_count": null,
   "id": "c27cbf9e-f5c8-4b5f-9157-3e636ee9fb0b",
   "metadata": {},
   "outputs": [],
   "source": [
    "whole_sequence_output.shape"
   ]
  },
  {
   "cell_type": "markdown",
   "id": "68d6c7b6-503a-4fde-b616-a4ab4eac273c",
   "metadata": {},
   "source": [
    "## RNN Beispiel\n",
    "\n",
    "Beispiel ist von hier:\n",
    "https://machinelearningmastery.com/understanding-simple-recurrent-neural-networks-in-keras/\n",
    "\n",
    "Gute Datensatzwebseite:\n",
    "https://github.com/jbrownlee/Datasets\n",
    "\n",
    "Doku / Beispiele mit verschiedenen RNN-Zelltypen:\n",
    "https://www.tensorflow.org/guide/keras/rnn"
   ]
  },
  {
   "cell_type": "code",
   "execution_count": 19,
   "id": "3fa61b2f-0afe-4264-b440-49fa9ccf592b",
   "metadata": {},
   "outputs": [
    {
     "name": "stdout",
     "output_type": "stream",
     "text": [
      "Epoch 1/20\n",
      "187/187 - 1s - loss: 0.1377 - 590ms/epoch - 3ms/step\n",
      "Epoch 2/20\n",
      "187/187 - 0s - loss: 0.0450 - 297ms/epoch - 2ms/step\n",
      "Epoch 3/20\n",
      "187/187 - 0s - loss: 0.0308 - 301ms/epoch - 2ms/step\n",
      "Epoch 4/20\n",
      "187/187 - 0s - loss: 0.0235 - 277ms/epoch - 1ms/step\n",
      "Epoch 5/20\n",
      "187/187 - 0s - loss: 0.0191 - 265ms/epoch - 1ms/step\n",
      "Epoch 6/20\n",
      "187/187 - 0s - loss: 0.0159 - 265ms/epoch - 1ms/step\n",
      "Epoch 7/20\n",
      "187/187 - 0s - loss: 0.0135 - 241ms/epoch - 1ms/step\n",
      "Epoch 8/20\n",
      "187/187 - 0s - loss: 0.0118 - 188ms/epoch - 1ms/step\n",
      "Epoch 9/20\n",
      "187/187 - 0s - loss: 0.0107 - 190ms/epoch - 1ms/step\n",
      "Epoch 10/20\n",
      "187/187 - 0s - loss: 0.0098 - 202ms/epoch - 1ms/step\n",
      "Epoch 11/20\n",
      "187/187 - 0s - loss: 0.0091 - 192ms/epoch - 1ms/step\n",
      "Epoch 12/20\n",
      "187/187 - 0s - loss: 0.0084 - 188ms/epoch - 1ms/step\n",
      "Epoch 13/20\n",
      "187/187 - 0s - loss: 0.0077 - 193ms/epoch - 1ms/step\n",
      "Epoch 14/20\n",
      "187/187 - 0s - loss: 0.0076 - 194ms/epoch - 1ms/step\n",
      "Epoch 15/20\n",
      "187/187 - 0s - loss: 0.0070 - 188ms/epoch - 1ms/step\n",
      "Epoch 16/20\n",
      "187/187 - 0s - loss: 0.0068 - 225ms/epoch - 1ms/step\n",
      "Epoch 17/20\n",
      "187/187 - 0s - loss: 0.0065 - 200ms/epoch - 1ms/step\n",
      "Epoch 18/20\n",
      "187/187 - 0s - loss: 0.0061 - 192ms/epoch - 1ms/step\n",
      "Epoch 19/20\n",
      "187/187 - 0s - loss: 0.0059 - 192ms/epoch - 1ms/step\n",
      "Epoch 20/20\n",
      "187/187 - 0s - loss: 0.0056 - 201ms/epoch - 1ms/step\n",
      "Train RMSE: 0.076 RMSE\n",
      "Test RMSE: 0.121 RMSE\n"
     ]
    },
    {
     "data": {
      "image/png": "[encoded data removed]",
      "text/plain": [
       "<Figure size 1200x480 with 1 Axes>"
      ]
     },
     "metadata": {
      "needs_background": "light"
     },
     "output_type": "display_data"
    }
   ],
   "source": [
    "from pandas import read_csv\n",
    "import numpy as np\n",
    "from keras.models import Sequential\n",
    "from keras.layers import Dense, SimpleRNN, LSTM, GRU\n",
    "from sklearn.preprocessing import MinMaxScaler\n",
    "from sklearn.metrics import mean_squared_error\n",
    "import math\n",
    "import matplotlib.pyplot as plt\n",
    "\n",
    "# Parameter split_percent defines the ratio of training examples\n",
    "def get_train_test(url, split_percent=0.8):\n",
    "    df = read_csv(url, usecols=[1], engine='python')\n",
    "    #df2 = read_csv(url, engine='python')\n",
    "    #df2.to_csv(\"sunspots.csv\", index=None)\n",
    "    data = np.array(df.values.astype('float32'))\n",
    "    scaler = MinMaxScaler(feature_range=(0, 1))\n",
    "    data = scaler.fit_transform(data).flatten()\n",
    "    n = len(data)\n",
    "    # Point for splitting data into train and test\n",
    "    split = int(n*split_percent)\n",
    "    train_data = data[range(split)]\n",
    "    test_data = data[split:]\n",
    "    return train_data, test_data, data\n",
    "\n",
    "# Prepare the input X and target Y\n",
    "def get_XY(dat, time_steps):\n",
    "    Y_ind = np.arange(time_steps, len(dat), time_steps)\n",
    "    Y = dat[Y_ind]\n",
    "    rows_x = len(Y)\n",
    "    X = dat[range(time_steps*rows_x)]\n",
    "    X = np.reshape(X, (rows_x, time_steps, 1))    \n",
    "    return X, Y\n",
    "\n",
    "def create_RNN(hidden_units, dense_units, input_shape, activation):\n",
    "    model = Sequential()\n",
    "    model.add(SimpleRNN(hidden_units, input_shape=input_shape, activation=activation[0]))\n",
    "    #model.add(LSTM(hidden_units, input_shape=input_shape, activation=activation[0]))\n",
    "    #model.add(GRU(hidden_units, input_shape=input_shape, activation=activation[0]))\n",
    "    model.add(Dense(units=dense_units, activation=activation[1]))\n",
    "    model.compile(loss='mean_squared_error', optimizer='adam')\n",
    "    return model\n",
    "\n",
    "def print_error(trainY, testY, train_predict, test_predict):    \n",
    "    # Error of predictions\n",
    "    train_rmse = math.sqrt(mean_squared_error(trainY, train_predict))\n",
    "    test_rmse = math.sqrt(mean_squared_error(testY, test_predict))\n",
    "    # Print RMSE\n",
    "    print('Train RMSE: %.3f RMSE' % (train_rmse))\n",
    "    print('Test RMSE: %.3f RMSE' % (test_rmse))    \n",
    "\n",
    "# Plot the result\n",
    "def plot_result(trainY, testY, train_predict, test_predict):\n",
    "    actual = np.append(trainY, testY)\n",
    "    predictions = np.append(train_predict, test_predict)\n",
    "    rows = len(actual)\n",
    "    plt.figure(figsize=(15, 6), dpi=80)\n",
    "    plt.plot(range(rows), actual)\n",
    "    plt.plot(range(rows), predictions)\n",
    "    plt.axvline(x=len(trainY), color='r')\n",
    "    plt.legend(['Actual', 'Predictions'])\n",
    "    plt.xlabel('Observation number after given time steps')\n",
    "    plt.ylabel('Sunspots scaled')\n",
    "    plt.title('Actual and Predicted Values. The Red Line Separates The Training And Test Examples')\n",
    "\n",
    "sunspots_url = 'https://raw.githubusercontent.com/jbrownlee/Datasets/master/monthly-sunspots.csv'\n",
    "time_steps = 12\n",
    "train_data, test_data, data = get_train_test(sunspots_url)\n",
    "trainX, trainY = get_XY(train_data, time_steps)\n",
    "testX, testY = get_XY(test_data, time_steps)\n",
    "\n",
    "# Create model and train\n",
    "model = create_RNN(hidden_units=3, dense_units=1, input_shape=(time_steps,1), \n",
    "                   activation=['tanh', 'tanh'])\n",
    "model.fit(trainX, trainY, epochs=20, batch_size=1, verbose=2)\n",
    "\n",
    "# make predictions\n",
    "train_predict = model.predict(trainX)\n",
    "test_predict = model.predict(testX)\n",
    "\n",
    "# Print error\n",
    "print_error(trainY, testY, train_predict, test_predict)\n",
    "\n",
    "#Plot result\n",
    "plot_result(trainY, testY, train_predict, test_predict)"
   ]
  },
  {
   "cell_type": "code",
   "execution_count": 3,
   "id": "5e8601b3-d3e3-45f9-9c6f-5e0affe507cd",
   "metadata": {},
   "outputs": [
    {
     "data": {
      "text/plain": [
       "(2256,)"
      ]
     },
     "execution_count": 3,
     "metadata": {},
     "output_type": "execute_result"
    }
   ],
   "source": [
    "train_data.shape"
   ]
  },
  {
   "cell_type": "code",
   "execution_count": 4,
   "id": "7e1ab3ed-3884-4c2c-b5ad-f67ff850e9a8",
   "metadata": {},
   "outputs": [
    {
     "data": {
      "text/plain": [
       "array([0.22852638, 0.24665089, 0.2758077 , 0.21946414, 0.33490935,\n",
       "       0.3289992 , 0.37352246, 0.2612293 , 0.29905435, 0.29747832],\n",
       "      dtype=float32)"
      ]
     },
     "execution_count": 4,
     "metadata": {},
     "output_type": "execute_result"
    }
   ],
   "source": [
    "train_data[:10]"
   ]
  },
  {
   "cell_type": "code",
   "execution_count": 5,
   "id": "384f9bc0-b5d9-48d8-9d0d-122a35663bca",
   "metadata": {},
   "outputs": [
    {
     "data": {
      "text/plain": [
       "(564,)"
      ]
     },
     "execution_count": 5,
     "metadata": {},
     "output_type": "execute_result"
    }
   ],
   "source": [
    "test_data.shape"
   ]
  },
  {
   "cell_type": "code",
   "execution_count": 7,
   "id": "3503f07e-aa64-4f15-9590-a0bf69f57a37",
   "metadata": {},
   "outputs": [
    {
     "data": {
      "text/plain": [
       "(187, 12, 1)"
      ]
     },
     "execution_count": 7,
     "metadata": {},
     "output_type": "execute_result"
    }
   ],
   "source": [
    "trainX.shape"
   ]
  },
  {
   "cell_type": "code",
   "execution_count": 8,
   "id": "40c9f543-c5ee-4cdc-90d3-0cef31665861",
   "metadata": {},
   "outputs": [
    {
     "data": {
      "text/plain": [
       "(187,)"
      ]
     },
     "execution_count": 8,
     "metadata": {},
     "output_type": "execute_result"
    }
   ],
   "source": [
    "trainY.shape"
   ]
  },
  {
   "cell_type": "code",
   "execution_count": 9,
   "id": "b0a01947-aa1d-40b2-afe2-e6fbb80ff2fa",
   "metadata": {},
   "outputs": [
    {
     "data": {
      "text/plain": [
       "(46, 12, 1)"
      ]
     },
     "execution_count": 9,
     "metadata": {},
     "output_type": "execute_result"
    }
   ],
   "source": [
    "testX.shape"
   ]
  },
  {
   "cell_type": "code",
   "execution_count": 10,
   "id": "ef1b84cc-c2e3-4569-9a8b-959addbec8a0",
   "metadata": {},
   "outputs": [
    {
     "data": {
      "text/plain": [
       "(46,)"
      ]
     },
     "execution_count": 10,
     "metadata": {},
     "output_type": "execute_result"
    }
   ],
   "source": [
    "testY.shape"
   ]
  },
  {
   "cell_type": "code",
   "execution_count": 11,
   "id": "837c5dbb-5c9c-4c13-9a36-5cfa1121355b",
   "metadata": {},
   "outputs": [
    {
     "name": "stdout",
     "output_type": "stream",
     "text": [
      "[[0.22852638]\n",
      " [0.24665089]\n",
      " [0.2758077 ]\n",
      " [0.21946414]\n",
      " [0.33490935]\n",
      " [0.3289992 ]\n",
      " [0.37352246]\n",
      " [0.2612293 ]\n",
      " [0.29905435]\n",
      " [0.29747832]\n",
      " [0.6249015 ]\n",
      " [0.33569738]] --> 0.28881007\n"
     ]
    }
   ],
   "source": [
    "print(trainX[0], \"-->\", trainY[0])"
   ]
  },
  {
   "cell_type": "code",
   "execution_count": null,
   "id": "b2283e5a-3f1f-40e1-bc71-e7b7e186c887",
   "metadata": {},
   "outputs": [],
   "source": []
  }
 ],
 "metadata": {
  "kernelspec": {
   "display_name": "Python 3 (ipykernel)",
   "language": "python",
   "name": "python3"
  },
  "language_info": {
   "codemirror_mode": {
    "name": "ipython",
    "version": 3
   },
   "file_extension": ".py",
   "mimetype": "text/x-python",
   "name": "python",
   "nbconvert_exporter": "python",
   "pygments_lexer": "ipython3",
   "version": "3.8.10"
  },
  "toc-autonumbering": true
 },
 "nbformat": 4,
 "nbformat_minor": 5
}
