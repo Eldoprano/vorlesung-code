{
 "cells": [
  {
   "cell_type": "markdown",
   "id": "11dd7d09-aa68-421b-af42-17886b513f5e",
   "metadata": {},
   "source": [
    "# Erzeugen von Zufallszahlen"
   ]
  },
  {
   "cell_type": "markdown",
   "id": "dc794f8f-82c3-4757-9d61-65ad35751043",
   "metadata": {},
   "source": [
    "## Normalverteilte Zufallszahlen"
   ]
  },
  {
   "cell_type": "code",
   "execution_count": 2,
   "id": "ceb95da5-1bb0-4b5b-b9fc-56a390981537",
   "metadata": {
    "tags": []
   },
   "outputs": [],
   "source": [
    "import numpy"
   ]
  },
  {
   "cell_type": "code",
   "execution_count": 3,
   "id": "43047ee7-3965-4372-a913-795b0ef8a51a",
   "metadata": {
    "tags": []
   },
   "outputs": [
    {
     "data": {
      "text/plain": [
       "-0.4759058578244172"
      ]
     },
     "execution_count": 3,
     "metadata": {},
     "output_type": "execute_result"
    }
   ],
   "source": [
    "numpy.random.normal(loc=0, scale=1.0)"
   ]
  },
  {
   "cell_type": "code",
   "execution_count": 4,
   "id": "1eccd068-4da0-40b9-b32b-8bc7a1a07360",
   "metadata": {
    "tags": []
   },
   "outputs": [
    {
     "data": {
      "text/plain": [
       "array([2.42979828, 3.2750675 , 1.42604029, 3.98121246, 0.90048996])"
      ]
     },
     "execution_count": 4,
     "metadata": {},
     "output_type": "execute_result"
    }
   ],
   "source": [
    "A = numpy.random.normal(loc=3, scale=1.0, size=(10000))\n",
    "A[:5]"
   ]
  },
  {
   "cell_type": "code",
   "execution_count": 5,
   "id": "3d77e871-fa7c-4a3a-bb79-cd453e093d03",
   "metadata": {
    "tags": []
   },
   "outputs": [
    {
     "data": {
      "image/png": "[encoded data removed]",
      "text/plain": [
       "<Figure size 640x480 with 1 Axes>"
      ]
     },
     "metadata": {},
     "output_type": "display_data"
    }
   ],
   "source": [
    "import matplotlib.pyplot as plt\n",
    "plt.hist(A, bins=100, color=\"lightgreen\", edgecolor=\"black\")\n",
    "plt.show()"
   ]
  },
  {
   "cell_type": "markdown",
   "id": "8967205f-adc2-41bc-96b9-748b7b242376",
   "metadata": {
    "tags": []
   },
   "source": [
    "## Gleichverteilte Zufallszahlen"
   ]
  },
  {
   "cell_type": "code",
   "execution_count": 9,
   "id": "645294c5-79bc-4deb-95e6-71439355d637",
   "metadata": {
    "tags": []
   },
   "outputs": [
    {
     "data": {
      "text/plain": [
       "7.355113074029596"
      ]
     },
     "execution_count": 9,
     "metadata": {},
     "output_type": "execute_result"
    }
   ],
   "source": [
    "numpy.random.uniform(low=-10, high=+10)"
   ]
  },
  {
   "cell_type": "code",
   "execution_count": 19,
   "id": "7a2f50f6-4f09-4abc-9b02-feab75ecc702",
   "metadata": {
    "tags": []
   },
   "outputs": [
    {
     "data": {
      "text/plain": [
       "array([-7.76700278, -2.50852369, -8.10577875, -1.3567337 ,  8.49158284])"
      ]
     },
     "execution_count": 19,
     "metadata": {},
     "output_type": "execute_result"
    }
   ],
   "source": [
    "A = numpy.random.uniform(low=-10, high=+10, size=(10000))\n",
    "A[:5]"
   ]
  },
  {
   "cell_type": "code",
   "execution_count": 22,
   "id": "56750846-0240-44cf-9fca-4db97120fd17",
   "metadata": {
    "tags": []
   },
   "outputs": [
    {
     "data": {
      "image/png": "[encoded data removed]",
      "text/plain": [
       "<Figure size 640x480 with 1 Axes>"
      ]
     },
     "metadata": {},
     "output_type": "display_data"
    }
   ],
   "source": [
    "import matplotlib.pyplot as plt\n",
    "plt.hist(A, bins=100, color=\"lightgreen\", edgecolor=\"black\")\n",
    "plt.show()"
   ]
  },
  {
   "cell_type": "markdown",
   "id": "04fb340f-7297-47aa-b878-4e8393d0ab6e",
   "metadata": {},
   "source": [
    "# Simulation eines Abstandssensors mit linearer Kennlinie"
   ]
  },
  {
   "cell_type": "markdown",
   "id": "998334f1-7caa-46a1-90bc-d730eeb72729",
   "metadata": {},
   "source": [
    "## Eine Sensorklasse"
   ]
  },
  {
   "cell_type": "code",
   "execution_count": 24,
   "id": "376af6f6-d8f1-4b2e-98af-4b086751cddb",
   "metadata": {
    "tags": []
   },
   "outputs": [],
   "source": [
    "class abstandssensor_lineare_kennlinie:\n",
    "    \n",
    "    def __init__(self):\n",
    "        self.bias = numpy.random.uniform(low=-10, high=+10)\n",
    "        self.noise = numpy.random.uniform(low=1, high=5)\n",
    "        \n",
    "    def gib_mir_sensorwert(self, abstand):\n",
    "        sensorwert = abstand + numpy.random.normal(loc=self.bias, scale=self.noise)\n",
    "        return sensorwert\n",
    "    \n",
    "    def gib_mir_kennlinien_daten(self):\n",
    "        abstaende = []\n",
    "        sensorwerte = []\n",
    "        for abstand in range(0,101):\n",
    "            sensorwert = self.gib_mir_sensorwert(abstand)\n",
    "            abstaende.append(abstand)\n",
    "            sensorwerte.append(sensorwert)\n",
    "        return abstaende, sensorwerte\n",
    "    \n",
    "    def zeige_sensor_kurve(self):\n",
    "        abstaende, sensorwerte = self.gib_mir_kennlinien_daten()\n",
    "        plt.plot(abstaende,sensorwerte)\n",
    "        plt.xlabel(\"Tatsächlicher Abstand (Grundwahrheit)\")\n",
    "        plt.ylabel(\"Sensorwert\")\n",
    "        plt.show()        "
   ]
  },
  {
   "cell_type": "code",
   "execution_count": 47,
   "id": "a25f6ae3-0187-49c4-a8dd-9ed2e55b7700",
   "metadata": {
    "tags": []
   },
   "outputs": [],
   "source": [
    "s1 = abstandssensor_lineare_kennlinie()"
   ]
  },
  {
   "cell_type": "code",
   "execution_count": 48,
   "id": "e9e58bb3-37bd-497c-915e-68c37b485851",
   "metadata": {
    "tags": []
   },
   "outputs": [
    {
     "data": {
      "text/plain": [
       "100.17181407221815"
      ]
     },
     "execution_count": 48,
     "metadata": {},
     "output_type": "execute_result"
    }
   ],
   "source": [
    "s1.gib_mir_sensorwert(100)"
   ]
  },
  {
   "cell_type": "code",
   "execution_count": 49,
   "id": "98d059f6-e23d-4850-96be-16c44a4d56e8",
   "metadata": {
    "tags": []
   },
   "outputs": [
    {
     "data": {
      "text/plain": [
       "6.409630384092964"
      ]
     },
     "execution_count": 49,
     "metadata": {},
     "output_type": "execute_result"
    }
   ],
   "source": [
    "s1.bias"
   ]
  },
  {
   "cell_type": "code",
   "execution_count": 50,
   "id": "54b8a73d-9a58-4420-a11f-d1cafec3e6e6",
   "metadata": {
    "tags": []
   },
   "outputs": [
    {
     "data": {
      "text/plain": [
       "3.202456596806007"
      ]
     },
     "execution_count": 50,
     "metadata": {},
     "output_type": "execute_result"
    }
   ],
   "source": [
    "s1.noise"
   ]
  },
  {
   "cell_type": "code",
   "execution_count": 51,
   "id": "ea9b8035-47bf-49b5-9031-9ba0f3950113",
   "metadata": {
    "tags": []
   },
   "outputs": [],
   "source": [
    "s2 = abstandssensor_lineare_kennlinie()"
   ]
  },
  {
   "cell_type": "code",
   "execution_count": 52,
   "id": "5bffa6a4-b73d-4048-8758-09a8831c0e0e",
   "metadata": {
    "tags": []
   },
   "outputs": [
    {
     "data": {
      "text/plain": [
       "108.47460356981475"
      ]
     },
     "execution_count": 52,
     "metadata": {},
     "output_type": "execute_result"
    }
   ],
   "source": [
    "s2.gib_mir_sensorwert(100)"
   ]
  },
  {
   "cell_type": "code",
   "execution_count": 53,
   "id": "9d0bcbf6-c71a-4222-94ae-5f5ef809986f",
   "metadata": {
    "tags": []
   },
   "outputs": [
    {
     "data": {
      "text/plain": [
       "6.377041445977529"
      ]
     },
     "execution_count": 53,
     "metadata": {},
     "output_type": "execute_result"
    }
   ],
   "source": [
    "s2.bias"
   ]
  },
  {
   "cell_type": "code",
   "execution_count": 54,
   "id": "5bfbce17-309b-4721-a17f-9a299c36e5a5",
   "metadata": {
    "tags": []
   },
   "outputs": [
    {
     "data": {
      "text/plain": [
       "2.0732965310359543"
      ]
     },
     "execution_count": 54,
     "metadata": {},
     "output_type": "execute_result"
    }
   ],
   "source": [
    "s2.noise"
   ]
  },
  {
   "cell_type": "markdown",
   "id": "6d4eb6a6-5b39-4b4d-b808-7bf207d182c6",
   "metadata": {},
   "source": [
    "## Sensorkurven"
   ]
  },
  {
   "cell_type": "code",
   "execution_count": 55,
   "id": "64e1b31d-bc91-4c4e-89f2-e42ce5c81ecf",
   "metadata": {
    "tags": []
   },
   "outputs": [
    {
     "data": {
      "image/png": "[encoded data removed]",
      "text/plain": [
       "<Figure size 640x480 with 1 Axes>"
      ]
     },
     "metadata": {},
     "output_type": "display_data"
    }
   ],
   "source": [
    "s1.zeige_sensor_kurve()"
   ]
  },
  {
   "cell_type": "code",
   "execution_count": 56,
   "id": "7b6487fd-737d-4b97-9949-a0a182fdd498",
   "metadata": {
    "tags": []
   },
   "outputs": [
    {
     "data": {
      "image/png": "[encoded data removed]",
      "text/plain": [
       "<Figure size 640x480 with 1 Axes>"
      ]
     },
     "metadata": {},
     "output_type": "display_data"
    }
   ],
   "source": [
    "s2.zeige_sensor_kurve()"
   ]
  },
  {
   "cell_type": "code",
   "execution_count": 57,
   "id": "81e93c5c-de28-4965-a01e-c3cba99b00ca",
   "metadata": {
    "tags": []
   },
   "outputs": [
    {
     "data": {
      "image/png": "[encoded data removed]",
      "text/plain": [
       "<Figure size 640x480 with 1 Axes>"
      ]
     },
     "metadata": {},
     "output_type": "display_data"
    }
   ],
   "source": [
    "a1,sw1 = s1.gib_mir_kennlinien_daten()\n",
    "a2,sw2 = s2.gib_mir_kennlinien_daten()\n",
    "plt.plot(a1,sw1, label=\"Sensor 1\")\n",
    "plt.plot(a2,sw2, label=\"Sensor 2\")\n",
    "plt.xlabel(\"Tatsächlicher Abstand (Grundwahrheit)\")\n",
    "plt.ylabel(\"Sensorwert\")\n",
    "plt.legend()\n",
    "plt.grid()\n",
    "plt.show() "
   ]
  },
  {
   "cell_type": "markdown",
   "id": "4b517968-fc53-4d39-9bd6-2b60997119cb",
   "metadata": {},
   "source": [
    "# Fehlerfunktion für Fusionsergebnisse"
   ]
  },
  {
   "cell_type": "code",
   "execution_count": 80,
   "id": "1b157824-5351-4eb3-876b-479de98ce66f",
   "metadata": {
    "tags": []
   },
   "outputs": [],
   "source": [
    "gw = numpy.array([1,2,3,4,5])\n",
    "sensorwerte = numpy.array([0.5, 2.5, 2.5, 4.5, 5.5])"
   ]
  },
  {
   "cell_type": "code",
   "execution_count": 81,
   "id": "3ae3b02f-4f1b-4d94-84e8-66aae451433a",
   "metadata": {
    "tags": []
   },
   "outputs": [
    {
     "data": {
      "text/plain": [
       "0.5"
      ]
     },
     "execution_count": 81,
     "metadata": {},
     "output_type": "execute_result"
    }
   ],
   "source": [
    "numpy.mean(abs(gw - sensorwerte))"
   ]
  },
  {
   "cell_type": "code",
   "execution_count": 82,
   "id": "62509a85-ecff-46c3-8ea5-1e8b95b5282c",
   "metadata": {
    "tags": []
   },
   "outputs": [
    {
     "data": {
      "text/plain": [
       "array([0.01, 1.78, 2.12, 3.57])"
      ]
     },
     "execution_count": 82,
     "metadata": {},
     "output_type": "execute_result"
    }
   ],
   "source": [
    "numpy.around( [0.009, 1.777, 2.12345, 3.567], 2 )"
   ]
  },
  {
   "cell_type": "code",
   "execution_count": 83,
   "id": "f6400d77-e96c-4924-8162-cf88bc3dae1e",
   "metadata": {
    "tags": []
   },
   "outputs": [],
   "source": [
    "def MAE(gw, sensorwerte):\n",
    "    MAE = numpy.mean(abs(gw - sensorwerte))\n",
    "    return numpy.around(MAE,2)"
   ]
  },
  {
   "cell_type": "code",
   "execution_count": 84,
   "id": "1f1e7bf2-651e-4074-b9f4-66a78143fd03",
   "metadata": {
    "tags": []
   },
   "outputs": [
    {
     "data": {
      "text/plain": [
       "0.5"
      ]
     },
     "execution_count": 84,
     "metadata": {},
     "output_type": "execute_result"
    }
   ],
   "source": [
    "MAE(gw, sensorwerte)"
   ]
  },
  {
   "cell_type": "markdown",
   "id": "027e0f62-042e-46aa-bafe-34c43a4cdd43",
   "metadata": {},
   "source": [
    "# Erster Versuch eines Fusionsansatzes (Mittelwertbildung)"
   ]
  },
  {
   "cell_type": "markdown",
   "id": "824e11e4-d242-41aa-ab26-6d8eaeea8ee9",
   "metadata": {},
   "source": [
    "## Fehler bei Verwendung nur von Sensor 1"
   ]
  },
  {
   "cell_type": "code",
   "execution_count": 92,
   "id": "ddf26f02-f4ca-453d-b818-22fd1d0a51fb",
   "metadata": {
    "tags": []
   },
   "outputs": [],
   "source": [
    "def erzeuge_messreihe(s, N):\n",
    "    gw = []\n",
    "    sensorwerte = []\n",
    "    for abstand in range(0,N):\n",
    "        sensorwert = s.gib_mir_sensorwert(abstand)\n",
    "        gw.append(abstand)\n",
    "        sensorwerte.append(sensorwert)\n",
    "        \n",
    "    return numpy.array(gw), numpy.array(sensorwerte)"
   ]
  },
  {
   "cell_type": "code",
   "execution_count": 96,
   "id": "e16b7559-9523-41a6-b1cf-eab755d46473",
   "metadata": {
    "tags": []
   },
   "outputs": [],
   "source": [
    "gw, sensorwerte1 = erzeuge_messreihe(s1,1000)"
   ]
  },
  {
   "cell_type": "code",
   "execution_count": 108,
   "id": "93281287-cb96-4b7d-a67f-21968a6cb62b",
   "metadata": {
    "tags": []
   },
   "outputs": [
    {
     "data": {
      "text/plain": [
       "(1000,)"
      ]
     },
     "execution_count": 108,
     "metadata": {},
     "output_type": "execute_result"
    }
   ],
   "source": [
    "gw.shape"
   ]
  },
  {
   "cell_type": "code",
   "execution_count": 110,
   "id": "1aa232c8-5bf8-4558-9a31-82b16a39a017",
   "metadata": {
    "tags": []
   },
   "outputs": [
    {
     "data": {
      "text/plain": [
       "(1000,)"
      ]
     },
     "execution_count": 110,
     "metadata": {},
     "output_type": "execute_result"
    }
   ],
   "source": [
    "sensorwerte1.shape"
   ]
  },
  {
   "cell_type": "code",
   "execution_count": 97,
   "id": "8fbf2cfa-3df3-4e06-b975-f24aded24afd",
   "metadata": {
    "tags": []
   },
   "outputs": [
    {
     "data": {
      "text/plain": [
       "array([0, 1, 2, 3, 4, 5, 6, 7, 8, 9])"
      ]
     },
     "execution_count": 97,
     "metadata": {},
     "output_type": "execute_result"
    }
   ],
   "source": [
    "gw[:10]"
   ]
  },
  {
   "cell_type": "code",
   "execution_count": 98,
   "id": "585f7c5d-010b-4eed-8a96-8769f872b7c6",
   "metadata": {
    "tags": []
   },
   "outputs": [
    {
     "data": {
      "text/plain": [
       "array([ 1.88114252,  5.09547691,  4.84592318,  8.92533012,  6.317658  ,\n",
       "       17.92125515, 13.71858767,  6.94891913, 15.70804746, 13.8269768 ])"
      ]
     },
     "execution_count": 98,
     "metadata": {},
     "output_type": "execute_result"
    }
   ],
   "source": [
    "sensorwerte1[:10]"
   ]
  },
  {
   "cell_type": "code",
   "execution_count": 99,
   "id": "4b3b4941-c7f4-44cb-a5c1-f98001e21d94",
   "metadata": {
    "tags": []
   },
   "outputs": [
    {
     "data": {
      "text/plain": [
       "6.51"
      ]
     },
     "execution_count": 99,
     "metadata": {},
     "output_type": "execute_result"
    }
   ],
   "source": [
    "MAE(gw, sensorwerte1)"
   ]
  },
  {
   "cell_type": "code",
   "execution_count": 104,
   "id": "9457de57-3105-47a1-a1a4-c55991c6d09b",
   "metadata": {
    "tags": []
   },
   "outputs": [
    {
     "data": {
      "text/plain": [
       "6.409630384092964"
      ]
     },
     "execution_count": 104,
     "metadata": {},
     "output_type": "execute_result"
    }
   ],
   "source": [
    "s1.bias"
   ]
  },
  {
   "cell_type": "markdown",
   "id": "135ce99a-c0d8-4a06-844e-7182b1bb1c4c",
   "metadata": {},
   "source": [
    "## Fehler bei Verwendung nur von Sensor 2"
   ]
  },
  {
   "cell_type": "code",
   "execution_count": 100,
   "id": "ad57cfb4-579f-4050-9a3b-f4036617ed28",
   "metadata": {
    "tags": []
   },
   "outputs": [],
   "source": [
    "gw, sensorwerte2 = erzeuge_messreihe(s2, 1000)"
   ]
  },
  {
   "cell_type": "code",
   "execution_count": 101,
   "id": "9a3e3a45-2dcb-4088-974e-06f2c8f1ca08",
   "metadata": {
    "tags": []
   },
   "outputs": [
    {
     "data": {
      "text/plain": [
       "array([0, 1, 2, 3, 4, 5, 6, 7, 8, 9])"
      ]
     },
     "execution_count": 101,
     "metadata": {},
     "output_type": "execute_result"
    }
   ],
   "source": [
    "gw[:10]"
   ]
  },
  {
   "cell_type": "code",
   "execution_count": 102,
   "id": "3e750789-90cc-4988-9bed-16524f619655",
   "metadata": {
    "tags": []
   },
   "outputs": [
    {
     "data": {
      "text/plain": [
       "array([ 5.46855528,  6.83555731,  5.75833193,  9.66928204, 12.50627344,\n",
       "       11.32079141, 14.72178968, 14.20110965, 16.37770405, 16.93124458])"
      ]
     },
     "execution_count": 102,
     "metadata": {},
     "output_type": "execute_result"
    }
   ],
   "source": [
    "sensorwerte2[:10]"
   ]
  },
  {
   "cell_type": "code",
   "execution_count": 103,
   "id": "9b5efc83-9110-41c3-89f4-6494b451f815",
   "metadata": {
    "tags": []
   },
   "outputs": [
    {
     "data": {
      "text/plain": [
       "6.4"
      ]
     },
     "execution_count": 103,
     "metadata": {},
     "output_type": "execute_result"
    }
   ],
   "source": [
    "MAE(gw, sensorwerte2)"
   ]
  },
  {
   "cell_type": "code",
   "execution_count": 105,
   "id": "d330b96d-db67-4305-8aa4-d808c68173df",
   "metadata": {
    "tags": []
   },
   "outputs": [
    {
     "data": {
      "text/plain": [
       "6.377041445977529"
      ]
     },
     "execution_count": 105,
     "metadata": {},
     "output_type": "execute_result"
    }
   ],
   "source": [
    "s2.bias"
   ]
  },
  {
   "cell_type": "markdown",
   "id": "b5d50fd5-a7f5-4bff-9778-7d61c1b0fbca",
   "metadata": {},
   "source": [
    "## Sensorfusion über einfache Mittelwertbildung bringt es i.d.R. nicht!"
   ]
  },
  {
   "cell_type": "code",
   "execution_count": 111,
   "id": "e9d7b232-1698-412a-8367-c9e4cb75ef41",
   "metadata": {
    "tags": []
   },
   "outputs": [
    {
     "data": {
      "text/plain": [
       "array([ 1.88114252,  5.09547691,  4.84592318,  8.92533012,  6.317658  ,\n",
       "       17.92125515, 13.71858767,  6.94891913, 15.70804746, 13.8269768 ])"
      ]
     },
     "execution_count": 111,
     "metadata": {},
     "output_type": "execute_result"
    }
   ],
   "source": [
    "sensorwerte1[:10]"
   ]
  },
  {
   "cell_type": "code",
   "execution_count": 112,
   "id": "da18a2a4-afbc-4cc0-91e1-b85a0cbdf2b6",
   "metadata": {
    "tags": []
   },
   "outputs": [
    {
     "data": {
      "text/plain": [
       "array([ 5.46855528,  6.83555731,  5.75833193,  9.66928204, 12.50627344,\n",
       "       11.32079141, 14.72178968, 14.20110965, 16.37770405, 16.93124458])"
      ]
     },
     "execution_count": 112,
     "metadata": {},
     "output_type": "execute_result"
    }
   ],
   "source": [
    "sensorwerte2[:10]"
   ]
  },
  {
   "cell_type": "code",
   "execution_count": 121,
   "id": "616e26ac-1c5a-463a-8376-50dcd55f745a",
   "metadata": {
    "tags": []
   },
   "outputs": [
    {
     "data": {
      "text/plain": [
       "array([ 3.6748489 ,  5.96551711,  5.30212756,  9.29730608,  9.41196572,\n",
       "       14.62102328, 14.22018867, 10.57501439, 16.04287575, 15.37911069])"
      ]
     },
     "execution_count": 121,
     "metadata": {},
     "output_type": "execute_result"
    }
   ],
   "source": [
    "sensorwerte_fusioniert = (sensorwerte1+sensorwerte2)/2\n",
    "sensorwerte_fusioniert[:10]"
   ]
  },
  {
   "cell_type": "code",
   "execution_count": 122,
   "id": "7600590a-0b91-43d6-acbb-929d20ec4ba7",
   "metadata": {
    "tags": []
   },
   "outputs": [
    {
     "data": {
      "text/plain": [
       "6.43"
      ]
     },
     "execution_count": 122,
     "metadata": {},
     "output_type": "execute_result"
    }
   ],
   "source": [
    "MAE(gw, sensorwerte_fusioniert)"
   ]
  },
  {
   "cell_type": "markdown",
   "id": "eaa53923-1c8e-4c56-bcc4-f2476e64e0dc",
   "metadata": {},
   "source": [
    "# Zweiter Versuch eins Fusionsansatzes (Mittelwertbildung + Biaskorrektur)"
   ]
  },
  {
   "cell_type": "code",
   "execution_count": 125,
   "id": "7c503544-5772-4aa8-98b4-67de3b7fea17",
   "metadata": {
    "tags": []
   },
   "outputs": [],
   "source": [
    "# Wie kann man den Bias korrigieren?\n",
    "# Experimentell: durch Berechnung der mittleren Abweichung\n",
    "def ME(gw, sensorwerte):\n",
    "    ME = numpy.mean(gw - sensorwerte)\n",
    "    return ME"
   ]
  },
  {
   "cell_type": "code",
   "execution_count": 126,
   "id": "397d0b86-eb0d-4cf0-b4b7-35737e12a316",
   "metadata": {
    "tags": []
   },
   "outputs": [
    {
     "data": {
      "text/plain": [
       "-6.468768167624247"
      ]
     },
     "execution_count": 126,
     "metadata": {},
     "output_type": "execute_result"
    }
   ],
   "source": [
    "bias1 = ME(gw,sensorwerte1)\n",
    "bias1"
   ]
  },
  {
   "cell_type": "code",
   "execution_count": 127,
   "id": "1ba93dca-c626-4a70-894c-b23ed57bce71",
   "metadata": {
    "tags": []
   },
   "outputs": [
    {
     "data": {
      "text/plain": [
       "-6.396146286308755"
      ]
     },
     "execution_count": 127,
     "metadata": {},
     "output_type": "execute_result"
    }
   ],
   "source": [
    "bias2 = ME(gw,sensorwerte2)\n",
    "bias2"
   ]
  },
  {
   "cell_type": "code",
   "execution_count": 128,
   "id": "5d417fc7-b993-4bce-a122-79d674f52221",
   "metadata": {
    "tags": []
   },
   "outputs": [
    {
     "data": {
      "text/plain": [
       "array([1.88114252, 5.09547691, 4.84592318, 8.92533012, 6.317658  ])"
      ]
     },
     "execution_count": 128,
     "metadata": {},
     "output_type": "execute_result"
    }
   ],
   "source": [
    "sensorwerte1[:5]"
   ]
  },
  {
   "cell_type": "code",
   "execution_count": 129,
   "id": "c2797835-f856-4638-9f00-5a8a6654a789",
   "metadata": {
    "tags": []
   },
   "outputs": [
    {
     "data": {
      "text/plain": [
       "array([-4.58762565, -1.37329125, -1.62284499,  2.45656195, -0.15111017])"
      ]
     },
     "execution_count": 129,
     "metadata": {},
     "output_type": "execute_result"
    }
   ],
   "source": [
    "(sensorwerte1+bias1)[:5]"
   ]
  },
  {
   "cell_type": "code",
   "execution_count": 132,
   "id": "97ae8747-02f8-4ffc-b9ad-56f1759b16d9",
   "metadata": {
    "tags": []
   },
   "outputs": [
    {
     "data": {
      "text/plain": [
       "2.65"
      ]
     },
     "execution_count": 132,
     "metadata": {},
     "output_type": "execute_result"
    }
   ],
   "source": [
    "MAE(gw, sensorwerte1+bias1)"
   ]
  },
  {
   "cell_type": "code",
   "execution_count": 134,
   "id": "66057dd6-1416-4f26-adda-1d520d8df91b",
   "metadata": {
    "tags": []
   },
   "outputs": [
    {
     "data": {
      "text/plain": [
       "1.67"
      ]
     },
     "execution_count": 134,
     "metadata": {},
     "output_type": "execute_result"
    }
   ],
   "source": [
    "MAE(gw, sensorwerte2+bias2)"
   ]
  },
  {
   "cell_type": "code",
   "execution_count": 135,
   "id": "1e8f9937-ce1c-4ca0-a55e-02e7ece5cc1e",
   "metadata": {
    "tags": []
   },
   "outputs": [],
   "source": [
    "sensorwerte_fusioniert = ((sensorwerte1+bias1) + (sensorwerte2+bias2))/2"
   ]
  },
  {
   "cell_type": "code",
   "execution_count": 136,
   "id": "daa2caaf-9cbe-4957-ae09-9207d49d6852",
   "metadata": {
    "tags": []
   },
   "outputs": [
    {
     "data": {
      "text/plain": [
       "1.5"
      ]
     },
     "execution_count": 136,
     "metadata": {},
     "output_type": "execute_result"
    }
   ],
   "source": [
    "MAE(gw,sensorwerte_fusioniert)"
   ]
  },
  {
   "cell_type": "markdown",
   "id": "68290b84-c951-46e4-8ebf-388c9b84433e",
   "metadata": {},
   "source": [
    "# Experiment: Immer mehr Sensoren"
   ]
  },
  {
   "cell_type": "code",
   "execution_count": 215,
   "id": "58f37244-6039-4117-a42a-747ba63a4942",
   "metadata": {
    "tags": []
   },
   "outputs": [
    {
     "name": "stdout",
     "output_type": "stream",
     "text": [
      "Sensor #0: bias=9.08, noise=2.47\n",
      "Sensor #1: bias=9.46, noise=2.10\n",
      "Sensor #2: bias=-7.02, noise=4.55\n",
      "Fehler bei Verwendung nur von Sensor #0: 9.02\n",
      "Fehler bei Verwendung nur von Sensor #1: 9.41\n",
      "Fehler bei Verwendung nur von Sensor #2: 7.17\n",
      "Fehler bei Fusion mit 3 Sensoren: 1.54\n"
     ]
    },
    {
     "data": {
      "text/plain": [
       "1.54"
      ]
     },
     "execution_count": 215,
     "metadata": {},
     "output_type": "execute_result"
    }
   ],
   "source": [
    "def exp(ANZ_SENSOREN=3, zeige_details=True) -> float:\n",
    "\n",
    "    # 1. Erzeuge Sensoren\n",
    "    alle_sensoren = []\n",
    "    for sid in range(ANZ_SENSOREN):\n",
    "        s = abstandssensor_lineare_kennlinie()\n",
    "        if zeige_details:\n",
    "            print(f\"Sensor #{sid}: bias={s.bias:.2f}, noise={s.noise:.2f}\")\n",
    "        alle_sensoren.append( s )\n",
    "\n",
    "    # 2. Simuliere Messungen zur Bestimmung der Biaskorrekturwerte\n",
    "    #    und bereite Sensor-spezifische Bias-Korrekturwerte vor\n",
    "    alle_biase = []\n",
    "    for sid in range(ANZ_SENSOREN):\n",
    "        gw, sensorwerte = erzeuge_messreihe(alle_sensoren[sid],1000)\n",
    "        bias = ME(gw,sensorwerte)\n",
    "        alle_biase.append( bias )\n",
    "\n",
    "    # 3. Simuliere jetzt Messungen in der Anwendung\n",
    "    alle_sensorwerte = []\n",
    "    for sid in range(ANZ_SENSOREN):\n",
    "        gw, sensorwerte = erzeuge_messreihe(alle_sensoren[sid],1000)\n",
    "        alle_sensorwerte.append( sensorwerte )\n",
    "        if zeige_details:            \n",
    "            print(f\"Fehler bei Verwendung nur von Sensor #{sid}: {MAE(gw,sensorwerte)}\")\n",
    "\n",
    "    # 4. Fusion\n",
    "    fusionierte_werte = numpy.zeros(1000)\n",
    "    for sid in range(ANZ_SENSOREN):\n",
    "        fusionierte_werte += alle_sensorwerte[sid] + alle_biase[sid]\n",
    "    fusionierte_werte /= ANZ_SENSOREN\n",
    "    fusionsfehler = MAE(gw,fusionierte_werte)\n",
    "    print(f\"Fehler bei Fusion mit {ANZ_SENSOREN} Sensoren: {fusionsfehler}\")\n",
    "    \n",
    "    return fusionsfehler\n",
    "\n",
    "exp(3)\n",
    "#exp(3, zeige_details=False)"
   ]
  },
  {
   "cell_type": "code",
   "execution_count": 216,
   "id": "8dcb713c-cdca-4641-81be-5564c52e3152",
   "metadata": {
    "tags": []
   },
   "outputs": [
    {
     "data": {
      "text/plain": [
       "[<__main__.abstandssensor_lineare_kennlinie at 0x7f5981c77f70>,\n",
       " <__main__.abstandssensor_lineare_kennlinie at 0x7f5981c754b0>,\n",
       " <__main__.abstandssensor_lineare_kennlinie at 0x7f5981c747f0>,\n",
       " <__main__.abstandssensor_lineare_kennlinie at 0x7f5981c74130>,\n",
       " <__main__.abstandssensor_lineare_kennlinie at 0x7f5981c758a0>,\n",
       " <__main__.abstandssensor_lineare_kennlinie at 0x7f5981c75000>,\n",
       " <__main__.abstandssensor_lineare_kennlinie at 0x7f5981c758d0>,\n",
       " <__main__.abstandssensor_lineare_kennlinie at 0x7f5981c77fd0>,\n",
       " <__main__.abstandssensor_lineare_kennlinie at 0x7f598162bf40>]"
      ]
     },
     "execution_count": 216,
     "metadata": {},
     "output_type": "execute_result"
    }
   ],
   "source": [
    "alle_sensoren"
   ]
  },
  {
   "cell_type": "code",
   "execution_count": 217,
   "id": "5a8dada7-4ed0-4389-9b52-acd70c91cc4d",
   "metadata": {
    "tags": []
   },
   "outputs": [
    {
     "data": {
      "text/plain": [
       "[9.072278870014518,\n",
       " -8.326727950653954,\n",
       " 7.43994544532005,\n",
       " -8.603484191983567,\n",
       " -7.509655355770777,\n",
       " -1.191507369980969,\n",
       " 5.784975924676453,\n",
       " 7.427796468622711,\n",
       " 5.04562438779876]"
      ]
     },
     "execution_count": 217,
     "metadata": {},
     "output_type": "execute_result"
    }
   ],
   "source": [
    "alle_biase"
   ]
  },
  {
   "cell_type": "code",
   "execution_count": 218,
   "id": "5d76147e-fa69-4ea1-9f9c-de2f7f86c7ac",
   "metadata": {
    "tags": []
   },
   "outputs": [
    {
     "name": "stdout",
     "output_type": "stream",
     "text": [
      "(1000,)\n",
      "(1000,)\n",
      "(1000,)\n"
     ]
    }
   ],
   "source": [
    "for sensorwerte in alle_sensorwerte:\n",
    "    print(sensorwerte.shape)"
   ]
  },
  {
   "cell_type": "code",
   "execution_count": 221,
   "id": "cd8fe9cd-8ebb-40f1-8f21-9e32be7adf0f",
   "metadata": {
    "tags": []
   },
   "outputs": [
    {
     "name": "stdout",
     "output_type": "stream",
     "text": [
      "Fehler bei Fusion mit 2 Sensoren: 2.2\n",
      "Fehler bei Fusion mit 3 Sensoren: 1.39\n",
      "Fehler bei Fusion mit 4 Sensoren: 1.44\n",
      "Fehler bei Fusion mit 5 Sensoren: 1.27\n",
      "Fehler bei Fusion mit 6 Sensoren: 1.09\n",
      "Fehler bei Fusion mit 7 Sensoren: 0.69\n",
      "Fehler bei Fusion mit 8 Sensoren: 0.94\n",
      "Fehler bei Fusion mit 9 Sensoren: 1.04\n",
      "Fehler bei Fusion mit 10 Sensoren: 0.73\n",
      "Fehler bei Fusion mit 11 Sensoren: 0.74\n",
      "Fehler bei Fusion mit 12 Sensoren: 0.72\n",
      "Fehler bei Fusion mit 13 Sensoren: 0.73\n",
      "Fehler bei Fusion mit 14 Sensoren: 0.78\n",
      "Fehler bei Fusion mit 15 Sensoren: 0.74\n",
      "Fehler bei Fusion mit 16 Sensoren: 0.64\n",
      "Fehler bei Fusion mit 17 Sensoren: 0.54\n",
      "Fehler bei Fusion mit 18 Sensoren: 0.62\n",
      "Fehler bei Fusion mit 19 Sensoren: 0.66\n"
     ]
    },
    {
     "data": {
      "image/png": "[encoded data removed]",
      "text/plain": [
       "<Figure size 640x480 with 1 Axes>"
      ]
     },
     "metadata": {},
     "output_type": "display_data"
    }
   ],
   "source": [
    "sensoranzahlen = []\n",
    "alle_fusionsfehler = []\n",
    "for ANZ_SENSOREN in range(2,20):\n",
    "    fusionsfehler = exp(ANZ_SENSOREN, zeige_details=False)\n",
    "    sensoranzahlen.append(ANZ_SENSOREN)\n",
    "    alle_fusionsfehler.append( fusionsfehler )\n",
    "\n",
    "import matplotlib.pyplot as plt\n",
    "plt.bar(sensoranzahlen, alle_fusionsfehler)\n",
    "plt.xticks(sensoranzahlen)\n",
    "plt.show()"
   ]
  },
  {
   "cell_type": "markdown",
   "id": "14b2c185-0866-4194-9f16-f9fb52f15536",
   "metadata": {},
   "source": [
    "# Simulation eines Abstandssensors mit nicht-linearer Kennlinie"
   ]
  },
  {
   "cell_type": "markdown",
   "id": "a48ce7c8-f242-470a-919d-cb086cb1cd79",
   "metadata": {},
   "source": [
    "## Der Logarithmus ist eine nicht-lineare Funktion"
   ]
  },
  {
   "cell_type": "code",
   "execution_count": null,
   "id": "0b20942a-95f5-48f2-8965-8ee4d195fd68",
   "metadata": {},
   "outputs": [],
   "source": [
    "x = numpy.arange(1,1001)\n",
    "x[:100]"
   ]
  },
  {
   "cell_type": "code",
   "execution_count": null,
   "id": "3a2ab316-ed8d-4658-82a4-1a215daf6c88",
   "metadata": {},
   "outputs": [],
   "source": [
    "y = numpy.log(x)\n",
    "y[:100]"
   ]
  },
  {
   "cell_type": "code",
   "execution_count": null,
   "id": "0a9366c8-535f-491b-bec8-0d934a93c867",
   "metadata": {},
   "outputs": [],
   "source": [
    "#plt.scatter(x,y, marker=\"+\")\n",
    "plt.plot(x,y)\n",
    "plt.show()"
   ]
  },
  {
   "cell_type": "markdown",
   "id": "6c662169-cb5a-4bc5-8ecf-4f3ecff6790e",
   "metadata": {},
   "source": [
    "## Eine neue Sensor-Klasse"
   ]
  },
  {
   "cell_type": "code",
   "execution_count": null,
   "id": "52a8c7a9-a671-47a7-b90c-c1cf14056f49",
   "metadata": {},
   "outputs": [],
   "source": [
    "class sensor_nichtlineare_kennlinie:\n",
    "    \n",
    "    def __init__(self, bias, noise):\n",
    "        self.bias = bias\n",
    "        self.noise = noise\n",
    "        \n",
    "    def get_sensorwert(self, x):        \n",
    "        sensorwert = x + numpy.random.normal(loc=self.bias, scale=self.noise) + 500*numpy.log(1+x)\n",
    "        return sensorwert\n",
    "    \n",
    "    def zeige_sensor_kurve(self):\n",
    "        gw = []\n",
    "        sensorwerte = []\n",
    "        for x in range(0,1001):\n",
    "            sensorwert = self.get_sensorwert(x)\n",
    "            gw.append(x)\n",
    "            sensorwerte.append(sensorwert)\n",
    "        plt.plot(gw,sensorwerte)\n",
    "        plt.xlabel(\"gw (Grundwahrheit)\")\n",
    "        plt.ylabel(\"Sensorwert\")\n",
    "        plt.show()   "
   ]
  },
  {
   "cell_type": "code",
   "execution_count": null,
   "id": "c5acf518-5a5a-47c5-91af-3f86b39f8b99",
   "metadata": {},
   "outputs": [],
   "source": [
    "s5 = sensor_nichtlineare_kennlinie(50,20)"
   ]
  },
  {
   "cell_type": "code",
   "execution_count": null,
   "id": "ff2cc3a0-a3e7-455f-b6de-d1c95ced544a",
   "metadata": {},
   "outputs": [],
   "source": [
    "s5.zeige_sensor_kurve()"
   ]
  },
  {
   "cell_type": "code",
   "execution_count": null,
   "id": "11290c25-10c3-4bd2-b6ca-ea6355787f08",
   "metadata": {},
   "outputs": [],
   "source": [
    "s6 = sensor_nichtlineare_kennlinie(-100,80)"
   ]
  },
  {
   "cell_type": "code",
   "execution_count": null,
   "id": "9e981b32-81a0-457d-a3e9-cc2254c7974c",
   "metadata": {},
   "outputs": [],
   "source": [
    "s6.zeige_sensor_kurve()"
   ]
  },
  {
   "cell_type": "markdown",
   "id": "cbbb570e-60bc-4ae7-ac77-451e5995f7fb",
   "metadata": {},
   "source": [
    "# Neuer Fusionsansatz"
   ]
  },
  {
   "cell_type": "markdown",
   "id": "ab8774c2-8f52-4d96-a745-b312d6914e10",
   "metadata": {},
   "source": [
    "## Inverses Sensormodell (ISM)"
   ]
  },
  {
   "cell_type": "code",
   "execution_count": null,
   "id": "b061ff8b-336f-43d2-8742-d51eb856cd9f",
   "metadata": {},
   "outputs": [],
   "source": [
    "gw = []\n",
    "mittlere_sensorwerte = []\n",
    "\n",
    "ism_s6 = {}\n",
    "\n",
    "for x in range(0,1001):    \n",
    "    sensorwerte = []\n",
    "    for run in range(0,50):\n",
    "        sensorwert = s6.get_sensorwert(x)\n",
    "        sensorwerte.append( sensorwert )\n",
    "    mittlerer_sensorwert = numpy.mean(sensorwerte)\n",
    "    \n",
    "    gw.append(x)\n",
    "    mittlere_sensorwerte.append( mittlerer_sensorwert )\n",
    "    \n",
    "    ism_s6[mittlerer_sensorwert] = x"
   ]
  },
  {
   "cell_type": "code",
   "execution_count": null,
   "id": "e26fc5a1-e001-429e-bce4-3af8693713fe",
   "metadata": {},
   "outputs": [],
   "source": [
    "gw[:10]"
   ]
  },
  {
   "cell_type": "code",
   "execution_count": null,
   "id": "52d50c39-4d6c-4fd5-9695-3be36c8484cd",
   "metadata": {},
   "outputs": [],
   "source": [
    "mittlere_sensorwerte[:10]"
   ]
  },
  {
   "cell_type": "code",
   "execution_count": null,
   "id": "3ede2203-2533-4c54-b9b0-9dfba9ec28fb",
   "metadata": {},
   "outputs": [],
   "source": [
    "list( ism_s6.items() ) [:10]"
   ]
  },
  {
   "cell_type": "code",
   "execution_count": null,
   "id": "f35f0f8e-4b5d-4330-93f5-268401be68ec",
   "metadata": {},
   "outputs": [],
   "source": [
    "plt.plot(gw, mittlere_sensorwerte)\n",
    "plt.show()"
   ]
  },
  {
   "cell_type": "code",
   "execution_count": null,
   "id": "daf99160-6cae-40fa-a1dc-34539062435d",
   "metadata": {},
   "outputs": [],
   "source": [
    "class ism:\n",
    "    \n",
    "    def __init__(self, s):\n",
    "        self.sensor = s\n",
    "        \n",
    "    def baue_lut_auf(self):        \n",
    "        self.lut = {}\n",
    "        for x in range(0,1001):\n",
    "            sensorwerte = []\n",
    "            for run in range(0,50):\n",
    "                sensorwert = self.sensor.get_sensorwert(x)\n",
    "                sensorwerte.append( sensorwert )\n",
    "            mittlerer_sensorwert = numpy.mean(sensorwerte)\n",
    "            self.lut[mittlerer_sensorwert] = x\n",
    "            \n",
    "    def sensorwert_zu_entfernung(self, sensorwert):\n",
    "        min_dist = None\n",
    "        best_key = None\n",
    "        for key in self.lut:\n",
    "            dist = abs(sensorwert - key)\n",
    "            if best_key==None or dist < min_dist:\n",
    "                best_key = key\n",
    "                min_dist = dist\n",
    "        \n",
    "        beste_entfernungs_schaetzung = self.lut[best_key]\n",
    "        return beste_entfernungs_schaetzung"
   ]
  },
  {
   "cell_type": "code",
   "execution_count": null,
   "id": "ffa23411-1ce6-4df3-9e07-2df123a984f5",
   "metadata": {},
   "outputs": [],
   "source": [
    "ism_s6 = ism(s6)\n",
    "ism_s6.baue_lut_auf()"
   ]
  },
  {
   "cell_type": "code",
   "execution_count": null,
   "id": "b353446b-002d-4f48-94e8-f40be02c921c",
   "metadata": {},
   "outputs": [],
   "source": [
    "sensorwert = -102\n",
    "min_dist = None\n",
    "best_key = None\n",
    "for key in ism_s6.lut:\n",
    "    dist = abs(sensorwert - key)\n",
    "    if best_key==None or dist < min_dist:\n",
    "        best_key = key\n",
    "        min_dist = dist"
   ]
  },
  {
   "cell_type": "code",
   "execution_count": null,
   "id": "bb4f04d5-ef30-4b81-8c94-0d6ae0ed4847",
   "metadata": {},
   "outputs": [],
   "source": [
    "best_key"
   ]
  },
  {
   "cell_type": "code",
   "execution_count": null,
   "id": "f3d66012-8fd7-43d5-a888-23b7c251c571",
   "metadata": {},
   "outputs": [],
   "source": [
    "ism_s6.lut[best_key]"
   ]
  },
  {
   "cell_type": "code",
   "execution_count": null,
   "id": "fe1690d3-f638-45b1-8fa4-ab0a45ca2a29",
   "metadata": {},
   "outputs": [],
   "source": [
    "ism_s6.sensorwert_zu_entfernung( sensorwert )"
   ]
  },
  {
   "cell_type": "markdown",
   "id": "3b9e70e7-4254-47bb-9b9a-6e0660aaf1cc",
   "metadata": {},
   "source": [
    "## Sensordatenfusion über inverse Sensormodelle"
   ]
  },
  {
   "cell_type": "code",
   "execution_count": null,
   "id": "0446b9c9-58a4-4368-bda7-551f909c9520",
   "metadata": {},
   "outputs": [],
   "source": [
    "s5 = sensor_nichtlineare_kennlinie(50,5)\n",
    "s6 = sensor_nichtlineare_kennlinie(-100,20)\n",
    "\n",
    "ism_s5 = ism(s5)\n",
    "ism_s5.baue_lut_auf()\n",
    "\n",
    "ism_s6 = ism(s6)\n",
    "ism_s6.baue_lut_auf()"
   ]
  },
  {
   "cell_type": "code",
   "execution_count": null,
   "id": "83e800c8-370c-4148-867f-228366b67a73",
   "metadata": {},
   "outputs": [],
   "source": [
    "gw = []\n",
    "sensorwerte_s5 = []\n",
    "sensorwerte_s6 = []\n",
    "fusions_ergebnisse = []\n",
    "\n",
    "for x in range(0,1001):\n",
    "    sensorwert5 = s5.get_sensorwert(x)\n",
    "    sensorwert6 = s6.get_sensorwert(x)\n",
    "\n",
    "    e5 = ism_s5.sensorwert_zu_entfernung(sensorwert5)\n",
    "    e6 = ism_s6.sensorwert_zu_entfernung(sensorwert6)\n",
    "\n",
    "    fusionierte_finale_entfernungs_schaetzung = (e5+e6) / 2\n",
    "    \n",
    "    gw.append(x)\n",
    "    sensorwerte_s5.append(sensorwert5)\n",
    "    sensorwerte_s6.append(sensorwert6)\n",
    "    fusions_ergebnisse.append(fusionierte_finale_entfernungs_schaetzung)"
   ]
  },
  {
   "cell_type": "code",
   "execution_count": null,
   "id": "0a3c6969-8d1e-4ba2-ad1c-ed0fd714dada",
   "metadata": {},
   "outputs": [],
   "source": [
    "plt.plot(gw, sensorwerte_s5)\n",
    "plt.plot(gw, sensorwerte_s6)\n",
    "plt.show()"
   ]
  },
  {
   "cell_type": "code",
   "execution_count": null,
   "id": "f88957a1-e760-442a-a9b5-58dae12e9f28",
   "metadata": {},
   "outputs": [],
   "source": [
    "plt.plot(gw, gw)\n",
    "plt.plot(gw, fusions_ergebnisse)\n",
    "plt.show()"
   ]
  },
  {
   "cell_type": "markdown",
   "id": "ef836366-c66d-4bf7-921f-f2f6a6b75494",
   "metadata": {},
   "source": [
    "# Simulation eines echt fiesen Abstandssensors"
   ]
  },
  {
   "cell_type": "markdown",
   "id": "7a97207b-1b33-4f88-955a-9de421385cce",
   "metadata": {},
   "source": [
    "## Seltsame Kennlinie erzeugen"
   ]
  },
  {
   "cell_type": "code",
   "execution_count": null,
   "id": "c5c8ae9c-6e15-48d0-a0bd-b0731be870f6",
   "metadata": {},
   "outputs": [],
   "source": [
    "bias = -50\n",
    "noise = 20\n",
    "pos = 500\n",
    "\n",
    "gw = []\n",
    "sensorwerte = []\n",
    "for x in range(0,1001):\n",
    "    sensorwert = x + 50*numpy.sin(x/10) + numpy.random.normal(loc=bias, scale=noise) + ((x-pos)/20)**2\n",
    "    \n",
    "    gw.append(x)\n",
    "    sensorwerte.append(sensorwert)\n",
    "    \n",
    "plt.plot(gw,sensorwerte)\n",
    "plt.show()"
   ]
  },
  {
   "cell_type": "markdown",
   "id": "5989b787-a09e-4d48-9ff7-055f5185aabc",
   "metadata": {},
   "source": [
    "## Neue Sensorklasse"
   ]
  },
  {
   "cell_type": "code",
   "execution_count": null,
   "id": "76c9f8f5-917f-48d0-a9cc-d496179f1924",
   "metadata": {},
   "outputs": [],
   "source": [
    "class sensor_strange:\n",
    "    \n",
    "    def __init__(self, bias, noise, pos):\n",
    "        self.bias = bias\n",
    "        self.noise = noise\n",
    "        self.pos = pos\n",
    "        \n",
    "    def get_sensorwert(self, x):        \n",
    "        sensorwert = x + 50*numpy.sin(x/10) + numpy.random.normal(loc=bias, scale=noise) + ((x-self.pos)/20)**2\n",
    "        return sensorwert\n",
    "    \n",
    "    def zeige_sensor_kurve(self):\n",
    "        gw = []\n",
    "        sensorwerte = []\n",
    "        for x in range(0,1001):\n",
    "            sensorwert = self.get_sensorwert(x)\n",
    "            gw.append(x)\n",
    "            sensorwerte.append(sensorwert)\n",
    "        plt.plot(gw,sensorwerte)\n",
    "        plt.xlabel(\"gw (Grundwahrheit)\")\n",
    "        plt.ylabel(\"Sensorwert\")\n",
    "        plt.show() "
   ]
  },
  {
   "cell_type": "code",
   "execution_count": null,
   "id": "1f1e5cf2-841f-4b5d-b0cd-ea1cb6841b6e",
   "metadata": {},
   "outputs": [],
   "source": [
    "s7 = sensor_strange(-50,20,400)\n",
    "s7.zeige_sensor_kurve()"
   ]
  },
  {
   "cell_type": "code",
   "execution_count": null,
   "id": "c37dcf99-a88f-4321-9892-338356d8796e",
   "metadata": {},
   "outputs": [],
   "source": [
    "s8 = sensor_strange(-50,20,800)\n",
    "s8.zeige_sensor_kurve()"
   ]
  },
  {
   "cell_type": "markdown",
   "id": "bb2e26c7-50a8-4477-bf37-07e4876221ae",
   "metadata": {},
   "source": [
    "# Eine lernende Sensordatenfusion"
   ]
  },
  {
   "cell_type": "markdown",
   "id": "14215153-da52-4363-8410-42c12199b686",
   "metadata": {},
   "source": [
    "## Einleitung: Wieso Machine Learning?\n",
    "\n",
    "Problem / Herausforderung: wir müssen nun damit umgehen, dass ein \"einfaches\" Inverses Sensormodell (ISM) nicht mehr möglich ist.\n",
    "\n",
    "Der Messwert \"300\" bei Sensor 7 kann nämlich bei mehreren verschiedenen Distanzen vorkommen.\n",
    "\n",
    "Aber wir haben ja auch noch den Sensor 8, der gleichzeitig auch einen Sensorwert liefert. Dieser Sensorwert kann als weitere Hilfsquelle zur Auflösung von Mehrdeutigkeiten verwendet werden.\n",
    "\n",
    "Wir lernen dazu über \"Machine Learning\" ein Inverses Sensor Modell, das einen Messvektor **z** auf einen Zustandsvektor **x** abbildet."
   ]
  },
  {
   "cell_type": "markdown",
   "id": "fab2123e-346b-4842-814b-bf7d0fc54406",
   "metadata": {},
   "source": [
    "## Vorbereiten der Beispieldaten fürs Machine Learning"
   ]
  },
  {
   "cell_type": "code",
   "execution_count": null,
   "id": "860c59c2-da44-4545-916c-368096172c91",
   "metadata": {},
   "outputs": [],
   "source": [
    "X = numpy.zeros( (1000,2) )\n",
    "Y = numpy.zeros( (1000,1) )\n",
    "\n",
    "i = 0\n",
    "for e in range(0,1000):\n",
    "    sensorwert_s7 = s7.get_sensorwert(e)\n",
    "    sensorwert_s8 = s8.get_sensorwert(e)\n",
    "    \n",
    "    X[i,:] = numpy.array( [sensorwert_s7, sensorwert_s8] )\n",
    "    Y[i,0] = e\n",
    "    \n",
    "    i += 1"
   ]
  },
  {
   "cell_type": "code",
   "execution_count": null,
   "id": "7cffe067-653a-4da1-8608-4d037dcd8abd",
   "metadata": {},
   "outputs": [],
   "source": [
    "X.shape"
   ]
  },
  {
   "cell_type": "code",
   "execution_count": null,
   "id": "daa2c2f0-7c76-4cd1-bd29-81bea2bb7c67",
   "metadata": {},
   "outputs": [],
   "source": [
    "Y.shape"
   ]
  },
  {
   "cell_type": "code",
   "execution_count": null,
   "id": "aca78293-1c27-4a7f-b21d-6000cb22f52f",
   "metadata": {},
   "outputs": [],
   "source": [
    "X[0:5]"
   ]
  },
  {
   "cell_type": "code",
   "execution_count": null,
   "id": "0087d911-d33f-4503-bf92-a78093312100",
   "metadata": {},
   "outputs": [],
   "source": [
    "Y[0:5]"
   ]
  },
  {
   "cell_type": "markdown",
   "id": "b7c6e7b6-3dc4-4ea1-99a6-245e33258eae",
   "metadata": {},
   "source": [
    "## Beispieldaten aufspalten in Trainings- und Testdaten"
   ]
  },
  {
   "cell_type": "code",
   "execution_count": null,
   "id": "2eedef65-0739-4931-974b-f025bdf6bb82",
   "metadata": {},
   "outputs": [],
   "source": [
    "# Aufspaltung in Trainings- und Testdaten\n",
    "from sklearn.model_selection import train_test_split\n",
    "x_train, x_test, y_train, y_test = train_test_split(X, Y, test_size = 0.2, random_state = 0)"
   ]
  },
  {
   "cell_type": "code",
   "execution_count": null,
   "id": "cacbcccc-0a9d-4fb8-a677-3e2143c75b2a",
   "metadata": {},
   "outputs": [],
   "source": [
    "x_train.shape"
   ]
  },
  {
   "cell_type": "code",
   "execution_count": null,
   "id": "654f8c9e-b1cf-424e-be62-81a2360ffa44",
   "metadata": {},
   "outputs": [],
   "source": [
    "x_train[0:5]"
   ]
  },
  {
   "cell_type": "code",
   "execution_count": null,
   "id": "aa2837ab-843d-44b8-83f6-531059cc7e38",
   "metadata": {},
   "outputs": [],
   "source": [
    "y_train[0:5]"
   ]
  },
  {
   "cell_type": "code",
   "execution_count": null,
   "id": "dac083fb-fa14-46e5-b6f0-0326ffeb3c43",
   "metadata": {},
   "outputs": [],
   "source": [
    "x_test.shape"
   ]
  },
  {
   "cell_type": "code",
   "execution_count": null,
   "id": "7485b37c-906a-47f0-bd84-41ab7bd57e0f",
   "metadata": {},
   "outputs": [],
   "source": [
    "y_test.shape"
   ]
  },
  {
   "cell_type": "markdown",
   "id": "10a4f23c-c4fa-4f7b-bf90-b14d4e86fab2",
   "metadata": {},
   "source": [
    "## Machine Learning mittels scikit-learn"
   ]
  },
  {
   "cell_type": "code",
   "execution_count": null,
   "id": "4a2fa2b9-7fd0-4658-984f-3cae6c607bd9",
   "metadata": {},
   "outputs": [],
   "source": [
    "# k-NN Regressor erlernen\n",
    "from sklearn.neighbors import KNeighborsRegressor\n",
    "knn = KNeighborsRegressor(n_neighbors=3, weights=\"uniform\")\n",
    "knn = knn.fit(x_train, y_train)"
   ]
  },
  {
   "cell_type": "markdown",
   "id": "93a83f14-6aa9-41eb-87d8-20bd2a171d80",
   "metadata": {},
   "source": [
    "## Testen der Modellgüte"
   ]
  },
  {
   "cell_type": "code",
   "execution_count": null,
   "id": "f2b28eab-1887-443d-9b62-18425c5dc4f3",
   "metadata": {},
   "outputs": [],
   "source": [
    "y_pred_test = knn.predict( x_test )"
   ]
  },
  {
   "cell_type": "code",
   "execution_count": null,
   "id": "467f2eec-ed56-4125-ab80-e830ebf982ea",
   "metadata": {},
   "outputs": [],
   "source": [
    "y_pred_test[0:5]"
   ]
  },
  {
   "cell_type": "code",
   "execution_count": null,
   "id": "8fb6b822-7376-4ece-9c81-ba86a3528881",
   "metadata": {},
   "outputs": [],
   "source": [
    "y_test[0:5]"
   ]
  },
  {
   "cell_type": "code",
   "execution_count": null,
   "id": "6d888ef3-079d-47c9-95c4-aa77e7f9b84d",
   "metadata": {},
   "outputs": [],
   "source": [
    "y_pred_test.shape"
   ]
  },
  {
   "cell_type": "code",
   "execution_count": null,
   "id": "01c4c23a-3bad-4d3a-81db-d0f66a90c7dc",
   "metadata": {},
   "outputs": [],
   "source": [
    "y_test.shape"
   ]
  },
  {
   "cell_type": "code",
   "execution_count": null,
   "id": "be0dce72-2b9b-4e15-9083-829bebbe867e",
   "metadata": {},
   "outputs": [],
   "source": [
    "plt.scatter(y_test.flatten(), y_pred_test.flatten())\n",
    "plt.xlabel(\"Ground Truth Distanz\")\n",
    "plt.ylabel(\"Prädizierte Distanz\")\n",
    "plt.show()"
   ]
  },
  {
   "cell_type": "code",
   "execution_count": null,
   "id": "e831ffbd-b3ca-4623-9889-875a82bc2694",
   "metadata": {},
   "outputs": [],
   "source": [
    "MAE( y_test.flatten(), y_pred_test.flatten() )"
   ]
  },
  {
   "cell_type": "markdown",
   "id": "2222c34b-294f-4d9d-80b7-68b537a5b1ee",
   "metadata": {},
   "source": [
    "# Lernende Ansätze zur Fusion von Sensordaten unterschiedlicher Ranges"
   ]
  },
  {
   "cell_type": "markdown",
   "id": "002e1a72-cb91-4b10-9743-64eca9639b18",
   "metadata": {},
   "source": [
    "## Eine neue Sensorklasse"
   ]
  },
  {
   "cell_type": "code",
   "execution_count": null,
   "id": "4bb1bca4-663e-45f2-91a9-57bfbc64be63",
   "metadata": {},
   "outputs": [],
   "source": [
    "class sensor_strange_range:\n",
    "    \n",
    "    def __init__(self, bias, noise, pos, fac):\n",
    "        self.bias = bias\n",
    "        self.noise = noise\n",
    "        self.pos = pos\n",
    "        self.fac = fac\n",
    "        \n",
    "    def get_sensorwert(self, x):        \n",
    "        sensorwert = self.fac * (x + 50*numpy.sin(x/10) + numpy.random.normal(loc=bias, scale=noise) + ((x-self.pos)/20)**2)\n",
    "        return sensorwert\n",
    "    \n",
    "    def zeige_sensor_kurve(self):\n",
    "        gw = []\n",
    "        sensorwerte = []\n",
    "        for x in range(0,1001):\n",
    "            sensorwert = self.get_sensorwert(x)\n",
    "            gw.append(x)\n",
    "            sensorwerte.append(sensorwert)\n",
    "        plt.plot(gw,sensorwerte)\n",
    "        plt.xlabel(\"gw (Grundwahrheit)\")\n",
    "        plt.ylabel(\"Sensorwert\")\n",
    "        plt.show() "
   ]
  },
  {
   "cell_type": "code",
   "execution_count": null,
   "id": "ac09f074-9606-4366-83c9-affda2a5b849",
   "metadata": {},
   "outputs": [],
   "source": [
    "s9  = sensor_strange_range(-50,20,400, 1)\n",
    "s10 = sensor_strange_range(-50,20,800, 100)"
   ]
  },
  {
   "cell_type": "code",
   "execution_count": null,
   "id": "07f1b32e-0b03-43d6-839d-e97d7fc7fccb",
   "metadata": {},
   "outputs": [],
   "source": [
    "s9.zeige_sensor_kurve()"
   ]
  },
  {
   "cell_type": "code",
   "execution_count": null,
   "id": "60b29121-c408-4364-bcc1-743caadb8b4d",
   "metadata": {},
   "outputs": [],
   "source": [
    "s10.zeige_sensor_kurve()"
   ]
  },
  {
   "cell_type": "markdown",
   "id": "0f31e156-fadd-4d11-9d15-acd92175c1d5",
   "metadata": {},
   "source": [
    "## Machine Learning Reloaded"
   ]
  },
  {
   "cell_type": "code",
   "execution_count": null,
   "id": "b3835ad3-cdfa-4e9e-8014-0fdcf51264ca",
   "metadata": {},
   "outputs": [],
   "source": [
    "# 1. Beispieldaten fürs ML vorbereiten\n",
    "X = numpy.zeros( (1000,2) )\n",
    "Y = numpy.zeros( (1000,1) )\n",
    "i = 0\n",
    "for e in range(0,1000):\n",
    "    sensorwert_s9  = s9.get_sensorwert(e)\n",
    "    sensorwert_s10 = s10.get_sensorwert(e)    \n",
    "    X[i,:] = numpy.array( [sensorwert_s9, sensorwert_s10] )\n",
    "    Y[i,0] = e    \n",
    "    i += 1\n",
    "\n",
    "\n",
    "# 2. Beispieldaten in Trainings- und Testdaten aufteilen\n",
    "from sklearn.model_selection import train_test_split\n",
    "x_train, x_test, y_train, y_test = train_test_split(X, Y, test_size = 0.2, random_state = 0)\n",
    "\n",
    "\n",
    "# 3. k-NN Regressor erlernen\n",
    "from sklearn.neighbors import KNeighborsRegressor\n",
    "knn = KNeighborsRegressor(n_neighbors=3, weights=\"uniform\")\n",
    "knn = knn.fit(x_train, y_train)\n",
    "\n",
    "\n",
    "# 4. Modellgüte ermitteln\n",
    "y_pred_test = knn.predict( x_test )\n",
    "\n",
    "\n",
    "# 5. Plotten der Prädiktionen\n",
    "plt.scatter(y_test.flatten(), y_pred_test.flatten())\n",
    "plt.show()\n",
    "\n",
    "\n",
    "# 6. Quantitative Auswertung des mittleren Fehlers\n",
    "print( \"MAE=\", MAE( y_test.flatten(), y_pred_test.flatten() ) )"
   ]
  },
  {
   "cell_type": "markdown",
   "id": "3fe233d3-76ba-4a68-aa45-40c88eeaff3b",
   "metadata": {},
   "source": [
    "Man sieht, dass der Fehler deutlich größer geworden ist! Der Grund ist, dass der k-NN Regressor nun nicht mehr mit dem Standardabstandsmaß (euklidische Maß) funktioniert. Wir müssen dazu vorher die Sensormesswerte normalisieren!"
   ]
  },
  {
   "cell_type": "markdown",
   "id": "18973b34-d86f-4f79-9f97-6027de41a2b4",
   "metadata": {},
   "source": [
    "## Normalisierung"
   ]
  },
  {
   "cell_type": "code",
   "execution_count": null,
   "id": "99a3ea92-049a-4784-9dac-fec26256feae",
   "metadata": {},
   "outputs": [],
   "source": [
    "D = numpy.array( [[-20,-2],\n",
    "                  [-10,-1],\n",
    "                  [  0, 0],\n",
    "                  [+10,+1],\n",
    "                  [+20,+2]] )"
   ]
  },
  {
   "cell_type": "code",
   "execution_count": null,
   "id": "be21afea-4fc0-4495-8db4-1364f21d4d6b",
   "metadata": {},
   "outputs": [],
   "source": [
    "D"
   ]
  },
  {
   "cell_type": "code",
   "execution_count": null,
   "id": "d2954fac-09d7-4f77-b8e8-adb52cd32a2a",
   "metadata": {},
   "outputs": [],
   "source": [
    "numpy.mean( D[:,0] )"
   ]
  },
  {
   "cell_type": "code",
   "execution_count": null,
   "id": "33d7cef6-5787-4635-95ec-8217a7fce20f",
   "metadata": {},
   "outputs": [],
   "source": [
    "numpy.std( D[:,0] )"
   ]
  },
  {
   "cell_type": "code",
   "execution_count": null,
   "id": "8165c343-93eb-4486-892e-5a8934431a68",
   "metadata": {},
   "outputs": [],
   "source": [
    "from sklearn.preprocessing import StandardScaler\n",
    "scaler = StandardScaler()\n",
    "D_scaled = scaler.fit_transform(D)"
   ]
  },
  {
   "cell_type": "code",
   "execution_count": null,
   "id": "4ddda99a-f71e-4a7b-8d58-c414740604c3",
   "metadata": {},
   "outputs": [],
   "source": [
    "D_scaled"
   ]
  },
  {
   "cell_type": "code",
   "execution_count": null,
   "id": "8034b873-d962-45f2-8293-e470c1079c0f",
   "metadata": {},
   "outputs": [],
   "source": [
    "D_scaled[:,0]"
   ]
  },
  {
   "cell_type": "code",
   "execution_count": null,
   "id": "1a26203b-4c2d-482c-9b43-6b39e78b9bfe",
   "metadata": {},
   "outputs": [],
   "source": [
    "numpy.mean( D_scaled[:,0] )"
   ]
  },
  {
   "cell_type": "code",
   "execution_count": null,
   "id": "c35ed242-f3e4-4f34-9a99-037d56fd7e06",
   "metadata": {},
   "outputs": [],
   "source": [
    "numpy.std( D_scaled[:,0] )"
   ]
  },
  {
   "cell_type": "markdown",
   "id": "41040c28-5c9c-467a-b3af-187673dd04e6",
   "metadata": {},
   "source": [
    "## Jetzt ML mit Skalierung der Sensordaten"
   ]
  },
  {
   "cell_type": "code",
   "execution_count": null,
   "id": "d3d58ac5-58ac-4ed1-8096-bb0b2a39e64e",
   "metadata": {},
   "outputs": [],
   "source": [
    "# 1. Beispieldaten fürs ML vorbereiten\n",
    "X = numpy.zeros( (1000,2) )\n",
    "Y = numpy.zeros( (1000,1) )\n",
    "i = 0\n",
    "for e in range(0,1000):\n",
    "    sensorwert_s9  = s9.get_sensorwert(e)\n",
    "    sensorwert_s10 = s10.get_sensorwert(e)    \n",
    "    X[i,:] = numpy.array( [sensorwert_s9, sensorwert_s10] )\n",
    "    Y[i,0] = e    \n",
    "    i += 1\n",
    "\n",
    "\n",
    "# 2. Beispieldaten in Trainings- und Testdaten aufteilen\n",
    "from sklearn.model_selection import train_test_split\n",
    "x_train, x_test, y_train, y_test = train_test_split(X, Y, test_size = 0.2, random_state = 0)\n",
    "\n",
    "\n",
    "# 3. Skalierung der Trainings- und Testdaten\n",
    "from sklearn.preprocessing import StandardScaler\n",
    "scaler = StandardScaler()\n",
    "x_train_scaled = scaler.fit_transform(x_train)\n",
    "x_test_scaled  = scaler.transform(x_test)\n",
    "\n",
    "\n",
    "# 4. k-NN Regressor erlernen\n",
    "from sklearn.neighbors import KNeighborsRegressor\n",
    "knn = KNeighborsRegressor(n_neighbors=3, weights=\"uniform\")\n",
    "knn = knn.fit(x_train_scaled, y_train)\n",
    "\n",
    "\n",
    "# 5. Modellgüte ermitteln\n",
    "y_pred_test = knn.predict( x_test_scaled )\n",
    "\n",
    "\n",
    "# 6. Plotten der Prädiktionen\n",
    "plt.scatter(y_test.flatten(), y_pred_test.flatten())\n",
    "plt.show()\n",
    "\n",
    "\n",
    "# 7. Quantitative Auswertung des mittleren Fehlers\n",
    "fehler = MAE( y_test.flatten(), y_pred_test.flatten() )\n",
    "print( f\"MAE = {fehler:.2f}cm\" )"
   ]
  },
  {
   "cell_type": "markdown",
   "id": "7ae32214-a198-4c13-abde-a5afd67b0b8a",
   "metadata": {},
   "source": [
    "Wir konnten jetzt den mittleren absoluten Schätzfehler zur Entfernungsschätzung auf Basis zweier Sensorwerte wieder auf ca. 10cm reduzieren."
   ]
  },
  {
   "cell_type": "markdown",
   "id": "4c5e62b8-0ffd-4bed-8c04-14644963a03e",
   "metadata": {},
   "source": [
    "# Mehrere Sensoren erzeugen"
   ]
  },
  {
   "cell_type": "code",
   "execution_count": null,
   "id": "a8b51266-c2dd-4960-821d-83fc147b6116",
   "metadata": {},
   "outputs": [],
   "source": [
    "bias = numpy.random.uniform(low=-100, high=100)\n",
    "var  = numpy.random.uniform(low=1, high=100)\n",
    "pos  = numpy.random.uniform(low=1, high=1000)\n",
    "fac  = numpy.random.uniform(low=1, high=100)\n",
    "bias, var, pos, fac"
   ]
  },
  {
   "cell_type": "code",
   "execution_count": null,
   "id": "ef6b7d62-4e5a-4153-a500-0e18db7e1045",
   "metadata": {},
   "outputs": [],
   "source": [
    "nr_sensors = 3\n",
    "for sensor_nr in range(nr_sensors):\n",
    "    bias = numpy.random.uniform(low=-100, high=100)\n",
    "    var  = numpy.random.uniform(low=1, high=100)\n",
    "    pos  = numpy.random.uniform(low=1, high=1000)\n",
    "    fac  = numpy.random.uniform(low=1, high=100)\n",
    "    s = sensor_strange_range(bias, var, pos, fac)\n",
    "    s.zeige_sensor_kurve()"
   ]
  },
  {
   "cell_type": "code",
   "execution_count": null,
   "id": "15e0812e-99b4-4be2-87ef-810408fec77b",
   "metadata": {},
   "outputs": [],
   "source": [
    "def erzeuge_sensoren(nr_sensors, diagrams=True):\n",
    "    sensors = []\n",
    "    for sensor_nr in range(nr_sensors):\n",
    "        bias = numpy.random.uniform(low=-100, high=100)\n",
    "        var  = numpy.random.uniform(low=1, high=100)\n",
    "        pos  = numpy.random.uniform(low=1, high=1000)\n",
    "        fac  = numpy.random.uniform(low=1, high=100)\n",
    "        s = sensor_strange_range(bias, var, pos, fac)\n",
    "        if diagrams:\n",
    "            s.zeige_sensor_kurve()        \n",
    "        sensors.append(s)\n",
    "    return sensors"
   ]
  },
  {
   "cell_type": "markdown",
   "id": "2faf4d07-ea9f-429c-915c-99ae32b702ca",
   "metadata": {},
   "source": [
    "# Sensordatenfusion mit steigender Anzahl von Sensoren"
   ]
  },
  {
   "cell_type": "code",
   "execution_count": null,
   "id": "794d3740-3132-422f-afd7-2b17620b5d65",
   "metadata": {},
   "outputs": [],
   "source": [
    "def experiment(nr_sensors, diagrams=False):\n",
    "\n",
    "    # 1. Erzeuge Sensoren\n",
    "    sensors = erzeuge_sensoren(nr_sensors, diagrams)\n",
    "\n",
    "    # 2. Beispieldaten fürs ML vorbereiten\n",
    "    X = numpy.zeros( (1000,nr_sensors) )\n",
    "    Y = numpy.zeros( (1000,1) )\n",
    "    i = 0\n",
    "    for e in range(0,1000):\n",
    "\n",
    "        for sensor_nr, sensor in enumerate(sensors):\n",
    "            sensorwert = sensor.get_sensorwert(e)\n",
    "            X[i,sensor_nr] = sensorwert\n",
    "\n",
    "        Y[i,0] = e    \n",
    "        i += 1\n",
    "\n",
    "\n",
    "    # 2. Beispieldaten in Trainings- und Testdaten aufteilen\n",
    "    from sklearn.model_selection import train_test_split\n",
    "    x_train, x_test, y_train, y_test = train_test_split(X, Y, test_size = 0.2, random_state = 0)\n",
    "\n",
    "\n",
    "    # 3. Skalierung der Trainings- und Testdaten\n",
    "    from sklearn.preprocessing import StandardScaler\n",
    "    scaler = StandardScaler()\n",
    "    x_train_scaled = scaler.fit_transform(x_train)\n",
    "    x_test_scaled  = scaler.transform(x_test)\n",
    "\n",
    "\n",
    "    # 4. k-NN Regressor erlernen\n",
    "    from sklearn.neighbors import KNeighborsRegressor\n",
    "    knn = KNeighborsRegressor(n_neighbors=3, weights=\"uniform\")\n",
    "    knn = knn.fit(x_train_scaled, y_train)\n",
    "\n",
    "\n",
    "    # 5. Modellgüte ermitteln\n",
    "    y_pred_test = knn.predict( x_test_scaled )\n",
    "\n",
    "\n",
    "    # 6. Plotten der Prädiktionen\n",
    "    if diagrams:\n",
    "        plt.scatter(y_test.flatten(), y_pred_test.flatten())\n",
    "        plt.show()\n",
    "\n",
    "\n",
    "    # 7. Quantitative Auswertung des mittleren Fehlers\n",
    "    fehler = MAE( y_test.flatten(), y_pred_test.flatten() )\n",
    "    print( f\"nr_sensors={nr_sensors} -> MAE = {fehler:.2f}cm\" )\n",
    "    return fehler"
   ]
  },
  {
   "cell_type": "code",
   "execution_count": null,
   "id": "44a1e3d0-7e37-4b6f-8bc4-ac6732356b70",
   "metadata": {},
   "outputs": [],
   "source": [
    "ergebnisse_x = []\n",
    "ergebnisse_y = []\n",
    "for nr_sensors in range(2,11):\n",
    "    \n",
    "    alle_fehler = []\n",
    "    for run in range(50):\n",
    "        fehler = experiment(nr_sensors)\n",
    "        alle_fehler.append(fehler)\n",
    "        \n",
    "    ergebnisse_x.append( nr_sensors )\n",
    "    ergebnisse_y.append( numpy.mean(alle_fehler) )"
   ]
  },
  {
   "cell_type": "code",
   "execution_count": null,
   "id": "14599f04-18d6-4d1e-bfbe-5a5dd40bf179",
   "metadata": {},
   "outputs": [],
   "source": [
    "plt.scatter(ergebnisse_x, ergebnisse_y, marker=\".\")\n",
    "plt.show()"
   ]
  },
  {
   "cell_type": "code",
   "execution_count": null,
   "id": "fdb48b32-0f7f-4c8b-bf26-a3998d7d51c3",
   "metadata": {},
   "outputs": [],
   "source": []
  }
 ],
 "metadata": {
  "kernelspec": {
   "display_name": "Python 3 (ipykernel)",
   "language": "python",
   "name": "python3"
  },
  "language_info": {
   "codemirror_mode": {
    "name": "ipython",
    "version": 3
   },
   "file_extension": ".py",
   "mimetype": "text/x-python",
   "name": "python",
   "nbconvert_exporter": "python",
   "pygments_lexer": "ipython3",
   "version": "3.10.10"
  },
  "toc-autonumbering": true
 },
 "nbformat": 4,
 "nbformat_minor": 5
}
