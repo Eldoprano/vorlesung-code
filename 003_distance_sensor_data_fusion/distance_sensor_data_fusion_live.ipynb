{
 "cells": [
  {
   "cell_type": "markdown",
   "id": "d94e12f8-1b77-4e8d-9ad4-a8cccb98e34d",
   "metadata": {},
   "source": [
    "# Simulation eines Abstandssensors mit linearer Kennlinie"
   ]
  },
  {
   "cell_type": "markdown",
   "id": "005521c6-a608-4742-9c91-4b5e7cc5c56e",
   "metadata": {},
   "source": [
    "## Erzeugen von Zufallszahlen"
   ]
  },
  {
   "cell_type": "code",
   "execution_count": 1,
   "id": "3526d10e-6728-42b1-94f8-3550e473e5cb",
   "metadata": {},
   "outputs": [],
   "source": [
    "# pip install numpy\n",
    "# conda install numpy"
   ]
  },
  {
   "cell_type": "code",
   "execution_count": 2,
   "id": "29df1ead-968a-40b0-9730-8ff68a287ecc",
   "metadata": {},
   "outputs": [],
   "source": [
    "import numpy"
   ]
  },
  {
   "cell_type": "code",
   "execution_count": 3,
   "id": "745eb112-e3d9-4dde-b642-734ba7a3209c",
   "metadata": {},
   "outputs": [],
   "source": [
    "A = numpy.random.normal(loc=3, scale=1.0, size=10000)"
   ]
  },
  {
   "cell_type": "code",
   "execution_count": 4,
   "id": "b472e43b-b1f0-4a58-9d7d-36031d007573",
   "metadata": {},
   "outputs": [
    {
     "data": {
      "text/plain": [
       "array([4.00137881, 3.30038622, 1.44000047, ..., 3.36915996, 1.09931037,\n",
       "       3.45466368])"
      ]
     },
     "execution_count": 4,
     "metadata": {},
     "output_type": "execute_result"
    }
   ],
   "source": [
    "A"
   ]
  },
  {
   "cell_type": "code",
   "execution_count": 5,
   "id": "f260a4cd-4145-49cd-ac8d-02535763d065",
   "metadata": {},
   "outputs": [],
   "source": [
    "# pip install matplotlib\n",
    "# conda install matplotlib"
   ]
  },
  {
   "cell_type": "code",
   "execution_count": 6,
   "id": "3edb2c05-ea2a-41f8-8e1f-078d62f000ca",
   "metadata": {},
   "outputs": [],
   "source": [
    "import matplotlib.pyplot as plt"
   ]
  },
  {
   "cell_type": "code",
   "execution_count": 7,
   "id": "85e604c1-ae14-4402-9915-ad2ecbb2e581",
   "metadata": {},
   "outputs": [
    {
     "data": {
      "text/plain": [
       "2.9918319672800795"
      ]
     },
     "execution_count": 7,
     "metadata": {},
     "output_type": "execute_result"
    }
   ],
   "source": [
    "numpy.mean(A)"
   ]
  },
  {
   "cell_type": "code",
   "execution_count": 8,
   "id": "74458714-fbee-4349-9a73-5d01fe6518f3",
   "metadata": {},
   "outputs": [
    {
     "data": {
      "text/plain": [
       "0.9946090093258793"
      ]
     },
     "execution_count": 8,
     "metadata": {},
     "output_type": "execute_result"
    }
   ],
   "source": [
    "numpy.std(A)"
   ]
  },
  {
   "cell_type": "code",
   "execution_count": 9,
   "id": "64ed34bf-a850-477f-9735-2738a7d60062",
   "metadata": {},
   "outputs": [
    {
     "data": {
      "image/png": "[encoded data removed]",
      "text/plain": [
       "<Figure size 432x288 with 1 Axes>"
      ]
     },
     "metadata": {
      "needs_background": "light"
     },
     "output_type": "display_data"
    }
   ],
   "source": [
    "r = plt.hist(A, bins=50, edgecolor=\"black\", color=\"lightgreen\")\n",
    "plt.show()"
   ]
  },
  {
   "cell_type": "code",
   "execution_count": 10,
   "id": "69575b51-f0b9-4998-9333-b0f08b434efe",
   "metadata": {},
   "outputs": [
    {
     "data": {
      "text/plain": [
       "(array([  2.,   0.,   0.,   2.,   4.,   5.,  11.,  19.,  18.,  40.,  56.,\n",
       "         74.,  91., 137., 177., 222., 257., 336., 398., 443., 475., 537.,\n",
       "        570., 566., 594., 654., 570., 606., 524., 455., 399., 357., 308.,\n",
       "        244., 205., 176., 130.,  85.,  90.,  56.,  42.,  29.,  14.,   8.,\n",
       "          6.,   4.,   1.,   2.,   0.,   1.]),\n",
       " array([-0.80774623, -0.65522373, -0.50270122, -0.35017872, -0.19765622,\n",
       "        -0.04513372,  0.10738878,  0.25991129,  0.41243379,  0.56495629,\n",
       "         0.71747879,  0.8700013 ,  1.0225238 ,  1.1750463 ,  1.3275688 ,\n",
       "         1.4800913 ,  1.63261381,  1.78513631,  1.93765881,  2.09018131,\n",
       "         2.24270382,  2.39522632,  2.54774882,  2.70027132,  2.85279382,\n",
       "         3.00531633,  3.15783883,  3.31036133,  3.46288383,  3.61540634,\n",
       "         3.76792884,  3.92045134,  4.07297384,  4.22549634,  4.37801885,\n",
       "         4.53054135,  4.68306385,  4.83558635,  4.98810886,  5.14063136,\n",
       "         5.29315386,  5.44567636,  5.59819886,  5.75072137,  5.90324387,\n",
       "         6.05576637,  6.20828887,  6.36081138,  6.51333388,  6.66585638,\n",
       "         6.81837888]),\n",
       " <BarContainer object of 50 artists>)"
      ]
     },
     "execution_count": 10,
     "metadata": {},
     "output_type": "execute_result"
    }
   ],
   "source": [
    "r"
   ]
  },
  {
   "cell_type": "markdown",
   "id": "7553fb51-4a86-4ab9-8d49-4e3599759068",
   "metadata": {},
   "source": [
    "## Eine Sensorklasse"
   ]
  },
  {
   "cell_type": "code",
   "execution_count": 11,
   "id": "3dc01d04-7d04-481e-ab6c-8c90f1218862",
   "metadata": {},
   "outputs": [],
   "source": [
    "class sensor_lineare_kennlinie:\n",
    "    \n",
    "    def __init__(self, bias, noise):\n",
    "        self.bias = bias\n",
    "        self.noise = noise\n",
    "        \n",
    "    def get_sensorwert(self, e):\n",
    "        sensorwert = e + numpy.random.normal(loc=self.bias, scale=self.noise)\n",
    "        return sensorwert\n",
    "    \n",
    "    \n",
    "    def zeige_sensor_kurve(self):\n",
    "        \n",
    "        sensorwerte = []\n",
    "        for e in range(0,101):\n",
    "            sensorwert = self.get_sensorwert(e)\n",
    "            sensorwerte.append( sensorwert )\n",
    "            \n",
    "        plt.plot(sensorwerte)\n",
    "        plt.xlabel(\"Tatsächliche Entfernung (cm)\")\n",
    "        plt.ylabel(\"Sensorwert\")\n",
    "        plt.show()"
   ]
  },
  {
   "cell_type": "code",
   "execution_count": 12,
   "id": "c8f44c00-99b0-4c9a-8d43-5bc953af69bf",
   "metadata": {},
   "outputs": [],
   "source": [
    "s1 = sensor_lineare_kennlinie(-20, 1.0)"
   ]
  },
  {
   "cell_type": "code",
   "execution_count": 13,
   "id": "dfa49f75-1c39-4665-ad2a-b579bf49e328",
   "metadata": {},
   "outputs": [
    {
     "data": {
      "text/plain": [
       "82.29751967085633"
      ]
     },
     "execution_count": 13,
     "metadata": {},
     "output_type": "execute_result"
    }
   ],
   "source": [
    "s1.get_sensorwert(100)"
   ]
  },
  {
   "cell_type": "code",
   "execution_count": 14,
   "id": "894b64d0-95e2-41ad-a41b-95513bd5c812",
   "metadata": {},
   "outputs": [],
   "source": [
    "s2 = sensor_lineare_kennlinie(-5, 3.0)"
   ]
  },
  {
   "cell_type": "code",
   "execution_count": 15,
   "id": "c326a3b5-851d-4682-9be6-c62d3079818e",
   "metadata": {},
   "outputs": [
    {
     "data": {
      "text/plain": [
       "93.81149417448448"
      ]
     },
     "execution_count": 15,
     "metadata": {},
     "output_type": "execute_result"
    }
   ],
   "source": [
    "s2.get_sensorwert(100)"
   ]
  },
  {
   "cell_type": "markdown",
   "id": "6a314c44-5272-4d16-91e0-093ab9717752",
   "metadata": {},
   "source": [
    "## Sensorkurven"
   ]
  },
  {
   "cell_type": "code",
   "execution_count": 16,
   "id": "3301c85e-c08e-49fa-a0a7-fecc7a7c5711",
   "metadata": {},
   "outputs": [],
   "source": [
    "sensorwerte = []\n",
    "for e in range(0,101):\n",
    "    sensorwert = s1.get_sensorwert(e)\n",
    "    sensorwerte.append( sensorwert )"
   ]
  },
  {
   "cell_type": "code",
   "execution_count": 17,
   "id": "9cdf8410-4e03-45c7-a27e-428f5605a24b",
   "metadata": {},
   "outputs": [
    {
     "data": {
      "text/plain": [
       "101"
      ]
     },
     "execution_count": 17,
     "metadata": {},
     "output_type": "execute_result"
    }
   ],
   "source": [
    "len(sensorwerte)"
   ]
  },
  {
   "cell_type": "code",
   "execution_count": 18,
   "id": "613270b7-a73d-483d-9a62-5cf948eedc80",
   "metadata": {},
   "outputs": [
    {
     "data": {
      "text/plain": [
       "[-19.66858387229074,\n",
       " -18.10493216096723,\n",
       " -15.860544814831826,\n",
       " -16.305541793117925,\n",
       " -15.618891311599175]"
      ]
     },
     "execution_count": 18,
     "metadata": {},
     "output_type": "execute_result"
    }
   ],
   "source": [
    "sensorwerte[0:5]"
   ]
  },
  {
   "cell_type": "code",
   "execution_count": 19,
   "id": "90c1a4e9-b1cd-45a8-b032-62a7f21c33b3",
   "metadata": {},
   "outputs": [
    {
     "data": {
      "image/png": "[encoded data removed]",
      "text/plain": [
       "<Figure size 432x288 with 1 Axes>"
      ]
     },
     "metadata": {
      "needs_background": "light"
     },
     "output_type": "display_data"
    }
   ],
   "source": [
    "plt.plot(sensorwerte)\n",
    "plt.show()"
   ]
  },
  {
   "cell_type": "code",
   "execution_count": 20,
   "id": "98ba763f-65eb-48fb-88ac-0688f990f8ba",
   "metadata": {},
   "outputs": [
    {
     "data": {
      "image/png": "[encoded data removed]",
      "text/plain": [
       "<Figure size 432x288 with 1 Axes>"
      ]
     },
     "metadata": {
      "needs_background": "light"
     },
     "output_type": "display_data"
    }
   ],
   "source": [
    "s1.zeige_sensor_kurve()"
   ]
  },
  {
   "cell_type": "code",
   "execution_count": 21,
   "id": "aae54ae6-a473-4cb6-9fab-fbb355ed5fe2",
   "metadata": {},
   "outputs": [
    {
     "data": {
      "image/png": "[encoded data removed]",
      "text/plain": [
       "<Figure size 432x288 with 1 Axes>"
      ]
     },
     "metadata": {
      "needs_background": "light"
     },
     "output_type": "display_data"
    }
   ],
   "source": [
    "s2.zeige_sensor_kurve()"
   ]
  },
  {
   "cell_type": "markdown",
   "id": "4f6a5231-ef39-4e1a-b8cb-f20bbf5be773",
   "metadata": {},
   "source": [
    "# Erste Fusionsansätze"
   ]
  },
  {
   "cell_type": "markdown",
   "id": "7e7ade36-0636-4b7f-b471-58392149c1ef",
   "metadata": {},
   "source": [
    "## Fehlerfunktion für Fusionsergebnisse"
   ]
  },
  {
   "cell_type": "code",
   "execution_count": 22,
   "id": "079dc6f3-2cec-41fd-abe1-cf2713a07787",
   "metadata": {},
   "outputs": [],
   "source": [
    "gw = numpy.array([1,2,3,4,5]) # gw=Grundwahrheit, gt=Ground Truth\n",
    "fusionsergebnisse = numpy.array([1.1, 2.2, 2.9, 4.05, 5.9])"
   ]
  },
  {
   "cell_type": "code",
   "execution_count": 23,
   "id": "35e80ed9-7f95-4be7-846d-ceb07be56bb0",
   "metadata": {},
   "outputs": [
    {
     "data": {
      "text/plain": [
       "array([1, 2, 3, 4, 5])"
      ]
     },
     "execution_count": 23,
     "metadata": {},
     "output_type": "execute_result"
    }
   ],
   "source": [
    "gw"
   ]
  },
  {
   "cell_type": "code",
   "execution_count": 24,
   "id": "ceb198e0-cfcc-4bf1-bafc-13f3399f5ea3",
   "metadata": {},
   "outputs": [
    {
     "data": {
      "text/plain": [
       "array([1.1 , 2.2 , 2.9 , 4.05, 5.9 ])"
      ]
     },
     "execution_count": 24,
     "metadata": {},
     "output_type": "execute_result"
    }
   ],
   "source": [
    "fusionsergebnisse"
   ]
  },
  {
   "cell_type": "code",
   "execution_count": 25,
   "id": "b80f8385-429c-4a2c-8099-62b754ceb699",
   "metadata": {},
   "outputs": [
    {
     "data": {
      "text/plain": [
       "array([-0.1 , -0.2 ,  0.1 , -0.05, -0.9 ])"
      ]
     },
     "execution_count": 25,
     "metadata": {},
     "output_type": "execute_result"
    }
   ],
   "source": [
    "gw - fusionsergebnisse"
   ]
  },
  {
   "cell_type": "code",
   "execution_count": 26,
   "id": "53c671d0-1e04-4516-9271-8891dbab2cff",
   "metadata": {},
   "outputs": [
    {
     "data": {
      "text/plain": [
       "0.27000000000000013"
      ]
     },
     "execution_count": 26,
     "metadata": {},
     "output_type": "execute_result"
    }
   ],
   "source": [
    "numpy.mean(abs(gw - fusionsergebnisse))"
   ]
  },
  {
   "cell_type": "code",
   "execution_count": 27,
   "id": "e5670ce2-38af-4fde-a741-b2395207a054",
   "metadata": {},
   "outputs": [],
   "source": [
    "def MAE(gw, fusionsergebnisse):\n",
    "    return numpy.mean( abs(numpy.array(gw) - numpy.array(fusionsergebnisse)) )"
   ]
  },
  {
   "cell_type": "code",
   "execution_count": 28,
   "id": "32d60759-eea8-41e1-b247-e77af2f8d11a",
   "metadata": {},
   "outputs": [
    {
     "data": {
      "text/plain": [
       "0.27000000000000013"
      ]
     },
     "execution_count": 28,
     "metadata": {},
     "output_type": "execute_result"
    }
   ],
   "source": [
    "MAE(gw, fusionsergebnisse)"
   ]
  },
  {
   "cell_type": "code",
   "execution_count": 29,
   "id": "a46e9332-780d-4afb-8a7e-ea9b79ff9763",
   "metadata": {},
   "outputs": [
    {
     "name": "stdout",
     "output_type": "stream",
     "text": [
      "A\t MAE\t e\t fusionsergebnisse\t gw\t numpy\t plt\t r\t s1\t \n",
      "s2\t sensor_lineare_kennlinie\t sensorwert\t sensorwerte\t \n"
     ]
    }
   ],
   "source": [
    "%who"
   ]
  },
  {
   "cell_type": "code",
   "execution_count": 30,
   "id": "2d755396-01c1-4687-896b-7f978e4eee79",
   "metadata": {},
   "outputs": [
    {
     "name": "stdout",
     "output_type": "stream",
     "text": [
      "Variable                   Type                        Data/Info\n",
      "----------------------------------------------------------------\n",
      "A                          ndarray                     10000: 10000 elems, type `float64`, 80000 bytes\n",
      "MAE                        function                    <function MAE at 0x7f22975558b0>\n",
      "e                          int                         100\n",
      "fusionsergebnisse          ndarray                     5: 5 elems, type `float64`, 40 bytes\n",
      "gw                         ndarray                     5: 5 elems, type `int64`, 40 bytes\n",
      "numpy                      module                      <module 'numpy' from '/ho<...>kages/numpy/__init__.py'>\n",
      "plt                        module                      <module 'matplotlib.pyplo<...>es/matplotlib/pyplot.py'>\n",
      "r                          tuple                       n=3\n",
      "s1                         sensor_lineare_kennlinie    <__main__.sensor_lineare_<...>object at 0x7f2297784760>\n",
      "s2                         sensor_lineare_kennlinie    <__main__.sensor_lineare_<...>object at 0x7f2297703f40>\n",
      "sensor_lineare_kennlinie   type                        <class '__main__.sensor_lineare_kennlinie'>\n",
      "sensorwert                 float                       80.55301699141907\n",
      "sensorwerte                list                        n=101\n"
     ]
    }
   ],
   "source": [
    "%whos"
   ]
  },
  {
   "cell_type": "markdown",
   "id": "788a145b-73b8-4c4d-a25f-85916f3bc673",
   "metadata": {},
   "source": [
    "## Auswertung für Sensor 1 und Sensor 2"
   ]
  },
  {
   "cell_type": "code",
   "execution_count": 31,
   "id": "09d0e443-c2e2-4aa3-928d-c25c16e145e1",
   "metadata": {},
   "outputs": [],
   "source": [
    "def erzeuge_messreihe(s,N):\n",
    "    \n",
    "    gw = []\n",
    "    sensorwerte = []\n",
    "    \n",
    "    for e in range(0,N):\n",
    "        sensorwert = s.get_sensorwert(e)\n",
    "        gw.append(e)\n",
    "        sensorwerte.append( sensorwert )\n",
    "        \n",
    "    return numpy.array(gw), numpy.array(sensorwerte)"
   ]
  },
  {
   "cell_type": "code",
   "execution_count": 32,
   "id": "23bda686-2cac-4667-ac1c-3661bdbf68fb",
   "metadata": {},
   "outputs": [
    {
     "data": {
      "text/plain": [
       "19.98185146998636"
      ]
     },
     "execution_count": 32,
     "metadata": {},
     "output_type": "execute_result"
    }
   ],
   "source": [
    "gw, sensorwerte = erzeuge_messreihe(s1, 1000)\n",
    "MAE(gw, sensorwerte)"
   ]
  },
  {
   "cell_type": "code",
   "execution_count": 33,
   "id": "b9b694a5-2027-451a-9504-6776ee8d2c4d",
   "metadata": {},
   "outputs": [
    {
     "data": {
      "text/plain": [
       "array([0, 1, 2, 3, 4])"
      ]
     },
     "execution_count": 33,
     "metadata": {},
     "output_type": "execute_result"
    }
   ],
   "source": [
    "gw[0:5]"
   ]
  },
  {
   "cell_type": "code",
   "execution_count": 34,
   "id": "c46038ae-2231-4c8f-be4d-b42249a287c7",
   "metadata": {},
   "outputs": [
    {
     "data": {
      "text/plain": [
       "array([-21.49400902, -18.06632431, -16.89138672, -18.15725461,\n",
       "       -15.33154515])"
      ]
     },
     "execution_count": 34,
     "metadata": {},
     "output_type": "execute_result"
    }
   ],
   "source": [
    "sensorwerte[0:5]"
   ]
  },
  {
   "cell_type": "code",
   "execution_count": 35,
   "id": "df6dd332-15d9-4af5-9c4b-5c37f9a8814f",
   "metadata": {},
   "outputs": [
    {
     "data": {
      "text/plain": [
       "5.038935831363044"
      ]
     },
     "execution_count": 35,
     "metadata": {},
     "output_type": "execute_result"
    }
   ],
   "source": [
    "gw, sensorwerte = erzeuge_messreihe(s2, 1000)\n",
    "MAE(gw, sensorwerte)"
   ]
  },
  {
   "cell_type": "markdown",
   "id": "a26d14a5-c3af-47ce-bfa2-a527455b5efb",
   "metadata": {},
   "source": [
    "## Sensorfusion über eine einfache Mittelwertbildung"
   ]
  },
  {
   "cell_type": "code",
   "execution_count": 36,
   "id": "91ed893e-aa7d-4b6b-8767-1efee2dd45d9",
   "metadata": {},
   "outputs": [],
   "source": [
    "gw, sensorwerte1 = erzeuge_messreihe(s1, 1000)\n",
    "gw, sensorwerte2 = erzeuge_messreihe(s2, 1000)"
   ]
  },
  {
   "cell_type": "code",
   "execution_count": 37,
   "id": "c1cd3357-c702-4512-acbb-f2dbb53fce8f",
   "metadata": {},
   "outputs": [
    {
     "data": {
      "text/plain": [
       "array([-20.73669365, -19.65266113, -16.07445757, -16.43592266,\n",
       "       -13.96465021])"
      ]
     },
     "execution_count": 37,
     "metadata": {},
     "output_type": "execute_result"
    }
   ],
   "source": [
    "sensorwerte1[0:5]"
   ]
  },
  {
   "cell_type": "code",
   "execution_count": 38,
   "id": "58ae8e3b-29a5-4534-9cbb-f6e66d8fa0b3",
   "metadata": {},
   "outputs": [
    {
     "data": {
      "text/plain": [
       "array([ -0.83041175, -10.04224208,  -3.02207611,  -1.54507274,\n",
       "        -0.14752616])"
      ]
     },
     "execution_count": 38,
     "metadata": {},
     "output_type": "execute_result"
    }
   ],
   "source": [
    "sensorwerte2[0:5]"
   ]
  },
  {
   "cell_type": "code",
   "execution_count": 39,
   "id": "8036d0cf-e77d-423e-b5b6-ecb2fd8132ec",
   "metadata": {},
   "outputs": [],
   "source": [
    "fusionsergebnisse = (sensorwerte1+sensorwerte2) / 2"
   ]
  },
  {
   "cell_type": "code",
   "execution_count": 40,
   "id": "46b2efca-acc3-481c-98bc-ab0f45657790",
   "metadata": {},
   "outputs": [
    {
     "data": {
      "text/plain": [
       "numpy.ndarray"
      ]
     },
     "execution_count": 40,
     "metadata": {},
     "output_type": "execute_result"
    }
   ],
   "source": [
    "type(fusionsergebnisse)"
   ]
  },
  {
   "cell_type": "code",
   "execution_count": 41,
   "id": "65acf4e1-3df7-4dd7-b4f5-6c20e9b7b48d",
   "metadata": {},
   "outputs": [
    {
     "data": {
      "text/plain": [
       "array([-10.7835527 , -14.84745161,  -9.54826684,  -8.9904977 ,\n",
       "        -7.05608819])"
      ]
     },
     "execution_count": 41,
     "metadata": {},
     "output_type": "execute_result"
    }
   ],
   "source": [
    "fusionsergebnisse[0:5]"
   ]
  },
  {
   "cell_type": "code",
   "execution_count": 42,
   "id": "fbda6a73-c7ac-45ac-9aa6-c160ad6e0c84",
   "metadata": {},
   "outputs": [
    {
     "data": {
      "text/plain": [
       "12.415559047336014"
      ]
     },
     "execution_count": 42,
     "metadata": {},
     "output_type": "execute_result"
    }
   ],
   "source": [
    "MAE(gw, fusionsergebnisse)"
   ]
  },
  {
   "cell_type": "markdown",
   "id": "096270f7-14f8-42f7-8dc8-b62c627ce82b",
   "metadata": {},
   "source": [
    "**Fazit: Eine einfache Mittelwertbildung bringt es nicht!**"
   ]
  },
  {
   "cell_type": "markdown",
   "id": "a1065b30-cdd3-4533-8a37-959730ce1566",
   "metadata": {},
   "source": [
    "## Sensorfusion mit Biaskorrektur und Mittelwertbildung"
   ]
  },
  {
   "cell_type": "code",
   "execution_count": 43,
   "id": "68d8a824-9242-4b4b-b981-677bd19c08d0",
   "metadata": {},
   "outputs": [],
   "source": [
    "def ME(gw, fusionsergebnisse):\n",
    "    return numpy.mean(gw - fusionsergebnisse)"
   ]
  },
  {
   "cell_type": "code",
   "execution_count": 44,
   "id": "c304b3e8-0396-46b6-9f93-dd91f9ce4732",
   "metadata": {},
   "outputs": [
    {
     "data": {
      "text/plain": [
       "19.993522228892203"
      ]
     },
     "execution_count": 44,
     "metadata": {},
     "output_type": "execute_result"
    }
   ],
   "source": [
    "bias1 = ME(gw, sensorwerte1)\n",
    "bias1"
   ]
  },
  {
   "cell_type": "code",
   "execution_count": 45,
   "id": "f81769a6-81c3-4258-9b31-9df02da4b2e5",
   "metadata": {},
   "outputs": [
    {
     "data": {
      "text/plain": [
       "4.83759586577982"
      ]
     },
     "execution_count": 45,
     "metadata": {},
     "output_type": "execute_result"
    }
   ],
   "source": [
    "bias2 = ME(gw, sensorwerte2)\n",
    "bias2"
   ]
  },
  {
   "cell_type": "code",
   "execution_count": 46,
   "id": "3480372b-da7d-4e69-8681-0707d4f0a3d4",
   "metadata": {},
   "outputs": [],
   "source": [
    "fusionsergebnisse2 = ((sensorwerte1+bias1) + (sensorwerte2+bias2)) / 2"
   ]
  },
  {
   "cell_type": "code",
   "execution_count": 47,
   "id": "20910ee5-3998-452a-83a5-1c86eca5bb17",
   "metadata": {},
   "outputs": [
    {
     "data": {
      "text/plain": [
       "array([ 1.63200635, -2.43189256,  2.86729221,  3.42506135,  5.35947086])"
      ]
     },
     "execution_count": 47,
     "metadata": {},
     "output_type": "execute_result"
    }
   ],
   "source": [
    "fusionsergebnisse2[0:5]"
   ]
  },
  {
   "cell_type": "code",
   "execution_count": 48,
   "id": "cca29e1f-849d-4abf-bf8e-1b59bb44c63a",
   "metadata": {},
   "outputs": [
    {
     "data": {
      "text/plain": [
       "1.274449840959267"
      ]
     },
     "execution_count": 48,
     "metadata": {},
     "output_type": "execute_result"
    }
   ],
   "source": [
    "MAE(gw, fusionsergebnisse2)"
   ]
  },
  {
   "cell_type": "markdown",
   "id": "336091b4-3c30-4f21-a496-649c9c4e5263",
   "metadata": {},
   "source": [
    "Ohne Mittelwerbildung? Nur Verwenden der Sensordaten von Sensor 1 oder Sensor 2?"
   ]
  },
  {
   "cell_type": "code",
   "execution_count": 49,
   "id": "8925e8c9-f811-45b2-bf71-fe49ffb1bb2e",
   "metadata": {},
   "outputs": [],
   "source": [
    "fusionsergebnisse3 = sensorwerte1+bias1"
   ]
  },
  {
   "cell_type": "code",
   "execution_count": 50,
   "id": "d83237bc-cb01-4438-9f22-f3e92ee52410",
   "metadata": {},
   "outputs": [
    {
     "data": {
      "text/plain": [
       "0.800217171159258"
      ]
     },
     "execution_count": 50,
     "metadata": {},
     "output_type": "execute_result"
    }
   ],
   "source": [
    "MAE(gw, fusionsergebnisse3)"
   ]
  },
  {
   "cell_type": "code",
   "execution_count": 51,
   "id": "503e8539-c1cc-492f-803c-d45d9402b021",
   "metadata": {},
   "outputs": [],
   "source": [
    "fusionsergebnisse4 = sensorwerte2+bias2"
   ]
  },
  {
   "cell_type": "code",
   "execution_count": 52,
   "id": "dd7631dc-694c-447c-816e-221f7db9bf64",
   "metadata": {},
   "outputs": [
    {
     "data": {
      "text/plain": [
       "2.3762574251476716"
      ]
     },
     "execution_count": 52,
     "metadata": {},
     "output_type": "execute_result"
    }
   ],
   "source": [
    "MAE(gw, fusionsergebnisse4)"
   ]
  },
  {
   "cell_type": "markdown",
   "id": "643f31e1-885d-4398-bb99-350d85ab0849",
   "metadata": {},
   "source": [
    "# Simulation eines Abstandssensors mit nicht-linearer Kennlinie"
   ]
  },
  {
   "cell_type": "markdown",
   "id": "ec487c51-8bd1-49ee-9f71-ab62bd8f03fc",
   "metadata": {},
   "source": [
    "## Der Logarithmus ist eine nicht-lineare Funktion"
   ]
  },
  {
   "cell_type": "code",
   "execution_count": 53,
   "id": "8e336bc9-9d0e-4fbc-81d2-4067035518bc",
   "metadata": {},
   "outputs": [],
   "source": [
    "x = numpy.arange(1,1001)"
   ]
  },
  {
   "cell_type": "code",
   "execution_count": 54,
   "id": "36eea4e3-051e-42bb-b097-8b048a1b01ac",
   "metadata": {},
   "outputs": [
    {
     "data": {
      "text/plain": [
       "array([  1,   2,   3,   4,   5,   6,   7,   8,   9,  10,  11,  12,  13,\n",
       "        14,  15,  16,  17,  18,  19,  20,  21,  22,  23,  24,  25,  26,\n",
       "        27,  28,  29,  30,  31,  32,  33,  34,  35,  36,  37,  38,  39,\n",
       "        40,  41,  42,  43,  44,  45,  46,  47,  48,  49,  50,  51,  52,\n",
       "        53,  54,  55,  56,  57,  58,  59,  60,  61,  62,  63,  64,  65,\n",
       "        66,  67,  68,  69,  70,  71,  72,  73,  74,  75,  76,  77,  78,\n",
       "        79,  80,  81,  82,  83,  84,  85,  86,  87,  88,  89,  90,  91,\n",
       "        92,  93,  94,  95,  96,  97,  98,  99, 100])"
      ]
     },
     "execution_count": 54,
     "metadata": {},
     "output_type": "execute_result"
    }
   ],
   "source": [
    "x[:100]"
   ]
  },
  {
   "cell_type": "code",
   "execution_count": 55,
   "id": "63cec761-3005-4803-910a-e73d60f05736",
   "metadata": {},
   "outputs": [],
   "source": [
    "y = numpy.log(x)"
   ]
  },
  {
   "cell_type": "code",
   "execution_count": 56,
   "id": "a517d7a3-8d8d-4213-8511-245eb9b2e0d7",
   "metadata": {},
   "outputs": [
    {
     "data": {
      "text/plain": [
       "array([0.        , 0.69314718, 1.09861229, 1.38629436, 1.60943791,\n",
       "       1.79175947, 1.94591015, 2.07944154, 2.19722458, 2.30258509,\n",
       "       2.39789527, 2.48490665, 2.56494936, 2.63905733, 2.7080502 ,\n",
       "       2.77258872, 2.83321334, 2.89037176, 2.94443898, 2.99573227,\n",
       "       3.04452244, 3.09104245, 3.13549422, 3.17805383, 3.21887582,\n",
       "       3.25809654, 3.29583687, 3.33220451, 3.36729583, 3.40119738,\n",
       "       3.4339872 , 3.4657359 , 3.49650756, 3.52636052, 3.55534806,\n",
       "       3.58351894, 3.61091791, 3.63758616, 3.66356165, 3.68887945,\n",
       "       3.71357207, 3.73766962, 3.76120012, 3.78418963, 3.80666249,\n",
       "       3.8286414 , 3.8501476 , 3.87120101, 3.8918203 , 3.91202301,\n",
       "       3.93182563, 3.95124372, 3.97029191, 3.98898405, 4.00733319,\n",
       "       4.02535169, 4.04305127, 4.06044301, 4.07753744, 4.09434456,\n",
       "       4.11087386, 4.12713439, 4.14313473, 4.15888308, 4.17438727,\n",
       "       4.18965474, 4.20469262, 4.21950771, 4.2341065 , 4.24849524,\n",
       "       4.26267988, 4.27666612, 4.29045944, 4.30406509, 4.31748811,\n",
       "       4.33073334, 4.34380542, 4.35670883, 4.36944785, 4.38202663,\n",
       "       4.39444915, 4.40671925, 4.41884061, 4.4308168 , 4.44265126,\n",
       "       4.4543473 , 4.46590812, 4.47733681, 4.48863637, 4.49980967,\n",
       "       4.51085951, 4.52178858, 4.53259949, 4.54329478, 4.55387689,\n",
       "       4.56434819, 4.57471098, 4.58496748, 4.59511985, 4.60517019])"
      ]
     },
     "execution_count": 56,
     "metadata": {},
     "output_type": "execute_result"
    }
   ],
   "source": [
    "y[:100]"
   ]
  },
  {
   "cell_type": "code",
   "execution_count": 57,
   "id": "3c1e74f2-8b9e-44fc-b088-60f4ab5d3d99",
   "metadata": {},
   "outputs": [
    {
     "data": {
      "image/png": "[encoded data removed]",
      "text/plain": [
       "<Figure size 432x288 with 1 Axes>"
      ]
     },
     "metadata": {
      "needs_background": "light"
     },
     "output_type": "display_data"
    }
   ],
   "source": [
    "plt.plot(x,y)\n",
    "#plt.scatter(x,y, marker=\"<\")\n",
    "plt.show()"
   ]
  },
  {
   "cell_type": "markdown",
   "id": "da05bec4-23c6-405a-b3c6-00ed7359b755",
   "metadata": {},
   "source": [
    "## Eine neue Sensor-Klasse"
   ]
  },
  {
   "cell_type": "code",
   "execution_count": 58,
   "id": "e98ce3a6-97c7-490c-b205-22d56bdb9e14",
   "metadata": {},
   "outputs": [],
   "source": [
    "class sensor_nichtlineare_kennlinie:\n",
    "    \n",
    "    def __init__(self, bias, noise):\n",
    "        self.bias = bias\n",
    "        self.noise = noise\n",
    "        \n",
    "    def get_sensorwert(self, e):\n",
    "        sensorwert = e + numpy.random.normal(loc=self.bias, scale=self.noise) + 500*numpy.log(1+e)\n",
    "        return sensorwert\n",
    "    \n",
    "    \n",
    "    def zeige_sensor_kurve(self):\n",
    "        \n",
    "        sensorwerte = []\n",
    "        for e in range(0,1001):\n",
    "            sensorwert = self.get_sensorwert(e)\n",
    "            sensorwerte.append( sensorwert )\n",
    "            \n",
    "        plt.plot(sensorwerte)\n",
    "        plt.xlabel(\"Tatsächliche Entfernung (cm)\")\n",
    "        plt.ylabel(\"Sensorwert\")\n",
    "        plt.show()"
   ]
  },
  {
   "cell_type": "code",
   "execution_count": 59,
   "id": "8e8c52d0-a3fe-4537-a8fc-abb72298e95a",
   "metadata": {},
   "outputs": [],
   "source": [
    "s3 = sensor_nichtlineare_kennlinie(50,40)"
   ]
  },
  {
   "cell_type": "code",
   "execution_count": 60,
   "id": "dc195641-10f8-413f-80cc-4376526bfaab",
   "metadata": {},
   "outputs": [
    {
     "data": {
      "image/png": "[encoded data removed]",
      "text/plain": [
       "<Figure size 432x288 with 1 Axes>"
      ]
     },
     "metadata": {
      "needs_background": "light"
     },
     "output_type": "display_data"
    }
   ],
   "source": [
    "s3.zeige_sensor_kurve()"
   ]
  },
  {
   "cell_type": "code",
   "execution_count": 61,
   "id": "359b7c7a-c897-4f7d-8c99-072cc85cd6b2",
   "metadata": {},
   "outputs": [],
   "source": [
    "s4 = sensor_nichtlineare_kennlinie(-100,80)"
   ]
  },
  {
   "cell_type": "code",
   "execution_count": 62,
   "id": "1fa27555-fc70-4b87-a3a0-41b98578e358",
   "metadata": {},
   "outputs": [
    {
     "data": {
      "image/png": "[encoded data removed]",
      "text/plain": [
       "<Figure size 432x288 with 1 Axes>"
      ]
     },
     "metadata": {
      "needs_background": "light"
     },
     "output_type": "display_data"
    }
   ],
   "source": [
    "s4.zeige_sensor_kurve()"
   ]
  },
  {
   "cell_type": "code",
   "execution_count": 63,
   "id": "c6b051e8-8e2a-48db-84a5-455a59e20905",
   "metadata": {},
   "outputs": [
    {
     "data": {
      "text/plain": [
       "2021.8774327352364"
      ]
     },
     "execution_count": 63,
     "metadata": {},
     "output_type": "execute_result"
    }
   ],
   "source": [
    "s4.get_sensorwert(60)"
   ]
  },
  {
   "cell_type": "markdown",
   "id": "8559d47e-98ca-406d-a60e-6a6e36acb25f",
   "metadata": {},
   "source": [
    "# Neuer Fusionsansatz über Inverse Sensormodelle"
   ]
  },
  {
   "cell_type": "markdown",
   "id": "fc7b9278-e09d-4daa-9622-22e6cfc2123e",
   "metadata": {},
   "source": [
    "## Inverses Sensormodell (ISM)"
   ]
  },
  {
   "cell_type": "code",
   "execution_count": 64,
   "id": "2e858f77-4470-4b9e-8b76-79ff60ea1ee9",
   "metadata": {},
   "outputs": [],
   "source": [
    "# Aufbauen einer LUT (Look-Up-Table):\n",
    "# Sensorwert -> Entfernung (ISM)\n",
    "\n",
    "ism_s4 = {}\n",
    "\n",
    "for e in range(0,1001):\n",
    "\n",
    "    sensorwerte = []\n",
    "    for run in range(0,50):        \n",
    "        sensorwert = s4.get_sensorwert( e )\n",
    "        sensorwerte.append( sensorwert )\n",
    "        \n",
    "    mittlerer_sensorwert = numpy.mean( sensorwerte )\n",
    "    \n",
    "    ism_s4[mittlerer_sensorwert] = e"
   ]
  },
  {
   "cell_type": "code",
   "execution_count": 65,
   "id": "bec07a39-5050-4e63-aff8-c47d8bba9c4e",
   "metadata": {},
   "outputs": [
    {
     "data": {
      "text/plain": [
       "dict"
      ]
     },
     "execution_count": 65,
     "metadata": {},
     "output_type": "execute_result"
    }
   ],
   "source": [
    "type(ism_s4)"
   ]
  },
  {
   "cell_type": "code",
   "execution_count": 66,
   "id": "c15d8a07-db66-4a9f-af56-781b95e28156",
   "metadata": {},
   "outputs": [],
   "source": [
    "gw = [ism_s4[key] for key in ism_s4]\n",
    "messwerte = [key for key in ism_s4]"
   ]
  },
  {
   "cell_type": "code",
   "execution_count": 67,
   "id": "71597eec-a5be-4865-8b51-2cfeae7fb370",
   "metadata": {},
   "outputs": [
    {
     "data": {
      "text/plain": [
       "[0, 1, 2, 3, 4]"
      ]
     },
     "execution_count": 67,
     "metadata": {},
     "output_type": "execute_result"
    }
   ],
   "source": [
    "gw[:5]"
   ]
  },
  {
   "cell_type": "code",
   "execution_count": 68,
   "id": "6cf9d182-1d15-4b5b-994e-bd0ef9b4c480",
   "metadata": {},
   "outputs": [
    {
     "data": {
      "text/plain": [
       "[-90.08329690026044,\n",
       " 253.94815169504167,\n",
       " 454.6094340447138,\n",
       " 597.7524687572806,\n",
       " 710.3498020276803]"
      ]
     },
     "execution_count": 68,
     "metadata": {},
     "output_type": "execute_result"
    }
   ],
   "source": [
    "messwerte[:5]"
   ]
  },
  {
   "cell_type": "code",
   "execution_count": 69,
   "id": "50c17515-2294-43a5-96d7-446a4133f957",
   "metadata": {},
   "outputs": [
    {
     "data": {
      "image/png": "[encoded data removed]",
      "text/plain": [
       "<Figure size 432x288 with 1 Axes>"
      ]
     },
     "metadata": {
      "needs_background": "light"
     },
     "output_type": "display_data"
    }
   ],
   "source": [
    "plt.plot(gw, messwerte)\n",
    "plt.show()"
   ]
  },
  {
   "cell_type": "code",
   "execution_count": 70,
   "id": "0e53c96f-5f5e-4822-a667-d527e8a6eabd",
   "metadata": {},
   "outputs": [],
   "source": [
    "# Suche nach einem ähnlichen Sensorwert in der LUT\n",
    "sensorwert = 399\n",
    "min_dist = None\n",
    "best_key = None\n",
    "\n",
    "for key in ism_s4:\n",
    "    dist = abs(sensorwert - key)\n",
    "    if best_key == None or dist < min_dist:\n",
    "        best_key = key\n",
    "        min_dist = dist"
   ]
  },
  {
   "cell_type": "code",
   "execution_count": 71,
   "id": "fe7d9f75-7b0e-4c1f-97da-cde324079b79",
   "metadata": {},
   "outputs": [
    {
     "data": {
      "text/plain": [
       "454.6094340447138"
      ]
     },
     "execution_count": 71,
     "metadata": {},
     "output_type": "execute_result"
    }
   ],
   "source": [
    "best_key"
   ]
  },
  {
   "cell_type": "code",
   "execution_count": 72,
   "id": "40728436-9dd0-4b5d-8333-4179caa1d211",
   "metadata": {},
   "outputs": [],
   "source": [
    "class ism:\n",
    "    \n",
    "    def __init__(self, s):\n",
    "        self.sensor = s\n",
    "        \n",
    "    def baue_lut_auf(self):\n",
    "        \n",
    "        self.lut = {}\n",
    "        for e in range(0,1001):\n",
    "\n",
    "            sensorwerte = []\n",
    "            for run in range(0,50):        \n",
    "                sensorwert = self.sensor.get_sensorwert( e )\n",
    "                sensorwerte.append( sensorwert )\n",
    "\n",
    "            mittlerer_sensorwert = numpy.mean( sensorwerte )\n",
    "\n",
    "            self.lut[mittlerer_sensorwert] = e\n",
    "            \n",
    "            \n",
    "    def sensorwert_zu_entfernung(self, sensorwert):\n",
    "        min_dist = None\n",
    "        best_key = None\n",
    "\n",
    "        for key in self.lut:\n",
    "            dist = abs(sensorwert - key)\n",
    "            if best_key == None or dist < min_dist:\n",
    "                best_key = key\n",
    "                min_dist = dist\n",
    "                \n",
    "        beste_entfernungs_schaetzung = self.lut[best_key]\n",
    "        return beste_entfernungs_schaetzung"
   ]
  },
  {
   "cell_type": "code",
   "execution_count": 73,
   "id": "e8cd819f-7e5f-4811-a862-cc65e4f9afc0",
   "metadata": {},
   "outputs": [],
   "source": [
    "ism_s4 = ism(s4)"
   ]
  },
  {
   "cell_type": "code",
   "execution_count": 74,
   "id": "a75f9227-03b6-4699-9d26-6267aa03c4c0",
   "metadata": {},
   "outputs": [
    {
     "data": {
      "text/plain": [
       "__main__.ism"
      ]
     },
     "execution_count": 74,
     "metadata": {},
     "output_type": "execute_result"
    }
   ],
   "source": [
    "type(ism_s4)"
   ]
  },
  {
   "cell_type": "code",
   "execution_count": 75,
   "id": "22a66341-c64f-44f7-9598-c2dc3c9bc555",
   "metadata": {},
   "outputs": [],
   "source": [
    "ism_s4.baue_lut_auf()"
   ]
  },
  {
   "cell_type": "code",
   "execution_count": 76,
   "id": "dab1b4f2-6f4e-4914-9d29-c4f6ecd59076",
   "metadata": {},
   "outputs": [
    {
     "data": {
      "text/plain": [
       "3447.2164027363724"
      ]
     },
     "execution_count": 76,
     "metadata": {},
     "output_type": "execute_result"
    }
   ],
   "source": [
    "ein_sensorwert = s4.get_sensorwert(500)\n",
    "ein_sensorwert"
   ]
  },
  {
   "cell_type": "code",
   "execution_count": 77,
   "id": "a5c6fa72-c073-478e-9781-6a0e903a422d",
   "metadata": {},
   "outputs": [
    {
     "data": {
      "text/plain": [
       "481"
      ]
     },
     "execution_count": 77,
     "metadata": {},
     "output_type": "execute_result"
    }
   ],
   "source": [
    "ism_s4.sensorwert_zu_entfernung( ein_sensorwert )"
   ]
  },
  {
   "cell_type": "markdown",
   "id": "77abc352-1023-4866-92b5-eec7b9f6c291",
   "metadata": {},
   "source": [
    "## Sensordatenfusion über inverse Sensormodelle"
   ]
  },
  {
   "cell_type": "code",
   "execution_count": 78,
   "id": "11cf4acf-b5ae-4063-990d-faacb508d4bc",
   "metadata": {},
   "outputs": [],
   "source": [
    "s3 = sensor_nichtlineare_kennlinie(50,5)\n",
    "s4 = sensor_nichtlineare_kennlinie(-100,20)\n",
    "\n",
    "ism_s3 = ism(s3)\n",
    "ism_s3.baue_lut_auf()\n",
    "\n",
    "ism_s4 = ism(s4)\n",
    "ism_s4.baue_lut_auf()"
   ]
  },
  {
   "cell_type": "code",
   "execution_count": 79,
   "id": "465942e4-3b19-4130-985b-55e671b7af45",
   "metadata": {},
   "outputs": [],
   "source": [
    "gw = []\n",
    "fusions_ergebnisse = []\n",
    "\n",
    "for e in range(0,1001):\n",
    "    sensorwert_s3 = s3.get_sensorwert(e)\n",
    "    sensorwert_s4 = s4.get_sensorwert(e)\n",
    "    \n",
    "    entfernungs_schaetzung_s3 = ism_s3.sensorwert_zu_entfernung( sensorwert_s3 )\n",
    "    entfernungs_schaetzung_s4 = ism_s4.sensorwert_zu_entfernung( sensorwert_s4 )\n",
    "    \n",
    "    # Fall Nr 1.: Nur Sensor 3\n",
    "    fusionierte_finale_entfernungs_schaetzung = entfernungs_schaetzung_s3\n",
    "    \n",
    "    # Fall Nr 2.: Nur Sensor 4\n",
    "    #fusionierte_finale_entfernungs_schaetzung = entfernungs_schaetzung_s4\n",
    "    \n",
    "    # Fall Nr 3. Mittelwertbildung von Sensor 3 und Sensor 4\n",
    "    # fusionierte_finale_entfernungs_schaetzung = (entfernungs_schaetzung_s3 + entfernungs_schaetzung_s4) / 2\n",
    "    \n",
    "    gw.append(e)\n",
    "    fusions_ergebnisse.append( fusionierte_finale_entfernungs_schaetzung )"
   ]
  },
  {
   "cell_type": "code",
   "execution_count": 80,
   "id": "b7674492-4d10-44af-a493-085c7ef95761",
   "metadata": {},
   "outputs": [
    {
     "data": {
      "image/png": "[encoded data removed]",
      "text/plain": [
       "<Figure size 432x288 with 1 Axes>"
      ]
     },
     "metadata": {
      "needs_background": "light"
     },
     "output_type": "display_data"
    }
   ],
   "source": [
    "plt.plot(gw, fusions_ergebnisse)\n",
    "plt.show()"
   ]
  },
  {
   "cell_type": "code",
   "execution_count": 81,
   "id": "7f2cf4c0-5d2a-4ed5-955c-a9cfc2e152bd",
   "metadata": {},
   "outputs": [
    {
     "data": {
      "text/plain": [
       "1.7792207792207793"
      ]
     },
     "execution_count": 81,
     "metadata": {},
     "output_type": "execute_result"
    }
   ],
   "source": [
    "MAE(gw, fusions_ergebnisse)"
   ]
  },
  {
   "cell_type": "markdown",
   "id": "2c26b496-ae78-4bb9-838a-8dcbf8af8035",
   "metadata": {},
   "source": [
    "| Fusionsart  | Ergebnis / MAE [cm] |\n",
    "| ----------- | ----------- |\n",
    "| Nur Sensor3 | 1.78        |\n",
    "| Nur Sensor4 | 7.23        |\n",
    "| Mittelung   | 3.72        |"
   ]
  },
  {
   "cell_type": "markdown",
   "id": "de5a9846-439d-42c6-a093-3c08b530bd81",
   "metadata": {},
   "source": [
    "**Fazit: Auch hier ist die Mittelwertbildung nicht hilfreich!**"
   ]
  },
  {
   "cell_type": "markdown",
   "id": "ae5c79ed-858a-403f-a3b8-52771dbcd64b",
   "metadata": {},
   "source": [
    "# Simulation eines komplexeren Abstandssensors"
   ]
  },
  {
   "cell_type": "markdown",
   "id": "0c730cac-971f-490e-a0fb-c7bc928ad790",
   "metadata": {},
   "source": [
    "## Komplexere Kennlinie erzeugen"
   ]
  },
  {
   "cell_type": "code",
   "execution_count": 82,
   "id": "22a05adc-1722-40dd-becc-59e09395a180",
   "metadata": {},
   "outputs": [
    {
     "data": {
      "image/png": "[encoded data removed]",
      "text/plain": [
       "<Figure size 432x288 with 1 Axes>"
      ]
     },
     "metadata": {
      "needs_background": "light"
     },
     "output_type": "display_data"
    }
   ],
   "source": [
    "import matplotlib.pyplot as plt\n",
    "import numpy\n",
    "bias = -50\n",
    "noise = 20\n",
    "pos = 500\n",
    "gw = []\n",
    "sensorwerte = []\n",
    "for e in range(0,1000):\n",
    "    sensorwert = e + numpy.random.normal(loc=bias, scale=noise) + \\\n",
    "                 50*numpy.sin(e/10) + ((e-pos)/20)**2\n",
    "    gw.append( e )\n",
    "    sensorwerte.append( sensorwert )\n",
    "plt.plot(gw,sensorwerte)\n",
    "plt.show()"
   ]
  },
  {
   "cell_type": "markdown",
   "id": "208bc31b-44c1-4830-84e4-64f7ff24715a",
   "metadata": {},
   "source": [
    "## Neue Sensorklasse"
   ]
  },
  {
   "cell_type": "code",
   "execution_count": 83,
   "id": "9f3c60b1-6065-4349-9f35-025246953b0f",
   "metadata": {},
   "outputs": [],
   "source": [
    "class sensor_complex:\n",
    "    \n",
    "    def __init__(self, bias, noise, pos):\n",
    "        self.bias = bias\n",
    "        self.noise = noise\n",
    "        self.pos = pos\n",
    "        \n",
    "    def get_sensorwert(self, e):\n",
    "        sensorwert = e + numpy.random.normal(loc=self.bias, scale=self.noise) + \\\n",
    "                    50*numpy.sin(e/10) + ((e-self.pos)/20)**2\n",
    "        return sensorwert\n",
    "    \n",
    "    def zeige_sensor_kurve(self):\n",
    "        \n",
    "        sensorwerte = []\n",
    "        for e in range(0,1001):\n",
    "            sensorwert = self.get_sensorwert(e)\n",
    "            sensorwerte.append( sensorwert )\n",
    "            \n",
    "        plt.plot(sensorwerte)\n",
    "        plt.xlabel(\"Tatsächliche Entfernung (cm)\")\n",
    "        plt.ylabel(\"Sensorwert\")\n",
    "        plt.show()       "
   ]
  },
  {
   "cell_type": "code",
   "execution_count": 84,
   "id": "3c3a4a95-8973-4a70-b3bd-e4ef3f3f0a3e",
   "metadata": {},
   "outputs": [
    {
     "data": {
      "image/png": "[encoded data removed]",
      "text/plain": [
       "<Figure size 432x288 with 1 Axes>"
      ]
     },
     "metadata": {
      "needs_background": "light"
     },
     "output_type": "display_data"
    }
   ],
   "source": [
    "s5 = sensor_complex(-50,20,400)\n",
    "s5.zeige_sensor_kurve()"
   ]
  },
  {
   "cell_type": "code",
   "execution_count": 85,
   "id": "1b587afa-8281-4b72-8f69-a06809d66722",
   "metadata": {},
   "outputs": [
    {
     "data": {
      "image/png": "[encoded data removed]",
      "text/plain": [
       "<Figure size 432x288 with 1 Axes>"
      ]
     },
     "metadata": {
      "needs_background": "light"
     },
     "output_type": "display_data"
    }
   ],
   "source": [
    "#s6 = sensor_complex(-50,20,800)\n",
    "s6 = sensor_complex(-50,20,500)\n",
    "s6.zeige_sensor_kurve()"
   ]
  },
  {
   "cell_type": "markdown",
   "id": "ce27e770-b9b2-4c97-9cc5-5e564f9bbd11",
   "metadata": {},
   "source": [
    "# Eine lernende Sensordatenfusion"
   ]
  },
  {
   "cell_type": "markdown",
   "id": "112bbac2-09f6-40b8-b612-5909ce39ae95",
   "metadata": {},
   "source": [
    "## Vorbereiten der Beispieldaten fürs Machine Learning"
   ]
  },
  {
   "cell_type": "code",
   "execution_count": 86,
   "id": "1ac10206-6e71-44a3-be69-558b74caa53e",
   "metadata": {},
   "outputs": [],
   "source": [
    "NR_EXAMPLE_DATA = 5000\n",
    "X = numpy.zeros( (NR_EXAMPLE_DATA,2) )\n",
    "Y = numpy.zeros( (NR_EXAMPLE_DATA,1) )\n",
    "\n",
    "for run in range(0,NR_EXAMPLE_DATA):\n",
    "    e = numpy.random.randint(low=0, high=1000)\n",
    "    sensorwert_s5 = s5.get_sensorwert(e)\n",
    "    sensorwert_s6 = s6.get_sensorwert(e)\n",
    "    \n",
    "    X[run,:] = numpy.array( [sensorwert_s5, sensorwert_s6] )\n",
    "    Y[run,:] = e"
   ]
  },
  {
   "cell_type": "code",
   "execution_count": 87,
   "id": "9a633b26-1d52-4686-8bda-4ba4f72bdfe7",
   "metadata": {},
   "outputs": [
    {
     "data": {
      "text/plain": [
       "array([[ 758.97567919,  676.21798056],\n",
       "       [1733.96960851, 1493.9096579 ],\n",
       "       [1751.16148486, 1489.01822747],\n",
       "       [ 531.75091221,  493.47965199],\n",
       "       [ 227.94109955,  416.99564525]])"
      ]
     },
     "execution_count": 87,
     "metadata": {},
     "output_type": "execute_result"
    }
   ],
   "source": [
    "X[:5]"
   ]
  },
  {
   "cell_type": "code",
   "execution_count": 88,
   "id": "956b84f0-ec8a-4679-ba0c-2b72bddf7bf5",
   "metadata": {},
   "outputs": [
    {
     "data": {
      "text/plain": [
       "array([[636.],\n",
       "       [983.],\n",
       "       [993.],\n",
       "       [555.],\n",
       "       [158.]])"
      ]
     },
     "execution_count": 88,
     "metadata": {},
     "output_type": "execute_result"
    }
   ],
   "source": [
    "Y[:5]"
   ]
  },
  {
   "cell_type": "markdown",
   "id": "f32a89c5-661a-4f77-81c7-0fc4ae703d0a",
   "metadata": {},
   "source": [
    "## Beispieldaten aufspalten in Trainingsdaten- und Testdaten"
   ]
  },
  {
   "cell_type": "code",
   "execution_count": 89,
   "id": "d044dc7b-4253-4790-89a3-23c0378452bc",
   "metadata": {},
   "outputs": [],
   "source": [
    "from sklearn.model_selection import train_test_split\n",
    "\n",
    "x_train, x_test, y_train, y_test = train_test_split(X, Y, test_size=0.2)"
   ]
  },
  {
   "cell_type": "code",
   "execution_count": 90,
   "id": "d86cc38b-5619-490c-ab48-30e541bd9676",
   "metadata": {},
   "outputs": [
    {
     "data": {
      "text/plain": [
       "(4000, 2)"
      ]
     },
     "execution_count": 90,
     "metadata": {},
     "output_type": "execute_result"
    }
   ],
   "source": [
    "x_train.shape"
   ]
  },
  {
   "cell_type": "code",
   "execution_count": 91,
   "id": "22bf6ef5-d7a8-4744-8c5f-8c1f7df59bfc",
   "metadata": {},
   "outputs": [
    {
     "data": {
      "text/plain": [
       "array([[916.],\n",
       "       [442.],\n",
       "       [633.],\n",
       "       ...,\n",
       "       [243.],\n",
       "       [ 28.],\n",
       "       [101.]])"
      ]
     },
     "execution_count": 91,
     "metadata": {},
     "output_type": "execute_result"
    }
   ],
   "source": [
    "y_train"
   ]
  },
  {
   "cell_type": "code",
   "execution_count": 92,
   "id": "cabfc1fb-222f-41ae-b7d8-1559558aecbb",
   "metadata": {},
   "outputs": [
    {
     "name": "stdout",
     "output_type": "stream",
     "text": [
      "[1507.86514867 1259.01509008] --> [916.]\n"
     ]
    }
   ],
   "source": [
    "print( x_train[0], \"-->\", y_train[0] )"
   ]
  },
  {
   "cell_type": "code",
   "execution_count": 93,
   "id": "4292f2c9-b277-4708-9c86-5c10886a5148",
   "metadata": {},
   "outputs": [
    {
     "data": {
      "text/plain": [
       "(1000, 2)"
      ]
     },
     "execution_count": 93,
     "metadata": {},
     "output_type": "execute_result"
    }
   ],
   "source": [
    "x_test.shape"
   ]
  },
  {
   "cell_type": "code",
   "execution_count": 94,
   "id": "4d174d78-39c3-464a-8c09-b419d3a676e4",
   "metadata": {},
   "outputs": [
    {
     "data": {
      "text/plain": [
       "(1000, 1)"
      ]
     },
     "execution_count": 94,
     "metadata": {},
     "output_type": "execute_result"
    }
   ],
   "source": [
    "y_test.shape"
   ]
  },
  {
   "cell_type": "markdown",
   "id": "94abc155-9672-4e76-a3a0-47fd59145245",
   "metadata": {},
   "source": [
    "## Machine Learning mittels scikit-learn"
   ]
  },
  {
   "cell_type": "code",
   "execution_count": 95,
   "id": "6e8ec32b-55fb-4ebb-a318-936ee5e32212",
   "metadata": {},
   "outputs": [],
   "source": [
    "from sklearn.neighbors import KNeighborsRegressor\n",
    "model = KNeighborsRegressor(n_neighbors=3, weights=\"uniform\")\n",
    "\n",
    "\n",
    "#from sklearn import tree\n",
    "#model = tree.DecisionTreeRegressor()\n",
    "\n",
    "model = model.fit(x_train, y_train)"
   ]
  },
  {
   "cell_type": "markdown",
   "id": "c1634211-f6a9-4f87-936b-c49e0e179ed2",
   "metadata": {},
   "source": [
    "## Testen der Modellgüte"
   ]
  },
  {
   "cell_type": "code",
   "execution_count": 96,
   "id": "c650d8d5-9a2b-4d70-83b0-d72ba362afa8",
   "metadata": {},
   "outputs": [
    {
     "data": {
      "text/plain": [
       "array([214.92514233, 890.9374075 ])"
      ]
     },
     "execution_count": 96,
     "metadata": {},
     "output_type": "execute_result"
    }
   ],
   "source": [
    "input_vec = numpy.array( [214.92514233,  890.9374075] )\n",
    "input_vec"
   ]
  },
  {
   "cell_type": "code",
   "execution_count": 97,
   "id": "36fc106e-c160-4e25-b522-96c8b7f6a2b3",
   "metadata": {},
   "outputs": [
    {
     "data": {
      "text/plain": [
       "numpy.ndarray"
      ]
     },
     "execution_count": 97,
     "metadata": {},
     "output_type": "execute_result"
    }
   ],
   "source": [
    "type(input_vec)"
   ]
  },
  {
   "cell_type": "code",
   "execution_count": 98,
   "id": "0aab65a4-45b7-4cd7-9f02-8c39dc6fabbb",
   "metadata": {},
   "outputs": [
    {
     "data": {
      "text/plain": [
       "(2,)"
      ]
     },
     "execution_count": 98,
     "metadata": {},
     "output_type": "execute_result"
    }
   ],
   "source": [
    "input_vec.shape"
   ]
  },
  {
   "cell_type": "code",
   "execution_count": 99,
   "id": "70e758d6-ebbf-4c53-b435-c05a1b6c06a1",
   "metadata": {},
   "outputs": [
    {
     "data": {
      "text/plain": [
       "1"
      ]
     },
     "execution_count": 99,
     "metadata": {},
     "output_type": "execute_result"
    }
   ],
   "source": [
    "input_vec.ndim"
   ]
  },
  {
   "cell_type": "code",
   "execution_count": 100,
   "id": "9e364f4f-0818-451e-865d-b35908af56f1",
   "metadata": {},
   "outputs": [
    {
     "data": {
      "text/plain": [
       "array([[214.92514233, 890.9374075 ]])"
      ]
     },
     "execution_count": 100,
     "metadata": {},
     "output_type": "execute_result"
    }
   ],
   "source": [
    "input_vec.reshape((1,2))"
   ]
  },
  {
   "cell_type": "code",
   "execution_count": 101,
   "id": "b0ab912e-3933-461e-a1fc-3d6d403a38eb",
   "metadata": {},
   "outputs": [
    {
     "data": {
      "text/plain": [
       "array([[15.]])"
      ]
     },
     "execution_count": 101,
     "metadata": {},
     "output_type": "execute_result"
    }
   ],
   "source": [
    "model.predict( input_vec.reshape(1,2) )"
   ]
  },
  {
   "cell_type": "code",
   "execution_count": 102,
   "id": "7e4b1949-2b65-4e6b-8d8f-9d28b80c8b26",
   "metadata": {},
   "outputs": [
    {
     "data": {
      "text/plain": [
       "(1000, 2)"
      ]
     },
     "execution_count": 102,
     "metadata": {},
     "output_type": "execute_result"
    }
   ],
   "source": [
    "x_test.shape"
   ]
  },
  {
   "cell_type": "code",
   "execution_count": 103,
   "id": "4a97f1a1-4d17-4631-9c7b-77e2aa4e07c8",
   "metadata": {},
   "outputs": [
    {
     "data": {
      "text/plain": [
       "(1000, 1)"
      ]
     },
     "execution_count": 103,
     "metadata": {},
     "output_type": "execute_result"
    }
   ],
   "source": [
    "y_test.shape"
   ]
  },
  {
   "cell_type": "code",
   "execution_count": 104,
   "id": "79531da8-b0e7-4a7f-9dfc-e210160cf21e",
   "metadata": {},
   "outputs": [],
   "source": [
    "preds = model.predict( x_test )"
   ]
  },
  {
   "cell_type": "code",
   "execution_count": 105,
   "id": "4836ca8d-24ae-4739-ae9e-eaec725f434d",
   "metadata": {},
   "outputs": [
    {
     "data": {
      "text/plain": [
       "array([[923.        ],\n",
       "       [153.        ],\n",
       "       [735.33333333],\n",
       "       [871.33333333],\n",
       "       [ 64.        ],\n",
       "       [484.33333333],\n",
       "       [365.33333333],\n",
       "       [194.33333333],\n",
       "       [551.66666667],\n",
       "       [842.66666667]])"
      ]
     },
     "execution_count": 105,
     "metadata": {},
     "output_type": "execute_result"
    }
   ],
   "source": [
    "preds[:10]"
   ]
  },
  {
   "cell_type": "code",
   "execution_count": 106,
   "id": "cb42531a-b97d-4b6d-898c-e9c44c1858b0",
   "metadata": {},
   "outputs": [
    {
     "data": {
      "text/plain": [
       "array([[898.],\n",
       "       [198.],\n",
       "       [719.],\n",
       "       [872.],\n",
       "       [ 63.],\n",
       "       [492.],\n",
       "       [246.],\n",
       "       [122.],\n",
       "       [542.],\n",
       "       [846.]])"
      ]
     },
     "execution_count": 106,
     "metadata": {},
     "output_type": "execute_result"
    }
   ],
   "source": [
    "y_test[:10]"
   ]
  },
  {
   "cell_type": "code",
   "execution_count": 107,
   "id": "907c913a-2f5a-414c-bd8a-44423b51e69b",
   "metadata": {},
   "outputs": [
    {
     "data": {
      "image/png": "[encoded data removed]",
      "text/plain": [
       "<Figure size 432x288 with 1 Axes>"
      ]
     },
     "metadata": {
      "needs_background": "light"
     },
     "output_type": "display_data"
    }
   ],
   "source": [
    "plt.scatter(y_test, preds, marker=\".\")\n",
    "plt.show()"
   ]
  },
  {
   "cell_type": "code",
   "execution_count": 108,
   "id": "f18f2507-7aac-4d09-b516-300d5df3c746",
   "metadata": {},
   "outputs": [
    {
     "data": {
      "text/plain": [
       "24.982333333333333"
      ]
     },
     "execution_count": 108,
     "metadata": {},
     "output_type": "execute_result"
    }
   ],
   "source": [
    "MAE(y_test, preds)"
   ]
  },
  {
   "cell_type": "markdown",
   "id": "ca9e7377-c9e7-469d-a3ad-a97be423ed68",
   "metadata": {},
   "source": [
    "# Lernende Ansätze zur Sensordatenfusion bei unterschiedlichen Ranges"
   ]
  },
  {
   "cell_type": "markdown",
   "id": "6abe8543-90be-48b2-8d69-3ed1197bc921",
   "metadata": {},
   "source": [
    "## Neue Sensorklasse mit Rangeangabe"
   ]
  },
  {
   "cell_type": "code",
   "execution_count": 178,
   "id": "e0a0b2ed-eac7-45f8-b1c2-651505666bae",
   "metadata": {},
   "outputs": [],
   "source": [
    "class sensor_complex_range:\n",
    "    \n",
    "    def __init__(self, bias, noise, pos, fac):\n",
    "        self.bias = bias\n",
    "        self.noise = noise\n",
    "        self.pos = pos\n",
    "        self.fac = fac\n",
    "        \n",
    "    def get_sensorwert(self, e):\n",
    "        sensorwert = self.fac * (e + numpy.random.normal(loc=self.bias, scale=self.noise) + \\\n",
    "                    50*numpy.sin(e/10) + ((e-self.pos)/20)**2)\n",
    "        return sensorwert\n",
    "    \n",
    "    def zeige_sensor_kurve(self):\n",
    "        \n",
    "        sensorwerte = []\n",
    "        for e in range(0,1001):\n",
    "            sensorwert = self.get_sensorwert(e)\n",
    "            sensorwerte.append( sensorwert )\n",
    "            \n",
    "        plt.plot(sensorwerte)\n",
    "        plt.xlabel(\"Tatsächliche Entfernung (cm)\")\n",
    "        plt.ylabel(\"Sensorwert\")\n",
    "        plt.show()  "
   ]
  },
  {
   "cell_type": "code",
   "execution_count": 183,
   "id": "0b5221dc-2b7b-43af-8b1f-4698047347ae",
   "metadata": {},
   "outputs": [],
   "source": [
    "s7 = sensor_complex_range(-50,20,400,1)\n",
    "s8 = sensor_complex_range(-50,20,800,1)"
   ]
  },
  {
   "cell_type": "code",
   "execution_count": 184,
   "id": "03b4945e-7de8-4b9b-9867-2f21d665570a",
   "metadata": {},
   "outputs": [
    {
     "data": {
      "image/png": "[encoded data removed]",
      "text/plain": [
       "<Figure size 432x288 with 1 Axes>"
      ]
     },
     "metadata": {
      "needs_background": "light"
     },
     "output_type": "display_data"
    }
   ],
   "source": [
    "s7.zeige_sensor_kurve()"
   ]
  },
  {
   "cell_type": "code",
   "execution_count": 185,
   "id": "9f1b84bf-396a-4f41-8dad-755a7dc0a78b",
   "metadata": {},
   "outputs": [
    {
     "data": {
      "image/png": "[encoded data removed]",
      "text/plain": [
       "<Figure size 432x288 with 1 Axes>"
      ]
     },
     "metadata": {
      "needs_background": "light"
     },
     "output_type": "display_data"
    }
   ],
   "source": [
    "s8.zeige_sensor_kurve()"
   ]
  },
  {
   "cell_type": "markdown",
   "id": "235231a7-575f-42ff-a231-4406f9de10b8",
   "metadata": {},
   "source": [
    "## Machine Learning Reloaded"
   ]
  },
  {
   "cell_type": "code",
   "execution_count": 186,
   "id": "599cd3c1-7595-4dba-931c-4e768534f0b7",
   "metadata": {},
   "outputs": [
    {
     "data": {
      "image/png": "[encoded data removed]",
      "text/plain": [
       "<Figure size 432x288 with 1 Axes>"
      ]
     },
     "metadata": {
      "needs_background": "light"
     },
     "output_type": "display_data"
    },
    {
     "name": "stdout",
     "output_type": "stream",
     "text": [
      "MAE= 8.565\n"
     ]
    }
   ],
   "source": [
    "# 1. Beispieldaten fürs ML vorbereiten\n",
    "NR_EXAMPLE_DATA = 5000\n",
    "X = numpy.zeros( (NR_EXAMPLE_DATA,2) )\n",
    "Y = numpy.zeros( (NR_EXAMPLE_DATA,1) )\n",
    "\n",
    "for run in range(0,NR_EXAMPLE_DATA):\n",
    "    e = numpy.random.randint(low=0, high=1000)\n",
    "    sensorwert_s7 = s7.get_sensorwert(e)\n",
    "    sensorwert_s8 = s8.get_sensorwert(e)\n",
    "    \n",
    "    X[run,:] = numpy.array( [sensorwert_s7, sensorwert_s8] )\n",
    "    Y[run,:] = e\n",
    "    \n",
    "\n",
    "# 2. Beispieldaten in Trainings- und Testdaten aufspalten\n",
    "from sklearn.model_selection import train_test_split\n",
    "x_train, x_test, y_train, y_test = train_test_split(X, Y, test_size=0.2,\n",
    "                                                    random_state=0)\n",
    "\n",
    "\n",
    "# 3. Model erlernen\n",
    "from sklearn.neighbors import KNeighborsRegressor\n",
    "model = KNeighborsRegressor(n_neighbors=3, weights=\"uniform\")\n",
    "model = model.fit(x_train, y_train)\n",
    "\n",
    "# 4. Modellgüte bestimmen\n",
    "preds = model.predict( x_test )\n",
    "plt.scatter(y_test, preds, marker=\".\")\n",
    "plt.show()\n",
    "print( \"MAE=\", MAE(y_test, preds) )"
   ]
  },
  {
   "cell_type": "markdown",
   "id": "c141ae59-6577-4120-a37a-9851c8f43338",
   "metadata": {},
   "source": [
    "## Normalisierung"
   ]
  },
  {
   "cell_type": "code",
   "execution_count": 118,
   "id": "23d473a0-917f-4fdf-92f9-e976449b2bd3",
   "metadata": {},
   "outputs": [],
   "source": [
    "D = numpy.array( [[-20, -2],\n",
    "                  [-10, -1],\n",
    "                  [  0,  0],\n",
    "                  [+10,+ 1]])"
   ]
  },
  {
   "cell_type": "code",
   "execution_count": 119,
   "id": "f97e2f09-8f91-4562-b91d-734073a00dea",
   "metadata": {},
   "outputs": [
    {
     "data": {
      "text/plain": [
       "array([[-20,  -2],\n",
       "       [-10,  -1],\n",
       "       [  0,   0],\n",
       "       [ 10,   1]])"
      ]
     },
     "execution_count": 119,
     "metadata": {},
     "output_type": "execute_result"
    }
   ],
   "source": [
    "D"
   ]
  },
  {
   "cell_type": "code",
   "execution_count": 121,
   "id": "b3de70e0-f5cc-4a72-8260-7e3252e077a9",
   "metadata": {},
   "outputs": [
    {
     "data": {
      "text/plain": [
       "-5.0"
      ]
     },
     "execution_count": 121,
     "metadata": {},
     "output_type": "execute_result"
    }
   ],
   "source": [
    "numpy.mean( D[:,0] )"
   ]
  },
  {
   "cell_type": "code",
   "execution_count": 123,
   "id": "a7543ef1-66ad-49fb-93a9-0f4aba46673d",
   "metadata": {},
   "outputs": [
    {
     "data": {
      "text/plain": [
       "11.180339887498949"
      ]
     },
     "execution_count": 123,
     "metadata": {},
     "output_type": "execute_result"
    }
   ],
   "source": [
    "numpy.std( D[:,0] )"
   ]
  },
  {
   "cell_type": "code",
   "execution_count": 187,
   "id": "7a40e74f-b9c1-4b7c-99b8-2bb0eb912561",
   "metadata": {},
   "outputs": [],
   "source": [
    "from sklearn.preprocessing import StandardScaler\n",
    "scaler = StandardScaler()\n",
    "D_std_scaled = scaler.fit_transform(D)"
   ]
  },
  {
   "cell_type": "code",
   "execution_count": 188,
   "id": "1324c54f-f21e-4e71-a19d-d378f1b04aa9",
   "metadata": {},
   "outputs": [
    {
     "data": {
      "text/plain": [
       "array([[-1.34164079, -1.34164079],\n",
       "       [-0.4472136 , -0.4472136 ],\n",
       "       [ 0.4472136 ,  0.4472136 ],\n",
       "       [ 1.34164079,  1.34164079]])"
      ]
     },
     "execution_count": 188,
     "metadata": {},
     "output_type": "execute_result"
    }
   ],
   "source": [
    "D_std_scaled"
   ]
  },
  {
   "cell_type": "code",
   "execution_count": 189,
   "id": "6063e9c1-db7b-494f-9538-66d3c9573b2a",
   "metadata": {},
   "outputs": [
    {
     "data": {
      "text/plain": [
       "1.0"
      ]
     },
     "execution_count": 189,
     "metadata": {},
     "output_type": "execute_result"
    }
   ],
   "source": [
    "numpy.std( D_std_scaled[:,1] )"
   ]
  },
  {
   "cell_type": "code",
   "execution_count": 190,
   "id": "0864af7a-4262-487b-9e81-bc5dd2ee2f93",
   "metadata": {},
   "outputs": [
    {
     "data": {
      "text/plain": [
       "0.0"
      ]
     },
     "execution_count": 190,
     "metadata": {},
     "output_type": "execute_result"
    }
   ],
   "source": [
    "numpy.mean( D_std_scaled[:,1] )"
   ]
  },
  {
   "cell_type": "code",
   "execution_count": 191,
   "id": "eb134612-65ac-475c-a6be-35d847149458",
   "metadata": {},
   "outputs": [],
   "source": [
    "from sklearn.preprocessing import MinMaxScaler\n",
    "scaler = MinMaxScaler()\n",
    "D_minmax_scaled = scaler.fit_transform(D)"
   ]
  },
  {
   "cell_type": "code",
   "execution_count": 192,
   "id": "6e2326d4-049e-483a-92d4-9f13f1e73f6f",
   "metadata": {},
   "outputs": [
    {
     "data": {
      "text/plain": [
       "array([[0.        , 0.        ],\n",
       "       [0.33333333, 0.33333333],\n",
       "       [0.66666667, 0.66666667],\n",
       "       [1.        , 1.        ]])"
      ]
     },
     "execution_count": 192,
     "metadata": {},
     "output_type": "execute_result"
    }
   ],
   "source": [
    "D_minmax_scaled"
   ]
  },
  {
   "cell_type": "code",
   "execution_count": 193,
   "id": "a1ff12cf-3d12-48b1-b575-62bc73a15153",
   "metadata": {},
   "outputs": [
    {
     "data": {
      "text/plain": [
       "array([[-20,  -2],\n",
       "       [-10,  -1],\n",
       "       [  0,   0],\n",
       "       [ 10,   1]])"
      ]
     },
     "execution_count": 193,
     "metadata": {},
     "output_type": "execute_result"
    }
   ],
   "source": [
    "D"
   ]
  },
  {
   "cell_type": "code",
   "execution_count": null,
   "id": "cbdeb129-87c7-4fbd-9297-2baabd74b40b",
   "metadata": {},
   "outputs": [],
   "source": []
  },
  {
   "cell_type": "code",
   "execution_count": null,
   "id": "ae242c52-965d-4c31-a5b8-745f2bdd503c",
   "metadata": {},
   "outputs": [],
   "source": []
  },
  {
   "cell_type": "markdown",
   "id": "b744be45-bb74-4677-8fa3-46e1b3966c9f",
   "metadata": {},
   "source": [
    "## Jetzt ML mit Skalierung der Sensordaten"
   ]
  },
  {
   "cell_type": "code",
   "execution_count": 210,
   "id": "f4b223fb-4e54-48a8-aa94-53bb659d2463",
   "metadata": {},
   "outputs": [],
   "source": [
    "def experiment_with_scaling(scaling_method, diagrams=False):\n",
    "    \n",
    "    # 1. Beispieldaten fürs ML vorbereiten\n",
    "    NR_EXAMPLE_DATA = 5000\n",
    "    X = numpy.zeros( (NR_EXAMPLE_DATA,2) )\n",
    "    Y = numpy.zeros( (NR_EXAMPLE_DATA,1) )\n",
    "\n",
    "    for run in range(0,NR_EXAMPLE_DATA):\n",
    "        e = numpy.random.randint(low=0, high=1000)\n",
    "        sensorwert_s7 = s7.get_sensorwert(e)\n",
    "        sensorwert_s8 = s8.get_sensorwert(e)\n",
    "\n",
    "        X[run,:] = numpy.array( [sensorwert_s7, sensorwert_s8] )\n",
    "        Y[run,:] = e\n",
    "\n",
    "\n",
    "    # 2. Beispieldaten in Trainings- und Testdaten aufspalten\n",
    "    from sklearn.model_selection import train_test_split\n",
    "    x_train, x_test, y_train, y_test = train_test_split(X, Y, test_size=0.2,\n",
    "                                                        random_state=0)\n",
    "\n",
    "    # 3. Skalierung der Traininsdaten\n",
    "    if scaling_method == \"standard\":\n",
    "        from sklearn.preprocessing import StandardScaler\n",
    "        scaler = StandardScaler()\n",
    "    elif scaling_method == \"minmax\":\n",
    "        from sklearn.preprocessing import MinMaxScaler\n",
    "        scaler = MinMaxScaler()\n",
    "    x_train_scaled = scaler.fit_transform( x_train )\n",
    "\n",
    "    # 4. Model erlernen\n",
    "    from sklearn.neighbors import KNeighborsRegressor\n",
    "    model = KNeighborsRegressor(n_neighbors=3, weights=\"uniform\")\n",
    "    model = model.fit(x_train_scaled, y_train)\n",
    "\n",
    "    # 5. Modellgüte bestimmen\n",
    "    x_test_scaled = scaler.transform( x_test )\n",
    "    preds = model.predict( x_test_scaled )\n",
    "    if diagrams:\n",
    "        plt.scatter(y_test, preds, marker=\".\")\n",
    "        plt.show()\n",
    "    fehler = MAE(y_test, preds)\n",
    "    print( f\"{scaling_method} --> MAE=\", fehler )\n",
    "    \n",
    "    return fehler"
   ]
  },
  {
   "cell_type": "code",
   "execution_count": 211,
   "id": "1fdad97e-bb37-4e11-8ca9-f67c88d3878c",
   "metadata": {},
   "outputs": [
    {
     "name": "stdout",
     "output_type": "stream",
     "text": [
      "standard --> MAE= 8.915333333333333\n",
      "standard --> MAE= 8.424333333333331\n",
      "standard --> MAE= 8.701333333333334\n",
      "standard --> MAE= 8.455\n",
      "standard --> MAE= 8.897666666666668\n",
      "standard --> MAE= 8.633666666666668\n",
      "standard --> MAE= 8.818666666666665\n",
      "standard --> MAE= 8.659333333333336\n",
      "standard --> MAE= 9.385333333333332\n",
      "standard --> MAE= 8.677\n",
      "standard --> MAE= 8.448333333333334\n",
      "standard --> MAE= 8.550333333333333\n",
      "standard --> MAE= 8.556\n",
      "standard --> MAE= 8.902666666666667\n",
      "standard --> MAE= 8.400333333333334\n",
      "standard --> MAE= 8.675333333333334\n",
      "standard --> MAE= 7.927333333333334\n",
      "standard --> MAE= 8.734333333333336\n",
      "standard --> MAE= 9.006666666666668\n",
      "standard --> MAE= 8.472666666666667\n",
      "standard --> MAE= 8.597666666666667\n",
      "standard --> MAE= 9.217\n",
      "standard --> MAE= 8.353333333333332\n",
      "standard --> MAE= 9.179\n",
      "standard --> MAE= 8.563\n",
      "standard --> MAE= 8.738333333333332\n",
      "standard --> MAE= 8.756333333333332\n",
      "standard --> MAE= 8.611666666666665\n",
      "standard --> MAE= 8.760333333333334\n",
      "standard --> MAE= 9.143\n",
      "standard --> MAE= 8.262666666666668\n",
      "standard --> MAE= 8.762666666666668\n",
      "standard --> MAE= 8.517333333333333\n",
      "standard --> MAE= 8.749\n",
      "standard --> MAE= 8.319666666666668\n",
      "standard --> MAE= 8.511666666666667\n",
      "standard --> MAE= 9.022999999999998\n",
      "standard --> MAE= 8.385\n",
      "standard --> MAE= 8.532333333333334\n",
      "standard --> MAE= 8.248000000000001\n",
      "standard --> MAE= 9.168333333333333\n",
      "standard --> MAE= 8.585666666666667\n",
      "standard --> MAE= 8.217333333333336\n",
      "standard --> MAE= 8.776666666666667\n",
      "standard --> MAE= 9.05\n",
      "standard --> MAE= 8.710666666666668\n",
      "standard --> MAE= 8.219333333333333\n",
      "standard --> MAE= 8.423666666666666\n",
      "standard --> MAE= 9.016000000000002\n",
      "standard --> MAE= 8.841333333333331\n",
      "Exp. average for standard: 8.669633333333335\n",
      "minmax --> MAE= 8.316\n",
      "minmax --> MAE= 8.663666666666666\n",
      "minmax --> MAE= 8.411333333333333\n",
      "minmax --> MAE= 8.715333333333334\n",
      "minmax --> MAE= 8.946666666666667\n",
      "minmax --> MAE= 8.371333333333336\n",
      "minmax --> MAE= 8.756000000000002\n",
      "minmax --> MAE= 8.813333333333334\n",
      "minmax --> MAE= 8.883666666666668\n",
      "minmax --> MAE= 8.743333333333334\n",
      "minmax --> MAE= 8.381666666666668\n",
      "minmax --> MAE= 8.042333333333334\n",
      "minmax --> MAE= 8.738333333333333\n",
      "minmax --> MAE= 8.582333333333334\n",
      "minmax --> MAE= 8.698\n",
      "minmax --> MAE= 8.823333333333336\n",
      "minmax --> MAE= 8.714\n",
      "minmax --> MAE= 9.062666666666667\n",
      "minmax --> MAE= 9.021333333333335\n",
      "minmax --> MAE= 8.851\n",
      "minmax --> MAE= 8.744\n",
      "minmax --> MAE= 9.072\n",
      "minmax --> MAE= 8.815333333333331\n",
      "minmax --> MAE= 8.274666666666668\n",
      "minmax --> MAE= 8.338\n",
      "minmax --> MAE= 8.496\n",
      "minmax --> MAE= 8.574666666666664\n",
      "minmax --> MAE= 8.907666666666668\n",
      "minmax --> MAE= 8.962333333333335\n",
      "minmax --> MAE= 9.219666666666667\n",
      "minmax --> MAE= 8.743333333333332\n",
      "minmax --> MAE= 9.016333333333334\n",
      "minmax --> MAE= 8.431333333333333\n",
      "minmax --> MAE= 8.294333333333336\n",
      "minmax --> MAE= 8.815333333333333\n",
      "minmax --> MAE= 9.375\n",
      "minmax --> MAE= 8.922333333333333\n",
      "minmax --> MAE= 8.628000000000002\n",
      "minmax --> MAE= 8.715666666666666\n",
      "minmax --> MAE= 8.619333333333334\n",
      "minmax --> MAE= 8.630666666666668\n",
      "minmax --> MAE= 8.761333333333335\n",
      "minmax --> MAE= 8.581666666666667\n",
      "minmax --> MAE= 8.803\n",
      "minmax --> MAE= 8.378333333333332\n",
      "minmax --> MAE= 8.826666666666668\n",
      "minmax --> MAE= 8.253666666666668\n",
      "minmax --> MAE= 8.991333333333332\n",
      "minmax --> MAE= 8.492666666666667\n",
      "minmax --> MAE= 8.366\n",
      "Exp. average for minmax: 8.691726666666666\n"
     ]
    }
   ],
   "source": [
    "for scaling_method in [\"standard\", \"minmax\"]:\n",
    "    alle_fehler = []\n",
    "    for run in range(50):\n",
    "        fehler = experiment_with_scaling( scaling_method )\n",
    "        alle_fehler.append( fehler )\n",
    "    exp_avg = numpy.mean( alle_fehler )\n",
    "    print( f\"Exp. average for {scaling_method}: {exp_avg}\" )"
   ]
  },
  {
   "cell_type": "code",
   "execution_count": null,
   "id": "b5706f8e-3e5d-4b04-b077-bef7194127d7",
   "metadata": {},
   "outputs": [],
   "source": []
  },
  {
   "cell_type": "code",
   "execution_count": null,
   "id": "8b196698-879f-46d1-b84c-0b6081ec6982",
   "metadata": {},
   "outputs": [],
   "source": []
  },
  {
   "cell_type": "code",
   "execution_count": null,
   "id": "9f62597b-1ee5-4b07-8258-f7b2522b4f99",
   "metadata": {},
   "outputs": [],
   "source": []
  },
  {
   "cell_type": "markdown",
   "id": "4232126c-df47-4c12-b9c0-11d05c43bb5e",
   "metadata": {},
   "source": [
    "# Mehrere Sensoren erzeugen"
   ]
  },
  {
   "cell_type": "code",
   "execution_count": 141,
   "id": "30d6e703-77fd-449a-8e42-b43b0a46c6d4",
   "metadata": {},
   "outputs": [
    {
     "data": {
      "text/plain": [
       "(70.7917840796654, 80.67816186033863, 828.1408094413662, 35.80090580442378)"
      ]
     },
     "execution_count": 141,
     "metadata": {},
     "output_type": "execute_result"
    }
   ],
   "source": [
    "bias = numpy.random.uniform(low=-100, high=100)\n",
    "var  = numpy.random.uniform(low=1, high=100)\n",
    "pos  = numpy.random.uniform(low=1, high=1000)\n",
    "fac  = numpy.random.uniform(low=1, high=100)\n",
    "bias, var, pos, fac"
   ]
  },
  {
   "cell_type": "code",
   "execution_count": 145,
   "id": "2b19b01d-17f0-45b7-adc7-99ae47c2b1cc",
   "metadata": {},
   "outputs": [
    {
     "data": {
      "image/png": "[encoded data removed]",
      "text/plain": [
       "<Figure size 432x288 with 1 Axes>"
      ]
     },
     "metadata": {
      "needs_background": "light"
     },
     "output_type": "display_data"
    },
    {
     "data": {
      "image/png": "[encoded data removed]",
      "text/plain": [
       "<Figure size 432x288 with 1 Axes>"
      ]
     },
     "metadata": {
      "needs_background": "light"
     },
     "output_type": "display_data"
    },
    {
     "data": {
      "image/png": "[encoded data removed]",
      "text/plain": [
       "<Figure size 432x288 with 1 Axes>"
      ]
     },
     "metadata": {
      "needs_background": "light"
     },
     "output_type": "display_data"
    }
   ],
   "source": [
    "nr_sensors = 3\n",
    "for sensor_nr in range(nr_sensors):\n",
    "    bias = numpy.random.uniform(low=-100, high=100)\n",
    "    std  = numpy.random.uniform(low=1, high=100)\n",
    "    pos  = numpy.random.uniform(low=1, high=1000)\n",
    "    fac  = numpy.random.uniform(low=1, high=100)\n",
    "    s = sensor_complex_range(bias, std, pos, fac)\n",
    "    s.zeige_sensor_kurve()"
   ]
  },
  {
   "cell_type": "code",
   "execution_count": 146,
   "id": "b74109b3-af32-4d8a-b71a-f38291c0a8d9",
   "metadata": {},
   "outputs": [],
   "source": [
    "def erzeuge_sensoren(nr_sensors, diagrams=True):\n",
    "    \n",
    "    sensors = []\n",
    "    for sensor_nr in range(nr_sensors):\n",
    "        bias = numpy.random.uniform(low=-100, high=100)\n",
    "        std  = numpy.random.uniform(low=1, high=100)\n",
    "        pos  = numpy.random.uniform(low=1, high=1000)\n",
    "        fac  = numpy.random.uniform(low=1, high=100)\n",
    "        s = sensor_complex_range(bias, std, pos, fac)\n",
    "        if diagrams:\n",
    "            s.zeige_sensor_kurve()\n",
    "        sensors.append( s )\n",
    "        \n",
    "    return sensors"
   ]
  },
  {
   "cell_type": "code",
   "execution_count": 149,
   "id": "36229be1-06bf-4e2d-98c5-a2278ae2b01f",
   "metadata": {},
   "outputs": [
    {
     "data": {
      "image/png": "[encoded data removed]",
      "text/plain": [
       "<Figure size 432x288 with 1 Axes>"
      ]
     },
     "metadata": {
      "needs_background": "light"
     },
     "output_type": "display_data"
    },
    {
     "data": {
      "image/png": "[encoded data removed]",
      "text/plain": [
       "<Figure size 432x288 with 1 Axes>"
      ]
     },
     "metadata": {
      "needs_background": "light"
     },
     "output_type": "display_data"
    },
    {
     "data": {
      "text/plain": [
       "[<__main__.sensor_complex_range at 0x7f2274d6f460>,\n",
       " <__main__.sensor_complex_range at 0x7f2274e060a0>]"
      ]
     },
     "execution_count": 149,
     "metadata": {},
     "output_type": "execute_result"
    }
   ],
   "source": [
    "erzeuge_sensoren(2)"
   ]
  },
  {
   "cell_type": "markdown",
   "id": "8753b3b6-f215-48f7-bbed-1a0521769e78",
   "metadata": {},
   "source": [
    "# Sensordatenfusion mit steigender Anzahl von Sensoren"
   ]
  },
  {
   "cell_type": "markdown",
   "id": "8ac2f135-066c-4e77-887b-c6e8f263d825",
   "metadata": {},
   "source": [
    "## Eine Experimentfunktion"
   ]
  },
  {
   "cell_type": "code",
   "execution_count": 165,
   "id": "5860227f-2ebd-4760-bdd3-74ce1d89c105",
   "metadata": {},
   "outputs": [],
   "source": [
    "def experiment(nr_sensors, diagrams=False):\n",
    "    \n",
    "    # 1. Erzeuge Sensoren\n",
    "    sensors = erzeuge_sensoren(nr_sensors, diagrams)\n",
    "    \n",
    "    # 2. Beispieldaten fürs ML vorbereiten\n",
    "    NR_EXAMPLE_DATA = 5000\n",
    "    X = numpy.zeros( (NR_EXAMPLE_DATA,nr_sensors) )\n",
    "    Y = numpy.zeros( (NR_EXAMPLE_DATA,1) )\n",
    "\n",
    "    for run in range(0,NR_EXAMPLE_DATA):\n",
    "        e = numpy.random.randint(low=0, high=1000)\n",
    "        \n",
    "        for sensor_nr, sensor in enumerate(sensors):\n",
    "            sensorwert = sensor.get_sensorwert(e)\n",
    "            X[run,sensor_nr] = sensorwert\n",
    "        \n",
    "        Y[run,:] = e\n",
    "\n",
    "\n",
    "    # 3. Beispieldaten in Trainings- und Testdaten aufspalten\n",
    "    from sklearn.model_selection import train_test_split\n",
    "    x_train, x_test, y_train, y_test = train_test_split(X, Y, test_size=0.2,\n",
    "                                                        random_state=0)\n",
    "\n",
    "    # 4. Skalierung der Traininsdaten\n",
    "    from sklearn.preprocessing import StandardScaler\n",
    "    scaler = StandardScaler()\n",
    "    x_train_scaled = scaler.fit_transform( x_train )\n",
    "    \n",
    "\n",
    "    # 5. Model erlernen\n",
    "    from sklearn.neighbors import KNeighborsRegressor\n",
    "    model = KNeighborsRegressor(n_neighbors=3, weights=\"uniform\")\n",
    "    model = model.fit(x_train_scaled, y_train)\n",
    "\n",
    "    # 6. Modellgüte bestimmen\n",
    "    x_test_scaled = scaler.transform( x_test )\n",
    "    preds = model.predict( x_test_scaled )\n",
    "    \n",
    "    # 7. Scatterplot anzeigen?\n",
    "    if diagrams:\n",
    "        plt.scatter(y_test, preds, marker=\".\")\n",
    "        plt.show()\n",
    "    \n",
    "    # 8. Fehler berechnen = Modellgüte ermitteln\n",
    "    fehler = MAE(y_test, preds)\n",
    "    print( f\"nr_sensors={nr_sensors} --> MAE = {fehler:.2f}cm\" )\n",
    "    \n",
    "    return fehler"
   ]
  },
  {
   "cell_type": "code",
   "execution_count": 163,
   "id": "857cbfea-4b9b-4bff-bb49-4843b27836a9",
   "metadata": {},
   "outputs": [
    {
     "name": "stdout",
     "output_type": "stream",
     "text": [
      "nr_sensors=2 --> MAE = 46.50cm\n"
     ]
    }
   ],
   "source": [
    "experiment(2)"
   ]
  },
  {
   "cell_type": "markdown",
   "id": "d8fb6e3c-1083-40df-92bc-c8c9bb031cba",
   "metadata": {},
   "source": [
    "## Mehrere Experimente durchführen"
   ]
  },
  {
   "cell_type": "code",
   "execution_count": 173,
   "id": "98fb8ce7-b607-4696-89db-87a5792ce9e3",
   "metadata": {},
   "outputs": [
    {
     "name": "stdout",
     "output_type": "stream",
     "text": [
      "nr_sensors=2 --> MAE = 56.13cm\n",
      "nr_sensors=2 --> MAE = 35.20cm\n",
      "nr_sensors=2 --> MAE = 19.91cm\n",
      "nr_sensors=2 --> MAE = 16.41cm\n",
      "nr_sensors=2 --> MAE = 18.88cm\n",
      "nr_sensors=2 --> MAE = 33.80cm\n",
      "nr_sensors=2 --> MAE = 19.88cm\n",
      "nr_sensors=2 --> MAE = 22.66cm\n",
      "nr_sensors=2 --> MAE = 40.56cm\n",
      "nr_sensors=2 --> MAE = 15.72cm\n",
      "nr_sensors=2 --> MAE = 65.02cm\n",
      "nr_sensors=2 --> MAE = 22.84cm\n",
      "nr_sensors=2 --> MAE = 31.60cm\n",
      "nr_sensors=2 --> MAE = 10.57cm\n",
      "nr_sensors=2 --> MAE = 44.12cm\n",
      "nr_sensors=2 --> MAE = 4.25cm\n",
      "nr_sensors=2 --> MAE = 33.47cm\n",
      "nr_sensors=2 --> MAE = 7.73cm\n",
      "nr_sensors=2 --> MAE = 31.88cm\n",
      "nr_sensors=2 --> MAE = 20.98cm\n",
      "nr_sensors=2 --> MAE = 32.33cm\n",
      "nr_sensors=2 --> MAE = 1.75cm\n",
      "nr_sensors=2 --> MAE = 16.34cm\n",
      "nr_sensors=2 --> MAE = 11.98cm\n",
      "nr_sensors=2 --> MAE = 13.58cm\n",
      "nr_sensors=2 --> MAE = 14.19cm\n",
      "nr_sensors=2 --> MAE = 14.30cm\n",
      "nr_sensors=2 --> MAE = 24.04cm\n",
      "nr_sensors=2 --> MAE = 19.36cm\n",
      "nr_sensors=2 --> MAE = 6.89cm\n",
      "nr_sensors=2 --> MAE = 17.05cm\n",
      "nr_sensors=2 --> MAE = 19.99cm\n",
      "nr_sensors=2 --> MAE = 29.98cm\n",
      "nr_sensors=2 --> MAE = 48.01cm\n",
      "nr_sensors=2 --> MAE = 119.27cm\n",
      "nr_sensors=2 --> MAE = 19.16cm\n",
      "nr_sensors=2 --> MAE = 35.03cm\n",
      "nr_sensors=2 --> MAE = 19.10cm\n",
      "nr_sensors=2 --> MAE = 74.48cm\n",
      "nr_sensors=2 --> MAE = 26.50cm\n",
      "nr_sensors=2 --> MAE = 40.86cm\n",
      "nr_sensors=2 --> MAE = 61.57cm\n",
      "nr_sensors=2 --> MAE = 34.01cm\n",
      "nr_sensors=2 --> MAE = 25.53cm\n",
      "nr_sensors=2 --> MAE = 31.18cm\n",
      "nr_sensors=2 --> MAE = 18.34cm\n",
      "nr_sensors=2 --> MAE = 34.12cm\n",
      "nr_sensors=2 --> MAE = 7.57cm\n",
      "nr_sensors=2 --> MAE = 25.03cm\n",
      "nr_sensors=2 --> MAE = 31.14cm\n",
      "nr_sensors=3 --> MAE = 17.42cm\n",
      "nr_sensors=3 --> MAE = 16.05cm\n",
      "nr_sensors=3 --> MAE = 10.63cm\n",
      "nr_sensors=3 --> MAE = 28.07cm\n",
      "nr_sensors=3 --> MAE = 5.38cm\n",
      "nr_sensors=3 --> MAE = 21.71cm\n",
      "nr_sensors=3 --> MAE = 15.33cm\n",
      "nr_sensors=3 --> MAE = 15.42cm\n",
      "nr_sensors=3 --> MAE = 10.03cm\n",
      "nr_sensors=3 --> MAE = 26.92cm\n",
      "nr_sensors=3 --> MAE = 13.52cm\n",
      "nr_sensors=3 --> MAE = 8.95cm\n",
      "nr_sensors=3 --> MAE = 19.18cm\n",
      "nr_sensors=3 --> MAE = 25.97cm\n",
      "nr_sensors=3 --> MAE = 9.78cm\n",
      "nr_sensors=3 --> MAE = 10.43cm\n",
      "nr_sensors=3 --> MAE = 8.73cm\n",
      "nr_sensors=3 --> MAE = 5.90cm\n",
      "nr_sensors=3 --> MAE = 4.31cm\n",
      "nr_sensors=3 --> MAE = 17.80cm\n",
      "nr_sensors=3 --> MAE = 3.96cm\n",
      "nr_sensors=3 --> MAE = 11.16cm\n",
      "nr_sensors=3 --> MAE = 8.64cm\n",
      "nr_sensors=3 --> MAE = 13.17cm\n",
      "nr_sensors=3 --> MAE = 24.95cm\n",
      "nr_sensors=3 --> MAE = 17.97cm\n",
      "nr_sensors=3 --> MAE = 47.08cm\n",
      "nr_sensors=3 --> MAE = 13.12cm\n",
      "nr_sensors=3 --> MAE = 18.84cm\n",
      "nr_sensors=3 --> MAE = 19.59cm\n",
      "nr_sensors=3 --> MAE = 7.60cm\n",
      "nr_sensors=3 --> MAE = 15.98cm\n",
      "nr_sensors=3 --> MAE = 17.84cm\n",
      "nr_sensors=3 --> MAE = 13.61cm\n",
      "nr_sensors=3 --> MAE = 14.65cm\n",
      "nr_sensors=3 --> MAE = 12.71cm\n",
      "nr_sensors=3 --> MAE = 22.57cm\n",
      "nr_sensors=3 --> MAE = 71.08cm\n",
      "nr_sensors=3 --> MAE = 14.63cm\n",
      "nr_sensors=3 --> MAE = 17.37cm\n",
      "nr_sensors=3 --> MAE = 6.96cm\n",
      "nr_sensors=3 --> MAE = 20.19cm\n",
      "nr_sensors=3 --> MAE = 18.66cm\n",
      "nr_sensors=3 --> MAE = 6.47cm\n",
      "nr_sensors=3 --> MAE = 15.81cm\n",
      "nr_sensors=3 --> MAE = 21.46cm\n",
      "nr_sensors=3 --> MAE = 14.01cm\n",
      "nr_sensors=3 --> MAE = 13.48cm\n",
      "nr_sensors=3 --> MAE = 5.90cm\n",
      "nr_sensors=3 --> MAE = 23.98cm\n",
      "nr_sensors=4 --> MAE = 11.51cm\n",
      "nr_sensors=4 --> MAE = 2.56cm\n",
      "nr_sensors=4 --> MAE = 12.68cm\n",
      "nr_sensors=4 --> MAE = 7.83cm\n",
      "nr_sensors=4 --> MAE = 15.98cm\n",
      "nr_sensors=4 --> MAE = 16.71cm\n",
      "nr_sensors=4 --> MAE = 9.08cm\n",
      "nr_sensors=4 --> MAE = 17.60cm\n",
      "nr_sensors=4 --> MAE = 11.05cm\n",
      "nr_sensors=4 --> MAE = 13.92cm\n",
      "nr_sensors=4 --> MAE = 10.62cm\n",
      "nr_sensors=4 --> MAE = 11.28cm\n",
      "nr_sensors=4 --> MAE = 4.01cm\n",
      "nr_sensors=4 --> MAE = 17.89cm\n",
      "nr_sensors=4 --> MAE = 16.09cm\n",
      "nr_sensors=4 --> MAE = 13.28cm\n",
      "nr_sensors=4 --> MAE = 13.87cm\n",
      "nr_sensors=4 --> MAE = 7.49cm\n",
      "nr_sensors=4 --> MAE = 19.71cm\n",
      "nr_sensors=4 --> MAE = 11.13cm\n",
      "nr_sensors=4 --> MAE = 20.42cm\n",
      "nr_sensors=4 --> MAE = 26.67cm\n",
      "nr_sensors=4 --> MAE = 16.40cm\n",
      "nr_sensors=4 --> MAE = 16.70cm\n",
      "nr_sensors=4 --> MAE = 16.12cm\n",
      "nr_sensors=4 --> MAE = 19.22cm\n",
      "nr_sensors=4 --> MAE = 13.92cm\n",
      "nr_sensors=4 --> MAE = 15.65cm\n",
      "nr_sensors=4 --> MAE = 11.63cm\n",
      "nr_sensors=4 --> MAE = 15.60cm\n",
      "nr_sensors=4 --> MAE = 8.96cm\n",
      "nr_sensors=4 --> MAE = 19.58cm\n",
      "nr_sensors=4 --> MAE = 13.27cm\n",
      "nr_sensors=4 --> MAE = 11.92cm\n",
      "nr_sensors=4 --> MAE = 21.51cm\n",
      "nr_sensors=4 --> MAE = 4.12cm\n",
      "nr_sensors=4 --> MAE = 14.90cm\n",
      "nr_sensors=4 --> MAE = 12.72cm\n",
      "nr_sensors=4 --> MAE = 9.99cm\n",
      "nr_sensors=4 --> MAE = 14.15cm\n",
      "nr_sensors=4 --> MAE = 10.16cm\n",
      "nr_sensors=4 --> MAE = 16.94cm\n",
      "nr_sensors=4 --> MAE = 17.98cm\n",
      "nr_sensors=4 --> MAE = 12.44cm\n",
      "nr_sensors=4 --> MAE = 21.98cm\n",
      "nr_sensors=4 --> MAE = 12.97cm\n",
      "nr_sensors=4 --> MAE = 35.70cm\n",
      "nr_sensors=4 --> MAE = 11.83cm\n",
      "nr_sensors=4 --> MAE = 10.77cm\n",
      "nr_sensors=4 --> MAE = 3.15cm\n",
      "nr_sensors=5 --> MAE = 6.49cm\n",
      "nr_sensors=5 --> MAE = 15.49cm\n",
      "nr_sensors=5 --> MAE = 18.27cm\n",
      "nr_sensors=5 --> MAE = 13.99cm\n",
      "nr_sensors=5 --> MAE = 13.51cm\n",
      "nr_sensors=5 --> MAE = 17.87cm\n",
      "nr_sensors=5 --> MAE = 14.55cm\n",
      "nr_sensors=5 --> MAE = 10.31cm\n",
      "nr_sensors=5 --> MAE = 14.29cm\n",
      "nr_sensors=5 --> MAE = 18.31cm\n",
      "nr_sensors=5 --> MAE = 19.62cm\n",
      "nr_sensors=5 --> MAE = 17.08cm\n",
      "nr_sensors=5 --> MAE = 15.55cm\n",
      "nr_sensors=5 --> MAE = 9.72cm\n",
      "nr_sensors=5 --> MAE = 6.65cm\n",
      "nr_sensors=5 --> MAE = 12.54cm\n",
      "nr_sensors=5 --> MAE = 5.55cm\n",
      "nr_sensors=5 --> MAE = 20.94cm\n",
      "nr_sensors=5 --> MAE = 33.23cm\n",
      "nr_sensors=5 --> MAE = 17.28cm\n",
      "nr_sensors=5 --> MAE = 8.97cm\n",
      "nr_sensors=5 --> MAE = 13.33cm\n",
      "nr_sensors=5 --> MAE = 10.10cm\n",
      "nr_sensors=5 --> MAE = 17.96cm\n",
      "nr_sensors=5 --> MAE = 21.85cm\n",
      "nr_sensors=5 --> MAE = 9.75cm\n",
      "nr_sensors=5 --> MAE = 9.90cm\n",
      "nr_sensors=5 --> MAE = 19.18cm\n",
      "nr_sensors=5 --> MAE = 13.91cm\n",
      "nr_sensors=5 --> MAE = 9.89cm\n",
      "nr_sensors=5 --> MAE = 15.36cm\n",
      "nr_sensors=5 --> MAE = 16.29cm\n",
      "nr_sensors=5 --> MAE = 10.92cm\n",
      "nr_sensors=5 --> MAE = 12.73cm\n",
      "nr_sensors=5 --> MAE = 9.31cm\n",
      "nr_sensors=5 --> MAE = 10.39cm\n",
      "nr_sensors=5 --> MAE = 37.98cm\n",
      "nr_sensors=5 --> MAE = 11.84cm\n",
      "nr_sensors=5 --> MAE = 3.83cm\n",
      "nr_sensors=5 --> MAE = 14.29cm\n",
      "nr_sensors=5 --> MAE = 11.28cm\n",
      "nr_sensors=5 --> MAE = 7.36cm\n",
      "nr_sensors=5 --> MAE = 16.11cm\n",
      "nr_sensors=5 --> MAE = 12.84cm\n",
      "nr_sensors=5 --> MAE = 21.40cm\n",
      "nr_sensors=5 --> MAE = 13.23cm\n",
      "nr_sensors=5 --> MAE = 21.46cm\n",
      "nr_sensors=5 --> MAE = 12.63cm\n",
      "nr_sensors=5 --> MAE = 10.56cm\n",
      "nr_sensors=5 --> MAE = 14.52cm\n",
      "nr_sensors=6 --> MAE = 9.64cm\n",
      "nr_sensors=6 --> MAE = 10.43cm\n",
      "nr_sensors=6 --> MAE = 11.45cm\n",
      "nr_sensors=6 --> MAE = 15.65cm\n",
      "nr_sensors=6 --> MAE = 12.74cm\n",
      "nr_sensors=6 --> MAE = 9.87cm\n",
      "nr_sensors=6 --> MAE = 3.42cm\n",
      "nr_sensors=6 --> MAE = 13.43cm\n",
      "nr_sensors=6 --> MAE = 6.17cm\n",
      "nr_sensors=6 --> MAE = 7.59cm\n",
      "nr_sensors=6 --> MAE = 6.07cm\n",
      "nr_sensors=6 --> MAE = 6.98cm\n",
      "nr_sensors=6 --> MAE = 31.11cm\n",
      "nr_sensors=6 --> MAE = 15.51cm\n",
      "nr_sensors=6 --> MAE = 8.64cm\n",
      "nr_sensors=6 --> MAE = 7.36cm\n",
      "nr_sensors=6 --> MAE = 16.66cm\n",
      "nr_sensors=6 --> MAE = 6.20cm\n",
      "nr_sensors=6 --> MAE = 8.60cm\n",
      "nr_sensors=6 --> MAE = 13.84cm\n",
      "nr_sensors=6 --> MAE = 18.49cm\n",
      "nr_sensors=6 --> MAE = 16.91cm\n",
      "nr_sensors=6 --> MAE = 14.09cm\n",
      "nr_sensors=6 --> MAE = 20.36cm\n",
      "nr_sensors=6 --> MAE = 16.15cm\n",
      "nr_sensors=6 --> MAE = 14.53cm\n",
      "nr_sensors=6 --> MAE = 7.36cm\n",
      "nr_sensors=6 --> MAE = 6.44cm\n",
      "nr_sensors=6 --> MAE = 12.00cm\n",
      "nr_sensors=6 --> MAE = 13.63cm\n",
      "nr_sensors=6 --> MAE = 16.53cm\n",
      "nr_sensors=6 --> MAE = 10.62cm\n",
      "nr_sensors=6 --> MAE = 14.65cm\n",
      "nr_sensors=6 --> MAE = 13.28cm\n",
      "nr_sensors=6 --> MAE = 14.45cm\n",
      "nr_sensors=6 --> MAE = 12.61cm\n",
      "nr_sensors=6 --> MAE = 7.57cm\n",
      "nr_sensors=6 --> MAE = 9.84cm\n",
      "nr_sensors=6 --> MAE = 7.17cm\n",
      "nr_sensors=6 --> MAE = 6.40cm\n",
      "nr_sensors=6 --> MAE = 10.29cm\n",
      "nr_sensors=6 --> MAE = 7.48cm\n",
      "nr_sensors=6 --> MAE = 9.04cm\n",
      "nr_sensors=6 --> MAE = 17.33cm\n",
      "nr_sensors=6 --> MAE = 9.16cm\n",
      "nr_sensors=6 --> MAE = 8.96cm\n",
      "nr_sensors=6 --> MAE = 8.32cm\n",
      "nr_sensors=6 --> MAE = 11.94cm\n",
      "nr_sensors=6 --> MAE = 12.00cm\n",
      "nr_sensors=6 --> MAE = 10.09cm\n",
      "nr_sensors=7 --> MAE = 14.69cm\n",
      "nr_sensors=7 --> MAE = 5.89cm\n",
      "nr_sensors=7 --> MAE = 11.79cm\n",
      "nr_sensors=7 --> MAE = 10.16cm\n",
      "nr_sensors=7 --> MAE = 11.38cm\n",
      "nr_sensors=7 --> MAE = 14.63cm\n",
      "nr_sensors=7 --> MAE = 11.58cm\n",
      "nr_sensors=7 --> MAE = 18.65cm\n",
      "nr_sensors=7 --> MAE = 4.86cm\n",
      "nr_sensors=7 --> MAE = 8.80cm\n",
      "nr_sensors=7 --> MAE = 16.30cm\n",
      "nr_sensors=7 --> MAE = 12.50cm\n",
      "nr_sensors=7 --> MAE = 12.49cm\n",
      "nr_sensors=7 --> MAE = 8.23cm\n",
      "nr_sensors=7 --> MAE = 13.74cm\n",
      "nr_sensors=7 --> MAE = 7.41cm\n",
      "nr_sensors=7 --> MAE = 14.04cm\n",
      "nr_sensors=7 --> MAE = 8.04cm\n",
      "nr_sensors=7 --> MAE = 13.61cm\n",
      "nr_sensors=7 --> MAE = 12.66cm\n",
      "nr_sensors=7 --> MAE = 10.64cm\n",
      "nr_sensors=7 --> MAE = 13.56cm\n",
      "nr_sensors=7 --> MAE = 5.79cm\n",
      "nr_sensors=7 --> MAE = 7.32cm\n",
      "nr_sensors=7 --> MAE = 16.83cm\n",
      "nr_sensors=7 --> MAE = 5.32cm\n",
      "nr_sensors=7 --> MAE = 9.21cm\n",
      "nr_sensors=7 --> MAE = 8.79cm\n",
      "nr_sensors=7 --> MAE = 12.51cm\n",
      "nr_sensors=7 --> MAE = 6.35cm\n",
      "nr_sensors=7 --> MAE = 9.41cm\n",
      "nr_sensors=7 --> MAE = 10.09cm\n",
      "nr_sensors=7 --> MAE = 15.21cm\n",
      "nr_sensors=7 --> MAE = 8.52cm\n",
      "nr_sensors=7 --> MAE = 9.03cm\n",
      "nr_sensors=7 --> MAE = 5.73cm\n",
      "nr_sensors=7 --> MAE = 13.11cm\n",
      "nr_sensors=7 --> MAE = 14.46cm\n",
      "nr_sensors=7 --> MAE = 8.41cm\n",
      "nr_sensors=7 --> MAE = 16.29cm\n",
      "nr_sensors=7 --> MAE = 6.45cm\n",
      "nr_sensors=7 --> MAE = 6.42cm\n",
      "nr_sensors=7 --> MAE = 12.41cm\n",
      "nr_sensors=7 --> MAE = 5.93cm\n",
      "nr_sensors=7 --> MAE = 11.19cm\n",
      "nr_sensors=7 --> MAE = 9.08cm\n",
      "nr_sensors=7 --> MAE = 13.64cm\n",
      "nr_sensors=7 --> MAE = 15.47cm\n",
      "nr_sensors=7 --> MAE = 4.90cm\n",
      "nr_sensors=7 --> MAE = 17.78cm\n",
      "nr_sensors=8 --> MAE = 13.65cm\n",
      "nr_sensors=8 --> MAE = 4.99cm\n",
      "nr_sensors=8 --> MAE = 11.41cm\n",
      "nr_sensors=8 --> MAE = 7.52cm\n",
      "nr_sensors=8 --> MAE = 10.57cm\n",
      "nr_sensors=8 --> MAE = 7.70cm\n",
      "nr_sensors=8 --> MAE = 5.93cm\n",
      "nr_sensors=8 --> MAE = 13.11cm\n",
      "nr_sensors=8 --> MAE = 5.68cm\n",
      "nr_sensors=8 --> MAE = 10.68cm\n",
      "nr_sensors=8 --> MAE = 8.18cm\n",
      "nr_sensors=8 --> MAE = 8.49cm\n",
      "nr_sensors=8 --> MAE = 9.42cm\n",
      "nr_sensors=8 --> MAE = 6.37cm\n",
      "nr_sensors=8 --> MAE = 8.91cm\n",
      "nr_sensors=8 --> MAE = 11.91cm\n",
      "nr_sensors=8 --> MAE = 8.57cm\n",
      "nr_sensors=8 --> MAE = 13.56cm\n",
      "nr_sensors=8 --> MAE = 7.40cm\n",
      "nr_sensors=8 --> MAE = 12.05cm\n",
      "nr_sensors=8 --> MAE = 8.44cm\n",
      "nr_sensors=8 --> MAE = 9.34cm\n",
      "nr_sensors=8 --> MAE = 12.27cm\n",
      "nr_sensors=8 --> MAE = 9.88cm\n",
      "nr_sensors=8 --> MAE = 8.80cm\n",
      "nr_sensors=8 --> MAE = 7.78cm\n",
      "nr_sensors=8 --> MAE = 8.29cm\n",
      "nr_sensors=8 --> MAE = 17.47cm\n",
      "nr_sensors=8 --> MAE = 6.62cm\n",
      "nr_sensors=8 --> MAE = 13.02cm\n",
      "nr_sensors=8 --> MAE = 13.88cm\n",
      "nr_sensors=8 --> MAE = 5.37cm\n",
      "nr_sensors=8 --> MAE = 13.40cm\n",
      "nr_sensors=8 --> MAE = 11.20cm\n",
      "nr_sensors=8 --> MAE = 8.56cm\n",
      "nr_sensors=8 --> MAE = 12.11cm\n",
      "nr_sensors=8 --> MAE = 10.34cm\n",
      "nr_sensors=8 --> MAE = 13.72cm\n",
      "nr_sensors=8 --> MAE = 11.73cm\n",
      "nr_sensors=8 --> MAE = 7.90cm\n",
      "nr_sensors=8 --> MAE = 8.59cm\n",
      "nr_sensors=8 --> MAE = 13.08cm\n",
      "nr_sensors=8 --> MAE = 10.85cm\n",
      "nr_sensors=8 --> MAE = 9.25cm\n",
      "nr_sensors=8 --> MAE = 14.24cm\n",
      "nr_sensors=8 --> MAE = 13.36cm\n",
      "nr_sensors=8 --> MAE = 14.00cm\n",
      "nr_sensors=8 --> MAE = 11.50cm\n",
      "nr_sensors=8 --> MAE = 8.80cm\n",
      "nr_sensors=8 --> MAE = 7.51cm\n",
      "nr_sensors=9 --> MAE = 11.18cm\n",
      "nr_sensors=9 --> MAE = 11.17cm\n",
      "nr_sensors=9 --> MAE = 9.13cm\n",
      "nr_sensors=9 --> MAE = 7.59cm\n",
      "nr_sensors=9 --> MAE = 12.80cm\n",
      "nr_sensors=9 --> MAE = 11.41cm\n",
      "nr_sensors=9 --> MAE = 10.92cm\n",
      "nr_sensors=9 --> MAE = 17.89cm\n",
      "nr_sensors=9 --> MAE = 7.58cm\n",
      "nr_sensors=9 --> MAE = 11.49cm\n",
      "nr_sensors=9 --> MAE = 4.23cm\n",
      "nr_sensors=9 --> MAE = 9.78cm\n",
      "nr_sensors=9 --> MAE = 10.67cm\n",
      "nr_sensors=9 --> MAE = 4.99cm\n",
      "nr_sensors=9 --> MAE = 12.01cm\n",
      "nr_sensors=9 --> MAE = 6.70cm\n",
      "nr_sensors=9 --> MAE = 9.20cm\n",
      "nr_sensors=9 --> MAE = 14.19cm\n",
      "nr_sensors=9 --> MAE = 7.14cm\n",
      "nr_sensors=9 --> MAE = 8.88cm\n",
      "nr_sensors=9 --> MAE = 16.41cm\n",
      "nr_sensors=9 --> MAE = 12.85cm\n",
      "nr_sensors=9 --> MAE = 11.33cm\n",
      "nr_sensors=9 --> MAE = 17.71cm\n",
      "nr_sensors=9 --> MAE = 15.43cm\n",
      "nr_sensors=9 --> MAE = 12.60cm\n",
      "nr_sensors=9 --> MAE = 9.54cm\n",
      "nr_sensors=9 --> MAE = 7.14cm\n",
      "nr_sensors=9 --> MAE = 13.45cm\n",
      "nr_sensors=9 --> MAE = 15.99cm\n",
      "nr_sensors=9 --> MAE = 11.10cm\n",
      "nr_sensors=9 --> MAE = 6.50cm\n",
      "nr_sensors=9 --> MAE = 6.87cm\n",
      "nr_sensors=9 --> MAE = 4.50cm\n",
      "nr_sensors=9 --> MAE = 5.15cm\n",
      "nr_sensors=9 --> MAE = 9.25cm\n",
      "nr_sensors=9 --> MAE = 9.38cm\n",
      "nr_sensors=9 --> MAE = 9.07cm\n",
      "nr_sensors=9 --> MAE = 6.97cm\n",
      "nr_sensors=9 --> MAE = 7.19cm\n",
      "nr_sensors=9 --> MAE = 8.99cm\n",
      "nr_sensors=9 --> MAE = 6.49cm\n",
      "nr_sensors=9 --> MAE = 10.06cm\n",
      "nr_sensors=9 --> MAE = 9.91cm\n",
      "nr_sensors=9 --> MAE = 7.93cm\n",
      "nr_sensors=9 --> MAE = 15.88cm\n",
      "nr_sensors=9 --> MAE = 10.48cm\n",
      "nr_sensors=9 --> MAE = 9.91cm\n",
      "nr_sensors=9 --> MAE = 13.13cm\n",
      "nr_sensors=9 --> MAE = 10.66cm\n",
      "nr_sensors=10 --> MAE = 8.21cm\n",
      "nr_sensors=10 --> MAE = 8.50cm\n",
      "nr_sensors=10 --> MAE = 9.50cm\n",
      "nr_sensors=10 --> MAE = 14.44cm\n",
      "nr_sensors=10 --> MAE = 5.66cm\n",
      "nr_sensors=10 --> MAE = 9.78cm\n",
      "nr_sensors=10 --> MAE = 5.52cm\n",
      "nr_sensors=10 --> MAE = 9.49cm\n",
      "nr_sensors=10 --> MAE = 10.58cm\n",
      "nr_sensors=10 --> MAE = 8.90cm\n",
      "nr_sensors=10 --> MAE = 12.39cm\n",
      "nr_sensors=10 --> MAE = 12.83cm\n",
      "nr_sensors=10 --> MAE = 8.72cm\n",
      "nr_sensors=10 --> MAE = 5.85cm\n",
      "nr_sensors=10 --> MAE = 9.02cm\n",
      "nr_sensors=10 --> MAE = 8.13cm\n",
      "nr_sensors=10 --> MAE = 4.63cm\n",
      "nr_sensors=10 --> MAE = 10.26cm\n",
      "nr_sensors=10 --> MAE = 15.43cm\n",
      "nr_sensors=10 --> MAE = 4.97cm\n",
      "nr_sensors=10 --> MAE = 10.55cm\n",
      "nr_sensors=10 --> MAE = 5.52cm\n",
      "nr_sensors=10 --> MAE = 7.58cm\n",
      "nr_sensors=10 --> MAE = 14.04cm\n",
      "nr_sensors=10 --> MAE = 4.93cm\n",
      "nr_sensors=10 --> MAE = 11.18cm\n",
      "nr_sensors=10 --> MAE = 13.58cm\n",
      "nr_sensors=10 --> MAE = 7.52cm\n",
      "nr_sensors=10 --> MAE = 16.57cm\n",
      "nr_sensors=10 --> MAE = 11.54cm\n",
      "nr_sensors=10 --> MAE = 3.44cm\n",
      "nr_sensors=10 --> MAE = 7.26cm\n",
      "nr_sensors=10 --> MAE = 12.09cm\n",
      "nr_sensors=10 --> MAE = 7.55cm\n",
      "nr_sensors=10 --> MAE = 19.14cm\n",
      "nr_sensors=10 --> MAE = 10.40cm\n",
      "nr_sensors=10 --> MAE = 8.14cm\n",
      "nr_sensors=10 --> MAE = 10.50cm\n",
      "nr_sensors=10 --> MAE = 13.23cm\n",
      "nr_sensors=10 --> MAE = 8.66cm\n",
      "nr_sensors=10 --> MAE = 10.46cm\n",
      "nr_sensors=10 --> MAE = 6.73cm\n",
      "nr_sensors=10 --> MAE = 10.49cm\n",
      "nr_sensors=10 --> MAE = 6.19cm\n",
      "nr_sensors=10 --> MAE = 10.27cm\n",
      "nr_sensors=10 --> MAE = 10.83cm\n",
      "nr_sensors=10 --> MAE = 10.88cm\n",
      "nr_sensors=10 --> MAE = 9.48cm\n",
      "nr_sensors=10 --> MAE = 6.75cm\n",
      "nr_sensors=10 --> MAE = 12.17cm\n",
      "nr_sensors=11 --> MAE = 5.89cm\n",
      "nr_sensors=11 --> MAE = 8.36cm\n",
      "nr_sensors=11 --> MAE = 10.27cm\n",
      "nr_sensors=11 --> MAE = 6.89cm\n",
      "nr_sensors=11 --> MAE = 5.90cm\n",
      "nr_sensors=11 --> MAE = 10.73cm\n",
      "nr_sensors=11 --> MAE = 5.74cm\n",
      "nr_sensors=11 --> MAE = 7.80cm\n",
      "nr_sensors=11 --> MAE = 8.90cm\n",
      "nr_sensors=11 --> MAE = 8.88cm\n",
      "nr_sensors=11 --> MAE = 11.68cm\n",
      "nr_sensors=11 --> MAE = 8.13cm\n",
      "nr_sensors=11 --> MAE = 5.12cm\n",
      "nr_sensors=11 --> MAE = 11.23cm\n",
      "nr_sensors=11 --> MAE = 6.19cm\n",
      "nr_sensors=11 --> MAE = 13.51cm\n",
      "nr_sensors=11 --> MAE = 10.36cm\n",
      "nr_sensors=11 --> MAE = 10.33cm\n",
      "nr_sensors=11 --> MAE = 6.31cm\n",
      "nr_sensors=11 --> MAE = 10.31cm\n",
      "nr_sensors=11 --> MAE = 8.20cm\n",
      "nr_sensors=11 --> MAE = 8.24cm\n",
      "nr_sensors=11 --> MAE = 10.80cm\n",
      "nr_sensors=11 --> MAE = 12.73cm\n",
      "nr_sensors=11 --> MAE = 7.46cm\n",
      "nr_sensors=11 --> MAE = 14.53cm\n",
      "nr_sensors=11 --> MAE = 10.63cm\n",
      "nr_sensors=11 --> MAE = 7.32cm\n",
      "nr_sensors=11 --> MAE = 9.34cm\n",
      "nr_sensors=11 --> MAE = 7.75cm\n",
      "nr_sensors=11 --> MAE = 10.93cm\n",
      "nr_sensors=11 --> MAE = 9.56cm\n",
      "nr_sensors=11 --> MAE = 5.75cm\n",
      "nr_sensors=11 --> MAE = 9.92cm\n",
      "nr_sensors=11 --> MAE = 4.06cm\n",
      "nr_sensors=11 --> MAE = 6.79cm\n",
      "nr_sensors=11 --> MAE = 12.27cm\n",
      "nr_sensors=11 --> MAE = 8.86cm\n",
      "nr_sensors=11 --> MAE = 10.86cm\n",
      "nr_sensors=11 --> MAE = 5.01cm\n",
      "nr_sensors=11 --> MAE = 5.66cm\n",
      "nr_sensors=11 --> MAE = 12.56cm\n",
      "nr_sensors=11 --> MAE = 7.98cm\n",
      "nr_sensors=11 --> MAE = 13.72cm\n",
      "nr_sensors=11 --> MAE = 11.78cm\n",
      "nr_sensors=11 --> MAE = 10.27cm\n",
      "nr_sensors=11 --> MAE = 10.35cm\n",
      "nr_sensors=11 --> MAE = 9.12cm\n",
      "nr_sensors=11 --> MAE = 7.73cm\n",
      "nr_sensors=11 --> MAE = 8.47cm\n",
      "nr_sensors=12 --> MAE = 9.20cm\n",
      "nr_sensors=12 --> MAE = 4.99cm\n",
      "nr_sensors=12 --> MAE = 9.39cm\n",
      "nr_sensors=12 --> MAE = 9.56cm\n",
      "nr_sensors=12 --> MAE = 8.88cm\n",
      "nr_sensors=12 --> MAE = 7.60cm\n",
      "nr_sensors=12 --> MAE = 8.65cm\n",
      "nr_sensors=12 --> MAE = 6.74cm\n",
      "nr_sensors=12 --> MAE = 5.93cm\n",
      "nr_sensors=12 --> MAE = 7.63cm\n",
      "nr_sensors=12 --> MAE = 7.57cm\n",
      "nr_sensors=12 --> MAE = 8.14cm\n",
      "nr_sensors=12 --> MAE = 7.21cm\n",
      "nr_sensors=12 --> MAE = 7.05cm\n",
      "nr_sensors=12 --> MAE = 8.90cm\n",
      "nr_sensors=12 --> MAE = 8.57cm\n",
      "nr_sensors=12 --> MAE = 6.38cm\n",
      "nr_sensors=12 --> MAE = 6.04cm\n",
      "nr_sensors=12 --> MAE = 5.34cm\n",
      "nr_sensors=12 --> MAE = 12.31cm\n",
      "nr_sensors=12 --> MAE = 9.85cm\n",
      "nr_sensors=12 --> MAE = 12.36cm\n",
      "nr_sensors=12 --> MAE = 10.40cm\n",
      "nr_sensors=12 --> MAE = 12.51cm\n",
      "nr_sensors=12 --> MAE = 7.92cm\n",
      "nr_sensors=12 --> MAE = 7.36cm\n",
      "nr_sensors=12 --> MAE = 6.99cm\n",
      "nr_sensors=12 --> MAE = 11.55cm\n",
      "nr_sensors=12 --> MAE = 13.46cm\n",
      "nr_sensors=12 --> MAE = 8.63cm\n",
      "nr_sensors=12 --> MAE = 10.53cm\n",
      "nr_sensors=12 --> MAE = 12.97cm\n",
      "nr_sensors=12 --> MAE = 11.98cm\n",
      "nr_sensors=12 --> MAE = 5.71cm\n",
      "nr_sensors=12 --> MAE = 7.49cm\n",
      "nr_sensors=12 --> MAE = 11.12cm\n",
      "nr_sensors=12 --> MAE = 11.27cm\n",
      "nr_sensors=12 --> MAE = 7.66cm\n",
      "nr_sensors=12 --> MAE = 13.29cm\n",
      "nr_sensors=12 --> MAE = 8.68cm\n",
      "nr_sensors=12 --> MAE = 8.26cm\n",
      "nr_sensors=12 --> MAE = 9.66cm\n",
      "nr_sensors=12 --> MAE = 6.43cm\n",
      "nr_sensors=12 --> MAE = 7.25cm\n",
      "nr_sensors=12 --> MAE = 12.82cm\n",
      "nr_sensors=12 --> MAE = 8.88cm\n",
      "nr_sensors=12 --> MAE = 11.62cm\n",
      "nr_sensors=12 --> MAE = 6.69cm\n",
      "nr_sensors=12 --> MAE = 9.75cm\n",
      "nr_sensors=12 --> MAE = 10.17cm\n",
      "nr_sensors=13 --> MAE = 11.93cm\n",
      "nr_sensors=13 --> MAE = 9.34cm\n",
      "nr_sensors=13 --> MAE = 7.82cm\n",
      "nr_sensors=13 --> MAE = 10.43cm\n",
      "nr_sensors=13 --> MAE = 11.66cm\n",
      "nr_sensors=13 --> MAE = 8.25cm\n",
      "nr_sensors=13 --> MAE = 7.27cm\n",
      "nr_sensors=13 --> MAE = 8.79cm\n",
      "nr_sensors=13 --> MAE = 12.98cm\n",
      "nr_sensors=13 --> MAE = 9.77cm\n",
      "nr_sensors=13 --> MAE = 5.99cm\n",
      "nr_sensors=13 --> MAE = 11.03cm\n",
      "nr_sensors=13 --> MAE = 8.73cm\n",
      "nr_sensors=13 --> MAE = 8.01cm\n",
      "nr_sensors=13 --> MAE = 14.07cm\n",
      "nr_sensors=13 --> MAE = 7.63cm\n",
      "nr_sensors=13 --> MAE = 4.66cm\n",
      "nr_sensors=13 --> MAE = 6.57cm\n",
      "nr_sensors=13 --> MAE = 8.38cm\n",
      "nr_sensors=13 --> MAE = 10.83cm\n",
      "nr_sensors=13 --> MAE = 10.82cm\n",
      "nr_sensors=13 --> MAE = 15.82cm\n",
      "nr_sensors=13 --> MAE = 7.58cm\n",
      "nr_sensors=13 --> MAE = 8.48cm\n",
      "nr_sensors=13 --> MAE = 8.97cm\n",
      "nr_sensors=13 --> MAE = 8.90cm\n",
      "nr_sensors=13 --> MAE = 6.79cm\n",
      "nr_sensors=13 --> MAE = 4.12cm\n",
      "nr_sensors=13 --> MAE = 11.60cm\n",
      "nr_sensors=13 --> MAE = 8.05cm\n",
      "nr_sensors=13 --> MAE = 9.94cm\n",
      "nr_sensors=13 --> MAE = 8.66cm\n",
      "nr_sensors=13 --> MAE = 8.98cm\n",
      "nr_sensors=13 --> MAE = 11.93cm\n",
      "nr_sensors=13 --> MAE = 8.68cm\n",
      "nr_sensors=13 --> MAE = 6.58cm\n",
      "nr_sensors=13 --> MAE = 13.07cm\n",
      "nr_sensors=13 --> MAE = 6.56cm\n",
      "nr_sensors=13 --> MAE = 7.79cm\n",
      "nr_sensors=13 --> MAE = 7.21cm\n",
      "nr_sensors=13 --> MAE = 7.40cm\n",
      "nr_sensors=13 --> MAE = 12.16cm\n",
      "nr_sensors=13 --> MAE = 6.95cm\n",
      "nr_sensors=13 --> MAE = 6.55cm\n",
      "nr_sensors=13 --> MAE = 7.94cm\n",
      "nr_sensors=13 --> MAE = 8.91cm\n",
      "nr_sensors=13 --> MAE = 8.64cm\n",
      "nr_sensors=13 --> MAE = 10.44cm\n",
      "nr_sensors=13 --> MAE = 9.62cm\n",
      "nr_sensors=13 --> MAE = 11.86cm\n",
      "nr_sensors=14 --> MAE = 10.53cm\n",
      "nr_sensors=14 --> MAE = 6.46cm\n",
      "nr_sensors=14 --> MAE = 5.63cm\n",
      "nr_sensors=14 --> MAE = 9.92cm\n",
      "nr_sensors=14 --> MAE = 8.96cm\n",
      "nr_sensors=14 --> MAE = 13.15cm\n",
      "nr_sensors=14 --> MAE = 6.82cm\n",
      "nr_sensors=14 --> MAE = 8.15cm\n",
      "nr_sensors=14 --> MAE = 12.92cm\n",
      "nr_sensors=14 --> MAE = 11.53cm\n",
      "nr_sensors=14 --> MAE = 8.07cm\n",
      "nr_sensors=14 --> MAE = 10.21cm\n",
      "nr_sensors=14 --> MAE = 7.13cm\n",
      "nr_sensors=14 --> MAE = 10.37cm\n",
      "nr_sensors=14 --> MAE = 7.42cm\n",
      "nr_sensors=14 --> MAE = 6.13cm\n",
      "nr_sensors=14 --> MAE = 5.39cm\n",
      "nr_sensors=14 --> MAE = 8.46cm\n",
      "nr_sensors=14 --> MAE = 14.03cm\n",
      "nr_sensors=14 --> MAE = 13.61cm\n",
      "nr_sensors=14 --> MAE = 8.25cm\n",
      "nr_sensors=14 --> MAE = 6.85cm\n",
      "nr_sensors=14 --> MAE = 10.05cm\n",
      "nr_sensors=14 --> MAE = 9.18cm\n",
      "nr_sensors=14 --> MAE = 10.55cm\n",
      "nr_sensors=14 --> MAE = 6.09cm\n",
      "nr_sensors=14 --> MAE = 11.02cm\n",
      "nr_sensors=14 --> MAE = 9.62cm\n",
      "nr_sensors=14 --> MAE = 10.30cm\n",
      "nr_sensors=14 --> MAE = 7.12cm\n",
      "nr_sensors=14 --> MAE = 9.61cm\n",
      "nr_sensors=14 --> MAE = 9.71cm\n",
      "nr_sensors=14 --> MAE = 11.94cm\n",
      "nr_sensors=14 --> MAE = 12.78cm\n",
      "nr_sensors=14 --> MAE = 7.98cm\n",
      "nr_sensors=14 --> MAE = 8.04cm\n",
      "nr_sensors=14 --> MAE = 11.11cm\n",
      "nr_sensors=14 --> MAE = 8.34cm\n",
      "nr_sensors=14 --> MAE = 12.04cm\n",
      "nr_sensors=14 --> MAE = 10.01cm\n",
      "nr_sensors=14 --> MAE = 9.16cm\n",
      "nr_sensors=14 --> MAE = 7.26cm\n",
      "nr_sensors=14 --> MAE = 9.64cm\n",
      "nr_sensors=14 --> MAE = 9.40cm\n",
      "nr_sensors=14 --> MAE = 7.85cm\n",
      "nr_sensors=14 --> MAE = 14.56cm\n",
      "nr_sensors=14 --> MAE = 9.21cm\n",
      "nr_sensors=14 --> MAE = 9.07cm\n",
      "nr_sensors=14 --> MAE = 9.10cm\n",
      "nr_sensors=14 --> MAE = 6.59cm\n",
      "nr_sensors=15 --> MAE = 8.95cm\n",
      "nr_sensors=15 --> MAE = 12.24cm\n",
      "nr_sensors=15 --> MAE = 11.87cm\n",
      "nr_sensors=15 --> MAE = 7.54cm\n",
      "nr_sensors=15 --> MAE = 7.17cm\n",
      "nr_sensors=15 --> MAE = 9.70cm\n",
      "nr_sensors=15 --> MAE = 8.00cm\n",
      "nr_sensors=15 --> MAE = 12.62cm\n",
      "nr_sensors=15 --> MAE = 8.18cm\n",
      "nr_sensors=15 --> MAE = 9.73cm\n",
      "nr_sensors=15 --> MAE = 6.93cm\n",
      "nr_sensors=15 --> MAE = 11.19cm\n",
      "nr_sensors=15 --> MAE = 6.95cm\n",
      "nr_sensors=15 --> MAE = 12.69cm\n",
      "nr_sensors=15 --> MAE = 14.92cm\n",
      "nr_sensors=15 --> MAE = 13.66cm\n",
      "nr_sensors=15 --> MAE = 7.87cm\n",
      "nr_sensors=15 --> MAE = 8.78cm\n",
      "nr_sensors=15 --> MAE = 6.99cm\n",
      "nr_sensors=15 --> MAE = 5.70cm\n",
      "nr_sensors=15 --> MAE = 6.01cm\n",
      "nr_sensors=15 --> MAE = 3.92cm\n",
      "nr_sensors=15 --> MAE = 10.96cm\n",
      "nr_sensors=15 --> MAE = 9.43cm\n",
      "nr_sensors=15 --> MAE = 4.61cm\n",
      "nr_sensors=15 --> MAE = 9.64cm\n",
      "nr_sensors=15 --> MAE = 5.41cm\n",
      "nr_sensors=15 --> MAE = 7.59cm\n",
      "nr_sensors=15 --> MAE = 8.41cm\n",
      "nr_sensors=15 --> MAE = 7.29cm\n",
      "nr_sensors=15 --> MAE = 8.29cm\n",
      "nr_sensors=15 --> MAE = 10.22cm\n",
      "nr_sensors=15 --> MAE = 9.23cm\n",
      "nr_sensors=15 --> MAE = 6.50cm\n",
      "nr_sensors=15 --> MAE = 11.32cm\n",
      "nr_sensors=15 --> MAE = 8.41cm\n",
      "nr_sensors=15 --> MAE = 7.29cm\n",
      "nr_sensors=15 --> MAE = 5.86cm\n",
      "nr_sensors=15 --> MAE = 11.84cm\n",
      "nr_sensors=15 --> MAE = 6.19cm\n",
      "nr_sensors=15 --> MAE = 9.18cm\n",
      "nr_sensors=15 --> MAE = 6.31cm\n",
      "nr_sensors=15 --> MAE = 5.18cm\n",
      "nr_sensors=15 --> MAE = 7.40cm\n",
      "nr_sensors=15 --> MAE = 5.61cm\n",
      "nr_sensors=15 --> MAE = 6.93cm\n",
      "nr_sensors=15 --> MAE = 8.44cm\n",
      "nr_sensors=15 --> MAE = 8.59cm\n",
      "nr_sensors=15 --> MAE = 11.56cm\n",
      "nr_sensors=15 --> MAE = 6.36cm\n",
      "nr_sensors=16 --> MAE = 12.30cm\n",
      "nr_sensors=16 --> MAE = 5.86cm\n",
      "nr_sensors=16 --> MAE = 9.22cm\n",
      "nr_sensors=16 --> MAE = 8.75cm\n",
      "nr_sensors=16 --> MAE = 8.14cm\n",
      "nr_sensors=16 --> MAE = 11.59cm\n",
      "nr_sensors=16 --> MAE = 10.50cm\n",
      "nr_sensors=16 --> MAE = 9.93cm\n",
      "nr_sensors=16 --> MAE = 10.85cm\n",
      "nr_sensors=16 --> MAE = 6.07cm\n",
      "nr_sensors=16 --> MAE = 7.17cm\n",
      "nr_sensors=16 --> MAE = 6.87cm\n",
      "nr_sensors=16 --> MAE = 10.84cm\n",
      "nr_sensors=16 --> MAE = 6.26cm\n",
      "nr_sensors=16 --> MAE = 8.99cm\n",
      "nr_sensors=16 --> MAE = 7.83cm\n",
      "nr_sensors=16 --> MAE = 5.37cm\n",
      "nr_sensors=16 --> MAE = 6.70cm\n",
      "nr_sensors=16 --> MAE = 6.75cm\n",
      "nr_sensors=16 --> MAE = 6.69cm\n",
      "nr_sensors=16 --> MAE = 9.18cm\n",
      "nr_sensors=16 --> MAE = 6.70cm\n",
      "nr_sensors=16 --> MAE = 8.42cm\n",
      "nr_sensors=16 --> MAE = 11.56cm\n",
      "nr_sensors=16 --> MAE = 8.79cm\n",
      "nr_sensors=16 --> MAE = 5.85cm\n",
      "nr_sensors=16 --> MAE = 8.57cm\n",
      "nr_sensors=16 --> MAE = 7.79cm\n",
      "nr_sensors=16 --> MAE = 7.82cm\n",
      "nr_sensors=16 --> MAE = 7.85cm\n",
      "nr_sensors=16 --> MAE = 9.18cm\n",
      "nr_sensors=16 --> MAE = 6.30cm\n",
      "nr_sensors=16 --> MAE = 9.22cm\n",
      "nr_sensors=16 --> MAE = 10.65cm\n",
      "nr_sensors=16 --> MAE = 5.86cm\n",
      "nr_sensors=16 --> MAE = 8.68cm\n",
      "nr_sensors=16 --> MAE = 11.67cm\n",
      "nr_sensors=16 --> MAE = 8.24cm\n",
      "nr_sensors=16 --> MAE = 11.35cm\n",
      "nr_sensors=16 --> MAE = 8.69cm\n",
      "nr_sensors=16 --> MAE = 9.34cm\n",
      "nr_sensors=16 --> MAE = 11.10cm\n",
      "nr_sensors=16 --> MAE = 9.35cm\n",
      "nr_sensors=16 --> MAE = 10.81cm\n",
      "nr_sensors=16 --> MAE = 10.16cm\n",
      "nr_sensors=16 --> MAE = 7.82cm\n",
      "nr_sensors=16 --> MAE = 8.11cm\n",
      "nr_sensors=16 --> MAE = 8.74cm\n",
      "nr_sensors=16 --> MAE = 7.16cm\n",
      "nr_sensors=16 --> MAE = 11.62cm\n",
      "nr_sensors=17 --> MAE = 11.03cm\n",
      "nr_sensors=17 --> MAE = 8.28cm\n",
      "nr_sensors=17 --> MAE = 10.67cm\n",
      "nr_sensors=17 --> MAE = 11.68cm\n",
      "nr_sensors=17 --> MAE = 8.68cm\n",
      "nr_sensors=17 --> MAE = 6.43cm\n",
      "nr_sensors=17 --> MAE = 12.05cm\n",
      "nr_sensors=17 --> MAE = 6.15cm\n",
      "nr_sensors=17 --> MAE = 10.52cm\n",
      "nr_sensors=17 --> MAE = 10.23cm\n",
      "nr_sensors=17 --> MAE = 5.94cm\n",
      "nr_sensors=17 --> MAE = 7.97cm\n",
      "nr_sensors=17 --> MAE = 5.57cm\n",
      "nr_sensors=17 --> MAE = 7.02cm\n",
      "nr_sensors=17 --> MAE = 8.51cm\n",
      "nr_sensors=17 --> MAE = 8.46cm\n",
      "nr_sensors=17 --> MAE = 6.81cm\n",
      "nr_sensors=17 --> MAE = 9.42cm\n",
      "nr_sensors=17 --> MAE = 9.37cm\n",
      "nr_sensors=17 --> MAE = 6.83cm\n",
      "nr_sensors=17 --> MAE = 7.58cm\n",
      "nr_sensors=17 --> MAE = 12.17cm\n",
      "nr_sensors=17 --> MAE = 9.63cm\n",
      "nr_sensors=17 --> MAE = 9.94cm\n",
      "nr_sensors=17 --> MAE = 7.67cm\n",
      "nr_sensors=17 --> MAE = 6.08cm\n",
      "nr_sensors=17 --> MAE = 8.71cm\n",
      "nr_sensors=17 --> MAE = 8.20cm\n",
      "nr_sensors=17 --> MAE = 8.31cm\n",
      "nr_sensors=17 --> MAE = 6.66cm\n",
      "nr_sensors=17 --> MAE = 12.49cm\n",
      "nr_sensors=17 --> MAE = 5.74cm\n",
      "nr_sensors=17 --> MAE = 9.67cm\n",
      "nr_sensors=17 --> MAE = 11.24cm\n",
      "nr_sensors=17 --> MAE = 9.58cm\n",
      "nr_sensors=17 --> MAE = 7.10cm\n",
      "nr_sensors=17 --> MAE = 9.71cm\n",
      "nr_sensors=17 --> MAE = 7.31cm\n",
      "nr_sensors=17 --> MAE = 10.78cm\n",
      "nr_sensors=17 --> MAE = 6.33cm\n",
      "nr_sensors=17 --> MAE = 8.39cm\n",
      "nr_sensors=17 --> MAE = 7.37cm\n",
      "nr_sensors=17 --> MAE = 6.86cm\n",
      "nr_sensors=17 --> MAE = 10.43cm\n",
      "nr_sensors=17 --> MAE = 7.80cm\n",
      "nr_sensors=17 --> MAE = 9.75cm\n",
      "nr_sensors=17 --> MAE = 7.42cm\n",
      "nr_sensors=17 --> MAE = 5.54cm\n",
      "nr_sensors=17 --> MAE = 9.12cm\n",
      "nr_sensors=17 --> MAE = 6.62cm\n",
      "nr_sensors=18 --> MAE = 10.09cm\n",
      "nr_sensors=18 --> MAE = 4.82cm\n",
      "nr_sensors=18 --> MAE = 7.41cm\n",
      "nr_sensors=18 --> MAE = 9.20cm\n",
      "nr_sensors=18 --> MAE = 7.08cm\n",
      "nr_sensors=18 --> MAE = 7.06cm\n",
      "nr_sensors=18 --> MAE = 9.12cm\n",
      "nr_sensors=18 --> MAE = 6.20cm\n",
      "nr_sensors=18 --> MAE = 10.07cm\n",
      "nr_sensors=18 --> MAE = 8.33cm\n",
      "nr_sensors=18 --> MAE = 6.39cm\n",
      "nr_sensors=18 --> MAE = 6.09cm\n",
      "nr_sensors=18 --> MAE = 9.79cm\n",
      "nr_sensors=18 --> MAE = 6.56cm\n",
      "nr_sensors=18 --> MAE = 6.52cm\n",
      "nr_sensors=18 --> MAE = 8.55cm\n",
      "nr_sensors=18 --> MAE = 10.53cm\n",
      "nr_sensors=18 --> MAE = 8.05cm\n",
      "nr_sensors=18 --> MAE = 7.41cm\n",
      "nr_sensors=18 --> MAE = 6.76cm\n",
      "nr_sensors=18 --> MAE = 10.30cm\n",
      "nr_sensors=18 --> MAE = 6.20cm\n",
      "nr_sensors=18 --> MAE = 6.98cm\n",
      "nr_sensors=18 --> MAE = 10.34cm\n",
      "nr_sensors=18 --> MAE = 6.62cm\n",
      "nr_sensors=18 --> MAE = 10.96cm\n",
      "nr_sensors=18 --> MAE = 6.92cm\n",
      "nr_sensors=18 --> MAE = 6.42cm\n",
      "nr_sensors=18 --> MAE = 8.86cm\n",
      "nr_sensors=18 --> MAE = 10.11cm\n",
      "nr_sensors=18 --> MAE = 7.90cm\n",
      "nr_sensors=18 --> MAE = 8.35cm\n",
      "nr_sensors=18 --> MAE = 5.14cm\n",
      "nr_sensors=18 --> MAE = 6.08cm\n",
      "nr_sensors=18 --> MAE = 8.65cm\n",
      "nr_sensors=18 --> MAE = 8.31cm\n",
      "nr_sensors=18 --> MAE = 5.58cm\n",
      "nr_sensors=18 --> MAE = 7.04cm\n",
      "nr_sensors=18 --> MAE = 8.80cm\n",
      "nr_sensors=18 --> MAE = 7.54cm\n",
      "nr_sensors=18 --> MAE = 8.41cm\n",
      "nr_sensors=18 --> MAE = 12.81cm\n",
      "nr_sensors=18 --> MAE = 5.02cm\n",
      "nr_sensors=18 --> MAE = 9.55cm\n",
      "nr_sensors=18 --> MAE = 7.50cm\n",
      "nr_sensors=18 --> MAE = 9.71cm\n",
      "nr_sensors=18 --> MAE = 5.08cm\n",
      "nr_sensors=18 --> MAE = 11.59cm\n",
      "nr_sensors=18 --> MAE = 7.64cm\n",
      "nr_sensors=18 --> MAE = 11.77cm\n",
      "nr_sensors=19 --> MAE = 6.30cm\n",
      "nr_sensors=19 --> MAE = 7.11cm\n",
      "nr_sensors=19 --> MAE = 7.09cm\n",
      "nr_sensors=19 --> MAE = 10.42cm\n",
      "nr_sensors=19 --> MAE = 5.73cm\n",
      "nr_sensors=19 --> MAE = 9.84cm\n",
      "nr_sensors=19 --> MAE = 8.00cm\n",
      "nr_sensors=19 --> MAE = 7.10cm\n",
      "nr_sensors=19 --> MAE = 9.38cm\n",
      "nr_sensors=19 --> MAE = 10.77cm\n",
      "nr_sensors=19 --> MAE = 4.54cm\n",
      "nr_sensors=19 --> MAE = 7.55cm\n",
      "nr_sensors=19 --> MAE = 5.58cm\n",
      "nr_sensors=19 --> MAE = 8.13cm\n",
      "nr_sensors=19 --> MAE = 9.52cm\n",
      "nr_sensors=19 --> MAE = 9.14cm\n",
      "nr_sensors=19 --> MAE = 8.56cm\n",
      "nr_sensors=19 --> MAE = 7.58cm\n",
      "nr_sensors=19 --> MAE = 9.15cm\n",
      "nr_sensors=19 --> MAE = 6.78cm\n",
      "nr_sensors=19 --> MAE = 6.06cm\n",
      "nr_sensors=19 --> MAE = 7.87cm\n",
      "nr_sensors=19 --> MAE = 7.63cm\n",
      "nr_sensors=19 --> MAE = 9.83cm\n",
      "nr_sensors=19 --> MAE = 9.34cm\n",
      "nr_sensors=19 --> MAE = 7.57cm\n",
      "nr_sensors=19 --> MAE = 8.04cm\n",
      "nr_sensors=19 --> MAE = 10.21cm\n",
      "nr_sensors=19 --> MAE = 7.44cm\n",
      "nr_sensors=19 --> MAE = 8.21cm\n",
      "nr_sensors=19 --> MAE = 11.12cm\n",
      "nr_sensors=19 --> MAE = 6.91cm\n",
      "nr_sensors=19 --> MAE = 7.64cm\n",
      "nr_sensors=19 --> MAE = 6.60cm\n",
      "nr_sensors=19 --> MAE = 6.24cm\n",
      "nr_sensors=19 --> MAE = 7.02cm\n",
      "nr_sensors=19 --> MAE = 9.47cm\n",
      "nr_sensors=19 --> MAE = 8.11cm\n",
      "nr_sensors=19 --> MAE = 9.97cm\n",
      "nr_sensors=19 --> MAE = 7.32cm\n",
      "nr_sensors=19 --> MAE = 5.76cm\n",
      "nr_sensors=19 --> MAE = 7.23cm\n",
      "nr_sensors=19 --> MAE = 11.72cm\n",
      "nr_sensors=19 --> MAE = 10.32cm\n",
      "nr_sensors=19 --> MAE = 7.64cm\n",
      "nr_sensors=19 --> MAE = 6.41cm\n",
      "nr_sensors=19 --> MAE = 7.26cm\n",
      "nr_sensors=19 --> MAE = 9.42cm\n",
      "nr_sensors=19 --> MAE = 8.54cm\n",
      "nr_sensors=19 --> MAE = 8.35cm\n"
     ]
    }
   ],
   "source": [
    "ergebnisse_x = []\n",
    "ergebnisse_y = []\n",
    "\n",
    "for nr_sensors in range(2,20):\n",
    "    \n",
    "    alle_fehler = []\n",
    "    for run in range(50):\n",
    "        fehler = experiment(nr_sensors)\n",
    "        alle_fehler.append(fehler)\n",
    "        \n",
    "    ergebnisse_x.append( nr_sensors )\n",
    "    ergebnisse_y.append( numpy.mean(alle_fehler) )\n",
    "    "
   ]
  },
  {
   "cell_type": "markdown",
   "id": "141b585c-adff-45cf-9dd0-f286c86014a5",
   "metadata": {},
   "source": [
    "## Modellgüte in Abhängigkeit der Anzahl der Sensoren"
   ]
  },
  {
   "cell_type": "code",
   "execution_count": 174,
   "id": "e56a8ccb-e8db-41df-a682-a0e238275618",
   "metadata": {},
   "outputs": [
    {
     "data": {
      "text/plain": [
       "[2, 3, 4, 5, 6, 7, 8, 9, 10, 11, 12, 13, 14, 15, 16, 17, 18, 19]"
      ]
     },
     "execution_count": 174,
     "metadata": {},
     "output_type": "execute_result"
    }
   ],
   "source": [
    "ergebnisse_x"
   ]
  },
  {
   "cell_type": "code",
   "execution_count": 176,
   "id": "971b5b01-bbdc-44be-8365-ad8c819ea23e",
   "metadata": {},
   "outputs": [
    {
     "data": {
      "text/plain": [
       "[28.486013333333332,\n",
       " 16.499793333333333,\n",
       " 14.033466666666666,\n",
       " 14.408386666666665,\n",
       " 11.581206666666668,\n",
       " 10.826286666666665,\n",
       " 10.1478,\n",
       " 10.216086666666666,\n",
       " 9.609020000000001,\n",
       " 9.023006666666667,\n",
       " 8.986753333333334,\n",
       " 9.102826666666667,\n",
       " 9.3452,\n",
       " 8.513126666666668,\n",
       " 8.664526666666667,\n",
       " 8.516546666666668,\n",
       " 8.043640000000002,\n",
       " 8.06986]"
      ]
     },
     "execution_count": 176,
     "metadata": {},
     "output_type": "execute_result"
    }
   ],
   "source": [
    "ergebnisse_y"
   ]
  },
  {
   "cell_type": "code",
   "execution_count": 177,
   "id": "b2aec344-36c5-4575-919f-e4303c12beb5",
   "metadata": {},
   "outputs": [
    {
     "data": {
      "image/png": "[encoded data removed]",
      "text/plain": [
       "<Figure size 432x288 with 1 Axes>"
      ]
     },
     "metadata": {
      "needs_background": "light"
     },
     "output_type": "display_data"
    }
   ],
   "source": [
    "plt.bar( ergebnisse_x, ergebnisse_y )\n",
    "plt.xlabel(\"Anzahl der Sensoren\")\n",
    "plt.ylabel(\"Durchschnittlicher Fehler bei der Schätzung [cm]\")\n",
    "plt.show()"
   ]
  },
  {
   "cell_type": "code",
   "execution_count": null,
   "id": "35030810-9f2a-43f3-99bd-b38e7b2c587c",
   "metadata": {},
   "outputs": [],
   "source": []
  }
 ],
 "metadata": {
  "kernelspec": {
   "display_name": "Python 3 (ipykernel)",
   "language": "python",
   "name": "python3"
  },
  "language_info": {
   "codemirror_mode": {
    "name": "ipython",
    "version": 3
   },
   "file_extension": ".py",
   "mimetype": "text/x-python",
   "name": "python",
   "nbconvert_exporter": "python",
   "pygments_lexer": "ipython3",
   "version": "3.8.10"
  },
  "toc-autonumbering": true
 },
 "nbformat": 4,
 "nbformat_minor": 5
}
