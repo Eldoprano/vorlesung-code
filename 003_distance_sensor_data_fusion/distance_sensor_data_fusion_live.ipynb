{
 "cells": [
  {
   "cell_type": "markdown",
   "id": "d94e12f8-1b77-4e8d-9ad4-a8cccb98e34d",
   "metadata": {},
   "source": [
    "# Simulation eines Abstandssensors mit linearer Kennlinie"
   ]
  },
  {
   "cell_type": "markdown",
   "id": "005521c6-a608-4742-9c91-4b5e7cc5c56e",
   "metadata": {},
   "source": [
    "## Erzeugen von Zufallszahlen"
   ]
  },
  {
   "cell_type": "code",
   "execution_count": 1,
   "id": "3526d10e-6728-42b1-94f8-3550e473e5cb",
   "metadata": {},
   "outputs": [],
   "source": [
    "# pip install numpy\n",
    "# conda install numpy"
   ]
  },
  {
   "cell_type": "code",
   "execution_count": 2,
   "id": "29df1ead-968a-40b0-9730-8ff68a287ecc",
   "metadata": {},
   "outputs": [],
   "source": [
    "import numpy"
   ]
  },
  {
   "cell_type": "code",
   "execution_count": 3,
   "id": "745eb112-e3d9-4dde-b642-734ba7a3209c",
   "metadata": {},
   "outputs": [],
   "source": [
    "A = numpy.random.normal(loc=3, scale=1.0, size=10000)"
   ]
  },
  {
   "cell_type": "code",
   "execution_count": 4,
   "id": "b472e43b-b1f0-4a58-9d7d-36031d007573",
   "metadata": {},
   "outputs": [
    {
     "data": {
      "text/plain": [
       "array([2.3480085 , 3.57879623, 3.71895052, ..., 2.75668879, 2.27672511,\n",
       "       2.12158533])"
      ]
     },
     "execution_count": 4,
     "metadata": {},
     "output_type": "execute_result"
    }
   ],
   "source": [
    "A"
   ]
  },
  {
   "cell_type": "code",
   "execution_count": 5,
   "id": "f260a4cd-4145-49cd-ac8d-02535763d065",
   "metadata": {},
   "outputs": [],
   "source": [
    "# pip install matplotlib\n",
    "# conda install matplotlib"
   ]
  },
  {
   "cell_type": "code",
   "execution_count": 6,
   "id": "3edb2c05-ea2a-41f8-8e1f-078d62f000ca",
   "metadata": {},
   "outputs": [],
   "source": [
    "import matplotlib.pyplot as plt"
   ]
  },
  {
   "cell_type": "code",
   "execution_count": 7,
   "id": "85e604c1-ae14-4402-9915-ad2ecbb2e581",
   "metadata": {},
   "outputs": [
    {
     "data": {
      "text/plain": [
       "2.994592012671811"
      ]
     },
     "execution_count": 7,
     "metadata": {},
     "output_type": "execute_result"
    }
   ],
   "source": [
    "numpy.mean(A)"
   ]
  },
  {
   "cell_type": "code",
   "execution_count": 8,
   "id": "74458714-fbee-4349-9a73-5d01fe6518f3",
   "metadata": {},
   "outputs": [
    {
     "data": {
      "text/plain": [
       "1.0096643174550777"
      ]
     },
     "execution_count": 8,
     "metadata": {},
     "output_type": "execute_result"
    }
   ],
   "source": [
    "numpy.std(A)"
   ]
  },
  {
   "cell_type": "code",
   "execution_count": 9,
   "id": "64ed34bf-a850-477f-9735-2738a7d60062",
   "metadata": {},
   "outputs": [
    {
     "data": {
      "image/png": "[encoded data removed]",
      "text/plain": [
       "<Figure size 432x288 with 1 Axes>"
      ]
     },
     "metadata": {
      "needs_background": "light"
     },
     "output_type": "display_data"
    }
   ],
   "source": [
    "r = plt.hist(A, bins=50, edgecolor=\"black\", color=\"lightgreen\")\n",
    "plt.show()"
   ]
  },
  {
   "cell_type": "code",
   "execution_count": 10,
   "id": "69575b51-f0b9-4998-9333-b0f08b434efe",
   "metadata": {},
   "outputs": [
    {
     "data": {
      "text/plain": [
       "(array([  2.,   3.,   3.,   7.,   6.,  14.,  23.,  17.,  34.,  51.,  62.,\n",
       "         95., 111., 165., 186., 230., 308., 328., 442., 476., 471., 547.,\n",
       "        567., 628., 605., 557., 580., 548., 468., 485., 400., 317., 280.,\n",
       "        245., 197., 143., 127.,  78.,  54.,  52.,  30.,  22.,   7.,  11.,\n",
       "          4.,   6.,   2.,   2.,   2.,   2.]),\n",
       " array([-0.7114127 , -0.55947396, -0.40753522, -0.25559648, -0.10365775,\n",
       "         0.04828099,  0.20021973,  0.35215847,  0.50409721,  0.65603595,\n",
       "         0.80797468,  0.95991342,  1.11185216,  1.2637909 ,  1.41572964,\n",
       "         1.56766838,  1.71960712,  1.87154585,  2.02348459,  2.17542333,\n",
       "         2.32736207,  2.47930081,  2.63123955,  2.78317828,  2.93511702,\n",
       "         3.08705576,  3.2389945 ,  3.39093324,  3.54287198,  3.69481071,\n",
       "         3.84674945,  3.99868819,  4.15062693,  4.30256567,  4.45450441,\n",
       "         4.60644315,  4.75838188,  4.91032062,  5.06225936,  5.2141981 ,\n",
       "         5.36613684,  5.51807558,  5.67001431,  5.82195305,  5.97389179,\n",
       "         6.12583053,  6.27776927,  6.42970801,  6.58164675,  6.73358548,\n",
       "         6.88552422]),\n",
       " <BarContainer object of 50 artists>)"
      ]
     },
     "execution_count": 10,
     "metadata": {},
     "output_type": "execute_result"
    }
   ],
   "source": [
    "r"
   ]
  },
  {
   "cell_type": "markdown",
   "id": "7553fb51-4a86-4ab9-8d49-4e3599759068",
   "metadata": {},
   "source": [
    "## Eine Sensorklasse"
   ]
  },
  {
   "cell_type": "code",
   "execution_count": 11,
   "id": "3dc01d04-7d04-481e-ab6c-8c90f1218862",
   "metadata": {},
   "outputs": [],
   "source": [
    "class sensor_lineare_kennlinie:\n",
    "    \n",
    "    def __init__(self, bias, noise):\n",
    "        self.bias = bias\n",
    "        self.noise = noise\n",
    "        \n",
    "    def get_sensorwert(self, e):\n",
    "        sensorwert = e + numpy.random.normal(loc=self.bias, scale=self.noise)\n",
    "        return sensorwert\n",
    "    \n",
    "    \n",
    "    def zeige_sensor_kurve(self):\n",
    "        \n",
    "        sensorwerte = []\n",
    "        for e in range(0,101):\n",
    "            sensorwert = self.get_sensorwert(e)\n",
    "            sensorwerte.append( sensorwert )\n",
    "            \n",
    "        plt.plot(sensorwerte)\n",
    "        plt.xlabel(\"Tatsächliche Entfernung (cm)\")\n",
    "        plt.ylabel(\"Sensorwert\")\n",
    "        plt.show()"
   ]
  },
  {
   "cell_type": "code",
   "execution_count": 12,
   "id": "c8f44c00-99b0-4c9a-8d43-5bc953af69bf",
   "metadata": {},
   "outputs": [],
   "source": [
    "s1 = sensor_lineare_kennlinie(-20, 1.0)"
   ]
  },
  {
   "cell_type": "code",
   "execution_count": 13,
   "id": "dfa49f75-1c39-4665-ad2a-b579bf49e328",
   "metadata": {},
   "outputs": [
    {
     "data": {
      "text/plain": [
       "79.08338727623239"
      ]
     },
     "execution_count": 13,
     "metadata": {},
     "output_type": "execute_result"
    }
   ],
   "source": [
    "s1.get_sensorwert(100)"
   ]
  },
  {
   "cell_type": "code",
   "execution_count": 14,
   "id": "894b64d0-95e2-41ad-a41b-95513bd5c812",
   "metadata": {},
   "outputs": [],
   "source": [
    "s2 = sensor_lineare_kennlinie(-5, 3.0)"
   ]
  },
  {
   "cell_type": "code",
   "execution_count": 15,
   "id": "c326a3b5-851d-4682-9be6-c62d3079818e",
   "metadata": {},
   "outputs": [
    {
     "data": {
      "text/plain": [
       "87.98478286584029"
      ]
     },
     "execution_count": 15,
     "metadata": {},
     "output_type": "execute_result"
    }
   ],
   "source": [
    "s2.get_sensorwert(100)"
   ]
  },
  {
   "cell_type": "markdown",
   "id": "6a314c44-5272-4d16-91e0-093ab9717752",
   "metadata": {},
   "source": [
    "## Sensorkurven"
   ]
  },
  {
   "cell_type": "code",
   "execution_count": 16,
   "id": "3301c85e-c08e-49fa-a0a7-fecc7a7c5711",
   "metadata": {},
   "outputs": [],
   "source": [
    "sensorwerte = []\n",
    "for e in range(0,101):\n",
    "    sensorwert = s1.get_sensorwert(e)\n",
    "    sensorwerte.append( sensorwert )"
   ]
  },
  {
   "cell_type": "code",
   "execution_count": 17,
   "id": "9cdf8410-4e03-45c7-a27e-428f5605a24b",
   "metadata": {},
   "outputs": [
    {
     "data": {
      "text/plain": [
       "101"
      ]
     },
     "execution_count": 17,
     "metadata": {},
     "output_type": "execute_result"
    }
   ],
   "source": [
    "len(sensorwerte)"
   ]
  },
  {
   "cell_type": "code",
   "execution_count": 18,
   "id": "613270b7-a73d-483d-9a62-5cf948eedc80",
   "metadata": {},
   "outputs": [
    {
     "data": {
      "text/plain": [
       "[-19.065944029100816,\n",
       " -18.062423797411128,\n",
       " -19.041913815775885,\n",
       " -17.64615732216396,\n",
       " -16.23843280914126]"
      ]
     },
     "execution_count": 18,
     "metadata": {},
     "output_type": "execute_result"
    }
   ],
   "source": [
    "sensorwerte[0:5]"
   ]
  },
  {
   "cell_type": "code",
   "execution_count": 19,
   "id": "90c1a4e9-b1cd-45a8-b032-62a7f21c33b3",
   "metadata": {},
   "outputs": [
    {
     "data": {
      "image/png": "[encoded data removed]",
      "text/plain": [
       "<Figure size 432x288 with 1 Axes>"
      ]
     },
     "metadata": {
      "needs_background": "light"
     },
     "output_type": "display_data"
    }
   ],
   "source": [
    "plt.plot(sensorwerte)\n",
    "plt.show()"
   ]
  },
  {
   "cell_type": "code",
   "execution_count": 20,
   "id": "98ba763f-65eb-48fb-88ac-0688f990f8ba",
   "metadata": {},
   "outputs": [
    {
     "data": {
      "image/png": "[encoded data removed]",
      "text/plain": [
       "<Figure size 432x288 with 1 Axes>"
      ]
     },
     "metadata": {
      "needs_background": "light"
     },
     "output_type": "display_data"
    }
   ],
   "source": [
    "s1.zeige_sensor_kurve()"
   ]
  },
  {
   "cell_type": "code",
   "execution_count": 21,
   "id": "aae54ae6-a473-4cb6-9fab-fbb355ed5fe2",
   "metadata": {},
   "outputs": [
    {
     "data": {
      "image/png": "[encoded data removed]",
      "text/plain": [
       "<Figure size 432x288 with 1 Axes>"
      ]
     },
     "metadata": {
      "needs_background": "light"
     },
     "output_type": "display_data"
    }
   ],
   "source": [
    "s2.zeige_sensor_kurve()"
   ]
  },
  {
   "cell_type": "markdown",
   "id": "4f6a5231-ef39-4e1a-b8cb-f20bbf5be773",
   "metadata": {},
   "source": [
    "# Erste Fusionsansätze"
   ]
  },
  {
   "cell_type": "markdown",
   "id": "7e7ade36-0636-4b7f-b471-58392149c1ef",
   "metadata": {},
   "source": [
    "## Fehlerfunktion für Fusionsergebnisse"
   ]
  },
  {
   "cell_type": "code",
   "execution_count": 22,
   "id": "079dc6f3-2cec-41fd-abe1-cf2713a07787",
   "metadata": {},
   "outputs": [],
   "source": [
    "gw = numpy.array([1,2,3,4,5]) # gw=Grundwahrheit, gt=Ground Truth\n",
    "fusionsergebnisse = numpy.array([1.1, 2.2, 2.9, 4.05, 5.9])"
   ]
  },
  {
   "cell_type": "code",
   "execution_count": 23,
   "id": "35e80ed9-7f95-4be7-846d-ceb07be56bb0",
   "metadata": {},
   "outputs": [
    {
     "data": {
      "text/plain": [
       "array([1, 2, 3, 4, 5])"
      ]
     },
     "execution_count": 23,
     "metadata": {},
     "output_type": "execute_result"
    }
   ],
   "source": [
    "gw"
   ]
  },
  {
   "cell_type": "code",
   "execution_count": 24,
   "id": "ceb198e0-cfcc-4bf1-bafc-13f3399f5ea3",
   "metadata": {},
   "outputs": [
    {
     "data": {
      "text/plain": [
       "array([1.1 , 2.2 , 2.9 , 4.05, 5.9 ])"
      ]
     },
     "execution_count": 24,
     "metadata": {},
     "output_type": "execute_result"
    }
   ],
   "source": [
    "fusionsergebnisse"
   ]
  },
  {
   "cell_type": "code",
   "execution_count": 25,
   "id": "b80f8385-429c-4a2c-8099-62b754ceb699",
   "metadata": {},
   "outputs": [
    {
     "data": {
      "text/plain": [
       "array([-0.1 , -0.2 ,  0.1 , -0.05, -0.9 ])"
      ]
     },
     "execution_count": 25,
     "metadata": {},
     "output_type": "execute_result"
    }
   ],
   "source": [
    "gw - fusionsergebnisse"
   ]
  },
  {
   "cell_type": "code",
   "execution_count": 26,
   "id": "53c671d0-1e04-4516-9271-8891dbab2cff",
   "metadata": {},
   "outputs": [
    {
     "data": {
      "text/plain": [
       "0.27000000000000013"
      ]
     },
     "execution_count": 26,
     "metadata": {},
     "output_type": "execute_result"
    }
   ],
   "source": [
    "numpy.mean(abs(gw - fusionsergebnisse))"
   ]
  },
  {
   "cell_type": "code",
   "execution_count": 27,
   "id": "e5670ce2-38af-4fde-a741-b2395207a054",
   "metadata": {},
   "outputs": [],
   "source": [
    "def MAE(gw, fusionsergebnisse):\n",
    "    return numpy.mean( abs(numpy.array(gw) - numpy.array(fusionsergebnisse)) )"
   ]
  },
  {
   "cell_type": "code",
   "execution_count": 28,
   "id": "32d60759-eea8-41e1-b247-e77af2f8d11a",
   "metadata": {},
   "outputs": [
    {
     "data": {
      "text/plain": [
       "0.27000000000000013"
      ]
     },
     "execution_count": 28,
     "metadata": {},
     "output_type": "execute_result"
    }
   ],
   "source": [
    "MAE(gw, fusionsergebnisse)"
   ]
  },
  {
   "cell_type": "code",
   "execution_count": 29,
   "id": "a46e9332-780d-4afb-8a7e-ea9b79ff9763",
   "metadata": {},
   "outputs": [
    {
     "name": "stdout",
     "output_type": "stream",
     "text": [
      "A\t MAE\t e\t fusionsergebnisse\t gw\t numpy\t plt\t r\t s1\t \n",
      "s2\t sensor_lineare_kennlinie\t sensorwert\t sensorwerte\t \n"
     ]
    }
   ],
   "source": [
    "%who"
   ]
  },
  {
   "cell_type": "code",
   "execution_count": 30,
   "id": "2d755396-01c1-4687-896b-7f978e4eee79",
   "metadata": {},
   "outputs": [
    {
     "name": "stdout",
     "output_type": "stream",
     "text": [
      "Variable                   Type                        Data/Info\n",
      "----------------------------------------------------------------\n",
      "A                          ndarray                     10000: 10000 elems, type `float64`, 80000 bytes\n",
      "MAE                        function                    <function MAE at 0x7ff0c7c1c3a0>\n",
      "e                          int                         100\n",
      "fusionsergebnisse          ndarray                     5: 5 elems, type `float64`, 40 bytes\n",
      "gw                         ndarray                     5: 5 elems, type `int64`, 40 bytes\n",
      "numpy                      module                      <module 'numpy' from '/ho<...>kages/numpy/__init__.py'>\n",
      "plt                        module                      <module 'matplotlib.pyplo<...>es/matplotlib/pyplot.py'>\n",
      "r                          tuple                       n=3\n",
      "s1                         sensor_lineare_kennlinie    <__main__.sensor_lineare_<...>object at 0x7ff0c7de1e20>\n",
      "s2                         sensor_lineare_kennlinie    <__main__.sensor_lineare_<...>object at 0x7ff0c7d9f4c0>\n",
      "sensor_lineare_kennlinie   type                        <class '__main__.sensor_lineare_kennlinie'>\n",
      "sensorwert                 float                       79.5399316443222\n",
      "sensorwerte                list                        n=101\n"
     ]
    }
   ],
   "source": [
    "%whos"
   ]
  },
  {
   "cell_type": "markdown",
   "id": "788a145b-73b8-4c4d-a25f-85916f3bc673",
   "metadata": {},
   "source": [
    "## Auswertung für Sensor 1 und Sensor 2"
   ]
  },
  {
   "cell_type": "code",
   "execution_count": 31,
   "id": "09d0e443-c2e2-4aa3-928d-c25c16e145e1",
   "metadata": {},
   "outputs": [],
   "source": [
    "def erzeuge_messreihe(s,N):\n",
    "    \n",
    "    gw = []\n",
    "    sensorwerte = []\n",
    "    \n",
    "    for e in range(0,N):\n",
    "        sensorwert = s.get_sensorwert(e)\n",
    "        gw.append(e)\n",
    "        sensorwerte.append( sensorwert )\n",
    "        \n",
    "    return numpy.array(gw), numpy.array(sensorwerte)"
   ]
  },
  {
   "cell_type": "code",
   "execution_count": 32,
   "id": "23bda686-2cac-4667-ac1c-3661bdbf68fb",
   "metadata": {},
   "outputs": [
    {
     "data": {
      "text/plain": [
       "19.987384304551984"
      ]
     },
     "execution_count": 32,
     "metadata": {},
     "output_type": "execute_result"
    }
   ],
   "source": [
    "gw, sensorwerte = erzeuge_messreihe(s1, 1000)\n",
    "MAE(gw, sensorwerte)"
   ]
  },
  {
   "cell_type": "code",
   "execution_count": 33,
   "id": "b9b694a5-2027-451a-9504-6776ee8d2c4d",
   "metadata": {},
   "outputs": [
    {
     "data": {
      "text/plain": [
       "array([0, 1, 2, 3, 4])"
      ]
     },
     "execution_count": 33,
     "metadata": {},
     "output_type": "execute_result"
    }
   ],
   "source": [
    "gw[0:5]"
   ]
  },
  {
   "cell_type": "code",
   "execution_count": 34,
   "id": "c46038ae-2231-4c8f-be4d-b42249a287c7",
   "metadata": {},
   "outputs": [
    {
     "data": {
      "text/plain": [
       "array([-20.37147324, -19.57856584, -18.44587278, -15.6190466 ,\n",
       "       -16.70408322])"
      ]
     },
     "execution_count": 34,
     "metadata": {},
     "output_type": "execute_result"
    }
   ],
   "source": [
    "sensorwerte[0:5]"
   ]
  },
  {
   "cell_type": "code",
   "execution_count": 35,
   "id": "df6dd332-15d9-4af5-9c4b-5c37f9a8814f",
   "metadata": {},
   "outputs": [
    {
     "data": {
      "text/plain": [
       "5.2389403092767735"
      ]
     },
     "execution_count": 35,
     "metadata": {},
     "output_type": "execute_result"
    }
   ],
   "source": [
    "gw, sensorwerte = erzeuge_messreihe(s2, 1000)\n",
    "MAE(gw, sensorwerte)"
   ]
  },
  {
   "cell_type": "markdown",
   "id": "a26d14a5-c3af-47ce-bfa2-a527455b5efb",
   "metadata": {},
   "source": [
    "## Sensorfusion über eine einfache Mittelwertbildung"
   ]
  },
  {
   "cell_type": "code",
   "execution_count": 36,
   "id": "91ed893e-aa7d-4b6b-8767-1efee2dd45d9",
   "metadata": {},
   "outputs": [],
   "source": [
    "gw, sensorwerte1 = erzeuge_messreihe(s1, 1000)\n",
    "gw, sensorwerte2 = erzeuge_messreihe(s2, 1000)"
   ]
  },
  {
   "cell_type": "code",
   "execution_count": 37,
   "id": "c1cd3357-c702-4512-acbb-f2dbb53fce8f",
   "metadata": {},
   "outputs": [
    {
     "data": {
      "text/plain": [
       "array([-19.91663543, -19.72307951, -17.02198091, -16.06174368,\n",
       "       -16.9428328 ])"
      ]
     },
     "execution_count": 37,
     "metadata": {},
     "output_type": "execute_result"
    }
   ],
   "source": [
    "sensorwerte1[0:5]"
   ]
  },
  {
   "cell_type": "code",
   "execution_count": 38,
   "id": "58ae8e3b-29a5-4534-9cbb-f6e66d8fa0b3",
   "metadata": {},
   "outputs": [
    {
     "data": {
      "text/plain": [
       "array([-10.84197632,  -1.61022084,  -4.89590465,  -8.10784781,\n",
       "        -0.42725208])"
      ]
     },
     "execution_count": 38,
     "metadata": {},
     "output_type": "execute_result"
    }
   ],
   "source": [
    "sensorwerte2[0:5]"
   ]
  },
  {
   "cell_type": "code",
   "execution_count": 39,
   "id": "8036d0cf-e77d-423e-b5b6-ecb2fd8132ec",
   "metadata": {},
   "outputs": [],
   "source": [
    "fusionsergebnisse = (sensorwerte1+sensorwerte2) / 2"
   ]
  },
  {
   "cell_type": "code",
   "execution_count": 40,
   "id": "46b2efca-acc3-481c-98bc-ab0f45657790",
   "metadata": {},
   "outputs": [
    {
     "data": {
      "text/plain": [
       "numpy.ndarray"
      ]
     },
     "execution_count": 40,
     "metadata": {},
     "output_type": "execute_result"
    }
   ],
   "source": [
    "type(fusionsergebnisse)"
   ]
  },
  {
   "cell_type": "code",
   "execution_count": 41,
   "id": "65acf4e1-3df7-4dd7-b4f5-6c20e9b7b48d",
   "metadata": {},
   "outputs": [
    {
     "data": {
      "text/plain": [
       "array([-15.37930587, -10.66665017, -10.95894278, -12.08479574,\n",
       "        -8.68504244])"
      ]
     },
     "execution_count": 41,
     "metadata": {},
     "output_type": "execute_result"
    }
   ],
   "source": [
    "fusionsergebnisse[0:5]"
   ]
  },
  {
   "cell_type": "code",
   "execution_count": 42,
   "id": "fbda6a73-c7ac-45ac-9aa6-c160ad6e0c84",
   "metadata": {},
   "outputs": [
    {
     "data": {
      "text/plain": [
       "12.461318069358832"
      ]
     },
     "execution_count": 42,
     "metadata": {},
     "output_type": "execute_result"
    }
   ],
   "source": [
    "MAE(gw, fusionsergebnisse)"
   ]
  },
  {
   "cell_type": "markdown",
   "id": "096270f7-14f8-42f7-8dc8-b62c627ce82b",
   "metadata": {},
   "source": [
    "**Fazit: Eine einfache Mittelwertbildung bringt es nicht!**"
   ]
  },
  {
   "cell_type": "markdown",
   "id": "a1065b30-cdd3-4533-8a37-959730ce1566",
   "metadata": {},
   "source": [
    "## Sensorfusion mit Biaskorrektur und Mittelwertbildung"
   ]
  },
  {
   "cell_type": "code",
   "execution_count": 43,
   "id": "68d8a824-9242-4b4b-b981-677bd19c08d0",
   "metadata": {},
   "outputs": [],
   "source": [
    "def ME(gw, fusionsergebnisse):\n",
    "    return numpy.mean(gw - fusionsergebnisse)"
   ]
  },
  {
   "cell_type": "code",
   "execution_count": 44,
   "id": "c304b3e8-0396-46b6-9f93-dd91f9ce4732",
   "metadata": {},
   "outputs": [
    {
     "data": {
      "text/plain": [
       "19.985739060496037"
      ]
     },
     "execution_count": 44,
     "metadata": {},
     "output_type": "execute_result"
    }
   ],
   "source": [
    "bias1 = ME(gw, sensorwerte1)\n",
    "bias1"
   ]
  },
  {
   "cell_type": "code",
   "execution_count": 45,
   "id": "f81769a6-81c3-4258-9b31-9df02da4b2e5",
   "metadata": {},
   "outputs": [
    {
     "data": {
      "text/plain": [
       "4.936897078221624"
      ]
     },
     "execution_count": 45,
     "metadata": {},
     "output_type": "execute_result"
    }
   ],
   "source": [
    "bias2 = ME(gw, sensorwerte2)\n",
    "bias2"
   ]
  },
  {
   "cell_type": "code",
   "execution_count": 46,
   "id": "3480372b-da7d-4e69-8681-0707d4f0a3d4",
   "metadata": {},
   "outputs": [],
   "source": [
    "fusionsergebnisse2 = ((sensorwerte1+bias1) + (sensorwerte2+bias2)) / 2"
   ]
  },
  {
   "cell_type": "code",
   "execution_count": 47,
   "id": "20910ee5-3998-452a-83a5-1c86eca5bb17",
   "metadata": {},
   "outputs": [
    {
     "data": {
      "text/plain": [
       "array([-2.91798781,  1.7946679 ,  1.50237529,  0.37652233,  3.77627563])"
      ]
     },
     "execution_count": 47,
     "metadata": {},
     "output_type": "execute_result"
    }
   ],
   "source": [
    "fusionsergebnisse2[0:5]"
   ]
  },
  {
   "cell_type": "code",
   "execution_count": 48,
   "id": "cca29e1f-849d-4abf-bf8e-1b59bb44c63a",
   "metadata": {},
   "outputs": [
    {
     "data": {
      "text/plain": [
       "1.3293417069860698"
      ]
     },
     "execution_count": 48,
     "metadata": {},
     "output_type": "execute_result"
    }
   ],
   "source": [
    "MAE(gw, fusionsergebnisse2)"
   ]
  },
  {
   "cell_type": "markdown",
   "id": "336091b4-3c30-4f21-a496-649c9c4e5263",
   "metadata": {},
   "source": [
    "Ohne Mittelwerbildung? Nur Verwenden der Sensordaten von Sensor 1 oder Sensor 2?"
   ]
  },
  {
   "cell_type": "code",
   "execution_count": 49,
   "id": "8925e8c9-f811-45b2-bf71-fe49ffb1bb2e",
   "metadata": {},
   "outputs": [],
   "source": [
    "fusionsergebnisse3 = sensorwerte1+bias1"
   ]
  },
  {
   "cell_type": "code",
   "execution_count": 50,
   "id": "d83237bc-cb01-4438-9f22-f3e92ee52410",
   "metadata": {},
   "outputs": [
    {
     "data": {
      "text/plain": [
       "0.8142924044648318"
      ]
     },
     "execution_count": 50,
     "metadata": {},
     "output_type": "execute_result"
    }
   ],
   "source": [
    "MAE(gw, fusionsergebnisse3)"
   ]
  },
  {
   "cell_type": "code",
   "execution_count": 51,
   "id": "503e8539-c1cc-492f-803c-d45d9402b021",
   "metadata": {},
   "outputs": [],
   "source": [
    "fusionsergebnisse4 = sensorwerte2+bias2"
   ]
  },
  {
   "cell_type": "code",
   "execution_count": 52,
   "id": "dd7631dc-694c-447c-816e-221f7db9bf64",
   "metadata": {},
   "outputs": [
    {
     "data": {
      "text/plain": [
       "2.4529185568064236"
      ]
     },
     "execution_count": 52,
     "metadata": {},
     "output_type": "execute_result"
    }
   ],
   "source": [
    "MAE(gw, fusionsergebnisse4)"
   ]
  },
  {
   "cell_type": "markdown",
   "id": "643f31e1-885d-4398-bb99-350d85ab0849",
   "metadata": {},
   "source": [
    "# Simulation eines Abstandssensors mit nicht-linearer Kennlinie"
   ]
  },
  {
   "cell_type": "markdown",
   "id": "ec487c51-8bd1-49ee-9f71-ab62bd8f03fc",
   "metadata": {},
   "source": [
    "## Der Logarithmus ist eine nicht-lineare Funktion"
   ]
  },
  {
   "cell_type": "code",
   "execution_count": 53,
   "id": "8e336bc9-9d0e-4fbc-81d2-4067035518bc",
   "metadata": {},
   "outputs": [],
   "source": [
    "x = numpy.arange(1,1001)"
   ]
  },
  {
   "cell_type": "code",
   "execution_count": 54,
   "id": "36eea4e3-051e-42bb-b097-8b048a1b01ac",
   "metadata": {},
   "outputs": [
    {
     "data": {
      "text/plain": [
       "array([  1,   2,   3,   4,   5,   6,   7,   8,   9,  10,  11,  12,  13,\n",
       "        14,  15,  16,  17,  18,  19,  20,  21,  22,  23,  24,  25,  26,\n",
       "        27,  28,  29,  30,  31,  32,  33,  34,  35,  36,  37,  38,  39,\n",
       "        40,  41,  42,  43,  44,  45,  46,  47,  48,  49,  50,  51,  52,\n",
       "        53,  54,  55,  56,  57,  58,  59,  60,  61,  62,  63,  64,  65,\n",
       "        66,  67,  68,  69,  70,  71,  72,  73,  74,  75,  76,  77,  78,\n",
       "        79,  80,  81,  82,  83,  84,  85,  86,  87,  88,  89,  90,  91,\n",
       "        92,  93,  94,  95,  96,  97,  98,  99, 100])"
      ]
     },
     "execution_count": 54,
     "metadata": {},
     "output_type": "execute_result"
    }
   ],
   "source": [
    "x[:100]"
   ]
  },
  {
   "cell_type": "code",
   "execution_count": 55,
   "id": "63cec761-3005-4803-910a-e73d60f05736",
   "metadata": {},
   "outputs": [],
   "source": [
    "y = numpy.log(x)"
   ]
  },
  {
   "cell_type": "code",
   "execution_count": 56,
   "id": "a517d7a3-8d8d-4213-8511-245eb9b2e0d7",
   "metadata": {},
   "outputs": [
    {
     "data": {
      "text/plain": [
       "array([0.        , 0.69314718, 1.09861229, 1.38629436, 1.60943791,\n",
       "       1.79175947, 1.94591015, 2.07944154, 2.19722458, 2.30258509,\n",
       "       2.39789527, 2.48490665, 2.56494936, 2.63905733, 2.7080502 ,\n",
       "       2.77258872, 2.83321334, 2.89037176, 2.94443898, 2.99573227,\n",
       "       3.04452244, 3.09104245, 3.13549422, 3.17805383, 3.21887582,\n",
       "       3.25809654, 3.29583687, 3.33220451, 3.36729583, 3.40119738,\n",
       "       3.4339872 , 3.4657359 , 3.49650756, 3.52636052, 3.55534806,\n",
       "       3.58351894, 3.61091791, 3.63758616, 3.66356165, 3.68887945,\n",
       "       3.71357207, 3.73766962, 3.76120012, 3.78418963, 3.80666249,\n",
       "       3.8286414 , 3.8501476 , 3.87120101, 3.8918203 , 3.91202301,\n",
       "       3.93182563, 3.95124372, 3.97029191, 3.98898405, 4.00733319,\n",
       "       4.02535169, 4.04305127, 4.06044301, 4.07753744, 4.09434456,\n",
       "       4.11087386, 4.12713439, 4.14313473, 4.15888308, 4.17438727,\n",
       "       4.18965474, 4.20469262, 4.21950771, 4.2341065 , 4.24849524,\n",
       "       4.26267988, 4.27666612, 4.29045944, 4.30406509, 4.31748811,\n",
       "       4.33073334, 4.34380542, 4.35670883, 4.36944785, 4.38202663,\n",
       "       4.39444915, 4.40671925, 4.41884061, 4.4308168 , 4.44265126,\n",
       "       4.4543473 , 4.46590812, 4.47733681, 4.48863637, 4.49980967,\n",
       "       4.51085951, 4.52178858, 4.53259949, 4.54329478, 4.55387689,\n",
       "       4.56434819, 4.57471098, 4.58496748, 4.59511985, 4.60517019])"
      ]
     },
     "execution_count": 56,
     "metadata": {},
     "output_type": "execute_result"
    }
   ],
   "source": [
    "y[:100]"
   ]
  },
  {
   "cell_type": "code",
   "execution_count": 57,
   "id": "3c1e74f2-8b9e-44fc-b088-60f4ab5d3d99",
   "metadata": {},
   "outputs": [
    {
     "data": {
      "image/png": "[encoded data removed]",
      "text/plain": [
       "<Figure size 432x288 with 1 Axes>"
      ]
     },
     "metadata": {
      "needs_background": "light"
     },
     "output_type": "display_data"
    }
   ],
   "source": [
    "plt.plot(x,y)\n",
    "#plt.scatter(x,y, marker=\"<\")\n",
    "plt.show()"
   ]
  },
  {
   "cell_type": "markdown",
   "id": "da05bec4-23c6-405a-b3c6-00ed7359b755",
   "metadata": {},
   "source": [
    "## Eine neue Sensor-Klasse"
   ]
  },
  {
   "cell_type": "code",
   "execution_count": 58,
   "id": "e98ce3a6-97c7-490c-b205-22d56bdb9e14",
   "metadata": {},
   "outputs": [],
   "source": [
    "class sensor_nichtlineare_kennlinie:\n",
    "    \n",
    "    def __init__(self, bias, noise):\n",
    "        self.bias = bias\n",
    "        self.noise = noise\n",
    "        \n",
    "    def get_sensorwert(self, e):\n",
    "        sensorwert = e + numpy.random.normal(loc=self.bias, scale=self.noise) + 500*numpy.log(1+e)\n",
    "        return sensorwert\n",
    "    \n",
    "    \n",
    "    def zeige_sensor_kurve(self):\n",
    "        \n",
    "        sensorwerte = []\n",
    "        for e in range(0,1001):\n",
    "            sensorwert = self.get_sensorwert(e)\n",
    "            sensorwerte.append( sensorwert )\n",
    "            \n",
    "        plt.plot(sensorwerte)\n",
    "        plt.xlabel(\"Tatsächliche Entfernung (cm)\")\n",
    "        plt.ylabel(\"Sensorwert\")\n",
    "        plt.show()"
   ]
  },
  {
   "cell_type": "code",
   "execution_count": 59,
   "id": "8e8c52d0-a3fe-4537-a8fc-abb72298e95a",
   "metadata": {},
   "outputs": [],
   "source": [
    "s3 = sensor_nichtlineare_kennlinie(50,40)"
   ]
  },
  {
   "cell_type": "code",
   "execution_count": 60,
   "id": "dc195641-10f8-413f-80cc-4376526bfaab",
   "metadata": {},
   "outputs": [
    {
     "data": {
      "image/png": "[encoded data removed]",
      "text/plain": [
       "<Figure size 432x288 with 1 Axes>"
      ]
     },
     "metadata": {
      "needs_background": "light"
     },
     "output_type": "display_data"
    }
   ],
   "source": [
    "s3.zeige_sensor_kurve()"
   ]
  },
  {
   "cell_type": "code",
   "execution_count": 61,
   "id": "359b7c7a-c897-4f7d-8c99-072cc85cd6b2",
   "metadata": {},
   "outputs": [],
   "source": [
    "s4 = sensor_nichtlineare_kennlinie(-100,80)"
   ]
  },
  {
   "cell_type": "code",
   "execution_count": 62,
   "id": "1fa27555-fc70-4b87-a3a0-41b98578e358",
   "metadata": {},
   "outputs": [
    {
     "data": {
      "image/png": "[encoded data removed]",
      "text/plain": [
       "<Figure size 432x288 with 1 Axes>"
      ]
     },
     "metadata": {
      "needs_background": "light"
     },
     "output_type": "display_data"
    }
   ],
   "source": [
    "s4.zeige_sensor_kurve()"
   ]
  },
  {
   "cell_type": "code",
   "execution_count": 63,
   "id": "c6b051e8-8e2a-48db-84a5-455a59e20905",
   "metadata": {},
   "outputs": [
    {
     "data": {
      "text/plain": [
       "2036.4241250923988"
      ]
     },
     "execution_count": 63,
     "metadata": {},
     "output_type": "execute_result"
    }
   ],
   "source": [
    "s4.get_sensorwert(60)"
   ]
  },
  {
   "cell_type": "markdown",
   "id": "8559d47e-98ca-406d-a60e-6a6e36acb25f",
   "metadata": {},
   "source": [
    "# Neuer Fusionsansatz über Inverse Sensormodelle"
   ]
  },
  {
   "cell_type": "markdown",
   "id": "fc7b9278-e09d-4daa-9622-22e6cfc2123e",
   "metadata": {},
   "source": [
    "## Inverses Sensormodell (ISM)"
   ]
  },
  {
   "cell_type": "code",
   "execution_count": 64,
   "id": "2e858f77-4470-4b9e-8b76-79ff60ea1ee9",
   "metadata": {},
   "outputs": [],
   "source": [
    "# Aufbauen einer LUT (Look-Up-Table):\n",
    "# Sensorwert -> Entfernung (ISM)\n",
    "\n",
    "ism_s4 = {}\n",
    "\n",
    "for e in range(0,1001):\n",
    "\n",
    "    sensorwerte = []\n",
    "    for run in range(0,50):        \n",
    "        sensorwert = s4.get_sensorwert( e )\n",
    "        sensorwerte.append( sensorwert )\n",
    "        \n",
    "    mittlerer_sensorwert = numpy.mean( sensorwerte )\n",
    "    \n",
    "    ism_s4[mittlerer_sensorwert] = e"
   ]
  },
  {
   "cell_type": "code",
   "execution_count": 65,
   "id": "bec07a39-5050-4e63-aff8-c47d8bba9c4e",
   "metadata": {},
   "outputs": [
    {
     "data": {
      "text/plain": [
       "dict"
      ]
     },
     "execution_count": 65,
     "metadata": {},
     "output_type": "execute_result"
    }
   ],
   "source": [
    "type(ism_s4)"
   ]
  },
  {
   "cell_type": "code",
   "execution_count": 66,
   "id": "c15d8a07-db66-4a9f-af56-781b95e28156",
   "metadata": {},
   "outputs": [],
   "source": [
    "gw = [ism_s4[key] for key in ism_s4]\n",
    "messwerte = [key for key in ism_s4]"
   ]
  },
  {
   "cell_type": "code",
   "execution_count": 67,
   "id": "71597eec-a5be-4865-8b51-2cfeae7fb370",
   "metadata": {},
   "outputs": [
    {
     "data": {
      "text/plain": [
       "[0, 1, 2, 3, 4]"
      ]
     },
     "execution_count": 67,
     "metadata": {},
     "output_type": "execute_result"
    }
   ],
   "source": [
    "gw[:5]"
   ]
  },
  {
   "cell_type": "code",
   "execution_count": 68,
   "id": "6cf9d182-1d15-4b5b-994e-bd0ef9b4c480",
   "metadata": {},
   "outputs": [
    {
     "data": {
      "text/plain": [
       "[-89.9167221045042,\n",
       " 260.2748844394226,\n",
       " 454.16026725099454,\n",
       " 613.1783696972984,\n",
       " 719.043003785595]"
      ]
     },
     "execution_count": 68,
     "metadata": {},
     "output_type": "execute_result"
    }
   ],
   "source": [
    "messwerte[:5]"
   ]
  },
  {
   "cell_type": "code",
   "execution_count": 69,
   "id": "50c17515-2294-43a5-96d7-446a4133f957",
   "metadata": {},
   "outputs": [
    {
     "data": {
      "image/png": "[encoded data removed]",
      "text/plain": [
       "<Figure size 432x288 with 1 Axes>"
      ]
     },
     "metadata": {
      "needs_background": "light"
     },
     "output_type": "display_data"
    }
   ],
   "source": [
    "plt.plot(gw, messwerte)\n",
    "plt.show()"
   ]
  },
  {
   "cell_type": "code",
   "execution_count": 70,
   "id": "0e53c96f-5f5e-4822-a667-d527e8a6eabd",
   "metadata": {},
   "outputs": [],
   "source": [
    "# Suche nach einem ähnlichen Sensorwert in der LUT\n",
    "sensorwert = 399\n",
    "min_dist = None\n",
    "best_key = None\n",
    "\n",
    "for key in ism_s4:\n",
    "    dist = abs(sensorwert - key)\n",
    "    if best_key == None or dist < min_dist:\n",
    "        best_key = key\n",
    "        min_dist = dist"
   ]
  },
  {
   "cell_type": "code",
   "execution_count": 71,
   "id": "fe7d9f75-7b0e-4c1f-97da-cde324079b79",
   "metadata": {},
   "outputs": [
    {
     "data": {
      "text/plain": [
       "454.16026725099454"
      ]
     },
     "execution_count": 71,
     "metadata": {},
     "output_type": "execute_result"
    }
   ],
   "source": [
    "best_key"
   ]
  },
  {
   "cell_type": "code",
   "execution_count": 72,
   "id": "40728436-9dd0-4b5d-8333-4179caa1d211",
   "metadata": {},
   "outputs": [],
   "source": [
    "class ism:\n",
    "    \n",
    "    def __init__(self, s):\n",
    "        self.sensor = s\n",
    "        \n",
    "    def baue_lut_auf(self):\n",
    "        \n",
    "        self.lut = {}\n",
    "        for e in range(0,1001):\n",
    "\n",
    "            sensorwerte = []\n",
    "            for run in range(0,50):        \n",
    "                sensorwert = self.sensor.get_sensorwert( e )\n",
    "                sensorwerte.append( sensorwert )\n",
    "\n",
    "            mittlerer_sensorwert = numpy.mean( sensorwerte )\n",
    "\n",
    "            self.lut[mittlerer_sensorwert] = e\n",
    "            \n",
    "            \n",
    "    def sensorwert_zu_entfernung(self, sensorwert):\n",
    "        min_dist = None\n",
    "        best_key = None\n",
    "\n",
    "        for key in self.lut:\n",
    "            dist = abs(sensorwert - key)\n",
    "            if best_key == None or dist < min_dist:\n",
    "                best_key = key\n",
    "                min_dist = dist\n",
    "                \n",
    "        beste_entfernungs_schaetzung = self.lut[best_key]\n",
    "        return beste_entfernungs_schaetzung"
   ]
  },
  {
   "cell_type": "code",
   "execution_count": 73,
   "id": "e8cd819f-7e5f-4811-a862-cc65e4f9afc0",
   "metadata": {},
   "outputs": [],
   "source": [
    "ism_s4 = ism(s4)"
   ]
  },
  {
   "cell_type": "code",
   "execution_count": 74,
   "id": "a75f9227-03b6-4699-9d26-6267aa03c4c0",
   "metadata": {},
   "outputs": [
    {
     "data": {
      "text/plain": [
       "__main__.ism"
      ]
     },
     "execution_count": 74,
     "metadata": {},
     "output_type": "execute_result"
    }
   ],
   "source": [
    "type(ism_s4)"
   ]
  },
  {
   "cell_type": "code",
   "execution_count": 75,
   "id": "22a66341-c64f-44f7-9598-c2dc3c9bc555",
   "metadata": {},
   "outputs": [],
   "source": [
    "ism_s4.baue_lut_auf()"
   ]
  },
  {
   "cell_type": "code",
   "execution_count": 76,
   "id": "dab1b4f2-6f4e-4914-9d29-c4f6ecd59076",
   "metadata": {},
   "outputs": [
    {
     "data": {
      "text/plain": [
       "3635.4098547634485"
      ]
     },
     "execution_count": 76,
     "metadata": {},
     "output_type": "execute_result"
    }
   ],
   "source": [
    "ein_sensorwert = s4.get_sensorwert(500)\n",
    "ein_sensorwert"
   ]
  },
  {
   "cell_type": "code",
   "execution_count": 77,
   "id": "a5c6fa72-c073-478e-9781-6a0e903a422d",
   "metadata": {},
   "outputs": [
    {
     "data": {
      "text/plain": [
       "560"
      ]
     },
     "execution_count": 77,
     "metadata": {},
     "output_type": "execute_result"
    }
   ],
   "source": [
    "ism_s4.sensorwert_zu_entfernung( ein_sensorwert )"
   ]
  },
  {
   "cell_type": "markdown",
   "id": "77abc352-1023-4866-92b5-eec7b9f6c291",
   "metadata": {},
   "source": [
    "## Sensordatenfusion über inverse Sensormodelle"
   ]
  },
  {
   "cell_type": "code",
   "execution_count": 78,
   "id": "11cf4acf-b5ae-4063-990d-faacb508d4bc",
   "metadata": {},
   "outputs": [],
   "source": [
    "s3 = sensor_nichtlineare_kennlinie(50,5)\n",
    "s4 = sensor_nichtlineare_kennlinie(-100,20)\n",
    "\n",
    "ism_s3 = ism(s3)\n",
    "ism_s3.baue_lut_auf()\n",
    "\n",
    "ism_s4 = ism(s4)\n",
    "ism_s4.baue_lut_auf()"
   ]
  },
  {
   "cell_type": "code",
   "execution_count": 79,
   "id": "465942e4-3b19-4130-985b-55e671b7af45",
   "metadata": {},
   "outputs": [],
   "source": [
    "gw = []\n",
    "fusions_ergebnisse = []\n",
    "\n",
    "for e in range(0,1001):\n",
    "    sensorwert_s3 = s3.get_sensorwert(e)\n",
    "    sensorwert_s4 = s4.get_sensorwert(e)\n",
    "    \n",
    "    entfernungs_schaetzung_s3 = ism_s3.sensorwert_zu_entfernung( sensorwert_s3 )\n",
    "    entfernungs_schaetzung_s4 = ism_s4.sensorwert_zu_entfernung( sensorwert_s4 )\n",
    "    \n",
    "    # Fall Nr 1.: Nur Sensor 3\n",
    "    fusionierte_finale_entfernungs_schaetzung = entfernungs_schaetzung_s3\n",
    "    \n",
    "    # Fall Nr 2.: Nur Sensor 4\n",
    "    #fusionierte_finale_entfernungs_schaetzung = entfernungs_schaetzung_s4\n",
    "    \n",
    "    # Fall Nr 3. Mittelwertbildung von Sensor 3 und Sensor 4\n",
    "    # fusionierte_finale_entfernungs_schaetzung = (entfernungs_schaetzung_s3 + entfernungs_schaetzung_s4) / 2\n",
    "    \n",
    "    gw.append(e)\n",
    "    fusions_ergebnisse.append( fusionierte_finale_entfernungs_schaetzung )"
   ]
  },
  {
   "cell_type": "code",
   "execution_count": 80,
   "id": "b7674492-4d10-44af-a493-085c7ef95761",
   "metadata": {},
   "outputs": [
    {
     "data": {
      "image/png": "[encoded data removed]",
      "text/plain": [
       "<Figure size 432x288 with 1 Axes>"
      ]
     },
     "metadata": {
      "needs_background": "light"
     },
     "output_type": "display_data"
    }
   ],
   "source": [
    "plt.plot(gw, fusions_ergebnisse)\n",
    "plt.show()"
   ]
  },
  {
   "cell_type": "code",
   "execution_count": 81,
   "id": "7f2cf4c0-5d2a-4ed5-955c-a9cfc2e152bd",
   "metadata": {},
   "outputs": [
    {
     "data": {
      "text/plain": [
       "1.896103896103896"
      ]
     },
     "execution_count": 81,
     "metadata": {},
     "output_type": "execute_result"
    }
   ],
   "source": [
    "MAE(gw, fusions_ergebnisse)"
   ]
  },
  {
   "cell_type": "markdown",
   "id": "2c26b496-ae78-4bb9-838a-8dcbf8af8035",
   "metadata": {},
   "source": [
    "| Fusionsart  | Ergebnis / MAE [cm] |\n",
    "| ----------- | ----------- |\n",
    "| Nur Sensor3 | 1.78        |\n",
    "| Nur Sensor4 | 7.23        |\n",
    "| Mittelung   | 3.72        |"
   ]
  },
  {
   "cell_type": "markdown",
   "id": "de5a9846-439d-42c6-a093-3c08b530bd81",
   "metadata": {},
   "source": [
    "**Fazit: Auch hier ist die Mittelwertbildung nicht hilfreich!**"
   ]
  },
  {
   "cell_type": "markdown",
   "id": "ae5c79ed-858a-403f-a3b8-52771dbcd64b",
   "metadata": {},
   "source": [
    "# Simulation eines komplexeren Abstandssensors"
   ]
  },
  {
   "cell_type": "markdown",
   "id": "0c730cac-971f-490e-a0fb-c7bc928ad790",
   "metadata": {},
   "source": [
    "## Komplexere Kennlinie erzeugen"
   ]
  },
  {
   "cell_type": "code",
   "execution_count": 82,
   "id": "22a05adc-1722-40dd-becc-59e09395a180",
   "metadata": {},
   "outputs": [
    {
     "data": {
      "image/png": "[encoded data removed]",
      "text/plain": [
       "<Figure size 432x288 with 1 Axes>"
      ]
     },
     "metadata": {
      "needs_background": "light"
     },
     "output_type": "display_data"
    }
   ],
   "source": [
    "import matplotlib.pyplot as plt\n",
    "import numpy\n",
    "bias = -50\n",
    "noise = 20\n",
    "pos = 500\n",
    "gw = []\n",
    "sensorwerte = []\n",
    "for e in range(0,1000):\n",
    "    sensorwert = e + numpy.random.normal(loc=bias, scale=noise) + \\\n",
    "                 50*numpy.sin(e/10) + ((e-pos)/20)**2\n",
    "    gw.append( e )\n",
    "    sensorwerte.append( sensorwert )\n",
    "plt.plot(gw,sensorwerte)\n",
    "plt.show()"
   ]
  },
  {
   "cell_type": "markdown",
   "id": "208bc31b-44c1-4830-84e4-64f7ff24715a",
   "metadata": {},
   "source": [
    "## Neue Sensorklasse"
   ]
  },
  {
   "cell_type": "code",
   "execution_count": 83,
   "id": "9f3c60b1-6065-4349-9f35-025246953b0f",
   "metadata": {},
   "outputs": [],
   "source": [
    "class sensor_complex:\n",
    "    \n",
    "    def __init__(self, bias, noise, pos):\n",
    "        self.bias = bias\n",
    "        self.noise = noise\n",
    "        self.pos = pos\n",
    "        \n",
    "    def get_sensorwert(self, e):\n",
    "        sensorwert = e + numpy.random.normal(loc=self.bias, scale=self.noise) + \\\n",
    "                    50*numpy.sin(e/10) + ((e-self.pos)/20)**2\n",
    "        return sensorwert\n",
    "    \n",
    "    def zeige_sensor_kurve(self):\n",
    "        \n",
    "        sensorwerte = []\n",
    "        for e in range(0,1001):\n",
    "            sensorwert = self.get_sensorwert(e)\n",
    "            sensorwerte.append( sensorwert )\n",
    "            \n",
    "        plt.plot(sensorwerte)\n",
    "        plt.xlabel(\"Tatsächliche Entfernung (cm)\")\n",
    "        plt.ylabel(\"Sensorwert\")\n",
    "        plt.show()       "
   ]
  },
  {
   "cell_type": "code",
   "execution_count": 84,
   "id": "3c3a4a95-8973-4a70-b3bd-e4ef3f3f0a3e",
   "metadata": {},
   "outputs": [
    {
     "data": {
      "image/png": "[encoded data removed]",
      "text/plain": [
       "<Figure size 432x288 with 1 Axes>"
      ]
     },
     "metadata": {
      "needs_background": "light"
     },
     "output_type": "display_data"
    }
   ],
   "source": [
    "s5 = sensor_complex(-50,20,400)\n",
    "s5.zeige_sensor_kurve()"
   ]
  },
  {
   "cell_type": "code",
   "execution_count": 85,
   "id": "1b587afa-8281-4b72-8f69-a06809d66722",
   "metadata": {},
   "outputs": [
    {
     "data": {
      "image/png": "[encoded data removed]",
      "text/plain": [
       "<Figure size 432x288 with 1 Axes>"
      ]
     },
     "metadata": {
      "needs_background": "light"
     },
     "output_type": "display_data"
    }
   ],
   "source": [
    "s6 = sensor_complex(-50,20,800)\n",
    "s6.zeige_sensor_kurve()"
   ]
  },
  {
   "cell_type": "markdown",
   "id": "ce27e770-b9b2-4c97-9cc5-5e564f9bbd11",
   "metadata": {},
   "source": [
    "# Eine lernende Sensordatenfusion"
   ]
  },
  {
   "cell_type": "markdown",
   "id": "112bbac2-09f6-40b8-b612-5909ce39ae95",
   "metadata": {},
   "source": [
    "## Vorbereiten der Beispieldaten fürs Machine Learning"
   ]
  },
  {
   "cell_type": "code",
   "execution_count": 87,
   "id": "1ac10206-6e71-44a3-be69-558b74caa53e",
   "metadata": {},
   "outputs": [],
   "source": [
    "NR_EXAMPLE_DATA = 5000\n",
    "X = numpy.zeros( (NR_EXAMPLE_DATA,2) )\n",
    "Y = numpy.zeros( (NR_EXAMPLE_DATA,1) )\n",
    "\n",
    "for run in range(0,NR_EXAMPLE_DATA):\n",
    "    e = numpy.random.randint(low=0, high=1000)\n",
    "    sensorwert_s5 = s5.get_sensorwert(e)\n",
    "    sensorwert_s6 = s6.get_sensorwert(e)\n",
    "    \n",
    "    X[run,:] = numpy.array( [sensorwert_s5, sensorwert_s6] )\n",
    "    Y[run,:] = e"
   ]
  },
  {
   "cell_type": "code",
   "execution_count": 88,
   "id": "9a633b26-1d52-4686-8bda-4ba4f72bdfe7",
   "metadata": {},
   "outputs": [
    {
     "data": {
      "text/plain": [
       "array([[ 348.87740289, 1555.99719341],\n",
       "       [ 200.23645391, 1166.36386979],\n",
       "       [ 260.91343051, 1173.0643711 ],\n",
       "       [ 991.33861461,  676.37955164],\n",
       "       [ 727.58623463,  633.14950819]])"
      ]
     },
     "execution_count": 88,
     "metadata": {},
     "output_type": "execute_result"
    }
   ],
   "source": [
    "X[:5]"
   ]
  },
  {
   "cell_type": "code",
   "execution_count": 89,
   "id": "956b84f0-ec8a-4679-ba0c-2b72bddf7bf5",
   "metadata": {},
   "outputs": [
    {
     "data": {
      "text/plain": [
       "array([[  0.],\n",
       "       [113.],\n",
       "       [154.],\n",
       "       [752.],\n",
       "       [669.]])"
      ]
     },
     "execution_count": 89,
     "metadata": {},
     "output_type": "execute_result"
    }
   ],
   "source": [
    "Y[:5]"
   ]
  },
  {
   "cell_type": "markdown",
   "id": "f32a89c5-661a-4f77-81c7-0fc4ae703d0a",
   "metadata": {},
   "source": [
    "## Beispieldaten aufspalten in Trainingsdaten- und Testdaten"
   ]
  },
  {
   "cell_type": "code",
   "execution_count": 90,
   "id": "d044dc7b-4253-4790-89a3-23c0378452bc",
   "metadata": {},
   "outputs": [],
   "source": [
    "from sklearn.model_selection import train_test_split\n",
    "\n",
    "x_train, x_test, y_train, y_test = train_test_split(X, Y, test_size=0.2)"
   ]
  },
  {
   "cell_type": "code",
   "execution_count": 91,
   "id": "d86cc38b-5619-490c-ab48-30e541bd9676",
   "metadata": {},
   "outputs": [
    {
     "data": {
      "text/plain": [
       "(4000, 2)"
      ]
     },
     "execution_count": 91,
     "metadata": {},
     "output_type": "execute_result"
    }
   ],
   "source": [
    "x_train.shape"
   ]
  },
  {
   "cell_type": "code",
   "execution_count": 92,
   "id": "22bf6ef5-d7a8-4744-8c5f-8c1f7df59bfc",
   "metadata": {},
   "outputs": [
    {
     "data": {
      "text/plain": [
       "array([[455.],\n",
       "       [657.],\n",
       "       [ 93.],\n",
       "       ...,\n",
       "       [553.],\n",
       "       [494.],\n",
       "       [757.]])"
      ]
     },
     "execution_count": 92,
     "metadata": {},
     "output_type": "execute_result"
    }
   ],
   "source": [
    "y_train"
   ]
  },
  {
   "cell_type": "code",
   "execution_count": 93,
   "id": "cabfc1fb-222f-41ae-b7d8-1559558aecbb",
   "metadata": {},
   "outputs": [
    {
     "name": "stdout",
     "output_type": "stream",
     "text": [
      "[453.01702593 734.68746994] --> [455.]\n"
     ]
    }
   ],
   "source": [
    "print( x_train[0], \"-->\", y_train[0] )"
   ]
  },
  {
   "cell_type": "code",
   "execution_count": 94,
   "id": "4292f2c9-b277-4708-9c86-5c10886a5148",
   "metadata": {},
   "outputs": [
    {
     "data": {
      "text/plain": [
       "(1000, 2)"
      ]
     },
     "execution_count": 94,
     "metadata": {},
     "output_type": "execute_result"
    }
   ],
   "source": [
    "x_test.shape"
   ]
  },
  {
   "cell_type": "code",
   "execution_count": 95,
   "id": "4d174d78-39c3-464a-8c09-b419d3a676e4",
   "metadata": {},
   "outputs": [
    {
     "data": {
      "text/plain": [
       "(1000, 1)"
      ]
     },
     "execution_count": 95,
     "metadata": {},
     "output_type": "execute_result"
    }
   ],
   "source": [
    "y_test.shape"
   ]
  },
  {
   "cell_type": "markdown",
   "id": "94abc155-9672-4e76-a3a0-47fd59145245",
   "metadata": {},
   "source": [
    "## Machine Learning mittels scikit-learn"
   ]
  },
  {
   "cell_type": "code",
   "execution_count": 96,
   "id": "6e8ec32b-55fb-4ebb-a318-936ee5e32212",
   "metadata": {},
   "outputs": [],
   "source": [
    "from sklearn.neighbors import KNeighborsRegressor\n",
    "model = KNeighborsRegressor(n_neighbors=3, weights=\"uniform\")\n",
    "\n",
    "\n",
    "#from sklearn import tree\n",
    "#model = tree.DecisionTreeRegressor()\n",
    "\n",
    "model = model.fit(x_train, y_train)"
   ]
  },
  {
   "cell_type": "markdown",
   "id": "c1634211-f6a9-4f87-936b-c49e0e179ed2",
   "metadata": {},
   "source": [
    "## Testen der Modellgüte"
   ]
  },
  {
   "cell_type": "code",
   "execution_count": 97,
   "id": "c650d8d5-9a2b-4d70-83b0-d72ba362afa8",
   "metadata": {},
   "outputs": [
    {
     "data": {
      "text/plain": [
       "array([214.92514233, 890.9374075 ])"
      ]
     },
     "execution_count": 97,
     "metadata": {},
     "output_type": "execute_result"
    }
   ],
   "source": [
    "input_vec = numpy.array( [214.92514233,  890.9374075] )\n",
    "input_vec"
   ]
  },
  {
   "cell_type": "code",
   "execution_count": 98,
   "id": "36fc106e-c160-4e25-b522-96c8b7f6a2b3",
   "metadata": {},
   "outputs": [
    {
     "data": {
      "text/plain": [
       "numpy.ndarray"
      ]
     },
     "execution_count": 98,
     "metadata": {},
     "output_type": "execute_result"
    }
   ],
   "source": [
    "type(input_vec)"
   ]
  },
  {
   "cell_type": "code",
   "execution_count": 99,
   "id": "0aab65a4-45b7-4cd7-9f02-8c39dc6fabbb",
   "metadata": {},
   "outputs": [
    {
     "data": {
      "text/plain": [
       "(2,)"
      ]
     },
     "execution_count": 99,
     "metadata": {},
     "output_type": "execute_result"
    }
   ],
   "source": [
    "input_vec.shape"
   ]
  },
  {
   "cell_type": "code",
   "execution_count": 100,
   "id": "70e758d6-ebbf-4c53-b435-c05a1b6c06a1",
   "metadata": {},
   "outputs": [
    {
     "data": {
      "text/plain": [
       "1"
      ]
     },
     "execution_count": 100,
     "metadata": {},
     "output_type": "execute_result"
    }
   ],
   "source": [
    "input_vec.ndim"
   ]
  },
  {
   "cell_type": "code",
   "execution_count": 101,
   "id": "9e364f4f-0818-451e-865d-b35908af56f1",
   "metadata": {},
   "outputs": [
    {
     "data": {
      "text/plain": [
       "array([[214.92514233, 890.9374075 ]])"
      ]
     },
     "execution_count": 101,
     "metadata": {},
     "output_type": "execute_result"
    }
   ],
   "source": [
    "input_vec.reshape((1,2))"
   ]
  },
  {
   "cell_type": "code",
   "execution_count": 102,
   "id": "b0ab912e-3933-461e-a1fc-3d6d403a38eb",
   "metadata": {},
   "outputs": [
    {
     "data": {
      "text/plain": [
       "array([[255.33333333]])"
      ]
     },
     "execution_count": 102,
     "metadata": {},
     "output_type": "execute_result"
    }
   ],
   "source": [
    "model.predict( input_vec.reshape(1,2) )"
   ]
  },
  {
   "cell_type": "code",
   "execution_count": 103,
   "id": "7e4b1949-2b65-4e6b-8d8f-9d28b80c8b26",
   "metadata": {},
   "outputs": [
    {
     "data": {
      "text/plain": [
       "(1000, 2)"
      ]
     },
     "execution_count": 103,
     "metadata": {},
     "output_type": "execute_result"
    }
   ],
   "source": [
    "x_test.shape"
   ]
  },
  {
   "cell_type": "code",
   "execution_count": 104,
   "id": "4a97f1a1-4d17-4631-9c7b-77e2aa4e07c8",
   "metadata": {},
   "outputs": [
    {
     "data": {
      "text/plain": [
       "(1000, 1)"
      ]
     },
     "execution_count": 104,
     "metadata": {},
     "output_type": "execute_result"
    }
   ],
   "source": [
    "y_test.shape"
   ]
  },
  {
   "cell_type": "code",
   "execution_count": 105,
   "id": "79531da8-b0e7-4a7f-9dfc-e210160cf21e",
   "metadata": {},
   "outputs": [],
   "source": [
    "preds = model.predict( x_test )"
   ]
  },
  {
   "cell_type": "code",
   "execution_count": 106,
   "id": "4836ca8d-24ae-4739-ae9e-eaec725f434d",
   "metadata": {},
   "outputs": [
    {
     "data": {
      "text/plain": [
       "array([[120.66666667],\n",
       "       [289.33333333],\n",
       "       [768.33333333],\n",
       "       [717.66666667],\n",
       "       [984.66666667],\n",
       "       [772.33333333],\n",
       "       [536.        ],\n",
       "       [835.        ],\n",
       "       [838.33333333],\n",
       "       [171.33333333]])"
      ]
     },
     "execution_count": 106,
     "metadata": {},
     "output_type": "execute_result"
    }
   ],
   "source": [
    "preds[:10]"
   ]
  },
  {
   "cell_type": "code",
   "execution_count": 107,
   "id": "cb42531a-b97d-4b6d-898c-e9c44c1858b0",
   "metadata": {},
   "outputs": [
    {
     "data": {
      "text/plain": [
       "array([[112.],\n",
       "       [318.],\n",
       "       [764.],\n",
       "       [698.],\n",
       "       [974.],\n",
       "       [780.],\n",
       "       [526.],\n",
       "       [842.],\n",
       "       [852.],\n",
       "       [185.]])"
      ]
     },
     "execution_count": 107,
     "metadata": {},
     "output_type": "execute_result"
    }
   ],
   "source": [
    "y_test[:10]"
   ]
  },
  {
   "cell_type": "code",
   "execution_count": 108,
   "id": "907c913a-2f5a-414c-bd8a-44423b51e69b",
   "metadata": {},
   "outputs": [
    {
     "data": {
      "image/png": "[encoded data removed]",
      "text/plain": [
       "<Figure size 432x288 with 1 Axes>"
      ]
     },
     "metadata": {
      "needs_background": "light"
     },
     "output_type": "display_data"
    }
   ],
   "source": [
    "plt.scatter(y_test, preds, marker=\".\")\n",
    "plt.show()"
   ]
  },
  {
   "cell_type": "code",
   "execution_count": 109,
   "id": "f18f2507-7aac-4d09-b516-300d5df3c746",
   "metadata": {},
   "outputs": [
    {
     "data": {
      "text/plain": [
       "8.271666666666668"
      ]
     },
     "execution_count": 109,
     "metadata": {},
     "output_type": "execute_result"
    }
   ],
   "source": [
    "MAE(y_test, preds)"
   ]
  },
  {
   "cell_type": "markdown",
   "id": "ca9e7377-c9e7-469d-a3ad-a97be423ed68",
   "metadata": {},
   "source": [
    "# Lernende Ansätze zur Sensordatenfusion bei unterschiedlichen Ranges"
   ]
  },
  {
   "cell_type": "markdown",
   "id": "6abe8543-90be-48b2-8d69-3ed1197bc921",
   "metadata": {},
   "source": [
    "## Neue Sensorklasse mit Rangeangabe"
   ]
  },
  {
   "cell_type": "code",
   "execution_count": 110,
   "id": "e0a0b2ed-eac7-45f8-b1c2-651505666bae",
   "metadata": {},
   "outputs": [],
   "source": [
    "class sensor_complex_range:\n",
    "    \n",
    "    def __init__(self, bias, noise, pos, fac):\n",
    "        self.bias = bias\n",
    "        self.noise = noise\n",
    "        self.pos = pos\n",
    "        self.fac = fac\n",
    "        \n",
    "    def get_sensorwert(self, e):\n",
    "        sensorwert = self.fac * (e + numpy.random.normal(loc=self.bias, scale=self.noise) + \\\n",
    "                    50*numpy.sin(e/10) + ((e-self.pos)/20)**2)\n",
    "        return sensorwert\n",
    "    \n",
    "    def zeige_sensor_kurve(self):\n",
    "        \n",
    "        sensorwerte = []\n",
    "        for e in range(0,1001):\n",
    "            sensorwert = self.get_sensorwert(e)\n",
    "            sensorwerte.append( sensorwert )\n",
    "            \n",
    "        plt.plot(sensorwerte)\n",
    "        plt.xlabel(\"Tatsächliche Entfernung (cm)\")\n",
    "        plt.ylabel(\"Sensorwert\")\n",
    "        plt.show()  "
   ]
  },
  {
   "cell_type": "code",
   "execution_count": 111,
   "id": "0b5221dc-2b7b-43af-8b1f-4698047347ae",
   "metadata": {},
   "outputs": [],
   "source": [
    "s7 = sensor_complex_range(-50,20,400,1)\n",
    "s8 = sensor_complex_range(-50,20,800,100)"
   ]
  },
  {
   "cell_type": "code",
   "execution_count": 112,
   "id": "03b4945e-7de8-4b9b-9867-2f21d665570a",
   "metadata": {},
   "outputs": [
    {
     "data": {
      "image/png": "[encoded data removed]",
      "text/plain": [
       "<Figure size 432x288 with 1 Axes>"
      ]
     },
     "metadata": {
      "needs_background": "light"
     },
     "output_type": "display_data"
    }
   ],
   "source": [
    "s7.zeige_sensor_kurve()"
   ]
  },
  {
   "cell_type": "code",
   "execution_count": 113,
   "id": "9f1b84bf-396a-4f41-8dad-755a7dc0a78b",
   "metadata": {},
   "outputs": [
    {
     "data": {
      "image/png": "[encoded data removed]",
      "text/plain": [
       "<Figure size 432x288 with 1 Axes>"
      ]
     },
     "metadata": {
      "needs_background": "light"
     },
     "output_type": "display_data"
    }
   ],
   "source": [
    "s8.zeige_sensor_kurve()"
   ]
  },
  {
   "cell_type": "markdown",
   "id": "235231a7-575f-42ff-a231-4406f9de10b8",
   "metadata": {},
   "source": [
    "## Machine Learning Reloaded"
   ]
  },
  {
   "cell_type": "code",
   "execution_count": 114,
   "id": "599cd3c1-7595-4dba-931c-4e768534f0b7",
   "metadata": {},
   "outputs": [
    {
     "data": {
      "image/png": "[encoded data removed]",
      "text/plain": [
       "<Figure size 432x288 with 1 Axes>"
      ]
     },
     "metadata": {
      "needs_background": "light"
     },
     "output_type": "display_data"
    },
    {
     "name": "stdout",
     "output_type": "stream",
     "text": [
      "MAE= 13.997000000000002\n"
     ]
    }
   ],
   "source": [
    "# 1. Beispieldaten fürs ML vorbereiten\n",
    "NR_EXAMPLE_DATA = 5000\n",
    "X = numpy.zeros( (NR_EXAMPLE_DATA,2) )\n",
    "Y = numpy.zeros( (NR_EXAMPLE_DATA,1) )\n",
    "\n",
    "for run in range(0,NR_EXAMPLE_DATA):\n",
    "    e = numpy.random.randint(low=0, high=1000)\n",
    "    sensorwert_s7 = s7.get_sensorwert(e)\n",
    "    sensorwert_s8 = s8.get_sensorwert(e)\n",
    "    \n",
    "    X[run,:] = numpy.array( [sensorwert_s7, sensorwert_s8] )\n",
    "    Y[run,:] = e\n",
    "    \n",
    "\n",
    "# 2. Beispieldaten in Trainings- und Testdaten aufspalten\n",
    "from sklearn.model_selection import train_test_split\n",
    "x_train, x_test, y_train, y_test = train_test_split(X, Y, test_size=0.2,\n",
    "                                                    random_state=0)\n",
    "\n",
    "\n",
    "# 3. Model erlernen\n",
    "from sklearn.neighbors import KNeighborsRegressor\n",
    "model = KNeighborsRegressor(n_neighbors=3, weights=\"uniform\")\n",
    "model = model.fit(x_train, y_train)\n",
    "\n",
    "# 4. Modellgüte bestimmen\n",
    "preds = model.predict( x_test )\n",
    "plt.scatter(y_test, preds, marker=\".\")\n",
    "plt.show()\n",
    "print( \"MAE=\", MAE(y_test, preds) )"
   ]
  },
  {
   "cell_type": "markdown",
   "id": "c141ae59-6577-4120-a37a-9851c8f43338",
   "metadata": {},
   "source": [
    "## Normalisierung"
   ]
  },
  {
   "cell_type": "code",
   "execution_count": 115,
   "id": "23d473a0-917f-4fdf-92f9-e976449b2bd3",
   "metadata": {},
   "outputs": [],
   "source": [
    "D = numpy.array( [[-20, -2],\n",
    "                  [-10, -1],\n",
    "                  [  0,  0],\n",
    "                  [+10,+ 1]])"
   ]
  },
  {
   "cell_type": "code",
   "execution_count": 116,
   "id": "f97e2f09-8f91-4562-b91d-734073a00dea",
   "metadata": {},
   "outputs": [
    {
     "data": {
      "text/plain": [
       "array([[-20,  -2],\n",
       "       [-10,  -1],\n",
       "       [  0,   0],\n",
       "       [ 10,   1]])"
      ]
     },
     "execution_count": 116,
     "metadata": {},
     "output_type": "execute_result"
    }
   ],
   "source": [
    "D"
   ]
  },
  {
   "cell_type": "code",
   "execution_count": 117,
   "id": "b3de70e0-f5cc-4a72-8260-7e3252e077a9",
   "metadata": {},
   "outputs": [
    {
     "data": {
      "text/plain": [
       "-0.5"
      ]
     },
     "execution_count": 117,
     "metadata": {},
     "output_type": "execute_result"
    }
   ],
   "source": [
    "numpy.mean( D[:,1] )"
   ]
  },
  {
   "cell_type": "code",
   "execution_count": 118,
   "id": "a7543ef1-66ad-49fb-93a9-0f4aba46673d",
   "metadata": {},
   "outputs": [
    {
     "data": {
      "text/plain": [
       "1.118033988749895"
      ]
     },
     "execution_count": 118,
     "metadata": {},
     "output_type": "execute_result"
    }
   ],
   "source": [
    "numpy.std( D[:,1] )"
   ]
  },
  {
   "cell_type": "code",
   "execution_count": 119,
   "id": "7a40e74f-b9c1-4b7c-99b8-2bb0eb912561",
   "metadata": {},
   "outputs": [],
   "source": [
    "from sklearn.preprocessing import StandardScaler\n",
    "scaler = StandardScaler()\n",
    "D_scaled = scaler.fit_transform(D)"
   ]
  },
  {
   "cell_type": "code",
   "execution_count": 120,
   "id": "1324c54f-f21e-4e71-a19d-d378f1b04aa9",
   "metadata": {},
   "outputs": [
    {
     "data": {
      "text/plain": [
       "array([[-1.34164079, -1.34164079],\n",
       "       [-0.4472136 , -0.4472136 ],\n",
       "       [ 0.4472136 ,  0.4472136 ],\n",
       "       [ 1.34164079,  1.34164079]])"
      ]
     },
     "execution_count": 120,
     "metadata": {},
     "output_type": "execute_result"
    }
   ],
   "source": [
    "D_scaled"
   ]
  },
  {
   "cell_type": "code",
   "execution_count": 121,
   "id": "6063e9c1-db7b-494f-9538-66d3c9573b2a",
   "metadata": {},
   "outputs": [
    {
     "data": {
      "text/plain": [
       "1.0"
      ]
     },
     "execution_count": 121,
     "metadata": {},
     "output_type": "execute_result"
    }
   ],
   "source": [
    "numpy.std( D_scaled[:,0] )"
   ]
  },
  {
   "cell_type": "code",
   "execution_count": null,
   "id": "0864af7a-4262-487b-9e81-bc5dd2ee2f93",
   "metadata": {},
   "outputs": [],
   "source": []
  }
 ],
 "metadata": {
  "kernelspec": {
   "display_name": "Python 3 (ipykernel)",
   "language": "python",
   "name": "python3"
  },
  "language_info": {
   "codemirror_mode": {
    "name": "ipython",
    "version": 3
   },
   "file_extension": ".py",
   "mimetype": "text/x-python",
   "name": "python",
   "nbconvert_exporter": "python",
   "pygments_lexer": "ipython3",
   "version": "3.8.10"
  },
  "toc-autonumbering": true
 },
 "nbformat": 4,
 "nbformat_minor": 5
}
