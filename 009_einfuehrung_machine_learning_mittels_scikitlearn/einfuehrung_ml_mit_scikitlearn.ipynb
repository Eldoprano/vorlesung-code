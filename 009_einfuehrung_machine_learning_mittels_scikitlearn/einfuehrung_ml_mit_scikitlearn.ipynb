{
 "cells": [
  {
   "cell_type": "markdown",
   "id": "b4383bab-a196-4e7f-bf73-8e8999693995",
   "metadata": {},
   "source": [
    "# Einführung\n",
    "\n",
    "Willkommen zu einer Schritt-für-Schritt Einführungs ins Machine Learning (deutsch: Maschinelles Lernen)! Beim Machine Learning geht es um Algorithmen, die aus Beispielen lernen, wie man ein Problem löst. Zwei wichtige Aufgabenbereiche sind hierbei die *Klassifikation* und die *Regression*.\n",
    "\n",
    "Zum Beispiel könnte eine Firma für Tierfutter im Internet eine Werbeaktion starten, bei der die Kunden das schönste Foto ihres Haustieres hochladen sollen. Das System soll nun hierbei automatisch die Bilder klassifizieren: handelt es sich um ein Foto einer Katze, eines Hundes, eines Hamsters oder um ein anderes Tier? Man spricht hierbei also von einem *Klassifikationsproblem*. Der gesuchte Wert ist hier einer von folgenden vier Werten: {Katze, Hund, Hamster, Sonstiges-Tier}.\n",
    "\n",
    "Ein Beispiel für ein *Regressionsproblem* wäre folgendes Szenario: jemand möchte sein Auto verkaufen und such daher einen Autohändler auf. Der Autohändler könnte dann ein System verwenden, dass basierend auf *Merkmalen* (*Features*) des Autos wie Baujahr, Modelltyp und km-Leistung versucht den erzielbaren Wiederverkaufspreis auf dem Gebrauchtwagenmarkt vorherzusagen (man sagt auch: *zu prädizieren*). Der gesuchte Wert ist also ein Verkaufspreis, ein kontinuierlicher Wert, beispielsweise 2000€ oder 5500€.\n",
    "\n",
    "Statt langer Einführungsworte zum Machine Learning stürzen wir uns gleich in ein erste konkrete Aufgabe: wir wollen mit einem ersten einfachen Machine-Learning Verfahren vorhersagen, ob ein Kunde eine Reiseversicherung kaufen wird oder nicht. Es handelt sich also um ein *Klassifikationsproblem*."
   ]
  },
  {
   "cell_type": "markdown",
   "id": "6ebf9b7d-3db3-4485-81a1-95aff96d9cf5",
   "metadata": {},
   "source": [
    "# Datensatzauswahl\n",
    "\n",
    "Für Machine Learning brauchen wir Beispieldaten! Aber woher nehmen wir diese, wenn wir nicht gerade in einem Unternehmen sind, das selber bereits Daten hat?\n",
    "\n",
    "Auf www.kaggle.com gibt es inzwischen über 120.000 Datensätze, viele sind hierbei sogar frei verfügbar als *Public Domain* und stammen zudem noch aus der Praxis. Zur Einarbeitung ins Machine Learning ist diese Webseite daher ein toller Startpunkt.\n",
    "\n",
    "Wir nehmen im folgenden diesen Datensatz:\n",
    "\n",
    "- Name: \"Travel Insurance Prediction Data\"\n",
    "- URL: https://www.kaggle.com/tejashvi14/travel-insurance-prediction-data\n",
    "- Lizenz: Public Domain\n",
    "- Größe: ca. 115 KB\n",
    "\n",
    "Der Datensatz enthält knapp 2000 Beispiele von Kunden einer indischen Reisegesellschaft denen eine Reiseversicherung angeboten wurde. Für jeden Kunden gibt es Merkmale wie Alter, Anstellungstyp, Haushaltseinkommen, etc. und die Information, ob der Kunde die Reiseversicherung abgeschlossen hat oder nicht.\n",
    "\n",
    "Später werden wir auch fertige Machine Learning Algorithmen aus der Machine Learning Bibliothek *scitkit-learn* verwenden. Aber um Python zu lernen bzw. zu vertiefen, schreiben wir uns erstmal selber einen Klassifkator für diese Aufgabe!\n"
   ]
  },
  {
   "cell_type": "markdown",
   "id": "3d415b5d-5669-4eb8-889f-2780f97019ed",
   "metadata": {},
   "source": [
    "# Datensatz einlesen und explorieren"
   ]
  },
  {
   "cell_type": "markdown",
   "id": "a72b4a79-eea0-4bb4-8d1c-c30403b660f7",
   "metadata": {},
   "source": [
    "Wir lesen den Datensatz mit Hilfe der Python-Bibliothek *pandas* ein. Diese Bibliothek ist nicht in der *Python Standard Library* enthalten und muss daher vorerst mit"
   ]
  },
  {
   "cell_type": "code",
   "execution_count": 1,
   "id": "d10f83e9-de3e-4a21-a2cb-f5de3fec77cf",
   "metadata": {},
   "outputs": [],
   "source": [
    "#!pip install pandas"
   ]
  },
  {
   "cell_type": "markdown",
   "id": "bd34e9f2-c0eb-4b09-bbcc-e2a2f2f7a21b",
   "metadata": {},
   "source": [
    "installiert werden. Hierbei das Rautezeichen weglassen."
   ]
  },
  {
   "cell_type": "code",
   "execution_count": 2,
   "id": "1005b919-1634-4a0e-ac9d-d392165d86ed",
   "metadata": {},
   "outputs": [],
   "source": [
    "import pandas\n",
    "t = pandas.read_csv(\"TravelInsurancePrediction.csv\")"
   ]
  },
  {
   "cell_type": "markdown",
   "id": "b6ef97c1-944b-4909-9f76-13973b7b5a1b",
   "metadata": {},
   "source": [
    "So erhalten wir einen ersten Eindruck von den Daten:"
   ]
  },
  {
   "cell_type": "code",
   "execution_count": 3,
   "id": "19e854a0-6ecd-43c4-aadb-0c65a0ccef6c",
   "metadata": {},
   "outputs": [
    {
     "data": {
      "text/html": [
       "<div>\n",
       "<style scoped>\n",
       "    .dataframe tbody tr th:only-of-type {\n",
       "        vertical-align: middle;\n",
       "    }\n",
       "\n",
       "    .dataframe tbody tr th {\n",
       "        vertical-align: top;\n",
       "    }\n",
       "\n",
       "    .dataframe thead th {\n",
       "        text-align: right;\n",
       "    }\n",
       "</style>\n",
       "<table border=\"1\" class=\"dataframe\">\n",
       "  <thead>\n",
       "    <tr style=\"text-align: right;\">\n",
       "      <th></th>\n",
       "      <th>Unnamed: 0</th>\n",
       "      <th>Age</th>\n",
       "      <th>Employment Type</th>\n",
       "      <th>GraduateOrNot</th>\n",
       "      <th>AnnualIncome</th>\n",
       "      <th>FamilyMembers</th>\n",
       "      <th>ChronicDiseases</th>\n",
       "      <th>FrequentFlyer</th>\n",
       "      <th>EverTravelledAbroad</th>\n",
       "      <th>TravelInsurance</th>\n",
       "    </tr>\n",
       "  </thead>\n",
       "  <tbody>\n",
       "    <tr>\n",
       "      <th>0</th>\n",
       "      <td>0</td>\n",
       "      <td>31</td>\n",
       "      <td>Government Sector</td>\n",
       "      <td>Yes</td>\n",
       "      <td>400000</td>\n",
       "      <td>6</td>\n",
       "      <td>1</td>\n",
       "      <td>No</td>\n",
       "      <td>No</td>\n",
       "      <td>0</td>\n",
       "    </tr>\n",
       "    <tr>\n",
       "      <th>1</th>\n",
       "      <td>1</td>\n",
       "      <td>31</td>\n",
       "      <td>Private Sector/Self Employed</td>\n",
       "      <td>Yes</td>\n",
       "      <td>1250000</td>\n",
       "      <td>7</td>\n",
       "      <td>0</td>\n",
       "      <td>No</td>\n",
       "      <td>No</td>\n",
       "      <td>0</td>\n",
       "    </tr>\n",
       "    <tr>\n",
       "      <th>2</th>\n",
       "      <td>2</td>\n",
       "      <td>34</td>\n",
       "      <td>Private Sector/Self Employed</td>\n",
       "      <td>Yes</td>\n",
       "      <td>500000</td>\n",
       "      <td>4</td>\n",
       "      <td>1</td>\n",
       "      <td>No</td>\n",
       "      <td>No</td>\n",
       "      <td>1</td>\n",
       "    </tr>\n",
       "    <tr>\n",
       "      <th>3</th>\n",
       "      <td>3</td>\n",
       "      <td>28</td>\n",
       "      <td>Private Sector/Self Employed</td>\n",
       "      <td>Yes</td>\n",
       "      <td>700000</td>\n",
       "      <td>3</td>\n",
       "      <td>1</td>\n",
       "      <td>No</td>\n",
       "      <td>No</td>\n",
       "      <td>0</td>\n",
       "    </tr>\n",
       "    <tr>\n",
       "      <th>4</th>\n",
       "      <td>4</td>\n",
       "      <td>28</td>\n",
       "      <td>Private Sector/Self Employed</td>\n",
       "      <td>Yes</td>\n",
       "      <td>700000</td>\n",
       "      <td>8</td>\n",
       "      <td>1</td>\n",
       "      <td>Yes</td>\n",
       "      <td>No</td>\n",
       "      <td>0</td>\n",
       "    </tr>\n",
       "    <tr>\n",
       "      <th>...</th>\n",
       "      <td>...</td>\n",
       "      <td>...</td>\n",
       "      <td>...</td>\n",
       "      <td>...</td>\n",
       "      <td>...</td>\n",
       "      <td>...</td>\n",
       "      <td>...</td>\n",
       "      <td>...</td>\n",
       "      <td>...</td>\n",
       "      <td>...</td>\n",
       "    </tr>\n",
       "    <tr>\n",
       "      <th>1982</th>\n",
       "      <td>1982</td>\n",
       "      <td>33</td>\n",
       "      <td>Private Sector/Self Employed</td>\n",
       "      <td>Yes</td>\n",
       "      <td>1500000</td>\n",
       "      <td>4</td>\n",
       "      <td>0</td>\n",
       "      <td>Yes</td>\n",
       "      <td>Yes</td>\n",
       "      <td>1</td>\n",
       "    </tr>\n",
       "    <tr>\n",
       "      <th>1983</th>\n",
       "      <td>1983</td>\n",
       "      <td>28</td>\n",
       "      <td>Private Sector/Self Employed</td>\n",
       "      <td>Yes</td>\n",
       "      <td>1750000</td>\n",
       "      <td>5</td>\n",
       "      <td>1</td>\n",
       "      <td>No</td>\n",
       "      <td>Yes</td>\n",
       "      <td>0</td>\n",
       "    </tr>\n",
       "    <tr>\n",
       "      <th>1984</th>\n",
       "      <td>1984</td>\n",
       "      <td>28</td>\n",
       "      <td>Private Sector/Self Employed</td>\n",
       "      <td>Yes</td>\n",
       "      <td>1150000</td>\n",
       "      <td>6</td>\n",
       "      <td>1</td>\n",
       "      <td>No</td>\n",
       "      <td>No</td>\n",
       "      <td>0</td>\n",
       "    </tr>\n",
       "    <tr>\n",
       "      <th>1985</th>\n",
       "      <td>1985</td>\n",
       "      <td>34</td>\n",
       "      <td>Private Sector/Self Employed</td>\n",
       "      <td>Yes</td>\n",
       "      <td>1000000</td>\n",
       "      <td>6</td>\n",
       "      <td>0</td>\n",
       "      <td>Yes</td>\n",
       "      <td>Yes</td>\n",
       "      <td>1</td>\n",
       "    </tr>\n",
       "    <tr>\n",
       "      <th>1986</th>\n",
       "      <td>1986</td>\n",
       "      <td>34</td>\n",
       "      <td>Private Sector/Self Employed</td>\n",
       "      <td>Yes</td>\n",
       "      <td>500000</td>\n",
       "      <td>4</td>\n",
       "      <td>0</td>\n",
       "      <td>No</td>\n",
       "      <td>No</td>\n",
       "      <td>0</td>\n",
       "    </tr>\n",
       "  </tbody>\n",
       "</table>\n",
       "<p>1987 rows × 10 columns</p>\n",
       "</div>"
      ],
      "text/plain": [
       "      Unnamed: 0  Age               Employment Type GraduateOrNot  \\\n",
       "0              0   31             Government Sector           Yes   \n",
       "1              1   31  Private Sector/Self Employed           Yes   \n",
       "2              2   34  Private Sector/Self Employed           Yes   \n",
       "3              3   28  Private Sector/Self Employed           Yes   \n",
       "4              4   28  Private Sector/Self Employed           Yes   \n",
       "...          ...  ...                           ...           ...   \n",
       "1982        1982   33  Private Sector/Self Employed           Yes   \n",
       "1983        1983   28  Private Sector/Self Employed           Yes   \n",
       "1984        1984   28  Private Sector/Self Employed           Yes   \n",
       "1985        1985   34  Private Sector/Self Employed           Yes   \n",
       "1986        1986   34  Private Sector/Self Employed           Yes   \n",
       "\n",
       "      AnnualIncome  FamilyMembers  ChronicDiseases FrequentFlyer  \\\n",
       "0           400000              6                1            No   \n",
       "1          1250000              7                0            No   \n",
       "2           500000              4                1            No   \n",
       "3           700000              3                1            No   \n",
       "4           700000              8                1           Yes   \n",
       "...            ...            ...              ...           ...   \n",
       "1982       1500000              4                0           Yes   \n",
       "1983       1750000              5                1            No   \n",
       "1984       1150000              6                1            No   \n",
       "1985       1000000              6                0           Yes   \n",
       "1986        500000              4                0            No   \n",
       "\n",
       "     EverTravelledAbroad  TravelInsurance  \n",
       "0                     No                0  \n",
       "1                     No                0  \n",
       "2                     No                1  \n",
       "3                     No                0  \n",
       "4                     No                0  \n",
       "...                  ...              ...  \n",
       "1982                 Yes                1  \n",
       "1983                 Yes                0  \n",
       "1984                  No                0  \n",
       "1985                 Yes                1  \n",
       "1986                  No                0  \n",
       "\n",
       "[1987 rows x 10 columns]"
      ]
     },
     "execution_count": 3,
     "metadata": {},
     "output_type": "execute_result"
    }
   ],
   "source": [
    "t"
   ]
  },
  {
   "cell_type": "markdown",
   "id": "ebb02911-b690-4284-bd98-f11ba998d3ad",
   "metadata": {},
   "source": [
    "Es gibt also 1987 Kundenbeispiele und Pandas zeigt uns hierbei die ersten fünf und die letzten fünf an. Die erste Spalte brauchen wir nicht. Daher verwerfen wir sie:"
   ]
  },
  {
   "cell_type": "code",
   "execution_count": 4,
   "id": "429acf36-c706-4f5c-9032-46d637b7cebf",
   "metadata": {},
   "outputs": [],
   "source": [
    "t = t.drop( \"Unnamed: 0\", axis=1)"
   ]
  },
  {
   "cell_type": "code",
   "execution_count": 5,
   "id": "dce67a09-aa58-48c1-bf10-47048fb98d20",
   "metadata": {},
   "outputs": [
    {
     "data": {
      "text/plain": [
       "Index(['Age', 'Employment Type', 'GraduateOrNot', 'AnnualIncome',\n",
       "       'FamilyMembers', 'ChronicDiseases', 'FrequentFlyer',\n",
       "       'EverTravelledAbroad', 'TravelInsurance'],\n",
       "      dtype='object')"
      ]
     },
     "execution_count": 5,
     "metadata": {},
     "output_type": "execute_result"
    }
   ],
   "source": [
    "t.columns"
   ]
  },
  {
   "cell_type": "markdown",
   "id": "6c48db53-c16a-48ef-9145-fff0a1d45971",
   "metadata": {},
   "source": [
    "Die Bedeutung der einzelnten Spalten ist laut Beschreibung auf Kaggle:"
   ]
  },
  {
   "cell_type": "markdown",
   "id": "004ca293-29c9-476d-b187-d7b88dd01f0c",
   "metadata": {},
   "source": [
    "- Age: Alter des Kunden\n",
    "- Employment Type: Sektor, in dem der Kunde arbeitet\n",
    "- GraduateOrNot: Hat der Kunde studiert?\n",
    "- AnnualIncome: Jährliches Einkommen des Kunden in indischen Rupien\n",
    "- FamilyMembers: Anzahl der Familienmitglieder\n",
    "- ChronicDisease: Hat der Kunde eine chronische Krankheit wie Diabetes, Asthma, etc.?\n",
    "- FrequentFlyer: Ist der Kunde ein Vielflieger basierend auf seiner Buchungshistorie in den letzten 2 Jahren (2017-2019), d.h. hat er in diesem Zeitraum mindestens 4x gebucht?\n",
    "- EverTravelledAbroad: Ist der Kunde schon jemals ins Ausland gereist?\n",
    "- TravelInsurance: Hat der Kunde die angebotene Reiseversicherung, die im Jahre 2019 angeboten wurde, gekauft?"
   ]
  },
  {
   "cell_type": "markdown",
   "id": "2f208ad7-27e3-4427-aff7-cb087eb473a4",
   "metadata": {},
   "source": [
    "## Quiz: Wie alt sind die Kunden?\n",
    "\n",
    "Recherchiere im WWW, wie man mit Pandas das Durchschnittsalter der Kunden berechnen kann. Erstelle dann mit Matplotlib ein Balkendiagramm das anzeigt wie oft Kunden eines bestimmten Alters vorkommen.\n",
    "\n",
    "Lösung:\n",
    "\n",
    "So erhalten wir die Spalte mit dem Alter:"
   ]
  },
  {
   "cell_type": "code",
   "execution_count": 6,
   "id": "70b78b5b-a803-47d9-9bc7-b462602eabbb",
   "metadata": {},
   "outputs": [
    {
     "data": {
      "text/plain": [
       "0       31\n",
       "1       31\n",
       "2       34\n",
       "3       28\n",
       "4       28\n",
       "        ..\n",
       "1982    33\n",
       "1983    28\n",
       "1984    28\n",
       "1985    34\n",
       "1986    34\n",
       "Name: Age, Length: 1987, dtype: int64"
      ]
     },
     "execution_count": 6,
     "metadata": {},
     "output_type": "execute_result"
    }
   ],
   "source": [
    "t[\"Age\"]"
   ]
  },
  {
   "cell_type": "markdown",
   "id": "25a3fa45-f8b6-48b0-a574-d219d48743ac",
   "metadata": {},
   "source": [
    "Auf dieser sog. *Pandas Series* können wir dann verschiedene Funktionen aufrufen, wie `mean()` oder `min()` oder `max()`:"
   ]
  },
  {
   "cell_type": "code",
   "execution_count": 7,
   "id": "37728f2d-5aca-41a6-a2dd-ab8c3cc77756",
   "metadata": {},
   "outputs": [
    {
     "data": {
      "text/plain": [
       "25"
      ]
     },
     "execution_count": 7,
     "metadata": {},
     "output_type": "execute_result"
    }
   ],
   "source": [
    "t[\"Age\"].min()"
   ]
  },
  {
   "cell_type": "code",
   "execution_count": 8,
   "id": "206379ee-8392-496c-9593-480e35253930",
   "metadata": {},
   "outputs": [
    {
     "data": {
      "text/plain": [
       "35"
      ]
     },
     "execution_count": 8,
     "metadata": {},
     "output_type": "execute_result"
    }
   ],
   "source": [
    "t[\"Age\"].max()"
   ]
  },
  {
   "cell_type": "code",
   "execution_count": 9,
   "id": "b90b385f-71eb-40e0-9dbc-870f68ba1ae9",
   "metadata": {},
   "outputs": [
    {
     "data": {
      "text/plain": [
       "29.650226472068447"
      ]
     },
     "execution_count": 9,
     "metadata": {},
     "output_type": "execute_result"
    }
   ],
   "source": [
    "t[\"Age\"].mean()"
   ]
  },
  {
   "cell_type": "markdown",
   "id": "f74f0d5b-f0da-4be0-a4e1-8b67cbbb63a3",
   "metadata": {},
   "source": [
    "Eine erste Überraschung hat diese Untersuchung ergeben! Die Kundenbeispiele kommen nur aus dem Altersbereich 25-35 Jahre.\n",
    "\n",
    "Diese Alterswerte kommen in dem Bereich 25-35 tatsächlich vor:"
   ]
  },
  {
   "cell_type": "code",
   "execution_count": 10,
   "id": "667c27ce-9c8c-4251-971a-e083010c00cf",
   "metadata": {},
   "outputs": [
    {
     "data": {
      "text/plain": [
       "array([31, 34, 28, 25, 33, 26, 32, 29, 35, 30, 27])"
      ]
     },
     "execution_count": 10,
     "metadata": {},
     "output_type": "execute_result"
    }
   ],
   "source": [
    "t[\"Age\"].unique()"
   ]
  },
  {
   "cell_type": "markdown",
   "id": "e8f0d75a-a6f6-4db8-aaf5-c322a4ea1e81",
   "metadata": {},
   "source": [
    "So können wir ermitteln wie oft ein bestimmtes Alter vorkommt:"
   ]
  },
  {
   "cell_type": "code",
   "execution_count": 11,
   "id": "6bb96c1a-a52c-405d-9aca-c32fe617fff6",
   "metadata": {},
   "outputs": [
    {
     "data": {
      "text/plain": [
       "28    506\n",
       "34    266\n",
       "31    234\n",
       "29    192\n",
       "33    148\n",
       "26    148\n",
       "25    146\n",
       "27    131\n",
       "32     91\n",
       "30     65\n",
       "35     60\n",
       "Name: Age, dtype: int64"
      ]
     },
     "execution_count": 11,
     "metadata": {},
     "output_type": "execute_result"
    }
   ],
   "source": [
    "t[\"Age\"].value_counts()"
   ]
  },
  {
   "cell_type": "markdown",
   "id": "48849f38-bfe4-45d2-9b18-db24e216c487",
   "metadata": {},
   "source": [
    "Das sind genau die Daten, die wir für ein Balkendiagramm benötigen! Also speichern wir diese mal ab:"
   ]
  },
  {
   "cell_type": "code",
   "execution_count": 12,
   "id": "2410ce28-5b4e-42a1-82aa-2c6f8160eace",
   "metadata": {},
   "outputs": [
    {
     "data": {
      "text/plain": [
       "28    506\n",
       "34    266\n",
       "31    234\n",
       "29    192\n",
       "33    148\n",
       "26    148\n",
       "25    146\n",
       "27    131\n",
       "32     91\n",
       "30     65\n",
       "35     60\n",
       "Name: Age, dtype: int64"
      ]
     },
     "execution_count": 12,
     "metadata": {},
     "output_type": "execute_result"
    }
   ],
   "source": [
    "alters_daten = t[\"Age\"].value_counts()\n",
    "alters_daten"
   ]
  },
  {
   "cell_type": "markdown",
   "id": "c03dbfe7-1945-4f4a-a57b-5ceb6cc62d5f",
   "metadata": {},
   "source": [
    "So können wir auf die Jahre zugreifen:"
   ]
  },
  {
   "cell_type": "code",
   "execution_count": 13,
   "id": "ce48779c-01d9-4349-8882-2daee2dad564",
   "metadata": {},
   "outputs": [
    {
     "data": {
      "text/plain": [
       "Int64Index([28, 34, 31, 29, 33, 26, 25, 27, 32, 30, 35], dtype='int64')"
      ]
     },
     "execution_count": 13,
     "metadata": {},
     "output_type": "execute_result"
    }
   ],
   "source": [
    "alters_daten.index"
   ]
  },
  {
   "cell_type": "markdown",
   "id": "3935237f-ea0a-43f4-a6ef-a4f2795d0064",
   "metadata": {},
   "source": [
    "Und so auf die Anzahlen, wie oft Kunden so alt waren:"
   ]
  },
  {
   "cell_type": "code",
   "execution_count": 14,
   "id": "97233342-8793-45a2-b7db-02926ddf72a0",
   "metadata": {},
   "outputs": [
    {
     "data": {
      "text/plain": [
       "array([506, 266, 234, 192, 148, 148, 146, 131,  91,  65,  60])"
      ]
     },
     "execution_count": 14,
     "metadata": {},
     "output_type": "execute_result"
    }
   ],
   "source": [
    "alters_daten.values"
   ]
  },
  {
   "cell_type": "markdown",
   "id": "49fcd038-be0b-43cd-81b9-68d751b1d8fa",
   "metadata": {},
   "source": [
    "Balkendiagramme gehen in Matplotlib so:"
   ]
  },
  {
   "cell_type": "code",
   "execution_count": 15,
   "id": "41e566ab-7960-4bbe-866b-f558dc52ab13",
   "metadata": {},
   "outputs": [
    {
     "data": {
      "image/png": "[encoded data removed]",
      "text/plain": [
       "<Figure size 432x288 with 1 Axes>"
      ]
     },
     "metadata": {
      "needs_background": "light"
     },
     "output_type": "display_data"
    }
   ],
   "source": [
    "import matplotlib.pyplot as plt\n",
    "plt.bar([1,2,5], [100,200,500])\n",
    "plt.show()"
   ]
  },
  {
   "cell_type": "markdown",
   "id": "e11a8f38-42fb-409c-a00f-97e6478b573e",
   "metadata": {},
   "source": [
    "Also in unserem Falle so:"
   ]
  },
  {
   "cell_type": "code",
   "execution_count": 16,
   "id": "41ead6cf-c7a7-48d6-8cd7-5c93ca25d3cb",
   "metadata": {},
   "outputs": [
    {
     "data": {
      "image/png": "[encoded data removed]",
      "text/plain": [
       "<Figure size 432x288 with 1 Axes>"
      ]
     },
     "metadata": {
      "needs_background": "light"
     },
     "output_type": "display_data"
    }
   ],
   "source": [
    "plt.bar( alters_daten.index, alters_daten.values )\n",
    "plt.show()"
   ]
  },
  {
   "cell_type": "markdown",
   "id": "d92bb563-c9fc-4d84-aaf9-24e6612911f9",
   "metadata": {},
   "source": [
    "Und ganz einfach wäre es so gegangen:"
   ]
  },
  {
   "cell_type": "code",
   "execution_count": 17,
   "id": "4f473dd0-72d5-4011-9e6c-ea07c4464578",
   "metadata": {},
   "outputs": [
    {
     "data": {
      "text/plain": [
       "<AxesSubplot:>"
      ]
     },
     "execution_count": 17,
     "metadata": {},
     "output_type": "execute_result"
    },
    {
     "data": {
      "image/png": "[encoded data removed]",
      "text/plain": [
       "<Figure size 432x288 with 1 Axes>"
      ]
     },
     "metadata": {
      "needs_background": "light"
     },
     "output_type": "display_data"
    }
   ],
   "source": [
    "t[\"Age\"].value_counts().plot.bar()"
   ]
  },
  {
   "cell_type": "markdown",
   "id": "73da9132-93f4-413a-bb53-af3427d38ae6",
   "metadata": {},
   "source": [
    "Und wenn wir die Alter aufsteigend sortiert haben wollen?"
   ]
  },
  {
   "cell_type": "code",
   "execution_count": 18,
   "id": "1ca4a499-7d3f-4c18-9180-3a1ddb4d9779",
   "metadata": {},
   "outputs": [
    {
     "data": {
      "text/plain": [
       "25    146\n",
       "26    148\n",
       "27    131\n",
       "28    506\n",
       "29    192\n",
       "30     65\n",
       "31    234\n",
       "32     91\n",
       "33    148\n",
       "34    266\n",
       "35     60\n",
       "Name: Age, dtype: int64"
      ]
     },
     "execution_count": 18,
     "metadata": {},
     "output_type": "execute_result"
    }
   ],
   "source": [
    "t[\"Age\"].value_counts().sort_index()"
   ]
  },
  {
   "cell_type": "markdown",
   "id": "22c89cbd-c660-48e6-9b3f-35226b39f8a0",
   "metadata": {},
   "source": [
    "Insgesamt dann also so:"
   ]
  },
  {
   "cell_type": "code",
   "execution_count": 19,
   "id": "d36bf082-f8d3-487e-8e6d-2885cd997bf6",
   "metadata": {},
   "outputs": [
    {
     "data": {
      "image/png": "[encoded data removed]",
      "text/plain": [
       "<Figure size 432x288 with 1 Axes>"
      ]
     },
     "metadata": {
      "needs_background": "light"
     },
     "output_type": "display_data"
    }
   ],
   "source": [
    "t[\"Age\"].value_counts().sort_index().plot.bar()\n",
    "plt.show()"
   ]
  },
  {
   "cell_type": "markdown",
   "id": "7cea4ce1-6271-423b-87b5-4cefbb475839",
   "metadata": {},
   "source": [
    "## Quiz: Statistik\n",
    "\n",
    "Versuche herauszufinden, wie man sich schnell mittels *Pandas* einen Überblick verschaffen kann über:\n",
    "\n",
    "- das Durchschnittseinkommen\n",
    "- die durchschnittliche Anzahl der Familienmitglieder\n",
    "- den Prozentsatz der Kunden, die unter einer chronischen Krankheit leiden\n",
    "- der Prozentsatz der Kunden, die eine Reiseversicherung abgeschlossen haben\n",
    "\n",
    "Lösung:"
   ]
  },
  {
   "cell_type": "code",
   "execution_count": 20,
   "id": "de309c5b-e57d-44c4-8c34-ee8e44e21949",
   "metadata": {},
   "outputs": [
    {
     "data": {
      "text/html": [
       "<div>\n",
       "<style scoped>\n",
       "    .dataframe tbody tr th:only-of-type {\n",
       "        vertical-align: middle;\n",
       "    }\n",
       "\n",
       "    .dataframe tbody tr th {\n",
       "        vertical-align: top;\n",
       "    }\n",
       "\n",
       "    .dataframe thead th {\n",
       "        text-align: right;\n",
       "    }\n",
       "</style>\n",
       "<table border=\"1\" class=\"dataframe\">\n",
       "  <thead>\n",
       "    <tr style=\"text-align: right;\">\n",
       "      <th></th>\n",
       "      <th>Age</th>\n",
       "      <th>AnnualIncome</th>\n",
       "      <th>FamilyMembers</th>\n",
       "      <th>ChronicDiseases</th>\n",
       "      <th>TravelInsurance</th>\n",
       "    </tr>\n",
       "  </thead>\n",
       "  <tbody>\n",
       "    <tr>\n",
       "      <th>count</th>\n",
       "      <td>1987.000000</td>\n",
       "      <td>1.987000e+03</td>\n",
       "      <td>1987.000000</td>\n",
       "      <td>1987.000000</td>\n",
       "      <td>1987.000000</td>\n",
       "    </tr>\n",
       "    <tr>\n",
       "      <th>mean</th>\n",
       "      <td>29.650226</td>\n",
       "      <td>9.327630e+05</td>\n",
       "      <td>4.752894</td>\n",
       "      <td>0.277806</td>\n",
       "      <td>0.357323</td>\n",
       "    </tr>\n",
       "    <tr>\n",
       "      <th>std</th>\n",
       "      <td>2.913308</td>\n",
       "      <td>3.768557e+05</td>\n",
       "      <td>1.609650</td>\n",
       "      <td>0.448030</td>\n",
       "      <td>0.479332</td>\n",
       "    </tr>\n",
       "    <tr>\n",
       "      <th>min</th>\n",
       "      <td>25.000000</td>\n",
       "      <td>3.000000e+05</td>\n",
       "      <td>2.000000</td>\n",
       "      <td>0.000000</td>\n",
       "      <td>0.000000</td>\n",
       "    </tr>\n",
       "    <tr>\n",
       "      <th>25%</th>\n",
       "      <td>28.000000</td>\n",
       "      <td>6.000000e+05</td>\n",
       "      <td>4.000000</td>\n",
       "      <td>0.000000</td>\n",
       "      <td>0.000000</td>\n",
       "    </tr>\n",
       "    <tr>\n",
       "      <th>50%</th>\n",
       "      <td>29.000000</td>\n",
       "      <td>9.000000e+05</td>\n",
       "      <td>5.000000</td>\n",
       "      <td>0.000000</td>\n",
       "      <td>0.000000</td>\n",
       "    </tr>\n",
       "    <tr>\n",
       "      <th>75%</th>\n",
       "      <td>32.000000</td>\n",
       "      <td>1.250000e+06</td>\n",
       "      <td>6.000000</td>\n",
       "      <td>1.000000</td>\n",
       "      <td>1.000000</td>\n",
       "    </tr>\n",
       "    <tr>\n",
       "      <th>max</th>\n",
       "      <td>35.000000</td>\n",
       "      <td>1.800000e+06</td>\n",
       "      <td>9.000000</td>\n",
       "      <td>1.000000</td>\n",
       "      <td>1.000000</td>\n",
       "    </tr>\n",
       "  </tbody>\n",
       "</table>\n",
       "</div>"
      ],
      "text/plain": [
       "               Age  AnnualIncome  FamilyMembers  ChronicDiseases  \\\n",
       "count  1987.000000  1.987000e+03    1987.000000      1987.000000   \n",
       "mean     29.650226  9.327630e+05       4.752894         0.277806   \n",
       "std       2.913308  3.768557e+05       1.609650         0.448030   \n",
       "min      25.000000  3.000000e+05       2.000000         0.000000   \n",
       "25%      28.000000  6.000000e+05       4.000000         0.000000   \n",
       "50%      29.000000  9.000000e+05       5.000000         0.000000   \n",
       "75%      32.000000  1.250000e+06       6.000000         1.000000   \n",
       "max      35.000000  1.800000e+06       9.000000         1.000000   \n",
       "\n",
       "       TravelInsurance  \n",
       "count      1987.000000  \n",
       "mean          0.357323  \n",
       "std           0.479332  \n",
       "min           0.000000  \n",
       "25%           0.000000  \n",
       "50%           0.000000  \n",
       "75%           1.000000  \n",
       "max           1.000000  "
      ]
     },
     "execution_count": 20,
     "metadata": {},
     "output_type": "execute_result"
    }
   ],
   "source": [
    "t.describe()"
   ]
  },
  {
   "cell_type": "markdown",
   "id": "4da964cc-1975-411b-8b24-f272b705339f",
   "metadata": {},
   "source": [
    "Man sieht hier durch die Zeile *mean*, dass das Durchschnittseinkommen: 9.327 * 10^5 = 9.327 * 100000 = 932700 Rupien beträgt. Eine Rupie entspricht ca. 0.012 Euro, also ist das Durchschnittseinkommen ca."
   ]
  },
  {
   "cell_type": "code",
   "execution_count": 21,
   "id": "1f7a2f13-6ba7-415d-b8df-5d6304e86d1c",
   "metadata": {},
   "outputs": [
    {
     "data": {
      "text/plain": [
       "11192.4"
      ]
     },
     "execution_count": 21,
     "metadata": {},
     "output_type": "execute_result"
    }
   ],
   "source": [
    "932700*0.012 "
   ]
  },
  {
   "cell_type": "markdown",
   "id": "a287c3bf-86e1-463e-8aa3-b0fb5c8671ac",
   "metadata": {},
   "source": [
    "€. Die Familien bestehen durschnittlich 4.75 Personen und 27.7% der Kunden habe mindestens eine chronische Krankheit. 35.7% der Kunden haben sich für die angebotene Reiseversicherung entschieden.\n",
    "\n",
    "Die `describe()` Methode eines *Pandas DataFrame* Objektes ist also sehr hilfreich, um schnell einen Überblick über die *numerischen Spalten* zu erhalten.\n",
    "\n",
    "Wir nutzen das oben Gelernte bei der Untersuchung des Alters der Kunden, um nun auch die anderen nicht-numerischen Spalten zu untersuchen:"
   ]
  },
  {
   "cell_type": "code",
   "execution_count": 22,
   "id": "d7f6dd69-9c43-420f-bd5a-4525e2f9ee19",
   "metadata": {},
   "outputs": [
    {
     "data": {
      "text/plain": [
       "Age                     int64\n",
       "Employment Type        object\n",
       "GraduateOrNot          object\n",
       "AnnualIncome            int64\n",
       "FamilyMembers           int64\n",
       "ChronicDiseases         int64\n",
       "FrequentFlyer          object\n",
       "EverTravelledAbroad    object\n",
       "TravelInsurance         int64\n",
       "dtype: object"
      ]
     },
     "execution_count": 22,
     "metadata": {},
     "output_type": "execute_result"
    }
   ],
   "source": [
    "t.dtypes"
   ]
  },
  {
   "cell_type": "markdown",
   "id": "7259978d-6fa5-447a-98b4-92282d1317d9",
   "metadata": {},
   "source": [
    "Das sind also die Spalten\n",
    "\n",
    "- Employment Type\n",
    "- GraduateOrNot\n",
    "- FrequentFlyer\n",
    "- EverTravelledAbroad"
   ]
  },
  {
   "cell_type": "markdown",
   "id": "de9a9d2e-de78-4ee4-9f07-28d004f1397a",
   "metadata": {},
   "source": [
    "## Quiz: Nicht-numerische Spalten untersuchen\n",
    "\n",
    "Ergänze den folgenden Python-Code, so dass wir einen Überblick über jede dieser vier nicht-numerischen Spalten erhalten:"
   ]
  },
  {
   "cell_type": "code",
   "execution_count": 23,
   "id": "a8e57eed-7369-46c3-a29d-bb6fdca624cb",
   "metadata": {},
   "outputs": [],
   "source": [
    "t_kategorial = t.select_dtypes(include=['object'])"
   ]
  },
  {
   "cell_type": "code",
   "execution_count": 24,
   "id": "018ae2b8-5169-4175-becd-a6ac5b93ff5c",
   "metadata": {},
   "outputs": [
    {
     "data": {
      "text/html": [
       "<div>\n",
       "<style scoped>\n",
       "    .dataframe tbody tr th:only-of-type {\n",
       "        vertical-align: middle;\n",
       "    }\n",
       "\n",
       "    .dataframe tbody tr th {\n",
       "        vertical-align: top;\n",
       "    }\n",
       "\n",
       "    .dataframe thead th {\n",
       "        text-align: right;\n",
       "    }\n",
       "</style>\n",
       "<table border=\"1\" class=\"dataframe\">\n",
       "  <thead>\n",
       "    <tr style=\"text-align: right;\">\n",
       "      <th></th>\n",
       "      <th>Employment Type</th>\n",
       "      <th>GraduateOrNot</th>\n",
       "      <th>FrequentFlyer</th>\n",
       "      <th>EverTravelledAbroad</th>\n",
       "    </tr>\n",
       "  </thead>\n",
       "  <tbody>\n",
       "    <tr>\n",
       "      <th>0</th>\n",
       "      <td>Government Sector</td>\n",
       "      <td>Yes</td>\n",
       "      <td>No</td>\n",
       "      <td>No</td>\n",
       "    </tr>\n",
       "    <tr>\n",
       "      <th>1</th>\n",
       "      <td>Private Sector/Self Employed</td>\n",
       "      <td>Yes</td>\n",
       "      <td>No</td>\n",
       "      <td>No</td>\n",
       "    </tr>\n",
       "    <tr>\n",
       "      <th>2</th>\n",
       "      <td>Private Sector/Self Employed</td>\n",
       "      <td>Yes</td>\n",
       "      <td>No</td>\n",
       "      <td>No</td>\n",
       "    </tr>\n",
       "    <tr>\n",
       "      <th>3</th>\n",
       "      <td>Private Sector/Self Employed</td>\n",
       "      <td>Yes</td>\n",
       "      <td>No</td>\n",
       "      <td>No</td>\n",
       "    </tr>\n",
       "    <tr>\n",
       "      <th>4</th>\n",
       "      <td>Private Sector/Self Employed</td>\n",
       "      <td>Yes</td>\n",
       "      <td>Yes</td>\n",
       "      <td>No</td>\n",
       "    </tr>\n",
       "    <tr>\n",
       "      <th>...</th>\n",
       "      <td>...</td>\n",
       "      <td>...</td>\n",
       "      <td>...</td>\n",
       "      <td>...</td>\n",
       "    </tr>\n",
       "    <tr>\n",
       "      <th>1982</th>\n",
       "      <td>Private Sector/Self Employed</td>\n",
       "      <td>Yes</td>\n",
       "      <td>Yes</td>\n",
       "      <td>Yes</td>\n",
       "    </tr>\n",
       "    <tr>\n",
       "      <th>1983</th>\n",
       "      <td>Private Sector/Self Employed</td>\n",
       "      <td>Yes</td>\n",
       "      <td>No</td>\n",
       "      <td>Yes</td>\n",
       "    </tr>\n",
       "    <tr>\n",
       "      <th>1984</th>\n",
       "      <td>Private Sector/Self Employed</td>\n",
       "      <td>Yes</td>\n",
       "      <td>No</td>\n",
       "      <td>No</td>\n",
       "    </tr>\n",
       "    <tr>\n",
       "      <th>1985</th>\n",
       "      <td>Private Sector/Self Employed</td>\n",
       "      <td>Yes</td>\n",
       "      <td>Yes</td>\n",
       "      <td>Yes</td>\n",
       "    </tr>\n",
       "    <tr>\n",
       "      <th>1986</th>\n",
       "      <td>Private Sector/Self Employed</td>\n",
       "      <td>Yes</td>\n",
       "      <td>No</td>\n",
       "      <td>No</td>\n",
       "    </tr>\n",
       "  </tbody>\n",
       "</table>\n",
       "<p>1987 rows × 4 columns</p>\n",
       "</div>"
      ],
      "text/plain": [
       "                   Employment Type GraduateOrNot FrequentFlyer  \\\n",
       "0                Government Sector           Yes            No   \n",
       "1     Private Sector/Self Employed           Yes            No   \n",
       "2     Private Sector/Self Employed           Yes            No   \n",
       "3     Private Sector/Self Employed           Yes            No   \n",
       "4     Private Sector/Self Employed           Yes           Yes   \n",
       "...                            ...           ...           ...   \n",
       "1982  Private Sector/Self Employed           Yes           Yes   \n",
       "1983  Private Sector/Self Employed           Yes            No   \n",
       "1984  Private Sector/Self Employed           Yes            No   \n",
       "1985  Private Sector/Self Employed           Yes           Yes   \n",
       "1986  Private Sector/Self Employed           Yes            No   \n",
       "\n",
       "     EverTravelledAbroad  \n",
       "0                     No  \n",
       "1                     No  \n",
       "2                     No  \n",
       "3                     No  \n",
       "4                     No  \n",
       "...                  ...  \n",
       "1982                 Yes  \n",
       "1983                 Yes  \n",
       "1984                  No  \n",
       "1985                 Yes  \n",
       "1986                  No  \n",
       "\n",
       "[1987 rows x 4 columns]"
      ]
     },
     "execution_count": 24,
     "metadata": {},
     "output_type": "execute_result"
    }
   ],
   "source": [
    "t_kategorial"
   ]
  },
  {
   "cell_type": "code",
   "execution_count": 25,
   "id": "e1781f72-5f56-4b31-8d02-98ae3e98bb11",
   "metadata": {},
   "outputs": [
    {
     "name": "stdout",
     "output_type": "stream",
     "text": [
      "Employment Type\n",
      "GraduateOrNot\n",
      "FrequentFlyer\n",
      "EverTravelledAbroad\n"
     ]
    }
   ],
   "source": [
    "for spalten_name in t_kategorial.columns:\n",
    "    print(spalten_name)"
   ]
  },
  {
   "cell_type": "markdown",
   "id": "4d8ff17a-6abf-4b6d-8127-8058966115fc",
   "metadata": {},
   "source": [
    "Lösung:"
   ]
  },
  {
   "cell_type": "code",
   "execution_count": 26,
   "id": "6c2a3c98-88b3-4548-98e5-c598520e9a2e",
   "metadata": {},
   "outputs": [
    {
     "name": "stdout",
     "output_type": "stream",
     "text": [
      "\n",
      "\n",
      "\n",
      "Private Sector/Self Employed    1417\n",
      "Government Sector                570\n",
      "Name: Employment Type, dtype: int64\n"
     ]
    },
    {
     "data": {
      "image/png": "[encoded data removed]",
      "text/plain": [
       "<Figure size 432x288 with 1 Axes>"
      ]
     },
     "metadata": {
      "needs_background": "light"
     },
     "output_type": "display_data"
    },
    {
     "name": "stdout",
     "output_type": "stream",
     "text": [
      "\n",
      "\n",
      "\n",
      "Yes    1692\n",
      "No      295\n",
      "Name: GraduateOrNot, dtype: int64\n"
     ]
    },
    {
     "data": {
      "image/png": "[encoded data removed]",
      "text/plain": [
       "<Figure size 432x288 with 1 Axes>"
      ]
     },
     "metadata": {
      "needs_background": "light"
     },
     "output_type": "display_data"
    },
    {
     "name": "stdout",
     "output_type": "stream",
     "text": [
      "\n",
      "\n",
      "\n",
      "No     1570\n",
      "Yes     417\n",
      "Name: FrequentFlyer, dtype: int64\n"
     ]
    },
    {
     "data": {
      "image/png": "[encoded data removed]",
      "text/plain": [
       "<Figure size 432x288 with 1 Axes>"
      ]
     },
     "metadata": {
      "needs_background": "light"
     },
     "output_type": "display_data"
    },
    {
     "name": "stdout",
     "output_type": "stream",
     "text": [
      "\n",
      "\n",
      "\n",
      "No     1607\n",
      "Yes     380\n",
      "Name: EverTravelledAbroad, dtype: int64\n"
     ]
    },
    {
     "data": {
      "image/png": "[encoded data removed]",
      "text/plain": [
       "<Figure size 432x288 with 1 Axes>"
      ]
     },
     "metadata": {
      "needs_background": "light"
     },
     "output_type": "display_data"
    }
   ],
   "source": [
    "for spalten_name in t_kategorial.columns:    \n",
    "    \n",
    "    hauefigkeiten_per_wert = t[spalten_name].value_counts()    \n",
    "    \n",
    "    print( \"\\n\\n\")\n",
    "    print( hauefigkeiten_per_wert )\n",
    "        \n",
    "    t[spalten_name].value_counts().plot.bar()\n",
    "    plt.title( f\"{spalten_name}\" )\n",
    "    plt.show()"
   ]
  },
  {
   "cell_type": "markdown",
   "id": "59343347-cb28-41fa-8be6-b5bea3633124",
   "metadata": {},
   "source": [
    "# Unterteilung der Beispieldaten in Trainings- und Testdaten\n",
    "\n",
    "Machine Learning Verfahren stellen interne Parameter durch viele sogenannte Trainingsdaten ein, um eine Aufgabe zu lösen. Nehmen wir hier im Folgenden alle 1987 Beispielkunden als Trainingsdaten, können wir aber nach dem Einstellen dieser internen Parameter (dem *Training des Modells*) nicht mehr testen, wie gut das Modell ist.\n",
    "\n",
    "Daher unterteilt man die Beispieldaten typischerweise so:\n",
    "\n",
    "- ca. 80-90% werden für das Training genommen\n",
    "- ca. 20-10% werden für das Testen vorgehalten\n",
    "\n",
    "Bevor wir die Beispieldaten jedoch in Trainings- und Testdaten zuschneiden sollten wir aufpassen, dass nicht im vorderen Teil für die Trainingsdaten beispielsweise nur junge Kunden sind und im hinteren Teil für die Testdaten ältere Kunden. Um eine eventuell vorhandene Systematik / Reihenfolge bei den Beispieldaten zu entfernen, können wir die *Pandas sample()* Methode nutzen.\n",
    "\n",
    "Diese liefert uns von einem DataFrame einen zufälligen Teil zurück, zum Beispiel 1%:"
   ]
  },
  {
   "cell_type": "code",
   "execution_count": 27,
   "id": "249da1a4-a8cd-4ef4-bedf-f8d65e07e468",
   "metadata": {},
   "outputs": [
    {
     "data": {
      "text/html": [
       "<div>\n",
       "<style scoped>\n",
       "    .dataframe tbody tr th:only-of-type {\n",
       "        vertical-align: middle;\n",
       "    }\n",
       "\n",
       "    .dataframe tbody tr th {\n",
       "        vertical-align: top;\n",
       "    }\n",
       "\n",
       "    .dataframe thead th {\n",
       "        text-align: right;\n",
       "    }\n",
       "</style>\n",
       "<table border=\"1\" class=\"dataframe\">\n",
       "  <thead>\n",
       "    <tr style=\"text-align: right;\">\n",
       "      <th></th>\n",
       "      <th>Age</th>\n",
       "      <th>Employment Type</th>\n",
       "      <th>GraduateOrNot</th>\n",
       "      <th>AnnualIncome</th>\n",
       "      <th>FamilyMembers</th>\n",
       "      <th>ChronicDiseases</th>\n",
       "      <th>FrequentFlyer</th>\n",
       "      <th>EverTravelledAbroad</th>\n",
       "      <th>TravelInsurance</th>\n",
       "    </tr>\n",
       "  </thead>\n",
       "  <tbody>\n",
       "    <tr>\n",
       "      <th>1370</th>\n",
       "      <td>28</td>\n",
       "      <td>Private Sector/Self Employed</td>\n",
       "      <td>Yes</td>\n",
       "      <td>800000</td>\n",
       "      <td>6</td>\n",
       "      <td>0</td>\n",
       "      <td>No</td>\n",
       "      <td>No</td>\n",
       "      <td>0</td>\n",
       "    </tr>\n",
       "    <tr>\n",
       "      <th>276</th>\n",
       "      <td>29</td>\n",
       "      <td>Private Sector/Self Employed</td>\n",
       "      <td>Yes</td>\n",
       "      <td>1050000</td>\n",
       "      <td>6</td>\n",
       "      <td>0</td>\n",
       "      <td>No</td>\n",
       "      <td>No</td>\n",
       "      <td>0</td>\n",
       "    </tr>\n",
       "    <tr>\n",
       "      <th>1129</th>\n",
       "      <td>26</td>\n",
       "      <td>Private Sector/Self Employed</td>\n",
       "      <td>Yes</td>\n",
       "      <td>1500000</td>\n",
       "      <td>2</td>\n",
       "      <td>0</td>\n",
       "      <td>Yes</td>\n",
       "      <td>Yes</td>\n",
       "      <td>1</td>\n",
       "    </tr>\n",
       "    <tr>\n",
       "      <th>144</th>\n",
       "      <td>31</td>\n",
       "      <td>Private Sector/Self Employed</td>\n",
       "      <td>Yes</td>\n",
       "      <td>1250000</td>\n",
       "      <td>4</td>\n",
       "      <td>0</td>\n",
       "      <td>No</td>\n",
       "      <td>No</td>\n",
       "      <td>0</td>\n",
       "    </tr>\n",
       "    <tr>\n",
       "      <th>1876</th>\n",
       "      <td>34</td>\n",
       "      <td>Private Sector/Self Employed</td>\n",
       "      <td>Yes</td>\n",
       "      <td>1500000</td>\n",
       "      <td>4</td>\n",
       "      <td>1</td>\n",
       "      <td>Yes</td>\n",
       "      <td>Yes</td>\n",
       "      <td>1</td>\n",
       "    </tr>\n",
       "    <tr>\n",
       "      <th>1773</th>\n",
       "      <td>28</td>\n",
       "      <td>Private Sector/Self Employed</td>\n",
       "      <td>Yes</td>\n",
       "      <td>500000</td>\n",
       "      <td>4</td>\n",
       "      <td>0</td>\n",
       "      <td>No</td>\n",
       "      <td>No</td>\n",
       "      <td>0</td>\n",
       "    </tr>\n",
       "    <tr>\n",
       "      <th>991</th>\n",
       "      <td>30</td>\n",
       "      <td>Private Sector/Self Employed</td>\n",
       "      <td>No</td>\n",
       "      <td>1450000</td>\n",
       "      <td>7</td>\n",
       "      <td>0</td>\n",
       "      <td>Yes</td>\n",
       "      <td>Yes</td>\n",
       "      <td>1</td>\n",
       "    </tr>\n",
       "    <tr>\n",
       "      <th>43</th>\n",
       "      <td>28</td>\n",
       "      <td>Private Sector/Self Employed</td>\n",
       "      <td>Yes</td>\n",
       "      <td>1200000</td>\n",
       "      <td>4</td>\n",
       "      <td>0</td>\n",
       "      <td>Yes</td>\n",
       "      <td>No</td>\n",
       "      <td>1</td>\n",
       "    </tr>\n",
       "    <tr>\n",
       "      <th>279</th>\n",
       "      <td>32</td>\n",
       "      <td>Government Sector</td>\n",
       "      <td>Yes</td>\n",
       "      <td>350000</td>\n",
       "      <td>6</td>\n",
       "      <td>0</td>\n",
       "      <td>No</td>\n",
       "      <td>No</td>\n",
       "      <td>0</td>\n",
       "    </tr>\n",
       "    <tr>\n",
       "      <th>346</th>\n",
       "      <td>25</td>\n",
       "      <td>Private Sector/Self Employed</td>\n",
       "      <td>Yes</td>\n",
       "      <td>1800000</td>\n",
       "      <td>7</td>\n",
       "      <td>1</td>\n",
       "      <td>Yes</td>\n",
       "      <td>No</td>\n",
       "      <td>1</td>\n",
       "    </tr>\n",
       "    <tr>\n",
       "      <th>760</th>\n",
       "      <td>27</td>\n",
       "      <td>Government Sector</td>\n",
       "      <td>Yes</td>\n",
       "      <td>500000</td>\n",
       "      <td>4</td>\n",
       "      <td>1</td>\n",
       "      <td>No</td>\n",
       "      <td>No</td>\n",
       "      <td>0</td>\n",
       "    </tr>\n",
       "    <tr>\n",
       "      <th>1428</th>\n",
       "      <td>34</td>\n",
       "      <td>Private Sector/Self Employed</td>\n",
       "      <td>Yes</td>\n",
       "      <td>1300000</td>\n",
       "      <td>7</td>\n",
       "      <td>0</td>\n",
       "      <td>No</td>\n",
       "      <td>No</td>\n",
       "      <td>1</td>\n",
       "    </tr>\n",
       "    <tr>\n",
       "      <th>113</th>\n",
       "      <td>29</td>\n",
       "      <td>Private Sector/Self Employed</td>\n",
       "      <td>Yes</td>\n",
       "      <td>900000</td>\n",
       "      <td>4</td>\n",
       "      <td>0</td>\n",
       "      <td>Yes</td>\n",
       "      <td>No</td>\n",
       "      <td>0</td>\n",
       "    </tr>\n",
       "    <tr>\n",
       "      <th>758</th>\n",
       "      <td>33</td>\n",
       "      <td>Private Sector/Self Employed</td>\n",
       "      <td>Yes</td>\n",
       "      <td>1400000</td>\n",
       "      <td>6</td>\n",
       "      <td>1</td>\n",
       "      <td>No</td>\n",
       "      <td>Yes</td>\n",
       "      <td>1</td>\n",
       "    </tr>\n",
       "    <tr>\n",
       "      <th>303</th>\n",
       "      <td>31</td>\n",
       "      <td>Government Sector</td>\n",
       "      <td>No</td>\n",
       "      <td>300000</td>\n",
       "      <td>3</td>\n",
       "      <td>0</td>\n",
       "      <td>No</td>\n",
       "      <td>No</td>\n",
       "      <td>0</td>\n",
       "    </tr>\n",
       "    <tr>\n",
       "      <th>609</th>\n",
       "      <td>28</td>\n",
       "      <td>Private Sector/Self Employed</td>\n",
       "      <td>Yes</td>\n",
       "      <td>700000</td>\n",
       "      <td>7</td>\n",
       "      <td>1</td>\n",
       "      <td>Yes</td>\n",
       "      <td>Yes</td>\n",
       "      <td>1</td>\n",
       "    </tr>\n",
       "    <tr>\n",
       "      <th>1792</th>\n",
       "      <td>34</td>\n",
       "      <td>Private Sector/Self Employed</td>\n",
       "      <td>Yes</td>\n",
       "      <td>1500000</td>\n",
       "      <td>3</td>\n",
       "      <td>0</td>\n",
       "      <td>Yes</td>\n",
       "      <td>Yes</td>\n",
       "      <td>1</td>\n",
       "    </tr>\n",
       "    <tr>\n",
       "      <th>698</th>\n",
       "      <td>33</td>\n",
       "      <td>Private Sector/Self Employed</td>\n",
       "      <td>Yes</td>\n",
       "      <td>1200000</td>\n",
       "      <td>7</td>\n",
       "      <td>0</td>\n",
       "      <td>No</td>\n",
       "      <td>No</td>\n",
       "      <td>1</td>\n",
       "    </tr>\n",
       "    <tr>\n",
       "      <th>464</th>\n",
       "      <td>34</td>\n",
       "      <td>Private Sector/Self Employed</td>\n",
       "      <td>Yes</td>\n",
       "      <td>1500000</td>\n",
       "      <td>5</td>\n",
       "      <td>0</td>\n",
       "      <td>Yes</td>\n",
       "      <td>Yes</td>\n",
       "      <td>1</td>\n",
       "    </tr>\n",
       "    <tr>\n",
       "      <th>764</th>\n",
       "      <td>27</td>\n",
       "      <td>Government Sector</td>\n",
       "      <td>Yes</td>\n",
       "      <td>500000</td>\n",
       "      <td>5</td>\n",
       "      <td>0</td>\n",
       "      <td>No</td>\n",
       "      <td>No</td>\n",
       "      <td>0</td>\n",
       "    </tr>\n",
       "  </tbody>\n",
       "</table>\n",
       "</div>"
      ],
      "text/plain": [
       "      Age               Employment Type GraduateOrNot  AnnualIncome  \\\n",
       "1370   28  Private Sector/Self Employed           Yes        800000   \n",
       "276    29  Private Sector/Self Employed           Yes       1050000   \n",
       "1129   26  Private Sector/Self Employed           Yes       1500000   \n",
       "144    31  Private Sector/Self Employed           Yes       1250000   \n",
       "1876   34  Private Sector/Self Employed           Yes       1500000   \n",
       "1773   28  Private Sector/Self Employed           Yes        500000   \n",
       "991    30  Private Sector/Self Employed            No       1450000   \n",
       "43     28  Private Sector/Self Employed           Yes       1200000   \n",
       "279    32             Government Sector           Yes        350000   \n",
       "346    25  Private Sector/Self Employed           Yes       1800000   \n",
       "760    27             Government Sector           Yes        500000   \n",
       "1428   34  Private Sector/Self Employed           Yes       1300000   \n",
       "113    29  Private Sector/Self Employed           Yes        900000   \n",
       "758    33  Private Sector/Self Employed           Yes       1400000   \n",
       "303    31             Government Sector            No        300000   \n",
       "609    28  Private Sector/Self Employed           Yes        700000   \n",
       "1792   34  Private Sector/Self Employed           Yes       1500000   \n",
       "698    33  Private Sector/Self Employed           Yes       1200000   \n",
       "464    34  Private Sector/Self Employed           Yes       1500000   \n",
       "764    27             Government Sector           Yes        500000   \n",
       "\n",
       "      FamilyMembers  ChronicDiseases FrequentFlyer EverTravelledAbroad  \\\n",
       "1370              6                0            No                  No   \n",
       "276               6                0            No                  No   \n",
       "1129              2                0           Yes                 Yes   \n",
       "144               4                0            No                  No   \n",
       "1876              4                1           Yes                 Yes   \n",
       "1773              4                0            No                  No   \n",
       "991               7                0           Yes                 Yes   \n",
       "43                4                0           Yes                  No   \n",
       "279               6                0            No                  No   \n",
       "346               7                1           Yes                  No   \n",
       "760               4                1            No                  No   \n",
       "1428              7                0            No                  No   \n",
       "113               4                0           Yes                  No   \n",
       "758               6                1            No                 Yes   \n",
       "303               3                0            No                  No   \n",
       "609               7                1           Yes                 Yes   \n",
       "1792              3                0           Yes                 Yes   \n",
       "698               7                0            No                  No   \n",
       "464               5                0           Yes                 Yes   \n",
       "764               5                0            No                  No   \n",
       "\n",
       "      TravelInsurance  \n",
       "1370                0  \n",
       "276                 0  \n",
       "1129                1  \n",
       "144                 0  \n",
       "1876                1  \n",
       "1773                0  \n",
       "991                 1  \n",
       "43                  1  \n",
       "279                 0  \n",
       "346                 1  \n",
       "760                 0  \n",
       "1428                1  \n",
       "113                 0  \n",
       "758                 1  \n",
       "303                 0  \n",
       "609                 1  \n",
       "1792                1  \n",
       "698                 1  \n",
       "464                 1  \n",
       "764                 0  "
      ]
     },
     "execution_count": 27,
     "metadata": {},
     "output_type": "execute_result"
    }
   ],
   "source": [
    "t.sample(frac=0.01)"
   ]
  },
  {
   "cell_type": "markdown",
   "id": "073029ea-4da6-4b91-85f4-86fe96536894",
   "metadata": {},
   "source": [
    "1% von 1987 Beispielen sind?"
   ]
  },
  {
   "cell_type": "code",
   "execution_count": 28,
   "id": "8438bd7f-e871-464b-b59a-c70d1f419c42",
   "metadata": {},
   "outputs": [
    {
     "data": {
      "text/plain": [
       "20"
      ]
     },
     "execution_count": 28,
     "metadata": {},
     "output_type": "execute_result"
    }
   ],
   "source": [
    "len( t.sample(frac=0.01) )"
   ]
  },
  {
   "cell_type": "markdown",
   "id": "b09a6c12-d331-45f6-b550-86392af8a2c5",
   "metadata": {},
   "source": [
    "Aufgerundet 20. Passt also!"
   ]
  },
  {
   "cell_type": "markdown",
   "id": "2daa929f-f453-4a9f-8246-176c110d750d",
   "metadata": {},
   "source": [
    "Wir können uns jetzt auch 100% der Daten zurückgeben lassen, aber eben dann in einer zufälligen Reihenfolge:"
   ]
  },
  {
   "cell_type": "code",
   "execution_count": 29,
   "id": "fedf1453-dfda-47a7-8014-200e0a888b0d",
   "metadata": {},
   "outputs": [],
   "source": [
    "t = t.sample(frac=1.0)"
   ]
  },
  {
   "cell_type": "code",
   "execution_count": 30,
   "id": "e33faf98-ea15-422f-b984-6885c10dafc4",
   "metadata": {},
   "outputs": [
    {
     "data": {
      "text/plain": [
       "1987"
      ]
     },
     "execution_count": 30,
     "metadata": {},
     "output_type": "execute_result"
    }
   ],
   "source": [
    "len(t)"
   ]
  },
  {
   "cell_type": "markdown",
   "id": "534e91cc-9811-42a8-871c-fb1629dda691",
   "metadata": {},
   "source": [
    "Und die Beispieldaten in der Tabelle `t` können wir nun beruhigt in Trainings- und Testdaten unterteilen.\n",
    "\n",
    "Zuerst entscheiden wir wieviele Trainings- und wieviele Testdaten wir wollen:"
   ]
  },
  {
   "cell_type": "code",
   "execution_count": 31,
   "id": "6ecbfd62-264b-43ec-a87a-a3c9e18de82d",
   "metadata": {},
   "outputs": [],
   "source": [
    "N = len(t)\n",
    "N_train = int(0.8*N)\n",
    "N_test = N-N_train"
   ]
  },
  {
   "cell_type": "code",
   "execution_count": 32,
   "id": "efca5fbb-32cc-4384-baed-e5f97bb45ed0",
   "metadata": {},
   "outputs": [
    {
     "data": {
      "text/plain": [
       "(1987, 1589, 398)"
      ]
     },
     "execution_count": 32,
     "metadata": {},
     "output_type": "execute_result"
    }
   ],
   "source": [
    "N, N_train, N_test"
   ]
  },
  {
   "cell_type": "markdown",
   "id": "3097fbf4-4373-4d72-9180-de158d2457db",
   "metadata": {},
   "source": [
    "Jetzt können wir die Beispieldaten zuschneiden (*slicen*):"
   ]
  },
  {
   "cell_type": "code",
   "execution_count": 33,
   "id": "f152d5f3-43be-4160-830b-f337655035b7",
   "metadata": {},
   "outputs": [],
   "source": [
    "t_train = t.iloc[0:N_train]\n",
    "t_test  = t.iloc[N_train:]"
   ]
  },
  {
   "cell_type": "code",
   "execution_count": 34,
   "id": "77144fe0-1ca9-4046-8945-87a88303117e",
   "metadata": {},
   "outputs": [
    {
     "data": {
      "text/plain": [
       "(1589, 9)"
      ]
     },
     "execution_count": 34,
     "metadata": {},
     "output_type": "execute_result"
    }
   ],
   "source": [
    "t_train.shape"
   ]
  },
  {
   "cell_type": "code",
   "execution_count": 35,
   "id": "3f55be65-e436-4b8a-8b96-b76f2db2f58d",
   "metadata": {},
   "outputs": [
    {
     "data": {
      "text/plain": [
       "(398, 9)"
      ]
     },
     "execution_count": 35,
     "metadata": {},
     "output_type": "execute_result"
    }
   ],
   "source": [
    "t_test.shape"
   ]
  },
  {
   "cell_type": "markdown",
   "id": "5326e524-631b-4783-92ef-c77ef53544f3",
   "metadata": {},
   "source": [
    "# Suchen nach ähnlichen Beispielen (ein Merkmal)\n",
    "\n",
    "Stellen Sie sich vor: ein neuer Kunde kommt rein. Wir wollen vorhersagen, ob das ein Kunde ist, der eine Reiseversicherung abschliesst oder nicht (Zielvariable: *TravelInsurance*). Als einziges Merkmal nehmen wir erstmal das Einkommen (*AnnualIncome*) des Kunden. Wir suchen also in unserer Datenbank nach ähnlichen Kunden, d.h. Kunden, die ein sehr ähnliches Einkommen haben,."
   ]
  },
  {
   "cell_type": "markdown",
   "id": "972bd194-9a02-4489-9e81-05e75461830b",
   "metadata": {},
   "source": [
    "## Quiz: Kunden nach einem Merkmal vergleichen\n",
    "\n",
    "Schreibe Python-Code der für den ersten Kunden in den Testdaten das Einkommen abruft und mit dem Einkommen aller in den Trainingsdaten gespeicherten Kunden vergleicht!\n",
    "\n",
    "So kommt man an den ersten Testkunden:"
   ]
  },
  {
   "cell_type": "code",
   "execution_count": 36,
   "id": "807321fe-40a1-44d8-b41f-17fa9b84a5e4",
   "metadata": {},
   "outputs": [
    {
     "data": {
      "text/plain": [
       "Age                                              31\n",
       "Employment Type        Private Sector/Self Employed\n",
       "GraduateOrNot                                   Yes\n",
       "AnnualIncome                                1400000\n",
       "FamilyMembers                                     6\n",
       "ChronicDiseases                                   0\n",
       "FrequentFlyer                                    No\n",
       "EverTravelledAbroad                             Yes\n",
       "TravelInsurance                                   1\n",
       "Name: 1612, dtype: object"
      ]
     },
     "execution_count": 36,
     "metadata": {},
     "output_type": "execute_result"
    }
   ],
   "source": [
    "t_test.iloc[0]"
   ]
  },
  {
   "cell_type": "markdown",
   "id": "79b302fd-4302-47c9-8d14-1d3cc180485f",
   "metadata": {},
   "source": [
    "Und so an sein Einkommen:"
   ]
  },
  {
   "cell_type": "code",
   "execution_count": 37,
   "id": "1a8a4a90-bd0b-43fa-8924-3465d6184b43",
   "metadata": {},
   "outputs": [
    {
     "data": {
      "text/plain": [
       "1400000"
      ]
     },
     "execution_count": 37,
     "metadata": {},
     "output_type": "execute_result"
    }
   ],
   "source": [
    "t_test.iloc[0][\"AnnualIncome\"]"
   ]
  },
  {
   "cell_type": "markdown",
   "id": "e7d0964b-56cb-4c0b-a949-b296ba755af7",
   "metadata": {},
   "source": [
    "Und so kann man über alle Kunden in den Trainingsdaten iterrieren:"
   ]
  },
  {
   "cell_type": "code",
   "execution_count": 38,
   "id": "c8e5228c-0d31-476d-8187-4747fce37426",
   "metadata": {},
   "outputs": [
    {
     "name": "stdout",
     "output_type": "stream",
     "text": [
      "Age                                   28\n",
      "Employment Type        Government Sector\n",
      "GraduateOrNot                        Yes\n",
      "AnnualIncome                     1200000\n",
      "FamilyMembers                          4\n",
      "ChronicDiseases                        0\n",
      "FrequentFlyer                         No\n",
      "EverTravelledAbroad                   No\n",
      "TravelInsurance                        1\n",
      "Name: 1884, dtype: object\n"
     ]
    }
   ],
   "source": [
    "for index, row in t_train.iterrows():\n",
    "    print(row)\n",
    "    \n",
    "    # erstmal nur einen Kunden anzeigen,\n",
    "    # auch wenn die Schleife hier über alle laufen würde!\n",
    "    break"
   ]
  },
  {
   "cell_type": "markdown",
   "id": "edeafb0e-d7da-43ef-9493-aef525c4d780",
   "metadata": {},
   "source": [
    "Lösung:"
   ]
  },
  {
   "cell_type": "code",
   "execution_count": 39,
   "id": "5ae5cc1e-ba4d-479a-8897-2d19bc408835",
   "metadata": {},
   "outputs": [],
   "source": [
    "einkommen_kunde_neu = t_test.iloc[0][\"AnnualIncome\"]\n",
    "\n",
    "differenzen = []\n",
    "\n",
    "for index, row in t_train.iterrows():\n",
    "    einkommen_kunde_alt = row[\"AnnualIncome\"]         \n",
    "    differenz = abs(einkommen_kunde_neu - einkommen_kunde_alt)\n",
    "    differenzen.append( differenz )"
   ]
  },
  {
   "cell_type": "markdown",
   "id": "3709dbc1-71aa-4852-b731-917e0316ed98",
   "metadata": {},
   "source": [
    "## Quiz: Gibt es ähnliche Kunden?\n",
    "\n",
    "Nimm nun die Liste der Differenzen (der Einkommen) und versuche herauszufinden, ob es Kunden mit ähnlichen Einkommen gab!\n",
    "\n",
    "Hinweis: Sortiere!"
   ]
  },
  {
   "cell_type": "code",
   "execution_count": 40,
   "id": "9ae082ee-3c38-4d8d-a31a-70d95b80618b",
   "metadata": {},
   "outputs": [
    {
     "data": {
      "image/png": "[encoded data removed]",
      "text/plain": [
       "<Figure size 432x288 with 1 Axes>"
      ]
     },
     "metadata": {
      "needs_background": "light"
     },
     "output_type": "display_data"
    }
   ],
   "source": [
    "import numpy as np\n",
    "plt.bar( np.arange(1,len(differenzen)+1), sorted(differenzen) )\n",
    "plt.xlabel(\"Vergleichskunden-Nr\")\n",
    "plt.ylabel(\"Differenz im Einkommen\")\n",
    "plt.show()"
   ]
  },
  {
   "cell_type": "markdown",
   "id": "240caa23-73c6-4a5a-82ac-196f61bdb32b",
   "metadata": {},
   "source": [
    "Man sieht also, dass es sogar sehr viele Kunden gibt, die exakt das gleiche Einkommen (800000 Rupien) wie unser Testkunde haben."
   ]
  },
  {
   "cell_type": "markdown",
   "id": "d8930cc4-f90f-43a5-b6b8-88b0a3005ada",
   "metadata": {},
   "source": [
    "## Quiz: Ähnliche Kunden rausfiltern\n",
    "\n",
    "Nutze jetzt die Funktionalität von Pandas, um eine Tabelle aller Kunden zu erstellen, die ein Einkommen von 700.000-900.000 Rupien besitzen.\n",
    "\n",
    "Berechne dann den Prozentsatz solcher Kunden, die eine Versicherung abgeschlossen haben.\n",
    "\n",
    "Hinweis: so erhalten wir Kunden, die exakt das Gleiche einkommen besitzen:"
   ]
  },
  {
   "cell_type": "code",
   "execution_count": 41,
   "id": "4f9f2cc7-b5ad-42ac-bff0-5fc0dde8d5e0",
   "metadata": {},
   "outputs": [
    {
     "data": {
      "text/html": [
       "<div>\n",
       "<style scoped>\n",
       "    .dataframe tbody tr th:only-of-type {\n",
       "        vertical-align: middle;\n",
       "    }\n",
       "\n",
       "    .dataframe tbody tr th {\n",
       "        vertical-align: top;\n",
       "    }\n",
       "\n",
       "    .dataframe thead th {\n",
       "        text-align: right;\n",
       "    }\n",
       "</style>\n",
       "<table border=\"1\" class=\"dataframe\">\n",
       "  <thead>\n",
       "    <tr style=\"text-align: right;\">\n",
       "      <th></th>\n",
       "      <th>Age</th>\n",
       "      <th>Employment Type</th>\n",
       "      <th>GraduateOrNot</th>\n",
       "      <th>AnnualIncome</th>\n",
       "      <th>FamilyMembers</th>\n",
       "      <th>ChronicDiseases</th>\n",
       "      <th>FrequentFlyer</th>\n",
       "      <th>EverTravelledAbroad</th>\n",
       "      <th>TravelInsurance</th>\n",
       "    </tr>\n",
       "  </thead>\n",
       "  <tbody>\n",
       "    <tr>\n",
       "      <th>189</th>\n",
       "      <td>26</td>\n",
       "      <td>Private Sector/Self Employed</td>\n",
       "      <td>Yes</td>\n",
       "      <td>1400000</td>\n",
       "      <td>7</td>\n",
       "      <td>1</td>\n",
       "      <td>No</td>\n",
       "      <td>Yes</td>\n",
       "      <td>1</td>\n",
       "    </tr>\n",
       "    <tr>\n",
       "      <th>1896</th>\n",
       "      <td>31</td>\n",
       "      <td>Private Sector/Self Employed</td>\n",
       "      <td>Yes</td>\n",
       "      <td>1400000</td>\n",
       "      <td>3</td>\n",
       "      <td>0</td>\n",
       "      <td>No</td>\n",
       "      <td>Yes</td>\n",
       "      <td>1</td>\n",
       "    </tr>\n",
       "    <tr>\n",
       "      <th>103</th>\n",
       "      <td>26</td>\n",
       "      <td>Private Sector/Self Employed</td>\n",
       "      <td>Yes</td>\n",
       "      <td>1400000</td>\n",
       "      <td>5</td>\n",
       "      <td>0</td>\n",
       "      <td>No</td>\n",
       "      <td>Yes</td>\n",
       "      <td>1</td>\n",
       "    </tr>\n",
       "    <tr>\n",
       "      <th>631</th>\n",
       "      <td>33</td>\n",
       "      <td>Private Sector/Self Employed</td>\n",
       "      <td>Yes</td>\n",
       "      <td>1400000</td>\n",
       "      <td>6</td>\n",
       "      <td>1</td>\n",
       "      <td>No</td>\n",
       "      <td>Yes</td>\n",
       "      <td>1</td>\n",
       "    </tr>\n",
       "    <tr>\n",
       "      <th>987</th>\n",
       "      <td>33</td>\n",
       "      <td>Private Sector/Self Employed</td>\n",
       "      <td>Yes</td>\n",
       "      <td>1400000</td>\n",
       "      <td>2</td>\n",
       "      <td>1</td>\n",
       "      <td>No</td>\n",
       "      <td>Yes</td>\n",
       "      <td>1</td>\n",
       "    </tr>\n",
       "    <tr>\n",
       "      <th>...</th>\n",
       "      <td>...</td>\n",
       "      <td>...</td>\n",
       "      <td>...</td>\n",
       "      <td>...</td>\n",
       "      <td>...</td>\n",
       "      <td>...</td>\n",
       "      <td>...</td>\n",
       "      <td>...</td>\n",
       "      <td>...</td>\n",
       "    </tr>\n",
       "    <tr>\n",
       "      <th>776</th>\n",
       "      <td>25</td>\n",
       "      <td>Private Sector/Self Employed</td>\n",
       "      <td>Yes</td>\n",
       "      <td>1400000</td>\n",
       "      <td>6</td>\n",
       "      <td>0</td>\n",
       "      <td>Yes</td>\n",
       "      <td>Yes</td>\n",
       "      <td>1</td>\n",
       "    </tr>\n",
       "    <tr>\n",
       "      <th>282</th>\n",
       "      <td>26</td>\n",
       "      <td>Private Sector/Self Employed</td>\n",
       "      <td>Yes</td>\n",
       "      <td>1400000</td>\n",
       "      <td>4</td>\n",
       "      <td>0</td>\n",
       "      <td>No</td>\n",
       "      <td>Yes</td>\n",
       "      <td>1</td>\n",
       "    </tr>\n",
       "    <tr>\n",
       "      <th>201</th>\n",
       "      <td>31</td>\n",
       "      <td>Private Sector/Self Employed</td>\n",
       "      <td>Yes</td>\n",
       "      <td>1400000</td>\n",
       "      <td>2</td>\n",
       "      <td>0</td>\n",
       "      <td>No</td>\n",
       "      <td>Yes</td>\n",
       "      <td>1</td>\n",
       "    </tr>\n",
       "    <tr>\n",
       "      <th>1829</th>\n",
       "      <td>31</td>\n",
       "      <td>Private Sector/Self Employed</td>\n",
       "      <td>Yes</td>\n",
       "      <td>1400000</td>\n",
       "      <td>4</td>\n",
       "      <td>1</td>\n",
       "      <td>No</td>\n",
       "      <td>Yes</td>\n",
       "      <td>1</td>\n",
       "    </tr>\n",
       "    <tr>\n",
       "      <th>1545</th>\n",
       "      <td>34</td>\n",
       "      <td>Private Sector/Self Employed</td>\n",
       "      <td>No</td>\n",
       "      <td>1400000</td>\n",
       "      <td>3</td>\n",
       "      <td>0</td>\n",
       "      <td>Yes</td>\n",
       "      <td>Yes</td>\n",
       "      <td>1</td>\n",
       "    </tr>\n",
       "  </tbody>\n",
       "</table>\n",
       "<p>94 rows × 9 columns</p>\n",
       "</div>"
      ],
      "text/plain": [
       "      Age               Employment Type GraduateOrNot  AnnualIncome  \\\n",
       "189    26  Private Sector/Self Employed           Yes       1400000   \n",
       "1896   31  Private Sector/Self Employed           Yes       1400000   \n",
       "103    26  Private Sector/Self Employed           Yes       1400000   \n",
       "631    33  Private Sector/Self Employed           Yes       1400000   \n",
       "987    33  Private Sector/Self Employed           Yes       1400000   \n",
       "...   ...                           ...           ...           ...   \n",
       "776    25  Private Sector/Self Employed           Yes       1400000   \n",
       "282    26  Private Sector/Self Employed           Yes       1400000   \n",
       "201    31  Private Sector/Self Employed           Yes       1400000   \n",
       "1829   31  Private Sector/Self Employed           Yes       1400000   \n",
       "1545   34  Private Sector/Self Employed            No       1400000   \n",
       "\n",
       "      FamilyMembers  ChronicDiseases FrequentFlyer EverTravelledAbroad  \\\n",
       "189               7                1            No                 Yes   \n",
       "1896              3                0            No                 Yes   \n",
       "103               5                0            No                 Yes   \n",
       "631               6                1            No                 Yes   \n",
       "987               2                1            No                 Yes   \n",
       "...             ...              ...           ...                 ...   \n",
       "776               6                0           Yes                 Yes   \n",
       "282               4                0            No                 Yes   \n",
       "201               2                0            No                 Yes   \n",
       "1829              4                1            No                 Yes   \n",
       "1545              3                0           Yes                 Yes   \n",
       "\n",
       "      TravelInsurance  \n",
       "189                 1  \n",
       "1896                1  \n",
       "103                 1  \n",
       "631                 1  \n",
       "987                 1  \n",
       "...               ...  \n",
       "776                 1  \n",
       "282                 1  \n",
       "201                 1  \n",
       "1829                1  \n",
       "1545                1  \n",
       "\n",
       "[94 rows x 9 columns]"
      ]
     },
     "execution_count": 41,
     "metadata": {},
     "output_type": "execute_result"
    }
   ],
   "source": [
    "t_train[ t_train[\"AnnualIncome\"]-einkommen_kunde_neu == 0 ]"
   ]
  },
  {
   "cell_type": "markdown",
   "id": "6acdfff9-c754-4b44-b9eb-bb5e6d9e65c6",
   "metadata": {},
   "source": [
    "Es gibt also 125 Kunden in der Trainingsbeispielen, die exakt das gleiche Einkommen haben."
   ]
  },
  {
   "cell_type": "markdown",
   "id": "a88af3f7-880e-44f8-aa8e-fc8c25df3e66",
   "metadata": {},
   "source": [
    "Lösung:"
   ]
  },
  {
   "cell_type": "code",
   "execution_count": 42,
   "id": "6b453eb7-be67-4762-aaf2-cda475083c5f",
   "metadata": {},
   "outputs": [
    {
     "data": {
      "text/html": [
       "<div>\n",
       "<style scoped>\n",
       "    .dataframe tbody tr th:only-of-type {\n",
       "        vertical-align: middle;\n",
       "    }\n",
       "\n",
       "    .dataframe tbody tr th {\n",
       "        vertical-align: top;\n",
       "    }\n",
       "\n",
       "    .dataframe thead th {\n",
       "        text-align: right;\n",
       "    }\n",
       "</style>\n",
       "<table border=\"1\" class=\"dataframe\">\n",
       "  <thead>\n",
       "    <tr style=\"text-align: right;\">\n",
       "      <th></th>\n",
       "      <th>Age</th>\n",
       "      <th>Employment Type</th>\n",
       "      <th>GraduateOrNot</th>\n",
       "      <th>AnnualIncome</th>\n",
       "      <th>FamilyMembers</th>\n",
       "      <th>ChronicDiseases</th>\n",
       "      <th>FrequentFlyer</th>\n",
       "      <th>EverTravelledAbroad</th>\n",
       "      <th>TravelInsurance</th>\n",
       "    </tr>\n",
       "  </thead>\n",
       "  <tbody>\n",
       "    <tr>\n",
       "      <th>638</th>\n",
       "      <td>26</td>\n",
       "      <td>Government Sector</td>\n",
       "      <td>Yes</td>\n",
       "      <td>1450000</td>\n",
       "      <td>3</td>\n",
       "      <td>0</td>\n",
       "      <td>Yes</td>\n",
       "      <td>Yes</td>\n",
       "      <td>1</td>\n",
       "    </tr>\n",
       "    <tr>\n",
       "      <th>189</th>\n",
       "      <td>26</td>\n",
       "      <td>Private Sector/Self Employed</td>\n",
       "      <td>Yes</td>\n",
       "      <td>1400000</td>\n",
       "      <td>7</td>\n",
       "      <td>1</td>\n",
       "      <td>No</td>\n",
       "      <td>Yes</td>\n",
       "      <td>1</td>\n",
       "    </tr>\n",
       "    <tr>\n",
       "      <th>1896</th>\n",
       "      <td>31</td>\n",
       "      <td>Private Sector/Self Employed</td>\n",
       "      <td>Yes</td>\n",
       "      <td>1400000</td>\n",
       "      <td>3</td>\n",
       "      <td>0</td>\n",
       "      <td>No</td>\n",
       "      <td>Yes</td>\n",
       "      <td>1</td>\n",
       "    </tr>\n",
       "    <tr>\n",
       "      <th>518</th>\n",
       "      <td>29</td>\n",
       "      <td>Private Sector/Self Employed</td>\n",
       "      <td>Yes</td>\n",
       "      <td>1350000</td>\n",
       "      <td>4</td>\n",
       "      <td>0</td>\n",
       "      <td>Yes</td>\n",
       "      <td>Yes</td>\n",
       "      <td>1</td>\n",
       "    </tr>\n",
       "    <tr>\n",
       "      <th>991</th>\n",
       "      <td>30</td>\n",
       "      <td>Private Sector/Self Employed</td>\n",
       "      <td>No</td>\n",
       "      <td>1450000</td>\n",
       "      <td>7</td>\n",
       "      <td>0</td>\n",
       "      <td>Yes</td>\n",
       "      <td>Yes</td>\n",
       "      <td>1</td>\n",
       "    </tr>\n",
       "    <tr>\n",
       "      <th>...</th>\n",
       "      <td>...</td>\n",
       "      <td>...</td>\n",
       "      <td>...</td>\n",
       "      <td>...</td>\n",
       "      <td>...</td>\n",
       "      <td>...</td>\n",
       "      <td>...</td>\n",
       "      <td>...</td>\n",
       "      <td>...</td>\n",
       "    </tr>\n",
       "    <tr>\n",
       "      <th>1934</th>\n",
       "      <td>25</td>\n",
       "      <td>Private Sector/Self Employed</td>\n",
       "      <td>No</td>\n",
       "      <td>1350000</td>\n",
       "      <td>3</td>\n",
       "      <td>1</td>\n",
       "      <td>Yes</td>\n",
       "      <td>Yes</td>\n",
       "      <td>0</td>\n",
       "    </tr>\n",
       "    <tr>\n",
       "      <th>1047</th>\n",
       "      <td>31</td>\n",
       "      <td>Private Sector/Self Employed</td>\n",
       "      <td>Yes</td>\n",
       "      <td>1350000</td>\n",
       "      <td>4</td>\n",
       "      <td>0</td>\n",
       "      <td>No</td>\n",
       "      <td>Yes</td>\n",
       "      <td>1</td>\n",
       "    </tr>\n",
       "    <tr>\n",
       "      <th>201</th>\n",
       "      <td>31</td>\n",
       "      <td>Private Sector/Self Employed</td>\n",
       "      <td>Yes</td>\n",
       "      <td>1400000</td>\n",
       "      <td>2</td>\n",
       "      <td>0</td>\n",
       "      <td>No</td>\n",
       "      <td>Yes</td>\n",
       "      <td>1</td>\n",
       "    </tr>\n",
       "    <tr>\n",
       "      <th>1829</th>\n",
       "      <td>31</td>\n",
       "      <td>Private Sector/Self Employed</td>\n",
       "      <td>Yes</td>\n",
       "      <td>1400000</td>\n",
       "      <td>4</td>\n",
       "      <td>1</td>\n",
       "      <td>No</td>\n",
       "      <td>Yes</td>\n",
       "      <td>1</td>\n",
       "    </tr>\n",
       "    <tr>\n",
       "      <th>1545</th>\n",
       "      <td>34</td>\n",
       "      <td>Private Sector/Self Employed</td>\n",
       "      <td>No</td>\n",
       "      <td>1400000</td>\n",
       "      <td>3</td>\n",
       "      <td>0</td>\n",
       "      <td>Yes</td>\n",
       "      <td>Yes</td>\n",
       "      <td>1</td>\n",
       "    </tr>\n",
       "  </tbody>\n",
       "</table>\n",
       "<p>153 rows × 9 columns</p>\n",
       "</div>"
      ],
      "text/plain": [
       "      Age               Employment Type GraduateOrNot  AnnualIncome  \\\n",
       "638    26             Government Sector           Yes       1450000   \n",
       "189    26  Private Sector/Self Employed           Yes       1400000   \n",
       "1896   31  Private Sector/Self Employed           Yes       1400000   \n",
       "518    29  Private Sector/Self Employed           Yes       1350000   \n",
       "991    30  Private Sector/Self Employed            No       1450000   \n",
       "...   ...                           ...           ...           ...   \n",
       "1934   25  Private Sector/Self Employed            No       1350000   \n",
       "1047   31  Private Sector/Self Employed           Yes       1350000   \n",
       "201    31  Private Sector/Self Employed           Yes       1400000   \n",
       "1829   31  Private Sector/Self Employed           Yes       1400000   \n",
       "1545   34  Private Sector/Self Employed            No       1400000   \n",
       "\n",
       "      FamilyMembers  ChronicDiseases FrequentFlyer EverTravelledAbroad  \\\n",
       "638               3                0           Yes                 Yes   \n",
       "189               7                1            No                 Yes   \n",
       "1896              3                0            No                 Yes   \n",
       "518               4                0           Yes                 Yes   \n",
       "991               7                0           Yes                 Yes   \n",
       "...             ...              ...           ...                 ...   \n",
       "1934              3                1           Yes                 Yes   \n",
       "1047              4                0            No                 Yes   \n",
       "201               2                0            No                 Yes   \n",
       "1829              4                1            No                 Yes   \n",
       "1545              3                0           Yes                 Yes   \n",
       "\n",
       "      TravelInsurance  \n",
       "638                 1  \n",
       "189                 1  \n",
       "1896                1  \n",
       "518                 1  \n",
       "991                 1  \n",
       "...               ...  \n",
       "1934                0  \n",
       "1047                1  \n",
       "201                 1  \n",
       "1829                1  \n",
       "1545                1  \n",
       "\n",
       "[153 rows x 9 columns]"
      ]
     },
     "execution_count": 42,
     "metadata": {},
     "output_type": "execute_result"
    }
   ],
   "source": [
    "t_filter = t_train[ (t_train[\"AnnualIncome\"]>einkommen_kunde_neu-100000) & (t_train[\"AnnualIncome\"]<einkommen_kunde_neu+100000) ]\n",
    "t_filter"
   ]
  },
  {
   "cell_type": "markdown",
   "id": "77c80360-a18a-4789-98c3-12b08624ab26",
   "metadata": {},
   "source": [
    "214 Kunden haben ein \"ähnliches Gehalt\" im Sinne von +/- 100.000 Rupien im Vergleich zum Einkommen des Testkundens von 800.000 Rupien.\n",
    "\n",
    "Hiervon haben so viele eine Versicherung abgeschlossen:"
   ]
  },
  {
   "cell_type": "code",
   "execution_count": 43,
   "id": "d40953b1-353d-4d84-b8d7-691ad3e8c920",
   "metadata": {},
   "outputs": [
    {
     "data": {
      "text/plain": [
       "0.9281045751633987"
      ]
     },
     "execution_count": 43,
     "metadata": {},
     "output_type": "execute_result"
    }
   ],
   "source": [
    "t_filter[\"TravelInsurance\"].mean()"
   ]
  },
  {
   "cell_type": "markdown",
   "id": "62b454d4-7088-4ba4-932e-5fc21f4c24e5",
   "metadata": {},
   "source": [
    "Man sieht: nur 23.8% der Kunden mit einem ähnlichen Testeinkommen haben eine Versicherung abgeschlossen. Das ist sogar unter den "
   ]
  },
  {
   "cell_type": "code",
   "execution_count": 44,
   "id": "7c168400-7555-4d63-bd63-69b428e5abaf",
   "metadata": {},
   "outputs": [
    {
     "data": {
      "text/plain": [
       "0.3573225968797182"
      ]
     },
     "execution_count": 44,
     "metadata": {},
     "output_type": "execute_result"
    }
   ],
   "source": [
    "t[\"TravelInsurance\"].mean()"
   ]
  },
  {
   "cell_type": "markdown",
   "id": "70e4b7d6-7eeb-4d44-862f-fb627054b461",
   "metadata": {},
   "source": [
    "35.7% aller Kunden, die eine Versicherung abschließen."
   ]
  },
  {
   "cell_type": "markdown",
   "id": "5093390d-79d3-441c-aff6-504c01589cdc",
   "metadata": {},
   "source": [
    "# Suchen nach ähnlichen Beispielen (mehrere Merkmale)\n",
    "\n",
    "Wir haben jetzt aber nicht nur ein Merkmal, das wir nutzen können, um ähnliche Kunden zu suchen. Bisher war unser Filter ja auch noch nicht sehr selektiv. Wir haben daher gleich 214 ähnliche Kunden gefunden.\n",
    "\n",
    "Wir können die Suche ja noch weiter einschränken und nebem dem Einkommensmerkmal auch\n",
    "\n",
    "- die Familiensituation\n",
    "- und die Krankheitssituation\n",
    "\n",
    "berücksichtigen."
   ]
  },
  {
   "cell_type": "markdown",
   "id": "cc20ba84-a24d-4bd4-b680-0c347c3bff85",
   "metadata": {},
   "source": [
    "## Quiz: Filtern nach mehreren Merkmalen\n",
    "\n",
    "Schreibe eine Hilfsfunktion, die jeweils den Testkunden (kunde1) mit einem weiteren Kunden (kunde2) vergleicht und als Ergebnis die beiden Kunden entweder als ähnlich oder unähnlich ansieht.\n",
    "\n",
    "Die Funktion sollte also grob folgende Struktur haben:"
   ]
  },
  {
   "cell_type": "code",
   "execution_count": 45,
   "id": "2c789fec-fabd-473f-b38a-2f07b2085258",
   "metadata": {},
   "outputs": [],
   "source": [
    "def vergleiche(kunde1, kunde2):\n",
    "    \n",
    "    # Funktion gibt True oder False zurück\n",
    "    pass\n",
    "\n",
    "\n",
    "def praediziere(kunde):\n",
    "\n",
    "    zielvariablen_aehnlicher_kunden = []\n",
    "\n",
    "    for index, kunde2 in t_train.iterrows():    \n",
    "        aehnlich = vergleiche(kunde, kunde2)\n",
    "        if aehnlich:\n",
    "            zielvariablen_aehnlicher_kunden.append( kunde2[\"TravelInsurance\"] )\n",
    "            \n",
    "    anz_aehnlicher_kunden = len(zielvariablen_aehnlicher_kunden)\n",
    "    prozent_abschluss = np.mean( zielvariablen_aehnlicher_kunden ) * 100.0\n",
    "    print( f\"Anzahl ähnlicher Kunden: {anz_aehnlicher_kunden}. Prozentsatz Abschluss: {prozent_abschluss:.2f}\", end=\" \" )\n",
    "    if anz_aehnlicher_kunden == 0:\n",
    "        print(\"--> keine Prädiktion möglich!\")\n",
    "    else:\n",
    "        if prozent_abschluss > 50.0:\n",
    "            print(\"--> Prädiktion: KAUF\")\n",
    "        else:\n",
    "            print(\"--> Prädiktion: kein KAUF\")"
   ]
  },
  {
   "cell_type": "markdown",
   "id": "a34b4daa-0c48-47f4-8072-bb304fe8b6bd",
   "metadata": {},
   "source": [
    "Lösung:"
   ]
  },
  {
   "cell_type": "code",
   "execution_count": 46,
   "id": "ced7731e-0256-48fa-8101-aa8363662057",
   "metadata": {},
   "outputs": [],
   "source": [
    "def vergleiche(kunde1, kunde2):\n",
    "    \n",
    "    kunde1_einkommen = kunde1[\"AnnualIncome\"]\n",
    "    kunde2_einkommen = kunde2[\"AnnualIncome\"]\n",
    "    \n",
    "    kunde1_familie = kunde1[\"FamilyMembers\"]\n",
    "    kunde2_familie = kunde2[\"FamilyMembers\"]\n",
    "    \n",
    "    kunde1_krankheit = kunde1[\"ChronicDiseases\"]\n",
    "    kunde2_krankheit = kunde2[\"ChronicDiseases\"]\n",
    "    \n",
    "    if abs(kunde1_einkommen-kunde2_einkommen) == 0 and \\\n",
    "       abs(kunde1_familie-kunde2_familie) <= 0 and \\\n",
    "       kunde1_krankheit == kunde2_krankheit:\n",
    "        return True\n",
    "    else:\n",
    "        return False"
   ]
  },
  {
   "cell_type": "code",
   "execution_count": 47,
   "id": "170235e5-edcc-4725-a01a-85e0adda07fd",
   "metadata": {},
   "outputs": [
    {
     "name": "stdout",
     "output_type": "stream",
     "text": [
      "Anzahl ähnlicher Kunden: 7. Prozentsatz Abschluss: 100.00 --> Prädiktion: KAUF\n"
     ]
    }
   ],
   "source": [
    "kunde = t_test.iloc[0]\n",
    "praediziere( kunde )"
   ]
  },
  {
   "cell_type": "markdown",
   "id": "5deab622-b365-453b-b2a5-9e493bbbcff2",
   "metadata": {},
   "source": [
    "## Quiz: Anzahl ähnlicher Kunden pro Testkunde\n",
    "\n",
    "Gebe für jeden der ersten 30 Testkunden aus wieviele Testkunden mit der Vergleichsfunktion gefunden werden konnten!\n",
    "\n",
    "Lösung:"
   ]
  },
  {
   "cell_type": "code",
   "execution_count": 48,
   "id": "5d308ef9-dfbd-41e6-9839-df244afdfd43",
   "metadata": {},
   "outputs": [
    {
     "name": "stdout",
     "output_type": "stream",
     "text": [
      "Anzahl ähnlicher Kunden: 7. Prozentsatz Abschluss: 100.00 --> Prädiktion: KAUF\n",
      "Anzahl ähnlicher Kunden: 5. Prozentsatz Abschluss: 40.00 --> Prädiktion: kein KAUF\n",
      "Anzahl ähnlicher Kunden: 2. Prozentsatz Abschluss: 50.00 --> Prädiktion: kein KAUF\n",
      "Anzahl ähnlicher Kunden: 5. Prozentsatz Abschluss: 20.00 --> Prädiktion: kein KAUF\n",
      "Anzahl ähnlicher Kunden: 16. Prozentsatz Abschluss: 100.00 --> Prädiktion: KAUF\n",
      "Anzahl ähnlicher Kunden: 6. Prozentsatz Abschluss: 16.67 --> Prädiktion: kein KAUF\n",
      "Anzahl ähnlicher Kunden: 2. Prozentsatz Abschluss: 0.00 --> Prädiktion: kein KAUF\n",
      "Anzahl ähnlicher Kunden: 14. Prozentsatz Abschluss: 14.29 --> Prädiktion: kein KAUF\n",
      "Anzahl ähnlicher Kunden: 0. Prozentsatz Abschluss: nan --> keine Prädiktion möglich!\n",
      "Anzahl ähnlicher Kunden: 3. Prozentsatz Abschluss: 0.00 --> Prädiktion: kein KAUF\n",
      "Anzahl ähnlicher Kunden: 5. Prozentsatz Abschluss: 0.00 --> Prädiktion: kein KAUF\n"
     ]
    },
    {
     "name": "stderr",
     "output_type": "stream",
     "text": [
      "/home/juebrauer/.local/share/virtualenvs/central-kQZYXD-3/lib/python3.8/site-packages/numpy/core/fromnumeric.py:3474: RuntimeWarning: Mean of empty slice.\n",
      "  return _methods._mean(a, axis=axis, dtype=dtype,\n",
      "/home/juebrauer/.local/share/virtualenvs/central-kQZYXD-3/lib/python3.8/site-packages/numpy/core/_methods.py:189: RuntimeWarning: invalid value encountered in double_scalars\n",
      "  ret = ret.dtype.type(ret / rcount)\n"
     ]
    },
    {
     "name": "stdout",
     "output_type": "stream",
     "text": [
      "Anzahl ähnlicher Kunden: 9. Prozentsatz Abschluss: 100.00 --> Prädiktion: KAUF\n",
      "Anzahl ähnlicher Kunden: 5. Prozentsatz Abschluss: 20.00 --> Prädiktion: kein KAUF\n",
      "Anzahl ähnlicher Kunden: 13. Prozentsatz Abschluss: 30.77 --> Prädiktion: kein KAUF\n",
      "Anzahl ähnlicher Kunden: 0. Prozentsatz Abschluss: nan --> keine Prädiktion möglich!\n",
      "Anzahl ähnlicher Kunden: 23. Prozentsatz Abschluss: 13.04 --> Prädiktion: kein KAUF\n",
      "Anzahl ähnlicher Kunden: 9. Prozentsatz Abschluss: 11.11 --> Prädiktion: kein KAUF\n",
      "Anzahl ähnlicher Kunden: 10. Prozentsatz Abschluss: 20.00 --> Prädiktion: kein KAUF\n",
      "Anzahl ähnlicher Kunden: 0. Prozentsatz Abschluss: nan --> keine Prädiktion möglich!\n",
      "Anzahl ähnlicher Kunden: 5. Prozentsatz Abschluss: 100.00 --> Prädiktion: KAUF\n",
      "Anzahl ähnlicher Kunden: 9. Prozentsatz Abschluss: 22.22 --> Prädiktion: kein KAUF\n",
      "Anzahl ähnlicher Kunden: 11. Prozentsatz Abschluss: 18.18 --> Prädiktion: kein KAUF\n",
      "Anzahl ähnlicher Kunden: 20. Prozentsatz Abschluss: 85.00 --> Prädiktion: KAUF\n",
      "Anzahl ähnlicher Kunden: 12. Prozentsatz Abschluss: 8.33 --> Prädiktion: kein KAUF\n",
      "Anzahl ähnlicher Kunden: 7. Prozentsatz Abschluss: 0.00 --> Prädiktion: kein KAUF\n",
      "Anzahl ähnlicher Kunden: 2. Prozentsatz Abschluss: 50.00 --> Prädiktion: kein KAUF\n",
      "Anzahl ähnlicher Kunden: 5. Prozentsatz Abschluss: 20.00 --> Prädiktion: kein KAUF\n",
      "Anzahl ähnlicher Kunden: 13. Prozentsatz Abschluss: 30.77 --> Prädiktion: kein KAUF\n",
      "Anzahl ähnlicher Kunden: 6. Prozentsatz Abschluss: 33.33 --> Prädiktion: kein KAUF\n",
      "Anzahl ähnlicher Kunden: 19. Prozentsatz Abschluss: 26.32 --> Prädiktion: kein KAUF\n"
     ]
    }
   ],
   "source": [
    "i = 0\n",
    "for index, test_kunde in t_test.iterrows():\n",
    "    praediziere( test_kunde )    \n",
    "    i+=1\n",
    "    if i==30:\n",
    "        break"
   ]
  },
  {
   "cell_type": "markdown",
   "id": "04974db7-92ad-46ef-a716-c8ca062408fa",
   "metadata": {},
   "source": [
    "Fällt dir was auf? Bei einigen Testkunden gibt es gar keine ähnlichen Kunden. Damit ist die Python-Liste `zielvariablen_aehnlicher_kunden` jedoch leer und der Versuch mittels der Funktion `np.mean(zielvariablen_aehnlicher_kunden)` den Mittelwert über eine leere Liste zu bilden führt sinnvollweise zu dem Rückgabewert `nan` (not a number).\n",
    "\n",
    "Fazit:\n",
    "Was man also bis jetzt vielleicht noch nicht berücksichtigt hat: bei einer Vergleichsfunktion, die nach ähnlichen Beispielen in einer Datenbank filtern soll, könnte das Ergebnis sein, dass es eventuell gar keine ähnlichen Beispiele gibt!\n",
    "\n",
    "Wir haben also ein Problem: nicht immer gibt es ähnliche Beispiele!"
   ]
  },
  {
   "cell_type": "markdown",
   "id": "5fe3b1f5-3fae-47a9-a6f7-4cc31dbfaa3f",
   "metadata": {},
   "source": [
    "# Suche nach den k ähnlichsten Beispielen\n",
    "\n",
    "*k-NN* steht für *k-Nearest Neighbours* und löst das Problem, dass es nicht immer ähnliche Beispiele gibt, so: statt nach ähnlichen Beispielen zu suchen werden stets die k ähnlich*st*en Beispiele zurück gegeben. Egal wie ähnlich diese sind. Nochmal:\n",
    "\n",
    "    Wir suchen bei k-NN also nicht unbedingt nach ähnlichen, sondern nach den ähnlich*st*en Beispielen.\n",
    "    \n",
    "In der Hoffnung, dass die ähnlichsten Beispiele, ähnlich genug sind, um sie für Aussagen zu neuen Datenpunkten verwenden zu können.\n",
    "\n",
    "Die Vorgehensweise dieses Machine Learning Ansatzes ist daher verblüffend einfach:\n",
    "\n",
    "- alle Beispiele werden in einer \"Datenbank\" abgespeichert (evtl. viele ähnliche zu einigen wenigen kondensiert). Das muss nicht unbedingt eine Datenbank sein, es kann auch einfach eine Datei sein.\n",
    "- kommt ein neuer Inputvektor rein, versuchen wir aufgrund einiger ausgewählter oder aller Merkmale im Inputvektor die *k* ähnlichsten Beispiele zu finden\n",
    "- die Werte für die Zielvariable(n) dieser k ähnlichsten Beispiele werden zu einer Vorhersage (Klasse oder Wert) zusammengefasst\n",
    "\n",
    "Dieser Ansatz hat noch einen Vorteil: in der vorherigen benutzten booleschen Vergleichsfunktion `vergleiche()` mussten wir für jedes Merkmal genau Schwellen festlegen ab wann zwei Kunden noch als ähnlich an zu sehen sind. Suchen wir aber nur nach den ähnlichsten Kunden, müssen wir keine harten Schwellen festlegen.\n",
    "\n",
    "Wir benötigen jetzt also eine Vergleichsfunktion, die uns nicht sagt, ob zwei Kunden ähnlich sind (Ergebnis: True oder False), sondern wie ähnlich diese sind. So eine Funktion muss die Ähnlichkeit quantifizieren können. Man spricht hier mathematisch gesehen auch von einer *Distanzfunktion*:\n",
    "\n",
    "    d(Kunde1, Kunde2)\n",
    "    \n",
    "Damit können wir dann Abstände zwischen Kunden messen bzw. quantifizieren (d.h. mit einer Zahl beziffern) wie ähnlich zwei Kunden sind. So eine Distanzfunktion wiederum erlaubt es uns dann, den Abstand zwischen dem Testkunden und allen anderen Kunden in den Trainingsdaten auszurechnen:\n",
    "\n",
    "    d(Testkunde, Trainkunde1)\n",
    "    d(Testkunde, Trainkunde2)\n",
    "    ...\n",
    "    d(Testkunde, TrainkundeN)\n",
    "    \n",
    "Und dann können wir diese Abstände aufsteigend sortieren und nehmen in der sortierten Liste einfach die k ersten Einträge. Das sind die k ähnlichsten Kunden. Von diesen k ähnlichsten Kunden betrachten wir dann die Zielvariable (oder Zielvariabeln, falls wir mehrere Dinge vorhersagen wollen) und rechnen zum Beispiel einen Durchschnitt aus, um zu einer finalen Entscheidung zu gelangen."
   ]
  },
  {
   "cell_type": "code",
   "execution_count": 49,
   "id": "fcda93d6-d36c-4d9e-a7a3-ee859c863194",
   "metadata": {},
   "outputs": [
    {
     "data": {
      "text/html": [
       "<div>\n",
       "<style scoped>\n",
       "    .dataframe tbody tr th:only-of-type {\n",
       "        vertical-align: middle;\n",
       "    }\n",
       "\n",
       "    .dataframe tbody tr th {\n",
       "        vertical-align: top;\n",
       "    }\n",
       "\n",
       "    .dataframe thead th {\n",
       "        text-align: right;\n",
       "    }\n",
       "</style>\n",
       "<table border=\"1\" class=\"dataframe\">\n",
       "  <thead>\n",
       "    <tr style=\"text-align: right;\">\n",
       "      <th></th>\n",
       "      <th>Age</th>\n",
       "      <th>Employment Type</th>\n",
       "      <th>GraduateOrNot</th>\n",
       "      <th>AnnualIncome</th>\n",
       "      <th>FamilyMembers</th>\n",
       "      <th>ChronicDiseases</th>\n",
       "      <th>FrequentFlyer</th>\n",
       "      <th>EverTravelledAbroad</th>\n",
       "      <th>TravelInsurance</th>\n",
       "    </tr>\n",
       "  </thead>\n",
       "  <tbody>\n",
       "    <tr>\n",
       "      <th>1884</th>\n",
       "      <td>28</td>\n",
       "      <td>Government Sector</td>\n",
       "      <td>Yes</td>\n",
       "      <td>1200000</td>\n",
       "      <td>4</td>\n",
       "      <td>0</td>\n",
       "      <td>No</td>\n",
       "      <td>No</td>\n",
       "      <td>1</td>\n",
       "    </tr>\n",
       "    <tr>\n",
       "      <th>638</th>\n",
       "      <td>26</td>\n",
       "      <td>Government Sector</td>\n",
       "      <td>Yes</td>\n",
       "      <td>1450000</td>\n",
       "      <td>3</td>\n",
       "      <td>0</td>\n",
       "      <td>Yes</td>\n",
       "      <td>Yes</td>\n",
       "      <td>1</td>\n",
       "    </tr>\n",
       "    <tr>\n",
       "      <th>1135</th>\n",
       "      <td>28</td>\n",
       "      <td>Private Sector/Self Employed</td>\n",
       "      <td>Yes</td>\n",
       "      <td>1100000</td>\n",
       "      <td>7</td>\n",
       "      <td>1</td>\n",
       "      <td>No</td>\n",
       "      <td>No</td>\n",
       "      <td>1</td>\n",
       "    </tr>\n",
       "    <tr>\n",
       "      <th>1820</th>\n",
       "      <td>28</td>\n",
       "      <td>Private Sector/Self Employed</td>\n",
       "      <td>Yes</td>\n",
       "      <td>800000</td>\n",
       "      <td>5</td>\n",
       "      <td>0</td>\n",
       "      <td>No</td>\n",
       "      <td>No</td>\n",
       "      <td>0</td>\n",
       "    </tr>\n",
       "    <tr>\n",
       "      <th>789</th>\n",
       "      <td>28</td>\n",
       "      <td>Private Sector/Self Employed</td>\n",
       "      <td>Yes</td>\n",
       "      <td>750000</td>\n",
       "      <td>4</td>\n",
       "      <td>0</td>\n",
       "      <td>No</td>\n",
       "      <td>No</td>\n",
       "      <td>1</td>\n",
       "    </tr>\n",
       "    <tr>\n",
       "      <th>...</th>\n",
       "      <td>...</td>\n",
       "      <td>...</td>\n",
       "      <td>...</td>\n",
       "      <td>...</td>\n",
       "      <td>...</td>\n",
       "      <td>...</td>\n",
       "      <td>...</td>\n",
       "      <td>...</td>\n",
       "      <td>...</td>\n",
       "    </tr>\n",
       "    <tr>\n",
       "      <th>586</th>\n",
       "      <td>28</td>\n",
       "      <td>Government Sector</td>\n",
       "      <td>Yes</td>\n",
       "      <td>300000</td>\n",
       "      <td>7</td>\n",
       "      <td>0</td>\n",
       "      <td>No</td>\n",
       "      <td>No</td>\n",
       "      <td>0</td>\n",
       "    </tr>\n",
       "    <tr>\n",
       "      <th>1482</th>\n",
       "      <td>33</td>\n",
       "      <td>Government Sector</td>\n",
       "      <td>Yes</td>\n",
       "      <td>700000</td>\n",
       "      <td>4</td>\n",
       "      <td>0</td>\n",
       "      <td>No</td>\n",
       "      <td>Yes</td>\n",
       "      <td>0</td>\n",
       "    </tr>\n",
       "    <tr>\n",
       "      <th>337</th>\n",
       "      <td>30</td>\n",
       "      <td>Private Sector/Self Employed</td>\n",
       "      <td>No</td>\n",
       "      <td>550000</td>\n",
       "      <td>7</td>\n",
       "      <td>0</td>\n",
       "      <td>Yes</td>\n",
       "      <td>No</td>\n",
       "      <td>0</td>\n",
       "    </tr>\n",
       "    <tr>\n",
       "      <th>748</th>\n",
       "      <td>28</td>\n",
       "      <td>Private Sector/Self Employed</td>\n",
       "      <td>Yes</td>\n",
       "      <td>650000</td>\n",
       "      <td>5</td>\n",
       "      <td>0</td>\n",
       "      <td>No</td>\n",
       "      <td>Yes</td>\n",
       "      <td>0</td>\n",
       "    </tr>\n",
       "    <tr>\n",
       "      <th>1838</th>\n",
       "      <td>28</td>\n",
       "      <td>Private Sector/Self Employed</td>\n",
       "      <td>Yes</td>\n",
       "      <td>700000</td>\n",
       "      <td>4</td>\n",
       "      <td>1</td>\n",
       "      <td>No</td>\n",
       "      <td>Yes</td>\n",
       "      <td>0</td>\n",
       "    </tr>\n",
       "  </tbody>\n",
       "</table>\n",
       "<p>1589 rows × 9 columns</p>\n",
       "</div>"
      ],
      "text/plain": [
       "      Age               Employment Type GraduateOrNot  AnnualIncome  \\\n",
       "1884   28             Government Sector           Yes       1200000   \n",
       "638    26             Government Sector           Yes       1450000   \n",
       "1135   28  Private Sector/Self Employed           Yes       1100000   \n",
       "1820   28  Private Sector/Self Employed           Yes        800000   \n",
       "789    28  Private Sector/Self Employed           Yes        750000   \n",
       "...   ...                           ...           ...           ...   \n",
       "586    28             Government Sector           Yes        300000   \n",
       "1482   33             Government Sector           Yes        700000   \n",
       "337    30  Private Sector/Self Employed            No        550000   \n",
       "748    28  Private Sector/Self Employed           Yes        650000   \n",
       "1838   28  Private Sector/Self Employed           Yes        700000   \n",
       "\n",
       "      FamilyMembers  ChronicDiseases FrequentFlyer EverTravelledAbroad  \\\n",
       "1884              4                0            No                  No   \n",
       "638               3                0           Yes                 Yes   \n",
       "1135              7                1            No                  No   \n",
       "1820              5                0            No                  No   \n",
       "789               4                0            No                  No   \n",
       "...             ...              ...           ...                 ...   \n",
       "586               7                0            No                  No   \n",
       "1482              4                0            No                 Yes   \n",
       "337               7                0           Yes                  No   \n",
       "748               5                0            No                 Yes   \n",
       "1838              4                1            No                 Yes   \n",
       "\n",
       "      TravelInsurance  \n",
       "1884                1  \n",
       "638                 1  \n",
       "1135                1  \n",
       "1820                0  \n",
       "789                 1  \n",
       "...               ...  \n",
       "586                 0  \n",
       "1482                0  \n",
       "337                 0  \n",
       "748                 0  \n",
       "1838                0  \n",
       "\n",
       "[1589 rows x 9 columns]"
      ]
     },
     "execution_count": 49,
     "metadata": {},
     "output_type": "execute_result"
    }
   ],
   "source": [
    "t_train"
   ]
  },
  {
   "cell_type": "markdown",
   "id": "93d98c93-1803-4721-af55-3d3e362ecc0d",
   "metadata": {},
   "source": [
    "## Quiz: eine erste Distanzfunktion schreiben\n",
    "\n",
    "Versuchen Sie eine Distanzfunktion `d(kunde1, kunde2)` zu schreiben, die misst wie unterschiedlich zwei Kunden hinsichtlich ihres Einkommens und ihrer Familiensituation sind!\n",
    "\n",
    "Lösung:\n",
    "\n",
    "Wir müssen berücksichtigen, dass die beiden Merkmale \"Einkommen\" und \"Familiensituatiuon\" in sehr unterschiedlichen Wertebereichen liegen:"
   ]
  },
  {
   "cell_type": "code",
   "execution_count": 50,
   "id": "1836d04a-cd49-498c-90a3-6efaa6a79e10",
   "metadata": {},
   "outputs": [
    {
     "data": {
      "text/plain": [
       "(300000, 1800000)"
      ]
     },
     "execution_count": 50,
     "metadata": {},
     "output_type": "execute_result"
    }
   ],
   "source": [
    "t_train[\"AnnualIncome\"].min(), t_train[\"AnnualIncome\"].max()"
   ]
  },
  {
   "cell_type": "code",
   "execution_count": 51,
   "id": "d3c80d38-872e-4169-a5bf-27e16dd57e38",
   "metadata": {},
   "outputs": [
    {
     "data": {
      "text/plain": [
       "(2, 9)"
      ]
     },
     "execution_count": 51,
     "metadata": {},
     "output_type": "execute_result"
    }
   ],
   "source": [
    "t_train[\"FamilyMembers\"].min(), t_train[\"FamilyMembers\"].max()"
   ]
  },
  {
   "cell_type": "markdown",
   "id": "b455e638-2949-44a4-8f8a-8d8a1c752f07",
   "metadata": {},
   "source": [
    "Wir sollten also die beiden Merkmale, die auf einer sehr unterschiedlichen Skala liegen am besten irgendwie normieren, z.B. indem wir ausrechnen, wieviel Prozent der konkrete Wert jeweils vom Maximum ist:"
   ]
  },
  {
   "cell_type": "code",
   "execution_count": 52,
   "id": "1210ec3b-1419-4447-b88c-b8ddd9231a10",
   "metadata": {},
   "outputs": [
    {
     "data": {
      "text/plain": [
       "1400000"
      ]
     },
     "execution_count": 52,
     "metadata": {},
     "output_type": "execute_result"
    }
   ],
   "source": [
    "einkommen_original = t_test.iloc[0][\"AnnualIncome\"]\n",
    "einkommen_original"
   ]
  },
  {
   "cell_type": "code",
   "execution_count": 53,
   "id": "debcae93-a885-4956-a625-47f41676b442",
   "metadata": {},
   "outputs": [
    {
     "data": {
      "text/plain": [
       "0.7777777777777778"
      ]
     },
     "execution_count": 53,
     "metadata": {},
     "output_type": "execute_result"
    }
   ],
   "source": [
    "einkommen_transformiert = einkommen_original / t_train[\"AnnualIncome\"].max()\n",
    "einkommen_transformiert"
   ]
  },
  {
   "cell_type": "code",
   "execution_count": 54,
   "id": "adb9164e-6806-452e-ab36-932b2439f50c",
   "metadata": {},
   "outputs": [
    {
     "data": {
      "text/plain": [
       "6"
      ]
     },
     "execution_count": 54,
     "metadata": {},
     "output_type": "execute_result"
    }
   ],
   "source": [
    "anzfamitglieder_original = t_test.iloc[0][\"FamilyMembers\"]\n",
    "anzfamitglieder_original"
   ]
  },
  {
   "cell_type": "code",
   "execution_count": 55,
   "id": "3a218fa6-d092-4089-aa59-96d6a7372d0b",
   "metadata": {},
   "outputs": [
    {
     "data": {
      "text/plain": [
       "0.6666666666666666"
      ]
     },
     "execution_count": 55,
     "metadata": {},
     "output_type": "execute_result"
    }
   ],
   "source": [
    "anzfamitglieder_transformiert = anzfamitglieder_original  / t_train[\"FamilyMembers\"].max()\n",
    "anzfamitglieder_transformiert"
   ]
  },
  {
   "cell_type": "markdown",
   "id": "886b95cf-a2fc-4294-ac81-54f877142e42",
   "metadata": {},
   "source": [
    "Damit können wir dann leichter eine Distanzfunktion `d` schreiben, die Merkmale vergleicht, die aus sehr unterschiedlichen Bereichen kommen:"
   ]
  },
  {
   "cell_type": "code",
   "execution_count": 56,
   "id": "cb3e445a-c330-450e-8693-2cd778d62516",
   "metadata": {},
   "outputs": [],
   "source": [
    "def d(kunde1, kunde2):\n",
    "    \n",
    "    kunde1_einkommen = kunde1[\"AnnualIncome\"] / t_train[\"AnnualIncome\"].max()\n",
    "    kunde2_einkommen = kunde2[\"AnnualIncome\"] / t_train[\"AnnualIncome\"].max()\n",
    "    diff_einkommen = abs(kunde1_einkommen - kunde2_einkommen)\n",
    "    \n",
    "    kunde1_familie = kunde1[\"FamilyMembers\"] / t_train[\"FamilyMembers\"].max()\n",
    "    kunde2_familie = kunde2[\"FamilyMembers\"] / t_train[\"FamilyMembers\"].max()\n",
    "    diff_familie = abs(kunde1_familie - kunde2_familie)\n",
    "    \n",
    "    print(diff_einkommen, diff_familie)    "
   ]
  },
  {
   "cell_type": "code",
   "execution_count": 57,
   "id": "35d20f20-31bf-49dc-9a95-6be4c7b5fcb7",
   "metadata": {},
   "outputs": [
    {
     "data": {
      "text/plain": [
       "Age                                              31\n",
       "Employment Type        Private Sector/Self Employed\n",
       "GraduateOrNot                                   Yes\n",
       "AnnualIncome                                1400000\n",
       "FamilyMembers                                     6\n",
       "ChronicDiseases                                   0\n",
       "FrequentFlyer                                    No\n",
       "EverTravelledAbroad                             Yes\n",
       "TravelInsurance                                   1\n",
       "Name: 1612, dtype: object"
      ]
     },
     "execution_count": 57,
     "metadata": {},
     "output_type": "execute_result"
    }
   ],
   "source": [
    "testkunde = t_test.iloc[0]\n",
    "testkunde"
   ]
  },
  {
   "cell_type": "code",
   "execution_count": 58,
   "id": "177f2ea2-b7ac-4ab3-80bc-8596f022884b",
   "metadata": {},
   "outputs": [
    {
     "data": {
      "text/plain": [
       "Age                                   28\n",
       "Employment Type        Government Sector\n",
       "GraduateOrNot                        Yes\n",
       "AnnualIncome                     1200000\n",
       "FamilyMembers                          4\n",
       "ChronicDiseases                        0\n",
       "FrequentFlyer                         No\n",
       "EverTravelledAbroad                   No\n",
       "TravelInsurance                        1\n",
       "Name: 1884, dtype: object"
      ]
     },
     "execution_count": 58,
     "metadata": {},
     "output_type": "execute_result"
    }
   ],
   "source": [
    "trainkunde1 = t_train.iloc[0]\n",
    "trainkunde1"
   ]
  },
  {
   "cell_type": "code",
   "execution_count": 59,
   "id": "f5b10413-c7a0-442f-b1ad-36fe6c5940c5",
   "metadata": {},
   "outputs": [
    {
     "data": {
      "text/plain": [
       "Age                                   26\n",
       "Employment Type        Government Sector\n",
       "GraduateOrNot                        Yes\n",
       "AnnualIncome                     1450000\n",
       "FamilyMembers                          3\n",
       "ChronicDiseases                        0\n",
       "FrequentFlyer                        Yes\n",
       "EverTravelledAbroad                  Yes\n",
       "TravelInsurance                        1\n",
       "Name: 638, dtype: object"
      ]
     },
     "execution_count": 59,
     "metadata": {},
     "output_type": "execute_result"
    }
   ],
   "source": [
    "trainkunde2 = t_train.iloc[1]\n",
    "trainkunde2"
   ]
  },
  {
   "cell_type": "code",
   "execution_count": 60,
   "id": "76e18d63-c60f-4754-872a-e6101de7293f",
   "metadata": {},
   "outputs": [
    {
     "name": "stdout",
     "output_type": "stream",
     "text": [
      "0.11111111111111116 0.2222222222222222\n"
     ]
    }
   ],
   "source": [
    "d(testkunde, trainkunde1)"
   ]
  },
  {
   "cell_type": "code",
   "execution_count": 61,
   "id": "b52fd317-aeb1-40cb-8f4c-af67b2687147",
   "metadata": {},
   "outputs": [
    {
     "name": "stdout",
     "output_type": "stream",
     "text": [
      "0.02777777777777779 0.3333333333333333\n"
     ]
    }
   ],
   "source": [
    "d(testkunde, trainkunde2)"
   ]
  },
  {
   "cell_type": "markdown",
   "id": "cf32dd1d-3cbb-450a-8909-a925eb37867c",
   "metadata": {},
   "source": [
    "Der Testkunde `testkunde` (Gehalt: 550.000 Rupien) ist also im Vergleich zum Trainingskunden-Beispiel `trainkunde1` (Gehalt: 300.000 Rupien) hinsichtlich seines Gehalts nicht so ähnlich (Gehaltsdifferenz: |550.000-300.000| Rupien=250.000 Rupien) wie zu `trainkunde2` (Gehalt: 700.000 Rupien und Gehaltsdifferenz: |550.000-700.000|=150.000 Rupien). Hinsichtlich der Familiensituation gibt es keinen Unterschied. Alle 3 Kunden leben in einer Familie mit 3 Mitgliedern.\n",
    "\n",
    "Wir können jetzt unsere Distanzfunktion vervollständigen:"
   ]
  },
  {
   "cell_type": "code",
   "execution_count": 62,
   "id": "2932b5ef-d9a1-4bf0-83aa-3c628bdde033",
   "metadata": {},
   "outputs": [],
   "source": [
    "def d(kunde1, kunde2):\n",
    "    \n",
    "    kunde1_einkommen = kunde1[\"AnnualIncome\"] / t_train[\"AnnualIncome\"].max()\n",
    "    kunde2_einkommen = kunde2[\"AnnualIncome\"] / t_train[\"AnnualIncome\"].max()\n",
    "    diff_einkommen = abs(kunde1_einkommen - kunde2_einkommen)\n",
    "    \n",
    "    kunde1_familie = kunde1[\"FamilyMembers\"] / t_train[\"FamilyMembers\"].max()\n",
    "    kunde2_familie = kunde2[\"FamilyMembers\"] / t_train[\"FamilyMembers\"].max()\n",
    "    diff_familie = abs(kunde1_familie - kunde2_familie)\n",
    "    \n",
    "    # Bilde Durchschnitt über die beiden Abstände\n",
    "    unterschied = 1/2 * (diff_einkommen + diff_familie)\n",
    "    return unterschied"
   ]
  },
  {
   "cell_type": "markdown",
   "id": "4288c418-c42d-4cc6-8b97-7fa3171ac006",
   "metadata": {},
   "source": [
    "Hinweis: der Faktor 1/2 ist hier zur Durchschnittsbildung gedacht. Aber es ist später nur ein multiplikativer Faktor vor allen Distanzen und führt - egal wie der Faktor gewählt wird - bei der Suche nach den k ähnlichsten Beispielen stets zum gleichen Ergebnis.\n",
    "\n",
    "Leicht-verdaulicher über ein Beispiel gesagt: ob die Abstände zum Testkunden später so aussehen:\n",
    "\n",
    "    Abstand zu Trainkunde1: 0.2\n",
    "    Abstand zu Trainkunde2: 0.3\n",
    "    Abstand zu Trainkunde3: 0.1\n",
    "    Abstand zu Trainkunde4: 0.5\n",
    "    Abstand zu Trainkunde5: 0.7\n",
    "    \n",
    "oder so:\n",
    "\n",
    "    Abstand zu Trainkunde1: 0.4\n",
    "    Abstand zu Trainkunde2: 0.6\n",
    "    Abstand zu Trainkunde3: 0.2\n",
    "    Abstand zu Trainkunde4: 1.0\n",
    "    Abstand zu Trainkunde5: 1.4\n",
    "    \n",
    "ist egal bei der Suche nach den ähnlichsten Beispielen. Hier würden in beiden Fällen bei k=3 die ersten drei Kunden als ähnlichste Kunden identifiziert."
   ]
  },
  {
   "cell_type": "code",
   "execution_count": 63,
   "id": "198194da-a6f0-4458-8e38-ed511ffb3254",
   "metadata": {},
   "outputs": [
    {
     "data": {
      "text/plain": [
       "0.16666666666666669"
      ]
     },
     "execution_count": 63,
     "metadata": {},
     "output_type": "execute_result"
    }
   ],
   "source": [
    "d(testkunde, trainkunde1)"
   ]
  },
  {
   "cell_type": "code",
   "execution_count": 64,
   "id": "11be96d2-c16f-46aa-a3d1-30d3d36040e6",
   "metadata": {},
   "outputs": [
    {
     "data": {
      "text/plain": [
       "0.18055555555555555"
      ]
     },
     "execution_count": 64,
     "metadata": {},
     "output_type": "execute_result"
    }
   ],
   "source": [
    "d(testkunde, trainkunde2)"
   ]
  },
  {
   "cell_type": "markdown",
   "id": "68acabe8-210c-4d97-8986-815581cf9d94",
   "metadata": {},
   "source": [
    "Man sieht hier: der Abstand von `trainkunde2` und `testkunde` ist kleiner als der Abstand zwischen `trainkunde1` und `testkunde`.\n",
    "\n",
    "Anders herum gesagt: die Ähnlichkeit von `trainkunde2` und `testkunde` ist größer als die Ähnlichkeit zwischen `trainkunde1` und `testkunde`."
   ]
  },
  {
   "cell_type": "markdown",
   "id": "9e7affd0-8b6e-4045-a4a8-61cc603263ff",
   "metadata": {},
   "source": [
    "## Alle Merkmale verwenden\n",
    "\n",
    "Jetzt wollen wir die Vergleichsfunktion gleich in einem Rutsch besser bauen: wir wollen jetzt alle verfügbaren Merkmale verwenden:"
   ]
  },
  {
   "cell_type": "code",
   "execution_count": 65,
   "id": "aaf56f31-6f84-418d-b206-1eb30f72c72d",
   "metadata": {},
   "outputs": [
    {
     "data": {
      "text/html": [
       "<div>\n",
       "<style scoped>\n",
       "    .dataframe tbody tr th:only-of-type {\n",
       "        vertical-align: middle;\n",
       "    }\n",
       "\n",
       "    .dataframe tbody tr th {\n",
       "        vertical-align: top;\n",
       "    }\n",
       "\n",
       "    .dataframe thead th {\n",
       "        text-align: right;\n",
       "    }\n",
       "</style>\n",
       "<table border=\"1\" class=\"dataframe\">\n",
       "  <thead>\n",
       "    <tr style=\"text-align: right;\">\n",
       "      <th></th>\n",
       "      <th>Age</th>\n",
       "      <th>Employment Type</th>\n",
       "      <th>GraduateOrNot</th>\n",
       "      <th>AnnualIncome</th>\n",
       "      <th>FamilyMembers</th>\n",
       "      <th>ChronicDiseases</th>\n",
       "      <th>FrequentFlyer</th>\n",
       "      <th>EverTravelledAbroad</th>\n",
       "      <th>TravelInsurance</th>\n",
       "    </tr>\n",
       "  </thead>\n",
       "  <tbody>\n",
       "    <tr>\n",
       "      <th>1884</th>\n",
       "      <td>28</td>\n",
       "      <td>Government Sector</td>\n",
       "      <td>Yes</td>\n",
       "      <td>1200000</td>\n",
       "      <td>4</td>\n",
       "      <td>0</td>\n",
       "      <td>No</td>\n",
       "      <td>No</td>\n",
       "      <td>1</td>\n",
       "    </tr>\n",
       "    <tr>\n",
       "      <th>638</th>\n",
       "      <td>26</td>\n",
       "      <td>Government Sector</td>\n",
       "      <td>Yes</td>\n",
       "      <td>1450000</td>\n",
       "      <td>3</td>\n",
       "      <td>0</td>\n",
       "      <td>Yes</td>\n",
       "      <td>Yes</td>\n",
       "      <td>1</td>\n",
       "    </tr>\n",
       "    <tr>\n",
       "      <th>1135</th>\n",
       "      <td>28</td>\n",
       "      <td>Private Sector/Self Employed</td>\n",
       "      <td>Yes</td>\n",
       "      <td>1100000</td>\n",
       "      <td>7</td>\n",
       "      <td>1</td>\n",
       "      <td>No</td>\n",
       "      <td>No</td>\n",
       "      <td>1</td>\n",
       "    </tr>\n",
       "  </tbody>\n",
       "</table>\n",
       "</div>"
      ],
      "text/plain": [
       "      Age               Employment Type GraduateOrNot  AnnualIncome  \\\n",
       "1884   28             Government Sector           Yes       1200000   \n",
       "638    26             Government Sector           Yes       1450000   \n",
       "1135   28  Private Sector/Self Employed           Yes       1100000   \n",
       "\n",
       "      FamilyMembers  ChronicDiseases FrequentFlyer EverTravelledAbroad  \\\n",
       "1884              4                0            No                  No   \n",
       "638               3                0           Yes                 Yes   \n",
       "1135              7                1            No                  No   \n",
       "\n",
       "      TravelInsurance  \n",
       "1884                1  \n",
       "638                 1  \n",
       "1135                1  "
      ]
     },
     "execution_count": 65,
     "metadata": {},
     "output_type": "execute_result"
    }
   ],
   "source": [
    "t_train[:3]"
   ]
  },
  {
   "cell_type": "markdown",
   "id": "7e79e1e6-ff97-4758-8366-206579bd559c",
   "metadata": {},
   "source": [
    "Da jedoch die Merkmale"
   ]
  },
  {
   "cell_type": "code",
   "execution_count": 66,
   "id": "38e30404-509d-4704-bf1c-a339dc95f97a",
   "metadata": {},
   "outputs": [
    {
     "data": {
      "text/plain": [
       "Index(['Employment Type', 'GraduateOrNot', 'FrequentFlyer',\n",
       "       'EverTravelledAbroad'],\n",
       "      dtype='object')"
      ]
     },
     "execution_count": 66,
     "metadata": {},
     "output_type": "execute_result"
    }
   ],
   "source": [
    "t_kategorial = t.select_dtypes(include=['object'])\n",
    "t_kategorial.columns"
   ]
  },
  {
   "cell_type": "markdown",
   "id": "0d32db85-565b-4596-b6f5-ab9370594996",
   "metadata": {},
   "source": [
    "alles kategoriale Merkmale sind, verwandeln wir diese vorher noch in eine numerische Codierung mittels des \"One-Hot-Encoding\"-Ansatzes:"
   ]
  },
  {
   "cell_type": "code",
   "execution_count": 67,
   "id": "2e9c2324-e094-4ed5-928e-25359c962efc",
   "metadata": {},
   "outputs": [
    {
     "data": {
      "text/html": [
       "<div>\n",
       "<style scoped>\n",
       "    .dataframe tbody tr th:only-of-type {\n",
       "        vertical-align: middle;\n",
       "    }\n",
       "\n",
       "    .dataframe tbody tr th {\n",
       "        vertical-align: top;\n",
       "    }\n",
       "\n",
       "    .dataframe thead th {\n",
       "        text-align: right;\n",
       "    }\n",
       "</style>\n",
       "<table border=\"1\" class=\"dataframe\">\n",
       "  <thead>\n",
       "    <tr style=\"text-align: right;\">\n",
       "      <th></th>\n",
       "      <th>Age</th>\n",
       "      <th>AnnualIncome</th>\n",
       "      <th>FamilyMembers</th>\n",
       "      <th>ChronicDiseases</th>\n",
       "      <th>TravelInsurance</th>\n",
       "      <th>Employment Type_Government Sector</th>\n",
       "      <th>Employment Type_Private Sector/Self Employed</th>\n",
       "      <th>GraduateOrNot_No</th>\n",
       "      <th>GraduateOrNot_Yes</th>\n",
       "      <th>FrequentFlyer_No</th>\n",
       "      <th>FrequentFlyer_Yes</th>\n",
       "      <th>EverTravelledAbroad_No</th>\n",
       "      <th>EverTravelledAbroad_Yes</th>\n",
       "    </tr>\n",
       "  </thead>\n",
       "  <tbody>\n",
       "    <tr>\n",
       "      <th>1884</th>\n",
       "      <td>28</td>\n",
       "      <td>1200000</td>\n",
       "      <td>4</td>\n",
       "      <td>0</td>\n",
       "      <td>1</td>\n",
       "      <td>1</td>\n",
       "      <td>0</td>\n",
       "      <td>0</td>\n",
       "      <td>1</td>\n",
       "      <td>1</td>\n",
       "      <td>0</td>\n",
       "      <td>1</td>\n",
       "      <td>0</td>\n",
       "    </tr>\n",
       "    <tr>\n",
       "      <th>638</th>\n",
       "      <td>26</td>\n",
       "      <td>1450000</td>\n",
       "      <td>3</td>\n",
       "      <td>0</td>\n",
       "      <td>1</td>\n",
       "      <td>1</td>\n",
       "      <td>0</td>\n",
       "      <td>0</td>\n",
       "      <td>1</td>\n",
       "      <td>0</td>\n",
       "      <td>1</td>\n",
       "      <td>0</td>\n",
       "      <td>1</td>\n",
       "    </tr>\n",
       "    <tr>\n",
       "      <th>1135</th>\n",
       "      <td>28</td>\n",
       "      <td>1100000</td>\n",
       "      <td>7</td>\n",
       "      <td>1</td>\n",
       "      <td>1</td>\n",
       "      <td>0</td>\n",
       "      <td>1</td>\n",
       "      <td>0</td>\n",
       "      <td>1</td>\n",
       "      <td>1</td>\n",
       "      <td>0</td>\n",
       "      <td>1</td>\n",
       "      <td>0</td>\n",
       "    </tr>\n",
       "  </tbody>\n",
       "</table>\n",
       "</div>"
      ],
      "text/plain": [
       "      Age  AnnualIncome  FamilyMembers  ChronicDiseases  TravelInsurance  \\\n",
       "1884   28       1200000              4                0                1   \n",
       "638    26       1450000              3                0                1   \n",
       "1135   28       1100000              7                1                1   \n",
       "\n",
       "      Employment Type_Government Sector  \\\n",
       "1884                                  1   \n",
       "638                                   1   \n",
       "1135                                  0   \n",
       "\n",
       "      Employment Type_Private Sector/Self Employed  GraduateOrNot_No  \\\n",
       "1884                                             0                 0   \n",
       "638                                              0                 0   \n",
       "1135                                             1                 0   \n",
       "\n",
       "      GraduateOrNot_Yes  FrequentFlyer_No  FrequentFlyer_Yes  \\\n",
       "1884                  1                 1                  0   \n",
       "638                   1                 0                  1   \n",
       "1135                  1                 1                  0   \n",
       "\n",
       "      EverTravelledAbroad_No  EverTravelledAbroad_Yes  \n",
       "1884                       1                        0  \n",
       "638                        0                        1  \n",
       "1135                       1                        0  "
      ]
     },
     "execution_count": 67,
     "metadata": {},
     "output_type": "execute_result"
    }
   ],
   "source": [
    "t_train = pandas.get_dummies(t_train)\n",
    "t_train[:3]"
   ]
  },
  {
   "cell_type": "markdown",
   "id": "7796ade4-8576-451b-8e45-2a15877bad0d",
   "metadata": {},
   "source": [
    "Das Gleiche bereiten wir auch schon für die Testdaten vor:"
   ]
  },
  {
   "cell_type": "code",
   "execution_count": 68,
   "id": "cb006fbc-c963-4bc6-901c-87c4676f1d49",
   "metadata": {},
   "outputs": [
    {
     "data": {
      "text/html": [
       "<div>\n",
       "<style scoped>\n",
       "    .dataframe tbody tr th:only-of-type {\n",
       "        vertical-align: middle;\n",
       "    }\n",
       "\n",
       "    .dataframe tbody tr th {\n",
       "        vertical-align: top;\n",
       "    }\n",
       "\n",
       "    .dataframe thead th {\n",
       "        text-align: right;\n",
       "    }\n",
       "</style>\n",
       "<table border=\"1\" class=\"dataframe\">\n",
       "  <thead>\n",
       "    <tr style=\"text-align: right;\">\n",
       "      <th></th>\n",
       "      <th>Age</th>\n",
       "      <th>AnnualIncome</th>\n",
       "      <th>FamilyMembers</th>\n",
       "      <th>ChronicDiseases</th>\n",
       "      <th>TravelInsurance</th>\n",
       "      <th>Employment Type_Government Sector</th>\n",
       "      <th>Employment Type_Private Sector/Self Employed</th>\n",
       "      <th>GraduateOrNot_No</th>\n",
       "      <th>GraduateOrNot_Yes</th>\n",
       "      <th>FrequentFlyer_No</th>\n",
       "      <th>FrequentFlyer_Yes</th>\n",
       "      <th>EverTravelledAbroad_No</th>\n",
       "      <th>EverTravelledAbroad_Yes</th>\n",
       "    </tr>\n",
       "  </thead>\n",
       "  <tbody>\n",
       "    <tr>\n",
       "      <th>1612</th>\n",
       "      <td>31</td>\n",
       "      <td>1400000</td>\n",
       "      <td>6</td>\n",
       "      <td>0</td>\n",
       "      <td>1</td>\n",
       "      <td>0</td>\n",
       "      <td>1</td>\n",
       "      <td>0</td>\n",
       "      <td>1</td>\n",
       "      <td>1</td>\n",
       "      <td>0</td>\n",
       "      <td>0</td>\n",
       "      <td>1</td>\n",
       "    </tr>\n",
       "    <tr>\n",
       "      <th>1509</th>\n",
       "      <td>28</td>\n",
       "      <td>1300000</td>\n",
       "      <td>4</td>\n",
       "      <td>1</td>\n",
       "      <td>0</td>\n",
       "      <td>0</td>\n",
       "      <td>1</td>\n",
       "      <td>0</td>\n",
       "      <td>1</td>\n",
       "      <td>1</td>\n",
       "      <td>0</td>\n",
       "      <td>1</td>\n",
       "      <td>0</td>\n",
       "    </tr>\n",
       "    <tr>\n",
       "      <th>1024</th>\n",
       "      <td>32</td>\n",
       "      <td>800000</td>\n",
       "      <td>9</td>\n",
       "      <td>0</td>\n",
       "      <td>1</td>\n",
       "      <td>1</td>\n",
       "      <td>0</td>\n",
       "      <td>0</td>\n",
       "      <td>1</td>\n",
       "      <td>1</td>\n",
       "      <td>0</td>\n",
       "      <td>0</td>\n",
       "      <td>1</td>\n",
       "    </tr>\n",
       "  </tbody>\n",
       "</table>\n",
       "</div>"
      ],
      "text/plain": [
       "      Age  AnnualIncome  FamilyMembers  ChronicDiseases  TravelInsurance  \\\n",
       "1612   31       1400000              6                0                1   \n",
       "1509   28       1300000              4                1                0   \n",
       "1024   32        800000              9                0                1   \n",
       "\n",
       "      Employment Type_Government Sector  \\\n",
       "1612                                  0   \n",
       "1509                                  0   \n",
       "1024                                  1   \n",
       "\n",
       "      Employment Type_Private Sector/Self Employed  GraduateOrNot_No  \\\n",
       "1612                                             1                 0   \n",
       "1509                                             1                 0   \n",
       "1024                                             0                 0   \n",
       "\n",
       "      GraduateOrNot_Yes  FrequentFlyer_No  FrequentFlyer_Yes  \\\n",
       "1612                  1                 1                  0   \n",
       "1509                  1                 1                  0   \n",
       "1024                  1                 1                  0   \n",
       "\n",
       "      EverTravelledAbroad_No  EverTravelledAbroad_Yes  \n",
       "1612                       0                        1  \n",
       "1509                       1                        0  \n",
       "1024                       0                        1  "
      ]
     },
     "execution_count": 68,
     "metadata": {},
     "output_type": "execute_result"
    }
   ],
   "source": [
    "t_test = pandas.get_dummies(t_test)\n",
    "t_test[:3]"
   ]
  },
  {
   "cell_type": "markdown",
   "id": "4a65e0e3-21c7-4187-8dac-99092638107b",
   "metadata": {},
   "source": [
    "Damit können wir jetzt eine neue Distanzfunktion `d()` definieren, die es uns erlaubt die Distanz zwischen zwei Kunden in dem 8-dimensionalen Merkmalsraum\n",
    "\n",
    "    (Alter, Einkommen, Familiensitutation, Krankheit, Anstellungsbereich, Akademiker, Vielflieger, Schon-im-Ausland-gewesen)\n",
    "    \n",
    "zu berechnen."
   ]
  },
  {
   "cell_type": "code",
   "execution_count": 69,
   "id": "dc0f2b43-bcf9-418a-a8a2-e7541220a59b",
   "metadata": {},
   "outputs": [
    {
     "data": {
      "text/plain": [
       "Index(['Age', 'AnnualIncome', 'FamilyMembers', 'ChronicDiseases',\n",
       "       'TravelInsurance', 'Employment Type_Government Sector',\n",
       "       'Employment Type_Private Sector/Self Employed', 'GraduateOrNot_No',\n",
       "       'GraduateOrNot_Yes', 'FrequentFlyer_No', 'FrequentFlyer_Yes',\n",
       "       'EverTravelledAbroad_No', 'EverTravelledAbroad_Yes'],\n",
       "      dtype='object')"
      ]
     },
     "execution_count": 69,
     "metadata": {},
     "output_type": "execute_result"
    }
   ],
   "source": [
    "t_train.columns"
   ]
  },
  {
   "cell_type": "code",
   "execution_count": 70,
   "id": "a668d846-5d1f-4018-8278-77b9da91c4cd",
   "metadata": {},
   "outputs": [],
   "source": [
    "def d(kunde1, kunde2):\n",
    "    \n",
    "    kunde1_alter = kunde1[\"Age\"] / t_train[\"Age\"].max()\n",
    "    kunde2_alter = kunde2[\"Age\"] / t_train[\"Age\"].max()\n",
    "    diff_alter = abs(kunde1_alter - kunde2_alter)\n",
    "\n",
    "    kunde1_einkommen = kunde1[\"AnnualIncome\"] / t_train[\"AnnualIncome\"].max()\n",
    "    kunde2_einkommen = kunde2[\"AnnualIncome\"] / t_train[\"AnnualIncome\"].max()\n",
    "    diff_einkommen = abs(kunde1_einkommen - kunde2_einkommen)\n",
    "    \n",
    "    kunde1_familie = kunde1[\"FamilyMembers\"] / t_train[\"FamilyMembers\"].max()\n",
    "    kunde2_familie = kunde2[\"FamilyMembers\"] / t_train[\"FamilyMembers\"].max()\n",
    "    diff_familie = abs(kunde1_familie - kunde2_familie)\n",
    "    \n",
    "    diff_krankheit = abs(kunde1[\"ChronicDiseases\"] - kunde2[\"ChronicDiseases\"])\n",
    "    \n",
    "    # die ehemals kategorialen Mermale sind nun numerische Merkmale mit\n",
    "    # möglichen Werten {0,1} \n",
    "    diff_anstellung   = abs(kunde1[\"Employment Type_Government Sector\"] - kunde2[\"Employment Type_Government Sector\"])\n",
    "    diff_akademiker   = abs(kunde1[\"GraduateOrNot_Yes\"]                 - kunde2[\"GraduateOrNot_Yes\"])\n",
    "    diff_vielflieger  = abs(kunde1[\"FrequentFlyer_Yes\"]                 - kunde2[\"FrequentFlyer_Yes\"])\n",
    "    diff_schonausland = abs(kunde1[\"EverTravelledAbroad_Yes\"]           - kunde2[\"EverTravelledAbroad_Yes\"])\n",
    "       \n",
    "    \n",
    "    # Bilde Durchschnitt über die Abstände\n",
    "    unterschied = 1/8 * (diff_alter +\n",
    "                         diff_einkommen +\n",
    "                         diff_familie +\n",
    "                         diff_krankheit +\n",
    "                         diff_anstellung +\n",
    "                         diff_vielflieger +\n",
    "                         diff_schonausland)\n",
    "    \n",
    "    return unterschied"
   ]
  },
  {
   "cell_type": "markdown",
   "id": "f7deed05-54f2-442c-9a7a-c5088759b250",
   "metadata": {},
   "source": [
    "Vergleichen wir doch jetzt einfach nochmal unseren ersten Testkunden mit den ersten beiden Trainingskunden:"
   ]
  },
  {
   "cell_type": "code",
   "execution_count": 71,
   "id": "fbb1f903-afb8-4c61-a823-8b1dd967bc88",
   "metadata": {},
   "outputs": [
    {
     "name": "stdout",
     "output_type": "stream",
     "text": [
      "d(testkunde, trainkunde1)=0.302\n",
      "d(testkunde, trainkunde2)=0.313\n"
     ]
    }
   ],
   "source": [
    "testkunde   = t_test.iloc[0]\n",
    "trainkunde1 = t_train.iloc[0]\n",
    "trainkunde2 = t_train.iloc[1]\n",
    "print( f\"d(testkunde, trainkunde1)={d(testkunde, trainkunde1):.3f}\" )\n",
    "print( f\"d(testkunde, trainkunde2)={d(testkunde, trainkunde2):.3f}\" )"
   ]
  },
  {
   "cell_type": "markdown",
   "id": "cae1b446-01b3-4ee9-8c78-f335378d9b31",
   "metadata": {},
   "source": [
    "Auch hier ist `trainkunde2` immer noch ähnlicher zu `testkunde` als `trainkunde1` zu `testkunde`, aber man sieht, dass es kein so großer Unterschied mehr ist wie vorher."
   ]
  },
  {
   "cell_type": "markdown",
   "id": "7a1adb5e-da06-4dcf-97a1-5b52c88085f8",
   "metadata": {},
   "source": [
    "## Quiz: Alle Distanzen berechnen\n",
    "\n",
    "Berechne nun die Distanzen zwischen dem ersten Testkunden und allen Kunden in der Trainingsdatenbank!\n",
    "\n",
    "Lösung:"
   ]
  },
  {
   "cell_type": "code",
   "execution_count": 72,
   "id": "c43ef5ca-8fa9-4caa-b68e-72f277d14bbb",
   "metadata": {},
   "outputs": [
    {
     "name": "stdout",
     "output_type": "stream",
     "text": [
      "d(testkunde, trainkunde)=0.302\n",
      "d(testkunde, trainkunde)=0.313\n",
      "d(testkunde, trainkunde)=0.295\n",
      "d(testkunde, trainkunde)=0.191\n",
      "d(testkunde, trainkunde)=0.209\n",
      "d(testkunde, trainkunde)=0.198\n",
      "d(testkunde, trainkunde)=0.157\n",
      "d(testkunde, trainkunde)=0.365\n",
      "d(testkunde, trainkunde)=0.316\n",
      "d(testkunde, trainkunde)=0.195\n",
      "d(testkunde, trainkunde)=0.420\n",
      "d(testkunde, trainkunde)=0.351\n",
      "d(testkunde, trainkunde)=0.205\n",
      "d(testkunde, trainkunde)=0.313\n",
      "d(testkunde, trainkunde)=0.184\n",
      "d(testkunde, trainkunde)=0.316\n",
      "d(testkunde, trainkunde)=0.215\n",
      "d(testkunde, trainkunde)=0.157\n",
      "d(testkunde, trainkunde)=0.097\n",
      "d(testkunde, trainkunde)=0.309\n",
      "d(testkunde, trainkunde)=0.198\n",
      "d(testkunde, trainkunde)=0.351\n",
      "d(testkunde, trainkunde)=0.365\n",
      "d(testkunde, trainkunde)=0.192\n",
      "d(testkunde, trainkunde)=0.247\n",
      "d(testkunde, trainkunde)=0.330\n",
      "d(testkunde, trainkunde)=0.042\n",
      "d(testkunde, trainkunde)=0.181\n",
      "d(testkunde, trainkunde)=0.306\n",
      "d(testkunde, trainkunde)=0.444\n"
     ]
    }
   ],
   "source": [
    "i = 0\n",
    "for index, trainkunde in t_train.iterrows():\n",
    "    print( f\"d(testkunde, trainkunde)={d(testkunde, trainkunde):.3f}\" )\n",
    "    i+=1\n",
    "    \n",
    "    # Hier geben wir nur die ersten 30 Distanzen aus!\n",
    "    if i==30:\n",
    "        break"
   ]
  },
  {
   "cell_type": "markdown",
   "id": "d67161e1-d4b6-467c-86a0-e2c9fd52ab0d",
   "metadata": {},
   "source": [
    "## Quiz: Pandas Tabelle mit Vergleichsergebnissen erstellen\n",
    "\n",
    "Erstelle nun eine Pandas-Tabelle mit den Ergebnissen in folgender Tabellenform:\n",
    "\n",
    "Tabelle:\n",
    "\n",
    "    Trainkunde ID | Distanz zu Testkunde | Hat Trainkunde Versicherung gekauft?\n",
    "    ---------------------------------------------------------------------------\n",
    "    128           | 0.123                 | 1\n",
    "    935           | 0.456                 | 0\n",
    "    74            | 0.091                 | 1\n",
    "\n",
    "Lösung:"
   ]
  },
  {
   "cell_type": "code",
   "execution_count": 73,
   "id": "baf25bcf-80a3-4de4-83a0-1210ed924ee6",
   "metadata": {},
   "outputs": [],
   "source": [
    "ids = []\n",
    "distanzen = []\n",
    "zielvariablen = []\n",
    "for index, trainkunde in t_train.iterrows():\n",
    "    \n",
    "    ids.append( index )\n",
    "    distanzen.append( d(testkunde, trainkunde) )\n",
    "    zielvariablen.append( trainkunde[\"TravelInsurance\"] )\n",
    "    \n",
    "dic = {\"Trainkunde ID\": ids,\n",
    "       \"Distanz zu Testkunde\": distanzen,\n",
    "       \"Hat Trainkunde Versicherung gekauft?\": zielvariablen}\n",
    "V = pandas.DataFrame( dic )"
   ]
  },
  {
   "cell_type": "code",
   "execution_count": 74,
   "id": "39c2f6e7-4b1b-486e-a7e7-bc4d801a7607",
   "metadata": {},
   "outputs": [
    {
     "data": {
      "text/html": [
       "<div>\n",
       "<style scoped>\n",
       "    .dataframe tbody tr th:only-of-type {\n",
       "        vertical-align: middle;\n",
       "    }\n",
       "\n",
       "    .dataframe tbody tr th {\n",
       "        vertical-align: top;\n",
       "    }\n",
       "\n",
       "    .dataframe thead th {\n",
       "        text-align: right;\n",
       "    }\n",
       "</style>\n",
       "<table border=\"1\" class=\"dataframe\">\n",
       "  <thead>\n",
       "    <tr style=\"text-align: right;\">\n",
       "      <th></th>\n",
       "      <th>Trainkunde ID</th>\n",
       "      <th>Distanz zu Testkunde</th>\n",
       "      <th>Hat Trainkunde Versicherung gekauft?</th>\n",
       "    </tr>\n",
       "  </thead>\n",
       "  <tbody>\n",
       "    <tr>\n",
       "      <th>0</th>\n",
       "      <td>1884</td>\n",
       "      <td>0.302381</td>\n",
       "      <td>1</td>\n",
       "    </tr>\n",
       "    <tr>\n",
       "      <th>1</th>\n",
       "      <td>638</td>\n",
       "      <td>0.312996</td>\n",
       "      <td>1</td>\n",
       "    </tr>\n",
       "    <tr>\n",
       "      <th>2</th>\n",
       "      <td>1135</td>\n",
       "      <td>0.295437</td>\n",
       "      <td>1</td>\n",
       "    </tr>\n",
       "    <tr>\n",
       "      <th>3</th>\n",
       "      <td>1820</td>\n",
       "      <td>0.191270</td>\n",
       "      <td>0</td>\n",
       "    </tr>\n",
       "    <tr>\n",
       "      <th>4</th>\n",
       "      <td>789</td>\n",
       "      <td>0.208631</td>\n",
       "      <td>1</td>\n",
       "    </tr>\n",
       "    <tr>\n",
       "      <th>...</th>\n",
       "      <td>...</td>\n",
       "      <td>...</td>\n",
       "      <td>...</td>\n",
       "    </tr>\n",
       "    <tr>\n",
       "      <th>1584</th>\n",
       "      <td>586</td>\n",
       "      <td>0.350992</td>\n",
       "      <td>0</td>\n",
       "    </tr>\n",
       "    <tr>\n",
       "      <th>1585</th>\n",
       "      <td>1482</td>\n",
       "      <td>0.208532</td>\n",
       "      <td>0</td>\n",
       "    </tr>\n",
       "    <tr>\n",
       "      <th>1586</th>\n",
       "      <td>337</td>\n",
       "      <td>0.326488</td>\n",
       "      <td>0</td>\n",
       "    </tr>\n",
       "    <tr>\n",
       "      <th>1587</th>\n",
       "      <td>748</td>\n",
       "      <td>0.076687</td>\n",
       "      <td>0</td>\n",
       "    </tr>\n",
       "    <tr>\n",
       "      <th>1588</th>\n",
       "      <td>1838</td>\n",
       "      <td>0.212103</td>\n",
       "      <td>0</td>\n",
       "    </tr>\n",
       "  </tbody>\n",
       "</table>\n",
       "<p>1589 rows × 3 columns</p>\n",
       "</div>"
      ],
      "text/plain": [
       "      Trainkunde ID  Distanz zu Testkunde  \\\n",
       "0              1884              0.302381   \n",
       "1               638              0.312996   \n",
       "2              1135              0.295437   \n",
       "3              1820              0.191270   \n",
       "4               789              0.208631   \n",
       "...             ...                   ...   \n",
       "1584            586              0.350992   \n",
       "1585           1482              0.208532   \n",
       "1586            337              0.326488   \n",
       "1587            748              0.076687   \n",
       "1588           1838              0.212103   \n",
       "\n",
       "      Hat Trainkunde Versicherung gekauft?  \n",
       "0                                        1  \n",
       "1                                        1  \n",
       "2                                        1  \n",
       "3                                        0  \n",
       "4                                        1  \n",
       "...                                    ...  \n",
       "1584                                     0  \n",
       "1585                                     0  \n",
       "1586                                     0  \n",
       "1587                                     0  \n",
       "1588                                     0  \n",
       "\n",
       "[1589 rows x 3 columns]"
      ]
     },
     "execution_count": 74,
     "metadata": {},
     "output_type": "execute_result"
    }
   ],
   "source": [
    "V"
   ]
  },
  {
   "cell_type": "markdown",
   "id": "4c1186b9-f916-46b8-b718-5eef8aa7e24f",
   "metadata": {},
   "source": [
    "Klasse! Das ist jetzt doch schon Mal ein hilfreiches Zwischenergebnis. Wir müssten jetzt nur noch die Tabelle nach den Distanzen aufsteigend sortieren. Das führt uns zum nächsten Quiz!"
   ]
  },
  {
   "cell_type": "markdown",
   "id": "225ca3a3-b96b-4982-b8bb-8be49e8fac24",
   "metadata": {},
   "source": [
    "## Quiz: Tabelle sortieren\n",
    "\n",
    "Versuche im Inernet herauszufinden, wie man eine Pandas Tabelle aufsteigend nach einer bestimmten Spalte sortieren kann!\n",
    "\n",
    "Lösung:"
   ]
  },
  {
   "cell_type": "code",
   "execution_count": 75,
   "id": "be82d033-f5f9-4f2a-b2a3-72235dc39049",
   "metadata": {},
   "outputs": [
    {
     "data": {
      "text/html": [
       "<div>\n",
       "<style scoped>\n",
       "    .dataframe tbody tr th:only-of-type {\n",
       "        vertical-align: middle;\n",
       "    }\n",
       "\n",
       "    .dataframe tbody tr th {\n",
       "        vertical-align: top;\n",
       "    }\n",
       "\n",
       "    .dataframe thead th {\n",
       "        text-align: right;\n",
       "    }\n",
       "</style>\n",
       "<table border=\"1\" class=\"dataframe\">\n",
       "  <thead>\n",
       "    <tr style=\"text-align: right;\">\n",
       "      <th></th>\n",
       "      <th>Trainkunde ID</th>\n",
       "      <th>Distanz zu Testkunde</th>\n",
       "      <th>Hat Trainkunde Versicherung gekauft?</th>\n",
       "    </tr>\n",
       "  </thead>\n",
       "  <tbody>\n",
       "    <tr>\n",
       "      <th>361</th>\n",
       "      <td>382</td>\n",
       "      <td>0.000000</td>\n",
       "      <td>1</td>\n",
       "    </tr>\n",
       "    <tr>\n",
       "      <th>566</th>\n",
       "      <td>1164</td>\n",
       "      <td>0.000000</td>\n",
       "      <td>1</td>\n",
       "    </tr>\n",
       "    <tr>\n",
       "      <th>1421</th>\n",
       "      <td>450</td>\n",
       "      <td>0.010417</td>\n",
       "      <td>0</td>\n",
       "    </tr>\n",
       "    <tr>\n",
       "      <th>609</th>\n",
       "      <td>416</td>\n",
       "      <td>0.013889</td>\n",
       "      <td>1</td>\n",
       "    </tr>\n",
       "    <tr>\n",
       "      <th>367</th>\n",
       "      <td>535</td>\n",
       "      <td>0.017361</td>\n",
       "      <td>1</td>\n",
       "    </tr>\n",
       "    <tr>\n",
       "      <th>...</th>\n",
       "      <td>...</td>\n",
       "      <td>...</td>\n",
       "      <td>...</td>\n",
       "    </tr>\n",
       "    <tr>\n",
       "      <th>1258</th>\n",
       "      <td>1652</td>\n",
       "      <td>0.545437</td>\n",
       "      <td>1</td>\n",
       "    </tr>\n",
       "    <tr>\n",
       "      <th>805</th>\n",
       "      <td>1467</td>\n",
       "      <td>0.555655</td>\n",
       "      <td>0</td>\n",
       "    </tr>\n",
       "    <tr>\n",
       "      <th>1539</th>\n",
       "      <td>1827</td>\n",
       "      <td>0.559127</td>\n",
       "      <td>1</td>\n",
       "    </tr>\n",
       "    <tr>\n",
       "      <th>441</th>\n",
       "      <td>1295</td>\n",
       "      <td>0.562897</td>\n",
       "      <td>1</td>\n",
       "    </tr>\n",
       "    <tr>\n",
       "      <th>398</th>\n",
       "      <td>699</td>\n",
       "      <td>0.586905</td>\n",
       "      <td>0</td>\n",
       "    </tr>\n",
       "  </tbody>\n",
       "</table>\n",
       "<p>1589 rows × 3 columns</p>\n",
       "</div>"
      ],
      "text/plain": [
       "      Trainkunde ID  Distanz zu Testkunde  \\\n",
       "361             382              0.000000   \n",
       "566            1164              0.000000   \n",
       "1421            450              0.010417   \n",
       "609             416              0.013889   \n",
       "367             535              0.017361   \n",
       "...             ...                   ...   \n",
       "1258           1652              0.545437   \n",
       "805            1467              0.555655   \n",
       "1539           1827              0.559127   \n",
       "441            1295              0.562897   \n",
       "398             699              0.586905   \n",
       "\n",
       "      Hat Trainkunde Versicherung gekauft?  \n",
       "361                                      1  \n",
       "566                                      1  \n",
       "1421                                     0  \n",
       "609                                      1  \n",
       "367                                      1  \n",
       "...                                    ...  \n",
       "1258                                     1  \n",
       "805                                      0  \n",
       "1539                                     1  \n",
       "441                                      1  \n",
       "398                                      0  \n",
       "\n",
       "[1589 rows x 3 columns]"
      ]
     },
     "execution_count": 75,
     "metadata": {},
     "output_type": "execute_result"
    }
   ],
   "source": [
    "V.sort_values(\"Distanz zu Testkunde\")"
   ]
  },
  {
   "cell_type": "markdown",
   "id": "1d530d77-9fa0-4bf9-b9c6-5996e7fcc7f1",
   "metadata": {},
   "source": [
    "## Quiz: Verteilung der Distanzwerte plotten\n",
    "\n",
    "Bei der Gelegenheit: erzeuge dir ein Histogramm, das uns ein Gefühl dafür gibt, welche Distanzen wie oft vorkommen!\n",
    "\n",
    "Lösung:"
   ]
  },
  {
   "cell_type": "code",
   "execution_count": 76,
   "id": "e5b99f13-95d2-4a7c-a517-0513e886ce06",
   "metadata": {},
   "outputs": [
    {
     "data": {
      "image/png": "[encoded data removed]",
      "text/plain": [
       "<Figure size 432x288 with 1 Axes>"
      ]
     },
     "metadata": {
      "needs_background": "light"
     },
     "output_type": "display_data"
    }
   ],
   "source": [
    "import matplotlib.pyplot as plt\n",
    "\n",
    "plt.hist( V[\"Distanz zu Testkunde\"], bins=100 )\n",
    "plt.show()"
   ]
  },
  {
   "cell_type": "markdown",
   "id": "c2246289-432a-4bb0-bd4f-01006af6369f",
   "metadata": {},
   "source": [
    "## Quiz: Finale Entscheidung berechnen\n",
    "\n",
    "Jetzt können wir aus der sortierten Liste die k (z.B. k=15) ähnlichsten Kunden zum Testkunden rausfischen und eine finale Entscheidung berechnen. Wie geht das?\n",
    "\n",
    "Lösung:"
   ]
  },
  {
   "cell_type": "code",
   "execution_count": 77,
   "id": "a73df3a2-9937-4caf-9e6a-31bc4d93d472",
   "metadata": {},
   "outputs": [
    {
     "data": {
      "text/html": [
       "<div>\n",
       "<style scoped>\n",
       "    .dataframe tbody tr th:only-of-type {\n",
       "        vertical-align: middle;\n",
       "    }\n",
       "\n",
       "    .dataframe tbody tr th {\n",
       "        vertical-align: top;\n",
       "    }\n",
       "\n",
       "    .dataframe thead th {\n",
       "        text-align: right;\n",
       "    }\n",
       "</style>\n",
       "<table border=\"1\" class=\"dataframe\">\n",
       "  <thead>\n",
       "    <tr style=\"text-align: right;\">\n",
       "      <th></th>\n",
       "      <th>Trainkunde ID</th>\n",
       "      <th>Distanz zu Testkunde</th>\n",
       "      <th>Hat Trainkunde Versicherung gekauft?</th>\n",
       "    </tr>\n",
       "  </thead>\n",
       "  <tbody>\n",
       "    <tr>\n",
       "      <th>361</th>\n",
       "      <td>382</td>\n",
       "      <td>0.000000</td>\n",
       "      <td>1</td>\n",
       "    </tr>\n",
       "    <tr>\n",
       "      <th>566</th>\n",
       "      <td>1164</td>\n",
       "      <td>0.000000</td>\n",
       "      <td>1</td>\n",
       "    </tr>\n",
       "    <tr>\n",
       "      <th>1421</th>\n",
       "      <td>450</td>\n",
       "      <td>0.010417</td>\n",
       "      <td>0</td>\n",
       "    </tr>\n",
       "    <tr>\n",
       "      <th>609</th>\n",
       "      <td>416</td>\n",
       "      <td>0.013889</td>\n",
       "      <td>1</td>\n",
       "    </tr>\n",
       "    <tr>\n",
       "      <th>367</th>\n",
       "      <td>535</td>\n",
       "      <td>0.017361</td>\n",
       "      <td>1</td>\n",
       "    </tr>\n",
       "    <tr>\n",
       "      <th>1147</th>\n",
       "      <td>865</td>\n",
       "      <td>0.017361</td>\n",
       "      <td>1</td>\n",
       "    </tr>\n",
       "    <tr>\n",
       "      <th>644</th>\n",
       "      <td>389</td>\n",
       "      <td>0.017361</td>\n",
       "      <td>1</td>\n",
       "    </tr>\n",
       "    <tr>\n",
       "      <th>469</th>\n",
       "      <td>121</td>\n",
       "      <td>0.017857</td>\n",
       "      <td>1</td>\n",
       "    </tr>\n",
       "    <tr>\n",
       "      <th>1405</th>\n",
       "      <td>907</td>\n",
       "      <td>0.017857</td>\n",
       "      <td>1</td>\n",
       "    </tr>\n",
       "    <tr>\n",
       "      <th>1144</th>\n",
       "      <td>323</td>\n",
       "      <td>0.021032</td>\n",
       "      <td>1</td>\n",
       "    </tr>\n",
       "    <tr>\n",
       "      <th>682</th>\n",
       "      <td>1224</td>\n",
       "      <td>0.021032</td>\n",
       "      <td>1</td>\n",
       "    </tr>\n",
       "    <tr>\n",
       "      <th>778</th>\n",
       "      <td>1950</td>\n",
       "      <td>0.021131</td>\n",
       "      <td>0</td>\n",
       "    </tr>\n",
       "    <tr>\n",
       "      <th>920</th>\n",
       "      <td>1977</td>\n",
       "      <td>0.024901</td>\n",
       "      <td>1</td>\n",
       "    </tr>\n",
       "    <tr>\n",
       "      <th>354</th>\n",
       "      <td>460</td>\n",
       "      <td>0.024901</td>\n",
       "      <td>1</td>\n",
       "    </tr>\n",
       "    <tr>\n",
       "      <th>945</th>\n",
       "      <td>913</td>\n",
       "      <td>0.027778</td>\n",
       "      <td>1</td>\n",
       "    </tr>\n",
       "  </tbody>\n",
       "</table>\n",
       "</div>"
      ],
      "text/plain": [
       "      Trainkunde ID  Distanz zu Testkunde  \\\n",
       "361             382              0.000000   \n",
       "566            1164              0.000000   \n",
       "1421            450              0.010417   \n",
       "609             416              0.013889   \n",
       "367             535              0.017361   \n",
       "1147            865              0.017361   \n",
       "644             389              0.017361   \n",
       "469             121              0.017857   \n",
       "1405            907              0.017857   \n",
       "1144            323              0.021032   \n",
       "682            1224              0.021032   \n",
       "778            1950              0.021131   \n",
       "920            1977              0.024901   \n",
       "354             460              0.024901   \n",
       "945             913              0.027778   \n",
       "\n",
       "      Hat Trainkunde Versicherung gekauft?  \n",
       "361                                      1  \n",
       "566                                      1  \n",
       "1421                                     0  \n",
       "609                                      1  \n",
       "367                                      1  \n",
       "1147                                     1  \n",
       "644                                      1  \n",
       "469                                      1  \n",
       "1405                                     1  \n",
       "1144                                     1  \n",
       "682                                      1  \n",
       "778                                      0  \n",
       "920                                      1  \n",
       "354                                      1  \n",
       "945                                      1  "
      ]
     },
     "execution_count": 77,
     "metadata": {},
     "output_type": "execute_result"
    }
   ],
   "source": [
    "V_sortiert_nach_Distanzen = V.sort_values(\"Distanz zu Testkunde\")\n",
    "\n",
    "k=15\n",
    "V_sortiert_nach_Distanzen[:k]"
   ]
  },
  {
   "cell_type": "code",
   "execution_count": 78,
   "id": "689f1d02-e336-4784-b6aa-5f4ef9f6ca03",
   "metadata": {},
   "outputs": [
    {
     "data": {
      "text/plain": [
       "361     1\n",
       "566     1\n",
       "1421    0\n",
       "609     1\n",
       "367     1\n",
       "1147    1\n",
       "644     1\n",
       "469     1\n",
       "1405    1\n",
       "1144    1\n",
       "682     1\n",
       "778     0\n",
       "920     1\n",
       "354     1\n",
       "945     1\n",
       "Name: Hat Trainkunde Versicherung gekauft?, dtype: int64"
      ]
     },
     "execution_count": 78,
     "metadata": {},
     "output_type": "execute_result"
    }
   ],
   "source": [
    "V_sortiert_nach_Distanzen[\"Hat Trainkunde Versicherung gekauft?\"][:k]"
   ]
  },
  {
   "cell_type": "code",
   "execution_count": 79,
   "id": "a3990e83-ed05-453f-bd5e-5247f539f0f1",
   "metadata": {},
   "outputs": [
    {
     "data": {
      "text/plain": [
       "0.8666666666666667"
      ]
     },
     "execution_count": 79,
     "metadata": {},
     "output_type": "execute_result"
    }
   ],
   "source": [
    "V_sortiert_nach_Distanzen[\"Hat Trainkunde Versicherung gekauft?\"][:k].mean()"
   ]
  },
  {
   "cell_type": "markdown",
   "id": "c5c80a33-7a14-4d40-9bba-9139f003f3f5",
   "metadata": {},
   "source": [
    "Fazit: nur mit einer Wahrscheinlichkeit von ca. 13% wird der erste Testkunde die Versicherung kaufen."
   ]
  },
  {
   "cell_type": "markdown",
   "id": "d2b154e2-f110-48ba-bc28-38e8d970f8bf",
   "metadata": {},
   "source": [
    "# Modellgüte berechnen\n",
    "\n",
    "Die Testdaten werden beim Machine Learning stets vorgehalten, um später einschätzen zu können, wie gut ein Machine Learning Verfahren ist. Jetzt können wir für alle der Testkunden in diesen Testdaten einmal berechnen lassen, was unser k-NN Klassifikator vorhersagen würde und die Vorhersage mit der tatsächlichen Kaufentscheidung der Testkunden vergleichen.\n",
    "\n",
    "Das Ergebnis ist eine sog. Korrekt-Klassifikationsrate (KKR): wieviel Prozent unserer Klassifikationsvorhersagen sind korrekt?"
   ]
  },
  {
   "cell_type": "markdown",
   "id": "5e04d0d4-72df-410d-96ea-c7f7cf6eae7d",
   "metadata": {},
   "source": [
    "## Quiz: Eine Hilfsfunktion für die Prädiktion eines Kundens\n",
    "\n",
    "Baue eine Hilfsfunktion `praediziere_einen_kunden()`, die für einen Kunden die Prädiktion vornimmt. Nutze dazu die entwickelten Codeteile von oben!\n",
    "\n",
    "Lösung:"
   ]
  },
  {
   "cell_type": "code",
   "execution_count": 80,
   "id": "5a5ba18a-5e1e-4b9c-ba19-fb03e0487d2b",
   "metadata": {},
   "outputs": [],
   "source": [
    "def praediziere_einen_kunden(testkunde):\n",
    "\n",
    "    ids = []\n",
    "    distanzen = []\n",
    "    zielvariablen = []\n",
    "\n",
    "    # berechne Distanzen zu allen Kunden\n",
    "    for index, trainkunde in t_train.iterrows():\n",
    "\n",
    "        ids.append( index )\n",
    "        distanzen.append( d(testkunde, trainkunde) )\n",
    "        zielvariablen.append( trainkunde[\"TravelInsurance\"] )\n",
    "\n",
    "    # erstelle Tabelle mit den Ergebnissen\n",
    "    dic = {\"Trainkunde ID\": ids,\n",
    "           \"Distanz zu Testkunde\": distanzen,\n",
    "           \"Hat Trainkunde Versicherung gekauft?\": zielvariablen}\n",
    "    V = pandas.DataFrame( dic )\n",
    "\n",
    "    # suche nach den k nächsten Nachbarn\n",
    "    V_sortiert_nach_Distanzen = V.sort_values(\"Distanz zu Testkunde\")\n",
    "    vorhersage = V_sortiert_nach_Distanzen[\"Hat Trainkunde Versicherung gekauft?\"][:k].mean()\n",
    "    \n",
    "    # Vorhersage, d.h. Wahrscheinlichkeit für Kauf der Reiserversicherungen, zurückgeben\n",
    "    return vorhersage"
   ]
  },
  {
   "cell_type": "code",
   "execution_count": 81,
   "id": "04f12aa6-eeba-414e-b500-47fb6db9db43",
   "metadata": {},
   "outputs": [
    {
     "data": {
      "text/plain": [
       "0.8666666666666667"
      ]
     },
     "execution_count": 81,
     "metadata": {},
     "output_type": "execute_result"
    }
   ],
   "source": [
    "praediziere_einen_kunden(testkunde)"
   ]
  },
  {
   "cell_type": "markdown",
   "id": "3afd45e0-b606-4f67-aabc-498f34345434",
   "metadata": {},
   "source": [
    "## Quiz: Vorhersagen für alle Testkunden\n",
    "\n",
    "Durchlaufe alle Testkunden. Für jeden Testkunden prädiziere seine Kaufentscheidung unter Zuhilfename der gerade erstellen Hilfsfunktion `praediziere_einen_kunden()`, die für einen einzelnen Testkunden die Prädiktion durchführt.\n",
    "\n",
    "Wie gut ist das Modell im Durchschnitt bei der Vorhersage, ob ein Kunde die Reiseversicherung kaufen wird?\n",
    "\n",
    "Lösung:"
   ]
  },
  {
   "cell_type": "code",
   "execution_count": 82,
   "id": "271c405a-93a2-4df7-8aba-3f6930a41845",
   "metadata": {},
   "outputs": [],
   "source": [
    "def praediziere_alle_kunden():\n",
    "\n",
    "    N = len(t_test)\n",
    "    print(N)\n",
    "    print( f\"Auswertung der Modellgüte auf insgesamt {N} Testkunden:\" )\n",
    "\n",
    "    test_kunde_nr = 0\n",
    "    korrekt_vorhergesagt = 0\n",
    "    for index_test, testkunde in t_test.iterrows():\n",
    "\n",
    "        # Wenn weniger als 50% der k ähnlichsten Nachbarn\n",
    "        # die Reiseversicherung gekauft haben,\n",
    "        # dann sagen wir, dass auch dieser Testkunde die\n",
    "        # Versicherung nicht kaufen wird (0)\n",
    "        # ansonsten sagen wir vorher, dass er sie kaufen wird (1)\n",
    "        vorhersage = 0 if praediziere_einen_kunden(testkunde) < 0.5 else 1\n",
    "\n",
    "        # wie war tatsaechlich das Ergebnis?\n",
    "        tatsaechlich = testkunde[\"TravelInsurance\"]\n",
    "\n",
    "        print( f\"Testkunde #{test_kunde_nr}: {vorhersage:.2f} vs. {tatsaechlich}\" )       \n",
    "\n",
    "        if vorhersage == tatsaechlich:\n",
    "            korrekt_vorhergesagt += 1\n",
    "\n",
    "        test_kunde_nr +=1\n",
    "\n",
    "    print(\"\\nErgebnis zur Auswertung der Modellgüte:\")\n",
    "    KKR = (korrekt_vorhergesagt/N)*100\n",
    "    print( f\"Von {N} Testkunden konnten wir {korrekt_vorhergesagt} Mal\" )\n",
    "    print(  \"die Verkaufsentscheidung korrekt vorhersagen.\" )\n",
    "    print( f\"Das entspricht einer Korrektklassifikationsrate (KKR) von {KKR} Prozent\" )"
   ]
  },
  {
   "cell_type": "code",
   "execution_count": 83,
   "id": "96b544b4-92bf-4834-8d71-936ae1f37a88",
   "metadata": {},
   "outputs": [],
   "source": [
    "#praediziere_alle_kunden()"
   ]
  },
  {
   "cell_type": "markdown",
   "id": "ce64d090-140a-4271-a761-4d759f3cebff",
   "metadata": {},
   "source": [
    "## Quiz: weniger Merkmale\n",
    "\n",
    "Verändere nochmal die Distanzfunktion `d()`, die zwei Kunden vergleicht. Nehme dabei nur zwei ausgewählte Merkmale statt alle. Wie verändert sich dann die KKR auf dem Testdatensatz?\n",
    "\n",
    "Lösung:\n",
    "\n",
    "Nehmen wir beispielsweise mal nur das Alter und die Information, ob der Kunde schon früher mal im Ausland war. Was ergibt sich dann für eine Korrekt-Klassifikationsrate (KKR)?"
   ]
  },
  {
   "cell_type": "code",
   "execution_count": 84,
   "id": "911ca2f2-68a8-4a4b-95d0-f05ae3171a23",
   "metadata": {},
   "outputs": [],
   "source": [
    "def d(kunde1, kunde2):\n",
    "    \n",
    "    kunde1_alter = kunde1[\"Age\"] / t_train[\"Age\"].max()\n",
    "    kunde2_alter = kunde2[\"Age\"] / t_train[\"Age\"].max()\n",
    "    diff_alter = abs(kunde1_alter - kunde2_alter)\n",
    "\n",
    "    diff_schonausland = abs(kunde1[\"EverTravelledAbroad_Yes\"] - kunde2[\"EverTravelledAbroad_Yes\"])\n",
    "       \n",
    "    # Bilde Durchschnitt über die Abstände\n",
    "    unterschied = 1/2 * (diff_alter + diff_schonausland)\n",
    "    \n",
    "    return unterschied"
   ]
  },
  {
   "cell_type": "code",
   "execution_count": 85,
   "id": "1ccc5490-243a-4816-8cfe-21c71ed7bafd",
   "metadata": {},
   "outputs": [],
   "source": [
    "#praediziere_alle_kunden()"
   ]
  },
  {
   "cell_type": "markdown",
   "id": "f5398e73-d2b3-4d59-9bd1-e875b21a247b",
   "metadata": {},
   "source": [
    "Fazit: Die Korrekt-Klassifikationsrate (KKR) ist um ein gutes Stück gesunken!"
   ]
  },
  {
   "cell_type": "markdown",
   "id": "6481467a-53af-4abc-abdd-a2c3c73ee979",
   "metadata": {},
   "source": [
    "## Fazit zur Modellgüte"
   ]
  },
  {
   "cell_type": "markdown",
   "id": "0691398a-f98d-424a-b02b-d728324c8dda",
   "metadata": {},
   "source": [
    "Ist unser Ergbnis bei Verwendung der Distanzfunktion `d()` mit allen Merkmalen gut?\n",
    "\n",
    "Ein Vergleich mit diesem öffentlichen Notebook zu diesem Datensatz\n",
    "\n",
    "https://www.kaggle.com/shailesh2692/gradient-boosting-prediction-83-42-accuracy\n",
    "\n",
    "zeigt, dass auch moderne Verfahren wie \"Extreme Gradient Boosting\" nicht viel besser sind (KKR dort: 83.42%).\n",
    "\n",
    "k-NN muss sich also nicht verstecken, auch wenn es ein überraschend einfaches Verfahren ist!"
   ]
  },
  {
   "cell_type": "markdown",
   "id": "294ab798-8eec-47e0-8a63-556cf6a0bda4",
   "metadata": {},
   "source": [
    "# Der finale Code im Überblick\n",
    "\n",
    "Hier wollen wir nochmal den ganzen erarbeiteten Code in einer einzige Zelle zusammenfassen.\n",
    "\n",
    "Das ist also eine eigene Implementierung eines k-NN Klassifikators.\n",
    "\n",
    "Die Implementierung ist auch noch leicht verändert: statt das Maximum für die Merkmale Alter, Einkommen und Familienmitgliederanzahl immer wieder neu zu berechnen, wird dies jetzt nur einmal gemacht."
   ]
  },
  {
   "cell_type": "code",
   "execution_count": 86,
   "id": "be8dc132-feba-4925-9ab1-a635245874c8",
   "metadata": {},
   "outputs": [],
   "source": [
    "import pandas\n",
    "import numpy as np\n",
    "\n",
    "def daten_laden_und_aufbereiten():\n",
    "    # 1. Beispieldaten einlesen\n",
    "    t = pandas.read_csv(\"TravelInsurancePrediction.csv\")\n",
    "    \n",
    "    # 2. Nicht benötigte Spalte entfernen\n",
    "    t = t.drop( \"Unnamed: 0\", axis=1)\n",
    "    \n",
    "    # 3. Beispieldaten durchmischen\n",
    "    t = t.sample(frac=1.0)\n",
    "    \n",
    "    # 4. Beispieldaten aufteilen in 80%\n",
    "    #    Trainings- und 20% Testdaten\n",
    "    N = len(t)\n",
    "    N_train = int(0.8*N)\n",
    "    N_test = N-N_train    \n",
    "    t_train = t.iloc[0:N_train]\n",
    "    t_test  = t.iloc[N_train:]\n",
    "    \n",
    "    # 5. Kategoriale Merkmale in Zahlen umwandeln\n",
    "    t_train = pandas.get_dummies(t_train)\n",
    "    t_test  = pandas.get_dummies(t_test)\n",
    "    \n",
    "    return t_test, t_train\n",
    "    \n",
    "\n",
    "def d(kunde1, kunde2):\n",
    "    \n",
    "    kunde1_alter = kunde1[\"Age\"] / max_alter\n",
    "    kunde2_alter = kunde2[\"Age\"] / max_alter\n",
    "    diff_alter = abs(kunde1_alter - kunde2_alter)\n",
    "\n",
    "    kunde1_einkommen = kunde1[\"AnnualIncome\"] / max_einkommen\n",
    "    kunde2_einkommen = kunde2[\"AnnualIncome\"] / max_einkommen\n",
    "    diff_einkommen = abs(kunde1_einkommen - kunde2_einkommen)\n",
    "    \n",
    "    kunde1_familie = kunde1[\"FamilyMembers\"] / max_familie\n",
    "    kunde2_familie = kunde2[\"FamilyMembers\"] / max_familie\n",
    "    diff_familie = abs(kunde1_familie - kunde2_familie)\n",
    "    \n",
    "    diff_krankheit = abs(kunde1[\"ChronicDiseases\"] - kunde2[\"ChronicDiseases\"])\n",
    "    \n",
    "    # die ehemals kategorialen Mermale sind nun numerische Merkmale mit\n",
    "    # möglichen Werten {0,1} \n",
    "    diff_anstellung   = abs(kunde1[\"Employment Type_Government Sector\"] - kunde2[\"Employment Type_Government Sector\"])\n",
    "    diff_akademiker   = abs(kunde1[\"GraduateOrNot_Yes\"]                 - kunde2[\"GraduateOrNot_Yes\"])\n",
    "    diff_vielflieger  = abs(kunde1[\"FrequentFlyer_Yes\"]                 - kunde2[\"FrequentFlyer_Yes\"])\n",
    "    diff_schonausland = abs(kunde1[\"EverTravelledAbroad_Yes\"]           - kunde2[\"EverTravelledAbroad_Yes\"])\n",
    "    \n",
    "    # Bilde Durchschnitt über die Abstände\n",
    "    unterschied = 1/8 * (diff_alter +\n",
    "                         diff_einkommen +\n",
    "                         diff_familie +\n",
    "                         diff_krankheit +\n",
    "                         diff_anstellung +\n",
    "                         diff_vielflieger +\n",
    "                         diff_schonausland)\n",
    "    \n",
    "    return unterschied\n",
    "\n",
    "\n",
    "def praediziere_einen_kunden(testkunde, t_train, k=15):\n",
    "\n",
    "    ids = []\n",
    "    distanzen = []\n",
    "    zielvariablen = []\n",
    "    for index, trainkunde in t_train.iterrows():\n",
    "        ids.append( index )\n",
    "        distanzen.append( d(testkunde, trainkunde) )\n",
    "        zielvariablen.append( trainkunde[\"TravelInsurance\"] )\n",
    "\n",
    "    dic = {\"Trainkunde ID\": ids,\n",
    "           \"Distanz zu Testkunde\": distanzen,\n",
    "           \"Hat Trainkunde Versicherung gekauft?\": zielvariablen}\n",
    "    V = pandas.DataFrame( dic )\n",
    "    V_sortiert_nach_Distanzen = V.sort_values(\"Distanz zu Testkunde\")\n",
    "    vorhersage = V_sortiert_nach_Distanzen[\"Hat Trainkunde Versicherung gekauft?\"][:k].mean()\n",
    "    return vorhersage\n",
    "\n",
    "\n",
    "def praediziere_alle_kunden(t_test, t_train):\n",
    "\n",
    "    N = len(t_test)\n",
    "    print( f\"Auswertung der Modellgüte auf insgesamt {N} Testkunden:\" )\n",
    "    test_kunde_nr = 0\n",
    "    korrekt_vorhergesagt = 0\n",
    "    for index_test, testkunde in t_test.iterrows():\n",
    "        vorhersage = 0 if praediziere_einen_kunden(testkunde, t_train) < 0.5 else 1\n",
    "        tatsaechlich = testkunde[\"TravelInsurance\"]\n",
    "        if vorhersage == tatsaechlich:\n",
    "            korrekt_vorhergesagt += 1\n",
    "            print(\"K\", end=\" \")\n",
    "        else:\n",
    "            print(\"F\", end=\" \")\n",
    "        test_kunde_nr +=1\n",
    "\n",
    "    KKR = (korrekt_vorhergesagt/N)*100\n",
    "    print(\"\\nErgebnis zur Auswertung der Modellgüte:\")\n",
    "    print( f\"Von {N} Testkunden konnten wir {korrekt_vorhergesagt} Mal\" )\n",
    "    print(  \"die Verkaufsentscheidung korrekt vorhersagen.\" )\n",
    "    print( f\"Das entspricht einer Korrektklassifikationsrate (KKR) von {KKR} Prozent\" )"
   ]
  },
  {
   "cell_type": "code",
   "execution_count": 87,
   "id": "36e08870-d8aa-49b0-9252-ab9fa98d8869",
   "metadata": {},
   "outputs": [],
   "source": [
    "t_test, t_train = daten_laden_und_aufbereiten()\n",
    "max_alter     = t_train[\"Age\"].max()\n",
    "max_einkommen = t_train[\"AnnualIncome\"].max()\n",
    "max_familie   = t_train[\"FamilyMembers\"].max()\n",
    "#praediziere_alle_kunden(t_test, t_train)"
   ]
  },
  {
   "cell_type": "markdown",
   "id": "dfa7038c-68eb-419a-9753-8995d0f6551f",
   "metadata": {},
   "source": [
    "# KNN mit scikit-learn\n",
    "\n",
    "Bisher haben wir den KNN-Klassifikator selber in Python geschrieben. Dieses Verfahren und auch noch viele andere sind aber auch in der Machine Learning Bibliothek *scikit-learn* enthalten.\n",
    "\n",
    "Für einen Überblick über die zur Verfügung stehenden Machine Learning Verfahren zur Klassifikation und Regression, siehe:\n",
    "\n",
    "https://scikit-learn.org\n",
    "\n",
    "Dort kannst du auch Nearest Neighbor Verfahren finden. Jetzt haben wir aber das Verfahren doch schon selber implementiert! Wieso sollten wir aber doch lieber *scikit-learn* verwenden? Dafür gibt es mehrere Gründe."
   ]
  },
  {
   "cell_type": "markdown",
   "id": "3fd3f173-b85b-4998-97dc-f7b7a3c3c9e0",
   "metadata": {},
   "source": [
    "## Wieso scikit-learn?\n",
    "\n",
    "Ein Grund ist sicherlich die Zuverlässigkeit. Die Verfahren in *sckit-learn* werden von tausenden von *Machine Learning Engineers* auf der ganzen Welt verwendet und sind gut durchgetestet. Eine eigene Implementierung ist dagegen mit hoher Wahrscheinlichkeit noch fehlerbehaftet.\n",
    "\n",
    "Der Hauptgrund ist die aber Effizienz. Die Verfahren dort speichern die Beispieldatenpunkte nicht einfach in einer langen Liste. So eine einfache Datenstruktur kommt der Aufgabe immer wieder nach ähnlichen Datenpunkten zu suchen nämlich nicht entgegegen. Daher war unsere Implementierung des k-NN Klassifikators auch sehr langsam. In der Informatik gibt es effiziente Datenstrukturen, die die Datenpunkte so speichern, dass man später sehr schnell den nächsten Nachbarn bzw. die k nächsten Nachbarn in der Menge der Beispieldatenpukte für einen neuen Datenpunkt finden kann.\n",
    "\n",
    "Diese Verfahren heißen *k-d-Baum* (bzw. Englisch: *k-d-tree*) oder *Ball tree* und werden von scikit-learn automatisch verwendet."
   ]
  },
  {
   "cell_type": "markdown",
   "id": "72c10f64-df60-49d6-bcd9-68e65a07dfca",
   "metadata": {},
   "source": [
    "## Daten fürs Machine Learning vorbereiten\n",
    "\n",
    "Lass uns also mal sehen, was wir alles brauchen, um einen k-NN Klassifikator mit scikit-learn auf dem Reisendatensatz umzusetzen.\n",
    "\n",
    "Erstmal\n",
    "\n",
    "- laden wir die Beispieldaten wieder ein\n",
    "- mischen diese durch, um eine mögliche Systematik zu entfernen\n",
    "- wandeln kategorische Spalten in numerische Spalten um\n",
    "- splitten die Beispieldaten in Trainings- und Testdaten auf\n",
    "\n",
    "Das Durchmischen der Daten und Aufsplitten in Trainings- und Testdaten erfolgt nun aber mit Hilfe von scikit-learn. Außerdem müssen wir die Daten auch in Input- und Outputdaten aufbereiten. Dieses Struktur verlangen die meisten Machine Learning Algorithmen:"
   ]
  },
  {
   "cell_type": "code",
   "execution_count": 88,
   "id": "baedd7a4-144b-4271-9f7a-0c6c9e6a657e",
   "metadata": {},
   "outputs": [],
   "source": [
    "# 1. Beispieldaten einlesen\n",
    "t = pandas.read_csv(\"TravelInsurancePrediction.csv\")\n",
    "\n",
    "# 2. Nicht benötigte Spalte entfernen\n",
    "t = t.drop( \"Unnamed: 0\", axis=1)\n",
    "\n",
    "# 3. Kategoriale Merkmale in Zahlen umwandeln\n",
    "t = pandas.get_dummies(t)"
   ]
  },
  {
   "cell_type": "code",
   "execution_count": 89,
   "id": "d3dc42a5-df80-4665-a09b-410408fb3d37",
   "metadata": {},
   "outputs": [
    {
     "data": {
      "text/html": [
       "<div>\n",
       "<style scoped>\n",
       "    .dataframe tbody tr th:only-of-type {\n",
       "        vertical-align: middle;\n",
       "    }\n",
       "\n",
       "    .dataframe tbody tr th {\n",
       "        vertical-align: top;\n",
       "    }\n",
       "\n",
       "    .dataframe thead th {\n",
       "        text-align: right;\n",
       "    }\n",
       "</style>\n",
       "<table border=\"1\" class=\"dataframe\">\n",
       "  <thead>\n",
       "    <tr style=\"text-align: right;\">\n",
       "      <th></th>\n",
       "      <th>Age</th>\n",
       "      <th>AnnualIncome</th>\n",
       "      <th>FamilyMembers</th>\n",
       "      <th>ChronicDiseases</th>\n",
       "      <th>TravelInsurance</th>\n",
       "      <th>Employment Type_Government Sector</th>\n",
       "      <th>Employment Type_Private Sector/Self Employed</th>\n",
       "      <th>GraduateOrNot_No</th>\n",
       "      <th>GraduateOrNot_Yes</th>\n",
       "      <th>FrequentFlyer_No</th>\n",
       "      <th>FrequentFlyer_Yes</th>\n",
       "      <th>EverTravelledAbroad_No</th>\n",
       "      <th>EverTravelledAbroad_Yes</th>\n",
       "    </tr>\n",
       "  </thead>\n",
       "  <tbody>\n",
       "    <tr>\n",
       "      <th>0</th>\n",
       "      <td>31</td>\n",
       "      <td>400000</td>\n",
       "      <td>6</td>\n",
       "      <td>1</td>\n",
       "      <td>0</td>\n",
       "      <td>1</td>\n",
       "      <td>0</td>\n",
       "      <td>0</td>\n",
       "      <td>1</td>\n",
       "      <td>1</td>\n",
       "      <td>0</td>\n",
       "      <td>1</td>\n",
       "      <td>0</td>\n",
       "    </tr>\n",
       "    <tr>\n",
       "      <th>1</th>\n",
       "      <td>31</td>\n",
       "      <td>1250000</td>\n",
       "      <td>7</td>\n",
       "      <td>0</td>\n",
       "      <td>0</td>\n",
       "      <td>0</td>\n",
       "      <td>1</td>\n",
       "      <td>0</td>\n",
       "      <td>1</td>\n",
       "      <td>1</td>\n",
       "      <td>0</td>\n",
       "      <td>1</td>\n",
       "      <td>0</td>\n",
       "    </tr>\n",
       "    <tr>\n",
       "      <th>2</th>\n",
       "      <td>34</td>\n",
       "      <td>500000</td>\n",
       "      <td>4</td>\n",
       "      <td>1</td>\n",
       "      <td>1</td>\n",
       "      <td>0</td>\n",
       "      <td>1</td>\n",
       "      <td>0</td>\n",
       "      <td>1</td>\n",
       "      <td>1</td>\n",
       "      <td>0</td>\n",
       "      <td>1</td>\n",
       "      <td>0</td>\n",
       "    </tr>\n",
       "  </tbody>\n",
       "</table>\n",
       "</div>"
      ],
      "text/plain": [
       "   Age  AnnualIncome  FamilyMembers  ChronicDiseases  TravelInsurance  \\\n",
       "0   31        400000              6                1                0   \n",
       "1   31       1250000              7                0                0   \n",
       "2   34        500000              4                1                1   \n",
       "\n",
       "   Employment Type_Government Sector  \\\n",
       "0                                  1   \n",
       "1                                  0   \n",
       "2                                  0   \n",
       "\n",
       "   Employment Type_Private Sector/Self Employed  GraduateOrNot_No  \\\n",
       "0                                             0                 0   \n",
       "1                                             1                 0   \n",
       "2                                             1                 0   \n",
       "\n",
       "   GraduateOrNot_Yes  FrequentFlyer_No  FrequentFlyer_Yes  \\\n",
       "0                  1                 1                  0   \n",
       "1                  1                 1                  0   \n",
       "2                  1                 1                  0   \n",
       "\n",
       "   EverTravelledAbroad_No  EverTravelledAbroad_Yes  \n",
       "0                       1                        0  \n",
       "1                       1                        0  \n",
       "2                       1                        0  "
      ]
     },
     "execution_count": 89,
     "metadata": {},
     "output_type": "execute_result"
    }
   ],
   "source": [
    "t.head(3)"
   ]
  },
  {
   "cell_type": "code",
   "execution_count": 90,
   "id": "b9903d1b-1cb3-43b4-9ed2-b7f4fc90773c",
   "metadata": {},
   "outputs": [],
   "source": [
    "x = t.drop(\"TravelInsurance\", axis=1)\n",
    "y = t[ \"TravelInsurance\" ]"
   ]
  },
  {
   "cell_type": "code",
   "execution_count": 91,
   "id": "bbc7ca23-d3b2-414e-8cee-80f050060859",
   "metadata": {},
   "outputs": [
    {
     "data": {
      "text/plain": [
       "Index(['Age', 'AnnualIncome', 'FamilyMembers', 'ChronicDiseases',\n",
       "       'Employment Type_Government Sector',\n",
       "       'Employment Type_Private Sector/Self Employed', 'GraduateOrNot_No',\n",
       "       'GraduateOrNot_Yes', 'FrequentFlyer_No', 'FrequentFlyer_Yes',\n",
       "       'EverTravelledAbroad_No', 'EverTravelledAbroad_Yes'],\n",
       "      dtype='object')"
      ]
     },
     "execution_count": 91,
     "metadata": {},
     "output_type": "execute_result"
    }
   ],
   "source": [
    "x.columns"
   ]
  },
  {
   "cell_type": "code",
   "execution_count": 92,
   "id": "02f7a375-3dd8-423d-ac32-b9d254b725cd",
   "metadata": {},
   "outputs": [
    {
     "data": {
      "text/plain": [
       "0       0\n",
       "1       0\n",
       "2       1\n",
       "3       0\n",
       "4       0\n",
       "       ..\n",
       "1982    1\n",
       "1983    0\n",
       "1984    0\n",
       "1985    1\n",
       "1986    0\n",
       "Name: TravelInsurance, Length: 1987, dtype: int64"
      ]
     },
     "execution_count": 92,
     "metadata": {},
     "output_type": "execute_result"
    }
   ],
   "source": [
    "y"
   ]
  },
  {
   "cell_type": "markdown",
   "id": "a8e32566-c099-40f5-808f-98a4cd189453",
   "metadata": {},
   "source": [
    "Jetzt spalten wir in Trainings- und Testdaten auf und durchmischen dabei auch noch zufällig."
   ]
  },
  {
   "cell_type": "code",
   "execution_count": 93,
   "id": "274b1f0b-8106-4c6f-a81b-800b59dd4ec5",
   "metadata": {},
   "outputs": [],
   "source": [
    "from sklearn.model_selection import train_test_split\n",
    "x_train, x_test, y_train, y_test = train_test_split(x, y, test_size = 0.2, random_state = 0)"
   ]
  },
  {
   "cell_type": "code",
   "execution_count": 94,
   "id": "82c6095f-1e13-4599-9c75-f43466b4dc56",
   "metadata": {},
   "outputs": [
    {
     "data": {
      "text/plain": [
       "(1589, 12)"
      ]
     },
     "execution_count": 94,
     "metadata": {},
     "output_type": "execute_result"
    }
   ],
   "source": [
    "x_train.shape"
   ]
  },
  {
   "cell_type": "code",
   "execution_count": 95,
   "id": "55ea0e72-ca9b-470d-b2b1-bcbe6e8023a4",
   "metadata": {},
   "outputs": [
    {
     "data": {
      "text/plain": [
       "(1589,)"
      ]
     },
     "execution_count": 95,
     "metadata": {},
     "output_type": "execute_result"
    }
   ],
   "source": [
    "y_train.shape"
   ]
  },
  {
   "cell_type": "code",
   "execution_count": 96,
   "id": "a0f420db-09d7-484b-aa98-42a815a59943",
   "metadata": {},
   "outputs": [
    {
     "data": {
      "text/html": [
       "<div>\n",
       "<style scoped>\n",
       "    .dataframe tbody tr th:only-of-type {\n",
       "        vertical-align: middle;\n",
       "    }\n",
       "\n",
       "    .dataframe tbody tr th {\n",
       "        vertical-align: top;\n",
       "    }\n",
       "\n",
       "    .dataframe thead th {\n",
       "        text-align: right;\n",
       "    }\n",
       "</style>\n",
       "<table border=\"1\" class=\"dataframe\">\n",
       "  <thead>\n",
       "    <tr style=\"text-align: right;\">\n",
       "      <th></th>\n",
       "      <th>Age</th>\n",
       "      <th>AnnualIncome</th>\n",
       "      <th>FamilyMembers</th>\n",
       "      <th>ChronicDiseases</th>\n",
       "      <th>Employment Type_Government Sector</th>\n",
       "      <th>Employment Type_Private Sector/Self Employed</th>\n",
       "      <th>GraduateOrNot_No</th>\n",
       "      <th>GraduateOrNot_Yes</th>\n",
       "      <th>FrequentFlyer_No</th>\n",
       "      <th>FrequentFlyer_Yes</th>\n",
       "      <th>EverTravelledAbroad_No</th>\n",
       "      <th>EverTravelledAbroad_Yes</th>\n",
       "    </tr>\n",
       "  </thead>\n",
       "  <tbody>\n",
       "    <tr>\n",
       "      <th>159</th>\n",
       "      <td>27</td>\n",
       "      <td>900000</td>\n",
       "      <td>7</td>\n",
       "      <td>1</td>\n",
       "      <td>1</td>\n",
       "      <td>0</td>\n",
       "      <td>0</td>\n",
       "      <td>1</td>\n",
       "      <td>1</td>\n",
       "      <td>0</td>\n",
       "      <td>1</td>\n",
       "      <td>0</td>\n",
       "    </tr>\n",
       "    <tr>\n",
       "      <th>799</th>\n",
       "      <td>31</td>\n",
       "      <td>1200000</td>\n",
       "      <td>3</td>\n",
       "      <td>0</td>\n",
       "      <td>1</td>\n",
       "      <td>0</td>\n",
       "      <td>0</td>\n",
       "      <td>1</td>\n",
       "      <td>1</td>\n",
       "      <td>0</td>\n",
       "      <td>1</td>\n",
       "      <td>0</td>\n",
       "    </tr>\n",
       "  </tbody>\n",
       "</table>\n",
       "</div>"
      ],
      "text/plain": [
       "     Age  AnnualIncome  FamilyMembers  ChronicDiseases  \\\n",
       "159   27        900000              7                1   \n",
       "799   31       1200000              3                0   \n",
       "\n",
       "     Employment Type_Government Sector  \\\n",
       "159                                  1   \n",
       "799                                  1   \n",
       "\n",
       "     Employment Type_Private Sector/Self Employed  GraduateOrNot_No  \\\n",
       "159                                             0                 0   \n",
       "799                                             0                 0   \n",
       "\n",
       "     GraduateOrNot_Yes  FrequentFlyer_No  FrequentFlyer_Yes  \\\n",
       "159                  1                 1                  0   \n",
       "799                  1                 1                  0   \n",
       "\n",
       "     EverTravelledAbroad_No  EverTravelledAbroad_Yes  \n",
       "159                       1                        0  \n",
       "799                       1                        0  "
      ]
     },
     "execution_count": 96,
     "metadata": {},
     "output_type": "execute_result"
    }
   ],
   "source": [
    "x_train.head(2)"
   ]
  },
  {
   "cell_type": "code",
   "execution_count": 97,
   "id": "582f59b1-2aec-437e-99bd-07edc6fcb7a3",
   "metadata": {},
   "outputs": [
    {
     "data": {
      "text/plain": [
       "159    0\n",
       "799    0\n",
       "Name: TravelInsurance, dtype: int64"
      ]
     },
     "execution_count": 97,
     "metadata": {},
     "output_type": "execute_result"
    }
   ],
   "source": [
    "y_train.head(2)"
   ]
  },
  {
   "cell_type": "code",
   "execution_count": 98,
   "id": "ef00bc96-8664-482b-9a44-02f34c6ef315",
   "metadata": {},
   "outputs": [
    {
     "data": {
      "text/plain": [
       "(398, 12)"
      ]
     },
     "execution_count": 98,
     "metadata": {},
     "output_type": "execute_result"
    }
   ],
   "source": [
    "x_test.shape"
   ]
  },
  {
   "cell_type": "code",
   "execution_count": 99,
   "id": "546e537a-86ef-4230-ac78-31cea38a7028",
   "metadata": {},
   "outputs": [
    {
     "data": {
      "text/plain": [
       "(398,)"
      ]
     },
     "execution_count": 99,
     "metadata": {},
     "output_type": "execute_result"
    }
   ],
   "source": [
    "y_test.shape"
   ]
  },
  {
   "cell_type": "markdown",
   "id": "cbcb7851-0dc7-401c-af19-e3df33441e90",
   "metadata": {},
   "source": [
    "## Merkmale standardisieren\n",
    "\n",
    "Standardmäßig verwendet der k-NN Klassifikator von scikit-learn ein Euklidisches Distanzmaß, um den Abstand zwischen zwei Datenpunkten zu berechnen:\n",
    "\n",
    "https://de.wikipedia.org/wiki/Euklidischer_Abstand\n",
    "\n",
    "Wie wir aber schon gelernt haben, macht es hierbei Probleme, wenn die Merkmale in sehr unterschiedlich großen Wertebereichen vorkommen, denn das macht den Vergleich der Merkmale schwierig. Daher führen wir am Anfang eine Normalisierung durch und zwar die z-Transformation:\n",
    "\n",
    "https://de.wikipedia.org/wiki/Standardisierung_(Statistik)\n",
    "\n",
    "Genau genommen handelt es sich eigentlich um eine sogenannte *Studentisierung*\n",
    "\n",
    "https://de.wikipedia.org/wiki/Studentisierung\n",
    "\n",
    "da wir das *arithmetische Mittel* und die *Stichprobenvarianz* (auch: *empirische Varianz*) verwenden und nicht den *Erwartungswert* bzw. die *Varianz* einer Zufallsvariable.\n",
    "\n",
    "Klingt kompliziert? Eigentlich machen wir nichts anderes als nur den Mittwert µ von jedem Datenpunkt abzuziehen (wir *zentrieren* die Datenpunkte) und teilen dann durch eine Standardabweichung σ (Wurzel aus der Stichprobenvarianz), d.h. skalieren die Datenpunkte, damit die somit neu erhaltenen Datenpunkte einen Mittelwert von 0 und eine Standardabweichung von 1 haben:\n",
    "       \n",
    "           x - µ\n",
    "    z =  ---------\n",
    "             σ\n",
    "             \n",
    "Konkret geht das mit Hilfe des *StandardScaler* von scikit-learn:"
   ]
  },
  {
   "cell_type": "code",
   "execution_count": 100,
   "id": "edb2116d-3c20-48e7-8f39-5b8843da791e",
   "metadata": {},
   "outputs": [
    {
     "data": {
      "text/plain": [
       "(1589, 12)"
      ]
     },
     "execution_count": 100,
     "metadata": {},
     "output_type": "execute_result"
    }
   ],
   "source": [
    "from sklearn.preprocessing import StandardScaler\n",
    "scaler = StandardScaler()\n",
    "x_train_scaled = scaler.fit_transform(x_train)\n",
    "x_train.shape"
   ]
  },
  {
   "cell_type": "code",
   "execution_count": 101,
   "id": "3f31f1cd-fbae-4b6f-a5f9-ab3a0cd25b6f",
   "metadata": {},
   "outputs": [
    {
     "data": {
      "text/plain": [
       "array([-0.90922885, -0.05365604,  1.38182856,  1.6083866 ,  1.55473609,\n",
       "       -1.55473609, -0.41452251,  0.41452251,  0.4913311 , -0.4913311 ,\n",
       "        0.48242985, -0.48242985])"
      ]
     },
     "execution_count": 101,
     "metadata": {},
     "output_type": "execute_result"
    }
   ],
   "source": [
    "x_train_scaled[0]"
   ]
  },
  {
   "cell_type": "markdown",
   "id": "b4f67449-89eb-42f4-811f-77db11a8ace1",
   "metadata": {},
   "source": [
    "Wir können jetzt mal nachschauen, ob wirklich die einzelnen Merkmale nach der Skalierungn einen Mittelwert von 0 haben. Nehmen wir mal die erste Spalte, d.h. das Alter:"
   ]
  },
  {
   "cell_type": "code",
   "execution_count": 102,
   "id": "35a9f23e-605f-40f7-a25c-0f3fc7a7fcac",
   "metadata": {},
   "outputs": [
    {
     "data": {
      "text/plain": [
       "-9.837596089818883e-17"
      ]
     },
     "execution_count": 102,
     "metadata": {},
     "output_type": "execute_result"
    }
   ],
   "source": [
    "x_train_scaled[:,0].mean()"
   ]
  },
  {
   "cell_type": "markdown",
   "id": "c3e1c1b5-e1cb-403a-8932-64dd2d9cd899",
   "metadata": {},
   "source": [
    "Und wie ist die Standardabweichung dieser skalierten Alterswert?"
   ]
  },
  {
   "cell_type": "code",
   "execution_count": 103,
   "id": "88759a0d-6cde-471c-bd2f-7a2b3fa0a1e4",
   "metadata": {},
   "outputs": [
    {
     "data": {
      "text/plain": [
       "1.0"
      ]
     },
     "execution_count": 103,
     "metadata": {},
     "output_type": "execute_result"
    }
   ],
   "source": [
    "x_train_scaled[:,0].std()"
   ]
  },
  {
   "cell_type": "markdown",
   "id": "237391fc-0458-43e3-8674-3dc0e07a2efc",
   "metadata": {},
   "source": [
    "Passt also! Der Mittelwert ist quasi 0 und die Standardabweichung 1."
   ]
  },
  {
   "cell_type": "markdown",
   "id": "209fd8d0-0c5e-4929-8e06-f2b4cb1a0828",
   "metadata": {},
   "source": [
    "Für den späteren Test müssen wir aber auch die Testpunkte noch skalieren. Dazu nehmen wir die Mittelwerte und die Standardabweichungen der Merkmale der Trainingsdaten und nicht der Testdaten!"
   ]
  },
  {
   "cell_type": "code",
   "execution_count": 104,
   "id": "ab7775ba-68ab-465c-a2b0-451da92fc37a",
   "metadata": {},
   "outputs": [
    {
     "data": {
      "text/plain": [
       "(398, 12)"
      ]
     },
     "execution_count": 104,
     "metadata": {},
     "output_type": "execute_result"
    }
   ],
   "source": [
    "x_test_scaled = scaler.transform(x_test)\n",
    "x_test_scaled.shape"
   ]
  },
  {
   "cell_type": "code",
   "execution_count": 105,
   "id": "747c8383-fc59-4e38-8dc4-5c71c91de88b",
   "metadata": {},
   "outputs": [
    {
     "data": {
      "text/plain": [
       "array([ 1.48276559,  1.54495864,  0.13919948,  1.6083866 , -0.64319598,\n",
       "        0.64319598, -0.41452251,  0.41452251, -2.03528741,  2.03528741,\n",
       "       -2.07284024,  2.07284024])"
      ]
     },
     "execution_count": 105,
     "metadata": {},
     "output_type": "execute_result"
    }
   ],
   "source": [
    "x_test_scaled[0]"
   ]
  },
  {
   "cell_type": "markdown",
   "id": "7caa101a-d5b2-476a-8be6-37d1804b3f71",
   "metadata": {},
   "source": [
    "## k-NN Klassifikator mit scikit-learn\n",
    "\n",
    "Jetzt können wir sehr einfach einen k-NN Klassifikator mit scikit-learn erzeugen:"
   ]
  },
  {
   "cell_type": "code",
   "execution_count": 106,
   "id": "ac156273-76b1-4c6c-828b-69e461534e9b",
   "metadata": {},
   "outputs": [],
   "source": [
    "from sklearn.neighbors import KNeighborsClassifier\n",
    "\n",
    "knn = KNeighborsClassifier(n_neighbors=15, weights=\"uniform\")\n",
    "\n",
    "knn = knn.fit(x_train_scaled, y_train)"
   ]
  },
  {
   "cell_type": "markdown",
   "id": "20050d8e-eea1-4fc7-a1e2-d668a8749d06",
   "metadata": {},
   "source": [
    "Bei `weights=uniform` werden alle k Nachbarn gleich stark gewichtet. Bei `weights=distance` werden die k Nachbarn so gewichtet, dass nähere Beispielpunkte auch ein größeres Gewicht erhalten, d.h. das Gewicht ist invers proportional zur Distanz zwischen Testpunkt und Beispielpunkt.\n",
    "\n",
    "Prädizieren können wir nun mit der `predict()` Methode:"
   ]
  },
  {
   "cell_type": "code",
   "execution_count": 107,
   "id": "af7b5f2f-66d9-4734-bbc9-8b68af519837",
   "metadata": {},
   "outputs": [
    {
     "data": {
      "text/plain": [
       "array([1, 0, 0, 1, 0, 1, 1, 0, 0, 0, 1, 0, 0, 0, 0, 1, 1, 0, 0, 0, 0, 1,\n",
       "       0, 0, 1, 0, 0, 0, 0, 1, 1, 0, 0, 0, 0, 0, 0, 0, 0, 0, 0, 0, 0, 0,\n",
       "       0, 0, 1, 0, 1, 0])"
      ]
     },
     "execution_count": 107,
     "metadata": {},
     "output_type": "execute_result"
    }
   ],
   "source": [
    "y_pred_test = knn.predict( x_test_scaled )\n",
    "y_pred_test[:50]"
   ]
  },
  {
   "cell_type": "markdown",
   "id": "7d88c2f7-9b7e-44c5-8232-6978cf4322ec",
   "metadata": {},
   "source": [
    "## Modellgüte bestimmen\n",
    "\n",
    "Jetzt können wir auch die Modellgüte bestimmen. Wie viele der Klassifikationen sind richtig?"
   ]
  },
  {
   "cell_type": "code",
   "execution_count": 108,
   "id": "f7e7ebf4-ee07-4a5a-9b20-4fda32027140",
   "metadata": {},
   "outputs": [
    {
     "data": {
      "text/plain": [
       "array([1, 0, 1, 0, 0, 1, 1, 0, 0, 1, 1, 0, 0, 0, 0, 1, 1, 1, 0, 0, 0, 1,\n",
       "       0, 0, 1, 0, 1, 0, 0, 1, 1, 1, 1, 0, 0, 0, 0, 0, 1, 0, 0, 1, 0, 1,\n",
       "       0, 1, 0, 0, 1, 1])"
      ]
     },
     "execution_count": 108,
     "metadata": {},
     "output_type": "execute_result"
    }
   ],
   "source": [
    "y_test.values[:50]"
   ]
  },
  {
   "cell_type": "code",
   "execution_count": 109,
   "id": "12073419-0bc7-4fda-aabb-0b95ee67801f",
   "metadata": {},
   "outputs": [
    {
     "data": {
      "text/plain": [
       "array([0, 0, 1, 1, 0, 0, 0, 0, 0, 1, 0, 0, 0, 0, 0, 0, 0, 1, 0, 0, 0, 0,\n",
       "       0, 0, 0, 0, 1, 0, 0, 0, 0, 1, 1, 0, 0, 0, 0, 0, 1, 0, 0, 1, 0, 1,\n",
       "       0, 1, 1, 0, 0, 1])"
      ]
     },
     "execution_count": 109,
     "metadata": {},
     "output_type": "execute_result"
    }
   ],
   "source": [
    "errors = abs(y_test.values - y_pred_test)\n",
    "errors[:50]"
   ]
  },
  {
   "cell_type": "code",
   "execution_count": 110,
   "id": "bfef57e6-7f71-4336-a694-4756f4f8d286",
   "metadata": {},
   "outputs": [
    {
     "data": {
      "text/plain": [
       "0.20603015075376885"
      ]
     },
     "execution_count": 110,
     "metadata": {},
     "output_type": "execute_result"
    }
   ],
   "source": [
    "errors.mean()"
   ]
  },
  {
   "cell_type": "markdown",
   "id": "badda462-0e6d-4a23-a63a-2726a8826d86",
   "metadata": {},
   "source": [
    "D.h. in nur 20% der Fälle war die Klassifikation falsch bzw. in"
   ]
  },
  {
   "cell_type": "code",
   "execution_count": 111,
   "id": "86117494-e3ec-49e6-a477-3bea4b25f78a",
   "metadata": {},
   "outputs": [
    {
     "data": {
      "text/plain": [
       "79.39698492462311"
      ]
     },
     "execution_count": 111,
     "metadata": {},
     "output_type": "execute_result"
    }
   ],
   "source": [
    "(1 - errors.mean())*100"
   ]
  },
  {
   "cell_type": "markdown",
   "id": "91685bc0-6b48-4086-b056-aa05da433f42",
   "metadata": {},
   "source": [
    "Prozent der Fälle richtig.\n",
    "\n",
    "Einfacher kann man die Genauigkeit eines Klassifikators bei Vorliegen von Prädiktionen und Ground-Truth-Daten auch so berechnen lassen:"
   ]
  },
  {
   "cell_type": "code",
   "execution_count": 112,
   "id": "130a8bb8-eace-481d-8406-b877c0c6a2f3",
   "metadata": {},
   "outputs": [
    {
     "data": {
      "text/plain": [
       "0.7939698492462312"
      ]
     },
     "execution_count": 112,
     "metadata": {},
     "output_type": "execute_result"
    }
   ],
   "source": [
    "from sklearn.metrics import accuracy_score\n",
    "\n",
    "accuracy_score(y_test.values, y_pred_test)"
   ]
  },
  {
   "cell_type": "markdown",
   "id": "a94d8665-70bc-4ce2-942f-eed70d240d9c",
   "metadata": {},
   "source": [
    "## Alles in einer Codezelle\n",
    "\n",
    "Mit Hilfe von scikit-learn können wir also sehr rasch einen Klassifikator erlernen und anwenden:"
   ]
  },
  {
   "cell_type": "code",
   "execution_count": 113,
   "id": "a8627411-869a-4793-b7d4-02d9ac192b81",
   "metadata": {},
   "outputs": [
    {
     "name": "stdout",
     "output_type": "stream",
     "text": [
      "KKR Klassifikator: 0.7939698492462312\n"
     ]
    }
   ],
   "source": [
    "# 1. Beispieldaten einlesen\n",
    "import pandas\n",
    "t = pandas.read_csv(\"TravelInsurancePrediction.csv\")\n",
    "\n",
    "# 2. Nicht benötigte Spalte entfernen\n",
    "t = t.drop( \"Unnamed: 0\", axis=1)\n",
    "\n",
    "# 3. Kategoriale Merkmale in Zahlen umwandeln\n",
    "t = pandas.get_dummies(t)\n",
    "\n",
    "# 4. Aufspaltung in Inputdaten x und Outputdaten y\n",
    "x = t.drop(\"TravelInsurance\", axis=1)\n",
    "y = t[ \"TravelInsurance\" ]\n",
    "\n",
    "# 5. Aufspaltung in Trainings- und Testdaten\n",
    "from sklearn.model_selection import train_test_split\n",
    "x_train, x_test, y_train, y_test = train_test_split(x, y, test_size = 0.2, random_state = 0)\n",
    "\n",
    "# 6. Standardisierung der Daten\n",
    "from sklearn.preprocessing import StandardScaler\n",
    "scaler = StandardScaler()\n",
    "x_train_scaled = scaler.fit_transform(x_train)\n",
    "x_test_scaled = scaler.transform(x_test)\n",
    "\n",
    "# 7. k-NN Klassifikator erlernen\n",
    "from sklearn.neighbors import KNeighborsClassifier\n",
    "knn = KNeighborsClassifier(n_neighbors=15, weights=\"uniform\")\n",
    "knn = knn.fit(x_train_scaled, y_train)\n",
    "\n",
    "# 8. k-NN Klassifikator testen\n",
    "from sklearn.metrics import accuracy_score\n",
    "y_pred_test = knn.predict( x_test_scaled )\n",
    "KKR = accuracy_score(y_test.values, y_pred_test)\n",
    "print( f\"KKR Klassifikator: {KKR}\" )"
   ]
  },
  {
   "cell_type": "markdown",
   "id": "6aef7b0b-98c0-4499-b3e1-f8499d91b990",
   "metadata": {},
   "source": [
    "Beachte, dass der resultierende Code viel kompakter ist und wieviel schneller die scikit-learn Implementierung gegenüber unserer eigenen Implementierung ist!"
   ]
  },
  {
   "cell_type": "markdown",
   "id": "3d77016a-4de4-4554-9b81-8f8a1e3fe082",
   "metadata": {},
   "source": [
    "## Modell speichern\n",
    "\n",
    "Zuerst speichern wir den Klassifikator und den Skalierer:"
   ]
  },
  {
   "cell_type": "code",
   "execution_count": 114,
   "id": "bed006c8-5ce3-46fe-8ac4-8a1b94b332f2",
   "metadata": {},
   "outputs": [
    {
     "data": {
      "text/plain": [
       "['knn_und_skalierer.joblib']"
      ]
     },
     "execution_count": 114,
     "metadata": {},
     "output_type": "execute_result"
    }
   ],
   "source": [
    "from joblib import dump\n",
    "dump( (knn, scaler), \"knn_und_skalierer.joblib\")"
   ]
  },
  {
   "cell_type": "markdown",
   "id": "06177a01-fcb5-49f7-859c-4d868686e07c",
   "metadata": {},
   "source": [
    "## Modell wiederherstellen und anwenden\n",
    "\n",
    "Wenn wir mit einem frischen Python-Interpreter starten, können wir folgendermaßen das trainierte scikit-Modell wieder verwenden. Zuerst laden wir das Modell und den Skalierer aus der Datei:"
   ]
  },
  {
   "cell_type": "code",
   "execution_count": 115,
   "id": "a402d154-ecd0-4f1c-af23-648f6c39927c",
   "metadata": {},
   "outputs": [],
   "source": [
    "from joblib import load\n",
    "knn, scaler = load(\"knn_und_skalierer.joblib\")"
   ]
  },
  {
   "cell_type": "code",
   "execution_count": 116,
   "id": "d042b27c-9baa-43ba-8e77-097876624011",
   "metadata": {},
   "outputs": [
    {
     "data": {
      "text/plain": [
       "sklearn.neighbors._classification.KNeighborsClassifier"
      ]
     },
     "execution_count": 116,
     "metadata": {},
     "output_type": "execute_result"
    }
   ],
   "source": [
    "type(knn)"
   ]
  },
  {
   "cell_type": "code",
   "execution_count": 117,
   "id": "1548caed-1f90-4d2e-a686-71cb5dc328dd",
   "metadata": {},
   "outputs": [
    {
     "data": {
      "text/plain": [
       "sklearn.preprocessing._data.StandardScaler"
      ]
     },
     "execution_count": 117,
     "metadata": {},
     "output_type": "execute_result"
    }
   ],
   "source": [
    "type(scaler)"
   ]
  },
  {
   "cell_type": "markdown",
   "id": "13118238-86d1-4eff-a4d6-46220eac29a1",
   "metadata": {},
   "source": [
    "Jetzt bereiten wir einen einzelnen Anfragevektor vor:"
   ]
  },
  {
   "cell_type": "code",
   "execution_count": 118,
   "id": "d2c138a4-12ef-4a91-b1a7-c558f577434b",
   "metadata": {},
   "outputs": [
    {
     "data": {
      "text/plain": [
       "array([    31, 400000,      6,      1,      1,      0,      0,      1,\n",
       "            0,      1,      0,      1])"
      ]
     },
     "execution_count": 118,
     "metadata": {},
     "output_type": "execute_result"
    }
   ],
   "source": [
    "import numpy as np\n",
    "age = 31\n",
    "annual_income = 400000\n",
    "family_members = 6\n",
    "chronic_diseases = 1\n",
    "employment_gov = 1\n",
    "employment_prv = 0\n",
    "graduate_no = 0\n",
    "graduate_yes = 1\n",
    "frequent_flyer_no = 0 \n",
    "frequent_flyer_yes = 1\n",
    "abroad_no = 0\n",
    "abroad_yes = 1\n",
    "input_vec = np.array([age,\n",
    "                      annual_income,\n",
    "                      family_members,\n",
    "                      chronic_diseases,\n",
    "                      employment_gov,\n",
    "                      employment_prv,\n",
    "                      graduate_no,\n",
    "                      graduate_yes,\n",
    "                      frequent_flyer_no,\n",
    "                      frequent_flyer_yes,\n",
    "                      abroad_no,\n",
    "                      abroad_yes])\n",
    "input_vec"
   ]
  },
  {
   "cell_type": "markdown",
   "id": "dd07d2cb-f926-4891-82c2-120ebef84598",
   "metadata": {},
   "source": [
    "Unsere Datenpunkte sind im kNN-Klassifikator standardisiert abgespeichert, daher müssen wir auch unseren Inputvektor erstmal standardisieren:"
   ]
  },
  {
   "cell_type": "code",
   "execution_count": 119,
   "id": "0e57ca2f-4fd9-48f9-ac66-e6f6d9bb6c8a",
   "metadata": {},
   "outputs": [
    {
     "name": "stderr",
     "output_type": "stream",
     "text": [
      "/home/juebrauer/.local/share/virtualenvs/central-kQZYXD-3/lib/python3.8/site-packages/sklearn/base.py:450: UserWarning: X does not have valid feature names, but StandardScaler was fitted with feature names\n",
      "  warnings.warn(\n"
     ]
    },
    {
     "data": {
      "text/plain": [
       "array([[ 0.45762512, -1.38583494,  0.76051402,  1.6083866 ,  1.55473609,\n",
       "        -1.55473609, -0.41452251,  0.41452251, -2.03528741,  2.03528741,\n",
       "        -2.07284024,  2.07284024]])"
      ]
     },
     "execution_count": 119,
     "metadata": {},
     "output_type": "execute_result"
    }
   ],
   "source": [
    "input_vec_scaled = scaler.transform( input_vec.reshape(-1,12) )\n",
    "input_vec_scaled"
   ]
  },
  {
   "cell_type": "markdown",
   "id": "a0ac1323-bff5-49b7-bdce-4b743dc56d64",
   "metadata": {},
   "source": [
    "Jetzt können wir den kNN-Klassifkator um eine Prädiktion für diesen Datenpunkt \"bitten\":"
   ]
  },
  {
   "cell_type": "code",
   "execution_count": 120,
   "id": "2afebe88-f4a5-4375-aee7-202245b8c2d5",
   "metadata": {},
   "outputs": [
    {
     "data": {
      "text/plain": [
       "array([1])"
      ]
     },
     "execution_count": 120,
     "metadata": {},
     "output_type": "execute_result"
    }
   ],
   "source": [
    "pred = knn.predict( input_vec_scaled )\n",
    "pred"
   ]
  },
  {
   "cell_type": "code",
   "execution_count": 121,
   "id": "273e321b-ba85-4143-b9ca-1ddc065aff1b",
   "metadata": {},
   "outputs": [
    {
     "name": "stdout",
     "output_type": "stream",
     "text": [
      "Kunde wird eher eine Reiseversicherung kaufen!\n"
     ]
    }
   ],
   "source": [
    "if pred[0]==0:\n",
    "    print(\"Kunde wird eher keine Reiseversicherung kaufen!\")\n",
    "else:\n",
    "    print(\"Kunde wird eher eine Reiseversicherung kaufen!\")"
   ]
  },
  {
   "cell_type": "markdown",
   "id": "4cdaa672-fd6a-4bf3-9e88-9647c3b51759",
   "metadata": {},
   "source": [
    "## Eigene Distanzfunktion mit scikit-learn verwenden\n",
    "\n",
    "Damit wir mittels einer Standard-Distanzfunktion wie der Euklidischen Distanz die Merkmale miteinander vergleichen konnten, mussten wir die Merkmale standardisieren.\n",
    "\n",
    "Ein alternativer Ansatz ist eine eigene definierte Distanzfunktion zu verwenden. Dies erlaubt es dann auch auf die Standardisierung zu verzichten, wenn man in der eigenen Distanzfunktion die unterschiedlichen Wertebereiche der Merkmale berücksichtigt.\n",
    "\n",
    "Das wollen wir einmal exemplarisch durchlaufen. Hierzu fangen wir nochmal vorne an. Wir laden die Daten ein, führen dieses Mal aber keine Standardisierung durch:"
   ]
  },
  {
   "cell_type": "code",
   "execution_count": 122,
   "id": "1d2a28d8-1a62-48c5-82df-e8d3b0ee5d9d",
   "metadata": {},
   "outputs": [],
   "source": [
    "# 1. Beispieldaten einlesen\n",
    "t = pandas.read_csv(\"TravelInsurancePrediction.csv\")\n",
    "\n",
    "# 2. Nicht benötigte Spalte entfernen\n",
    "t = t.drop( \"Unnamed: 0\", axis=1)\n",
    "\n",
    "# 3. Kategoriale Merkmale in Zahlen umwandeln\n",
    "t = pandas.get_dummies(t)\n",
    "\n",
    "# 4. Aufspaltung in Trainings- und Testdaten\n",
    "from sklearn.model_selection import train_test_split\n",
    "x_train, x_test, y_train, y_test = train_test_split(x, y, test_size = 0.2, random_state = 0)"
   ]
  },
  {
   "cell_type": "markdown",
   "id": "33256315-d5a9-446f-a055-4f6f0ed5c12a",
   "metadata": {},
   "source": [
    "Ein Blick auf die Daten zeigt, dass die Merkmale noch in ihren ursprünglichen Wertebereichen liegen:"
   ]
  },
  {
   "cell_type": "code",
   "execution_count": 123,
   "id": "8488bbbe-3314-44c8-8830-1e52b01f713e",
   "metadata": {},
   "outputs": [
    {
     "data": {
      "text/html": [
       "<div>\n",
       "<style scoped>\n",
       "    .dataframe tbody tr th:only-of-type {\n",
       "        vertical-align: middle;\n",
       "    }\n",
       "\n",
       "    .dataframe tbody tr th {\n",
       "        vertical-align: top;\n",
       "    }\n",
       "\n",
       "    .dataframe thead th {\n",
       "        text-align: right;\n",
       "    }\n",
       "</style>\n",
       "<table border=\"1\" class=\"dataframe\">\n",
       "  <thead>\n",
       "    <tr style=\"text-align: right;\">\n",
       "      <th></th>\n",
       "      <th>Age</th>\n",
       "      <th>AnnualIncome</th>\n",
       "      <th>FamilyMembers</th>\n",
       "      <th>ChronicDiseases</th>\n",
       "      <th>Employment Type_Government Sector</th>\n",
       "      <th>Employment Type_Private Sector/Self Employed</th>\n",
       "      <th>GraduateOrNot_No</th>\n",
       "      <th>GraduateOrNot_Yes</th>\n",
       "      <th>FrequentFlyer_No</th>\n",
       "      <th>FrequentFlyer_Yes</th>\n",
       "      <th>EverTravelledAbroad_No</th>\n",
       "      <th>EverTravelledAbroad_Yes</th>\n",
       "    </tr>\n",
       "  </thead>\n",
       "  <tbody>\n",
       "    <tr>\n",
       "      <th>159</th>\n",
       "      <td>27</td>\n",
       "      <td>900000</td>\n",
       "      <td>7</td>\n",
       "      <td>1</td>\n",
       "      <td>1</td>\n",
       "      <td>0</td>\n",
       "      <td>0</td>\n",
       "      <td>1</td>\n",
       "      <td>1</td>\n",
       "      <td>0</td>\n",
       "      <td>1</td>\n",
       "      <td>0</td>\n",
       "    </tr>\n",
       "    <tr>\n",
       "      <th>799</th>\n",
       "      <td>31</td>\n",
       "      <td>1200000</td>\n",
       "      <td>3</td>\n",
       "      <td>0</td>\n",
       "      <td>1</td>\n",
       "      <td>0</td>\n",
       "      <td>0</td>\n",
       "      <td>1</td>\n",
       "      <td>1</td>\n",
       "      <td>0</td>\n",
       "      <td>1</td>\n",
       "      <td>0</td>\n",
       "    </tr>\n",
       "  </tbody>\n",
       "</table>\n",
       "</div>"
      ],
      "text/plain": [
       "     Age  AnnualIncome  FamilyMembers  ChronicDiseases  \\\n",
       "159   27        900000              7                1   \n",
       "799   31       1200000              3                0   \n",
       "\n",
       "     Employment Type_Government Sector  \\\n",
       "159                                  1   \n",
       "799                                  1   \n",
       "\n",
       "     Employment Type_Private Sector/Self Employed  GraduateOrNot_No  \\\n",
       "159                                             0                 0   \n",
       "799                                             0                 0   \n",
       "\n",
       "     GraduateOrNot_Yes  FrequentFlyer_No  FrequentFlyer_Yes  \\\n",
       "159                  1                 1                  0   \n",
       "799                  1                 1                  0   \n",
       "\n",
       "     EverTravelledAbroad_No  EverTravelledAbroad_Yes  \n",
       "159                       1                        0  \n",
       "799                       1                        0  "
      ]
     },
     "execution_count": 123,
     "metadata": {},
     "output_type": "execute_result"
    }
   ],
   "source": [
    "x_train.head(2)"
   ]
  },
  {
   "cell_type": "markdown",
   "id": "791e3ea9-760a-4633-8109-a9c657202b49",
   "metadata": {},
   "source": [
    "Jetzt definieren wir eine eigene Distanzfunktion und erzeugen einen k-NN Klassifikator, den wir anweisen diese Distanzfunktion zu verwenden. Dazu wollen wir der Einfachheit halber nur die ersten beiden Merkmale\n",
    "\n",
    "- Age\n",
    "- AnnualIncome\n",
    "\n",
    "verwenden. Vorab ermitteln wir auch noch die Maximalwerte für diese beiden Merkmale:"
   ]
  },
  {
   "cell_type": "code",
   "execution_count": 124,
   "id": "42aa585c-483a-4e07-9264-84c2bd506f40",
   "metadata": {},
   "outputs": [
    {
     "name": "stdout",
     "output_type": "stream",
     "text": [
      "35 1800000\n"
     ]
    }
   ],
   "source": [
    "max_alter = x_train[\"Age\"].max()\n",
    "max_einkommen = x_train[\"AnnualIncome\"].max()\n",
    "print(max_alter, max_einkommen)"
   ]
  },
  {
   "cell_type": "code",
   "execution_count": 125,
   "id": "711f4ecc-2b96-4b6c-b350-5d25de7c71e1",
   "metadata": {},
   "outputs": [],
   "source": [
    "from sklearn.neighbors import KNeighborsClassifier\n",
    "\n",
    "def meine_distanz_funktion(x,y):\n",
    "    \n",
    "    diff_alter     = abs(x[0]-y[0]) / max_alter\n",
    "    diff_einkommen = abs(x[1]-y[1]) / max_einkommen\n",
    "    \n",
    "    return 0.5*diff_alter + 0.5*diff_einkommen\n",
    "\n",
    "knn = KNeighborsClassifier(n_neighbors=15,\n",
    "                           weights=\"uniform\",\n",
    "                           metric=meine_distanz_funktion)"
   ]
  },
  {
   "cell_type": "markdown",
   "id": "2327f005-8c64-435b-b6ee-a3280aa8d452",
   "metadata": {},
   "source": [
    "Jetzt können wir wieder den k-NN Klassifikator mit den Trainingsdaten \"trainieren\". Aber dieses Mal brauchen wir eben keine skalierten Daten, sondern können auf den Rohdaten arbeiten, da wir auch eine sinnvolle Distanzfunktion auf den Rohdaten definiert haben."
   ]
  },
  {
   "cell_type": "code",
   "execution_count": 126,
   "id": "670991bf-a269-42a2-8d1e-d02fba339efd",
   "metadata": {},
   "outputs": [],
   "source": [
    "knn = knn.fit(x_train, y_train)"
   ]
  },
  {
   "cell_type": "markdown",
   "id": "9b91adde-cb50-41ce-b408-d2f0e2ada133",
   "metadata": {},
   "source": [
    "Schauen wir mal wie gut der Klassifikator auf den Testdaten funktioniert:"
   ]
  },
  {
   "cell_type": "code",
   "execution_count": 127,
   "id": "62423c83-797b-49ed-918d-ccca13087de7",
   "metadata": {},
   "outputs": [
    {
     "name": "stdout",
     "output_type": "stream",
     "text": [
      "KKR Klassifikator: 0.7738693467336684\n"
     ]
    }
   ],
   "source": [
    "from sklearn.metrics import accuracy_score\n",
    "y_pred_test = knn.predict( x_test )\n",
    "KKR = accuracy_score(y_test.values, y_pred_test)\n",
    "print( f\"KKR Klassifikator: {KKR}\" )"
   ]
  },
  {
   "cell_type": "markdown",
   "id": "bf0b7b62-3ee0-420a-a556-6c2954017440",
   "metadata": {},
   "source": [
    "## Quiz: Varianten der eigenen Distanzfunktion\n",
    "\n",
    "Probiere jetzt 3 Varianten der Distanzfunktion aus und überprüfe jeweils, wie gut ist der Klassifkator, wenn\n",
    "\n",
    "- nur das Alter\n",
    "- nur das Einkommen\n",
    "- sowohl das Alter als auch das Einkommen\n",
    "\n",
    "jeweils in der Distanzfunktion verwendet werden!\n",
    "\n",
    "Lösung:"
   ]
  },
  {
   "cell_type": "code",
   "execution_count": 128,
   "id": "99a6d8ad-6a7a-4359-acae-4bb108597e80",
   "metadata": {},
   "outputs": [
    {
     "name": "stdout",
     "output_type": "stream",
     "text": [
      "KKR bei fak1,fak2=(1,0): 0.6507537688442211\n",
      "KKR bei fak1,fak2=(0,1): 0.8015075376884422\n",
      "KKR bei fak1,fak2=(0.5,0.5): 0.7738693467336684\n"
     ]
    }
   ],
   "source": [
    "def meine_distanz_funktion(x,y):\n",
    "    diff_alter     = abs(x[0]-y[0]) / max_alter\n",
    "    diff_einkommen = abs(x[1]-y[1]) / max_einkommen    \n",
    "    return fak1*diff_alter + fak2*diff_einkommen\n",
    "\n",
    "\n",
    "for fak1,fak2 in [ (1,0), (0,1), (0.5,0.5)]:\n",
    "    knn = KNeighborsClassifier(n_neighbors=15,\n",
    "                               weights=\"uniform\",\n",
    "                               metric=meine_distanz_funktion)\n",
    "    knn = knn.fit(x_train, y_train)\n",
    "    y_pred_test = knn.predict( x_test )\n",
    "    KKR = accuracy_score(y_test.values, y_pred_test)\n",
    "    print( f\"KKR bei fak1,fak2=({fak1},{fak2}): {KKR}\" )"
   ]
  },
  {
   "cell_type": "markdown",
   "id": "84423db9-6b96-4cf4-9ebf-9158e2e118a0",
   "metadata": {},
   "source": [
    "Fazit: Es sieht also so aus, als ob das Einkommen ein viel besserer *Prädiktor* im Vergleich zum Alter ist, um zu bestimmen, ob jemand eine Reiseversicherung kauft."
   ]
  },
  {
   "cell_type": "markdown",
   "id": "0cda37ba-5b92-4519-9b88-60aaa2f67275",
   "metadata": {},
   "source": [
    "# Verschiedene ML Verfahren auf ein Problem loslassen\n",
    "\n",
    "Wie die folgende Liste\n",
    "\n",
    "https://scikit-learn.org/stable/supervised_learning.html#supervised-learning\n",
    "\n",
    "auf der Projektwebseite von scikit-learn zeigt, gibt es sehr viele verschiedene Machine-Learning Ansätze. Aber welches sollte man wählen? Ist vielleicht sogar eines allen anderen überlegen?"
   ]
  },
  {
   "cell_type": "markdown",
   "id": "a9a26e13-5035-44bf-8a00-e01551f6386c",
   "metadata": {},
   "source": [
    "## Das Mittagessen gibt's nicht gratis!\n",
    "\n",
    "Zu der letzten Frage kann man sich Folgendes überlegen: wäre bei der Vielzahl von unterschiedlichen Klassifikations- und Regressionsproblemen ein Verfahren X deutlich anderen überlegen, würde scikit-learn wahrscheinlich nicht so viele verschiedene Machine-Learning Verfahren zur Auswahl anbieten, sondern eben nur das Verfahren X.\n",
    "\n",
    "Die Hinweise deuten zudem stark darauf, dass es solch ein überlegenes Verfahren X nicht gibt. Dazu gibt es mathematische Untersuchungen, die sich in dem - in der Machine-Learning Community - bekanntem *No Free Lunch (NFL) Theorem* widerspiegeln:\n",
    "\n",
    "Das Theorem besagt, dass alle Optimierungsalgorithmen gleich gut abschneiden, wenn ihre Leistung über alle möglichen Probleme gemittelt wird. Auch Machine Learning Algorithmen können als Optimierungsalgorithmen betrachtet werden, daher: es gibt nachweislich keinen einzigen besten Algorithmus für maschinelles Lernen.\n",
    "\n",
    "Ein empfehlenswerter Artikel zu dem Theorem ist dieser Beitrag von Jason Brownlee:\n",
    "\n",
    "https://machinelearningmastery.com/no-free-lunch-theorem-for-machine-learning/\n",
    "\n",
    "Was heißt das konkret für die Praxis? Wenn du ein Problem hast: versuche einfach verschiedene ML-Verfahren aus scikit-learn aus!"
   ]
  },
  {
   "cell_type": "markdown",
   "id": "7903fb9a-885a-4a70-b89a-bf1e1a33e4b3",
   "metadata": {},
   "source": [
    "## Daten vorbereiten\n",
    "\n",
    "Da die Klassifikatoren im Wesentlichen alle gleich erzeugt, trainiert und angewendet werden, müssen wir die Trainings- und Testdaten für das Machine Learning nur einmal vorbereiten:"
   ]
  },
  {
   "cell_type": "code",
   "execution_count": 129,
   "id": "8bcac016-e073-4cf3-a28d-40de93e96cea",
   "metadata": {},
   "outputs": [],
   "source": [
    "# 1. Beispieldaten einlesen\n",
    "import pandas\n",
    "t = pandas.read_csv(\"TravelInsurancePrediction.csv\")\n",
    "\n",
    "# 2. Nicht benötigte Spalte entfernen\n",
    "t = t.drop( \"Unnamed: 0\", axis=1)\n",
    "\n",
    "# 3. Kategoriale Merkmale in Zahlen umwandeln\n",
    "t = pandas.get_dummies(t)\n",
    "\n",
    "# 4. Aufspaltung in Inputdaten x und Outputdaten y\n",
    "x = t.drop(\"TravelInsurance\", axis=1)\n",
    "y = t[ \"TravelInsurance\" ]\n",
    "\n",
    "# 5. Aufspaltung in Trainings- und Testdaten\n",
    "from sklearn.model_selection import train_test_split\n",
    "x_train, x_test, y_train, y_test = train_test_split(x, y, test_size = 0.2, random_state = 0)\n",
    "\n",
    "# 6. Standardisierung der Daten\n",
    "from sklearn.preprocessing import StandardScaler\n",
    "scaler = StandardScaler()\n",
    "x_train_scaled = scaler.fit_transform(x_train)\n",
    "x_test_scaled = scaler.transform(x_test)"
   ]
  },
  {
   "cell_type": "code",
   "execution_count": 130,
   "id": "6db6e3db-3a06-4237-a9a6-703063409c56",
   "metadata": {},
   "outputs": [
    {
     "data": {
      "text/plain": [
       "numpy.ndarray"
      ]
     },
     "execution_count": 130,
     "metadata": {},
     "output_type": "execute_result"
    }
   ],
   "source": [
    "type(x_train_scaled)"
   ]
  },
  {
   "cell_type": "code",
   "execution_count": 131,
   "id": "047cfa01-3e2b-4888-8764-2b0db6b0f84a",
   "metadata": {},
   "outputs": [
    {
     "data": {
      "text/plain": [
       "(1589, 12)"
      ]
     },
     "execution_count": 131,
     "metadata": {},
     "output_type": "execute_result"
    }
   ],
   "source": [
    "x_train_scaled.shape"
   ]
  },
  {
   "cell_type": "code",
   "execution_count": 132,
   "id": "2f61bd0b-7a35-4766-ad60-0cd67fdd2dcc",
   "metadata": {},
   "outputs": [
    {
     "data": {
      "text/plain": [
       "pandas.core.series.Series"
      ]
     },
     "execution_count": 132,
     "metadata": {},
     "output_type": "execute_result"
    }
   ],
   "source": [
    "type(y_train)"
   ]
  },
  {
   "cell_type": "code",
   "execution_count": 133,
   "id": "c84f8f64-0490-4c53-95f8-cb8474588122",
   "metadata": {},
   "outputs": [
    {
     "data": {
      "text/plain": [
       "(1589,)"
      ]
     },
     "execution_count": 133,
     "metadata": {},
     "output_type": "execute_result"
    }
   ],
   "source": [
    "y_train.shape"
   ]
  },
  {
   "cell_type": "code",
   "execution_count": 134,
   "id": "6768229e-c5fa-41af-bde8-d759d53e4390",
   "metadata": {},
   "outputs": [
    {
     "data": {
      "text/plain": [
       "(398, 12)"
      ]
     },
     "execution_count": 134,
     "metadata": {},
     "output_type": "execute_result"
    }
   ],
   "source": [
    "x_test_scaled.shape"
   ]
  },
  {
   "cell_type": "code",
   "execution_count": 135,
   "id": "1826280a-d51b-4950-b7cc-490e14e6e96c",
   "metadata": {},
   "outputs": [
    {
     "data": {
      "text/plain": [
       "(398,)"
      ]
     },
     "execution_count": 135,
     "metadata": {},
     "output_type": "execute_result"
    }
   ],
   "source": [
    "y_test.shape"
   ]
  },
  {
   "cell_type": "code",
   "execution_count": 136,
   "id": "9cb08d5c-d756-4dbc-8c98-1ccb127cb9ea",
   "metadata": {},
   "outputs": [
    {
     "name": "stdout",
     "output_type": "stream",
     "text": [
      "[-0.90922885 -0.05365604  1.38182856  1.6083866   1.55473609 -1.55473609\n",
      " -0.41452251  0.41452251  0.4913311  -0.4913311   0.48242985 -0.48242985] ---soll-abgebildet-werden-auf---> 0\n"
     ]
    }
   ],
   "source": [
    "print( x_train_scaled[0], \"---soll-abgebildet-werden-auf--->\", y_train.iloc[0] )"
   ]
  },
  {
   "cell_type": "code",
   "execution_count": 137,
   "id": "fae79d33-47dc-43c7-89c1-53fc4fc2c7ca",
   "metadata": {},
   "outputs": [
    {
     "name": "stdout",
     "output_type": "stream",
     "text": [
      "[ 1.48276559  0.47921552 -1.1034296  -0.62174107  1.55473609 -1.55473609\n",
      " -0.41452251  0.41452251  0.4913311  -0.4913311   0.48242985 -0.48242985] ---soll-abgebildet-werden-auf---> 1\n"
     ]
    }
   ],
   "source": [
    "print( x_train_scaled[2], \"---soll-abgebildet-werden-auf--->\", y_train.iloc[2] )"
   ]
  },
  {
   "cell_type": "markdown",
   "id": "d58fecd7-75dc-4b75-abf8-5a11ad045d10",
   "metadata": {},
   "source": [
    "## Entscheidungsbäume\n",
    "\n",
    "Als erstes wollen wir mal einen *Entscheidungsbaum* (Englisch: *Decision Tree*) als alternativen Ansatz zum k-NN Klassifikator ausprobieren.\n",
    "\n",
    "Dazu erzeugen wir einen `DecisionTreeClassifier` und trainieren diesen mit den Trainingsdaten:"
   ]
  },
  {
   "cell_type": "code",
   "execution_count": 138,
   "id": "1878e91f-c67d-4360-8770-56ab8c781070",
   "metadata": {},
   "outputs": [],
   "source": [
    "from sklearn import tree\n",
    "\n",
    "model = tree.DecisionTreeClassifier()\n",
    "model = model.fit(x_train, y_train)"
   ]
  },
  {
   "cell_type": "code",
   "execution_count": 139,
   "id": "8703640d-6731-4818-a293-64360800b25b",
   "metadata": {},
   "outputs": [
    {
     "name": "stdout",
     "output_type": "stream",
     "text": [
      "KKR Entscheidungsbaum: 0.7713567839195979\n"
     ]
    }
   ],
   "source": [
    "from sklearn.metrics import accuracy_score\n",
    "y_pred_test = model.predict( x_test )\n",
    "KKR = accuracy_score(y_test.values, y_pred_test)\n",
    "print( f\"KKR Entscheidungsbaum: {KKR}\" )"
   ]
  },
  {
   "cell_type": "markdown",
   "id": "a2fe3e3d-faf6-43e5-8752-1c3dda20de9b",
   "metadata": {},
   "source": [
    "Wir können den Entscheidungsbaum dann auch auf unterschiedliche Arten visualisieren."
   ]
  },
  {
   "cell_type": "markdown",
   "id": "34b874d2-16f0-4f9c-a8cb-46c4ac13e190",
   "metadata": {},
   "source": [
    "### Entscheidungsbaum als Text darstellen"
   ]
  },
  {
   "cell_type": "code",
   "execution_count": 140,
   "id": "5a5235c2-cf6b-4b73-89b2-626ff78a094d",
   "metadata": {},
   "outputs": [
    {
     "name": "stdout",
     "output_type": "stream",
     "text": [
      "|--- feature_1 <= 1325000.00\n",
      "|   |--- feature_0 <= 32.50\n",
      "|   |   |--- feature_1 <= 425000.00\n",
      "|   |   |   |--- feature_7 <= 0.50\n",
      "|   |   |   |   |--- class: 0\n",
      "|   |   |   |--- feature_7 >  0.50\n",
      "|   |   |   |   |--- feature_3 <= 0.50\n",
      "|   |   |   |   |   |--- feature_5 <= 0.50\n",
      "|   |   |   |   |   |   |--- feature_2 <= 5.50\n",
      "|   |   |   |   |   |   |   |--- feature_2 <= 4.50\n",
      "|   |   |   |   |   |   |   |   |--- feature_0 <= 31.50\n",
      "|   |   |   |   |   |   |   |   |   |--- feature_2 <= 3.50\n",
      "|   |   |   |   |   |   |   |   |   |   |--- class: 0\n",
      "|   |   |   |   |   |   |   |   |   |--- feature_2 >  3.50\n",
      "|   |   |   |   |   |   |   |   |   |   |--- feature_0 <= 29.50\n",
      "|   |   |   |   |   |   |   |   |   |   |   |--- class: 0\n",
      "|   |   |   |   |   |   |   |   |   |   |--- feature_0 >  29.50\n",
      "|   |   |   |   |   |   |   |   |   |   |   |--- class: 0\n",
      "|   |   |   |   |   |   |   |   |--- feature_0 >  31.50\n",
      "|   |   |   |   |   |   |   |   |   |--- feature_2 <= 2.50\n",
      "|   |   |   |   |   |   |   |   |   |   |--- class: 0\n",
      "|   |   |   |   |   |   |   |   |   |--- feature_2 >  2.50\n",
      "|   |   |   |   |   |   |   |   |   |   |--- feature_11 <= 0.50\n",
      "|   |   |   |   |   |   |   |   |   |   |   |--- truncated branch of depth 2\n",
      "|   |   |   |   |   |   |   |   |   |   |--- feature_11 >  0.50\n",
      "|   |   |   |   |   |   |   |   |   |   |   |--- class: 0\n",
      "|   |   |   |   |   |   |   |--- feature_2 >  4.50\n",
      "|   |   |   |   |   |   |   |   |--- class: 0\n",
      "|   |   |   |   |   |   |--- feature_2 >  5.50\n",
      "|   |   |   |   |   |   |   |--- feature_0 <= 29.50\n",
      "|   |   |   |   |   |   |   |   |--- feature_2 <= 7.50\n",
      "|   |   |   |   |   |   |   |   |   |--- feature_2 <= 6.50\n",
      "|   |   |   |   |   |   |   |   |   |   |--- class: 0\n",
      "|   |   |   |   |   |   |   |   |   |--- feature_2 >  6.50\n",
      "|   |   |   |   |   |   |   |   |   |   |--- class: 0\n",
      "|   |   |   |   |   |   |   |   |--- feature_2 >  7.50\n",
      "|   |   |   |   |   |   |   |   |   |--- class: 0\n",
      "|   |   |   |   |   |   |   |--- feature_0 >  29.50\n",
      "|   |   |   |   |   |   |   |   |--- class: 0\n",
      "|   |   |   |   |   |--- feature_5 >  0.50\n",
      "|   |   |   |   |   |   |--- feature_2 <= 3.50\n",
      "|   |   |   |   |   |   |   |--- class: 1\n",
      "|   |   |   |   |   |   |--- feature_2 >  3.50\n",
      "|   |   |   |   |   |   |   |--- class: 0\n",
      "|   |   |   |   |--- feature_3 >  0.50\n",
      "|   |   |   |   |   |--- feature_10 <= 0.50\n",
      "|   |   |   |   |   |   |--- class: 1\n",
      "|   |   |   |   |   |--- feature_10 >  0.50\n",
      "|   |   |   |   |   |   |--- feature_2 <= 4.50\n",
      "|   |   |   |   |   |   |   |--- feature_1 <= 325000.00\n",
      "|   |   |   |   |   |   |   |   |--- feature_2 <= 3.50\n",
      "|   |   |   |   |   |   |   |   |   |--- class: 0\n",
      "|   |   |   |   |   |   |   |   |--- feature_2 >  3.50\n",
      "|   |   |   |   |   |   |   |   |   |--- class: 0\n",
      "|   |   |   |   |   |   |   |--- feature_1 >  325000.00\n",
      "|   |   |   |   |   |   |   |   |--- class: 0\n",
      "|   |   |   |   |   |   |--- feature_2 >  4.50\n",
      "|   |   |   |   |   |   |   |--- feature_1 <= 375000.00\n",
      "|   |   |   |   |   |   |   |   |--- feature_2 <= 7.50\n",
      "|   |   |   |   |   |   |   |   |   |--- class: 0\n",
      "|   |   |   |   |   |   |   |   |--- feature_2 >  7.50\n",
      "|   |   |   |   |   |   |   |   |   |--- feature_2 <= 8.50\n",
      "|   |   |   |   |   |   |   |   |   |   |--- class: 1\n",
      "|   |   |   |   |   |   |   |   |   |--- feature_2 >  8.50\n",
      "|   |   |   |   |   |   |   |   |   |   |--- class: 0\n",
      "|   |   |   |   |   |   |   |--- feature_1 >  375000.00\n",
      "|   |   |   |   |   |   |   |   |--- feature_2 <= 7.50\n",
      "|   |   |   |   |   |   |   |   |   |--- class: 0\n",
      "|   |   |   |   |   |   |   |   |--- feature_2 >  7.50\n",
      "|   |   |   |   |   |   |   |   |   |--- class: 0\n",
      "|   |   |--- feature_1 >  425000.00\n",
      "|   |   |   |--- feature_6 <= 0.50\n",
      "|   |   |   |   |--- feature_2 <= 8.50\n",
      "|   |   |   |   |   |--- feature_1 <= 525000.00\n",
      "|   |   |   |   |   |   |--- feature_0 <= 28.50\n",
      "|   |   |   |   |   |   |   |--- feature_3 <= 0.50\n",
      "|   |   |   |   |   |   |   |   |--- feature_0 <= 26.50\n",
      "|   |   |   |   |   |   |   |   |   |--- feature_2 <= 6.50\n",
      "|   |   |   |   |   |   |   |   |   |   |--- class: 0\n",
      "|   |   |   |   |   |   |   |   |   |--- feature_2 >  6.50\n",
      "|   |   |   |   |   |   |   |   |   |   |--- feature_1 <= 475000.00\n",
      "|   |   |   |   |   |   |   |   |   |   |   |--- class: 1\n",
      "|   |   |   |   |   |   |   |   |   |   |--- feature_1 >  475000.00\n",
      "|   |   |   |   |   |   |   |   |   |   |   |--- class: 0\n",
      "|   |   |   |   |   |   |   |   |--- feature_0 >  26.50\n",
      "|   |   |   |   |   |   |   |   |   |--- feature_2 <= 5.50\n",
      "|   |   |   |   |   |   |   |   |   |   |--- feature_5 <= 0.50\n",
      "|   |   |   |   |   |   |   |   |   |   |   |--- truncated branch of depth 3\n",
      "|   |   |   |   |   |   |   |   |   |   |--- feature_5 >  0.50\n",
      "|   |   |   |   |   |   |   |   |   |   |   |--- truncated branch of depth 3\n",
      "|   |   |   |   |   |   |   |   |   |--- feature_2 >  5.50\n",
      "|   |   |   |   |   |   |   |   |   |   |--- class: 0\n",
      "|   |   |   |   |   |   |   |--- feature_3 >  0.50\n",
      "|   |   |   |   |   |   |   |   |--- feature_2 <= 5.50\n",
      "|   |   |   |   |   |   |   |   |   |--- feature_2 <= 3.50\n",
      "|   |   |   |   | \n"
     ]
    }
   ],
   "source": [
    "text_representation = tree.export_text(model)\n",
    "print(text_representation[:5000])"
   ]
  },
  {
   "cell_type": "markdown",
   "id": "40aea843-76d1-4b1d-9fe9-5ea61629957a",
   "metadata": {},
   "source": [
    "### Entscheidungsbaum grafisch darstellen"
   ]
  },
  {
   "cell_type": "markdown",
   "id": "2898cb20-355a-4b8a-931d-17f50fc3886d",
   "metadata": {},
   "source": [
    "Oder grafisch folgendermaßen:\n",
    "\n",
    "Dabei wollen wir in der Visualisierung zum besseren Verständnis die Merkmale in den Entscheidungsknoten mit ihren eigentlichen Bezeichnungen wie \"Age\" und \"AnnualIncome\" darstellen und nicht als \"feature_0\", \"feature_1\", etc.\n",
    "\n",
    "Hierzu müssen wir eine Liste der Merkmalsnamen bereit halten. Aber das ist einfach, denn die Merkmalsnamen entsprechen ja den Spaltennamen:"
   ]
  },
  {
   "cell_type": "code",
   "execution_count": 141,
   "id": "a272429b-cf8b-4ded-8c96-d0c16af3b95d",
   "metadata": {},
   "outputs": [
    {
     "data": {
      "text/plain": [
       "Index(['Age', 'AnnualIncome', 'FamilyMembers', 'ChronicDiseases',\n",
       "       'Employment Type_Government Sector',\n",
       "       'Employment Type_Private Sector/Self Employed', 'GraduateOrNot_No',\n",
       "       'GraduateOrNot_Yes', 'FrequentFlyer_No', 'FrequentFlyer_Yes',\n",
       "       'EverTravelledAbroad_No', 'EverTravelledAbroad_Yes'],\n",
       "      dtype='object')"
      ]
     },
     "execution_count": 141,
     "metadata": {},
     "output_type": "execute_result"
    }
   ],
   "source": [
    "x_train.columns"
   ]
  },
  {
   "cell_type": "markdown",
   "id": "e3163d8f-bbe8-4e41-9f1d-6846e714d794",
   "metadata": {},
   "source": [
    "Achtung! Die Visualisierung des Entscheidungsbaumes kann sehr lange dauern. Zudem entsteht durch folgenden Code eine sehr große Grafik, die am besten mit einem externen pdf-Viewer betrachtet wird."
   ]
  },
  {
   "cell_type": "code",
   "execution_count": 142,
   "id": "9f7f3029-c36d-4c43-a103-3d0e2ca31769",
   "metadata": {},
   "outputs": [
    {
     "data": {
      "image/png": "[encoded data removed]",
      "text/plain": [
       "<Figure size 2880x4320 with 1 Axes>"
      ]
     },
     "metadata": {
      "needs_background": "light"
     },
     "output_type": "display_data"
    }
   ],
   "source": [
    "import matplotlib.pyplot as plt\n",
    "\n",
    "plt.figure(figsize=(40,60))\n",
    "_ = tree.plot_tree(model,\n",
    "                   fontsize=8,\n",
    "                   feature_names=x_train.columns,\n",
    "                   class_names=[\"Kein Kauf\", \"Kauf\"],\n",
    "                   max_depth=5)\n",
    "plt.savefig(\"decision_tree.pdf\")"
   ]
  },
  {
   "cell_type": "markdown",
   "id": "05dd3ebe-e5f3-4cf9-a4d9-8953a0f270f0",
   "metadata": {},
   "source": [
    "Wir haben hier die Erstellung der Visualisierung nach 5 Knotenebenen abgebrochen, da der resultierende Entscheidungsbaum noch viel tiefer ist.\n",
    "\n",
    "Hier noch eine Variante der Visualisierung mittel des Tools `graphviz`:"
   ]
  },
  {
   "cell_type": "code",
   "execution_count": 143,
   "id": "7e78b403-4c8c-4b5f-928d-0a7705113042",
   "metadata": {},
   "outputs": [
    {
     "data": {
      "text/plain": [
       "'Entscheidungsbaum.pdf'"
      ]
     },
     "execution_count": 143,
     "metadata": {},
     "output_type": "execute_result"
    }
   ],
   "source": [
    "#!pip install graphviz\n",
    "#!sudo apt install graphviz\n",
    "\n",
    "import graphviz \n",
    "dot_data = tree.export_graphviz(model,\n",
    "                                out_file=None, \n",
    "                                feature_names=x_train.columns,\n",
    "                                class_names=[\"Kein Kauf\", \"Kauf\"],                                \n",
    "                                filled=True,\n",
    "                                rounded=True,  \n",
    "                                special_characters=True) \n",
    "graph = graphviz.Source(dot_data) \n",
    "graph.render(\"Entscheidungsbaum\")"
   ]
  },
  {
   "cell_type": "markdown",
   "id": "f085ed6f-bc9b-437e-ab35-c9e965396b86",
   "metadata": {},
   "source": [
    "Die Erstellung läuft hier deutlich schneller und in der resultierenden pdf-Datei sieht man auch noch eine Farbkodierung der beiden Klassen."
   ]
  },
  {
   "cell_type": "markdown",
   "id": "97c2d1c5-a411-4de2-95cb-b0d10698f577",
   "metadata": {},
   "source": [
    "### Quiz: Bedeutung der Zahlenangaben\n",
    "\n",
    "Was bedeuten die Zahlen [1017, 572] im ersten Knoten?\n",
    "\n",
    "Lösung:"
   ]
  },
  {
   "cell_type": "code",
   "execution_count": 144,
   "id": "447d8865-0baf-4e5a-8592-6efaf8448f33",
   "metadata": {},
   "outputs": [
    {
     "data": {
      "text/plain": [
       "1017"
      ]
     },
     "execution_count": 144,
     "metadata": {},
     "output_type": "execute_result"
    }
   ],
   "source": [
    "sum(y_train==0)"
   ]
  },
  {
   "cell_type": "code",
   "execution_count": 145,
   "id": "40a91e77-2702-45ed-b475-04067bf43472",
   "metadata": {},
   "outputs": [
    {
     "data": {
      "text/plain": [
       "572"
      ]
     },
     "execution_count": 145,
     "metadata": {},
     "output_type": "execute_result"
    }
   ],
   "source": [
    "sum(y_train==1)"
   ]
  },
  {
   "cell_type": "markdown",
   "id": "947918bc-c8d2-4fef-90ab-ff6a3248b272",
   "metadata": {},
   "source": [
    "Es ist also die Anzahl der Beispiele für Klasse 0 (kein Kauf der Versicherung) und Klasse 1 (Kauf der Reiseversicherung)."
   ]
  },
  {
   "cell_type": "markdown",
   "id": "d581c634-2c05-4295-b16a-ac46be1f8890",
   "metadata": {},
   "source": [
    "### Quiz: Was bedeutet `gini`?"
   ]
  },
  {
   "cell_type": "markdown",
   "id": "e3fc3f48-dd28-4291-940e-34e738d2d6dd",
   "metadata": {},
   "source": [
    "Das *Gini Impurity* oder die *Reinheit eines Knotens* ist ein informationstheoretisches Maß, das angibt, wie gut die beiden Klassen bis zu einem ausgewählten Knoten inzwischen getrennt sind.\n",
    "\n",
    "Dieses Maß ist die Wahrscheinlichkeit, dass ein bestimmtes Merkmal bei einer Zufallsauswahl falsch klassifiziert wird. Wenn alle Elemente mit einer einzigen Klasse verknüpft sind, kann diese als rein bezeichnet werden."
   ]
  },
  {
   "cell_type": "markdown",
   "id": "e5485ec8-5fd8-4a01-85a8-16104b2fe708",
   "metadata": {},
   "source": [
    "## Entscheidungswälder\n",
    "\n",
    "Man kann auch gleich einen ganzen Wald von Entscheidungsbäumen erlernen. Auch dieser Machine-Learning-Ansatz ist leicht über scikit-learn verfügbar:"
   ]
  },
  {
   "cell_type": "code",
   "execution_count": 146,
   "id": "d3c60f05-3283-461a-b029-62e16b4fdd35",
   "metadata": {},
   "outputs": [],
   "source": [
    "from sklearn.ensemble import RandomForestClassifier\n",
    "\n",
    "model = RandomForestClassifier(n_estimators=1000)\n",
    "model = model.fit(x_train, y_train)"
   ]
  },
  {
   "cell_type": "markdown",
   "id": "bfdc3fa8-dc2f-4425-b3cb-c3048a43c13a",
   "metadata": {},
   "source": [
    "Wir sind gespannt, ob ein Entscheidungswald das Klassifikationsproblem besser lösen kann als ein einzelner Entscheidungsbaum. So können wir es testen:"
   ]
  },
  {
   "cell_type": "code",
   "execution_count": 147,
   "id": "33b569a9-6371-4804-b947-6aedf433591c",
   "metadata": {},
   "outputs": [
    {
     "name": "stdout",
     "output_type": "stream",
     "text": [
      "KKR EntscheidungsWALD: 0.7839195979899497\n"
     ]
    }
   ],
   "source": [
    "y_pred_test = model.predict( x_test )\n",
    "KKR = accuracy_score(y_test.values, y_pred_test)\n",
    "print( f\"KKR EntscheidungsWALD: {KKR}\" )"
   ]
  },
  {
   "cell_type": "markdown",
   "id": "811e5841-a9e2-4108-8b86-e2c71b69ad24",
   "metadata": {},
   "source": [
    "Ja, wir haben nochmal ca. 2-3% an Genauigkeit gewonnen."
   ]
  },
  {
   "cell_type": "markdown",
   "id": "7e8cbb24-dbec-4414-9489-2732bf5c82d5",
   "metadata": {},
   "source": [
    "## Support Vector Machines\n",
    "\n",
    "Support Vector Machines (SVM) gehören ebenfalls zu den klassischen Machine-Learning Verfahren, die sehr beliebt sind, da sie oft sehr gute Ergebnisse erzielen.\n",
    "\n",
    "Wie gut schneidet bei dem hier vorliegenden Klassifikationsproblem eine SVM ab?"
   ]
  },
  {
   "cell_type": "code",
   "execution_count": 148,
   "id": "85da5e31-1f5b-4d1c-92d9-8914bfa2fc65",
   "metadata": {},
   "outputs": [],
   "source": [
    "from sklearn import svm\n",
    "model = svm.SVC()\n",
    "model = model.fit(x_train, y_train)"
   ]
  },
  {
   "cell_type": "code",
   "execution_count": 149,
   "id": "5488a59f-5491-475a-ac3a-2bf038174481",
   "metadata": {},
   "outputs": [
    {
     "name": "stdout",
     "output_type": "stream",
     "text": [
      "KKR SVM: 0.7964824120603015\n"
     ]
    }
   ],
   "source": [
    "y_pred_test = model.predict( x_test )\n",
    "KKR = accuracy_score(y_test.values, y_pred_test)\n",
    "print( f\"KKR SVM: {KKR}\" )"
   ]
  },
  {
   "cell_type": "markdown",
   "id": "d41b98a3-8889-440b-9ada-74b2ceb7b2fe",
   "metadata": {},
   "source": [
    "Hier haben wir also eine ähnliche KKR wie bei dem Entscheidungswald."
   ]
  },
  {
   "cell_type": "markdown",
   "id": "b8581293-7b7d-4643-a150-14438588c3d4",
   "metadata": {},
   "source": [
    "## Boosting Ansätze\n",
    "\n",
    "scikit-learn beherbergt auch verschiedenste Ansätze, die auf dem Prinzip des *Boostings* beruhen. Dabei wird ein sogenannter *starker Klassifikator* durch Kombination von *schwachen Klassifikatoren* erlernt."
   ]
  },
  {
   "cell_type": "code",
   "execution_count": 150,
   "id": "08ee4e1e-23bb-4c79-adb4-2c732fcd3bff",
   "metadata": {},
   "outputs": [
    {
     "data": {
      "text/plain": [
       "0.8291457286432161"
      ]
     },
     "execution_count": 150,
     "metadata": {},
     "output_type": "execute_result"
    }
   ],
   "source": [
    "from sklearn.ensemble import GradientBoostingClassifier\n",
    "model = GradientBoostingClassifier()\n",
    "model = model.fit(x_train, y_train)\n",
    "model.score(x_test, y_test)"
   ]
  },
  {
   "cell_type": "markdown",
   "id": "826681b0-ebd0-43f7-b3e7-4f484bc9e2e6",
   "metadata": {},
   "source": [
    "Für den folgenden *XGBoostClassifier* benötigen wir noch ein weiteres Python-Paket:"
   ]
  },
  {
   "cell_type": "code",
   "execution_count": 151,
   "id": "685d0d53-4c1c-436e-8209-27b7d2e2c1ed",
   "metadata": {},
   "outputs": [],
   "source": [
    "#!pip install xgboost"
   ]
  },
  {
   "cell_type": "code",
   "execution_count": 152,
   "id": "9545c4c0-642d-456c-87b5-f490d65eebee",
   "metadata": {},
   "outputs": [
    {
     "data": {
      "text/plain": [
       "0.821608040201005"
      ]
     },
     "execution_count": 152,
     "metadata": {},
     "output_type": "execute_result"
    }
   ],
   "source": [
    "import xgboost as xgb\n",
    "model=xgb.XGBClassifier(learning_rate=0.01, use_label_encoder=False)\n",
    "model.fit(x_train, y_train)\n",
    "model.score(x_test,y_test)"
   ]
  },
  {
   "cell_type": "markdown",
   "id": "c06fe011-02a4-4d5c-afe7-c749aae97b94",
   "metadata": {},
   "source": [
    "Tatsächlich erhalten wir hier mit den Boosting Ansätzen die besten Klassifikationsergebnisse auf den Testdaten. Die Boosting-Ansätze erfreuen sich nicht umsonst in den letzten Jahren einer ähnlichen Beliebtheit wie zum Beispiel die Neuronalen Netze."
   ]
  },
  {
   "cell_type": "markdown",
   "id": "ec73117c-4352-441b-8a63-cc770c12e00b",
   "metadata": {},
   "source": [
    "# k-fache Kreuzvalidierung\n",
    "\n",
    "Bis jetzt haben wir initial einen Trainings und einen Testdatensatz definiert und alle Auswertungen auf dem gleichen Testdatensatz gemacht. Es könnte aber sein, dass der Testdatensatz zufälligerweise besonders günstig für das eine oder andere ausgewählte Machine-Learning Verfahren war. Daher macht es Sinn mehrere Durchläufe durchzuführen, bei denen man unterschiedliche Teilmengen der Beispieldaten als Testdatensatz nimmt und den Rest jeweils als Trainingsdatensatz.\n",
    "\n",
    "Genau das macht die *k-fache Kreuzvalidierung*. Im Englischen: *k-fold cross validation*.\n",
    "\n",
    "Und natürlich ist auch die bereits in scikit-learn integriert:"
   ]
  },
  {
   "cell_type": "markdown",
   "id": "74c0ad4b-ed7b-4931-b4fd-68b15fef0218",
   "metadata": {},
   "source": [
    "## Beispieldaten k mal aufspalten"
   ]
  },
  {
   "cell_type": "code",
   "execution_count": 153,
   "id": "5621b34d-4620-46cf-878c-12753a80b85d",
   "metadata": {},
   "outputs": [],
   "source": [
    "import numpy as np\n",
    "from sklearn.model_selection import KFold\n",
    "X = np.array([[10,20,30], [40,50,60], [70,80,90], [100,110,120], [130,140,150]])\n",
    "Y = np.array([60,150,240,330,420])\n",
    "kf = KFold(n_splits=2, shuffle=False)"
   ]
  },
  {
   "cell_type": "code",
   "execution_count": 154,
   "id": "d3911197-20b7-4eba-b4d0-7149822f366c",
   "metadata": {},
   "outputs": [
    {
     "data": {
      "text/plain": [
       "2"
      ]
     },
     "execution_count": 154,
     "metadata": {},
     "output_type": "execute_result"
    }
   ],
   "source": [
    "kf.get_n_splits(X)"
   ]
  },
  {
   "cell_type": "code",
   "execution_count": 155,
   "id": "59216b81-5c8f-4f73-aada-6594d2b35837",
   "metadata": {},
   "outputs": [
    {
     "name": "stdout",
     "output_type": "stream",
     "text": [
      "\n",
      "Nächste Aufteilung:\n",
      "TEST: [0 1 2] TRAIN: [3 4]\n",
      "X_test:\n",
      " [[10 20 30]\n",
      " [40 50 60]\n",
      " [70 80 90]]\n",
      "X_train:\n",
      " [[100 110 120]\n",
      " [130 140 150]]\n",
      "\n",
      "Nächste Aufteilung:\n",
      "TEST: [3 4] TRAIN: [0 1 2]\n",
      "X_test:\n",
      " [[100 110 120]\n",
      " [130 140 150]]\n",
      "X_train:\n",
      " [[10 20 30]\n",
      " [40 50 60]\n",
      " [70 80 90]]\n"
     ]
    }
   ],
   "source": [
    "for train_indices, test_indices in kf.split(X):\n",
    "    print(\"\\nNächste Aufteilung:\")    \n",
    "    print(\"TEST:\", test_indices, \"TRAIN:\", train_indices)\n",
    "    \n",
    "    X_train, X_test = X[train_indices], X[test_indices]\n",
    "    print(\"X_test:\\n\", X_test)\n",
    "    print(\"X_train:\\n\", X_train)    \n",
    "    Y_train, Y_test = Y[train_indices], Y[test_indices]"
   ]
  },
  {
   "cell_type": "markdown",
   "id": "9e428185-721e-4d98-8b9b-6226d398cd74",
   "metadata": {},
   "source": [
    "Und hier noch ein weiteres Beispiel:"
   ]
  },
  {
   "cell_type": "code",
   "execution_count": 156,
   "id": "a0c1e585-5053-4724-8cfe-a254f8c9b5d8",
   "metadata": {},
   "outputs": [
    {
     "data": {
      "text/plain": [
       "array([ 1,  2,  3,  4,  5,  6,  7,  8,  9, 10, 11, 12, 13, 14, 15, 16, 17,\n",
       "       18, 19, 20])"
      ]
     },
     "execution_count": 156,
     "metadata": {},
     "output_type": "execute_result"
    }
   ],
   "source": [
    "X = np.arange(1,21)\n",
    "X"
   ]
  },
  {
   "cell_type": "code",
   "execution_count": 157,
   "id": "7fe20636-7d1b-4874-a473-0eda83150683",
   "metadata": {},
   "outputs": [
    {
     "name": "stdout",
     "output_type": "stream",
     "text": [
      "TEST: [0 1 2 3 4] TRAIN: [ 5  6  7  8  9 10 11 12 13 14 15 16 17 18 19]\n",
      "TEST: [5 6 7 8 9] TRAIN: [ 0  1  2  3  4 10 11 12 13 14 15 16 17 18 19]\n",
      "TEST: [10 11 12 13 14] TRAIN: [ 0  1  2  3  4  5  6  7  8  9 15 16 17 18 19]\n",
      "TEST: [15 16 17 18 19] TRAIN: [ 0  1  2  3  4  5  6  7  8  9 10 11 12 13 14]\n"
     ]
    }
   ],
   "source": [
    "kf = KFold(n_splits=4, shuffle=False)\n",
    "for train_indices, test_indices in kf.split(X):    \n",
    "    print(\"TEST:\", test_indices, \"TRAIN:\", train_indices)"
   ]
  },
  {
   "cell_type": "markdown",
   "id": "1539f4e9-7d4d-4bda-9481-131d97578da7",
   "metadata": {},
   "source": [
    "## k-fache Kreuzvalidierung auf unserem Datensatz\n",
    "\n",
    "Wir wollen nun die k-fache Kreuzvalidierung (k-fold Cross Validation) auf unserem Datensatz und einem konkreten Modell anwenden:"
   ]
  },
  {
   "cell_type": "code",
   "execution_count": 158,
   "id": "c7fa920f-d8d9-4822-a7b4-dbcd08a9773b",
   "metadata": {},
   "outputs": [],
   "source": [
    "import pandas\n",
    "t = pandas.read_csv(\"TravelInsurancePrediction.csv\")\n",
    "\n",
    "# 2. Nicht benötigte Spalte entfernen\n",
    "t = t.drop( \"Unnamed: 0\", axis=1)\n",
    "\n",
    "# 3. Kategoriale Merkmale in Zahlen umwandeln\n",
    "t = pandas.get_dummies(t)\n",
    "\n",
    "# 4. Aufspaltung in Inputdaten x und Outputdaten y\n",
    "x = t.drop(\"TravelInsurance\", axis=1).values\n",
    "y = t[ \"TravelInsurance\" ].values"
   ]
  },
  {
   "cell_type": "code",
   "execution_count": 159,
   "id": "1c71f9f4-f5a8-4e5e-a90f-dc38beb3a71b",
   "metadata": {},
   "outputs": [
    {
     "data": {
      "text/plain": [
       "array([    31, 400000,      6,      1,      1,      0,      0,      1,\n",
       "            1,      0,      1,      0])"
      ]
     },
     "execution_count": 159,
     "metadata": {},
     "output_type": "execute_result"
    }
   ],
   "source": [
    "x[0]"
   ]
  },
  {
   "cell_type": "code",
   "execution_count": 160,
   "id": "c5565b45-9e88-484a-b542-3cc6ef38106d",
   "metadata": {},
   "outputs": [
    {
     "data": {
      "text/plain": [
       "0"
      ]
     },
     "execution_count": 160,
     "metadata": {},
     "output_type": "execute_result"
    }
   ],
   "source": [
    "y[0]"
   ]
  },
  {
   "cell_type": "code",
   "execution_count": 161,
   "id": "bb6f2a7f-16b4-4e88-af24-0c53c1d94555",
   "metadata": {},
   "outputs": [
    {
     "data": {
      "text/plain": [
       "((1987, 12), (1987,))"
      ]
     },
     "execution_count": 161,
     "metadata": {},
     "output_type": "execute_result"
    }
   ],
   "source": [
    "x.shape, y.shape"
   ]
  },
  {
   "cell_type": "code",
   "execution_count": 162,
   "id": "57952100-f790-4ced-b258-faed9a80a0cd",
   "metadata": {},
   "outputs": [
    {
     "name": "stdout",
     "output_type": "stream",
     "text": [
      "\n",
      "TEST: [0 1 2 3 4] ... [393 394 395 396 397]\n",
      "TRAIN: [398 399 400 401 402] ... [1982 1983 1984 1985 1986]\n",
      "\n",
      "TEST: [398 399 400 401 402] ... [791 792 793 794 795]\n",
      "TRAIN: [0 1 2 3 4] ... [1982 1983 1984 1985 1986]\n",
      "\n",
      "TEST: [796 797 798 799 800] ... [1188 1189 1190 1191 1192]\n",
      "TRAIN: [0 1 2 3 4] ... [1982 1983 1984 1985 1986]\n",
      "\n",
      "TEST: [1193 1194 1195 1196 1197] ... [1585 1586 1587 1588 1589]\n",
      "TRAIN: [0 1 2 3 4] ... [1982 1983 1984 1985 1986]\n",
      "\n",
      "TEST: [1590 1591 1592 1593 1594] ... [1982 1983 1984 1985 1986]\n",
      "TRAIN: [0 1 2 3 4] ... [1585 1586 1587 1588 1589]\n"
     ]
    }
   ],
   "source": [
    "from sklearn.model_selection import KFold\n",
    "\n",
    "kf = KFold(n_splits=5, shuffle=False)\n",
    "\n",
    "for train_indices, test_indices in kf.split(x):    \n",
    "    print()\n",
    "    print(\"TEST:\", test_indices[:5], \"...\", test_indices[-5:])\n",
    "    print(\"TRAIN:\", train_indices[:5], \"...\", train_indices[-5:])"
   ]
  },
  {
   "cell_type": "code",
   "execution_count": 163,
   "id": "797c7645-d778-4c9d-9ca7-6ef519ade94e",
   "metadata": {},
   "outputs": [
    {
     "name": "stdout",
     "output_type": "stream",
     "text": [
      "KKR Entscheidungsbaum: 0.7839195979899497\n",
      "KKR Entscheidungsbaum: 0.821608040201005\n",
      "KKR Entscheidungsbaum: 0.7884130982367759\n",
      "KKR Entscheidungsbaum: 0.760705289672544\n",
      "KKR Entscheidungsbaum: 0.7556675062972292\n"
     ]
    }
   ],
   "source": [
    "KKRs = []\n",
    "\n",
    "for train_indices, test_indices in kf.split(x):\n",
    "    \n",
    "    # 1. Aufspaltung in Trainings- und Testdaten\n",
    "    #    nach dem aktuellen Split\n",
    "    from sklearn.model_selection import train_test_split\n",
    "    x_train = x[train_indices]\n",
    "    y_train = y[train_indices]    \n",
    "    x_test = x[test_indices]\n",
    "    y_test = y[test_indices]\n",
    "    \n",
    "    # 2. Entscheidungsbaum lernen auf den Trainingsdaten\n",
    "    from sklearn import tree\n",
    "    model = tree.DecisionTreeClassifier()\n",
    "    model = model.fit(x_train, y_train)\n",
    "    \n",
    "    # 3. Modellgüte des Entscheidungsbaum\n",
    "    #    auf Basis der Testdaten ermitteln\n",
    "    from sklearn.metrics import accuracy_score\n",
    "    y_pred_test = model.predict( x_test )\n",
    "    KKR = accuracy_score(y_test, y_pred_test)\n",
    "    print( f\"KKR Entscheidungsbaum: {KKR}\" )\n",
    "    \n",
    "    # 4. KKR für diesen Split speichern\n",
    "    KKRs.append( KKR )"
   ]
  },
  {
   "cell_type": "markdown",
   "id": "edb17b19-d7de-4920-ad10-96e123e4cc40",
   "metadata": {},
   "source": [
    "Hier sieht man sehr gut, dass die Modellgüte stark von der jeweiligen Aufspaltung (\"Split\") in Trainings- und Testdaten abhängt.\n",
    "\n",
    "Daher macht es Sinn diese Werte zu sammeln und zu mitteln, um zu einer besseren Aussage zu kommen, wie gut\n",
    "\n",
    "- ein bestimmtes Machine-Learning Verfahren X\n",
    "- auf einem bestimmten Datensatz Y\n",
    "\n",
    "abschneidet."
   ]
  },
  {
   "cell_type": "code",
   "execution_count": 164,
   "id": "75dab84a-4e74-4fc2-b628-fd756380c282",
   "metadata": {},
   "outputs": [
    {
     "data": {
      "text/plain": [
       "[0.7839195979899497,\n",
       " 0.821608040201005,\n",
       " 0.7884130982367759,\n",
       " 0.760705289672544,\n",
       " 0.7556675062972292]"
      ]
     },
     "execution_count": 164,
     "metadata": {},
     "output_type": "execute_result"
    }
   ],
   "source": [
    "KKRs"
   ]
  },
  {
   "cell_type": "code",
   "execution_count": 165,
   "id": "c37e2865-f701-4bc9-a32c-d7019eac445a",
   "metadata": {},
   "outputs": [
    {
     "data": {
      "text/plain": [
       "0.7820627064795007"
      ]
     },
     "execution_count": 165,
     "metadata": {},
     "output_type": "execute_result"
    }
   ],
   "source": [
    "np.mean(KKRs)"
   ]
  },
  {
   "cell_type": "markdown",
   "id": "99c325d1-7e4f-429f-adf7-c4d34b73739f",
   "metadata": {},
   "source": [
    "## k-fache Kreuzvalidierungs als Funktionsaufruf"
   ]
  },
  {
   "cell_type": "markdown",
   "id": "d72d7885-4ba2-4e47-b480-a8391427c0d7",
   "metadata": {},
   "source": [
    "Statt in einer Schleife eine k-fache Kreuzvalidierung durchzuführen, kann man übrigens auch direkt die Funktion `sklearn.model_selection.cross_val_score()` verwenden:"
   ]
  },
  {
   "cell_type": "code",
   "execution_count": 166,
   "id": "56893bc7-f47f-46d9-88f1-993e20458c34",
   "metadata": {},
   "outputs": [],
   "source": [
    "from sklearn.model_selection import cross_val_score\n",
    "from sklearn import tree\n",
    "model = tree.DecisionTreeClassifier()\n",
    "model = model.fit(x_train, y_train)\n",
    "scores = cross_val_score(model, x, y, cv=5)"
   ]
  },
  {
   "cell_type": "code",
   "execution_count": 167,
   "id": "8034e38a-2b26-4408-9b85-3d200dd3be66",
   "metadata": {},
   "outputs": [
    {
     "data": {
      "text/plain": [
       "array([0.78643216, 0.8241206 , 0.76322418, 0.77581864, 0.76322418])"
      ]
     },
     "execution_count": 167,
     "metadata": {},
     "output_type": "execute_result"
    }
   ],
   "source": [
    "scores"
   ]
  },
  {
   "cell_type": "code",
   "execution_count": 168,
   "id": "b9bbb0f1-f311-4e9c-a88c-6c501e82c48b",
   "metadata": {},
   "outputs": [
    {
     "data": {
      "text/plain": [
       "0.7825639532675974"
      ]
     },
     "execution_count": 168,
     "metadata": {},
     "output_type": "execute_result"
    }
   ],
   "source": [
    "np.mean(scores)"
   ]
  },
  {
   "cell_type": "markdown",
   "id": "0f7e4c97-a6b2-45ca-86ee-73e7b5adaf52",
   "metadata": {},
   "source": [
    "# Testen verschiedener Verfahren\n",
    "\n",
    "Jetzt haben wir nicht nur gesehen, wie man verschiedene Machine-Learning Verfahren, die in scikit-learn implementiert sind auf die Daten los lasen kann, sondern auch, wie man durch k-fache Kreuzvalidierung zu einer besseren Einschätzung der jeweiligen Modellgüte kommt.\n",
    "\n",
    "Könnten wir den ganzen Vorgang der automatischen Modellsuche daher nicht automatisieren? Genau das machen wir jetzt!"
   ]
  },
  {
   "cell_type": "code",
   "execution_count": 169,
   "id": "303f5c9b-b891-44f0-b7fb-8fc6f5064e90",
   "metadata": {},
   "outputs": [],
   "source": [
    "import pandas\n",
    "t = pandas.read_csv(\"TravelInsurancePrediction.csv\")\n",
    "t = t.drop( \"Unnamed: 0\", axis=1)\n",
    "t = pandas.get_dummies(t)\n",
    "\n",
    "x = t.drop(\"TravelInsurance\", axis=1).values\n",
    "y = t[ \"TravelInsurance\" ].values"
   ]
  },
  {
   "cell_type": "code",
   "execution_count": 170,
   "id": "9d6dabea-4a71-4dc9-8d83-6a52baa1a487",
   "metadata": {},
   "outputs": [
    {
     "name": "stdout",
     "output_type": "stream",
     "text": [
      "\n",
      " DecisionTreeClassifier()\n",
      "[0.7839196  0.82663317 0.77078086 0.77833753 0.76574307]\n",
      "---> KKR Durchschnitt: 0.79\n",
      "\n",
      " RandomForestClassifier(n_estimators=1000)\n",
      "[0.76884422 0.81155779 0.80100756 0.76574307 0.77329975]\n",
      "---> KKR Durchschnitt: 0.78\n",
      "\n",
      " SVC()\n",
      "[0.75628141 0.78894472 0.80100756 0.78085642 0.79093199]\n",
      "---> KKR Durchschnitt: 0.78\n",
      "\n",
      " GradientBoostingClassifier()\n",
      "[0.81909548 0.84924623 0.84130982 0.82871537 0.82115869]\n",
      "---> KKR Durchschnitt: 0.83\n",
      "\n",
      " XGBClassifier(learning_rate=0.01, use_label_encoder=False)\n",
      "[0.81407035 0.84170854 0.84634761 0.83123426 0.82871537]\n",
      "---> KKR Durchschnitt: 0.83\n"
     ]
    }
   ],
   "source": [
    "from sklearn.tree import DecisionTreeClassifier\n",
    "from sklearn.ensemble import RandomForestClassifier\n",
    "from sklearn.svm import SVC\n",
    "from sklearn.ensemble import GradientBoostingClassifier\n",
    "from xgboost import XGBClassifier\n",
    "\n",
    "verfahrens_liste = [ \n",
    "                     \"DecisionTreeClassifier()\",\n",
    "                     \"RandomForestClassifier(n_estimators=1000)\",\n",
    "                     \"SVC()\",\n",
    "                     \"GradientBoostingClassifier()\",\n",
    "                     \"XGBClassifier(learning_rate=0.01, use_label_encoder=False)\"\n",
    "                   ]\n",
    "\n",
    "for verfahren in verfahrens_liste:    \n",
    "    model = eval(verfahren)\n",
    "    model = model.fit(x_train, y_train)\n",
    "    scores = cross_val_score(model, x, y, cv=5)\n",
    "    print( \"\\n\", verfahren )\n",
    "    print( scores )\n",
    "    print( f\"---> KKR Durchschnitt: {np.mean(scores):.2f}\" )"
   ]
  },
  {
   "cell_type": "code",
   "execution_count": null,
   "id": "d814d2d6-61c1-46d0-a504-6af52a8c15d9",
   "metadata": {},
   "outputs": [],
   "source": []
  }
 ],
 "metadata": {
  "kernelspec": {
   "display_name": "Python 3 (ipykernel)",
   "language": "python",
   "name": "python3"
  },
  "language_info": {
   "codemirror_mode": {
    "name": "ipython",
    "version": 3
   },
   "file_extension": ".py",
   "mimetype": "text/x-python",
   "name": "python",
   "nbconvert_exporter": "python",
   "pygments_lexer": "ipython3",
   "version": "3.8.10"
  },
  "toc-autonumbering": true
 },
 "nbformat": 4,
 "nbformat_minor": 5
}
