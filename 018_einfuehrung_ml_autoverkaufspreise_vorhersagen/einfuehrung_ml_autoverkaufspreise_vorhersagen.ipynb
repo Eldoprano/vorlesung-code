{
 "cells": [
  {
   "cell_type": "markdown",
   "id": "066a49f5-520c-462e-8e7e-87872a3e2e79",
   "metadata": {},
   "source": [
    "# Einleitung\n",
    "\n",
    "Dieses Notebook soll zeigen wie einfach Machine Learning ist!\n",
    "\n",
    "Wir werden versuchen den Verkaufspreis eines Autos vorherzusagen und auch überprüfen wie gut unsere Modelle dies für Testautos können!"
   ]
  },
  {
   "cell_type": "markdown",
   "id": "b698b45a-7110-4c16-a6f9-a04b18b5cba4",
   "metadata": {},
   "source": [
    "# Verwendeter Datensatz\n",
    "\n",
    "- Name: \"Germany Cars Dataset\"    \n",
    "- URL: https://www.kaggle.com/datasets/ander289386/cars-germany\n",
    "- Lizenz: Public Domain\n",
    "- Größe: 510 KB\n",
    "- Umfang: 9 Merkmale für 46405 Fahrzeuge"
   ]
  },
  {
   "cell_type": "markdown",
   "id": "4319d850-1da8-4b08-9a1e-290aba8c355d",
   "metadata": {},
   "source": [
    "# Daten einlesen"
   ]
  },
  {
   "cell_type": "code",
   "execution_count": 1,
   "id": "8589b5ef-7c18-4fc1-b507-1c71c1598f20",
   "metadata": {},
   "outputs": [],
   "source": [
    "import pandas\n",
    "t = pandas.read_csv(\"autoscout24-germany-dataset.csv\")"
   ]
  },
  {
   "cell_type": "code",
   "execution_count": 2,
   "id": "907f7bd9-3deb-43c3-b375-e7a0a722eb99",
   "metadata": {},
   "outputs": [
    {
     "data": {
      "text/html": [
       "<div>\n",
       "<style scoped>\n",
       "    .dataframe tbody tr th:only-of-type {\n",
       "        vertical-align: middle;\n",
       "    }\n",
       "\n",
       "    .dataframe tbody tr th {\n",
       "        vertical-align: top;\n",
       "    }\n",
       "\n",
       "    .dataframe thead th {\n",
       "        text-align: right;\n",
       "    }\n",
       "</style>\n",
       "<table border=\"1\" class=\"dataframe\">\n",
       "  <thead>\n",
       "    <tr style=\"text-align: right;\">\n",
       "      <th></th>\n",
       "      <th>mileage</th>\n",
       "      <th>make</th>\n",
       "      <th>model</th>\n",
       "      <th>fuel</th>\n",
       "      <th>gear</th>\n",
       "      <th>offerType</th>\n",
       "      <th>price</th>\n",
       "      <th>hp</th>\n",
       "      <th>year</th>\n",
       "    </tr>\n",
       "  </thead>\n",
       "  <tbody>\n",
       "    <tr>\n",
       "      <th>0</th>\n",
       "      <td>235000</td>\n",
       "      <td>BMW</td>\n",
       "      <td>316</td>\n",
       "      <td>Diesel</td>\n",
       "      <td>Manual</td>\n",
       "      <td>Used</td>\n",
       "      <td>6800</td>\n",
       "      <td>116.0</td>\n",
       "      <td>2011</td>\n",
       "    </tr>\n",
       "    <tr>\n",
       "      <th>1</th>\n",
       "      <td>92800</td>\n",
       "      <td>Volkswagen</td>\n",
       "      <td>Golf</td>\n",
       "      <td>Gasoline</td>\n",
       "      <td>Manual</td>\n",
       "      <td>Used</td>\n",
       "      <td>6877</td>\n",
       "      <td>122.0</td>\n",
       "      <td>2011</td>\n",
       "    </tr>\n",
       "    <tr>\n",
       "      <th>2</th>\n",
       "      <td>149300</td>\n",
       "      <td>SEAT</td>\n",
       "      <td>Exeo</td>\n",
       "      <td>Gasoline</td>\n",
       "      <td>Manual</td>\n",
       "      <td>Used</td>\n",
       "      <td>6900</td>\n",
       "      <td>160.0</td>\n",
       "      <td>2011</td>\n",
       "    </tr>\n",
       "    <tr>\n",
       "      <th>3</th>\n",
       "      <td>96200</td>\n",
       "      <td>Renault</td>\n",
       "      <td>Megane</td>\n",
       "      <td>Gasoline</td>\n",
       "      <td>Manual</td>\n",
       "      <td>Used</td>\n",
       "      <td>6950</td>\n",
       "      <td>110.0</td>\n",
       "      <td>2011</td>\n",
       "    </tr>\n",
       "    <tr>\n",
       "      <th>4</th>\n",
       "      <td>156000</td>\n",
       "      <td>Peugeot</td>\n",
       "      <td>308</td>\n",
       "      <td>Gasoline</td>\n",
       "      <td>Manual</td>\n",
       "      <td>Used</td>\n",
       "      <td>6950</td>\n",
       "      <td>156.0</td>\n",
       "      <td>2011</td>\n",
       "    </tr>\n",
       "    <tr>\n",
       "      <th>...</th>\n",
       "      <td>...</td>\n",
       "      <td>...</td>\n",
       "      <td>...</td>\n",
       "      <td>...</td>\n",
       "      <td>...</td>\n",
       "      <td>...</td>\n",
       "      <td>...</td>\n",
       "      <td>...</td>\n",
       "      <td>...</td>\n",
       "    </tr>\n",
       "    <tr>\n",
       "      <th>46400</th>\n",
       "      <td>99</td>\n",
       "      <td>Fiat</td>\n",
       "      <td>500</td>\n",
       "      <td>Electric/Gasoline</td>\n",
       "      <td>Manual</td>\n",
       "      <td>Pre-registered</td>\n",
       "      <td>12990</td>\n",
       "      <td>71.0</td>\n",
       "      <td>2021</td>\n",
       "    </tr>\n",
       "    <tr>\n",
       "      <th>46401</th>\n",
       "      <td>99</td>\n",
       "      <td>Fiat</td>\n",
       "      <td>500</td>\n",
       "      <td>Electric/Gasoline</td>\n",
       "      <td>Manual</td>\n",
       "      <td>Pre-registered</td>\n",
       "      <td>12990</td>\n",
       "      <td>71.0</td>\n",
       "      <td>2021</td>\n",
       "    </tr>\n",
       "    <tr>\n",
       "      <th>46402</th>\n",
       "      <td>99</td>\n",
       "      <td>Fiat</td>\n",
       "      <td>500</td>\n",
       "      <td>Electric/Gasoline</td>\n",
       "      <td>Manual</td>\n",
       "      <td>Pre-registered</td>\n",
       "      <td>12990</td>\n",
       "      <td>71.0</td>\n",
       "      <td>2021</td>\n",
       "    </tr>\n",
       "    <tr>\n",
       "      <th>46403</th>\n",
       "      <td>99</td>\n",
       "      <td>Fiat</td>\n",
       "      <td>500</td>\n",
       "      <td>Electric/Gasoline</td>\n",
       "      <td>Manual</td>\n",
       "      <td>Pre-registered</td>\n",
       "      <td>12990</td>\n",
       "      <td>71.0</td>\n",
       "      <td>2021</td>\n",
       "    </tr>\n",
       "    <tr>\n",
       "      <th>46404</th>\n",
       "      <td>99</td>\n",
       "      <td>Fiat</td>\n",
       "      <td>500</td>\n",
       "      <td>Electric/Gasoline</td>\n",
       "      <td>Manual</td>\n",
       "      <td>Pre-registered</td>\n",
       "      <td>12990</td>\n",
       "      <td>71.0</td>\n",
       "      <td>2021</td>\n",
       "    </tr>\n",
       "  </tbody>\n",
       "</table>\n",
       "<p>46405 rows × 9 columns</p>\n",
       "</div>"
      ],
      "text/plain": [
       "       mileage        make   model               fuel    gear       offerType  \\\n",
       "0       235000         BMW     316             Diesel  Manual            Used   \n",
       "1        92800  Volkswagen    Golf           Gasoline  Manual            Used   \n",
       "2       149300        SEAT    Exeo           Gasoline  Manual            Used   \n",
       "3        96200     Renault  Megane           Gasoline  Manual            Used   \n",
       "4       156000     Peugeot     308           Gasoline  Manual            Used   \n",
       "...        ...         ...     ...                ...     ...             ...   \n",
       "46400       99        Fiat     500  Electric/Gasoline  Manual  Pre-registered   \n",
       "46401       99        Fiat     500  Electric/Gasoline  Manual  Pre-registered   \n",
       "46402       99        Fiat     500  Electric/Gasoline  Manual  Pre-registered   \n",
       "46403       99        Fiat     500  Electric/Gasoline  Manual  Pre-registered   \n",
       "46404       99        Fiat     500  Electric/Gasoline  Manual  Pre-registered   \n",
       "\n",
       "       price     hp  year  \n",
       "0       6800  116.0  2011  \n",
       "1       6877  122.0  2011  \n",
       "2       6900  160.0  2011  \n",
       "3       6950  110.0  2011  \n",
       "4       6950  156.0  2011  \n",
       "...      ...    ...   ...  \n",
       "46400  12990   71.0  2021  \n",
       "46401  12990   71.0  2021  \n",
       "46402  12990   71.0  2021  \n",
       "46403  12990   71.0  2021  \n",
       "46404  12990   71.0  2021  \n",
       "\n",
       "[46405 rows x 9 columns]"
      ]
     },
     "execution_count": 2,
     "metadata": {},
     "output_type": "execute_result"
    }
   ],
   "source": [
    "t"
   ]
  },
  {
   "cell_type": "markdown",
   "id": "16921577-d7d9-49da-a659-61fd70666905",
   "metadata": {},
   "source": [
    "# Daten bereinigen"
   ]
  },
  {
   "cell_type": "markdown",
   "id": "efba79c0-897d-4771-b254-219cc103cdfb",
   "metadata": {},
   "source": [
    "## Daten auf Vollständigkeit und Plausibilität überprüfen"
   ]
  },
  {
   "cell_type": "code",
   "execution_count": 3,
   "id": "ce96b325-25dc-41c5-bc1f-7d47b3eda8b9",
   "metadata": {},
   "outputs": [
    {
     "data": {
      "text/html": [
       "<div>\n",
       "<style scoped>\n",
       "    .dataframe tbody tr th:only-of-type {\n",
       "        vertical-align: middle;\n",
       "    }\n",
       "\n",
       "    .dataframe tbody tr th {\n",
       "        vertical-align: top;\n",
       "    }\n",
       "\n",
       "    .dataframe thead th {\n",
       "        text-align: right;\n",
       "    }\n",
       "</style>\n",
       "<table border=\"1\" class=\"dataframe\">\n",
       "  <thead>\n",
       "    <tr style=\"text-align: right;\">\n",
       "      <th></th>\n",
       "      <th>mileage</th>\n",
       "      <th>price</th>\n",
       "      <th>hp</th>\n",
       "      <th>year</th>\n",
       "    </tr>\n",
       "  </thead>\n",
       "  <tbody>\n",
       "    <tr>\n",
       "      <th>count</th>\n",
       "      <td>4.640500e+04</td>\n",
       "      <td>4.640500e+04</td>\n",
       "      <td>46376.000000</td>\n",
       "      <td>46405.000000</td>\n",
       "    </tr>\n",
       "    <tr>\n",
       "      <th>mean</th>\n",
       "      <td>7.117786e+04</td>\n",
       "      <td>1.657234e+04</td>\n",
       "      <td>132.990987</td>\n",
       "      <td>2016.012951</td>\n",
       "    </tr>\n",
       "    <tr>\n",
       "      <th>std</th>\n",
       "      <td>6.262531e+04</td>\n",
       "      <td>1.930470e+04</td>\n",
       "      <td>75.449284</td>\n",
       "      <td>3.155214</td>\n",
       "    </tr>\n",
       "    <tr>\n",
       "      <th>min</th>\n",
       "      <td>0.000000e+00</td>\n",
       "      <td>1.100000e+03</td>\n",
       "      <td>1.000000</td>\n",
       "      <td>2011.000000</td>\n",
       "    </tr>\n",
       "    <tr>\n",
       "      <th>25%</th>\n",
       "      <td>1.980000e+04</td>\n",
       "      <td>7.490000e+03</td>\n",
       "      <td>86.000000</td>\n",
       "      <td>2013.000000</td>\n",
       "    </tr>\n",
       "    <tr>\n",
       "      <th>50%</th>\n",
       "      <td>6.000000e+04</td>\n",
       "      <td>1.099900e+04</td>\n",
       "      <td>116.000000</td>\n",
       "      <td>2016.000000</td>\n",
       "    </tr>\n",
       "    <tr>\n",
       "      <th>75%</th>\n",
       "      <td>1.050000e+05</td>\n",
       "      <td>1.949000e+04</td>\n",
       "      <td>150.000000</td>\n",
       "      <td>2019.000000</td>\n",
       "    </tr>\n",
       "    <tr>\n",
       "      <th>max</th>\n",
       "      <td>1.111111e+06</td>\n",
       "      <td>1.199900e+06</td>\n",
       "      <td>850.000000</td>\n",
       "      <td>2021.000000</td>\n",
       "    </tr>\n",
       "  </tbody>\n",
       "</table>\n",
       "</div>"
      ],
      "text/plain": [
       "            mileage         price            hp          year\n",
       "count  4.640500e+04  4.640500e+04  46376.000000  46405.000000\n",
       "mean   7.117786e+04  1.657234e+04    132.990987   2016.012951\n",
       "std    6.262531e+04  1.930470e+04     75.449284      3.155214\n",
       "min    0.000000e+00  1.100000e+03      1.000000   2011.000000\n",
       "25%    1.980000e+04  7.490000e+03     86.000000   2013.000000\n",
       "50%    6.000000e+04  1.099900e+04    116.000000   2016.000000\n",
       "75%    1.050000e+05  1.949000e+04    150.000000   2019.000000\n",
       "max    1.111111e+06  1.199900e+06    850.000000   2021.000000"
      ]
     },
     "execution_count": 3,
     "metadata": {},
     "output_type": "execute_result"
    }
   ],
   "source": [
    "t.describe()"
   ]
  },
  {
   "cell_type": "code",
   "execution_count": 4,
   "id": "6e5c2293-e027-4019-ab44-f7d08c9193c7",
   "metadata": {},
   "outputs": [
    {
     "data": {
      "text/html": [
       "<div>\n",
       "<style scoped>\n",
       "    .dataframe tbody tr th:only-of-type {\n",
       "        vertical-align: middle;\n",
       "    }\n",
       "\n",
       "    .dataframe tbody tr th {\n",
       "        vertical-align: top;\n",
       "    }\n",
       "\n",
       "    .dataframe thead th {\n",
       "        text-align: right;\n",
       "    }\n",
       "</style>\n",
       "<table border=\"1\" class=\"dataframe\">\n",
       "  <thead>\n",
       "    <tr style=\"text-align: right;\">\n",
       "      <th></th>\n",
       "      <th>mileage</th>\n",
       "      <th>price</th>\n",
       "      <th>hp</th>\n",
       "      <th>year</th>\n",
       "    </tr>\n",
       "  </thead>\n",
       "  <tbody>\n",
       "    <tr>\n",
       "      <th>count</th>\n",
       "      <td>46405.00000</td>\n",
       "      <td>46405.00000</td>\n",
       "      <td>46376.00000</td>\n",
       "      <td>46405.00000</td>\n",
       "    </tr>\n",
       "    <tr>\n",
       "      <th>mean</th>\n",
       "      <td>71177.86411</td>\n",
       "      <td>16572.33723</td>\n",
       "      <td>132.99099</td>\n",
       "      <td>2016.01295</td>\n",
       "    </tr>\n",
       "    <tr>\n",
       "      <th>std</th>\n",
       "      <td>62625.30846</td>\n",
       "      <td>19304.69592</td>\n",
       "      <td>75.44928</td>\n",
       "      <td>3.15521</td>\n",
       "    </tr>\n",
       "    <tr>\n",
       "      <th>min</th>\n",
       "      <td>0.00000</td>\n",
       "      <td>1100.00000</td>\n",
       "      <td>1.00000</td>\n",
       "      <td>2011.00000</td>\n",
       "    </tr>\n",
       "    <tr>\n",
       "      <th>25%</th>\n",
       "      <td>19800.00000</td>\n",
       "      <td>7490.00000</td>\n",
       "      <td>86.00000</td>\n",
       "      <td>2013.00000</td>\n",
       "    </tr>\n",
       "    <tr>\n",
       "      <th>50%</th>\n",
       "      <td>60000.00000</td>\n",
       "      <td>10999.00000</td>\n",
       "      <td>116.00000</td>\n",
       "      <td>2016.00000</td>\n",
       "    </tr>\n",
       "    <tr>\n",
       "      <th>75%</th>\n",
       "      <td>105000.00000</td>\n",
       "      <td>19490.00000</td>\n",
       "      <td>150.00000</td>\n",
       "      <td>2019.00000</td>\n",
       "    </tr>\n",
       "    <tr>\n",
       "      <th>max</th>\n",
       "      <td>1111111.00000</td>\n",
       "      <td>1199900.00000</td>\n",
       "      <td>850.00000</td>\n",
       "      <td>2021.00000</td>\n",
       "    </tr>\n",
       "  </tbody>\n",
       "</table>\n",
       "</div>"
      ],
      "text/plain": [
       "            mileage         price          hp        year\n",
       "count   46405.00000   46405.00000 46376.00000 46405.00000\n",
       "mean    71177.86411   16572.33723   132.99099  2016.01295\n",
       "std     62625.30846   19304.69592    75.44928     3.15521\n",
       "min         0.00000    1100.00000     1.00000  2011.00000\n",
       "25%     19800.00000    7490.00000    86.00000  2013.00000\n",
       "50%     60000.00000   10999.00000   116.00000  2016.00000\n",
       "75%    105000.00000   19490.00000   150.00000  2019.00000\n",
       "max   1111111.00000 1199900.00000   850.00000  2021.00000"
      ]
     },
     "execution_count": 4,
     "metadata": {},
     "output_type": "execute_result"
    }
   ],
   "source": [
    "pandas.options.display.float_format = '{:.5f}'.format\n",
    "t.describe()"
   ]
  },
  {
   "cell_type": "markdown",
   "id": "e5335cec-701c-4dcb-a6e4-97158926b307",
   "metadata": {},
   "source": [
    "## Selektieren aller Zeilen, in denen was fehlt"
   ]
  },
  {
   "cell_type": "code",
   "execution_count": 5,
   "id": "1fbdfac1-a812-476f-a141-6f5f831aa2a7",
   "metadata": {},
   "outputs": [
    {
     "data": {
      "text/html": [
       "<div>\n",
       "<style scoped>\n",
       "    .dataframe tbody tr th:only-of-type {\n",
       "        vertical-align: middle;\n",
       "    }\n",
       "\n",
       "    .dataframe tbody tr th {\n",
       "        vertical-align: top;\n",
       "    }\n",
       "\n",
       "    .dataframe thead th {\n",
       "        text-align: right;\n",
       "    }\n",
       "</style>\n",
       "<table border=\"1\" class=\"dataframe\">\n",
       "  <thead>\n",
       "    <tr style=\"text-align: right;\">\n",
       "      <th></th>\n",
       "      <th>mileage</th>\n",
       "      <th>make</th>\n",
       "      <th>model</th>\n",
       "      <th>fuel</th>\n",
       "      <th>gear</th>\n",
       "      <th>offerType</th>\n",
       "      <th>price</th>\n",
       "      <th>hp</th>\n",
       "      <th>year</th>\n",
       "    </tr>\n",
       "  </thead>\n",
       "  <tbody>\n",
       "    <tr>\n",
       "      <th>482</th>\n",
       "      <td>36018</td>\n",
       "      <td>Mitsubishi</td>\n",
       "      <td>Space Star</td>\n",
       "      <td>Gasoline</td>\n",
       "      <td>Manual</td>\n",
       "      <td>Used</td>\n",
       "      <td>6222</td>\n",
       "      <td>NaN</td>\n",
       "      <td>2015</td>\n",
       "    </tr>\n",
       "    <tr>\n",
       "      <th>2368</th>\n",
       "      <td>36018</td>\n",
       "      <td>Mitsubishi</td>\n",
       "      <td>Space Star</td>\n",
       "      <td>Gasoline</td>\n",
       "      <td>Manual</td>\n",
       "      <td>Used</td>\n",
       "      <td>6222</td>\n",
       "      <td>NaN</td>\n",
       "      <td>2015</td>\n",
       "    </tr>\n",
       "    <tr>\n",
       "      <th>5552</th>\n",
       "      <td>129375</td>\n",
       "      <td>Peugeot</td>\n",
       "      <td>207</td>\n",
       "      <td>Gasoline</td>\n",
       "      <td>Manual</td>\n",
       "      <td>Used</td>\n",
       "      <td>5950</td>\n",
       "      <td>NaN</td>\n",
       "      <td>2013</td>\n",
       "    </tr>\n",
       "    <tr>\n",
       "      <th>5760</th>\n",
       "      <td>129375</td>\n",
       "      <td>Peugeot</td>\n",
       "      <td>207</td>\n",
       "      <td>Gasoline</td>\n",
       "      <td>Manual</td>\n",
       "      <td>Used</td>\n",
       "      <td>5950</td>\n",
       "      <td>NaN</td>\n",
       "      <td>2013</td>\n",
       "    </tr>\n",
       "    <tr>\n",
       "      <th>8892</th>\n",
       "      <td>71113</td>\n",
       "      <td>Opel</td>\n",
       "      <td>Corsa</td>\n",
       "      <td>Gasoline</td>\n",
       "      <td>Manual</td>\n",
       "      <td>Used</td>\n",
       "      <td>5666</td>\n",
       "      <td>NaN</td>\n",
       "      <td>2012</td>\n",
       "    </tr>\n",
       "    <tr>\n",
       "      <th>9264</th>\n",
       "      <td>5</td>\n",
       "      <td>Aixam</td>\n",
       "      <td>NaN</td>\n",
       "      <td>Electric</td>\n",
       "      <td>Automatic</td>\n",
       "      <td>Pre-registered</td>\n",
       "      <td>22180</td>\n",
       "      <td>NaN</td>\n",
       "      <td>2021</td>\n",
       "    </tr>\n",
       "    <tr>\n",
       "      <th>10575</th>\n",
       "      <td>72109</td>\n",
       "      <td>Ford</td>\n",
       "      <td>Fiesta</td>\n",
       "      <td>Gasoline</td>\n",
       "      <td>Manual</td>\n",
       "      <td>Used</td>\n",
       "      <td>6222</td>\n",
       "      <td>NaN</td>\n",
       "      <td>2013</td>\n",
       "    </tr>\n",
       "    <tr>\n",
       "      <th>10779</th>\n",
       "      <td>71113</td>\n",
       "      <td>Opel</td>\n",
       "      <td>Corsa</td>\n",
       "      <td>Gasoline</td>\n",
       "      <td>Manual</td>\n",
       "      <td>Used</td>\n",
       "      <td>5666</td>\n",
       "      <td>NaN</td>\n",
       "      <td>2012</td>\n",
       "    </tr>\n",
       "    <tr>\n",
       "      <th>10782</th>\n",
       "      <td>72109</td>\n",
       "      <td>Ford</td>\n",
       "      <td>Fiesta</td>\n",
       "      <td>Gasoline</td>\n",
       "      <td>Manual</td>\n",
       "      <td>Used</td>\n",
       "      <td>6222</td>\n",
       "      <td>NaN</td>\n",
       "      <td>2013</td>\n",
       "    </tr>\n",
       "    <tr>\n",
       "      <th>12000</th>\n",
       "      <td>139</td>\n",
       "      <td>Renault</td>\n",
       "      <td>Twingo</td>\n",
       "      <td>Electric</td>\n",
       "      <td>Automatic</td>\n",
       "      <td>Demonstration</td>\n",
       "      <td>15990</td>\n",
       "      <td>NaN</td>\n",
       "      <td>2021</td>\n",
       "    </tr>\n",
       "    <tr>\n",
       "      <th>12549</th>\n",
       "      <td>46587</td>\n",
       "      <td>Opel</td>\n",
       "      <td>Corsa</td>\n",
       "      <td>-/- (Fuel)</td>\n",
       "      <td>Manual</td>\n",
       "      <td>Used</td>\n",
       "      <td>7555</td>\n",
       "      <td>NaN</td>\n",
       "      <td>2015</td>\n",
       "    </tr>\n",
       "    <tr>\n",
       "      <th>12858</th>\n",
       "      <td>1500</td>\n",
       "      <td>Citroen</td>\n",
       "      <td>C3</td>\n",
       "      <td>Gasoline</td>\n",
       "      <td>Manual</td>\n",
       "      <td>Demonstration</td>\n",
       "      <td>15750</td>\n",
       "      <td>NaN</td>\n",
       "      <td>2020</td>\n",
       "    </tr>\n",
       "    <tr>\n",
       "      <th>14010</th>\n",
       "      <td>46587</td>\n",
       "      <td>Opel</td>\n",
       "      <td>Corsa</td>\n",
       "      <td>-/- (Fuel)</td>\n",
       "      <td>Manual</td>\n",
       "      <td>Used</td>\n",
       "      <td>7555</td>\n",
       "      <td>NaN</td>\n",
       "      <td>2015</td>\n",
       "    </tr>\n",
       "    <tr>\n",
       "      <th>17752</th>\n",
       "      <td>150</td>\n",
       "      <td>Others</td>\n",
       "      <td>NaN</td>\n",
       "      <td>Electric</td>\n",
       "      <td>Automatic</td>\n",
       "      <td>Employee's car</td>\n",
       "      <td>4490</td>\n",
       "      <td>NaN</td>\n",
       "      <td>2020</td>\n",
       "    </tr>\n",
       "    <tr>\n",
       "      <th>24953</th>\n",
       "      <td>0</td>\n",
       "      <td>Fiat</td>\n",
       "      <td>500</td>\n",
       "      <td>Electric</td>\n",
       "      <td>Automatic</td>\n",
       "      <td>Demonstration</td>\n",
       "      <td>32990</td>\n",
       "      <td>NaN</td>\n",
       "      <td>2021</td>\n",
       "    </tr>\n",
       "    <tr>\n",
       "      <th>26612</th>\n",
       "      <td>7000</td>\n",
       "      <td>Hyundai</td>\n",
       "      <td>Kona</td>\n",
       "      <td>Electric</td>\n",
       "      <td>Automatic</td>\n",
       "      <td>Used</td>\n",
       "      <td>30490</td>\n",
       "      <td>NaN</td>\n",
       "      <td>2019</td>\n",
       "    </tr>\n",
       "    <tr>\n",
       "      <th>27469</th>\n",
       "      <td>3000</td>\n",
       "      <td>smart</td>\n",
       "      <td>forTwo</td>\n",
       "      <td>Electric</td>\n",
       "      <td>Automatic</td>\n",
       "      <td>Demonstration</td>\n",
       "      <td>18890</td>\n",
       "      <td>NaN</td>\n",
       "      <td>2021</td>\n",
       "    </tr>\n",
       "    <tr>\n",
       "      <th>27659</th>\n",
       "      <td>12128</td>\n",
       "      <td>Opel</td>\n",
       "      <td>Insignia</td>\n",
       "      <td>Gasoline</td>\n",
       "      <td>Manual</td>\n",
       "      <td>Used</td>\n",
       "      <td>20850</td>\n",
       "      <td>NaN</td>\n",
       "      <td>2019</td>\n",
       "    </tr>\n",
       "    <tr>\n",
       "      <th>30919</th>\n",
       "      <td>351000</td>\n",
       "      <td>Dacia</td>\n",
       "      <td>Duster</td>\n",
       "      <td>Gasoline</td>\n",
       "      <td>Manual</td>\n",
       "      <td>Used</td>\n",
       "      <td>4390</td>\n",
       "      <td>NaN</td>\n",
       "      <td>2012</td>\n",
       "    </tr>\n",
       "    <tr>\n",
       "      <th>30920</th>\n",
       "      <td>351000</td>\n",
       "      <td>Dacia</td>\n",
       "      <td>Duster</td>\n",
       "      <td>LPG</td>\n",
       "      <td>Manual</td>\n",
       "      <td>Used</td>\n",
       "      <td>4390</td>\n",
       "      <td>NaN</td>\n",
       "      <td>2012</td>\n",
       "    </tr>\n",
       "    <tr>\n",
       "      <th>31190</th>\n",
       "      <td>40357</td>\n",
       "      <td>Mitsubishi</td>\n",
       "      <td>Space Star</td>\n",
       "      <td>Gasoline</td>\n",
       "      <td>Manual</td>\n",
       "      <td>Used</td>\n",
       "      <td>5444</td>\n",
       "      <td>NaN</td>\n",
       "      <td>2015</td>\n",
       "    </tr>\n",
       "    <tr>\n",
       "      <th>34328</th>\n",
       "      <td>78637</td>\n",
       "      <td>Skoda</td>\n",
       "      <td>Fabia</td>\n",
       "      <td>Gasoline</td>\n",
       "      <td>Manual</td>\n",
       "      <td>Used</td>\n",
       "      <td>5999</td>\n",
       "      <td>NaN</td>\n",
       "      <td>2011</td>\n",
       "    </tr>\n",
       "    <tr>\n",
       "      <th>38049</th>\n",
       "      <td>999999</td>\n",
       "      <td>BMW</td>\n",
       "      <td>320</td>\n",
       "      <td>-/- (Fuel)</td>\n",
       "      <td>NaN</td>\n",
       "      <td>Used</td>\n",
       "      <td>1999</td>\n",
       "      <td>NaN</td>\n",
       "      <td>2014</td>\n",
       "    </tr>\n",
       "    <tr>\n",
       "      <th>39762</th>\n",
       "      <td>2000</td>\n",
       "      <td>Caravans-Wohnm</td>\n",
       "      <td>Adria</td>\n",
       "      <td>-/- (Fuel)</td>\n",
       "      <td>NaN</td>\n",
       "      <td>Used</td>\n",
       "      <td>24500</td>\n",
       "      <td>NaN</td>\n",
       "      <td>2016</td>\n",
       "    </tr>\n",
       "    <tr>\n",
       "      <th>42111</th>\n",
       "      <td>20</td>\n",
       "      <td>Others</td>\n",
       "      <td>NaN</td>\n",
       "      <td>Electric</td>\n",
       "      <td>NaN</td>\n",
       "      <td>Used</td>\n",
       "      <td>4850</td>\n",
       "      <td>NaN</td>\n",
       "      <td>2018</td>\n",
       "    </tr>\n",
       "    <tr>\n",
       "      <th>44772</th>\n",
       "      <td>5729</td>\n",
       "      <td>Mercedes-Benz</td>\n",
       "      <td>C 200</td>\n",
       "      <td>Gasoline</td>\n",
       "      <td>Automatic</td>\n",
       "      <td>Employee's car</td>\n",
       "      <td>36870</td>\n",
       "      <td>NaN</td>\n",
       "      <td>2020</td>\n",
       "    </tr>\n",
       "    <tr>\n",
       "      <th>45922</th>\n",
       "      <td>10</td>\n",
       "      <td>Fiat</td>\n",
       "      <td>500</td>\n",
       "      <td>Electric</td>\n",
       "      <td>Automatic</td>\n",
       "      <td>Demonstration</td>\n",
       "      <td>33690</td>\n",
       "      <td>NaN</td>\n",
       "      <td>2021</td>\n",
       "    </tr>\n",
       "    <tr>\n",
       "      <th>45923</th>\n",
       "      <td>10</td>\n",
       "      <td>Fiat</td>\n",
       "      <td>500C</td>\n",
       "      <td>Electric</td>\n",
       "      <td>Automatic</td>\n",
       "      <td>Demonstration</td>\n",
       "      <td>36890</td>\n",
       "      <td>NaN</td>\n",
       "      <td>2021</td>\n",
       "    </tr>\n",
       "    <tr>\n",
       "      <th>45924</th>\n",
       "      <td>363</td>\n",
       "      <td>Fiat</td>\n",
       "      <td>500C</td>\n",
       "      <td>Electric</td>\n",
       "      <td>Automatic</td>\n",
       "      <td>Demonstration</td>\n",
       "      <td>36890</td>\n",
       "      <td>NaN</td>\n",
       "      <td>2021</td>\n",
       "    </tr>\n",
       "  </tbody>\n",
       "</table>\n",
       "</div>"
      ],
      "text/plain": [
       "       mileage            make       model        fuel       gear  \\\n",
       "482      36018      Mitsubishi  Space Star    Gasoline     Manual   \n",
       "2368     36018      Mitsubishi  Space Star    Gasoline     Manual   \n",
       "5552    129375         Peugeot         207    Gasoline     Manual   \n",
       "5760    129375         Peugeot         207    Gasoline     Manual   \n",
       "8892     71113            Opel       Corsa    Gasoline     Manual   \n",
       "9264         5           Aixam         NaN    Electric  Automatic   \n",
       "10575    72109            Ford      Fiesta    Gasoline     Manual   \n",
       "10779    71113            Opel       Corsa    Gasoline     Manual   \n",
       "10782    72109            Ford      Fiesta    Gasoline     Manual   \n",
       "12000      139         Renault      Twingo    Electric  Automatic   \n",
       "12549    46587            Opel       Corsa  -/- (Fuel)     Manual   \n",
       "12858     1500         Citroen          C3    Gasoline     Manual   \n",
       "14010    46587            Opel       Corsa  -/- (Fuel)     Manual   \n",
       "17752      150          Others         NaN    Electric  Automatic   \n",
       "24953        0            Fiat         500    Electric  Automatic   \n",
       "26612     7000         Hyundai        Kona    Electric  Automatic   \n",
       "27469     3000           smart      forTwo    Electric  Automatic   \n",
       "27659    12128            Opel    Insignia    Gasoline     Manual   \n",
       "30919   351000           Dacia      Duster    Gasoline     Manual   \n",
       "30920   351000           Dacia      Duster         LPG     Manual   \n",
       "31190    40357      Mitsubishi  Space Star    Gasoline     Manual   \n",
       "34328    78637           Skoda       Fabia    Gasoline     Manual   \n",
       "38049   999999             BMW         320  -/- (Fuel)        NaN   \n",
       "39762     2000  Caravans-Wohnm       Adria  -/- (Fuel)        NaN   \n",
       "42111       20          Others         NaN    Electric        NaN   \n",
       "44772     5729   Mercedes-Benz       C 200    Gasoline  Automatic   \n",
       "45922       10            Fiat         500    Electric  Automatic   \n",
       "45923       10            Fiat        500C    Electric  Automatic   \n",
       "45924      363            Fiat        500C    Electric  Automatic   \n",
       "\n",
       "            offerType  price  hp  year  \n",
       "482              Used   6222 NaN  2015  \n",
       "2368             Used   6222 NaN  2015  \n",
       "5552             Used   5950 NaN  2013  \n",
       "5760             Used   5950 NaN  2013  \n",
       "8892             Used   5666 NaN  2012  \n",
       "9264   Pre-registered  22180 NaN  2021  \n",
       "10575            Used   6222 NaN  2013  \n",
       "10779            Used   5666 NaN  2012  \n",
       "10782            Used   6222 NaN  2013  \n",
       "12000   Demonstration  15990 NaN  2021  \n",
       "12549            Used   7555 NaN  2015  \n",
       "12858   Demonstration  15750 NaN  2020  \n",
       "14010            Used   7555 NaN  2015  \n",
       "17752  Employee's car   4490 NaN  2020  \n",
       "24953   Demonstration  32990 NaN  2021  \n",
       "26612            Used  30490 NaN  2019  \n",
       "27469   Demonstration  18890 NaN  2021  \n",
       "27659            Used  20850 NaN  2019  \n",
       "30919            Used   4390 NaN  2012  \n",
       "30920            Used   4390 NaN  2012  \n",
       "31190            Used   5444 NaN  2015  \n",
       "34328            Used   5999 NaN  2011  \n",
       "38049            Used   1999 NaN  2014  \n",
       "39762            Used  24500 NaN  2016  \n",
       "42111            Used   4850 NaN  2018  \n",
       "44772  Employee's car  36870 NaN  2020  \n",
       "45922   Demonstration  33690 NaN  2021  \n",
       "45923   Demonstration  36890 NaN  2021  \n",
       "45924   Demonstration  36890 NaN  2021  "
      ]
     },
     "execution_count": 5,
     "metadata": {},
     "output_type": "execute_result"
    }
   ],
   "source": [
    "t[ t[\"hp\"].isna() ]"
   ]
  },
  {
   "cell_type": "code",
   "execution_count": 6,
   "id": "ea7fe212-eafb-4481-8846-a47f76ab9f80",
   "metadata": {},
   "outputs": [
    {
     "data": {
      "text/html": [
       "<div>\n",
       "<style scoped>\n",
       "    .dataframe tbody tr th:only-of-type {\n",
       "        vertical-align: middle;\n",
       "    }\n",
       "\n",
       "    .dataframe tbody tr th {\n",
       "        vertical-align: top;\n",
       "    }\n",
       "\n",
       "    .dataframe thead th {\n",
       "        text-align: right;\n",
       "    }\n",
       "</style>\n",
       "<table border=\"1\" class=\"dataframe\">\n",
       "  <thead>\n",
       "    <tr style=\"text-align: right;\">\n",
       "      <th></th>\n",
       "      <th>mileage</th>\n",
       "      <th>make</th>\n",
       "      <th>model</th>\n",
       "      <th>fuel</th>\n",
       "      <th>gear</th>\n",
       "      <th>offerType</th>\n",
       "      <th>price</th>\n",
       "      <th>hp</th>\n",
       "      <th>year</th>\n",
       "    </tr>\n",
       "  </thead>\n",
       "  <tbody>\n",
       "    <tr>\n",
       "      <th>243</th>\n",
       "      <td>93850</td>\n",
       "      <td>Renault</td>\n",
       "      <td>Grand Scenic</td>\n",
       "      <td>Diesel</td>\n",
       "      <td>NaN</td>\n",
       "      <td>Used</td>\n",
       "      <td>7990</td>\n",
       "      <td>110.00000</td>\n",
       "      <td>2012</td>\n",
       "    </tr>\n",
       "    <tr>\n",
       "      <th>347</th>\n",
       "      <td>52753</td>\n",
       "      <td>Lada</td>\n",
       "      <td>Vesta</td>\n",
       "      <td>Gasoline</td>\n",
       "      <td>NaN</td>\n",
       "      <td>Used</td>\n",
       "      <td>8000</td>\n",
       "      <td>106.00000</td>\n",
       "      <td>2017</td>\n",
       "    </tr>\n",
       "    <tr>\n",
       "      <th>365</th>\n",
       "      <td>3500</td>\n",
       "      <td>Others</td>\n",
       "      <td>NaN</td>\n",
       "      <td>Electric</td>\n",
       "      <td>Manual</td>\n",
       "      <td>Used</td>\n",
       "      <td>5500</td>\n",
       "      <td>38.00000</td>\n",
       "      <td>2018</td>\n",
       "    </tr>\n",
       "    <tr>\n",
       "      <th>482</th>\n",
       "      <td>36018</td>\n",
       "      <td>Mitsubishi</td>\n",
       "      <td>Space Star</td>\n",
       "      <td>Gasoline</td>\n",
       "      <td>Manual</td>\n",
       "      <td>Used</td>\n",
       "      <td>6222</td>\n",
       "      <td>NaN</td>\n",
       "      <td>2015</td>\n",
       "    </tr>\n",
       "    <tr>\n",
       "      <th>612</th>\n",
       "      <td>46850</td>\n",
       "      <td>Suzuki</td>\n",
       "      <td>Alto</td>\n",
       "      <td>Gasoline</td>\n",
       "      <td>NaN</td>\n",
       "      <td>Used</td>\n",
       "      <td>3999</td>\n",
       "      <td>68.00000</td>\n",
       "      <td>2011</td>\n",
       "    </tr>\n",
       "    <tr>\n",
       "      <th>...</th>\n",
       "      <td>...</td>\n",
       "      <td>...</td>\n",
       "      <td>...</td>\n",
       "      <td>...</td>\n",
       "      <td>...</td>\n",
       "      <td>...</td>\n",
       "      <td>...</td>\n",
       "      <td>...</td>\n",
       "      <td>...</td>\n",
       "    </tr>\n",
       "    <tr>\n",
       "      <th>46114</th>\n",
       "      <td>35</td>\n",
       "      <td>Kia</td>\n",
       "      <td>NaN</td>\n",
       "      <td>Electric/Gasoline</td>\n",
       "      <td>Automatic</td>\n",
       "      <td>Pre-registered</td>\n",
       "      <td>30440</td>\n",
       "      <td>141.00000</td>\n",
       "      <td>2021</td>\n",
       "    </tr>\n",
       "    <tr>\n",
       "      <th>46120</th>\n",
       "      <td>35</td>\n",
       "      <td>Kia</td>\n",
       "      <td>NaN</td>\n",
       "      <td>Electric</td>\n",
       "      <td>Automatic</td>\n",
       "      <td>Pre-registered</td>\n",
       "      <td>32440</td>\n",
       "      <td>204.00000</td>\n",
       "      <td>2021</td>\n",
       "    </tr>\n",
       "    <tr>\n",
       "      <th>46237</th>\n",
       "      <td>2000</td>\n",
       "      <td>Tesla</td>\n",
       "      <td>NaN</td>\n",
       "      <td>Electric</td>\n",
       "      <td>Automatic</td>\n",
       "      <td>Used</td>\n",
       "      <td>57020</td>\n",
       "      <td>487.00000</td>\n",
       "      <td>2021</td>\n",
       "    </tr>\n",
       "    <tr>\n",
       "      <th>46326</th>\n",
       "      <td>45</td>\n",
       "      <td>BMW</td>\n",
       "      <td>iX3</td>\n",
       "      <td>Electric</td>\n",
       "      <td>NaN</td>\n",
       "      <td>Used</td>\n",
       "      <td>58000</td>\n",
       "      <td>286.00000</td>\n",
       "      <td>2021</td>\n",
       "    </tr>\n",
       "    <tr>\n",
       "      <th>46335</th>\n",
       "      <td>7</td>\n",
       "      <td>Ford</td>\n",
       "      <td>Puma</td>\n",
       "      <td>Gasoline</td>\n",
       "      <td>NaN</td>\n",
       "      <td>Pre-registered</td>\n",
       "      <td>22990</td>\n",
       "      <td>125.00000</td>\n",
       "      <td>2021</td>\n",
       "    </tr>\n",
       "  </tbody>\n",
       "</table>\n",
       "<p>334 rows × 9 columns</p>\n",
       "</div>"
      ],
      "text/plain": [
       "       mileage        make         model               fuel       gear  \\\n",
       "243      93850     Renault  Grand Scenic             Diesel        NaN   \n",
       "347      52753        Lada         Vesta           Gasoline        NaN   \n",
       "365       3500      Others           NaN           Electric     Manual   \n",
       "482      36018  Mitsubishi    Space Star           Gasoline     Manual   \n",
       "612      46850      Suzuki          Alto           Gasoline        NaN   \n",
       "...        ...         ...           ...                ...        ...   \n",
       "46114       35         Kia           NaN  Electric/Gasoline  Automatic   \n",
       "46120       35         Kia           NaN           Electric  Automatic   \n",
       "46237     2000       Tesla           NaN           Electric  Automatic   \n",
       "46326       45         BMW           iX3           Electric        NaN   \n",
       "46335        7        Ford          Puma           Gasoline        NaN   \n",
       "\n",
       "            offerType  price        hp  year  \n",
       "243              Used   7990 110.00000  2012  \n",
       "347              Used   8000 106.00000  2017  \n",
       "365              Used   5500  38.00000  2018  \n",
       "482              Used   6222       NaN  2015  \n",
       "612              Used   3999  68.00000  2011  \n",
       "...               ...    ...       ...   ...  \n",
       "46114  Pre-registered  30440 141.00000  2021  \n",
       "46120  Pre-registered  32440 204.00000  2021  \n",
       "46237            Used  57020 487.00000  2021  \n",
       "46326            Used  58000 286.00000  2021  \n",
       "46335  Pre-registered  22990 125.00000  2021  \n",
       "\n",
       "[334 rows x 9 columns]"
      ]
     },
     "execution_count": 6,
     "metadata": {},
     "output_type": "execute_result"
    }
   ],
   "source": [
    "t[t.isna().any(axis=1)]"
   ]
  },
  {
   "cell_type": "code",
   "execution_count": 7,
   "id": "7aad50f5-426f-47b7-bd32-ef8a86cd1dd0",
   "metadata": {},
   "outputs": [
    {
     "data": {
      "text/plain": [
       "(46071, 9)"
      ]
     },
     "execution_count": 7,
     "metadata": {},
     "output_type": "execute_result"
    }
   ],
   "source": [
    "t = t.dropna()\n",
    "t.shape"
   ]
  },
  {
   "cell_type": "code",
   "execution_count": 8,
   "id": "1da215e2-9477-4903-a470-5168f7bf7af1",
   "metadata": {},
   "outputs": [
    {
     "data": {
      "text/html": [
       "<div>\n",
       "<style scoped>\n",
       "    .dataframe tbody tr th:only-of-type {\n",
       "        vertical-align: middle;\n",
       "    }\n",
       "\n",
       "    .dataframe tbody tr th {\n",
       "        vertical-align: top;\n",
       "    }\n",
       "\n",
       "    .dataframe thead th {\n",
       "        text-align: right;\n",
       "    }\n",
       "</style>\n",
       "<table border=\"1\" class=\"dataframe\">\n",
       "  <thead>\n",
       "    <tr style=\"text-align: right;\">\n",
       "      <th></th>\n",
       "      <th>mileage</th>\n",
       "      <th>price</th>\n",
       "      <th>hp</th>\n",
       "      <th>year</th>\n",
       "    </tr>\n",
       "  </thead>\n",
       "  <tbody>\n",
       "    <tr>\n",
       "      <th>count</th>\n",
       "      <td>46071.00000</td>\n",
       "      <td>46071.00000</td>\n",
       "      <td>46071.00000</td>\n",
       "      <td>46071.00000</td>\n",
       "    </tr>\n",
       "    <tr>\n",
       "      <th>mean</th>\n",
       "      <td>71233.13664</td>\n",
       "      <td>16563.12125</td>\n",
       "      <td>132.99266</td>\n",
       "      <td>2016.01216</td>\n",
       "    </tr>\n",
       "    <tr>\n",
       "      <th>std</th>\n",
       "      <td>62454.13035</td>\n",
       "      <td>19279.60314</td>\n",
       "      <td>75.07469</td>\n",
       "      <td>3.15555</td>\n",
       "    </tr>\n",
       "    <tr>\n",
       "      <th>min</th>\n",
       "      <td>0.00000</td>\n",
       "      <td>1100.00000</td>\n",
       "      <td>1.00000</td>\n",
       "      <td>2011.00000</td>\n",
       "    </tr>\n",
       "    <tr>\n",
       "      <th>25%</th>\n",
       "      <td>19900.00000</td>\n",
       "      <td>7490.00000</td>\n",
       "      <td>86.00000</td>\n",
       "      <td>2013.00000</td>\n",
       "    </tr>\n",
       "    <tr>\n",
       "      <th>50%</th>\n",
       "      <td>60000.00000</td>\n",
       "      <td>11000.00000</td>\n",
       "      <td>116.00000</td>\n",
       "      <td>2016.00000</td>\n",
       "    </tr>\n",
       "    <tr>\n",
       "      <th>75%</th>\n",
       "      <td>105000.00000</td>\n",
       "      <td>19490.00000</td>\n",
       "      <td>150.00000</td>\n",
       "      <td>2019.00000</td>\n",
       "    </tr>\n",
       "    <tr>\n",
       "      <th>max</th>\n",
       "      <td>1111111.00000</td>\n",
       "      <td>1199900.00000</td>\n",
       "      <td>850.00000</td>\n",
       "      <td>2021.00000</td>\n",
       "    </tr>\n",
       "  </tbody>\n",
       "</table>\n",
       "</div>"
      ],
      "text/plain": [
       "            mileage         price          hp        year\n",
       "count   46071.00000   46071.00000 46071.00000 46071.00000\n",
       "mean    71233.13664   16563.12125   132.99266  2016.01216\n",
       "std     62454.13035   19279.60314    75.07469     3.15555\n",
       "min         0.00000    1100.00000     1.00000  2011.00000\n",
       "25%     19900.00000    7490.00000    86.00000  2013.00000\n",
       "50%     60000.00000   11000.00000   116.00000  2016.00000\n",
       "75%    105000.00000   19490.00000   150.00000  2019.00000\n",
       "max   1111111.00000 1199900.00000   850.00000  2021.00000"
      ]
     },
     "execution_count": 8,
     "metadata": {},
     "output_type": "execute_result"
    }
   ],
   "source": [
    "t.describe()"
   ]
  },
  {
   "cell_type": "markdown",
   "id": "df41797d-61de-4d79-bc84-c86d745c588e",
   "metadata": {},
   "source": [
    "## Filtern nach Extremwerten und Plausibilitätsprüfung"
   ]
  },
  {
   "cell_type": "code",
   "execution_count": 9,
   "id": "005278a4-f7c7-4899-b121-ad0024a5e041",
   "metadata": {},
   "outputs": [
    {
     "data": {
      "text/html": [
       "<div>\n",
       "<style scoped>\n",
       "    .dataframe tbody tr th:only-of-type {\n",
       "        vertical-align: middle;\n",
       "    }\n",
       "\n",
       "    .dataframe tbody tr th {\n",
       "        vertical-align: top;\n",
       "    }\n",
       "\n",
       "    .dataframe thead th {\n",
       "        text-align: right;\n",
       "    }\n",
       "</style>\n",
       "<table border=\"1\" class=\"dataframe\">\n",
       "  <thead>\n",
       "    <tr style=\"text-align: right;\">\n",
       "      <th></th>\n",
       "      <th>mileage</th>\n",
       "      <th>make</th>\n",
       "      <th>model</th>\n",
       "      <th>fuel</th>\n",
       "      <th>gear</th>\n",
       "      <th>offerType</th>\n",
       "      <th>price</th>\n",
       "      <th>hp</th>\n",
       "      <th>year</th>\n",
       "    </tr>\n",
       "  </thead>\n",
       "  <tbody>\n",
       "    <tr>\n",
       "      <th>4039</th>\n",
       "      <td>527205</td>\n",
       "      <td>Mercedes-Benz</td>\n",
       "      <td>C 220</td>\n",
       "      <td>Diesel</td>\n",
       "      <td>Automatic</td>\n",
       "      <td>Used</td>\n",
       "      <td>4899</td>\n",
       "      <td>170.00000</td>\n",
       "      <td>2012</td>\n",
       "    </tr>\n",
       "    <tr>\n",
       "      <th>4529</th>\n",
       "      <td>514614</td>\n",
       "      <td>Mercedes-Benz</td>\n",
       "      <td>E 200</td>\n",
       "      <td>Diesel</td>\n",
       "      <td>Automatic</td>\n",
       "      <td>Used</td>\n",
       "      <td>7200</td>\n",
       "      <td>136.00000</td>\n",
       "      <td>2015</td>\n",
       "    </tr>\n",
       "    <tr>\n",
       "      <th>12768</th>\n",
       "      <td>598744</td>\n",
       "      <td>Mercedes-Benz</td>\n",
       "      <td>Sprinter</td>\n",
       "      <td>Diesel</td>\n",
       "      <td>Manual</td>\n",
       "      <td>Used</td>\n",
       "      <td>13078</td>\n",
       "      <td>163.00000</td>\n",
       "      <td>2015</td>\n",
       "    </tr>\n",
       "    <tr>\n",
       "      <th>13955</th>\n",
       "      <td>599900</td>\n",
       "      <td>Ford</td>\n",
       "      <td>Transit</td>\n",
       "      <td>Diesel</td>\n",
       "      <td>Manual</td>\n",
       "      <td>Used</td>\n",
       "      <td>5990</td>\n",
       "      <td>116.00000</td>\n",
       "      <td>2012</td>\n",
       "    </tr>\n",
       "    <tr>\n",
       "      <th>16869</th>\n",
       "      <td>1111111</td>\n",
       "      <td>Opel</td>\n",
       "      <td>Karl</td>\n",
       "      <td>Gasoline</td>\n",
       "      <td>Manual</td>\n",
       "      <td>Demonstration</td>\n",
       "      <td>10490</td>\n",
       "      <td>73.00000</td>\n",
       "      <td>2019</td>\n",
       "    </tr>\n",
       "    <tr>\n",
       "      <th>25438</th>\n",
       "      <td>620000</td>\n",
       "      <td>Mercedes-Benz</td>\n",
       "      <td>Vito</td>\n",
       "      <td>Diesel</td>\n",
       "      <td>Manual</td>\n",
       "      <td>Used</td>\n",
       "      <td>6500</td>\n",
       "      <td>163.00000</td>\n",
       "      <td>2014</td>\n",
       "    </tr>\n",
       "    <tr>\n",
       "      <th>30529</th>\n",
       "      <td>550000</td>\n",
       "      <td>Iveco</td>\n",
       "      <td>Daily</td>\n",
       "      <td>Diesel</td>\n",
       "      <td>Manual</td>\n",
       "      <td>Used</td>\n",
       "      <td>8000</td>\n",
       "      <td>145.00000</td>\n",
       "      <td>2014</td>\n",
       "    </tr>\n",
       "    <tr>\n",
       "      <th>34744</th>\n",
       "      <td>699000</td>\n",
       "      <td>Mercedes-Benz</td>\n",
       "      <td>Sprinter</td>\n",
       "      <td>Diesel</td>\n",
       "      <td>Manual</td>\n",
       "      <td>Used</td>\n",
       "      <td>3990</td>\n",
       "      <td>163.00000</td>\n",
       "      <td>2011</td>\n",
       "    </tr>\n",
       "    <tr>\n",
       "      <th>38445</th>\n",
       "      <td>530003</td>\n",
       "      <td>Citroen</td>\n",
       "      <td>C3</td>\n",
       "      <td>Gasoline</td>\n",
       "      <td>Manual</td>\n",
       "      <td>Used</td>\n",
       "      <td>5500</td>\n",
       "      <td>68.00000</td>\n",
       "      <td>2015</td>\n",
       "    </tr>\n",
       "  </tbody>\n",
       "</table>\n",
       "</div>"
      ],
      "text/plain": [
       "       mileage           make     model      fuel       gear      offerType  \\\n",
       "4039    527205  Mercedes-Benz     C 220    Diesel  Automatic           Used   \n",
       "4529    514614  Mercedes-Benz     E 200    Diesel  Automatic           Used   \n",
       "12768   598744  Mercedes-Benz  Sprinter    Diesel     Manual           Used   \n",
       "13955   599900           Ford   Transit    Diesel     Manual           Used   \n",
       "16869  1111111           Opel      Karl  Gasoline     Manual  Demonstration   \n",
       "25438   620000  Mercedes-Benz      Vito    Diesel     Manual           Used   \n",
       "30529   550000          Iveco     Daily    Diesel     Manual           Used   \n",
       "34744   699000  Mercedes-Benz  Sprinter    Diesel     Manual           Used   \n",
       "38445   530003        Citroen        C3  Gasoline     Manual           Used   \n",
       "\n",
       "       price        hp  year  \n",
       "4039    4899 170.00000  2012  \n",
       "4529    7200 136.00000  2015  \n",
       "12768  13078 163.00000  2015  \n",
       "13955   5990 116.00000  2012  \n",
       "16869  10490  73.00000  2019  \n",
       "25438   6500 163.00000  2014  \n",
       "30529   8000 145.00000  2014  \n",
       "34744   3990 163.00000  2011  \n",
       "38445   5500  68.00000  2015  "
      ]
     },
     "execution_count": 9,
     "metadata": {},
     "output_type": "execute_result"
    }
   ],
   "source": [
    "t.query(\"mileage>500000\")"
   ]
  },
  {
   "cell_type": "code",
   "execution_count": 10,
   "id": "b03b810e-6beb-4a93-a797-e64de1373468",
   "metadata": {},
   "outputs": [
    {
     "data": {
      "text/html": [
       "<div>\n",
       "<style scoped>\n",
       "    .dataframe tbody tr th:only-of-type {\n",
       "        vertical-align: middle;\n",
       "    }\n",
       "\n",
       "    .dataframe tbody tr th {\n",
       "        vertical-align: top;\n",
       "    }\n",
       "\n",
       "    .dataframe thead th {\n",
       "        text-align: right;\n",
       "    }\n",
       "</style>\n",
       "<table border=\"1\" class=\"dataframe\">\n",
       "  <thead>\n",
       "    <tr style=\"text-align: right;\">\n",
       "      <th></th>\n",
       "      <th>mileage</th>\n",
       "      <th>make</th>\n",
       "      <th>model</th>\n",
       "      <th>fuel</th>\n",
       "      <th>gear</th>\n",
       "      <th>offerType</th>\n",
       "      <th>price</th>\n",
       "      <th>hp</th>\n",
       "      <th>year</th>\n",
       "    </tr>\n",
       "  </thead>\n",
       "  <tbody>\n",
       "    <tr>\n",
       "      <th>11753</th>\n",
       "      <td>90</td>\n",
       "      <td>Maybach</td>\n",
       "      <td>Pullman</td>\n",
       "      <td>Gasoline</td>\n",
       "      <td>Automatic</td>\n",
       "      <td>Used</td>\n",
       "      <td>717078</td>\n",
       "      <td>630.00000</td>\n",
       "      <td>2019</td>\n",
       "    </tr>\n",
       "    <tr>\n",
       "      <th>11754</th>\n",
       "      <td>90</td>\n",
       "      <td>Mercedes-Benz</td>\n",
       "      <td>S 650</td>\n",
       "      <td>Gasoline</td>\n",
       "      <td>Automatic</td>\n",
       "      <td>Used</td>\n",
       "      <td>717078</td>\n",
       "      <td>630.00000</td>\n",
       "      <td>2019</td>\n",
       "    </tr>\n",
       "    <tr>\n",
       "      <th>21675</th>\n",
       "      <td>431</td>\n",
       "      <td>Ferrari</td>\n",
       "      <td>F12</td>\n",
       "      <td>Gasoline</td>\n",
       "      <td>Automatic</td>\n",
       "      <td>Used</td>\n",
       "      <td>1199900</td>\n",
       "      <td>775.00000</td>\n",
       "      <td>2017</td>\n",
       "    </tr>\n",
       "  </tbody>\n",
       "</table>\n",
       "</div>"
      ],
      "text/plain": [
       "       mileage           make    model      fuel       gear offerType  \\\n",
       "11753       90        Maybach  Pullman  Gasoline  Automatic      Used   \n",
       "11754       90  Mercedes-Benz    S 650  Gasoline  Automatic      Used   \n",
       "21675      431        Ferrari      F12  Gasoline  Automatic      Used   \n",
       "\n",
       "         price        hp  year  \n",
       "11753   717078 630.00000  2019  \n",
       "11754   717078 630.00000  2019  \n",
       "21675  1199900 775.00000  2017  "
      ]
     },
     "execution_count": 10,
     "metadata": {},
     "output_type": "execute_result"
    }
   ],
   "source": [
    "t.query(\"price>500000\")"
   ]
  },
  {
   "cell_type": "markdown",
   "id": "67c96c6b-efb9-4b70-a1e3-2bd3ddf10b7b",
   "metadata": {},
   "source": [
    "# Daten explorieren"
   ]
  },
  {
   "cell_type": "code",
   "execution_count": 11,
   "id": "c17e0def-9e45-43ff-954b-a66fa72d7439",
   "metadata": {},
   "outputs": [
    {
     "data": {
      "text/html": [
       "<div>\n",
       "<style scoped>\n",
       "    .dataframe tbody tr th:only-of-type {\n",
       "        vertical-align: middle;\n",
       "    }\n",
       "\n",
       "    .dataframe tbody tr th {\n",
       "        vertical-align: top;\n",
       "    }\n",
       "\n",
       "    .dataframe thead th {\n",
       "        text-align: right;\n",
       "    }\n",
       "</style>\n",
       "<table border=\"1\" class=\"dataframe\">\n",
       "  <thead>\n",
       "    <tr style=\"text-align: right;\">\n",
       "      <th></th>\n",
       "      <th>mileage</th>\n",
       "      <th>make</th>\n",
       "      <th>model</th>\n",
       "      <th>fuel</th>\n",
       "      <th>gear</th>\n",
       "      <th>offerType</th>\n",
       "      <th>price</th>\n",
       "      <th>hp</th>\n",
       "      <th>year</th>\n",
       "    </tr>\n",
       "  </thead>\n",
       "  <tbody>\n",
       "    <tr>\n",
       "      <th>0</th>\n",
       "      <td>235000</td>\n",
       "      <td>BMW</td>\n",
       "      <td>316</td>\n",
       "      <td>Diesel</td>\n",
       "      <td>Manual</td>\n",
       "      <td>Used</td>\n",
       "      <td>6800</td>\n",
       "      <td>116.00000</td>\n",
       "      <td>2011</td>\n",
       "    </tr>\n",
       "    <tr>\n",
       "      <th>1</th>\n",
       "      <td>92800</td>\n",
       "      <td>Volkswagen</td>\n",
       "      <td>Golf</td>\n",
       "      <td>Gasoline</td>\n",
       "      <td>Manual</td>\n",
       "      <td>Used</td>\n",
       "      <td>6877</td>\n",
       "      <td>122.00000</td>\n",
       "      <td>2011</td>\n",
       "    </tr>\n",
       "    <tr>\n",
       "      <th>2</th>\n",
       "      <td>149300</td>\n",
       "      <td>SEAT</td>\n",
       "      <td>Exeo</td>\n",
       "      <td>Gasoline</td>\n",
       "      <td>Manual</td>\n",
       "      <td>Used</td>\n",
       "      <td>6900</td>\n",
       "      <td>160.00000</td>\n",
       "      <td>2011</td>\n",
       "    </tr>\n",
       "    <tr>\n",
       "      <th>3</th>\n",
       "      <td>96200</td>\n",
       "      <td>Renault</td>\n",
       "      <td>Megane</td>\n",
       "      <td>Gasoline</td>\n",
       "      <td>Manual</td>\n",
       "      <td>Used</td>\n",
       "      <td>6950</td>\n",
       "      <td>110.00000</td>\n",
       "      <td>2011</td>\n",
       "    </tr>\n",
       "    <tr>\n",
       "      <th>4</th>\n",
       "      <td>156000</td>\n",
       "      <td>Peugeot</td>\n",
       "      <td>308</td>\n",
       "      <td>Gasoline</td>\n",
       "      <td>Manual</td>\n",
       "      <td>Used</td>\n",
       "      <td>6950</td>\n",
       "      <td>156.00000</td>\n",
       "      <td>2011</td>\n",
       "    </tr>\n",
       "    <tr>\n",
       "      <th>...</th>\n",
       "      <td>...</td>\n",
       "      <td>...</td>\n",
       "      <td>...</td>\n",
       "      <td>...</td>\n",
       "      <td>...</td>\n",
       "      <td>...</td>\n",
       "      <td>...</td>\n",
       "      <td>...</td>\n",
       "      <td>...</td>\n",
       "    </tr>\n",
       "    <tr>\n",
       "      <th>46400</th>\n",
       "      <td>99</td>\n",
       "      <td>Fiat</td>\n",
       "      <td>500</td>\n",
       "      <td>Electric/Gasoline</td>\n",
       "      <td>Manual</td>\n",
       "      <td>Pre-registered</td>\n",
       "      <td>12990</td>\n",
       "      <td>71.00000</td>\n",
       "      <td>2021</td>\n",
       "    </tr>\n",
       "    <tr>\n",
       "      <th>46401</th>\n",
       "      <td>99</td>\n",
       "      <td>Fiat</td>\n",
       "      <td>500</td>\n",
       "      <td>Electric/Gasoline</td>\n",
       "      <td>Manual</td>\n",
       "      <td>Pre-registered</td>\n",
       "      <td>12990</td>\n",
       "      <td>71.00000</td>\n",
       "      <td>2021</td>\n",
       "    </tr>\n",
       "    <tr>\n",
       "      <th>46402</th>\n",
       "      <td>99</td>\n",
       "      <td>Fiat</td>\n",
       "      <td>500</td>\n",
       "      <td>Electric/Gasoline</td>\n",
       "      <td>Manual</td>\n",
       "      <td>Pre-registered</td>\n",
       "      <td>12990</td>\n",
       "      <td>71.00000</td>\n",
       "      <td>2021</td>\n",
       "    </tr>\n",
       "    <tr>\n",
       "      <th>46403</th>\n",
       "      <td>99</td>\n",
       "      <td>Fiat</td>\n",
       "      <td>500</td>\n",
       "      <td>Electric/Gasoline</td>\n",
       "      <td>Manual</td>\n",
       "      <td>Pre-registered</td>\n",
       "      <td>12990</td>\n",
       "      <td>71.00000</td>\n",
       "      <td>2021</td>\n",
       "    </tr>\n",
       "    <tr>\n",
       "      <th>46404</th>\n",
       "      <td>99</td>\n",
       "      <td>Fiat</td>\n",
       "      <td>500</td>\n",
       "      <td>Electric/Gasoline</td>\n",
       "      <td>Manual</td>\n",
       "      <td>Pre-registered</td>\n",
       "      <td>12990</td>\n",
       "      <td>71.00000</td>\n",
       "      <td>2021</td>\n",
       "    </tr>\n",
       "  </tbody>\n",
       "</table>\n",
       "<p>46071 rows × 9 columns</p>\n",
       "</div>"
      ],
      "text/plain": [
       "       mileage        make   model               fuel    gear       offerType  \\\n",
       "0       235000         BMW     316             Diesel  Manual            Used   \n",
       "1        92800  Volkswagen    Golf           Gasoline  Manual            Used   \n",
       "2       149300        SEAT    Exeo           Gasoline  Manual            Used   \n",
       "3        96200     Renault  Megane           Gasoline  Manual            Used   \n",
       "4       156000     Peugeot     308           Gasoline  Manual            Used   \n",
       "...        ...         ...     ...                ...     ...             ...   \n",
       "46400       99        Fiat     500  Electric/Gasoline  Manual  Pre-registered   \n",
       "46401       99        Fiat     500  Electric/Gasoline  Manual  Pre-registered   \n",
       "46402       99        Fiat     500  Electric/Gasoline  Manual  Pre-registered   \n",
       "46403       99        Fiat     500  Electric/Gasoline  Manual  Pre-registered   \n",
       "46404       99        Fiat     500  Electric/Gasoline  Manual  Pre-registered   \n",
       "\n",
       "       price        hp  year  \n",
       "0       6800 116.00000  2011  \n",
       "1       6877 122.00000  2011  \n",
       "2       6900 160.00000  2011  \n",
       "3       6950 110.00000  2011  \n",
       "4       6950 156.00000  2011  \n",
       "...      ...       ...   ...  \n",
       "46400  12990  71.00000  2021  \n",
       "46401  12990  71.00000  2021  \n",
       "46402  12990  71.00000  2021  \n",
       "46403  12990  71.00000  2021  \n",
       "46404  12990  71.00000  2021  \n",
       "\n",
       "[46071 rows x 9 columns]"
      ]
     },
     "execution_count": 11,
     "metadata": {},
     "output_type": "execute_result"
    }
   ],
   "source": [
    "t"
   ]
  },
  {
   "cell_type": "markdown",
   "id": "5c137341-8b6f-4076-86b9-2621faf4bc13",
   "metadata": {},
   "source": [
    "## Histogramme"
   ]
  },
  {
   "cell_type": "code",
   "execution_count": 12,
   "id": "c7a7592b-c047-49fd-96d6-aa760208131d",
   "metadata": {},
   "outputs": [
    {
     "data": {
      "text/plain": [
       "0         6800\n",
       "1         6877\n",
       "2         6900\n",
       "3         6950\n",
       "4         6950\n",
       "         ...  \n",
       "46400    12990\n",
       "46401    12990\n",
       "46402    12990\n",
       "46403    12990\n",
       "46404    12990\n",
       "Name: price, Length: 46071, dtype: int64"
      ]
     },
     "execution_count": 12,
     "metadata": {},
     "output_type": "execute_result"
    }
   ],
   "source": [
    "t[\"price\"]"
   ]
  },
  {
   "cell_type": "code",
   "execution_count": 13,
   "id": "3050479c-7f6b-40fe-8fbc-5ee1eac71c12",
   "metadata": {},
   "outputs": [
    {
     "data": {
      "image/png": "[encoded data removed]",
      "text/plain": [
       "<Figure size 432x288 with 1 Axes>"
      ]
     },
     "metadata": {
      "needs_background": "light"
     },
     "output_type": "display_data"
    }
   ],
   "source": [
    "import matplotlib.pyplot as plt\n",
    "plt.hist(t[\"price\"])\n",
    "plt.show()"
   ]
  },
  {
   "cell_type": "code",
   "execution_count": 14,
   "id": "678e8433-906c-4409-924b-97c233165d68",
   "metadata": {},
   "outputs": [
    {
     "data": {
      "image/png": "[encoded data removed]",
      "text/plain": [
       "<Figure size 432x288 with 1 Axes>"
      ]
     },
     "metadata": {
      "needs_background": "light"
     },
     "output_type": "display_data"
    }
   ],
   "source": [
    "import matplotlib.pyplot as plt\n",
    "plt.hist(t.query(\"price<105000\")[\"price\"], bins=100, edgecolor=\"black\", color=\"lightgreen\")\n",
    "plt.show()"
   ]
  },
  {
   "cell_type": "markdown",
   "id": "e011fb20-7d2c-4499-a986-f3c8c43de623",
   "metadata": {},
   "source": [
    "## Kategoriale Spalten"
   ]
  },
  {
   "cell_type": "code",
   "execution_count": 15,
   "id": "bbf3cf70-875c-4661-9ecc-9f089d5c2860",
   "metadata": {},
   "outputs": [
    {
     "data": {
      "text/html": [
       "<div>\n",
       "<style scoped>\n",
       "    .dataframe tbody tr th:only-of-type {\n",
       "        vertical-align: middle;\n",
       "    }\n",
       "\n",
       "    .dataframe tbody tr th {\n",
       "        vertical-align: top;\n",
       "    }\n",
       "\n",
       "    .dataframe thead th {\n",
       "        text-align: right;\n",
       "    }\n",
       "</style>\n",
       "<table border=\"1\" class=\"dataframe\">\n",
       "  <thead>\n",
       "    <tr style=\"text-align: right;\">\n",
       "      <th></th>\n",
       "      <th>mileage</th>\n",
       "      <th>make</th>\n",
       "      <th>model</th>\n",
       "      <th>fuel</th>\n",
       "      <th>gear</th>\n",
       "      <th>offerType</th>\n",
       "      <th>price</th>\n",
       "      <th>hp</th>\n",
       "      <th>year</th>\n",
       "    </tr>\n",
       "  </thead>\n",
       "  <tbody>\n",
       "    <tr>\n",
       "      <th>0</th>\n",
       "      <td>235000</td>\n",
       "      <td>BMW</td>\n",
       "      <td>316</td>\n",
       "      <td>Diesel</td>\n",
       "      <td>Manual</td>\n",
       "      <td>Used</td>\n",
       "      <td>6800</td>\n",
       "      <td>116.00000</td>\n",
       "      <td>2011</td>\n",
       "    </tr>\n",
       "    <tr>\n",
       "      <th>1</th>\n",
       "      <td>92800</td>\n",
       "      <td>Volkswagen</td>\n",
       "      <td>Golf</td>\n",
       "      <td>Gasoline</td>\n",
       "      <td>Manual</td>\n",
       "      <td>Used</td>\n",
       "      <td>6877</td>\n",
       "      <td>122.00000</td>\n",
       "      <td>2011</td>\n",
       "    </tr>\n",
       "    <tr>\n",
       "      <th>2</th>\n",
       "      <td>149300</td>\n",
       "      <td>SEAT</td>\n",
       "      <td>Exeo</td>\n",
       "      <td>Gasoline</td>\n",
       "      <td>Manual</td>\n",
       "      <td>Used</td>\n",
       "      <td>6900</td>\n",
       "      <td>160.00000</td>\n",
       "      <td>2011</td>\n",
       "    </tr>\n",
       "    <tr>\n",
       "      <th>3</th>\n",
       "      <td>96200</td>\n",
       "      <td>Renault</td>\n",
       "      <td>Megane</td>\n",
       "      <td>Gasoline</td>\n",
       "      <td>Manual</td>\n",
       "      <td>Used</td>\n",
       "      <td>6950</td>\n",
       "      <td>110.00000</td>\n",
       "      <td>2011</td>\n",
       "    </tr>\n",
       "    <tr>\n",
       "      <th>4</th>\n",
       "      <td>156000</td>\n",
       "      <td>Peugeot</td>\n",
       "      <td>308</td>\n",
       "      <td>Gasoline</td>\n",
       "      <td>Manual</td>\n",
       "      <td>Used</td>\n",
       "      <td>6950</td>\n",
       "      <td>156.00000</td>\n",
       "      <td>2011</td>\n",
       "    </tr>\n",
       "    <tr>\n",
       "      <th>...</th>\n",
       "      <td>...</td>\n",
       "      <td>...</td>\n",
       "      <td>...</td>\n",
       "      <td>...</td>\n",
       "      <td>...</td>\n",
       "      <td>...</td>\n",
       "      <td>...</td>\n",
       "      <td>...</td>\n",
       "      <td>...</td>\n",
       "    </tr>\n",
       "    <tr>\n",
       "      <th>46400</th>\n",
       "      <td>99</td>\n",
       "      <td>Fiat</td>\n",
       "      <td>500</td>\n",
       "      <td>Electric/Gasoline</td>\n",
       "      <td>Manual</td>\n",
       "      <td>Pre-registered</td>\n",
       "      <td>12990</td>\n",
       "      <td>71.00000</td>\n",
       "      <td>2021</td>\n",
       "    </tr>\n",
       "    <tr>\n",
       "      <th>46401</th>\n",
       "      <td>99</td>\n",
       "      <td>Fiat</td>\n",
       "      <td>500</td>\n",
       "      <td>Electric/Gasoline</td>\n",
       "      <td>Manual</td>\n",
       "      <td>Pre-registered</td>\n",
       "      <td>12990</td>\n",
       "      <td>71.00000</td>\n",
       "      <td>2021</td>\n",
       "    </tr>\n",
       "    <tr>\n",
       "      <th>46402</th>\n",
       "      <td>99</td>\n",
       "      <td>Fiat</td>\n",
       "      <td>500</td>\n",
       "      <td>Electric/Gasoline</td>\n",
       "      <td>Manual</td>\n",
       "      <td>Pre-registered</td>\n",
       "      <td>12990</td>\n",
       "      <td>71.00000</td>\n",
       "      <td>2021</td>\n",
       "    </tr>\n",
       "    <tr>\n",
       "      <th>46403</th>\n",
       "      <td>99</td>\n",
       "      <td>Fiat</td>\n",
       "      <td>500</td>\n",
       "      <td>Electric/Gasoline</td>\n",
       "      <td>Manual</td>\n",
       "      <td>Pre-registered</td>\n",
       "      <td>12990</td>\n",
       "      <td>71.00000</td>\n",
       "      <td>2021</td>\n",
       "    </tr>\n",
       "    <tr>\n",
       "      <th>46404</th>\n",
       "      <td>99</td>\n",
       "      <td>Fiat</td>\n",
       "      <td>500</td>\n",
       "      <td>Electric/Gasoline</td>\n",
       "      <td>Manual</td>\n",
       "      <td>Pre-registered</td>\n",
       "      <td>12990</td>\n",
       "      <td>71.00000</td>\n",
       "      <td>2021</td>\n",
       "    </tr>\n",
       "  </tbody>\n",
       "</table>\n",
       "<p>46071 rows × 9 columns</p>\n",
       "</div>"
      ],
      "text/plain": [
       "       mileage        make   model               fuel    gear       offerType  \\\n",
       "0       235000         BMW     316             Diesel  Manual            Used   \n",
       "1        92800  Volkswagen    Golf           Gasoline  Manual            Used   \n",
       "2       149300        SEAT    Exeo           Gasoline  Manual            Used   \n",
       "3        96200     Renault  Megane           Gasoline  Manual            Used   \n",
       "4       156000     Peugeot     308           Gasoline  Manual            Used   \n",
       "...        ...         ...     ...                ...     ...             ...   \n",
       "46400       99        Fiat     500  Electric/Gasoline  Manual  Pre-registered   \n",
       "46401       99        Fiat     500  Electric/Gasoline  Manual  Pre-registered   \n",
       "46402       99        Fiat     500  Electric/Gasoline  Manual  Pre-registered   \n",
       "46403       99        Fiat     500  Electric/Gasoline  Manual  Pre-registered   \n",
       "46404       99        Fiat     500  Electric/Gasoline  Manual  Pre-registered   \n",
       "\n",
       "       price        hp  year  \n",
       "0       6800 116.00000  2011  \n",
       "1       6877 122.00000  2011  \n",
       "2       6900 160.00000  2011  \n",
       "3       6950 110.00000  2011  \n",
       "4       6950 156.00000  2011  \n",
       "...      ...       ...   ...  \n",
       "46400  12990  71.00000  2021  \n",
       "46401  12990  71.00000  2021  \n",
       "46402  12990  71.00000  2021  \n",
       "46403  12990  71.00000  2021  \n",
       "46404  12990  71.00000  2021  \n",
       "\n",
       "[46071 rows x 9 columns]"
      ]
     },
     "execution_count": 15,
     "metadata": {},
     "output_type": "execute_result"
    }
   ],
   "source": [
    "t"
   ]
  },
  {
   "cell_type": "code",
   "execution_count": 16,
   "id": "f640bedd-4253-4ab1-aa1b-2b97f477209b",
   "metadata": {},
   "outputs": [
    {
     "data": {
      "text/plain": [
       "array(['BMW', 'Volkswagen', 'SEAT', 'Renault', 'Peugeot', 'Toyota',\n",
       "       'Opel', 'Mazda', 'Ford', 'Mercedes-Benz', 'Chevrolet', 'Audi',\n",
       "       'Fiat', 'Kia', 'Dacia', 'MINI', 'Hyundai', 'Skoda', 'Citroen',\n",
       "       'Infiniti', 'Suzuki', 'SsangYong', 'smart', 'Cupra', 'Volvo',\n",
       "       'Jaguar', 'Porsche', 'Nissan', 'Honda', 'Mitsubishi', 'Lexus',\n",
       "       'Jeep', 'Maserati', 'Bentley', 'Land', 'Alfa', 'Subaru', 'Dodge',\n",
       "       'Microcar', 'Lamborghini', 'Lada', 'Tesla', 'Chrysler', 'McLaren',\n",
       "       'Aston', 'Rolls-Royce', 'Lancia', 'Abarth', 'DS', 'Daihatsu',\n",
       "       'Ligier', 'Ferrari', 'Aixam', 'Zhidou', 'Morgan', 'Maybach', 'RAM',\n",
       "       'Alpina', 'Polestar', 'Brilliance', 'Piaggio', 'FISKER', 'Others',\n",
       "       'Cadillac', 'Iveco', 'Isuzu', 'Corvette', 'Baic', 'DFSK',\n",
       "       'Estrima', 'Alpine'], dtype=object)"
      ]
     },
     "execution_count": 16,
     "metadata": {},
     "output_type": "execute_result"
    }
   ],
   "source": [
    "t[\"make\"].unique()"
   ]
  },
  {
   "cell_type": "code",
   "execution_count": 17,
   "id": "afce0d1f-fd3b-42a5-b88c-e0ed0102ea0a",
   "metadata": {},
   "outputs": [
    {
     "data": {
      "text/plain": [
       "71"
      ]
     },
     "execution_count": 17,
     "metadata": {},
     "output_type": "execute_result"
    }
   ],
   "source": [
    "t[\"make\"].nunique()"
   ]
  },
  {
   "cell_type": "code",
   "execution_count": 18,
   "id": "d6c6a91e-bd5c-4e1d-b129-6d8034a756cc",
   "metadata": {},
   "outputs": [
    {
     "data": {
      "text/plain": [
       "array(['Diesel', 'Gasoline', 'Electric/Gasoline', '-/- (Fuel)',\n",
       "       'Electric', 'Electric/Diesel', 'CNG', 'LPG', 'Others', 'Hydrogen',\n",
       "       'Ethanol'], dtype=object)"
      ]
     },
     "execution_count": 18,
     "metadata": {},
     "output_type": "execute_result"
    }
   ],
   "source": [
    "t[\"fuel\"].unique()"
   ]
  },
  {
   "cell_type": "code",
   "execution_count": 19,
   "id": "598e2d31-d556-4b8c-9988-3a90155e8d2f",
   "metadata": {},
   "outputs": [
    {
     "data": {
      "text/plain": [
       "Gasoline             28720\n",
       "Diesel               15178\n",
       "Electric/Gasoline     1146\n",
       "Electric               661\n",
       "LPG                    125\n",
       "CNG                    116\n",
       "Electric/Diesel         53\n",
       "Others                  47\n",
       "-/- (Fuel)              22\n",
       "Ethanol                  2\n",
       "Hydrogen                 1\n",
       "Name: fuel, dtype: int64"
      ]
     },
     "execution_count": 19,
     "metadata": {},
     "output_type": "execute_result"
    }
   ],
   "source": [
    "t[\"fuel\"].value_counts()"
   ]
  },
  {
   "cell_type": "markdown",
   "id": "4f84e150-660d-445a-9081-e57efdc8f378",
   "metadata": {},
   "source": [
    "## Erste Hypothesen testen"
   ]
  },
  {
   "cell_type": "code",
   "execution_count": 20,
   "id": "1d529891-48dd-4e81-ab6c-a36e292702cf",
   "metadata": {},
   "outputs": [
    {
     "data": {
      "text/plain": [
       "0         6800\n",
       "1         6877\n",
       "2         6900\n",
       "3         6950\n",
       "4         6950\n",
       "         ...  \n",
       "46400    12990\n",
       "46401    12990\n",
       "46402    12990\n",
       "46403    12990\n",
       "46404    12990\n",
       "Name: price, Length: 46071, dtype: int64"
      ]
     },
     "execution_count": 20,
     "metadata": {},
     "output_type": "execute_result"
    }
   ],
   "source": [
    "t[\"price\"]"
   ]
  },
  {
   "cell_type": "code",
   "execution_count": 21,
   "id": "07c0ff69-be70-44b6-a709-6f22e6297c71",
   "metadata": {},
   "outputs": [
    {
     "data": {
      "text/plain": [
       "0       116.00000\n",
       "1       122.00000\n",
       "2       160.00000\n",
       "3       110.00000\n",
       "4       156.00000\n",
       "           ...   \n",
       "46400    71.00000\n",
       "46401    71.00000\n",
       "46402    71.00000\n",
       "46403    71.00000\n",
       "46404    71.00000\n",
       "Name: hp, Length: 46071, dtype: float64"
      ]
     },
     "execution_count": 21,
     "metadata": {},
     "output_type": "execute_result"
    }
   ],
   "source": [
    "t[\"hp\"]"
   ]
  },
  {
   "cell_type": "code",
   "execution_count": 22,
   "id": "686e1e51-8505-47ed-b9e9-3b9a08c8b5d8",
   "metadata": {},
   "outputs": [
    {
     "data": {
      "image/png": "[encoded data removed]",
      "text/plain": [
       "<Figure size 432x288 with 1 Axes>"
      ]
     },
     "metadata": {
      "needs_background": "light"
     },
     "output_type": "display_data"
    }
   ],
   "source": [
    "plt.scatter( t[\"hp\"], t[\"price\"], marker=\".\", alpha=0.3 )\n",
    "plt.ylim(0,400000)\n",
    "plt.show()"
   ]
  },
  {
   "cell_type": "markdown",
   "id": "8b8a768c-3a5c-41b7-8377-9b4948f9c4bf",
   "metadata": {},
   "source": [
    "## Korrelationsmatrix"
   ]
  },
  {
   "cell_type": "code",
   "execution_count": 23,
   "id": "f2c946d4-23c7-461e-8c2e-dc47b624d3c1",
   "metadata": {},
   "outputs": [
    {
     "data": {
      "text/html": [
       "<div>\n",
       "<style scoped>\n",
       "    .dataframe tbody tr th:only-of-type {\n",
       "        vertical-align: middle;\n",
       "    }\n",
       "\n",
       "    .dataframe tbody tr th {\n",
       "        vertical-align: top;\n",
       "    }\n",
       "\n",
       "    .dataframe thead th {\n",
       "        text-align: right;\n",
       "    }\n",
       "</style>\n",
       "<table border=\"1\" class=\"dataframe\">\n",
       "  <thead>\n",
       "    <tr style=\"text-align: right;\">\n",
       "      <th></th>\n",
       "      <th>mileage</th>\n",
       "      <th>price</th>\n",
       "      <th>hp</th>\n",
       "      <th>year</th>\n",
       "    </tr>\n",
       "  </thead>\n",
       "  <tbody>\n",
       "    <tr>\n",
       "      <th>mileage</th>\n",
       "      <td>1.00000</td>\n",
       "      <td>-0.30355</td>\n",
       "      <td>-0.01490</td>\n",
       "      <td>-0.67805</td>\n",
       "    </tr>\n",
       "    <tr>\n",
       "      <th>price</th>\n",
       "      <td>-0.30355</td>\n",
       "      <td>1.00000</td>\n",
       "      <td>0.74672</td>\n",
       "      <td>0.40570</td>\n",
       "    </tr>\n",
       "    <tr>\n",
       "      <th>hp</th>\n",
       "      <td>-0.01490</td>\n",
       "      <td>0.74672</td>\n",
       "      <td>1.00000</td>\n",
       "      <td>0.16690</td>\n",
       "    </tr>\n",
       "    <tr>\n",
       "      <th>year</th>\n",
       "      <td>-0.67805</td>\n",
       "      <td>0.40570</td>\n",
       "      <td>0.16690</td>\n",
       "      <td>1.00000</td>\n",
       "    </tr>\n",
       "  </tbody>\n",
       "</table>\n",
       "</div>"
      ],
      "text/plain": [
       "         mileage    price       hp     year\n",
       "mileage  1.00000 -0.30355 -0.01490 -0.67805\n",
       "price   -0.30355  1.00000  0.74672  0.40570\n",
       "hp      -0.01490  0.74672  1.00000  0.16690\n",
       "year    -0.67805  0.40570  0.16690  1.00000"
      ]
     },
     "execution_count": 23,
     "metadata": {},
     "output_type": "execute_result"
    }
   ],
   "source": [
    "t.corr()"
   ]
  },
  {
   "cell_type": "code",
   "execution_count": 24,
   "id": "838fd57e-3697-4821-80d8-4e0a7363daed",
   "metadata": {},
   "outputs": [
    {
     "data": {
      "image/png": "[encoded data removed]",
      "text/plain": [
       "<Figure size 432x288 with 2 Axes>"
      ]
     },
     "metadata": {
      "needs_background": "light"
     },
     "output_type": "display_data"
    }
   ],
   "source": [
    "import seaborn as sns\n",
    "M = t.corr()\n",
    "sns.heatmap(M,\n",
    "            cmap=\"bwr\",\n",
    "            xticklabels=M.columns.values,\n",
    "            yticklabels=M.columns.values)\n",
    "plt.title(\"Korrelationsmatrix\")\n",
    "plt.show()"
   ]
  },
  {
   "cell_type": "markdown",
   "id": "7fdc4c50-cba4-4ec0-b531-c20efc484950",
   "metadata": {},
   "source": [
    "Zur Auswahl von Colormaps:\n",
    "\n",
    "https://matplotlib.org/3.5.0/tutorials/colors/colormaps.html"
   ]
  },
  {
   "cell_type": "markdown",
   "id": "6be4b1fc-f6be-4fd9-9e75-d659b1dc6156",
   "metadata": {},
   "source": [
    "# Daten fürs ML aufbereiten"
   ]
  },
  {
   "cell_type": "code",
   "execution_count": 25,
   "id": "0c3ada16-f11d-4c67-a30b-2222516f6442",
   "metadata": {},
   "outputs": [
    {
     "data": {
      "text/html": [
       "<div>\n",
       "<style scoped>\n",
       "    .dataframe tbody tr th:only-of-type {\n",
       "        vertical-align: middle;\n",
       "    }\n",
       "\n",
       "    .dataframe tbody tr th {\n",
       "        vertical-align: top;\n",
       "    }\n",
       "\n",
       "    .dataframe thead th {\n",
       "        text-align: right;\n",
       "    }\n",
       "</style>\n",
       "<table border=\"1\" class=\"dataframe\">\n",
       "  <thead>\n",
       "    <tr style=\"text-align: right;\">\n",
       "      <th></th>\n",
       "      <th>mileage</th>\n",
       "      <th>make</th>\n",
       "      <th>model</th>\n",
       "      <th>fuel</th>\n",
       "      <th>gear</th>\n",
       "      <th>offerType</th>\n",
       "      <th>price</th>\n",
       "      <th>hp</th>\n",
       "      <th>year</th>\n",
       "    </tr>\n",
       "  </thead>\n",
       "  <tbody>\n",
       "    <tr>\n",
       "      <th>0</th>\n",
       "      <td>235000</td>\n",
       "      <td>BMW</td>\n",
       "      <td>316</td>\n",
       "      <td>Diesel</td>\n",
       "      <td>Manual</td>\n",
       "      <td>Used</td>\n",
       "      <td>6800</td>\n",
       "      <td>116.00000</td>\n",
       "      <td>2011</td>\n",
       "    </tr>\n",
       "    <tr>\n",
       "      <th>1</th>\n",
       "      <td>92800</td>\n",
       "      <td>Volkswagen</td>\n",
       "      <td>Golf</td>\n",
       "      <td>Gasoline</td>\n",
       "      <td>Manual</td>\n",
       "      <td>Used</td>\n",
       "      <td>6877</td>\n",
       "      <td>122.00000</td>\n",
       "      <td>2011</td>\n",
       "    </tr>\n",
       "    <tr>\n",
       "      <th>2</th>\n",
       "      <td>149300</td>\n",
       "      <td>SEAT</td>\n",
       "      <td>Exeo</td>\n",
       "      <td>Gasoline</td>\n",
       "      <td>Manual</td>\n",
       "      <td>Used</td>\n",
       "      <td>6900</td>\n",
       "      <td>160.00000</td>\n",
       "      <td>2011</td>\n",
       "    </tr>\n",
       "    <tr>\n",
       "      <th>3</th>\n",
       "      <td>96200</td>\n",
       "      <td>Renault</td>\n",
       "      <td>Megane</td>\n",
       "      <td>Gasoline</td>\n",
       "      <td>Manual</td>\n",
       "      <td>Used</td>\n",
       "      <td>6950</td>\n",
       "      <td>110.00000</td>\n",
       "      <td>2011</td>\n",
       "    </tr>\n",
       "    <tr>\n",
       "      <th>4</th>\n",
       "      <td>156000</td>\n",
       "      <td>Peugeot</td>\n",
       "      <td>308</td>\n",
       "      <td>Gasoline</td>\n",
       "      <td>Manual</td>\n",
       "      <td>Used</td>\n",
       "      <td>6950</td>\n",
       "      <td>156.00000</td>\n",
       "      <td>2011</td>\n",
       "    </tr>\n",
       "    <tr>\n",
       "      <th>...</th>\n",
       "      <td>...</td>\n",
       "      <td>...</td>\n",
       "      <td>...</td>\n",
       "      <td>...</td>\n",
       "      <td>...</td>\n",
       "      <td>...</td>\n",
       "      <td>...</td>\n",
       "      <td>...</td>\n",
       "      <td>...</td>\n",
       "    </tr>\n",
       "    <tr>\n",
       "      <th>46400</th>\n",
       "      <td>99</td>\n",
       "      <td>Fiat</td>\n",
       "      <td>500</td>\n",
       "      <td>Electric/Gasoline</td>\n",
       "      <td>Manual</td>\n",
       "      <td>Pre-registered</td>\n",
       "      <td>12990</td>\n",
       "      <td>71.00000</td>\n",
       "      <td>2021</td>\n",
       "    </tr>\n",
       "    <tr>\n",
       "      <th>46401</th>\n",
       "      <td>99</td>\n",
       "      <td>Fiat</td>\n",
       "      <td>500</td>\n",
       "      <td>Electric/Gasoline</td>\n",
       "      <td>Manual</td>\n",
       "      <td>Pre-registered</td>\n",
       "      <td>12990</td>\n",
       "      <td>71.00000</td>\n",
       "      <td>2021</td>\n",
       "    </tr>\n",
       "    <tr>\n",
       "      <th>46402</th>\n",
       "      <td>99</td>\n",
       "      <td>Fiat</td>\n",
       "      <td>500</td>\n",
       "      <td>Electric/Gasoline</td>\n",
       "      <td>Manual</td>\n",
       "      <td>Pre-registered</td>\n",
       "      <td>12990</td>\n",
       "      <td>71.00000</td>\n",
       "      <td>2021</td>\n",
       "    </tr>\n",
       "    <tr>\n",
       "      <th>46403</th>\n",
       "      <td>99</td>\n",
       "      <td>Fiat</td>\n",
       "      <td>500</td>\n",
       "      <td>Electric/Gasoline</td>\n",
       "      <td>Manual</td>\n",
       "      <td>Pre-registered</td>\n",
       "      <td>12990</td>\n",
       "      <td>71.00000</td>\n",
       "      <td>2021</td>\n",
       "    </tr>\n",
       "    <tr>\n",
       "      <th>46404</th>\n",
       "      <td>99</td>\n",
       "      <td>Fiat</td>\n",
       "      <td>500</td>\n",
       "      <td>Electric/Gasoline</td>\n",
       "      <td>Manual</td>\n",
       "      <td>Pre-registered</td>\n",
       "      <td>12990</td>\n",
       "      <td>71.00000</td>\n",
       "      <td>2021</td>\n",
       "    </tr>\n",
       "  </tbody>\n",
       "</table>\n",
       "<p>46071 rows × 9 columns</p>\n",
       "</div>"
      ],
      "text/plain": [
       "       mileage        make   model               fuel    gear       offerType  \\\n",
       "0       235000         BMW     316             Diesel  Manual            Used   \n",
       "1        92800  Volkswagen    Golf           Gasoline  Manual            Used   \n",
       "2       149300        SEAT    Exeo           Gasoline  Manual            Used   \n",
       "3        96200     Renault  Megane           Gasoline  Manual            Used   \n",
       "4       156000     Peugeot     308           Gasoline  Manual            Used   \n",
       "...        ...         ...     ...                ...     ...             ...   \n",
       "46400       99        Fiat     500  Electric/Gasoline  Manual  Pre-registered   \n",
       "46401       99        Fiat     500  Electric/Gasoline  Manual  Pre-registered   \n",
       "46402       99        Fiat     500  Electric/Gasoline  Manual  Pre-registered   \n",
       "46403       99        Fiat     500  Electric/Gasoline  Manual  Pre-registered   \n",
       "46404       99        Fiat     500  Electric/Gasoline  Manual  Pre-registered   \n",
       "\n",
       "       price        hp  year  \n",
       "0       6800 116.00000  2011  \n",
       "1       6877 122.00000  2011  \n",
       "2       6900 160.00000  2011  \n",
       "3       6950 110.00000  2011  \n",
       "4       6950 156.00000  2011  \n",
       "...      ...       ...   ...  \n",
       "46400  12990  71.00000  2021  \n",
       "46401  12990  71.00000  2021  \n",
       "46402  12990  71.00000  2021  \n",
       "46403  12990  71.00000  2021  \n",
       "46404  12990  71.00000  2021  \n",
       "\n",
       "[46071 rows x 9 columns]"
      ]
     },
     "execution_count": 25,
     "metadata": {},
     "output_type": "execute_result"
    }
   ],
   "source": [
    "t"
   ]
  },
  {
   "cell_type": "markdown",
   "id": "d63ef001-52dd-496f-ad13-a97b6df87018",
   "metadata": {},
   "source": [
    "## Aufspaltung in Input- und Outputdaten"
   ]
  },
  {
   "cell_type": "code",
   "execution_count": 26,
   "id": "c6673135-f246-4fe2-a3ab-e480025c797b",
   "metadata": {},
   "outputs": [],
   "source": [
    "# versuche es mit 1,2 oder 3 numerischen Merkmalen\n",
    "#x = t[ [\"mileage\"] ]\n",
    "#x = t[ [\"mileage\", \"year\"] ]\n",
    "x = t[ [\"mileage\", \"year\", \"hp\"] ]\n",
    "y = t[\"price\"]"
   ]
  },
  {
   "cell_type": "code",
   "execution_count": 27,
   "id": "7d8e8e20-1dc0-4959-bb88-6ce03a5c2f4f",
   "metadata": {},
   "outputs": [
    {
     "data": {
      "text/html": [
       "<div>\n",
       "<style scoped>\n",
       "    .dataframe tbody tr th:only-of-type {\n",
       "        vertical-align: middle;\n",
       "    }\n",
       "\n",
       "    .dataframe tbody tr th {\n",
       "        vertical-align: top;\n",
       "    }\n",
       "\n",
       "    .dataframe thead th {\n",
       "        text-align: right;\n",
       "    }\n",
       "</style>\n",
       "<table border=\"1\" class=\"dataframe\">\n",
       "  <thead>\n",
       "    <tr style=\"text-align: right;\">\n",
       "      <th></th>\n",
       "      <th>mileage</th>\n",
       "      <th>year</th>\n",
       "      <th>hp</th>\n",
       "    </tr>\n",
       "  </thead>\n",
       "  <tbody>\n",
       "    <tr>\n",
       "      <th>0</th>\n",
       "      <td>235000</td>\n",
       "      <td>2011</td>\n",
       "      <td>116.00000</td>\n",
       "    </tr>\n",
       "    <tr>\n",
       "      <th>1</th>\n",
       "      <td>92800</td>\n",
       "      <td>2011</td>\n",
       "      <td>122.00000</td>\n",
       "    </tr>\n",
       "    <tr>\n",
       "      <th>2</th>\n",
       "      <td>149300</td>\n",
       "      <td>2011</td>\n",
       "      <td>160.00000</td>\n",
       "    </tr>\n",
       "    <tr>\n",
       "      <th>3</th>\n",
       "      <td>96200</td>\n",
       "      <td>2011</td>\n",
       "      <td>110.00000</td>\n",
       "    </tr>\n",
       "    <tr>\n",
       "      <th>4</th>\n",
       "      <td>156000</td>\n",
       "      <td>2011</td>\n",
       "      <td>156.00000</td>\n",
       "    </tr>\n",
       "    <tr>\n",
       "      <th>...</th>\n",
       "      <td>...</td>\n",
       "      <td>...</td>\n",
       "      <td>...</td>\n",
       "    </tr>\n",
       "    <tr>\n",
       "      <th>46400</th>\n",
       "      <td>99</td>\n",
       "      <td>2021</td>\n",
       "      <td>71.00000</td>\n",
       "    </tr>\n",
       "    <tr>\n",
       "      <th>46401</th>\n",
       "      <td>99</td>\n",
       "      <td>2021</td>\n",
       "      <td>71.00000</td>\n",
       "    </tr>\n",
       "    <tr>\n",
       "      <th>46402</th>\n",
       "      <td>99</td>\n",
       "      <td>2021</td>\n",
       "      <td>71.00000</td>\n",
       "    </tr>\n",
       "    <tr>\n",
       "      <th>46403</th>\n",
       "      <td>99</td>\n",
       "      <td>2021</td>\n",
       "      <td>71.00000</td>\n",
       "    </tr>\n",
       "    <tr>\n",
       "      <th>46404</th>\n",
       "      <td>99</td>\n",
       "      <td>2021</td>\n",
       "      <td>71.00000</td>\n",
       "    </tr>\n",
       "  </tbody>\n",
       "</table>\n",
       "<p>46071 rows × 3 columns</p>\n",
       "</div>"
      ],
      "text/plain": [
       "       mileage  year        hp\n",
       "0       235000  2011 116.00000\n",
       "1        92800  2011 122.00000\n",
       "2       149300  2011 160.00000\n",
       "3        96200  2011 110.00000\n",
       "4       156000  2011 156.00000\n",
       "...        ...   ...       ...\n",
       "46400       99  2021  71.00000\n",
       "46401       99  2021  71.00000\n",
       "46402       99  2021  71.00000\n",
       "46403       99  2021  71.00000\n",
       "46404       99  2021  71.00000\n",
       "\n",
       "[46071 rows x 3 columns]"
      ]
     },
     "execution_count": 27,
     "metadata": {},
     "output_type": "execute_result"
    }
   ],
   "source": [
    "x"
   ]
  },
  {
   "cell_type": "code",
   "execution_count": 28,
   "id": "6177fb96-57e7-4451-913d-f5ecc0dab0b4",
   "metadata": {},
   "outputs": [
    {
     "data": {
      "text/plain": [
       "0         6800\n",
       "1         6877\n",
       "2         6900\n",
       "3         6950\n",
       "4         6950\n",
       "         ...  \n",
       "46400    12990\n",
       "46401    12990\n",
       "46402    12990\n",
       "46403    12990\n",
       "46404    12990\n",
       "Name: price, Length: 46071, dtype: int64"
      ]
     },
     "execution_count": 28,
     "metadata": {},
     "output_type": "execute_result"
    }
   ],
   "source": [
    "y"
   ]
  },
  {
   "cell_type": "markdown",
   "id": "27e54944-4fc0-4bd3-85ae-571db56edb4d",
   "metadata": {},
   "source": [
    "## Aufspaltung in Trainings- und Testdaten"
   ]
  },
  {
   "cell_type": "code",
   "execution_count": 29,
   "id": "90951614-6488-426f-a476-c530ad0b51e0",
   "metadata": {},
   "outputs": [],
   "source": [
    "from sklearn.model_selection import train_test_split\n",
    "x_train, x_test, y_train, y_test = train_test_split(x,y, test_size=0.2, random_state=0)"
   ]
  },
  {
   "cell_type": "code",
   "execution_count": 30,
   "id": "e2fa6f69-cc40-4d86-a112-c730a1856a34",
   "metadata": {},
   "outputs": [
    {
     "data": {
      "text/plain": [
       "(36856, 3)"
      ]
     },
     "execution_count": 30,
     "metadata": {},
     "output_type": "execute_result"
    }
   ],
   "source": [
    "x_train.shape"
   ]
  },
  {
   "cell_type": "code",
   "execution_count": 31,
   "id": "707c1780-f509-4cb2-885c-440c78d7eda3",
   "metadata": {},
   "outputs": [
    {
     "data": {
      "text/plain": [
       "(36856,)"
      ]
     },
     "execution_count": 31,
     "metadata": {},
     "output_type": "execute_result"
    }
   ],
   "source": [
    "y_train.shape"
   ]
  },
  {
   "cell_type": "code",
   "execution_count": 32,
   "id": "95b216b7-bb96-48a7-8525-011d0bdf5100",
   "metadata": {},
   "outputs": [
    {
     "data": {
      "text/plain": [
       "(9215, 3)"
      ]
     },
     "execution_count": 32,
     "metadata": {},
     "output_type": "execute_result"
    }
   ],
   "source": [
    "x_test.shape"
   ]
  },
  {
   "cell_type": "code",
   "execution_count": 33,
   "id": "9024aba7-1355-4f26-a99d-e6581ca38c12",
   "metadata": {},
   "outputs": [
    {
     "data": {
      "text/plain": [
       "(9215,)"
      ]
     },
     "execution_count": 33,
     "metadata": {},
     "output_type": "execute_result"
    }
   ],
   "source": [
    "y_test.shape"
   ]
  },
  {
   "cell_type": "code",
   "execution_count": 34,
   "id": "20056ebe-5cec-4dd3-b609-f8f1464e85b5",
   "metadata": {},
   "outputs": [
    {
     "data": {
      "text/html": [
       "<div>\n",
       "<style scoped>\n",
       "    .dataframe tbody tr th:only-of-type {\n",
       "        vertical-align: middle;\n",
       "    }\n",
       "\n",
       "    .dataframe tbody tr th {\n",
       "        vertical-align: top;\n",
       "    }\n",
       "\n",
       "    .dataframe thead th {\n",
       "        text-align: right;\n",
       "    }\n",
       "</style>\n",
       "<table border=\"1\" class=\"dataframe\">\n",
       "  <thead>\n",
       "    <tr style=\"text-align: right;\">\n",
       "      <th></th>\n",
       "      <th>mileage</th>\n",
       "      <th>year</th>\n",
       "      <th>hp</th>\n",
       "    </tr>\n",
       "  </thead>\n",
       "  <tbody>\n",
       "    <tr>\n",
       "      <th>26009</th>\n",
       "      <td>93000</td>\n",
       "      <td>2011</td>\n",
       "      <td>60.00000</td>\n",
       "    </tr>\n",
       "    <tr>\n",
       "      <th>4718</th>\n",
       "      <td>49100</td>\n",
       "      <td>2014</td>\n",
       "      <td>95.00000</td>\n",
       "    </tr>\n",
       "    <tr>\n",
       "      <th>2533</th>\n",
       "      <td>113000</td>\n",
       "      <td>2012</td>\n",
       "      <td>174.00000</td>\n",
       "    </tr>\n",
       "    <tr>\n",
       "      <th>41360</th>\n",
       "      <td>46004</td>\n",
       "      <td>2017</td>\n",
       "      <td>184.00000</td>\n",
       "    </tr>\n",
       "    <tr>\n",
       "      <th>22549</th>\n",
       "      <td>42961</td>\n",
       "      <td>2017</td>\n",
       "      <td>116.00000</td>\n",
       "    </tr>\n",
       "    <tr>\n",
       "      <th>...</th>\n",
       "      <td>...</td>\n",
       "      <td>...</td>\n",
       "      <td>...</td>\n",
       "    </tr>\n",
       "    <tr>\n",
       "      <th>21369</th>\n",
       "      <td>68000</td>\n",
       "      <td>2012</td>\n",
       "      <td>122.00000</td>\n",
       "    </tr>\n",
       "    <tr>\n",
       "      <th>46222</th>\n",
       "      <td>9900</td>\n",
       "      <td>2021</td>\n",
       "      <td>245.00000</td>\n",
       "    </tr>\n",
       "    <tr>\n",
       "      <th>42900</th>\n",
       "      <td>88500</td>\n",
       "      <td>2018</td>\n",
       "      <td>150.00000</td>\n",
       "    </tr>\n",
       "    <tr>\n",
       "      <th>43867</th>\n",
       "      <td>10691</td>\n",
       "      <td>2019</td>\n",
       "      <td>190.00000</td>\n",
       "    </tr>\n",
       "    <tr>\n",
       "      <th>2748</th>\n",
       "      <td>130000</td>\n",
       "      <td>2013</td>\n",
       "      <td>90.00000</td>\n",
       "    </tr>\n",
       "  </tbody>\n",
       "</table>\n",
       "<p>36856 rows × 3 columns</p>\n",
       "</div>"
      ],
      "text/plain": [
       "       mileage  year        hp\n",
       "26009    93000  2011  60.00000\n",
       "4718     49100  2014  95.00000\n",
       "2533    113000  2012 174.00000\n",
       "41360    46004  2017 184.00000\n",
       "22549    42961  2017 116.00000\n",
       "...        ...   ...       ...\n",
       "21369    68000  2012 122.00000\n",
       "46222     9900  2021 245.00000\n",
       "42900    88500  2018 150.00000\n",
       "43867    10691  2019 190.00000\n",
       "2748    130000  2013  90.00000\n",
       "\n",
       "[36856 rows x 3 columns]"
      ]
     },
     "execution_count": 34,
     "metadata": {},
     "output_type": "execute_result"
    }
   ],
   "source": [
    "x_train"
   ]
  },
  {
   "cell_type": "markdown",
   "id": "53bbd6dc-170b-4b0a-a552-51e9eec01a11",
   "metadata": {},
   "source": [
    "# Machine Learning mittels `scikit-learn`"
   ]
  },
  {
   "cell_type": "markdown",
   "id": "ca82b3d0-e287-4726-82e3-5c13fed29ccf",
   "metadata": {},
   "source": [
    "## Modell erlernen"
   ]
  },
  {
   "cell_type": "code",
   "execution_count": 35,
   "id": "131da702-92c2-4a11-9107-bf04dbf07d4b",
   "metadata": {},
   "outputs": [
    {
     "data": {
      "text/plain": [
       "KNeighborsRegressor()"
      ]
     },
     "execution_count": 35,
     "metadata": {},
     "output_type": "execute_result"
    }
   ],
   "source": [
    "from sklearn.neighbors import KNeighborsRegressor\n",
    "model = KNeighborsRegressor(n_neighbors=5)\n",
    "\n",
    "#from sklearn.tree import DecisionTreeRegressor\n",
    "#model = DecisionTreeRegressor()\n",
    "\n",
    "model.fit(x_train, y_train)"
   ]
  },
  {
   "cell_type": "markdown",
   "id": "51601414-d30b-4b61-b4a2-4f0a0b79f25e",
   "metadata": {},
   "source": [
    "## Modell testen"
   ]
  },
  {
   "cell_type": "code",
   "execution_count": 36,
   "id": "ab5e0743-f230-4167-a908-8b441e45aee7",
   "metadata": {},
   "outputs": [],
   "source": [
    "pred = model.predict(x_test)"
   ]
  },
  {
   "cell_type": "code",
   "execution_count": 37,
   "id": "b9252756-5fca-4454-bc01-8fc0f0a60e9b",
   "metadata": {},
   "outputs": [
    {
     "data": {
      "text/plain": [
       "array([ 7126.8, 16347. , 19223. , 23122. , 26152. , 10634. , 15867.8,\n",
       "        9897.8, 10548.8, 14154. ,  7709.6, 53362. ,  4840. , 53804. ,\n",
       "        7288.4,  6680. ,  5912. ,  6248.8,  4865.8, 14198. ])"
      ]
     },
     "execution_count": 37,
     "metadata": {},
     "output_type": "execute_result"
    }
   ],
   "source": [
    "pred[:20]"
   ]
  },
  {
   "cell_type": "code",
   "execution_count": 38,
   "id": "c4f94602-1591-4f86-9035-59eac90c2b57",
   "metadata": {},
   "outputs": [
    {
     "data": {
      "text/plain": [
       "11100    10590\n",
       "3364      7900\n",
       "23166    18450\n",
       "18826    26650\n",
       "41493    17860\n",
       "32970    12110\n",
       "22565    15950\n",
       "41458    11990\n",
       "11858    12900\n",
       "31233    12490\n",
       "28983     6800\n",
       "44623    48900\n",
       "29840     3999\n",
       "31312    41990\n",
       "24599     6350\n",
       "38161     6800\n",
       "28168     5000\n",
       "12266     5950\n",
       "35053     4999\n",
       "15746    10999\n",
       "Name: price, dtype: int64"
      ]
     },
     "execution_count": 38,
     "metadata": {},
     "output_type": "execute_result"
    }
   ],
   "source": [
    "y_test[:20]"
   ]
  },
  {
   "cell_type": "code",
   "execution_count": 39,
   "id": "41ab4d5e-2736-49bc-a7f9-4f9966fb4101",
   "metadata": {},
   "outputs": [
    {
     "data": {
      "text/plain": [
       "4223.907650569723"
      ]
     },
     "execution_count": 39,
     "metadata": {},
     "output_type": "execute_result"
    }
   ],
   "source": [
    "import numpy\n",
    "mittlerer_fehler = numpy.mean(abs(pred - y_test))\n",
    "mittlerer_fehler"
   ]
  },
  {
   "cell_type": "markdown",
   "id": "bc512c15-ec13-44ff-a534-d8fa6300805b",
   "metadata": {},
   "source": [
    "# Alle Daten fürs ML verwenden"
   ]
  },
  {
   "cell_type": "markdown",
   "id": "93e843da-ce3a-4f53-b0ac-05a0ac9df77f",
   "metadata": {},
   "source": [
    "## Numerische Kodierung kategorialer Spalten"
   ]
  },
  {
   "cell_type": "code",
   "execution_count": 40,
   "id": "7498fcb2-7412-4501-a258-b15bd2ce32e0",
   "metadata": {},
   "outputs": [
    {
     "data": {
      "text/plain": [
       "{'Name': ['Bart', 'Lisa', 'Homer'], 'Lieblingsfarbe': ['Rot', 'Grün', 'Blau']}"
      ]
     },
     "execution_count": 40,
     "metadata": {},
     "output_type": "execute_result"
    }
   ],
   "source": [
    "d = {\"Name\" : [\"Bart\", \"Lisa\", \"Homer\"],\n",
    "     \"Lieblingsfarbe\" : [\"Rot\", \"Grün\", \"Blau\"]}\n",
    "d"
   ]
  },
  {
   "cell_type": "code",
   "execution_count": 41,
   "id": "8876a66e-ab4f-4635-88e3-af180e6fc043",
   "metadata": {},
   "outputs": [
    {
     "data": {
      "text/html": [
       "<div>\n",
       "<style scoped>\n",
       "    .dataframe tbody tr th:only-of-type {\n",
       "        vertical-align: middle;\n",
       "    }\n",
       "\n",
       "    .dataframe tbody tr th {\n",
       "        vertical-align: top;\n",
       "    }\n",
       "\n",
       "    .dataframe thead th {\n",
       "        text-align: right;\n",
       "    }\n",
       "</style>\n",
       "<table border=\"1\" class=\"dataframe\">\n",
       "  <thead>\n",
       "    <tr style=\"text-align: right;\">\n",
       "      <th></th>\n",
       "      <th>Name</th>\n",
       "      <th>Lieblingsfarbe</th>\n",
       "    </tr>\n",
       "  </thead>\n",
       "  <tbody>\n",
       "    <tr>\n",
       "      <th>0</th>\n",
       "      <td>Bart</td>\n",
       "      <td>Rot</td>\n",
       "    </tr>\n",
       "    <tr>\n",
       "      <th>1</th>\n",
       "      <td>Lisa</td>\n",
       "      <td>Grün</td>\n",
       "    </tr>\n",
       "    <tr>\n",
       "      <th>2</th>\n",
       "      <td>Homer</td>\n",
       "      <td>Blau</td>\n",
       "    </tr>\n",
       "  </tbody>\n",
       "</table>\n",
       "</div>"
      ],
      "text/plain": [
       "    Name Lieblingsfarbe\n",
       "0   Bart            Rot\n",
       "1   Lisa           Grün\n",
       "2  Homer           Blau"
      ]
     },
     "execution_count": 41,
     "metadata": {},
     "output_type": "execute_result"
    }
   ],
   "source": [
    "t2 = pandas.DataFrame(d)\n",
    "t2"
   ]
  },
  {
   "cell_type": "code",
   "execution_count": 42,
   "id": "2836a1e6-0c49-41e0-8f88-f4103d0a9ec7",
   "metadata": {},
   "outputs": [
    {
     "data": {
      "text/html": [
       "<div>\n",
       "<style scoped>\n",
       "    .dataframe tbody tr th:only-of-type {\n",
       "        vertical-align: middle;\n",
       "    }\n",
       "\n",
       "    .dataframe tbody tr th {\n",
       "        vertical-align: top;\n",
       "    }\n",
       "\n",
       "    .dataframe thead th {\n",
       "        text-align: right;\n",
       "    }\n",
       "</style>\n",
       "<table border=\"1\" class=\"dataframe\">\n",
       "  <thead>\n",
       "    <tr style=\"text-align: right;\">\n",
       "      <th></th>\n",
       "      <th>Name_Bart</th>\n",
       "      <th>Name_Homer</th>\n",
       "      <th>Name_Lisa</th>\n",
       "      <th>Lieblingsfarbe_Blau</th>\n",
       "      <th>Lieblingsfarbe_Grün</th>\n",
       "      <th>Lieblingsfarbe_Rot</th>\n",
       "    </tr>\n",
       "  </thead>\n",
       "  <tbody>\n",
       "    <tr>\n",
       "      <th>0</th>\n",
       "      <td>1</td>\n",
       "      <td>0</td>\n",
       "      <td>0</td>\n",
       "      <td>0</td>\n",
       "      <td>0</td>\n",
       "      <td>1</td>\n",
       "    </tr>\n",
       "    <tr>\n",
       "      <th>1</th>\n",
       "      <td>0</td>\n",
       "      <td>0</td>\n",
       "      <td>1</td>\n",
       "      <td>0</td>\n",
       "      <td>1</td>\n",
       "      <td>0</td>\n",
       "    </tr>\n",
       "    <tr>\n",
       "      <th>2</th>\n",
       "      <td>0</td>\n",
       "      <td>1</td>\n",
       "      <td>0</td>\n",
       "      <td>1</td>\n",
       "      <td>0</td>\n",
       "      <td>0</td>\n",
       "    </tr>\n",
       "  </tbody>\n",
       "</table>\n",
       "</div>"
      ],
      "text/plain": [
       "   Name_Bart  Name_Homer  Name_Lisa  Lieblingsfarbe_Blau  Lieblingsfarbe_Grün  \\\n",
       "0          1           0          0                    0                    0   \n",
       "1          0           0          1                    0                    1   \n",
       "2          0           1          0                    1                    0   \n",
       "\n",
       "   Lieblingsfarbe_Rot  \n",
       "0                   1  \n",
       "1                   0  \n",
       "2                   0  "
      ]
     },
     "execution_count": 42,
     "metadata": {},
     "output_type": "execute_result"
    }
   ],
   "source": [
    "pandas.get_dummies(t2)"
   ]
  },
  {
   "cell_type": "code",
   "execution_count": 43,
   "id": "3f1fb643-0585-4a9f-92b4-f5e02d9f37fe",
   "metadata": {},
   "outputs": [
    {
     "data": {
      "text/html": [
       "<div>\n",
       "<style scoped>\n",
       "    .dataframe tbody tr th:only-of-type {\n",
       "        vertical-align: middle;\n",
       "    }\n",
       "\n",
       "    .dataframe tbody tr th {\n",
       "        vertical-align: top;\n",
       "    }\n",
       "\n",
       "    .dataframe thead th {\n",
       "        text-align: right;\n",
       "    }\n",
       "</style>\n",
       "<table border=\"1\" class=\"dataframe\">\n",
       "  <thead>\n",
       "    <tr style=\"text-align: right;\">\n",
       "      <th></th>\n",
       "      <th>mileage</th>\n",
       "      <th>price</th>\n",
       "      <th>hp</th>\n",
       "      <th>year</th>\n",
       "      <th>make_Abarth</th>\n",
       "      <th>make_Aixam</th>\n",
       "      <th>make_Alfa</th>\n",
       "      <th>make_Alpina</th>\n",
       "      <th>make_Alpine</th>\n",
       "      <th>make_Aston</th>\n",
       "      <th>...</th>\n",
       "      <th>fuel_LPG</th>\n",
       "      <th>fuel_Others</th>\n",
       "      <th>gear_Automatic</th>\n",
       "      <th>gear_Manual</th>\n",
       "      <th>gear_Semi-automatic</th>\n",
       "      <th>offerType_Demonstration</th>\n",
       "      <th>offerType_Employee's car</th>\n",
       "      <th>offerType_New</th>\n",
       "      <th>offerType_Pre-registered</th>\n",
       "      <th>offerType_Used</th>\n",
       "    </tr>\n",
       "  </thead>\n",
       "  <tbody>\n",
       "    <tr>\n",
       "      <th>0</th>\n",
       "      <td>235000</td>\n",
       "      <td>6800</td>\n",
       "      <td>116.00000</td>\n",
       "      <td>2011</td>\n",
       "      <td>0</td>\n",
       "      <td>0</td>\n",
       "      <td>0</td>\n",
       "      <td>0</td>\n",
       "      <td>0</td>\n",
       "      <td>0</td>\n",
       "      <td>...</td>\n",
       "      <td>0</td>\n",
       "      <td>0</td>\n",
       "      <td>0</td>\n",
       "      <td>1</td>\n",
       "      <td>0</td>\n",
       "      <td>0</td>\n",
       "      <td>0</td>\n",
       "      <td>0</td>\n",
       "      <td>0</td>\n",
       "      <td>1</td>\n",
       "    </tr>\n",
       "    <tr>\n",
       "      <th>1</th>\n",
       "      <td>92800</td>\n",
       "      <td>6877</td>\n",
       "      <td>122.00000</td>\n",
       "      <td>2011</td>\n",
       "      <td>0</td>\n",
       "      <td>0</td>\n",
       "      <td>0</td>\n",
       "      <td>0</td>\n",
       "      <td>0</td>\n",
       "      <td>0</td>\n",
       "      <td>...</td>\n",
       "      <td>0</td>\n",
       "      <td>0</td>\n",
       "      <td>0</td>\n",
       "      <td>1</td>\n",
       "      <td>0</td>\n",
       "      <td>0</td>\n",
       "      <td>0</td>\n",
       "      <td>0</td>\n",
       "      <td>0</td>\n",
       "      <td>1</td>\n",
       "    </tr>\n",
       "    <tr>\n",
       "      <th>2</th>\n",
       "      <td>149300</td>\n",
       "      <td>6900</td>\n",
       "      <td>160.00000</td>\n",
       "      <td>2011</td>\n",
       "      <td>0</td>\n",
       "      <td>0</td>\n",
       "      <td>0</td>\n",
       "      <td>0</td>\n",
       "      <td>0</td>\n",
       "      <td>0</td>\n",
       "      <td>...</td>\n",
       "      <td>0</td>\n",
       "      <td>0</td>\n",
       "      <td>0</td>\n",
       "      <td>1</td>\n",
       "      <td>0</td>\n",
       "      <td>0</td>\n",
       "      <td>0</td>\n",
       "      <td>0</td>\n",
       "      <td>0</td>\n",
       "      <td>1</td>\n",
       "    </tr>\n",
       "    <tr>\n",
       "      <th>3</th>\n",
       "      <td>96200</td>\n",
       "      <td>6950</td>\n",
       "      <td>110.00000</td>\n",
       "      <td>2011</td>\n",
       "      <td>0</td>\n",
       "      <td>0</td>\n",
       "      <td>0</td>\n",
       "      <td>0</td>\n",
       "      <td>0</td>\n",
       "      <td>0</td>\n",
       "      <td>...</td>\n",
       "      <td>0</td>\n",
       "      <td>0</td>\n",
       "      <td>0</td>\n",
       "      <td>1</td>\n",
       "      <td>0</td>\n",
       "      <td>0</td>\n",
       "      <td>0</td>\n",
       "      <td>0</td>\n",
       "      <td>0</td>\n",
       "      <td>1</td>\n",
       "    </tr>\n",
       "    <tr>\n",
       "      <th>4</th>\n",
       "      <td>156000</td>\n",
       "      <td>6950</td>\n",
       "      <td>156.00000</td>\n",
       "      <td>2011</td>\n",
       "      <td>0</td>\n",
       "      <td>0</td>\n",
       "      <td>0</td>\n",
       "      <td>0</td>\n",
       "      <td>0</td>\n",
       "      <td>0</td>\n",
       "      <td>...</td>\n",
       "      <td>0</td>\n",
       "      <td>0</td>\n",
       "      <td>0</td>\n",
       "      <td>1</td>\n",
       "      <td>0</td>\n",
       "      <td>0</td>\n",
       "      <td>0</td>\n",
       "      <td>0</td>\n",
       "      <td>0</td>\n",
       "      <td>1</td>\n",
       "    </tr>\n",
       "    <tr>\n",
       "      <th>...</th>\n",
       "      <td>...</td>\n",
       "      <td>...</td>\n",
       "      <td>...</td>\n",
       "      <td>...</td>\n",
       "      <td>...</td>\n",
       "      <td>...</td>\n",
       "      <td>...</td>\n",
       "      <td>...</td>\n",
       "      <td>...</td>\n",
       "      <td>...</td>\n",
       "      <td>...</td>\n",
       "      <td>...</td>\n",
       "      <td>...</td>\n",
       "      <td>...</td>\n",
       "      <td>...</td>\n",
       "      <td>...</td>\n",
       "      <td>...</td>\n",
       "      <td>...</td>\n",
       "      <td>...</td>\n",
       "      <td>...</td>\n",
       "      <td>...</td>\n",
       "    </tr>\n",
       "    <tr>\n",
       "      <th>46400</th>\n",
       "      <td>99</td>\n",
       "      <td>12990</td>\n",
       "      <td>71.00000</td>\n",
       "      <td>2021</td>\n",
       "      <td>0</td>\n",
       "      <td>0</td>\n",
       "      <td>0</td>\n",
       "      <td>0</td>\n",
       "      <td>0</td>\n",
       "      <td>0</td>\n",
       "      <td>...</td>\n",
       "      <td>0</td>\n",
       "      <td>0</td>\n",
       "      <td>0</td>\n",
       "      <td>1</td>\n",
       "      <td>0</td>\n",
       "      <td>0</td>\n",
       "      <td>0</td>\n",
       "      <td>0</td>\n",
       "      <td>1</td>\n",
       "      <td>0</td>\n",
       "    </tr>\n",
       "    <tr>\n",
       "      <th>46401</th>\n",
       "      <td>99</td>\n",
       "      <td>12990</td>\n",
       "      <td>71.00000</td>\n",
       "      <td>2021</td>\n",
       "      <td>0</td>\n",
       "      <td>0</td>\n",
       "      <td>0</td>\n",
       "      <td>0</td>\n",
       "      <td>0</td>\n",
       "      <td>0</td>\n",
       "      <td>...</td>\n",
       "      <td>0</td>\n",
       "      <td>0</td>\n",
       "      <td>0</td>\n",
       "      <td>1</td>\n",
       "      <td>0</td>\n",
       "      <td>0</td>\n",
       "      <td>0</td>\n",
       "      <td>0</td>\n",
       "      <td>1</td>\n",
       "      <td>0</td>\n",
       "    </tr>\n",
       "    <tr>\n",
       "      <th>46402</th>\n",
       "      <td>99</td>\n",
       "      <td>12990</td>\n",
       "      <td>71.00000</td>\n",
       "      <td>2021</td>\n",
       "      <td>0</td>\n",
       "      <td>0</td>\n",
       "      <td>0</td>\n",
       "      <td>0</td>\n",
       "      <td>0</td>\n",
       "      <td>0</td>\n",
       "      <td>...</td>\n",
       "      <td>0</td>\n",
       "      <td>0</td>\n",
       "      <td>0</td>\n",
       "      <td>1</td>\n",
       "      <td>0</td>\n",
       "      <td>0</td>\n",
       "      <td>0</td>\n",
       "      <td>0</td>\n",
       "      <td>1</td>\n",
       "      <td>0</td>\n",
       "    </tr>\n",
       "    <tr>\n",
       "      <th>46403</th>\n",
       "      <td>99</td>\n",
       "      <td>12990</td>\n",
       "      <td>71.00000</td>\n",
       "      <td>2021</td>\n",
       "      <td>0</td>\n",
       "      <td>0</td>\n",
       "      <td>0</td>\n",
       "      <td>0</td>\n",
       "      <td>0</td>\n",
       "      <td>0</td>\n",
       "      <td>...</td>\n",
       "      <td>0</td>\n",
       "      <td>0</td>\n",
       "      <td>0</td>\n",
       "      <td>1</td>\n",
       "      <td>0</td>\n",
       "      <td>0</td>\n",
       "      <td>0</td>\n",
       "      <td>0</td>\n",
       "      <td>1</td>\n",
       "      <td>0</td>\n",
       "    </tr>\n",
       "    <tr>\n",
       "      <th>46404</th>\n",
       "      <td>99</td>\n",
       "      <td>12990</td>\n",
       "      <td>71.00000</td>\n",
       "      <td>2021</td>\n",
       "      <td>0</td>\n",
       "      <td>0</td>\n",
       "      <td>0</td>\n",
       "      <td>0</td>\n",
       "      <td>0</td>\n",
       "      <td>0</td>\n",
       "      <td>...</td>\n",
       "      <td>0</td>\n",
       "      <td>0</td>\n",
       "      <td>0</td>\n",
       "      <td>1</td>\n",
       "      <td>0</td>\n",
       "      <td>0</td>\n",
       "      <td>0</td>\n",
       "      <td>0</td>\n",
       "      <td>1</td>\n",
       "      <td>0</td>\n",
       "    </tr>\n",
       "  </tbody>\n",
       "</table>\n",
       "<p>46071 rows × 929 columns</p>\n",
       "</div>"
      ],
      "text/plain": [
       "       mileage  price        hp  year  make_Abarth  make_Aixam  make_Alfa  \\\n",
       "0       235000   6800 116.00000  2011            0           0          0   \n",
       "1        92800   6877 122.00000  2011            0           0          0   \n",
       "2       149300   6900 160.00000  2011            0           0          0   \n",
       "3        96200   6950 110.00000  2011            0           0          0   \n",
       "4       156000   6950 156.00000  2011            0           0          0   \n",
       "...        ...    ...       ...   ...          ...         ...        ...   \n",
       "46400       99  12990  71.00000  2021            0           0          0   \n",
       "46401       99  12990  71.00000  2021            0           0          0   \n",
       "46402       99  12990  71.00000  2021            0           0          0   \n",
       "46403       99  12990  71.00000  2021            0           0          0   \n",
       "46404       99  12990  71.00000  2021            0           0          0   \n",
       "\n",
       "       make_Alpina  make_Alpine  make_Aston  ...  fuel_LPG  fuel_Others  \\\n",
       "0                0            0           0  ...         0            0   \n",
       "1                0            0           0  ...         0            0   \n",
       "2                0            0           0  ...         0            0   \n",
       "3                0            0           0  ...         0            0   \n",
       "4                0            0           0  ...         0            0   \n",
       "...            ...          ...         ...  ...       ...          ...   \n",
       "46400            0            0           0  ...         0            0   \n",
       "46401            0            0           0  ...         0            0   \n",
       "46402            0            0           0  ...         0            0   \n",
       "46403            0            0           0  ...         0            0   \n",
       "46404            0            0           0  ...         0            0   \n",
       "\n",
       "       gear_Automatic  gear_Manual  gear_Semi-automatic  \\\n",
       "0                   0            1                    0   \n",
       "1                   0            1                    0   \n",
       "2                   0            1                    0   \n",
       "3                   0            1                    0   \n",
       "4                   0            1                    0   \n",
       "...               ...          ...                  ...   \n",
       "46400               0            1                    0   \n",
       "46401               0            1                    0   \n",
       "46402               0            1                    0   \n",
       "46403               0            1                    0   \n",
       "46404               0            1                    0   \n",
       "\n",
       "       offerType_Demonstration  offerType_Employee's car  offerType_New  \\\n",
       "0                            0                         0              0   \n",
       "1                            0                         0              0   \n",
       "2                            0                         0              0   \n",
       "3                            0                         0              0   \n",
       "4                            0                         0              0   \n",
       "...                        ...                       ...            ...   \n",
       "46400                        0                         0              0   \n",
       "46401                        0                         0              0   \n",
       "46402                        0                         0              0   \n",
       "46403                        0                         0              0   \n",
       "46404                        0                         0              0   \n",
       "\n",
       "       offerType_Pre-registered  offerType_Used  \n",
       "0                             0               1  \n",
       "1                             0               1  \n",
       "2                             0               1  \n",
       "3                             0               1  \n",
       "4                             0               1  \n",
       "...                         ...             ...  \n",
       "46400                         1               0  \n",
       "46401                         1               0  \n",
       "46402                         1               0  \n",
       "46403                         1               0  \n",
       "46404                         1               0  \n",
       "\n",
       "[46071 rows x 929 columns]"
      ]
     },
     "execution_count": 43,
     "metadata": {},
     "output_type": "execute_result"
    }
   ],
   "source": [
    "t2 = pandas.get_dummies(t)\n",
    "t2"
   ]
  },
  {
   "cell_type": "markdown",
   "id": "b4f401e8-211b-4692-810d-ca31d73ff611",
   "metadata": {},
   "source": [
    "## Aufspaltung in Input- und Outputdaten"
   ]
  },
  {
   "cell_type": "code",
   "execution_count": 44,
   "id": "8a147bf0-1bed-4005-891c-4034e31eda6f",
   "metadata": {},
   "outputs": [],
   "source": [
    "x = t2.drop(\"price\", axis=1)\n",
    "y = t2[\"price\"]"
   ]
  },
  {
   "cell_type": "markdown",
   "id": "60abd292-b567-4130-9744-9e07641cea7b",
   "metadata": {},
   "source": [
    "## Aufspaltung in Trainings- und Testdaten"
   ]
  },
  {
   "cell_type": "code",
   "execution_count": 45,
   "id": "48d638e0-a487-4780-9a34-b6bdfe939551",
   "metadata": {},
   "outputs": [],
   "source": [
    "from sklearn.model_selection import train_test_split\n",
    "x_train, x_test, y_train, y_test = train_test_split(x,y, test_size=0.2, random_state=0)"
   ]
  },
  {
   "cell_type": "code",
   "execution_count": 46,
   "id": "a871d171-fa15-40c6-9d1e-e083fe61f2d4",
   "metadata": {},
   "outputs": [
    {
     "data": {
      "text/plain": [
       "(36856, 928)"
      ]
     },
     "execution_count": 46,
     "metadata": {},
     "output_type": "execute_result"
    }
   ],
   "source": [
    "x_train.shape"
   ]
  },
  {
   "cell_type": "code",
   "execution_count": 47,
   "id": "f3af2979-539a-4f73-90be-7e7845becc30",
   "metadata": {},
   "outputs": [
    {
     "data": {
      "text/plain": [
       "(36856,)"
      ]
     },
     "execution_count": 47,
     "metadata": {},
     "output_type": "execute_result"
    }
   ],
   "source": [
    "y_train.shape"
   ]
  },
  {
   "cell_type": "code",
   "execution_count": 48,
   "id": "c9f2c424-dac4-4564-96ca-b62d1844cb7b",
   "metadata": {},
   "outputs": [
    {
     "data": {
      "text/plain": [
       "(9215, 928)"
      ]
     },
     "execution_count": 48,
     "metadata": {},
     "output_type": "execute_result"
    }
   ],
   "source": [
    "x_test.shape"
   ]
  },
  {
   "cell_type": "code",
   "execution_count": 49,
   "id": "86abddbb-6c59-430f-85f5-99a2ed4cbe11",
   "metadata": {},
   "outputs": [
    {
     "data": {
      "text/plain": [
       "(9215,)"
      ]
     },
     "execution_count": 49,
     "metadata": {},
     "output_type": "execute_result"
    }
   ],
   "source": [
    "y_test.shape"
   ]
  },
  {
   "cell_type": "markdown",
   "id": "56d45615-ebe0-4e6e-aad0-0e20c40e36b4",
   "metadata": {},
   "source": [
    "## Machine Learning"
   ]
  },
  {
   "cell_type": "code",
   "execution_count": 50,
   "id": "b73ea354-e549-4e0b-9866-97c6948e0507",
   "metadata": {},
   "outputs": [
    {
     "data": {
      "text/plain": [
       "DecisionTreeRegressor()"
      ]
     },
     "execution_count": 50,
     "metadata": {},
     "output_type": "execute_result"
    }
   ],
   "source": [
    "from sklearn.tree import DecisionTreeRegressor\n",
    "model = DecisionTreeRegressor()\n",
    "\n",
    "model.fit(x_train, y_train)"
   ]
  },
  {
   "cell_type": "markdown",
   "id": "ec2aec9f-7ecc-4798-ac2e-7dfe7e9d8cbd",
   "metadata": {},
   "source": [
    "## Modellgüte bestimmen"
   ]
  },
  {
   "cell_type": "code",
   "execution_count": 51,
   "id": "d3f8cb44-0f20-438c-b52f-361c68e3a074",
   "metadata": {},
   "outputs": [],
   "source": [
    "pred = model.predict(x_test)"
   ]
  },
  {
   "cell_type": "code",
   "execution_count": 52,
   "id": "3948aaee-6e7a-45e2-9410-992a9780fdb1",
   "metadata": {},
   "outputs": [
    {
     "data": {
      "text/plain": [
       "array([10990.        ,  8490.        , 19990.        , 23990.        ,\n",
       "       18990.        , 11680.        , 16480.        ,  9190.        ,\n",
       "       13830.        , 12990.        ,  8375.        , 45890.        ,\n",
       "        4490.        , 40499.        ,  6990.        ,  4990.        ,\n",
       "        5499.66666667,  5240.        ,  5400.        , 10790.        ])"
      ]
     },
     "execution_count": 52,
     "metadata": {},
     "output_type": "execute_result"
    }
   ],
   "source": [
    "pred[:20]"
   ]
  },
  {
   "cell_type": "code",
   "execution_count": 53,
   "id": "fcce7c30-23c4-439c-bb3e-4a33fdae04cc",
   "metadata": {},
   "outputs": [
    {
     "data": {
      "text/plain": [
       "11100    10590\n",
       "3364      7900\n",
       "23166    18450\n",
       "18826    26650\n",
       "41493    17860\n",
       "32970    12110\n",
       "22565    15950\n",
       "41458    11990\n",
       "11858    12900\n",
       "31233    12490\n",
       "28983     6800\n",
       "44623    48900\n",
       "29840     3999\n",
       "31312    41990\n",
       "24599     6350\n",
       "38161     6800\n",
       "28168     5000\n",
       "12266     5950\n",
       "35053     4999\n",
       "15746    10999\n",
       "Name: price, dtype: int64"
      ]
     },
     "execution_count": 53,
     "metadata": {},
     "output_type": "execute_result"
    }
   ],
   "source": [
    "y_test[:20]"
   ]
  },
  {
   "cell_type": "code",
   "execution_count": 54,
   "id": "013a85c9-44a2-4db9-a540-155840c9abe1",
   "metadata": {},
   "outputs": [
    {
     "data": {
      "text/plain": [
       "2376.358236351443"
      ]
     },
     "execution_count": 54,
     "metadata": {},
     "output_type": "execute_result"
    }
   ],
   "source": [
    "import numpy\n",
    "mittlerer_fehler = numpy.mean(abs(pred - y_test))\n",
    "mittlerer_fehler"
   ]
  },
  {
   "cell_type": "markdown",
   "id": "402fe6b7-bbbe-4f5c-aecf-6cf3819d0ee3",
   "metadata": {},
   "source": [
    "# Machine Learning mittels `TensorFlow`"
   ]
  },
  {
   "cell_type": "markdown",
   "id": "2df2fbb8-ab35-4199-87fe-e62ced102d72",
   "metadata": {},
   "source": [
    "## Einführung Skalierung"
   ]
  },
  {
   "cell_type": "code",
   "execution_count": 55,
   "id": "83f22f57-9a25-40d6-8498-e483850001f1",
   "metadata": {},
   "outputs": [
    {
     "data": {
      "text/plain": [
       "{'A': [-20, -20, 0, 20], 'B': [-5, 0, 5, 5]}"
      ]
     },
     "execution_count": 55,
     "metadata": {},
     "output_type": "execute_result"
    }
   ],
   "source": [
    "d = {\"A\": [-20, -20, 0, 20], \"B\": [-5, 0, 5, 5]}\n",
    "d"
   ]
  },
  {
   "cell_type": "code",
   "execution_count": 56,
   "id": "d3b4ab04-86ed-4f05-b644-b5eb42d091d3",
   "metadata": {},
   "outputs": [
    {
     "data": {
      "text/html": [
       "<div>\n",
       "<style scoped>\n",
       "    .dataframe tbody tr th:only-of-type {\n",
       "        vertical-align: middle;\n",
       "    }\n",
       "\n",
       "    .dataframe tbody tr th {\n",
       "        vertical-align: top;\n",
       "    }\n",
       "\n",
       "    .dataframe thead th {\n",
       "        text-align: right;\n",
       "    }\n",
       "</style>\n",
       "<table border=\"1\" class=\"dataframe\">\n",
       "  <thead>\n",
       "    <tr style=\"text-align: right;\">\n",
       "      <th></th>\n",
       "      <th>A</th>\n",
       "      <th>B</th>\n",
       "    </tr>\n",
       "  </thead>\n",
       "  <tbody>\n",
       "    <tr>\n",
       "      <th>0</th>\n",
       "      <td>-20</td>\n",
       "      <td>-5</td>\n",
       "    </tr>\n",
       "    <tr>\n",
       "      <th>1</th>\n",
       "      <td>-20</td>\n",
       "      <td>0</td>\n",
       "    </tr>\n",
       "    <tr>\n",
       "      <th>2</th>\n",
       "      <td>0</td>\n",
       "      <td>5</td>\n",
       "    </tr>\n",
       "    <tr>\n",
       "      <th>3</th>\n",
       "      <td>20</td>\n",
       "      <td>5</td>\n",
       "    </tr>\n",
       "  </tbody>\n",
       "</table>\n",
       "</div>"
      ],
      "text/plain": [
       "    A  B\n",
       "0 -20 -5\n",
       "1 -20  0\n",
       "2   0  5\n",
       "3  20  5"
      ]
     },
     "execution_count": 56,
     "metadata": {},
     "output_type": "execute_result"
    }
   ],
   "source": [
    "t2 = pandas.DataFrame(d)\n",
    "t2"
   ]
  },
  {
   "cell_type": "code",
   "execution_count": 57,
   "id": "0f6b3849-e9c8-42de-8cec-fbab80a6a786",
   "metadata": {},
   "outputs": [],
   "source": [
    "from sklearn.preprocessing import MinMaxScaler\n",
    "s = MinMaxScaler()"
   ]
  },
  {
   "cell_type": "code",
   "execution_count": 58,
   "id": "1e6481f8-de22-4328-b602-5e9e16d7c9eb",
   "metadata": {},
   "outputs": [
    {
     "data": {
      "text/plain": [
       "array([[0. , 0. ],\n",
       "       [0. , 0.5],\n",
       "       [0.5, 1. ],\n",
       "       [1. , 1. ]])"
      ]
     },
     "execution_count": 58,
     "metadata": {},
     "output_type": "execute_result"
    }
   ],
   "source": [
    "s.fit_transform(t2)"
   ]
  },
  {
   "cell_type": "markdown",
   "id": "5ebda7ba-7512-4e97-8708-ead3cd0a7d0e",
   "metadata": {},
   "source": [
    "## Beispieldaten skalieren"
   ]
  },
  {
   "cell_type": "code",
   "execution_count": 59,
   "id": "14b04405-d83c-4bcd-b777-35f877611876",
   "metadata": {},
   "outputs": [],
   "source": [
    "x = t[ [\"mileage\", \"year\", \"hp\"] ]\n",
    "y = t[\"price\"]\n",
    "from sklearn.model_selection import train_test_split\n",
    "x_train, x_test, y_train, y_test = train_test_split(x,y, test_size=0.2, random_state=0)"
   ]
  },
  {
   "cell_type": "code",
   "execution_count": 60,
   "id": "04317513-93c8-493b-96ad-186beb4a6eb0",
   "metadata": {},
   "outputs": [],
   "source": [
    "s_input = MinMaxScaler()\n",
    "s_output = MinMaxScaler()"
   ]
  },
  {
   "cell_type": "code",
   "execution_count": 61,
   "id": "ab2e9b95-30fd-4525-b8c0-7b428c5ad06c",
   "metadata": {},
   "outputs": [],
   "source": [
    "x_train_scaled = s_input.fit_transform( x_train )\n",
    "x_test_scaled = s_input.transform( x_test )"
   ]
  },
  {
   "cell_type": "code",
   "execution_count": 62,
   "id": "d6ec1a39-cb70-4f7f-b74a-c07cc9e54166",
   "metadata": {},
   "outputs": [],
   "source": [
    "y_train_scaled = s_output.fit_transform( y_train.values.reshape(-1,1) )\n",
    "y_test_scaled = s_output.transform( y_test.values.reshape(-1,1) )"
   ]
  },
  {
   "cell_type": "code",
   "execution_count": 63,
   "id": "0612f161-3e81-4be8-b9d7-702b18099dbd",
   "metadata": {},
   "outputs": [
    {
     "data": {
      "text/plain": [
       "array([[0.08370001, 0.        , 0.06508876],\n",
       "       [0.04419   , 0.3       , 0.10650888],\n",
       "       [0.10170001, 0.1       , 0.2       ],\n",
       "       [0.0414036 , 0.6       , 0.21183432],\n",
       "       [0.0386649 , 0.6       , 0.13136095]])"
      ]
     },
     "execution_count": 63,
     "metadata": {},
     "output_type": "execute_result"
    }
   ],
   "source": [
    "x_train_scaled[:5]"
   ]
  },
  {
   "cell_type": "code",
   "execution_count": 64,
   "id": "dc1be0d8-efd6-4bf1-af0c-6cb1245ef562",
   "metadata": {},
   "outputs": [
    {
     "data": {
      "text/plain": [
       "array([[0.00141826],\n",
       "       [0.00646561],\n",
       "       [0.00663246],\n",
       "       [0.02456931],\n",
       "       [0.01129688]])"
      ]
     },
     "execution_count": 64,
     "metadata": {},
     "output_type": "execute_result"
    }
   ],
   "source": [
    "y_train_scaled[:5]"
   ]
  },
  {
   "cell_type": "markdown",
   "id": "79ca87e2-079b-49e0-ad66-f0b8b28c0633",
   "metadata": {},
   "source": [
    "## Neuronales Netz erstellen und trainieren"
   ]
  },
  {
   "cell_type": "code",
   "execution_count": 65,
   "id": "7a4c3f7e-31dd-4745-83ad-4d5a36442cc6",
   "metadata": {},
   "outputs": [
    {
     "name": "stderr",
     "output_type": "stream",
     "text": [
      "2022-05-29 12:13:05.397512: W tensorflow/stream_executor/platform/default/dso_loader.cc:64] Could not load dynamic library 'libcudart.so.11.0'; dlerror: libcudart.so.11.0: cannot open shared object file: No such file or directory\n",
      "2022-05-29 12:13:05.397528: I tensorflow/stream_executor/cuda/cudart_stub.cc:29] Ignore above cudart dlerror if you do not have a GPU set up on your machine.\n"
     ]
    },
    {
     "data": {
      "text/plain": [
       "'2.8.0'"
      ]
     },
     "execution_count": 65,
     "metadata": {},
     "output_type": "execute_result"
    }
   ],
   "source": [
    "import tensorflow as tf\n",
    "tf.__version__"
   ]
  },
  {
   "cell_type": "code",
   "execution_count": 66,
   "id": "87beb2e1-3b8b-4c5a-8853-6123c6c738fc",
   "metadata": {},
   "outputs": [
    {
     "data": {
      "text/plain": [
       "3"
      ]
     },
     "execution_count": 66,
     "metadata": {},
     "output_type": "execute_result"
    }
   ],
   "source": [
    "nr_inputs = x_train.shape[1]\n",
    "nr_inputs"
   ]
  },
  {
   "cell_type": "code",
   "execution_count": 67,
   "id": "8b57798c-1560-4cee-a9fc-881cbee86680",
   "metadata": {},
   "outputs": [
    {
     "data": {
      "text/plain": [
       "1"
      ]
     },
     "execution_count": 67,
     "metadata": {},
     "output_type": "execute_result"
    }
   ],
   "source": [
    "nr_outputs = 1\n",
    "nr_outputs"
   ]
  },
  {
   "cell_type": "code",
   "execution_count": 96,
   "id": "d5a404c5-9796-4f87-9313-37dffa95665d",
   "metadata": {},
   "outputs": [
    {
     "name": "stdout",
     "output_type": "stream",
     "text": [
      "Model: \"sequential\"\n",
      "_________________________________________________________________\n",
      " Layer (type)                Output Shape              Param #   \n",
      "=================================================================\n",
      " HiddenLayer1 (Dense)        (None, 20)                80        \n",
      "                                                                 \n",
      " HiddenLayer2 (Dense)        (None, 10)                210       \n",
      "                                                                 \n",
      " OutputLayer (Dense)         (None, 1)                 11        \n",
      "                                                                 \n",
      "=================================================================\n",
      "Total params: 301\n",
      "Trainable params: 301\n",
      "Non-trainable params: 0\n",
      "_________________________________________________________________\n"
     ]
    }
   ],
   "source": [
    "from tensorflow import keras\n",
    "\n",
    "tf.keras.backend.clear_session()\n",
    "\n",
    "model = keras.Sequential()\n",
    "model.add(keras.layers.Dense(20,\n",
    "                             activation=\"relu\",\n",
    "                             input_shape=(nr_inputs,),\n",
    "                             name=\"HiddenLayer1\"))\n",
    "model.add(keras.layers.Dense(10,\n",
    "                             activation=\"relu\",                             \n",
    "                             name=\"HiddenLayer2\"))\n",
    "model.add(keras.layers.Dense(nr_outputs,                             \n",
    "                             activation=\"linear\",\n",
    "                             name=\"OutputLayer\"))\n",
    "\n",
    "\n",
    "model.compile(optimizer='sgd',\n",
    "              loss=keras.losses.MeanAbsoluteError())\n",
    "\n",
    "model.summary()"
   ]
  },
  {
   "cell_type": "code",
   "execution_count": 106,
   "id": "233948e4-bfca-4c23-81ea-74a121206deb",
   "metadata": {},
   "outputs": [
    {
     "name": "stdout",
     "output_type": "stream",
     "text": [
      "Epoch 1/20\n",
      "1037/1037 [==============================] - 1s 984us/step - loss: 0.0053 - val_loss: 0.0033\n",
      "Epoch 2/20\n",
      "1037/1037 [==============================] - 1s 778us/step - loss: 0.0052 - val_loss: 0.0049\n",
      "Epoch 3/20\n",
      "1037/1037 [==============================] - 1s 750us/step - loss: 0.0052 - val_loss: 0.0062\n",
      "Epoch 4/20\n",
      "1037/1037 [==============================] - 1s 823us/step - loss: 0.0052 - val_loss: 0.0036\n",
      "Epoch 5/20\n",
      "1037/1037 [==============================] - 1s 910us/step - loss: 0.0052 - val_loss: 0.0031\n",
      "Epoch 6/20\n",
      "1037/1037 [==============================] - 1s 859us/step - loss: 0.0052 - val_loss: 0.0035\n",
      "Epoch 7/20\n",
      "1037/1037 [==============================] - 1s 884us/step - loss: 0.0053 - val_loss: 0.0042\n",
      "Epoch 8/20\n",
      "1037/1037 [==============================] - 1s 803us/step - loss: 0.0053 - val_loss: 0.0065\n",
      "Epoch 9/20\n",
      "1037/1037 [==============================] - 1s 838us/step - loss: 0.0052 - val_loss: 0.0033\n",
      "Epoch 10/20\n",
      "1037/1037 [==============================] - 1s 862us/step - loss: 0.0052 - val_loss: 0.0068\n",
      "Epoch 11/20\n",
      "1037/1037 [==============================] - 1s 894us/step - loss: 0.0053 - val_loss: 0.0062\n",
      "Epoch 12/20\n",
      "1037/1037 [==============================] - 1s 885us/step - loss: 0.0053 - val_loss: 0.0039\n",
      "Epoch 13/20\n",
      "1037/1037 [==============================] - 1s 769us/step - loss: 0.0053 - val_loss: 0.0064\n",
      "Epoch 14/20\n",
      "1037/1037 [==============================] - 1s 762us/step - loss: 0.0052 - val_loss: 0.0059\n",
      "Epoch 15/20\n",
      "1037/1037 [==============================] - 1s 903us/step - loss: 0.0052 - val_loss: 0.0063\n",
      "Epoch 16/20\n",
      "1037/1037 [==============================] - 1s 842us/step - loss: 0.0052 - val_loss: 0.0065\n",
      "Epoch 17/20\n",
      "1037/1037 [==============================] - 1s 838us/step - loss: 0.0052 - val_loss: 0.0043\n",
      "Epoch 18/20\n",
      "1037/1037 [==============================] - 1s 876us/step - loss: 0.0052 - val_loss: 0.0064\n",
      "Epoch 19/20\n",
      "1037/1037 [==============================] - 1s 786us/step - loss: 0.0052 - val_loss: 0.0049\n",
      "Epoch 20/20\n",
      "1037/1037 [==============================] - 1s 837us/step - loss: 0.0052 - val_loss: 0.0060\n"
     ]
    }
   ],
   "source": [
    "history = model.fit(x_train_scaled,\n",
    "                    y_train_scaled,\n",
    "                    validation_split=0.1,\n",
    "                    epochs=20)"
   ]
  },
  {
   "cell_type": "code",
   "execution_count": 107,
   "id": "3e7505fe-79da-4729-87f8-8b00e1a725bc",
   "metadata": {},
   "outputs": [
    {
     "data": {
      "text/plain": [
       "[0.005258442834019661,\n",
       " 0.0052226330153644085,\n",
       " 0.005244121421128511,\n",
       " 0.005224570166319609,\n",
       " 0.005185762420296669,\n",
       " 0.0052157798781991005,\n",
       " 0.005296964664012194,\n",
       " 0.005269938614219427,\n",
       " 0.005240429192781448,\n",
       " 0.005232592113316059]"
      ]
     },
     "execution_count": 107,
     "metadata": {},
     "output_type": "execute_result"
    }
   ],
   "source": [
    "history.history[\"loss\"][:10]"
   ]
  },
  {
   "cell_type": "code",
   "execution_count": 108,
   "id": "0a82af87-4185-49a6-a407-c9bbab98dd48",
   "metadata": {},
   "outputs": [
    {
     "data": {
      "image/png": "[encoded data removed]",
      "text/plain": [
       "<Figure size 432x288 with 1 Axes>"
      ]
     },
     "metadata": {
      "needs_background": "light"
     },
     "output_type": "display_data"
    }
   ],
   "source": [
    "import matplotlib.pyplot as plt\n",
    "y1 = history.history[\"loss\"][1:]\n",
    "y2 = history.history[\"val_loss\"][1:]\n",
    "plt.plot(y1, color=\"red\", label=\"loss\")\n",
    "plt.plot(y2, color=\"green\", label=\"val_loss\")\n",
    "plt.xlabel(\"Trainingsepoche\")\n",
    "plt.ylabel(\"Fehler\")\n",
    "plt.title(\"Fehlerkurven\")\n",
    "plt.legend()\n",
    "plt.show()"
   ]
  },
  {
   "cell_type": "code",
   "execution_count": 109,
   "id": "b8395cd2-69ed-4d5f-ad7b-41f2d2935fa8",
   "metadata": {},
   "outputs": [],
   "source": [
    "preds_scaled = model.predict( x_test_scaled )"
   ]
  },
  {
   "cell_type": "code",
   "execution_count": 110,
   "id": "a801cc75-cc36-475f-a68b-8c9ddabe679f",
   "metadata": {},
   "outputs": [
    {
     "data": {
      "text/plain": [
       "array([[0.00348716],\n",
       "       [0.00085869],\n",
       "       [0.01001634],\n",
       "       [0.01517343],\n",
       "       [0.01466107],\n",
       "       [0.00618043],\n",
       "       [0.00633155],\n",
       "       [0.0031203 ],\n",
       "       [0.00254915],\n",
       "       [0.00846209]], dtype=float32)"
      ]
     },
     "execution_count": 110,
     "metadata": {},
     "output_type": "execute_result"
    }
   ],
   "source": [
    "preds_scaled[:10]"
   ]
  },
  {
   "cell_type": "code",
   "execution_count": 111,
   "id": "e236c780-b1ab-4785-9e3b-fcac58535ff7",
   "metadata": {},
   "outputs": [],
   "source": [
    "preds_euro = s_output.inverse_transform( preds_scaled )"
   ]
  },
  {
   "cell_type": "code",
   "execution_count": 112,
   "id": "bab0dc24-bfb3-4927-885a-ee586445270f",
   "metadata": {},
   "outputs": [
    {
     "data": {
      "text/plain": [
       "array([[ 5429.887 ],\n",
       "       [ 2279.265 ],\n",
       "       [13256.083 ],\n",
       "       [19437.629 ],\n",
       "       [18823.488 ],\n",
       "       [ 8658.17  ],\n",
       "       [ 8839.317 ],\n",
       "       [ 4990.1484],\n",
       "       [ 4305.533 ],\n",
       "       [11393.082 ]], dtype=float32)"
      ]
     },
     "execution_count": 112,
     "metadata": {},
     "output_type": "execute_result"
    }
   ],
   "source": [
    "preds_euro[:10]"
   ]
  },
  {
   "cell_type": "code",
   "execution_count": 113,
   "id": "6ad4009f-9424-4ae3-b6f9-4ae0a5e546a5",
   "metadata": {},
   "outputs": [
    {
     "data": {
      "text/plain": [
       "array([10590,  7900, 18450, 26650, 17860, 12110, 15950, 11990, 12900,\n",
       "       12490,  6800, 48900,  3999, 41990,  6350,  6800,  5000,  5950,\n",
       "        4999, 10999])"
      ]
     },
     "execution_count": 113,
     "metadata": {},
     "output_type": "execute_result"
    }
   ],
   "source": [
    "y_test.values[:20]"
   ]
  },
  {
   "cell_type": "code",
   "execution_count": 114,
   "id": "d925ba47-89c5-4b67-bc61-2b791eb6c496",
   "metadata": {},
   "outputs": [
    {
     "data": {
      "text/plain": [
       "14481.161319134097"
      ]
     },
     "execution_count": 114,
     "metadata": {},
     "output_type": "execute_result"
    }
   ],
   "source": [
    "mittlerer_fehler = numpy.mean(abs(preds_euro - y_test.values))\n",
    "mittlerer_fehler"
   ]
  },
  {
   "cell_type": "code",
   "execution_count": null,
   "id": "3ed9c80a-453d-4abf-a572-4225791a3a41",
   "metadata": {},
   "outputs": [],
   "source": []
  }
 ],
 "metadata": {
  "kernelspec": {
   "display_name": "Python 3 (ipykernel)",
   "language": "python",
   "name": "python3"
  },
  "language_info": {
   "codemirror_mode": {
    "name": "ipython",
    "version": 3
   },
   "file_extension": ".py",
   "mimetype": "text/x-python",
   "name": "python",
   "nbconvert_exporter": "python",
   "pygments_lexer": "ipython3",
   "version": "3.8.10"
  }
 },
 "nbformat": 4,
 "nbformat_minor": 5
}
