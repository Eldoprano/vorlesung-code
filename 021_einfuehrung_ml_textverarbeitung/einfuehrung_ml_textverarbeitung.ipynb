{
 "cells": [
  {
   "cell_type": "markdown",
   "id": "7cd8f063-f230-4460-9cf4-06338ae8d230",
   "metadata": {},
   "source": [
    "# Daten einlesen"
   ]
  },
  {
   "cell_type": "markdown",
   "id": "4ed130db-fb24-456e-a772-de7547603025",
   "metadata": {},
   "source": [
    "Datensatz mit 23.486 Kundenbewertungen in textueller und numerischer Form\n",
    "\n",
    "https://www.kaggle.com/datasets/nicapotato/womens-ecommerce-clothing-reviews"
   ]
  },
  {
   "cell_type": "code",
   "execution_count": 1,
   "id": "982ca5cb-74bc-4614-9a44-acd2d382945d",
   "metadata": {},
   "outputs": [],
   "source": [
    "import pandas\n",
    "t = pandas.read_csv(\"produktbewertungen.csv\")"
   ]
  },
  {
   "cell_type": "code",
   "execution_count": 2,
   "id": "c83a27d0-5a73-462d-b33b-586c861f41d8",
   "metadata": {},
   "outputs": [
    {
     "data": {
      "text/html": [
       "<div>\n",
       "<style scoped>\n",
       "    .dataframe tbody tr th:only-of-type {\n",
       "        vertical-align: middle;\n",
       "    }\n",
       "\n",
       "    .dataframe tbody tr th {\n",
       "        vertical-align: top;\n",
       "    }\n",
       "\n",
       "    .dataframe thead th {\n",
       "        text-align: right;\n",
       "    }\n",
       "</style>\n",
       "<table border=\"1\" class=\"dataframe\">\n",
       "  <thead>\n",
       "    <tr style=\"text-align: right;\">\n",
       "      <th></th>\n",
       "      <th>Unnamed: 0</th>\n",
       "      <th>Clothing ID</th>\n",
       "      <th>Age</th>\n",
       "      <th>Title</th>\n",
       "      <th>Review Text</th>\n",
       "      <th>Rating</th>\n",
       "      <th>Recommended IND</th>\n",
       "      <th>Positive Feedback Count</th>\n",
       "      <th>Division Name</th>\n",
       "      <th>Department Name</th>\n",
       "      <th>Class Name</th>\n",
       "    </tr>\n",
       "  </thead>\n",
       "  <tbody>\n",
       "    <tr>\n",
       "      <th>0</th>\n",
       "      <td>0</td>\n",
       "      <td>767</td>\n",
       "      <td>33</td>\n",
       "      <td>NaN</td>\n",
       "      <td>Absolutely wonderful - silky and sexy and comf...</td>\n",
       "      <td>4</td>\n",
       "      <td>1</td>\n",
       "      <td>0</td>\n",
       "      <td>Initmates</td>\n",
       "      <td>Intimate</td>\n",
       "      <td>Intimates</td>\n",
       "    </tr>\n",
       "    <tr>\n",
       "      <th>1</th>\n",
       "      <td>1</td>\n",
       "      <td>1080</td>\n",
       "      <td>34</td>\n",
       "      <td>NaN</td>\n",
       "      <td>Love this dress!  it's sooo pretty.  i happene...</td>\n",
       "      <td>5</td>\n",
       "      <td>1</td>\n",
       "      <td>4</td>\n",
       "      <td>General</td>\n",
       "      <td>Dresses</td>\n",
       "      <td>Dresses</td>\n",
       "    </tr>\n",
       "    <tr>\n",
       "      <th>2</th>\n",
       "      <td>2</td>\n",
       "      <td>1077</td>\n",
       "      <td>60</td>\n",
       "      <td>Some major design flaws</td>\n",
       "      <td>I had such high hopes for this dress and reall...</td>\n",
       "      <td>3</td>\n",
       "      <td>0</td>\n",
       "      <td>0</td>\n",
       "      <td>General</td>\n",
       "      <td>Dresses</td>\n",
       "      <td>Dresses</td>\n",
       "    </tr>\n",
       "    <tr>\n",
       "      <th>3</th>\n",
       "      <td>3</td>\n",
       "      <td>1049</td>\n",
       "      <td>50</td>\n",
       "      <td>My favorite buy!</td>\n",
       "      <td>I love, love, love this jumpsuit. it's fun, fl...</td>\n",
       "      <td>5</td>\n",
       "      <td>1</td>\n",
       "      <td>0</td>\n",
       "      <td>General Petite</td>\n",
       "      <td>Bottoms</td>\n",
       "      <td>Pants</td>\n",
       "    </tr>\n",
       "    <tr>\n",
       "      <th>4</th>\n",
       "      <td>4</td>\n",
       "      <td>847</td>\n",
       "      <td>47</td>\n",
       "      <td>Flattering shirt</td>\n",
       "      <td>This shirt is very flattering to all due to th...</td>\n",
       "      <td>5</td>\n",
       "      <td>1</td>\n",
       "      <td>6</td>\n",
       "      <td>General</td>\n",
       "      <td>Tops</td>\n",
       "      <td>Blouses</td>\n",
       "    </tr>\n",
       "    <tr>\n",
       "      <th>...</th>\n",
       "      <td>...</td>\n",
       "      <td>...</td>\n",
       "      <td>...</td>\n",
       "      <td>...</td>\n",
       "      <td>...</td>\n",
       "      <td>...</td>\n",
       "      <td>...</td>\n",
       "      <td>...</td>\n",
       "      <td>...</td>\n",
       "      <td>...</td>\n",
       "      <td>...</td>\n",
       "    </tr>\n",
       "    <tr>\n",
       "      <th>23481</th>\n",
       "      <td>23481</td>\n",
       "      <td>1104</td>\n",
       "      <td>34</td>\n",
       "      <td>Great dress for many occasions</td>\n",
       "      <td>I was very happy to snag this dress at such a ...</td>\n",
       "      <td>5</td>\n",
       "      <td>1</td>\n",
       "      <td>0</td>\n",
       "      <td>General Petite</td>\n",
       "      <td>Dresses</td>\n",
       "      <td>Dresses</td>\n",
       "    </tr>\n",
       "    <tr>\n",
       "      <th>23482</th>\n",
       "      <td>23482</td>\n",
       "      <td>862</td>\n",
       "      <td>48</td>\n",
       "      <td>Wish it was made of cotton</td>\n",
       "      <td>It reminds me of maternity clothes. soft, stre...</td>\n",
       "      <td>3</td>\n",
       "      <td>1</td>\n",
       "      <td>0</td>\n",
       "      <td>General Petite</td>\n",
       "      <td>Tops</td>\n",
       "      <td>Knits</td>\n",
       "    </tr>\n",
       "    <tr>\n",
       "      <th>23483</th>\n",
       "      <td>23483</td>\n",
       "      <td>1104</td>\n",
       "      <td>31</td>\n",
       "      <td>Cute, but see through</td>\n",
       "      <td>This fit well, but the top was very see throug...</td>\n",
       "      <td>3</td>\n",
       "      <td>0</td>\n",
       "      <td>1</td>\n",
       "      <td>General Petite</td>\n",
       "      <td>Dresses</td>\n",
       "      <td>Dresses</td>\n",
       "    </tr>\n",
       "    <tr>\n",
       "      <th>23484</th>\n",
       "      <td>23484</td>\n",
       "      <td>1084</td>\n",
       "      <td>28</td>\n",
       "      <td>Very cute dress, perfect for summer parties an...</td>\n",
       "      <td>I bought this dress for a wedding i have this ...</td>\n",
       "      <td>3</td>\n",
       "      <td>1</td>\n",
       "      <td>2</td>\n",
       "      <td>General</td>\n",
       "      <td>Dresses</td>\n",
       "      <td>Dresses</td>\n",
       "    </tr>\n",
       "    <tr>\n",
       "      <th>23485</th>\n",
       "      <td>23485</td>\n",
       "      <td>1104</td>\n",
       "      <td>52</td>\n",
       "      <td>Please make more like this one!</td>\n",
       "      <td>This dress in a lovely platinum is feminine an...</td>\n",
       "      <td>5</td>\n",
       "      <td>1</td>\n",
       "      <td>22</td>\n",
       "      <td>General Petite</td>\n",
       "      <td>Dresses</td>\n",
       "      <td>Dresses</td>\n",
       "    </tr>\n",
       "  </tbody>\n",
       "</table>\n",
       "<p>23486 rows × 11 columns</p>\n",
       "</div>"
      ],
      "text/plain": [
       "       Unnamed: 0  Clothing ID  Age  \\\n",
       "0               0          767   33   \n",
       "1               1         1080   34   \n",
       "2               2         1077   60   \n",
       "3               3         1049   50   \n",
       "4               4          847   47   \n",
       "...           ...          ...  ...   \n",
       "23481       23481         1104   34   \n",
       "23482       23482          862   48   \n",
       "23483       23483         1104   31   \n",
       "23484       23484         1084   28   \n",
       "23485       23485         1104   52   \n",
       "\n",
       "                                                   Title  \\\n",
       "0                                                    NaN   \n",
       "1                                                    NaN   \n",
       "2                                Some major design flaws   \n",
       "3                                       My favorite buy!   \n",
       "4                                       Flattering shirt   \n",
       "...                                                  ...   \n",
       "23481                     Great dress for many occasions   \n",
       "23482                         Wish it was made of cotton   \n",
       "23483                              Cute, but see through   \n",
       "23484  Very cute dress, perfect for summer parties an...   \n",
       "23485                    Please make more like this one!   \n",
       "\n",
       "                                             Review Text  Rating  \\\n",
       "0      Absolutely wonderful - silky and sexy and comf...       4   \n",
       "1      Love this dress!  it's sooo pretty.  i happene...       5   \n",
       "2      I had such high hopes for this dress and reall...       3   \n",
       "3      I love, love, love this jumpsuit. it's fun, fl...       5   \n",
       "4      This shirt is very flattering to all due to th...       5   \n",
       "...                                                  ...     ...   \n",
       "23481  I was very happy to snag this dress at such a ...       5   \n",
       "23482  It reminds me of maternity clothes. soft, stre...       3   \n",
       "23483  This fit well, but the top was very see throug...       3   \n",
       "23484  I bought this dress for a wedding i have this ...       3   \n",
       "23485  This dress in a lovely platinum is feminine an...       5   \n",
       "\n",
       "       Recommended IND  Positive Feedback Count   Division Name  \\\n",
       "0                    1                        0       Initmates   \n",
       "1                    1                        4         General   \n",
       "2                    0                        0         General   \n",
       "3                    1                        0  General Petite   \n",
       "4                    1                        6         General   \n",
       "...                ...                      ...             ...   \n",
       "23481                1                        0  General Petite   \n",
       "23482                1                        0  General Petite   \n",
       "23483                0                        1  General Petite   \n",
       "23484                1                        2         General   \n",
       "23485                1                       22  General Petite   \n",
       "\n",
       "      Department Name Class Name  \n",
       "0            Intimate  Intimates  \n",
       "1             Dresses    Dresses  \n",
       "2             Dresses    Dresses  \n",
       "3             Bottoms      Pants  \n",
       "4                Tops    Blouses  \n",
       "...               ...        ...  \n",
       "23481         Dresses    Dresses  \n",
       "23482            Tops      Knits  \n",
       "23483         Dresses    Dresses  \n",
       "23484         Dresses    Dresses  \n",
       "23485         Dresses    Dresses  \n",
       "\n",
       "[23486 rows x 11 columns]"
      ]
     },
     "execution_count": 2,
     "metadata": {},
     "output_type": "execute_result"
    }
   ],
   "source": [
    "t"
   ]
  },
  {
   "cell_type": "code",
   "execution_count": 3,
   "id": "622b6163-9cf7-4264-bbf3-a48ffaea6de8",
   "metadata": {},
   "outputs": [
    {
     "data": {
      "text/plain": [
       "Unnamed: 0                                                                 0\n",
       "Clothing ID                                                              767\n",
       "Age                                                                       33\n",
       "Title                                                                    NaN\n",
       "Review Text                Absolutely wonderful - silky and sexy and comf...\n",
       "Rating                                                                     4\n",
       "Recommended IND                                                            1\n",
       "Positive Feedback Count                                                    0\n",
       "Division Name                                                      Initmates\n",
       "Department Name                                                     Intimate\n",
       "Class Name                                                         Intimates\n",
       "Name: 0, dtype: object"
      ]
     },
     "execution_count": 3,
     "metadata": {},
     "output_type": "execute_result"
    }
   ],
   "source": [
    "t.iloc[0]"
   ]
  },
  {
   "cell_type": "code",
   "execution_count": 4,
   "id": "7b4a7987-2360-4448-a615-8779cf89b314",
   "metadata": {},
   "outputs": [
    {
     "data": {
      "text/plain": [
       "Unnamed: 0                                                                 1\n",
       "Clothing ID                                                             1080\n",
       "Age                                                                       34\n",
       "Title                                                                    NaN\n",
       "Review Text                Love this dress!  it's sooo pretty.  i happene...\n",
       "Rating                                                                     5\n",
       "Recommended IND                                                            1\n",
       "Positive Feedback Count                                                    4\n",
       "Division Name                                                        General\n",
       "Department Name                                                      Dresses\n",
       "Class Name                                                           Dresses\n",
       "Name: 1, dtype: object"
      ]
     },
     "execution_count": 4,
     "metadata": {},
     "output_type": "execute_result"
    }
   ],
   "source": [
    "t.iloc[1]"
   ]
  },
  {
   "cell_type": "code",
   "execution_count": 5,
   "id": "15843c89-1070-4886-9ce0-a26ede404d20",
   "metadata": {},
   "outputs": [
    {
     "data": {
      "text/plain": [
       "Unnamed: 0                                                                 2\n",
       "Clothing ID                                                             1077\n",
       "Age                                                                       60\n",
       "Title                                                Some major design flaws\n",
       "Review Text                I had such high hopes for this dress and reall...\n",
       "Rating                                                                     3\n",
       "Recommended IND                                                            0\n",
       "Positive Feedback Count                                                    0\n",
       "Division Name                                                        General\n",
       "Department Name                                                      Dresses\n",
       "Class Name                                                           Dresses\n",
       "Name: 2, dtype: object"
      ]
     },
     "execution_count": 5,
     "metadata": {},
     "output_type": "execute_result"
    }
   ],
   "source": [
    "t.iloc[2]"
   ]
  },
  {
   "cell_type": "markdown",
   "id": "fb72012d-9476-4b83-874d-c248f6c4348e",
   "metadata": {},
   "source": [
    "# Datensatzqualität überprüfen"
   ]
  },
  {
   "cell_type": "markdown",
   "id": "c66421ab-18a5-4c2d-ade5-e5b818fe765d",
   "metadata": {},
   "source": [
    "## Rating-Spalte"
   ]
  },
  {
   "cell_type": "code",
   "execution_count": 6,
   "id": "8d028a4d-f4b1-4636-bbf5-89f8a994c600",
   "metadata": {},
   "outputs": [
    {
     "data": {
      "text/html": [
       "<div>\n",
       "<style scoped>\n",
       "    .dataframe tbody tr th:only-of-type {\n",
       "        vertical-align: middle;\n",
       "    }\n",
       "\n",
       "    .dataframe tbody tr th {\n",
       "        vertical-align: top;\n",
       "    }\n",
       "\n",
       "    .dataframe thead th {\n",
       "        text-align: right;\n",
       "    }\n",
       "</style>\n",
       "<table border=\"1\" class=\"dataframe\">\n",
       "  <thead>\n",
       "    <tr style=\"text-align: right;\">\n",
       "      <th></th>\n",
       "      <th>Unnamed: 0</th>\n",
       "      <th>Clothing ID</th>\n",
       "      <th>Age</th>\n",
       "      <th>Rating</th>\n",
       "      <th>Recommended IND</th>\n",
       "      <th>Positive Feedback Count</th>\n",
       "    </tr>\n",
       "  </thead>\n",
       "  <tbody>\n",
       "    <tr>\n",
       "      <th>count</th>\n",
       "      <td>23486.000000</td>\n",
       "      <td>23486.000000</td>\n",
       "      <td>23486.000000</td>\n",
       "      <td>23486.000000</td>\n",
       "      <td>23486.000000</td>\n",
       "      <td>23486.000000</td>\n",
       "    </tr>\n",
       "    <tr>\n",
       "      <th>mean</th>\n",
       "      <td>11742.500000</td>\n",
       "      <td>918.118709</td>\n",
       "      <td>43.198544</td>\n",
       "      <td>4.196032</td>\n",
       "      <td>0.822362</td>\n",
       "      <td>2.535936</td>\n",
       "    </tr>\n",
       "    <tr>\n",
       "      <th>std</th>\n",
       "      <td>6779.968547</td>\n",
       "      <td>203.298980</td>\n",
       "      <td>12.279544</td>\n",
       "      <td>1.110031</td>\n",
       "      <td>0.382216</td>\n",
       "      <td>5.702202</td>\n",
       "    </tr>\n",
       "    <tr>\n",
       "      <th>min</th>\n",
       "      <td>0.000000</td>\n",
       "      <td>0.000000</td>\n",
       "      <td>18.000000</td>\n",
       "      <td>1.000000</td>\n",
       "      <td>0.000000</td>\n",
       "      <td>0.000000</td>\n",
       "    </tr>\n",
       "    <tr>\n",
       "      <th>25%</th>\n",
       "      <td>5871.250000</td>\n",
       "      <td>861.000000</td>\n",
       "      <td>34.000000</td>\n",
       "      <td>4.000000</td>\n",
       "      <td>1.000000</td>\n",
       "      <td>0.000000</td>\n",
       "    </tr>\n",
       "    <tr>\n",
       "      <th>50%</th>\n",
       "      <td>11742.500000</td>\n",
       "      <td>936.000000</td>\n",
       "      <td>41.000000</td>\n",
       "      <td>5.000000</td>\n",
       "      <td>1.000000</td>\n",
       "      <td>1.000000</td>\n",
       "    </tr>\n",
       "    <tr>\n",
       "      <th>75%</th>\n",
       "      <td>17613.750000</td>\n",
       "      <td>1078.000000</td>\n",
       "      <td>52.000000</td>\n",
       "      <td>5.000000</td>\n",
       "      <td>1.000000</td>\n",
       "      <td>3.000000</td>\n",
       "    </tr>\n",
       "    <tr>\n",
       "      <th>max</th>\n",
       "      <td>23485.000000</td>\n",
       "      <td>1205.000000</td>\n",
       "      <td>99.000000</td>\n",
       "      <td>5.000000</td>\n",
       "      <td>1.000000</td>\n",
       "      <td>122.000000</td>\n",
       "    </tr>\n",
       "  </tbody>\n",
       "</table>\n",
       "</div>"
      ],
      "text/plain": [
       "         Unnamed: 0   Clothing ID           Age        Rating  \\\n",
       "count  23486.000000  23486.000000  23486.000000  23486.000000   \n",
       "mean   11742.500000    918.118709     43.198544      4.196032   \n",
       "std     6779.968547    203.298980     12.279544      1.110031   \n",
       "min        0.000000      0.000000     18.000000      1.000000   \n",
       "25%     5871.250000    861.000000     34.000000      4.000000   \n",
       "50%    11742.500000    936.000000     41.000000      5.000000   \n",
       "75%    17613.750000   1078.000000     52.000000      5.000000   \n",
       "max    23485.000000   1205.000000     99.000000      5.000000   \n",
       "\n",
       "       Recommended IND  Positive Feedback Count  \n",
       "count     23486.000000             23486.000000  \n",
       "mean          0.822362                 2.535936  \n",
       "std           0.382216                 5.702202  \n",
       "min           0.000000                 0.000000  \n",
       "25%           1.000000                 0.000000  \n",
       "50%           1.000000                 1.000000  \n",
       "75%           1.000000                 3.000000  \n",
       "max           1.000000               122.000000  "
      ]
     },
     "execution_count": 6,
     "metadata": {},
     "output_type": "execute_result"
    }
   ],
   "source": [
    "t.describe()"
   ]
  },
  {
   "cell_type": "markdown",
   "id": "343de000-1497-453b-9160-f3d6beffbfec",
   "metadata": {},
   "source": [
    "## Review-Spalte"
   ]
  },
  {
   "cell_type": "code",
   "execution_count": 7,
   "id": "1a1b4924-d9d8-43f3-ab4d-51b34554dc99",
   "metadata": {},
   "outputs": [
    {
     "data": {
      "text/plain": [
       "845"
      ]
     },
     "execution_count": 7,
     "metadata": {},
     "output_type": "execute_result"
    }
   ],
   "source": [
    "sum( t[\"Review Text\"].isna() )"
   ]
  },
  {
   "cell_type": "code",
   "execution_count": 8,
   "id": "e4ac6a1c-99c6-4051-8a5d-69c1dc390de0",
   "metadata": {},
   "outputs": [],
   "source": [
    "t = t.dropna()"
   ]
  },
  {
   "cell_type": "markdown",
   "id": "a26b1835-7f40-42ce-a46f-a2dc4023cb21",
   "metadata": {},
   "source": [
    "# Textvorverarbeitung"
   ]
  },
  {
   "cell_type": "code",
   "execution_count": 123,
   "id": "1e89ce8c-cb35-4c82-9f29-336a8049c283",
   "metadata": {},
   "outputs": [],
   "source": [
    "import re\n",
    "\n",
    "def text_standardisierung(txt):\n",
    "    txt = txt.lower()\n",
    "    txt = txt.split()\n",
    "    \n",
    "    new_txt = \"\"\n",
    "    for word in txt:\n",
    "        full_pattern = re.compile(\"[^a-zA-Z0-9]\")\n",
    "        word = re.sub(full_pattern, '', word)\n",
    "        new_txt += word + \" \"\n",
    "        \n",
    "    return new_txt"
   ]
  },
  {
   "cell_type": "code",
   "execution_count": 124,
   "id": "3529d2b3-ec2f-4942-a75d-97daf7b93070",
   "metadata": {},
   "outputs": [
    {
     "data": {
      "text/plain": [
       "'hi i think this movie was great '"
      ]
     },
     "execution_count": 124,
     "metadata": {},
     "output_type": "execute_result"
    }
   ],
   "source": [
    "text_standardisierung(\"Hi! I think this movie   was  great!\")"
   ]
  },
  {
   "cell_type": "code",
   "execution_count": 125,
   "id": "bb1e3d66-33d8-49e0-886f-91dd3299f604",
   "metadata": {},
   "outputs": [],
   "source": [
    "texte = []\n",
    "bewertungen = []\n",
    "i = 0\n",
    "for idx, row in t.iterrows():        \n",
    "    texte.append( text_standardisierung( row[\"Review Text\"] ) )\n",
    "    bewertungen.append( row[\"Rating\"] )"
   ]
  },
  {
   "cell_type": "code",
   "execution_count": 126,
   "id": "0d89b4a0-bdef-46c7-97f3-9568464666ae",
   "metadata": {},
   "outputs": [
    {
     "data": {
      "text/plain": [
       "['i had such high hopes for this dress and really wanted it to work for me i initially ordered the petite small my usual size but i found this to be outrageously small so small in fact that i could not zip it up i reordered it in petite medium which was just ok overall the top half was comfortable and fit nicely but the bottom half had a very tight under layer and several somewhat cheap net over layers imo a major design flaw was the net over layer sewn directly into the zipper  it c ',\n",
       " 'i love love love this jumpsuit its fun flirty and fabulous every time i wear it i get nothing but great compliments ',\n",
       " 'this shirt is very flattering to all due to the adjustable front tie it is the perfect length to wear with leggings and it is sleeveless so it pairs well with any cardigan love this shirt ']"
      ]
     },
     "execution_count": 126,
     "metadata": {},
     "output_type": "execute_result"
    }
   ],
   "source": [
    "texte[:3]"
   ]
  },
  {
   "cell_type": "code",
   "execution_count": 127,
   "id": "77724cd1-6520-43b2-ad6d-da264cfbc7d5",
   "metadata": {},
   "outputs": [
    {
     "data": {
      "text/plain": [
       "[3, 5, 5]"
      ]
     },
     "execution_count": 127,
     "metadata": {},
     "output_type": "execute_result"
    }
   ],
   "source": [
    "bewertungen[:3]"
   ]
  },
  {
   "cell_type": "code",
   "execution_count": 151,
   "id": "cbd04074-0cd8-4e25-95d1-be7eace52368",
   "metadata": {},
   "outputs": [],
   "source": [
    "ein_grosser_text = \"\"\n",
    "for txt in texte:\n",
    "    ein_grosser_text += txt"
   ]
  },
  {
   "cell_type": "code",
   "execution_count": 152,
   "id": "ecf17eb6-65e9-48f4-beef-473a0a68d765",
   "metadata": {},
   "outputs": [
    {
     "data": {
      "text/plain": [
       "'i had such high hopes for this dress and really wanted it to work for me i initially ordered the petite small my usual size but i found this to be outrageously small so small in fact that i could not zip it up i reordered it in petite medium which was just ok overall the top half was comfortable and fit nicely but the bottom half had a very tight under layer and several somewhat cheap net over layers imo a major design flaw was the net over layer sewn directly into the zipper  it c i love love love this jumpsuit its fun flirty and fabulous every time i wear it i get nothing but great compliments this shirt is very flattering to all due to the adjustable front tie it is the perfect length to wear with leggings and it is sleeveless so it pairs well with any cardigan love this shirt i love tracy reese dresses but this one is not for the very petite i am just under 5 feet tall and usually wear a 0p in this brand this dress was very pretty out of the package but its a lot of dress the skirt'"
      ]
     },
     "execution_count": 152,
     "metadata": {},
     "output_type": "execute_result"
    }
   ],
   "source": [
    "ein_grosser_text[:1000]"
   ]
  },
  {
   "cell_type": "code",
   "execution_count": 153,
   "id": "f81e7b1a-08b0-47f6-a09b-db767f43eecb",
   "metadata": {},
   "outputs": [
    {
     "data": {
      "text/plain": [
       "6068059"
      ]
     },
     "execution_count": 153,
     "metadata": {},
     "output_type": "execute_result"
    }
   ],
   "source": [
    "len(ein_grosser_text)"
   ]
  },
  {
   "cell_type": "code",
   "execution_count": 154,
   "id": "a60e20a7-8100-412e-98c3-08bb5a1339d2",
   "metadata": {},
   "outputs": [],
   "source": [
    "d = {\"Text\": texte, \"Bewertung\" : bewertungen}\n",
    "t2 = pandas.DataFrame( d )"
   ]
  },
  {
   "cell_type": "code",
   "execution_count": 155,
   "id": "6bb558ef-34cd-499f-9f9e-0943a68a0cf8",
   "metadata": {},
   "outputs": [
    {
     "data": {
      "text/html": [
       "<div>\n",
       "<style scoped>\n",
       "    .dataframe tbody tr th:only-of-type {\n",
       "        vertical-align: middle;\n",
       "    }\n",
       "\n",
       "    .dataframe tbody tr th {\n",
       "        vertical-align: top;\n",
       "    }\n",
       "\n",
       "    .dataframe thead th {\n",
       "        text-align: right;\n",
       "    }\n",
       "</style>\n",
       "<table border=\"1\" class=\"dataframe\">\n",
       "  <thead>\n",
       "    <tr style=\"text-align: right;\">\n",
       "      <th></th>\n",
       "      <th>Text</th>\n",
       "      <th>Bewertung</th>\n",
       "    </tr>\n",
       "  </thead>\n",
       "  <tbody>\n",
       "    <tr>\n",
       "      <th>0</th>\n",
       "      <td>i had such high hopes for this dress and reall...</td>\n",
       "      <td>3</td>\n",
       "    </tr>\n",
       "    <tr>\n",
       "      <th>1</th>\n",
       "      <td>i love love love this jumpsuit its fun flirty ...</td>\n",
       "      <td>5</td>\n",
       "    </tr>\n",
       "    <tr>\n",
       "      <th>2</th>\n",
       "      <td>this shirt is very flattering to all due to th...</td>\n",
       "      <td>5</td>\n",
       "    </tr>\n",
       "    <tr>\n",
       "      <th>3</th>\n",
       "      <td>i love tracy reese dresses but this one is not...</td>\n",
       "      <td>2</td>\n",
       "    </tr>\n",
       "    <tr>\n",
       "      <th>4</th>\n",
       "      <td>i aded this in my basket at hte last mintue to...</td>\n",
       "      <td>5</td>\n",
       "    </tr>\n",
       "    <tr>\n",
       "      <th>...</th>\n",
       "      <td>...</td>\n",
       "      <td>...</td>\n",
       "    </tr>\n",
       "    <tr>\n",
       "      <th>19657</th>\n",
       "      <td>i was very happy to snag this dress at such a ...</td>\n",
       "      <td>5</td>\n",
       "    </tr>\n",
       "    <tr>\n",
       "      <th>19658</th>\n",
       "      <td>it reminds me of maternity clothes soft stretc...</td>\n",
       "      <td>3</td>\n",
       "    </tr>\n",
       "    <tr>\n",
       "      <th>19659</th>\n",
       "      <td>this fit well but the top was very see through...</td>\n",
       "      <td>3</td>\n",
       "    </tr>\n",
       "    <tr>\n",
       "      <th>19660</th>\n",
       "      <td>i bought this dress for a wedding i have this ...</td>\n",
       "      <td>3</td>\n",
       "    </tr>\n",
       "    <tr>\n",
       "      <th>19661</th>\n",
       "      <td>this dress in a lovely platinum is feminine an...</td>\n",
       "      <td>5</td>\n",
       "    </tr>\n",
       "  </tbody>\n",
       "</table>\n",
       "<p>19662 rows × 2 columns</p>\n",
       "</div>"
      ],
      "text/plain": [
       "                                                    Text  Bewertung\n",
       "0      i had such high hopes for this dress and reall...          3\n",
       "1      i love love love this jumpsuit its fun flirty ...          5\n",
       "2      this shirt is very flattering to all due to th...          5\n",
       "3      i love tracy reese dresses but this one is not...          2\n",
       "4      i aded this in my basket at hte last mintue to...          5\n",
       "...                                                  ...        ...\n",
       "19657  i was very happy to snag this dress at such a ...          5\n",
       "19658  it reminds me of maternity clothes soft stretc...          3\n",
       "19659  this fit well but the top was very see through...          3\n",
       "19660  i bought this dress for a wedding i have this ...          3\n",
       "19661  this dress in a lovely platinum is feminine an...          5\n",
       "\n",
       "[19662 rows x 2 columns]"
      ]
     },
     "execution_count": 155,
     "metadata": {},
     "output_type": "execute_result"
    }
   ],
   "source": [
    "t2"
   ]
  },
  {
   "cell_type": "markdown",
   "id": "83dddc35-859b-48ae-b195-b0c2335c1c8d",
   "metadata": {},
   "source": [
    "# Textvektorisierung"
   ]
  },
  {
   "cell_type": "code",
   "execution_count": 156,
   "id": "7b97ce28-2a3f-4d3f-9422-806359228f7c",
   "metadata": {},
   "outputs": [],
   "source": [
    "import tensorflow as tf"
   ]
  },
  {
   "cell_type": "code",
   "execution_count": 157,
   "id": "5be9c22e-1de1-4d46-b8bf-e7125686d4cc",
   "metadata": {},
   "outputs": [],
   "source": [
    "vocab_size = 5000  # Maximum vocab size.\n",
    "max_len = 10"
   ]
  },
  {
   "cell_type": "code",
   "execution_count": 158,
   "id": "6c66c6da-43c8-4d04-9974-c770351e969f",
   "metadata": {},
   "outputs": [],
   "source": [
    "vectorize_layer = tf.keras.layers.TextVectorization(\n",
    " max_tokens=vocab_size,\n",
    " output_mode='int',\n",
    " output_sequence_length=max_len)"
   ]
  },
  {
   "cell_type": "code",
   "execution_count": 162,
   "id": "c1201f9f-6496-40ba-b563-ea973ef14daf",
   "metadata": {},
   "outputs": [
    {
     "data": {
      "text/plain": [
       "['i', 'had', 'such', 'high', 'hopes', 'for', 'this', 'dress', 'and', 'really']"
      ]
     },
     "execution_count": 162,
     "metadata": {},
     "output_type": "execute_result"
    }
   ],
   "source": [
    "liste_ein_grosser_text = ein_grosser_text[:1000000].split()\n",
    "liste_ein_grosser_text[:10]"
   ]
  },
  {
   "cell_type": "code",
   "execution_count": 163,
   "id": "7aadcf87-0f70-404b-81b7-78da8556c943",
   "metadata": {},
   "outputs": [],
   "source": [
    "vectorize_layer.adapt( liste_ein_grosser_text )"
   ]
  },
  {
   "cell_type": "code",
   "execution_count": 164,
   "id": "ba91e942-e324-41af-8203-64e2fca8892f",
   "metadata": {},
   "outputs": [],
   "source": [
    "model = tf.keras.models.Sequential()\n",
    "model.add(tf.keras.Input(shape=(1,), dtype=tf.string))\n",
    "model.add(vectorize_layer)"
   ]
  },
  {
   "cell_type": "code",
   "execution_count": 165,
   "id": "d256f554-a46e-47d5-bf55-d7558959297e",
   "metadata": {},
   "outputs": [],
   "source": [
    "input_data = [[\"i like this dress\"], [\"i really hate this rope!\"]]"
   ]
  },
  {
   "cell_type": "code",
   "execution_count": 166,
   "id": "afa607ca-31db-4127-b405-f9bf76d0f6d9",
   "metadata": {},
   "outputs": [
    {
     "data": {
      "text/plain": [
       "array([[   3,   30,    8,   21,    0,    0,    0,    0,    0,    0],\n",
       "       [   3,   49, 1115,    8,    1,    0,    0,    0,    0,    0]])"
      ]
     },
     "execution_count": 166,
     "metadata": {},
     "output_type": "execute_result"
    }
   ],
   "source": [
    "model.predict(input_data)"
   ]
  },
  {
   "cell_type": "markdown",
   "id": "7189c429-83b4-4260-9e4f-73a59b3e3edc",
   "metadata": {},
   "source": [
    "# Word-Embedding"
   ]
  },
  {
   "cell_type": "code",
   "execution_count": 167,
   "id": "a04da543-8db3-471a-81e5-1dcbeb033b8f",
   "metadata": {},
   "outputs": [],
   "source": [
    "from tensorflow.keras import Sequential\n",
    "from tensorflow.keras.layers import Dense, Embedding, GlobalAveragePooling1D"
   ]
  },
  {
   "cell_type": "code",
   "execution_count": 168,
   "id": "89e467d3-6046-4db3-b04b-fd8ce3b921a5",
   "metadata": {},
   "outputs": [],
   "source": [
    "embedding_dim=16\n",
    "\n",
    "model = Sequential([\n",
    "  vectorize_layer,\n",
    "  Embedding(vocab_size, embedding_dim, name=\"embedding\"),\n",
    "  GlobalAveragePooling1D(),\n",
    "  Dense(16, activation='relu'),\n",
    "  Dense(1)\n",
    "])"
   ]
  },
  {
   "cell_type": "code",
   "execution_count": 169,
   "id": "d46eb551-3794-4bc4-bd54-d292526bcd59",
   "metadata": {},
   "outputs": [],
   "source": [
    "model.compile(optimizer='adam',\n",
    "              loss=tf.keras.losses.MeanSquaredError(),\n",
    "              metrics=['accuracy'])"
   ]
  },
  {
   "cell_type": "markdown",
   "id": "c5414456-8611-4325-a788-c79711aeb505",
   "metadata": {},
   "source": [
    "# Modell trainieren"
   ]
  },
  {
   "cell_type": "code",
   "execution_count": 173,
   "id": "5f7ae4d6-8b49-467c-8f9f-2d091b30e831",
   "metadata": {},
   "outputs": [
    {
     "data": {
      "text/plain": [
       "0        i had such high hopes for this dress and reall...\n",
       "1        i love love love this jumpsuit its fun flirty ...\n",
       "2        this shirt is very flattering to all due to th...\n",
       "3        i love tracy reese dresses but this one is not...\n",
       "4        i aded this in my basket at hte last mintue to...\n",
       "                               ...                        \n",
       "19657    i was very happy to snag this dress at such a ...\n",
       "19658    it reminds me of maternity clothes soft stretc...\n",
       "19659    this fit well but the top was very see through...\n",
       "19660    i bought this dress for a wedding i have this ...\n",
       "19661    this dress in a lovely platinum is feminine an...\n",
       "Name: Text, Length: 19662, dtype: object"
      ]
     },
     "execution_count": 173,
     "metadata": {},
     "output_type": "execute_result"
    }
   ],
   "source": [
    "x = t2[\"Text\"]\n",
    "x"
   ]
  },
  {
   "cell_type": "code",
   "execution_count": 174,
   "id": "db26768a-1db0-4cc5-bff9-e2903fdd476a",
   "metadata": {},
   "outputs": [
    {
     "data": {
      "text/plain": [
       "0        3\n",
       "1        5\n",
       "2        5\n",
       "3        2\n",
       "4        5\n",
       "        ..\n",
       "19657    5\n",
       "19658    3\n",
       "19659    3\n",
       "19660    3\n",
       "19661    5\n",
       "Name: Bewertung, Length: 19662, dtype: int64"
      ]
     },
     "execution_count": 174,
     "metadata": {},
     "output_type": "execute_result"
    }
   ],
   "source": [
    "y = t2[\"Bewertung\"]\n",
    "y"
   ]
  },
  {
   "cell_type": "code",
   "execution_count": 182,
   "id": "99a31b58-fe0d-4403-a51d-4e34263f4e0d",
   "metadata": {},
   "outputs": [
    {
     "name": "stdout",
     "output_type": "stream",
     "text": [
      "Epoch 1/15\n",
      "615/615 [==============================] - 1s 2ms/step - loss: 0.7522 - accuracy: 0.0350\n",
      "Epoch 2/15\n",
      "615/615 [==============================] - 1s 2ms/step - loss: 0.7451 - accuracy: 0.0350\n",
      "Epoch 3/15\n",
      "615/615 [==============================] - 1s 2ms/step - loss: 0.7370 - accuracy: 0.0350\n",
      "Epoch 4/15\n",
      "615/615 [==============================] - 1s 2ms/step - loss: 0.7309 - accuracy: 0.0350\n",
      "Epoch 5/15\n",
      "615/615 [==============================] - 1s 2ms/step - loss: 0.7263 - accuracy: 0.0349\n",
      "Epoch 6/15\n",
      "615/615 [==============================] - 1s 2ms/step - loss: 0.7212 - accuracy: 0.0350\n",
      "Epoch 7/15\n",
      "615/615 [==============================] - 1s 2ms/step - loss: 0.7154 - accuracy: 0.0349\n",
      "Epoch 8/15\n",
      "615/615 [==============================] - 1s 2ms/step - loss: 0.7110 - accuracy: 0.0349\n",
      "Epoch 9/15\n",
      "615/615 [==============================] - 1s 2ms/step - loss: 0.7077 - accuracy: 0.0349\n",
      "Epoch 10/15\n",
      "615/615 [==============================] - 1s 2ms/step - loss: 0.7039 - accuracy: 0.0350\n",
      "Epoch 11/15\n",
      "615/615 [==============================] - 1s 2ms/step - loss: 0.7012 - accuracy: 0.0350\n",
      "Epoch 12/15\n",
      "615/615 [==============================] - 1s 2ms/step - loss: 0.6985 - accuracy: 0.0348\n",
      "Epoch 13/15\n",
      "615/615 [==============================] - 1s 2ms/step - loss: 0.6959 - accuracy: 0.0349\n",
      "Epoch 14/15\n",
      "615/615 [==============================] - 1s 2ms/step - loss: 0.6934 - accuracy: 0.0347\n",
      "Epoch 15/15\n",
      "615/615 [==============================] - 1s 2ms/step - loss: 0.6909 - accuracy: 0.0347\n"
     ]
    },
    {
     "data": {
      "text/plain": [
       "<keras.callbacks.History at 0x7fe878adcb50>"
      ]
     },
     "execution_count": 182,
     "metadata": {},
     "output_type": "execute_result"
    }
   ],
   "source": [
    "model.fit(x,y, epochs=15)"
   ]
  },
  {
   "cell_type": "markdown",
   "id": "31045305-f979-4d6a-a0fb-bd4cef1575ea",
   "metadata": {},
   "source": [
    "# Modell anwenden"
   ]
  },
  {
   "cell_type": "code",
   "execution_count": 183,
   "id": "262c9bd6-bead-4494-a7e9-a840a9e353f8",
   "metadata": {},
   "outputs": [
    {
     "data": {
      "text/plain": [
       "array([[4.6296167],\n",
       "       [4.38197  ],\n",
       "       [2.9766843],\n",
       "       [4.3841953]], dtype=float32)"
      ]
     },
     "execution_count": 183,
     "metadata": {},
     "output_type": "execute_result"
    }
   ],
   "source": [
    "model.predict( [[\"i really love this dress\"],\n",
    "                [\"i dont like it\"],\n",
    "                [\"this dress is ugly\"],\n",
    "                [\"i would never buy this again\"]\n",
    "               ] )"
   ]
  },
  {
   "cell_type": "code",
   "execution_count": null,
   "id": "cccf4282-9ba2-4e8c-98b6-4934e09196d4",
   "metadata": {},
   "outputs": [],
   "source": []
  }
 ],
 "metadata": {
  "kernelspec": {
   "display_name": "Python 3 (ipykernel)",
   "language": "python",
   "name": "python3"
  },
  "language_info": {
   "codemirror_mode": {
    "name": "ipython",
    "version": 3
   },
   "file_extension": ".py",
   "mimetype": "text/x-python",
   "name": "python",
   "nbconvert_exporter": "python",
   "pygments_lexer": "ipython3",
   "version": "3.8.10"
  },
  "toc-autonumbering": true
 },
 "nbformat": 4,
 "nbformat_minor": 5
}
