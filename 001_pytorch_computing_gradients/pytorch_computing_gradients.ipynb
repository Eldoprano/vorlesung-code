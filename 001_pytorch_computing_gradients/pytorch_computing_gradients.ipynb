{
 "cells": [
  {
   "cell_type": "markdown",
   "id": "344d18e7-ac71-4f5e-b6ef-abbb81fd91a0",
   "metadata": {},
   "source": [
    "# Introduction\n",
    "\n",
    "A notebook that I use to familiarise myself with PyTorch."
   ]
  },
  {
   "cell_type": "markdown",
   "id": "42a3db0c-adf0-485f-8b0c-c3c4d0d60e3a",
   "metadata": {},
   "source": [
    "# Autograd"
   ]
  },
  {
   "cell_type": "markdown",
   "id": "0369d3ad-c08f-46c1-83ac-da6ad56b9d99",
   "metadata": {},
   "source": [
    "## Scalars don't have derivatives"
   ]
  },
  {
   "cell_type": "code",
   "execution_count": 2,
   "id": "6696ec25-2d95-4acf-a5b5-62cc55106da2",
   "metadata": {},
   "outputs": [],
   "source": [
    "import torch"
   ]
  },
  {
   "cell_type": "code",
   "execution_count": 3,
   "id": "56a5bfc6-9c1a-44a2-9a6c-12f996f59a6b",
   "metadata": {},
   "outputs": [],
   "source": [
    "x = torch.ones(1, requires_grad=True)"
   ]
  },
  {
   "cell_type": "code",
   "execution_count": 4,
   "id": "dd4fd0fb-bfe0-4f89-a1be-898d7a5cd67b",
   "metadata": {},
   "outputs": [
    {
     "data": {
      "text/plain": [
       "tensor([1.], requires_grad=True)"
      ]
     },
     "execution_count": 4,
     "metadata": {},
     "output_type": "execute_result"
    }
   ],
   "source": [
    "x"
   ]
  },
  {
   "cell_type": "code",
   "execution_count": 5,
   "id": "6ab690c7-8d50-425c-8f42-6399d0ebdf5a",
   "metadata": {},
   "outputs": [
    {
     "name": "stdout",
     "output_type": "stream",
     "text": [
      "tensor([1.], requires_grad=True)\n"
     ]
    }
   ],
   "source": [
    "print(x)"
   ]
  },
  {
   "cell_type": "code",
   "execution_count": 6,
   "id": "c6f302d5-d2d6-4daa-821d-2e8d8912b47a",
   "metadata": {},
   "outputs": [
    {
     "data": {
      "text/plain": [
       "torch.Tensor"
      ]
     },
     "execution_count": 6,
     "metadata": {},
     "output_type": "execute_result"
    }
   ],
   "source": [
    "type(x)"
   ]
  },
  {
   "cell_type": "code",
   "execution_count": 7,
   "id": "5a2ddf26-feb2-4750-b901-587e8e9e157f",
   "metadata": {},
   "outputs": [
    {
     "name": "stdout",
     "output_type": "stream",
     "text": [
      "None\n"
     ]
    }
   ],
   "source": [
    "print(x.grad)"
   ]
  },
  {
   "cell_type": "markdown",
   "id": "f3a48691-975b-4b86-9bec-9f404b11d268",
   "metadata": {},
   "source": [
    "x is just a scalar that stores the value 1.0.  Therefore, it has no derivative."
   ]
  },
  {
   "cell_type": "markdown",
   "id": "c1df60af-15cd-41f6-b17c-60826217de87",
   "metadata": {},
   "source": [
    "## A function has a derivative"
   ]
  },
  {
   "cell_type": "code",
   "execution_count": 15,
   "id": "45d185dc-81dd-46df-a286-8b4ff7d35ebe",
   "metadata": {},
   "outputs": [],
   "source": [
    "x = torch.ones(1, requires_grad=True)\n",
    "y = 2*x"
   ]
  },
  {
   "cell_type": "code",
   "execution_count": 16,
   "id": "9b565ca0-d740-4ec1-abe1-9faf10baf260",
   "metadata": {},
   "outputs": [
    {
     "data": {
      "text/plain": [
       "torch.Tensor"
      ]
     },
     "execution_count": 16,
     "metadata": {},
     "output_type": "execute_result"
    }
   ],
   "source": [
    "type(x)"
   ]
  },
  {
   "cell_type": "code",
   "execution_count": 17,
   "id": "4c0d2d42-0e9a-4d62-bacc-d2d49b5e38e8",
   "metadata": {},
   "outputs": [
    {
     "data": {
      "text/plain": [
       "torch.Tensor"
      ]
     },
     "execution_count": 17,
     "metadata": {},
     "output_type": "execute_result"
    }
   ],
   "source": [
    "type(y)"
   ]
  },
  {
   "cell_type": "code",
   "execution_count": 18,
   "id": "f6c80a4d-4a0a-4fa2-9ad0-3a2d66b7ac0a",
   "metadata": {},
   "outputs": [
    {
     "data": {
      "text/plain": [
       "tensor([1.], requires_grad=True)"
      ]
     },
     "execution_count": 18,
     "metadata": {},
     "output_type": "execute_result"
    }
   ],
   "source": [
    "x"
   ]
  },
  {
   "cell_type": "code",
   "execution_count": 19,
   "id": "14341791-ee0a-449e-a9d8-34c29273da2b",
   "metadata": {},
   "outputs": [
    {
     "data": {
      "text/plain": [
       "tensor([2.], grad_fn=<MulBackward0>)"
      ]
     },
     "execution_count": 19,
     "metadata": {},
     "output_type": "execute_result"
    }
   ],
   "source": [
    "y"
   ]
  },
  {
   "cell_type": "code",
   "execution_count": 20,
   "id": "43f1dff4-8de1-44fc-add7-a2c249b863ab",
   "metadata": {},
   "outputs": [
    {
     "name": "stdout",
     "output_type": "stream",
     "text": [
      "None\n"
     ]
    }
   ],
   "source": [
    "print(x.grad)"
   ]
  },
  {
   "cell_type": "markdown",
   "id": "b097eca9-312a-4b8e-985b-a363bb3d7dbd",
   "metadata": {},
   "source": [
    "The derivative of y with respect to x is not yet computed. First we have to call:"
   ]
  },
  {
   "cell_type": "code",
   "execution_count": 21,
   "id": "904a9b70-a421-491b-8500-d598b1fa32ce",
   "metadata": {},
   "outputs": [],
   "source": [
    "y.backward()"
   ]
  },
  {
   "cell_type": "code",
   "execution_count": 22,
   "id": "5d9f5aae-f621-4180-b9c8-24976f3d32c6",
   "metadata": {},
   "outputs": [
    {
     "name": "stdout",
     "output_type": "stream",
     "text": [
      "tensor([2.])\n"
     ]
    }
   ],
   "source": [
    "print(x.grad)"
   ]
  },
  {
   "cell_type": "markdown",
   "id": "a65c7b21-5b1a-43d8-b3bb-b5ef05067689",
   "metadata": {},
   "source": [
    "This means: $\\frac{dy}{dx} = 2$"
   ]
  },
  {
   "cell_type": "markdown",
   "id": "6d421660-b1ac-4e87-819f-74f1fbf09510",
   "metadata": {},
   "source": [
    "## Another example for automatic gradient computation"
   ]
  },
  {
   "cell_type": "code",
   "execution_count": 157,
   "id": "b4c7e5ad-82b1-406b-9519-9a554991ac9b",
   "metadata": {},
   "outputs": [],
   "source": [
    "x = torch.ones(1, requires_grad=True)\n",
    "y = 2*x\n",
    "z = y*y*y"
   ]
  },
  {
   "cell_type": "code",
   "execution_count": 158,
   "id": "f8f98efc-46bf-4f30-bdf8-b7614bec6fd1",
   "metadata": {},
   "outputs": [
    {
     "data": {
      "text/plain": [
       "torch.Tensor"
      ]
     },
     "execution_count": 158,
     "metadata": {},
     "output_type": "execute_result"
    }
   ],
   "source": [
    "type(x)"
   ]
  },
  {
   "cell_type": "code",
   "execution_count": 159,
   "id": "60ff54fd-f63c-484b-b378-07541e1755e2",
   "metadata": {},
   "outputs": [
    {
     "data": {
      "text/plain": [
       "torch.Tensor"
      ]
     },
     "execution_count": 159,
     "metadata": {},
     "output_type": "execute_result"
    }
   ],
   "source": [
    "type(y)"
   ]
  },
  {
   "cell_type": "code",
   "execution_count": 160,
   "id": "7dac1042-2c3f-46d1-8d95-1a0412cc630b",
   "metadata": {},
   "outputs": [
    {
     "data": {
      "text/plain": [
       "torch.Tensor"
      ]
     },
     "execution_count": 160,
     "metadata": {},
     "output_type": "execute_result"
    }
   ],
   "source": [
    "type(z)"
   ]
  },
  {
   "cell_type": "code",
   "execution_count": 161,
   "id": "420eb2d1-90b5-403f-909e-7d503c92e5f3",
   "metadata": {},
   "outputs": [
    {
     "data": {
      "text/plain": [
       "tensor([1.], requires_grad=True)"
      ]
     },
     "execution_count": 161,
     "metadata": {},
     "output_type": "execute_result"
    }
   ],
   "source": [
    "x"
   ]
  },
  {
   "cell_type": "code",
   "execution_count": 163,
   "id": "bd23d748-7215-40aa-9af1-f292d84e342d",
   "metadata": {},
   "outputs": [
    {
     "data": {
      "text/plain": [
       "1.0"
      ]
     },
     "execution_count": 163,
     "metadata": {},
     "output_type": "execute_result"
    }
   ],
   "source": [
    "x.item()"
   ]
  },
  {
   "cell_type": "code",
   "execution_count": 111,
   "id": "0e76ab28-a037-4798-bd6d-01442c253023",
   "metadata": {},
   "outputs": [
    {
     "data": {
      "text/plain": [
       "tensor([2.], grad_fn=<MulBackward0>)"
      ]
     },
     "execution_count": 111,
     "metadata": {},
     "output_type": "execute_result"
    }
   ],
   "source": [
    "y"
   ]
  },
  {
   "cell_type": "code",
   "execution_count": 112,
   "id": "354cd9a8-3f15-4b59-8fd9-58f7604a0675",
   "metadata": {},
   "outputs": [
    {
     "data": {
      "text/plain": [
       "tensor([8.], grad_fn=<MulBackward0>)"
      ]
     },
     "execution_count": 112,
     "metadata": {},
     "output_type": "execute_result"
    }
   ],
   "source": [
    "z"
   ]
  },
  {
   "cell_type": "code",
   "execution_count": 113,
   "id": "a0ea9b08-597c-46f4-82f0-765cdc3b5ea1",
   "metadata": {},
   "outputs": [],
   "source": [
    "z.backward()"
   ]
  },
  {
   "cell_type": "code",
   "execution_count": 114,
   "id": "548e1154-043e-4483-9e16-e77c8ab9fab3",
   "metadata": {},
   "outputs": [],
   "source": [
    "z.grad"
   ]
  },
  {
   "cell_type": "code",
   "execution_count": 115,
   "id": "a4f27672-83c3-4643-9625-7bd4b28abbb0",
   "metadata": {},
   "outputs": [],
   "source": [
    "y.grad"
   ]
  },
  {
   "cell_type": "code",
   "execution_count": 116,
   "id": "6de3a216-a9f0-4c04-8053-1fdf24546cdb",
   "metadata": {},
   "outputs": [
    {
     "data": {
      "text/plain": [
       "tensor([24.])"
      ]
     },
     "execution_count": 116,
     "metadata": {},
     "output_type": "execute_result"
    }
   ],
   "source": [
    "x.grad"
   ]
  },
  {
   "cell_type": "markdown",
   "id": "851b5058-8ae6-48d5-9695-bc0df8265783",
   "metadata": {},
   "source": [
    "$\\frac{dz}{dx} = \\frac{dz}{dy} * \\frac{dy}{dx} = 3y^2 * 2 = 6(2x)^2 = 6*4x^2 = 24x^2$"
   ]
  },
  {
   "cell_type": "markdown",
   "id": "68d8a8ca-bb03-4f9e-8194-6a324ba08e59",
   "metadata": {},
   "source": [
    "# Machine learning"
   ]
  },
  {
   "cell_type": "markdown",
   "id": "78e8e151-144f-4b65-a326-c56528250eed",
   "metadata": {},
   "source": [
    "## Prepare a Perceptron"
   ]
  },
  {
   "cell_type": "code",
   "execution_count": 123,
   "id": "f9269883-89fc-4fab-8e90-dca1ffece791",
   "metadata": {},
   "outputs": [],
   "source": [
    "class Perceptron(torch.nn.Module):\n",
    "    \n",
    "    def __init__(self, input_size, hidden_size, output_size):\n",
    "        \n",
    "        super().__init__()\n",
    "        self.layer1 = torch.nn.Linear(input_size, hidden_size)\n",
    "        self.layer2 = torch.nn.Linear(hidden_size, output_size)        \n",
    "        \n",
    "    def forward(self, input_vec):\n",
    "        \n",
    "        out1 = self.layer1(input_vec)\n",
    "        out2 = self.layer2(out1)\n",
    "        return out2        "
   ]
  },
  {
   "cell_type": "code",
   "execution_count": 124,
   "id": "5612f19a-9dfb-446f-90fe-71b1c0d60940",
   "metadata": {},
   "outputs": [],
   "source": [
    "p = Perceptron(2,5,1)"
   ]
  },
  {
   "cell_type": "code",
   "execution_count": 125,
   "id": "54481fc5-ad37-4f89-bef7-618cd86fb841",
   "metadata": {},
   "outputs": [
    {
     "data": {
      "text/plain": [
       "Perceptron(\n",
       "  (layer1): Linear(in_features=2, out_features=5, bias=True)\n",
       "  (layer2): Linear(in_features=5, out_features=1, bias=True)\n",
       ")"
      ]
     },
     "execution_count": 125,
     "metadata": {},
     "output_type": "execute_result"
    }
   ],
   "source": [
    "p"
   ]
  },
  {
   "cell_type": "code",
   "execution_count": 126,
   "id": "81d1403e-43bb-4f96-b98f-9163a2a65c27",
   "metadata": {},
   "outputs": [
    {
     "data": {
      "text/plain": [
       "Parameter containing:\n",
       "tensor([[ 0.2795, -0.5875],\n",
       "        [-0.3618,  0.3865],\n",
       "        [-0.6314, -0.5359],\n",
       "        [ 0.2324, -0.5080],\n",
       "        [-0.3094,  0.6219]], requires_grad=True)"
      ]
     },
     "execution_count": 126,
     "metadata": {},
     "output_type": "execute_result"
    }
   ],
   "source": [
    "p.layer1.weight"
   ]
  },
  {
   "cell_type": "code",
   "execution_count": 127,
   "id": "e34db121-b1bc-4dbc-80b6-00c29bc3e60d",
   "metadata": {},
   "outputs": [
    {
     "data": {
      "text/plain": [
       "Parameter containing:\n",
       "tensor([ 0.2663, -0.0981,  0.2298,  0.0100,  0.5158], requires_grad=True)"
      ]
     },
     "execution_count": 127,
     "metadata": {},
     "output_type": "execute_result"
    }
   ],
   "source": [
    "p.layer1.bias"
   ]
  },
  {
   "cell_type": "code",
   "execution_count": 128,
   "id": "50c111cd-c80b-4758-af67-a199f35dea0c",
   "metadata": {},
   "outputs": [
    {
     "data": {
      "text/plain": [
       "Parameter containing:\n",
       "tensor([[ 0.1897, -0.3041,  0.2441,  0.2419, -0.2331]], requires_grad=True)"
      ]
     },
     "execution_count": 128,
     "metadata": {},
     "output_type": "execute_result"
    }
   ],
   "source": [
    "p.layer2.weight"
   ]
  },
  {
   "cell_type": "code",
   "execution_count": 129,
   "id": "b75c41d0-11cb-41c4-92d7-7c1c492c1f3c",
   "metadata": {},
   "outputs": [
    {
     "data": {
      "text/plain": [
       "Parameter containing:\n",
       "tensor([-0.4425], requires_grad=True)"
      ]
     },
     "execution_count": 129,
     "metadata": {},
     "output_type": "execute_result"
    }
   ],
   "source": [
    "p.layer2.bias"
   ]
  },
  {
   "cell_type": "markdown",
   "id": "0298ee41-2718-407e-bc2d-a4ec5b53c7f7",
   "metadata": {},
   "source": [
    "## Feedforward with untrained Perceptron"
   ]
  },
  {
   "cell_type": "code",
   "execution_count": 134,
   "id": "2a45f69a-2376-4790-bac6-8c0ca6beade4",
   "metadata": {},
   "outputs": [],
   "source": [
    "input_vec = torch.tensor([1.0,3.0])"
   ]
  },
  {
   "cell_type": "code",
   "execution_count": 135,
   "id": "44e4a2ed-8d3a-4f13-9d94-4866833cefc3",
   "metadata": {},
   "outputs": [
    {
     "data": {
      "text/plain": [
       "tensor([-2.1695], grad_fn=<AddBackward0>)"
      ]
     },
     "execution_count": 135,
     "metadata": {},
     "output_type": "execute_result"
    }
   ],
   "source": [
    "p(input_vec)"
   ]
  },
  {
   "cell_type": "code",
   "execution_count": 136,
   "id": "b31bf29f-2a11-4212-9230-992af29b705a",
   "metadata": {},
   "outputs": [
    {
     "data": {
      "text/plain": [
       "tensor([-2.1695], grad_fn=<AddBackward0>)"
      ]
     },
     "execution_count": 136,
     "metadata": {},
     "output_type": "execute_result"
    }
   ],
   "source": [
    "p.forward(input_vec)"
   ]
  },
  {
   "cell_type": "markdown",
   "id": "2cab9c52-e74c-4529-bc9f-e7ed3bb9aae9",
   "metadata": {},
   "source": [
    "## Train the Perceptron"
   ]
  },
  {
   "cell_type": "code",
   "execution_count": 291,
   "id": "fb1afda2-d5b8-497b-910f-91743e97b34f",
   "metadata": {},
   "outputs": [],
   "source": [
    "p = Perceptron(2,5,1)\n",
    "loss_fn = torch.nn.MSELoss()\n",
    "optimizer = torch.optim.SGD(p.parameters(), lr=0.001)"
   ]
  },
  {
   "cell_type": "code",
   "execution_count": 292,
   "id": "49360e74-6a56-4c7b-ba41-220af7f78e7d",
   "metadata": {},
   "outputs": [
    {
     "data": {
      "text/plain": [
       "torch.nn.modules.loss.MSELoss"
      ]
     },
     "execution_count": 292,
     "metadata": {},
     "output_type": "execute_result"
    }
   ],
   "source": [
    "type(loss_fn)"
   ]
  },
  {
   "cell_type": "code",
   "execution_count": 293,
   "id": "ab07f6d2-a178-4d96-aaff-af861c48b470",
   "metadata": {},
   "outputs": [
    {
     "data": {
      "text/plain": [
       "torch.optim.sgd.SGD"
      ]
     },
     "execution_count": 293,
     "metadata": {},
     "output_type": "execute_result"
    }
   ],
   "source": [
    "type(optimizer)"
   ]
  },
  {
   "cell_type": "code",
   "execution_count": 294,
   "id": "edab3341-f7ef-4487-82b5-797c885e9091",
   "metadata": {},
   "outputs": [
    {
     "data": {
      "text/plain": [
       "(0.9995184510467505, 0.21792698263708732)"
      ]
     },
     "execution_count": 294,
     "metadata": {},
     "output_type": "execute_result"
    }
   ],
   "source": [
    "import numpy\n",
    "x1 = numpy.random.rand()\n",
    "x2 = numpy.random.rand()\n",
    "x1,x2"
   ]
  },
  {
   "cell_type": "code",
   "execution_count": 295,
   "id": "e86b0428-1195-4747-a340-81fc0bd37a10",
   "metadata": {},
   "outputs": [],
   "source": [
    "def get_ground_truth_output_from_input_tensor(input_vec):\n",
    "    x1 = input_vec[0].item()\n",
    "    x2 = input_vec[1].item()\n",
    "    return torch.tensor( [x1+x2] )"
   ]
  },
  {
   "cell_type": "code",
   "execution_count": 296,
   "id": "30fb1cd9-66a2-4064-8da1-a3c7515c90aa",
   "metadata": {},
   "outputs": [],
   "source": [
    "input_vec = torch.tensor([10,20])"
   ]
  },
  {
   "cell_type": "code",
   "execution_count": 297,
   "id": "a9c0429d-27a1-4e55-b9a4-6dabe9ea0236",
   "metadata": {},
   "outputs": [
    {
     "data": {
      "text/plain": [
       "tensor([10, 20])"
      ]
     },
     "execution_count": 297,
     "metadata": {},
     "output_type": "execute_result"
    }
   ],
   "source": [
    "input_vec"
   ]
  },
  {
   "cell_type": "code",
   "execution_count": 298,
   "id": "f9524773-4966-4a66-83f4-2185cb50a610",
   "metadata": {},
   "outputs": [
    {
     "data": {
      "text/plain": [
       "tensor([30])"
      ]
     },
     "execution_count": 298,
     "metadata": {},
     "output_type": "execute_result"
    }
   ],
   "source": [
    "get_ground_truth_output_from_input_tensor( input_vec )"
   ]
  },
  {
   "cell_type": "code",
   "execution_count": 299,
   "id": "2a5592c9-87d3-4d37-81b2-dbd6454676b8",
   "metadata": {},
   "outputs": [],
   "source": [
    "for train_step in range(10000):\n",
    "    \n",
    "    # generate a training sample\n",
    "    x1 = numpy.random.rand()\n",
    "    x2 = numpy.random.rand()    \n",
    "    input_vec   = torch.tensor([x1,x2])\n",
    "    teacher_vec = get_ground_truth_output_from_input_tensor( input_vec )\n",
    "            \n",
    "    # forward step\n",
    "    y_pred = p(input_vec)\n",
    "    \n",
    "    # compute loss\n",
    "    loss = loss_fn(y_pred, teacher_vec)\n",
    "    \n",
    "    # backward step -> computes gradients\n",
    "    p.zero_grad()\n",
    "    loss.backward()\n",
    "    \n",
    "    # optimizer step -> adapts weights\n",
    "    optimizer.step()\n",
    "    \n",
    "    if False:\n",
    "        error = abs(teacher_vec-y_pred)\n",
    "        print( f\"teacher={teacher_vec}, predicted={y_pred:} -> error={error}\" )"
   ]
  },
  {
   "cell_type": "markdown",
   "id": "ec2dcd7f-7b70-4d3d-a4ef-c4cef60fe778",
   "metadata": {},
   "source": [
    "## Test the Perceptron"
   ]
  },
  {
   "cell_type": "code",
   "execution_count": 300,
   "id": "0eda7624-c7d5-4819-80cb-324664cfa223",
   "metadata": {},
   "outputs": [],
   "source": [
    "list_of_errors = []\n",
    "for train_step in range(1000):\n",
    "    \n",
    "    # generate a training sample\n",
    "    x1 = numpy.random.rand()\n",
    "    x2 = numpy.random.rand()    \n",
    "    input_vec   = torch.tensor([x1,x2])\n",
    "    teacher_vec = get_ground_truth_output_from_input_tensor( input_vec )\n",
    "    \n",
    "    # forward step\n",
    "    y_pred = p(input_vec)\n",
    "    \n",
    "    # compute prediction error\n",
    "    error = abs(teacher_vec-y_pred)\n",
    "    list_of_errors.append( error.item() )\n",
    "    \n",
    "    if False:\n",
    "        print( f\"teacher={teacher_vec}, predicted={y_pred:} -> error={error}\" )    "
   ]
  },
  {
   "cell_type": "code",
   "execution_count": 301,
   "id": "d0dba050-c7e3-47e1-9406-f6c90a6d8f36",
   "metadata": {},
   "outputs": [
    {
     "data": {
      "text/plain": [
       "[0.08586347103118896,\n",
       " 0.07623982429504395,\n",
       " 0.03937935829162598,\n",
       " 0.006882071495056152,\n",
       " 0.003127455711364746,\n",
       " 0.08154228329658508,\n",
       " 0.03935086727142334,\n",
       " 0.09884917736053467,\n",
       " 0.05762195587158203,\n",
       " 0.05417889356613159]"
      ]
     },
     "execution_count": 301,
     "metadata": {},
     "output_type": "execute_result"
    }
   ],
   "source": [
    "list_of_errors[:10]"
   ]
  },
  {
   "cell_type": "code",
   "execution_count": 302,
   "id": "ee9e3fdb-eae6-41fb-993c-8afe6c7605ce",
   "metadata": {},
   "outputs": [
    {
     "data": {
      "text/plain": [
       "0.04854625552892685"
      ]
     },
     "execution_count": 302,
     "metadata": {},
     "output_type": "execute_result"
    }
   ],
   "source": [
    "mean_error = numpy.mean( list_of_errors )\n",
    "mean_error"
   ]
  },
  {
   "cell_type": "code",
   "execution_count": null,
   "id": "3524e904-94b9-4953-b5de-5a9d9b6ef3b7",
   "metadata": {},
   "outputs": [],
   "source": []
  }
 ],
 "metadata": {
  "kernelspec": {
   "display_name": "Python 3 (ipykernel)",
   "language": "python",
   "name": "python3"
  },
  "language_info": {
   "codemirror_mode": {
    "name": "ipython",
    "version": 3
   },
   "file_extension": ".py",
   "mimetype": "text/x-python",
   "name": "python",
   "nbconvert_exporter": "python",
   "pygments_lexer": "ipython3",
   "version": "3.9.7"
  },
  "toc-autonumbering": true
 },
 "nbformat": 4,
 "nbformat_minor": 5
}
