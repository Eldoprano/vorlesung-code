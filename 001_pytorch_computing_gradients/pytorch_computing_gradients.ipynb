{
 "cells": [
  {
   "cell_type": "markdown",
   "id": "344d18e7-ac71-4f5e-b6ef-abbb81fd91a0",
   "metadata": {},
   "source": [
    "# Introduction\n",
    "\n",
    "A notebook that I use to familiarise myself with PyTorch.\n",
    "\n",
    "The code below shows how to\n",
    "\n",
    "- compute gradients in a computation graph with PyTorch\n",
    "- let PyTorch learn how to add (or subtract) two numbers using a Perceptron"
   ]
  },
  {
   "cell_type": "markdown",
   "id": "42a3db0c-adf0-485f-8b0c-c3c4d0d60e3a",
   "metadata": {},
   "source": [
    "# Autograd"
   ]
  },
  {
   "cell_type": "markdown",
   "id": "0369d3ad-c08f-46c1-83ac-da6ad56b9d99",
   "metadata": {},
   "source": [
    "## Scalars don't have derivatives"
   ]
  },
  {
   "cell_type": "code",
   "execution_count": 1,
   "id": "6696ec25-2d95-4acf-a5b5-62cc55106da2",
   "metadata": {},
   "outputs": [],
   "source": [
    "import torch"
   ]
  },
  {
   "cell_type": "code",
   "execution_count": 2,
   "id": "7bfe6f79-eb51-4e45-8b78-d1228029eab1",
   "metadata": {},
   "outputs": [
    {
     "name": "stdout",
     "output_type": "stream",
     "text": [
      "Name: torch\n",
      "Version: 1.12.1\n",
      "Summary: Tensors and Dynamic neural networks in Python with strong GPU acceleration\n",
      "Home-page: https://pytorch.org/\n",
      "Author: PyTorch Team\n",
      "Author-email: packages@pytorch.org\n",
      "License: BSD-3\n",
      "Location: /home/juebrauer/.local/share/virtualenvs/central-kQZYXD-3/lib/python3.8/site-packages\n",
      "Requires: typing-extensions\n",
      "Required-by: thop, torchvision\n"
     ]
    }
   ],
   "source": [
    "!pip show torch"
   ]
  },
  {
   "cell_type": "code",
   "execution_count": 3,
   "id": "dd3252b3-d6f4-4cda-9469-77855e08a435",
   "metadata": {},
   "outputs": [
    {
     "name": "stdout",
     "output_type": "stream",
     "text": [
      "\u001b[31mERROR: Could not find a version that satisfies the requirement torch== (from versions: 1.4.0, 1.5.0, 1.5.1, 1.6.0, 1.7.0, 1.7.1, 1.8.0, 1.8.1, 1.9.0, 1.9.1, 1.10.0, 1.10.1, 1.10.2, 1.11.0, 1.12.0, 1.12.1, 1.13.0, 1.13.1)\u001b[0m\u001b[31m\n",
      "\u001b[0m\u001b[31mERROR: No matching distribution found for torch==\u001b[0m\u001b[31m\n",
      "\u001b[0m"
     ]
    }
   ],
   "source": [
    "!pip install torch=="
   ]
  },
  {
   "cell_type": "code",
   "execution_count": 4,
   "id": "56a5bfc6-9c1a-44a2-9a6c-12f996f59a6b",
   "metadata": {},
   "outputs": [],
   "source": [
    "x = torch.ones(1, requires_grad=True)"
   ]
  },
  {
   "cell_type": "code",
   "execution_count": 5,
   "id": "dd4fd0fb-bfe0-4f89-a1be-898d7a5cd67b",
   "metadata": {},
   "outputs": [
    {
     "data": {
      "text/plain": [
       "tensor([1.], requires_grad=True)"
      ]
     },
     "execution_count": 5,
     "metadata": {},
     "output_type": "execute_result"
    }
   ],
   "source": [
    "x"
   ]
  },
  {
   "cell_type": "code",
   "execution_count": 6,
   "id": "6ab690c7-8d50-425c-8f42-6399d0ebdf5a",
   "metadata": {},
   "outputs": [
    {
     "name": "stdout",
     "output_type": "stream",
     "text": [
      "tensor([1.], requires_grad=True)\n"
     ]
    }
   ],
   "source": [
    "print(x)"
   ]
  },
  {
   "cell_type": "code",
   "execution_count": 7,
   "id": "c6f302d5-d2d6-4daa-821d-2e8d8912b47a",
   "metadata": {},
   "outputs": [
    {
     "data": {
      "text/plain": [
       "torch.Tensor"
      ]
     },
     "execution_count": 7,
     "metadata": {},
     "output_type": "execute_result"
    }
   ],
   "source": [
    "type(x)"
   ]
  },
  {
   "cell_type": "code",
   "execution_count": 8,
   "id": "5a2ddf26-feb2-4750-b901-587e8e9e157f",
   "metadata": {},
   "outputs": [
    {
     "name": "stdout",
     "output_type": "stream",
     "text": [
      "None\n"
     ]
    }
   ],
   "source": [
    "print(x.grad)"
   ]
  },
  {
   "cell_type": "markdown",
   "id": "f3a48691-975b-4b86-9bec-9f404b11d268",
   "metadata": {},
   "source": [
    "x is just a scalar that stores the value 1.0.  Therefore, it has no derivative."
   ]
  },
  {
   "cell_type": "markdown",
   "id": "c1df60af-15cd-41f6-b17c-60826217de87",
   "metadata": {},
   "source": [
    "## A function has a derivative"
   ]
  },
  {
   "cell_type": "code",
   "execution_count": 9,
   "id": "45d185dc-81dd-46df-a286-8b4ff7d35ebe",
   "metadata": {},
   "outputs": [],
   "source": [
    "x = torch.ones(1, requires_grad=True)\n",
    "y = 2*x"
   ]
  },
  {
   "cell_type": "code",
   "execution_count": 10,
   "id": "9b565ca0-d740-4ec1-abe1-9faf10baf260",
   "metadata": {},
   "outputs": [
    {
     "data": {
      "text/plain": [
       "torch.Tensor"
      ]
     },
     "execution_count": 10,
     "metadata": {},
     "output_type": "execute_result"
    }
   ],
   "source": [
    "type(x)"
   ]
  },
  {
   "cell_type": "code",
   "execution_count": 11,
   "id": "4c0d2d42-0e9a-4d62-bacc-d2d49b5e38e8",
   "metadata": {},
   "outputs": [
    {
     "data": {
      "text/plain": [
       "torch.Tensor"
      ]
     },
     "execution_count": 11,
     "metadata": {},
     "output_type": "execute_result"
    }
   ],
   "source": [
    "type(y)"
   ]
  },
  {
   "cell_type": "code",
   "execution_count": 12,
   "id": "f6c80a4d-4a0a-4fa2-9ad0-3a2d66b7ac0a",
   "metadata": {},
   "outputs": [
    {
     "data": {
      "text/plain": [
       "tensor([1.], requires_grad=True)"
      ]
     },
     "execution_count": 12,
     "metadata": {},
     "output_type": "execute_result"
    }
   ],
   "source": [
    "x"
   ]
  },
  {
   "cell_type": "code",
   "execution_count": 13,
   "id": "14341791-ee0a-449e-a9d8-34c29273da2b",
   "metadata": {},
   "outputs": [
    {
     "data": {
      "text/plain": [
       "tensor([2.], grad_fn=<MulBackward0>)"
      ]
     },
     "execution_count": 13,
     "metadata": {},
     "output_type": "execute_result"
    }
   ],
   "source": [
    "y"
   ]
  },
  {
   "cell_type": "code",
   "execution_count": 14,
   "id": "43f1dff4-8de1-44fc-add7-a2c249b863ab",
   "metadata": {},
   "outputs": [
    {
     "name": "stdout",
     "output_type": "stream",
     "text": [
      "None\n"
     ]
    }
   ],
   "source": [
    "print(x.grad)"
   ]
  },
  {
   "cell_type": "markdown",
   "id": "b097eca9-312a-4b8e-985b-a363bb3d7dbd",
   "metadata": {},
   "source": [
    "The derivative of y with respect to x is not yet computed. First we have to call:"
   ]
  },
  {
   "cell_type": "code",
   "execution_count": 15,
   "id": "904a9b70-a421-491b-8500-d598b1fa32ce",
   "metadata": {},
   "outputs": [],
   "source": [
    "y.backward()"
   ]
  },
  {
   "cell_type": "code",
   "execution_count": 16,
   "id": "b3b33dda-eb09-484e-adc3-63f796324f59",
   "metadata": {},
   "outputs": [
    {
     "name": "stdout",
     "output_type": "stream",
     "text": [
      "Help on function backward in module torch._tensor:\n",
      "\n",
      "backward(self, gradient=None, retain_graph=None, create_graph=False, inputs=None)\n",
      "    Computes the gradient of current tensor w.r.t. graph leaves.\n",
      "    \n",
      "    The graph is differentiated using the chain rule. If the tensor is\n",
      "    non-scalar (i.e. its data has more than one element) and requires\n",
      "    gradient, the function additionally requires specifying ``gradient``.\n",
      "    It should be a tensor of matching type and location, that contains\n",
      "    the gradient of the differentiated function w.r.t. ``self``.\n",
      "    \n",
      "    This function accumulates gradients in the leaves - you might need to zero\n",
      "    ``.grad`` attributes or set them to ``None`` before calling it.\n",
      "    See :ref:`Default gradient layouts<default-grad-layouts>`\n",
      "    for details on the memory layout of accumulated gradients.\n",
      "    \n",
      "    .. note::\n",
      "    \n",
      "        If you run any forward ops, create ``gradient``, and/or call ``backward``\n",
      "        in a user-specified CUDA stream context, see\n",
      "        :ref:`Stream semantics of backward passes<bwd-cuda-stream-semantics>`.\n",
      "    \n",
      "    .. note::\n",
      "    \n",
      "        When ``inputs`` are provided and a given input is not a leaf,\n",
      "        the current implementation will call its grad_fn (though it is not strictly needed to get this gradients).\n",
      "        It is an implementation detail on which the user should not rely.\n",
      "        See https://github.com/pytorch/pytorch/pull/60521#issuecomment-867061780 for more details.\n",
      "    \n",
      "    Args:\n",
      "        gradient (Tensor or None): Gradient w.r.t. the\n",
      "            tensor. If it is a tensor, it will be automatically converted\n",
      "            to a Tensor that does not require grad unless ``create_graph`` is True.\n",
      "            None values can be specified for scalar Tensors or ones that\n",
      "            don't require grad. If a None value would be acceptable then\n",
      "            this argument is optional.\n",
      "        retain_graph (bool, optional): If ``False``, the graph used to compute\n",
      "            the grads will be freed. Note that in nearly all cases setting\n",
      "            this option to True is not needed and often can be worked around\n",
      "            in a much more efficient way. Defaults to the value of\n",
      "            ``create_graph``.\n",
      "        create_graph (bool, optional): If ``True``, graph of the derivative will\n",
      "            be constructed, allowing to compute higher order derivative\n",
      "            products. Defaults to ``False``.\n",
      "        inputs (sequence of Tensor): Inputs w.r.t. which the gradient will be\n",
      "            accumulated into ``.grad``. All other Tensors will be ignored. If not\n",
      "            provided, the gradient is accumulated into all the leaf Tensors that were\n",
      "            used to compute the attr::tensors.\n",
      "\n"
     ]
    }
   ],
   "source": [
    "help(torch.Tensor.backward)"
   ]
  },
  {
   "cell_type": "code",
   "execution_count": 17,
   "id": "5d9f5aae-f621-4180-b9c8-24976f3d32c6",
   "metadata": {},
   "outputs": [
    {
     "name": "stdout",
     "output_type": "stream",
     "text": [
      "tensor([2.])\n"
     ]
    }
   ],
   "source": [
    "print(x.grad)"
   ]
  },
  {
   "cell_type": "markdown",
   "id": "a65c7b21-5b1a-43d8-b3bb-b5ef05067689",
   "metadata": {},
   "source": [
    "We see a 2, since $\\frac{dy}{dx} = 2$"
   ]
  },
  {
   "cell_type": "markdown",
   "id": "6d421660-b1ac-4e87-819f-74f1fbf09510",
   "metadata": {},
   "source": [
    "## Another example for automatic gradient computation"
   ]
  },
  {
   "cell_type": "code",
   "execution_count": 18,
   "id": "b4c7e5ad-82b1-406b-9519-9a554991ac9b",
   "metadata": {},
   "outputs": [],
   "source": [
    "x = torch.ones(1, requires_grad=True)\n",
    "y = 2*x\n",
    "z = y*y*y"
   ]
  },
  {
   "cell_type": "code",
   "execution_count": 19,
   "id": "f8f98efc-46bf-4f30-bdf8-b7614bec6fd1",
   "metadata": {},
   "outputs": [
    {
     "data": {
      "text/plain": [
       "torch.Tensor"
      ]
     },
     "execution_count": 19,
     "metadata": {},
     "output_type": "execute_result"
    }
   ],
   "source": [
    "type(x)"
   ]
  },
  {
   "cell_type": "code",
   "execution_count": 20,
   "id": "60ff54fd-f63c-484b-b378-07541e1755e2",
   "metadata": {},
   "outputs": [
    {
     "data": {
      "text/plain": [
       "torch.Tensor"
      ]
     },
     "execution_count": 20,
     "metadata": {},
     "output_type": "execute_result"
    }
   ],
   "source": [
    "type(y)"
   ]
  },
  {
   "cell_type": "code",
   "execution_count": 21,
   "id": "7dac1042-2c3f-46d1-8d95-1a0412cc630b",
   "metadata": {},
   "outputs": [
    {
     "data": {
      "text/plain": [
       "torch.Tensor"
      ]
     },
     "execution_count": 21,
     "metadata": {},
     "output_type": "execute_result"
    }
   ],
   "source": [
    "type(z)"
   ]
  },
  {
   "cell_type": "code",
   "execution_count": 22,
   "id": "420eb2d1-90b5-403f-909e-7d503c92e5f3",
   "metadata": {},
   "outputs": [
    {
     "data": {
      "text/plain": [
       "tensor([1.], requires_grad=True)"
      ]
     },
     "execution_count": 22,
     "metadata": {},
     "output_type": "execute_result"
    }
   ],
   "source": [
    "x"
   ]
  },
  {
   "cell_type": "code",
   "execution_count": 23,
   "id": "bd23d748-7215-40aa-9af1-f292d84e342d",
   "metadata": {},
   "outputs": [
    {
     "data": {
      "text/plain": [
       "1.0"
      ]
     },
     "execution_count": 23,
     "metadata": {},
     "output_type": "execute_result"
    }
   ],
   "source": [
    "x.item()"
   ]
  },
  {
   "cell_type": "code",
   "execution_count": 24,
   "id": "0e76ab28-a037-4798-bd6d-01442c253023",
   "metadata": {},
   "outputs": [
    {
     "data": {
      "text/plain": [
       "tensor([2.], grad_fn=<MulBackward0>)"
      ]
     },
     "execution_count": 24,
     "metadata": {},
     "output_type": "execute_result"
    }
   ],
   "source": [
    "y"
   ]
  },
  {
   "cell_type": "code",
   "execution_count": 25,
   "id": "354cd9a8-3f15-4b59-8fd9-58f7604a0675",
   "metadata": {},
   "outputs": [
    {
     "data": {
      "text/plain": [
       "tensor([8.], grad_fn=<MulBackward0>)"
      ]
     },
     "execution_count": 25,
     "metadata": {},
     "output_type": "execute_result"
    }
   ],
   "source": [
    "z"
   ]
  },
  {
   "cell_type": "code",
   "execution_count": 26,
   "id": "a0ea9b08-597c-46f4-82f0-765cdc3b5ea1",
   "metadata": {},
   "outputs": [],
   "source": [
    "z.backward()"
   ]
  },
  {
   "cell_type": "code",
   "execution_count": 27,
   "id": "548e1154-043e-4483-9e16-e77c8ab9fab3",
   "metadata": {},
   "outputs": [
    {
     "name": "stderr",
     "output_type": "stream",
     "text": [
      "/home/juebrauer/.local/share/virtualenvs/central-kQZYXD-3/lib/python3.8/site-packages/torch/_tensor.py:1083: UserWarning: The .grad attribute of a Tensor that is not a leaf Tensor is being accessed. Its .grad attribute won't be populated during autograd.backward(). If you indeed want the .grad field to be populated for a non-leaf Tensor, use .retain_grad() on the non-leaf Tensor. If you access the non-leaf Tensor by mistake, make sure you access the leaf Tensor instead. See github.com/pytorch/pytorch/pull/30531 for more informations. (Triggered internally at  aten/src/ATen/core/TensorBody.h:482.)\n",
      "  return self._grad\n"
     ]
    }
   ],
   "source": [
    "z.grad"
   ]
  },
  {
   "cell_type": "code",
   "execution_count": 28,
   "id": "a4f27672-83c3-4643-9625-7bd4b28abbb0",
   "metadata": {},
   "outputs": [],
   "source": [
    "y.grad"
   ]
  },
  {
   "cell_type": "code",
   "execution_count": 29,
   "id": "6de3a216-a9f0-4c04-8053-1fdf24546cdb",
   "metadata": {},
   "outputs": [
    {
     "data": {
      "text/plain": [
       "tensor([24.])"
      ]
     },
     "execution_count": 29,
     "metadata": {},
     "output_type": "execute_result"
    }
   ],
   "source": [
    "x.grad"
   ]
  },
  {
   "cell_type": "markdown",
   "id": "851b5058-8ae6-48d5-9695-bc0df8265783",
   "metadata": {},
   "source": [
    "$\\frac{dz}{dx} = \\frac{dz}{dy} * \\frac{dy}{dx} = 3y^2 * 2 = 6(2x)^2 = 6*4x^2 = 24x^2$"
   ]
  },
  {
   "cell_type": "markdown",
   "id": "68d8a8ca-bb03-4f9e-8194-6a324ba08e59",
   "metadata": {},
   "source": [
    "# Machine learning"
   ]
  },
  {
   "cell_type": "markdown",
   "id": "78e8e151-144f-4b65-a326-c56528250eed",
   "metadata": {},
   "source": [
    "## Prepare a Perceptron\n",
    "\n",
    "We build a Perceptron with 2 inputs, 5 hidden neurons, 1 output neuron"
   ]
  },
  {
   "cell_type": "code",
   "execution_count": 30,
   "id": "f9269883-89fc-4fab-8e90-dca1ffece791",
   "metadata": {},
   "outputs": [],
   "source": [
    "class Perceptron(torch.nn.Module):\n",
    "    \n",
    "    def __init__(self, input_size, hidden_size, output_size):\n",
    "        \n",
    "        super().__init__()\n",
    "        self.layer1 = torch.nn.Linear(input_size, hidden_size)\n",
    "        self.layer2 = torch.nn.Linear(hidden_size, output_size)        \n",
    "        \n",
    "    def forward(self, input_vec):\n",
    "        \n",
    "        out1 = self.layer1(input_vec)\n",
    "        out2 = self.layer2(out1)\n",
    "        return out2        "
   ]
  },
  {
   "cell_type": "code",
   "execution_count": 31,
   "id": "5612f19a-9dfb-446f-90fe-71b1c0d60940",
   "metadata": {},
   "outputs": [],
   "source": [
    "p = Perceptron(2,5,1)"
   ]
  },
  {
   "cell_type": "code",
   "execution_count": 32,
   "id": "54481fc5-ad37-4f89-bef7-618cd86fb841",
   "metadata": {},
   "outputs": [
    {
     "data": {
      "text/plain": [
       "Perceptron(\n",
       "  (layer1): Linear(in_features=2, out_features=5, bias=True)\n",
       "  (layer2): Linear(in_features=5, out_features=1, bias=True)\n",
       ")"
      ]
     },
     "execution_count": 32,
     "metadata": {},
     "output_type": "execute_result"
    }
   ],
   "source": [
    "p"
   ]
  },
  {
   "cell_type": "code",
   "execution_count": 33,
   "id": "75760b71-ae00-40ad-8a7b-47e5a8eec4c0",
   "metadata": {},
   "outputs": [
    {
     "data": {
      "text/plain": [
       "torch.Size([5, 2])"
      ]
     },
     "execution_count": 33,
     "metadata": {},
     "output_type": "execute_result"
    }
   ],
   "source": [
    "p.layer1.weight.shape"
   ]
  },
  {
   "cell_type": "code",
   "execution_count": 34,
   "id": "81d1403e-43bb-4f96-b98f-9163a2a65c27",
   "metadata": {},
   "outputs": [
    {
     "data": {
      "text/plain": [
       "Parameter containing:\n",
       "tensor([[-0.0058, -0.0868],\n",
       "        [-0.5234,  0.0344],\n",
       "        [ 0.6240,  0.1887],\n",
       "        [-0.4924, -0.2622],\n",
       "        [-0.2386,  0.5131]], requires_grad=True)"
      ]
     },
     "execution_count": 34,
     "metadata": {},
     "output_type": "execute_result"
    }
   ],
   "source": [
    "p.layer1.weight"
   ]
  },
  {
   "cell_type": "code",
   "execution_count": 35,
   "id": "e34db121-b1bc-4dbc-80b6-00c29bc3e60d",
   "metadata": {},
   "outputs": [
    {
     "data": {
      "text/plain": [
       "Parameter containing:\n",
       "tensor([ 0.6559,  0.0313, -0.2060, -0.5471, -0.1566], requires_grad=True)"
      ]
     },
     "execution_count": 35,
     "metadata": {},
     "output_type": "execute_result"
    }
   ],
   "source": [
    "p.layer1.bias"
   ]
  },
  {
   "cell_type": "code",
   "execution_count": 36,
   "id": "fda786a7-919b-4dff-b10c-84bf41254034",
   "metadata": {},
   "outputs": [
    {
     "data": {
      "text/plain": [
       "torch.Size([1, 5])"
      ]
     },
     "execution_count": 36,
     "metadata": {},
     "output_type": "execute_result"
    }
   ],
   "source": [
    "p.layer2.weight.shape"
   ]
  },
  {
   "cell_type": "code",
   "execution_count": 37,
   "id": "50c111cd-c80b-4758-af67-a199f35dea0c",
   "metadata": {},
   "outputs": [
    {
     "data": {
      "text/plain": [
       "Parameter containing:\n",
       "tensor([[ 0.3013, -0.0798, -0.0337,  0.1695,  0.3993]], requires_grad=True)"
      ]
     },
     "execution_count": 37,
     "metadata": {},
     "output_type": "execute_result"
    }
   ],
   "source": [
    "p.layer2.weight"
   ]
  },
  {
   "cell_type": "code",
   "execution_count": 38,
   "id": "b75c41d0-11cb-41c4-92d7-7c1c492c1f3c",
   "metadata": {},
   "outputs": [
    {
     "data": {
      "text/plain": [
       "Parameter containing:\n",
       "tensor([-0.2070], requires_grad=True)"
      ]
     },
     "execution_count": 38,
     "metadata": {},
     "output_type": "execute_result"
    }
   ],
   "source": [
    "p.layer2.bias"
   ]
  },
  {
   "cell_type": "markdown",
   "id": "0298ee41-2718-407e-bc2d-a4ec5b53c7f7",
   "metadata": {},
   "source": [
    "## Feedforward with untrained Perceptron"
   ]
  },
  {
   "cell_type": "code",
   "execution_count": 39,
   "id": "2a45f69a-2376-4790-bac6-8c0ca6beade4",
   "metadata": {},
   "outputs": [],
   "source": [
    "input_vec = torch.tensor([1.0,3.0])"
   ]
  },
  {
   "cell_type": "code",
   "execution_count": 40,
   "id": "44e4a2ed-8d3a-4f13-9d94-4866833cefc3",
   "metadata": {},
   "outputs": [
    {
     "data": {
      "text/plain": [
       "tensor([0.0556], grad_fn=<AddBackward0>)"
      ]
     },
     "execution_count": 40,
     "metadata": {},
     "output_type": "execute_result"
    }
   ],
   "source": [
    "p(input_vec)"
   ]
  },
  {
   "cell_type": "code",
   "execution_count": 41,
   "id": "b31bf29f-2a11-4212-9230-992af29b705a",
   "metadata": {},
   "outputs": [
    {
     "data": {
      "text/plain": [
       "tensor([0.0556], grad_fn=<AddBackward0>)"
      ]
     },
     "execution_count": 41,
     "metadata": {},
     "output_type": "execute_result"
    }
   ],
   "source": [
    "p.forward(input_vec)"
   ]
  },
  {
   "cell_type": "markdown",
   "id": "2cab9c52-e74c-4529-bc9f-e7ed3bb9aae9",
   "metadata": {},
   "source": [
    "## Train the Perceptron"
   ]
  },
  {
   "cell_type": "code",
   "execution_count": 42,
   "id": "fb1afda2-d5b8-497b-910f-91743e97b34f",
   "metadata": {},
   "outputs": [],
   "source": [
    "p = Perceptron(2,5,1)\n",
    "loss_fn = torch.nn.MSELoss()\n",
    "optimizer = torch.optim.SGD(p.parameters(), lr=0.001)"
   ]
  },
  {
   "cell_type": "code",
   "execution_count": 43,
   "id": "49360e74-6a56-4c7b-ba41-220af7f78e7d",
   "metadata": {},
   "outputs": [
    {
     "data": {
      "text/plain": [
       "torch.nn.modules.loss.MSELoss"
      ]
     },
     "execution_count": 43,
     "metadata": {},
     "output_type": "execute_result"
    }
   ],
   "source": [
    "type(loss_fn)"
   ]
  },
  {
   "cell_type": "code",
   "execution_count": 44,
   "id": "ab07f6d2-a178-4d96-aaff-af861c48b470",
   "metadata": {},
   "outputs": [
    {
     "data": {
      "text/plain": [
       "torch.optim.sgd.SGD"
      ]
     },
     "execution_count": 44,
     "metadata": {},
     "output_type": "execute_result"
    }
   ],
   "source": [
    "type(optimizer)"
   ]
  },
  {
   "cell_type": "code",
   "execution_count": 45,
   "id": "edab3341-f7ef-4487-82b5-797c885e9091",
   "metadata": {},
   "outputs": [
    {
     "data": {
      "text/plain": [
       "(0.9446775790687395, 0.8358300286617169)"
      ]
     },
     "execution_count": 45,
     "metadata": {},
     "output_type": "execute_result"
    }
   ],
   "source": [
    "import numpy\n",
    "x1 = numpy.random.rand()\n",
    "x2 = numpy.random.rand()\n",
    "x1,x2"
   ]
  },
  {
   "cell_type": "code",
   "execution_count": 46,
   "id": "e86b0428-1195-4747-a340-81fc0bd37a10",
   "metadata": {},
   "outputs": [],
   "source": [
    "def get_ground_truth_output_from_input_tensor(input_vec):\n",
    "    x1 = input_vec[0].item()\n",
    "    x2 = input_vec[1].item()\n",
    "    \n",
    "    # target is x1+x2\n",
    "    #return torch.tensor( [x1+x2] )\n",
    "    \n",
    "    # target is x1-x2\n",
    "    return torch.tensor( [x1-x2] )"
   ]
  },
  {
   "cell_type": "code",
   "execution_count": 47,
   "id": "30fb1cd9-66a2-4064-8da1-a3c7515c90aa",
   "metadata": {},
   "outputs": [],
   "source": [
    "input_vec = torch.tensor([10,20])"
   ]
  },
  {
   "cell_type": "code",
   "execution_count": 48,
   "id": "a9c0429d-27a1-4e55-b9a4-6dabe9ea0236",
   "metadata": {},
   "outputs": [
    {
     "data": {
      "text/plain": [
       "tensor([10, 20])"
      ]
     },
     "execution_count": 48,
     "metadata": {},
     "output_type": "execute_result"
    }
   ],
   "source": [
    "input_vec"
   ]
  },
  {
   "cell_type": "code",
   "execution_count": 49,
   "id": "f9524773-4966-4a66-83f4-2185cb50a610",
   "metadata": {},
   "outputs": [
    {
     "data": {
      "text/plain": [
       "tensor([-10])"
      ]
     },
     "execution_count": 49,
     "metadata": {},
     "output_type": "execute_result"
    }
   ],
   "source": [
    "get_ground_truth_output_from_input_tensor( input_vec )"
   ]
  },
  {
   "cell_type": "code",
   "execution_count": 50,
   "id": "2a5592c9-87d3-4d37-81b2-dbd6454676b8",
   "metadata": {},
   "outputs": [
    {
     "name": "stdout",
     "output_type": "stream",
     "text": [
      "train_step= 0\n",
      "train_step= 10000\n",
      "train_step= 20000\n",
      "train_step= 30000\n",
      "train_step= 40000\n"
     ]
    }
   ],
   "source": [
    "p = Perceptron(2,5,1)\n",
    "loss_fn = torch.nn.MSELoss()\n",
    "optimizer = torch.optim.SGD(p.parameters(), lr=0.001)\n",
    "\n",
    "list_of_errors = []\n",
    "list_of_avg_errors = []\n",
    "\n",
    "for train_step in range(50000):\n",
    "    \n",
    "    if train_step % 10000 == 0:\n",
    "        print(\"train_step=\", train_step)\n",
    "    \n",
    "    # generate a training sample\n",
    "    x1 = numpy.random.rand()\n",
    "    x2 = numpy.random.rand()    \n",
    "    input_vec   = torch.tensor([x1,x2])\n",
    "    teacher_vec = get_ground_truth_output_from_input_tensor( input_vec )\n",
    "            \n",
    "    # forward step\n",
    "    y_pred = p(input_vec)\n",
    "    \n",
    "    # compute loss\n",
    "    loss = loss_fn(y_pred, teacher_vec)\n",
    "           \n",
    "    # save current loss for plotting it later\n",
    "    error = abs(teacher_vec-y_pred)\n",
    "    list_of_errors.append( error.item() )\n",
    "    \n",
    "    if len(list_of_errors) > 100 :\n",
    "        list_of_avg_errors.append( numpy.mean(list_of_errors[-100:]) )\n",
    "    \n",
    "    # backward step -> computes gradients\n",
    "    p.zero_grad()\n",
    "    loss.backward()\n",
    "    \n",
    "    # optimizer step -> adapts weights\n",
    "    optimizer.step()\n",
    "    \n",
    "    if False:\n",
    "        error = abs(teacher_vec-y_pred)\n",
    "        print( f\"teacher={teacher_vec}, predicted={y_pred:} -> error={error}\" )"
   ]
  },
  {
   "cell_type": "markdown",
   "id": "83dec349-9566-4d11-925b-f0d7b7b08df0",
   "metadata": {},
   "source": [
    "## Plot the loss curve"
   ]
  },
  {
   "cell_type": "code",
   "execution_count": 51,
   "id": "97a516b0-1bcf-429b-a351-fe1706567ad3",
   "metadata": {},
   "outputs": [
    {
     "data": {
      "text/plain": [
       "[0.41445048481225966,\n",
       " 0.4140040647983551,\n",
       " 0.41113012105226515,\n",
       " 0.41183425337076185,\n",
       " 0.4125582417845726,\n",
       " 0.4107319387793541,\n",
       " 0.41762366741895673,\n",
       " 0.4127373060584068,\n",
       " 0.40657838344573977,\n",
       " 0.4066884982585907,\n",
       " 0.40192349284887313,\n",
       " 0.39691743031144144,\n",
       " 0.39089787378907204,\n",
       " 0.39038226947188376,\n",
       " 0.3912961128354073,\n",
       " 0.38933017045259477,\n",
       " 0.39488825529813765,\n",
       " 0.3934152466058731,\n",
       " 0.39085964888334274,\n",
       " 0.38857494994997976]"
      ]
     },
     "execution_count": 51,
     "metadata": {},
     "output_type": "execute_result"
    }
   ],
   "source": [
    "list_of_avg_errors[:20]"
   ]
  },
  {
   "cell_type": "code",
   "execution_count": 52,
   "id": "34a1e6dd-bef7-44ab-bcc4-d1ba3858eb5c",
   "metadata": {},
   "outputs": [
    {
     "data": {
      "image/png": "[encoded data removed]",
      "text/plain": [
       "<Figure size 640x480 with 1 Axes>"
      ]
     },
     "metadata": {},
     "output_type": "display_data"
    }
   ],
   "source": [
    "import matplotlib.pyplot as plt\n",
    "\n",
    "plt.plot( list_of_avg_errors )\n",
    "plt.show()"
   ]
  },
  {
   "cell_type": "markdown",
   "id": "18dbd9bb-d450-4f69-9ad2-83d6a8531430",
   "metadata": {},
   "source": [
    "## Test the Perceptron"
   ]
  },
  {
   "cell_type": "code",
   "execution_count": 53,
   "id": "22b531e3-3298-4810-86ad-8951a024aad6",
   "metadata": {},
   "outputs": [
    {
     "data": {
      "text/plain": [
       "tensor([1.4454e-06], grad_fn=<AddBackward0>)"
      ]
     },
     "execution_count": 53,
     "metadata": {},
     "output_type": "execute_result"
    }
   ],
   "source": [
    "p( torch.tensor( [0.5, 0.5] ) )"
   ]
  },
  {
   "cell_type": "code",
   "execution_count": 54,
   "id": "14ce989a-e467-4fe1-ba49-a4207bd6793f",
   "metadata": {},
   "outputs": [
    {
     "data": {
      "text/plain": [
       "tensor([0.1000], grad_fn=<AddBackward0>)"
      ]
     },
     "execution_count": 54,
     "metadata": {},
     "output_type": "execute_result"
    }
   ],
   "source": [
    "p( torch.tensor( [0.3, 0.2] ) )"
   ]
  },
  {
   "cell_type": "code",
   "execution_count": 55,
   "id": "789ed0ab-c8e2-4da3-863f-2e8c97c3c87b",
   "metadata": {},
   "outputs": [
    {
     "data": {
      "text/plain": [
       "tensor([-0.1000], grad_fn=<AddBackward0>)"
      ]
     },
     "execution_count": 55,
     "metadata": {},
     "output_type": "execute_result"
    }
   ],
   "source": [
    "p( torch.tensor( [0.2, 0.3] ) )"
   ]
  },
  {
   "cell_type": "code",
   "execution_count": 56,
   "id": "69609fa4-7b62-4e12-82e5-2ba33e5d751b",
   "metadata": {},
   "outputs": [
    {
     "data": {
      "text/plain": [
       "tensor([-3.6269e-05], grad_fn=<AddBackward0>)"
      ]
     },
     "execution_count": 56,
     "metadata": {},
     "output_type": "execute_result"
    }
   ],
   "source": [
    "p( torch.tensor( [1.0, 1.0] ) )"
   ]
  },
  {
   "cell_type": "code",
   "execution_count": null,
   "id": "bc41f5e5-833f-4bb5-8b89-99b04a6b7c6f",
   "metadata": {},
   "outputs": [],
   "source": []
  }
 ],
 "metadata": {
  "kernelspec": {
   "display_name": "Python 3 (ipykernel)",
   "language": "python",
   "name": "python3"
  },
  "language_info": {
   "codemirror_mode": {
    "name": "ipython",
    "version": 3
   },
   "file_extension": ".py",
   "mimetype": "text/x-python",
   "name": "python",
   "nbconvert_exporter": "python",
   "pygments_lexer": "ipython3",
   "version": "3.8.10"
  },
  "toc-autonumbering": true
 },
 "nbformat": 4,
 "nbformat_minor": 5
}
