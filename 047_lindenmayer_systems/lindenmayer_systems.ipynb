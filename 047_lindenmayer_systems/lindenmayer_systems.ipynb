{
 "cells": [
  {
   "cell_type": "markdown",
   "id": "spectacular-attachment",
   "metadata": {},
   "source": [
    "# Einführung in Lindenmayer-Systeme\n",
    "\n",
    "Von Jürgen Brauer\n",
    "\n",
    "Ein gutes Einführungsvideo in die Welt der Lindenmayer-Systeme ist:\n",
    "\n",
    "https://www.youtube.com/watch?v=f6ra024-ASY\n",
    "\n",
    "[8.5: L-Systems - The Nature of Code](https://www.youtube.com/watch?v=f6ra024-ASY)\n",
    "\n",
    "\n",
    "Nach 20 Minuten hat man hier eine gute Intuition, wie\n",
    "\n",
    "- L-Systeme funktionieren\n",
    "- wozu sie gut sind\n",
    "- wie man sie implementieren kann"
   ]
  },
  {
   "cell_type": "markdown",
   "id": "legendary-advertiser",
   "metadata": {},
   "source": [
    "# Kurzer Exkurs: Stack-ähnliche Datenstrukturen in Python"
   ]
  },
  {
   "cell_type": "code",
   "execution_count": 1,
   "id": "unlike-performer",
   "metadata": {},
   "outputs": [],
   "source": [
    "from collections import deque\n",
    "\n",
    "stack = deque()"
   ]
  },
  {
   "cell_type": "code",
   "execution_count": 2,
   "id": "female-costs",
   "metadata": {},
   "outputs": [
    {
     "data": {
      "text/plain": [
       "deque([])"
      ]
     },
     "execution_count": 2,
     "metadata": {},
     "output_type": "execute_result"
    }
   ],
   "source": [
    "stack"
   ]
  },
  {
   "cell_type": "code",
   "execution_count": 3,
   "id": "lesser-train",
   "metadata": {},
   "outputs": [],
   "source": [
    "stack.append(1)"
   ]
  },
  {
   "cell_type": "code",
   "execution_count": 4,
   "id": "nasty-senegal",
   "metadata": {},
   "outputs": [
    {
     "data": {
      "text/plain": [
       "deque([1])"
      ]
     },
     "execution_count": 4,
     "metadata": {},
     "output_type": "execute_result"
    }
   ],
   "source": [
    "stack"
   ]
  },
  {
   "cell_type": "code",
   "execution_count": 5,
   "id": "owned-mathematics",
   "metadata": {},
   "outputs": [],
   "source": [
    "stack.append(2)"
   ]
  },
  {
   "cell_type": "code",
   "execution_count": 6,
   "id": "attractive-biodiversity",
   "metadata": {},
   "outputs": [
    {
     "data": {
      "text/plain": [
       "deque([1, 2])"
      ]
     },
     "execution_count": 6,
     "metadata": {},
     "output_type": "execute_result"
    }
   ],
   "source": [
    "stack"
   ]
  },
  {
   "cell_type": "code",
   "execution_count": 7,
   "id": "moral-words",
   "metadata": {},
   "outputs": [],
   "source": [
    "stack.append(3)"
   ]
  },
  {
   "cell_type": "code",
   "execution_count": 8,
   "id": "wired-observer",
   "metadata": {},
   "outputs": [
    {
     "data": {
      "text/plain": [
       "deque([1, 2, 3])"
      ]
     },
     "execution_count": 8,
     "metadata": {},
     "output_type": "execute_result"
    }
   ],
   "source": [
    "stack"
   ]
  },
  {
   "cell_type": "code",
   "execution_count": 9,
   "id": "induced-values",
   "metadata": {},
   "outputs": [
    {
     "data": {
      "text/plain": [
       "3"
      ]
     },
     "execution_count": 9,
     "metadata": {},
     "output_type": "execute_result"
    }
   ],
   "source": [
    "stack.pop()"
   ]
  },
  {
   "cell_type": "code",
   "execution_count": 10,
   "id": "solved-teddy",
   "metadata": {},
   "outputs": [
    {
     "data": {
      "text/plain": [
       "deque([1, 2])"
      ]
     },
     "execution_count": 10,
     "metadata": {},
     "output_type": "execute_result"
    }
   ],
   "source": [
    "stack"
   ]
  },
  {
   "cell_type": "code",
   "execution_count": 11,
   "id": "expected-kernel",
   "metadata": {},
   "outputs": [
    {
     "data": {
      "text/plain": [
       "2"
      ]
     },
     "execution_count": 11,
     "metadata": {},
     "output_type": "execute_result"
    }
   ],
   "source": [
    "stack.pop()"
   ]
  },
  {
   "cell_type": "code",
   "execution_count": 12,
   "id": "economic-drama",
   "metadata": {},
   "outputs": [
    {
     "data": {
      "text/plain": [
       "deque([1])"
      ]
     },
     "execution_count": 12,
     "metadata": {},
     "output_type": "execute_result"
    }
   ],
   "source": [
    "stack"
   ]
  },
  {
   "cell_type": "code",
   "execution_count": 13,
   "id": "unexpected-aging",
   "metadata": {},
   "outputs": [
    {
     "data": {
      "text/plain": [
       "1"
      ]
     },
     "execution_count": 13,
     "metadata": {},
     "output_type": "execute_result"
    }
   ],
   "source": [
    "stack.pop()"
   ]
  },
  {
   "cell_type": "code",
   "execution_count": 14,
   "id": "guilty-comparison",
   "metadata": {},
   "outputs": [
    {
     "data": {
      "text/plain": [
       "deque([])"
      ]
     },
     "execution_count": 14,
     "metadata": {},
     "output_type": "execute_result"
    }
   ],
   "source": [
    "stack"
   ]
  },
  {
   "cell_type": "markdown",
   "id": "resident-celebration",
   "metadata": {},
   "source": [
    "# Turtle-Grafik\n",
    "\n",
    "L-System generieren Strings, die man als Zeichenbefehle von einem Turtle-Grafik-Objekt abarbeiten lassen kann.\n",
    "\n",
    "Damit wir später unsere generierten Strings visualisieren können, brauchen wir eine Zeichenmöglichkeit:\n",
    "\n",
    "    Befehl             | Bedeutung\n",
    "    ------------------ | --------------------------\n",
    "    F (move)           | vorwärts fahren um Länge s und dabei Linie zeichnen\n",
    "    L (turn)           | links drehen um Winkel w\n",
    "    R (turn)           | rechts drehen um Winkel w\n",
    "    [ (push_pose)      | Orientierung und Position der Turtle auf Stack legen\n",
    "    ] (pop_pose)       | Orientierung und Position der Turtle von Stack wiederherstellen"
   ]
  },
  {
   "cell_type": "code",
   "execution_count": 15,
   "id": "strategic-compact",
   "metadata": {},
   "outputs": [],
   "source": [
    "import cv2 as cv\n",
    "import numpy as np\n",
    "import matplotlib.pyplot as plt\n",
    "from collections import deque\n",
    "\n",
    "LINE_COLOR = (255,255,0) # yellow\n",
    "LINE_WIDTH = 2\n",
    "\n",
    "INTERMEDIATE_POINT_COLOR = (255,0,0)\n",
    "INTERMEDIATE_POINT_RADIUS = 3\n",
    "\n",
    "class turtle_graphics:\n",
    "    \n",
    "    def __init__(self, image_width, image_height):\n",
    "        self.image_width = image_width\n",
    "        self.image_height = image_height        \n",
    "        self.image = np.zeros(shape=(image_height, image_width, 3), dtype=np.uint8)                       \n",
    "        \n",
    "        self.pos    = [image_width//2, image_height//2]\n",
    "        self.orient = -np.pi/2\n",
    "        \n",
    "        self.draw_inter_mediate_points = False\n",
    "        \n",
    "        self.pose_stack = deque()\n",
    "        \n",
    "    \n",
    "    def move(self, length):\n",
    "        \n",
    "        old_pos = self.pos.copy()\n",
    "        \n",
    "        dx = np.cos(self.orient) * length\n",
    "        dy = np.sin(self.orient) * length\n",
    "        \n",
    "        self.pos[0] += dx\n",
    "        self.pos[1] += dy\n",
    "\n",
    "        cv.line(img=self.image,\n",
    "                pt1=( int(old_pos[0]),  int(old_pos[1]) ),\n",
    "                pt2=( int(self.pos[0]), int(self.pos[1]) ),\n",
    "                color=LINE_COLOR,\n",
    "                thickness=LINE_WIDTH)\n",
    "        \n",
    "        if self.draw_inter_mediate_points:\n",
    "            cv.circle(img=self.image,\n",
    "                      center=( int(self.pos[0]), int(self.pos[1]) ),\n",
    "                      radius=INTERMEDIATE_POINT_RADIUS,\n",
    "                      color=INTERMEDIATE_POINT_COLOR)\n",
    "        \n",
    "        \n",
    "\n",
    "    def turn(self, angle_degree):\n",
    "        \n",
    "        angle_radians = (angle_degree/360) * (2.0*np.pi)        \n",
    "        self.orient += angle_radians\n",
    "        \n",
    "\n",
    "        \n",
    "    def push_pose(self):\n",
    "        pose = (self.pos.copy(), self.orient)\n",
    "        self.pose_stack.append( pose )\n",
    "        \n",
    "        \n",
    "    def pop_pose(self):        \n",
    "        pose = self.pose_stack.pop()\n",
    "        self.pos = pose[0]\n",
    "        self.orient = pose[1]\n",
    "        \n",
    "        "
   ]
  },
  {
   "cell_type": "code",
   "execution_count": 16,
   "id": "fancy-webmaster",
   "metadata": {},
   "outputs": [],
   "source": [
    "t = turtle_graphics(image_width=100, image_height=100)\n",
    "\n",
    "t.draw_inter_mediate_points = True\n",
    "\n",
    "t.move(10)\n",
    "t.turn(-90)\n",
    "\n",
    "t.push_pose()\n",
    "\n",
    "t.move(10)\n",
    "t.turn(90)\n",
    "t.move(10)\n",
    "\n",
    "t.pop_pose()\n",
    "\n",
    "t.turn(180)\n",
    "t.move(10)\n",
    "t.turn(-90)\n",
    "t.move(10)"
   ]
  },
  {
   "cell_type": "code",
   "execution_count": 17,
   "id": "jewish-island",
   "metadata": {},
   "outputs": [
    {
     "data": {
      "image/png": "[encoded data removed]",
      "text/plain": [
       "<Figure size 432x288 with 1 Axes>"
      ]
     },
     "metadata": {
      "needs_background": "light"
     },
     "output_type": "display_data"
    }
   ],
   "source": [
    "plt.imshow(t.image)\n",
    "plt.show()"
   ]
  },
  {
   "cell_type": "markdown",
   "id": "broke-sleep",
   "metadata": {},
   "source": [
    "# Lindenmayer-System"
   ]
  },
  {
   "cell_type": "code",
   "execution_count": 18,
   "id": "large-arlington",
   "metadata": {},
   "outputs": [
    {
     "name": "stdout",
     "output_type": "stream",
     "text": [
      "generation #0: X\n"
     ]
    },
    {
     "data": {
      "image/png": "[encoded data removed]",
      "text/plain": [
       "<Figure size 720x720 with 1 Axes>"
      ]
     },
     "metadata": {
      "needs_background": "light"
     },
     "output_type": "display_data"
    },
    {
     "name": "stdout",
     "output_type": "stream",
     "text": [
      "generation #1: F+[[X]-X]-F[-FX]+X\n"
     ]
    },
    {
     "data": {
      "image/png": "[encoded data removed]",
      "text/plain": [
       "<Figure size 720x720 with 1 Axes>"
      ]
     },
     "metadata": {
      "needs_background": "light"
     },
     "output_type": "display_data"
    },
    {
     "name": "stdout",
     "output_type": "stream",
     "text": [
      "generation #2: FF+[[F+[[X]-X]-F[-FX]+X]-F+[[X]-X]-F[-FX]+X]-FF[-FFF+[[X]-X]-F[-FX]+X]+F+[[X]-X]-F[-FX]+X\n"
     ]
    },
    {
     "data": {
      "image/png": "[encoded data removed]",
      "text/plain": [
       "<Figure size 720x720 with 1 Axes>"
      ]
     },
     "metadata": {
      "needs_background": "light"
     },
     "output_type": "display_data"
    },
    {
     "name": "stdout",
     "output_type": "stream",
     "text": [
      "generation #3: FFFF+[[FF+[[F+[[X]-X]-F[-FX]+X]-F+[[X]-X]-F[-FX]+X]-FF[-FFF+[[X]-X]-F[-FX]+X]+F+[[X]-X]-F[-FX]+X]-FF+[[F+[[X]-X]-F[-FX]+X]-F+[[X]-X]-F[-FX]+X]-FF[-FFF+[[X]-X]-F[-FX]+X]+F+[[X]-X]-F[-FX]+X]-FFFF[-FFFFFF+[[F+[[X]-X]-F[-FX]+X]-F+[[X]-X]-F[-FX]+X]-FF[-FFF+[[X]-X]-F[-FX]+X]+F+[[X]-X]-F[-FX]+X]+FF+[[F+[[X]-X]-F[-FX]+X]-F+[[X]-X]-F[-FX]+X]-FF[-FFF+[[X]-X]-F[-FX]+X]+F+[[X]-X]-F[-FX]+X\n"
     ]
    },
    {
     "data": {
      "image/png": "[encoded data removed]",
      "text/plain": [
       "<Figure size 720x720 with 1 Axes>"
      ]
     },
     "metadata": {
      "needs_background": "light"
     },
     "output_type": "display_data"
    },
    {
     "name": "stdout",
     "output_type": "stream",
     "text": [
      "generation #4\n"
     ]
    },
    {
     "data": {
      "image/png": "[encoded data removed]",
      "text/plain": [
       "<Figure size 720x720 with 1 Axes>"
      ]
     },
     "metadata": {
      "needs_background": "light"
     },
     "output_type": "display_data"
    },
    {
     "name": "stdout",
     "output_type": "stream",
     "text": [
      "generation #5\n"
     ]
    },
    {
     "data": {
      "image/png": "[encoded data removed]",
      "text/plain": [
       "<Figure size 720x720 with 1 Axes>"
      ]
     },
     "metadata": {
      "needs_background": "light"
     },
     "output_type": "display_data"
    },
    {
     "name": "stdout",
     "output_type": "stream",
     "text": [
      "generation #6\n"
     ]
    },
    {
     "data": {
      "image/png": "[encoded data removed]",
      "text/plain": [
       "<Figure size 720x720 with 1 Axes>"
      ]
     },
     "metadata": {
      "needs_background": "light"
     },
     "output_type": "display_data"
    }
   ],
   "source": [
    "# activate one of the following L-systems\n",
    "# by decommenting the corresponding code lines!\n",
    "\n",
    "# L1: draws a hexagon\n",
    "\"\"\"\n",
    "P = { \"F\" : \"F+F\" }\n",
    "L = ( \"F\", P )\n",
    "NR_GENS = 4\n",
    "IMG_WIDTH  = 200\n",
    "IMG_HEIGHT = 200\n",
    "START_LENGTH = 20\n",
    "REDUCE_LENGTH = False\n",
    "ANGLE = 45\n",
    "\"\"\"\n",
    "\n",
    "\n",
    "# L2: nothing interesting\n",
    "\"\"\"\n",
    "P = { \"F\" : \"F+FF\" }\n",
    "L = ( \"F\", P )\n",
    "NR_GENS = 8\n",
    "IMG_WIDTH  = 200\n",
    "IMG_HEIGHT = 200\n",
    "START_LENGTH = 20\n",
    "REDUCE_LENGTH = False\n",
    "ANGLE = 45\n",
    "\"\"\"\n",
    "\n",
    "\n",
    "# L3: Koch snowflake\n",
    "# see https://en.wikipedia.org/wiki/Koch_snowflake#Representation_as_Lindenmayer_system\n",
    "\"\"\"\n",
    "P = { \"F\" : \"F+F--F+F\" }\n",
    "L = ( \"F--F--F\", P )\n",
    "NR_GENS = 5\n",
    "IMG_WIDTH  = 1500\n",
    "IMG_HEIGHT = 1500\n",
    "START_LENGTH = 20\n",
    "REDUCE_LENGTH = False\n",
    "ANGLE = 60\n",
    "\"\"\"\n",
    "\n",
    "\n",
    "# L4: Sierpinski Triangle\n",
    "# see https://en.wikipedia.org/wiki/L-system#Example_5:_Sierpinski_triangle\n",
    "\"\"\"\n",
    "P = { \"G\" : \"GG\",\n",
    "      \"F\" : \"F-G+F+G-F\"}\n",
    "L = ( \"F-G-G\", P )\n",
    "NR_GENS = 7\n",
    "IMG_WIDTH  = 1500\n",
    "IMG_HEIGHT = 1500\n",
    "START_LENGTH = 20\n",
    "REDUCE_LENGTH = False\n",
    "ANGLE = 120\n",
    "\"\"\"\n",
    "\n",
    "\n",
    "\n",
    "\n",
    "# L5: Flower\n",
    "# see https://en.wikipedia.org/wiki/L-system#Example_7:_Fractal_plant\n",
    "P = { \"X\" : \"F+[[X]-X]-F[-FX]+X\",\n",
    "      \"F\" : \"FF\"}\n",
    "L = ( \"X\", P )\n",
    "NR_GENS = 7\n",
    "IMG_WIDTH  = 500\n",
    "IMG_HEIGHT = 1500\n",
    "START_LENGTH = 20\n",
    "REDUCE_LENGTH = True\n",
    "ANGLE = 30\n",
    "\n",
    "\n",
    "\n",
    "DRAW_INTER_MEDIATE_POINTS = False\n",
    "\n",
    "\n",
    "def substitute(txt, P):\n",
    "    \n",
    "    new_txt = \"\"    \n",
    "    for c in txt:\n",
    "        \n",
    "        # is there a rule for character c\n",
    "        # in the set of production rules P?\n",
    "        if c in P:\n",
    "            # yes!\n",
    "            replace_txt = P[c]\n",
    "            new_txt += replace_txt\n",
    "        else:\n",
    "            # no! so just copy c to new text\n",
    "            # implicit: identity rule\n",
    "            new_txt += c\n",
    "            \n",
    "    return new_txt\n",
    "\n",
    "\n",
    "\n",
    "def txt_to_graphics(generation_nr, txt, length, angle):\n",
    "    \n",
    "    t = turtle_graphics(image_width=IMG_WIDTH, image_height=IMG_HEIGHT)\n",
    "    \n",
    "    t.draw_inter_mediate_points = DRAW_INTER_MEDIATE_POINTS\n",
    "        \n",
    "        \n",
    "    for c in txt:\n",
    "        if c==\"F\" or c==\"G\":\n",
    "            t.move(length)\n",
    "        elif c==\"+\":\n",
    "            t.turn(-angle)\n",
    "        elif c==\"-\":\n",
    "            t.turn(+angle)\n",
    "        elif c==\"[\":\n",
    "            t.push_pose()\n",
    "        elif c==\"]\":\n",
    "            t.pop_pose()\n",
    "     \n",
    "    plt.figure(figsize=(10,10))\n",
    "    plt.imshow(t.image)\n",
    "    plt.title(f\"generation: {generation_nr}\")\n",
    "    plt.show()\n",
    "    \n",
    "\n",
    "\n",
    "txt = L[0]\n",
    "P = L[1]\n",
    "length = START_LENGTH\n",
    "for gen_nr in range(0, NR_GENS):\n",
    "    \n",
    "    if gen_nr <= 3:\n",
    "        print(f\"generation #{gen_nr}: {txt}\")\n",
    "    else:\n",
    "        print(f\"generation #{gen_nr}\")\n",
    "    \n",
    "    txt_to_graphics(gen_nr, txt, length, ANGLE )\n",
    "    \n",
    "    txt = substitute( txt, P )\n",
    "    \n",
    "    if REDUCE_LENGTH:\n",
    "        length = length - 3"
   ]
  },
  {
   "cell_type": "code",
   "execution_count": null,
   "id": "further-consequence",
   "metadata": {},
   "outputs": [],
   "source": []
  }
 ],
 "metadata": {
  "kernelspec": {
   "display_name": "Python 3",
   "language": "python",
   "name": "python3"
  },
  "language_info": {
   "codemirror_mode": {
    "name": "ipython",
    "version": 3
   },
   "file_extension": ".py",
   "mimetype": "text/x-python",
   "name": "python",
   "nbconvert_exporter": "python",
   "pygments_lexer": "ipython3",
   "version": "3.9.16"
  },
  "toc": {
   "base_numbering": 1,
   "nav_menu": {},
   "number_sections": true,
   "sideBar": true,
   "skip_h1_title": false,
   "title_cell": "Table of Contents",
   "title_sidebar": "Contents",
   "toc_cell": false,
   "toc_position": {
    "height": "calc(100% - 180px)",
    "left": "10px",
    "top": "150px",
    "width": "247.333px"
   },
   "toc_section_display": true,
   "toc_window_display": true
  }
 },
 "nbformat": 4,
 "nbformat_minor": 5
}
