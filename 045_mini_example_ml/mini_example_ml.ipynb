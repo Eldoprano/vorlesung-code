{
 "cells": [
  {
   "cell_type": "markdown",
   "id": "0cb958e2-339f-4cfd-93f1-19decd24ec09",
   "metadata": {},
   "source": [
    "# Dependency Check"
   ]
  },
  {
   "cell_type": "code",
   "execution_count": 1,
   "id": "41ab6093-fcfc-44cc-bdd0-697eed0394b7",
   "metadata": {},
   "outputs": [],
   "source": [
    "import pandas"
   ]
  },
  {
   "cell_type": "code",
   "execution_count": 2,
   "id": "14d97862-616b-4154-a812-42cb47a67b10",
   "metadata": {},
   "outputs": [],
   "source": [
    "import sklearn"
   ]
  },
  {
   "cell_type": "code",
   "execution_count": 3,
   "id": "b9be80c8-9479-4b38-91b0-5bc7f9a328f8",
   "metadata": {},
   "outputs": [],
   "source": [
    "import matplotlib"
   ]
  },
  {
   "cell_type": "markdown",
   "id": "382538ab-d043-4f31-b67b-5b0a919d0c9b",
   "metadata": {},
   "source": [
    "# Erzeuge Beispieldaten"
   ]
  },
  {
   "cell_type": "code",
   "execution_count": 4,
   "id": "e9f81098-1355-43d6-91c1-e5c771f82072",
   "metadata": {},
   "outputs": [
    {
     "data": {
      "text/plain": [
       "0"
      ]
     },
     "execution_count": 4,
     "metadata": {},
     "output_type": "execute_result"
    }
   ],
   "source": [
    "import random\n",
    "random.randint(0,1)"
   ]
  },
  {
   "cell_type": "code",
   "execution_count": 5,
   "id": "9995c3bb-afef-4785-bc43-74bd3cd0d68e",
   "metadata": {},
   "outputs": [],
   "source": [
    "anz_kunden = 100\n",
    "\n",
    "d = {\"alter\":[],\n",
    "     \"einkommen\":[],\n",
    "     \"km_stand\":[],\n",
    "     \"kauf\":[]\n",
    "    }\n",
    "\n",
    "for kunde_id in range(anz_kunden):    \n",
    "    d[\"alter\"].append( random.randint(18,99) )\n",
    "    d[\"einkommen\"].append( random.randint(5000, 100000) )\n",
    "    d[\"km_stand\"].append( random.randint(0, 200000) )\n",
    "    if d[\"einkommen\"][-1] > 50000:\n",
    "        if d[\"km_stand\"][-1] < 30000:\n",
    "            d[\"kauf\"].append( 1 )\n",
    "        else:\n",
    "            d[\"kauf\"].append( 0 )\n",
    "    else:\n",
    "        d[\"kauf\"].append( 0 )"
   ]
  },
  {
   "cell_type": "code",
   "execution_count": 6,
   "id": "e5461085-2a8e-47b1-8e30-ca9b61366b56",
   "metadata": {},
   "outputs": [
    {
     "name": "stdout",
     "output_type": "stream",
     "text": [
      "[37, 26, 98, 96, 95]\n",
      "[66722, 17898, 68985, 62498, 88536]\n",
      "[198649, 41259, 153409, 48413, 134371]\n",
      "[0, 0, 0, 0, 0]\n"
     ]
    }
   ],
   "source": [
    "for key in d:\n",
    "    print(d[key][:5])"
   ]
  },
  {
   "cell_type": "code",
   "execution_count": 7,
   "id": "7919c505-f9ea-4ff7-9166-cae149c7ce25",
   "metadata": {},
   "outputs": [
    {
     "data": {
      "text/html": [
       "<div>\n",
       "<style scoped>\n",
       "    .dataframe tbody tr th:only-of-type {\n",
       "        vertical-align: middle;\n",
       "    }\n",
       "\n",
       "    .dataframe tbody tr th {\n",
       "        vertical-align: top;\n",
       "    }\n",
       "\n",
       "    .dataframe thead th {\n",
       "        text-align: right;\n",
       "    }\n",
       "</style>\n",
       "<table border=\"1\" class=\"dataframe\">\n",
       "  <thead>\n",
       "    <tr style=\"text-align: right;\">\n",
       "      <th></th>\n",
       "      <th>alter</th>\n",
       "      <th>einkommen</th>\n",
       "      <th>km_stand</th>\n",
       "      <th>kauf</th>\n",
       "    </tr>\n",
       "  </thead>\n",
       "  <tbody>\n",
       "    <tr>\n",
       "      <th>0</th>\n",
       "      <td>37</td>\n",
       "      <td>66722</td>\n",
       "      <td>198649</td>\n",
       "      <td>0</td>\n",
       "    </tr>\n",
       "    <tr>\n",
       "      <th>1</th>\n",
       "      <td>26</td>\n",
       "      <td>17898</td>\n",
       "      <td>41259</td>\n",
       "      <td>0</td>\n",
       "    </tr>\n",
       "    <tr>\n",
       "      <th>2</th>\n",
       "      <td>98</td>\n",
       "      <td>68985</td>\n",
       "      <td>153409</td>\n",
       "      <td>0</td>\n",
       "    </tr>\n",
       "    <tr>\n",
       "      <th>3</th>\n",
       "      <td>96</td>\n",
       "      <td>62498</td>\n",
       "      <td>48413</td>\n",
       "      <td>0</td>\n",
       "    </tr>\n",
       "    <tr>\n",
       "      <th>4</th>\n",
       "      <td>95</td>\n",
       "      <td>88536</td>\n",
       "      <td>134371</td>\n",
       "      <td>0</td>\n",
       "    </tr>\n",
       "    <tr>\n",
       "      <th>...</th>\n",
       "      <td>...</td>\n",
       "      <td>...</td>\n",
       "      <td>...</td>\n",
       "      <td>...</td>\n",
       "    </tr>\n",
       "    <tr>\n",
       "      <th>95</th>\n",
       "      <td>56</td>\n",
       "      <td>98908</td>\n",
       "      <td>129032</td>\n",
       "      <td>0</td>\n",
       "    </tr>\n",
       "    <tr>\n",
       "      <th>96</th>\n",
       "      <td>18</td>\n",
       "      <td>9685</td>\n",
       "      <td>135532</td>\n",
       "      <td>0</td>\n",
       "    </tr>\n",
       "    <tr>\n",
       "      <th>97</th>\n",
       "      <td>90</td>\n",
       "      <td>22513</td>\n",
       "      <td>79479</td>\n",
       "      <td>0</td>\n",
       "    </tr>\n",
       "    <tr>\n",
       "      <th>98</th>\n",
       "      <td>37</td>\n",
       "      <td>90741</td>\n",
       "      <td>2088</td>\n",
       "      <td>1</td>\n",
       "    </tr>\n",
       "    <tr>\n",
       "      <th>99</th>\n",
       "      <td>19</td>\n",
       "      <td>7659</td>\n",
       "      <td>20363</td>\n",
       "      <td>0</td>\n",
       "    </tr>\n",
       "  </tbody>\n",
       "</table>\n",
       "<p>100 rows × 4 columns</p>\n",
       "</div>"
      ],
      "text/plain": [
       "    alter  einkommen  km_stand  kauf\n",
       "0      37      66722    198649     0\n",
       "1      26      17898     41259     0\n",
       "2      98      68985    153409     0\n",
       "3      96      62498     48413     0\n",
       "4      95      88536    134371     0\n",
       "..    ...        ...       ...   ...\n",
       "95     56      98908    129032     0\n",
       "96     18       9685    135532     0\n",
       "97     90      22513     79479     0\n",
       "98     37      90741      2088     1\n",
       "99     19       7659     20363     0\n",
       "\n",
       "[100 rows x 4 columns]"
      ]
     },
     "execution_count": 7,
     "metadata": {},
     "output_type": "execute_result"
    }
   ],
   "source": [
    "t = pandas.DataFrame(d)\n",
    "t"
   ]
  },
  {
   "cell_type": "markdown",
   "id": "be1c9dda-929b-4383-9a58-1fb3de0ac060",
   "metadata": {},
   "source": [
    "# Input-Output-Split (x|y)"
   ]
  },
  {
   "cell_type": "code",
   "execution_count": 8,
   "id": "85caeec1-856c-4adb-9731-98844696f97e",
   "metadata": {},
   "outputs": [
    {
     "data": {
      "text/html": [
       "<div>\n",
       "<style scoped>\n",
       "    .dataframe tbody tr th:only-of-type {\n",
       "        vertical-align: middle;\n",
       "    }\n",
       "\n",
       "    .dataframe tbody tr th {\n",
       "        vertical-align: top;\n",
       "    }\n",
       "\n",
       "    .dataframe thead th {\n",
       "        text-align: right;\n",
       "    }\n",
       "</style>\n",
       "<table border=\"1\" class=\"dataframe\">\n",
       "  <thead>\n",
       "    <tr style=\"text-align: right;\">\n",
       "      <th></th>\n",
       "      <th>alter</th>\n",
       "      <th>einkommen</th>\n",
       "      <th>km_stand</th>\n",
       "    </tr>\n",
       "  </thead>\n",
       "  <tbody>\n",
       "    <tr>\n",
       "      <th>0</th>\n",
       "      <td>37</td>\n",
       "      <td>66722</td>\n",
       "      <td>198649</td>\n",
       "    </tr>\n",
       "    <tr>\n",
       "      <th>1</th>\n",
       "      <td>26</td>\n",
       "      <td>17898</td>\n",
       "      <td>41259</td>\n",
       "    </tr>\n",
       "    <tr>\n",
       "      <th>2</th>\n",
       "      <td>98</td>\n",
       "      <td>68985</td>\n",
       "      <td>153409</td>\n",
       "    </tr>\n",
       "    <tr>\n",
       "      <th>3</th>\n",
       "      <td>96</td>\n",
       "      <td>62498</td>\n",
       "      <td>48413</td>\n",
       "    </tr>\n",
       "    <tr>\n",
       "      <th>4</th>\n",
       "      <td>95</td>\n",
       "      <td>88536</td>\n",
       "      <td>134371</td>\n",
       "    </tr>\n",
       "    <tr>\n",
       "      <th>...</th>\n",
       "      <td>...</td>\n",
       "      <td>...</td>\n",
       "      <td>...</td>\n",
       "    </tr>\n",
       "    <tr>\n",
       "      <th>95</th>\n",
       "      <td>56</td>\n",
       "      <td>98908</td>\n",
       "      <td>129032</td>\n",
       "    </tr>\n",
       "    <tr>\n",
       "      <th>96</th>\n",
       "      <td>18</td>\n",
       "      <td>9685</td>\n",
       "      <td>135532</td>\n",
       "    </tr>\n",
       "    <tr>\n",
       "      <th>97</th>\n",
       "      <td>90</td>\n",
       "      <td>22513</td>\n",
       "      <td>79479</td>\n",
       "    </tr>\n",
       "    <tr>\n",
       "      <th>98</th>\n",
       "      <td>37</td>\n",
       "      <td>90741</td>\n",
       "      <td>2088</td>\n",
       "    </tr>\n",
       "    <tr>\n",
       "      <th>99</th>\n",
       "      <td>19</td>\n",
       "      <td>7659</td>\n",
       "      <td>20363</td>\n",
       "    </tr>\n",
       "  </tbody>\n",
       "</table>\n",
       "<p>100 rows × 3 columns</p>\n",
       "</div>"
      ],
      "text/plain": [
       "    alter  einkommen  km_stand\n",
       "0      37      66722    198649\n",
       "1      26      17898     41259\n",
       "2      98      68985    153409\n",
       "3      96      62498     48413\n",
       "4      95      88536    134371\n",
       "..    ...        ...       ...\n",
       "95     56      98908    129032\n",
       "96     18       9685    135532\n",
       "97     90      22513     79479\n",
       "98     37      90741      2088\n",
       "99     19       7659     20363\n",
       "\n",
       "[100 rows x 3 columns]"
      ]
     },
     "execution_count": 8,
     "metadata": {},
     "output_type": "execute_result"
    }
   ],
   "source": [
    "x = t[ [\"alter\", \"einkommen\", \"km_stand\"] ]\n",
    "x"
   ]
  },
  {
   "cell_type": "code",
   "execution_count": 9,
   "id": "c984ded2-5871-479a-89ee-a5eacdb71e67",
   "metadata": {},
   "outputs": [
    {
     "data": {
      "text/html": [
       "<div>\n",
       "<style scoped>\n",
       "    .dataframe tbody tr th:only-of-type {\n",
       "        vertical-align: middle;\n",
       "    }\n",
       "\n",
       "    .dataframe tbody tr th {\n",
       "        vertical-align: top;\n",
       "    }\n",
       "\n",
       "    .dataframe thead th {\n",
       "        text-align: right;\n",
       "    }\n",
       "</style>\n",
       "<table border=\"1\" class=\"dataframe\">\n",
       "  <thead>\n",
       "    <tr style=\"text-align: right;\">\n",
       "      <th></th>\n",
       "      <th>kauf</th>\n",
       "    </tr>\n",
       "  </thead>\n",
       "  <tbody>\n",
       "    <tr>\n",
       "      <th>0</th>\n",
       "      <td>0</td>\n",
       "    </tr>\n",
       "    <tr>\n",
       "      <th>1</th>\n",
       "      <td>0</td>\n",
       "    </tr>\n",
       "    <tr>\n",
       "      <th>2</th>\n",
       "      <td>0</td>\n",
       "    </tr>\n",
       "    <tr>\n",
       "      <th>3</th>\n",
       "      <td>0</td>\n",
       "    </tr>\n",
       "    <tr>\n",
       "      <th>4</th>\n",
       "      <td>0</td>\n",
       "    </tr>\n",
       "    <tr>\n",
       "      <th>...</th>\n",
       "      <td>...</td>\n",
       "    </tr>\n",
       "    <tr>\n",
       "      <th>95</th>\n",
       "      <td>0</td>\n",
       "    </tr>\n",
       "    <tr>\n",
       "      <th>96</th>\n",
       "      <td>0</td>\n",
       "    </tr>\n",
       "    <tr>\n",
       "      <th>97</th>\n",
       "      <td>0</td>\n",
       "    </tr>\n",
       "    <tr>\n",
       "      <th>98</th>\n",
       "      <td>1</td>\n",
       "    </tr>\n",
       "    <tr>\n",
       "      <th>99</th>\n",
       "      <td>0</td>\n",
       "    </tr>\n",
       "  </tbody>\n",
       "</table>\n",
       "<p>100 rows × 1 columns</p>\n",
       "</div>"
      ],
      "text/plain": [
       "    kauf\n",
       "0      0\n",
       "1      0\n",
       "2      0\n",
       "3      0\n",
       "4      0\n",
       "..   ...\n",
       "95     0\n",
       "96     0\n",
       "97     0\n",
       "98     1\n",
       "99     0\n",
       "\n",
       "[100 rows x 1 columns]"
      ]
     },
     "execution_count": 9,
     "metadata": {},
     "output_type": "execute_result"
    }
   ],
   "source": [
    "y = t[ [\"kauf\"] ]\n",
    "y"
   ]
  },
  {
   "cell_type": "markdown",
   "id": "cf59da23-4f94-4d22-b6e7-4151b6f431e5",
   "metadata": {},
   "source": [
    "# Train-Test-Split"
   ]
  },
  {
   "cell_type": "code",
   "execution_count": 10,
   "id": "bef29172-fa01-4839-8967-31753a70c780",
   "metadata": {},
   "outputs": [],
   "source": [
    "from sklearn.model_selection import train_test_split"
   ]
  },
  {
   "cell_type": "code",
   "execution_count": 11,
   "id": "bfba1a4d-857d-4916-8b9d-1fac63b8ecaa",
   "metadata": {},
   "outputs": [],
   "source": [
    "x_train, x_test, y_train, y_test = train_test_split(x, y, test_size=0.2)"
   ]
  },
  {
   "cell_type": "code",
   "execution_count": 12,
   "id": "493fb252-963b-45f5-ad35-136493eb8846",
   "metadata": {},
   "outputs": [
    {
     "data": {
      "text/html": [
       "<div>\n",
       "<style scoped>\n",
       "    .dataframe tbody tr th:only-of-type {\n",
       "        vertical-align: middle;\n",
       "    }\n",
       "\n",
       "    .dataframe tbody tr th {\n",
       "        vertical-align: top;\n",
       "    }\n",
       "\n",
       "    .dataframe thead th {\n",
       "        text-align: right;\n",
       "    }\n",
       "</style>\n",
       "<table border=\"1\" class=\"dataframe\">\n",
       "  <thead>\n",
       "    <tr style=\"text-align: right;\">\n",
       "      <th></th>\n",
       "      <th>alter</th>\n",
       "      <th>einkommen</th>\n",
       "      <th>km_stand</th>\n",
       "    </tr>\n",
       "  </thead>\n",
       "  <tbody>\n",
       "    <tr>\n",
       "      <th>2</th>\n",
       "      <td>98</td>\n",
       "      <td>68985</td>\n",
       "      <td>153409</td>\n",
       "    </tr>\n",
       "    <tr>\n",
       "      <th>38</th>\n",
       "      <td>34</td>\n",
       "      <td>86573</td>\n",
       "      <td>144182</td>\n",
       "    </tr>\n",
       "    <tr>\n",
       "      <th>31</th>\n",
       "      <td>87</td>\n",
       "      <td>52490</td>\n",
       "      <td>194355</td>\n",
       "    </tr>\n",
       "    <tr>\n",
       "      <th>72</th>\n",
       "      <td>50</td>\n",
       "      <td>53756</td>\n",
       "      <td>94113</td>\n",
       "    </tr>\n",
       "    <tr>\n",
       "      <th>34</th>\n",
       "      <td>83</td>\n",
       "      <td>20252</td>\n",
       "      <td>29804</td>\n",
       "    </tr>\n",
       "    <tr>\n",
       "      <th>...</th>\n",
       "      <td>...</td>\n",
       "      <td>...</td>\n",
       "      <td>...</td>\n",
       "    </tr>\n",
       "    <tr>\n",
       "      <th>32</th>\n",
       "      <td>82</td>\n",
       "      <td>21628</td>\n",
       "      <td>194493</td>\n",
       "    </tr>\n",
       "    <tr>\n",
       "      <th>62</th>\n",
       "      <td>18</td>\n",
       "      <td>86679</td>\n",
       "      <td>22876</td>\n",
       "    </tr>\n",
       "    <tr>\n",
       "      <th>91</th>\n",
       "      <td>85</td>\n",
       "      <td>36418</td>\n",
       "      <td>155128</td>\n",
       "    </tr>\n",
       "    <tr>\n",
       "      <th>9</th>\n",
       "      <td>37</td>\n",
       "      <td>28829</td>\n",
       "      <td>115117</td>\n",
       "    </tr>\n",
       "    <tr>\n",
       "      <th>83</th>\n",
       "      <td>97</td>\n",
       "      <td>43791</td>\n",
       "      <td>57680</td>\n",
       "    </tr>\n",
       "  </tbody>\n",
       "</table>\n",
       "<p>80 rows × 3 columns</p>\n",
       "</div>"
      ],
      "text/plain": [
       "    alter  einkommen  km_stand\n",
       "2      98      68985    153409\n",
       "38     34      86573    144182\n",
       "31     87      52490    194355\n",
       "72     50      53756     94113\n",
       "34     83      20252     29804\n",
       "..    ...        ...       ...\n",
       "32     82      21628    194493\n",
       "62     18      86679     22876\n",
       "91     85      36418    155128\n",
       "9      37      28829    115117\n",
       "83     97      43791     57680\n",
       "\n",
       "[80 rows x 3 columns]"
      ]
     },
     "execution_count": 12,
     "metadata": {},
     "output_type": "execute_result"
    }
   ],
   "source": [
    "x_train"
   ]
  },
  {
   "cell_type": "code",
   "execution_count": 13,
   "id": "5161b12e-89b3-4627-a874-6a79945faa42",
   "metadata": {},
   "outputs": [
    {
     "data": {
      "text/plain": [
       "(80, 3)"
      ]
     },
     "execution_count": 13,
     "metadata": {},
     "output_type": "execute_result"
    }
   ],
   "source": [
    "x_train.shape"
   ]
  },
  {
   "cell_type": "code",
   "execution_count": 14,
   "id": "dd4a076c-b2a5-47dd-bcae-45797cf7c999",
   "metadata": {},
   "outputs": [
    {
     "data": {
      "text/plain": [
       "(80, 1)"
      ]
     },
     "execution_count": 14,
     "metadata": {},
     "output_type": "execute_result"
    }
   ],
   "source": [
    "y_train.shape"
   ]
  },
  {
   "cell_type": "code",
   "execution_count": 15,
   "id": "52158755-216b-4082-9f07-b4267bfe28f7",
   "metadata": {},
   "outputs": [
    {
     "data": {
      "text/plain": [
       "(20, 3)"
      ]
     },
     "execution_count": 15,
     "metadata": {},
     "output_type": "execute_result"
    }
   ],
   "source": [
    "x_test.shape"
   ]
  },
  {
   "cell_type": "code",
   "execution_count": 16,
   "id": "faceef06-5c02-45a5-b778-a79ba6157c6f",
   "metadata": {},
   "outputs": [
    {
     "data": {
      "text/plain": [
       "(20, 1)"
      ]
     },
     "execution_count": 16,
     "metadata": {},
     "output_type": "execute_result"
    }
   ],
   "source": [
    "y_test.shape"
   ]
  },
  {
   "cell_type": "markdown",
   "id": "7acd1eb8-e657-4f39-9f95-fa3aeb59541b",
   "metadata": {},
   "source": [
    "# Machine Learning mit scikit-learn"
   ]
  },
  {
   "cell_type": "code",
   "execution_count": 17,
   "id": "f8842573-316c-4e0d-b996-7d98c41f38e4",
   "metadata": {},
   "outputs": [],
   "source": [
    "from sklearn import tree\n",
    "model = tree.DecisionTreeClassifier()\n",
    "model = model.fit(x_train, y_train)"
   ]
  },
  {
   "cell_type": "markdown",
   "id": "9f18d95b-d466-4fe7-9cda-420a777a67cf",
   "metadata": {},
   "source": [
    "# Decision Tree visualisieren"
   ]
  },
  {
   "cell_type": "code",
   "execution_count": 18,
   "id": "f70245b4-c8b4-4e22-a5f2-e05da81b84e4",
   "metadata": {},
   "outputs": [
    {
     "name": "stdout",
     "output_type": "stream",
     "text": [
      "|--- feature_2 <= 29778.00\n",
      "|   |--- feature_1 <= 54236.00\n",
      "|   |   |--- class: 0\n",
      "|   |--- feature_1 >  54236.00\n",
      "|   |   |--- class: 1\n",
      "|--- feature_2 >  29778.00\n",
      "|   |--- class: 0\n",
      "\n"
     ]
    }
   ],
   "source": [
    "txt = tree.export_text(model)\n",
    "print(txt)"
   ]
  },
  {
   "cell_type": "code",
   "execution_count": 19,
   "id": "95530b2b-f6e6-4506-9568-a59d222f7821",
   "metadata": {},
   "outputs": [
    {
     "data": {
      "text/plain": [
       "'Entscheidungsbaum.pdf'"
      ]
     },
     "execution_count": 19,
     "metadata": {},
     "output_type": "execute_result"
    }
   ],
   "source": [
    "import graphviz \n",
    "dot_data = tree.export_graphviz(model,\n",
    "                                out_file=None, \n",
    "                                feature_names=x_train.columns,\n",
    "                                class_names=[\"Kein Kauf\", \"Kauf\"],                                \n",
    "                                filled=True,\n",
    "                                rounded=True,  \n",
    "                                special_characters=True) \n",
    "graph = graphviz.Source(dot_data) \n",
    "graph.render(\"Entscheidungsbaum\")"
   ]
  },
  {
   "cell_type": "markdown",
   "id": "f965b6dd-6fc7-458d-8ab5-0fa0000159ac",
   "metadata": {},
   "source": [
    "# Modell anwenden"
   ]
  },
  {
   "cell_type": "code",
   "execution_count": 20,
   "id": "daf0afa9-e87b-4e1c-a283-92ddb5cd30d9",
   "metadata": {},
   "outputs": [
    {
     "data": {
      "text/html": [
       "<div>\n",
       "<style scoped>\n",
       "    .dataframe tbody tr th:only-of-type {\n",
       "        vertical-align: middle;\n",
       "    }\n",
       "\n",
       "    .dataframe tbody tr th {\n",
       "        vertical-align: top;\n",
       "    }\n",
       "\n",
       "    .dataframe thead th {\n",
       "        text-align: right;\n",
       "    }\n",
       "</style>\n",
       "<table border=\"1\" class=\"dataframe\">\n",
       "  <thead>\n",
       "    <tr style=\"text-align: right;\">\n",
       "      <th></th>\n",
       "      <th>alter</th>\n",
       "      <th>einkommen</th>\n",
       "      <th>km_stand</th>\n",
       "    </tr>\n",
       "  </thead>\n",
       "  <tbody>\n",
       "    <tr>\n",
       "      <th>64</th>\n",
       "      <td>75</td>\n",
       "      <td>74240</td>\n",
       "      <td>81129</td>\n",
       "    </tr>\n",
       "    <tr>\n",
       "      <th>29</th>\n",
       "      <td>48</td>\n",
       "      <td>58412</td>\n",
       "      <td>177096</td>\n",
       "    </tr>\n",
       "    <tr>\n",
       "      <th>10</th>\n",
       "      <td>78</td>\n",
       "      <td>67645</td>\n",
       "      <td>115540</td>\n",
       "    </tr>\n",
       "    <tr>\n",
       "      <th>82</th>\n",
       "      <td>89</td>\n",
       "      <td>67538</td>\n",
       "      <td>9638</td>\n",
       "    </tr>\n",
       "    <tr>\n",
       "      <th>53</th>\n",
       "      <td>94</td>\n",
       "      <td>21690</td>\n",
       "      <td>166681</td>\n",
       "    </tr>\n",
       "  </tbody>\n",
       "</table>\n",
       "</div>"
      ],
      "text/plain": [
       "    alter  einkommen  km_stand\n",
       "64     75      74240     81129\n",
       "29     48      58412    177096\n",
       "10     78      67645    115540\n",
       "82     89      67538      9638\n",
       "53     94      21690    166681"
      ]
     },
     "execution_count": 20,
     "metadata": {},
     "output_type": "execute_result"
    }
   ],
   "source": [
    "x_test[:5]"
   ]
  },
  {
   "cell_type": "code",
   "execution_count": 21,
   "id": "6c098277-88ee-4587-9564-5ad22f519814",
   "metadata": {},
   "outputs": [
    {
     "data": {
      "text/plain": [
       "(20, 3)"
      ]
     },
     "execution_count": 21,
     "metadata": {},
     "output_type": "execute_result"
    }
   ],
   "source": [
    "x_test.shape"
   ]
  },
  {
   "cell_type": "code",
   "execution_count": 22,
   "id": "965a670e-6d3e-4321-8add-00ffd53ce185",
   "metadata": {},
   "outputs": [
    {
     "data": {
      "text/plain": [
       "array([0, 0, 0, 1, 0, 0, 0, 0, 1, 0, 0, 0, 0, 0, 0, 0, 0, 0, 0, 0])"
      ]
     },
     "execution_count": 22,
     "metadata": {},
     "output_type": "execute_result"
    }
   ],
   "source": [
    "preds = model.predict(x_test)\n",
    "preds"
   ]
  },
  {
   "cell_type": "code",
   "execution_count": 23,
   "id": "9234e487-e585-4de8-9270-2bfd9d4c7d3a",
   "metadata": {},
   "outputs": [
    {
     "data": {
      "text/plain": [
       "array([0, 0, 0, 1, 0, 0, 0, 0, 1, 0, 0, 0, 0, 0, 0, 0, 0, 0, 0, 0])"
      ]
     },
     "execution_count": 23,
     "metadata": {},
     "output_type": "execute_result"
    }
   ],
   "source": [
    "y_test[\"kauf\"].values"
   ]
  },
  {
   "cell_type": "code",
   "execution_count": 32,
   "id": "ff93defd-5691-4e4a-8475-a51d045ae1cb",
   "metadata": {},
   "outputs": [
    {
     "name": "stderr",
     "output_type": "stream",
     "text": [
      "/home/juebrauer/prg/miniconda3/envs/e1/lib/python3.9/site-packages/sklearn/base.py:420: UserWarning: X does not have valid feature names, but DecisionTreeClassifier was fitted with feature names\n",
      "  warnings.warn(\n"
     ]
    },
    {
     "data": {
      "text/plain": [
       "array([1])"
      ]
     },
     "execution_count": 32,
     "metadata": {},
     "output_type": "execute_result"
    }
   ],
   "source": [
    "model.predict( [[46, 100000, 25000]] )"
   ]
  },
  {
   "cell_type": "code",
   "execution_count": null,
   "id": "06b78153-a8a8-47a9-98f5-7d0a45515c50",
   "metadata": {},
   "outputs": [],
   "source": []
  }
 ],
 "metadata": {
  "kernelspec": {
   "display_name": "Python 3",
   "language": "python",
   "name": "python3"
  },
  "language_info": {
   "codemirror_mode": {
    "name": "ipython",
    "version": 3
   },
   "file_extension": ".py",
   "mimetype": "text/x-python",
   "name": "python",
   "nbconvert_exporter": "python",
   "pygments_lexer": "ipython3",
   "version": "3.9.16"
  }
 },
 "nbformat": 4,
 "nbformat_minor": 5
}
