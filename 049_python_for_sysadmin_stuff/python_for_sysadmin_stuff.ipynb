{
 "cells": [
  {
   "cell_type": "markdown",
   "id": "bcb558d3-4179-4e41-96b4-afd3046b46eb",
   "metadata": {},
   "source": [
    "# Wichtige Bibliotheken im Kontext der Systemadiministration mit Python\n",
    "\n",
    "\n",
    "    sys: Die sys-Bibliothek bietet Zugriff auf Funktionen und Objekte, die vom Python-Interpreter verwendet werden. Sie ermöglicht das Manipulieren des Python-Laufzeitsystems, wie das Arbeiten mit Command-Line-Argumenten, das Beenden von Programmen und das Abrufen von Systeminformationen.\n",
    "\n",
    "    os: Die os-Bibliothek ermöglicht es, mit dem zugrundeliegenden Betriebssystem zu interagieren. Sie bietet Funktionen, um Dateien und Verzeichnisse zu erstellen, zu entfernen oder zu ändern, Umgebungsvariablen abzurufen und Prozesse zu verwalten.\n",
    "\n",
    "    time: Die time-Bibliothek bietet Funktionen zur Arbeit mit Zeit und Datum. Sie ermöglicht das Abrufen der aktuellen Zeit, das Messen von Zeitintervallen, das Umwandeln zwischen verschiedenen Zeitformaten und das Anhalten der Programmausführung für eine bestimmte Zeit.\n",
    "\n",
    "    subprocess: Mit der subprocess-Bibliothek können externe Prozesse gestartet, gesteuert und überwacht werden. Sie ermöglicht das Ausführen von Shell-Befehlen, das Kommunizieren mit externen Programmen und das Verarbeiten von deren Ausgaben.\n",
    "\n",
    "    re: Die re-Bibliothek (Regular Expressions) bietet Funktionen, um mit regulären Ausdrücken zu arbeiten. Sie ermöglicht das Durchsuchen, Ersetzen und Manipulieren von Texten anhand von Mustern, die flexible und komplexe Suchkriterien definieren.\n",
    "\n",
    "    os.path: os.path ist ein Untermodul der os-Bibliothek und enthält Funktionen zur Arbeit mit Datei- und Verzeichnispfaden. Es ermöglicht das Erstellen, Analysieren und Manipulieren von Pfaden auf eine plattformunabhängige Weise.\n",
    "\n",
    "    shutil: Die shutil-Bibliothek bietet Funktionen zum Kopieren, Verschieben und Löschen von Dateien und Verzeichnissen. Sie ermöglicht das Arbeiten mit Dateisystem-Operationen auf einer höheren Ebene als os und ist hilfreich bei der Durchführung von Dateimanipulationen."
   ]
  },
  {
   "cell_type": "markdown",
   "id": "59fe7d03-2ed4-4a8a-b5b9-430214fb1572",
   "metadata": {},
   "source": [
    "# Das System-Modul: `sys`"
   ]
  },
  {
   "cell_type": "markdown",
   "id": "824351f5-de10-4ee9-a7a2-c9331d0748ac",
   "metadata": {},
   "source": [
    "## Kommandozeilenparameter abrufen"
   ]
  },
  {
   "cell_type": "code",
   "execution_count": 3,
   "id": "d57e8db7-bd7d-41cb-a606-e82a62e14eb3",
   "metadata": {},
   "outputs": [
    {
     "name": "stdout",
     "output_type": "stream",
     "text": [
      "import sys\n",
      "\n",
      "if len(sys.argv) > 1:\n",
      "    for arg in sys.argv[1:]:\n",
      "        print(f\"Argument: {arg}\")\n",
      "else:\n",
      "    print(\"Keine Argumente übergeben.\")"
     ]
    }
   ],
   "source": [
    "!cat prg1.py"
   ]
  },
  {
   "cell_type": "code",
   "execution_count": 4,
   "id": "27a4c9e0-06b4-49d3-badc-b4807d0a0d73",
   "metadata": {},
   "outputs": [
    {
     "name": "stdout",
     "output_type": "stream",
     "text": [
      "Keine Argumente übergeben.\n"
     ]
    }
   ],
   "source": [
    "!python3 prg1.py"
   ]
  },
  {
   "cell_type": "code",
   "execution_count": 5,
   "id": "605fb0a9-b2b8-485b-9456-5a4120e0e6d3",
   "metadata": {},
   "outputs": [
    {
     "name": "stdout",
     "output_type": "stream",
     "text": [
      "Argument: delete\n",
      "Argument: all\n",
      "Argument: files\n"
     ]
    }
   ],
   "source": [
    "!python3 prg1.py delete all files"
   ]
  },
  {
   "cell_type": "markdown",
   "id": "69080bc7-4361-4e06-ab19-ad2b629c6f54",
   "metadata": {},
   "source": [
    "## Exit-Code für aufrufende Programme zur Verfügung stellen"
   ]
  },
  {
   "cell_type": "code",
   "execution_count": 14,
   "id": "4c1d122d-e8ba-40ab-ae88-99d4cde21318",
   "metadata": {},
   "outputs": [
    {
     "name": "stdout",
     "output_type": "stream",
     "text": [
      "Ausgabe des Programms:\n",
      "Ups!\n",
      "Da ist wohl was schief gelaufen!\n",
      "\n",
      "Exit-Code: 42\n"
     ]
    }
   ],
   "source": [
    "# Dieses \"Programm\" ruft prg2.py auf\n",
    "import subprocess\n",
    "result = subprocess.run([\"python3\", \"prg2.py\"], capture_output=True, text=True)\n",
    "\n",
    "print(f\"Ausgabe des Programms:\\n{result.stdout}\")\n",
    "print(f\"Exit-Code: {result.returncode}\")"
   ]
  },
  {
   "cell_type": "code",
   "execution_count": 15,
   "id": "cc1cd2e2-b3b0-4519-b8e8-3f9e7114aa2b",
   "metadata": {},
   "outputs": [
    {
     "data": {
      "text/plain": [
       "subprocess.CompletedProcess"
      ]
     },
     "execution_count": 15,
     "metadata": {},
     "output_type": "execute_result"
    }
   ],
   "source": [
    "type(result)"
   ]
  },
  {
   "cell_type": "code",
   "execution_count": 16,
   "id": "a29dced5-7e1d-4e2f-a2ee-877df02d2e05",
   "metadata": {},
   "outputs": [
    {
     "data": {
      "text/plain": [
       "str"
      ]
     },
     "execution_count": 16,
     "metadata": {},
     "output_type": "execute_result"
    }
   ],
   "source": [
    "type(result.stdout)"
   ]
  },
  {
   "cell_type": "code",
   "execution_count": 17,
   "id": "8b332102-19da-4aec-928e-cf73ecb0720b",
   "metadata": {},
   "outputs": [
    {
     "data": {
      "text/plain": [
       "'Ups!\\nDa ist wohl was schief gelaufen!\\n'"
      ]
     },
     "execution_count": 17,
     "metadata": {},
     "output_type": "execute_result"
    }
   ],
   "source": [
    "result.stdout"
   ]
  },
  {
   "cell_type": "code",
   "execution_count": 18,
   "id": "a33bf05b-1244-4c63-b86d-70a982009f7c",
   "metadata": {},
   "outputs": [
    {
     "data": {
      "text/plain": [
       "int"
      ]
     },
     "execution_count": 18,
     "metadata": {},
     "output_type": "execute_result"
    }
   ],
   "source": [
    "type(result.returncode)"
   ]
  },
  {
   "cell_type": "code",
   "execution_count": 19,
   "id": "6d0762ce-26b0-4460-9a2d-6ac8a21e0479",
   "metadata": {},
   "outputs": [
    {
     "data": {
      "text/plain": [
       "42"
      ]
     },
     "execution_count": 19,
     "metadata": {},
     "output_type": "execute_result"
    }
   ],
   "source": [
    "result.returncode"
   ]
  },
  {
   "cell_type": "raw",
   "id": "be12bc35-e34b-485a-965a-e225811e2f79",
   "metadata": {},
   "source": [
    "result.args"
   ]
  },
  {
   "cell_type": "markdown",
   "id": "dd2af805-5b33-49ec-a81f-810e1400f545",
   "metadata": {},
   "source": [
    "## Informationen über Python-Version zur Verfügung stellen"
   ]
  },
  {
   "cell_type": "code",
   "execution_count": 24,
   "id": "0087e6c7-d889-415e-8be7-1ac2312f6c3f",
   "metadata": {},
   "outputs": [
    {
     "name": "stdout",
     "output_type": "stream",
     "text": [
      "Python Version: 3.9.16 (main, Jan 11 2023, 16:05:54) \n",
      "[GCC 11.2.0]\n",
      "---\n",
      "Python Version Info: sys.version_info(major=3, minor=9, micro=16, releaselevel='final', serial=0)\n"
     ]
    }
   ],
   "source": [
    "import sys\n",
    "\n",
    "print(f\"Python Version: {sys.version}\")\n",
    "print(\"---\")\n",
    "print(f\"Python Version Info: {sys.version_info}\")"
   ]
  },
  {
   "cell_type": "code",
   "execution_count": 25,
   "id": "049c1eda-6a72-42ec-9b33-7914b7981815",
   "metadata": {},
   "outputs": [
    {
     "data": {
      "text/plain": [
       "str"
      ]
     },
     "execution_count": 25,
     "metadata": {},
     "output_type": "execute_result"
    }
   ],
   "source": [
    "type(sys.version)"
   ]
  },
  {
   "cell_type": "code",
   "execution_count": 27,
   "id": "0cf8cad7-cfc3-44fd-ba15-f9d1358321c9",
   "metadata": {},
   "outputs": [
    {
     "data": {
      "text/plain": [
       "3"
      ]
     },
     "execution_count": 27,
     "metadata": {},
     "output_type": "execute_result"
    }
   ],
   "source": [
    "sys.version_info.major"
   ]
  },
  {
   "cell_type": "code",
   "execution_count": 28,
   "id": "74e39bc0-1f23-43cd-954e-d137f13b5191",
   "metadata": {},
   "outputs": [
    {
     "data": {
      "text/plain": [
       "'final'"
      ]
     },
     "execution_count": 28,
     "metadata": {},
     "output_type": "execute_result"
    }
   ],
   "source": [
    "sys.version_info.releaselevel"
   ]
  },
  {
   "cell_type": "markdown",
   "id": "b38d3939-58aa-4864-91f2-040d77578c68",
   "metadata": {},
   "source": [
    "## Steuern der Pfade, nach der Python nach Modulen sucht\n",
    "\n",
    "Dies als Quizaufgabe durchführen!"
   ]
  },
  {
   "cell_type": "code",
   "execution_count": 29,
   "id": "5bbe3356-14bd-4bcf-84e1-0c05ff99e566",
   "metadata": {},
   "outputs": [
    {
     "ename": "ModuleNotFoundError",
     "evalue": "No module named 'SuperMathe'",
     "output_type": "error",
     "traceback": [
      "\u001b[0;31m---------------------------------------------------------------------------\u001b[0m",
      "\u001b[0;31mModuleNotFoundError\u001b[0m                       Traceback (most recent call last)",
      "Cell \u001b[0;32mIn[29], line 1\u001b[0m\n\u001b[0;32m----> 1\u001b[0m \u001b[38;5;28;01mimport\u001b[39;00m \u001b[38;5;21;01mSuperMathe\u001b[39;00m\n",
      "\u001b[0;31mModuleNotFoundError\u001b[0m: No module named 'SuperMathe'"
     ]
    }
   ],
   "source": [
    "import SuperMathe"
   ]
  },
  {
   "cell_type": "code",
   "execution_count": 30,
   "id": "cbd8e46b-3564-4e9a-a29c-010a1b7dc096",
   "metadata": {},
   "outputs": [
    {
     "data": {
      "text/plain": [
       "['/media/veracrypt1/09_src/central/049_python_for_sysadmin_stuff',\n",
       " '/home/juebrauer/prg/miniconda3/envs/e1/lib/python39.zip',\n",
       " '/home/juebrauer/prg/miniconda3/envs/e1/lib/python3.9',\n",
       " '/home/juebrauer/prg/miniconda3/envs/e1/lib/python3.9/lib-dynload',\n",
       " '',\n",
       " '/home/juebrauer/prg/miniconda3/envs/e1/lib/python3.9/site-packages']"
      ]
     },
     "execution_count": 30,
     "metadata": {},
     "output_type": "execute_result"
    }
   ],
   "source": [
    "import sys\n",
    "sys.path"
   ]
  },
  {
   "cell_type": "code",
   "execution_count": 31,
   "id": "7d8fd1c9-bfc3-43f6-912d-e732d402ca17",
   "metadata": {},
   "outputs": [],
   "source": [
    "new_path = \"A/B\"\n",
    "if new_path not in sys.path:\n",
    "    sys.path.append(new_path)"
   ]
  },
  {
   "cell_type": "code",
   "execution_count": 32,
   "id": "b8f282fb-d5c3-44d9-affe-7c6f32005e11",
   "metadata": {},
   "outputs": [
    {
     "data": {
      "text/plain": [
       "['/media/veracrypt1/09_src/central/049_python_for_sysadmin_stuff',\n",
       " '/home/juebrauer/prg/miniconda3/envs/e1/lib/python39.zip',\n",
       " '/home/juebrauer/prg/miniconda3/envs/e1/lib/python3.9',\n",
       " '/home/juebrauer/prg/miniconda3/envs/e1/lib/python3.9/lib-dynload',\n",
       " '',\n",
       " '/home/juebrauer/prg/miniconda3/envs/e1/lib/python3.9/site-packages',\n",
       " 'A/B']"
      ]
     },
     "execution_count": 32,
     "metadata": {},
     "output_type": "execute_result"
    }
   ],
   "source": [
    "sys.path"
   ]
  },
  {
   "cell_type": "code",
   "execution_count": 33,
   "id": "c792d094-e4f0-4bc8-b388-4f792c7607d2",
   "metadata": {},
   "outputs": [],
   "source": [
    "import SuperMathe"
   ]
  },
  {
   "cell_type": "code",
   "execution_count": 34,
   "id": "b841f7a9-8d01-49d4-aa01-38659ef60eac",
   "metadata": {},
   "outputs": [
    {
     "data": {
      "text/plain": [
       "9"
      ]
     },
     "execution_count": 34,
     "metadata": {},
     "output_type": "execute_result"
    }
   ],
   "source": [
    "SuperMathe.quadriere(3)"
   ]
  },
  {
   "cell_type": "code",
   "execution_count": 35,
   "id": "d0bb6e07-f7d5-4a9f-9fe4-19fec3b63e80",
   "metadata": {},
   "outputs": [
    {
     "name": "stdout",
     "output_type": "stream",
     "text": [
      "Help on function quadriere in module SuperMathe:\n",
      "\n",
      "quadriere(x)\n",
      "    Diese Funktion liefert nicht x, nicht 2x, NEIN,\n",
      "    x zum Quadrat zurück!\n",
      "\n"
     ]
    }
   ],
   "source": [
    "help(SuperMathe.quadriere)"
   ]
  },
  {
   "cell_type": "markdown",
   "id": "0387f0c9-0d69-4c3d-a67a-b862225629ad",
   "metadata": {},
   "source": [
    "## Betriebssystem feststellen"
   ]
  },
  {
   "cell_type": "code",
   "execution_count": 36,
   "id": "415db8a7-7671-4655-b037-86aa24a96d25",
   "metadata": {},
   "outputs": [
    {
     "name": "stdout",
     "output_type": "stream",
     "text": [
      "Betriebssystem: linux\n"
     ]
    }
   ],
   "source": [
    "import sys\n",
    "\n",
    "print(f\"Betriebssystem: {sys.platform}\")"
   ]
  },
  {
   "cell_type": "markdown",
   "id": "076c002a-09ec-488b-bdd1-f82d2345c234",
   "metadata": {},
   "source": [
    "## Ausgabe von `print()` umleiten"
   ]
  },
  {
   "cell_type": "code",
   "execution_count": 40,
   "id": "fcef2af4-5191-46e1-a156-55d7484f3223",
   "metadata": {},
   "outputs": [
    {
     "name": "stdout",
     "output_type": "stream",
     "text": [
      "Diese Zeile wird auf dem Bildschirm ausgegeben.\n"
     ]
    }
   ],
   "source": [
    "import sys\n",
    "\n",
    "with open(\"output.txt\", \"w\") as output_file:\n",
    "    original_stdout = sys.stdout\n",
    "    sys.stdout = output_file\n",
    "\n",
    "    print(\"Diese Zeile wird in der Datei 'output.txt' geschrieben.\")\n",
    "\n",
    "    sys.stdout = original_stdout\n",
    "\n",
    "print(\"Diese Zeile wird auf dem Bildschirm ausgegeben.\")"
   ]
  },
  {
   "cell_type": "markdown",
   "id": "cc8d09fd-a6c0-4456-8e48-1881cd1f85c2",
   "metadata": {},
   "source": [
    "## Ausgabe der Größe von Objekten in Bytes"
   ]
  },
  {
   "cell_type": "code",
   "execution_count": 48,
   "id": "387d7882-8ce3-4865-bb6b-a4f2f008f488",
   "metadata": {},
   "outputs": [
    {
     "name": "stdout",
     "output_type": "stream",
     "text": [
      "Größe der Liste in Byte: 152\n",
      "Größe des Strings in Byte: 61\n"
     ]
    }
   ],
   "source": [
    "import sys\n",
    "\n",
    "sample_list = [1, 2, 3, 4, 5, 6]\n",
    "print(f\"Größe der Liste in Byte: {sys.getsizeof(sample_list)}\")\n",
    "\n",
    "sample_string = \"Hallo, Welt!\"\n",
    "print(f\"Größe des Strings in Byte: {sys.getsizeof(sample_string)}\")"
   ]
  },
  {
   "cell_type": "markdown",
   "id": "a1d789b0-174b-4665-bb69-87660171ad08",
   "metadata": {},
   "source": [
    "# Das Betriebssystem-Modul: `os`"
   ]
  },
  {
   "cell_type": "markdown",
   "id": "dab0e16c-003a-4a56-93c6-0412c9dbc76c",
   "metadata": {},
   "source": [
    "## Aktuelles Verzeichnis abrufen, abändern, Liste von Dateien im Verzeichnis"
   ]
  },
  {
   "cell_type": "code",
   "execution_count": 1,
   "id": "d96e6e93-8899-4927-bf44-5da5989d0156",
   "metadata": {},
   "outputs": [
    {
     "name": "stdout",
     "output_type": "stream",
     "text": [
      "Aktuelles Verzeichnis: /media/veracrypt1/09_src/central/049_python_for_sysadmin_stuff\n",
      "Verzeichnis geändert zu: /media/veracrypt1/09_src/central/049_python_for_sysadmin_stuff/A/B\n"
     ]
    },
    {
     "data": {
      "text/plain": [
       "['SuperMathe.py', '.ipynb_checkpoints', '__pycache__']"
      ]
     },
     "execution_count": 1,
     "metadata": {},
     "output_type": "execute_result"
    }
   ],
   "source": [
    "import os\n",
    "\n",
    "# Aktuelles Verzeichnis abrufen\n",
    "current_directory = os.getcwd()\n",
    "print(f\"Aktuelles Verzeichnis: {current_directory}\")\n",
    "\n",
    "# Verzeichnis ändern\n",
    "os.chdir('A/B')\n",
    "print(f\"Verzeichnis geändert zu: {os.getcwd()}\")\n",
    "\n",
    "# Liste aller Dateien und Verzeichnisse im aktuellen Verzeichnis\n",
    "os.listdir()"
   ]
  },
  {
   "cell_type": "code",
   "execution_count": 3,
   "id": "bbadccbc-53b7-46a0-9416-fb1986df7c32",
   "metadata": {},
   "outputs": [
    {
     "name": "stdout",
     "output_type": "stream",
     "text": [
      "Help on built-in function listdir in module posix:\n",
      "\n",
      "listdir(path=None)\n",
      "    Return a list containing the names of the files in the directory.\n",
      "    \n",
      "    path can be specified as either str, bytes, or a path-like object.  If path is bytes,\n",
      "      the filenames returned will also be bytes; in all other circumstances\n",
      "      the filenames returned will be str.\n",
      "    If path is None, uses the path='.'.\n",
      "    On some platforms, path may also be specified as an open file descriptor;\\\n",
      "      the file descriptor must refer to a directory.\n",
      "      If this functionality is unavailable, using it raises NotImplementedError.\n",
      "    \n",
      "    The list is in arbitrary order.  It does not include the special\n",
      "    entries '.' and '..' even if they are present in the directory.\n",
      "\n"
     ]
    }
   ],
   "source": [
    "help(os.listdir)"
   ]
  },
  {
   "cell_type": "code",
   "execution_count": 6,
   "id": "0b6ef197-0618-4b1d-bb6d-ed29386d32c7",
   "metadata": {},
   "outputs": [
    {
     "name": "stdout",
     "output_type": "stream",
     "text": [
      "['SuperMathe.py', '.ipynb_checkpoints', '__pycache__']\n",
      "['SuperMathe.py', '.ipynb_checkpoints', '__pycache__']\n"
     ]
    }
   ],
   "source": [
    "print(os.listdir(\".\")) # ist das Gleiche wie ...\n",
    "print(os.listdir())"
   ]
  },
  {
   "cell_type": "code",
   "execution_count": 9,
   "id": "495c5357-ad05-4024-90a8-9f85641baae6",
   "metadata": {},
   "outputs": [
    {
     "data": {
      "text/plain": [
       "['juebrauer']"
      ]
     },
     "execution_count": 9,
     "metadata": {},
     "output_type": "execute_result"
    }
   ],
   "source": [
    "# Was für Benutzeraccounts gibt es auf diesem Rechner?\n",
    "os.listdir(\"/home\")"
   ]
  },
  {
   "cell_type": "markdown",
   "id": "0ccabc90-e60b-4071-8f22-f2513fefb558",
   "metadata": {},
   "source": [
    "## Verzeichnisse erstellen"
   ]
  },
  {
   "cell_type": "code",
   "execution_count": 16,
   "id": "2d767bf2-0175-4cf3-bf79-fbcc20de67f9",
   "metadata": {},
   "outputs": [],
   "source": [
    "new_directory = 'neues_verzeichnis'\n",
    "\n",
    "# Einzelnes Verzeichnis erstellen\n",
    "#os.mkdir(new_directory)\n",
    "\n",
    "# Mehrere Ebenen von Verzeichnissen erstellen\n",
    "# Erkläre hier auch die Bedeutung des Schalters `exist_ok`\n",
    "os.makedirs('verzeichnis1/verzeichnis2/verzeichnis3', exist_ok=True)"
   ]
  },
  {
   "cell_type": "code",
   "execution_count": 12,
   "id": "353cd451-d51d-4ecc-a280-f479e9351d00",
   "metadata": {},
   "outputs": [
    {
     "name": "stdout",
     "output_type": "stream",
     "text": [
      "Help on built-in function mkdir in module posix:\n",
      "\n",
      "mkdir(path, mode=511, *, dir_fd=None)\n",
      "    Create a directory.\n",
      "    \n",
      "    If dir_fd is not None, it should be a file descriptor open to a directory,\n",
      "      and path should be relative; path will then be relative to that directory.\n",
      "    dir_fd may not be implemented on your platform.\n",
      "      If it is unavailable, using it will raise a NotImplementedError.\n",
      "    \n",
      "    The mode argument is ignored on Windows.\n",
      "\n"
     ]
    }
   ],
   "source": [
    "help(os.mkdir)"
   ]
  },
  {
   "cell_type": "code",
   "execution_count": 13,
   "id": "6e4d33e0-d76a-4da8-bd2d-a4ef2baebbb2",
   "metadata": {},
   "outputs": [
    {
     "name": "stdout",
     "output_type": "stream",
     "text": [
      "Help on function makedirs in module os:\n",
      "\n",
      "makedirs(name, mode=511, exist_ok=False)\n",
      "    makedirs(name [, mode=0o777][, exist_ok=False])\n",
      "    \n",
      "    Super-mkdir; create a leaf directory and all intermediate ones.  Works like\n",
      "    mkdir, except that any intermediate path segment (not just the rightmost)\n",
      "    will be created if it does not exist. If the target directory already\n",
      "    exists, raise an OSError if exist_ok is False. Otherwise no exception is\n",
      "    raised.  This is recursive.\n",
      "\n"
     ]
    }
   ],
   "source": [
    "help(os.makedirs)"
   ]
  },
  {
   "cell_type": "markdown",
   "id": "4e58f890-fd28-4aef-b3d2-f702474eedff",
   "metadata": {},
   "source": [
    "## Datei oder Verzeichnis umbenennen"
   ]
  },
  {
   "cell_type": "code",
   "execution_count": 17,
   "id": "33c94895-f2f8-4dc1-b5dc-26569f810efd",
   "metadata": {},
   "outputs": [
    {
     "name": "stdout",
     "output_type": "stream",
     "text": [
      "neues_verzeichnis  __pycache__\tSuperMathe.py  verzeichnis1\n"
     ]
    }
   ],
   "source": [
    "!ls"
   ]
  },
  {
   "cell_type": "code",
   "execution_count": 18,
   "id": "10bb283d-68fe-475e-8e90-63a38701db7b",
   "metadata": {},
   "outputs": [],
   "source": [
    "!echo \"Halli-Hallo\" > alter_name.txt"
   ]
  },
  {
   "cell_type": "code",
   "execution_count": 19,
   "id": "2788f78a-5964-4ac6-af24-11dc0620ad5c",
   "metadata": {},
   "outputs": [
    {
     "name": "stdout",
     "output_type": "stream",
     "text": [
      "alter_name.txt\tneues_verzeichnis  __pycache__\tSuperMathe.py  verzeichnis1\n"
     ]
    }
   ],
   "source": [
    "!ls"
   ]
  },
  {
   "cell_type": "code",
   "execution_count": 20,
   "id": "b97d8af8-f7f4-435e-a8f7-15b110ea3967",
   "metadata": {},
   "outputs": [
    {
     "name": "stdout",
     "output_type": "stream",
     "text": [
      "Halli-Hallo\n"
     ]
    }
   ],
   "source": [
    "!cat alter_name.txt"
   ]
  },
  {
   "cell_type": "code",
   "execution_count": 21,
   "id": "6ec0a76f-9120-4878-a843-c9a0d33532ab",
   "metadata": {},
   "outputs": [],
   "source": [
    "os.rename('alter_name.txt', 'neuer_name.txt')"
   ]
  },
  {
   "cell_type": "code",
   "execution_count": 22,
   "id": "6e1413ba-18ad-44fe-aa5f-99aabbacc699",
   "metadata": {},
   "outputs": [
    {
     "name": "stdout",
     "output_type": "stream",
     "text": [
      "neuer_name.txt\tneues_verzeichnis  __pycache__\tSuperMathe.py  verzeichnis1\n"
     ]
    }
   ],
   "source": [
    "!ls"
   ]
  },
  {
   "cell_type": "code",
   "execution_count": 23,
   "id": "3b16ff7a-7940-45bb-a78e-7f63aa5d5e19",
   "metadata": {},
   "outputs": [
    {
     "data": {
      "text/plain": [
       "['SuperMathe.py',\n",
       " 'neues_verzeichnis',\n",
       " '.ipynb_checkpoints',\n",
       " 'verzeichnis1',\n",
       " '__pycache__',\n",
       " 'neuer_name.txt']"
      ]
     },
     "execution_count": 23,
     "metadata": {},
     "output_type": "execute_result"
    }
   ],
   "source": [
    "os.listdir()"
   ]
  },
  {
   "cell_type": "markdown",
   "id": "d080efe8-e521-486e-b910-7bc79c09c807",
   "metadata": {},
   "source": [
    "## Quizaufgabe: Dateienamen hinsichtlich Länge normalisieren\n",
    "\n",
    "1.) Erstelle eine Menge von leeren Dateien in Python:\n",
    "    \n",
    "    bild1.txt\n",
    "    bild17.txt\n",
    "    bild833.txt\n",
    "    bild32.txt\n",
    "    bild402.txt\n",
    "\n",
    "2.) Benenne die Dateien nun so NACHTRÄGLICH um, dass sie folgendermaßen heißen:\n",
    "\n",
    "    bild001.txt\n",
    "    bild017.txt\n",
    "    bild833.txt\n",
    "    bild032.txt\n",
    "    bild402.txt"
   ]
  },
  {
   "cell_type": "markdown",
   "id": "aa7b599a-7d9d-4335-b4a2-ab74168fa531",
   "metadata": {},
   "source": [
    "## Überprüfen, ob ein geg. Pfad eine Datei oder ein Verzeichnis ist\n",
    "\n",
    "Dies als Quizaufgabe durchführen!"
   ]
  },
  {
   "cell_type": "code",
   "execution_count": 10,
   "id": "75073411-a45d-41cf-a4c4-b905d25b3d55",
   "metadata": {},
   "outputs": [
    {
     "data": {
      "text/plain": [
       "'/media/veracrypt1/09_src/central/049_python_for_sysadmin_stuff'"
      ]
     },
     "execution_count": 10,
     "metadata": {},
     "output_type": "execute_result"
    }
   ],
   "source": [
    "import os\n",
    "os.getcwd()"
   ]
  },
  {
   "cell_type": "code",
   "execution_count": 11,
   "id": "1dde80cb-8d24-4a51-8432-eb25e9a03396",
   "metadata": {},
   "outputs": [
    {
     "data": {
      "text/plain": [
       "['python_for_sysadmin_stuff.ipynb',\n",
       " '.ipynb_checkpoints',\n",
       " 'prg2.py',\n",
       " 'prg1.py',\n",
       " 'A']"
      ]
     },
     "execution_count": 11,
     "metadata": {},
     "output_type": "execute_result"
    }
   ],
   "source": [
    "os.listdir()"
   ]
  },
  {
   "cell_type": "code",
   "execution_count": 13,
   "id": "af3f228c-f663-4f1d-9a24-5c935ef6f186",
   "metadata": {},
   "outputs": [],
   "source": [
    "os.mkdir(\"testdir\")"
   ]
  },
  {
   "cell_type": "code",
   "execution_count": 14,
   "id": "eddd2dd4-cde3-44f8-83ae-7034035d3953",
   "metadata": {},
   "outputs": [
    {
     "data": {
      "text/plain": [
       "['python_for_sysadmin_stuff.ipynb',\n",
       " '.ipynb_checkpoints',\n",
       " 'prg2.py',\n",
       " 'prg1.py',\n",
       " 'testdir',\n",
       " 'A']"
      ]
     },
     "execution_count": 14,
     "metadata": {},
     "output_type": "execute_result"
    }
   ],
   "source": [
    "os.listdir()"
   ]
  },
  {
   "cell_type": "code",
   "execution_count": 15,
   "id": "76aff3dc-cfb6-4e60-a068-9a33f557776c",
   "metadata": {},
   "outputs": [],
   "source": [
    "datei = open(\"testfile.txt\", \"w\")\n",
    "datei.write(\"Test 123\\n\")\n",
    "datei.close()"
   ]
  },
  {
   "cell_type": "code",
   "execution_count": 16,
   "id": "0ddf48e2-09e5-4b65-9a85-2ec966bd017f",
   "metadata": {},
   "outputs": [
    {
     "data": {
      "text/plain": [
       "['python_for_sysadmin_stuff.ipynb',\n",
       " '.ipynb_checkpoints',\n",
       " 'testfile.txt',\n",
       " 'prg2.py',\n",
       " 'prg1.py',\n",
       " 'testdir',\n",
       " 'A']"
      ]
     },
     "execution_count": 16,
     "metadata": {},
     "output_type": "execute_result"
    }
   ],
   "source": [
    "os.listdir()"
   ]
  },
  {
   "cell_type": "code",
   "execution_count": 17,
   "id": "3097d2b2-501e-433b-a0ac-886eead029c6",
   "metadata": {},
   "outputs": [
    {
     "data": {
      "text/plain": [
       "False"
      ]
     },
     "execution_count": 17,
     "metadata": {},
     "output_type": "execute_result"
    }
   ],
   "source": [
    "os.path.isfile(\"testdir\")"
   ]
  },
  {
   "cell_type": "code",
   "execution_count": 18,
   "id": "f8334d23-f744-4401-936b-cfec4774d8f6",
   "metadata": {},
   "outputs": [
    {
     "data": {
      "text/plain": [
       "True"
      ]
     },
     "execution_count": 18,
     "metadata": {},
     "output_type": "execute_result"
    }
   ],
   "source": [
    "os.path.isfile(\"testfile.txt\")"
   ]
  },
  {
   "cell_type": "code",
   "execution_count": 19,
   "id": "7e044d7a-e463-4aaf-aa49-192e6ab93d6b",
   "metadata": {},
   "outputs": [
    {
     "data": {
      "text/plain": [
       "True"
      ]
     },
     "execution_count": 19,
     "metadata": {},
     "output_type": "execute_result"
    }
   ],
   "source": [
    "os.path.exists(\"testdir\")"
   ]
  },
  {
   "cell_type": "code",
   "execution_count": 20,
   "id": "ba6461e8-9f8a-49ea-ba79-3f4bf9d36334",
   "metadata": {},
   "outputs": [
    {
     "data": {
      "text/plain": [
       "True"
      ]
     },
     "execution_count": 20,
     "metadata": {},
     "output_type": "execute_result"
    }
   ],
   "source": [
    "os.path.exists(\"testfile.txt\")"
   ]
  },
  {
   "cell_type": "code",
   "execution_count": 21,
   "id": "e3af304f-879e-4820-a05c-c569127b3b65",
   "metadata": {},
   "outputs": [
    {
     "data": {
      "text/plain": [
       "True"
      ]
     },
     "execution_count": 21,
     "metadata": {},
     "output_type": "execute_result"
    }
   ],
   "source": [
    "os.path.isdir(\"testdir\")"
   ]
  },
  {
   "cell_type": "code",
   "execution_count": 22,
   "id": "b8115110-006e-423f-adc5-2a1fac026619",
   "metadata": {},
   "outputs": [
    {
     "data": {
      "text/plain": [
       "False"
      ]
     },
     "execution_count": 22,
     "metadata": {},
     "output_type": "execute_result"
    }
   ],
   "source": [
    "os.path.isdir(\"testfile.txt\")"
   ]
  },
  {
   "cell_type": "markdown",
   "id": "24beada1-8541-42ac-8cb6-baa670d95343",
   "metadata": {},
   "source": [
    "## Eine Datei entfernen"
   ]
  },
  {
   "cell_type": "code",
   "execution_count": 23,
   "id": "674ff113-43e5-422a-96d3-510a62325e77",
   "metadata": {},
   "outputs": [
    {
     "data": {
      "text/plain": [
       "['python_for_sysadmin_stuff.ipynb',\n",
       " '.ipynb_checkpoints',\n",
       " 'testfile.txt',\n",
       " 'prg2.py',\n",
       " 'prg1.py',\n",
       " 'testdir',\n",
       " 'A']"
      ]
     },
     "execution_count": 23,
     "metadata": {},
     "output_type": "execute_result"
    }
   ],
   "source": [
    "os.listdir()"
   ]
  },
  {
   "cell_type": "code",
   "execution_count": 24,
   "id": "b1aa0b1c-3488-4b5a-8680-347e778c14b2",
   "metadata": {},
   "outputs": [],
   "source": [
    "# Eine Datei entfernen\n",
    "if os.path.exists(\"output.txt\"):\n",
    "    os.remove(\"output.txt\")"
   ]
  },
  {
   "cell_type": "code",
   "execution_count": 25,
   "id": "481b3594-7065-4705-8ed0-383e97fb26b9",
   "metadata": {},
   "outputs": [
    {
     "name": "stdout",
     "output_type": "stream",
     "text": [
      "Help on built-in function remove in module posix:\n",
      "\n",
      "remove(path, *, dir_fd=None)\n",
      "    Remove a file (same as unlink()).\n",
      "    \n",
      "    If dir_fd is not None, it should be a file descriptor open to a directory,\n",
      "      and path should be relative; path will then be relative to that directory.\n",
      "    dir_fd may not be implemented on your platform.\n",
      "      If it is unavailable, using it will raise a NotImplementedError.\n",
      "\n"
     ]
    }
   ],
   "source": [
    "help(os.remove)"
   ]
  },
  {
   "cell_type": "markdown",
   "id": "caa893bc-01a3-4f59-9928-2629074cb210",
   "metadata": {},
   "source": [
    "## Ein Verzeichnis entfernen"
   ]
  },
  {
   "cell_type": "code",
   "execution_count": 30,
   "id": "fc677fba-4305-455b-9521-8d03af414d4a",
   "metadata": {},
   "outputs": [],
   "source": [
    "if not os.path.exists(\"testdir\"):\n",
    "    os.mkdir(\"testdir\")"
   ]
  },
  {
   "cell_type": "code",
   "execution_count": 31,
   "id": "713c6783-69ec-4e4f-b103-73f85950f814",
   "metadata": {},
   "outputs": [
    {
     "data": {
      "text/plain": [
       "['python_for_sysadmin_stuff.ipynb',\n",
       " '.ipynb_checkpoints',\n",
       " 'testfile.txt',\n",
       " 'prg2.py',\n",
       " 'prg1.py',\n",
       " 'testdir',\n",
       " 'A']"
      ]
     },
     "execution_count": 31,
     "metadata": {},
     "output_type": "execute_result"
    }
   ],
   "source": [
    "os.listdir()"
   ]
  },
  {
   "cell_type": "code",
   "execution_count": 32,
   "id": "ebbff6d5-1ca3-409f-a4c7-2a181162895a",
   "metadata": {},
   "outputs": [],
   "source": [
    "# Ein leeres Verzeichnis entfernen\n",
    "os.rmdir('testdir')"
   ]
  },
  {
   "cell_type": "code",
   "execution_count": 33,
   "id": "2d5e734a-3e47-4cf0-b7ff-7827d2db8fcc",
   "metadata": {},
   "outputs": [
    {
     "data": {
      "text/plain": [
       "['python_for_sysadmin_stuff.ipynb',\n",
       " '.ipynb_checkpoints',\n",
       " 'testfile.txt',\n",
       " 'prg2.py',\n",
       " 'prg1.py',\n",
       " 'A']"
      ]
     },
     "execution_count": 33,
     "metadata": {},
     "output_type": "execute_result"
    }
   ],
   "source": [
    "os.listdir()"
   ]
  },
  {
   "cell_type": "code",
   "execution_count": 34,
   "id": "d34d1aeb-9092-45e7-bbfb-ed7160226c55",
   "metadata": {},
   "outputs": [
    {
     "ename": "FileNotFoundError",
     "evalue": "[Errno 2] No such file or directory: 'testdir'",
     "output_type": "error",
     "traceback": [
      "\u001b[0;31m---------------------------------------------------------------------------\u001b[0m",
      "\u001b[0;31mFileNotFoundError\u001b[0m                         Traceback (most recent call last)",
      "Cell \u001b[0;32mIn[34], line 3\u001b[0m\n\u001b[1;32m      1\u001b[0m \u001b[38;5;66;03m# Ein leeres Verzeichnis entfernen\u001b[39;00m\n\u001b[1;32m      2\u001b[0m \u001b[38;5;66;03m# Fehler, wenn das Verzeichnis nicht da ist!\u001b[39;00m\n\u001b[0;32m----> 3\u001b[0m \u001b[43mos\u001b[49m\u001b[38;5;241;43m.\u001b[39;49m\u001b[43mrmdir\u001b[49m\u001b[43m(\u001b[49m\u001b[38;5;124;43m'\u001b[39;49m\u001b[38;5;124;43mtestdir\u001b[39;49m\u001b[38;5;124;43m'\u001b[39;49m\u001b[43m)\u001b[49m\n",
      "\u001b[0;31mFileNotFoundError\u001b[0m: [Errno 2] No such file or directory: 'testdir'"
     ]
    }
   ],
   "source": [
    "# Ein leeres Verzeichnis entfernen\n",
    "# Fehler, wenn das Verzeichnis nicht da ist!\n",
    "os.rmdir('testdir')"
   ]
  },
  {
   "cell_type": "code",
   "execution_count": 39,
   "id": "6e9efe5d-7b82-4054-a7e4-532a4f83fb5f",
   "metadata": {},
   "outputs": [],
   "source": [
    "# Ein Verzeichnis und seinen Inhalt rekursiv entfernen\n",
    "# Erkläre, wieso die Bedeutung des Schalters ignore_errors\n",
    "import shutil\n",
    "shutil.rmtree('testdir', ignore_errors=True)"
   ]
  },
  {
   "cell_type": "code",
   "execution_count": 37,
   "id": "e0cbddb7-d1da-4a25-a2e6-2db97f943a17",
   "metadata": {},
   "outputs": [
    {
     "name": "stdout",
     "output_type": "stream",
     "text": [
      "Help on function rmtree in module shutil:\n",
      "\n",
      "rmtree(path, ignore_errors=False, onerror=None)\n",
      "    Recursively delete a directory tree.\n",
      "    \n",
      "    If ignore_errors is set, errors are ignored; otherwise, if onerror\n",
      "    is set, it is called to handle the error with arguments (func,\n",
      "    path, exc_info) where func is platform and implementation dependent;\n",
      "    path is the argument to that function that caused it to fail; and\n",
      "    exc_info is a tuple returned by sys.exc_info().  If ignore_errors\n",
      "    is false and onerror is None, an exception is raised.\n",
      "\n"
     ]
    }
   ],
   "source": [
    "help(shutil.rmtree)"
   ]
  },
  {
   "cell_type": "markdown",
   "id": "87b04be6-2d5f-4247-8459-4610c9ac1b9c",
   "metadata": {},
   "source": [
    "## Umgebungsvariablen abrufen und setzen"
   ]
  },
  {
   "cell_type": "code",
   "execution_count": 40,
   "id": "eb5b4d1d-8cbe-4d54-abad-9271d7d548cd",
   "metadata": {},
   "outputs": [
    {
     "name": "stdout",
     "output_type": "stream",
     "text": [
      "PATH-Variable: /home/juebrauer/prg/miniconda3/envs/e1/bin:/home/juebrauer/prg/go/bin:/home/juebrauer/prg/miniconda3/condabin:/usr/local/sbin:/usr/local/bin:/usr/sbin:/usr/bin:/sbin:/bin:/usr/games:/usr/local/games:/snap/bin:/snap/bin:/home/juebrauer/link_to_vcd/09_src/GoKurs/bin\n"
     ]
    }
   ],
   "source": [
    "# Umgebungsvariable abrufen\n",
    "path_variable = os.environ.get('PATH')\n",
    "print(f\"PATH-Variable: {path_variable}\")\n",
    "\n",
    "# Umgebungsvariable ändern\n",
    "os.environ['MY_DATABASE'] = 'http://123.456.789.000:9999'"
   ]
  },
  {
   "cell_type": "code",
   "execution_count": 41,
   "id": "c3123f84-1798-44b7-b721-50ef96e93f98",
   "metadata": {},
   "outputs": [
    {
     "data": {
      "text/plain": [
       "'http://123.456.789.000:9999'"
      ]
     },
     "execution_count": 41,
     "metadata": {},
     "output_type": "execute_result"
    }
   ],
   "source": [
    "os.environ.get(\"MY_DATABASE\")"
   ]
  },
  {
   "cell_type": "markdown",
   "id": "6974e98f-89ea-41e2-a8db-0f15c7e2738a",
   "metadata": {},
   "source": [
    "## Liste aller Umgebungsvariabeln erhalten"
   ]
  },
  {
   "cell_type": "code",
   "execution_count": 44,
   "id": "673e71d6-d3c0-48fc-b8de-35ed04e97ee6",
   "metadata": {},
   "outputs": [
    {
     "name": "stdout",
     "output_type": "stream",
     "text": [
      "SHELL: /bin/bash\n",
      "SESSION_MANAGER: local/juebrauer-ThinkPad-P72:@/tmp/.ICE-unix/2437,unix/juebrauer-ThinkPad-P72:/tmp/.ICE-unix/2437\n",
      "QT_ACCESSIBILITY: 1\n",
      "COLORTERM: truecolor\n",
      "XDG_CONFIG_DIRS: /etc/xdg/xdg-ubuntu:/etc/xdg\n",
      "SSH_AGENT_LAUNCHER: gnome-keyring\n",
      "XDG_MENU_PREFIX: gnome-\n",
      "GNOME_DESKTOP_SESSION_ID: this-is-deprecated\n",
      "CONDA_EXE: /home/juebrauer/prg/miniconda3/bin/conda\n",
      "_CE_M: \n",
      "LC_ADDRESS: de_DE.UTF-8\n",
      "GNOME_SHELL_SESSION_MODE: ubuntu\n",
      "LC_NAME: de_DE.UTF-8\n",
      "SSH_AUTH_SOCK: /run/user/1000/keyring/ssh\n",
      "XMODIFIERS: @im=ibus\n",
      "DESKTOP_SESSION: ubuntu\n",
      "LC_MONETARY: de_DE.UTF-8\n",
      "GTK_MODULES: gail:atk-bridge\n",
      "PWD: /home/juebrauer/link_to_vcd\n",
      "LOGNAME: juebrauer\n",
      "XDG_SESSION_DESKTOP: ubuntu\n",
      "XDG_SESSION_TYPE: x11\n",
      "CONDA_PREFIX: /home/juebrauer/prg/miniconda3/envs/e1\n",
      "GPG_AGENT_INFO: /run/user/1000/gnupg/S.gpg-agent:0:1\n",
      "SYSTEMD_EXEC_PID: 2474\n",
      "XAUTHORITY: /run/user/1000/gdm/Xauthority\n",
      "WINDOWPATH: 2\n",
      "HOME: /home/juebrauer\n",
      "USERNAME: juebrauer\n",
      "LC_PAPER: de_DE.UTF-8\n",
      "LANG: en_US.UTF-8\n",
      "LS_COLORS: rs=0:di=01;34:ln=01;36:mh=00:pi=40;33:so=01;35:do=01;35:bd=40;33;01:cd=40;33;01:or=40;31;01:mi=00:su=37;41:sg=30;43:ca=30;41:tw=30;42:ow=34;42:st=37;44:ex=01;32:*.tar=01;31:*.tgz=01;31:*.arc=01;31:*.arj=01;31:*.taz=01;31:*.lha=01;31:*.lz4=01;31:*.lzh=01;31:*.lzma=01;31:*.tlz=01;31:*.txz=01;31:*.tzo=01;31:*.t7z=01;31:*.zip=01;31:*.z=01;31:*.dz=01;31:*.gz=01;31:*.lrz=01;31:*.lz=01;31:*.lzo=01;31:*.xz=01;31:*.zst=01;31:*.tzst=01;31:*.bz2=01;31:*.bz=01;31:*.tbz=01;31:*.tbz2=01;31:*.tz=01;31:*.deb=01;31:*.rpm=01;31:*.jar=01;31:*.war=01;31:*.ear=01;31:*.sar=01;31:*.rar=01;31:*.alz=01;31:*.ace=01;31:*.zoo=01;31:*.cpio=01;31:*.7z=01;31:*.rz=01;31:*.cab=01;31:*.wim=01;31:*.swm=01;31:*.dwm=01;31:*.esd=01;31:*.jpg=01;35:*.jpeg=01;35:*.mjpg=01;35:*.mjpeg=01;35:*.gif=01;35:*.bmp=01;35:*.pbm=01;35:*.pgm=01;35:*.ppm=01;35:*.tga=01;35:*.xbm=01;35:*.xpm=01;35:*.tif=01;35:*.tiff=01;35:*.png=01;35:*.svg=01;35:*.svgz=01;35:*.mng=01;35:*.pcx=01;35:*.mov=01;35:*.mpg=01;35:*.mpeg=01;35:*.m2v=01;35:*.mkv=01;35:*.webm=01;35:*.webp=01;35:*.ogm=01;35:*.mp4=01;35:*.m4v=01;35:*.mp4v=01;35:*.vob=01;35:*.qt=01;35:*.nuv=01;35:*.wmv=01;35:*.asf=01;35:*.rm=01;35:*.rmvb=01;35:*.flc=01;35:*.avi=01;35:*.fli=01;35:*.flv=01;35:*.gl=01;35:*.dl=01;35:*.xcf=01;35:*.xwd=01;35:*.yuv=01;35:*.cgm=01;35:*.emf=01;35:*.ogv=01;35:*.ogx=01;35:*.aac=00;36:*.au=00;36:*.flac=00;36:*.m4a=00;36:*.mid=00;36:*.midi=00;36:*.mka=00;36:*.mp3=00;36:*.mpc=00;36:*.ogg=00;36:*.ra=00;36:*.wav=00;36:*.oga=00;36:*.opus=00;36:*.spx=00;36:*.xspf=00;36:\n",
      "XDG_CURRENT_DESKTOP: ubuntu:GNOME\n",
      "VTE_VERSION: 6800\n",
      "CONDA_PROMPT_MODIFIER: (e1) \n",
      "GNOME_TERMINAL_SCREEN: /org/gnome/Terminal/screen/239be14c_fa40_4204_a968_23da4eaa24c7\n",
      "LESSCLOSE: /usr/bin/lesspipe %s %s\n",
      "XDG_SESSION_CLASS: user\n",
      "TERM: xterm-color\n",
      "LC_IDENTIFICATION: de_DE.UTF-8\n",
      "_CE_CONDA: \n",
      "LESSOPEN: | /usr/bin/lesspipe %s\n",
      "USER: juebrauer\n",
      "GNOME_TERMINAL_SERVICE: :1.247\n",
      "CONDA_SHLVL: 1\n",
      "DISPLAY: :1\n",
      "SHLVL: 0\n",
      "LC_TELEPHONE: de_DE.UTF-8\n",
      "QT_IM_MODULE: ibus\n",
      "LC_MEASUREMENT: de_DE.UTF-8\n",
      "CONDA_PYTHON_EXE: /home/juebrauer/prg/miniconda3/bin/python\n",
      "XDG_RUNTIME_DIR: /run/user/1000\n",
      "CONDA_DEFAULT_ENV: e1\n",
      "LC_TIME: de_DE.UTF-8\n",
      "XDG_DATA_DIRS: /usr/share/ubuntu:/usr/share/gnome:/usr/local/share/:/usr/share/:/var/lib/snapd/desktop\n",
      "PATH: /home/juebrauer/prg/miniconda3/envs/e1/bin:/home/juebrauer/prg/go/bin:/home/juebrauer/prg/miniconda3/condabin:/usr/local/sbin:/usr/local/bin:/usr/sbin:/usr/bin:/sbin:/bin:/usr/games:/usr/local/games:/snap/bin:/snap/bin:/home/juebrauer/link_to_vcd/09_src/GoKurs/bin\n",
      "GDMSESSION: ubuntu\n",
      "DBUS_SESSION_BUS_ADDRESS: unix:path=/run/user/1000/bus\n",
      "LC_NUMERIC: de_DE.UTF-8\n",
      "OLDPWD: /home/juebrauer/link_to_vcd/09_src\n",
      "GOPATH: /home/juebrauer/link_to_vcd/09_src/GoKurs/\n",
      "_: /home/juebrauer/prg/miniconda3/envs/e1/bin/jupyter\n",
      "JPY_SESSION_NAME: 09_src/central/049_python_for_sysadmin_stuff/155816d4-2c8a-442d-8e90-ea8e0a165300\n",
      "JPY_PARENT_PID: 11188\n",
      "CLICOLOR: 1\n",
      "PAGER: cat\n",
      "GIT_PAGER: cat\n",
      "MPLBACKEND: module://ipykernel.pylab.backend_inline\n",
      "MY_DATABASE: http://123.456.789.000:9999\n"
     ]
    }
   ],
   "source": [
    "# Alle Umgebungsvariablen und ihre Werte auflisten\n",
    "for key, value in os.environ.items():\n",
    "    print(f\"{key}: {value}\")"
   ]
  },
  {
   "cell_type": "markdown",
   "id": "018759e2-4a0f-45f2-a7fb-d7ae75b625a5",
   "metadata": {},
   "source": [
    "## Pfad in Komponenten aufteilen"
   ]
  },
  {
   "cell_type": "code",
   "execution_count": 43,
   "id": "14096a41-16ae-4810-bd26-ec756eeaab0d",
   "metadata": {},
   "outputs": [
    {
     "name": "stdout",
     "output_type": "stream",
     "text": [
      "Head: /pfad/unterpfad1/unterpfad2\n",
      "Tail: datei.txt\n"
     ]
    }
   ],
   "source": [
    "path = '/pfad/unterpfad1/unterpfad2/datei.txt'\n",
    "head, tail = os.path.split(path)\n",
    "print(f\"Head: {head}\")\n",
    "print(f\"Tail: {tail}\")"
   ]
  },
  {
   "cell_type": "code",
   "execution_count": null,
   "id": "4f627de5-46a5-4026-9348-9ed165a999e6",
   "metadata": {},
   "outputs": [],
   "source": []
  }
 ],
 "metadata": {
  "kernelspec": {
   "display_name": "Python 3",
   "language": "python",
   "name": "python3"
  },
  "language_info": {
   "codemirror_mode": {
    "name": "ipython",
    "version": 3
   },
   "file_extension": ".py",
   "mimetype": "text/x-python",
   "name": "python",
   "nbconvert_exporter": "python",
   "pygments_lexer": "ipython3",
   "version": "3.9.16"
  },
  "toc-autonumbering": true
 },
 "nbformat": 4,
 "nbformat_minor": 5
}
