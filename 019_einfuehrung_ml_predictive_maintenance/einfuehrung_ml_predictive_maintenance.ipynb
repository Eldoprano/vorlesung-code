{
 "cells": [
  {
   "cell_type": "markdown",
   "id": "f1019637",
   "metadata": {},
   "source": [
    "# Introduction: Predictive Maintenance\n",
    "\n",
    "Here we try to automatically detect component wear in a machine.\n",
    "\n",
    "The machine considered is *shrink-wrap packer* for bottles.\n",
    "\n",
    "The real data comes from a machine of the machine manufacturer *OCME*. Here you can see an image of the machine:\n",
    "\n",
    "https://www.ocme.com/en/our-solutions/secondary-packaging/vega\n",
    "\n",
    "The following video on YouTube gives a good impression of what a shrink wrap machine does:\n",
    "\n",
    "[Vega - OCME Shrink-wrap packers](https://www.youtube.com/watch?v=3oNMJ06EE-0)\n",
    "\n",
    "At minute 2, you can see one of the blades used.\n",
    "\n",
    "Here is the dataset at Kaggle:\n",
    "\n",
    "[One Year Industrial Component Degradation - Degration of a cutting blade](https://www.kaggle.com/inIT-OWL/one-year-industrial-component-degradation)\n",
    "\n",
    "The data set was also used in the public project [IMPROVE](http://improve-vfof.eu/project/use-cases/ocme/): A failure of the blades with a replacement time of about 4h costs the manufacturer about 13.000€."
   ]
  },
  {
   "cell_type": "markdown",
   "id": "917e2dac",
   "metadata": {},
   "source": [
    "# O: Obtain data"
   ]
  },
  {
   "cell_type": "markdown",
   "id": "def4e47b-edd7-4c04-8e9c-c2907c354e39",
   "metadata": {},
   "source": [
    "## Download data"
   ]
  },
  {
   "cell_type": "code",
   "execution_count": 1,
   "id": "a6be89b2",
   "metadata": {},
   "outputs": [
    {
     "data": {
      "text/plain": [
       "('data_shrink_wrapper_only_mode1.zip',\n",
       " <http.client.HTTPMessage at 0x7f85a054ae80>)"
      ]
     },
     "execution_count": 1,
     "metadata": {},
     "output_type": "execute_result"
    }
   ],
   "source": [
    "import urllib.request\n",
    "\n",
    "file_name = \"data_shrink_wrapper_only_mode1.zip\"\n",
    "\n",
    "urllib.request.urlretrieve( f\"http://www.juergenbrauer.org/course_data/{file_name}\",\n",
    "                            file_name)"
   ]
  },
  {
   "cell_type": "code",
   "execution_count": 2,
   "id": "0b19dcaf",
   "metadata": {},
   "outputs": [],
   "source": [
    "# -q: quiet\n",
    "# -o: overwrite existing files\n",
    "!unzip -q -o $file_name"
   ]
  },
  {
   "cell_type": "markdown",
   "id": "1fc4779a",
   "metadata": {},
   "source": [
    "## Get list of all files in the dataset"
   ]
  },
  {
   "cell_type": "code",
   "execution_count": 3,
   "id": "2457d42e",
   "metadata": {},
   "outputs": [],
   "source": [
    "from os import listdir\n",
    "from os.path import isfile, join\n",
    "\n",
    "folder_name = \"data_shrink_wrapper_only_mode1\"\n",
    "\n",
    "list_files = [f for f in listdir(folder_name) if isfile(join(folder_name, f))]"
   ]
  },
  {
   "cell_type": "code",
   "execution_count": 4,
   "id": "4cbaf79c",
   "metadata": {},
   "outputs": [
    {
     "data": {
      "text/plain": [
       "['01-05T141105_010_mode1.csv',\n",
       " '01-05T141834_014_mode1.csv',\n",
       " '02-03T115309_103_mode1.csv',\n",
       " '08-08T094646_359_mode1.csv',\n",
       " '10-30T095528_462_mode1.csv',\n",
       " '02-14T122330_118_mode1.csv',\n",
       " '09-19T085710_421_mode1.csv',\n",
       " '02-03T112914_102_mode1.csv',\n",
       " '07-05T112330_320_mode1.csv',\n",
       " '02-03T122317_104_mode1.csv']"
      ]
     },
     "execution_count": 4,
     "metadata": {},
     "output_type": "execute_result"
    }
   ],
   "source": [
    "list_files[:10]"
   ]
  },
  {
   "cell_type": "code",
   "execution_count": 5,
   "id": "db883da1",
   "metadata": {},
   "outputs": [
    {
     "data": {
      "text/plain": [
       "229"
      ]
     },
     "execution_count": 5,
     "metadata": {},
     "output_type": "execute_result"
    }
   ],
   "source": [
    "len( list_files )"
   ]
  },
  {
   "cell_type": "markdown",
   "id": "77fe4e63",
   "metadata": {},
   "source": [
    "## Sort files by filename/date"
   ]
  },
  {
   "cell_type": "code",
   "execution_count": 6,
   "id": "1195e3af",
   "metadata": {},
   "outputs": [],
   "source": [
    "list_files.sort()"
   ]
  },
  {
   "cell_type": "code",
   "execution_count": 7,
   "id": "b25802d2",
   "metadata": {},
   "outputs": [
    {
     "data": {
      "text/plain": [
       "['01-04T184148_000_mode1.csv',\n",
       " '01-04T184424_001_mode1.csv',\n",
       " '01-04T184835_002_mode1.csv',\n",
       " '01-04T185047_003_mode1.csv',\n",
       " '01-04T185257_004_mode1.csv',\n",
       " '01-05T123134_005_mode1.csv',\n",
       " '01-05T133345_006_mode1.csv',\n",
       " '01-05T133550_007_mode1.csv',\n",
       " '01-05T140727_008_mode1.csv',\n",
       " '01-05T140919_009_mode1.csv']"
      ]
     },
     "execution_count": 7,
     "metadata": {},
     "output_type": "execute_result"
    }
   ],
   "source": [
    "list_files[:10]"
   ]
  },
  {
   "cell_type": "code",
   "execution_count": 8,
   "id": "749fa4fe",
   "metadata": {},
   "outputs": [
    {
     "data": {
      "text/plain": [
       "['12-10T115528_499_mode1.csv',\n",
       " '12-10T123459_500_mode1.csv',\n",
       " '12-25T120128_507_mode1.csv',\n",
       " '12-25T124201_508_mode1.csv',\n",
       " '12-25T132503_509_mode1.csv',\n",
       " '12-25T140726_510_mode1.csv',\n",
       " '12-25T161546_511_mode1.csv',\n",
       " '12-25T163849_512_mode1.csv',\n",
       " '12-25T174528_513_mode1.csv',\n",
       " '12-25T180856_514_mode1.csv']"
      ]
     },
     "execution_count": 8,
     "metadata": {},
     "output_type": "execute_result"
    }
   ],
   "source": [
    "list_files[-10:]"
   ]
  },
  {
   "cell_type": "markdown",
   "id": "e0afdaac-08ac-45c1-8f9a-51850389174f",
   "metadata": {},
   "source": [
    "# E: Visual exploration of the data"
   ]
  },
  {
   "cell_type": "markdown",
   "id": "20fc6ea9",
   "metadata": {},
   "source": [
    "## Visualize one of the sensor time series"
   ]
  },
  {
   "cell_type": "code",
   "execution_count": 9,
   "id": "d30685c1",
   "metadata": {},
   "outputs": [
    {
     "data": {
      "text/plain": [
       "'01-04T184148_000_mode1.csv'"
      ]
     },
     "execution_count": 9,
     "metadata": {},
     "output_type": "execute_result"
    }
   ],
   "source": [
    "file_new_blade = list_files[0]\n",
    "file_new_blade"
   ]
  },
  {
   "cell_type": "code",
   "execution_count": 10,
   "id": "8538b54f",
   "metadata": {},
   "outputs": [
    {
     "data": {
      "text/plain": [
       "'12-25T180856_514_mode1.csv'"
      ]
     },
     "execution_count": 10,
     "metadata": {},
     "output_type": "execute_result"
    }
   ],
   "source": [
    "file_old_blade = list_files[-1]\n",
    "file_old_blade"
   ]
  },
  {
   "cell_type": "code",
   "execution_count": 11,
   "id": "37f8851e",
   "metadata": {},
   "outputs": [],
   "source": [
    "import pandas\n",
    "\n",
    "t_new = pandas.read_csv( f\"{folder_name}/{file_new_blade}\")"
   ]
  },
  {
   "cell_type": "code",
   "execution_count": 12,
   "id": "75381368",
   "metadata": {},
   "outputs": [
    {
     "data": {
      "text/html": [
       "<div>\n",
       "<style scoped>\n",
       "    .dataframe tbody tr th:only-of-type {\n",
       "        vertical-align: middle;\n",
       "    }\n",
       "\n",
       "    .dataframe tbody tr th {\n",
       "        vertical-align: top;\n",
       "    }\n",
       "\n",
       "    .dataframe thead th {\n",
       "        text-align: right;\n",
       "    }\n",
       "</style>\n",
       "<table border=\"1\" class=\"dataframe\">\n",
       "  <thead>\n",
       "    <tr style=\"text-align: right;\">\n",
       "      <th></th>\n",
       "      <th>timestamp</th>\n",
       "      <th>pCut::Motor_Torque</th>\n",
       "      <th>pCut::CTRL_Position_controller::Lag_error</th>\n",
       "      <th>pCut::CTRL_Position_controller::Actual_position</th>\n",
       "      <th>pCut::CTRL_Position_controller::Actual_speed</th>\n",
       "      <th>pSvolFilm::CTRL_Position_controller::Actual_position</th>\n",
       "      <th>pSvolFilm::CTRL_Position_controller::Actual_speed</th>\n",
       "      <th>pSvolFilm::CTRL_Position_controller::Lag_error</th>\n",
       "      <th>pSpintor::VAX_speed</th>\n",
       "    </tr>\n",
       "  </thead>\n",
       "  <tbody>\n",
       "    <tr>\n",
       "      <th>0</th>\n",
       "      <td>0.008000</td>\n",
       "      <td>0.199603</td>\n",
       "      <td>0.027420</td>\n",
       "      <td>628392628</td>\n",
       "      <td>-920.104980</td>\n",
       "      <td>5298555</td>\n",
       "      <td>2441.235352</td>\n",
       "      <td>0.899543</td>\n",
       "      <td>1379.999756</td>\n",
       "    </tr>\n",
       "    <tr>\n",
       "      <th>1</th>\n",
       "      <td>0.012000</td>\n",
       "      <td>0.281624</td>\n",
       "      <td>0.002502</td>\n",
       "      <td>628392625</td>\n",
       "      <td>-937.271118</td>\n",
       "      <td>5298565</td>\n",
       "      <td>2453.819092</td>\n",
       "      <td>0.874072</td>\n",
       "      <td>1379.999756</td>\n",
       "    </tr>\n",
       "    <tr>\n",
       "      <th>2</th>\n",
       "      <td>0.016000</td>\n",
       "      <td>0.349315</td>\n",
       "      <td>-0.018085</td>\n",
       "      <td>628392621</td>\n",
       "      <td>-951.004028</td>\n",
       "      <td>5298575</td>\n",
       "      <td>2476.469727</td>\n",
       "      <td>0.879806</td>\n",
       "      <td>1379.999756</td>\n",
       "    </tr>\n",
       "    <tr>\n",
       "      <th>3</th>\n",
       "      <td>0.020000</td>\n",
       "      <td>0.444450</td>\n",
       "      <td>-0.054680</td>\n",
       "      <td>628392617</td>\n",
       "      <td>-1019.668579</td>\n",
       "      <td>5298585</td>\n",
       "      <td>2501.637207</td>\n",
       "      <td>0.837500</td>\n",
       "      <td>1379.999756</td>\n",
       "    </tr>\n",
       "    <tr>\n",
       "      <th>4</th>\n",
       "      <td>0.024000</td>\n",
       "      <td>0.480923</td>\n",
       "      <td>-0.042770</td>\n",
       "      <td>628392613</td>\n",
       "      <td>-1023.101807</td>\n",
       "      <td>5298595</td>\n",
       "      <td>2519.254395</td>\n",
       "      <td>0.905347</td>\n",
       "      <td>1379.999756</td>\n",
       "    </tr>\n",
       "    <tr>\n",
       "      <th>...</th>\n",
       "      <td>...</td>\n",
       "      <td>...</td>\n",
       "      <td>...</td>\n",
       "      <td>...</td>\n",
       "      <td>...</td>\n",
       "      <td>...</td>\n",
       "      <td>...</td>\n",
       "      <td>...</td>\n",
       "      <td>...</td>\n",
       "    </tr>\n",
       "    <tr>\n",
       "      <th>2043</th>\n",
       "      <td>8.179999</td>\n",
       "      <td>0.371901</td>\n",
       "      <td>-0.012508</td>\n",
       "      <td>628403263</td>\n",
       "      <td>-1768.112183</td>\n",
       "      <td>5325580</td>\n",
       "      <td>2748.277588</td>\n",
       "      <td>1.031282</td>\n",
       "      <td>1199.999634</td>\n",
       "    </tr>\n",
       "    <tr>\n",
       "      <th>2044</th>\n",
       "      <td>8.183999</td>\n",
       "      <td>0.437352</td>\n",
       "      <td>-0.029764</td>\n",
       "      <td>628403256</td>\n",
       "      <td>-1802.444458</td>\n",
       "      <td>5325591</td>\n",
       "      <td>2763.377930</td>\n",
       "      <td>1.033880</td>\n",
       "      <td>1199.999634</td>\n",
       "    </tr>\n",
       "    <tr>\n",
       "      <th>2045</th>\n",
       "      <td>8.187999</td>\n",
       "      <td>0.474551</td>\n",
       "      <td>-0.020807</td>\n",
       "      <td>628403249</td>\n",
       "      <td>-1781.845093</td>\n",
       "      <td>5325602</td>\n",
       "      <td>2803.645752</td>\n",
       "      <td>0.962427</td>\n",
       "      <td>1199.999634</td>\n",
       "    </tr>\n",
       "    <tr>\n",
       "      <th>2046</th>\n",
       "      <td>8.191999</td>\n",
       "      <td>0.571133</td>\n",
       "      <td>-0.048983</td>\n",
       "      <td>628403242</td>\n",
       "      <td>-1860.809326</td>\n",
       "      <td>5325613</td>\n",
       "      <td>2823.779541</td>\n",
       "      <td>0.949072</td>\n",
       "      <td>1199.999634</td>\n",
       "    </tr>\n",
       "    <tr>\n",
       "      <th>2047</th>\n",
       "      <td>8.195999</td>\n",
       "      <td>0.525760</td>\n",
       "      <td>-0.031645</td>\n",
       "      <td>628403234</td>\n",
       "      <td>-1919.174194</td>\n",
       "      <td>5325625</td>\n",
       "      <td>2836.363281</td>\n",
       "      <td>0.971167</td>\n",
       "      <td>1199.999634</td>\n",
       "    </tr>\n",
       "  </tbody>\n",
       "</table>\n",
       "<p>2048 rows × 9 columns</p>\n",
       "</div>"
      ],
      "text/plain": [
       "      timestamp  pCut::Motor_Torque  \\\n",
       "0      0.008000            0.199603   \n",
       "1      0.012000            0.281624   \n",
       "2      0.016000            0.349315   \n",
       "3      0.020000            0.444450   \n",
       "4      0.024000            0.480923   \n",
       "...         ...                 ...   \n",
       "2043   8.179999            0.371901   \n",
       "2044   8.183999            0.437352   \n",
       "2045   8.187999            0.474551   \n",
       "2046   8.191999            0.571133   \n",
       "2047   8.195999            0.525760   \n",
       "\n",
       "      pCut::CTRL_Position_controller::Lag_error  \\\n",
       "0                                      0.027420   \n",
       "1                                      0.002502   \n",
       "2                                     -0.018085   \n",
       "3                                     -0.054680   \n",
       "4                                     -0.042770   \n",
       "...                                         ...   \n",
       "2043                                  -0.012508   \n",
       "2044                                  -0.029764   \n",
       "2045                                  -0.020807   \n",
       "2046                                  -0.048983   \n",
       "2047                                  -0.031645   \n",
       "\n",
       "      pCut::CTRL_Position_controller::Actual_position  \\\n",
       "0                                           628392628   \n",
       "1                                           628392625   \n",
       "2                                           628392621   \n",
       "3                                           628392617   \n",
       "4                                           628392613   \n",
       "...                                               ...   \n",
       "2043                                        628403263   \n",
       "2044                                        628403256   \n",
       "2045                                        628403249   \n",
       "2046                                        628403242   \n",
       "2047                                        628403234   \n",
       "\n",
       "      pCut::CTRL_Position_controller::Actual_speed  \\\n",
       "0                                      -920.104980   \n",
       "1                                      -937.271118   \n",
       "2                                      -951.004028   \n",
       "3                                     -1019.668579   \n",
       "4                                     -1023.101807   \n",
       "...                                            ...   \n",
       "2043                                  -1768.112183   \n",
       "2044                                  -1802.444458   \n",
       "2045                                  -1781.845093   \n",
       "2046                                  -1860.809326   \n",
       "2047                                  -1919.174194   \n",
       "\n",
       "      pSvolFilm::CTRL_Position_controller::Actual_position  \\\n",
       "0                                               5298555      \n",
       "1                                               5298565      \n",
       "2                                               5298575      \n",
       "3                                               5298585      \n",
       "4                                               5298595      \n",
       "...                                                 ...      \n",
       "2043                                            5325580      \n",
       "2044                                            5325591      \n",
       "2045                                            5325602      \n",
       "2046                                            5325613      \n",
       "2047                                            5325625      \n",
       "\n",
       "      pSvolFilm::CTRL_Position_controller::Actual_speed  \\\n",
       "0                                           2441.235352   \n",
       "1                                           2453.819092   \n",
       "2                                           2476.469727   \n",
       "3                                           2501.637207   \n",
       "4                                           2519.254395   \n",
       "...                                                 ...   \n",
       "2043                                        2748.277588   \n",
       "2044                                        2763.377930   \n",
       "2045                                        2803.645752   \n",
       "2046                                        2823.779541   \n",
       "2047                                        2836.363281   \n",
       "\n",
       "      pSvolFilm::CTRL_Position_controller::Lag_error  pSpintor::VAX_speed  \n",
       "0                                           0.899543          1379.999756  \n",
       "1                                           0.874072          1379.999756  \n",
       "2                                           0.879806          1379.999756  \n",
       "3                                           0.837500          1379.999756  \n",
       "4                                           0.905347          1379.999756  \n",
       "...                                              ...                  ...  \n",
       "2043                                        1.031282          1199.999634  \n",
       "2044                                        1.033880          1199.999634  \n",
       "2045                                        0.962427          1199.999634  \n",
       "2046                                        0.949072          1199.999634  \n",
       "2047                                        0.971167          1199.999634  \n",
       "\n",
       "[2048 rows x 9 columns]"
      ]
     },
     "execution_count": 12,
     "metadata": {},
     "output_type": "execute_result"
    }
   ],
   "source": [
    "t_new"
   ]
  },
  {
   "cell_type": "markdown",
   "id": "c8de0159",
   "metadata": {},
   "source": [
    "Each file is a ~8 second sample with a time resolution of 4ms that totals 2048 time-samples for every file."
   ]
  },
  {
   "cell_type": "code",
   "execution_count": 13,
   "id": "07ad7f50",
   "metadata": {},
   "outputs": [
    {
     "data": {
      "text/plain": [
       "2000"
      ]
     },
     "execution_count": 13,
     "metadata": {},
     "output_type": "execute_result"
    }
   ],
   "source": [
    "250 * 8"
   ]
  },
  {
   "cell_type": "code",
   "execution_count": 14,
   "id": "f5670ac4",
   "metadata": {},
   "outputs": [
    {
     "data": {
      "text/plain": [
       "0       0.199603\n",
       "1       0.281624\n",
       "2       0.349315\n",
       "3       0.444450\n",
       "4       0.480923\n",
       "          ...   \n",
       "2043    0.371901\n",
       "2044    0.437352\n",
       "2045    0.474551\n",
       "2046    0.571133\n",
       "2047    0.525760\n",
       "Name: pCut::Motor_Torque, Length: 2048, dtype: float64"
      ]
     },
     "execution_count": 14,
     "metadata": {},
     "output_type": "execute_result"
    }
   ],
   "source": [
    "t_new[\"pCut::Motor_Torque\"]"
   ]
  },
  {
   "cell_type": "markdown",
   "id": "41641039",
   "metadata": {},
   "source": [
    "Wir nehmen jetzt die Python-Bibliothek *Matplotlib* um mal den Verlauf einer der Merkmale über die Zeit zu visualisieren:"
   ]
  },
  {
   "cell_type": "code",
   "execution_count": 15,
   "id": "7491e1c2",
   "metadata": {},
   "outputs": [
    {
     "data": {
      "image/png": "[encoded data removed]",
      "text/plain": [
       "<Figure size 432x288 with 1 Axes>"
      ]
     },
     "metadata": {
      "needs_background": "light"
     },
     "output_type": "display_data"
    }
   ],
   "source": [
    "import matplotlib.pyplot as plt\n",
    "\n",
    "sensor_name = \"pCut::Motor_Torque\"\n",
    "\n",
    "plt.plot( t_new[sensor_name] )\n",
    "plt.xlabel(\"time stamp\")\n",
    "plt.ylabel(\"sensor value\")\n",
    "plt.title(sensor_name)\n",
    "plt.show()"
   ]
  },
  {
   "cell_type": "markdown",
   "id": "be99e661",
   "metadata": {},
   "source": [
    "## Visualize all sensor time series"
   ]
  },
  {
   "cell_type": "code",
   "execution_count": 16,
   "id": "7a37fe5e-3b57-47ee-8719-d155c1f1dff3",
   "metadata": {},
   "outputs": [
    {
     "data": {
      "text/plain": [
       "Index(['timestamp', 'pCut::Motor_Torque',\n",
       "       'pCut::CTRL_Position_controller::Lag_error',\n",
       "       'pCut::CTRL_Position_controller::Actual_position',\n",
       "       'pCut::CTRL_Position_controller::Actual_speed',\n",
       "       'pSvolFilm::CTRL_Position_controller::Actual_position',\n",
       "       'pSvolFilm::CTRL_Position_controller::Actual_speed',\n",
       "       'pSvolFilm::CTRL_Position_controller::Lag_error',\n",
       "       'pSpintor::VAX_speed'],\n",
       "      dtype='object')"
      ]
     },
     "execution_count": 16,
     "metadata": {},
     "output_type": "execute_result"
    }
   ],
   "source": [
    "t_new.columns"
   ]
  },
  {
   "cell_type": "code",
   "execution_count": 17,
   "id": "b6934316",
   "metadata": {},
   "outputs": [
    {
     "data": {
      "image/png": "[encoded data removed]",
      "text/plain": [
       "<Figure size 432x288 with 1 Axes>"
      ]
     },
     "metadata": {
      "needs_background": "light"
     },
     "output_type": "display_data"
    },
    {
     "data": {
      "image/png": "[encoded data removed]",
      "text/plain": [
       "<Figure size 432x288 with 1 Axes>"
      ]
     },
     "metadata": {
      "needs_background": "light"
     },
     "output_type": "display_data"
    },
    {
     "data": {
      "image/png": "[encoded data removed]",
      "text/plain": [
       "<Figure size 432x288 with 1 Axes>"
      ]
     },
     "metadata": {
      "needs_background": "light"
     },
     "output_type": "display_data"
    },
    {
     "data": {
      "image/png": "[encoded data removed]",
      "text/plain": [
       "<Figure size 432x288 with 1 Axes>"
      ]
     },
     "metadata": {
      "needs_background": "light"
     },
     "output_type": "display_data"
    },
    {
     "data": {
      "image/png": "[encoded data removed]",
      "text/plain": [
       "<Figure size 432x288 with 1 Axes>"
      ]
     },
     "metadata": {
      "needs_background": "light"
     },
     "output_type": "display_data"
    },
    {
     "data": {
      "image/png": "[encoded data removed]",
      "text/plain": [
       "<Figure size 432x288 with 1 Axes>"
      ]
     },
     "metadata": {
      "needs_background": "light"
     },
     "output_type": "display_data"
    },
    {
     "data": {
      "image/png": "[encoded data removed]",
      "text/plain": [
       "<Figure size 432x288 with 1 Axes>"
      ]
     },
     "metadata": {
      "needs_background": "light"
     },
     "output_type": "display_data"
    },
    {
     "data": {
      "image/png": "[encoded data removed]",
      "text/plain": [
       "<Figure size 432x288 with 1 Axes>"
      ]
     },
     "metadata": {
      "needs_background": "light"
     },
     "output_type": "display_data"
    },
    {
     "data": {
      "image/png": "[encoded data removed]",
      "text/plain": [
       "<Figure size 432x288 with 1 Axes>"
      ]
     },
     "metadata": {
      "needs_background": "light"
     },
     "output_type": "display_data"
    }
   ],
   "source": [
    "for sensor_name in t_new.columns:    \n",
    "    plt.plot( t_new[sensor_name] )\n",
    "    plt.xlabel(\"time stamp\")\n",
    "    plt.ylabel(sensor_name)\n",
    "    plt.title(sensor_name)\n",
    "    plt.show()"
   ]
  },
  {
   "cell_type": "markdown",
   "id": "3745eae8",
   "metadata": {},
   "source": [
    "## Multiple small figures in one large figure"
   ]
  },
  {
   "cell_type": "code",
   "execution_count": 18,
   "id": "e72978a0",
   "metadata": {},
   "outputs": [
    {
     "data": {
      "image/png": "[encoded data removed]",
      "text/plain": [
       "<Figure size 504x504 with 4 Axes>"
      ]
     },
     "metadata": {
      "needs_background": "light"
     },
     "output_type": "display_data"
    }
   ],
   "source": [
    "import numpy as np\n",
    "\n",
    "plt.figure(figsize=(7, 7))\n",
    "\n",
    "plt.subplot(2, 2, 1)\n",
    "plt.title(\"sin (Plot#1)\")\n",
    "plt.plot( [np.sin(x) for x in np.arange(0,2*np.pi,0.1)] )\n",
    "\n",
    "plt.subplot(2, 2, 2)\n",
    "plt.title(\"cos (Plot#2)\")\n",
    "plt.plot( [np.cos(x) for x in np.arange(0,2*np.pi,0.1)] )\n",
    "\n",
    "plt.subplot(2, 2, 3)\n",
    "plt.title(\"x^2 (Plot#3)\")\n",
    "plt.plot( [x**2 for x in np.arange(0,2*np.pi,0.1)] )\n",
    "\n",
    "plt.subplot(2, 2, 4)\n",
    "plt.title(\"sqrt(x) (Plot#4)\")\n",
    "plt.plot( [np.sqrt(x) for x in np.arange(0,2*np.pi,0.1)] )\n",
    "\n",
    "plt.show()"
   ]
  },
  {
   "cell_type": "markdown",
   "id": "a9885993",
   "metadata": {},
   "source": [
    "## Sensor data for a new vs. old blade"
   ]
  },
  {
   "cell_type": "code",
   "execution_count": 19,
   "id": "f3962eb5",
   "metadata": {},
   "outputs": [
    {
     "data": {
      "text/plain": [
       "'12-25T180856_514_mode1.csv'"
      ]
     },
     "execution_count": 19,
     "metadata": {},
     "output_type": "execute_result"
    }
   ],
   "source": [
    "file_old_blade"
   ]
  },
  {
   "cell_type": "code",
   "execution_count": 20,
   "id": "36fc9686",
   "metadata": {},
   "outputs": [],
   "source": [
    "t_old = pandas.read_csv( f\"{folder_name}/{file_old_blade}\")"
   ]
  },
  {
   "cell_type": "code",
   "execution_count": 21,
   "id": "ebf74a5f",
   "metadata": {},
   "outputs": [
    {
     "data": {
      "text/html": [
       "<div>\n",
       "<style scoped>\n",
       "    .dataframe tbody tr th:only-of-type {\n",
       "        vertical-align: middle;\n",
       "    }\n",
       "\n",
       "    .dataframe tbody tr th {\n",
       "        vertical-align: top;\n",
       "    }\n",
       "\n",
       "    .dataframe thead th {\n",
       "        text-align: right;\n",
       "    }\n",
       "</style>\n",
       "<table border=\"1\" class=\"dataframe\">\n",
       "  <thead>\n",
       "    <tr style=\"text-align: right;\">\n",
       "      <th></th>\n",
       "      <th>timestamp</th>\n",
       "      <th>pCut::Motor_Torque</th>\n",
       "      <th>pCut::CTRL_Position_controller::Lag_error</th>\n",
       "      <th>pCut::CTRL_Position_controller::Actual_position</th>\n",
       "      <th>pCut::CTRL_Position_controller::Actual_speed</th>\n",
       "      <th>pSvolFilm::CTRL_Position_controller::Actual_position</th>\n",
       "      <th>pSvolFilm::CTRL_Position_controller::Actual_speed</th>\n",
       "      <th>pSvolFilm::CTRL_Position_controller::Lag_error</th>\n",
       "      <th>pSpintor::VAX_speed</th>\n",
       "    </tr>\n",
       "  </thead>\n",
       "  <tbody>\n",
       "    <tr>\n",
       "      <th>0</th>\n",
       "      <td>0.008000</td>\n",
       "      <td>-0.225135</td>\n",
       "      <td>-0.081835</td>\n",
       "      <td>36056388</td>\n",
       "      <td>6955.718750</td>\n",
       "      <td>91488473</td>\n",
       "      <td>4034.330322</td>\n",
       "      <td>1.387123</td>\n",
       "      <td>1499.999756</td>\n",
       "    </tr>\n",
       "    <tr>\n",
       "      <th>1</th>\n",
       "      <td>0.012000</td>\n",
       "      <td>-0.187007</td>\n",
       "      <td>0.013778</td>\n",
       "      <td>36056416</td>\n",
       "      <td>7010.650391</td>\n",
       "      <td>91488489</td>\n",
       "      <td>4107.315430</td>\n",
       "      <td>1.293996</td>\n",
       "      <td>1499.999756</td>\n",
       "    </tr>\n",
       "    <tr>\n",
       "      <th>2</th>\n",
       "      <td>0.016000</td>\n",
       "      <td>-0.259524</td>\n",
       "      <td>0.065230</td>\n",
       "      <td>36056444</td>\n",
       "      <td>6863.021484</td>\n",
       "      <td>91488505</td>\n",
       "      <td>4049.430664</td>\n",
       "      <td>0.976738</td>\n",
       "      <td>1499.999756</td>\n",
       "    </tr>\n",
       "    <tr>\n",
       "      <th>3</th>\n",
       "      <td>0.020000</td>\n",
       "      <td>-0.424142</td>\n",
       "      <td>0.158631</td>\n",
       "      <td>36056472</td>\n",
       "      <td>6866.455078</td>\n",
       "      <td>91488521</td>\n",
       "      <td>4056.980957</td>\n",
       "      <td>0.773219</td>\n",
       "      <td>1499.999756</td>\n",
       "    </tr>\n",
       "    <tr>\n",
       "      <th>4</th>\n",
       "      <td>0.024000</td>\n",
       "      <td>-0.209355</td>\n",
       "      <td>0.120200</td>\n",
       "      <td>36056499</td>\n",
       "      <td>6821.822754</td>\n",
       "      <td>91488537</td>\n",
       "      <td>3812.857422</td>\n",
       "      <td>0.817901</td>\n",
       "      <td>1499.999756</td>\n",
       "    </tr>\n",
       "    <tr>\n",
       "      <th>...</th>\n",
       "      <td>...</td>\n",
       "      <td>...</td>\n",
       "      <td>...</td>\n",
       "      <td>...</td>\n",
       "      <td>...</td>\n",
       "      <td>...</td>\n",
       "      <td>...</td>\n",
       "      <td>...</td>\n",
       "      <td>...</td>\n",
       "    </tr>\n",
       "    <tr>\n",
       "      <th>2043</th>\n",
       "      <td>8.179999</td>\n",
       "      <td>0.393053</td>\n",
       "      <td>-0.019344</td>\n",
       "      <td>36069412</td>\n",
       "      <td>-1016.235352</td>\n",
       "      <td>91516463</td>\n",
       "      <td>2562.039062</td>\n",
       "      <td>0.871846</td>\n",
       "      <td>1499.999756</td>\n",
       "    </tr>\n",
       "    <tr>\n",
       "      <th>2044</th>\n",
       "      <td>8.183999</td>\n",
       "      <td>0.415674</td>\n",
       "      <td>-0.012012</td>\n",
       "      <td>36069408</td>\n",
       "      <td>-1026.535034</td>\n",
       "      <td>91516473</td>\n",
       "      <td>2534.354736</td>\n",
       "      <td>0.924133</td>\n",
       "      <td>1499.999756</td>\n",
       "    </tr>\n",
       "    <tr>\n",
       "      <th>2045</th>\n",
       "      <td>8.187999</td>\n",
       "      <td>0.368944</td>\n",
       "      <td>0.001564</td>\n",
       "      <td>36069404</td>\n",
       "      <td>-1050.567627</td>\n",
       "      <td>91516483</td>\n",
       "      <td>2539.388428</td>\n",
       "      <td>0.846560</td>\n",
       "      <td>1499.999756</td>\n",
       "    </tr>\n",
       "    <tr>\n",
       "      <th>2046</th>\n",
       "      <td>8.191999</td>\n",
       "      <td>0.328232</td>\n",
       "      <td>0.009434</td>\n",
       "      <td>36069400</td>\n",
       "      <td>-1098.632812</td>\n",
       "      <td>91516493</td>\n",
       "      <td>2526.804688</td>\n",
       "      <td>0.858582</td>\n",
       "      <td>1499.999756</td>\n",
       "    </tr>\n",
       "    <tr>\n",
       "      <th>2047</th>\n",
       "      <td>8.195999</td>\n",
       "      <td>0.350554</td>\n",
       "      <td>-0.000338</td>\n",
       "      <td>36069395</td>\n",
       "      <td>-1115.798950</td>\n",
       "      <td>91516503</td>\n",
       "      <td>2536.871582</td>\n",
       "      <td>0.842414</td>\n",
       "      <td>1499.999756</td>\n",
       "    </tr>\n",
       "  </tbody>\n",
       "</table>\n",
       "<p>2048 rows × 9 columns</p>\n",
       "</div>"
      ],
      "text/plain": [
       "      timestamp  pCut::Motor_Torque  \\\n",
       "0      0.008000           -0.225135   \n",
       "1      0.012000           -0.187007   \n",
       "2      0.016000           -0.259524   \n",
       "3      0.020000           -0.424142   \n",
       "4      0.024000           -0.209355   \n",
       "...         ...                 ...   \n",
       "2043   8.179999            0.393053   \n",
       "2044   8.183999            0.415674   \n",
       "2045   8.187999            0.368944   \n",
       "2046   8.191999            0.328232   \n",
       "2047   8.195999            0.350554   \n",
       "\n",
       "      pCut::CTRL_Position_controller::Lag_error  \\\n",
       "0                                     -0.081835   \n",
       "1                                      0.013778   \n",
       "2                                      0.065230   \n",
       "3                                      0.158631   \n",
       "4                                      0.120200   \n",
       "...                                         ...   \n",
       "2043                                  -0.019344   \n",
       "2044                                  -0.012012   \n",
       "2045                                   0.001564   \n",
       "2046                                   0.009434   \n",
       "2047                                  -0.000338   \n",
       "\n",
       "      pCut::CTRL_Position_controller::Actual_position  \\\n",
       "0                                            36056388   \n",
       "1                                            36056416   \n",
       "2                                            36056444   \n",
       "3                                            36056472   \n",
       "4                                            36056499   \n",
       "...                                               ...   \n",
       "2043                                         36069412   \n",
       "2044                                         36069408   \n",
       "2045                                         36069404   \n",
       "2046                                         36069400   \n",
       "2047                                         36069395   \n",
       "\n",
       "      pCut::CTRL_Position_controller::Actual_speed  \\\n",
       "0                                      6955.718750   \n",
       "1                                      7010.650391   \n",
       "2                                      6863.021484   \n",
       "3                                      6866.455078   \n",
       "4                                      6821.822754   \n",
       "...                                            ...   \n",
       "2043                                  -1016.235352   \n",
       "2044                                  -1026.535034   \n",
       "2045                                  -1050.567627   \n",
       "2046                                  -1098.632812   \n",
       "2047                                  -1115.798950   \n",
       "\n",
       "      pSvolFilm::CTRL_Position_controller::Actual_position  \\\n",
       "0                                              91488473      \n",
       "1                                              91488489      \n",
       "2                                              91488505      \n",
       "3                                              91488521      \n",
       "4                                              91488537      \n",
       "...                                                 ...      \n",
       "2043                                           91516463      \n",
       "2044                                           91516473      \n",
       "2045                                           91516483      \n",
       "2046                                           91516493      \n",
       "2047                                           91516503      \n",
       "\n",
       "      pSvolFilm::CTRL_Position_controller::Actual_speed  \\\n",
       "0                                           4034.330322   \n",
       "1                                           4107.315430   \n",
       "2                                           4049.430664   \n",
       "3                                           4056.980957   \n",
       "4                                           3812.857422   \n",
       "...                                                 ...   \n",
       "2043                                        2562.039062   \n",
       "2044                                        2534.354736   \n",
       "2045                                        2539.388428   \n",
       "2046                                        2526.804688   \n",
       "2047                                        2536.871582   \n",
       "\n",
       "      pSvolFilm::CTRL_Position_controller::Lag_error  pSpintor::VAX_speed  \n",
       "0                                           1.387123          1499.999756  \n",
       "1                                           1.293996          1499.999756  \n",
       "2                                           0.976738          1499.999756  \n",
       "3                                           0.773219          1499.999756  \n",
       "4                                           0.817901          1499.999756  \n",
       "...                                              ...                  ...  \n",
       "2043                                        0.871846          1499.999756  \n",
       "2044                                        0.924133          1499.999756  \n",
       "2045                                        0.846560          1499.999756  \n",
       "2046                                        0.858582          1499.999756  \n",
       "2047                                        0.842414          1499.999756  \n",
       "\n",
       "[2048 rows x 9 columns]"
      ]
     },
     "execution_count": 21,
     "metadata": {},
     "output_type": "execute_result"
    }
   ],
   "source": [
    "t_old"
   ]
  },
  {
   "cell_type": "code",
   "execution_count": 22,
   "id": "6d962d0b",
   "metadata": {},
   "outputs": [
    {
     "data": {
      "image/png": "[encoded data removed]",
      "text/plain": [
       "<Figure size 720x2160 with 18 Axes>"
      ]
     },
     "metadata": {
      "needs_background": "light"
     },
     "output_type": "display_data"
    }
   ],
   "source": [
    "plt.figure(figsize=(10, 30))\n",
    "\n",
    "nr = 0\n",
    "for sensor_name in t_new.columns:\n",
    "    plot_nr = 1+nr*2\n",
    "    plt.subplot(9, 2, plot_nr)\n",
    "    plt.plot( t_new[sensor_name] )\n",
    "    plt.xlabel(\"time stamp\")\n",
    "    plt.ylabel(sensor_name)\n",
    "    plt.title( f\"Plot #{plot_nr}:\\nNew blade\\n{sensor_name}\" )  \n",
    "    nr = nr+1\n",
    "    \n",
    "nr = 0\n",
    "for sensor_name in t_old.columns:\n",
    "    plot_nr = 2+nr*2\n",
    "    plt.subplot(9, 2, plot_nr)\n",
    "    plt.plot( t_old[sensor_name] )\n",
    "    plt.xlabel(\"time stamp\")\n",
    "    plt.ylabel(sensor_name)\n",
    "    plt.title( f\"Plot #{plot_nr}:\\nOld blade\\n{sensor_name}\" )\n",
    "    nr = nr+1\n",
    "    \n",
    "plt.tight_layout()\n",
    "plt.show()"
   ]
  },
  {
   "cell_type": "markdown",
   "id": "f6e7ed0e",
   "metadata": {},
   "source": [
    "## Statistical exploration of one sensor value (LagError)"
   ]
  },
  {
   "cell_type": "code",
   "execution_count": 23,
   "id": "ebca10be",
   "metadata": {},
   "outputs": [
    {
     "data": {
      "text/html": [
       "<div>\n",
       "<style scoped>\n",
       "    .dataframe tbody tr th:only-of-type {\n",
       "        vertical-align: middle;\n",
       "    }\n",
       "\n",
       "    .dataframe tbody tr th {\n",
       "        vertical-align: top;\n",
       "    }\n",
       "\n",
       "    .dataframe thead th {\n",
       "        text-align: right;\n",
       "    }\n",
       "</style>\n",
       "<table border=\"1\" class=\"dataframe\">\n",
       "  <thead>\n",
       "    <tr style=\"text-align: right;\">\n",
       "      <th></th>\n",
       "      <th>count</th>\n",
       "      <th>mean</th>\n",
       "      <th>std</th>\n",
       "      <th>min</th>\n",
       "      <th>25%</th>\n",
       "      <th>50%</th>\n",
       "      <th>75%</th>\n",
       "      <th>max</th>\n",
       "    </tr>\n",
       "  </thead>\n",
       "  <tbody>\n",
       "    <tr>\n",
       "      <th>timestamp</th>\n",
       "      <td>2048.00000</td>\n",
       "      <td>4.10200</td>\n",
       "      <td>2.36540</td>\n",
       "      <td>0.00800</td>\n",
       "      <td>2.05500</td>\n",
       "      <td>4.10200</td>\n",
       "      <td>6.14900</td>\n",
       "      <td>8.19600</td>\n",
       "    </tr>\n",
       "    <tr>\n",
       "      <th>pCut::Motor_Torque</th>\n",
       "      <td>2048.00000</td>\n",
       "      <td>-0.09800</td>\n",
       "      <td>0.48638</td>\n",
       "      <td>-4.91820</td>\n",
       "      <td>-0.32341</td>\n",
       "      <td>-0.13288</td>\n",
       "      <td>0.27032</td>\n",
       "      <td>1.00611</td>\n",
       "    </tr>\n",
       "    <tr>\n",
       "      <th>pCut::CTRL_Position_controller::Lag_error</th>\n",
       "      <td>2048.00000</td>\n",
       "      <td>-0.00004</td>\n",
       "      <td>0.09303</td>\n",
       "      <td>-1.23870</td>\n",
       "      <td>-0.01924</td>\n",
       "      <td>0.00026</td>\n",
       "      <td>0.02011</td>\n",
       "      <td>0.91515</td>\n",
       "    </tr>\n",
       "    <tr>\n",
       "      <th>pCut::CTRL_Position_controller::Actual_position</th>\n",
       "      <td>2048.00000</td>\n",
       "      <td>628397221.81934</td>\n",
       "      <td>3781.23009</td>\n",
       "      <td>628390305.00000</td>\n",
       "      <td>628394445.00000</td>\n",
       "      <td>628397506.00000</td>\n",
       "      <td>628399826.75000</td>\n",
       "      <td>628403507.00000</td>\n",
       "    </tr>\n",
       "    <tr>\n",
       "      <th>pCut::CTRL_Position_controller::Actual_speed</th>\n",
       "      <td>2048.00000</td>\n",
       "      <td>1293.84563</td>\n",
       "      <td>3486.16446</td>\n",
       "      <td>-4895.78223</td>\n",
       "      <td>-1264.28604</td>\n",
       "      <td>1435.08911</td>\n",
       "      <td>3739.64301</td>\n",
       "      <td>7673.26318</td>\n",
       "    </tr>\n",
       "    <tr>\n",
       "      <th>pSvolFilm::CTRL_Position_controller::Actual_position</th>\n",
       "      <td>2048.00000</td>\n",
       "      <td>5312998.18506</td>\n",
       "      <td>7973.94829</td>\n",
       "      <td>5298555.00000</td>\n",
       "      <td>5306143.75000</td>\n",
       "      <td>5313703.50000</td>\n",
       "      <td>5320254.75000</td>\n",
       "      <td>5325625.00000</td>\n",
       "    </tr>\n",
       "    <tr>\n",
       "      <th>pSvolFilm::CTRL_Position_controller::Actual_speed</th>\n",
       "      <td>2048.00000</td>\n",
       "      <td>3306.29290</td>\n",
       "      <td>1073.54924</td>\n",
       "      <td>1988.22278</td>\n",
       "      <td>2325.46558</td>\n",
       "      <td>2965.97546</td>\n",
       "      <td>4580.46240</td>\n",
       "      <td>4718.88330</td>\n",
       "    </tr>\n",
       "    <tr>\n",
       "      <th>pSvolFilm::CTRL_Position_controller::Lag_error</th>\n",
       "      <td>2048.00000</td>\n",
       "      <td>0.86101</td>\n",
       "      <td>0.10976</td>\n",
       "      <td>0.02962</td>\n",
       "      <td>0.78847</td>\n",
       "      <td>0.85650</td>\n",
       "      <td>0.94370</td>\n",
       "      <td>1.14676</td>\n",
       "    </tr>\n",
       "    <tr>\n",
       "      <th>pSpintor::VAX_speed</th>\n",
       "      <td>2048.00000</td>\n",
       "      <td>1340.74334</td>\n",
       "      <td>73.92810</td>\n",
       "      <td>1199.99963</td>\n",
       "      <td>1379.99976</td>\n",
       "      <td>1379.99976</td>\n",
       "      <td>1379.99976</td>\n",
       "      <td>1379.99976</td>\n",
       "    </tr>\n",
       "  </tbody>\n",
       "</table>\n",
       "</div>"
      ],
      "text/plain": [
       "                                                        count            mean  \\\n",
       "timestamp                                          2048.00000         4.10200   \n",
       "pCut::Motor_Torque                                 2048.00000        -0.09800   \n",
       "pCut::CTRL_Position_controller::Lag_error          2048.00000        -0.00004   \n",
       "pCut::CTRL_Position_controller::Actual_position    2048.00000 628397221.81934   \n",
       "pCut::CTRL_Position_controller::Actual_speed       2048.00000      1293.84563   \n",
       "pSvolFilm::CTRL_Position_controller::Actual_pos... 2048.00000   5312998.18506   \n",
       "pSvolFilm::CTRL_Position_controller::Actual_speed  2048.00000      3306.29290   \n",
       "pSvolFilm::CTRL_Position_controller::Lag_error     2048.00000         0.86101   \n",
       "pSpintor::VAX_speed                                2048.00000      1340.74334   \n",
       "\n",
       "                                                          std             min  \\\n",
       "timestamp                                             2.36540         0.00800   \n",
       "pCut::Motor_Torque                                    0.48638        -4.91820   \n",
       "pCut::CTRL_Position_controller::Lag_error             0.09303        -1.23870   \n",
       "pCut::CTRL_Position_controller::Actual_position    3781.23009 628390305.00000   \n",
       "pCut::CTRL_Position_controller::Actual_speed       3486.16446     -4895.78223   \n",
       "pSvolFilm::CTRL_Position_controller::Actual_pos... 7973.94829   5298555.00000   \n",
       "pSvolFilm::CTRL_Position_controller::Actual_speed  1073.54924      1988.22278   \n",
       "pSvolFilm::CTRL_Position_controller::Lag_error        0.10976         0.02962   \n",
       "pSpintor::VAX_speed                                  73.92810      1199.99963   \n",
       "\n",
       "                                                               25%  \\\n",
       "timestamp                                                  2.05500   \n",
       "pCut::Motor_Torque                                        -0.32341   \n",
       "pCut::CTRL_Position_controller::Lag_error                 -0.01924   \n",
       "pCut::CTRL_Position_controller::Actual_position    628394445.00000   \n",
       "pCut::CTRL_Position_controller::Actual_speed           -1264.28604   \n",
       "pSvolFilm::CTRL_Position_controller::Actual_pos...   5306143.75000   \n",
       "pSvolFilm::CTRL_Position_controller::Actual_speed       2325.46558   \n",
       "pSvolFilm::CTRL_Position_controller::Lag_error             0.78847   \n",
       "pSpintor::VAX_speed                                     1379.99976   \n",
       "\n",
       "                                                               50%  \\\n",
       "timestamp                                                  4.10200   \n",
       "pCut::Motor_Torque                                        -0.13288   \n",
       "pCut::CTRL_Position_controller::Lag_error                  0.00026   \n",
       "pCut::CTRL_Position_controller::Actual_position    628397506.00000   \n",
       "pCut::CTRL_Position_controller::Actual_speed            1435.08911   \n",
       "pSvolFilm::CTRL_Position_controller::Actual_pos...   5313703.50000   \n",
       "pSvolFilm::CTRL_Position_controller::Actual_speed       2965.97546   \n",
       "pSvolFilm::CTRL_Position_controller::Lag_error             0.85650   \n",
       "pSpintor::VAX_speed                                     1379.99976   \n",
       "\n",
       "                                                               75%  \\\n",
       "timestamp                                                  6.14900   \n",
       "pCut::Motor_Torque                                         0.27032   \n",
       "pCut::CTRL_Position_controller::Lag_error                  0.02011   \n",
       "pCut::CTRL_Position_controller::Actual_position    628399826.75000   \n",
       "pCut::CTRL_Position_controller::Actual_speed            3739.64301   \n",
       "pSvolFilm::CTRL_Position_controller::Actual_pos...   5320254.75000   \n",
       "pSvolFilm::CTRL_Position_controller::Actual_speed       4580.46240   \n",
       "pSvolFilm::CTRL_Position_controller::Lag_error             0.94370   \n",
       "pSpintor::VAX_speed                                     1379.99976   \n",
       "\n",
       "                                                               max  \n",
       "timestamp                                                  8.19600  \n",
       "pCut::Motor_Torque                                         1.00611  \n",
       "pCut::CTRL_Position_controller::Lag_error                  0.91515  \n",
       "pCut::CTRL_Position_controller::Actual_position    628403507.00000  \n",
       "pCut::CTRL_Position_controller::Actual_speed            7673.26318  \n",
       "pSvolFilm::CTRL_Position_controller::Actual_pos...   5325625.00000  \n",
       "pSvolFilm::CTRL_Position_controller::Actual_speed       4718.88330  \n",
       "pSvolFilm::CTRL_Position_controller::Lag_error             1.14676  \n",
       "pSpintor::VAX_speed                                     1379.99976  "
      ]
     },
     "execution_count": 23,
     "metadata": {},
     "output_type": "execute_result"
    }
   ],
   "source": [
    "pandas.options.display.float_format = '{:.5f}'.format\n",
    "t_new.describe().transpose()"
   ]
  },
  {
   "cell_type": "code",
   "execution_count": 24,
   "id": "7afc6872",
   "metadata": {},
   "outputs": [
    {
     "data": {
      "text/html": [
       "<div>\n",
       "<style scoped>\n",
       "    .dataframe tbody tr th:only-of-type {\n",
       "        vertical-align: middle;\n",
       "    }\n",
       "\n",
       "    .dataframe tbody tr th {\n",
       "        vertical-align: top;\n",
       "    }\n",
       "\n",
       "    .dataframe thead th {\n",
       "        text-align: right;\n",
       "    }\n",
       "</style>\n",
       "<table border=\"1\" class=\"dataframe\">\n",
       "  <thead>\n",
       "    <tr style=\"text-align: right;\">\n",
       "      <th></th>\n",
       "      <th>count</th>\n",
       "      <th>mean</th>\n",
       "      <th>std</th>\n",
       "      <th>min</th>\n",
       "      <th>25%</th>\n",
       "      <th>50%</th>\n",
       "      <th>75%</th>\n",
       "      <th>max</th>\n",
       "    </tr>\n",
       "  </thead>\n",
       "  <tbody>\n",
       "    <tr>\n",
       "      <th>timestamp</th>\n",
       "      <td>2048.00000</td>\n",
       "      <td>4.10200</td>\n",
       "      <td>2.36540</td>\n",
       "      <td>0.00800</td>\n",
       "      <td>2.05500</td>\n",
       "      <td>4.10200</td>\n",
       "      <td>6.14900</td>\n",
       "      <td>8.19600</td>\n",
       "    </tr>\n",
       "    <tr>\n",
       "      <th>pCut::Motor_Torque</th>\n",
       "      <td>2048.00000</td>\n",
       "      <td>-0.10332</td>\n",
       "      <td>0.65412</td>\n",
       "      <td>-4.97324</td>\n",
       "      <td>-0.25280</td>\n",
       "      <td>-0.06840</td>\n",
       "      <td>0.27261</td>\n",
       "      <td>1.23339</td>\n",
       "    </tr>\n",
       "    <tr>\n",
       "      <th>pCut::CTRL_Position_controller::Lag_error</th>\n",
       "      <td>2048.00000</td>\n",
       "      <td>0.00126</td>\n",
       "      <td>0.10109</td>\n",
       "      <td>-1.25017</td>\n",
       "      <td>-0.01534</td>\n",
       "      <td>0.00181</td>\n",
       "      <td>0.01828</td>\n",
       "      <td>0.94829</td>\n",
       "    </tr>\n",
       "    <tr>\n",
       "      <th>pCut::CTRL_Position_controller::Actual_position</th>\n",
       "      <td>2048.00000</td>\n",
       "      <td>36062352.62695</td>\n",
       "      <td>3765.57561</td>\n",
       "      <td>36056388.00000</td>\n",
       "      <td>36058669.75000</td>\n",
       "      <td>36062085.50000</td>\n",
       "      <td>36065367.50000</td>\n",
       "      <td>36069497.00000</td>\n",
       "    </tr>\n",
       "    <tr>\n",
       "      <th>pCut::CTRL_Position_controller::Actual_speed</th>\n",
       "      <td>2048.00000</td>\n",
       "      <td>1589.30268</td>\n",
       "      <td>3637.34024</td>\n",
       "      <td>-4538.72656</td>\n",
       "      <td>-1281.45218</td>\n",
       "      <td>1426.50604</td>\n",
       "      <td>4283.80933</td>\n",
       "      <td>8232.87891</td>\n",
       "    </tr>\n",
       "    <tr>\n",
       "      <th>pSvolFilm::CTRL_Position_controller::Actual_position</th>\n",
       "      <td>2048.00000</td>\n",
       "      <td>91502396.16309</td>\n",
       "      <td>8347.86965</td>\n",
       "      <td>91488473.00000</td>\n",
       "      <td>91495330.50000</td>\n",
       "      <td>91502150.00000</td>\n",
       "      <td>91509037.50000</td>\n",
       "      <td>91516503.00000</td>\n",
       "    </tr>\n",
       "    <tr>\n",
       "      <th>pSvolFilm::CTRL_Position_controller::Actual_speed</th>\n",
       "      <td>2048.00000</td>\n",
       "      <td>3422.97343</td>\n",
       "      <td>929.36066</td>\n",
       "      <td>2476.46973</td>\n",
       "      <td>2536.87158</td>\n",
       "      <td>2988.62585</td>\n",
       "      <td>4577.94580</td>\n",
       "      <td>4723.91650</td>\n",
       "    </tr>\n",
       "    <tr>\n",
       "      <th>pSvolFilm::CTRL_Position_controller::Lag_error</th>\n",
       "      <td>2048.00000</td>\n",
       "      <td>0.89189</td>\n",
       "      <td>0.18802</td>\n",
       "      <td>-0.55383</td>\n",
       "      <td>0.82877</td>\n",
       "      <td>0.90435</td>\n",
       "      <td>0.98803</td>\n",
       "      <td>1.84331</td>\n",
       "    </tr>\n",
       "    <tr>\n",
       "      <th>pSpintor::VAX_speed</th>\n",
       "      <td>2048.00000</td>\n",
       "      <td>1499.99976</td>\n",
       "      <td>0.00000</td>\n",
       "      <td>1499.99976</td>\n",
       "      <td>1499.99976</td>\n",
       "      <td>1499.99976</td>\n",
       "      <td>1499.99976</td>\n",
       "      <td>1499.99976</td>\n",
       "    </tr>\n",
       "  </tbody>\n",
       "</table>\n",
       "</div>"
      ],
      "text/plain": [
       "                                                        count           mean  \\\n",
       "timestamp                                          2048.00000        4.10200   \n",
       "pCut::Motor_Torque                                 2048.00000       -0.10332   \n",
       "pCut::CTRL_Position_controller::Lag_error          2048.00000        0.00126   \n",
       "pCut::CTRL_Position_controller::Actual_position    2048.00000 36062352.62695   \n",
       "pCut::CTRL_Position_controller::Actual_speed       2048.00000     1589.30268   \n",
       "pSvolFilm::CTRL_Position_controller::Actual_pos... 2048.00000 91502396.16309   \n",
       "pSvolFilm::CTRL_Position_controller::Actual_speed  2048.00000     3422.97343   \n",
       "pSvolFilm::CTRL_Position_controller::Lag_error     2048.00000        0.89189   \n",
       "pSpintor::VAX_speed                                2048.00000     1499.99976   \n",
       "\n",
       "                                                          std            min  \\\n",
       "timestamp                                             2.36540        0.00800   \n",
       "pCut::Motor_Torque                                    0.65412       -4.97324   \n",
       "pCut::CTRL_Position_controller::Lag_error             0.10109       -1.25017   \n",
       "pCut::CTRL_Position_controller::Actual_position    3765.57561 36056388.00000   \n",
       "pCut::CTRL_Position_controller::Actual_speed       3637.34024    -4538.72656   \n",
       "pSvolFilm::CTRL_Position_controller::Actual_pos... 8347.86965 91488473.00000   \n",
       "pSvolFilm::CTRL_Position_controller::Actual_speed   929.36066     2476.46973   \n",
       "pSvolFilm::CTRL_Position_controller::Lag_error        0.18802       -0.55383   \n",
       "pSpintor::VAX_speed                                   0.00000     1499.99976   \n",
       "\n",
       "                                                              25%  \\\n",
       "timestamp                                                 2.05500   \n",
       "pCut::Motor_Torque                                       -0.25280   \n",
       "pCut::CTRL_Position_controller::Lag_error                -0.01534   \n",
       "pCut::CTRL_Position_controller::Actual_position    36058669.75000   \n",
       "pCut::CTRL_Position_controller::Actual_speed          -1281.45218   \n",
       "pSvolFilm::CTRL_Position_controller::Actual_pos... 91495330.50000   \n",
       "pSvolFilm::CTRL_Position_controller::Actual_speed      2536.87158   \n",
       "pSvolFilm::CTRL_Position_controller::Lag_error            0.82877   \n",
       "pSpintor::VAX_speed                                    1499.99976   \n",
       "\n",
       "                                                              50%  \\\n",
       "timestamp                                                 4.10200   \n",
       "pCut::Motor_Torque                                       -0.06840   \n",
       "pCut::CTRL_Position_controller::Lag_error                 0.00181   \n",
       "pCut::CTRL_Position_controller::Actual_position    36062085.50000   \n",
       "pCut::CTRL_Position_controller::Actual_speed           1426.50604   \n",
       "pSvolFilm::CTRL_Position_controller::Actual_pos... 91502150.00000   \n",
       "pSvolFilm::CTRL_Position_controller::Actual_speed      2988.62585   \n",
       "pSvolFilm::CTRL_Position_controller::Lag_error            0.90435   \n",
       "pSpintor::VAX_speed                                    1499.99976   \n",
       "\n",
       "                                                              75%  \\\n",
       "timestamp                                                 6.14900   \n",
       "pCut::Motor_Torque                                        0.27261   \n",
       "pCut::CTRL_Position_controller::Lag_error                 0.01828   \n",
       "pCut::CTRL_Position_controller::Actual_position    36065367.50000   \n",
       "pCut::CTRL_Position_controller::Actual_speed           4283.80933   \n",
       "pSvolFilm::CTRL_Position_controller::Actual_pos... 91509037.50000   \n",
       "pSvolFilm::CTRL_Position_controller::Actual_speed      4577.94580   \n",
       "pSvolFilm::CTRL_Position_controller::Lag_error            0.98803   \n",
       "pSpintor::VAX_speed                                    1499.99976   \n",
       "\n",
       "                                                              max  \n",
       "timestamp                                                 8.19600  \n",
       "pCut::Motor_Torque                                        1.23339  \n",
       "pCut::CTRL_Position_controller::Lag_error                 0.94829  \n",
       "pCut::CTRL_Position_controller::Actual_position    36069497.00000  \n",
       "pCut::CTRL_Position_controller::Actual_speed           8232.87891  \n",
       "pSvolFilm::CTRL_Position_controller::Actual_pos... 91516503.00000  \n",
       "pSvolFilm::CTRL_Position_controller::Actual_speed      4723.91650  \n",
       "pSvolFilm::CTRL_Position_controller::Lag_error            1.84331  \n",
       "pSpintor::VAX_speed                                    1499.99976  "
      ]
     },
     "execution_count": 24,
     "metadata": {},
     "output_type": "execute_result"
    }
   ],
   "source": [
    "t_old.describe().transpose()"
   ]
  },
  {
   "cell_type": "markdown",
   "id": "7e37710c",
   "metadata": {},
   "source": [
    "## Does the average LagError increase over the year?"
   ]
  },
  {
   "cell_type": "code",
   "execution_count": 25,
   "id": "6cc56440",
   "metadata": {},
   "outputs": [
    {
     "data": {
      "text/plain": [
       "count   2048.00000\n",
       "mean       0.00126\n",
       "std        0.10109\n",
       "min       -1.25017\n",
       "25%       -0.01534\n",
       "50%        0.00181\n",
       "75%        0.01828\n",
       "max        0.94829\n",
       "Name: pCut::CTRL_Position_controller::Lag_error, dtype: float64"
      ]
     },
     "execution_count": 25,
     "metadata": {},
     "output_type": "execute_result"
    }
   ],
   "source": [
    "t_old[\"pCut::CTRL_Position_controller::Lag_error\"].describe()"
   ]
  },
  {
   "cell_type": "code",
   "execution_count": 26,
   "id": "a3d0978a",
   "metadata": {},
   "outputs": [
    {
     "data": {
      "text/plain": [
       "0.0012564312597656252"
      ]
     },
     "execution_count": 26,
     "metadata": {},
     "output_type": "execute_result"
    }
   ],
   "source": [
    "t_old[\"pCut::CTRL_Position_controller::Lag_error\"].describe()[\"mean\"]"
   ]
  },
  {
   "cell_type": "code",
   "execution_count": 27,
   "id": "98a1d09a",
   "metadata": {},
   "outputs": [],
   "source": [
    "x = []\n",
    "y = []\n",
    "\n",
    "i = 0\n",
    "for file_name in list_files:\n",
    "    \n",
    "    t = pandas.read_csv( f\"{folder_name}/{file_name}\")\n",
    "    \n",
    "    mean_lag_error = t[\"pCut::CTRL_Position_controller::Lag_error\"].describe()[\"mean\"]\n",
    "    \n",
    "    x.append( i )\n",
    "    y.append( mean_lag_error )\n",
    "    \n",
    "    i += 1"
   ]
  },
  {
   "cell_type": "code",
   "execution_count": 28,
   "id": "7a77e787",
   "metadata": {},
   "outputs": [
    {
     "data": {
      "text/plain": [
       "229"
      ]
     },
     "execution_count": 28,
     "metadata": {},
     "output_type": "execute_result"
    }
   ],
   "source": [
    "len(list_files)"
   ]
  },
  {
   "cell_type": "code",
   "execution_count": 29,
   "id": "f38ae6eb",
   "metadata": {},
   "outputs": [
    {
     "data": {
      "text/plain": [
       "229"
      ]
     },
     "execution_count": 29,
     "metadata": {},
     "output_type": "execute_result"
    }
   ],
   "source": [
    "len(y)"
   ]
  },
  {
   "cell_type": "code",
   "execution_count": 30,
   "id": "7625e477",
   "metadata": {},
   "outputs": [
    {
     "data": {
      "text/plain": [
       "[-3.9950234375000035e-05,\n",
       " -0.00029946083984375003,\n",
       " -2.171538085937525e-06,\n",
       " 0.0001414602880859376,\n",
       " 7.623739257812536e-05,\n",
       " 0.0004480147851562506,\n",
       " -0.0005595231542968749,\n",
       " -0.00037773941406249895,\n",
       " -0.00038321722167968767,\n",
       " -0.0005363797753906259]"
      ]
     },
     "execution_count": 30,
     "metadata": {},
     "output_type": "execute_result"
    }
   ],
   "source": [
    "y[:10]"
   ]
  },
  {
   "cell_type": "code",
   "execution_count": 31,
   "id": "ee829785",
   "metadata": {},
   "outputs": [
    {
     "data": {
      "image/png": "[encoded data removed]",
      "text/plain": [
       "<Figure size 432x288 with 1 Axes>"
      ]
     },
     "metadata": {
      "needs_background": "light"
     },
     "output_type": "display_data"
    }
   ],
   "source": [
    "plt.bar( x, y )\n",
    "plt.xlabel( \"Sensor recording nr\" )\n",
    "plt.ylabel( \"Mean LagError for that recording\" )\n",
    "plt.show()"
   ]
  },
  {
   "cell_type": "markdown",
   "id": "8592ad7c-9eca-4083-874f-ed83ddac5bed",
   "metadata": {},
   "source": [
    "# S/M: Preparing data for Machine Learning\n",
    "\n",
    "Things to do before we can start training a machine learning model:\n",
    "\n",
    "1. Scale data\n",
    "2. Prepare target values\n",
    "3. Shuffle example data\n",
    "4. Split example data into training and test data"
   ]
  },
  {
   "cell_type": "markdown",
   "id": "62cca56a-3ee0-4824-9810-ae429b5195a4",
   "metadata": {},
   "source": [
    "## Exercise: Scaling data with MinMaxScaler"
   ]
  },
  {
   "cell_type": "code",
   "execution_count": 32,
   "id": "c1669ad8-cfaf-4eae-bf2a-ddb704f2a4b6",
   "metadata": {},
   "outputs": [],
   "source": [
    "from sklearn.preprocessing import MinMaxScaler"
   ]
  },
  {
   "cell_type": "code",
   "execution_count": 33,
   "id": "98ba743c-8652-468c-9c18-820788adafa5",
   "metadata": {},
   "outputs": [
    {
     "data": {
      "text/plain": [
       "array([[-1. ,  2. ],\n",
       "       [-0.5,  6. ],\n",
       "       [ 0. , 10. ],\n",
       "       [ 1. , 18. ]])"
      ]
     },
     "execution_count": 33,
     "metadata": {},
     "output_type": "execute_result"
    }
   ],
   "source": [
    "data = np.array( [[-1, 2], [-0.5, 6], [0, 10], [1, 18]] )\n",
    "data"
   ]
  },
  {
   "cell_type": "code",
   "execution_count": 34,
   "id": "d0eed388-b244-4531-8875-ebe15120e30c",
   "metadata": {},
   "outputs": [
    {
     "data": {
      "text/plain": [
       "MinMaxScaler()"
      ]
     },
     "execution_count": 34,
     "metadata": {},
     "output_type": "execute_result"
    }
   ],
   "source": [
    "scaler = MinMaxScaler()\n",
    "scaler.fit(data)"
   ]
  },
  {
   "cell_type": "code",
   "execution_count": 35,
   "id": "ad2a48e4-c141-4ab1-a778-553a19c7da1c",
   "metadata": {},
   "outputs": [
    {
     "data": {
      "text/plain": [
       "array([ 1., 18.])"
      ]
     },
     "execution_count": 35,
     "metadata": {},
     "output_type": "execute_result"
    }
   ],
   "source": [
    "scaler.data_max_"
   ]
  },
  {
   "cell_type": "code",
   "execution_count": 36,
   "id": "53d1ed29-0960-435b-9551-7831ab9f91d2",
   "metadata": {},
   "outputs": [
    {
     "data": {
      "text/plain": [
       "array([-1.,  2.])"
      ]
     },
     "execution_count": 36,
     "metadata": {},
     "output_type": "execute_result"
    }
   ],
   "source": [
    "scaler.data_min_"
   ]
  },
  {
   "cell_type": "code",
   "execution_count": 37,
   "id": "53abb0e7-63cc-47bd-8418-694a42635aa8",
   "metadata": {},
   "outputs": [
    {
     "data": {
      "text/plain": [
       "array([ 2., 16.])"
      ]
     },
     "execution_count": 37,
     "metadata": {},
     "output_type": "execute_result"
    }
   ],
   "source": [
    "scaler.data_range_"
   ]
  },
  {
   "cell_type": "code",
   "execution_count": 38,
   "id": "44191e40-571f-4383-bec0-d7c4e6e47b37",
   "metadata": {},
   "outputs": [
    {
     "data": {
      "text/plain": [
       "array([[0.  , 0.  ],\n",
       "       [0.25, 0.25],\n",
       "       [0.5 , 0.5 ],\n",
       "       [1.  , 1.  ]])"
      ]
     },
     "execution_count": 38,
     "metadata": {},
     "output_type": "execute_result"
    }
   ],
   "source": [
    "scaler.transform(data)"
   ]
  },
  {
   "cell_type": "markdown",
   "id": "7ad1296b",
   "metadata": {},
   "source": [
    "## Preparing target values"
   ]
  },
  {
   "cell_type": "code",
   "execution_count": 39,
   "id": "67b238aa",
   "metadata": {},
   "outputs": [
    {
     "data": {
      "text/plain": [
       "'02-14T132310_119_mode1.csv'"
      ]
     },
     "execution_count": 39,
     "metadata": {},
     "output_type": "execute_result"
    }
   ],
   "source": [
    "example_filename = list_files[30]\n",
    "example_filename"
   ]
  },
  {
   "cell_type": "code",
   "execution_count": 40,
   "id": "91f61faa",
   "metadata": {},
   "outputs": [
    {
     "data": {
      "text/plain": [
       "'02'"
      ]
     },
     "execution_count": 40,
     "metadata": {},
     "output_type": "execute_result"
    }
   ],
   "source": [
    "month = example_filename[0:2]\n",
    "month"
   ]
  },
  {
   "cell_type": "code",
   "execution_count": 41,
   "id": "e7c3a056",
   "metadata": {},
   "outputs": [
    {
     "data": {
      "text/plain": [
       "'14'"
      ]
     },
     "execution_count": 41,
     "metadata": {},
     "output_type": "execute_result"
    }
   ],
   "source": [
    "day = example_filename[3:5]\n",
    "day"
   ]
  },
  {
   "cell_type": "code",
   "execution_count": 42,
   "id": "25e24536",
   "metadata": {},
   "outputs": [
    {
     "data": {
      "text/plain": [
       "Timestamp('2018-02-14 00:00:00')"
      ]
     },
     "execution_count": 42,
     "metadata": {},
     "output_type": "execute_result"
    }
   ],
   "source": [
    "ts = pandas.Timestamp( year=2018, month=int(month), day=int(day) )\n",
    "ts"
   ]
  },
  {
   "cell_type": "code",
   "execution_count": 43,
   "id": "703f78a7",
   "metadata": {},
   "outputs": [
    {
     "data": {
      "text/plain": [
       "45"
      ]
     },
     "execution_count": 43,
     "metadata": {},
     "output_type": "execute_result"
    }
   ],
   "source": [
    "ts.dayofyear"
   ]
  },
  {
   "cell_type": "code",
   "execution_count": 44,
   "id": "5be846ac",
   "metadata": {},
   "outputs": [],
   "source": [
    "def filename_to_dayofyear(filename):\n",
    "    month = filename[0:2]\n",
    "    day   = filename[3:5]\n",
    "    \n",
    "    # Error in data set!\n",
    "    if month==\"02\" and day == \"30\":\n",
    "        day = \"28\"\n",
    "           \n",
    "    ts = pandas.Timestamp( year=2018, month=int(month), day=int(day) )\n",
    "    return ts.dayofyear"
   ]
  },
  {
   "cell_type": "code",
   "execution_count": 45,
   "id": "7d2df136",
   "metadata": {},
   "outputs": [
    {
     "data": {
      "text/plain": [
       "32"
      ]
     },
     "execution_count": 45,
     "metadata": {},
     "output_type": "execute_result"
    }
   ],
   "source": [
    "filename_to_dayofyear( \"02-01T...\" )"
   ]
  },
  {
   "cell_type": "markdown",
   "id": "e5ecd958",
   "metadata": {},
   "source": [
    "## Prepare one large data matrix M with input- and output vectors"
   ]
  },
  {
   "cell_type": "code",
   "execution_count": 46,
   "id": "05de0c35",
   "metadata": {},
   "outputs": [
    {
     "data": {
      "text/plain": [
       "229"
      ]
     },
     "execution_count": 46,
     "metadata": {},
     "output_type": "execute_result"
    }
   ],
   "source": [
    "nr_files = len(list_files)\n",
    "nr_files"
   ]
  },
  {
   "cell_type": "code",
   "execution_count": 47,
   "id": "6f1a2460-8141-4fbe-8673-cc13d75d3d55",
   "metadata": {},
   "outputs": [
    {
     "data": {
      "text/html": [
       "<div>\n",
       "<style scoped>\n",
       "    .dataframe tbody tr th:only-of-type {\n",
       "        vertical-align: middle;\n",
       "    }\n",
       "\n",
       "    .dataframe tbody tr th {\n",
       "        vertical-align: top;\n",
       "    }\n",
       "\n",
       "    .dataframe thead th {\n",
       "        text-align: right;\n",
       "    }\n",
       "</style>\n",
       "<table border=\"1\" class=\"dataframe\">\n",
       "  <thead>\n",
       "    <tr style=\"text-align: right;\">\n",
       "      <th></th>\n",
       "      <th>timestamp</th>\n",
       "      <th>pCut::Motor_Torque</th>\n",
       "      <th>pCut::CTRL_Position_controller::Lag_error</th>\n",
       "      <th>pCut::CTRL_Position_controller::Actual_position</th>\n",
       "      <th>pCut::CTRL_Position_controller::Actual_speed</th>\n",
       "      <th>pSvolFilm::CTRL_Position_controller::Actual_position</th>\n",
       "      <th>pSvolFilm::CTRL_Position_controller::Actual_speed</th>\n",
       "      <th>pSvolFilm::CTRL_Position_controller::Lag_error</th>\n",
       "      <th>pSpintor::VAX_speed</th>\n",
       "    </tr>\n",
       "  </thead>\n",
       "  <tbody>\n",
       "    <tr>\n",
       "      <th>count</th>\n",
       "      <td>2048.00000</td>\n",
       "      <td>2048.00000</td>\n",
       "      <td>2048.00000</td>\n",
       "      <td>2048.00000</td>\n",
       "      <td>2048.00000</td>\n",
       "      <td>2048.00000</td>\n",
       "      <td>2048.00000</td>\n",
       "      <td>2048.00000</td>\n",
       "      <td>2048.00000</td>\n",
       "    </tr>\n",
       "    <tr>\n",
       "      <th>mean</th>\n",
       "      <td>4.10200</td>\n",
       "      <td>-0.09800</td>\n",
       "      <td>-0.00004</td>\n",
       "      <td>628397221.81934</td>\n",
       "      <td>1293.84563</td>\n",
       "      <td>5312998.18506</td>\n",
       "      <td>3306.29290</td>\n",
       "      <td>0.86101</td>\n",
       "      <td>1340.74334</td>\n",
       "    </tr>\n",
       "    <tr>\n",
       "      <th>std</th>\n",
       "      <td>2.36540</td>\n",
       "      <td>0.48638</td>\n",
       "      <td>0.09303</td>\n",
       "      <td>3781.23009</td>\n",
       "      <td>3486.16446</td>\n",
       "      <td>7973.94829</td>\n",
       "      <td>1073.54924</td>\n",
       "      <td>0.10976</td>\n",
       "      <td>73.92810</td>\n",
       "    </tr>\n",
       "    <tr>\n",
       "      <th>min</th>\n",
       "      <td>0.00800</td>\n",
       "      <td>-4.91820</td>\n",
       "      <td>-1.23870</td>\n",
       "      <td>628390305.00000</td>\n",
       "      <td>-4895.78223</td>\n",
       "      <td>5298555.00000</td>\n",
       "      <td>1988.22278</td>\n",
       "      <td>0.02962</td>\n",
       "      <td>1199.99963</td>\n",
       "    </tr>\n",
       "    <tr>\n",
       "      <th>25%</th>\n",
       "      <td>2.05500</td>\n",
       "      <td>-0.32341</td>\n",
       "      <td>-0.01924</td>\n",
       "      <td>628394445.00000</td>\n",
       "      <td>-1264.28604</td>\n",
       "      <td>5306143.75000</td>\n",
       "      <td>2325.46558</td>\n",
       "      <td>0.78847</td>\n",
       "      <td>1379.99976</td>\n",
       "    </tr>\n",
       "    <tr>\n",
       "      <th>50%</th>\n",
       "      <td>4.10200</td>\n",
       "      <td>-0.13288</td>\n",
       "      <td>0.00026</td>\n",
       "      <td>628397506.00000</td>\n",
       "      <td>1435.08911</td>\n",
       "      <td>5313703.50000</td>\n",
       "      <td>2965.97546</td>\n",
       "      <td>0.85650</td>\n",
       "      <td>1379.99976</td>\n",
       "    </tr>\n",
       "    <tr>\n",
       "      <th>75%</th>\n",
       "      <td>6.14900</td>\n",
       "      <td>0.27032</td>\n",
       "      <td>0.02011</td>\n",
       "      <td>628399826.75000</td>\n",
       "      <td>3739.64301</td>\n",
       "      <td>5320254.75000</td>\n",
       "      <td>4580.46240</td>\n",
       "      <td>0.94370</td>\n",
       "      <td>1379.99976</td>\n",
       "    </tr>\n",
       "    <tr>\n",
       "      <th>max</th>\n",
       "      <td>8.19600</td>\n",
       "      <td>1.00611</td>\n",
       "      <td>0.91515</td>\n",
       "      <td>628403507.00000</td>\n",
       "      <td>7673.26318</td>\n",
       "      <td>5325625.00000</td>\n",
       "      <td>4718.88330</td>\n",
       "      <td>1.14676</td>\n",
       "      <td>1379.99976</td>\n",
       "    </tr>\n",
       "  </tbody>\n",
       "</table>\n",
       "</div>"
      ],
      "text/plain": [
       "       timestamp  pCut::Motor_Torque  \\\n",
       "count 2048.00000          2048.00000   \n",
       "mean     4.10200            -0.09800   \n",
       "std      2.36540             0.48638   \n",
       "min      0.00800            -4.91820   \n",
       "25%      2.05500            -0.32341   \n",
       "50%      4.10200            -0.13288   \n",
       "75%      6.14900             0.27032   \n",
       "max      8.19600             1.00611   \n",
       "\n",
       "       pCut::CTRL_Position_controller::Lag_error  \\\n",
       "count                                 2048.00000   \n",
       "mean                                    -0.00004   \n",
       "std                                      0.09303   \n",
       "min                                     -1.23870   \n",
       "25%                                     -0.01924   \n",
       "50%                                      0.00026   \n",
       "75%                                      0.02011   \n",
       "max                                      0.91515   \n",
       "\n",
       "       pCut::CTRL_Position_controller::Actual_position  \\\n",
       "count                                       2048.00000   \n",
       "mean                                   628397221.81934   \n",
       "std                                         3781.23009   \n",
       "min                                    628390305.00000   \n",
       "25%                                    628394445.00000   \n",
       "50%                                    628397506.00000   \n",
       "75%                                    628399826.75000   \n",
       "max                                    628403507.00000   \n",
       "\n",
       "       pCut::CTRL_Position_controller::Actual_speed  \\\n",
       "count                                    2048.00000   \n",
       "mean                                     1293.84563   \n",
       "std                                      3486.16446   \n",
       "min                                     -4895.78223   \n",
       "25%                                     -1264.28604   \n",
       "50%                                      1435.08911   \n",
       "75%                                      3739.64301   \n",
       "max                                      7673.26318   \n",
       "\n",
       "       pSvolFilm::CTRL_Position_controller::Actual_position  \\\n",
       "count                                         2048.00000      \n",
       "mean                                       5312998.18506      \n",
       "std                                           7973.94829      \n",
       "min                                        5298555.00000      \n",
       "25%                                        5306143.75000      \n",
       "50%                                        5313703.50000      \n",
       "75%                                        5320254.75000      \n",
       "max                                        5325625.00000      \n",
       "\n",
       "       pSvolFilm::CTRL_Position_controller::Actual_speed  \\\n",
       "count                                         2048.00000   \n",
       "mean                                          3306.29290   \n",
       "std                                           1073.54924   \n",
       "min                                           1988.22278   \n",
       "25%                                           2325.46558   \n",
       "50%                                           2965.97546   \n",
       "75%                                           4580.46240   \n",
       "max                                           4718.88330   \n",
       "\n",
       "       pSvolFilm::CTRL_Position_controller::Lag_error  pSpintor::VAX_speed  \n",
       "count                                      2048.00000           2048.00000  \n",
       "mean                                          0.86101           1340.74334  \n",
       "std                                           0.10976             73.92810  \n",
       "min                                           0.02962           1199.99963  \n",
       "25%                                           0.78847           1379.99976  \n",
       "50%                                           0.85650           1379.99976  \n",
       "75%                                           0.94370           1379.99976  \n",
       "max                                           1.14676           1379.99976  "
      ]
     },
     "execution_count": 47,
     "metadata": {},
     "output_type": "execute_result"
    }
   ],
   "source": [
    "t_new.describe()"
   ]
  },
  {
   "cell_type": "code",
   "execution_count": 72,
   "id": "942f2a5c-b13b-45ed-980f-ef0d3547bb70",
   "metadata": {},
   "outputs": [
    {
     "data": {
      "text/plain": [
       "array([ 2.04800000e+03,  2.04800000e+03,  2.04800000e+03,  2.04800000e+03,\n",
       "        2.04800000e+03,  2.04800000e+03,  2.04800000e+03,  2.04800000e+03,\n",
       "        2.04800000e+03,  4.10199971e+00, -9.79962931e-02, -3.99502344e-05,\n",
       "        6.28397222e+08,  1.29384563e+03,  5.31299819e+06,  3.30629290e+03,\n",
       "        8.61008625e-01,  1.34074334e+03,  2.36540382e+00,  4.86380249e-01,\n",
       "        9.30273273e-02,  3.78123009e+03,  3.48616446e+03,  7.97394829e+03,\n",
       "        1.07354924e+03,  1.09759764e-01,  7.39280994e+01,  8.00000000e-03,\n",
       "       -4.91820240e+00, -1.23869705e+00,  6.28390305e+08, -4.89578223e+03,\n",
       "        5.29855500e+06,  1.98822278e+03,  2.96161000e-02,  1.19999963e+03,\n",
       "        2.05499985e+00, -3.23410162e-01, -1.92379875e-02,  6.28394445e+08,\n",
       "       -1.26428604e+03,  5.30614375e+06,  2.32546558e+03,  7.88474422e-01,\n",
       "        1.37999976e+03,  4.10199971e+00, -1.32880515e-01,  2.62495000e-04,\n",
       "        6.28397506e+08,  1.43508911e+03,  5.31370350e+06,  2.96597546e+03,\n",
       "        8.56501040e-01,  1.37999976e+03,  6.14899957e+00,  2.70321470e-01,\n",
       "        2.01062500e-02,  6.28399827e+08,  3.73964301e+03,  5.32025475e+06,\n",
       "        4.58046240e+03,  9.43701340e-01,  1.37999976e+03,  8.19599943e+00,\n",
       "        1.00611090e+00,  9.15147780e-01,  6.28403507e+08,  7.67326318e+03,\n",
       "        5.32562500e+06,  4.71888330e+03,  1.14676475e+00,  1.37999976e+03])"
      ]
     },
     "execution_count": 72,
     "metadata": {},
     "output_type": "execute_result"
    }
   ],
   "source": [
    "t_new.describe().values.flatten()"
   ]
  },
  {
   "cell_type": "code",
   "execution_count": 49,
   "id": "fc027140-5d8c-4545-8c5f-eae4dd61ec4b",
   "metadata": {},
   "outputs": [
    {
     "data": {
      "text/plain": [
       "72"
      ]
     },
     "execution_count": 49,
     "metadata": {},
     "output_type": "execute_result"
    }
   ],
   "source": [
    "one_example_input_vector = t_new.describe().values.flatten()\n",
    "len(one_example_input_vector)"
   ]
  },
  {
   "cell_type": "code",
   "execution_count": 50,
   "id": "4121bd97",
   "metadata": {},
   "outputs": [],
   "source": [
    "nr_rows  = nr_files\n",
    "nr_cols = 72 + 1"
   ]
  },
  {
   "cell_type": "code",
   "execution_count": 51,
   "id": "06235256",
   "metadata": {},
   "outputs": [
    {
     "data": {
      "text/plain": [
       "(229, 73)"
      ]
     },
     "execution_count": 51,
     "metadata": {},
     "output_type": "execute_result"
    }
   ],
   "source": [
    "M = np.zeros( (nr_rows, nr_cols) )\n",
    "M.shape"
   ]
  },
  {
   "cell_type": "code",
   "execution_count": 52,
   "id": "4eff6845",
   "metadata": {},
   "outputs": [],
   "source": [
    "i = 0\n",
    "for file_name in list_files:\n",
    "    \n",
    "    t = pandas.read_csv( f\"{folder_name}/{file_name}\")\n",
    "    \n",
    "    input_vec = t.describe().values.flatten()\n",
    "        \n",
    "    target_value = filename_to_dayofyear( file_name )\n",
    "    \n",
    "    M[i,0:nr_cols-1] = input_vec\n",
    "    M[i,nr_cols-1]   = target_value\n",
    "    \n",
    "    i += 1"
   ]
  },
  {
   "cell_type": "code",
   "execution_count": 53,
   "id": "c4d64f40",
   "metadata": {},
   "outputs": [
    {
     "data": {
      "text/plain": [
       "array([ 2.04800000e+03,  2.04800000e+03,  2.04800000e+03,  2.04800000e+03,\n",
       "        2.04800000e+03,  2.04800000e+03,  2.04800000e+03,  2.04800000e+03,\n",
       "        2.04800000e+03,  4.10199971e+00, -9.43548531e-02, -4.55870029e-04,\n",
       "        6.68200971e+08,  1.62549572e+03,  1.23049747e+07,  4.48666994e+03,\n",
       "        9.24078689e-01,  1.79999976e+03,  2.36540382e+00,  5.45785554e-01,\n",
       "        1.22075148e-01,  4.67385381e+03,  4.76100725e+03,  1.04801618e+04,\n",
       "        1.34705830e+03,  1.42472799e-01,  0.00000000e+00,  8.00000000e-03,\n",
       "       -6.04466724e+00, -1.38317871e+00,  6.68191904e+08, -6.34117090e+03,\n",
       "        1.22862400e+07,  2.93451636e+03,  2.81405000e-03,  1.79999976e+03,\n",
       "        2.05499985e+00, -3.26272467e-01, -2.37670325e-02,  6.68197418e+08,\n",
       "       -2.11486816e+03,  1.22954220e+07,  3.05028589e+03,  8.36457175e-01,\n",
       "        1.79999976e+03,  4.10199971e+00, -1.18749075e-01, -9.82755000e-04,\n",
       "        6.68201084e+08,  1.85394287e+03,  1.23046045e+07,  4.35018091e+03,\n",
       "        9.18779935e-01,  1.79999976e+03,  6.14899957e+00,  2.69691630e-01,\n",
       "        2.23047675e-02,  6.68204750e+08,  4.97131348e+03,  1.23137880e+07,\n",
       "        5.98543127e+03,  1.01624384e+00,  1.79999976e+03,  8.19599943e+00,\n",
       "        1.74836659e+00,  1.30686044e+00,  6.68208706e+08,  9.94605957e+03,\n",
       "        1.23229700e+07,  6.13077295e+03,  1.31173920e+00,  1.79999976e+03,\n",
       "        5.00000000e+00])"
      ]
     },
     "execution_count": 53,
     "metadata": {},
     "output_type": "execute_result"
    }
   ],
   "source": [
    "M[10]"
   ]
  },
  {
   "cell_type": "code",
   "execution_count": 54,
   "id": "2e61d4bc",
   "metadata": {},
   "outputs": [
    {
     "data": {
      "text/plain": [
       "(73,)"
      ]
     },
     "execution_count": 54,
     "metadata": {},
     "output_type": "execute_result"
    }
   ],
   "source": [
    "M[0].shape"
   ]
  },
  {
   "cell_type": "markdown",
   "id": "6ba0d2f6-2b2d-449c-9234-ab8f4256d776",
   "metadata": {},
   "source": [
    "## Normalize our example data"
   ]
  },
  {
   "cell_type": "code",
   "execution_count": 55,
   "id": "40fa210f-7686-44d1-9a1e-dbfed46fe3ef",
   "metadata": {},
   "outputs": [
    {
     "data": {
      "text/plain": [
       "array([ 2.04800000e+03,  2.04800000e+03,  2.04800000e+03,  2.04800000e+03,\n",
       "        2.04800000e+03,  2.04800000e+03,  2.04800000e+03,  2.04800000e+03,\n",
       "        2.04800000e+03,  4.10199971e+00, -9.79962931e-02, -3.99502344e-05,\n",
       "        6.28397222e+08,  1.29384563e+03,  5.31299819e+06,  3.30629290e+03,\n",
       "        8.61008625e-01,  1.34074334e+03,  2.36540382e+00,  4.86380249e-01,\n",
       "        9.30273273e-02,  3.78123009e+03,  3.48616446e+03,  7.97394829e+03,\n",
       "        1.07354924e+03,  1.09759764e-01,  7.39280994e+01,  8.00000000e-03,\n",
       "       -4.91820240e+00, -1.23869705e+00,  6.28390305e+08, -4.89578223e+03,\n",
       "        5.29855500e+06,  1.98822278e+03,  2.96161000e-02,  1.19999963e+03,\n",
       "        2.05499985e+00, -3.23410162e-01, -1.92379875e-02,  6.28394445e+08,\n",
       "       -1.26428604e+03,  5.30614375e+06,  2.32546558e+03,  7.88474422e-01,\n",
       "        1.37999976e+03,  4.10199971e+00, -1.32880515e-01,  2.62495000e-04,\n",
       "        6.28397506e+08,  1.43508911e+03,  5.31370350e+06,  2.96597546e+03,\n",
       "        8.56501040e-01,  1.37999976e+03,  6.14899957e+00,  2.70321470e-01,\n",
       "        2.01062500e-02,  6.28399827e+08,  3.73964301e+03,  5.32025475e+06,\n",
       "        4.58046240e+03,  9.43701340e-01,  1.37999976e+03,  8.19599943e+00,\n",
       "        1.00611090e+00,  9.15147780e-01,  6.28403507e+08,  7.67326318e+03,\n",
       "        5.32562500e+06,  4.71888330e+03,  1.14676475e+00,  1.37999976e+03,\n",
       "        4.00000000e+00])"
      ]
     },
     "execution_count": 55,
     "metadata": {},
     "output_type": "execute_result"
    }
   ],
   "source": [
    "M[0]"
   ]
  },
  {
   "cell_type": "code",
   "execution_count": 56,
   "id": "65cda2d4-0741-421f-97b0-475154085519",
   "metadata": {},
   "outputs": [],
   "source": [
    "input_scaler = MinMaxScaler()\n",
    "M_scaled = input_scaler.fit_transform(M)"
   ]
  },
  {
   "cell_type": "code",
   "execution_count": 57,
   "id": "91361738-1282-4587-8e1e-77f6d67ad96c",
   "metadata": {},
   "outputs": [
    {
     "data": {
      "text/plain": [
       "array([0.        , 0.        , 0.        , 0.        , 0.        ,\n",
       "       0.        , 0.        , 0.        , 0.        , 0.5       ,\n",
       "       0.51222776, 0.44299941, 0.67516088, 0.21393515, 0.00934622,\n",
       "       0.09803341, 0.28200559, 0.06702082, 0.        , 0.23064308,\n",
       "       0.29372443, 0.18400343, 0.16197921, 0.09358789, 0.08264043,\n",
       "       0.03494442, 0.25542756, 0.5       , 0.47019243, 0.40578236,\n",
       "       0.67516069, 0.78378383, 0.00934134, 0.37099025, 0.64122856,\n",
       "       0.        , 0.5       , 0.68314311, 0.76278302, 0.67516088,\n",
       "       0.77085046, 0.00934777, 0.08860764, 0.25773107, 0.08571435,\n",
       "       0.5       , 0.70055276, 0.61010887, 0.67516093, 0.18297873,\n",
       "       0.00935159, 0.13303004, 0.26976178, 0.08571435, 0.5       ,\n",
       "       0.64443513, 0.23129677, 0.67516089, 0.14624953, 0.00934705,\n",
       "       0.07552603, 0.31051311, 0.08571435, 0.5       , 0.27292769,\n",
       "       0.40247712, 0.67516103, 0.34968734, 0.00933728, 0.07230086,\n",
       "       0.05123369, 0.08571435, 0.        ])"
      ]
     },
     "execution_count": 57,
     "metadata": {},
     "output_type": "execute_result"
    }
   ],
   "source": [
    "M_scaled[0]"
   ]
  },
  {
   "cell_type": "markdown",
   "id": "4a2459f9",
   "metadata": {},
   "source": [
    "## Split example data into input and output"
   ]
  },
  {
   "cell_type": "code",
   "execution_count": 58,
   "id": "fbbedebe-0c34-44d0-9ab6-401c904e61a2",
   "metadata": {},
   "outputs": [
    {
     "data": {
      "text/plain": [
       "(229, 73)"
      ]
     },
     "execution_count": 58,
     "metadata": {},
     "output_type": "execute_result"
    }
   ],
   "source": [
    "M_scaled.shape"
   ]
  },
  {
   "cell_type": "code",
   "execution_count": 59,
   "id": "c3b1df8b",
   "metadata": {},
   "outputs": [],
   "source": [
    "X = M_scaled[:,0:72]\n",
    "Y = M_scaled[:,72]"
   ]
  },
  {
   "cell_type": "code",
   "execution_count": 60,
   "id": "45d9193d-27ae-4f93-af07-cb8d828b0238",
   "metadata": {},
   "outputs": [
    {
     "data": {
      "text/plain": [
       "(229, 72)"
      ]
     },
     "execution_count": 60,
     "metadata": {},
     "output_type": "execute_result"
    }
   ],
   "source": [
    "X.shape"
   ]
  },
  {
   "cell_type": "code",
   "execution_count": 61,
   "id": "fd9ad438-e929-46e4-8798-904613194a0d",
   "metadata": {},
   "outputs": [
    {
     "data": {
      "text/plain": [
       "(229,)"
      ]
     },
     "execution_count": 61,
     "metadata": {},
     "output_type": "execute_result"
    }
   ],
   "source": [
    "Y.shape"
   ]
  },
  {
   "cell_type": "markdown",
   "id": "c915bb99",
   "metadata": {},
   "source": [
    "## Split input/output data into train and test data"
   ]
  },
  {
   "cell_type": "code",
   "execution_count": 62,
   "id": "546ffab2",
   "metadata": {},
   "outputs": [],
   "source": [
    "from sklearn.model_selection import train_test_split\n",
    "x_train, x_test, y_train, y_test = train_test_split(X, Y, test_size=0.20)"
   ]
  },
  {
   "cell_type": "code",
   "execution_count": 63,
   "id": "df92fe32-9cba-4026-8f45-faa3266547d7",
   "metadata": {},
   "outputs": [
    {
     "data": {
      "text/plain": [
       "array([0.        , 0.        , 0.        , 0.        , 0.        ,\n",
       "       0.        , 0.        , 0.        , 0.        , 0.5       ,\n",
       "       0.63846336, 0.53215908, 0.59998095, 0.3573358 , 0.14436577,\n",
       "       0.21768273, 0.62395033, 0.28571436, 0.        , 0.3350422 ,\n",
       "       0.44622231, 0.33634502, 0.37600167, 0.20440995, 0.09687801,\n",
       "       0.08054324, 0.        , 0.5       , 0.16392342, 0.43351118,\n",
       "       0.59998013, 0.68625147, 0.14435294, 0.53556483, 0.82756687,\n",
       "       0.28571436, 0.5       , 0.65902256, 0.7357373 , 0.59998071,\n",
       "       0.64007237, 0.14436155, 0.2911393 , 0.60640595, 0.28571436,\n",
       "       0.5       , 0.87741016, 0.51681064, 0.59998091, 0.17163121,\n",
       "       0.14436816, 0.30263879, 0.62072137, 0.28571436, 0.5       ,\n",
       "       0.76526235, 0.29423209, 0.5999812 , 0.35469278, 0.14436992,\n",
       "       0.1475858 , 0.64205689, 0.28571436, 0.5       , 0.24875486,\n",
       "       0.72227131, 0.5999814 , 0.65608473, 0.14436988, 0.14440784,\n",
       "       0.19581232, 0.28571436])"
      ]
     },
     "execution_count": 63,
     "metadata": {},
     "output_type": "execute_result"
    }
   ],
   "source": [
    "x_train[0]"
   ]
  },
  {
   "cell_type": "code",
   "execution_count": 64,
   "id": "f3aa1477",
   "metadata": {},
   "outputs": [
    {
     "data": {
      "text/plain": [
       "(183, 72)"
      ]
     },
     "execution_count": 64,
     "metadata": {},
     "output_type": "execute_result"
    }
   ],
   "source": [
    "x_train.shape"
   ]
  },
  {
   "cell_type": "code",
   "execution_count": 65,
   "id": "e3996c49",
   "metadata": {},
   "outputs": [
    {
     "data": {
      "text/plain": [
       "(183,)"
      ]
     },
     "execution_count": 65,
     "metadata": {},
     "output_type": "execute_result"
    }
   ],
   "source": [
    "y_train.shape"
   ]
  },
  {
   "cell_type": "code",
   "execution_count": 66,
   "id": "de60a868",
   "metadata": {},
   "outputs": [
    {
     "data": {
      "text/plain": [
       "array([0.67042254, 0.84225352, 0.45070423, 0.21126761, 0.26760563])"
      ]
     },
     "execution_count": 66,
     "metadata": {},
     "output_type": "execute_result"
    }
   ],
   "source": [
    "y_train[:5]"
   ]
  },
  {
   "cell_type": "code",
   "execution_count": 67,
   "id": "9a263146-9465-4c51-82b6-6214fade7d82",
   "metadata": {},
   "outputs": [
    {
     "data": {
      "text/plain": [
       "(46, 72)"
      ]
     },
     "execution_count": 67,
     "metadata": {},
     "output_type": "execute_result"
    }
   ],
   "source": [
    "x_test.shape"
   ]
  },
  {
   "cell_type": "code",
   "execution_count": 68,
   "id": "b66fa387-b6a1-44f5-ac18-3764d1f6dd5b",
   "metadata": {},
   "outputs": [
    {
     "data": {
      "text/plain": [
       "(46,)"
      ]
     },
     "execution_count": 68,
     "metadata": {},
     "output_type": "execute_result"
    }
   ],
   "source": [
    "y_test.shape"
   ]
  },
  {
   "cell_type": "code",
   "execution_count": 69,
   "id": "94d00b4e-b72e-44a7-8738-60b1d7482f39",
   "metadata": {},
   "outputs": [
    {
     "data": {
      "text/plain": [
       "array([0.86478873, 0.90704225, 0.15492958, 0.11549296, 0.46760563])"
      ]
     },
     "execution_count": 69,
     "metadata": {},
     "output_type": "execute_result"
    }
   ],
   "source": [
    "y_test[:5]"
   ]
  },
  {
   "cell_type": "code",
   "execution_count": 70,
   "id": "d1e8d423-96ba-4679-bddc-27a6137fda36",
   "metadata": {},
   "outputs": [
    {
     "name": "stdout",
     "output_type": "stream",
     "text": [
      "One example pair:  [0.         0.         0.         0.         0.         0.\n",
      " 0.         0.         0.         0.5        0.63846336 0.53215908\n",
      " 0.59998095 0.3573358  0.14436577 0.21768273 0.62395033 0.28571436\n",
      " 0.         0.3350422  0.44622231 0.33634502 0.37600167 0.20440995\n",
      " 0.09687801 0.08054324 0.         0.5        0.16392342 0.43351118\n",
      " 0.59998013 0.68625147 0.14435294 0.53556483 0.82756687 0.28571436\n",
      " 0.5        0.65902256 0.7357373  0.59998071 0.64007237 0.14436155\n",
      " 0.2911393  0.60640595 0.28571436 0.5        0.87741016 0.51681064\n",
      " 0.59998091 0.17163121 0.14436816 0.30263879 0.62072137 0.28571436\n",
      " 0.5        0.76526235 0.29423209 0.5999812  0.35469278 0.14436992\n",
      " 0.1475858  0.64205689 0.28571436 0.5        0.24875486 0.72227131\n",
      " 0.5999814  0.65608473 0.14436988 0.14440784 0.19581232 0.28571436] --> 0.6704225352112677\n"
     ]
    }
   ],
   "source": [
    "print(\"One example pair: \", x_train[0], \"-->\", y_train[0])"
   ]
  },
  {
   "cell_type": "markdown",
   "id": "808f6353",
   "metadata": {},
   "source": [
    "# M: Learning a model (here: using Neural Networks)"
   ]
  },
  {
   "cell_type": "markdown",
   "id": "f5825496-df50-4d0c-b453-a42643639c55",
   "metadata": {},
   "source": [
    "## Define a Neural Network using TensorFlow/Keras"
   ]
  },
  {
   "cell_type": "code",
   "execution_count": 73,
   "id": "e5b52ef8",
   "metadata": {},
   "outputs": [
    {
     "name": "stderr",
     "output_type": "stream",
     "text": [
      "2022-05-27 15:31:28.786142: W tensorflow/stream_executor/platform/default/dso_loader.cc:64] Could not load dynamic library 'libcudart.so.11.0'; dlerror: libcudart.so.11.0: cannot open shared object file: No such file or directory\n",
      "2022-05-27 15:31:28.786167: I tensorflow/stream_executor/cuda/cudart_stub.cc:29] Ignore above cudart dlerror if you do not have a GPU set up on your machine.\n"
     ]
    },
    {
     "data": {
      "text/plain": [
       "'2.8.0'"
      ]
     },
     "execution_count": 73,
     "metadata": {},
     "output_type": "execute_result"
    }
   ],
   "source": [
    "import tensorflow as tf\n",
    "tf.__version__"
   ]
  },
  {
   "cell_type": "code",
   "execution_count": 74,
   "id": "858235d3",
   "metadata": {},
   "outputs": [
    {
     "data": {
      "text/plain": [
       "72"
      ]
     },
     "execution_count": 74,
     "metadata": {},
     "output_type": "execute_result"
    }
   ],
   "source": [
    "nr_inputs = x_train.shape[1]\n",
    "nr_inputs"
   ]
  },
  {
   "cell_type": "code",
   "execution_count": 75,
   "id": "6815f866",
   "metadata": {},
   "outputs": [
    {
     "data": {
      "text/plain": [
       "1"
      ]
     },
     "execution_count": 75,
     "metadata": {},
     "output_type": "execute_result"
    }
   ],
   "source": [
    "nr_outputs = 1\n",
    "nr_outputs"
   ]
  },
  {
   "cell_type": "code",
   "execution_count": 76,
   "id": "792d6436",
   "metadata": {},
   "outputs": [
    {
     "name": "stdout",
     "output_type": "stream",
     "text": [
      "Model: \"sequential\"\n",
      "_________________________________________________________________\n",
      " Layer (type)                Output Shape              Param #   \n",
      "=================================================================\n",
      " HiddenLayer1 (Dense)        (None, 100)               7300      \n",
      "                                                                 \n",
      " OutputLayer (Dense)         (None, 1)                 101       \n",
      "                                                                 \n",
      "=================================================================\n",
      "Total params: 7,401\n",
      "Trainable params: 7,401\n",
      "Non-trainable params: 0\n",
      "_________________________________________________________________\n"
     ]
    },
    {
     "name": "stderr",
     "output_type": "stream",
     "text": [
      "2022-05-27 15:31:32.930226: I tensorflow/stream_executor/cuda/cuda_gpu_executor.cc:936] successful NUMA node read from SysFS had negative value (-1), but there must be at least one NUMA node, so returning NUMA node zero\n",
      "2022-05-27 15:31:32.930703: W tensorflow/stream_executor/platform/default/dso_loader.cc:64] Could not load dynamic library 'libcudart.so.11.0'; dlerror: libcudart.so.11.0: cannot open shared object file: No such file or directory\n",
      "2022-05-27 15:31:32.930765: W tensorflow/stream_executor/platform/default/dso_loader.cc:64] Could not load dynamic library 'libcublas.so.11'; dlerror: libcublas.so.11: cannot open shared object file: No such file or directory\n",
      "2022-05-27 15:31:32.930818: W tensorflow/stream_executor/platform/default/dso_loader.cc:64] Could not load dynamic library 'libcublasLt.so.11'; dlerror: libcublasLt.so.11: cannot open shared object file: No such file or directory\n",
      "2022-05-27 15:31:32.930869: W tensorflow/stream_executor/platform/default/dso_loader.cc:64] Could not load dynamic library 'libcufft.so.10'; dlerror: libcufft.so.10: cannot open shared object file: No such file or directory\n",
      "2022-05-27 15:31:32.930925: W tensorflow/stream_executor/platform/default/dso_loader.cc:64] Could not load dynamic library 'libcurand.so.10'; dlerror: libcurand.so.10: cannot open shared object file: No such file or directory\n",
      "2022-05-27 15:31:32.930975: W tensorflow/stream_executor/platform/default/dso_loader.cc:64] Could not load dynamic library 'libcusolver.so.11'; dlerror: libcusolver.so.11: cannot open shared object file: No such file or directory\n",
      "2022-05-27 15:31:32.931027: W tensorflow/stream_executor/platform/default/dso_loader.cc:64] Could not load dynamic library 'libcusparse.so.11'; dlerror: libcusparse.so.11: cannot open shared object file: No such file or directory\n",
      "2022-05-27 15:31:32.931077: W tensorflow/stream_executor/platform/default/dso_loader.cc:64] Could not load dynamic library 'libcudnn.so.8'; dlerror: libcudnn.so.8: cannot open shared object file: No such file or directory\n",
      "2022-05-27 15:31:32.931086: W tensorflow/core/common_runtime/gpu/gpu_device.cc:1850] Cannot dlopen some GPU libraries. Please make sure the missing libraries mentioned above are installed properly if you would like to use GPU. Follow the guide at https://www.tensorflow.org/install/gpu for how to download and setup the required libraries for your platform.\n",
      "Skipping registering GPU devices...\n",
      "2022-05-27 15:31:32.931735: I tensorflow/core/platform/cpu_feature_guard.cc:151] This TensorFlow binary is optimized with oneAPI Deep Neural Network Library (oneDNN) to use the following CPU instructions in performance-critical operations:  AVX2 FMA\n",
      "To enable them in other operations, rebuild TensorFlow with the appropriate compiler flags.\n"
     ]
    }
   ],
   "source": [
    "from tensorflow import keras\n",
    "\n",
    "tf.keras.backend.clear_session()\n",
    "\n",
    "model = keras.Sequential()\n",
    "model.add(keras.layers.Dense(100,\n",
    "                             activation=\"relu\",\n",
    "                             input_shape=(nr_inputs,),\n",
    "                             name=\"HiddenLayer1\"))\n",
    "model.add(keras.layers.Dense(nr_outputs,\n",
    "                             activation=\"linear\",\n",
    "                             name=\"OutputLayer\"))\n",
    "\n",
    "\n",
    "model.compile(optimizer='sgd',\n",
    "              loss=keras.losses.MeanAbsoluteError())\n",
    "\n",
    "model.summary()"
   ]
  },
  {
   "cell_type": "markdown",
   "id": "4b99ccfe",
   "metadata": {},
   "source": [
    "## Train the Neural Network"
   ]
  },
  {
   "cell_type": "code",
   "execution_count": 77,
   "id": "7722ea43",
   "metadata": {},
   "outputs": [
    {
     "data": {
      "text/plain": [
       "(183, 72)"
      ]
     },
     "execution_count": 77,
     "metadata": {},
     "output_type": "execute_result"
    }
   ],
   "source": [
    "x_train.shape"
   ]
  },
  {
   "cell_type": "code",
   "execution_count": 78,
   "id": "3bba2da9",
   "metadata": {},
   "outputs": [
    {
     "data": {
      "text/plain": [
       "(183,)"
      ]
     },
     "execution_count": 78,
     "metadata": {},
     "output_type": "execute_result"
    }
   ],
   "source": [
    "y_train.shape"
   ]
  },
  {
   "cell_type": "code",
   "execution_count": 79,
   "id": "ffece0f8",
   "metadata": {},
   "outputs": [
    {
     "name": "stdout",
     "output_type": "stream",
     "text": [
      "Epoch 1/200\n",
      "6/6 [==============================] - 0s 25ms/step - loss: 0.3366 - val_loss: 0.2425\n",
      "Epoch 2/200\n",
      "6/6 [==============================] - 0s 5ms/step - loss: 0.2493 - val_loss: 0.2282\n",
      "Epoch 3/200\n",
      "6/6 [==============================] - 0s 5ms/step - loss: 0.2337 - val_loss: 0.2427\n",
      "Epoch 4/200\n",
      "6/6 [==============================] - 0s 4ms/step - loss: 0.2290 - val_loss: 0.2222\n",
      "Epoch 5/200\n",
      "6/6 [==============================] - 0s 5ms/step - loss: 0.2204 - val_loss: 0.2013\n",
      "Epoch 6/200\n",
      "6/6 [==============================] - 0s 5ms/step - loss: 0.2056 - val_loss: 0.2160\n",
      "Epoch 7/200\n",
      "6/6 [==============================] - 0s 4ms/step - loss: 0.2080 - val_loss: 0.2438\n",
      "Epoch 8/200\n",
      "6/6 [==============================] - 0s 4ms/step - loss: 0.2017 - val_loss: 0.1790\n",
      "Epoch 9/200\n",
      "6/6 [==============================] - 0s 5ms/step - loss: 0.1836 - val_loss: 0.1705\n",
      "Epoch 10/200\n",
      "6/6 [==============================] - 0s 5ms/step - loss: 0.1743 - val_loss: 0.2823\n",
      "Epoch 11/200\n",
      "6/6 [==============================] - 0s 5ms/step - loss: 0.2047 - val_loss: 0.1906\n",
      "Epoch 12/200\n",
      "6/6 [==============================] - 0s 5ms/step - loss: 0.1654 - val_loss: 0.1544\n",
      "Epoch 13/200\n",
      "6/6 [==============================] - 0s 4ms/step - loss: 0.1576 - val_loss: 0.1553\n",
      "Epoch 14/200\n",
      "6/6 [==============================] - 0s 5ms/step - loss: 0.1553 - val_loss: 0.2525\n",
      "Epoch 15/200\n",
      "6/6 [==============================] - 0s 5ms/step - loss: 0.1667 - val_loss: 0.1642\n",
      "Epoch 16/200\n",
      "6/6 [==============================] - 0s 4ms/step - loss: 0.1598 - val_loss: 0.1414\n",
      "Epoch 17/200\n",
      "6/6 [==============================] - 0s 4ms/step - loss: 0.1439 - val_loss: 0.1314\n",
      "Epoch 18/200\n",
      "6/6 [==============================] - 0s 5ms/step - loss: 0.1415 - val_loss: 0.1641\n",
      "Epoch 19/200\n",
      "6/6 [==============================] - 0s 5ms/step - loss: 0.1451 - val_loss: 0.1745\n",
      "Epoch 20/200\n",
      "6/6 [==============================] - 0s 5ms/step - loss: 0.1483 - val_loss: 0.2384\n",
      "Epoch 21/200\n",
      "6/6 [==============================] - 0s 4ms/step - loss: 0.1553 - val_loss: 0.1306\n",
      "Epoch 22/200\n",
      "6/6 [==============================] - 0s 4ms/step - loss: 0.1401 - val_loss: 0.1225\n",
      "Epoch 23/200\n",
      "6/6 [==============================] - 0s 4ms/step - loss: 0.1313 - val_loss: 0.1158\n",
      "Epoch 24/200\n",
      "6/6 [==============================] - 0s 5ms/step - loss: 0.1399 - val_loss: 0.1461\n",
      "Epoch 25/200\n",
      "6/6 [==============================] - 0s 4ms/step - loss: 0.1338 - val_loss: 0.1971\n",
      "Epoch 26/200\n",
      "6/6 [==============================] - 0s 4ms/step - loss: 0.1460 - val_loss: 0.1619\n",
      "Epoch 27/200\n",
      "6/6 [==============================] - 0s 4ms/step - loss: 0.1405 - val_loss: 0.1140\n",
      "Epoch 28/200\n",
      "6/6 [==============================] - 0s 6ms/step - loss: 0.1243 - val_loss: 0.1356\n",
      "Epoch 29/200\n",
      "6/6 [==============================] - 0s 4ms/step - loss: 0.1311 - val_loss: 0.1229\n",
      "Epoch 30/200\n",
      "6/6 [==============================] - 0s 4ms/step - loss: 0.1283 - val_loss: 0.1204\n",
      "Epoch 31/200\n",
      "6/6 [==============================] - 0s 4ms/step - loss: 0.1228 - val_loss: 0.1542\n",
      "Epoch 32/200\n",
      "6/6 [==============================] - 0s 5ms/step - loss: 0.1207 - val_loss: 0.1191\n",
      "Epoch 33/200\n",
      "6/6 [==============================] - 0s 6ms/step - loss: 0.1220 - val_loss: 0.1329\n",
      "Epoch 34/200\n",
      "6/6 [==============================] - 0s 4ms/step - loss: 0.1294 - val_loss: 0.1791\n",
      "Epoch 35/200\n",
      "6/6 [==============================] - 0s 4ms/step - loss: 0.1389 - val_loss: 0.1417\n",
      "Epoch 36/200\n",
      "6/6 [==============================] - 0s 4ms/step - loss: 0.1373 - val_loss: 0.1118\n",
      "Epoch 37/200\n",
      "6/6 [==============================] - 0s 4ms/step - loss: 0.1160 - val_loss: 0.1436\n",
      "Epoch 38/200\n",
      "6/6 [==============================] - 0s 4ms/step - loss: 0.1231 - val_loss: 0.1315\n",
      "Epoch 39/200\n",
      "6/6 [==============================] - 0s 4ms/step - loss: 0.1210 - val_loss: 0.1368\n",
      "Epoch 40/200\n",
      "6/6 [==============================] - 0s 4ms/step - loss: 0.1326 - val_loss: 0.1942\n",
      "Epoch 41/200\n",
      "6/6 [==============================] - 0s 4ms/step - loss: 0.1331 - val_loss: 0.1998\n",
      "Epoch 42/200\n",
      "6/6 [==============================] - 0s 4ms/step - loss: 0.1383 - val_loss: 0.1266\n",
      "Epoch 43/200\n",
      "6/6 [==============================] - 0s 4ms/step - loss: 0.1191 - val_loss: 0.2005\n",
      "Epoch 44/200\n",
      "6/6 [==============================] - 0s 4ms/step - loss: 0.1326 - val_loss: 0.1084\n",
      "Epoch 45/200\n",
      "6/6 [==============================] - 0s 4ms/step - loss: 0.1127 - val_loss: 0.1297\n",
      "Epoch 46/200\n",
      "6/6 [==============================] - 0s 4ms/step - loss: 0.1124 - val_loss: 0.1088\n",
      "Epoch 47/200\n",
      "6/6 [==============================] - 0s 4ms/step - loss: 0.1069 - val_loss: 0.1211\n",
      "Epoch 48/200\n",
      "6/6 [==============================] - 0s 4ms/step - loss: 0.1253 - val_loss: 0.1161\n",
      "Epoch 49/200\n",
      "6/6 [==============================] - 0s 5ms/step - loss: 0.1176 - val_loss: 0.1085\n",
      "Epoch 50/200\n",
      "6/6 [==============================] - 0s 4ms/step - loss: 0.1170 - val_loss: 0.1480\n",
      "Epoch 51/200\n",
      "6/6 [==============================] - 0s 4ms/step - loss: 0.1180 - val_loss: 0.1198\n",
      "Epoch 52/200\n",
      "6/6 [==============================] - 0s 5ms/step - loss: 0.1076 - val_loss: 0.1349\n",
      "Epoch 53/200\n",
      "6/6 [==============================] - 0s 4ms/step - loss: 0.1077 - val_loss: 0.1111\n",
      "Epoch 54/200\n",
      "6/6 [==============================] - 0s 4ms/step - loss: 0.1030 - val_loss: 0.1238\n",
      "Epoch 55/200\n",
      "6/6 [==============================] - 0s 4ms/step - loss: 0.1057 - val_loss: 0.1110\n",
      "Epoch 56/200\n",
      "6/6 [==============================] - 0s 5ms/step - loss: 0.1190 - val_loss: 0.1020\n",
      "Epoch 57/200\n",
      "6/6 [==============================] - 0s 4ms/step - loss: 0.1083 - val_loss: 0.1350\n",
      "Epoch 58/200\n",
      "6/6 [==============================] - 0s 4ms/step - loss: 0.1058 - val_loss: 0.1853\n",
      "Epoch 59/200\n",
      "6/6 [==============================] - 0s 4ms/step - loss: 0.1368 - val_loss: 0.1058\n",
      "Epoch 60/200\n",
      "6/6 [==============================] - 0s 5ms/step - loss: 0.1011 - val_loss: 0.1780\n",
      "Epoch 61/200\n",
      "6/6 [==============================] - 0s 4ms/step - loss: 0.1333 - val_loss: 0.1676\n",
      "Epoch 62/200\n",
      "6/6 [==============================] - 0s 4ms/step - loss: 0.1126 - val_loss: 0.1334\n",
      "Epoch 63/200\n",
      "6/6 [==============================] - 0s 4ms/step - loss: 0.1073 - val_loss: 0.1089\n",
      "Epoch 64/200\n",
      "6/6 [==============================] - 0s 4ms/step - loss: 0.1208 - val_loss: 0.1170\n",
      "Epoch 65/200\n",
      "6/6 [==============================] - 0s 5ms/step - loss: 0.1025 - val_loss: 0.1177\n",
      "Epoch 66/200\n",
      "6/6 [==============================] - 0s 4ms/step - loss: 0.1056 - val_loss: 0.1930\n",
      "Epoch 67/200\n",
      "6/6 [==============================] - 0s 4ms/step - loss: 0.1292 - val_loss: 0.1775\n",
      "Epoch 68/200\n",
      "6/6 [==============================] - 0s 4ms/step - loss: 0.1242 - val_loss: 0.1029\n",
      "Epoch 69/200\n",
      "6/6 [==============================] - 0s 4ms/step - loss: 0.1099 - val_loss: 0.1047\n",
      "Epoch 70/200\n",
      "6/6 [==============================] - 0s 4ms/step - loss: 0.0946 - val_loss: 0.1150\n",
      "Epoch 71/200\n",
      "6/6 [==============================] - 0s 4ms/step - loss: 0.0957 - val_loss: 0.1074\n",
      "Epoch 72/200\n",
      "6/6 [==============================] - 0s 5ms/step - loss: 0.0969 - val_loss: 0.1542\n",
      "Epoch 73/200\n",
      "6/6 [==============================] - 0s 5ms/step - loss: 0.1056 - val_loss: 0.1572\n",
      "Epoch 74/200\n",
      "6/6 [==============================] - 0s 4ms/step - loss: 0.1070 - val_loss: 0.1121\n",
      "Epoch 75/200\n",
      "6/6 [==============================] - 0s 4ms/step - loss: 0.1090 - val_loss: 0.1454\n",
      "Epoch 76/200\n",
      "6/6 [==============================] - 0s 4ms/step - loss: 0.1023 - val_loss: 0.2003\n",
      "Epoch 77/200\n",
      "6/6 [==============================] - 0s 5ms/step - loss: 0.1146 - val_loss: 0.1706\n",
      "Epoch 78/200\n",
      "6/6 [==============================] - 0s 4ms/step - loss: 0.1127 - val_loss: 0.1497\n",
      "Epoch 79/200\n",
      "6/6 [==============================] - 0s 4ms/step - loss: 0.0974 - val_loss: 0.1862\n",
      "Epoch 80/200\n",
      "6/6 [==============================] - 0s 5ms/step - loss: 0.1038 - val_loss: 0.1070\n",
      "Epoch 81/200\n",
      "6/6 [==============================] - 0s 4ms/step - loss: 0.1053 - val_loss: 0.1089\n",
      "Epoch 82/200\n",
      "6/6 [==============================] - 0s 4ms/step - loss: 0.1162 - val_loss: 0.1509\n",
      "Epoch 83/200\n",
      "6/6 [==============================] - 0s 5ms/step - loss: 0.1043 - val_loss: 0.1142\n",
      "Epoch 84/200\n",
      "6/6 [==============================] - 0s 5ms/step - loss: 0.0976 - val_loss: 0.0962\n",
      "Epoch 85/200\n",
      "6/6 [==============================] - 0s 5ms/step - loss: 0.0850 - val_loss: 0.0969\n",
      "Epoch 86/200\n",
      "6/6 [==============================] - 0s 4ms/step - loss: 0.1070 - val_loss: 0.0972\n",
      "Epoch 87/200\n",
      "6/6 [==============================] - 0s 4ms/step - loss: 0.0892 - val_loss: 0.0983\n",
      "Epoch 88/200\n",
      "6/6 [==============================] - 0s 5ms/step - loss: 0.0893 - val_loss: 0.1627\n",
      "Epoch 89/200\n",
      "6/6 [==============================] - 0s 5ms/step - loss: 0.1055 - val_loss: 0.1081\n",
      "Epoch 90/200\n",
      "6/6 [==============================] - 0s 5ms/step - loss: 0.1063 - val_loss: 0.1005\n",
      "Epoch 91/200\n",
      "6/6 [==============================] - 0s 4ms/step - loss: 0.0843 - val_loss: 0.0988\n",
      "Epoch 92/200\n",
      "6/6 [==============================] - 0s 4ms/step - loss: 0.1157 - val_loss: 0.1726\n",
      "Epoch 93/200\n",
      "6/6 [==============================] - 0s 5ms/step - loss: 0.1103 - val_loss: 0.1407\n",
      "Epoch 94/200\n",
      "6/6 [==============================] - 0s 5ms/step - loss: 0.1013 - val_loss: 0.0966\n",
      "Epoch 95/200\n",
      "6/6 [==============================] - 0s 4ms/step - loss: 0.0921 - val_loss: 0.0982\n",
      "Epoch 96/200\n",
      "6/6 [==============================] - 0s 4ms/step - loss: 0.0876 - val_loss: 0.0955\n",
      "Epoch 97/200\n",
      "6/6 [==============================] - 0s 4ms/step - loss: 0.0927 - val_loss: 0.1776\n",
      "Epoch 98/200\n",
      "6/6 [==============================] - 0s 4ms/step - loss: 0.1069 - val_loss: 0.1277\n",
      "Epoch 99/200\n",
      "6/6 [==============================] - 0s 4ms/step - loss: 0.0943 - val_loss: 0.1219\n",
      "Epoch 100/200\n",
      "6/6 [==============================] - 0s 6ms/step - loss: 0.0982 - val_loss: 0.0979\n",
      "Epoch 101/200\n",
      "6/6 [==============================] - 0s 5ms/step - loss: 0.0809 - val_loss: 0.1020\n",
      "Epoch 102/200\n",
      "6/6 [==============================] - 0s 5ms/step - loss: 0.1200 - val_loss: 0.1095\n",
      "Epoch 103/200\n",
      "6/6 [==============================] - 0s 5ms/step - loss: 0.1072 - val_loss: 0.2222\n",
      "Epoch 104/200\n",
      "6/6 [==============================] - 0s 5ms/step - loss: 0.1032 - val_loss: 0.2801\n",
      "Epoch 105/200\n",
      "6/6 [==============================] - 0s 5ms/step - loss: 0.1207 - val_loss: 0.0911\n",
      "Epoch 106/200\n",
      "6/6 [==============================] - 0s 5ms/step - loss: 0.0782 - val_loss: 0.0892\n",
      "Epoch 107/200\n",
      "6/6 [==============================] - 0s 5ms/step - loss: 0.0962 - val_loss: 0.1286\n",
      "Epoch 108/200\n",
      "6/6 [==============================] - 0s 5ms/step - loss: 0.1049 - val_loss: 0.1274\n",
      "Epoch 109/200\n",
      "6/6 [==============================] - 0s 5ms/step - loss: 0.1037 - val_loss: 0.0878\n",
      "Epoch 110/200\n",
      "6/6 [==============================] - 0s 4ms/step - loss: 0.0800 - val_loss: 0.1126\n",
      "Epoch 111/200\n",
      "6/6 [==============================] - 0s 4ms/step - loss: 0.1036 - val_loss: 0.1520\n",
      "Epoch 112/200\n",
      "6/6 [==============================] - 0s 5ms/step - loss: 0.1118 - val_loss: 0.0891\n",
      "Epoch 113/200\n",
      "6/6 [==============================] - 0s 4ms/step - loss: 0.0966 - val_loss: 0.1416\n",
      "Epoch 114/200\n",
      "6/6 [==============================] - 0s 5ms/step - loss: 0.1022 - val_loss: 0.1076\n",
      "Epoch 115/200\n",
      "6/6 [==============================] - 0s 5ms/step - loss: 0.0832 - val_loss: 0.1244\n",
      "Epoch 116/200\n",
      "6/6 [==============================] - 0s 4ms/step - loss: 0.0978 - val_loss: 0.1486\n",
      "Epoch 117/200\n",
      "6/6 [==============================] - 0s 5ms/step - loss: 0.0906 - val_loss: 0.1615\n",
      "Epoch 118/200\n",
      "6/6 [==============================] - 0s 5ms/step - loss: 0.0935 - val_loss: 0.1029\n",
      "Epoch 119/200\n",
      "6/6 [==============================] - 0s 5ms/step - loss: 0.0901 - val_loss: 0.0990\n",
      "Epoch 120/200\n",
      "6/6 [==============================] - 0s 4ms/step - loss: 0.0943 - val_loss: 0.1259\n",
      "Epoch 121/200\n",
      "6/6 [==============================] - 0s 4ms/step - loss: 0.0785 - val_loss: 0.1397\n",
      "Epoch 122/200\n",
      "6/6 [==============================] - 0s 4ms/step - loss: 0.0993 - val_loss: 0.2117\n",
      "Epoch 123/200\n",
      "6/6 [==============================] - 0s 4ms/step - loss: 0.1038 - val_loss: 0.1428\n",
      "Epoch 124/200\n",
      "6/6 [==============================] - 0s 5ms/step - loss: 0.1080 - val_loss: 0.1887\n",
      "Epoch 125/200\n",
      "6/6 [==============================] - 0s 4ms/step - loss: 0.1101 - val_loss: 0.1185\n",
      "Epoch 126/200\n",
      "6/6 [==============================] - 0s 4ms/step - loss: 0.0928 - val_loss: 0.1084\n",
      "Epoch 127/200\n",
      "6/6 [==============================] - 0s 4ms/step - loss: 0.1054 - val_loss: 0.1102\n",
      "Epoch 128/200\n",
      "6/6 [==============================] - 0s 5ms/step - loss: 0.0852 - val_loss: 0.1033\n",
      "Epoch 129/200\n",
      "6/6 [==============================] - 0s 4ms/step - loss: 0.0907 - val_loss: 0.1738\n",
      "Epoch 130/200\n",
      "6/6 [==============================] - 0s 4ms/step - loss: 0.1160 - val_loss: 0.1036\n",
      "Epoch 131/200\n",
      "6/6 [==============================] - 0s 7ms/step - loss: 0.1096 - val_loss: 0.1235\n",
      "Epoch 132/200\n",
      "6/6 [==============================] - 0s 4ms/step - loss: 0.0996 - val_loss: 0.0826\n",
      "Epoch 133/200\n",
      "6/6 [==============================] - 0s 5ms/step - loss: 0.0786 - val_loss: 0.0996\n",
      "Epoch 134/200\n",
      "6/6 [==============================] - 0s 4ms/step - loss: 0.1043 - val_loss: 0.1141\n",
      "Epoch 135/200\n",
      "6/6 [==============================] - 0s 4ms/step - loss: 0.1063 - val_loss: 0.1089\n",
      "Epoch 136/200\n",
      "6/6 [==============================] - 0s 4ms/step - loss: 0.0959 - val_loss: 0.1991\n",
      "Epoch 137/200\n",
      "6/6 [==============================] - 0s 5ms/step - loss: 0.1023 - val_loss: 0.2012\n",
      "Epoch 138/200\n",
      "6/6 [==============================] - 0s 4ms/step - loss: 0.1102 - val_loss: 0.1407\n",
      "Epoch 139/200\n",
      "6/6 [==============================] - 0s 4ms/step - loss: 0.1183 - val_loss: 0.1288\n",
      "Epoch 140/200\n",
      "6/6 [==============================] - 0s 4ms/step - loss: 0.1144 - val_loss: 0.1139\n",
      "Epoch 141/200\n",
      "6/6 [==============================] - 0s 4ms/step - loss: 0.1019 - val_loss: 0.0868\n",
      "Epoch 142/200\n",
      "6/6 [==============================] - 0s 5ms/step - loss: 0.0732 - val_loss: 0.1140\n",
      "Epoch 143/200\n",
      "6/6 [==============================] - 0s 4ms/step - loss: 0.0809 - val_loss: 0.2113\n",
      "Epoch 144/200\n",
      "6/6 [==============================] - 0s 4ms/step - loss: 0.1001 - val_loss: 0.0856\n",
      "Epoch 145/200\n",
      "6/6 [==============================] - 0s 4ms/step - loss: 0.1020 - val_loss: 0.0836\n",
      "Epoch 146/200\n",
      "6/6 [==============================] - 0s 5ms/step - loss: 0.0781 - val_loss: 0.1992\n",
      "Epoch 147/200\n",
      "6/6 [==============================] - 0s 4ms/step - loss: 0.1117 - val_loss: 0.0985\n",
      "Epoch 148/200\n",
      "6/6 [==============================] - 0s 4ms/step - loss: 0.0987 - val_loss: 0.1067\n",
      "Epoch 149/200\n",
      "6/6 [==============================] - 0s 4ms/step - loss: 0.0832 - val_loss: 0.0983\n",
      "Epoch 150/200\n",
      "6/6 [==============================] - 0s 4ms/step - loss: 0.1063 - val_loss: 0.0845\n",
      "Epoch 151/200\n",
      "6/6 [==============================] - 0s 4ms/step - loss: 0.0730 - val_loss: 0.0865\n",
      "Epoch 152/200\n",
      "6/6 [==============================] - 0s 5ms/step - loss: 0.0703 - val_loss: 0.1307\n",
      "Epoch 153/200\n",
      "6/6 [==============================] - 0s 4ms/step - loss: 0.0752 - val_loss: 0.1274\n",
      "Epoch 154/200\n",
      "6/6 [==============================] - 0s 4ms/step - loss: 0.0843 - val_loss: 0.0848\n",
      "Epoch 155/200\n",
      "6/6 [==============================] - 0s 4ms/step - loss: 0.0918 - val_loss: 0.0932\n",
      "Epoch 156/200\n",
      "6/6 [==============================] - 0s 5ms/step - loss: 0.0785 - val_loss: 0.1497\n",
      "Epoch 157/200\n",
      "6/6 [==============================] - 0s 5ms/step - loss: 0.0947 - val_loss: 0.1144\n",
      "Epoch 158/200\n",
      "6/6 [==============================] - 0s 5ms/step - loss: 0.0753 - val_loss: 0.1580\n",
      "Epoch 159/200\n",
      "6/6 [==============================] - 0s 4ms/step - loss: 0.0938 - val_loss: 0.1043\n",
      "Epoch 160/200\n",
      "6/6 [==============================] - 0s 4ms/step - loss: 0.0866 - val_loss: 0.2015\n",
      "Epoch 161/200\n",
      "6/6 [==============================] - 0s 5ms/step - loss: 0.0964 - val_loss: 0.1660\n",
      "Epoch 162/200\n",
      "6/6 [==============================] - 0s 5ms/step - loss: 0.1081 - val_loss: 0.2239\n",
      "Epoch 163/200\n",
      "6/6 [==============================] - 0s 4ms/step - loss: 0.1117 - val_loss: 0.1079\n",
      "Epoch 164/200\n",
      "6/6 [==============================] - 0s 4ms/step - loss: 0.1115 - val_loss: 0.1006\n",
      "Epoch 165/200\n",
      "6/6 [==============================] - 0s 5ms/step - loss: 0.0870 - val_loss: 0.1346\n",
      "Epoch 166/200\n",
      "6/6 [==============================] - 0s 5ms/step - loss: 0.0866 - val_loss: 0.1159\n",
      "Epoch 167/200\n",
      "6/6 [==============================] - 0s 5ms/step - loss: 0.0858 - val_loss: 0.0838\n",
      "Epoch 168/200\n",
      "6/6 [==============================] - 0s 5ms/step - loss: 0.0698 - val_loss: 0.0776\n",
      "Epoch 169/200\n",
      "6/6 [==============================] - 0s 4ms/step - loss: 0.0823 - val_loss: 0.1640\n",
      "Epoch 170/200\n",
      "6/6 [==============================] - 0s 5ms/step - loss: 0.0952 - val_loss: 0.1088\n",
      "Epoch 171/200\n",
      "6/6 [==============================] - 0s 5ms/step - loss: 0.0825 - val_loss: 0.1178\n",
      "Epoch 172/200\n",
      "6/6 [==============================] - 0s 4ms/step - loss: 0.0987 - val_loss: 0.1927\n",
      "Epoch 173/200\n",
      "6/6 [==============================] - 0s 4ms/step - loss: 0.0837 - val_loss: 0.1617\n",
      "Epoch 174/200\n",
      "6/6 [==============================] - 0s 4ms/step - loss: 0.0951 - val_loss: 0.1308\n",
      "Epoch 175/200\n",
      "6/6 [==============================] - 0s 4ms/step - loss: 0.1123 - val_loss: 0.0940\n",
      "Epoch 176/200\n",
      "6/6 [==============================] - 0s 4ms/step - loss: 0.1069 - val_loss: 0.0896\n",
      "Epoch 177/200\n",
      "6/6 [==============================] - 0s 4ms/step - loss: 0.0790 - val_loss: 0.1095\n",
      "Epoch 178/200\n",
      "6/6 [==============================] - 0s 5ms/step - loss: 0.1080 - val_loss: 0.1097\n",
      "Epoch 179/200\n",
      "6/6 [==============================] - 0s 5ms/step - loss: 0.0884 - val_loss: 0.2403\n",
      "Epoch 180/200\n",
      "6/6 [==============================] - 0s 6ms/step - loss: 0.0936 - val_loss: 0.0769\n",
      "Epoch 181/200\n",
      "6/6 [==============================] - 0s 4ms/step - loss: 0.0749 - val_loss: 0.0775\n",
      "Epoch 182/200\n",
      "6/6 [==============================] - 0s 4ms/step - loss: 0.0937 - val_loss: 0.1041\n",
      "Epoch 183/200\n",
      "6/6 [==============================] - 0s 4ms/step - loss: 0.0772 - val_loss: 0.2369\n",
      "Epoch 184/200\n",
      "6/6 [==============================] - 0s 5ms/step - loss: 0.0990 - val_loss: 0.1017\n",
      "Epoch 185/200\n",
      "6/6 [==============================] - 0s 5ms/step - loss: 0.0985 - val_loss: 0.0842\n",
      "Epoch 186/200\n",
      "6/6 [==============================] - 0s 4ms/step - loss: 0.1021 - val_loss: 0.1043\n",
      "Epoch 187/200\n",
      "6/6 [==============================] - 0s 4ms/step - loss: 0.0953 - val_loss: 0.0827\n",
      "Epoch 188/200\n",
      "6/6 [==============================] - 0s 4ms/step - loss: 0.0674 - val_loss: 0.1405\n",
      "Epoch 189/200\n",
      "6/6 [==============================] - 0s 4ms/step - loss: 0.0845 - val_loss: 0.1267\n",
      "Epoch 190/200\n",
      "6/6 [==============================] - 0s 4ms/step - loss: 0.1025 - val_loss: 0.0723\n",
      "Epoch 191/200\n",
      "6/6 [==============================] - 0s 4ms/step - loss: 0.0732 - val_loss: 0.0754\n",
      "Epoch 192/200\n",
      "6/6 [==============================] - 0s 5ms/step - loss: 0.0667 - val_loss: 0.2352\n",
      "Epoch 193/200\n",
      "6/6 [==============================] - 0s 5ms/step - loss: 0.0909 - val_loss: 0.1132\n",
      "Epoch 194/200\n",
      "6/6 [==============================] - 0s 5ms/step - loss: 0.0889 - val_loss: 0.1558\n",
      "Epoch 195/200\n",
      "6/6 [==============================] - 0s 4ms/step - loss: 0.1012 - val_loss: 0.1772\n",
      "Epoch 196/200\n",
      "6/6 [==============================] - 0s 5ms/step - loss: 0.1068 - val_loss: 0.2143\n",
      "Epoch 197/200\n",
      "6/6 [==============================] - 0s 5ms/step - loss: 0.0883 - val_loss: 0.1643\n",
      "Epoch 198/200\n",
      "6/6 [==============================] - 0s 5ms/step - loss: 0.1022 - val_loss: 0.1772\n",
      "Epoch 199/200\n",
      "6/6 [==============================] - 0s 5ms/step - loss: 0.0905 - val_loss: 0.2055\n",
      "Epoch 200/200\n",
      "6/6 [==============================] - 0s 4ms/step - loss: 0.0917 - val_loss: 0.0748\n"
     ]
    }
   ],
   "source": [
    "history = model.fit(x_train,\n",
    "                    y_train,\n",
    "                    validation_split=0.1,\n",
    "                    epochs=200)"
   ]
  },
  {
   "cell_type": "markdown",
   "id": "dd158dc3",
   "metadata": {},
   "source": [
    "## Plotting the loss (model error) during the training process"
   ]
  },
  {
   "cell_type": "code",
   "execution_count": 80,
   "id": "d0147736",
   "metadata": {},
   "outputs": [
    {
     "data": {
      "text/plain": [
       "[0.33656546473503113,\n",
       " 0.24934320151805878,\n",
       " 0.23374143242835999,\n",
       " 0.2289731353521347,\n",
       " 0.22040797770023346,\n",
       " 0.20563943684101105,\n",
       " 0.20795613527297974,\n",
       " 0.2016741782426834,\n",
       " 0.18356652557849884,\n",
       " 0.1743083894252777]"
      ]
     },
     "execution_count": 80,
     "metadata": {},
     "output_type": "execute_result"
    }
   ],
   "source": [
    "history.history[\"loss\"][:10]"
   ]
  },
  {
   "cell_type": "code",
   "execution_count": 81,
   "id": "571a5d0c",
   "metadata": {},
   "outputs": [
    {
     "data": {
      "image/png": "[encoded data removed]",
      "text/plain": [
       "<Figure size 432x288 with 1 Axes>"
      ]
     },
     "metadata": {
      "needs_background": "light"
     },
     "output_type": "display_data"
    }
   ],
   "source": [
    "import matplotlib.pyplot as plt\n",
    "y1 = history.history[\"loss\"][1:]\n",
    "y2 = history.history[\"val_loss\"][1:]\n",
    "plt.plot(y1, color=\"red\", label=\"loss\")\n",
    "plt.plot(y2, color=\"green\", label=\"val_loss\")\n",
    "plt.xlabel(\"Trainingsepoche\")\n",
    "plt.ylabel(\"Fehler\")\n",
    "plt.title(\"Fehlerkurven\")\n",
    "plt.legend()\n",
    "plt.show()"
   ]
  },
  {
   "cell_type": "markdown",
   "id": "d21505fa-2760-4b04-8b29-e63f91ecacbb",
   "metadata": {},
   "source": [
    "# N: Testing the model"
   ]
  },
  {
   "cell_type": "markdown",
   "id": "e5ba7f9e",
   "metadata": {},
   "source": [
    "## Baseline model"
   ]
  },
  {
   "cell_type": "code",
   "execution_count": 82,
   "id": "4732fc58",
   "metadata": {},
   "outputs": [
    {
     "name": "stdout",
     "output_type": "stream",
     "text": [
      "Average error for baseline approach: 90.2 days\n"
     ]
    }
   ],
   "source": [
    "N = x_test.shape[0]\n",
    "\n",
    "age_predicted = 365/2\n",
    "\n",
    "sum_errors = 0\n",
    "for i in range(0,N):\n",
    "    \n",
    "    x = x_test[i]\n",
    "    y = y_test[i]\n",
    "    \n",
    "    age_real = y*365\n",
    "    #print( f\"Test example {i}: {age_real} vs. predicted: {age_predicted}\" )\n",
    "    \n",
    "    error = abs(age_real - age_predicted)\n",
    "    sum_errors += error\n",
    "    \n",
    "baseline_average_error = sum_errors/N\n",
    "print( f\"Average error for baseline approach: {baseline_average_error:.1f} days\" )"
   ]
  },
  {
   "cell_type": "markdown",
   "id": "5b699a7b",
   "metadata": {},
   "source": [
    "## MLP prediction quality"
   ]
  },
  {
   "cell_type": "code",
   "execution_count": 83,
   "id": "3029b3b8",
   "metadata": {},
   "outputs": [],
   "source": [
    "preds = model.predict( x_test )"
   ]
  },
  {
   "cell_type": "code",
   "execution_count": 84,
   "id": "203aa47a",
   "metadata": {},
   "outputs": [
    {
     "data": {
      "text/plain": [
       "(46, 1)"
      ]
     },
     "execution_count": 84,
     "metadata": {},
     "output_type": "execute_result"
    }
   ],
   "source": [
    "preds.shape"
   ]
  },
  {
   "cell_type": "code",
   "execution_count": 85,
   "id": "2d9ae8b2",
   "metadata": {},
   "outputs": [
    {
     "data": {
      "text/plain": [
       "array([[0.7042325 ],\n",
       "       [0.70622164],\n",
       "       [0.13102883],\n",
       "       [0.28828457],\n",
       "       [0.3382202 ]], dtype=float32)"
      ]
     },
     "execution_count": 85,
     "metadata": {},
     "output_type": "execute_result"
    }
   ],
   "source": [
    "preds[:5]"
   ]
  },
  {
   "cell_type": "code",
   "execution_count": 86,
   "id": "cb9c895d",
   "metadata": {},
   "outputs": [
    {
     "data": {
      "text/plain": [
       "array([[257.04486 ],\n",
       "       [257.7709  ],\n",
       "       [ 47.825523],\n",
       "       [105.22387 ],\n",
       "       [123.45038 ],\n",
       "       [158.70522 ],\n",
       "       [162.31035 ],\n",
       "       [146.27013 ],\n",
       "       [ 31.157063],\n",
       "       [203.5454  ]], dtype=float32)"
      ]
     },
     "execution_count": 86,
     "metadata": {},
     "output_type": "execute_result"
    }
   ],
   "source": [
    "preds[:10]*365"
   ]
  },
  {
   "cell_type": "code",
   "execution_count": 87,
   "id": "8ca0abaa",
   "metadata": {},
   "outputs": [
    {
     "data": {
      "text/plain": [
       "array([315.64788732, 331.07042254,  56.54929577,  42.15492958,\n",
       "       170.67605634, 112.07042254, 235.45070423,  76.08450704,\n",
       "       113.09859155, 171.70422535])"
      ]
     },
     "execution_count": 87,
     "metadata": {},
     "output_type": "execute_result"
    }
   ],
   "source": [
    "y_test[:10]*365"
   ]
  },
  {
   "cell_type": "code",
   "execution_count": 88,
   "id": "cc0ff9a8",
   "metadata": {},
   "outputs": [
    {
     "data": {
      "text/plain": [
       "-0.17454126"
      ]
     },
     "execution_count": 88,
     "metadata": {},
     "output_type": "execute_result"
    }
   ],
   "source": [
    "preds.min()"
   ]
  },
  {
   "cell_type": "code",
   "execution_count": 89,
   "id": "66f79207",
   "metadata": {},
   "outputs": [
    {
     "data": {
      "text/plain": [
       "0.93871576"
      ]
     },
     "execution_count": 89,
     "metadata": {},
     "output_type": "execute_result"
    }
   ],
   "source": [
    "preds.max()"
   ]
  },
  {
   "cell_type": "code",
   "execution_count": 90,
   "id": "9ea8e122-a39d-47f5-96a3-764768ff491c",
   "metadata": {},
   "outputs": [
    {
     "name": "stdout",
     "output_type": "stream",
     "text": [
      "Test example 0: 315.6478873239437 vs. predicted: 257.0448675751686\n",
      "Test example 1: 331.07042253521126 vs. predicted: 257.7708986401558\n",
      "Test example 2: 56.54929577464788 vs. predicted: 47.8255233168602\n",
      "Test example 3: 42.15492957746479 vs. predicted: 105.2238680422306\n",
      "Test example 4: 170.6760563380282 vs. predicted: 123.45037624239922\n",
      "Test example 5: 112.07042253521128 vs. predicted: 158.70521947741508\n",
      "Test example 6: 235.45070422535213 vs. predicted: 162.31035575270653\n",
      "Test example 7: 76.08450704225352 vs. predicted: 146.2701317667961\n",
      "Test example 8: 113.09859154929579 vs. predicted: 31.157062835991383\n",
      "Test example 9: 171.7042253521127 vs. predicted: 203.5453936457634\n",
      "Test example 10: 193.29577464788736 vs. predicted: 178.68023291230202\n",
      "Test example 11: 1.028169014084507 vs. predicted: 36.048368625342846\n",
      "Test example 12: 42.15492957746479 vs. predicted: 115.38434341549873\n",
      "Test example 13: 258.07042253521126 vs. predicted: 256.4144963026047\n",
      "Test example 14: 77.11267605633803 vs. predicted: 191.37488782405853\n",
      "Test example 15: 76.08450704225352 vs. predicted: 176.58178731799126\n",
      "Test example 16: 278.63380281690144 vs. predicted: 286.808203458786\n",
      "Test example 17: 315.6478873239437 vs. predicted: 232.84803092479706\n",
      "Test example 18: 1.028169014084507 vs. predicted: -15.803670231252909\n",
      "Test example 19: 192.26760563380284 vs. predicted: 167.29917600750923\n",
      "Test example 20: 232.36619718309862 vs. predicted: 207.64903992414474\n",
      "Test example 21: 100.7605633802817 vs. predicted: -63.707561641931534\n",
      "Test example 22: 1.028169014084507 vs. predicted: -35.21679252386093\n",
      "Test example 23: 232.36619718309862 vs. predicted: 201.54400020837784\n",
      "Test example 24: 61.690140845070424 vs. predicted: 63.55332463979721\n",
      "Test example 25: 331.07042253521126 vs. predicted: 221.65996879339218\n",
      "Test example 26: 180.95774647887325 vs. predicted: 204.4858705997467\n",
      "Test example 27: 164.50704225352115 vs. predicted: 146.60589829087257\n",
      "Test example 28: 303.3098591549296 vs. predicted: 243.60128372907639\n",
      "Test example 29: 303.3098591549296 vs. predicted: 293.39547991752625\n",
      "Test example 30: 0.0 vs. predicted: 16.772588677704334\n",
      "Test example 31: 365.0 vs. predicted: 342.63125091791153\n",
      "Test example 32: 232.36619718309862 vs. predicted: 176.12034901976585\n",
      "Test example 33: 194.32394366197187 vs. predicted: 237.64268159866333\n",
      "Test example 34: 112.07042253521128 vs. predicted: 146.73140689730644\n",
      "Test example 35: 61.690140845070424 vs. predicted: 78.71549963951111\n",
      "Test example 36: 303.3098591549296 vs. predicted: 291.84579998254776\n",
      "Test example 37: 187.12676056338032 vs. predicted: 193.1949257850647\n",
      "Test example 38: 215.91549295774652 vs. predicted: 205.2987504005432\n",
      "Test example 39: 301.2535211267606 vs. predicted: 194.9879214167595\n",
      "Test example 40: 76.08450704225352 vs. predicted: 164.14175018668175\n",
      "Test example 41: 265.2676056338028 vs. predicted: 282.20887541770935\n",
      "Test example 42: 97.67605633802818 vs. predicted: 71.51960760354996\n",
      "Test example 43: 232.36619718309862 vs. predicted: 205.3597316145897\n",
      "Test example 44: 303.3098591549296 vs. predicted: 289.4617021083832\n",
      "Test example 45: 187.12676056338032 vs. predicted: 185.49517184495926\n",
      "Average error for MLP model: 43.6 days\n"
     ]
    }
   ],
   "source": [
    "N = x_test.shape[0]\n",
    "\n",
    "sum_errors = 0\n",
    "for i in range(0,N):\n",
    "    \n",
    "    x = x_test[i]\n",
    "    y = y_test[i]\n",
    "    \n",
    "    age_real = y*365\n",
    "    age_predicted = preds[i][0]*365\n",
    "    print( f\"Test example {i}: {age_real} vs. predicted: {age_predicted}\" )\n",
    "    \n",
    "    error = abs(age_real - age_predicted)\n",
    "    sum_errors += error\n",
    "    \n",
    "mlp_average_error = sum_errors/N\n",
    "print( f\"Average error for MLP model: {mlp_average_error:.1f} days\" )"
   ]
  },
  {
   "cell_type": "markdown",
   "id": "b8ab75e8-d5f1-4941-bff7-a83e7141c6da",
   "metadata": {},
   "source": [
    "## How much do we benefit from ML?"
   ]
  },
  {
   "cell_type": "code",
   "execution_count": 91,
   "id": "995ca6ec-deb8-46a4-807f-c63a94b9d556",
   "metadata": {},
   "outputs": [],
   "source": [
    "reduction_of_prediction_error = (mlp_average_error / baseline_average_error)*100.0"
   ]
  },
  {
   "cell_type": "code",
   "execution_count": 92,
   "id": "0b35ddc3-7f7c-41a4-b74a-21e9763fee71",
   "metadata": {},
   "outputs": [
    {
     "data": {
      "text/plain": [
       "48.29860380378723"
      ]
     },
     "execution_count": 92,
     "metadata": {},
     "output_type": "execute_result"
    }
   ],
   "source": [
    "reduction_of_prediction_error"
   ]
  },
  {
   "cell_type": "code",
   "execution_count": null,
   "id": "2bd7f62b-f3db-49e7-b279-5f83d774c2a8",
   "metadata": {},
   "outputs": [],
   "source": []
  }
 ],
 "metadata": {
  "kernelspec": {
   "display_name": "Python 3 (ipykernel)",
   "language": "python",
   "name": "python3"
  },
  "language_info": {
   "codemirror_mode": {
    "name": "ipython",
    "version": 3
   },
   "file_extension": ".py",
   "mimetype": "text/x-python",
   "name": "python",
   "nbconvert_exporter": "python",
   "pygments_lexer": "ipython3",
   "version": "3.8.10"
  },
  "toc": {
   "base_numbering": 1,
   "nav_menu": {},
   "number_sections": true,
   "sideBar": true,
   "skip_h1_title": false,
   "title_cell": "Table of Contents",
   "title_sidebar": "Contents",
   "toc_cell": false,
   "toc_position": {
    "height": "calc(100% - 180px)",
    "left": "10px",
    "top": "150px",
    "width": "274.05px"
   },
   "toc_section_display": true,
   "toc_window_display": true
  },
  "toc-autonumbering": true
 },
 "nbformat": 4,
 "nbformat_minor": 5
}
