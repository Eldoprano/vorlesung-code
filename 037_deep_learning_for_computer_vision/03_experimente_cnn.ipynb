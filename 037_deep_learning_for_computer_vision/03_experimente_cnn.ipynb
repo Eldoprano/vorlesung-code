{
  "nbformat": 4,
  "nbformat_minor": 0,
  "metadata": {
    "colab": {
      "provenance": [],
      "collapsed_sections": [],
      "toc_visible": true
    },
    "kernelspec": {
      "name": "python3",
      "display_name": "Python 3"
    },
    "language_info": {
      "name": "python"
    },
    "accelerator": "GPU",
    "gpuClass": "standard"
  },
  "cells": [
    {
      "cell_type": "code",
      "execution_count": 2,
      "metadata": {
        "id": "SJl5wHTbg4iA"
      },
      "outputs": [],
      "source": [
        "import tensorflow"
      ]
    },
    {
      "cell_type": "code",
      "source": [
        "tensorflow.__version__"
      ],
      "metadata": {
        "colab": {
          "base_uri": "https://localhost:8080/",
          "height": 35
        },
        "id": "Csvnya2ug50q",
        "outputId": "607e84ca-af66-498c-de30-f1856632dc75"
      },
      "execution_count": 3,
      "outputs": [
        {
          "output_type": "execute_result",
          "data": {
            "text/plain": [
              "'2.9.2'"
            ],
            "application/vnd.google.colaboratory.intrinsic+json": {
              "type": "string"
            }
          },
          "metadata": {},
          "execution_count": 3
        }
      ]
    },
    {
      "cell_type": "code",
      "source": [
        "!pip show tensorflow"
      ],
      "metadata": {
        "colab": {
          "base_uri": "https://localhost:8080/"
        },
        "id": "vtHla-3Wg_XO",
        "outputId": "9bc62dac-c128-4702-9f78-c9b85f0554cb"
      },
      "execution_count": 4,
      "outputs": [
        {
          "output_type": "stream",
          "name": "stdout",
          "text": [
            "Name: tensorflow\n",
            "Version: 2.9.2\n",
            "Summary: TensorFlow is an open source machine learning framework for everyone.\n",
            "Home-page: https://www.tensorflow.org/\n",
            "Author: Google Inc.\n",
            "Author-email: packages@tensorflow.org\n",
            "License: Apache 2.0\n",
            "Location: /usr/local/lib/python3.7/dist-packages\n",
            "Requires: protobuf, six, tensorflow-io-gcs-filesystem, grpcio, keras, h5py, keras-preprocessing, absl-py, wrapt, termcolor, flatbuffers, opt-einsum, gast, libclang, google-pasta, astunparse, typing-extensions, tensorboard, setuptools, packaging, numpy, tensorflow-estimator\n",
            "Required-by: kapre\n"
          ]
        }
      ]
    },
    {
      "cell_type": "markdown",
      "source": [
        "# MNIST Daten vorbereiten"
      ],
      "metadata": {
        "id": "TpME4rivhauN"
      }
    },
    {
      "cell_type": "code",
      "source": [
        "from tensorflow import keras\n",
        "(x_train, y_train), (x_test, y_test) = keras.datasets.mnist.load_data()"
      ],
      "metadata": {
        "colab": {
          "base_uri": "https://localhost:8080/"
        },
        "id": "LbjzcuLihJXl",
        "outputId": "e063ef2e-d291-419d-daac-cf382b231c8b"
      },
      "execution_count": 5,
      "outputs": [
        {
          "output_type": "stream",
          "name": "stdout",
          "text": [
            "Downloading data from https://storage.googleapis.com/tensorflow/tf-keras-datasets/mnist.npz\n",
            "11490434/11490434 [==============================] - 0s 0us/step\n"
          ]
        }
      ]
    },
    {
      "cell_type": "code",
      "source": [
        "x_train.shape"
      ],
      "metadata": {
        "colab": {
          "base_uri": "https://localhost:8080/"
        },
        "id": "ht7BdmdrhQPf",
        "outputId": "dc6a495f-55dc-4638-a312-487f1e2f1865"
      },
      "execution_count": 6,
      "outputs": [
        {
          "output_type": "execute_result",
          "data": {
            "text/plain": [
              "(60000, 28, 28)"
            ]
          },
          "metadata": {},
          "execution_count": 6
        }
      ]
    },
    {
      "cell_type": "code",
      "source": [
        "y_train.shape"
      ],
      "metadata": {
        "colab": {
          "base_uri": "https://localhost:8080/"
        },
        "id": "Vo34_ihAhfLL",
        "outputId": "09541d17-62fe-402c-9bd1-9ddc63b36481"
      },
      "execution_count": 7,
      "outputs": [
        {
          "output_type": "execute_result",
          "data": {
            "text/plain": [
              "(60000,)"
            ]
          },
          "metadata": {},
          "execution_count": 7
        }
      ]
    },
    {
      "cell_type": "code",
      "source": [
        "y_train[0:5]"
      ],
      "metadata": {
        "colab": {
          "base_uri": "https://localhost:8080/"
        },
        "id": "Z-AWvL6SihR6",
        "outputId": "01daedf8-cc11-42ac-e618-c8b0fdab968d"
      },
      "execution_count": 9,
      "outputs": [
        {
          "output_type": "execute_result",
          "data": {
            "text/plain": [
              "array([5, 0, 4, 1, 9], dtype=uint8)"
            ]
          },
          "metadata": {},
          "execution_count": 9
        }
      ]
    },
    {
      "cell_type": "code",
      "source": [
        "import matplotlib.pyplot as plt\n",
        "plt.imshow( x_train[106,:,:], cmap=\"gray\" )\n",
        "plt.colorbar()\n",
        "plt.show()"
      ],
      "metadata": {
        "colab": {
          "base_uri": "https://localhost:8080/",
          "height": 265
        },
        "id": "VlpB-4i8ijJf",
        "outputId": "c30d01b7-866b-427f-86a5-c8f8f35432d0"
      },
      "execution_count": 24,
      "outputs": [
        {
          "output_type": "display_data",
          "data": {
            "text/plain": [
              "<Figure size 432x288 with 2 Axes>"
            ],
            "image/png": "[encoded data removed]"
          },
          "metadata": {
            "needs_background": "light"
          }
        }
      ]
    },
    {
      "cell_type": "code",
      "source": [
        "y_train[106]"
      ],
      "metadata": {
        "colab": {
          "base_uri": "https://localhost:8080/"
        },
        "id": "cWPJvolZixxT",
        "outputId": "13fd2728-e53d-4044-cbfd-62e1126c8d76"
      },
      "execution_count": 22,
      "outputs": [
        {
          "output_type": "execute_result",
          "data": {
            "text/plain": [
              "6"
            ]
          },
          "metadata": {},
          "execution_count": 22
        }
      ]
    },
    {
      "cell_type": "markdown",
      "source": [
        "# MNIST Daten in größere Bilder kopieren"
      ],
      "metadata": {
        "id": "nTNl-pl5kPeR"
      }
    },
    {
      "cell_type": "code",
      "source": [
        "60000*100*100"
      ],
      "metadata": {
        "colab": {
          "base_uri": "https://localhost:8080/"
        },
        "id": "1bAfDwvGi4l7",
        "outputId": "8d5978cf-14b9-4c0a-8af4-fce4bef20268"
      },
      "execution_count": 26,
      "outputs": [
        {
          "output_type": "execute_result",
          "data": {
            "text/plain": [
              "600000000"
            ]
          },
          "metadata": {},
          "execution_count": 26
        }
      ]
    },
    {
      "cell_type": "code",
      "source": [
        "x,y = np.random.randint(low=0, high=100-28+1, size=2)"
      ],
      "metadata": {
        "id": "ApL9WZAuloSf"
      },
      "execution_count": 32,
      "outputs": []
    },
    {
      "cell_type": "code",
      "source": [
        "x"
      ],
      "metadata": {
        "colab": {
          "base_uri": "https://localhost:8080/"
        },
        "id": "zBm3z0jXmNpY",
        "outputId": "d53dc3f9-9c4a-43e3-e747-1a4a405f3b86"
      },
      "execution_count": 33,
      "outputs": [
        {
          "output_type": "execute_result",
          "data": {
            "text/plain": [
              "34"
            ]
          },
          "metadata": {},
          "execution_count": 33
        }
      ]
    },
    {
      "cell_type": "code",
      "source": [
        "y"
      ],
      "metadata": {
        "colab": {
          "base_uri": "https://localhost:8080/"
        },
        "id": "sC6s-MbUmOoP",
        "outputId": "3272cfc0-6cd2-48cd-8e2c-8d4efb7c52b9"
      },
      "execution_count": 34,
      "outputs": [
        {
          "output_type": "execute_result",
          "data": {
            "text/plain": [
              "38"
            ]
          },
          "metadata": {},
          "execution_count": 34
        }
      ]
    },
    {
      "cell_type": "code",
      "source": [
        "import numpy as np\n",
        "\n",
        "N = 50\n",
        "mnist_gross = np.zeros((60000,N,N))\n",
        "\n",
        "for image_id in range(0,60000):\n",
        "  x,y = np.random.randint(low=0, high=N-28+1, size=2)\n",
        "  mnist_gross[image_id,x:x+28,y:y+28] = x_train[image_id,:,:]\n",
        "\n",
        "import matplotlib.pyplot as plt\n",
        "plt.imshow( mnist_gross[0], cmap=\"gray\" )\n",
        "plt.colorbar()\n",
        "plt.show()"
      ],
      "metadata": {
        "colab": {
          "base_uri": "https://localhost:8080/",
          "height": 267
        },
        "id": "kwerA-jTlD9s",
        "outputId": "72533ee2-83a9-46a2-c85a-3e9b52254519"
      },
      "execution_count": 54,
      "outputs": [
        {
          "output_type": "display_data",
          "data": {
            "text/plain": [
              "<Figure size 432x288 with 2 Axes>"
            ],
            "image/png": "[encoded data removed]"
          },
          "metadata": {
            "needs_background": "light"
          }
        }
      ]
    },
    {
      "cell_type": "code",
      "source": [
        "y_train[:5]"
      ],
      "metadata": {
        "colab": {
          "base_uri": "https://localhost:8080/"
        },
        "id": "NR0V1XmFme6y",
        "outputId": "6dd74188-1b56-4117-a424-57818e36e347"
      },
      "execution_count": 51,
      "outputs": [
        {
          "output_type": "execute_result",
          "data": {
            "text/plain": [
              "array([5, 0, 4, 1, 9], dtype=uint8)"
            ]
          },
          "metadata": {},
          "execution_count": 51
        }
      ]
    },
    {
      "cell_type": "code",
      "source": [
        "num_classes = 10\n",
        "y_train = keras.utils.to_categorical(y_train, num_classes)"
      ],
      "metadata": {
        "id": "6u9USgCrnMrX"
      },
      "execution_count": 52,
      "outputs": []
    },
    {
      "cell_type": "code",
      "source": [
        "y_train[:5]"
      ],
      "metadata": {
        "colab": {
          "base_uri": "https://localhost:8080/"
        },
        "id": "9qhAT6munbzB",
        "outputId": "3544d2cb-1a7d-46e5-a0a5-6871170a39bf"
      },
      "execution_count": 53,
      "outputs": [
        {
          "output_type": "execute_result",
          "data": {
            "text/plain": [
              "array([[0., 0., 0., 0., 0., 1., 0., 0., 0., 0.],\n",
              "       [1., 0., 0., 0., 0., 0., 0., 0., 0., 0.],\n",
              "       [0., 0., 0., 0., 1., 0., 0., 0., 0., 0.],\n",
              "       [0., 1., 0., 0., 0., 0., 0., 0., 0., 0.],\n",
              "       [0., 0., 0., 0., 0., 0., 0., 0., 0., 1.]], dtype=float32)"
            ]
          },
          "metadata": {},
          "execution_count": 53
        }
      ]
    },
    {
      "cell_type": "markdown",
      "source": [
        "# Alles in einer Codezelle / Als Skript"
      ],
      "metadata": {
        "id": "dn8R2hSZoGg9"
      }
    },
    {
      "cell_type": "code",
      "source": [
        "# 1. MNIST Datensatz mit Bildgröße 28x28 laden\n",
        "from tensorflow import keras\n",
        "(x_train, y_train), (x_test, y_test) = keras.datasets.mnist.load_data()\n",
        "x_train = x_train.astype(\"float32\") / 255\n",
        "x_test = x_test.astype(\"float32\") / 255\n",
        "\n",
        "# 2. MNIST Datensatz mit Größe NxN=50x50 erstellen\n",
        "num_classes = 10\n",
        "y_train = keras.utils.to_categorical(y_train, num_classes)\n",
        "import numpy as np\n",
        "N = 50\n",
        "mnist_gross = np.zeros((60000,N,N))\n",
        "for image_id in range(0,60000):\n",
        "  x,y = np.random.randint(low=0, high=N-28+1, size=2)\n",
        "  mnist_gross[image_id,x:x+28,y:y+28] = x_train[image_id,:,:]\n",
        "\n",
        "\n",
        "# 3. Fünf zufällige Traininsbilder anzeigen\n",
        "import matplotlib.pyplot as plt\n",
        "for img_nr in range(0,5):\n",
        "  img_id = np.random.randint(low=0, high=60000)\n",
        "  plt.imshow( mnist_gross[img_id], cmap=\"gray\" )\n",
        "  label = y_train[img_id]\n",
        "  plt.title( f\"Beispiel einer {label}\" )\n",
        "  plt.colorbar()\n",
        "  plt.show()\n",
        "\n",
        "\n",
        "# 4. CNN zusammen bauen\n",
        "input_shape = (N, N, 1)\n",
        "model = keras.Sequential(\n",
        "    [\n",
        "        keras.Input(shape=input_shape),\n",
        "        keras.layers.Conv2D(32, kernel_size=(3, 3), activation=\"relu\", name=\"C1\"),\n",
        "        keras.layers.MaxPooling2D(pool_size=(2, 2), name=\"P1\"),\n",
        "        keras.layers.Conv2D(64, kernel_size=(3, 3), activation=\"relu\", name=\"C2\"),\n",
        "        keras.layers.MaxPooling2D(pool_size=(2, 2), name=\"P2\"),\n",
        "        keras.layers.Conv2D(128, kernel_size=(3, 3), activation=\"relu\", name=\"C3\"),\n",
        "        keras.layers.MaxPooling2D(pool_size=(2, 2), name=\"P3\"),\n",
        "        keras.layers.Flatten(name=\"flatten\"),\n",
        "        keras.layers.Dense(num_classes, activation=\"softmax\", name=\"FC1\"),\n",
        "    ]\n",
        ")\n",
        "model.summary()\n",
        "\n",
        "\n",
        "# 5. CNN trainieren\n",
        "batch_size = 128\n",
        "epochs = 15\n",
        "model.compile(loss=\"categorical_crossentropy\", optimizer=\"adam\", metrics=[\"accuracy\"])\n",
        "model.fit(mnist_gross, y_train, batch_size=batch_size, epochs=epochs, validation_split=0.1)\n",
        "\n"
      ],
      "metadata": {
        "colab": {
          "base_uri": "https://localhost:8080/",
          "height": 1000
        },
        "id": "yGPJP53FneNT",
        "outputId": "d8c186da-abc8-4c2f-ebae-92e1ebcb6e32"
      },
      "execution_count": 3,
      "outputs": [
        {
          "output_type": "display_data",
          "data": {
            "text/plain": [
              "<Figure size 432x288 with 2 Axes>"
            ],
            "image/png": "[encoded data removed]"
          },
          "metadata": {
            "needs_background": "light"
          }
        },
        {
          "output_type": "display_data",
          "data": {
            "text/plain": [
              "<Figure size 432x288 with 2 Axes>"
            ],
            "image/png": "[encoded data removed]"
          },
          "metadata": {
            "needs_background": "light"
          }
        },
        {
          "output_type": "display_data",
          "data": {
            "text/plain": [
              "<Figure size 432x288 with 2 Axes>"
            ],
            "image/png": "[encoded data removed]"
          },
          "metadata": {
            "needs_background": "light"
          }
        },
        {
          "output_type": "display_data",
          "data": {
            "text/plain": [
              "<Figure size 432x288 with 2 Axes>"
            ],
            "image/png": "[encoded data removed]"
          },
          "metadata": {
            "needs_background": "light"
          }
        },
        {
          "output_type": "display_data",
          "data": {
            "text/plain": [
              "<Figure size 432x288 with 2 Axes>"
            ],
            "image/png": "[encoded data removed]"
          },
          "metadata": {
            "needs_background": "light"
          }
        },
        {
          "output_type": "stream",
          "name": "stdout",
          "text": [
            "Model: \"sequential_2\"\n",
            "_________________________________________________________________\n",
            " Layer (type)                Output Shape              Param #   \n",
            "=================================================================\n",
            " C1 (Conv2D)                 (None, 48, 48, 32)        320       \n",
            "                                                                 \n",
            " P1 (MaxPooling2D)           (None, 24, 24, 32)        0         \n",
            "                                                                 \n",
            " C2 (Conv2D)                 (None, 22, 22, 64)        18496     \n",
            "                                                                 \n",
            " P2 (MaxPooling2D)           (None, 11, 11, 64)        0         \n",
            "                                                                 \n",
            " C3 (Conv2D)                 (None, 9, 9, 128)         73856     \n",
            "                                                                 \n",
            " P3 (MaxPooling2D)           (None, 4, 4, 128)         0         \n",
            "                                                                 \n",
            " flatten (Flatten)           (None, 2048)              0         \n",
            "                                                                 \n",
            " FC1 (Dense)                 (None, 10)                20490     \n",
            "                                                                 \n",
            "=================================================================\n",
            "Total params: 113,162\n",
            "Trainable params: 113,162\n",
            "Non-trainable params: 0\n",
            "_________________________________________________________________\n",
            "Epoch 1/15\n",
            "422/422 [==============================] - 6s 13ms/step - loss: 0.6655 - accuracy: 0.7796 - val_loss: 0.1817 - val_accuracy: 0.9467\n",
            "Epoch 2/15\n",
            "422/422 [==============================] - 5s 13ms/step - loss: 0.1618 - accuracy: 0.9507 - val_loss: 0.1175 - val_accuracy: 0.9640\n",
            "Epoch 3/15\n",
            "422/422 [==============================] - 5s 13ms/step - loss: 0.1021 - accuracy: 0.9695 - val_loss: 0.1035 - val_accuracy: 0.9687\n",
            "Epoch 4/15\n",
            "422/422 [==============================] - 5s 13ms/step - loss: 0.0760 - accuracy: 0.9765 - val_loss: 0.0737 - val_accuracy: 0.9782\n",
            "Epoch 5/15\n",
            "422/422 [==============================] - 5s 13ms/step - loss: 0.0568 - accuracy: 0.9825 - val_loss: 0.0667 - val_accuracy: 0.9813\n",
            "Epoch 6/15\n",
            "422/422 [==============================] - 5s 13ms/step - loss: 0.0437 - accuracy: 0.9862 - val_loss: 0.0636 - val_accuracy: 0.9808\n",
            "Epoch 7/15\n",
            "422/422 [==============================] - 5s 13ms/step - loss: 0.0362 - accuracy: 0.9884 - val_loss: 0.0555 - val_accuracy: 0.9837\n",
            "Epoch 8/15\n",
            "422/422 [==============================] - 5s 13ms/step - loss: 0.0286 - accuracy: 0.9910 - val_loss: 0.0569 - val_accuracy: 0.9845\n",
            "Epoch 9/15\n",
            "422/422 [==============================] - 5s 13ms/step - loss: 0.0233 - accuracy: 0.9924 - val_loss: 0.0784 - val_accuracy: 0.9787\n",
            "Epoch 10/15\n",
            "422/422 [==============================] - 5s 13ms/step - loss: 0.0165 - accuracy: 0.9946 - val_loss: 0.0661 - val_accuracy: 0.9840\n",
            "Epoch 11/15\n",
            "422/422 [==============================] - 6s 13ms/step - loss: 0.0164 - accuracy: 0.9946 - val_loss: 0.0686 - val_accuracy: 0.9823\n",
            "Epoch 12/15\n",
            "422/422 [==============================] - 5s 13ms/step - loss: 0.0141 - accuracy: 0.9956 - val_loss: 0.0721 - val_accuracy: 0.9815\n",
            "Epoch 13/15\n",
            "422/422 [==============================] - 5s 13ms/step - loss: 0.0158 - accuracy: 0.9947 - val_loss: 0.0760 - val_accuracy: 0.9808\n",
            "Epoch 14/15\n",
            "422/422 [==============================] - 5s 13ms/step - loss: 0.0099 - accuracy: 0.9968 - val_loss: 0.0744 - val_accuracy: 0.9820\n",
            "Epoch 15/15\n",
            "422/422 [==============================] - 5s 13ms/step - loss: 0.0112 - accuracy: 0.9965 - val_loss: 0.0688 - val_accuracy: 0.9843\n"
          ]
        },
        {
          "output_type": "execute_result",
          "data": {
            "text/plain": [
              "<keras.callbacks.History at 0x7f9be6292f10>"
            ]
          },
          "metadata": {},
          "execution_count": 3
        }
      ]
    },
    {
      "cell_type": "code",
      "source": [],
      "metadata": {
        "id": "8K-jFjU9vdde"
      },
      "execution_count": null,
      "outputs": []
    }
  ]
}