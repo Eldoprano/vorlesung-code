{
 "cells": [
  {
   "cell_type": "markdown",
   "id": "5132b48f-617a-4127-834c-4a02317f9dbb",
   "metadata": {},
   "source": [
    "# Ein erster Test mit `pytest`\n",
    "\n",
    "Wir erstellen hierzu eine erste Codedatei:"
   ]
  },
  {
   "cell_type": "code",
   "execution_count": 4,
   "id": "0d1a326e-79cc-42b1-95cb-a5f09e1c2f09",
   "metadata": {},
   "outputs": [
    {
     "name": "stdout",
     "output_type": "stream",
     "text": [
      "def addiere(x,y):\n",
      "    return x+y\n",
      "\n",
      "def test1_addiere():\n",
      "    assert addiere(2,2)==4\n",
      "    \n",
      "def test2_addiere():\n",
      "    assert addiere(-2,-2)==-4\n"
     ]
    }
   ],
   "source": [
    "!cat mathe_tools1.py"
   ]
  },
  {
   "cell_type": "code",
   "execution_count": 6,
   "id": "0ccda6fb-6111-4659-8f10-0619c0e9d60f",
   "metadata": {},
   "outputs": [
    {
     "name": "stdout",
     "output_type": "stream",
     "text": [
      "\u001b[1m============================= test session starts ==============================\u001b[0m\n",
      "platform linux -- Python 3.8.10, pytest-7.0.1, pluggy-1.0.0\n",
      "rootdir: /media/veracrypt1/09_src/central/032_pytest_einfuehrung\n",
      "plugins: anyio-3.5.0\n",
      "collected 3 items                                                              \u001b[0m\n",
      "\n",
      "mathe_tools1.py \u001b[32m.\u001b[0m\u001b[32m.\u001b[0m\u001b[32m.\u001b[0m\u001b[32m                                                      [100%]\u001b[0m\n",
      "\n",
      "\u001b[32m============================== \u001b[32m\u001b[1m3 passed\u001b[0m\u001b[32m in 0.03s\u001b[0m\u001b[32m ===============================\u001b[0m\n"
     ]
    }
   ],
   "source": [
    "!pytest mathe_tools1.py"
   ]
  },
  {
   "cell_type": "markdown",
   "id": "d220939d-5b49-4135-843f-c3199c32b98a",
   "metadata": {},
   "source": [
    "# Ein Test der fehlschlägt"
   ]
  },
  {
   "cell_type": "code",
   "execution_count": 10,
   "id": "dc2c3462-ef1e-4d31-ad14-8f5970c2d431",
   "metadata": {},
   "outputs": [
    {
     "name": "stdout",
     "output_type": "stream",
     "text": [
      "def addiere(x,y):\n",
      "    return x+y\n",
      "\n",
      "def test1_addiere():\n",
      "    assert addiere(2,2) == 4\n",
      "    \n",
      "def test2_addiere():\n",
      "    assert addiere(-2,-2) == -4\n",
      "    \n",
      "def test3_addiere():\n",
      "    assert addiere(-17,30) == 13\n",
      "    \n",
      "def test4_addiere():\n",
      "    assert addiere([1,2,3],[4,5,6]) == [5,7,9]\n"
     ]
    }
   ],
   "source": [
    "!cat mathe_tools2.py"
   ]
  },
  {
   "cell_type": "code",
   "execution_count": 13,
   "id": "5c7537c2-1df3-4a02-8330-f85d47e8a8c2",
   "metadata": {},
   "outputs": [
    {
     "name": "stdout",
     "output_type": "stream",
     "text": [
      "\u001b[1m============================= test session starts ==============================\u001b[0m\n",
      "platform linux -- Python 3.8.10, pytest-7.0.1, pluggy-1.0.0\n",
      "rootdir: /media/veracrypt1/09_src/central/032_pytest_einfuehrung\n",
      "plugins: anyio-3.5.0\n",
      "collected 4 items                                                              \u001b[0m\n",
      "\n",
      "mathe_tools2.py \u001b[32m.\u001b[0m\u001b[32m.\u001b[0m\u001b[32m.\u001b[0m\u001b[31mF\u001b[0m\u001b[31m                                                     [100%]\u001b[0m\n",
      "\n",
      "=================================== FAILURES ===================================\n",
      "\u001b[31m\u001b[1m________________________________ test4_addiere _________________________________\u001b[0m\n",
      "\n",
      "    \u001b[94mdef\u001b[39;49;00m \u001b[92mtest4_addiere\u001b[39;49;00m():\n",
      ">       \u001b[94massert\u001b[39;49;00m addiere([\u001b[94m1\u001b[39;49;00m,\u001b[94m2\u001b[39;49;00m,\u001b[94m3\u001b[39;49;00m],[\u001b[94m4\u001b[39;49;00m,\u001b[94m5\u001b[39;49;00m,\u001b[94m6\u001b[39;49;00m]) == [\u001b[94m5\u001b[39;49;00m,\u001b[94m7\u001b[39;49;00m,\u001b[94m9\u001b[39;49;00m]\n",
      "\u001b[1m\u001b[31mE       assert [1, 2, 3, 4, 5, 6] == [5, 7, 9]\u001b[0m\n",
      "\u001b[1m\u001b[31mE         At index 0 diff: 1 != 5\u001b[0m\n",
      "\u001b[1m\u001b[31mE         Left contains 3 more items, first extra item: 4\u001b[0m\n",
      "\u001b[1m\u001b[31mE         Use -v to get the full diff\u001b[0m\n",
      "\n",
      "\u001b[1m\u001b[31mmathe_tools2.py\u001b[0m:14: AssertionError\n",
      "=========================== short test summary info ============================\n",
      "FAILED mathe_tools2.py::test4_addiere - assert [1, 2, 3, 4, 5, 6] == [5, 7, 9]\n",
      "\u001b[31m========================= \u001b[31m\u001b[1m1 failed\u001b[0m, \u001b[32m3 passed\u001b[0m\u001b[31m in 0.10s\u001b[0m\u001b[31m ==========================\u001b[0m\n"
     ]
    }
   ],
   "source": [
    "!pytest mathe_tools2.py"
   ]
  },
  {
   "cell_type": "markdown",
   "id": "f8013bbe-3985-4e8e-8973-074cd8c5ddce",
   "metadata": {},
   "source": [
    "# Woher kommt das Programm `pytest` ?\n",
    "\n",
    "Es wurde vorher mit `pip install pytest` installiert.\n",
    "\n",
    "Es kann auch ohne Angaben aufgerufen werden:"
   ]
  },
  {
   "cell_type": "code",
   "execution_count": 16,
   "id": "48b615e7-c6f2-498a-8f82-4b0692a19629",
   "metadata": {},
   "outputs": [
    {
     "name": "stdout",
     "output_type": "stream",
     "text": [
      "\u001b[1m============================= test session starts ==============================\u001b[0m\n",
      "platform linux -- Python 3.8.10, pytest-7.0.1, pluggy-1.0.0\n",
      "rootdir: /media/veracrypt1/09_src/central/032_pytest_einfuehrung\n",
      "plugins: anyio-3.5.0\n",
      "collected 0 items                                                              \u001b[0m\n",
      "\n",
      "\u001b[33m============================ \u001b[33mno tests ran\u001b[0m\u001b[33m in 0.02s\u001b[0m\u001b[33m =============================\u001b[0m\n"
     ]
    }
   ],
   "source": [
    "!pytest"
   ]
  },
  {
   "cell_type": "markdown",
   "id": "09641478-c9f3-4350-a11a-336f012f2785",
   "metadata": {},
   "source": [
    "Dann stellt sich die Frage: woher weiß `pytest` welche Funktionen zu testen sind?\n",
    "Dazu gleich mehr!"
   ]
  },
  {
   "cell_type": "markdown",
   "id": "f5e9b0d9-10bd-45a2-bfaf-dafae2ebd3fd",
   "metadata": {},
   "source": [
    "# Welche `pytest` Version habe ich?"
   ]
  },
  {
   "cell_type": "markdown",
   "id": "6e9d453d-3c7f-4c85-9ff1-8e6b699d05e3",
   "metadata": {},
   "source": [
    "Kann so festgestellt werden:"
   ]
  },
  {
   "cell_type": "code",
   "execution_count": 21,
   "id": "4a3c3dac-1323-4878-bf3e-26a709acc2a4",
   "metadata": {},
   "outputs": [
    {
     "name": "stdout",
     "output_type": "stream",
     "text": [
      "pytest 7.0.1\n"
     ]
    }
   ],
   "source": [
    "!pytest --version"
   ]
  },
  {
   "cell_type": "markdown",
   "id": "ad5e0a05-38fb-4d12-9bb7-3c686680f70a",
   "metadata": {},
   "source": [
    "Oder so:"
   ]
  },
  {
   "cell_type": "code",
   "execution_count": 22,
   "id": "dbfcd4a4-506e-4475-933e-ecce6557cf1b",
   "metadata": {},
   "outputs": [
    {
     "name": "stdout",
     "output_type": "stream",
     "text": [
      "7.0.1\n"
     ]
    }
   ],
   "source": [
    "import pytest\n",
    "print(pytest.__version__)"
   ]
  },
  {
   "cell_type": "markdown",
   "id": "9903e9e0-1b32-41e0-bedd-d670e784bc49",
   "metadata": {},
   "source": [
    "D.h. `pytest` kann sowohl als Kommandozeilentool verwendet werden als auch als Python-Modul."
   ]
  },
  {
   "cell_type": "markdown",
   "id": "64202136-b739-45cb-a1e9-6ac68d9465c9",
   "metadata": {},
   "source": [
    "# `pytest` Projektwebseite\n",
    "\n",
    "Es gibt auch eine Projektwebseite mit sehr vielen Infos!\n",
    "\n",
    "https://docs.pytest.org"
   ]
  },
  {
   "cell_type": "markdown",
   "id": "84c8c997-0fb1-4c3e-b911-09fb69a17783",
   "metadata": {},
   "source": [
    "# Alle verfügbaren Kommandozeilenschalter anzeigen"
   ]
  },
  {
   "cell_type": "code",
   "execution_count": 23,
   "id": "fd9e0aff-ada7-4d2c-b796-3383c98e6399",
   "metadata": {},
   "outputs": [
    {
     "name": "stdout",
     "output_type": "stream",
     "text": [
      "usage: pytest [options] [file_or_dir] [file_or_dir] [...]\n",
      "\n",
      "positional arguments:\n",
      "  file_or_dir\n",
      "\n",
      "general:\n",
      "  -k EXPRESSION         only run tests which match the given substring\n",
      "                        expression. An expression is a python evaluatable\n",
      "                        expression where all names are substring-matched against\n",
      "                        test names and their parent classes. Example: -k\n",
      "                        'test_method or test_other' matches all test functions\n",
      "                        and classes whose name contains 'test_method' or\n",
      "                        'test_other', while -k 'not test_method' matches those\n",
      "                        that don't contain 'test_method' in their names. -k 'not\n",
      "                        test_method and not test_other' will eliminate the\n",
      "                        matches. Additionally keywords are matched to classes\n",
      "                        and functions containing extra names in their\n",
      "                        'extra_keyword_matches' set, as well as functions which\n",
      "                        have names assigned directly to them. The matching is\n",
      "                        case-insensitive.\n",
      "  -m MARKEXPR           only run tests matching given mark expression.\n",
      "                        For example: -m 'mark1 and not mark2'.\n",
      "  --markers             show markers (builtin, plugin and per-project ones).\n",
      "  -x, --exitfirst       exit instantly on first error or failed test.\n",
      "  --fixtures, --funcargs\n",
      "                        show available fixtures, sorted by plugin appearance\n",
      "                        (fixtures with leading '_' are only shown with '-v')\n",
      "  --fixtures-per-test   show fixtures per test\n",
      "  --pdb                 start the interactive Python debugger on errors or\n",
      "                        KeyboardInterrupt.\n",
      "  --pdbcls=modulename:classname\n",
      "                        specify a custom interactive Python debugger for use\n",
      "                        with --pdb.For example:\n",
      "                        --pdbcls=IPython.terminal.debugger:TerminalPdb\n",
      "  --trace               Immediately break when running each test.\n",
      "  --capture=method      per-test capturing method: one of fd|sys|no|tee-sys.\n",
      "  -s                    shortcut for --capture=no.\n",
      "  --runxfail            report the results of xfail tests as if they were not\n",
      "                        marked\n",
      "  --lf, --last-failed   rerun only the tests that failed at the last run (or all\n",
      "                        if none failed)\n",
      "  --ff, --failed-first  run all tests, but run the last failures first.\n",
      "                        This may re-order tests and thus lead to repeated\n",
      "                        fixture setup/teardown.\n",
      "  --nf, --new-first     run tests from new files first, then the rest of the\n",
      "                        tests sorted by file mtime\n",
      "  --cache-show=[CACHESHOW]\n",
      "                        show cache contents, don't perform collection or tests.\n",
      "                        Optional argument: glob (default: '*').\n",
      "  --cache-clear         remove all cache contents at start of test run.\n",
      "  --lfnf={all,none}, --last-failed-no-failures={all,none}\n",
      "                        which tests to run with no previously (known) failures.\n",
      "  --sw, --stepwise      exit on test failure and continue from last failing test\n",
      "                        next time\n",
      "  --sw-skip, --stepwise-skip\n",
      "                        ignore the first failing test but stop on the next\n",
      "                        failing test.\n",
      "                        implicitly enables --stepwise.\n",
      "\n",
      "reporting:\n",
      "  --durations=N         show N slowest setup/test durations (N=0 for all).\n",
      "  --durations-min=N     Minimal duration in seconds for inclusion in slowest\n",
      "                        list. Default 0.005\n",
      "  -v, --verbose         increase verbosity.\n",
      "  --no-header           disable header\n",
      "  --no-summary          disable summary\n",
      "  -q, --quiet           decrease verbosity.\n",
      "  --verbosity=VERBOSE   set verbosity. Default is 0.\n",
      "  -r chars              show extra test summary info as specified by chars:\n",
      "                        (f)ailed, (E)rror, (s)kipped, (x)failed, (X)passed,\n",
      "                        (p)assed, (P)assed with output, (a)ll except passed\n",
      "                        (p/P), or (A)ll. (w)arnings are enabled by default (see\n",
      "                        --disable-warnings), 'N' can be used to reset the list.\n",
      "                        (default: 'fE').\n",
      "  --disable-warnings, --disable-pytest-warnings\n",
      "                        disable warnings summary\n",
      "  -l, --showlocals      show locals in tracebacks (disabled by default).\n",
      "  --tb=style            traceback print mode (auto/long/short/line/native/no).\n",
      "  --show-capture={no,stdout,stderr,log,all}\n",
      "                        Controls how captured stdout/stderr/log is shown on\n",
      "                        failed tests. Default is 'all'.\n",
      "  --full-trace          don't cut any tracebacks (default is to cut).\n",
      "  --color=color         color terminal output (yes/no/auto).\n",
      "  --code-highlight={yes,no}\n",
      "                        Whether code should be highlighted (only if --color is\n",
      "                        also enabled)\n",
      "  --pastebin=mode       send failed|all info to bpaste.net pastebin service.\n",
      "  --junit-xml=path      create junit-xml style report file at given path.\n",
      "  --junit-prefix=str    prepend prefix to classnames in junit-xml output\n",
      "\n",
      "pytest-warnings:\n",
      "  -W PYTHONWARNINGS, --pythonwarnings=PYTHONWARNINGS\n",
      "                        set which warnings to report, see -W option of python\n",
      "                        itself.\n",
      "  --maxfail=num         exit after first num failures or errors.\n",
      "  --strict-config       any warnings encountered while parsing the `pytest`\n",
      "                        section of the configuration file raise errors.\n",
      "  --strict-markers      markers not registered in the `markers` section of the\n",
      "                        configuration file raise errors.\n",
      "  --strict              (deprecated) alias to --strict-markers.\n",
      "  -c file               load configuration from `file` instead of trying to\n",
      "                        locate one of the implicit configuration files.\n",
      "  --continue-on-collection-errors\n",
      "                        Force test execution even if collection errors occur.\n",
      "  --rootdir=ROOTDIR     Define root directory for tests. Can be relative path:\n",
      "                        'root_dir', './root_dir', 'root_dir/another_dir/';\n",
      "                        absolute path: '/home/user/root_dir'; path with\n",
      "                        variables: '$HOME/root_dir'.\n",
      "\n",
      "collection:\n",
      "  --collect-only, --co  only collect tests, don't execute them.\n",
      "  --pyargs              try to interpret all arguments as python packages.\n",
      "  --ignore=path         ignore path during collection (multi-allowed).\n",
      "  --ignore-glob=path    ignore path pattern during collection (multi-allowed).\n",
      "  --deselect=nodeid_prefix\n",
      "                        deselect item (via node id prefix) during collection\n",
      "                        (multi-allowed).\n",
      "  --confcutdir=dir      only load conftest.py's relative to specified dir.\n",
      "  --noconftest          Don't load any conftest.py files.\n",
      "  --keep-duplicates     Keep duplicate tests.\n",
      "  --collect-in-virtualenv\n",
      "                        Don't ignore tests in a local virtualenv directory\n",
      "  --import-mode={prepend,append,importlib}\n",
      "                        prepend/append to sys.path when importing test modules\n",
      "                        and conftest files, default is to prepend.\n",
      "  --doctest-modules     run doctests in all .py modules\n",
      "  --doctest-report={none,cdiff,ndiff,udiff,only_first_failure}\n",
      "                        choose another output format for diffs on doctest\n",
      "                        failure\n",
      "  --doctest-glob=pat    doctests file matching pattern, default: test*.txt\n",
      "  --doctest-ignore-import-errors\n",
      "                        ignore doctest ImportErrors\n",
      "  --doctest-continue-on-failure\n",
      "                        for a given doctest, continue to run after the first\n",
      "                        failure\n",
      "\n",
      "test session debugging and configuration:\n",
      "  --basetemp=dir        base temporary directory for this test run.(warning:\n",
      "                        this directory is removed if it exists)\n",
      "  -V, --version         display pytest version and information about plugins.\n",
      "                        When given twice, also display information about\n",
      "                        plugins.\n",
      "  -h, --help            show help message and configuration info\n",
      "  -p name               early-load given plugin module name or entry point\n",
      "                        (multi-allowed).\n",
      "                        To avoid loading of plugins, use the `no:` prefix, e.g.\n",
      "                        `no:doctest`.\n",
      "  --trace-config        trace considerations of conftest.py files.\n",
      "  --debug=[DEBUG_FILE_NAME]\n",
      "                        store internal tracing debug information in this log\n",
      "                        file.\n",
      "                        This file is opened with 'w' and truncated as a result,\n",
      "                        care advised.\n",
      "                        Defaults to 'pytestdebug.log'.\n",
      "  -o OVERRIDE_INI, --override-ini=OVERRIDE_INI\n",
      "                        override ini option with \"option=value\" style, e.g. `-o\n",
      "                        xfail_strict=True -o cache_dir=cache`.\n",
      "  --assert=MODE         Control assertion debugging tools.\n",
      "                        'plain' performs no assertion debugging.\n",
      "                        'rewrite' (the default) rewrites assert statements in\n",
      "                        test modules on import to provide assert expression\n",
      "                        information.\n",
      "  --setup-only          only setup fixtures, do not execute tests.\n",
      "  --setup-show          show setup of fixtures while executing tests.\n",
      "  --setup-plan          show what fixtures and tests would be executed but don't\n",
      "                        execute anything.\n",
      "\n",
      "logging:\n",
      "  --log-level=LEVEL     level of messages to catch/display.\n",
      "                        Not set by default, so it depends on the root/parent log\n",
      "                        handler's effective level, where it is \"WARNING\" by\n",
      "                        default.\n",
      "  --log-format=LOG_FORMAT\n",
      "                        log format as used by the logging module.\n",
      "  --log-date-format=LOG_DATE_FORMAT\n",
      "                        log date format as used by the logging module.\n",
      "  --log-cli-level=LOG_CLI_LEVEL\n",
      "                        cli logging level.\n",
      "  --log-cli-format=LOG_CLI_FORMAT\n",
      "                        log format as used by the logging module.\n",
      "  --log-cli-date-format=LOG_CLI_DATE_FORMAT\n",
      "                        log date format as used by the logging module.\n",
      "  --log-file=LOG_FILE   path to a file when logging will be written to.\n",
      "  --log-file-level=LOG_FILE_LEVEL\n",
      "                        log file logging level.\n",
      "  --log-file-format=LOG_FILE_FORMAT\n",
      "                        log format as used by the logging module.\n",
      "  --log-file-date-format=LOG_FILE_DATE_FORMAT\n",
      "                        log date format as used by the logging module.\n",
      "  --log-auto-indent=LOG_AUTO_INDENT\n",
      "                        Auto-indent multiline messages passed to the logging\n",
      "                        module. Accepts true|on, false|off or an integer.\n",
      "\n",
      "[pytest] ini-options in the first pytest.ini|tox.ini|setup.cfg file found:\n",
      "\n",
      "  markers (linelist):   markers for test functions\n",
      "  empty_parameter_set_mark (string):\n",
      "                        default marker for empty parametersets\n",
      "  norecursedirs (args): directory patterns to avoid for recursion\n",
      "  testpaths (args):     directories to search for tests when no files or\n",
      "                        directories are given in the command line.\n",
      "  filterwarnings (linelist):\n",
      "                        Each line specifies a pattern for\n",
      "                        warnings.filterwarnings. Processed after\n",
      "                        -W/--pythonwarnings.\n",
      "  usefixtures (args):   list of default fixtures to be used with this project\n",
      "  python_files (args):  glob-style file patterns for Python test module\n",
      "                        discovery\n",
      "  python_classes (args):\n",
      "                        prefixes or glob names for Python test class discovery\n",
      "  python_functions (args):\n",
      "                        prefixes or glob names for Python test function and\n",
      "                        method discovery\n",
      "  disable_test_id_escaping_and_forfeit_all_rights_to_community_support (bool):\n",
      "                        disable string escape non-ascii characters, might cause\n",
      "                        unwanted side effects(use at your own risk)\n",
      "  console_output_style (string):\n",
      "                        console output: \"classic\", or with additional progress\n",
      "                        information (\"progress\" (percentage) | \"count\").\n",
      "  xfail_strict (bool):  default for the strict parameter of xfail markers when\n",
      "                        not given explicitly (default: False)\n",
      "  enable_assertion_pass_hook (bool):\n",
      "                        Enables the pytest_assertion_pass hook.Make sure to\n",
      "                        delete any previously generated pyc cache files.\n",
      "  junit_suite_name (string):\n",
      "                        Test suite name for JUnit report\n",
      "  junit_logging (string):\n",
      "                        Write captured log messages to JUnit report: one of\n",
      "                        no|log|system-out|system-err|out-err|all\n",
      "  junit_log_passing_tests (bool):\n",
      "                        Capture log information for passing tests to JUnit\n",
      "                        report:\n",
      "  junit_duration_report (string):\n",
      "                        Duration time to report: one of total|call\n",
      "  junit_family (string):\n",
      "                        Emit XML for schema: one of legacy|xunit1|xunit2\n",
      "  doctest_optionflags (args):\n",
      "                        option flags for doctests\n",
      "  doctest_encoding (string):\n",
      "                        encoding used for doctest files\n",
      "  cache_dir (string):   cache directory path.\n",
      "  log_level (string):   default value for --log-level\n",
      "  log_format (string):  default value for --log-format\n",
      "  log_date_format (string):\n",
      "                        default value for --log-date-format\n",
      "  log_cli (bool):       enable log display during test run (also known as \"live\n",
      "                        logging\").\n",
      "  log_cli_level (string):\n",
      "                        default value for --log-cli-level\n",
      "  log_cli_format (string):\n",
      "                        default value for --log-cli-format\n",
      "  log_cli_date_format (string):\n",
      "                        default value for --log-cli-date-format\n",
      "  log_file (string):    default value for --log-file\n",
      "  log_file_level (string):\n",
      "                        default value for --log-file-level\n",
      "  log_file_format (string):\n",
      "                        default value for --log-file-format\n",
      "  log_file_date_format (string):\n",
      "                        default value for --log-file-date-format\n",
      "  log_auto_indent (string):\n",
      "                        default value for --log-auto-indent\n",
      "  pythonpath (paths):   Add paths to sys.path\n",
      "  faulthandler_timeout (string):\n",
      "                        Dump the traceback of all threads if a test takes more\n",
      "                        than TIMEOUT seconds to finish.\n",
      "  addopts (args):       extra command line options\n",
      "  minversion (string):  minimally required pytest version\n",
      "  required_plugins (args):\n",
      "                        plugins that must be present for pytest to run\n",
      "\n",
      "environment variables:\n",
      "  PYTEST_ADDOPTS           extra command line options\n",
      "  PYTEST_PLUGINS           comma-separated plugins to load during startup\n",
      "  PYTEST_DISABLE_PLUGIN_AUTOLOAD set to disable plugin auto-loading\n",
      "  PYTEST_DEBUG             set to enable debug tracing of pytest's internals\n",
      "\n",
      "\n",
      "to see available markers type: pytest --markers\n",
      "to see available fixtures type: pytest --fixtures\n",
      "(shown according to specified file_or_dir or current dir if not specified; fixtures with leading '_' are only shown with the '-v' option\n"
     ]
    }
   ],
   "source": [
    "!pytest -h"
   ]
  },
  {
   "cell_type": "markdown",
   "id": "5a401cef-7542-473a-bd27-128d2ca4dbfa",
   "metadata": {},
   "source": [
    "# Der Kommandozeilenschalter `verbose`"
   ]
  },
  {
   "cell_type": "markdown",
   "id": "12c7d0f6-63f0-4bc3-a412-98b22a0c4b70",
   "metadata": {},
   "source": [
    "Ohne `verbose`:"
   ]
  },
  {
   "cell_type": "code",
   "execution_count": 47,
   "id": "ae658379-23d9-4638-9480-8c74c2d1ac99",
   "metadata": {},
   "outputs": [
    {
     "name": "stdout",
     "output_type": "stream",
     "text": [
      "\u001b[1m============================= test session starts ==============================\u001b[0m\n",
      "platform linux -- Python 3.8.10, pytest-7.0.1, pluggy-1.0.0\n",
      "rootdir: /media/veracrypt1/09_src/central/032_pytest_einfuehrung\n",
      "plugins: anyio-3.5.0\n",
      "collected 4 items                                                              \u001b[0m\n",
      "\n",
      "mathe_tools2.py \u001b[32m.\u001b[0m\u001b[32m.\u001b[0m\u001b[32m.\u001b[0m\u001b[31mF\u001b[0m\u001b[31m                                                     [100%]\u001b[0m\n",
      "\n",
      "=================================== FAILURES ===================================\n",
      "\u001b[31m\u001b[1m________________________________ test4_addiere _________________________________\u001b[0m\n",
      "\n",
      "    \u001b[94mdef\u001b[39;49;00m \u001b[92mtest4_addiere\u001b[39;49;00m():\n",
      ">       \u001b[94massert\u001b[39;49;00m addiere([\u001b[94m1\u001b[39;49;00m,\u001b[94m2\u001b[39;49;00m,\u001b[94m3\u001b[39;49;00m],[\u001b[94m4\u001b[39;49;00m,\u001b[94m5\u001b[39;49;00m,\u001b[94m6\u001b[39;49;00m]) == [\u001b[94m5\u001b[39;49;00m,\u001b[94m7\u001b[39;49;00m,\u001b[94m9\u001b[39;49;00m]\n",
      "\u001b[1m\u001b[31mE       assert [1, 2, 3, 4, 5, 6] == [5, 7, 9]\u001b[0m\n",
      "\u001b[1m\u001b[31mE         At index 0 diff: 1 != 5\u001b[0m\n",
      "\u001b[1m\u001b[31mE         Left contains 3 more items, first extra item: 4\u001b[0m\n",
      "\u001b[1m\u001b[31mE         Use -v to get the full diff\u001b[0m\n",
      "\n",
      "\u001b[1m\u001b[31mmathe_tools2.py\u001b[0m:14: AssertionError\n",
      "=========================== short test summary info ============================\n",
      "FAILED mathe_tools2.py::test4_addiere - assert [1, 2, 3, 4, 5, 6] == [5, 7, 9]\n",
      "\u001b[31m========================= \u001b[31m\u001b[1m1 failed\u001b[0m, \u001b[32m3 passed\u001b[0m\u001b[31m in 0.09s\u001b[0m\u001b[31m ==========================\u001b[0m\n"
     ]
    }
   ],
   "source": [
    "!pytest mathe_tools2.py"
   ]
  },
  {
   "cell_type": "markdown",
   "id": "88f758b0-ffaa-4e1e-9b5c-7fd314779924",
   "metadata": {},
   "source": [
    "Mit `verbose`:"
   ]
  },
  {
   "cell_type": "code",
   "execution_count": 62,
   "id": "9ab6b3e7-21ff-406b-a95c-34d4ac22a48f",
   "metadata": {},
   "outputs": [
    {
     "name": "stdout",
     "output_type": "stream",
     "text": [
      "\u001b[1m============================= test session starts ==============================\u001b[0m\n",
      "platform linux -- Python 3.8.10, pytest-7.0.1, pluggy-1.0.0 -- /home/juebrauer/.local/share/virtualenvs/book_clean_code_mit_python-T4ki0mW7/bin/python\n",
      "cachedir: .pytest_cache\n",
      "rootdir: /media/veracrypt1/09_src/central/032_pytest_einfuehrung\n",
      "plugins: anyio-3.5.0\n",
      "collected 5 items                                                              \u001b[0m\n",
      "\n",
      "mathe_tools2.py::test1_addiere \u001b[32mPASSED\u001b[0m\u001b[32m                                    [ 20%]\u001b[0m\n",
      "mathe_tools2.py::test2_addiere \u001b[32mPASSED\u001b[0m\u001b[32m                                    [ 40%]\u001b[0m\n",
      "mathe_tools2.py::test3_addiere \u001b[32mPASSED\u001b[0m\u001b[32m                                    [ 60%]\u001b[0m\n",
      "mathe_tools2.py::test4_addiere \u001b[31mFAILED\u001b[0m\u001b[31m                                    [ 80%]\u001b[0m\n",
      "mathe_tools2.py::testaddiere \u001b[32mPASSED\u001b[0m\u001b[31m                                      [100%]\u001b[0m\n",
      "\n",
      "=================================== FAILURES ===================================\n",
      "\u001b[31m\u001b[1m________________________________ test4_addiere _________________________________\u001b[0m\n",
      "\n",
      "    \u001b[94mdef\u001b[39;49;00m \u001b[92mtest4_addiere\u001b[39;49;00m():\n",
      ">       \u001b[94massert\u001b[39;49;00m addiere([\u001b[94m1\u001b[39;49;00m,\u001b[94m2\u001b[39;49;00m,\u001b[94m3\u001b[39;49;00m],[\u001b[94m4\u001b[39;49;00m,\u001b[94m5\u001b[39;49;00m,\u001b[94m6\u001b[39;49;00m]) == [\u001b[94m5\u001b[39;49;00m,\u001b[94m7\u001b[39;49;00m,\u001b[94m9\u001b[39;49;00m]\n",
      "\u001b[1m\u001b[31mE       assert [1, 2, 3, 4, 5, 6] == [5, 7, 9]\u001b[0m\n",
      "\u001b[1m\u001b[31mE         At index 0 diff: 1 != 5\u001b[0m\n",
      "\u001b[1m\u001b[31mE         Left contains 3 more items, first extra item: 4\u001b[0m\n",
      "\u001b[1m\u001b[31mE         Full diff:\u001b[0m\n",
      "\u001b[1m\u001b[31mE         - [5, 7, 9]\u001b[0m\n",
      "\u001b[1m\u001b[31mE         + [1, 2, 3, 4, 5, 6]\u001b[0m\n",
      "\n",
      "\u001b[1m\u001b[31mmathe_tools2.py\u001b[0m:14: AssertionError\n",
      "=========================== short test summary info ============================\n",
      "FAILED mathe_tools2.py::test4_addiere - assert [1, 2, 3, 4, 5, 6] == [5, 7, 9]\n",
      "\u001b[31m========================= \u001b[31m\u001b[1m1 failed\u001b[0m, \u001b[32m4 passed\u001b[0m\u001b[31m in 0.11s\u001b[0m\u001b[31m ==========================\u001b[0m\n"
     ]
    }
   ],
   "source": [
    "!pytest mathe_tools2.py --verbose"
   ]
  },
  {
   "cell_type": "markdown",
   "id": "8fb62080-0387-4306-a572-20e461914ade",
   "metadata": {},
   "source": [
    "# Anatomie eines Tests\n",
    "\n",
    "Tests folgen meist einem klaren Schema: dem *Arrange-Act-Assert (AAA)-Modell*:\n",
    "\n",
    "- Arrange: man bereitet Dinge für den Test vor, z.B. Datenstrukturen\n",
    "- Act: man ruf eine Funktion oder Methode auf\n",
    "- Assert: man hat eine Erwartungshaltung an das Ergebnis und überprüft, ob diese erfüllt wird\n",
    "\n",
    "Siehe auch: https://docs.pytest.org/en/latest/explanation/anatomy.html#test-anatomy"
   ]
  },
  {
   "cell_type": "markdown",
   "id": "188c8a78-a658-47d1-87c0-3c7daed952a7",
   "metadata": {},
   "source": [
    "# Testbeispiele\n",
    "\n",
    "Beispiel 1: Datenbanken\n",
    "\n",
    "- Arrange: Verbindung zu einer Testdatenbank wird aufgebaut mit einigen Testtabellen zu Kunden, Produkten, Einkaufsvorgängen, etc.\n",
    "- Act: es wird eine Funktion aufgerufen, die nach Dubletten von Kunden oder Produkten in den Tabellen suchen soll\n",
    "- Assert: da wir schon Dubletten in der Testdatenbank von Kunden und Produkten hinterlegt haben, sollen diese Dubletten auch so wiedergefunden werden\n",
    "\n",
    "Beispiel 2: Parsen von Konfigurationsdateien\n",
    "\n",
    "- Arrange: eine Konfigurationsdatei für unser Programm wird vorbereitet\n",
    "- Act: eine Parserfunktion für die Konfigurationsdatei wird aufgerufen\n",
    "- Assert: wir nehmen an, dass bestimmte Membervariablen einer Konfigurationsklasse nach dem Parsen auf bestimmten Werten gesetzt sind\n",
    "\n",
    "Beispiel 3: Export von Daten\n",
    "\n",
    "- Arrange: es wird eine Datenstrukt im Programm erzeugt, die exportiert werden soll\n",
    "- Act: eine Export-Funktion für die Daten wird aufgerufen, die die Daten in einem bestimmten Format speichern sollen\n",
    "- Assert: wir nehmen an, dass sich die zu exportierenden Daten wirklich in der Datei befinden und überprüfen den Inhalt dieser Datei\n",
    "\n",
    "Beispiel 4: GUI Tests\n",
    "\n",
    "- Arrange: es wird eine Sequenz von Benutzer-Events vorbereitet\n",
    "- Act: die Sequenz von Benutzer-Events wird ausgeführt\n",
    "- Assert: wir nehmen an, dass bestimmte Eingabenmasken aufgerufen und mit bestimmten Werten ausgefüllt sind\n",
    "\n",
    "Beispiel 5: Computer Vision Tests für Fußgängerdetektion\n",
    "\n",
    "- Arrange: Bild wird geladen\n",
    "- Act: Computer Vision Algorithmus analysiert das Bild und versucht alle Fußgänger zu finden\n",
    "- Assert: wir überprüfen wieviele Fußgänger gefunden wurden und v.a. an den richtigen Stellen des Bildes"
   ]
  },
  {
   "cell_type": "markdown",
   "id": "fbf1d59d-3e82-489d-98b6-f3a75c4f4600",
   "metadata": {},
   "source": [
    "# Wie kann `pytest` Testfunktionen finden?\n",
    "\n",
    "Woher weiß `pytest` eigentlich welche Funktionen Testfunktionen sind?\n",
    "\n",
    "In `mathe_tools2.py` hatten wir hierzu den Testfunktionen das Präfix `test` gegeben. `pytest` sucht defaultmäßig nach allen Funktionen, die `test` als Präfix haben."
   ]
  },
  {
   "cell_type": "code",
   "execution_count": 63,
   "id": "a09ba912-ca46-4d29-9cbd-3258313ff42c",
   "metadata": {},
   "outputs": [
    {
     "name": "stdout",
     "output_type": "stream",
     "text": [
      "def addiere(x,y):\n",
      "    return x+y\n",
      "\n",
      "def test1_addiere():\n",
      "    assert addiere(2,2) == 4\n",
      "    \n",
      "def test2_addiere():\n",
      "    assert addiere(-2,-2) == -4\n",
      "    \n",
      "def test3_addiere():\n",
      "    assert addiere(-17,30) == 13\n",
      "    \n",
      "def test4_addiere():\n",
      "    assert addiere([1,2,3],[4,5,6]) == [5,7,9]\n",
      "    \n",
      "def testaddiere():\n",
      "    assert addiere(-100,+100) == 0\n",
      "\n"
     ]
    }
   ],
   "source": [
    "!cat mathe_tools2.py"
   ]
  },
  {
   "cell_type": "markdown",
   "id": "2a43dbda-9880-4cd6-9bc6-8f1b4a1d087d",
   "metadata": {},
   "source": [
    "Wir überprüfen mal, welche der folgenden Funktionen `pytest` als Testfunktionen erkennt:"
   ]
  },
  {
   "cell_type": "code",
   "execution_count": 64,
   "id": "0c59f882-352d-477a-803d-5f07e26e1c44",
   "metadata": {},
   "outputs": [
    {
     "name": "stdout",
     "output_type": "stream",
     "text": [
      "def addiere(x,y):\n",
      "    return x+y\n",
      "\n",
      "def test1_addiere():\n",
      "    #assert addiere(2,2) == 4\n",
      "    pass\n",
      "    \n",
      "def addiere_test2():\n",
      "    assert addiere(-2,-2) == -4\n",
      "    \n",
      "def addieretest3undauchnocheinpraefix():\n",
      "    assert addiere(-17,30) == 13\n",
      "\n",
      "def diehiernicht():\n",
      "    assert addiere(-1,+1) == 0\n"
     ]
    }
   ],
   "source": [
    "!cat mathe_tools3.py"
   ]
  },
  {
   "cell_type": "code",
   "execution_count": 69,
   "id": "0ffb45af-8453-4349-96b2-38b12df112ea",
   "metadata": {},
   "outputs": [
    {
     "name": "stdout",
     "output_type": "stream",
     "text": [
      "\u001b[1m============================= test session starts ==============================\u001b[0m\n",
      "platform linux -- Python 3.8.10, pytest-7.0.1, pluggy-1.0.0\n",
      "rootdir: /media/veracrypt1/09_src/central/032_pytest_einfuehrung\n",
      "plugins: anyio-3.5.0\n",
      "collected 1 item                                                               \u001b[0m\n",
      "\n",
      "mathe_tools3.py \u001b[32m.\u001b[0m\u001b[32m                                                        [100%]\u001b[0m\n",
      "\n",
      "\u001b[32m============================== \u001b[32m\u001b[1m1 passed\u001b[0m\u001b[32m in 0.02s\u001b[0m\u001b[32m ===============================\u001b[0m\n"
     ]
    }
   ],
   "source": [
    "!pytest mathe_tools3.py"
   ]
  },
  {
   "cell_type": "markdown",
   "id": "c260b2d6-16f2-43a0-8c4a-0978a549a002",
   "metadata": {},
   "source": [
    "Wir sehen: jetzt wurde nur eine Testfunktion gefunden. Aber welche eigentlich?\n",
    "Hierzu hilft uns der Parameterschalter `--collect-only` bzw. `--co`:"
   ]
  },
  {
   "cell_type": "code",
   "execution_count": 70,
   "id": "714d6924-c9aa-416a-92a0-57c6139da12a",
   "metadata": {},
   "outputs": [
    {
     "name": "stdout",
     "output_type": "stream",
     "text": [
      "\u001b[1m============================= test session starts ==============================\u001b[0m\n",
      "platform linux -- Python 3.8.10, pytest-7.0.1, pluggy-1.0.0\n",
      "rootdir: /media/veracrypt1/09_src/central/032_pytest_einfuehrung\n",
      "plugins: anyio-3.5.0\n",
      "collected 1 item                                                               \u001b[0m\n",
      "\n",
      "<Module mathe_tools3.py>\n",
      "  <Function test1_addiere>\n",
      "\n",
      "\u001b[32m========================== \u001b[32m1 test collected\u001b[0m\u001b[32m in 0.03s\u001b[0m\u001b[32m ===========================\u001b[0m\n"
     ]
    }
   ],
   "source": [
    "!pytest mathe_tools3.py --collect-only"
   ]
  },
  {
   "cell_type": "markdown",
   "id": "7ca72442-9c1f-452c-86ea-edf1150a8b98",
   "metadata": {},
   "source": [
    "# `pytest.ini` zur Steuerung der Sammlung von Tests\n",
    "\n",
    "Wir können die Auswahl der\n",
    "\n",
    "- Dateien\n",
    "- Funktionen\n",
    "- Klassen (später mehr)\n",
    "\n",
    "in denen Tests gesammelt werden sollen über eine zentrale Konfigurationsdatei `pytest.ini` steuern."
   ]
  },
  {
   "cell_type": "code",
   "execution_count": 71,
   "id": "faeee46f-adb3-497e-9cf7-601998ecc9f0",
   "metadata": {},
   "outputs": [
    {
     "name": "stdout",
     "output_type": "stream",
     "text": [
      "def addiere(x,y):\n",
      "    return x+y\n",
      "\n",
      "def check1_addiere():\n",
      "    assert addiere(2,2) == 4    \n",
      "    \n",
      "def addiere_check2_xyz():\n",
      "    assert addiere(-2,-2) == -4\n",
      "    \n",
      "def check3_addiere():\n",
      "    assert addiere(-17,30) == 13\n",
      "\n",
      "def und_noch_eine():\n",
      "    assert addiere(-1,+1) == 0\n"
     ]
    }
   ],
   "source": [
    "!cat mathe_tools4.py"
   ]
  },
  {
   "cell_type": "code",
   "execution_count": 72,
   "id": "618bc4da-c621-4720-a8a0-15aed631d766",
   "metadata": {},
   "outputs": [
    {
     "name": "stdout",
     "output_type": "stream",
     "text": [
      "[pytest]\n",
      "\n",
      "python_files = mathe_tools*.py\n",
      "python_functions = *check*\n"
     ]
    }
   ],
   "source": [
    "!cat pytest1.ini"
   ]
  },
  {
   "cell_type": "code",
   "execution_count": 73,
   "id": "4777896a-a5c0-46ed-b4d3-caa377b79909",
   "metadata": {},
   "outputs": [
    {
     "name": "stdout",
     "output_type": "stream",
     "text": [
      "\u001b[1m============================= test session starts ==============================\u001b[0m\n",
      "platform linux -- Python 3.8.10, pytest-7.0.1, pluggy-1.0.0\n",
      "rootdir: /media/veracrypt1/09_src/central/032_pytest_einfuehrung, configfile: pytest1.ini\n",
      "plugins: anyio-3.5.0\n",
      "collected 3 items                                                              \u001b[0m\n",
      "\n",
      "mathe_tools4.py \u001b[32m.\u001b[0m\u001b[32m.\u001b[0m\u001b[32m.\u001b[0m\u001b[32m                                                      [100%]\u001b[0m\n",
      "\n",
      "\u001b[32m============================== \u001b[32m\u001b[1m3 passed\u001b[0m\u001b[32m in 0.04s\u001b[0m\u001b[32m ===============================\u001b[0m\n"
     ]
    }
   ],
   "source": [
    "!pytest -c pytest1.ini"
   ]
  },
  {
   "cell_type": "markdown",
   "id": "2e9976d1-ab0f-47b0-b65b-6304937270fe",
   "metadata": {},
   "source": [
    "Wir sehen: es wurden 3 Tests aus der Datei `mathe_tools4.py` übernommen. Aber welche?"
   ]
  },
  {
   "cell_type": "code",
   "execution_count": 74,
   "id": "97b4758a-24d5-40bf-aa9e-47d6aee9b70e",
   "metadata": {},
   "outputs": [
    {
     "name": "stdout",
     "output_type": "stream",
     "text": [
      "\u001b[1m============================= test session starts ==============================\u001b[0m\n",
      "platform linux -- Python 3.8.10, pytest-7.0.1, pluggy-1.0.0 -- /home/juebrauer/.local/share/virtualenvs/book_clean_code_mit_python-T4ki0mW7/bin/python\n",
      "cachedir: .pytest_cache\n",
      "rootdir: /media/veracrypt1/09_src/central/032_pytest_einfuehrung, configfile: pytest1.ini\n",
      "plugins: anyio-3.5.0\n",
      "collected 3 items                                                              \u001b[0m\n",
      "\n",
      "mathe_tools4.py::check1_addiere \u001b[32mPASSED\u001b[0m\u001b[32m                                   [ 33%]\u001b[0m\n",
      "mathe_tools4.py::addiere_check2_xyz \u001b[32mPASSED\u001b[0m\u001b[32m                               [ 66%]\u001b[0m\n",
      "mathe_tools4.py::check3_addiere \u001b[32mPASSED\u001b[0m\u001b[32m                                   [100%]\u001b[0m\n",
      "\n",
      "\u001b[32m============================== \u001b[32m\u001b[1m3 passed\u001b[0m\u001b[32m in 0.03s\u001b[0m\u001b[32m ===============================\u001b[0m\n"
     ]
    }
   ],
   "source": [
    "!pytest -c pytest1.ini --verbose"
   ]
  },
  {
   "cell_type": "markdown",
   "id": "3683dcaf-907c-4794-a702-40026424db49",
   "metadata": {},
   "source": [
    "# `pytest.ini` zum Setzen von Standardschaltern"
   ]
  },
  {
   "cell_type": "markdown",
   "id": "3dbe56fc-731f-4fbf-b2a1-d4c3236e581c",
   "metadata": {},
   "source": [
    "In der Konfigurationsdatei können über die Variable `addopts` (additional options) auch zusätzliche Optionen (`pytest`-Schalter) gesetzten werden, mit denen die Tests ausgeführt werden sollen:"
   ]
  },
  {
   "cell_type": "code",
   "execution_count": 77,
   "id": "b0631653-84ee-43e3-9cc4-c1d04ab5e15f",
   "metadata": {},
   "outputs": [
    {
     "name": "stdout",
     "output_type": "stream",
     "text": [
      "[pytest]\n",
      "\n",
      "addopts = --verbose\n",
      "\n",
      "python_files = mathe_tools*.py\n",
      "python_functions = *check*\n"
     ]
    }
   ],
   "source": [
    "!cat pytest2.ini"
   ]
  },
  {
   "cell_type": "code",
   "execution_count": 78,
   "id": "14c8a29c-4c55-496e-9f35-657f25a5435e",
   "metadata": {},
   "outputs": [
    {
     "name": "stdout",
     "output_type": "stream",
     "text": [
      "\u001b[1m============================= test session starts ==============================\u001b[0m\n",
      "platform linux -- Python 3.8.10, pytest-7.0.1, pluggy-1.0.0 -- /home/juebrauer/.local/share/virtualenvs/book_clean_code_mit_python-T4ki0mW7/bin/python\n",
      "cachedir: .pytest_cache\n",
      "rootdir: /media/veracrypt1/09_src/central/032_pytest_einfuehrung, configfile: pytest2.ini\n",
      "plugins: anyio-3.5.0\n",
      "collected 3 items                                                              \u001b[0m\n",
      "\n",
      "mathe_tools4.py::check1_addiere \u001b[32mPASSED\u001b[0m\u001b[32m                                   [ 33%]\u001b[0m\n",
      "mathe_tools4.py::addiere_check2_xyz \u001b[32mPASSED\u001b[0m\u001b[32m                               [ 66%]\u001b[0m\n",
      "mathe_tools4.py::check3_addiere \u001b[32mPASSED\u001b[0m\u001b[32m                                   [100%]\u001b[0m\n",
      "\n",
      "\u001b[32m============================== \u001b[32m\u001b[1m3 passed\u001b[0m\u001b[32m in 0.04s\u001b[0m\u001b[32m ===============================\u001b[0m\n"
     ]
    }
   ],
   "source": [
    "!pytest -c pytest2.ini"
   ]
  },
  {
   "cell_type": "markdown",
   "id": "bfafdf1b-cc6c-4533-901e-40f8e7214ee7",
   "metadata": {},
   "source": [
    "# Angabe von mehreren Dateimustern bzw. mehreren Funktionsmustern\n",
    "\n",
    "... nach denen gesucht werden soll:"
   ]
  },
  {
   "cell_type": "code",
   "execution_count": 79,
   "id": "a7227d5d-d332-4eca-a4da-3c1951a1727f",
   "metadata": {},
   "outputs": [
    {
     "name": "stdout",
     "output_type": "stream",
     "text": [
      "def addiere(x,y):\n",
      "    return x+y\n",
      "\n",
      "def check1_addiere():\n",
      "    assert addiere(2,2) == 4    \n",
      "    \n",
      "def check2_addiere():\n",
      "    assert addiere(-2,-2) == -4\n",
      "    \n",
      "def test3_addiere():\n",
      "    assert addiere(-17,30) == 13\n",
      "\n",
      "def test4_addiere():\n",
      "    assert addiere(-1,+1) == 0\n"
     ]
    }
   ],
   "source": [
    "!cat mathe_tools5.py"
   ]
  },
  {
   "cell_type": "code",
   "execution_count": 80,
   "id": "207765c9-387c-41b7-ac78-f4c0eee190b5",
   "metadata": {},
   "outputs": [
    {
     "name": "stdout",
     "output_type": "stream",
     "text": [
      "[pytest]\n",
      "\n",
      "addopts = --verbose\n",
      "\n",
      "python_files = mathe_tools1.py mathe_tools5.py\n",
      "python_functions = *check* *test*\n"
     ]
    }
   ],
   "source": [
    "!cat pytest3.ini"
   ]
  },
  {
   "cell_type": "code",
   "execution_count": 81,
   "id": "f1978a1d-b9e3-410d-a83b-9f507f4511c3",
   "metadata": {},
   "outputs": [
    {
     "name": "stdout",
     "output_type": "stream",
     "text": [
      "\u001b[1m============================= test session starts ==============================\u001b[0m\n",
      "platform linux -- Python 3.8.10, pytest-7.0.1, pluggy-1.0.0 -- /home/juebrauer/.local/share/virtualenvs/book_clean_code_mit_python-T4ki0mW7/bin/python\n",
      "cachedir: .pytest_cache\n",
      "rootdir: /media/veracrypt1/09_src/central/032_pytest_einfuehrung, configfile: pytest3.ini\n",
      "plugins: anyio-3.5.0\n",
      "collected 7 items                                                              \u001b[0m\n",
      "\n",
      "mathe_tools1.py::test1_addiere \u001b[32mPASSED\u001b[0m\u001b[32m                                    [ 14%]\u001b[0m\n",
      "mathe_tools1.py::test2_addiere \u001b[32mPASSED\u001b[0m\u001b[32m                                    [ 28%]\u001b[0m\n",
      "mathe_tools1.py::test3_addiere \u001b[32mPASSED\u001b[0m\u001b[32m                                    [ 42%]\u001b[0m\n",
      "mathe_tools5.py::check1_addiere \u001b[32mPASSED\u001b[0m\u001b[32m                                   [ 57%]\u001b[0m\n",
      "mathe_tools5.py::check2_addiere \u001b[32mPASSED\u001b[0m\u001b[32m                                   [ 71%]\u001b[0m\n",
      "mathe_tools5.py::test3_addiere \u001b[32mPASSED\u001b[0m\u001b[32m                                    [ 85%]\u001b[0m\n",
      "mathe_tools5.py::test4_addiere \u001b[32mPASSED\u001b[0m\u001b[32m                                    [100%]\u001b[0m\n",
      "\n",
      "\u001b[32m============================== \u001b[32m\u001b[1m7 passed\u001b[0m\u001b[32m in 0.04s\u001b[0m\u001b[32m ===============================\u001b[0m\n"
     ]
    }
   ],
   "source": [
    "!pytest -c pytest3.ini"
   ]
  },
  {
   "cell_type": "markdown",
   "id": "644088f8-fe15-4bc3-af1f-ce5bfc6c7ab6",
   "metadata": {},
   "source": [
    "# Steuern der Suche nach Testfunktionen in Verzeichnissen und Unterverzeichnissen"
   ]
  },
  {
   "cell_type": "markdown",
   "id": "0dea1664-fdf2-40e4-bbb8-ee46553fee9f",
   "metadata": {},
   "source": [
    "Wir gehen von folgender Beispielverzeichnisstruktur aus:"
   ]
  },
  {
   "cell_type": "code",
   "execution_count": 87,
   "id": "c69bdc2d-bc86-477d-926a-aa743ba7f21f",
   "metadata": {},
   "outputs": [
    {
     "name": "stdout",
     "output_type": "stream",
     "text": [
      "prj1:\n",
      "mathe_tools6.py  prj1_subfolder1  prj1_subfolder2\n",
      "\n",
      "prj1/prj1_subfolder1:\n",
      "mathe_tools7.py\n",
      "\n",
      "prj1/prj1_subfolder2:\n",
      "mathe_tools8.py\n",
      "\n",
      "prj2:\n",
      "mathe_tools9.py\n"
     ]
    }
   ],
   "source": [
    "!ls -R prj*"
   ]
  },
  {
   "cell_type": "code",
   "execution_count": 28,
   "id": "4c61fedd-6cfd-4234-bf4a-7794853c6d3d",
   "metadata": {},
   "outputs": [
    {
     "name": "stdout",
     "output_type": "stream",
     "text": [
      "\u001b[01;34mprj1\u001b[00m\n",
      "├── mathe_tools6.py\n",
      "├── \u001b[01;34mprj1_subfolder1\u001b[00m\n",
      "│   └── mathe_tools7.py\n",
      "└── \u001b[01;34mprj1_subfolder2\u001b[00m\n",
      "    └── mathe_tools8.py\n",
      "\u001b[01;34mprj2\u001b[00m\n",
      "└── mathe_tools9.py\n",
      "\n",
      "2 directories, 4 files\n"
     ]
    }
   ],
   "source": [
    "!tree prj*"
   ]
  },
  {
   "cell_type": "code",
   "execution_count": 88,
   "id": "40a95f0f-81a7-40b0-b333-7772b127996c",
   "metadata": {},
   "outputs": [
    {
     "name": "stdout",
     "output_type": "stream",
     "text": [
      "[pytest]\n",
      "\n",
      "addopts = --verbose\n",
      "\n",
      "\n",
      "python_files = mathe_tools1.py mathe_tools5.py\n",
      "python_functions = *check* *test*\n"
     ]
    }
   ],
   "source": [
    "!cat pytest4.ini"
   ]
  },
  {
   "cell_type": "markdown",
   "id": "a09bb3f2-6b54-4189-b798-10f90648d176",
   "metadata": {},
   "source": [
    "Der folgende Aufruf sucht in allen Verzeichnissen und Unterverzeichnissen, d.h. sowohl im Root-Verzeichnis, als auch den Projekt- und Projektunterverzeichnissen:"
   ]
  },
  {
   "cell_type": "code",
   "execution_count": 89,
   "id": "c9f5b3d4-f05a-4ce8-af1c-e2284200f335",
   "metadata": {},
   "outputs": [
    {
     "name": "stdout",
     "output_type": "stream",
     "text": [
      "\u001b[1m============================= test session starts ==============================\u001b[0m\n",
      "platform linux -- Python 3.8.10, pytest-7.0.1, pluggy-1.0.0 -- /home/juebrauer/.local/share/virtualenvs/book_clean_code_mit_python-T4ki0mW7/bin/python\n",
      "cachedir: .pytest_cache\n",
      "rootdir: /media/veracrypt1/09_src/central/032_pytest_einfuehrung, configfile: pytest4.ini\n",
      "plugins: anyio-3.5.0\n",
      "collected 34 items                                                             \u001b[0m\n",
      "\n",
      "mathe_tools1.py::test1_addiere \u001b[32mPASSED\u001b[0m\u001b[32m                                    [  2%]\u001b[0m\n",
      "mathe_tools1.py::test2_addiere \u001b[32mPASSED\u001b[0m\u001b[32m                                    [  5%]\u001b[0m\n",
      "mathe_tools1.py::test3_addiere \u001b[32mPASSED\u001b[0m\u001b[32m                                    [  8%]\u001b[0m\n",
      "mathe_tools2.py::test1_addiere \u001b[32mPASSED\u001b[0m\u001b[32m                                    [ 11%]\u001b[0m\n",
      "mathe_tools2.py::test2_addiere \u001b[32mPASSED\u001b[0m\u001b[32m                                    [ 14%]\u001b[0m\n",
      "mathe_tools2.py::test3_addiere \u001b[32mPASSED\u001b[0m\u001b[32m                                    [ 17%]\u001b[0m\n",
      "mathe_tools2.py::test4_addiere \u001b[31mFAILED\u001b[0m\u001b[31m                                    [ 20%]\u001b[0m\n",
      "mathe_tools2.py::testaddiere \u001b[32mPASSED\u001b[0m\u001b[31m                                      [ 23%]\u001b[0m\n",
      "mathe_tools3.py::test1_addiere \u001b[32mPASSED\u001b[0m\u001b[31m                                    [ 26%]\u001b[0m\n",
      "mathe_tools3.py::addiere_test2 \u001b[32mPASSED\u001b[0m\u001b[31m                                    [ 29%]\u001b[0m\n",
      "mathe_tools3.py::addieretest3undauchnocheinpraefix \u001b[32mPASSED\u001b[0m\u001b[31m                [ 32%]\u001b[0m\n",
      "mathe_tools4.py::check1_addiere \u001b[32mPASSED\u001b[0m\u001b[31m                                   [ 35%]\u001b[0m\n",
      "mathe_tools4.py::addiere_check2_xyz \u001b[32mPASSED\u001b[0m\u001b[31m                               [ 38%]\u001b[0m\n",
      "mathe_tools4.py::check3_addiere \u001b[32mPASSED\u001b[0m\u001b[31m                                   [ 41%]\u001b[0m\n",
      "mathe_tools5.py::check1_addiere \u001b[32mPASSED\u001b[0m\u001b[31m                                   [ 44%]\u001b[0m\n",
      "mathe_tools5.py::check2_addiere \u001b[32mPASSED\u001b[0m\u001b[31m                                   [ 47%]\u001b[0m\n",
      "mathe_tools5.py::test3_addiere \u001b[32mPASSED\u001b[0m\u001b[31m                                    [ 50%]\u001b[0m\n",
      "mathe_tools5.py::test4_addiere \u001b[32mPASSED\u001b[0m\u001b[31m                                    [ 52%]\u001b[0m\n",
      "prj1/mathe_tools6.py::check1_addiere \u001b[32mPASSED\u001b[0m\u001b[31m                              [ 55%]\u001b[0m\n",
      "prj1/mathe_tools6.py::check2_addiere \u001b[32mPASSED\u001b[0m\u001b[31m                              [ 58%]\u001b[0m\n",
      "prj1/mathe_tools6.py::test3_addiere \u001b[32mPASSED\u001b[0m\u001b[31m                               [ 61%]\u001b[0m\n",
      "prj1/mathe_tools6.py::test4_addiere \u001b[32mPASSED\u001b[0m\u001b[31m                               [ 64%]\u001b[0m\n",
      "prj1/prj1_subfolder1/mathe_tools7.py::check1_addiere \u001b[32mPASSED\u001b[0m\u001b[31m              [ 67%]\u001b[0m\n",
      "prj1/prj1_subfolder1/mathe_tools7.py::check2_addiere \u001b[32mPASSED\u001b[0m\u001b[31m              [ 70%]\u001b[0m\n",
      "prj1/prj1_subfolder1/mathe_tools7.py::test3_addiere \u001b[32mPASSED\u001b[0m\u001b[31m               [ 73%]\u001b[0m\n",
      "prj1/prj1_subfolder1/mathe_tools7.py::test4_addiere \u001b[32mPASSED\u001b[0m\u001b[31m               [ 76%]\u001b[0m\n",
      "prj1/prj1_subfolder2/mathe_tools8.py::check1_addiere \u001b[32mPASSED\u001b[0m\u001b[31m              [ 79%]\u001b[0m\n",
      "prj1/prj1_subfolder2/mathe_tools8.py::check2_addiere \u001b[32mPASSED\u001b[0m\u001b[31m              [ 82%]\u001b[0m\n",
      "prj1/prj1_subfolder2/mathe_tools8.py::test3_addiere \u001b[32mPASSED\u001b[0m\u001b[31m               [ 85%]\u001b[0m\n",
      "prj1/prj1_subfolder2/mathe_tools8.py::test4_addiere \u001b[32mPASSED\u001b[0m\u001b[31m               [ 88%]\u001b[0m\n",
      "prj2/mathe_tools9.py::check1_addiere \u001b[32mPASSED\u001b[0m\u001b[31m                              [ 91%]\u001b[0m\n",
      "prj2/mathe_tools9.py::check2_addiere \u001b[32mPASSED\u001b[0m\u001b[31m                              [ 94%]\u001b[0m\n",
      "prj2/mathe_tools9.py::test3_addiere \u001b[32mPASSED\u001b[0m\u001b[31m                               [ 97%]\u001b[0m\n",
      "prj2/mathe_tools9.py::test4_addiere \u001b[32mPASSED\u001b[0m\u001b[31m                               [100%]\u001b[0m\n",
      "\n",
      "=================================== FAILURES ===================================\n",
      "\u001b[31m\u001b[1m________________________________ test4_addiere _________________________________\u001b[0m\n",
      "\n",
      "    \u001b[94mdef\u001b[39;49;00m \u001b[92mtest4_addiere\u001b[39;49;00m():\n",
      ">       \u001b[94massert\u001b[39;49;00m addiere([\u001b[94m1\u001b[39;49;00m,\u001b[94m2\u001b[39;49;00m,\u001b[94m3\u001b[39;49;00m],[\u001b[94m4\u001b[39;49;00m,\u001b[94m5\u001b[39;49;00m,\u001b[94m6\u001b[39;49;00m]) == [\u001b[94m5\u001b[39;49;00m,\u001b[94m7\u001b[39;49;00m,\u001b[94m9\u001b[39;49;00m]\n",
      "\u001b[1m\u001b[31mE       assert [1, 2, 3, 4, 5, 6] == [5, 7, 9]\u001b[0m\n",
      "\u001b[1m\u001b[31mE         At index 0 diff: 1 != 5\u001b[0m\n",
      "\u001b[1m\u001b[31mE         Left contains 3 more items, first extra item: 4\u001b[0m\n",
      "\u001b[1m\u001b[31mE         Full diff:\u001b[0m\n",
      "\u001b[1m\u001b[31mE         - [5, 7, 9]\u001b[0m\n",
      "\u001b[1m\u001b[31mE         + [1, 2, 3, 4, 5, 6]\u001b[0m\n",
      "\n",
      "\u001b[1m\u001b[31mmathe_tools2.py\u001b[0m:14: AssertionError\n",
      "=========================== short test summary info ============================\n",
      "FAILED mathe_tools2.py::test4_addiere - assert [1, 2, 3, 4, 5, 6] == [5, 7, 9]\n",
      "\u001b[31m========================= \u001b[31m\u001b[1m1 failed\u001b[0m, \u001b[32m33 passed\u001b[0m\u001b[31m in 0.16s\u001b[0m\u001b[31m =========================\u001b[0m\n"
     ]
    }
   ],
   "source": [
    "!pytest -c pytest4.ini"
   ]
  },
  {
   "cell_type": "markdown",
   "id": "6eb733e4-7a26-42df-91f3-a1e7c74bc314",
   "metadata": {},
   "source": [
    "Jetzt wollen wir die Suche einschränken auf die beiden Projekt- und Projektunterverzeichnisse:"
   ]
  },
  {
   "cell_type": "code",
   "execution_count": 90,
   "id": "d1a42544-66fb-4349-8ebd-dafc2e0a7127",
   "metadata": {},
   "outputs": [
    {
     "name": "stdout",
     "output_type": "stream",
     "text": [
      "\u001b[1m============================= test session starts ==============================\u001b[0m\n",
      "platform linux -- Python 3.8.10, pytest-7.0.1, pluggy-1.0.0 -- /home/juebrauer/.local/share/virtualenvs/book_clean_code_mit_python-T4ki0mW7/bin/python\n",
      "cachedir: .pytest_cache\n",
      "rootdir: /media/veracrypt1/09_src/central/032_pytest_einfuehrung, configfile: pytest4.ini\n",
      "plugins: anyio-3.5.0\n",
      "collected 16 items                                                             \u001b[0m\n",
      "\n",
      "prj1/mathe_tools6.py::check1_addiere \u001b[32mPASSED\u001b[0m\u001b[32m                              [  6%]\u001b[0m\n",
      "prj1/mathe_tools6.py::check2_addiere \u001b[32mPASSED\u001b[0m\u001b[32m                              [ 12%]\u001b[0m\n",
      "prj1/mathe_tools6.py::test3_addiere \u001b[32mPASSED\u001b[0m\u001b[32m                               [ 18%]\u001b[0m\n",
      "prj1/mathe_tools6.py::test4_addiere \u001b[32mPASSED\u001b[0m\u001b[32m                               [ 25%]\u001b[0m\n",
      "prj1/prj1_subfolder1/mathe_tools7.py::check1_addiere \u001b[32mPASSED\u001b[0m\u001b[32m              [ 31%]\u001b[0m\n",
      "prj1/prj1_subfolder1/mathe_tools7.py::check2_addiere \u001b[32mPASSED\u001b[0m\u001b[32m              [ 37%]\u001b[0m\n",
      "prj1/prj1_subfolder1/mathe_tools7.py::test3_addiere \u001b[32mPASSED\u001b[0m\u001b[32m               [ 43%]\u001b[0m\n",
      "prj1/prj1_subfolder1/mathe_tools7.py::test4_addiere \u001b[32mPASSED\u001b[0m\u001b[32m               [ 50%]\u001b[0m\n",
      "prj1/prj1_subfolder2/mathe_tools8.py::check1_addiere \u001b[32mPASSED\u001b[0m\u001b[32m              [ 56%]\u001b[0m\n",
      "prj1/prj1_subfolder2/mathe_tools8.py::check2_addiere \u001b[32mPASSED\u001b[0m\u001b[32m              [ 62%]\u001b[0m\n",
      "prj1/prj1_subfolder2/mathe_tools8.py::test3_addiere \u001b[32mPASSED\u001b[0m\u001b[32m               [ 68%]\u001b[0m\n",
      "prj1/prj1_subfolder2/mathe_tools8.py::test4_addiere \u001b[32mPASSED\u001b[0m\u001b[32m               [ 75%]\u001b[0m\n",
      "prj2/mathe_tools9.py::check1_addiere \u001b[32mPASSED\u001b[0m\u001b[32m                              [ 81%]\u001b[0m\n",
      "prj2/mathe_tools9.py::check2_addiere \u001b[32mPASSED\u001b[0m\u001b[32m                              [ 87%]\u001b[0m\n",
      "prj2/mathe_tools9.py::test3_addiere \u001b[32mPASSED\u001b[0m\u001b[32m                               [ 93%]\u001b[0m\n",
      "prj2/mathe_tools9.py::test4_addiere \u001b[32mPASSED\u001b[0m\u001b[32m                               [100%]\u001b[0m\n",
      "\n",
      "\u001b[32m============================== \u001b[32m\u001b[1m16 passed\u001b[0m\u001b[32m in 0.06s\u001b[0m\u001b[32m ==============================\u001b[0m\n"
     ]
    }
   ],
   "source": [
    "!pytest -c pytest4.ini prj1 prj2"
   ]
  },
  {
   "cell_type": "markdown",
   "id": "ae1db05b-2a7b-419a-8b16-8378a3e59a5a",
   "metadata": {},
   "source": [
    "Alternativ können wir die Verzeichnisse auch direkt in einer Konfigurationsdatei spezifizieren (Quizfrage):"
   ]
  },
  {
   "cell_type": "code",
   "execution_count": 91,
   "id": "e5e93e58-ddf1-4755-8df4-d92d043c1013",
   "metadata": {},
   "outputs": [
    {
     "name": "stdout",
     "output_type": "stream",
     "text": [
      "\u001b[1m============================= test session starts ==============================\u001b[0m\n",
      "platform linux -- Python 3.8.10, pytest-7.0.1, pluggy-1.0.0 -- /home/juebrauer/.local/share/virtualenvs/book_clean_code_mit_python-T4ki0mW7/bin/python\n",
      "cachedir: .pytest_cache\n",
      "rootdir: /media/veracrypt1/09_src/central/032_pytest_einfuehrung, configfile: pytest5.ini, testpaths: prj1, prj2\n",
      "plugins: anyio-3.5.0\n",
      "collected 16 items                                                             \u001b[0m\n",
      "\n",
      "prj1/mathe_tools6.py::check1_addiere \u001b[32mPASSED\u001b[0m\u001b[32m                              [  6%]\u001b[0m\n",
      "prj1/mathe_tools6.py::check2_addiere \u001b[32mPASSED\u001b[0m\u001b[32m                              [ 12%]\u001b[0m\n",
      "prj1/mathe_tools6.py::test3_addiere \u001b[32mPASSED\u001b[0m\u001b[32m                               [ 18%]\u001b[0m\n",
      "prj1/mathe_tools6.py::test4_addiere \u001b[32mPASSED\u001b[0m\u001b[32m                               [ 25%]\u001b[0m\n",
      "prj1/prj1_subfolder1/mathe_tools7.py::check1_addiere \u001b[32mPASSED\u001b[0m\u001b[32m              [ 31%]\u001b[0m\n",
      "prj1/prj1_subfolder1/mathe_tools7.py::check2_addiere \u001b[32mPASSED\u001b[0m\u001b[32m              [ 37%]\u001b[0m\n",
      "prj1/prj1_subfolder1/mathe_tools7.py::test3_addiere \u001b[32mPASSED\u001b[0m\u001b[32m               [ 43%]\u001b[0m\n",
      "prj1/prj1_subfolder1/mathe_tools7.py::test4_addiere \u001b[32mPASSED\u001b[0m\u001b[32m               [ 50%]\u001b[0m\n",
      "prj1/prj1_subfolder2/mathe_tools8.py::check1_addiere \u001b[32mPASSED\u001b[0m\u001b[32m              [ 56%]\u001b[0m\n",
      "prj1/prj1_subfolder2/mathe_tools8.py::check2_addiere \u001b[32mPASSED\u001b[0m\u001b[32m              [ 62%]\u001b[0m\n",
      "prj1/prj1_subfolder2/mathe_tools8.py::test3_addiere \u001b[32mPASSED\u001b[0m\u001b[32m               [ 68%]\u001b[0m\n",
      "prj1/prj1_subfolder2/mathe_tools8.py::test4_addiere \u001b[32mPASSED\u001b[0m\u001b[32m               [ 75%]\u001b[0m\n",
      "prj2/mathe_tools9.py::check1_addiere \u001b[32mPASSED\u001b[0m\u001b[32m                              [ 81%]\u001b[0m\n",
      "prj2/mathe_tools9.py::check2_addiere \u001b[32mPASSED\u001b[0m\u001b[32m                              [ 87%]\u001b[0m\n",
      "prj2/mathe_tools9.py::test3_addiere \u001b[32mPASSED\u001b[0m\u001b[32m                               [ 93%]\u001b[0m\n",
      "prj2/mathe_tools9.py::test4_addiere \u001b[32mPASSED\u001b[0m\u001b[32m                               [100%]\u001b[0m\n",
      "\n",
      "\u001b[32m============================== \u001b[32m\u001b[1m16 passed\u001b[0m\u001b[32m in 0.07s\u001b[0m\u001b[32m ==============================\u001b[0m\n"
     ]
    }
   ],
   "source": [
    "!pytest -c pytest5.ini"
   ]
  },
  {
   "cell_type": "markdown",
   "id": "89ce271a-1eb5-4d39-b0b0-a84f42627d48",
   "metadata": {},
   "source": [
    "# Quizfrage: Ausschließen von Unterverzeichnissen\n",
    "\n",
    "Frage: Wie können jetzt die Unterverzeichnisse `prj1_subfolder1` und `prj1_subfolder2` von der Suche nach Testfunktionen ausgeschlossen werden?"
   ]
  },
  {
   "cell_type": "code",
   "execution_count": 93,
   "id": "858d145b-3eec-4673-99a8-84d3e7a4f24f",
   "metadata": {},
   "outputs": [
    {
     "name": "stdout",
     "output_type": "stream",
     "text": [
      "[pytest]\n",
      "\n",
      "addopts = --verbose\n",
      "\n",
      "testpaths = prj1 prj2\n",
      "python_files = mathe_tools*.py\n",
      "python_functions = *check* *test*\n"
     ]
    }
   ],
   "source": [
    "!cat pytest5.ini"
   ]
  },
  {
   "cell_type": "markdown",
   "id": "0877dcfe-dfeb-4887-938b-fa02c3162801",
   "metadata": {},
   "source": [
    "So werden ja noch auch die Unterverzeichnisse miteinbezogen:"
   ]
  },
  {
   "cell_type": "code",
   "execution_count": 94,
   "id": "019417f2-6e8f-45a3-ab18-d971e4b55498",
   "metadata": {},
   "outputs": [
    {
     "name": "stdout",
     "output_type": "stream",
     "text": [
      "\u001b[1m============================= test session starts ==============================\u001b[0m\n",
      "platform linux -- Python 3.8.10, pytest-7.0.1, pluggy-1.0.0 -- /home/juebrauer/.local/share/virtualenvs/book_clean_code_mit_python-T4ki0mW7/bin/python\n",
      "cachedir: .pytest_cache\n",
      "rootdir: /media/veracrypt1/09_src/central/032_pytest_einfuehrung, configfile: pytest5.ini, testpaths: prj1, prj2\n",
      "plugins: anyio-3.5.0\n",
      "collected 16 items                                                             \u001b[0m\n",
      "\n",
      "prj1/mathe_tools6.py::check1_addiere \u001b[32mPASSED\u001b[0m\u001b[32m                              [  6%]\u001b[0m\n",
      "prj1/mathe_tools6.py::check2_addiere \u001b[32mPASSED\u001b[0m\u001b[32m                              [ 12%]\u001b[0m\n",
      "prj1/mathe_tools6.py::test3_addiere \u001b[32mPASSED\u001b[0m\u001b[32m                               [ 18%]\u001b[0m\n",
      "prj1/mathe_tools6.py::test4_addiere \u001b[32mPASSED\u001b[0m\u001b[32m                               [ 25%]\u001b[0m\n",
      "prj1/prj1_subfolder1/mathe_tools7.py::check1_addiere \u001b[32mPASSED\u001b[0m\u001b[32m              [ 31%]\u001b[0m\n",
      "prj1/prj1_subfolder1/mathe_tools7.py::check2_addiere \u001b[32mPASSED\u001b[0m\u001b[32m              [ 37%]\u001b[0m\n",
      "prj1/prj1_subfolder1/mathe_tools7.py::test3_addiere \u001b[32mPASSED\u001b[0m\u001b[32m               [ 43%]\u001b[0m\n",
      "prj1/prj1_subfolder1/mathe_tools7.py::test4_addiere \u001b[32mPASSED\u001b[0m\u001b[32m               [ 50%]\u001b[0m\n",
      "prj1/prj1_subfolder2/mathe_tools8.py::check1_addiere \u001b[32mPASSED\u001b[0m\u001b[32m              [ 56%]\u001b[0m\n",
      "prj1/prj1_subfolder2/mathe_tools8.py::check2_addiere \u001b[32mPASSED\u001b[0m\u001b[32m              [ 62%]\u001b[0m\n",
      "prj1/prj1_subfolder2/mathe_tools8.py::test3_addiere \u001b[32mPASSED\u001b[0m\u001b[32m               [ 68%]\u001b[0m\n",
      "prj1/prj1_subfolder2/mathe_tools8.py::test4_addiere \u001b[32mPASSED\u001b[0m\u001b[32m               [ 75%]\u001b[0m\n",
      "prj2/mathe_tools9.py::check1_addiere \u001b[32mPASSED\u001b[0m\u001b[32m                              [ 81%]\u001b[0m\n",
      "prj2/mathe_tools9.py::check2_addiere \u001b[32mPASSED\u001b[0m\u001b[32m                              [ 87%]\u001b[0m\n",
      "prj2/mathe_tools9.py::test3_addiere \u001b[32mPASSED\u001b[0m\u001b[32m                               [ 93%]\u001b[0m\n",
      "prj2/mathe_tools9.py::test4_addiere \u001b[32mPASSED\u001b[0m\u001b[32m                               [100%]\u001b[0m\n",
      "\n",
      "\u001b[32m============================== \u001b[32m\u001b[1m16 passed\u001b[0m\u001b[32m in 0.06s\u001b[0m\u001b[32m ==============================\u001b[0m\n"
     ]
    }
   ],
   "source": [
    "!pytest -c pytest5.ini"
   ]
  },
  {
   "cell_type": "markdown",
   "id": "1bc17e27-4f51-4c4f-b0a2-15b4081d9a54",
   "metadata": {},
   "source": [
    "Mittels dem Kommandozeilenschalter `--ignore=PFADNAME` können wir einzelne Verzeichnisse ausschließen:"
   ]
  },
  {
   "cell_type": "code",
   "execution_count": 99,
   "id": "21f66118-99f8-494d-96ab-6b5c7fd3c5bd",
   "metadata": {},
   "outputs": [
    {
     "name": "stdout",
     "output_type": "stream",
     "text": [
      "\u001b[1m============================= test session starts ==============================\u001b[0m\n",
      "platform linux -- Python 3.8.10, pytest-7.0.1, pluggy-1.0.0 -- /home/juebrauer/.local/share/virtualenvs/book_clean_code_mit_python-T4ki0mW7/bin/python\n",
      "cachedir: .pytest_cache\n",
      "rootdir: /media/veracrypt1/09_src/central/032_pytest_einfuehrung, configfile: pytest5.ini, testpaths: prj1, prj2\n",
      "plugins: anyio-3.5.0\n",
      "collected 8 items                                                              \u001b[0m\n",
      "\n",
      "prj1/mathe_tools6.py::check1_addiere \u001b[32mPASSED\u001b[0m\u001b[32m                              [ 12%]\u001b[0m\n",
      "prj1/mathe_tools6.py::check2_addiere \u001b[32mPASSED\u001b[0m\u001b[32m                              [ 25%]\u001b[0m\n",
      "prj1/mathe_tools6.py::test3_addiere \u001b[32mPASSED\u001b[0m\u001b[32m                               [ 37%]\u001b[0m\n",
      "prj1/mathe_tools6.py::test4_addiere \u001b[32mPASSED\u001b[0m\u001b[32m                               [ 50%]\u001b[0m\n",
      "prj2/mathe_tools9.py::check1_addiere \u001b[32mPASSED\u001b[0m\u001b[32m                              [ 62%]\u001b[0m\n",
      "prj2/mathe_tools9.py::check2_addiere \u001b[32mPASSED\u001b[0m\u001b[32m                              [ 75%]\u001b[0m\n",
      "prj2/mathe_tools9.py::test3_addiere \u001b[32mPASSED\u001b[0m\u001b[32m                               [ 87%]\u001b[0m\n",
      "prj2/mathe_tools9.py::test4_addiere \u001b[32mPASSED\u001b[0m\u001b[32m                               [100%]\u001b[0m\n",
      "\n",
      "\u001b[32m============================== \u001b[32m\u001b[1m8 passed\u001b[0m\u001b[32m in 0.04s\u001b[0m\u001b[32m ===============================\u001b[0m\n"
     ]
    }
   ],
   "source": [
    "!pytest -c pytest5.ini --ignore=prj1/prj1_subfolder1 --ignore=prj1/prj1_subfolder2"
   ]
  },
  {
   "cell_type": "markdown",
   "id": "91a8541d-8187-4c34-8bfa-d6ada5186155",
   "metadata": {},
   "source": [
    "Alternativ können wir mit dem Schalter `--ignore-glob` auch ein Muster angeben um gleich mehrere Verzeichnisse auszuschließen:"
   ]
  },
  {
   "cell_type": "code",
   "execution_count": 101,
   "id": "86be92f5-d17b-43c1-a632-79c2d4e66a84",
   "metadata": {},
   "outputs": [
    {
     "name": "stdout",
     "output_type": "stream",
     "text": [
      "\u001b[1m============================= test session starts ==============================\u001b[0m\n",
      "platform linux -- Python 3.8.10, pytest-7.0.1, pluggy-1.0.0 -- /home/juebrauer/.local/share/virtualenvs/book_clean_code_mit_python-T4ki0mW7/bin/python\n",
      "cachedir: .pytest_cache\n",
      "rootdir: /media/veracrypt1/09_src/central/032_pytest_einfuehrung, configfile: pytest5.ini, testpaths: prj1, prj2\n",
      "plugins: anyio-3.5.0\n",
      "collected 8 items                                                              \u001b[0m\n",
      "\n",
      "prj1/mathe_tools6.py::check1_addiere \u001b[32mPASSED\u001b[0m\u001b[32m                              [ 12%]\u001b[0m\n",
      "prj1/mathe_tools6.py::check2_addiere \u001b[32mPASSED\u001b[0m\u001b[32m                              [ 25%]\u001b[0m\n",
      "prj1/mathe_tools6.py::test3_addiere \u001b[32mPASSED\u001b[0m\u001b[32m                               [ 37%]\u001b[0m\n",
      "prj1/mathe_tools6.py::test4_addiere \u001b[32mPASSED\u001b[0m\u001b[32m                               [ 50%]\u001b[0m\n",
      "prj2/mathe_tools9.py::check1_addiere \u001b[32mPASSED\u001b[0m\u001b[32m                              [ 62%]\u001b[0m\n",
      "prj2/mathe_tools9.py::check2_addiere \u001b[32mPASSED\u001b[0m\u001b[32m                              [ 75%]\u001b[0m\n",
      "prj2/mathe_tools9.py::test3_addiere \u001b[32mPASSED\u001b[0m\u001b[32m                               [ 87%]\u001b[0m\n",
      "prj2/mathe_tools9.py::test4_addiere \u001b[32mPASSED\u001b[0m\u001b[32m                               [100%]\u001b[0m\n",
      "\n",
      "\u001b[32m============================== \u001b[32m\u001b[1m8 passed\u001b[0m\u001b[32m in 0.04s\u001b[0m\u001b[32m ===============================\u001b[0m\n"
     ]
    }
   ],
   "source": [
    "!pytest -c pytest5.ini --ignore-glob=prj1/prj1_subfolder*"
   ]
  },
  {
   "cell_type": "markdown",
   "id": "d88501f2-8439-4d7c-9e28-b879572fa335",
   "metadata": {},
   "source": [
    "Wenn man alle Unterverzeichnisse ausschließen möchte, kann man dies auch über eine Einstellung in der Konfigurationsdatei machen:"
   ]
  },
  {
   "cell_type": "code",
   "execution_count": 103,
   "id": "2d367b41-fa00-4a57-ae9e-3786fbccd70e",
   "metadata": {},
   "outputs": [
    {
     "name": "stdout",
     "output_type": "stream",
     "text": [
      "[pytest]\n",
      "\n",
      "addopts = --verbose\n",
      "\n",
      "testpaths = prj1 prj2\n",
      "norecursedirs = prj1\n",
      "python_files = mathe_tools*.py\n",
      "python_functions = *check* *test*\n"
     ]
    }
   ],
   "source": [
    "!cat pytest6.ini"
   ]
  },
  {
   "cell_type": "code",
   "execution_count": 105,
   "id": "bd3c3ba9-dba5-48a0-9663-e9a7247f480f",
   "metadata": {},
   "outputs": [
    {
     "name": "stdout",
     "output_type": "stream",
     "text": [
      "\u001b[1m============================= test session starts ==============================\u001b[0m\n",
      "platform linux -- Python 3.8.10, pytest-7.0.1, pluggy-1.0.0 -- /home/juebrauer/.local/share/virtualenvs/book_clean_code_mit_python-T4ki0mW7/bin/python\n",
      "cachedir: .pytest_cache\n",
      "rootdir: /media/veracrypt1/09_src/central/032_pytest_einfuehrung, configfile: pytest6.ini, testpaths: prj1, prj2\n",
      "plugins: anyio-3.5.0\n",
      "collected 8 items                                                              \u001b[0m\n",
      "\n",
      "prj1/mathe_tools6.py::check1_addiere \u001b[32mPASSED\u001b[0m\u001b[32m                              [ 12%]\u001b[0m\n",
      "prj1/mathe_tools6.py::check2_addiere \u001b[32mPASSED\u001b[0m\u001b[32m                              [ 25%]\u001b[0m\n",
      "prj1/mathe_tools6.py::test3_addiere \u001b[32mPASSED\u001b[0m\u001b[32m                               [ 37%]\u001b[0m\n",
      "prj1/mathe_tools6.py::test4_addiere \u001b[32mPASSED\u001b[0m\u001b[32m                               [ 50%]\u001b[0m\n",
      "prj2/mathe_tools9.py::check1_addiere \u001b[32mPASSED\u001b[0m\u001b[32m                              [ 62%]\u001b[0m\n",
      "prj2/mathe_tools9.py::check2_addiere \u001b[32mPASSED\u001b[0m\u001b[32m                              [ 75%]\u001b[0m\n",
      "prj2/mathe_tools9.py::test3_addiere \u001b[32mPASSED\u001b[0m\u001b[32m                               [ 87%]\u001b[0m\n",
      "prj2/mathe_tools9.py::test4_addiere \u001b[32mPASSED\u001b[0m\u001b[32m                               [100%]\u001b[0m\n",
      "\n",
      "\u001b[32m============================== \u001b[32m\u001b[1m8 passed\u001b[0m\u001b[32m in 0.04s\u001b[0m\u001b[32m ===============================\u001b[0m\n"
     ]
    }
   ],
   "source": [
    "!pytest -c pytest6.ini"
   ]
  },
  {
   "cell_type": "markdown",
   "id": "0bcc492b-adfb-4260-a76f-4076a96b626f",
   "metadata": {},
   "source": [
    "# Welche Python-Version habe ich?"
   ]
  },
  {
   "cell_type": "markdown",
   "id": "7414491c-79ad-4816-98d1-d36ed1d7ba5b",
   "metadata": {},
   "source": [
    "Die aktuell eingestelle Python-Version kann man so erhalten:"
   ]
  },
  {
   "cell_type": "code",
   "execution_count": 108,
   "id": "1e482441-e20c-487e-b782-a17d7983221f",
   "metadata": {},
   "outputs": [
    {
     "name": "stdout",
     "output_type": "stream",
     "text": [
      "Python 3.8.10\n"
     ]
    }
   ],
   "source": [
    "!python --version"
   ]
  },
  {
   "cell_type": "markdown",
   "id": "b6aab25c-7573-499a-abce-069ed58390f5",
   "metadata": {},
   "source": [
    "Um eine Liste aller Python Versionen zu bekommen:"
   ]
  },
  {
   "cell_type": "code",
   "execution_count": 110,
   "id": "0ad04875-4fd4-4148-b9c3-70fd13007378",
   "metadata": {},
   "outputs": [
    {
     "name": "stdout",
     "output_type": "stream",
     "text": [
      "   0 lrwxrwxrwx 1 root root       9 Mär 13  2020 /usr/bin/python2 -> python2.7\n",
      "3580 -rwxr-xr-x 1 root root 3662032 Jul  1 14:27 /usr/bin/python2.7\n",
      "   0 lrwxrwxrwx 1 root root       9 Sep 24  2020 /usr/bin/python3 -> python3.8\n",
      "5376 -rwxr-xr-x 1 root root 5502744 Jun 22 22:18 /usr/bin/python3.8\n",
      "   0 lrwxrwxrwx 1 root root      33 Jun 22 22:18 /usr/bin/python3.8-config -> x86_64-linux-gnu-python3.8-config\n",
      "5668 -rwxr-xr-x 1 root root 5803968 Nov 23  2021 /usr/bin/python3.9\n",
      "   0 lrwxrwxrwx 1 root root      16 Mär 13  2020 /usr/bin/python3-config -> python3.8-config\n",
      "   4 -rwxr-xr-x 1 root root     384 Mär 28  2020 /usr/bin/python3-futurize\n",
      "   4 -rwxr-xr-x 1 root root     388 Mär 28  2020 /usr/bin/python3-pasteurize\n"
     ]
    }
   ],
   "source": [
    "!ls -ls /usr/bin/python*"
   ]
  },
  {
   "cell_type": "markdown",
   "id": "d474d651-fa3d-45a8-b4f6-5a87f12d3d59",
   "metadata": {},
   "source": [
    "Oder so:"
   ]
  },
  {
   "cell_type": "code",
   "execution_count": 115,
   "id": "9b711275-3f2f-4641-8893-dc6bdaeac233",
   "metadata": {},
   "outputs": [
    {
     "name": "stdout",
     "output_type": "stream",
     "text": [
      "python: /usr/bin/python2.7 /usr/bin/python3.8 /usr/bin/python3.8-config /usr/bin/python3.9 /usr/lib/python2.7 /usr/lib/python3.8 /usr/lib/python3.9 /etc/python2.7 /etc/python3.8 /etc/python3.9 /usr/local/lib/python2.7 /usr/local/lib/python3.8 /usr/local/lib/python3.9 /usr/include/python3.8 /usr/include/python3.8d /usr/share/python /home/juebrauer/.local/share/virtualenvs/book_clean_code_mit_python-T4ki0mW7/bin/python3.8 /home/juebrauer/.local/share/virtualenvs/book_clean_code_mit_python-T4ki0mW7/bin/python\n"
     ]
    }
   ],
   "source": [
    "!whereis python"
   ]
  },
  {
   "cell_type": "code",
   "execution_count": 123,
   "id": "3e8d3fca-b11c-4dc1-b985-d4e9a62937c5",
   "metadata": {},
   "outputs": [
    {
     "name": "stdout",
     "output_type": "stream",
     "text": [
      "Hello world!\n"
     ]
    }
   ],
   "source": [
    "!python -c \"print('Hello world!')\""
   ]
  },
  {
   "cell_type": "code",
   "execution_count": 127,
   "id": "2725a953-2841-4757-97ca-ada7dd258d02",
   "metadata": {},
   "outputs": [
    {
     "name": "stdout",
     "output_type": "stream",
     "text": [
      "Hello world!\n"
     ]
    }
   ],
   "source": [
    "!/usr/bin/python3.9 -c \"print('Hello world!')\""
   ]
  },
  {
   "cell_type": "code",
   "execution_count": 128,
   "id": "3f1c0e48-29ff-4925-a38f-42789e987100",
   "metadata": {},
   "outputs": [
    {
     "name": "stdout",
     "output_type": "stream",
     "text": [
      "Hello world!\n"
     ]
    }
   ],
   "source": [
    "!/usr/bin/python3.8 -c \"print('Hello world!')\""
   ]
  },
  {
   "cell_type": "markdown",
   "id": "4258c8aa-360c-48c6-acea-d685e5cd48cc",
   "metadata": {},
   "source": [
    "# Mehrere `asserts` in einer Funktion"
   ]
  },
  {
   "cell_type": "markdown",
   "id": "92b638b7-1a11-4e57-a085-e310fbf94e5e",
   "metadata": {},
   "source": [
    "Wir starten jetzt mit einem neuen Skript:"
   ]
  },
  {
   "cell_type": "code",
   "execution_count": 1,
   "id": "a50dd0e2-6877-46f6-9cda-e8a43c61b24e",
   "metadata": {},
   "outputs": [
    {
     "name": "stdout",
     "output_type": "stream",
     "text": [
      "def foo(x,y):\n",
      "    return x+y\n",
      "\n",
      "def test1():\n",
      "    assert foo(2,3)==5\n",
      "    assert foo(\"ABC\",\"DEF\")==\"ABCDEF\"\n",
      "    assert foo([1,2],[3,4])==[1,2,3,4]    \n",
      "\n",
      "def test2():\n",
      "    pass\n",
      "\n",
      "def test3():\n",
      "    return True\n",
      "\n",
      "def test4():\n",
      "    return False\n"
     ]
    }
   ],
   "source": [
    "!cat foo1.py"
   ]
  },
  {
   "cell_type": "code",
   "execution_count": 2,
   "id": "6189bb55-90df-432b-ba26-da9d91158c38",
   "metadata": {},
   "outputs": [
    {
     "name": "stdout",
     "output_type": "stream",
     "text": [
      "\u001b[1m============================= test session starts ==============================\u001b[0m\n",
      "platform linux -- Python 3.8.10, pytest-7.1.3, pluggy-1.0.0 -- /home/juebrauer/.local/share/virtualenvs/central-kQZYXD-3/bin/python\n",
      "cachedir: .pytest_cache\n",
      "rootdir: /media/veracrypt1/09_src/central/032_pytest_einfuehrung\n",
      "plugins: anyio-3.5.0\n",
      "collected 4 items                                                              \u001b[0m\n",
      "\n",
      "foo1.py::test1 \u001b[32mPASSED\u001b[0m\u001b[32m                                                    [ 25%]\u001b[0m\n",
      "foo1.py::test2 \u001b[32mPASSED\u001b[0m\u001b[32m                                                    [ 50%]\u001b[0m\n",
      "foo1.py::test3 \u001b[32mPASSED\u001b[0m\u001b[32m                                                    [ 75%]\u001b[0m\n",
      "foo1.py::test4 \u001b[32mPASSED\u001b[0m\u001b[32m                                                    [100%]\u001b[0m\n",
      "\n",
      "\u001b[32m============================== \u001b[32m\u001b[1m4 passed\u001b[0m\u001b[32m in 0.02s\u001b[0m\u001b[32m ===============================\u001b[0m\n"
     ]
    }
   ],
   "source": [
    "!pytest foo1.py --verbose"
   ]
  },
  {
   "cell_type": "markdown",
   "id": "d2b653fb-7690-45a0-aece-8ef9b2d58ad2",
   "metadata": {},
   "source": [
    "Man sieht: man kann auch mehrere `asserts` in der gleichen Funktionen verwenden oder auch gar keine!\n",
    "\n",
    "Für `pytest` ist eine Testfunktion erfolgreich durchgelaufen, genau dann wenn *ALLE* `asserts` stimmen.\n",
    "\n",
    "Wenn nur ein `assert` nicht den Wert `True` zurück liefert, `FAILED` der Test bereits."
   ]
  },
  {
   "cell_type": "code",
   "execution_count": 3,
   "id": "0e0c34da-3c8d-40b1-8af6-57370905b91b",
   "metadata": {},
   "outputs": [
    {
     "name": "stdout",
     "output_type": "stream",
     "text": [
      "def foo(x,y):\n",
      "    return x+y\n",
      "\n",
      "def test1():\n",
      "    assert foo(2,3)==5\n",
      "    assert foo(\"ABC\",\"DEF\")==\"ABCDEF\"\n",
      "    assert 3==1+1\n",
      "    assert foo([1,2],[3,4])==[1,2,3,4]    \n",
      "\n",
      "def test2():\n",
      "    pass\n",
      "\n",
      "def test3():\n",
      "    return True\n",
      "\n",
      "def test4():\n",
      "    return False\n"
     ]
    }
   ],
   "source": [
    "!cat foo2.py"
   ]
  },
  {
   "cell_type": "code",
   "execution_count": 4,
   "id": "803b7bf2-be78-4060-be53-886a2722e4a8",
   "metadata": {},
   "outputs": [
    {
     "name": "stdout",
     "output_type": "stream",
     "text": [
      "\u001b[1m============================= test session starts ==============================\u001b[0m\n",
      "platform linux -- Python 3.8.10, pytest-7.1.3, pluggy-1.0.0 -- /home/juebrauer/.local/share/virtualenvs/central-kQZYXD-3/bin/python\n",
      "cachedir: .pytest_cache\n",
      "rootdir: /media/veracrypt1/09_src/central/032_pytest_einfuehrung\n",
      "plugins: anyio-3.5.0\n",
      "collected 4 items                                                              \u001b[0m\n",
      "\n",
      "foo2.py::test1 \u001b[31mFAILED\u001b[0m\u001b[31m                                                    [ 25%]\u001b[0m\n",
      "foo2.py::test2 \u001b[32mPASSED\u001b[0m\u001b[31m                                                    [ 50%]\u001b[0m\n",
      "foo2.py::test3 \u001b[32mPASSED\u001b[0m\u001b[31m                                                    [ 75%]\u001b[0m\n",
      "foo2.py::test4 \u001b[32mPASSED\u001b[0m\u001b[31m                                                    [100%]\u001b[0m\n",
      "\n",
      "=================================== FAILURES ===================================\n",
      "\u001b[31m\u001b[1m____________________________________ test1 _____________________________________\u001b[0m\n",
      "\n",
      "    \u001b[94mdef\u001b[39;49;00m \u001b[92mtest1\u001b[39;49;00m():\n",
      "        \u001b[94massert\u001b[39;49;00m foo(\u001b[94m2\u001b[39;49;00m,\u001b[94m3\u001b[39;49;00m)==\u001b[94m5\u001b[39;49;00m\n",
      "        \u001b[94massert\u001b[39;49;00m foo(\u001b[33m\"\u001b[39;49;00m\u001b[33mABC\u001b[39;49;00m\u001b[33m\"\u001b[39;49;00m,\u001b[33m\"\u001b[39;49;00m\u001b[33mDEF\u001b[39;49;00m\u001b[33m\"\u001b[39;49;00m)==\u001b[33m\"\u001b[39;49;00m\u001b[33mABCDEF\u001b[39;49;00m\u001b[33m\"\u001b[39;49;00m\n",
      ">       \u001b[94massert\u001b[39;49;00m \u001b[94m3\u001b[39;49;00m==\u001b[94m1\u001b[39;49;00m+\u001b[94m1\u001b[39;49;00m\n",
      "\u001b[1m\u001b[31mE       assert 3 == (1 + 1)\u001b[0m\n",
      "\n",
      "\u001b[1m\u001b[31mfoo2.py\u001b[0m:7: AssertionError\n",
      "=========================== short test summary info ============================\n",
      "FAILED foo2.py::test1 - assert 3 == (1 + 1)\n",
      "\u001b[31m========================= \u001b[31m\u001b[1m1 failed\u001b[0m, \u001b[32m3 passed\u001b[0m\u001b[31m in 0.08s\u001b[0m\u001b[31m ==========================\u001b[0m\n"
     ]
    }
   ],
   "source": [
    "!pytest foo2.py --verbose"
   ]
  },
  {
   "cell_type": "markdown",
   "id": "2b6995d5-74f4-4c54-9acc-fa39af1f09df",
   "metadata": {},
   "source": [
    "# Testen des Erhebens von Exceptions\n",
    "\n",
    "Bisher haben wir nur überprüft, ob eine Funktion einen bestimmten Wert zurück gibt.\n",
    "\n",
    "Die Erwartungshaltung an Funktionen ist aber auch manchmal, dass wir erwarten, dass eine Funktion in bestimmten Situationen eine Fehlermeldung erzeugt. Wie können wir das mit `pytest` automatisch überprüfen?\n",
    "\n",
    "Hier ein Beispiel:"
   ]
  },
  {
   "cell_type": "code",
   "execution_count": 24,
   "id": "44d98e91-475d-42b6-ac07-dfc267183a76",
   "metadata": {},
   "outputs": [
    {
     "name": "stdout",
     "output_type": "stream",
     "text": [
      "import pytest\n",
      "\n",
      "def foo(x,y):\n",
      "    return x / y\n",
      "\n",
      "def test1():\n",
      "    assert foo(1,2)==0.5\n",
      "    \n",
      "def test2():\n",
      "    with pytest.raises(ZeroDivisionError):\n",
      "        foo(1,0)\n",
      "    \n",
      "class GehaltUnplausibel(Exception):\n",
      "    \n",
      "    def __init__(self, gehalt):\n",
      "        self.error_msg = f\"Ein Gehalt in Höhe von {gehalt} ist unplausibel!\"\n",
      "        \n",
      "def gehalt_ueberpruefen(gehalt):\n",
      "    if gehalt>=1000000:\n",
      "        raise GehaltUnplausibel(gehalt)\n",
      "        \n",
      "def test4():\n",
      "    with pytest.raises(GehaltUnplausibel) as exc_info:\n",
      "        gehalt_ueberpruefen(2000000)\n",
      "    assert exc_info.type is GehaltUnplausibel\n",
      "    assert exc_info.value.error_msg == \"Ein Gehalt in Höhe von 2000000 ist unplausibel!\"\n",
      "\n",
      "\n",
      "    \n",
      "\n"
     ]
    }
   ],
   "source": [
    "!cat foo3.py"
   ]
  },
  {
   "cell_type": "code",
   "execution_count": 25,
   "id": "1ae9d4bc-aa79-48c3-ac04-132bf8335898",
   "metadata": {},
   "outputs": [
    {
     "name": "stdout",
     "output_type": "stream",
     "text": [
      "\u001b[1m============================= test session starts ==============================\u001b[0m\n",
      "platform linux -- Python 3.8.10, pytest-7.1.3, pluggy-1.0.0 -- /home/juebrauer/.local/share/virtualenvs/central-kQZYXD-3/bin/python\n",
      "cachedir: .pytest_cache\n",
      "rootdir: /media/veracrypt1/09_src/central/032_pytest_einfuehrung\n",
      "plugins: anyio-3.5.0\n",
      "collected 3 items                                                              \u001b[0m\n",
      "\n",
      "foo3.py::test1 \u001b[32mPASSED\u001b[0m\u001b[32m                                                    [ 33%]\u001b[0m\n",
      "foo3.py::test2 \u001b[32mPASSED\u001b[0m\u001b[32m                                                    [ 66%]\u001b[0m\n",
      "foo3.py::test4 \u001b[32mPASSED\u001b[0m\u001b[32m                                                    [100%]\u001b[0m\n",
      "\n",
      "\u001b[32m============================== \u001b[32m\u001b[1m3 passed\u001b[0m\u001b[32m in 0.03s\u001b[0m\u001b[32m ===============================\u001b[0m\n"
     ]
    }
   ],
   "source": [
    "!pytest foo3.py --verbose"
   ]
  },
  {
   "cell_type": "markdown",
   "id": "83e3be57-f4c9-4f52-b58c-3e1e0fc5f1af",
   "metadata": {},
   "source": [
    "# Trennung von eigentlichem Code und Testcode ist möglich\n",
    "\n",
    "Bisher haben wir den Testcode gleich nebem dem eigentlichen Code in der gleichen Datei gehalten. Das muss aber nicht sein. Wir können die Tests auch in andere Dateien auslagern.\n",
    "\n",
    "Hier ein kleines Beispiel:"
   ]
  },
  {
   "cell_type": "code",
   "execution_count": 42,
   "id": "7e3c76d3-880d-4fc7-95b1-99be0858a34c",
   "metadata": {},
   "outputs": [
    {
     "name": "stdout",
     "output_type": "stream",
     "text": [
      "\u001b[01;34mprj3\u001b[00m\n",
      "├── prj3_code1.py\n",
      "├── prj3_code1_test.py\n",
      "├── prj3_code2.py\n",
      "└── prj3_code2_test.py\n",
      "\n",
      "0 directories, 4 files\n"
     ]
    }
   ],
   "source": [
    "!tree prj3"
   ]
  },
  {
   "cell_type": "code",
   "execution_count": 43,
   "id": "15eddc19-cee0-4474-a899-8a96ded20e36",
   "metadata": {},
   "outputs": [
    {
     "name": "stdout",
     "output_type": "stream",
     "text": [
      "def f1(a,b,c):\n",
      "    return 1*a+2*b+3*c\n",
      "   "
     ]
    }
   ],
   "source": [
    "!cat prj3/prj3_code1.py"
   ]
  },
  {
   "cell_type": "code",
   "execution_count": 44,
   "id": "d2e42267-ebba-4e47-b661-feab827a66d1",
   "metadata": {},
   "outputs": [
    {
     "name": "stdout",
     "output_type": "stream",
     "text": [
      "from prj3_code1 import f1\n",
      "\n",
      "def test_f1():\n",
      "    assert f1(1,2,3) == 1+4+9\n"
     ]
    }
   ],
   "source": [
    "!cat prj3/prj3_code1_test.py"
   ]
  },
  {
   "cell_type": "code",
   "execution_count": 49,
   "id": "510a82f7-a9ae-4768-af78-b85d3ca19dd1",
   "metadata": {},
   "outputs": [
    {
     "name": "stdout",
     "output_type": "stream",
     "text": [
      "\u001b[1m============================= test session starts ==============================\u001b[0m\n",
      "platform linux -- Python 3.8.10, pytest-7.1.3, pluggy-1.0.0\n",
      "rootdir: /media/veracrypt1/09_src/central/032_pytest_einfuehrung\n",
      "plugins: anyio-3.5.0\n",
      "collected 2 items                                                              \u001b[0m\n",
      "\n",
      "prj3/prj3_code1_test.py \u001b[32m.\u001b[0m\u001b[32m                                                [ 50%]\u001b[0m\n",
      "prj3/prj3_code2_test.py \u001b[32m.\u001b[0m\u001b[32m                                                [100%]\u001b[0m\n",
      "\n",
      "\u001b[32m============================== \u001b[32m\u001b[1m2 passed\u001b[0m\u001b[32m in 0.02s\u001b[0m\u001b[32m ===============================\u001b[0m\n"
     ]
    }
   ],
   "source": [
    "!pytest prj3"
   ]
  },
  {
   "cell_type": "markdown",
   "id": "a87ea63d-8e4d-4f15-9b3a-bc13fe0630a1",
   "metadata": {},
   "source": [
    "# Testklassen\n",
    "\n",
    "Statt Testfunktionen können auch Testklassen verwendet werden. Diese erlauben es zum Beispiel zusammengehörende Testfunktionalitäten in einer Testlasse zu organisieren:"
   ]
  },
  {
   "cell_type": "code",
   "execution_count": 23,
   "id": "5b38ef52-2a47-49f0-be7d-77e6637c5651",
   "metadata": {},
   "outputs": [
    {
     "name": "stdout",
     "output_type": "stream",
     "text": [
      "class kunde:\n",
      "    \n",
      "    def __init__(self, name, vorname, nr):\n",
      "        self.name = name\n",
      "        self.vorname = vorname\n",
      "        self.nr = nr\n",
      "        \n",
      "    def normalisiere(self):\n",
      "        self.vorname = \" \".join(self.vorname.split())\n",
      "        self.name = self.name.strip()\n",
      "        \n",
      "    def kapitalisiere(self):\n",
      "        self.name = self.name.capitalize()\n",
      "        self.vorname = \" \".join([vorname.capitalize() for vorname in self.vorname.split()])\n",
      "\n",
      "        \n",
      "class Test_kunde:\n",
      "    \n",
      "    def test_kunde_anlegen(self): \n",
      "        k = kunde(\"  brauer \", \" julius henry \", 938)\n",
      "        assert k.name == \"  brauer \"\n",
      "        assert k.vorname == \" julius henry \"\n",
      "        assert k.nr == 938\n",
      "\n",
      "    def test_kundenname_normalisieren(self):\n",
      "        k = kunde(\"  brauer \", \" julius henry \", 938)\n",
      "        k.normalisiere()\n",
      "        assert k.name == \"brauer\"\n",
      "        assert k.vorname == \"julius henry\"\n",
      "        assert k.nr == 938\n",
      "\n",
      "    def test_kundenname_normalisieren_und_kapitalisieren(self):\n",
      "        k = kunde(\"  brauer \", \" julius henry \", 938)\n",
      "        k.normalisiere()\n",
      "        k.kapitalisiere()\n",
      "        assert k.name == \"Brauer\"\n",
      "        assert k.vorname == \"Julius Henry\"\n",
      "        assert k.nr == 938\n",
      "        \n",
      "        \n",
      "        \n",
      "        "
     ]
    }
   ],
   "source": [
    "!cat c1.py"
   ]
  },
  {
   "cell_type": "code",
   "execution_count": 24,
   "id": "b48e8681-3caf-430e-ac41-74032ee9df23",
   "metadata": {},
   "outputs": [
    {
     "name": "stdout",
     "output_type": "stream",
     "text": [
      "\u001b[1m============================= test session starts ==============================\u001b[0m\n",
      "platform linux -- Python 3.8.10, pytest-7.1.3, pluggy-1.0.0 -- /home/juebrauer/.local/share/virtualenvs/central-kQZYXD-3/bin/python\n",
      "cachedir: .pytest_cache\n",
      "rootdir: /media/veracrypt1/09_src/central/032_pytest_einfuehrung\n",
      "plugins: anyio-3.5.0\n",
      "collected 3 items                                                              \u001b[0m\n",
      "\n",
      "c1.py::Test_kunde::test_kunde_anlegen \u001b[32mPASSED\u001b[0m\u001b[32m                             [ 33%]\u001b[0m\n",
      "c1.py::Test_kunde::test_kundenname_normalisieren \u001b[32mPASSED\u001b[0m\u001b[32m                  [ 66%]\u001b[0m\n",
      "c1.py::Test_kunde::test_kundenname_normalisieren_und_kapitalisieren \u001b[32mPASSED\u001b[0m\u001b[32m [100%]\u001b[0m\n",
      "\n",
      "\u001b[32m============================== \u001b[32m\u001b[1m3 passed\u001b[0m\u001b[32m in 0.03s\u001b[0m\u001b[32m ===============================\u001b[0m\n"
     ]
    }
   ],
   "source": [
    "!pytest c1.py --verbose"
   ]
  },
  {
   "cell_type": "markdown",
   "id": "b3fe5bba-6c37-430d-b323-926ba82790de",
   "metadata": {},
   "source": [
    "Man beachte, dass die Testklasse `Test_kunde` hier mit dem Präfix `Test` beginnt. Möchte man seine Testklassen anders benennen, kann man dies wiederum über eine Einstellung in einer `.ini` Datei machen."
   ]
  },
  {
   "cell_type": "markdown",
   "id": "28749029-f87f-401b-a27c-672c4fed5050",
   "metadata": {},
   "source": [
    "# Testklassen anders benennen"
   ]
  },
  {
   "cell_type": "code",
   "execution_count": 25,
   "id": "1239d6df-7e98-48f8-abb9-a58388d4503a",
   "metadata": {},
   "outputs": [
    {
     "name": "stdout",
     "output_type": "stream",
     "text": [
      "class kunde:\n",
      "    \n",
      "    def __init__(self, name, vorname, nr):\n",
      "        self.name = name\n",
      "        self.vorname = vorname\n",
      "        self.nr = nr\n",
      "        \n",
      "    def normalisiere(self):\n",
      "        self.vorname = \" \".join(self.vorname.split())\n",
      "        self.name = self.name.strip()\n",
      "        \n",
      "    def kapitalisiere(self):\n",
      "        self.name = self.name.capitalize()\n",
      "        self.vorname = \" \".join([vorname.capitalize() for vorname in self.vorname.split()])\n",
      "\n",
      "        \n",
      "class testklasse_kunde:\n",
      "    \n",
      "    def test_kunde_anlegen(self): \n",
      "        k = kunde(\"  brauer \", \" julius henry \", 938)\n",
      "        assert k.name == \"  brauer \"\n",
      "        assert k.vorname == \" julius henry \"\n",
      "        assert k.nr == 938\n",
      "\n",
      "    def test_kundenname_normalisieren(self):\n",
      "        k = kunde(\"  brauer \", \" julius henry \", 938)\n",
      "        k.normalisiere()\n",
      "        assert k.name == \"brauer\"\n",
      "        assert k.vorname == \"julius henry\"\n",
      "        assert k.nr == 938\n",
      "\n",
      "    def test_kundenname_normalisieren_und_kapitalisieren(self):\n",
      "        k = kunde(\"  brauer \", \" julius henry \", 938)\n",
      "        k.normalisiere()\n",
      "        k.kapitalisiere()\n",
      "        assert k.name == \"Brauer\"\n",
      "        assert k.vorname == \"Julius Henry\"\n",
      "        assert k.nr == 938              \n",
      "        \n",
      "        "
     ]
    }
   ],
   "source": [
    "!cat c2.py"
   ]
  },
  {
   "cell_type": "code",
   "execution_count": 30,
   "id": "519e7ecf-b1ef-44d5-aa80-ef1d34766b95",
   "metadata": {},
   "outputs": [
    {
     "name": "stdout",
     "output_type": "stream",
     "text": [
      "\u001b[1m============================= test session starts ==============================\u001b[0m\n",
      "platform linux -- Python 3.8.10, pytest-7.1.3, pluggy-1.0.0 -- /home/juebrauer/.local/share/virtualenvs/central-kQZYXD-3/bin/python\n",
      "cachedir: .pytest_cache\n",
      "rootdir: /media/veracrypt1/09_src/central/032_pytest_einfuehrung, configfile: pytest7.ini\n",
      "plugins: anyio-3.5.0\n",
      "collected 3 items                                                              \u001b[0m\n",
      "\n",
      "c2.py::testklasse_kunde::test_kunde_anlegen \u001b[32mPASSED\u001b[0m\u001b[32m                       [ 33%]\u001b[0m\n",
      "c2.py::testklasse_kunde::test_kundenname_normalisieren \u001b[32mPASSED\u001b[0m\u001b[32m            [ 66%]\u001b[0m\n",
      "c2.py::testklasse_kunde::test_kundenname_normalisieren_und_kapitalisieren \u001b[32mPASSED\u001b[0m\u001b[32m [100%]\u001b[0m\n",
      "\n",
      "\u001b[32m============================== \u001b[32m\u001b[1m3 passed\u001b[0m\u001b[32m in 0.02s\u001b[0m\u001b[32m ===============================\u001b[0m\n"
     ]
    }
   ],
   "source": [
    "!pytest -c pytest7.ini"
   ]
  },
  {
   "cell_type": "markdown",
   "id": "f241c5d5-6f44-4aec-aae1-7b8cf6abccd5",
   "metadata": {},
   "source": [
    "# Konzepte von `pytest`\n",
    "\n",
    "`pytest` kommt mit einigen Konzepten, die einem das Testen erleichtern sollen:\n",
    "\n",
    "- Filtern von Tests\n",
    "- Parametrisierung von Tests\n",
    "- Fixtures\n",
    "\n",
    "**Filtern von Tests**: Wenn der Code konsistent mit Hilfe von Tests entwickelt wird, kann die Anzahl an Tests sehr groß werden. Daher unterstützt uns `pytest` beim Verwalten der Tests, durch\n",
    "\n",
    "- die Möglichkeit Tests zu bennenen und nach bestimmten Namen zu filtern (Schalter: `-k`)\n",
    "- die Möglichkeit nur Tests in bestimmten Verzeichnissen und Unterverzeichnissen durchzuführen\n",
    "- die Tests zu kategorisieren und nur Tests bestimmter Kategorien auszuführen (Schalter: `-m`)\n",
    "\n",
    "**Parametrisierung von Tests**: Um viele Tests durchzuführen, verwendet man oft die beliebte *copy&paste* Strategie. Aber das erniedrigt die Wartbarkeit von Tests. Daher können wir ähnliche Tests zu einem Test in `pytest` zusammenfassen und diesen dann parametrisieren.\n",
    "\n",
    "**Fixtures**: In der *Arange*-Phase eines Tests geht es darum, einen Kontext für einen Test aufzubauen. Zum Beispiel eine bestimmte Tabelle in einer Datenbank wird erzeugt oder eine leere Datei oder eine sehr große Datei angelegt. `pytest` unterstützt diese Phase durch sogenannte `Fixtures`."
   ]
  },
  {
   "cell_type": "markdown",
   "id": "7e98bfb6-ab66-425b-aed5-8603d95bf19f",
   "metadata": {},
   "source": [
    "# Fixture\n",
    "\n",
    "Man merkt, dass beim vorhergehenden Beispiel der Kunden-Klasse der *Arrange*-Schritt immer gleich war: immer wieder wurde der gleiche Testkunde erzeugt.\n",
    "\n",
    "Wir können die Vorbereitung einer solchen Datenstruktur auch fixieren, in einem sogenannten *Fixture*. Dies ist eine Hilfsfunktion, die die Datenstruktur erzeugt und allen Testfunktionen zur Verfügung stellt, die sie benötigen."
   ]
  },
  {
   "cell_type": "code",
   "execution_count": 37,
   "id": "cd1f198d-64f3-4104-ae7c-51d816b6ba13",
   "metadata": {},
   "outputs": [
    {
     "name": "stdout",
     "output_type": "stream",
     "text": [
      "import pytest\n",
      "\n",
      "class kunde:\n",
      "    \n",
      "    def __init__(self, name, vorname, nr):\n",
      "        self.name = name\n",
      "        self.vorname = vorname\n",
      "        self.nr = nr\n",
      "        \n",
      "    def normalisiere(self):\n",
      "        self.vorname = \" \".join(self.vorname.split())\n",
      "        self.name = self.name.strip()\n",
      "        \n",
      "    def kapitalisiere(self):\n",
      "        self.name = self.name.capitalize()\n",
      "        self.vorname = \" \".join([vorname.capitalize() for vorname in self.vorname.split()])\n",
      "\n",
      "        \n",
      "class Test_kunde:\n",
      "    \n",
      "    # Arrange\n",
      "    @pytest.fixture\n",
      "    def kunde1(self):\n",
      "        k = kunde(\"  brauer \", \" julius henry \", 938)\n",
      "        return k\n",
      "        \n",
      "    def test_kunde_anlegen(self, kunde1):\n",
      "        # Act1\n",
      "        \n",
      "        # Assert1\n",
      "        assert kunde1.name == \"  brauer \"\n",
      "        assert kunde1.vorname == \" julius henry \"\n",
      "        assert kunde1.nr == 938\n",
      "\n",
      "    \n",
      "    def test_kundenname_normalisieren(self, kunde1):        \n",
      "        # Act2\n",
      "        kunde1.normalisiere()\n",
      "        \n",
      "        # Assert2\n",
      "        assert kunde1.name == \"brauer\"\n",
      "        assert kunde1.vorname == \"julius henry\"\n",
      "        assert kunde1.nr == 938\n",
      "    \n",
      "    def test_kundenname_normalisieren_und_kapitalisieren(self, kunde1):                \n",
      "        # Act3\n",
      "        kunde1.normalisiere()\n",
      "        kunde1.kapitalisiere()\n",
      "        \n",
      "        # Assert3\n",
      "        assert kunde1.name == \"Brauer\"\n",
      "        assert kunde1.vorname == \"Julius Henry\"\n",
      "        assert kunde1.nr == 938              \n",
      "        "
     ]
    }
   ],
   "source": [
    "!cat c3.py"
   ]
  },
  {
   "cell_type": "code",
   "execution_count": 34,
   "id": "12749c58-458f-433a-a59d-ce9d7111e18d",
   "metadata": {},
   "outputs": [
    {
     "name": "stdout",
     "output_type": "stream",
     "text": [
      "\u001b[1m============================= test session starts ==============================\u001b[0m\n",
      "platform linux -- Python 3.8.10, pytest-7.1.3, pluggy-1.0.0 -- /home/juebrauer/.local/share/virtualenvs/central-kQZYXD-3/bin/python\n",
      "cachedir: .pytest_cache\n",
      "rootdir: /media/veracrypt1/09_src/central/032_pytest_einfuehrung\n",
      "plugins: anyio-3.5.0\n",
      "collected 3 items                                                              \u001b[0m\n",
      "\n",
      "c3.py::Test_kunde::test_kunde_anlegen \u001b[32mPASSED\u001b[0m\u001b[32m                             [ 33%]\u001b[0m\n",
      "c3.py::Test_kunde::test_kundenname_normalisieren \u001b[32mPASSED\u001b[0m\u001b[32m                  [ 66%]\u001b[0m\n",
      "c3.py::Test_kunde::test_kundenname_normalisieren_und_kapitalisieren \u001b[32mPASSED\u001b[0m\u001b[32m [100%]\u001b[0m\n",
      "\n",
      "\u001b[32m============================== \u001b[32m\u001b[1m3 passed\u001b[0m\u001b[32m in 0.03s\u001b[0m\u001b[32m ===============================\u001b[0m\n"
     ]
    }
   ],
   "source": [
    "!pytest c3.py --verbose"
   ]
  },
  {
   "cell_type": "markdown",
   "id": "7d3cf197-599f-412a-8f4e-4eff6fa72ae7",
   "metadata": {},
   "source": [
    "# Vorteile von Fixtures\n",
    "\n",
    "Die Verwendung dieses ersten Fixtures hat bereits drei offensichtliche Vorteile:\n",
    "\n",
    "- Sparsamkeit: wir sparen Codezeilen, denn der Aufbau der Testdatenstruktur erfolgt nur einmal\n",
    "- Wartbarkeit: wollen wir alle Tests mit einem anderen Kunden durchführen, ändern wir jetzt nur eine Zeile\n",
    "- Lesbarkeit: wir trennen klarer, was zum *Arrange* und was zum *Act* Teil des Tests gehört\n",
    "\n",
    "Ein weiterer Vorteil ist, dass der Dekorator `@pytest.fixture` es uns nun erlaubt, explizit mittels `pytest` nach verfügbaren Fixtures im Code zu suchen:"
   ]
  },
  {
   "cell_type": "code",
   "execution_count": 39,
   "id": "022eb700-0d3b-43d3-ac10-f9837c4871f6",
   "metadata": {},
   "outputs": [
    {
     "name": "stdout",
     "output_type": "stream",
     "text": [
      "\u001b[1m============================= test session starts ==============================\u001b[0m\n",
      "platform linux -- Python 3.8.10, pytest-7.1.3, pluggy-1.0.0 -- /home/juebrauer/.local/share/virtualenvs/central-kQZYXD-3/bin/python\n",
      "cachedir: .pytest_cache\n",
      "rootdir: /media/veracrypt1/09_src/central/032_pytest_einfuehrung\n",
      "plugins: anyio-3.5.0\n",
      "collected 3 items                                                              \u001b[0m\u001b[1m\n",
      "\u001b[32mcache\u001b[0m\u001b[33m -- .../_pytest/cacheprovider.py:510\u001b[0m\n",
      "    Return a cache object that can persist state between testing sessions.\n",
      "    \n",
      "    cache.get(key, default)\n",
      "    cache.set(key, value)\n",
      "    \n",
      "    Keys must be ``/`` separated strings, where the first part is usually the\n",
      "    name of your plugin or application to avoid clashes with other cache users.\n",
      "    \n",
      "    Values can be any object handled by the json stdlib module.\n",
      "\n",
      "\u001b[32mcapsys\u001b[0m\u001b[33m -- .../_pytest/capture.py:878\u001b[0m\n",
      "    Enable text capturing of writes to ``sys.stdout`` and ``sys.stderr``.\n",
      "    \n",
      "    The captured output is made available via ``capsys.readouterr()`` method\n",
      "    calls, which return a ``(out, err)`` namedtuple.\n",
      "    ``out`` and ``err`` will be ``text`` objects.\n",
      "    \n",
      "    Returns an instance of :class:`CaptureFixture[str] <pytest.CaptureFixture>`.\n",
      "    \n",
      "    Example:\n",
      "    \n",
      "    .. code-block:: python\n",
      "    \n",
      "        def test_output(capsys):\n",
      "            print(\"hello\")\n",
      "            captured = capsys.readouterr()\n",
      "            assert captured.out == \"hello\\n\"\n",
      "\n",
      "\u001b[32mcapsysbinary\u001b[0m\u001b[33m -- .../_pytest/capture.py:906\u001b[0m\n",
      "    Enable bytes capturing of writes to ``sys.stdout`` and ``sys.stderr``.\n",
      "    \n",
      "    The captured output is made available via ``capsysbinary.readouterr()``\n",
      "    method calls, which return a ``(out, err)`` namedtuple.\n",
      "    ``out`` and ``err`` will be ``bytes`` objects.\n",
      "    \n",
      "    Returns an instance of :class:`CaptureFixture[bytes] <pytest.CaptureFixture>`.\n",
      "    \n",
      "    Example:\n",
      "    \n",
      "    .. code-block:: python\n",
      "    \n",
      "        def test_output(capsysbinary):\n",
      "            print(\"hello\")\n",
      "            captured = capsysbinary.readouterr()\n",
      "            assert captured.out == b\"hello\\n\"\n",
      "\n",
      "\u001b[32mcapfd\u001b[0m\u001b[33m -- .../_pytest/capture.py:934\u001b[0m\n",
      "    Enable text capturing of writes to file descriptors ``1`` and ``2``.\n",
      "    \n",
      "    The captured output is made available via ``capfd.readouterr()`` method\n",
      "    calls, which return a ``(out, err)`` namedtuple.\n",
      "    ``out`` and ``err`` will be ``text`` objects.\n",
      "    \n",
      "    Returns an instance of :class:`CaptureFixture[str] <pytest.CaptureFixture>`.\n",
      "    \n",
      "    Example:\n",
      "    \n",
      "    .. code-block:: python\n",
      "    \n",
      "        def test_system_echo(capfd):\n",
      "            os.system('echo \"hello\"')\n",
      "            captured = capfd.readouterr()\n",
      "            assert captured.out == \"hello\\n\"\n",
      "\n",
      "\u001b[32mcapfdbinary\u001b[0m\u001b[33m -- .../_pytest/capture.py:962\u001b[0m\n",
      "    Enable bytes capturing of writes to file descriptors ``1`` and ``2``.\n",
      "    \n",
      "    The captured output is made available via ``capfd.readouterr()`` method\n",
      "    calls, which return a ``(out, err)`` namedtuple.\n",
      "    ``out`` and ``err`` will be ``byte`` objects.\n",
      "    \n",
      "    Returns an instance of :class:`CaptureFixture[bytes] <pytest.CaptureFixture>`.\n",
      "    \n",
      "    Example:\n",
      "    \n",
      "    .. code-block:: python\n",
      "    \n",
      "        def test_system_echo(capfdbinary):\n",
      "            os.system('echo \"hello\"')\n",
      "            captured = capfdbinary.readouterr()\n",
      "            assert captured.out == b\"hello\\n\"\n",
      "\n",
      "\u001b[32mdoctest_namespace\u001b[0m\u001b[36m [session scope]\u001b[0m\u001b[33m -- .../_pytest/doctest.py:735\u001b[0m\n",
      "    Fixture that returns a :py:class:`dict` that will be injected into the\n",
      "    namespace of doctests.\n",
      "    \n",
      "    Usually this fixture is used in conjunction with another ``autouse`` fixture:\n",
      "    \n",
      "    .. code-block:: python\n",
      "    \n",
      "        @pytest.fixture(autouse=True)\n",
      "        def add_np(doctest_namespace):\n",
      "            doctest_namespace[\"np\"] = numpy\n",
      "    \n",
      "    For more details: :ref:`doctest_namespace`.\n",
      "\n",
      "\u001b[32mpytestconfig\u001b[0m\u001b[36m [session scope]\u001b[0m\u001b[33m -- .../_pytest/fixtures.py:1344\u001b[0m\n",
      "    Session-scoped fixture that returns the session's :class:`pytest.Config`\n",
      "    object.\n",
      "    \n",
      "    Example::\n",
      "    \n",
      "        def test_foo(pytestconfig):\n",
      "            if pytestconfig.getoption(\"verbose\") > 0:\n",
      "                ...\n",
      "\n",
      "\u001b[32mrecord_property\u001b[0m\u001b[33m -- .../_pytest/junitxml.py:282\u001b[0m\n",
      "    Add extra properties to the calling test.\n",
      "    \n",
      "    User properties become part of the test report and are available to the\n",
      "    configured reporters, like JUnit XML.\n",
      "    \n",
      "    The fixture is callable with ``name, value``. The value is automatically\n",
      "    XML-encoded.\n",
      "    \n",
      "    Example::\n",
      "    \n",
      "        def test_function(record_property):\n",
      "            record_property(\"example_key\", 1)\n",
      "\n",
      "\u001b[32mrecord_xml_attribute\u001b[0m\u001b[33m -- .../_pytest/junitxml.py:305\u001b[0m\n",
      "    Add extra xml attributes to the tag for the calling test.\n",
      "    \n",
      "    The fixture is callable with ``name, value``. The value is\n",
      "    automatically XML-encoded.\n",
      "\n",
      "\u001b[32mrecord_testsuite_property\u001b[0m\u001b[36m [session scope]\u001b[0m\u001b[33m -- .../_pytest/junitxml.py:343\u001b[0m\n",
      "    Record a new ``<property>`` tag as child of the root ``<testsuite>``.\n",
      "    \n",
      "    This is suitable to writing global information regarding the entire test\n",
      "    suite, and is compatible with ``xunit2`` JUnit family.\n",
      "    \n",
      "    This is a ``session``-scoped fixture which is called with ``(name, value)``. Example:\n",
      "    \n",
      "    .. code-block:: python\n",
      "    \n",
      "        def test_foo(record_testsuite_property):\n",
      "            record_testsuite_property(\"ARCH\", \"PPC\")\n",
      "            record_testsuite_property(\"STORAGE_TYPE\", \"CEPH\")\n",
      "    \n",
      "    ``name`` must be a string, ``value`` will be converted to a string and properly xml-escaped.\n",
      "    \n",
      "    .. warning::\n",
      "    \n",
      "        Currently this fixture **does not work** with the\n",
      "        `pytest-xdist <https://github.com/pytest-dev/pytest-xdist>`__ plugin. See\n",
      "        :issue:`7767` for details.\n",
      "\n",
      "\u001b[32mtmpdir_factory\u001b[0m\u001b[36m [session scope]\u001b[0m\u001b[33m -- .../_pytest/legacypath.py:302\u001b[0m\n",
      "    Return a :class:`pytest.TempdirFactory` instance for the test session.\n",
      "\n",
      "\u001b[32mtmpdir\u001b[0m\u001b[33m -- .../_pytest/legacypath.py:309\u001b[0m\n",
      "    Return a temporary directory path object which is unique to each test\n",
      "    function invocation, created as a sub directory of the base temporary\n",
      "    directory.\n",
      "    \n",
      "    By default, a new base temporary directory is created each test session,\n",
      "    and old bases are removed after 3 sessions, to aid in debugging. If\n",
      "    ``--basetemp`` is used then it is cleared each session. See :ref:`base\n",
      "    temporary directory`.\n",
      "    \n",
      "    The returned object is a `legacy_path`_ object.\n",
      "    \n",
      "    .. note::\n",
      "        These days, it is preferred to use ``tmp_path``.\n",
      "    \n",
      "        :ref:`About the tmpdir and tmpdir_factory fixtures<tmpdir and tmpdir_factory>`.\n",
      "    \n",
      "    .. _legacy_path: https://py.readthedocs.io/en/latest/path.html\n",
      "\n",
      "\u001b[32mcaplog\u001b[0m\u001b[33m -- .../_pytest/logging.py:487\u001b[0m\n",
      "    Access and control log capturing.\n",
      "    \n",
      "    Captured logs are available through the following properties/methods::\n",
      "    \n",
      "    * caplog.messages        -> list of format-interpolated log messages\n",
      "    * caplog.text            -> string containing formatted log output\n",
      "    * caplog.records         -> list of logging.LogRecord instances\n",
      "    * caplog.record_tuples   -> list of (logger_name, level, message) tuples\n",
      "    * caplog.clear()         -> clear captured records and formatted log output string\n",
      "\n",
      "\u001b[32mmonkeypatch\u001b[0m\u001b[33m -- .../_pytest/monkeypatch.py:29\u001b[0m\n",
      "    A convenient fixture for monkey-patching.\n",
      "    \n",
      "    The fixture provides these methods to modify objects, dictionaries, or\n",
      "    :data:`os.environ`:\n",
      "    \n",
      "    * :meth:`monkeypatch.setattr(obj, name, value, raising=True) <pytest.MonkeyPatch.setattr>`\n",
      "    * :meth:`monkeypatch.delattr(obj, name, raising=True) <pytest.MonkeyPatch.delattr>`\n",
      "    * :meth:`monkeypatch.setitem(mapping, name, value) <pytest.MonkeyPatch.setitem>`\n",
      "    * :meth:`monkeypatch.delitem(obj, name, raising=True) <pytest.MonkeyPatch.delitem>`\n",
      "    * :meth:`monkeypatch.setenv(name, value, prepend=None) <pytest.MonkeyPatch.setenv>`\n",
      "    * :meth:`monkeypatch.delenv(name, raising=True) <pytest.MonkeyPatch.delenv>`\n",
      "    * :meth:`monkeypatch.syspath_prepend(path) <pytest.MonkeyPatch.syspath_prepend>`\n",
      "    * :meth:`monkeypatch.chdir(path) <pytest.MonkeyPatch.chdir>`\n",
      "    * :meth:`monkeypatch.context() <pytest.MonkeyPatch.context>`\n",
      "    \n",
      "    All modifications will be undone after the requesting test function or\n",
      "    fixture has finished. The ``raising`` parameter determines if a :class:`KeyError`\n",
      "    or :class:`AttributeError` will be raised if the set/deletion operation does not have the\n",
      "    specified target.\n",
      "    \n",
      "    To undo modifications done by the fixture in a contained scope,\n",
      "    use :meth:`context() <pytest.MonkeyPatch.context>`.\n",
      "\n",
      "\u001b[32mrecwarn\u001b[0m\u001b[33m -- .../_pytest/recwarn.py:29\u001b[0m\n",
      "    Return a :class:`WarningsRecorder` instance that records all warnings emitted by test functions.\n",
      "    \n",
      "    See https://docs.python.org/library/how-to/capture-warnings.html for information\n",
      "    on warning categories.\n",
      "\n",
      "\u001b[32mtmp_path_factory\u001b[0m\u001b[36m [session scope]\u001b[0m\u001b[33m -- .../_pytest/tmpdir.py:184\u001b[0m\n",
      "    Return a :class:`pytest.TempPathFactory` instance for the test session.\n",
      "\n",
      "\u001b[32mtmp_path\u001b[0m\u001b[33m -- .../_pytest/tmpdir.py:199\u001b[0m\n",
      "    Return a temporary directory path object which is unique to each test\n",
      "    function invocation, created as a sub directory of the base temporary\n",
      "    directory.\n",
      "    \n",
      "    By default, a new base temporary directory is created each test session,\n",
      "    and old bases are removed after 3 sessions, to aid in debugging. If\n",
      "    ``--basetemp`` is used then it is cleared each session. See :ref:`base\n",
      "    temporary directory`.\n",
      "    \n",
      "    The returned object is a :class:`pathlib.Path` object.\n",
      "\n",
      "\n",
      "------------------ fixtures defined from anyio.pytest_plugin -------------------\n",
      "\u001b[32manyio_backend\u001b[0m\u001b[33m -- ../../../../../home/juebrauer/.local/share/virtualenvs/central-kQZYXD-3/lib/python3.8/site-packages/anyio/pytest_plugin.py:135\u001b[0m\n",
      "\u001b[31m    no docstring available\u001b[0m\n",
      "\n",
      "\u001b[32manyio_backend_name\u001b[0m\u001b[33m -- ../../../../../home/juebrauer/.local/share/virtualenvs/central-kQZYXD-3/lib/python3.8/site-packages/anyio/pytest_plugin.py:140\u001b[0m\n",
      "\u001b[31m    no docstring available\u001b[0m\n",
      "\n",
      "\u001b[32manyio_backend_options\u001b[0m\u001b[33m -- ../../../../../home/juebrauer/.local/share/virtualenvs/central-kQZYXD-3/lib/python3.8/site-packages/anyio/pytest_plugin.py:148\u001b[0m\n",
      "\u001b[31m    no docstring available\u001b[0m\n",
      "\n",
      "\n",
      "--------------------------- fixtures defined from c3 ---------------------------\n",
      "\u001b[32mkunde1\u001b[0m\u001b[33m -- c3.py:23\u001b[0m\n",
      "    Ein Testkunde, der einfach zu viele Whitespaces\n",
      "    im Nach- und Vornamen hat.\n",
      "\n",
      "\n",
      "\u001b[32m============================ \u001b[33mno tests ran\u001b[0m\u001b[32m in 0.02s\u001b[0m\u001b[32m =============================\u001b[0m\n"
     ]
    }
   ],
   "source": [
    "!pytest c3.py --verbose --fixtures"
   ]
  },
  {
   "cell_type": "markdown",
   "id": "5fc691e4-883f-4c0f-a9c9-94e8eff4a360",
   "metadata": {},
   "source": [
    "# Zeige Fixtures pro Test an"
   ]
  },
  {
   "cell_type": "markdown",
   "id": "a38a51ec-8530-4f16-9183-edbff7763c41",
   "metadata": {},
   "source": [
    "Wir können uns auch nur die tatsächlich verwendeten fixtures pro Test anzeigen lassen:"
   ]
  },
  {
   "cell_type": "code",
   "execution_count": 41,
   "id": "9fedb013-ea94-4f2d-89e9-32bfb306852f",
   "metadata": {},
   "outputs": [
    {
     "name": "stdout",
     "output_type": "stream",
     "text": [
      "import pytest\n",
      "\n",
      "class kunde:\n",
      "    \n",
      "    def __init__(self, name, vorname, nr):\n",
      "        self.name = name\n",
      "        self.vorname = vorname\n",
      "        self.nr = nr\n",
      "        \n",
      "    def normalisiere(self):\n",
      "        self.vorname = \" \".join(self.vorname.split())\n",
      "        self.name = self.name.strip()\n",
      "        \n",
      "    def kapitalisiere(self):\n",
      "        self.name = self.name.capitalize()\n",
      "        self.vorname = \" \".join([vorname.capitalize() for vorname in self.vorname.split()])\n",
      "\n",
      "        \n",
      "class Test_kunde:\n",
      "    \n",
      "    # Arrange 1\n",
      "    @pytest.fixture\n",
      "    def kunde1(self):\n",
      "        \"\"\"\n",
      "        Ein Testkunde, der einfach zu viele Whitespaces\n",
      "        im Nach- und Vornamen hat.\n",
      "        \"\"\"\n",
      "        k = kunde(\"  brauer \", \" julius henry \", 938)\n",
      "        return k\n",
      "    \n",
      "    # Arrange 2\n",
      "    @pytest.fixture\n",
      "    def kunde2(self):\n",
      "        \"\"\"\n",
      "        Ein Testkunde, der zusammengesetzte Namen\n",
      "        und Whitespaces hat.\n",
      "        \"\"\"\n",
      "        k = kunde(\"  brauer-lüdenmayer \", \" julius-henry \", 938)\n",
      "        return k\n",
      "        \n",
      "    def test_kunde_anlegen(self, kunde1):\n",
      "        # Act1\n",
      "        \n",
      "        # Assert1\n",
      "        assert kunde1.name == \"  brauer \"\n",
      "        assert kunde1.vorname == \" julius henry \"\n",
      "        assert kunde1.nr == 938\n",
      "\n",
      "    \n",
      "    def test_kundenname_normalisieren(self, kunde1):        \n",
      "        # Act2\n",
      "        kunde1.normalisiere()\n",
      "        \n",
      "        # Assert2\n",
      "        assert kunde1.name == \"brauer\"\n",
      "        assert kunde1.vorname == \"julius henry\"\n",
      "        assert kunde1.nr == 938\n",
      "    \n",
      "    def test_kundenname_normalisieren_und_kapitalisieren1(self, kunde1):                \n",
      "        # Act3\n",
      "        kunde1.normalisiere()\n",
      "        kunde1.kapitalisiere()\n",
      "        \n",
      "        # Assert3\n",
      "        assert kunde1.name == \"Brauer\"\n",
      "        assert kunde1.vorname == \"Julius Henry\"\n",
      "        assert kunde1.nr == 938   \n",
      "        \n",
      "    def test_kundenname_normalisieren_und_kapitalisieren2(self, kunde2):                \n",
      "        # Act4\n",
      "        kunde2.normalisiere()\n",
      "        kunde2.kapitalisiere()\n",
      "        \n",
      "        # Assert4\n",
      "        assert kunde2.name == \"Brauer-lüdenscheidt\"\n",
      "        assert kunde2.vorname == \"Julius-henry\"\n",
      "        assert kunde2.nr == 938\n",
      "        "
     ]
    }
   ],
   "source": [
    "!cat c4.py"
   ]
  },
  {
   "cell_type": "code",
   "execution_count": 43,
   "id": "694c124b-71ab-47cf-a1fc-5b264bc7d38e",
   "metadata": {},
   "outputs": [
    {
     "name": "stdout",
     "output_type": "stream",
     "text": [
      "\u001b[1m============================= test session starts ==============================\u001b[0m\n",
      "platform linux -- Python 3.8.10, pytest-7.1.3, pluggy-1.0.0 -- /home/juebrauer/.local/share/virtualenvs/central-kQZYXD-3/bin/python\n",
      "cachedir: .pytest_cache\n",
      "rootdir: /media/veracrypt1/09_src/central/032_pytest_einfuehrung\n",
      "plugins: anyio-3.5.0\n",
      "collected 4 items                                                              \u001b[0m\n",
      "\n",
      "c4.py::Test_kunde::test_kunde_anlegen \u001b[32mPASSED\u001b[0m\u001b[32m                             [ 25%]\u001b[0m\n",
      "c4.py::Test_kunde::test_kundenname_normalisieren \u001b[32mPASSED\u001b[0m\u001b[32m                  [ 50%]\u001b[0m\n",
      "c4.py::Test_kunde::test_kundenname_normalisieren_und_kapitalisieren1 \u001b[32mPASSED\u001b[0m\u001b[32m [ 75%]\u001b[0m\n",
      "c4.py::Test_kunde::test_kundenname_normalisieren_und_kapitalisieren2 \u001b[32mPASSED\u001b[0m\u001b[32m [100%]\u001b[0m\n",
      "\n",
      "\u001b[32m============================== \u001b[32m\u001b[1m4 passed\u001b[0m\u001b[32m in 0.03s\u001b[0m\u001b[32m ===============================\u001b[0m\n"
     ]
    }
   ],
   "source": [
    "!pytest c4.py --verbose"
   ]
  },
  {
   "cell_type": "code",
   "execution_count": 46,
   "id": "9b7a9ec0-031c-417c-b32d-32913f3b3b57",
   "metadata": {},
   "outputs": [
    {
     "name": "stdout",
     "output_type": "stream",
     "text": [
      "\u001b[1m============================= test session starts ==============================\u001b[0m\n",
      "platform linux -- Python 3.8.10, pytest-7.1.3, pluggy-1.0.0\n",
      "rootdir: /media/veracrypt1/09_src/central/032_pytest_einfuehrung\n",
      "plugins: anyio-3.5.0\n",
      "collected 4 items                                                              \u001b[0m\u001b[1m\n",
      "\n",
      "--------------------- fixtures used by test_kunde_anlegen ----------------------\n",
      "---------------------------------- (c4.py:42) ----------------------------------\n",
      "\u001b[32mkunde1\u001b[0m\u001b[33m -- c4.py:23\u001b[0m\n",
      "    Ein Testkunde, der einfach zu viele Whitespaces\n",
      "    im Nach- und Vornamen hat.\n",
      "\n",
      "---------------- fixtures used by test_kundenname_normalisieren ----------------\n",
      "---------------------------------- (c4.py:51) ----------------------------------\n",
      "\u001b[32mkunde1\u001b[0m\u001b[33m -- c4.py:23\u001b[0m\n",
      "    Ein Testkunde, der einfach zu viele Whitespaces\n",
      "    im Nach- und Vornamen hat.\n",
      "\n",
      "------ fixtures used by test_kundenname_normalisieren_und_kapitalisieren1 ------\n",
      "---------------------------------- (c4.py:60) ----------------------------------\n",
      "\u001b[32mkunde1\u001b[0m\u001b[33m -- c4.py:23\u001b[0m\n",
      "    Ein Testkunde, der einfach zu viele Whitespaces\n",
      "    im Nach- und Vornamen hat.\n",
      "\n",
      "------ fixtures used by test_kundenname_normalisieren_und_kapitalisieren2 ------\n",
      "---------------------------------- (c4.py:70) ----------------------------------\n",
      "\u001b[32mkunde2\u001b[0m\u001b[33m -- c4.py:33\u001b[0m\n",
      "    Ein Testkunde, der zusammengesetzte Namen\n",
      "    und Whitespaces hat.\n",
      "\n",
      "\u001b[32m============================ \u001b[33mno tests ran\u001b[0m\u001b[32m in 0.02s\u001b[0m\u001b[32m =============================\u001b[0m\n"
     ]
    }
   ],
   "source": [
    "!pytest c4.py --fixtures-per-test"
   ]
  },
  {
   "cell_type": "markdown",
   "id": "5c94168d-148d-4ed9-a1a1-f1eb333957a7",
   "metadata": {},
   "source": [
    "# Ausführen nur bestimmter Tests\n",
    "\n",
    "Irgendwann steigt die Anzahl der Tests und man möchte `pytest` während der Entwicklung einer spezifischen Funktionalität anweisen, nur bestimmte Tests ausführen.\n",
    "\n",
    "Wieso nicht einfach immer alle? Gründe hierfür:\n",
    "\n",
    "- bei hunderten von Tests wird die Ausgabe langsam unübersichtlich\n",
    "- gewisse Tests können sehr lange dauern\n"
   ]
  },
  {
   "cell_type": "code",
   "execution_count": 47,
   "id": "845f2f0d-aeab-4f02-a923-21dad3a5abaa",
   "metadata": {},
   "outputs": [
    {
     "name": "stdout",
     "output_type": "stream",
     "text": [
      "import pytest\n",
      "\n",
      "class kunde:\n",
      "    \n",
      "    def __init__(self, name, vorname, nr):\n",
      "        self.name = name\n",
      "        self.vorname = vorname\n",
      "        self.nr = nr\n",
      "        \n",
      "    def normalisiere(self):\n",
      "        self.vorname = \" \".join(self.vorname.split())\n",
      "        self.name = self.name.strip()\n",
      "        \n",
      "    def kapitalisiere(self):\n",
      "        self.name = self.name.capitalize()\n",
      "        self.vorname = \" \".join([vorname.capitalize() for vorname in self.vorname.split()])\n",
      "\n",
      "        \n",
      "class Test_kunde:\n",
      "    \n",
      "    # Arrange 1\n",
      "    @pytest.fixture\n",
      "    def kunde1(self):\n",
      "        \"\"\"\n",
      "        Ein Testkunde, der einfach zu viele Whitespaces\n",
      "        im Nach- und Vornamen hat.\n",
      "        \"\"\"\n",
      "        k = kunde(\"  brauer \", \" julius henry \", 938)\n",
      "        return k\n",
      "    \n",
      "    # Arrange 2\n",
      "    @pytest.fixture\n",
      "    def kunde2(self):\n",
      "        \"\"\"\n",
      "        Ein Testkunde, der zusammengesetzte Namen\n",
      "        und Whitespaces hat.\n",
      "        \"\"\"\n",
      "        k = kunde(\"  brauer-lüdenmayer \", \" julius-henry \", 938)\n",
      "        return k\n",
      "        \n",
      "    def test_kunde_anlegen(self, kunde1):\n",
      "        # Act1\n",
      "        \n",
      "        # Assert1\n",
      "        assert kunde1.name == \"  brauer \"\n",
      "        assert kunde1.vorname == \" julius henry \"\n",
      "        assert kunde1.nr == 938\n",
      "\n",
      "    \n",
      "    def test_kundenname_normalisieren(self, kunde1):        \n",
      "        # Act2\n",
      "        kunde1.normalisiere()\n",
      "        \n",
      "        # Assert2\n",
      "        assert kunde1.name == \"brauer\"\n",
      "        assert kunde1.vorname == \"julius henry\"\n",
      "        assert kunde1.nr == 938\n",
      "    \n",
      "    def test_kundenname_normalisieren_und_kapitalisieren1(self, kunde1):                \n",
      "        # Act3\n",
      "        kunde1.normalisiere()\n",
      "        kunde1.kapitalisiere()\n",
      "        \n",
      "        # Assert3\n",
      "        assert kunde1.name == \"Brauer\"\n",
      "        assert kunde1.vorname == \"Julius Henry\"\n",
      "        assert kunde1.nr == 938   \n",
      "        \n",
      "    def test_kundenname_normalisieren_und_kapitalisieren2(self, kunde2):                \n",
      "        # Act4\n",
      "        kunde2.normalisiere()\n",
      "        kunde2.kapitalisiere()\n",
      "        \n",
      "        # Assert4\n",
      "        assert kunde2.name == \"Brauer-lüdenmayer\"\n",
      "        assert kunde2.vorname == \"Julius-henry\"\n",
      "        assert kunde2.nr == 938\n",
      "        "
     ]
    }
   ],
   "source": [
    "!cat c4.py"
   ]
  },
  {
   "cell_type": "markdown",
   "id": "b55e1fb5-b2bd-4fe4-b5d7-28c95061571b",
   "metadata": {},
   "source": [
    "Hier eine Liste aller verfügbarer Tests:"
   ]
  },
  {
   "cell_type": "code",
   "execution_count": 48,
   "id": "3cf1f7de-f384-40d3-b46f-4412cbbb8fd1",
   "metadata": {},
   "outputs": [
    {
     "name": "stdout",
     "output_type": "stream",
     "text": [
      "\u001b[1m============================= test session starts ==============================\u001b[0m\n",
      "platform linux -- Python 3.8.10, pytest-7.1.3, pluggy-1.0.0\n",
      "rootdir: /media/veracrypt1/09_src/central/032_pytest_einfuehrung\n",
      "plugins: anyio-3.5.0\n",
      "collected 4 items                                                              \u001b[0m\n",
      "\n",
      "<Module c4.py>\n",
      "  <Class Test_kunde>\n",
      "    <Function test_kunde_anlegen>\n",
      "    <Function test_kundenname_normalisieren>\n",
      "    <Function test_kundenname_normalisieren_und_kapitalisieren1>\n",
      "    <Function test_kundenname_normalisieren_und_kapitalisieren2>\n",
      "\n",
      "\u001b[32m========================== \u001b[32m4 tests collected\u001b[0m\u001b[32m in 0.02s\u001b[0m\u001b[32m ==========================\u001b[0m\n"
     ]
    }
   ],
   "source": [
    "!pytest c4.py --collect-only"
   ]
  },
  {
   "cell_type": "markdown",
   "id": "904c1302-95e7-4992-8ff8-8b5336fef8cf",
   "metadata": {},
   "source": [
    "Sagen wir mal, wir wollen nur die Tests durchführen, die auch im *Act*-Schritt die Kundennamen kapitalisieren. Das können wir mit dem Schalter `-k` erreichen:"
   ]
  },
  {
   "cell_type": "code",
   "execution_count": 53,
   "id": "871fa3d1-54de-4563-9242-57bf89fb7c77",
   "metadata": {},
   "outputs": [
    {
     "name": "stdout",
     "output_type": "stream",
     "text": [
      "\u001b[1m============================= test session starts ==============================\u001b[0m\n",
      "platform linux -- Python 3.8.10, pytest-7.1.3, pluggy-1.0.0 -- /home/juebrauer/.local/share/virtualenvs/central-kQZYXD-3/bin/python\n",
      "cachedir: .pytest_cache\n",
      "rootdir: /media/veracrypt1/09_src/central/032_pytest_einfuehrung\n",
      "plugins: anyio-3.5.0\n",
      "collected 4 items / 2 deselected / 2 selected                                  \u001b[0m\n",
      "\n",
      "c4.py::Test_kunde::test_kundenname_normalisieren_und_kapitalisieren1 \u001b[32mPASSED\u001b[0m\u001b[32m [ 50%]\u001b[0m\n",
      "c4.py::Test_kunde::test_kundenname_normalisieren_und_kapitalisieren2 \u001b[32mPASSED\u001b[0m\u001b[32m [100%]\u001b[0m\n",
      "\n",
      "\u001b[32m======================= \u001b[32m\u001b[1m2 passed\u001b[0m, \u001b[33m2 deselected\u001b[0m\u001b[32m in 0.03s\u001b[0m\u001b[32m ========================\u001b[0m\n"
     ]
    }
   ],
   "source": [
    "!pytest c4.py --verbose -k \"kapitalisieren\""
   ]
  },
  {
   "cell_type": "markdown",
   "id": "5f9f8872-4c10-4a60-a951-61dbe261d781",
   "metadata": {},
   "source": [
    "# Ausschließen bestimmter Tests\n",
    "\n",
    "Den Schalter `-k` können wir auch verwenden, um bestimmte Tests auszuschließen:"
   ]
  },
  {
   "cell_type": "code",
   "execution_count": 54,
   "id": "6b7c6666-4476-4e1d-9af1-7bdf8edc7155",
   "metadata": {},
   "outputs": [
    {
     "name": "stdout",
     "output_type": "stream",
     "text": [
      "\u001b[1m============================= test session starts ==============================\u001b[0m\n",
      "platform linux -- Python 3.8.10, pytest-7.1.3, pluggy-1.0.0 -- /home/juebrauer/.local/share/virtualenvs/central-kQZYXD-3/bin/python\n",
      "cachedir: .pytest_cache\n",
      "rootdir: /media/veracrypt1/09_src/central/032_pytest_einfuehrung\n",
      "plugins: anyio-3.5.0\n",
      "collected 4 items / 2 deselected / 2 selected                                  \u001b[0m\n",
      "\n",
      "c4.py::Test_kunde::test_kunde_anlegen \u001b[32mPASSED\u001b[0m\u001b[32m                             [ 50%]\u001b[0m\n",
      "c4.py::Test_kunde::test_kundenname_normalisieren \u001b[32mPASSED\u001b[0m\u001b[32m                  [100%]\u001b[0m\n",
      "\n",
      "\u001b[32m======================= \u001b[32m\u001b[1m2 passed\u001b[0m, \u001b[33m2 deselected\u001b[0m\u001b[32m in 0.03s\u001b[0m\u001b[32m ========================\u001b[0m\n"
     ]
    }
   ],
   "source": [
    "!pytest c4.py --verbose -k \"not kapitalisieren\""
   ]
  },
  {
   "cell_type": "markdown",
   "id": "5ebeb99d-643f-4a3b-a5fa-648177e19a13",
   "metadata": {},
   "source": [
    "# Komplexeres Filtern nach Tests\n",
    "\n",
    "Es sind beliebige boolsches Ausdrücke beim Filtern nach Tests mit dem Schalter `-k` möglich:"
   ]
  },
  {
   "cell_type": "code",
   "execution_count": 55,
   "id": "dae548ef-ad5c-4b5e-9db1-de5d9dd10a70",
   "metadata": {},
   "outputs": [
    {
     "name": "stdout",
     "output_type": "stream",
     "text": [
      "\u001b[1m============================= test session starts ==============================\u001b[0m\n",
      "platform linux -- Python 3.8.10, pytest-7.1.3, pluggy-1.0.0 -- /home/juebrauer/.local/share/virtualenvs/central-kQZYXD-3/bin/python\n",
      "cachedir: .pytest_cache\n",
      "rootdir: /media/veracrypt1/09_src/central/032_pytest_einfuehrung\n",
      "plugins: anyio-3.5.0\n",
      "collected 4 items / 1 deselected / 3 selected                                  \u001b[0m\n",
      "\n",
      "c4.py::Test_kunde::test_kundenname_normalisieren \u001b[32mPASSED\u001b[0m\u001b[32m                  [ 33%]\u001b[0m\n",
      "c4.py::Test_kunde::test_kundenname_normalisieren_und_kapitalisieren1 \u001b[32mPASSED\u001b[0m\u001b[32m [ 66%]\u001b[0m\n",
      "c4.py::Test_kunde::test_kundenname_normalisieren_und_kapitalisieren2 \u001b[32mPASSED\u001b[0m\u001b[32m [100%]\u001b[0m\n",
      "\n",
      "\u001b[32m======================= \u001b[32m\u001b[1m3 passed\u001b[0m, \u001b[33m1 deselected\u001b[0m\u001b[32m in 0.03s\u001b[0m\u001b[32m ========================\u001b[0m\n"
     ]
    }
   ],
   "source": [
    "!pytest c4.py --verbose -k \"kapitalisieren or normalisieren\""
   ]
  },
  {
   "cell_type": "code",
   "execution_count": 57,
   "id": "8c09d2dd-f33f-4af3-b50a-d67d20a620a1",
   "metadata": {},
   "outputs": [
    {
     "name": "stdout",
     "output_type": "stream",
     "text": [
      "\u001b[1m============================= test session starts ==============================\u001b[0m\n",
      "platform linux -- Python 3.8.10, pytest-7.1.3, pluggy-1.0.0 -- /home/juebrauer/.local/share/virtualenvs/central-kQZYXD-3/bin/python\n",
      "cachedir: .pytest_cache\n",
      "rootdir: /media/veracrypt1/09_src/central/032_pytest_einfuehrung\n",
      "plugins: anyio-3.5.0\n",
      "collected 4 items / 3 deselected / 1 selected                                  \u001b[0m\n",
      "\n",
      "c4.py::Test_kunde::test_kunde_anlegen \u001b[32mPASSED\u001b[0m\u001b[32m                             [100%]\u001b[0m\n",
      "\n",
      "\u001b[32m======================= \u001b[32m\u001b[1m1 passed\u001b[0m, \u001b[33m3 deselected\u001b[0m\u001b[32m in 0.03s\u001b[0m\u001b[32m ========================\u001b[0m\n"
     ]
    }
   ],
   "source": [
    "!pytest c4.py --verbose -k \"not kapitalisieren and not normalisieren\""
   ]
  },
  {
   "cell_type": "markdown",
   "id": "86c5ac41-69f2-47e4-b0b6-0297a0ac2ef6",
   "metadata": {},
   "source": [
    "# Ausführen eines ganz bestimmten Tests"
   ]
  },
  {
   "cell_type": "code",
   "execution_count": 2,
   "id": "4f099a19-b4ce-4194-bcde-111d556b14fa",
   "metadata": {},
   "outputs": [
    {
     "name": "stdout",
     "output_type": "stream",
     "text": [
      "import pytest\n",
      "\n",
      "class kunde:\n",
      "    \n",
      "    def __init__(self, name, vorname, nr):\n",
      "        self.name = name\n",
      "        self.vorname = vorname\n",
      "        self.nr = nr\n",
      "        \n",
      "    def normalisiere(self):\n",
      "        self.vorname = \" \".join(self.vorname.split())\n",
      "        self.name = self.name.strip()\n",
      "        \n",
      "    def kapitalisiere(self):\n",
      "        self.name = self.name.capitalize()\n",
      "        self.vorname = \" \".join([vorname.capitalize() for vorname in self.vorname.split()])\n",
      "\n",
      "        \n",
      "class Test_kunde:\n",
      "    \n",
      "    # Arrange 1\n",
      "    @pytest.fixture\n",
      "    def kunde1(self):\n",
      "        \"\"\"\n",
      "        Ein Testkunde, der einfach zu viele Whitespaces\n",
      "        im Nach- und Vornamen hat.\n",
      "        \"\"\"\n",
      "        k = kunde(\"  brauer \", \" julius henry \", 938)\n",
      "        return k\n",
      "    \n",
      "    # Arrange 2\n",
      "    @pytest.fixture\n",
      "    def kunde2(self):\n",
      "        \"\"\"\n",
      "        Ein Testkunde, der zusammengesetzte Namen\n",
      "        und Whitespaces hat.\n",
      "        \"\"\"\n",
      "        k = kunde(\"  brauer-lüdenmayer \", \" julius-henry \", 938)\n",
      "        return k\n",
      "        \n",
      "    def test_kunde_anlegen(self, kunde1):\n",
      "        # Act1\n",
      "        \n",
      "        # Assert1\n",
      "        assert kunde1.name == \"  brauer \"\n",
      "        assert kunde1.vorname == \" julius henry \"\n",
      "        assert kunde1.nr == 938\n",
      "\n",
      "    \n",
      "    def test_kundenname_normalisieren(self, kunde1):        \n",
      "        # Act2\n",
      "        kunde1.normalisiere()\n",
      "        \n",
      "        # Assert2\n",
      "        assert kunde1.name == \"brauer\"\n",
      "        assert kunde1.vorname == \"julius henry\"\n",
      "        assert kunde1.nr == 938\n",
      "    \n",
      "    def test_kundenname_normalisieren_und_kapitalisieren1(self, kunde1):                \n",
      "        # Act3\n",
      "        kunde1.normalisiere()\n",
      "        kunde1.kapitalisiere()\n",
      "        \n",
      "        # Assert3\n",
      "        assert kunde1.name == \"Brauer\"\n",
      "        assert kunde1.vorname == \"Julius Henry\"\n",
      "        assert kunde1.nr == 938   \n",
      "        \n",
      "    def test_kundenname_normalisieren_und_kapitalisieren2(self, kunde2):                \n",
      "        # Act4\n",
      "        kunde2.normalisiere()\n",
      "        kunde2.kapitalisiere()\n",
      "        \n",
      "        # Assert4\n",
      "        assert kunde2.name == \"Brauer-lüdenmayer\"\n",
      "        assert kunde2.vorname == \"Julius-henry\"\n",
      "        assert kunde2.nr == 938\n",
      "        "
     ]
    }
   ],
   "source": [
    "!cat c4.py"
   ]
  },
  {
   "cell_type": "markdown",
   "id": "d5d0af34-0007-4cae-b47c-c66d6d5fc879",
   "metadata": {},
   "source": [
    "Spezifikation direkt:"
   ]
  },
  {
   "cell_type": "code",
   "execution_count": 10,
   "id": "f9fef2b7-d6e1-4b4a-95c0-84659213d66b",
   "metadata": {},
   "outputs": [
    {
     "name": "stdout",
     "output_type": "stream",
     "text": [
      "\u001b[1m============================= test session starts ==============================\u001b[0m\n",
      "platform linux -- Python 3.8.10, pytest-7.1.3, pluggy-1.0.0 -- /home/juebrauer/.local/share/virtualenvs/central-kQZYXD-3/bin/python\n",
      "cachedir: .pytest_cache\n",
      "rootdir: /media/veracrypt1/09_src/central/032_pytest_einfuehrung\n",
      "plugins: anyio-3.5.0\n",
      "collected 1 item                                                               \u001b[0m\n",
      "\n",
      "c4.py::Test_kunde::test_kundenname_normalisieren_und_kapitalisieren1 \u001b[32mPASSED\u001b[0m\u001b[32m [100%]\u001b[0m\n",
      "\n",
      "\u001b[32m============================== \u001b[32m\u001b[1m1 passed\u001b[0m\u001b[32m in 0.02s\u001b[0m\u001b[32m ===============================\u001b[0m\n"
     ]
    }
   ],
   "source": [
    "!pytest c4.py::Test_kunde::test_kundenname_normalisieren_und_kapitalisieren1 --verbose"
   ]
  },
  {
   "cell_type": "markdown",
   "id": "adf26657-0317-4d68-b9db-2eb0fd830fe3",
   "metadata": {},
   "source": [
    "Spezifikation über Schalter `-k`:"
   ]
  },
  {
   "cell_type": "code",
   "execution_count": 12,
   "id": "b9703cf8-39b2-470c-b835-26ea3177ed1d",
   "metadata": {},
   "outputs": [
    {
     "name": "stdout",
     "output_type": "stream",
     "text": [
      "\u001b[1m============================= test session starts ==============================\u001b[0m\n",
      "platform linux -- Python 3.8.10, pytest-7.1.3, pluggy-1.0.0 -- /home/juebrauer/.local/share/virtualenvs/central-kQZYXD-3/bin/python\n",
      "cachedir: .pytest_cache\n",
      "rootdir: /media/veracrypt1/09_src/central/032_pytest_einfuehrung\n",
      "plugins: anyio-3.5.0\n",
      "collected 4 items / 3 deselected / 1 selected                                  \u001b[0m\n",
      "\n",
      "c4.py::Test_kunde::test_kundenname_normalisieren_und_kapitalisieren1 \u001b[32mPASSED\u001b[0m\u001b[32m [100%]\u001b[0m\n",
      "\n",
      "\u001b[32m======================= \u001b[32m\u001b[1m1 passed\u001b[0m, \u001b[33m3 deselected\u001b[0m\u001b[32m in 0.02s\u001b[0m\u001b[32m ========================\u001b[0m\n"
     ]
    }
   ],
   "source": [
    "!pytest c4.py -k \"test_kundenname_normalisieren_und_kapitalisieren1\" --verbose"
   ]
  },
  {
   "cell_type": "markdown",
   "id": "870e6179-9605-4f7b-b8c4-c91e7ecb063c",
   "metadata": {},
   "source": [
    "# Markieren von Tests\n",
    "\n",
    "Das Filtern nach Tests mit dem Schalter `-k` ist schon sehr hilfreich, aber man möchte die Tests vielleicht auch gruppieren und bestimmte Gruppen von Tests durchführen (dann mit dem Schalter `-m`). Hierzu muss man die Tests vorab mit einem Dekorator markieren.\n",
    "\n",
    "Quiz:\n",
    "Schreibe zuerst Tests für eine Funktion, die\n",
    "- alle Kleinbuchstaben zu Großbuchstaben umwandelt\n",
    "- alle Großbuchstaben belässt\n",
    "- alle Spaces belässt\n",
    "- alle anderen Characters löscht\n",
    "und dann schreibe die dazugehörige Funktion."
   ]
  },
  {
   "cell_type": "code",
   "execution_count": 17,
   "id": "437a794b-763a-4161-b93d-6aefad4db2e0",
   "metadata": {},
   "outputs": [
    {
     "name": "stdout",
     "output_type": "stream",
     "text": [
      "import pytest\n",
      "import re\n",
      "\n",
      "def transform(zk):\n",
      "    \"\"\"    \n",
      "    Remove all characters but letters\n",
      "    and make all letters large    \n",
      "    \"\"\"\n",
      "    regex = re.compile('[^a-zA-Z ]')\n",
      "    zk_neu = regex.sub('', zk)\n",
      "    zk_neu = zk_neu.upper()\n",
      "    return zk_neu\n",
      "\n",
      "@pytest.mark.change_input\n",
      "def test1():\n",
      "    \"\"\"\n",
      "    Testing with small letters only\n",
      "    \"\"\"\n",
      "    assert transform(\"abc\")==\"ABC\"\n",
      "    \n",
      "\n",
      "@pytest.mark.change_input\n",
      "def test2():\n",
      "    \"\"\"\n",
      "    Testing with small and large letters\n",
      "    \"\"\"\n",
      "    assert transform(\"aBc\")==\"ABC\"\n",
      "    \n",
      "    \n",
      "@pytest.mark.change_input\n",
      "def test3():\n",
      "    \"\"\"\n",
      "    Testing with letters and whitespaces\n",
      "    \"\"\"\n",
      "    assert transform(\"abc def\")==\"ABC DEF\"\n",
      "\n",
      "    \n",
      "@pytest.mark.change_input\n",
      "def test4():\n",
      "    \"\"\"\n",
      "    Testing with letters and whitespaces and numbers\n",
      "    \"\"\"\n",
      "    assert transform(\"a1b2c3456 d789e000f1111\")==\"ABC DEF\"\n",
      "    \n",
      "    \n",
      "@pytest.mark.change_input\n",
      "def test5():\n",
      "    \"\"\"\n",
      "    Testing wether only invalid characters string is\n",
      "    transformed to an empty string\n",
      "    \"\"\"\n",
      "    assert transform(\"1234567890\")==\"\"\n",
      "    \n",
      "    \n",
      "@pytest.mark.do_not_change_input\n",
      "def test6():\n",
      "    \"\"\"\n",
      "    Testing wether string that is already ok is kept as it is\n",
      "    \"\"\"\n",
      "    assert transform(\"ABC DEF\")==\"ABC DEF\"\n",
      "    \n",
      "    \n",
      "@pytest.mark.do_not_change_input\n",
      "def test7():\n",
      "    \"\"\"\n",
      "    Testing wether whitespace only character is kept as it is.\n",
      "    \"\"\"\n",
      "    assert transform(\"  \")==\"  \"\n",
      "\n",
      "    \n",
      "@pytest.mark.do_not_change_input\n",
      "def test8():\n",
      "    \"\"\"\n",
      "    Testing transformation of large valid string\n",
      "    \"\"\"\n",
      "    zk = \"ABC XYZ OPKLJKN JKDJ AFJKHJV KOKD\" * 20\n",
      "    assert transform(zk)==zk\n",
      "\n",
      "\n",
      "\n"
     ]
    }
   ],
   "source": [
    "!cat m1.py"
   ]
  },
  {
   "cell_type": "code",
   "execution_count": 23,
   "id": "a85cd861-9bda-437b-820f-2e25be291009",
   "metadata": {},
   "outputs": [
    {
     "name": "stdout",
     "output_type": "stream",
     "text": [
      "\u001b[1m============================= test session starts ==============================\u001b[0m\n",
      "platform linux -- Python 3.8.10, pytest-7.1.3, pluggy-1.0.0 -- /home/juebrauer/.local/share/virtualenvs/central-kQZYXD-3/bin/python\n",
      "cachedir: .pytest_cache\n",
      "rootdir: /media/veracrypt1/09_src/central/032_pytest_einfuehrung\n",
      "plugins: anyio-3.5.0\n",
      "collected 8 items                                                              \u001b[0m\n",
      "\n",
      "m1.py::test1 \u001b[32mPASSED\u001b[0m\u001b[33m                                                      [ 12%]\u001b[0m\n",
      "m1.py::test2 \u001b[32mPASSED\u001b[0m\u001b[33m                                                      [ 25%]\u001b[0m\n",
      "m1.py::test3 \u001b[32mPASSED\u001b[0m\u001b[33m                                                      [ 37%]\u001b[0m\n",
      "m1.py::test4 \u001b[32mPASSED\u001b[0m\u001b[33m                                                      [ 50%]\u001b[0m\n",
      "m1.py::test5 \u001b[32mPASSED\u001b[0m\u001b[33m                                                      [ 62%]\u001b[0m\n",
      "m1.py::test6 \u001b[32mPASSED\u001b[0m\u001b[33m                                                      [ 75%]\u001b[0m\n",
      "m1.py::test7 \u001b[32mPASSED\u001b[0m\u001b[33m                                                      [ 87%]\u001b[0m\n",
      "m1.py::test8 \u001b[32mPASSED\u001b[0m\u001b[33m                                                      [100%]\u001b[0m\n",
      "\n",
      "\u001b[33m=============================== warnings summary ===============================\u001b[0m\n",
      "m1.py:14\n",
      "  /media/veracrypt1/09_src/central/032_pytest_einfuehrung/m1.py:14: PytestUnknownMarkWarning: Unknown pytest.mark.change_input - is this a typo?  You can register custom marks to avoid this warning - for details, see https://docs.pytest.org/en/stable/how-to/mark.html\n",
      "    @pytest.mark.change_input\n",
      "\n",
      "m1.py:22\n",
      "  /media/veracrypt1/09_src/central/032_pytest_einfuehrung/m1.py:22: PytestUnknownMarkWarning: Unknown pytest.mark.change_input - is this a typo?  You can register custom marks to avoid this warning - for details, see https://docs.pytest.org/en/stable/how-to/mark.html\n",
      "    @pytest.mark.change_input\n",
      "\n",
      "m1.py:30\n",
      "  /media/veracrypt1/09_src/central/032_pytest_einfuehrung/m1.py:30: PytestUnknownMarkWarning: Unknown pytest.mark.change_input - is this a typo?  You can register custom marks to avoid this warning - for details, see https://docs.pytest.org/en/stable/how-to/mark.html\n",
      "    @pytest.mark.change_input\n",
      "\n",
      "m1.py:38\n",
      "  /media/veracrypt1/09_src/central/032_pytest_einfuehrung/m1.py:38: PytestUnknownMarkWarning: Unknown pytest.mark.change_input - is this a typo?  You can register custom marks to avoid this warning - for details, see https://docs.pytest.org/en/stable/how-to/mark.html\n",
      "    @pytest.mark.change_input\n",
      "\n",
      "m1.py:46\n",
      "  /media/veracrypt1/09_src/central/032_pytest_einfuehrung/m1.py:46: PytestUnknownMarkWarning: Unknown pytest.mark.change_input - is this a typo?  You can register custom marks to avoid this warning - for details, see https://docs.pytest.org/en/stable/how-to/mark.html\n",
      "    @pytest.mark.change_input\n",
      "\n",
      "m1.py:55\n",
      "  /media/veracrypt1/09_src/central/032_pytest_einfuehrung/m1.py:55: PytestUnknownMarkWarning: Unknown pytest.mark.do_not_change_input - is this a typo?  You can register custom marks to avoid this warning - for details, see https://docs.pytest.org/en/stable/how-to/mark.html\n",
      "    @pytest.mark.do_not_change_input\n",
      "\n",
      "m1.py:63\n",
      "  /media/veracrypt1/09_src/central/032_pytest_einfuehrung/m1.py:63: PytestUnknownMarkWarning: Unknown pytest.mark.do_not_change_input - is this a typo?  You can register custom marks to avoid this warning - for details, see https://docs.pytest.org/en/stable/how-to/mark.html\n",
      "    @pytest.mark.do_not_change_input\n",
      "\n",
      "m1.py:71\n",
      "  /media/veracrypt1/09_src/central/032_pytest_einfuehrung/m1.py:71: PytestUnknownMarkWarning: Unknown pytest.mark.do_not_change_input - is this a typo?  You can register custom marks to avoid this warning - for details, see https://docs.pytest.org/en/stable/how-to/mark.html\n",
      "    @pytest.mark.do_not_change_input\n",
      "\n",
      "-- Docs: https://docs.pytest.org/en/stable/how-to/capture-warnings.html\n",
      "\u001b[33m======================== \u001b[32m8 passed\u001b[0m, \u001b[33m\u001b[1m8 warnings\u001b[0m\u001b[33m in 0.03s\u001b[0m\u001b[33m =========================\u001b[0m\n"
     ]
    }
   ],
   "source": [
    "!pytest m1.py --verbose"
   ]
  },
  {
   "cell_type": "markdown",
   "id": "f8c2236c-7f70-41f9-8108-b43f5f42e0d5",
   "metadata": {},
   "source": [
    "Man sieht an den Warnungen, dass hier noch etwas fehlt. `pytest` möchte die verwendeten Marker noch in einer `.ini.`-Datei bekannt gemacht bekommen.\n",
    "\n",
    "Man kann `pytest` so einstellen, dass die Warnungen über die fehlenden Markerdefinitionen auch als Fehler behandelt werden:"
   ]
  },
  {
   "cell_type": "code",
   "execution_count": 24,
   "id": "c767898e-9ea4-4033-af53-4a3f78c5995e",
   "metadata": {},
   "outputs": [
    {
     "name": "stdout",
     "output_type": "stream",
     "text": [
      "\u001b[1m============================= test session starts ==============================\u001b[0m\n",
      "platform linux -- Python 3.8.10, pytest-7.1.3, pluggy-1.0.0 -- /home/juebrauer/.local/share/virtualenvs/central-kQZYXD-3/bin/python\n",
      "cachedir: .pytest_cache\n",
      "rootdir: /media/veracrypt1/09_src/central/032_pytest_einfuehrung\n",
      "plugins: anyio-3.5.0\n",
      "collected 0 items / 1 error                                                    \u001b[0m\n",
      "\n",
      "==================================== ERRORS ====================================\n",
      "\u001b[31m\u001b[1m____________________________ ERROR collecting m1.py ____________________________\u001b[0m\n",
      "\u001b[33m'\u001b[39;49;00m\u001b[33mchange_input\u001b[39;49;00m\u001b[33m'\u001b[39;49;00m \u001b[95mnot\u001b[39;49;00m found \u001b[95min\u001b[39;49;00m \u001b[04m\u001b[91m`\u001b[39;49;00mmarkers\u001b[04m\u001b[91m`\u001b[39;49;00m configuration option\n",
      "=========================== short test summary info ============================\n",
      "ERROR m1.py\n",
      "!!!!!!!!!!!!!!!!!!!! Interrupted: 1 error during collection !!!!!!!!!!!!!!!!!!!!\n",
      "\u001b[31m=============================== \u001b[31m\u001b[1m1 error\u001b[0m\u001b[31m in 0.11s\u001b[0m\u001b[31m ===============================\u001b[0m\n"
     ]
    }
   ],
   "source": [
    "!pytest m1.py --verbose --strict-markers"
   ]
  },
  {
   "cell_type": "markdown",
   "id": "c87a4669-afbf-43f0-a677-56c8b9147815",
   "metadata": {},
   "source": [
    "# Definition von Markierungen (markers)"
   ]
  },
  {
   "cell_type": "code",
   "execution_count": 26,
   "id": "ff43adcd-23e3-4482-8040-6b1fe7f0fd96",
   "metadata": {},
   "outputs": [
    {
     "name": "stdout",
     "output_type": "stream",
     "text": [
      "[pytest]\n",
      "\n",
      "addopts = --verbose\n",
      "\n",
      "python_files = m1.py\n",
      "\n",
      "markers = change_input: Here a string will be modified\n",
      "          do_not_change_input: Here a string shall be kept as it is\n",
      "          "
     ]
    }
   ],
   "source": [
    "!cat pytest8.ini"
   ]
  },
  {
   "cell_type": "markdown",
   "id": "15c901a4-1e57-4d68-98bc-b00683d43890",
   "metadata": {},
   "source": [
    "Jetzt verschwinden auch die Warnungen beim Aufruf von`pytest`:"
   ]
  },
  {
   "cell_type": "code",
   "execution_count": 27,
   "id": "521288e0-9a32-4b5b-9913-fdffe47c10a0",
   "metadata": {},
   "outputs": [
    {
     "name": "stdout",
     "output_type": "stream",
     "text": [
      "\u001b[1m============================= test session starts ==============================\u001b[0m\n",
      "platform linux -- Python 3.8.10, pytest-7.1.3, pluggy-1.0.0 -- /home/juebrauer/.local/share/virtualenvs/central-kQZYXD-3/bin/python\n",
      "cachedir: .pytest_cache\n",
      "rootdir: /media/veracrypt1/09_src/central/032_pytest_einfuehrung, configfile: pytest8.ini\n",
      "plugins: anyio-3.5.0\n",
      "collected 8 items                                                              \u001b[0m\n",
      "\n",
      "m1.py::test1 \u001b[32mPASSED\u001b[0m\u001b[32m                                                      [ 12%]\u001b[0m\n",
      "m1.py::test2 \u001b[32mPASSED\u001b[0m\u001b[32m                                                      [ 25%]\u001b[0m\n",
      "m1.py::test3 \u001b[32mPASSED\u001b[0m\u001b[32m                                                      [ 37%]\u001b[0m\n",
      "m1.py::test4 \u001b[32mPASSED\u001b[0m\u001b[32m                                                      [ 50%]\u001b[0m\n",
      "m1.py::test5 \u001b[32mPASSED\u001b[0m\u001b[32m                                                      [ 62%]\u001b[0m\n",
      "m1.py::test6 \u001b[32mPASSED\u001b[0m\u001b[32m                                                      [ 75%]\u001b[0m\n",
      "m1.py::test7 \u001b[32mPASSED\u001b[0m\u001b[32m                                                      [ 87%]\u001b[0m\n",
      "m1.py::test8 \u001b[32mPASSED\u001b[0m\u001b[32m                                                      [100%]\u001b[0m\n",
      "\n",
      "\u001b[32m============================== \u001b[32m\u001b[1m8 passed\u001b[0m\u001b[32m in 0.04s\u001b[0m\u001b[32m ===============================\u001b[0m\n"
     ]
    }
   ],
   "source": [
    "!pytest -c pytest8.ini"
   ]
  },
  {
   "cell_type": "markdown",
   "id": "09da865b-6ee7-4df2-923a-6729eeb24fac",
   "metadata": {},
   "source": [
    "# Filtern nach Markierungen"
   ]
  },
  {
   "cell_type": "markdown",
   "id": "63933dcb-1991-409d-af5e-597e17ab470f",
   "metadata": {},
   "source": [
    "Welche Markierungen stehen überhaupt zur Auswahl zum Filtern?"
   ]
  },
  {
   "cell_type": "code",
   "execution_count": 29,
   "id": "bb7e3413-f37a-40be-8791-aca61c7542dc",
   "metadata": {},
   "outputs": [
    {
     "name": "stdout",
     "output_type": "stream",
     "text": [
      "\u001b[1m@pytest.mark.change_input:\u001b[0m Here a string will be modified\n",
      "\n",
      "\u001b[1m@pytest.mark.do_not_change_input:\u001b[0m Here a string shall be kept as it is\n",
      "\n",
      "\u001b[1m@pytest.mark.anyio:\u001b[0m mark the (coroutine function) test to be run asynchronously via anyio.\n",
      "\n",
      "\u001b[1m@pytest.mark.filterwarnings(warning):\u001b[0m add a warning filter to the given test. see https://docs.pytest.org/en/stable/how-to/capture-warnings.html#pytest-mark-filterwarnings \n",
      "\n",
      "\u001b[1m@pytest.mark.skip(reason=None):\u001b[0m skip the given test function with an optional reason. Example: skip(reason=\"no way of currently testing this\") skips the test.\n",
      "\n",
      "\u001b[1m@pytest.mark.skipif(condition, ..., *, reason=...):\u001b[0m skip the given test function if any of the conditions evaluate to True. Example: skipif(sys.platform == 'win32') skips the test if we are on the win32 platform. See https://docs.pytest.org/en/stable/reference/reference.html#pytest-mark-skipif\n",
      "\n",
      "\u001b[1m@pytest.mark.xfail(condition, ..., *, reason=..., run=True, raises=None, strict=xfail_strict):\u001b[0m mark the test function as an expected failure if any of the conditions evaluate to True. Optionally specify a reason for better reporting and run=False if you don't even want to execute the test function. If only specific exception(s) are expected, you can list them in raises, and if the test fails in other ways, it will be reported as a true failure. See https://docs.pytest.org/en/stable/reference/reference.html#pytest-mark-xfail\n",
      "\n",
      "\u001b[1m@pytest.mark.parametrize(argnames, argvalues):\u001b[0m call a test function multiple times passing in different arguments in turn. argvalues generally needs to be a list of values if argnames specifies only one name or a list of tuples of values if argnames specifies multiple names. Example: @parametrize('arg1', [1,2]) would lead to two calls of the decorated test function, one with arg1=1 and another with arg1=2.see https://docs.pytest.org/en/stable/how-to/parametrize.html for more info and examples.\n",
      "\n",
      "\u001b[1m@pytest.mark.usefixtures(fixturename1, fixturename2, ...):\u001b[0m mark tests as needing all of the specified fixtures. see https://docs.pytest.org/en/stable/explanation/fixtures.html#usefixtures \n",
      "\n",
      "\u001b[1m@pytest.mark.tryfirst:\u001b[0m mark a hook implementation function such that the plugin machinery will try to call it first/as early as possible.\n",
      "\n",
      "\u001b[1m@pytest.mark.trylast:\u001b[0m mark a hook implementation function such that the plugin machinery will try to call it last/as late as possible.\n",
      "\n"
     ]
    }
   ],
   "source": [
    "!pytest -c pytest8.ini --markers"
   ]
  },
  {
   "cell_type": "markdown",
   "id": "4f5a8059-46a5-42d0-9b6e-e87df9694d81",
   "metadata": {},
   "source": [
    "Wir führen jetzt nur Tests der Kategorie `change_input` aus:"
   ]
  },
  {
   "cell_type": "code",
   "execution_count": 31,
   "id": "ae1d0f7b-b7c5-4204-9c4c-bf8c4e508954",
   "metadata": {},
   "outputs": [
    {
     "name": "stdout",
     "output_type": "stream",
     "text": [
      "\u001b[1m============================= test session starts ==============================\u001b[0m\n",
      "platform linux -- Python 3.8.10, pytest-7.1.3, pluggy-1.0.0 -- /home/juebrauer/.local/share/virtualenvs/central-kQZYXD-3/bin/python\n",
      "cachedir: .pytest_cache\n",
      "rootdir: /media/veracrypt1/09_src/central/032_pytest_einfuehrung, configfile: pytest8.ini\n",
      "plugins: anyio-3.5.0\n",
      "collected 8 items / 3 deselected / 5 selected                                  \u001b[0m\n",
      "\n",
      "m1.py::test1 \u001b[32mPASSED\u001b[0m\u001b[32m                                                      [ 20%]\u001b[0m\n",
      "m1.py::test2 \u001b[32mPASSED\u001b[0m\u001b[32m                                                      [ 40%]\u001b[0m\n",
      "m1.py::test3 \u001b[32mPASSED\u001b[0m\u001b[32m                                                      [ 60%]\u001b[0m\n",
      "m1.py::test4 \u001b[32mPASSED\u001b[0m\u001b[32m                                                      [ 80%]\u001b[0m\n",
      "m1.py::test5 \u001b[32mPASSED\u001b[0m\u001b[32m                                                      [100%]\u001b[0m\n",
      "\n",
      "\u001b[32m======================= \u001b[32m\u001b[1m5 passed\u001b[0m, \u001b[33m3 deselected\u001b[0m\u001b[32m in 0.03s\u001b[0m\u001b[32m ========================\u001b[0m\n"
     ]
    }
   ],
   "source": [
    "!pytest -c pytest8.ini -m change_input"
   ]
  },
  {
   "cell_type": "markdown",
   "id": "d0c1af56-7c1d-4f2d-819f-2999284a0eed",
   "metadata": {},
   "source": [
    "Wir führen jetzt nur Tests der Kategorie `do_not_change_input` aus:"
   ]
  },
  {
   "cell_type": "code",
   "execution_count": 32,
   "id": "b764dedd-4f17-4948-92ab-a624713bcdfc",
   "metadata": {},
   "outputs": [
    {
     "name": "stdout",
     "output_type": "stream",
     "text": [
      "\u001b[1m============================= test session starts ==============================\u001b[0m\n",
      "platform linux -- Python 3.8.10, pytest-7.1.3, pluggy-1.0.0 -- /home/juebrauer/.local/share/virtualenvs/central-kQZYXD-3/bin/python\n",
      "cachedir: .pytest_cache\n",
      "rootdir: /media/veracrypt1/09_src/central/032_pytest_einfuehrung, configfile: pytest8.ini\n",
      "plugins: anyio-3.5.0\n",
      "collected 8 items / 5 deselected / 3 selected                                  \u001b[0m\n",
      "\n",
      "m1.py::test6 \u001b[32mPASSED\u001b[0m\u001b[32m                                                      [ 33%]\u001b[0m\n",
      "m1.py::test7 \u001b[32mPASSED\u001b[0m\u001b[32m                                                      [ 66%]\u001b[0m\n",
      "m1.py::test8 \u001b[32mPASSED\u001b[0m\u001b[32m                                                      [100%]\u001b[0m\n",
      "\n",
      "\u001b[32m======================= \u001b[32m\u001b[1m3 passed\u001b[0m, \u001b[33m5 deselected\u001b[0m\u001b[32m in 0.02s\u001b[0m\u001b[32m ========================\u001b[0m\n"
     ]
    }
   ],
   "source": [
    "!pytest -c pytest8.ini -m do_not_change_input"
   ]
  },
  {
   "cell_type": "markdown",
   "id": "2b933c78-ca1d-4468-b9ce-b34265209348",
   "metadata": {},
   "source": [
    "# Beispiel der Nutzung vordefinierter Markierungen"
   ]
  },
  {
   "cell_type": "code",
   "execution_count": 14,
   "id": "60a30bda-e25b-4ea9-961c-190dfefa7d8a",
   "metadata": {},
   "outputs": [
    {
     "name": "stdout",
     "output_type": "stream",
     "text": [
      "import pytest\n",
      "import sys\n",
      "\n",
      "def hole_tabelle_fuer_kunden_aus_datenbank(kunde):\n",
      "    return \"tabelle\"\n",
      "\n",
      "def test1():\n",
      "    assert hole_tabelle_fuer_kunden_aus_datenbank(\"maier\")==\"tabelle\"\n",
      "\n",
      "\n",
      "@pytest.mark.skip(reason=\"Test geht noch nicht, kein Datenbankzugang\")\n",
      "def test2():\n",
      "    pass\n",
      "    \n",
      "    \n",
      "@pytest.mark.skipif(sys.platform == \"linux\", reason=\"Test geht nicht unter Linux\")\n",
      "def test3():\n",
      "    pass\n",
      "\n"
     ]
    }
   ],
   "source": [
    "!cat m2.py"
   ]
  },
  {
   "cell_type": "code",
   "execution_count": 15,
   "id": "d6a53c33-52ed-4780-9409-f4a99e925821",
   "metadata": {},
   "outputs": [
    {
     "name": "stdout",
     "output_type": "stream",
     "text": [
      "\u001b[1m============================= test session starts ==============================\u001b[0m\n",
      "platform linux -- Python 3.8.10, pytest-7.1.3, pluggy-1.0.0 -- /home/juebrauer/.local/share/virtualenvs/central-kQZYXD-3/bin/python\n",
      "cachedir: .pytest_cache\n",
      "rootdir: /media/veracrypt1/09_src/central/032_pytest_einfuehrung\n",
      "plugins: anyio-3.5.0\n",
      "collected 3 items                                                              \u001b[0m\n",
      "\n",
      "m2.py::test1 \u001b[32mPASSED\u001b[0m\u001b[32m                                                      [ 33%]\u001b[0m\n",
      "m2.py::test2 \u001b[33mSKIPPED\u001b[0m (Test geht noch nicht, kein Datenbankzugang)\u001b[32m        [ 66%]\u001b[0m\n",
      "m2.py::test3 \u001b[33mSKIPPED\u001b[0m (Test geht nicht unter Linux)\u001b[32m                       [100%]\u001b[0m\n",
      "\n",
      "\u001b[32m========================= \u001b[32m\u001b[1m1 passed\u001b[0m, \u001b[33m2 skipped\u001b[0m\u001b[32m in 0.02s\u001b[0m\u001b[32m =========================\u001b[0m\n"
     ]
    }
   ],
   "source": [
    "!pytest m2.py --verbose"
   ]
  },
  {
   "cell_type": "markdown",
   "id": "77761155-c08e-439e-8cc5-70fe31617679",
   "metadata": {},
   "source": [
    "# Tests mit mehreren Markierungen versehen\n",
    "\n",
    "Ein Test kann auch mit mehr als einer Markierung markiert werden:"
   ]
  },
  {
   "cell_type": "code",
   "execution_count": 19,
   "id": "3eead614-38b4-4724-9bae-ad02b9004dcc",
   "metadata": {},
   "outputs": [
    {
     "name": "stdout",
     "output_type": "stream",
     "text": [
      "import pytest\n",
      "import re\n",
      "\n",
      "def transform(zk):\n",
      "    \"\"\"    \n",
      "    Remove all characters but letters\n",
      "    and make all letters large    \n",
      "    \"\"\"\n",
      "    regex = re.compile('[^a-zA-Z ]')\n",
      "    zk_neu = regex.sub('', zk)\n",
      "    zk_neu = zk_neu.upper()\n",
      "    return zk_neu\n",
      "\n",
      "@pytest.mark.change_input\n",
      "@pytest.mark.input_lowercase_only\n",
      "def test1():\n",
      "    \"\"\"\n",
      "    Testing with small letters only\n",
      "    \"\"\"\n",
      "    assert transform(\"abc\")==\"ABC\"\n",
      "    \n",
      "\n",
      "@pytest.mark.change_input\n",
      "@pytest.mark.input_lowercase_and_uppercase\n",
      "def test2():\n",
      "    \"\"\"\n",
      "    Testing with small and large letters\n",
      "    \"\"\"\n",
      "    assert transform(\"aBc\")==\"ABC\"\n",
      "    \n",
      "    \n",
      "@pytest.mark.change_input\n",
      "@pytest.mark.input_lowercase_only\n",
      "def test3():\n",
      "    \"\"\"\n",
      "    Testing with letters and whitespaces\n",
      "    \"\"\"\n",
      "    assert transform(\"abc def\")==\"ABC DEF\"\n",
      "\n",
      "    \n",
      "@pytest.mark.change_input\n",
      "@pytest.mark.input_lowercase_only\n",
      "def test4():\n",
      "    \"\"\"\n",
      "    Testing with letters and whitespaces and numbers\n",
      "    \"\"\"\n",
      "    assert transform(\"a1b2c3456 d789e000f1111\")==\"ABC DEF\"\n",
      "    \n",
      "    \n",
      "@pytest.mark.change_input\n",
      "@pytest.mark.input_no_letters\n",
      "def test5():\n",
      "    \"\"\"\n",
      "    Testing wether only invalid characters string is\n",
      "    transformed to an empty string\n",
      "    \"\"\"\n",
      "    assert transform(\"1234567890\")==\"\"\n",
      "    \n",
      "    \n",
      "@pytest.mark.do_not_change_input\n",
      "@pytest.mark.input_uppercase_only\n",
      "def test6():\n",
      "    \"\"\"\n",
      "    Testing wether string that is already ok is kept as it is\n",
      "    \"\"\"\n",
      "    assert transform(\"ABC DEF\")==\"ABC DEF\"\n",
      "    \n",
      "    \n",
      "@pytest.mark.do_not_change_input\n",
      "@pytest.mark.input_no_letters\n",
      "def test7():\n",
      "    \"\"\"\n",
      "    Testing wether whitespace only character is kept as it is.\n",
      "    \"\"\"\n",
      "    assert transform(\"  \")==\"  \"\n",
      "\n",
      "    \n",
      "@pytest.mark.do_not_change_input\n",
      "@pytest.mark.input_uppercase_only\n",
      "def test8():\n",
      "    \"\"\"\n",
      "    Testing transformation of large valid string\n",
      "    \"\"\"\n",
      "    zk = \"ABC XYZ OPKLJKN JKDJ AFJKHJV KOKD\" * 20\n",
      "    assert transform(zk)==zk\n"
     ]
    }
   ],
   "source": [
    "!cat m3.py"
   ]
  },
  {
   "cell_type": "markdown",
   "id": "622bdebc-0ca7-4065-8070-2ff22605c0a9",
   "metadata": {},
   "source": [
    "Wir dürfen aber nicht vergessen, dass wir jetzt auch noch die Liste der verwendeten Marker in der `.ini`-Datei ergänzen:"
   ]
  },
  {
   "cell_type": "code",
   "execution_count": 20,
   "id": "17408026-2ee3-40e9-907d-a9a4daf11a47",
   "metadata": {},
   "outputs": [
    {
     "name": "stdout",
     "output_type": "stream",
     "text": [
      "[pytest]\n",
      "\n",
      "addopts = --verbose\n",
      "\n",
      "python_files = m1.py\n",
      "\n",
      "markers = change_input: Here a string will be modified\n",
      "          do_not_change_input: Here a string shall be kept as it is\n",
      "          "
     ]
    }
   ],
   "source": [
    "!cat pytest9.ini"
   ]
  },
  {
   "cell_type": "code",
   "execution_count": 21,
   "id": "3e3f0f0d-e58c-41b7-bf99-dc2c6442fe2a",
   "metadata": {},
   "outputs": [
    {
     "name": "stdout",
     "output_type": "stream",
     "text": [
      "\u001b[1m============================= test session starts ==============================\u001b[0m\n",
      "platform linux -- Python 3.8.10, pytest-7.1.3, pluggy-1.0.0 -- /home/juebrauer/.local/share/virtualenvs/central-kQZYXD-3/bin/python\n",
      "cachedir: .pytest_cache\n",
      "rootdir: /media/veracrypt1/09_src/central/032_pytest_einfuehrung, configfile: pytest9.ini\n",
      "plugins: anyio-3.5.0\n",
      "collected 8 items                                                              \u001b[0m\n",
      "\n",
      "m3.py::test1 \u001b[32mPASSED\u001b[0m\u001b[32m                                                      [ 12%]\u001b[0m\n",
      "m3.py::test2 \u001b[32mPASSED\u001b[0m\u001b[32m                                                      [ 25%]\u001b[0m\n",
      "m3.py::test3 \u001b[32mPASSED\u001b[0m\u001b[32m                                                      [ 37%]\u001b[0m\n",
      "m3.py::test4 \u001b[32mPASSED\u001b[0m\u001b[32m                                                      [ 50%]\u001b[0m\n",
      "m3.py::test5 \u001b[32mPASSED\u001b[0m\u001b[32m                                                      [ 62%]\u001b[0m\n",
      "m3.py::test6 \u001b[32mPASSED\u001b[0m\u001b[32m                                                      [ 75%]\u001b[0m\n",
      "m3.py::test7 \u001b[32mPASSED\u001b[0m\u001b[32m                                                      [ 87%]\u001b[0m\n",
      "m3.py::test8 \u001b[32mPASSED\u001b[0m\u001b[32m                                                      [100%]\u001b[0m\n",
      "\n",
      "\u001b[32m============================== \u001b[32m\u001b[1m8 passed\u001b[0m\u001b[32m in 0.03s\u001b[0m\u001b[32m ===============================\u001b[0m\n"
     ]
    }
   ],
   "source": [
    "!pytest -c pytest9.ini"
   ]
  },
  {
   "cell_type": "markdown",
   "id": "a56d3487-6071-4796-90d3-417accb5d75a",
   "metadata": {},
   "source": [
    "Für führen jetzt mal nur Tests mit Eingaben aus, die Kleinbuchstaben enthalten:"
   ]
  },
  {
   "cell_type": "code",
   "execution_count": 23,
   "id": "b41164e1-8c81-4ee5-aeff-3e2f49255da3",
   "metadata": {},
   "outputs": [
    {
     "name": "stdout",
     "output_type": "stream",
     "text": [
      "\u001b[1m============================= test session starts ==============================\u001b[0m\n",
      "platform linux -- Python 3.8.10, pytest-7.1.3, pluggy-1.0.0 -- /home/juebrauer/.local/share/virtualenvs/central-kQZYXD-3/bin/python\n",
      "cachedir: .pytest_cache\n",
      "rootdir: /media/veracrypt1/09_src/central/032_pytest_einfuehrung, configfile: pytest9.ini\n",
      "plugins: anyio-3.5.0\n",
      "collected 8 items / 5 deselected / 3 selected                                  \u001b[0m\n",
      "\n",
      "m3.py::test1 \u001b[32mPASSED\u001b[0m\u001b[32m                                                      [ 33%]\u001b[0m\n",
      "m3.py::test3 \u001b[32mPASSED\u001b[0m\u001b[32m                                                      [ 66%]\u001b[0m\n",
      "m3.py::test4 \u001b[32mPASSED\u001b[0m\u001b[32m                                                      [100%]\u001b[0m\n",
      "\n",
      "\u001b[32m======================= \u001b[32m\u001b[1m3 passed\u001b[0m, \u001b[33m5 deselected\u001b[0m\u001b[32m in 0.03s\u001b[0m\u001b[32m ========================\u001b[0m\n"
     ]
    }
   ],
   "source": [
    "!pytest -c pytest9.ini -m \"input_lowercase_only\""
   ]
  },
  {
   "cell_type": "markdown",
   "id": "696cb5d4-a7c2-470b-954b-b1b3270f5c3c",
   "metadata": {},
   "source": [
    "Jetzt führen wir mal Tests aus, die gar keine Buchstaben als Testinput enthalten:"
   ]
  },
  {
   "cell_type": "code",
   "execution_count": 24,
   "id": "e692330b-dc28-42eb-8df6-8f959c2209fa",
   "metadata": {},
   "outputs": [
    {
     "name": "stdout",
     "output_type": "stream",
     "text": [
      "\u001b[1m============================= test session starts ==============================\u001b[0m\n",
      "platform linux -- Python 3.8.10, pytest-7.1.3, pluggy-1.0.0 -- /home/juebrauer/.local/share/virtualenvs/central-kQZYXD-3/bin/python\n",
      "cachedir: .pytest_cache\n",
      "rootdir: /media/veracrypt1/09_src/central/032_pytest_einfuehrung, configfile: pytest9.ini\n",
      "plugins: anyio-3.5.0\n",
      "collected 8 items / 6 deselected / 2 selected                                  \u001b[0m\n",
      "\n",
      "m3.py::test5 \u001b[32mPASSED\u001b[0m\u001b[32m                                                      [ 50%]\u001b[0m\n",
      "m3.py::test7 \u001b[32mPASSED\u001b[0m\u001b[32m                                                      [100%]\u001b[0m\n",
      "\n",
      "\u001b[32m======================= \u001b[32m\u001b[1m2 passed\u001b[0m, \u001b[33m6 deselected\u001b[0m\u001b[32m in 0.02s\u001b[0m\u001b[32m ========================\u001b[0m\n"
     ]
    }
   ],
   "source": [
    "!pytest -c pytest9.ini -m \"input_no_letters\""
   ]
  },
  {
   "cell_type": "markdown",
   "id": "78dbedd1-cc79-406c-a112-3e1b9d444a26",
   "metadata": {},
   "source": [
    "Wir können jetzt auch Kombinationen von Markierungen durch boolesche Ausdrücke erzeugen:"
   ]
  },
  {
   "cell_type": "code",
   "execution_count": 27,
   "id": "68e8b722-a820-42b9-a235-73026260d5bc",
   "metadata": {},
   "outputs": [
    {
     "name": "stdout",
     "output_type": "stream",
     "text": [
      "\u001b[1m============================= test session starts ==============================\u001b[0m\n",
      "platform linux -- Python 3.8.10, pytest-7.1.3, pluggy-1.0.0 -- /home/juebrauer/.local/share/virtualenvs/central-kQZYXD-3/bin/python\n",
      "cachedir: .pytest_cache\n",
      "rootdir: /media/veracrypt1/09_src/central/032_pytest_einfuehrung, configfile: pytest9.ini\n",
      "plugins: anyio-3.5.0\n",
      "collected 8 items / 7 deselected / 1 selected                                  \u001b[0m\n",
      "\n",
      "m3.py::test7 \u001b[32mPASSED\u001b[0m\u001b[32m                                                      [100%]\u001b[0m\n",
      "\n",
      "\u001b[32m======================= \u001b[32m\u001b[1m1 passed\u001b[0m, \u001b[33m7 deselected\u001b[0m\u001b[32m in 0.02s\u001b[0m\u001b[32m ========================\u001b[0m\n"
     ]
    }
   ],
   "source": [
    "!pytest -c pytest9.ini -m \"input_no_letters and do_not_change_input\""
   ]
  },
  {
   "cell_type": "markdown",
   "id": "09fc6667-0575-45ea-82ea-613d2338ba53",
   "metadata": {},
   "source": [
    "Man sieht, dass jetzt durch die Kombination von zwei Markierungen (keine Buchstaben in der Eingabe UND Eingabe soll nicht verändert werden) nur noch ein Test verbleibt, der beide Klassen erfüllt."
   ]
  },
  {
   "cell_type": "markdown",
   "id": "abe5017c-85a8-41a1-b25b-7a6501d04b02",
   "metadata": {},
   "source": [
    "# Parametrisierung von Tests"
   ]
  },
  {
   "cell_type": "markdown",
   "id": "56a0a4f3-68e7-483e-9ce6-8307b9a908c9",
   "metadata": {},
   "source": [
    "Oft gerät man auf die Schiene, dass man Tests durch die berühmte *copy&paste*-Strategie vervielfältigt, weil man eine Funktion/Klasse mit unterschiedlichsten Eingaben testen möchte:"
   ]
  },
  {
   "cell_type": "code",
   "execution_count": 35,
   "id": "8d7cca15-1962-463a-a7f4-09d65cf2a34a",
   "metadata": {},
   "outputs": [
    {
     "name": "stdout",
     "output_type": "stream",
     "text": [
      "def ist_palindrom(s):\n",
      "    return s == s[::-1]\n",
      "\n",
      "\n",
      "def test_ist_palindrom1():\n",
      "    assert is_palindrome(\"\")\n",
      "    \n",
      "def test_ist_palindrom2():\n",
      "    assert is_palindrome(\"a\")\n",
      "    \n",
      "def test_ist_palindrom3():\n",
      "    assert not is_palindrome(\"abc\")\n",
      "\n",
      "def test_ist_palindrom4():\n",
      "    assert is_palindrome(\"aba\")\n",
      "    \n",
      "def test_ist_palindrom5():\n",
      "    assert is_palindrome(\"CDC\")\n",
      "\n",
      "def test_ist_palindrom6():\n",
      "    assert not is_palindrome(\"A BA\")\n",
      "\n",
      "\n"
     ]
    }
   ],
   "source": [
    "!cat p1.py"
   ]
  },
  {
   "cell_type": "code",
   "execution_count": 39,
   "id": "f8e3ef20-d60b-42d6-a9c7-b361692860c2",
   "metadata": {},
   "outputs": [
    {
     "name": "stdout",
     "output_type": "stream",
     "text": [
      "\u001b[1m============================= test session starts ==============================\u001b[0m\n",
      "platform linux -- Python 3.8.10, pytest-7.1.3, pluggy-1.0.0 -- /home/juebrauer/.local/share/virtualenvs/central-kQZYXD-3/bin/python\n",
      "cachedir: .pytest_cache\n",
      "rootdir: /media/veracrypt1/09_src/central/032_pytest_einfuehrung\n",
      "plugins: anyio-3.5.0\n",
      "collected 6 items                                                              \u001b[0m\n",
      "\n",
      "p1.py::test_ist_palindrom1 \u001b[32mPASSED\u001b[0m\u001b[32m                                        [ 16%]\u001b[0m\n",
      "p1.py::test_ist_palindrom2 \u001b[32mPASSED\u001b[0m\u001b[32m                                        [ 33%]\u001b[0m\n",
      "p1.py::test_ist_palindrom3 \u001b[32mPASSED\u001b[0m\u001b[32m                                        [ 50%]\u001b[0m\n",
      "p1.py::test_ist_palindrom4 \u001b[32mPASSED\u001b[0m\u001b[32m                                        [ 66%]\u001b[0m\n",
      "p1.py::test_ist_palindrom5 \u001b[32mPASSED\u001b[0m\u001b[32m                                        [ 83%]\u001b[0m\n",
      "p1.py::test_ist_palindrom6 \u001b[32mPASSED\u001b[0m\u001b[32m                                        [100%]\u001b[0m\n",
      "\n",
      "\u001b[32m============================== \u001b[32m\u001b[1m6 passed\u001b[0m\u001b[32m in 0.03s\u001b[0m\u001b[32m ===============================\u001b[0m\n"
     ]
    }
   ],
   "source": [
    "!pytest p1.py --verbose"
   ]
  },
  {
   "cell_type": "markdown",
   "id": "6ea922f3-f635-4c64-a9ea-eeb9c5131fb3",
   "metadata": {},
   "source": [
    "Um das zu verhindern, kann man Testfunktionen auch mit dem Dekorator `@pytest.mark.parametrize()` dekorieren, d.h. Testfunktionen paramtetrisieren und die Parameter dort in einer Liste angeben:"
   ]
  },
  {
   "cell_type": "code",
   "execution_count": 44,
   "id": "95e6f6d1-c70c-4a4b-b6af-4cfa9b25d7ac",
   "metadata": {},
   "outputs": [
    {
     "name": "stdout",
     "output_type": "stream",
     "text": [
      "\u001b[1m============================= test session starts ==============================\u001b[0m\n",
      "platform linux -- Python 3.8.10, pytest-7.1.3, pluggy-1.0.0 -- /home/juebrauer/.local/share/virtualenvs/central-kQZYXD-3/bin/python\n",
      "cachedir: .pytest_cache\n",
      "rootdir: /media/veracrypt1/09_src/central/032_pytest_einfuehrung\n",
      "plugins: anyio-3.5.0\n",
      "collected 6 items                                                              \u001b[0m\n",
      "\n",
      "p2.py::test_ist_palindrom[-True] \u001b[32mPASSED\u001b[0m\u001b[32m                                  [ 16%]\u001b[0m\n",
      "p2.py::test_ist_palindrom[a-True] \u001b[32mPASSED\u001b[0m\u001b[32m                                 [ 33%]\u001b[0m\n",
      "p2.py::test_ist_palindrom[abc-False] \u001b[32mPASSED\u001b[0m\u001b[32m                              [ 50%]\u001b[0m\n",
      "p2.py::test_ist_palindrom[aba-True] \u001b[32mPASSED\u001b[0m\u001b[32m                               [ 66%]\u001b[0m\n",
      "p2.py::test_ist_palindrom[CDC-True] \u001b[32mPASSED\u001b[0m\u001b[32m                               [ 83%]\u001b[0m\n",
      "p2.py::test_ist_palindrom[A BA-False] \u001b[32mPASSED\u001b[0m\u001b[32m                             [100%]\u001b[0m\n",
      "\n",
      "\u001b[32m============================== \u001b[32m\u001b[1m6 passed\u001b[0m\u001b[32m in 0.03s\u001b[0m\u001b[32m ===============================\u001b[0m\n"
     ]
    }
   ],
   "source": [
    "!pytest p2.py --verbose"
   ]
  },
  {
   "cell_type": "markdown",
   "id": "4fb2e776-7b49-458c-9015-700643d5dec9",
   "metadata": {},
   "source": [
    "# Parametrisierung mit mehreren Inputs"
   ]
  },
  {
   "cell_type": "code",
   "execution_count": 46,
   "id": "7e1080d0-02c5-45e8-952e-7ba0126569ec",
   "metadata": {},
   "outputs": [
    {
     "name": "stdout",
     "output_type": "stream",
     "text": [
      "import pytest\n",
      "\n",
      "def foo(a,b):\n",
      "    if a >= 0:\n",
      "        zk = \" \" * a\n",
      "    zk += b\n",
      "    return zk\n",
      "\n",
      "@pytest.marker.parametrize(\"a,b,erg\",\n",
      "                           [ (5,\"ABC\",\"     ABC\"),\n",
      "                             (0,\"ABC\",\"ABC\"),\n",
      "                             (1,\"ABC\",\" ABC\"),\n",
      "                             (-3,\"ABC\",\"ABC\"),\n",
      "                           ]\n",
      "                          )\n",
      "def test_foo(a,b,erg):\n",
      "    assert foo(a,b)==erg\n"
     ]
    }
   ],
   "source": [
    "!cat p3.py"
   ]
  },
  {
   "cell_type": "code",
   "execution_count": 49,
   "id": "aa339d29-46e4-443a-887d-486443de9070",
   "metadata": {},
   "outputs": [
    {
     "name": "stdout",
     "output_type": "stream",
     "text": [
      "\u001b[1m============================= test session starts ==============================\u001b[0m\n",
      "platform linux -- Python 3.8.10, pytest-7.1.3, pluggy-1.0.0 -- /home/juebrauer/.local/share/virtualenvs/central-kQZYXD-3/bin/python\n",
      "cachedir: .pytest_cache\n",
      "rootdir: /media/veracrypt1/09_src/central/032_pytest_einfuehrung\n",
      "plugins: anyio-3.5.0\n",
      "collected 4 items                                                              \u001b[0m\n",
      "\n",
      "p3.py::test_foo[5-ABC-     ABC] \u001b[32mPASSED\u001b[0m\u001b[32m                                   [ 25%]\u001b[0m\n",
      "p3.py::test_foo[0-ABC-ABC] \u001b[32mPASSED\u001b[0m\u001b[32m                                        [ 50%]\u001b[0m\n",
      "p3.py::test_foo[1-ABC- ABC] \u001b[32mPASSED\u001b[0m\u001b[32m                                       [ 75%]\u001b[0m\n",
      "p3.py::test_foo[-3-ABC-ABC] \u001b[32mPASSED\u001b[0m\u001b[32m                                       [100%]\u001b[0m\n",
      "\n",
      "\u001b[32m============================== \u001b[32m\u001b[1m4 passed\u001b[0m\u001b[32m in 0.03s\u001b[0m\u001b[32m ===============================\u001b[0m\n"
     ]
    }
   ],
   "source": [
    "!pytest p3.py --verbose"
   ]
  },
  {
   "cell_type": "markdown",
   "id": "c31594b3-7a32-4ddf-bd30-7e1d66e57a05",
   "metadata": {},
   "source": [
    "# Kombinationen von Parametern durchlaufen\n",
    "\n",
    "Wenn man viele mögliche Eingaben austesten möchte, kann man dies gut über `pytest` automatisieren, da wir durch das Stapeln des Dekorators `@pytest.mark.parametrize()` auch Kombinationen von Parametern durchlaufen können:"
   ]
  },
  {
   "cell_type": "code",
   "execution_count": 52,
   "id": "993c6e8a-67fa-453e-960d-09628708f5ef",
   "metadata": {},
   "outputs": [
    {
     "name": "stdout",
     "output_type": "stream",
     "text": [
      "import pytest\n",
      "\n",
      "def foo(a,b):\n",
      "    zk = \"\"\n",
      "    if a >= 0:\n",
      "        zk += \" \" * a\n",
      "    zk += b\n",
      "    return zk\n",
      "\n",
      "@pytest.mark.parametrize(\"a\", [-2,0,3,5])\n",
      "@pytest.mark.parametrize(\"b\", [\"A\", \"BC\"])                         \n",
      "def test_foo(a,b):\n",
      "    if a < 0:\n",
      "        assert foo(a,b)==b\n",
      "    if a >= 0:\n",
      "        assert foo(a,b)==\" \"*a + b\n"
     ]
    }
   ],
   "source": [
    "!cat p4.py"
   ]
  },
  {
   "cell_type": "code",
   "execution_count": 53,
   "id": "d98b96b6-49ce-44c5-8004-8d2f9fe5c82a",
   "metadata": {},
   "outputs": [
    {
     "name": "stdout",
     "output_type": "stream",
     "text": [
      "\u001b[1m============================= test session starts ==============================\u001b[0m\n",
      "platform linux -- Python 3.8.10, pytest-7.1.3, pluggy-1.0.0 -- /home/juebrauer/.local/share/virtualenvs/central-kQZYXD-3/bin/python\n",
      "cachedir: .pytest_cache\n",
      "rootdir: /media/veracrypt1/09_src/central/032_pytest_einfuehrung\n",
      "plugins: anyio-3.5.0\n",
      "collected 8 items                                                              \u001b[0m\n",
      "\n",
      "p4.py::test_foo[A--2] \u001b[32mPASSED\u001b[0m\u001b[32m                                             [ 12%]\u001b[0m\n",
      "p4.py::test_foo[A-0] \u001b[32mPASSED\u001b[0m\u001b[32m                                              [ 25%]\u001b[0m\n",
      "p4.py::test_foo[A-3] \u001b[32mPASSED\u001b[0m\u001b[32m                                              [ 37%]\u001b[0m\n",
      "p4.py::test_foo[A-5] \u001b[32mPASSED\u001b[0m\u001b[32m                                              [ 50%]\u001b[0m\n",
      "p4.py::test_foo[BC--2] \u001b[32mPASSED\u001b[0m\u001b[32m                                            [ 62%]\u001b[0m\n",
      "p4.py::test_foo[BC-0] \u001b[32mPASSED\u001b[0m\u001b[32m                                             [ 75%]\u001b[0m\n",
      "p4.py::test_foo[BC-3] \u001b[32mPASSED\u001b[0m\u001b[32m                                             [ 87%]\u001b[0m\n",
      "p4.py::test_foo[BC-5] \u001b[32mPASSED\u001b[0m\u001b[32m                                             [100%]\u001b[0m\n",
      "\n",
      "\u001b[32m============================== \u001b[32m\u001b[1m8 passed\u001b[0m\u001b[32m in 0.03s\u001b[0m\u001b[32m ===============================\u001b[0m\n"
     ]
    }
   ],
   "source": [
    "!pytest p4.py --verbose"
   ]
  },
  {
   "cell_type": "markdown",
   "id": "567de45b-b0d1-47e9-bdda-b8c80c7061be",
   "metadata": {},
   "source": [
    "# Parametrisieren von Testklassen\n",
    "\n",
    "Wir können auch Testklassen parametrisieren, um mehrere Testfunktionen innerhalb so einer Testklasse mit den gleichen Inputs zu durchlaufen.\n",
    "\n",
    "Dazu ein Quiz!\n",
    "\n",
    "Parametrisieren Sie die Testklasse `Test_bestellung` in `p5.py`, so dass die beiden Testfunktionen mit mehren Kunden/Bestellungen durchgetestet werden!\n",
    "\n",
    "Lösungsidee siehe:\n",
    "\n",
    "https://youtrack.jetbrains.com/issue/PY-33483\n",
    "\n",
    "oder\n",
    "\n",
    "https://stackoverflow.com/questions/38729007/parametrize-class-tests-with-pytest/56070943#56070943"
   ]
  },
  {
   "cell_type": "code",
   "execution_count": 29,
   "id": "ad739acc-841e-477a-b782-844d451f3b45",
   "metadata": {},
   "outputs": [
    {
     "name": "stdout",
     "output_type": "stream",
     "text": [
      "class bestellung:\n",
      "    \n",
      "    def __init__(self, name, vorname, liste : list):\n",
      "        self.name = name\n",
      "        self.vorname = vorname\n",
      "        self.liste = liste\n",
      "        \n",
      "    def alles_klein(self):\n",
      "        self.vorname = self.vorname.lower()\n",
      "        self.name = self.name.lower()\n",
      "        for i in range(0,len(self.liste)):            \n",
      "            self.liste[i] = self.liste[i].lower()\n",
      "            \n",
      "    def alles_gross(self):\n",
      "        self.vorname = self.vorname.upper()\n",
      "        self.name = self.name.upper()\n",
      "        for i in range(0,len(self.liste)):            \n",
      "            self.liste[i] = self.liste[i].upper()\n",
      "\n",
      "    \n",
      "class Test_bestellung:\n",
      "    \n",
      "    def test_alles_klein(self):\n",
      "        \n",
      "        # Arrange\n",
      "        b = bestellung(\"brauer\", \"jürgen\", [\"Pizza Hawai\", \"Chefsalat\", \"Tiramisu\"])\n",
      "        \n",
      "        # Act\n",
      "        b.alles_klein()\n",
      "        \n",
      "        # Assert\n",
      "        assert b.name == \"brauer\"\n",
      "        assert b.vorname == \"jürgen\"\n",
      "        assert b.liste == [\"pizza hawai\", \"chefsalat\", \"tiramisu\"]\n",
      "        \n",
      "        \n",
      "    def test_alles_gross(self):\n",
      "        \n",
      "        # Arrange\n",
      "        b = bestellung(\"brauer\", \"jürgen\", [\"Pizza Hawai\", \"Chefsalat\", \"Tiramisu\"])\n",
      "        \n",
      "        # Act\n",
      "        b.alles_gross()\n",
      "        \n",
      "        # Assert\n",
      "        assert b.name == \"BRAUER\"\n",
      "        assert b.vorname == \"JÜRGEN\"\n",
      "        assert b.liste == [\"PIZZA HAWAI\", \"CHEFSALAT\", \"TIRAMISU\"]\n"
     ]
    }
   ],
   "source": [
    "!cat p5.py"
   ]
  },
  {
   "cell_type": "code",
   "execution_count": 1,
   "id": "6ae172b1-6326-4990-b5c3-a2b5281d9061",
   "metadata": {},
   "outputs": [],
   "source": [
    "from p5 import bestellung"
   ]
  },
  {
   "cell_type": "code",
   "execution_count": 2,
   "id": "f7daeb4e-aa36-4f3f-b6ca-c5759598b67f",
   "metadata": {},
   "outputs": [],
   "source": [
    "b = bestellung(\"brauer\", \"jürgen\", [\"Pizza Hawai\", \"Chefsalat\", \"Tiramisu\"])"
   ]
  },
  {
   "cell_type": "code",
   "execution_count": 3,
   "id": "ae548129-a045-419b-a25c-c04d7ae4e7a5",
   "metadata": {},
   "outputs": [],
   "source": [
    "b.alles_klein()"
   ]
  },
  {
   "cell_type": "code",
   "execution_count": 4,
   "id": "e920baad-c080-4cd6-bbb7-e3e09833d0f6",
   "metadata": {},
   "outputs": [
    {
     "data": {
      "text/plain": [
       "'brauer'"
      ]
     },
     "execution_count": 4,
     "metadata": {},
     "output_type": "execute_result"
    }
   ],
   "source": [
    "b.name"
   ]
  },
  {
   "cell_type": "code",
   "execution_count": 5,
   "id": "115960df-3463-4163-99eb-d204915f52b9",
   "metadata": {},
   "outputs": [],
   "source": [
    "b.alles_gross()"
   ]
  },
  {
   "cell_type": "code",
   "execution_count": 6,
   "id": "9a0e6d26-4fd2-459d-8e7e-0e595f133db5",
   "metadata": {},
   "outputs": [
    {
     "data": {
      "text/plain": [
       "'BRAUER'"
      ]
     },
     "execution_count": 6,
     "metadata": {},
     "output_type": "execute_result"
    }
   ],
   "source": [
    "b.name"
   ]
  },
  {
   "cell_type": "markdown",
   "id": "01f77a4b-eb32-4c7a-85af-c501cfdc022a",
   "metadata": {},
   "source": [
    "Wir führen jetzt die Tests durch (ohne Parametrisierung):"
   ]
  },
  {
   "cell_type": "code",
   "execution_count": 7,
   "id": "b6f0296d-efa2-418b-8038-b8e196af5bd0",
   "metadata": {},
   "outputs": [
    {
     "name": "stdout",
     "output_type": "stream",
     "text": [
      "\u001b[1m============================= test session starts ==============================\u001b[0m\n",
      "platform linux -- Python 3.8.10, pytest-7.1.3, pluggy-1.0.0 -- /home/juebrauer/.local/share/virtualenvs/central-kQZYXD-3/bin/python\n",
      "cachedir: .pytest_cache\n",
      "rootdir: /media/veracrypt1/09_src/central/032_pytest_einfuehrung\n",
      "plugins: anyio-3.5.0\n",
      "collected 2 items                                                              \u001b[0m\n",
      "\n",
      "p5.py::Test_bestellung::test_alles_klein \u001b[32mPASSED\u001b[0m\u001b[32m                          [ 50%]\u001b[0m\n",
      "p5.py::Test_bestellung::test_alles_gross \u001b[32mPASSED\u001b[0m\u001b[32m                          [100%]\u001b[0m\n",
      "\n",
      "\u001b[32m============================== \u001b[32m\u001b[1m2 passed\u001b[0m\u001b[32m in 0.03s\u001b[0m\u001b[32m ===============================\u001b[0m\n"
     ]
    }
   ],
   "source": [
    "!pytest p5.py --verbose"
   ]
  },
  {
   "cell_type": "code",
   "execution_count": 19,
   "id": "1335cbc0-688e-4785-a5fc-894f296754be",
   "metadata": {},
   "outputs": [
    {
     "name": "stdout",
     "output_type": "stream",
     "text": [
      "\u001b[1m============================= test session starts ==============================\u001b[0m\n",
      "platform linux -- Python 3.8.10, pytest-7.1.3, pluggy-1.0.0 -- /home/juebrauer/.local/share/virtualenvs/central-kQZYXD-3/bin/python\n",
      "cachedir: .pytest_cache\n",
      "rootdir: /media/veracrypt1/09_src/central/032_pytest_einfuehrung\n",
      "plugins: anyio-3.5.0\n",
      "collected 4 items                                                              \u001b[0m\n",
      "\n",
      "p6.py::Test_bestellung::test_alles_klein[brauer-j\\xfcrgen-l0] \u001b[32mPASSED\u001b[0m\u001b[32m     [ 25%]\u001b[0m\n",
      "p6.py::Test_bestellung::test_alles_klein[simpson-homer-l1] \u001b[32mPASSED\u001b[0m\u001b[32m        [ 50%]\u001b[0m\n",
      "p6.py::Test_bestellung::test_alles_gross[brauer-j\\xfcrgen-l0] \u001b[32mPASSED\u001b[0m\u001b[32m     [ 75%]\u001b[0m\n",
      "p6.py::Test_bestellung::test_alles_gross[simpson-homer-l1] \u001b[32mPASSED\u001b[0m\u001b[32m        [100%]\u001b[0m\n",
      "\n",
      "\u001b[32m============================== \u001b[32m\u001b[1m4 passed\u001b[0m\u001b[32m in 0.03s\u001b[0m\u001b[32m ===============================\u001b[0m\n"
     ]
    }
   ],
   "source": [
    "!pytest p6.py --verbose"
   ]
  },
  {
   "cell_type": "markdown",
   "id": "abad5654-3f6d-411a-8e00-8e311667b728",
   "metadata": {},
   "source": [
    "# Ausgaben der Funktionen und Testfunktionen sehen\n",
    "\n",
    "Wie kann man auch die Ausgaben der Funktionen und Testfunktionen sehen?\n",
    "\n",
    "Defaultmäßig erfolgt die Ausgabe von `print()`-Statements nur dann, wenn ein Test fehlschlägt:"
   ]
  },
  {
   "cell_type": "code",
   "execution_count": 49,
   "id": "f76f20b9-c577-4310-bb27-dafe7d02e839",
   "metadata": {},
   "outputs": [
    {
     "name": "stdout",
     "output_type": "stream",
     "text": [
      "def foo(a,b,c):\n",
      "    print(\"Ausgabe in foo()\")\n",
      "    return a+2*b+3*c\n",
      "\n",
      "def test_foo1():\n",
      "    print(\"Ausgabe in test_foo1()\")\n",
      "    assert foo(1,2,3)==14\n",
      "    \n",
      "def test_foo2():\n",
      "    print(\"Ausgabe in test_foo2()\")\n",
      "    assert foo(2,2,2)==0\n"
     ]
    }
   ],
   "source": [
    "!cat o1.py"
   ]
  },
  {
   "cell_type": "code",
   "execution_count": 50,
   "id": "d24d332f-9ea6-455f-9f38-34f4151fc6d6",
   "metadata": {},
   "outputs": [
    {
     "name": "stdout",
     "output_type": "stream",
     "text": [
      "\u001b[1m============================= test session starts ==============================\u001b[0m\n",
      "platform linux -- Python 3.8.10, pytest-7.1.3, pluggy-1.0.0 -- /home/juebrauer/.local/share/virtualenvs/central-kQZYXD-3/bin/python\n",
      "cachedir: .pytest_cache\n",
      "rootdir: /media/veracrypt1/09_src/central/032_pytest_einfuehrung\n",
      "plugins: anyio-3.5.0\n",
      "collected 2 items                                                              \u001b[0m\n",
      "\n",
      "o1.py::test_foo1 \u001b[32mPASSED\u001b[0m\u001b[32m                                                  [ 50%]\u001b[0m\n",
      "o1.py::test_foo2 \u001b[31mFAILED\u001b[0m\u001b[31m                                                  [100%]\u001b[0m\n",
      "\n",
      "=================================== FAILURES ===================================\n",
      "\u001b[31m\u001b[1m__________________________________ test_foo2 ___________________________________\u001b[0m\n",
      "\n",
      "    \u001b[94mdef\u001b[39;49;00m \u001b[92mtest_foo2\u001b[39;49;00m():\n",
      "        \u001b[96mprint\u001b[39;49;00m(\u001b[33m\"\u001b[39;49;00m\u001b[33mAusgabe in test_foo2()\u001b[39;49;00m\u001b[33m\"\u001b[39;49;00m)\n",
      ">       \u001b[94massert\u001b[39;49;00m foo(\u001b[94m2\u001b[39;49;00m,\u001b[94m2\u001b[39;49;00m,\u001b[94m2\u001b[39;49;00m)==\u001b[94m0\u001b[39;49;00m\n",
      "\u001b[1m\u001b[31mE       assert 12 == 0\u001b[0m\n",
      "\u001b[1m\u001b[31mE        +  where 12 = foo(2, 2, 2)\u001b[0m\n",
      "\n",
      "\u001b[1m\u001b[31mo1.py\u001b[0m:11: AssertionError\n",
      "----------------------------- Captured stdout call -----------------------------\n",
      "Ausgabe in test_foo2()\n",
      "Ausgabe in foo()\n",
      "=========================== short test summary info ============================\n",
      "FAILED o1.py::test_foo2 - assert 12 == 0\n",
      "\u001b[31m========================= \u001b[31m\u001b[1m1 failed\u001b[0m, \u001b[32m1 passed\u001b[0m\u001b[31m in 0.08s\u001b[0m\u001b[31m ==========================\u001b[0m\n"
     ]
    }
   ],
   "source": [
    "!pytest o1.py -v"
   ]
  },
  {
   "cell_type": "markdown",
   "id": "a7d38efc-477b-45a9-a25e-3f588e285b4b",
   "metadata": {},
   "source": [
    "Mit dem Schalter `-s` der äquivalent ist zu `--capture=no`, erfolgt kein Capturing der Ausgaben, d.h. auch bei Tests die durchlaufen sehen wir dann die Ausgabe:"
   ]
  },
  {
   "cell_type": "code",
   "execution_count": 51,
   "id": "9174095e-efc8-422f-8f90-5410d29f3fc2",
   "metadata": {},
   "outputs": [
    {
     "name": "stdout",
     "output_type": "stream",
     "text": [
      "\u001b[1m============================= test session starts ==============================\u001b[0m\n",
      "platform linux -- Python 3.8.10, pytest-7.1.3, pluggy-1.0.0 -- /home/juebrauer/.local/share/virtualenvs/central-kQZYXD-3/bin/python\n",
      "cachedir: .pytest_cache\n",
      "rootdir: /media/veracrypt1/09_src/central/032_pytest_einfuehrung\n",
      "plugins: anyio-3.5.0\n",
      "collected 2 items                                                              \u001b[0m\n",
      "\n",
      "o1.py::test_foo1 Ausgabe in test_foo1()\n",
      "Ausgabe in foo()\n",
      "\u001b[32mPASSED\u001b[0m\n",
      "o1.py::test_foo2 Ausgabe in test_foo2()\n",
      "Ausgabe in foo()\n",
      "\u001b[31mFAILED\u001b[0m\n",
      "\n",
      "=================================== FAILURES ===================================\n",
      "\u001b[31m\u001b[1m__________________________________ test_foo2 ___________________________________\u001b[0m\n",
      "\n",
      "    \u001b[94mdef\u001b[39;49;00m \u001b[92mtest_foo2\u001b[39;49;00m():\n",
      "        \u001b[96mprint\u001b[39;49;00m(\u001b[33m\"\u001b[39;49;00m\u001b[33mAusgabe in test_foo2()\u001b[39;49;00m\u001b[33m\"\u001b[39;49;00m)\n",
      ">       \u001b[94massert\u001b[39;49;00m foo(\u001b[94m2\u001b[39;49;00m,\u001b[94m2\u001b[39;49;00m,\u001b[94m2\u001b[39;49;00m)==\u001b[94m0\u001b[39;49;00m\n",
      "\u001b[1m\u001b[31mE       assert 12 == 0\u001b[0m\n",
      "\u001b[1m\u001b[31mE        +  where 12 = foo(2, 2, 2)\u001b[0m\n",
      "\n",
      "\u001b[1m\u001b[31mo1.py\u001b[0m:11: AssertionError\n",
      "=========================== short test summary info ============================\n",
      "FAILED o1.py::test_foo2 - assert 12 == 0\n",
      "\u001b[31m========================= \u001b[31m\u001b[1m1 failed\u001b[0m, \u001b[32m1 passed\u001b[0m\u001b[31m in 0.07s\u001b[0m\u001b[31m ==========================\u001b[0m\n"
     ]
    }
   ],
   "source": [
    "!pytest o1.py -vs"
   ]
  },
  {
   "cell_type": "markdown",
   "id": "4832b80f-7d79-4420-b788-a23da6cdd7e5",
   "metadata": {},
   "source": [
    "# Header und Summary Ausgaben von `pytest` weglassen"
   ]
  },
  {
   "cell_type": "markdown",
   "id": "ea5d72da-4bd1-49d5-8154-445a1a28781d",
   "metadata": {},
   "source": [
    "Normale Ausgabe:"
   ]
  },
  {
   "cell_type": "code",
   "execution_count": 53,
   "id": "bc3f0892-b083-4248-a747-51d5b3018a8b",
   "metadata": {},
   "outputs": [
    {
     "name": "stdout",
     "output_type": "stream",
     "text": [
      "\u001b[1m============================= test session starts ==============================\u001b[0m\n",
      "platform linux -- Python 3.8.10, pytest-7.1.3, pluggy-1.0.0\n",
      "rootdir: /media/veracrypt1/09_src/central/032_pytest_einfuehrung\n",
      "plugins: anyio-3.5.0\n",
      "collected 2 items                                                              \u001b[0m\n",
      "\n",
      "o1.py \u001b[32m.\u001b[0m\u001b[31mF\u001b[0m\u001b[31m                                                                 [100%]\u001b[0m\n",
      "\n",
      "=================================== FAILURES ===================================\n",
      "\u001b[31m\u001b[1m__________________________________ test_foo2 ___________________________________\u001b[0m\n",
      "\n",
      "    \u001b[94mdef\u001b[39;49;00m \u001b[92mtest_foo2\u001b[39;49;00m():\n",
      "        \u001b[96mprint\u001b[39;49;00m(\u001b[33m\"\u001b[39;49;00m\u001b[33mAusgabe in test_foo2()\u001b[39;49;00m\u001b[33m\"\u001b[39;49;00m)\n",
      ">       \u001b[94massert\u001b[39;49;00m foo(\u001b[94m2\u001b[39;49;00m,\u001b[94m2\u001b[39;49;00m,\u001b[94m2\u001b[39;49;00m)==\u001b[94m0\u001b[39;49;00m\n",
      "\u001b[1m\u001b[31mE       assert 12 == 0\u001b[0m\n",
      "\u001b[1m\u001b[31mE        +  where 12 = foo(2, 2, 2)\u001b[0m\n",
      "\n",
      "\u001b[1m\u001b[31mo1.py\u001b[0m:11: AssertionError\n",
      "----------------------------- Captured stdout call -----------------------------\n",
      "Ausgabe in test_foo2()\n",
      "Ausgabe in foo()\n",
      "=========================== short test summary info ============================\n",
      "FAILED o1.py::test_foo2 - assert 12 == 0\n",
      "\u001b[31m========================= \u001b[31m\u001b[1m1 failed\u001b[0m, \u001b[32m1 passed\u001b[0m\u001b[31m in 0.07s\u001b[0m\u001b[31m ==========================\u001b[0m\n"
     ]
    }
   ],
   "source": [
    "!pytest o1.py"
   ]
  },
  {
   "cell_type": "markdown",
   "id": "77701dd9-ec5a-438e-9c3c-20a5bccbb1d4",
   "metadata": {},
   "source": [
    "Weglassen des Headers mit Plattform-Infos etc."
   ]
  },
  {
   "cell_type": "code",
   "execution_count": 54,
   "id": "e300338b-66db-4c76-bb07-475de4f9d73e",
   "metadata": {},
   "outputs": [
    {
     "name": "stdout",
     "output_type": "stream",
     "text": [
      "\u001b[1m============================= test session starts ==============================\u001b[0m\n",
      "collected 2 items                                                              \u001b[0m\n",
      "\n",
      "o1.py \u001b[32m.\u001b[0m\u001b[31mF\u001b[0m\u001b[31m                                                                 [100%]\u001b[0m\n",
      "\n",
      "=================================== FAILURES ===================================\n",
      "\u001b[31m\u001b[1m__________________________________ test_foo2 ___________________________________\u001b[0m\n",
      "\n",
      "    \u001b[94mdef\u001b[39;49;00m \u001b[92mtest_foo2\u001b[39;49;00m():\n",
      "        \u001b[96mprint\u001b[39;49;00m(\u001b[33m\"\u001b[39;49;00m\u001b[33mAusgabe in test_foo2()\u001b[39;49;00m\u001b[33m\"\u001b[39;49;00m)\n",
      ">       \u001b[94massert\u001b[39;49;00m foo(\u001b[94m2\u001b[39;49;00m,\u001b[94m2\u001b[39;49;00m,\u001b[94m2\u001b[39;49;00m)==\u001b[94m0\u001b[39;49;00m\n",
      "\u001b[1m\u001b[31mE       assert 12 == 0\u001b[0m\n",
      "\u001b[1m\u001b[31mE        +  where 12 = foo(2, 2, 2)\u001b[0m\n",
      "\n",
      "\u001b[1m\u001b[31mo1.py\u001b[0m:11: AssertionError\n",
      "----------------------------- Captured stdout call -----------------------------\n",
      "Ausgabe in test_foo2()\n",
      "Ausgabe in foo()\n",
      "=========================== short test summary info ============================\n",
      "FAILED o1.py::test_foo2 - assert 12 == 0\n",
      "\u001b[31m========================= \u001b[31m\u001b[1m1 failed\u001b[0m, \u001b[32m1 passed\u001b[0m\u001b[31m in 0.07s\u001b[0m\u001b[31m ==========================\u001b[0m\n"
     ]
    }
   ],
   "source": [
    "!pytest o1.py --no-header"
   ]
  },
  {
   "cell_type": "markdown",
   "id": "06326756-5c27-4f0b-b0fc-d0dd34ffdf90",
   "metadata": {},
   "source": [
    "Weglassen der *short test summary info*:"
   ]
  },
  {
   "cell_type": "code",
   "execution_count": 59,
   "id": "4d822bcc-8780-4c5a-a9ec-8f4a218bb4d2",
   "metadata": {},
   "outputs": [
    {
     "name": "stdout",
     "output_type": "stream",
     "text": [
      "\u001b[1m============================= test session starts ==============================\u001b[0m\n",
      "platform linux -- Python 3.8.10, pytest-7.1.3, pluggy-1.0.0\n",
      "rootdir: /media/veracrypt1/09_src/central/032_pytest_einfuehrung\n",
      "plugins: anyio-3.5.0\n",
      "collected 2 items                                                              \u001b[0m\n",
      "\n",
      "o1.py \u001b[32m.\u001b[0m\u001b[31mF\u001b[0m\u001b[31m                                                                 [100%]\u001b[0m\n",
      "\n",
      "\u001b[31m========================= \u001b[31m\u001b[1m1 failed\u001b[0m, \u001b[32m1 passed\u001b[0m\u001b[31m in 0.03s\u001b[0m\u001b[31m ==========================\u001b[0m\n"
     ]
    }
   ],
   "source": [
    "!pytest o1.py --no-summary"
   ]
  },
  {
   "cell_type": "markdown",
   "id": "d920c9d3-4cdc-4b49-9609-52b572868617",
   "metadata": {},
   "source": [
    "Sowohl Header als auch Summary weglassen:"
   ]
  },
  {
   "cell_type": "code",
   "execution_count": 60,
   "id": "0401ebb5-5fd3-4b37-85e3-355a8c09caf0",
   "metadata": {},
   "outputs": [
    {
     "name": "stdout",
     "output_type": "stream",
     "text": [
      "\u001b[1m============================= test session starts ==============================\u001b[0m\n",
      "collected 2 items                                                              \u001b[0m\n",
      "\n",
      "o1.py \u001b[32m.\u001b[0m\u001b[31mF\u001b[0m\u001b[31m                                                                 [100%]\u001b[0m\n",
      "\n",
      "\u001b[31m========================= \u001b[31m\u001b[1m1 failed\u001b[0m, \u001b[32m1 passed\u001b[0m\u001b[31m in 0.03s\u001b[0m\u001b[31m ==========================\u001b[0m\n"
     ]
    }
   ],
   "source": [
    "!pytest o1.py --no-header --no-summary"
   ]
  },
  {
   "cell_type": "markdown",
   "id": "7dc32bac-7c6e-4c4b-8754-8d8dfb039009",
   "metadata": {},
   "source": [
    "# `pytest`-Ausgabe als HTML Datei"
   ]
  },
  {
   "cell_type": "code",
   "execution_count": 61,
   "id": "95ee144d-e02d-4afe-bd3d-93d408832e1d",
   "metadata": {},
   "outputs": [
    {
     "name": "stdout",
     "output_type": "stream",
     "text": [
      "\u001b[1m============================= test session starts ==============================\u001b[0m\n",
      "platform linux -- Python 3.8.10, pytest-7.1.3, pluggy-1.0.0\n",
      "rootdir: /media/veracrypt1/09_src/central/032_pytest_einfuehrung\n",
      "plugins: anyio-3.5.0\n",
      "collected 2 items                                                              \u001b[0m\n",
      "\n",
      "o1.py \u001b[32m.\u001b[0m\u001b[31mF\u001b[0m\u001b[31m                                                                 [100%]\u001b[0m\n",
      "\n",
      "=================================== FAILURES ===================================\n",
      "\u001b[31m\u001b[1m__________________________________ test_foo2 ___________________________________\u001b[0m\n",
      "\n",
      "    \u001b[94mdef\u001b[39;49;00m \u001b[92mtest_foo2\u001b[39;49;00m():\n",
      "        \u001b[96mprint\u001b[39;49;00m(\u001b[33m\"\u001b[39;49;00m\u001b[33mAusgabe in test_foo2()\u001b[39;49;00m\u001b[33m\"\u001b[39;49;00m)\n",
      ">       \u001b[94massert\u001b[39;49;00m foo(\u001b[94m2\u001b[39;49;00m,\u001b[94m2\u001b[39;49;00m,\u001b[94m2\u001b[39;49;00m)==\u001b[94m0\u001b[39;49;00m\n",
      "\u001b[1m\u001b[31mE       assert 12 == 0\u001b[0m\n",
      "\u001b[1m\u001b[31mE        +  where 12 = foo(2, 2, 2)\u001b[0m\n",
      "\n",
      "\u001b[1m\u001b[31mo1.py\u001b[0m:11: AssertionError\n",
      "----------------------------- Captured stdout call -----------------------------\n",
      "Ausgabe in test_foo2()\n",
      "Ausgabe in foo()\n",
      "=========================== short test summary info ============================\n",
      "FAILED o1.py::test_foo2 - assert 12 == 0\n",
      "\u001b[31m========================= \u001b[31m\u001b[1m1 failed\u001b[0m, \u001b[32m1 passed\u001b[0m\u001b[31m in 0.07s\u001b[0m\u001b[31m ==========================\u001b[0m\n"
     ]
    }
   ],
   "source": [
    "!pytest o1.py"
   ]
  },
  {
   "cell_type": "markdown",
   "id": "f5276975-338f-483d-bb40-bd27b98941b1",
   "metadata": {},
   "source": [
    "Zuerst müssen wir das Plugin `pytest-html` installieren:"
   ]
  },
  {
   "cell_type": "code",
   "execution_count": 67,
   "id": "27442552-4bf8-4859-89e3-814d921e65c5",
   "metadata": {},
   "outputs": [],
   "source": [
    "#!pip instal pytest-html"
   ]
  },
  {
   "cell_type": "markdown",
   "id": "759a6227-1f23-4d2f-a4cf-d53bb6ab1295",
   "metadata": {},
   "source": [
    "Dann haben wir einen neuen Schalter `--html` zur Verfügung:"
   ]
  },
  {
   "cell_type": "code",
   "execution_count": 71,
   "id": "70c71b79-b177-429a-ade0-5b8283b31494",
   "metadata": {},
   "outputs": [
    {
     "name": "stdout",
     "output_type": "stream",
     "text": [
      "\u001b[1m============================= test session starts ==============================\u001b[0m\n",
      "platform linux -- Python 3.8.10, pytest-7.1.3, pluggy-1.0.0 -- /home/juebrauer/.local/share/virtualenvs/central-kQZYXD-3/bin/python\n",
      "cachedir: .pytest_cache\n",
      "metadata: {'Python': '3.8.10', 'Platform': 'Linux-5.15.0-46-generic-x86_64-with-glibc2.29', 'Packages': {'pytest': '7.1.3', 'py': '1.11.0', 'pluggy': '1.0.0'}, 'Plugins': {'metadata': '2.0.2', 'html': '3.1.1', 'anyio': '3.5.0'}}\n",
      "rootdir: /media/veracrypt1/09_src/central/032_pytest_einfuehrung\n",
      "plugins: metadata-2.0.2, html-3.1.1, anyio-3.5.0\n",
      "collected 2 items                                                              \u001b[0m\n",
      "\n",
      "o1.py::test_foo1 \u001b[32mPASSED\u001b[0m\u001b[32m                                                  [ 50%]\u001b[0m\n",
      "o1.py::test_foo2 \u001b[31mFAILED\u001b[0m\u001b[31m                                                  [100%]\u001b[0m\n",
      "\n",
      "=================================== FAILURES ===================================\n",
      "\u001b[31m\u001b[1m__________________________________ test_foo2 ___________________________________\u001b[0m\n",
      "\n",
      "    \u001b[94mdef\u001b[39;49;00m \u001b[92mtest_foo2\u001b[39;49;00m():\n",
      "        \u001b[96mprint\u001b[39;49;00m(\u001b[33m\"\u001b[39;49;00m\u001b[33mAusgabe in test_foo2()\u001b[39;49;00m\u001b[33m\"\u001b[39;49;00m)\n",
      ">       \u001b[94massert\u001b[39;49;00m foo(\u001b[94m2\u001b[39;49;00m,\u001b[94m2\u001b[39;49;00m,\u001b[94m2\u001b[39;49;00m)==\u001b[94m0\u001b[39;49;00m\n",
      "\u001b[1m\u001b[31mE       assert 12 == 0\u001b[0m\n",
      "\u001b[1m\u001b[31mE        +  where 12 = foo(2, 2, 2)\u001b[0m\n",
      "\n",
      "\u001b[1m\u001b[31mo1.py\u001b[0m:11: AssertionError\n",
      "----------------------------- Captured stdout call -----------------------------\n",
      "Ausgabe in test_foo2()\n",
      "Ausgabe in foo()\n",
      "- generated html file: file:///media/veracrypt1/09_src/central/032_pytest_einfuehrung/report1.html -\n",
      "=========================== short test summary info ============================\n",
      "FAILED o1.py::test_foo2 - assert 12 == 0\n",
      "\u001b[31m========================= \u001b[31m\u001b[1m1 failed\u001b[0m, \u001b[32m1 passed\u001b[0m\u001b[31m in 0.07s\u001b[0m\u001b[31m ==========================\u001b[0m\n"
     ]
    }
   ],
   "source": [
    "!pytest o1.py -vv --html=report1.html"
   ]
  },
  {
   "cell_type": "markdown",
   "id": "bf67cdc6-c2ed-4bcb-8e76-530b2653a6eb",
   "metadata": {},
   "source": [
    "# Code-Abdeckung ermitteln"
   ]
  },
  {
   "cell_type": "code",
   "execution_count": 1,
   "id": "004339c9-6e1f-43d2-80d1-fbd5fafc48fc",
   "metadata": {},
   "outputs": [
    {
     "name": "stdout",
     "output_type": "stream",
     "text": [
      "def f1(x,y):\n",
      "    return x+y\n",
      "\n",
      "def f2(x,y):\n",
      "    return x*y\n",
      "\n",
      "def f3(x,y):\n",
      "    return x**2 + y**2\n",
      "\n",
      "def test_f1():\n",
      "    assert f1(2,9) == 11\n",
      "\n"
     ]
    }
   ],
   "source": [
    "!cat cov1.py"
   ]
  },
  {
   "cell_type": "markdown",
   "id": "77b9ae9d-538b-4f21-babd-0ace70f7f3b3",
   "metadata": {},
   "source": [
    "Installtion des Coverage-Plugins:"
   ]
  },
  {
   "cell_type": "code",
   "execution_count": 84,
   "id": "d7cf91c4-c9f9-4c50-b1c1-d0568ba46b9b",
   "metadata": {},
   "outputs": [],
   "source": [
    "#!pip install pytest-cov"
   ]
  },
  {
   "cell_type": "markdown",
   "id": "40f72383-9f1c-4199-8ad4-d8c806aaa875",
   "metadata": {},
   "source": [
    "Ist das Paket schon installiert?"
   ]
  },
  {
   "cell_type": "code",
   "execution_count": 4,
   "id": "63ebe10c-a2d0-4e30-b367-5efaeec7bf4a",
   "metadata": {},
   "outputs": [
    {
     "name": "stdout",
     "output_type": "stream",
     "text": [
      "pytest                        7.1.3              \n",
      "pytest-cov                    3.0.0              \n",
      "pytest-html                   3.1.1              \n",
      "pytest-metadata               2.0.2              \n"
     ]
    }
   ],
   "source": [
    "!pip list | grep pytest"
   ]
  },
  {
   "cell_type": "markdown",
   "id": "c00f312f-4577-48d3-8f0a-e62c5ad01f7e",
   "metadata": {},
   "source": [
    "Dann können wir eine Codeabdeckung (über Anweisungen) folgendermaßen berechnen lassen:"
   ]
  },
  {
   "cell_type": "code",
   "execution_count": 11,
   "id": "5e6642ac-3ca1-4cee-aa64-b18cdc11b590",
   "metadata": {},
   "outputs": [
    {
     "name": "stdout",
     "output_type": "stream",
     "text": [
      "\u001b[1m============================= test session starts ==============================\u001b[0m\n",
      "platform linux -- Python 3.8.10, pytest-7.1.3, pluggy-1.0.0\n",
      "rootdir: /media/veracrypt1/09_src/central/032_pytest_einfuehrung\n",
      "plugins: metadata-2.0.2, html-3.1.1, cov-3.0.0, anyio-3.5.0\n",
      "collected 1 item                                                               \u001b[0m\n",
      "\n",
      "cov1.py \u001b[32m.\u001b[0m\u001b[32m                                                                [100%]\u001b[0m\n",
      "\n",
      "---------- coverage: platform linux, python 3.8.10-final-0 -----------\n",
      "Name      Stmts   Miss  Cover\n",
      "-----------------------------\n",
      "cov1.py      11      5    55%\n",
      "-----------------------------\n",
      "TOTAL        11      5    55%\n",
      "\n",
      "\n",
      "\u001b[32m============================== \u001b[32m\u001b[1m1 passed\u001b[0m\u001b[32m in 0.03s\u001b[0m\u001b[32m ===============================\u001b[0m\n"
     ]
    }
   ],
   "source": [
    "!pytest cov1.py --cov"
   ]
  },
  {
   "cell_type": "markdown",
   "id": "0a4bccfe-79d8-4186-8669-98d3db39a2ec",
   "metadata": {},
   "source": [
    "Das schöne an dem Plugin ist, dass man auch einen HTML-Report erzeugen kann, der sehr übersichtlich ist und einem pro Codedatei nochmal mittels Farben zeigt, welche Codezeilen abgedeckt wurden durch die Tests und welche nicht:"
   ]
  },
  {
   "cell_type": "code",
   "execution_count": 23,
   "id": "98cf2835-df64-4d4b-82ef-26ebe4b98267",
   "metadata": {},
   "outputs": [
    {
     "name": "stdout",
     "output_type": "stream",
     "text": [
      "\u001b[1m============================= test session starts ==============================\u001b[0m\n",
      "platform linux -- Python 3.8.10, pytest-7.1.3, pluggy-1.0.0\n",
      "rootdir: /media/veracrypt1/09_src/central/032_pytest_einfuehrung\n",
      "plugins: metadata-2.0.2, html-3.1.1, cov-3.0.0, deadfixtures-2.2.1, anyio-3.5.0\n",
      "collected 1 item                                                               \u001b[0m\n",
      "\n",
      "cov1.py \u001b[32m.\u001b[0m\u001b[32m                                                                [100%]\u001b[0m\n",
      "\n",
      "---------- coverage: platform linux, python 3.8.10-final-0 -----------\n",
      "Coverage HTML written to dir htmlcov\n",
      "\n",
      "\n",
      "\u001b[32m============================== \u001b[32m\u001b[1m1 passed\u001b[0m\u001b[32m in 0.03s\u001b[0m\u001b[32m ===============================\u001b[0m\n"
     ]
    }
   ],
   "source": [
    "!pytest cov1.py --cov --cov-report=html"
   ]
  },
  {
   "cell_type": "markdown",
   "id": "98547915-7e05-44fc-97db-7c2194dbcfd4",
   "metadata": {},
   "source": [
    "# `pytest`-Plugins\n",
    "\n",
    "Eine Liste aller möglichen Plugins für `pytest` ist auf der Projektwebseite von `pytest` erhältlich:\n",
    "\n",
    "https://docs.pytest.org/en/7.0.x/reference/plugin_list.html\n",
    "\n",
    "Bisher haben wir schon die Plugins:\n",
    "\n",
    "- pytest-html\n",
    "- pytest-cov\n",
    "\n",
    "kennen gelernt. Es gibt aktuell 963 Plugins!\n",
    "\n",
    "Es gibt Blogs, in denen Autoren ihre persönlichen liebsten Plugins für `pytest` vorstellen, z.B.\n",
    "\n",
    "https://towardsdatascience.com/pytest-plugins-to-love-%EF%B8%8F-9c71635fbe22\n",
    "\n",
    "Zum Beispiel wird hier das Plugin:\n",
    "\n",
    "    pytest-deadfixtures\n",
    "\n",
    "erwähnt, um nicht verwendete Fixtures aufzuspüren. Siehe auch:\n",
    "\n",
    "https://pypi.org/project/pytest-deadfixtures/\n",
    "\n",
    "Diese Seite\n",
    "\n",
    "https://miguendes.me/7-pytest-plugins-you-must-definitely-use\n",
    "\n",
    "empfiehlt dagegen z.B.\n",
    "\n",
    "    pytest-clarity"
   ]
  },
  {
   "cell_type": "markdown",
   "id": "5e8eb711-c0a7-4336-ac36-b2b903b4677b",
   "metadata": {},
   "source": [
    "# `pytest-deadfixtures`\n",
    "\n",
    "Schauen wir uns nochmal ein bereits erarbeitetes Beispiel mit Fixtures an:"
   ]
  },
  {
   "cell_type": "code",
   "execution_count": 14,
   "id": "c9462f07-e713-4f43-904f-14bf374b7510",
   "metadata": {},
   "outputs": [
    {
     "name": "stdout",
     "output_type": "stream",
     "text": [
      "import pytest\n",
      "\n",
      "class kunde:\n",
      "    \n",
      "    def __init__(self, name, vorname, nr):\n",
      "        self.name = name\n",
      "        self.vorname = vorname\n",
      "        self.nr = nr\n",
      "        \n",
      "    def normalisiere(self):\n",
      "        self.vorname = \" \".join(self.vorname.split())\n",
      "        self.name = self.name.strip()\n",
      "        \n",
      "    def kapitalisiere(self):\n",
      "        self.name = self.name.capitalize()\n",
      "        self.vorname = \" \".join([vorname.capitalize() for vorname in self.vorname.split()])\n",
      "\n",
      "        \n",
      "class Test_kunde:\n",
      "    \n",
      "    # Arrange 1\n",
      "    @pytest.fixture\n",
      "    def kunde1(self):\n",
      "        \"\"\"\n",
      "        Ein Testkunde, der einfach zu viele Whitespaces\n",
      "        im Nach- und Vornamen hat.\n",
      "        \"\"\"\n",
      "        k = kunde(\"  brauer \", \" julius henry \", 938)\n",
      "        return k\n",
      "    \n",
      "    # Arrange 2\n",
      "    @pytest.fixture\n",
      "    def kunde2(self):\n",
      "        \"\"\"\n",
      "        Ein Testkunde, der zusammengesetzte Namen\n",
      "        und Whitespaces hat.\n",
      "        \"\"\"\n",
      "        k = kunde(\"  brauer-lüdenmayer \", \" julius-henry \", 938)\n",
      "        return k\n",
      "        \n",
      "    def test_kunde_anlegen(self, kunde1):\n",
      "        # Act1\n",
      "        \n",
      "        # Assert1\n",
      "        assert kunde1.name == \"  brauer \"\n",
      "        assert kunde1.vorname == \" julius henry \"\n",
      "        assert kunde1.nr == 938\n",
      "\n",
      "    \n",
      "    def test_kundenname_normalisieren(self, kunde1):        \n",
      "        # Act2\n",
      "        kunde1.normalisiere()\n",
      "        \n",
      "        # Assert2\n",
      "        assert kunde1.name == \"brauer\"\n",
      "        assert kunde1.vorname == \"julius henry\"\n",
      "        assert kunde1.nr == 938\n",
      "    \n",
      "    def test_kundenname_normalisieren_und_kapitalisieren1(self, kunde1):                \n",
      "        # Act3\n",
      "        kunde1.normalisiere()\n",
      "        kunde1.kapitalisiere()\n",
      "        \n",
      "        # Assert3\n",
      "        assert kunde1.name == \"Brauer\"\n",
      "        assert kunde1.vorname == \"Julius Henry\"\n",
      "        assert kunde1.nr == 938   \n",
      "        \n",
      "    def test_kundenname_normalisieren_und_kapitalisieren2(self, kunde2):                \n",
      "        # Act4\n",
      "        kunde2.normalisiere()\n",
      "        kunde2.kapitalisiere()\n",
      "        \n",
      "        # Assert4\n",
      "        assert kunde2.name == \"Brauer-lüdenmayer\"\n",
      "        assert kunde2.vorname == \"Julius-henry\"\n",
      "        assert kunde2.nr == 938\n",
      "        "
     ]
    }
   ],
   "source": [
    "!cat c4.py"
   ]
  },
  {
   "cell_type": "markdown",
   "id": "1a48ff07-4524-4701-b578-a0fd667fae04",
   "metadata": {},
   "source": [
    "Wir modifizieren das Beispiel nun so zu `c5.py`, dass das zweite Fixture nicht verwendet wird."
   ]
  },
  {
   "cell_type": "code",
   "execution_count": 15,
   "id": "576187a3-4d05-41ae-a921-d01e45c774e3",
   "metadata": {},
   "outputs": [
    {
     "name": "stdout",
     "output_type": "stream",
     "text": [
      "import pytest\n",
      "\n",
      "class kunde:\n",
      "    \n",
      "    def __init__(self, name, vorname, nr):\n",
      "        self.name = name\n",
      "        self.vorname = vorname\n",
      "        self.nr = nr\n",
      "        \n",
      "    def normalisiere(self):\n",
      "        self.vorname = \" \".join(self.vorname.split())\n",
      "        self.name = self.name.strip()\n",
      "        \n",
      "    def kapitalisiere(self):\n",
      "        self.name = self.name.capitalize()\n",
      "        self.vorname = \" \".join([vorname.capitalize() for vorname in self.vorname.split()])\n",
      "\n",
      "        \n",
      "class Test_kunde:\n",
      "    \n",
      "    # Arrange 1\n",
      "    @pytest.fixture\n",
      "    def kunde1(self):\n",
      "        \"\"\"\n",
      "        Ein Testkunde, der einfach zu viele Whitespaces\n",
      "        im Nach- und Vornamen hat.\n",
      "        \"\"\"\n",
      "        k = kunde(\"  brauer \", \" julius henry \", 938)\n",
      "        return k\n",
      "    \n",
      "    # Arrange 2\n",
      "    @pytest.fixture\n",
      "    def kunde2(self):\n",
      "        \"\"\"\n",
      "        Ein Testkunde, der zusammengesetzte Namen\n",
      "        und Whitespaces hat.\n",
      "        \"\"\"\n",
      "        k = kunde(\"  brauer-lüdenmayer \", \" julius-henry \", 938)\n",
      "        return k\n",
      "        \n",
      "    def test_kunde_anlegen(self, kunde1):\n",
      "        # Act1\n",
      "        \n",
      "        # Assert1\n",
      "        assert kunde1.name == \"  brauer \"\n",
      "        assert kunde1.vorname == \" julius henry \"\n",
      "        assert kunde1.nr == 938\n",
      "\n",
      "    \n",
      "    def test_kundenname_normalisieren(self, kunde1):        \n",
      "        # Act2\n",
      "        kunde1.normalisiere()\n",
      "        \n",
      "        # Assert2\n",
      "        assert kunde1.name == \"brauer\"\n",
      "        assert kunde1.vorname == \"julius henry\"\n",
      "        assert kunde1.nr == 938\n",
      "    \n",
      "    def test_kundenname_normalisieren_und_kapitalisieren1(self, kunde1):                \n",
      "        # Act3\n",
      "        kunde1.normalisiere()\n",
      "        kunde1.kapitalisiere()\n",
      "        \n",
      "        # Assert3\n",
      "        assert kunde1.name == \"Brauer\"\n",
      "        assert kunde1.vorname == \"Julius Henry\"\n",
      "        assert kunde1.nr == 938   \n"
     ]
    }
   ],
   "source": [
    "!cat c5.py"
   ]
  },
  {
   "cell_type": "code",
   "execution_count": 22,
   "id": "e8f91309-9d8b-4634-9196-c377d95ca38a",
   "metadata": {},
   "outputs": [
    {
     "name": "stdout",
     "output_type": "stream",
     "text": [
      "\n",
      "\u001b[31mHey there, I believe the following fixture(s) are not being used:\u001b[0m\n",
      "Fixture name: kunde2, location: c5.py:33\n",
      "    Ein Testkunde, der zusammengesetzte Namen\n",
      "    und Whitespaces hat.\n",
      "\n",
      "\u001b[32m\u001b[33mno tests ran\u001b[0m\u001b[32m in 0.00s\u001b[0m\u001b[0m\n"
     ]
    }
   ],
   "source": [
    "!pytest c5.py -v --dead-fixtures"
   ]
  },
  {
   "cell_type": "code",
   "execution_count": null,
   "id": "41097abb-841e-4852-9dab-fe83daf641d6",
   "metadata": {},
   "outputs": [],
   "source": []
  }
 ],
 "metadata": {
  "kernelspec": {
   "display_name": "Python 3 (ipykernel)",
   "language": "python",
   "name": "python3"
  },
  "language_info": {
   "codemirror_mode": {
    "name": "ipython",
    "version": 3
   },
   "file_extension": ".py",
   "mimetype": "text/x-python",
   "name": "python",
   "nbconvert_exporter": "python",
   "pygments_lexer": "ipython3",
   "version": "3.8.10"
  },
  "toc-autonumbering": true
 },
 "nbformat": 4,
 "nbformat_minor": 5
}
