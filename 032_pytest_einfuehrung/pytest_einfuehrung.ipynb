{
 "cells": [
  {
   "cell_type": "markdown",
   "id": "5132b48f-617a-4127-834c-4a02317f9dbb",
   "metadata": {},
   "source": [
    "# Ein erster Test mit `pytest`\n",
    "\n",
    "Wir erstellen hierzu eine erste Codedatei:"
   ]
  },
  {
   "cell_type": "code",
   "execution_count": 4,
   "id": "0d1a326e-79cc-42b1-95cb-a5f09e1c2f09",
   "metadata": {},
   "outputs": [
    {
     "name": "stdout",
     "output_type": "stream",
     "text": [
      "def addiere(x,y):\n",
      "    return x+y\n",
      "\n",
      "def test1_addiere():\n",
      "    assert addiere(2,2)==4\n",
      "    \n",
      "def test2_addiere():\n",
      "    assert addiere(-2,-2)==-4\n"
     ]
    }
   ],
   "source": [
    "!cat mathe_tools1.py"
   ]
  },
  {
   "cell_type": "code",
   "execution_count": 6,
   "id": "0ccda6fb-6111-4659-8f10-0619c0e9d60f",
   "metadata": {},
   "outputs": [
    {
     "name": "stdout",
     "output_type": "stream",
     "text": [
      "\u001b[1m============================= test session starts ==============================\u001b[0m\n",
      "platform linux -- Python 3.8.10, pytest-7.0.1, pluggy-1.0.0\n",
      "rootdir: /media/veracrypt1/09_src/central/032_pytest_einfuehrung\n",
      "plugins: anyio-3.5.0\n",
      "collected 3 items                                                              \u001b[0m\n",
      "\n",
      "mathe_tools1.py \u001b[32m.\u001b[0m\u001b[32m.\u001b[0m\u001b[32m.\u001b[0m\u001b[32m                                                      [100%]\u001b[0m\n",
      "\n",
      "\u001b[32m============================== \u001b[32m\u001b[1m3 passed\u001b[0m\u001b[32m in 0.03s\u001b[0m\u001b[32m ===============================\u001b[0m\n"
     ]
    }
   ],
   "source": [
    "!pytest mathe_tools1.py"
   ]
  },
  {
   "cell_type": "markdown",
   "id": "d220939d-5b49-4135-843f-c3199c32b98a",
   "metadata": {},
   "source": [
    "# Ein Test der fehlschlägt"
   ]
  },
  {
   "cell_type": "code",
   "execution_count": 10,
   "id": "dc2c3462-ef1e-4d31-ad14-8f5970c2d431",
   "metadata": {},
   "outputs": [
    {
     "name": "stdout",
     "output_type": "stream",
     "text": [
      "def addiere(x,y):\n",
      "    return x+y\n",
      "\n",
      "def test1_addiere():\n",
      "    assert addiere(2,2) == 4\n",
      "    \n",
      "def test2_addiere():\n",
      "    assert addiere(-2,-2) == -4\n",
      "    \n",
      "def test3_addiere():\n",
      "    assert addiere(-17,30) == 13\n",
      "    \n",
      "def test4_addiere():\n",
      "    assert addiere([1,2,3],[4,5,6]) == [5,7,9]\n"
     ]
    }
   ],
   "source": [
    "!cat mathe_tools2.py"
   ]
  },
  {
   "cell_type": "code",
   "execution_count": 13,
   "id": "5c7537c2-1df3-4a02-8330-f85d47e8a8c2",
   "metadata": {},
   "outputs": [
    {
     "name": "stdout",
     "output_type": "stream",
     "text": [
      "\u001b[1m============================= test session starts ==============================\u001b[0m\n",
      "platform linux -- Python 3.8.10, pytest-7.0.1, pluggy-1.0.0\n",
      "rootdir: /media/veracrypt1/09_src/central/032_pytest_einfuehrung\n",
      "plugins: anyio-3.5.0\n",
      "collected 4 items                                                              \u001b[0m\n",
      "\n",
      "mathe_tools2.py \u001b[32m.\u001b[0m\u001b[32m.\u001b[0m\u001b[32m.\u001b[0m\u001b[31mF\u001b[0m\u001b[31m                                                     [100%]\u001b[0m\n",
      "\n",
      "=================================== FAILURES ===================================\n",
      "\u001b[31m\u001b[1m________________________________ test4_addiere _________________________________\u001b[0m\n",
      "\n",
      "    \u001b[94mdef\u001b[39;49;00m \u001b[92mtest4_addiere\u001b[39;49;00m():\n",
      ">       \u001b[94massert\u001b[39;49;00m addiere([\u001b[94m1\u001b[39;49;00m,\u001b[94m2\u001b[39;49;00m,\u001b[94m3\u001b[39;49;00m],[\u001b[94m4\u001b[39;49;00m,\u001b[94m5\u001b[39;49;00m,\u001b[94m6\u001b[39;49;00m]) == [\u001b[94m5\u001b[39;49;00m,\u001b[94m7\u001b[39;49;00m,\u001b[94m9\u001b[39;49;00m]\n",
      "\u001b[1m\u001b[31mE       assert [1, 2, 3, 4, 5, 6] == [5, 7, 9]\u001b[0m\n",
      "\u001b[1m\u001b[31mE         At index 0 diff: 1 != 5\u001b[0m\n",
      "\u001b[1m\u001b[31mE         Left contains 3 more items, first extra item: 4\u001b[0m\n",
      "\u001b[1m\u001b[31mE         Use -v to get the full diff\u001b[0m\n",
      "\n",
      "\u001b[1m\u001b[31mmathe_tools2.py\u001b[0m:14: AssertionError\n",
      "=========================== short test summary info ============================\n",
      "FAILED mathe_tools2.py::test4_addiere - assert [1, 2, 3, 4, 5, 6] == [5, 7, 9]\n",
      "\u001b[31m========================= \u001b[31m\u001b[1m1 failed\u001b[0m, \u001b[32m3 passed\u001b[0m\u001b[31m in 0.10s\u001b[0m\u001b[31m ==========================\u001b[0m\n"
     ]
    }
   ],
   "source": [
    "!pytest mathe_tools2.py"
   ]
  },
  {
   "cell_type": "markdown",
   "id": "f8013bbe-3985-4e8e-8973-074cd8c5ddce",
   "metadata": {},
   "source": [
    "# Woher kommt das Programm `pytest` ?\n",
    "\n",
    "Es wurde vorher mit `pip install pytest` installiert.\n",
    "\n",
    "Es kann auch ohne Angaben aufgerufen werden:"
   ]
  },
  {
   "cell_type": "code",
   "execution_count": 16,
   "id": "48b615e7-c6f2-498a-8f82-4b0692a19629",
   "metadata": {},
   "outputs": [
    {
     "name": "stdout",
     "output_type": "stream",
     "text": [
      "\u001b[1m============================= test session starts ==============================\u001b[0m\n",
      "platform linux -- Python 3.8.10, pytest-7.0.1, pluggy-1.0.0\n",
      "rootdir: /media/veracrypt1/09_src/central/032_pytest_einfuehrung\n",
      "plugins: anyio-3.5.0\n",
      "collected 0 items                                                              \u001b[0m\n",
      "\n",
      "\u001b[33m============================ \u001b[33mno tests ran\u001b[0m\u001b[33m in 0.02s\u001b[0m\u001b[33m =============================\u001b[0m\n"
     ]
    }
   ],
   "source": [
    "!pytest"
   ]
  },
  {
   "cell_type": "markdown",
   "id": "09641478-c9f3-4350-a11a-336f012f2785",
   "metadata": {},
   "source": [
    "Dann stellt sich die Frage: woher weiß `pytest` welche Funktionen zu testen sind?\n",
    "Dazu gleich mehr!"
   ]
  },
  {
   "cell_type": "markdown",
   "id": "f5e9b0d9-10bd-45a2-bfaf-dafae2ebd3fd",
   "metadata": {},
   "source": [
    "# Welche `pytest` Version habe ich?"
   ]
  },
  {
   "cell_type": "markdown",
   "id": "6e9d453d-3c7f-4c85-9ff1-8e6b699d05e3",
   "metadata": {},
   "source": [
    "Kann so festgestellt werden:"
   ]
  },
  {
   "cell_type": "code",
   "execution_count": 21,
   "id": "4a3c3dac-1323-4878-bf3e-26a709acc2a4",
   "metadata": {},
   "outputs": [
    {
     "name": "stdout",
     "output_type": "stream",
     "text": [
      "pytest 7.0.1\n"
     ]
    }
   ],
   "source": [
    "!pytest --version"
   ]
  },
  {
   "cell_type": "markdown",
   "id": "ad5e0a05-38fb-4d12-9bb7-3c686680f70a",
   "metadata": {},
   "source": [
    "Oder so:"
   ]
  },
  {
   "cell_type": "code",
   "execution_count": 22,
   "id": "dbfcd4a4-506e-4475-933e-ecce6557cf1b",
   "metadata": {},
   "outputs": [
    {
     "name": "stdout",
     "output_type": "stream",
     "text": [
      "7.0.1\n"
     ]
    }
   ],
   "source": [
    "import pytest\n",
    "print(pytest.__version__)"
   ]
  },
  {
   "cell_type": "markdown",
   "id": "9903e9e0-1b32-41e0-bedd-d670e784bc49",
   "metadata": {},
   "source": [
    "D.h. `pytest` kann sowohl als Kommandozeilentool verwendet werden als auch als Python-Modul."
   ]
  },
  {
   "cell_type": "markdown",
   "id": "64202136-b739-45cb-a1e9-6ac68d9465c9",
   "metadata": {},
   "source": [
    "# `pytest` Projektwebseite\n",
    "\n",
    "Es gibt auch eine Projektwebseite mit sehr vielen Infos!\n",
    "\n",
    "https://docs.pytest.org"
   ]
  },
  {
   "cell_type": "markdown",
   "id": "84c8c997-0fb1-4c3e-b911-09fb69a17783",
   "metadata": {},
   "source": [
    "# Alle verfügbaren Kommandozeilenschalter anzeigen"
   ]
  },
  {
   "cell_type": "code",
   "execution_count": 23,
   "id": "fd9e0aff-ada7-4d2c-b796-3383c98e6399",
   "metadata": {},
   "outputs": [
    {
     "name": "stdout",
     "output_type": "stream",
     "text": [
      "usage: pytest [options] [file_or_dir] [file_or_dir] [...]\n",
      "\n",
      "positional arguments:\n",
      "  file_or_dir\n",
      "\n",
      "general:\n",
      "  -k EXPRESSION         only run tests which match the given substring\n",
      "                        expression. An expression is a python evaluatable\n",
      "                        expression where all names are substring-matched against\n",
      "                        test names and their parent classes. Example: -k\n",
      "                        'test_method or test_other' matches all test functions\n",
      "                        and classes whose name contains 'test_method' or\n",
      "                        'test_other', while -k 'not test_method' matches those\n",
      "                        that don't contain 'test_method' in their names. -k 'not\n",
      "                        test_method and not test_other' will eliminate the\n",
      "                        matches. Additionally keywords are matched to classes\n",
      "                        and functions containing extra names in their\n",
      "                        'extra_keyword_matches' set, as well as functions which\n",
      "                        have names assigned directly to them. The matching is\n",
      "                        case-insensitive.\n",
      "  -m MARKEXPR           only run tests matching given mark expression.\n",
      "                        For example: -m 'mark1 and not mark2'.\n",
      "  --markers             show markers (builtin, plugin and per-project ones).\n",
      "  -x, --exitfirst       exit instantly on first error or failed test.\n",
      "  --fixtures, --funcargs\n",
      "                        show available fixtures, sorted by plugin appearance\n",
      "                        (fixtures with leading '_' are only shown with '-v')\n",
      "  --fixtures-per-test   show fixtures per test\n",
      "  --pdb                 start the interactive Python debugger on errors or\n",
      "                        KeyboardInterrupt.\n",
      "  --pdbcls=modulename:classname\n",
      "                        specify a custom interactive Python debugger for use\n",
      "                        with --pdb.For example:\n",
      "                        --pdbcls=IPython.terminal.debugger:TerminalPdb\n",
      "  --trace               Immediately break when running each test.\n",
      "  --capture=method      per-test capturing method: one of fd|sys|no|tee-sys.\n",
      "  -s                    shortcut for --capture=no.\n",
      "  --runxfail            report the results of xfail tests as if they were not\n",
      "                        marked\n",
      "  --lf, --last-failed   rerun only the tests that failed at the last run (or all\n",
      "                        if none failed)\n",
      "  --ff, --failed-first  run all tests, but run the last failures first.\n",
      "                        This may re-order tests and thus lead to repeated\n",
      "                        fixture setup/teardown.\n",
      "  --nf, --new-first     run tests from new files first, then the rest of the\n",
      "                        tests sorted by file mtime\n",
      "  --cache-show=[CACHESHOW]\n",
      "                        show cache contents, don't perform collection or tests.\n",
      "                        Optional argument: glob (default: '*').\n",
      "  --cache-clear         remove all cache contents at start of test run.\n",
      "  --lfnf={all,none}, --last-failed-no-failures={all,none}\n",
      "                        which tests to run with no previously (known) failures.\n",
      "  --sw, --stepwise      exit on test failure and continue from last failing test\n",
      "                        next time\n",
      "  --sw-skip, --stepwise-skip\n",
      "                        ignore the first failing test but stop on the next\n",
      "                        failing test.\n",
      "                        implicitly enables --stepwise.\n",
      "\n",
      "reporting:\n",
      "  --durations=N         show N slowest setup/test durations (N=0 for all).\n",
      "  --durations-min=N     Minimal duration in seconds for inclusion in slowest\n",
      "                        list. Default 0.005\n",
      "  -v, --verbose         increase verbosity.\n",
      "  --no-header           disable header\n",
      "  --no-summary          disable summary\n",
      "  -q, --quiet           decrease verbosity.\n",
      "  --verbosity=VERBOSE   set verbosity. Default is 0.\n",
      "  -r chars              show extra test summary info as specified by chars:\n",
      "                        (f)ailed, (E)rror, (s)kipped, (x)failed, (X)passed,\n",
      "                        (p)assed, (P)assed with output, (a)ll except passed\n",
      "                        (p/P), or (A)ll. (w)arnings are enabled by default (see\n",
      "                        --disable-warnings), 'N' can be used to reset the list.\n",
      "                        (default: 'fE').\n",
      "  --disable-warnings, --disable-pytest-warnings\n",
      "                        disable warnings summary\n",
      "  -l, --showlocals      show locals in tracebacks (disabled by default).\n",
      "  --tb=style            traceback print mode (auto/long/short/line/native/no).\n",
      "  --show-capture={no,stdout,stderr,log,all}\n",
      "                        Controls how captured stdout/stderr/log is shown on\n",
      "                        failed tests. Default is 'all'.\n",
      "  --full-trace          don't cut any tracebacks (default is to cut).\n",
      "  --color=color         color terminal output (yes/no/auto).\n",
      "  --code-highlight={yes,no}\n",
      "                        Whether code should be highlighted (only if --color is\n",
      "                        also enabled)\n",
      "  --pastebin=mode       send failed|all info to bpaste.net pastebin service.\n",
      "  --junit-xml=path      create junit-xml style report file at given path.\n",
      "  --junit-prefix=str    prepend prefix to classnames in junit-xml output\n",
      "\n",
      "pytest-warnings:\n",
      "  -W PYTHONWARNINGS, --pythonwarnings=PYTHONWARNINGS\n",
      "                        set which warnings to report, see -W option of python\n",
      "                        itself.\n",
      "  --maxfail=num         exit after first num failures or errors.\n",
      "  --strict-config       any warnings encountered while parsing the `pytest`\n",
      "                        section of the configuration file raise errors.\n",
      "  --strict-markers      markers not registered in the `markers` section of the\n",
      "                        configuration file raise errors.\n",
      "  --strict              (deprecated) alias to --strict-markers.\n",
      "  -c file               load configuration from `file` instead of trying to\n",
      "                        locate one of the implicit configuration files.\n",
      "  --continue-on-collection-errors\n",
      "                        Force test execution even if collection errors occur.\n",
      "  --rootdir=ROOTDIR     Define root directory for tests. Can be relative path:\n",
      "                        'root_dir', './root_dir', 'root_dir/another_dir/';\n",
      "                        absolute path: '/home/user/root_dir'; path with\n",
      "                        variables: '$HOME/root_dir'.\n",
      "\n",
      "collection:\n",
      "  --collect-only, --co  only collect tests, don't execute them.\n",
      "  --pyargs              try to interpret all arguments as python packages.\n",
      "  --ignore=path         ignore path during collection (multi-allowed).\n",
      "  --ignore-glob=path    ignore path pattern during collection (multi-allowed).\n",
      "  --deselect=nodeid_prefix\n",
      "                        deselect item (via node id prefix) during collection\n",
      "                        (multi-allowed).\n",
      "  --confcutdir=dir      only load conftest.py's relative to specified dir.\n",
      "  --noconftest          Don't load any conftest.py files.\n",
      "  --keep-duplicates     Keep duplicate tests.\n",
      "  --collect-in-virtualenv\n",
      "                        Don't ignore tests in a local virtualenv directory\n",
      "  --import-mode={prepend,append,importlib}\n",
      "                        prepend/append to sys.path when importing test modules\n",
      "                        and conftest files, default is to prepend.\n",
      "  --doctest-modules     run doctests in all .py modules\n",
      "  --doctest-report={none,cdiff,ndiff,udiff,only_first_failure}\n",
      "                        choose another output format for diffs on doctest\n",
      "                        failure\n",
      "  --doctest-glob=pat    doctests file matching pattern, default: test*.txt\n",
      "  --doctest-ignore-import-errors\n",
      "                        ignore doctest ImportErrors\n",
      "  --doctest-continue-on-failure\n",
      "                        for a given doctest, continue to run after the first\n",
      "                        failure\n",
      "\n",
      "test session debugging and configuration:\n",
      "  --basetemp=dir        base temporary directory for this test run.(warning:\n",
      "                        this directory is removed if it exists)\n",
      "  -V, --version         display pytest version and information about plugins.\n",
      "                        When given twice, also display information about\n",
      "                        plugins.\n",
      "  -h, --help            show help message and configuration info\n",
      "  -p name               early-load given plugin module name or entry point\n",
      "                        (multi-allowed).\n",
      "                        To avoid loading of plugins, use the `no:` prefix, e.g.\n",
      "                        `no:doctest`.\n",
      "  --trace-config        trace considerations of conftest.py files.\n",
      "  --debug=[DEBUG_FILE_NAME]\n",
      "                        store internal tracing debug information in this log\n",
      "                        file.\n",
      "                        This file is opened with 'w' and truncated as a result,\n",
      "                        care advised.\n",
      "                        Defaults to 'pytestdebug.log'.\n",
      "  -o OVERRIDE_INI, --override-ini=OVERRIDE_INI\n",
      "                        override ini option with \"option=value\" style, e.g. `-o\n",
      "                        xfail_strict=True -o cache_dir=cache`.\n",
      "  --assert=MODE         Control assertion debugging tools.\n",
      "                        'plain' performs no assertion debugging.\n",
      "                        'rewrite' (the default) rewrites assert statements in\n",
      "                        test modules on import to provide assert expression\n",
      "                        information.\n",
      "  --setup-only          only setup fixtures, do not execute tests.\n",
      "  --setup-show          show setup of fixtures while executing tests.\n",
      "  --setup-plan          show what fixtures and tests would be executed but don't\n",
      "                        execute anything.\n",
      "\n",
      "logging:\n",
      "  --log-level=LEVEL     level of messages to catch/display.\n",
      "                        Not set by default, so it depends on the root/parent log\n",
      "                        handler's effective level, where it is \"WARNING\" by\n",
      "                        default.\n",
      "  --log-format=LOG_FORMAT\n",
      "                        log format as used by the logging module.\n",
      "  --log-date-format=LOG_DATE_FORMAT\n",
      "                        log date format as used by the logging module.\n",
      "  --log-cli-level=LOG_CLI_LEVEL\n",
      "                        cli logging level.\n",
      "  --log-cli-format=LOG_CLI_FORMAT\n",
      "                        log format as used by the logging module.\n",
      "  --log-cli-date-format=LOG_CLI_DATE_FORMAT\n",
      "                        log date format as used by the logging module.\n",
      "  --log-file=LOG_FILE   path to a file when logging will be written to.\n",
      "  --log-file-level=LOG_FILE_LEVEL\n",
      "                        log file logging level.\n",
      "  --log-file-format=LOG_FILE_FORMAT\n",
      "                        log format as used by the logging module.\n",
      "  --log-file-date-format=LOG_FILE_DATE_FORMAT\n",
      "                        log date format as used by the logging module.\n",
      "  --log-auto-indent=LOG_AUTO_INDENT\n",
      "                        Auto-indent multiline messages passed to the logging\n",
      "                        module. Accepts true|on, false|off or an integer.\n",
      "\n",
      "[pytest] ini-options in the first pytest.ini|tox.ini|setup.cfg file found:\n",
      "\n",
      "  markers (linelist):   markers for test functions\n",
      "  empty_parameter_set_mark (string):\n",
      "                        default marker for empty parametersets\n",
      "  norecursedirs (args): directory patterns to avoid for recursion\n",
      "  testpaths (args):     directories to search for tests when no files or\n",
      "                        directories are given in the command line.\n",
      "  filterwarnings (linelist):\n",
      "                        Each line specifies a pattern for\n",
      "                        warnings.filterwarnings. Processed after\n",
      "                        -W/--pythonwarnings.\n",
      "  usefixtures (args):   list of default fixtures to be used with this project\n",
      "  python_files (args):  glob-style file patterns for Python test module\n",
      "                        discovery\n",
      "  python_classes (args):\n",
      "                        prefixes or glob names for Python test class discovery\n",
      "  python_functions (args):\n",
      "                        prefixes or glob names for Python test function and\n",
      "                        method discovery\n",
      "  disable_test_id_escaping_and_forfeit_all_rights_to_community_support (bool):\n",
      "                        disable string escape non-ascii characters, might cause\n",
      "                        unwanted side effects(use at your own risk)\n",
      "  console_output_style (string):\n",
      "                        console output: \"classic\", or with additional progress\n",
      "                        information (\"progress\" (percentage) | \"count\").\n",
      "  xfail_strict (bool):  default for the strict parameter of xfail markers when\n",
      "                        not given explicitly (default: False)\n",
      "  enable_assertion_pass_hook (bool):\n",
      "                        Enables the pytest_assertion_pass hook.Make sure to\n",
      "                        delete any previously generated pyc cache files.\n",
      "  junit_suite_name (string):\n",
      "                        Test suite name for JUnit report\n",
      "  junit_logging (string):\n",
      "                        Write captured log messages to JUnit report: one of\n",
      "                        no|log|system-out|system-err|out-err|all\n",
      "  junit_log_passing_tests (bool):\n",
      "                        Capture log information for passing tests to JUnit\n",
      "                        report:\n",
      "  junit_duration_report (string):\n",
      "                        Duration time to report: one of total|call\n",
      "  junit_family (string):\n",
      "                        Emit XML for schema: one of legacy|xunit1|xunit2\n",
      "  doctest_optionflags (args):\n",
      "                        option flags for doctests\n",
      "  doctest_encoding (string):\n",
      "                        encoding used for doctest files\n",
      "  cache_dir (string):   cache directory path.\n",
      "  log_level (string):   default value for --log-level\n",
      "  log_format (string):  default value for --log-format\n",
      "  log_date_format (string):\n",
      "                        default value for --log-date-format\n",
      "  log_cli (bool):       enable log display during test run (also known as \"live\n",
      "                        logging\").\n",
      "  log_cli_level (string):\n",
      "                        default value for --log-cli-level\n",
      "  log_cli_format (string):\n",
      "                        default value for --log-cli-format\n",
      "  log_cli_date_format (string):\n",
      "                        default value for --log-cli-date-format\n",
      "  log_file (string):    default value for --log-file\n",
      "  log_file_level (string):\n",
      "                        default value for --log-file-level\n",
      "  log_file_format (string):\n",
      "                        default value for --log-file-format\n",
      "  log_file_date_format (string):\n",
      "                        default value for --log-file-date-format\n",
      "  log_auto_indent (string):\n",
      "                        default value for --log-auto-indent\n",
      "  pythonpath (paths):   Add paths to sys.path\n",
      "  faulthandler_timeout (string):\n",
      "                        Dump the traceback of all threads if a test takes more\n",
      "                        than TIMEOUT seconds to finish.\n",
      "  addopts (args):       extra command line options\n",
      "  minversion (string):  minimally required pytest version\n",
      "  required_plugins (args):\n",
      "                        plugins that must be present for pytest to run\n",
      "\n",
      "environment variables:\n",
      "  PYTEST_ADDOPTS           extra command line options\n",
      "  PYTEST_PLUGINS           comma-separated plugins to load during startup\n",
      "  PYTEST_DISABLE_PLUGIN_AUTOLOAD set to disable plugin auto-loading\n",
      "  PYTEST_DEBUG             set to enable debug tracing of pytest's internals\n",
      "\n",
      "\n",
      "to see available markers type: pytest --markers\n",
      "to see available fixtures type: pytest --fixtures\n",
      "(shown according to specified file_or_dir or current dir if not specified; fixtures with leading '_' are only shown with the '-v' option\n"
     ]
    }
   ],
   "source": [
    "!pytest -h"
   ]
  },
  {
   "cell_type": "markdown",
   "id": "5a401cef-7542-473a-bd27-128d2ca4dbfa",
   "metadata": {},
   "source": [
    "# Der Kommandozeilenschalter `verbose`"
   ]
  },
  {
   "cell_type": "markdown",
   "id": "12c7d0f6-63f0-4bc3-a412-98b22a0c4b70",
   "metadata": {},
   "source": [
    "Ohne `verbose`:"
   ]
  },
  {
   "cell_type": "code",
   "execution_count": 47,
   "id": "ae658379-23d9-4638-9480-8c74c2d1ac99",
   "metadata": {},
   "outputs": [
    {
     "name": "stdout",
     "output_type": "stream",
     "text": [
      "\u001b[1m============================= test session starts ==============================\u001b[0m\n",
      "platform linux -- Python 3.8.10, pytest-7.0.1, pluggy-1.0.0\n",
      "rootdir: /media/veracrypt1/09_src/central/032_pytest_einfuehrung\n",
      "plugins: anyio-3.5.0\n",
      "collected 4 items                                                              \u001b[0m\n",
      "\n",
      "mathe_tools2.py \u001b[32m.\u001b[0m\u001b[32m.\u001b[0m\u001b[32m.\u001b[0m\u001b[31mF\u001b[0m\u001b[31m                                                     [100%]\u001b[0m\n",
      "\n",
      "=================================== FAILURES ===================================\n",
      "\u001b[31m\u001b[1m________________________________ test4_addiere _________________________________\u001b[0m\n",
      "\n",
      "    \u001b[94mdef\u001b[39;49;00m \u001b[92mtest4_addiere\u001b[39;49;00m():\n",
      ">       \u001b[94massert\u001b[39;49;00m addiere([\u001b[94m1\u001b[39;49;00m,\u001b[94m2\u001b[39;49;00m,\u001b[94m3\u001b[39;49;00m],[\u001b[94m4\u001b[39;49;00m,\u001b[94m5\u001b[39;49;00m,\u001b[94m6\u001b[39;49;00m]) == [\u001b[94m5\u001b[39;49;00m,\u001b[94m7\u001b[39;49;00m,\u001b[94m9\u001b[39;49;00m]\n",
      "\u001b[1m\u001b[31mE       assert [1, 2, 3, 4, 5, 6] == [5, 7, 9]\u001b[0m\n",
      "\u001b[1m\u001b[31mE         At index 0 diff: 1 != 5\u001b[0m\n",
      "\u001b[1m\u001b[31mE         Left contains 3 more items, first extra item: 4\u001b[0m\n",
      "\u001b[1m\u001b[31mE         Use -v to get the full diff\u001b[0m\n",
      "\n",
      "\u001b[1m\u001b[31mmathe_tools2.py\u001b[0m:14: AssertionError\n",
      "=========================== short test summary info ============================\n",
      "FAILED mathe_tools2.py::test4_addiere - assert [1, 2, 3, 4, 5, 6] == [5, 7, 9]\n",
      "\u001b[31m========================= \u001b[31m\u001b[1m1 failed\u001b[0m, \u001b[32m3 passed\u001b[0m\u001b[31m in 0.09s\u001b[0m\u001b[31m ==========================\u001b[0m\n"
     ]
    }
   ],
   "source": [
    "!pytest mathe_tools2.py"
   ]
  },
  {
   "cell_type": "markdown",
   "id": "88f758b0-ffaa-4e1e-9b5c-7fd314779924",
   "metadata": {},
   "source": [
    "Mit `verbose`:"
   ]
  },
  {
   "cell_type": "code",
   "execution_count": 62,
   "id": "9ab6b3e7-21ff-406b-a95c-34d4ac22a48f",
   "metadata": {},
   "outputs": [
    {
     "name": "stdout",
     "output_type": "stream",
     "text": [
      "\u001b[1m============================= test session starts ==============================\u001b[0m\n",
      "platform linux -- Python 3.8.10, pytest-7.0.1, pluggy-1.0.0 -- /home/juebrauer/.local/share/virtualenvs/book_clean_code_mit_python-T4ki0mW7/bin/python\n",
      "cachedir: .pytest_cache\n",
      "rootdir: /media/veracrypt1/09_src/central/032_pytest_einfuehrung\n",
      "plugins: anyio-3.5.0\n",
      "collected 5 items                                                              \u001b[0m\n",
      "\n",
      "mathe_tools2.py::test1_addiere \u001b[32mPASSED\u001b[0m\u001b[32m                                    [ 20%]\u001b[0m\n",
      "mathe_tools2.py::test2_addiere \u001b[32mPASSED\u001b[0m\u001b[32m                                    [ 40%]\u001b[0m\n",
      "mathe_tools2.py::test3_addiere \u001b[32mPASSED\u001b[0m\u001b[32m                                    [ 60%]\u001b[0m\n",
      "mathe_tools2.py::test4_addiere \u001b[31mFAILED\u001b[0m\u001b[31m                                    [ 80%]\u001b[0m\n",
      "mathe_tools2.py::testaddiere \u001b[32mPASSED\u001b[0m\u001b[31m                                      [100%]\u001b[0m\n",
      "\n",
      "=================================== FAILURES ===================================\n",
      "\u001b[31m\u001b[1m________________________________ test4_addiere _________________________________\u001b[0m\n",
      "\n",
      "    \u001b[94mdef\u001b[39;49;00m \u001b[92mtest4_addiere\u001b[39;49;00m():\n",
      ">       \u001b[94massert\u001b[39;49;00m addiere([\u001b[94m1\u001b[39;49;00m,\u001b[94m2\u001b[39;49;00m,\u001b[94m3\u001b[39;49;00m],[\u001b[94m4\u001b[39;49;00m,\u001b[94m5\u001b[39;49;00m,\u001b[94m6\u001b[39;49;00m]) == [\u001b[94m5\u001b[39;49;00m,\u001b[94m7\u001b[39;49;00m,\u001b[94m9\u001b[39;49;00m]\n",
      "\u001b[1m\u001b[31mE       assert [1, 2, 3, 4, 5, 6] == [5, 7, 9]\u001b[0m\n",
      "\u001b[1m\u001b[31mE         At index 0 diff: 1 != 5\u001b[0m\n",
      "\u001b[1m\u001b[31mE         Left contains 3 more items, first extra item: 4\u001b[0m\n",
      "\u001b[1m\u001b[31mE         Full diff:\u001b[0m\n",
      "\u001b[1m\u001b[31mE         - [5, 7, 9]\u001b[0m\n",
      "\u001b[1m\u001b[31mE         + [1, 2, 3, 4, 5, 6]\u001b[0m\n",
      "\n",
      "\u001b[1m\u001b[31mmathe_tools2.py\u001b[0m:14: AssertionError\n",
      "=========================== short test summary info ============================\n",
      "FAILED mathe_tools2.py::test4_addiere - assert [1, 2, 3, 4, 5, 6] == [5, 7, 9]\n",
      "\u001b[31m========================= \u001b[31m\u001b[1m1 failed\u001b[0m, \u001b[32m4 passed\u001b[0m\u001b[31m in 0.11s\u001b[0m\u001b[31m ==========================\u001b[0m\n"
     ]
    }
   ],
   "source": [
    "!pytest mathe_tools2.py --verbose"
   ]
  },
  {
   "cell_type": "markdown",
   "id": "fbf1d59d-3e82-489d-98b6-f3a75c4f4600",
   "metadata": {},
   "source": [
    "# Wie kann `pytest` Testfunktionen finden?\n",
    "\n",
    "Woher weiß `pytest` eigentlich welche Funktionen Testfunktionen sind?\n",
    "\n",
    "In `mathe_tools2.py` hatten wir hierzu den Testfunktionen das Präfix `test` gegeben. `pytest` sucht defaultmäßig nach allen Funktionen, die `test` als Präfix haben."
   ]
  },
  {
   "cell_type": "code",
   "execution_count": 63,
   "id": "a09ba912-ca46-4d29-9cbd-3258313ff42c",
   "metadata": {},
   "outputs": [
    {
     "name": "stdout",
     "output_type": "stream",
     "text": [
      "def addiere(x,y):\n",
      "    return x+y\n",
      "\n",
      "def test1_addiere():\n",
      "    assert addiere(2,2) == 4\n",
      "    \n",
      "def test2_addiere():\n",
      "    assert addiere(-2,-2) == -4\n",
      "    \n",
      "def test3_addiere():\n",
      "    assert addiere(-17,30) == 13\n",
      "    \n",
      "def test4_addiere():\n",
      "    assert addiere([1,2,3],[4,5,6]) == [5,7,9]\n",
      "    \n",
      "def testaddiere():\n",
      "    assert addiere(-100,+100) == 0\n",
      "\n"
     ]
    }
   ],
   "source": [
    "!cat mathe_tools2.py"
   ]
  },
  {
   "cell_type": "markdown",
   "id": "2a43dbda-9880-4cd6-9bc6-8f1b4a1d087d",
   "metadata": {},
   "source": [
    "Wir überprüfen mal, welche der folgenden Funktionen `pytest` als Testfunktionen erkennt:"
   ]
  },
  {
   "cell_type": "code",
   "execution_count": 64,
   "id": "0c59f882-352d-477a-803d-5f07e26e1c44",
   "metadata": {},
   "outputs": [
    {
     "name": "stdout",
     "output_type": "stream",
     "text": [
      "def addiere(x,y):\n",
      "    return x+y\n",
      "\n",
      "def test1_addiere():\n",
      "    #assert addiere(2,2) == 4\n",
      "    pass\n",
      "    \n",
      "def addiere_test2():\n",
      "    assert addiere(-2,-2) == -4\n",
      "    \n",
      "def addieretest3undauchnocheinpraefix():\n",
      "    assert addiere(-17,30) == 13\n",
      "\n",
      "def diehiernicht():\n",
      "    assert addiere(-1,+1) == 0\n"
     ]
    }
   ],
   "source": [
    "!cat mathe_tools3.py"
   ]
  },
  {
   "cell_type": "code",
   "execution_count": 69,
   "id": "0ffb45af-8453-4349-96b2-38b12df112ea",
   "metadata": {},
   "outputs": [
    {
     "name": "stdout",
     "output_type": "stream",
     "text": [
      "\u001b[1m============================= test session starts ==============================\u001b[0m\n",
      "platform linux -- Python 3.8.10, pytest-7.0.1, pluggy-1.0.0\n",
      "rootdir: /media/veracrypt1/09_src/central/032_pytest_einfuehrung\n",
      "plugins: anyio-3.5.0\n",
      "collected 1 item                                                               \u001b[0m\n",
      "\n",
      "mathe_tools3.py \u001b[32m.\u001b[0m\u001b[32m                                                        [100%]\u001b[0m\n",
      "\n",
      "\u001b[32m============================== \u001b[32m\u001b[1m1 passed\u001b[0m\u001b[32m in 0.02s\u001b[0m\u001b[32m ===============================\u001b[0m\n"
     ]
    }
   ],
   "source": [
    "!pytest mathe_tools3.py"
   ]
  },
  {
   "cell_type": "markdown",
   "id": "c260b2d6-16f2-43a0-8c4a-0978a549a002",
   "metadata": {},
   "source": [
    "Wir sehen: jetzt wurde nur eine Testfunktion gefunden. Aber welche eigentlich?\n",
    "Hierzu hilft uns der Parameterschalter `--collect-only` bzw. `--co`:"
   ]
  },
  {
   "cell_type": "code",
   "execution_count": 70,
   "id": "714d6924-c9aa-416a-92a0-57c6139da12a",
   "metadata": {},
   "outputs": [
    {
     "name": "stdout",
     "output_type": "stream",
     "text": [
      "\u001b[1m============================= test session starts ==============================\u001b[0m\n",
      "platform linux -- Python 3.8.10, pytest-7.0.1, pluggy-1.0.0\n",
      "rootdir: /media/veracrypt1/09_src/central/032_pytest_einfuehrung\n",
      "plugins: anyio-3.5.0\n",
      "collected 1 item                                                               \u001b[0m\n",
      "\n",
      "<Module mathe_tools3.py>\n",
      "  <Function test1_addiere>\n",
      "\n",
      "\u001b[32m========================== \u001b[32m1 test collected\u001b[0m\u001b[32m in 0.03s\u001b[0m\u001b[32m ===========================\u001b[0m\n"
     ]
    }
   ],
   "source": [
    "!pytest mathe_tools3.py --collect-only"
   ]
  },
  {
   "cell_type": "markdown",
   "id": "7ca72442-9c1f-452c-86ea-edf1150a8b98",
   "metadata": {},
   "source": [
    "# `pytest.ini` zur Steuerung der Sammlung von Tests\n",
    "\n",
    "Wir können die Auswahl der\n",
    "\n",
    "- Dateien\n",
    "- Funktionen\n",
    "- Klassen (später mehr)\n",
    "\n",
    "in denen Tests gesammelt werden sollen über eine zentrale Konfigurationsdatei `pytest.ini` steuern."
   ]
  },
  {
   "cell_type": "code",
   "execution_count": 71,
   "id": "faeee46f-adb3-497e-9cf7-601998ecc9f0",
   "metadata": {},
   "outputs": [
    {
     "name": "stdout",
     "output_type": "stream",
     "text": [
      "def addiere(x,y):\n",
      "    return x+y\n",
      "\n",
      "def check1_addiere():\n",
      "    assert addiere(2,2) == 4    \n",
      "    \n",
      "def addiere_check2_xyz():\n",
      "    assert addiere(-2,-2) == -4\n",
      "    \n",
      "def check3_addiere():\n",
      "    assert addiere(-17,30) == 13\n",
      "\n",
      "def und_noch_eine():\n",
      "    assert addiere(-1,+1) == 0\n"
     ]
    }
   ],
   "source": [
    "!cat mathe_tools4.py"
   ]
  },
  {
   "cell_type": "code",
   "execution_count": 72,
   "id": "618bc4da-c621-4720-a8a0-15aed631d766",
   "metadata": {},
   "outputs": [
    {
     "name": "stdout",
     "output_type": "stream",
     "text": [
      "[pytest]\n",
      "\n",
      "python_files = mathe_tools*.py\n",
      "python_functions = *check*\n"
     ]
    }
   ],
   "source": [
    "!cat pytest1.ini"
   ]
  },
  {
   "cell_type": "code",
   "execution_count": 73,
   "id": "4777896a-a5c0-46ed-b4d3-caa377b79909",
   "metadata": {},
   "outputs": [
    {
     "name": "stdout",
     "output_type": "stream",
     "text": [
      "\u001b[1m============================= test session starts ==============================\u001b[0m\n",
      "platform linux -- Python 3.8.10, pytest-7.0.1, pluggy-1.0.0\n",
      "rootdir: /media/veracrypt1/09_src/central/032_pytest_einfuehrung, configfile: pytest1.ini\n",
      "plugins: anyio-3.5.0\n",
      "collected 3 items                                                              \u001b[0m\n",
      "\n",
      "mathe_tools4.py \u001b[32m.\u001b[0m\u001b[32m.\u001b[0m\u001b[32m.\u001b[0m\u001b[32m                                                      [100%]\u001b[0m\n",
      "\n",
      "\u001b[32m============================== \u001b[32m\u001b[1m3 passed\u001b[0m\u001b[32m in 0.04s\u001b[0m\u001b[32m ===============================\u001b[0m\n"
     ]
    }
   ],
   "source": [
    "!pytest -c pytest1.ini"
   ]
  },
  {
   "cell_type": "markdown",
   "id": "2e9976d1-ab0f-47b0-b65b-6304937270fe",
   "metadata": {},
   "source": [
    "Wir sehen: es wurden 3 Tests aus der Datei `mathe_tools4.py` übernommen. Aber welche?"
   ]
  },
  {
   "cell_type": "code",
   "execution_count": 74,
   "id": "97b4758a-24d5-40bf-aa9e-47d6aee9b70e",
   "metadata": {},
   "outputs": [
    {
     "name": "stdout",
     "output_type": "stream",
     "text": [
      "\u001b[1m============================= test session starts ==============================\u001b[0m\n",
      "platform linux -- Python 3.8.10, pytest-7.0.1, pluggy-1.0.0 -- /home/juebrauer/.local/share/virtualenvs/book_clean_code_mit_python-T4ki0mW7/bin/python\n",
      "cachedir: .pytest_cache\n",
      "rootdir: /media/veracrypt1/09_src/central/032_pytest_einfuehrung, configfile: pytest1.ini\n",
      "plugins: anyio-3.5.0\n",
      "collected 3 items                                                              \u001b[0m\n",
      "\n",
      "mathe_tools4.py::check1_addiere \u001b[32mPASSED\u001b[0m\u001b[32m                                   [ 33%]\u001b[0m\n",
      "mathe_tools4.py::addiere_check2_xyz \u001b[32mPASSED\u001b[0m\u001b[32m                               [ 66%]\u001b[0m\n",
      "mathe_tools4.py::check3_addiere \u001b[32mPASSED\u001b[0m\u001b[32m                                   [100%]\u001b[0m\n",
      "\n",
      "\u001b[32m============================== \u001b[32m\u001b[1m3 passed\u001b[0m\u001b[32m in 0.03s\u001b[0m\u001b[32m ===============================\u001b[0m\n"
     ]
    }
   ],
   "source": [
    "!pytest -c pytest1.ini --verbose"
   ]
  },
  {
   "cell_type": "markdown",
   "id": "3683dcaf-907c-4794-a702-40026424db49",
   "metadata": {},
   "source": [
    "# `pytest.ini` zum Setzen von Standardschaltern"
   ]
  },
  {
   "cell_type": "markdown",
   "id": "3dbe56fc-731f-4fbf-b2a1-d4c3236e581c",
   "metadata": {},
   "source": [
    "In der Konfigurationsdatei können über die Variable `addopts` (additional options) auch zusätzliche Optionen (`pytest`-Schalter) gesetzten werden, mit denen die Tests ausgeführt werden sollen:"
   ]
  },
  {
   "cell_type": "code",
   "execution_count": 77,
   "id": "b0631653-84ee-43e3-9cc4-c1d04ab5e15f",
   "metadata": {},
   "outputs": [
    {
     "name": "stdout",
     "output_type": "stream",
     "text": [
      "[pytest]\n",
      "\n",
      "addopts = --verbose\n",
      "\n",
      "python_files = mathe_tools*.py\n",
      "python_functions = *check*\n"
     ]
    }
   ],
   "source": [
    "!cat pytest2.ini"
   ]
  },
  {
   "cell_type": "code",
   "execution_count": 78,
   "id": "14c8a29c-4c55-496e-9f35-657f25a5435e",
   "metadata": {},
   "outputs": [
    {
     "name": "stdout",
     "output_type": "stream",
     "text": [
      "\u001b[1m============================= test session starts ==============================\u001b[0m\n",
      "platform linux -- Python 3.8.10, pytest-7.0.1, pluggy-1.0.0 -- /home/juebrauer/.local/share/virtualenvs/book_clean_code_mit_python-T4ki0mW7/bin/python\n",
      "cachedir: .pytest_cache\n",
      "rootdir: /media/veracrypt1/09_src/central/032_pytest_einfuehrung, configfile: pytest2.ini\n",
      "plugins: anyio-3.5.0\n",
      "collected 3 items                                                              \u001b[0m\n",
      "\n",
      "mathe_tools4.py::check1_addiere \u001b[32mPASSED\u001b[0m\u001b[32m                                   [ 33%]\u001b[0m\n",
      "mathe_tools4.py::addiere_check2_xyz \u001b[32mPASSED\u001b[0m\u001b[32m                               [ 66%]\u001b[0m\n",
      "mathe_tools4.py::check3_addiere \u001b[32mPASSED\u001b[0m\u001b[32m                                   [100%]\u001b[0m\n",
      "\n",
      "\u001b[32m============================== \u001b[32m\u001b[1m3 passed\u001b[0m\u001b[32m in 0.04s\u001b[0m\u001b[32m ===============================\u001b[0m\n"
     ]
    }
   ],
   "source": [
    "!pytest -c pytest2.ini"
   ]
  },
  {
   "cell_type": "markdown",
   "id": "bfafdf1b-cc6c-4533-901e-40f8e7214ee7",
   "metadata": {},
   "source": [
    "# Angabe von mehreren Dateimustern bzw. mehreren Funktionsmustern\n",
    "\n",
    "... nach denen gesucht werden soll:"
   ]
  },
  {
   "cell_type": "code",
   "execution_count": 79,
   "id": "a7227d5d-d332-4eca-a4da-3c1951a1727f",
   "metadata": {},
   "outputs": [
    {
     "name": "stdout",
     "output_type": "stream",
     "text": [
      "def addiere(x,y):\n",
      "    return x+y\n",
      "\n",
      "def check1_addiere():\n",
      "    assert addiere(2,2) == 4    \n",
      "    \n",
      "def check2_addiere():\n",
      "    assert addiere(-2,-2) == -4\n",
      "    \n",
      "def test3_addiere():\n",
      "    assert addiere(-17,30) == 13\n",
      "\n",
      "def test4_addiere():\n",
      "    assert addiere(-1,+1) == 0\n"
     ]
    }
   ],
   "source": [
    "!cat mathe_tools5.py"
   ]
  },
  {
   "cell_type": "code",
   "execution_count": 80,
   "id": "207765c9-387c-41b7-ac78-f4c0eee190b5",
   "metadata": {},
   "outputs": [
    {
     "name": "stdout",
     "output_type": "stream",
     "text": [
      "[pytest]\n",
      "\n",
      "addopts = --verbose\n",
      "\n",
      "python_files = mathe_tools1.py mathe_tools5.py\n",
      "python_functions = *check* *test*\n"
     ]
    }
   ],
   "source": [
    "!cat pytest3.ini"
   ]
  },
  {
   "cell_type": "code",
   "execution_count": 81,
   "id": "f1978a1d-b9e3-410d-a83b-9f507f4511c3",
   "metadata": {},
   "outputs": [
    {
     "name": "stdout",
     "output_type": "stream",
     "text": [
      "\u001b[1m============================= test session starts ==============================\u001b[0m\n",
      "platform linux -- Python 3.8.10, pytest-7.0.1, pluggy-1.0.0 -- /home/juebrauer/.local/share/virtualenvs/book_clean_code_mit_python-T4ki0mW7/bin/python\n",
      "cachedir: .pytest_cache\n",
      "rootdir: /media/veracrypt1/09_src/central/032_pytest_einfuehrung, configfile: pytest3.ini\n",
      "plugins: anyio-3.5.0\n",
      "collected 7 items                                                              \u001b[0m\n",
      "\n",
      "mathe_tools1.py::test1_addiere \u001b[32mPASSED\u001b[0m\u001b[32m                                    [ 14%]\u001b[0m\n",
      "mathe_tools1.py::test2_addiere \u001b[32mPASSED\u001b[0m\u001b[32m                                    [ 28%]\u001b[0m\n",
      "mathe_tools1.py::test3_addiere \u001b[32mPASSED\u001b[0m\u001b[32m                                    [ 42%]\u001b[0m\n",
      "mathe_tools5.py::check1_addiere \u001b[32mPASSED\u001b[0m\u001b[32m                                   [ 57%]\u001b[0m\n",
      "mathe_tools5.py::check2_addiere \u001b[32mPASSED\u001b[0m\u001b[32m                                   [ 71%]\u001b[0m\n",
      "mathe_tools5.py::test3_addiere \u001b[32mPASSED\u001b[0m\u001b[32m                                    [ 85%]\u001b[0m\n",
      "mathe_tools5.py::test4_addiere \u001b[32mPASSED\u001b[0m\u001b[32m                                    [100%]\u001b[0m\n",
      "\n",
      "\u001b[32m============================== \u001b[32m\u001b[1m7 passed\u001b[0m\u001b[32m in 0.04s\u001b[0m\u001b[32m ===============================\u001b[0m\n"
     ]
    }
   ],
   "source": [
    "!pytest -c pytest3.ini"
   ]
  },
  {
   "cell_type": "markdown",
   "id": "644088f8-fe15-4bc3-af1f-ce5bfc6c7ab6",
   "metadata": {},
   "source": [
    "# Steuern der Suche nach Testfunktionen in Verzeichnissen und Unterverzeichnissen"
   ]
  },
  {
   "cell_type": "markdown",
   "id": "0dea1664-fdf2-40e4-bbb8-ee46553fee9f",
   "metadata": {},
   "source": [
    "Wir gehen von folgender Beispielverzeichnisstruktur aus:"
   ]
  },
  {
   "cell_type": "code",
   "execution_count": 87,
   "id": "c69bdc2d-bc86-477d-926a-aa743ba7f21f",
   "metadata": {},
   "outputs": [
    {
     "name": "stdout",
     "output_type": "stream",
     "text": [
      "prj1:\n",
      "mathe_tools6.py  prj1_subfolder1  prj1_subfolder2\n",
      "\n",
      "prj1/prj1_subfolder1:\n",
      "mathe_tools7.py\n",
      "\n",
      "prj1/prj1_subfolder2:\n",
      "mathe_tools8.py\n",
      "\n",
      "prj2:\n",
      "mathe_tools9.py\n"
     ]
    }
   ],
   "source": [
    "!ls -R prj*"
   ]
  },
  {
   "cell_type": "code",
   "execution_count": 88,
   "id": "40a95f0f-81a7-40b0-b333-7772b127996c",
   "metadata": {},
   "outputs": [
    {
     "name": "stdout",
     "output_type": "stream",
     "text": [
      "[pytest]\n",
      "\n",
      "addopts = --verbose\n",
      "\n",
      "\n",
      "python_files = mathe_tools1.py mathe_tools5.py\n",
      "python_functions = *check* *test*\n"
     ]
    }
   ],
   "source": [
    "!cat pytest4.ini"
   ]
  },
  {
   "cell_type": "markdown",
   "id": "a09bb3f2-6b54-4189-b798-10f90648d176",
   "metadata": {},
   "source": [
    "Der folgende Aufruf sucht in allen Verzeichnissen und Unterverzeichnissen, d.h. sowohl im Root-Verzeichnis, als auch den Projekt- und Projektunterverzeichnissen:"
   ]
  },
  {
   "cell_type": "code",
   "execution_count": 89,
   "id": "c9f5b3d4-f05a-4ce8-af1c-e2284200f335",
   "metadata": {},
   "outputs": [
    {
     "name": "stdout",
     "output_type": "stream",
     "text": [
      "\u001b[1m============================= test session starts ==============================\u001b[0m\n",
      "platform linux -- Python 3.8.10, pytest-7.0.1, pluggy-1.0.0 -- /home/juebrauer/.local/share/virtualenvs/book_clean_code_mit_python-T4ki0mW7/bin/python\n",
      "cachedir: .pytest_cache\n",
      "rootdir: /media/veracrypt1/09_src/central/032_pytest_einfuehrung, configfile: pytest4.ini\n",
      "plugins: anyio-3.5.0\n",
      "collected 34 items                                                             \u001b[0m\n",
      "\n",
      "mathe_tools1.py::test1_addiere \u001b[32mPASSED\u001b[0m\u001b[32m                                    [  2%]\u001b[0m\n",
      "mathe_tools1.py::test2_addiere \u001b[32mPASSED\u001b[0m\u001b[32m                                    [  5%]\u001b[0m\n",
      "mathe_tools1.py::test3_addiere \u001b[32mPASSED\u001b[0m\u001b[32m                                    [  8%]\u001b[0m\n",
      "mathe_tools2.py::test1_addiere \u001b[32mPASSED\u001b[0m\u001b[32m                                    [ 11%]\u001b[0m\n",
      "mathe_tools2.py::test2_addiere \u001b[32mPASSED\u001b[0m\u001b[32m                                    [ 14%]\u001b[0m\n",
      "mathe_tools2.py::test3_addiere \u001b[32mPASSED\u001b[0m\u001b[32m                                    [ 17%]\u001b[0m\n",
      "mathe_tools2.py::test4_addiere \u001b[31mFAILED\u001b[0m\u001b[31m                                    [ 20%]\u001b[0m\n",
      "mathe_tools2.py::testaddiere \u001b[32mPASSED\u001b[0m\u001b[31m                                      [ 23%]\u001b[0m\n",
      "mathe_tools3.py::test1_addiere \u001b[32mPASSED\u001b[0m\u001b[31m                                    [ 26%]\u001b[0m\n",
      "mathe_tools3.py::addiere_test2 \u001b[32mPASSED\u001b[0m\u001b[31m                                    [ 29%]\u001b[0m\n",
      "mathe_tools3.py::addieretest3undauchnocheinpraefix \u001b[32mPASSED\u001b[0m\u001b[31m                [ 32%]\u001b[0m\n",
      "mathe_tools4.py::check1_addiere \u001b[32mPASSED\u001b[0m\u001b[31m                                   [ 35%]\u001b[0m\n",
      "mathe_tools4.py::addiere_check2_xyz \u001b[32mPASSED\u001b[0m\u001b[31m                               [ 38%]\u001b[0m\n",
      "mathe_tools4.py::check3_addiere \u001b[32mPASSED\u001b[0m\u001b[31m                                   [ 41%]\u001b[0m\n",
      "mathe_tools5.py::check1_addiere \u001b[32mPASSED\u001b[0m\u001b[31m                                   [ 44%]\u001b[0m\n",
      "mathe_tools5.py::check2_addiere \u001b[32mPASSED\u001b[0m\u001b[31m                                   [ 47%]\u001b[0m\n",
      "mathe_tools5.py::test3_addiere \u001b[32mPASSED\u001b[0m\u001b[31m                                    [ 50%]\u001b[0m\n",
      "mathe_tools5.py::test4_addiere \u001b[32mPASSED\u001b[0m\u001b[31m                                    [ 52%]\u001b[0m\n",
      "prj1/mathe_tools6.py::check1_addiere \u001b[32mPASSED\u001b[0m\u001b[31m                              [ 55%]\u001b[0m\n",
      "prj1/mathe_tools6.py::check2_addiere \u001b[32mPASSED\u001b[0m\u001b[31m                              [ 58%]\u001b[0m\n",
      "prj1/mathe_tools6.py::test3_addiere \u001b[32mPASSED\u001b[0m\u001b[31m                               [ 61%]\u001b[0m\n",
      "prj1/mathe_tools6.py::test4_addiere \u001b[32mPASSED\u001b[0m\u001b[31m                               [ 64%]\u001b[0m\n",
      "prj1/prj1_subfolder1/mathe_tools7.py::check1_addiere \u001b[32mPASSED\u001b[0m\u001b[31m              [ 67%]\u001b[0m\n",
      "prj1/prj1_subfolder1/mathe_tools7.py::check2_addiere \u001b[32mPASSED\u001b[0m\u001b[31m              [ 70%]\u001b[0m\n",
      "prj1/prj1_subfolder1/mathe_tools7.py::test3_addiere \u001b[32mPASSED\u001b[0m\u001b[31m               [ 73%]\u001b[0m\n",
      "prj1/prj1_subfolder1/mathe_tools7.py::test4_addiere \u001b[32mPASSED\u001b[0m\u001b[31m               [ 76%]\u001b[0m\n",
      "prj1/prj1_subfolder2/mathe_tools8.py::check1_addiere \u001b[32mPASSED\u001b[0m\u001b[31m              [ 79%]\u001b[0m\n",
      "prj1/prj1_subfolder2/mathe_tools8.py::check2_addiere \u001b[32mPASSED\u001b[0m\u001b[31m              [ 82%]\u001b[0m\n",
      "prj1/prj1_subfolder2/mathe_tools8.py::test3_addiere \u001b[32mPASSED\u001b[0m\u001b[31m               [ 85%]\u001b[0m\n",
      "prj1/prj1_subfolder2/mathe_tools8.py::test4_addiere \u001b[32mPASSED\u001b[0m\u001b[31m               [ 88%]\u001b[0m\n",
      "prj2/mathe_tools9.py::check1_addiere \u001b[32mPASSED\u001b[0m\u001b[31m                              [ 91%]\u001b[0m\n",
      "prj2/mathe_tools9.py::check2_addiere \u001b[32mPASSED\u001b[0m\u001b[31m                              [ 94%]\u001b[0m\n",
      "prj2/mathe_tools9.py::test3_addiere \u001b[32mPASSED\u001b[0m\u001b[31m                               [ 97%]\u001b[0m\n",
      "prj2/mathe_tools9.py::test4_addiere \u001b[32mPASSED\u001b[0m\u001b[31m                               [100%]\u001b[0m\n",
      "\n",
      "=================================== FAILURES ===================================\n",
      "\u001b[31m\u001b[1m________________________________ test4_addiere _________________________________\u001b[0m\n",
      "\n",
      "    \u001b[94mdef\u001b[39;49;00m \u001b[92mtest4_addiere\u001b[39;49;00m():\n",
      ">       \u001b[94massert\u001b[39;49;00m addiere([\u001b[94m1\u001b[39;49;00m,\u001b[94m2\u001b[39;49;00m,\u001b[94m3\u001b[39;49;00m],[\u001b[94m4\u001b[39;49;00m,\u001b[94m5\u001b[39;49;00m,\u001b[94m6\u001b[39;49;00m]) == [\u001b[94m5\u001b[39;49;00m,\u001b[94m7\u001b[39;49;00m,\u001b[94m9\u001b[39;49;00m]\n",
      "\u001b[1m\u001b[31mE       assert [1, 2, 3, 4, 5, 6] == [5, 7, 9]\u001b[0m\n",
      "\u001b[1m\u001b[31mE         At index 0 diff: 1 != 5\u001b[0m\n",
      "\u001b[1m\u001b[31mE         Left contains 3 more items, first extra item: 4\u001b[0m\n",
      "\u001b[1m\u001b[31mE         Full diff:\u001b[0m\n",
      "\u001b[1m\u001b[31mE         - [5, 7, 9]\u001b[0m\n",
      "\u001b[1m\u001b[31mE         + [1, 2, 3, 4, 5, 6]\u001b[0m\n",
      "\n",
      "\u001b[1m\u001b[31mmathe_tools2.py\u001b[0m:14: AssertionError\n",
      "=========================== short test summary info ============================\n",
      "FAILED mathe_tools2.py::test4_addiere - assert [1, 2, 3, 4, 5, 6] == [5, 7, 9]\n",
      "\u001b[31m========================= \u001b[31m\u001b[1m1 failed\u001b[0m, \u001b[32m33 passed\u001b[0m\u001b[31m in 0.16s\u001b[0m\u001b[31m =========================\u001b[0m\n"
     ]
    }
   ],
   "source": [
    "!pytest -c pytest4.ini"
   ]
  },
  {
   "cell_type": "markdown",
   "id": "6eb733e4-7a26-42df-91f3-a1e7c74bc314",
   "metadata": {},
   "source": [
    "Jetzt wollen wir die Suche einschränken auf die beiden Projekt- und Projektunterverzeichnisse:"
   ]
  },
  {
   "cell_type": "code",
   "execution_count": 90,
   "id": "d1a42544-66fb-4349-8ebd-dafc2e0a7127",
   "metadata": {},
   "outputs": [
    {
     "name": "stdout",
     "output_type": "stream",
     "text": [
      "\u001b[1m============================= test session starts ==============================\u001b[0m\n",
      "platform linux -- Python 3.8.10, pytest-7.0.1, pluggy-1.0.0 -- /home/juebrauer/.local/share/virtualenvs/book_clean_code_mit_python-T4ki0mW7/bin/python\n",
      "cachedir: .pytest_cache\n",
      "rootdir: /media/veracrypt1/09_src/central/032_pytest_einfuehrung, configfile: pytest4.ini\n",
      "plugins: anyio-3.5.0\n",
      "collected 16 items                                                             \u001b[0m\n",
      "\n",
      "prj1/mathe_tools6.py::check1_addiere \u001b[32mPASSED\u001b[0m\u001b[32m                              [  6%]\u001b[0m\n",
      "prj1/mathe_tools6.py::check2_addiere \u001b[32mPASSED\u001b[0m\u001b[32m                              [ 12%]\u001b[0m\n",
      "prj1/mathe_tools6.py::test3_addiere \u001b[32mPASSED\u001b[0m\u001b[32m                               [ 18%]\u001b[0m\n",
      "prj1/mathe_tools6.py::test4_addiere \u001b[32mPASSED\u001b[0m\u001b[32m                               [ 25%]\u001b[0m\n",
      "prj1/prj1_subfolder1/mathe_tools7.py::check1_addiere \u001b[32mPASSED\u001b[0m\u001b[32m              [ 31%]\u001b[0m\n",
      "prj1/prj1_subfolder1/mathe_tools7.py::check2_addiere \u001b[32mPASSED\u001b[0m\u001b[32m              [ 37%]\u001b[0m\n",
      "prj1/prj1_subfolder1/mathe_tools7.py::test3_addiere \u001b[32mPASSED\u001b[0m\u001b[32m               [ 43%]\u001b[0m\n",
      "prj1/prj1_subfolder1/mathe_tools7.py::test4_addiere \u001b[32mPASSED\u001b[0m\u001b[32m               [ 50%]\u001b[0m\n",
      "prj1/prj1_subfolder2/mathe_tools8.py::check1_addiere \u001b[32mPASSED\u001b[0m\u001b[32m              [ 56%]\u001b[0m\n",
      "prj1/prj1_subfolder2/mathe_tools8.py::check2_addiere \u001b[32mPASSED\u001b[0m\u001b[32m              [ 62%]\u001b[0m\n",
      "prj1/prj1_subfolder2/mathe_tools8.py::test3_addiere \u001b[32mPASSED\u001b[0m\u001b[32m               [ 68%]\u001b[0m\n",
      "prj1/prj1_subfolder2/mathe_tools8.py::test4_addiere \u001b[32mPASSED\u001b[0m\u001b[32m               [ 75%]\u001b[0m\n",
      "prj2/mathe_tools9.py::check1_addiere \u001b[32mPASSED\u001b[0m\u001b[32m                              [ 81%]\u001b[0m\n",
      "prj2/mathe_tools9.py::check2_addiere \u001b[32mPASSED\u001b[0m\u001b[32m                              [ 87%]\u001b[0m\n",
      "prj2/mathe_tools9.py::test3_addiere \u001b[32mPASSED\u001b[0m\u001b[32m                               [ 93%]\u001b[0m\n",
      "prj2/mathe_tools9.py::test4_addiere \u001b[32mPASSED\u001b[0m\u001b[32m                               [100%]\u001b[0m\n",
      "\n",
      "\u001b[32m============================== \u001b[32m\u001b[1m16 passed\u001b[0m\u001b[32m in 0.06s\u001b[0m\u001b[32m ==============================\u001b[0m\n"
     ]
    }
   ],
   "source": [
    "!pytest -c pytest4.ini prj1 prj2"
   ]
  },
  {
   "cell_type": "markdown",
   "id": "ae1db05b-2a7b-419a-8b16-8378a3e59a5a",
   "metadata": {},
   "source": [
    "Alternativ können wir die Verzeichnisse auch direkt in einer Konfigurationsdatei spezifizieren (Quizfrage):"
   ]
  },
  {
   "cell_type": "code",
   "execution_count": 91,
   "id": "e5e93e58-ddf1-4755-8df4-d92d043c1013",
   "metadata": {},
   "outputs": [
    {
     "name": "stdout",
     "output_type": "stream",
     "text": [
      "\u001b[1m============================= test session starts ==============================\u001b[0m\n",
      "platform linux -- Python 3.8.10, pytest-7.0.1, pluggy-1.0.0 -- /home/juebrauer/.local/share/virtualenvs/book_clean_code_mit_python-T4ki0mW7/bin/python\n",
      "cachedir: .pytest_cache\n",
      "rootdir: /media/veracrypt1/09_src/central/032_pytest_einfuehrung, configfile: pytest5.ini, testpaths: prj1, prj2\n",
      "plugins: anyio-3.5.0\n",
      "collected 16 items                                                             \u001b[0m\n",
      "\n",
      "prj1/mathe_tools6.py::check1_addiere \u001b[32mPASSED\u001b[0m\u001b[32m                              [  6%]\u001b[0m\n",
      "prj1/mathe_tools6.py::check2_addiere \u001b[32mPASSED\u001b[0m\u001b[32m                              [ 12%]\u001b[0m\n",
      "prj1/mathe_tools6.py::test3_addiere \u001b[32mPASSED\u001b[0m\u001b[32m                               [ 18%]\u001b[0m\n",
      "prj1/mathe_tools6.py::test4_addiere \u001b[32mPASSED\u001b[0m\u001b[32m                               [ 25%]\u001b[0m\n",
      "prj1/prj1_subfolder1/mathe_tools7.py::check1_addiere \u001b[32mPASSED\u001b[0m\u001b[32m              [ 31%]\u001b[0m\n",
      "prj1/prj1_subfolder1/mathe_tools7.py::check2_addiere \u001b[32mPASSED\u001b[0m\u001b[32m              [ 37%]\u001b[0m\n",
      "prj1/prj1_subfolder1/mathe_tools7.py::test3_addiere \u001b[32mPASSED\u001b[0m\u001b[32m               [ 43%]\u001b[0m\n",
      "prj1/prj1_subfolder1/mathe_tools7.py::test4_addiere \u001b[32mPASSED\u001b[0m\u001b[32m               [ 50%]\u001b[0m\n",
      "prj1/prj1_subfolder2/mathe_tools8.py::check1_addiere \u001b[32mPASSED\u001b[0m\u001b[32m              [ 56%]\u001b[0m\n",
      "prj1/prj1_subfolder2/mathe_tools8.py::check2_addiere \u001b[32mPASSED\u001b[0m\u001b[32m              [ 62%]\u001b[0m\n",
      "prj1/prj1_subfolder2/mathe_tools8.py::test3_addiere \u001b[32mPASSED\u001b[0m\u001b[32m               [ 68%]\u001b[0m\n",
      "prj1/prj1_subfolder2/mathe_tools8.py::test4_addiere \u001b[32mPASSED\u001b[0m\u001b[32m               [ 75%]\u001b[0m\n",
      "prj2/mathe_tools9.py::check1_addiere \u001b[32mPASSED\u001b[0m\u001b[32m                              [ 81%]\u001b[0m\n",
      "prj2/mathe_tools9.py::check2_addiere \u001b[32mPASSED\u001b[0m\u001b[32m                              [ 87%]\u001b[0m\n",
      "prj2/mathe_tools9.py::test3_addiere \u001b[32mPASSED\u001b[0m\u001b[32m                               [ 93%]\u001b[0m\n",
      "prj2/mathe_tools9.py::test4_addiere \u001b[32mPASSED\u001b[0m\u001b[32m                               [100%]\u001b[0m\n",
      "\n",
      "\u001b[32m============================== \u001b[32m\u001b[1m16 passed\u001b[0m\u001b[32m in 0.07s\u001b[0m\u001b[32m ==============================\u001b[0m\n"
     ]
    }
   ],
   "source": [
    "!pytest -c pytest5.ini"
   ]
  },
  {
   "cell_type": "markdown",
   "id": "89ce271a-1eb5-4d39-b0b0-a84f42627d48",
   "metadata": {},
   "source": [
    "# Quizfrage: Ausschließen von Unterverzeichnissen\n",
    "\n",
    "Frage: Wie können jetzt die Unterverzeichnisse `prj1_subfolder1` und `prj1_subfolder2` von der Suche nach Testfunktionen ausgeschlossen werden?"
   ]
  },
  {
   "cell_type": "code",
   "execution_count": 93,
   "id": "858d145b-3eec-4673-99a8-84d3e7a4f24f",
   "metadata": {},
   "outputs": [
    {
     "name": "stdout",
     "output_type": "stream",
     "text": [
      "[pytest]\n",
      "\n",
      "addopts = --verbose\n",
      "\n",
      "testpaths = prj1 prj2\n",
      "python_files = mathe_tools*.py\n",
      "python_functions = *check* *test*\n"
     ]
    }
   ],
   "source": [
    "!cat pytest5.ini"
   ]
  },
  {
   "cell_type": "markdown",
   "id": "0877dcfe-dfeb-4887-938b-fa02c3162801",
   "metadata": {},
   "source": [
    "So werden ja noch auch die Unterverzeichnisse miteinbezogen:"
   ]
  },
  {
   "cell_type": "code",
   "execution_count": 94,
   "id": "019417f2-6e8f-45a3-ab18-d971e4b55498",
   "metadata": {},
   "outputs": [
    {
     "name": "stdout",
     "output_type": "stream",
     "text": [
      "\u001b[1m============================= test session starts ==============================\u001b[0m\n",
      "platform linux -- Python 3.8.10, pytest-7.0.1, pluggy-1.0.0 -- /home/juebrauer/.local/share/virtualenvs/book_clean_code_mit_python-T4ki0mW7/bin/python\n",
      "cachedir: .pytest_cache\n",
      "rootdir: /media/veracrypt1/09_src/central/032_pytest_einfuehrung, configfile: pytest5.ini, testpaths: prj1, prj2\n",
      "plugins: anyio-3.5.0\n",
      "collected 16 items                                                             \u001b[0m\n",
      "\n",
      "prj1/mathe_tools6.py::check1_addiere \u001b[32mPASSED\u001b[0m\u001b[32m                              [  6%]\u001b[0m\n",
      "prj1/mathe_tools6.py::check2_addiere \u001b[32mPASSED\u001b[0m\u001b[32m                              [ 12%]\u001b[0m\n",
      "prj1/mathe_tools6.py::test3_addiere \u001b[32mPASSED\u001b[0m\u001b[32m                               [ 18%]\u001b[0m\n",
      "prj1/mathe_tools6.py::test4_addiere \u001b[32mPASSED\u001b[0m\u001b[32m                               [ 25%]\u001b[0m\n",
      "prj1/prj1_subfolder1/mathe_tools7.py::check1_addiere \u001b[32mPASSED\u001b[0m\u001b[32m              [ 31%]\u001b[0m\n",
      "prj1/prj1_subfolder1/mathe_tools7.py::check2_addiere \u001b[32mPASSED\u001b[0m\u001b[32m              [ 37%]\u001b[0m\n",
      "prj1/prj1_subfolder1/mathe_tools7.py::test3_addiere \u001b[32mPASSED\u001b[0m\u001b[32m               [ 43%]\u001b[0m\n",
      "prj1/prj1_subfolder1/mathe_tools7.py::test4_addiere \u001b[32mPASSED\u001b[0m\u001b[32m               [ 50%]\u001b[0m\n",
      "prj1/prj1_subfolder2/mathe_tools8.py::check1_addiere \u001b[32mPASSED\u001b[0m\u001b[32m              [ 56%]\u001b[0m\n",
      "prj1/prj1_subfolder2/mathe_tools8.py::check2_addiere \u001b[32mPASSED\u001b[0m\u001b[32m              [ 62%]\u001b[0m\n",
      "prj1/prj1_subfolder2/mathe_tools8.py::test3_addiere \u001b[32mPASSED\u001b[0m\u001b[32m               [ 68%]\u001b[0m\n",
      "prj1/prj1_subfolder2/mathe_tools8.py::test4_addiere \u001b[32mPASSED\u001b[0m\u001b[32m               [ 75%]\u001b[0m\n",
      "prj2/mathe_tools9.py::check1_addiere \u001b[32mPASSED\u001b[0m\u001b[32m                              [ 81%]\u001b[0m\n",
      "prj2/mathe_tools9.py::check2_addiere \u001b[32mPASSED\u001b[0m\u001b[32m                              [ 87%]\u001b[0m\n",
      "prj2/mathe_tools9.py::test3_addiere \u001b[32mPASSED\u001b[0m\u001b[32m                               [ 93%]\u001b[0m\n",
      "prj2/mathe_tools9.py::test4_addiere \u001b[32mPASSED\u001b[0m\u001b[32m                               [100%]\u001b[0m\n",
      "\n",
      "\u001b[32m============================== \u001b[32m\u001b[1m16 passed\u001b[0m\u001b[32m in 0.06s\u001b[0m\u001b[32m ==============================\u001b[0m\n"
     ]
    }
   ],
   "source": [
    "!pytest -c pytest5.ini"
   ]
  },
  {
   "cell_type": "markdown",
   "id": "1bc17e27-4f51-4c4f-b0a2-15b4081d9a54",
   "metadata": {},
   "source": [
    "Mittels dem Kommandozeilenschalter `--ignore=PFADNAME` können wir einzelne Verzeichnisse ausschließen:"
   ]
  },
  {
   "cell_type": "code",
   "execution_count": 99,
   "id": "21f66118-99f8-494d-96ab-6b5c7fd3c5bd",
   "metadata": {},
   "outputs": [
    {
     "name": "stdout",
     "output_type": "stream",
     "text": [
      "\u001b[1m============================= test session starts ==============================\u001b[0m\n",
      "platform linux -- Python 3.8.10, pytest-7.0.1, pluggy-1.0.0 -- /home/juebrauer/.local/share/virtualenvs/book_clean_code_mit_python-T4ki0mW7/bin/python\n",
      "cachedir: .pytest_cache\n",
      "rootdir: /media/veracrypt1/09_src/central/032_pytest_einfuehrung, configfile: pytest5.ini, testpaths: prj1, prj2\n",
      "plugins: anyio-3.5.0\n",
      "collected 8 items                                                              \u001b[0m\n",
      "\n",
      "prj1/mathe_tools6.py::check1_addiere \u001b[32mPASSED\u001b[0m\u001b[32m                              [ 12%]\u001b[0m\n",
      "prj1/mathe_tools6.py::check2_addiere \u001b[32mPASSED\u001b[0m\u001b[32m                              [ 25%]\u001b[0m\n",
      "prj1/mathe_tools6.py::test3_addiere \u001b[32mPASSED\u001b[0m\u001b[32m                               [ 37%]\u001b[0m\n",
      "prj1/mathe_tools6.py::test4_addiere \u001b[32mPASSED\u001b[0m\u001b[32m                               [ 50%]\u001b[0m\n",
      "prj2/mathe_tools9.py::check1_addiere \u001b[32mPASSED\u001b[0m\u001b[32m                              [ 62%]\u001b[0m\n",
      "prj2/mathe_tools9.py::check2_addiere \u001b[32mPASSED\u001b[0m\u001b[32m                              [ 75%]\u001b[0m\n",
      "prj2/mathe_tools9.py::test3_addiere \u001b[32mPASSED\u001b[0m\u001b[32m                               [ 87%]\u001b[0m\n",
      "prj2/mathe_tools9.py::test4_addiere \u001b[32mPASSED\u001b[0m\u001b[32m                               [100%]\u001b[0m\n",
      "\n",
      "\u001b[32m============================== \u001b[32m\u001b[1m8 passed\u001b[0m\u001b[32m in 0.04s\u001b[0m\u001b[32m ===============================\u001b[0m\n"
     ]
    }
   ],
   "source": [
    "!pytest -c pytest5.ini --ignore=prj1/prj1_subfolder1 --ignore=prj1/prj1_subfolder2"
   ]
  },
  {
   "cell_type": "markdown",
   "id": "91a8541d-8187-4c34-8bfa-d6ada5186155",
   "metadata": {},
   "source": [
    "Alternativ können wir mit dem Schalter `--ignore-glob` auch ein Muster angeben um gleich mehrere Verzeichnisse auszuschließen:"
   ]
  },
  {
   "cell_type": "code",
   "execution_count": 101,
   "id": "86be92f5-d17b-43c1-a632-79c2d4e66a84",
   "metadata": {},
   "outputs": [
    {
     "name": "stdout",
     "output_type": "stream",
     "text": [
      "\u001b[1m============================= test session starts ==============================\u001b[0m\n",
      "platform linux -- Python 3.8.10, pytest-7.0.1, pluggy-1.0.0 -- /home/juebrauer/.local/share/virtualenvs/book_clean_code_mit_python-T4ki0mW7/bin/python\n",
      "cachedir: .pytest_cache\n",
      "rootdir: /media/veracrypt1/09_src/central/032_pytest_einfuehrung, configfile: pytest5.ini, testpaths: prj1, prj2\n",
      "plugins: anyio-3.5.0\n",
      "collected 8 items                                                              \u001b[0m\n",
      "\n",
      "prj1/mathe_tools6.py::check1_addiere \u001b[32mPASSED\u001b[0m\u001b[32m                              [ 12%]\u001b[0m\n",
      "prj1/mathe_tools6.py::check2_addiere \u001b[32mPASSED\u001b[0m\u001b[32m                              [ 25%]\u001b[0m\n",
      "prj1/mathe_tools6.py::test3_addiere \u001b[32mPASSED\u001b[0m\u001b[32m                               [ 37%]\u001b[0m\n",
      "prj1/mathe_tools6.py::test4_addiere \u001b[32mPASSED\u001b[0m\u001b[32m                               [ 50%]\u001b[0m\n",
      "prj2/mathe_tools9.py::check1_addiere \u001b[32mPASSED\u001b[0m\u001b[32m                              [ 62%]\u001b[0m\n",
      "prj2/mathe_tools9.py::check2_addiere \u001b[32mPASSED\u001b[0m\u001b[32m                              [ 75%]\u001b[0m\n",
      "prj2/mathe_tools9.py::test3_addiere \u001b[32mPASSED\u001b[0m\u001b[32m                               [ 87%]\u001b[0m\n",
      "prj2/mathe_tools9.py::test4_addiere \u001b[32mPASSED\u001b[0m\u001b[32m                               [100%]\u001b[0m\n",
      "\n",
      "\u001b[32m============================== \u001b[32m\u001b[1m8 passed\u001b[0m\u001b[32m in 0.04s\u001b[0m\u001b[32m ===============================\u001b[0m\n"
     ]
    }
   ],
   "source": [
    "!pytest -c pytest5.ini --ignore-glob=prj1/prj1_subfolder*"
   ]
  },
  {
   "cell_type": "markdown",
   "id": "d88501f2-8439-4d7c-9e28-b879572fa335",
   "metadata": {},
   "source": [
    "Wenn man alle Unterverzeichnisse ausschließen möchte, kann man dies auch über eine Einstellung in der Konfigurationsdatei machen:"
   ]
  },
  {
   "cell_type": "code",
   "execution_count": 103,
   "id": "2d367b41-fa00-4a57-ae9e-3786fbccd70e",
   "metadata": {},
   "outputs": [
    {
     "name": "stdout",
     "output_type": "stream",
     "text": [
      "[pytest]\n",
      "\n",
      "addopts = --verbose\n",
      "\n",
      "testpaths = prj1 prj2\n",
      "norecursedirs = prj1\n",
      "python_files = mathe_tools*.py\n",
      "python_functions = *check* *test*\n"
     ]
    }
   ],
   "source": [
    "!cat pytest6.ini"
   ]
  },
  {
   "cell_type": "code",
   "execution_count": 105,
   "id": "bd3c3ba9-dba5-48a0-9663-e9a7247f480f",
   "metadata": {},
   "outputs": [
    {
     "name": "stdout",
     "output_type": "stream",
     "text": [
      "\u001b[1m============================= test session starts ==============================\u001b[0m\n",
      "platform linux -- Python 3.8.10, pytest-7.0.1, pluggy-1.0.0 -- /home/juebrauer/.local/share/virtualenvs/book_clean_code_mit_python-T4ki0mW7/bin/python\n",
      "cachedir: .pytest_cache\n",
      "rootdir: /media/veracrypt1/09_src/central/032_pytest_einfuehrung, configfile: pytest6.ini, testpaths: prj1, prj2\n",
      "plugins: anyio-3.5.0\n",
      "collected 8 items                                                              \u001b[0m\n",
      "\n",
      "prj1/mathe_tools6.py::check1_addiere \u001b[32mPASSED\u001b[0m\u001b[32m                              [ 12%]\u001b[0m\n",
      "prj1/mathe_tools6.py::check2_addiere \u001b[32mPASSED\u001b[0m\u001b[32m                              [ 25%]\u001b[0m\n",
      "prj1/mathe_tools6.py::test3_addiere \u001b[32mPASSED\u001b[0m\u001b[32m                               [ 37%]\u001b[0m\n",
      "prj1/mathe_tools6.py::test4_addiere \u001b[32mPASSED\u001b[0m\u001b[32m                               [ 50%]\u001b[0m\n",
      "prj2/mathe_tools9.py::check1_addiere \u001b[32mPASSED\u001b[0m\u001b[32m                              [ 62%]\u001b[0m\n",
      "prj2/mathe_tools9.py::check2_addiere \u001b[32mPASSED\u001b[0m\u001b[32m                              [ 75%]\u001b[0m\n",
      "prj2/mathe_tools9.py::test3_addiere \u001b[32mPASSED\u001b[0m\u001b[32m                               [ 87%]\u001b[0m\n",
      "prj2/mathe_tools9.py::test4_addiere \u001b[32mPASSED\u001b[0m\u001b[32m                               [100%]\u001b[0m\n",
      "\n",
      "\u001b[32m============================== \u001b[32m\u001b[1m8 passed\u001b[0m\u001b[32m in 0.04s\u001b[0m\u001b[32m ===============================\u001b[0m\n"
     ]
    }
   ],
   "source": [
    "!pytest -c pytest6.ini"
   ]
  },
  {
   "cell_type": "markdown",
   "id": "0bcc492b-adfb-4260-a76f-4076a96b626f",
   "metadata": {},
   "source": [
    "# Spezifieren des Python-Interpreters"
   ]
  },
  {
   "cell_type": "code",
   "execution_count": null,
   "id": "1e482441-e20c-487e-b782-a17d7983221f",
   "metadata": {},
   "outputs": [],
   "source": []
  },
  {
   "cell_type": "markdown",
   "id": "4258c8aa-360c-48c6-acea-d685e5cd48cc",
   "metadata": {},
   "source": [
    "# Mehrere `asserts` in einer Funktion"
   ]
  },
  {
   "cell_type": "code",
   "execution_count": null,
   "id": "d9e6dec8-fef7-421a-9bfe-7b42651f3100",
   "metadata": {},
   "outputs": [],
   "source": []
  },
  {
   "cell_type": "code",
   "execution_count": null,
   "id": "a50dd0e2-6877-46f6-9cda-e8a43c61b24e",
   "metadata": {},
   "outputs": [],
   "source": []
  },
  {
   "cell_type": "code",
   "execution_count": null,
   "id": "e56efc2a-5b3e-4db1-a789-2fedb5c6d84a",
   "metadata": {},
   "outputs": [],
   "source": []
  },
  {
   "cell_type": "code",
   "execution_count": null,
   "id": "15eddc19-cee0-4474-a899-8a96ded20e36",
   "metadata": {},
   "outputs": [],
   "source": []
  },
  {
   "cell_type": "markdown",
   "id": "a87ea63d-8e4d-4f15-9b3a-bc13fe0630a1",
   "metadata": {},
   "source": [
    "# Testklassen"
   ]
  },
  {
   "cell_type": "code",
   "execution_count": null,
   "id": "5b38ef52-2a47-49f0-be7d-77e6637c5651",
   "metadata": {},
   "outputs": [],
   "source": []
  }
 ],
 "metadata": {
  "kernelspec": {
   "display_name": "Python 3 (ipykernel)",
   "language": "python",
   "name": "python3"
  },
  "language_info": {
   "codemirror_mode": {
    "name": "ipython",
    "version": 3
   },
   "file_extension": ".py",
   "mimetype": "text/x-python",
   "name": "python",
   "nbconvert_exporter": "python",
   "pygments_lexer": "ipython3",
   "version": "3.8.10"
  }
 },
 "nbformat": 4,
 "nbformat_minor": 5
}
