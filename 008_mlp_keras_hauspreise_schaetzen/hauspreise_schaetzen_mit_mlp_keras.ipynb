{
 "cells": [
  {
   "cell_type": "markdown",
   "metadata": {},
   "source": [
    "# Einleitung"
   ]
  },
  {
   "cell_type": "markdown",
   "metadata": {},
   "source": [
    "In diesem Jupyter-Notebook durchlaufen wir alle relevanten Schritte des Machine-Learnings."
   ]
  },
  {
   "cell_type": "markdown",
   "metadata": {},
   "source": [
    "# Verwendeter Datensatz"
   ]
  },
  {
   "cell_type": "markdown",
   "metadata": {},
   "source": [
    "Wir wollen mit realen Daten arbeiten. Bei [Kaggle](https://www.kaggle.com/) können wir viele Datensätze finden. Diesen hier verwenden wir im Folgenden:\n",
    "\n",
    "https://www.kaggle.com/c/house-prices-advanced-regression-techniques\n",
    "\n",
    "Der Datensatz enthält in den Trainingsdaten 1460 Beispiele von Häusern, wobei deren Eigenschaften und deren jeweiliger tatsächlicher Verkaufspreis aufgeführt ist."
   ]
  },
  {
   "cell_type": "markdown",
   "metadata": {},
   "source": [
    "# Daten einlesen"
   ]
  },
  {
   "cell_type": "code",
   "execution_count": 1,
   "metadata": {},
   "outputs": [],
   "source": [
    "import pandas as pd"
   ]
  },
  {
   "cell_type": "code",
   "execution_count": 2,
   "metadata": {},
   "outputs": [],
   "source": [
    "t = pd.read_csv(\"hausbeispiele.csv\")"
   ]
  },
  {
   "cell_type": "code",
   "execution_count": 3,
   "metadata": {},
   "outputs": [
    {
     "data": {
      "text/html": [
       "<div>\n",
       "<style scoped>\n",
       "    .dataframe tbody tr th:only-of-type {\n",
       "        vertical-align: middle;\n",
       "    }\n",
       "\n",
       "    .dataframe tbody tr th {\n",
       "        vertical-align: top;\n",
       "    }\n",
       "\n",
       "    .dataframe thead th {\n",
       "        text-align: right;\n",
       "    }\n",
       "</style>\n",
       "<table border=\"1\" class=\"dataframe\">\n",
       "  <thead>\n",
       "    <tr style=\"text-align: right;\">\n",
       "      <th></th>\n",
       "      <th>Id</th>\n",
       "      <th>MSSubClass</th>\n",
       "      <th>MSZoning</th>\n",
       "      <th>LotFrontage</th>\n",
       "      <th>LotArea</th>\n",
       "      <th>Street</th>\n",
       "      <th>Alley</th>\n",
       "      <th>LotShape</th>\n",
       "      <th>LandContour</th>\n",
       "      <th>Utilities</th>\n",
       "      <th>...</th>\n",
       "      <th>PoolArea</th>\n",
       "      <th>PoolQC</th>\n",
       "      <th>Fence</th>\n",
       "      <th>MiscFeature</th>\n",
       "      <th>MiscVal</th>\n",
       "      <th>MoSold</th>\n",
       "      <th>YrSold</th>\n",
       "      <th>SaleType</th>\n",
       "      <th>SaleCondition</th>\n",
       "      <th>SalePrice</th>\n",
       "    </tr>\n",
       "  </thead>\n",
       "  <tbody>\n",
       "    <tr>\n",
       "      <th>0</th>\n",
       "      <td>1</td>\n",
       "      <td>60</td>\n",
       "      <td>RL</td>\n",
       "      <td>65.0</td>\n",
       "      <td>8450</td>\n",
       "      <td>Pave</td>\n",
       "      <td>NaN</td>\n",
       "      <td>Reg</td>\n",
       "      <td>Lvl</td>\n",
       "      <td>AllPub</td>\n",
       "      <td>...</td>\n",
       "      <td>0</td>\n",
       "      <td>NaN</td>\n",
       "      <td>NaN</td>\n",
       "      <td>NaN</td>\n",
       "      <td>0</td>\n",
       "      <td>2</td>\n",
       "      <td>2008</td>\n",
       "      <td>WD</td>\n",
       "      <td>Normal</td>\n",
       "      <td>208500</td>\n",
       "    </tr>\n",
       "    <tr>\n",
       "      <th>1</th>\n",
       "      <td>2</td>\n",
       "      <td>20</td>\n",
       "      <td>RL</td>\n",
       "      <td>80.0</td>\n",
       "      <td>9600</td>\n",
       "      <td>Pave</td>\n",
       "      <td>NaN</td>\n",
       "      <td>Reg</td>\n",
       "      <td>Lvl</td>\n",
       "      <td>AllPub</td>\n",
       "      <td>...</td>\n",
       "      <td>0</td>\n",
       "      <td>NaN</td>\n",
       "      <td>NaN</td>\n",
       "      <td>NaN</td>\n",
       "      <td>0</td>\n",
       "      <td>5</td>\n",
       "      <td>2007</td>\n",
       "      <td>WD</td>\n",
       "      <td>Normal</td>\n",
       "      <td>181500</td>\n",
       "    </tr>\n",
       "    <tr>\n",
       "      <th>2</th>\n",
       "      <td>3</td>\n",
       "      <td>60</td>\n",
       "      <td>RL</td>\n",
       "      <td>68.0</td>\n",
       "      <td>11250</td>\n",
       "      <td>Pave</td>\n",
       "      <td>NaN</td>\n",
       "      <td>IR1</td>\n",
       "      <td>Lvl</td>\n",
       "      <td>AllPub</td>\n",
       "      <td>...</td>\n",
       "      <td>0</td>\n",
       "      <td>NaN</td>\n",
       "      <td>NaN</td>\n",
       "      <td>NaN</td>\n",
       "      <td>0</td>\n",
       "      <td>9</td>\n",
       "      <td>2008</td>\n",
       "      <td>WD</td>\n",
       "      <td>Normal</td>\n",
       "      <td>223500</td>\n",
       "    </tr>\n",
       "    <tr>\n",
       "      <th>3</th>\n",
       "      <td>4</td>\n",
       "      <td>70</td>\n",
       "      <td>RL</td>\n",
       "      <td>60.0</td>\n",
       "      <td>9550</td>\n",
       "      <td>Pave</td>\n",
       "      <td>NaN</td>\n",
       "      <td>IR1</td>\n",
       "      <td>Lvl</td>\n",
       "      <td>AllPub</td>\n",
       "      <td>...</td>\n",
       "      <td>0</td>\n",
       "      <td>NaN</td>\n",
       "      <td>NaN</td>\n",
       "      <td>NaN</td>\n",
       "      <td>0</td>\n",
       "      <td>2</td>\n",
       "      <td>2006</td>\n",
       "      <td>WD</td>\n",
       "      <td>Abnorml</td>\n",
       "      <td>140000</td>\n",
       "    </tr>\n",
       "    <tr>\n",
       "      <th>4</th>\n",
       "      <td>5</td>\n",
       "      <td>60</td>\n",
       "      <td>RL</td>\n",
       "      <td>84.0</td>\n",
       "      <td>14260</td>\n",
       "      <td>Pave</td>\n",
       "      <td>NaN</td>\n",
       "      <td>IR1</td>\n",
       "      <td>Lvl</td>\n",
       "      <td>AllPub</td>\n",
       "      <td>...</td>\n",
       "      <td>0</td>\n",
       "      <td>NaN</td>\n",
       "      <td>NaN</td>\n",
       "      <td>NaN</td>\n",
       "      <td>0</td>\n",
       "      <td>12</td>\n",
       "      <td>2008</td>\n",
       "      <td>WD</td>\n",
       "      <td>Normal</td>\n",
       "      <td>250000</td>\n",
       "    </tr>\n",
       "    <tr>\n",
       "      <th>...</th>\n",
       "      <td>...</td>\n",
       "      <td>...</td>\n",
       "      <td>...</td>\n",
       "      <td>...</td>\n",
       "      <td>...</td>\n",
       "      <td>...</td>\n",
       "      <td>...</td>\n",
       "      <td>...</td>\n",
       "      <td>...</td>\n",
       "      <td>...</td>\n",
       "      <td>...</td>\n",
       "      <td>...</td>\n",
       "      <td>...</td>\n",
       "      <td>...</td>\n",
       "      <td>...</td>\n",
       "      <td>...</td>\n",
       "      <td>...</td>\n",
       "      <td>...</td>\n",
       "      <td>...</td>\n",
       "      <td>...</td>\n",
       "      <td>...</td>\n",
       "    </tr>\n",
       "    <tr>\n",
       "      <th>1455</th>\n",
       "      <td>1456</td>\n",
       "      <td>60</td>\n",
       "      <td>RL</td>\n",
       "      <td>62.0</td>\n",
       "      <td>7917</td>\n",
       "      <td>Pave</td>\n",
       "      <td>NaN</td>\n",
       "      <td>Reg</td>\n",
       "      <td>Lvl</td>\n",
       "      <td>AllPub</td>\n",
       "      <td>...</td>\n",
       "      <td>0</td>\n",
       "      <td>NaN</td>\n",
       "      <td>NaN</td>\n",
       "      <td>NaN</td>\n",
       "      <td>0</td>\n",
       "      <td>8</td>\n",
       "      <td>2007</td>\n",
       "      <td>WD</td>\n",
       "      <td>Normal</td>\n",
       "      <td>175000</td>\n",
       "    </tr>\n",
       "    <tr>\n",
       "      <th>1456</th>\n",
       "      <td>1457</td>\n",
       "      <td>20</td>\n",
       "      <td>RL</td>\n",
       "      <td>85.0</td>\n",
       "      <td>13175</td>\n",
       "      <td>Pave</td>\n",
       "      <td>NaN</td>\n",
       "      <td>Reg</td>\n",
       "      <td>Lvl</td>\n",
       "      <td>AllPub</td>\n",
       "      <td>...</td>\n",
       "      <td>0</td>\n",
       "      <td>NaN</td>\n",
       "      <td>MnPrv</td>\n",
       "      <td>NaN</td>\n",
       "      <td>0</td>\n",
       "      <td>2</td>\n",
       "      <td>2010</td>\n",
       "      <td>WD</td>\n",
       "      <td>Normal</td>\n",
       "      <td>210000</td>\n",
       "    </tr>\n",
       "    <tr>\n",
       "      <th>1457</th>\n",
       "      <td>1458</td>\n",
       "      <td>70</td>\n",
       "      <td>RL</td>\n",
       "      <td>66.0</td>\n",
       "      <td>9042</td>\n",
       "      <td>Pave</td>\n",
       "      <td>NaN</td>\n",
       "      <td>Reg</td>\n",
       "      <td>Lvl</td>\n",
       "      <td>AllPub</td>\n",
       "      <td>...</td>\n",
       "      <td>0</td>\n",
       "      <td>NaN</td>\n",
       "      <td>GdPrv</td>\n",
       "      <td>Shed</td>\n",
       "      <td>2500</td>\n",
       "      <td>5</td>\n",
       "      <td>2010</td>\n",
       "      <td>WD</td>\n",
       "      <td>Normal</td>\n",
       "      <td>266500</td>\n",
       "    </tr>\n",
       "    <tr>\n",
       "      <th>1458</th>\n",
       "      <td>1459</td>\n",
       "      <td>20</td>\n",
       "      <td>RL</td>\n",
       "      <td>68.0</td>\n",
       "      <td>9717</td>\n",
       "      <td>Pave</td>\n",
       "      <td>NaN</td>\n",
       "      <td>Reg</td>\n",
       "      <td>Lvl</td>\n",
       "      <td>AllPub</td>\n",
       "      <td>...</td>\n",
       "      <td>0</td>\n",
       "      <td>NaN</td>\n",
       "      <td>NaN</td>\n",
       "      <td>NaN</td>\n",
       "      <td>0</td>\n",
       "      <td>4</td>\n",
       "      <td>2010</td>\n",
       "      <td>WD</td>\n",
       "      <td>Normal</td>\n",
       "      <td>142125</td>\n",
       "    </tr>\n",
       "    <tr>\n",
       "      <th>1459</th>\n",
       "      <td>1460</td>\n",
       "      <td>20</td>\n",
       "      <td>RL</td>\n",
       "      <td>75.0</td>\n",
       "      <td>9937</td>\n",
       "      <td>Pave</td>\n",
       "      <td>NaN</td>\n",
       "      <td>Reg</td>\n",
       "      <td>Lvl</td>\n",
       "      <td>AllPub</td>\n",
       "      <td>...</td>\n",
       "      <td>0</td>\n",
       "      <td>NaN</td>\n",
       "      <td>NaN</td>\n",
       "      <td>NaN</td>\n",
       "      <td>0</td>\n",
       "      <td>6</td>\n",
       "      <td>2008</td>\n",
       "      <td>WD</td>\n",
       "      <td>Normal</td>\n",
       "      <td>147500</td>\n",
       "    </tr>\n",
       "  </tbody>\n",
       "</table>\n",
       "<p>1460 rows × 81 columns</p>\n",
       "</div>"
      ],
      "text/plain": [
       "        Id  MSSubClass MSZoning  LotFrontage  LotArea Street Alley LotShape  \\\n",
       "0        1          60       RL         65.0     8450   Pave   NaN      Reg   \n",
       "1        2          20       RL         80.0     9600   Pave   NaN      Reg   \n",
       "2        3          60       RL         68.0    11250   Pave   NaN      IR1   \n",
       "3        4          70       RL         60.0     9550   Pave   NaN      IR1   \n",
       "4        5          60       RL         84.0    14260   Pave   NaN      IR1   \n",
       "...    ...         ...      ...          ...      ...    ...   ...      ...   \n",
       "1455  1456          60       RL         62.0     7917   Pave   NaN      Reg   \n",
       "1456  1457          20       RL         85.0    13175   Pave   NaN      Reg   \n",
       "1457  1458          70       RL         66.0     9042   Pave   NaN      Reg   \n",
       "1458  1459          20       RL         68.0     9717   Pave   NaN      Reg   \n",
       "1459  1460          20       RL         75.0     9937   Pave   NaN      Reg   \n",
       "\n",
       "     LandContour Utilities  ... PoolArea PoolQC  Fence MiscFeature MiscVal  \\\n",
       "0            Lvl    AllPub  ...        0    NaN    NaN         NaN       0   \n",
       "1            Lvl    AllPub  ...        0    NaN    NaN         NaN       0   \n",
       "2            Lvl    AllPub  ...        0    NaN    NaN         NaN       0   \n",
       "3            Lvl    AllPub  ...        0    NaN    NaN         NaN       0   \n",
       "4            Lvl    AllPub  ...        0    NaN    NaN         NaN       0   \n",
       "...          ...       ...  ...      ...    ...    ...         ...     ...   \n",
       "1455         Lvl    AllPub  ...        0    NaN    NaN         NaN       0   \n",
       "1456         Lvl    AllPub  ...        0    NaN  MnPrv         NaN       0   \n",
       "1457         Lvl    AllPub  ...        0    NaN  GdPrv        Shed    2500   \n",
       "1458         Lvl    AllPub  ...        0    NaN    NaN         NaN       0   \n",
       "1459         Lvl    AllPub  ...        0    NaN    NaN         NaN       0   \n",
       "\n",
       "     MoSold YrSold  SaleType  SaleCondition  SalePrice  \n",
       "0         2   2008        WD         Normal     208500  \n",
       "1         5   2007        WD         Normal     181500  \n",
       "2         9   2008        WD         Normal     223500  \n",
       "3         2   2006        WD        Abnorml     140000  \n",
       "4        12   2008        WD         Normal     250000  \n",
       "...     ...    ...       ...            ...        ...  \n",
       "1455      8   2007        WD         Normal     175000  \n",
       "1456      2   2010        WD         Normal     210000  \n",
       "1457      5   2010        WD         Normal     266500  \n",
       "1458      4   2010        WD         Normal     142125  \n",
       "1459      6   2008        WD         Normal     147500  \n",
       "\n",
       "[1460 rows x 81 columns]"
      ]
     },
     "execution_count": 3,
     "metadata": {},
     "output_type": "execute_result"
    }
   ],
   "source": [
    "t"
   ]
  },
  {
   "cell_type": "code",
   "execution_count": 4,
   "metadata": {},
   "outputs": [
    {
     "data": {
      "text/plain": [
       "0       2003\n",
       "1       1976\n",
       "2       2001\n",
       "3       1915\n",
       "4       2000\n",
       "        ... \n",
       "1455    1999\n",
       "1456    1978\n",
       "1457    1941\n",
       "1458    1950\n",
       "1459    1965\n",
       "Name: YearBuilt, Length: 1460, dtype: int64"
      ]
     },
     "execution_count": 4,
     "metadata": {},
     "output_type": "execute_result"
    }
   ],
   "source": [
    "t[\"YearBuilt\"]"
   ]
  },
  {
   "cell_type": "code",
   "execution_count": 5,
   "metadata": {},
   "outputs": [
    {
     "data": {
      "text/plain": [
       "(1460, 81)"
      ]
     },
     "execution_count": 5,
     "metadata": {},
     "output_type": "execute_result"
    }
   ],
   "source": [
    "t.shape"
   ]
  },
  {
   "cell_type": "code",
   "execution_count": 6,
   "metadata": {},
   "outputs": [
    {
     "data": {
      "text/html": [
       "<div>\n",
       "<style scoped>\n",
       "    .dataframe tbody tr th:only-of-type {\n",
       "        vertical-align: middle;\n",
       "    }\n",
       "\n",
       "    .dataframe tbody tr th {\n",
       "        vertical-align: top;\n",
       "    }\n",
       "\n",
       "    .dataframe thead th {\n",
       "        text-align: right;\n",
       "    }\n",
       "</style>\n",
       "<table border=\"1\" class=\"dataframe\">\n",
       "  <thead>\n",
       "    <tr style=\"text-align: right;\">\n",
       "      <th></th>\n",
       "      <th>count</th>\n",
       "      <th>mean</th>\n",
       "      <th>std</th>\n",
       "      <th>min</th>\n",
       "      <th>25%</th>\n",
       "      <th>50%</th>\n",
       "      <th>75%</th>\n",
       "      <th>max</th>\n",
       "    </tr>\n",
       "  </thead>\n",
       "  <tbody>\n",
       "    <tr>\n",
       "      <th>Id</th>\n",
       "      <td>1460.0</td>\n",
       "      <td>730.500000</td>\n",
       "      <td>421.610009</td>\n",
       "      <td>1.0</td>\n",
       "      <td>365.75</td>\n",
       "      <td>730.5</td>\n",
       "      <td>1095.25</td>\n",
       "      <td>1460.0</td>\n",
       "    </tr>\n",
       "    <tr>\n",
       "      <th>MSSubClass</th>\n",
       "      <td>1460.0</td>\n",
       "      <td>56.897260</td>\n",
       "      <td>42.300571</td>\n",
       "      <td>20.0</td>\n",
       "      <td>20.00</td>\n",
       "      <td>50.0</td>\n",
       "      <td>70.00</td>\n",
       "      <td>190.0</td>\n",
       "    </tr>\n",
       "    <tr>\n",
       "      <th>LotFrontage</th>\n",
       "      <td>1201.0</td>\n",
       "      <td>70.049958</td>\n",
       "      <td>24.284752</td>\n",
       "      <td>21.0</td>\n",
       "      <td>59.00</td>\n",
       "      <td>69.0</td>\n",
       "      <td>80.00</td>\n",
       "      <td>313.0</td>\n",
       "    </tr>\n",
       "    <tr>\n",
       "      <th>LotArea</th>\n",
       "      <td>1460.0</td>\n",
       "      <td>10516.828082</td>\n",
       "      <td>9981.264932</td>\n",
       "      <td>1300.0</td>\n",
       "      <td>7553.50</td>\n",
       "      <td>9478.5</td>\n",
       "      <td>11601.50</td>\n",
       "      <td>215245.0</td>\n",
       "    </tr>\n",
       "    <tr>\n",
       "      <th>OverallQual</th>\n",
       "      <td>1460.0</td>\n",
       "      <td>6.099315</td>\n",
       "      <td>1.382997</td>\n",
       "      <td>1.0</td>\n",
       "      <td>5.00</td>\n",
       "      <td>6.0</td>\n",
       "      <td>7.00</td>\n",
       "      <td>10.0</td>\n",
       "    </tr>\n",
       "    <tr>\n",
       "      <th>OverallCond</th>\n",
       "      <td>1460.0</td>\n",
       "      <td>5.575342</td>\n",
       "      <td>1.112799</td>\n",
       "      <td>1.0</td>\n",
       "      <td>5.00</td>\n",
       "      <td>5.0</td>\n",
       "      <td>6.00</td>\n",
       "      <td>9.0</td>\n",
       "    </tr>\n",
       "    <tr>\n",
       "      <th>YearBuilt</th>\n",
       "      <td>1460.0</td>\n",
       "      <td>1971.267808</td>\n",
       "      <td>30.202904</td>\n",
       "      <td>1872.0</td>\n",
       "      <td>1954.00</td>\n",
       "      <td>1973.0</td>\n",
       "      <td>2000.00</td>\n",
       "      <td>2010.0</td>\n",
       "    </tr>\n",
       "    <tr>\n",
       "      <th>YearRemodAdd</th>\n",
       "      <td>1460.0</td>\n",
       "      <td>1984.865753</td>\n",
       "      <td>20.645407</td>\n",
       "      <td>1950.0</td>\n",
       "      <td>1967.00</td>\n",
       "      <td>1994.0</td>\n",
       "      <td>2004.00</td>\n",
       "      <td>2010.0</td>\n",
       "    </tr>\n",
       "    <tr>\n",
       "      <th>MasVnrArea</th>\n",
       "      <td>1452.0</td>\n",
       "      <td>103.685262</td>\n",
       "      <td>181.066207</td>\n",
       "      <td>0.0</td>\n",
       "      <td>0.00</td>\n",
       "      <td>0.0</td>\n",
       "      <td>166.00</td>\n",
       "      <td>1600.0</td>\n",
       "    </tr>\n",
       "    <tr>\n",
       "      <th>BsmtFinSF1</th>\n",
       "      <td>1460.0</td>\n",
       "      <td>443.639726</td>\n",
       "      <td>456.098091</td>\n",
       "      <td>0.0</td>\n",
       "      <td>0.00</td>\n",
       "      <td>383.5</td>\n",
       "      <td>712.25</td>\n",
       "      <td>5644.0</td>\n",
       "    </tr>\n",
       "    <tr>\n",
       "      <th>BsmtFinSF2</th>\n",
       "      <td>1460.0</td>\n",
       "      <td>46.549315</td>\n",
       "      <td>161.319273</td>\n",
       "      <td>0.0</td>\n",
       "      <td>0.00</td>\n",
       "      <td>0.0</td>\n",
       "      <td>0.00</td>\n",
       "      <td>1474.0</td>\n",
       "    </tr>\n",
       "    <tr>\n",
       "      <th>BsmtUnfSF</th>\n",
       "      <td>1460.0</td>\n",
       "      <td>567.240411</td>\n",
       "      <td>441.866955</td>\n",
       "      <td>0.0</td>\n",
       "      <td>223.00</td>\n",
       "      <td>477.5</td>\n",
       "      <td>808.00</td>\n",
       "      <td>2336.0</td>\n",
       "    </tr>\n",
       "    <tr>\n",
       "      <th>TotalBsmtSF</th>\n",
       "      <td>1460.0</td>\n",
       "      <td>1057.429452</td>\n",
       "      <td>438.705324</td>\n",
       "      <td>0.0</td>\n",
       "      <td>795.75</td>\n",
       "      <td>991.5</td>\n",
       "      <td>1298.25</td>\n",
       "      <td>6110.0</td>\n",
       "    </tr>\n",
       "    <tr>\n",
       "      <th>1stFlrSF</th>\n",
       "      <td>1460.0</td>\n",
       "      <td>1162.626712</td>\n",
       "      <td>386.587738</td>\n",
       "      <td>334.0</td>\n",
       "      <td>882.00</td>\n",
       "      <td>1087.0</td>\n",
       "      <td>1391.25</td>\n",
       "      <td>4692.0</td>\n",
       "    </tr>\n",
       "    <tr>\n",
       "      <th>2ndFlrSF</th>\n",
       "      <td>1460.0</td>\n",
       "      <td>346.992466</td>\n",
       "      <td>436.528436</td>\n",
       "      <td>0.0</td>\n",
       "      <td>0.00</td>\n",
       "      <td>0.0</td>\n",
       "      <td>728.00</td>\n",
       "      <td>2065.0</td>\n",
       "    </tr>\n",
       "    <tr>\n",
       "      <th>LowQualFinSF</th>\n",
       "      <td>1460.0</td>\n",
       "      <td>5.844521</td>\n",
       "      <td>48.623081</td>\n",
       "      <td>0.0</td>\n",
       "      <td>0.00</td>\n",
       "      <td>0.0</td>\n",
       "      <td>0.00</td>\n",
       "      <td>572.0</td>\n",
       "    </tr>\n",
       "    <tr>\n",
       "      <th>GrLivArea</th>\n",
       "      <td>1460.0</td>\n",
       "      <td>1515.463699</td>\n",
       "      <td>525.480383</td>\n",
       "      <td>334.0</td>\n",
       "      <td>1129.50</td>\n",
       "      <td>1464.0</td>\n",
       "      <td>1776.75</td>\n",
       "      <td>5642.0</td>\n",
       "    </tr>\n",
       "    <tr>\n",
       "      <th>BsmtFullBath</th>\n",
       "      <td>1460.0</td>\n",
       "      <td>0.425342</td>\n",
       "      <td>0.518911</td>\n",
       "      <td>0.0</td>\n",
       "      <td>0.00</td>\n",
       "      <td>0.0</td>\n",
       "      <td>1.00</td>\n",
       "      <td>3.0</td>\n",
       "    </tr>\n",
       "    <tr>\n",
       "      <th>BsmtHalfBath</th>\n",
       "      <td>1460.0</td>\n",
       "      <td>0.057534</td>\n",
       "      <td>0.238753</td>\n",
       "      <td>0.0</td>\n",
       "      <td>0.00</td>\n",
       "      <td>0.0</td>\n",
       "      <td>0.00</td>\n",
       "      <td>2.0</td>\n",
       "    </tr>\n",
       "    <tr>\n",
       "      <th>FullBath</th>\n",
       "      <td>1460.0</td>\n",
       "      <td>1.565068</td>\n",
       "      <td>0.550916</td>\n",
       "      <td>0.0</td>\n",
       "      <td>1.00</td>\n",
       "      <td>2.0</td>\n",
       "      <td>2.00</td>\n",
       "      <td>3.0</td>\n",
       "    </tr>\n",
       "    <tr>\n",
       "      <th>HalfBath</th>\n",
       "      <td>1460.0</td>\n",
       "      <td>0.382877</td>\n",
       "      <td>0.502885</td>\n",
       "      <td>0.0</td>\n",
       "      <td>0.00</td>\n",
       "      <td>0.0</td>\n",
       "      <td>1.00</td>\n",
       "      <td>2.0</td>\n",
       "    </tr>\n",
       "    <tr>\n",
       "      <th>BedroomAbvGr</th>\n",
       "      <td>1460.0</td>\n",
       "      <td>2.866438</td>\n",
       "      <td>0.815778</td>\n",
       "      <td>0.0</td>\n",
       "      <td>2.00</td>\n",
       "      <td>3.0</td>\n",
       "      <td>3.00</td>\n",
       "      <td>8.0</td>\n",
       "    </tr>\n",
       "    <tr>\n",
       "      <th>KitchenAbvGr</th>\n",
       "      <td>1460.0</td>\n",
       "      <td>1.046575</td>\n",
       "      <td>0.220338</td>\n",
       "      <td>0.0</td>\n",
       "      <td>1.00</td>\n",
       "      <td>1.0</td>\n",
       "      <td>1.00</td>\n",
       "      <td>3.0</td>\n",
       "    </tr>\n",
       "    <tr>\n",
       "      <th>TotRmsAbvGrd</th>\n",
       "      <td>1460.0</td>\n",
       "      <td>6.517808</td>\n",
       "      <td>1.625393</td>\n",
       "      <td>2.0</td>\n",
       "      <td>5.00</td>\n",
       "      <td>6.0</td>\n",
       "      <td>7.00</td>\n",
       "      <td>14.0</td>\n",
       "    </tr>\n",
       "    <tr>\n",
       "      <th>Fireplaces</th>\n",
       "      <td>1460.0</td>\n",
       "      <td>0.613014</td>\n",
       "      <td>0.644666</td>\n",
       "      <td>0.0</td>\n",
       "      <td>0.00</td>\n",
       "      <td>1.0</td>\n",
       "      <td>1.00</td>\n",
       "      <td>3.0</td>\n",
       "    </tr>\n",
       "    <tr>\n",
       "      <th>GarageYrBlt</th>\n",
       "      <td>1379.0</td>\n",
       "      <td>1978.506164</td>\n",
       "      <td>24.689725</td>\n",
       "      <td>1900.0</td>\n",
       "      <td>1961.00</td>\n",
       "      <td>1980.0</td>\n",
       "      <td>2002.00</td>\n",
       "      <td>2010.0</td>\n",
       "    </tr>\n",
       "    <tr>\n",
       "      <th>GarageCars</th>\n",
       "      <td>1460.0</td>\n",
       "      <td>1.767123</td>\n",
       "      <td>0.747315</td>\n",
       "      <td>0.0</td>\n",
       "      <td>1.00</td>\n",
       "      <td>2.0</td>\n",
       "      <td>2.00</td>\n",
       "      <td>4.0</td>\n",
       "    </tr>\n",
       "    <tr>\n",
       "      <th>GarageArea</th>\n",
       "      <td>1460.0</td>\n",
       "      <td>472.980137</td>\n",
       "      <td>213.804841</td>\n",
       "      <td>0.0</td>\n",
       "      <td>334.50</td>\n",
       "      <td>480.0</td>\n",
       "      <td>576.00</td>\n",
       "      <td>1418.0</td>\n",
       "    </tr>\n",
       "    <tr>\n",
       "      <th>WoodDeckSF</th>\n",
       "      <td>1460.0</td>\n",
       "      <td>94.244521</td>\n",
       "      <td>125.338794</td>\n",
       "      <td>0.0</td>\n",
       "      <td>0.00</td>\n",
       "      <td>0.0</td>\n",
       "      <td>168.00</td>\n",
       "      <td>857.0</td>\n",
       "    </tr>\n",
       "    <tr>\n",
       "      <th>OpenPorchSF</th>\n",
       "      <td>1460.0</td>\n",
       "      <td>46.660274</td>\n",
       "      <td>66.256028</td>\n",
       "      <td>0.0</td>\n",
       "      <td>0.00</td>\n",
       "      <td>25.0</td>\n",
       "      <td>68.00</td>\n",
       "      <td>547.0</td>\n",
       "    </tr>\n",
       "    <tr>\n",
       "      <th>EnclosedPorch</th>\n",
       "      <td>1460.0</td>\n",
       "      <td>21.954110</td>\n",
       "      <td>61.119149</td>\n",
       "      <td>0.0</td>\n",
       "      <td>0.00</td>\n",
       "      <td>0.0</td>\n",
       "      <td>0.00</td>\n",
       "      <td>552.0</td>\n",
       "    </tr>\n",
       "    <tr>\n",
       "      <th>3SsnPorch</th>\n",
       "      <td>1460.0</td>\n",
       "      <td>3.409589</td>\n",
       "      <td>29.317331</td>\n",
       "      <td>0.0</td>\n",
       "      <td>0.00</td>\n",
       "      <td>0.0</td>\n",
       "      <td>0.00</td>\n",
       "      <td>508.0</td>\n",
       "    </tr>\n",
       "    <tr>\n",
       "      <th>ScreenPorch</th>\n",
       "      <td>1460.0</td>\n",
       "      <td>15.060959</td>\n",
       "      <td>55.757415</td>\n",
       "      <td>0.0</td>\n",
       "      <td>0.00</td>\n",
       "      <td>0.0</td>\n",
       "      <td>0.00</td>\n",
       "      <td>480.0</td>\n",
       "    </tr>\n",
       "    <tr>\n",
       "      <th>PoolArea</th>\n",
       "      <td>1460.0</td>\n",
       "      <td>2.758904</td>\n",
       "      <td>40.177307</td>\n",
       "      <td>0.0</td>\n",
       "      <td>0.00</td>\n",
       "      <td>0.0</td>\n",
       "      <td>0.00</td>\n",
       "      <td>738.0</td>\n",
       "    </tr>\n",
       "    <tr>\n",
       "      <th>MiscVal</th>\n",
       "      <td>1460.0</td>\n",
       "      <td>43.489041</td>\n",
       "      <td>496.123024</td>\n",
       "      <td>0.0</td>\n",
       "      <td>0.00</td>\n",
       "      <td>0.0</td>\n",
       "      <td>0.00</td>\n",
       "      <td>15500.0</td>\n",
       "    </tr>\n",
       "    <tr>\n",
       "      <th>MoSold</th>\n",
       "      <td>1460.0</td>\n",
       "      <td>6.321918</td>\n",
       "      <td>2.703626</td>\n",
       "      <td>1.0</td>\n",
       "      <td>5.00</td>\n",
       "      <td>6.0</td>\n",
       "      <td>8.00</td>\n",
       "      <td>12.0</td>\n",
       "    </tr>\n",
       "    <tr>\n",
       "      <th>YrSold</th>\n",
       "      <td>1460.0</td>\n",
       "      <td>2007.815753</td>\n",
       "      <td>1.328095</td>\n",
       "      <td>2006.0</td>\n",
       "      <td>2007.00</td>\n",
       "      <td>2008.0</td>\n",
       "      <td>2009.00</td>\n",
       "      <td>2010.0</td>\n",
       "    </tr>\n",
       "    <tr>\n",
       "      <th>SalePrice</th>\n",
       "      <td>1460.0</td>\n",
       "      <td>180921.195890</td>\n",
       "      <td>79442.502883</td>\n",
       "      <td>34900.0</td>\n",
       "      <td>129975.00</td>\n",
       "      <td>163000.0</td>\n",
       "      <td>214000.00</td>\n",
       "      <td>755000.0</td>\n",
       "    </tr>\n",
       "  </tbody>\n",
       "</table>\n",
       "</div>"
      ],
      "text/plain": [
       "                count           mean           std      min        25%  \\\n",
       "Id             1460.0     730.500000    421.610009      1.0     365.75   \n",
       "MSSubClass     1460.0      56.897260     42.300571     20.0      20.00   \n",
       "LotFrontage    1201.0      70.049958     24.284752     21.0      59.00   \n",
       "LotArea        1460.0   10516.828082   9981.264932   1300.0    7553.50   \n",
       "OverallQual    1460.0       6.099315      1.382997      1.0       5.00   \n",
       "OverallCond    1460.0       5.575342      1.112799      1.0       5.00   \n",
       "YearBuilt      1460.0    1971.267808     30.202904   1872.0    1954.00   \n",
       "YearRemodAdd   1460.0    1984.865753     20.645407   1950.0    1967.00   \n",
       "MasVnrArea     1452.0     103.685262    181.066207      0.0       0.00   \n",
       "BsmtFinSF1     1460.0     443.639726    456.098091      0.0       0.00   \n",
       "BsmtFinSF2     1460.0      46.549315    161.319273      0.0       0.00   \n",
       "BsmtUnfSF      1460.0     567.240411    441.866955      0.0     223.00   \n",
       "TotalBsmtSF    1460.0    1057.429452    438.705324      0.0     795.75   \n",
       "1stFlrSF       1460.0    1162.626712    386.587738    334.0     882.00   \n",
       "2ndFlrSF       1460.0     346.992466    436.528436      0.0       0.00   \n",
       "LowQualFinSF   1460.0       5.844521     48.623081      0.0       0.00   \n",
       "GrLivArea      1460.0    1515.463699    525.480383    334.0    1129.50   \n",
       "BsmtFullBath   1460.0       0.425342      0.518911      0.0       0.00   \n",
       "BsmtHalfBath   1460.0       0.057534      0.238753      0.0       0.00   \n",
       "FullBath       1460.0       1.565068      0.550916      0.0       1.00   \n",
       "HalfBath       1460.0       0.382877      0.502885      0.0       0.00   \n",
       "BedroomAbvGr   1460.0       2.866438      0.815778      0.0       2.00   \n",
       "KitchenAbvGr   1460.0       1.046575      0.220338      0.0       1.00   \n",
       "TotRmsAbvGrd   1460.0       6.517808      1.625393      2.0       5.00   \n",
       "Fireplaces     1460.0       0.613014      0.644666      0.0       0.00   \n",
       "GarageYrBlt    1379.0    1978.506164     24.689725   1900.0    1961.00   \n",
       "GarageCars     1460.0       1.767123      0.747315      0.0       1.00   \n",
       "GarageArea     1460.0     472.980137    213.804841      0.0     334.50   \n",
       "WoodDeckSF     1460.0      94.244521    125.338794      0.0       0.00   \n",
       "OpenPorchSF    1460.0      46.660274     66.256028      0.0       0.00   \n",
       "EnclosedPorch  1460.0      21.954110     61.119149      0.0       0.00   \n",
       "3SsnPorch      1460.0       3.409589     29.317331      0.0       0.00   \n",
       "ScreenPorch    1460.0      15.060959     55.757415      0.0       0.00   \n",
       "PoolArea       1460.0       2.758904     40.177307      0.0       0.00   \n",
       "MiscVal        1460.0      43.489041    496.123024      0.0       0.00   \n",
       "MoSold         1460.0       6.321918      2.703626      1.0       5.00   \n",
       "YrSold         1460.0    2007.815753      1.328095   2006.0    2007.00   \n",
       "SalePrice      1460.0  180921.195890  79442.502883  34900.0  129975.00   \n",
       "\n",
       "                    50%        75%       max  \n",
       "Id                730.5    1095.25    1460.0  \n",
       "MSSubClass         50.0      70.00     190.0  \n",
       "LotFrontage        69.0      80.00     313.0  \n",
       "LotArea          9478.5   11601.50  215245.0  \n",
       "OverallQual         6.0       7.00      10.0  \n",
       "OverallCond         5.0       6.00       9.0  \n",
       "YearBuilt        1973.0    2000.00    2010.0  \n",
       "YearRemodAdd     1994.0    2004.00    2010.0  \n",
       "MasVnrArea          0.0     166.00    1600.0  \n",
       "BsmtFinSF1        383.5     712.25    5644.0  \n",
       "BsmtFinSF2          0.0       0.00    1474.0  \n",
       "BsmtUnfSF         477.5     808.00    2336.0  \n",
       "TotalBsmtSF       991.5    1298.25    6110.0  \n",
       "1stFlrSF         1087.0    1391.25    4692.0  \n",
       "2ndFlrSF            0.0     728.00    2065.0  \n",
       "LowQualFinSF        0.0       0.00     572.0  \n",
       "GrLivArea        1464.0    1776.75    5642.0  \n",
       "BsmtFullBath        0.0       1.00       3.0  \n",
       "BsmtHalfBath        0.0       0.00       2.0  \n",
       "FullBath            2.0       2.00       3.0  \n",
       "HalfBath            0.0       1.00       2.0  \n",
       "BedroomAbvGr        3.0       3.00       8.0  \n",
       "KitchenAbvGr        1.0       1.00       3.0  \n",
       "TotRmsAbvGrd        6.0       7.00      14.0  \n",
       "Fireplaces          1.0       1.00       3.0  \n",
       "GarageYrBlt      1980.0    2002.00    2010.0  \n",
       "GarageCars          2.0       2.00       4.0  \n",
       "GarageArea        480.0     576.00    1418.0  \n",
       "WoodDeckSF          0.0     168.00     857.0  \n",
       "OpenPorchSF        25.0      68.00     547.0  \n",
       "EnclosedPorch       0.0       0.00     552.0  \n",
       "3SsnPorch           0.0       0.00     508.0  \n",
       "ScreenPorch         0.0       0.00     480.0  \n",
       "PoolArea            0.0       0.00     738.0  \n",
       "MiscVal             0.0       0.00   15500.0  \n",
       "MoSold              6.0       8.00      12.0  \n",
       "YrSold           2008.0    2009.00    2010.0  \n",
       "SalePrice      163000.0  214000.00  755000.0  "
      ]
     },
     "execution_count": 6,
     "metadata": {},
     "output_type": "execute_result"
    }
   ],
   "source": [
    "t.describe().transpose()"
   ]
  },
  {
   "cell_type": "markdown",
   "metadata": {},
   "source": [
    "# Beispielplot erzeugen"
   ]
  },
  {
   "cell_type": "code",
   "execution_count": 7,
   "metadata": {},
   "outputs": [
    {
     "data": {
      "text/plain": [
       "0       2003\n",
       "1       1976\n",
       "2       2001\n",
       "3       1915\n",
       "4       2000\n",
       "        ... \n",
       "1455    1999\n",
       "1456    1978\n",
       "1457    1941\n",
       "1458    1950\n",
       "1459    1965\n",
       "Name: YearBuilt, Length: 1460, dtype: int64"
      ]
     },
     "execution_count": 7,
     "metadata": {},
     "output_type": "execute_result"
    }
   ],
   "source": [
    "t[\"YearBuilt\"]"
   ]
  },
  {
   "cell_type": "code",
   "execution_count": 8,
   "metadata": {},
   "outputs": [
    {
     "data": {
      "text/plain": [
       "0       208500\n",
       "1       181500\n",
       "2       223500\n",
       "3       140000\n",
       "4       250000\n",
       "         ...  \n",
       "1455    175000\n",
       "1456    210000\n",
       "1457    266500\n",
       "1458    142125\n",
       "1459    147500\n",
       "Name: SalePrice, Length: 1460, dtype: int64"
      ]
     },
     "execution_count": 8,
     "metadata": {},
     "output_type": "execute_result"
    }
   ],
   "source": [
    "t[\"SalePrice\"]"
   ]
  },
  {
   "cell_type": "code",
   "execution_count": 9,
   "metadata": {},
   "outputs": [],
   "source": [
    "x = t[\"YearBuilt\"]\n",
    "y = t[\"SalePrice\"]"
   ]
  },
  {
   "cell_type": "code",
   "execution_count": 10,
   "metadata": {},
   "outputs": [
    {
     "data": {
      "image/png": "[encoded data removed]",
      "text/plain": [
       "<Figure size 432x288 with 1 Axes>"
      ]
     },
     "metadata": {
      "needs_background": "light"
     },
     "output_type": "display_data"
    }
   ],
   "source": [
    "import matplotlib.pyplot as plt\n",
    "plt.scatter(x,y, marker=\"+\")\n",
    "plt.show()"
   ]
  },
  {
   "cell_type": "markdown",
   "metadata": {},
   "source": [
    "# Input- und Outputdaten definieren"
   ]
  },
  {
   "cell_type": "code",
   "execution_count": 11,
   "metadata": {},
   "outputs": [],
   "source": [
    "data_input = t[[\"YearBuilt\", \"LotArea\", \"OverallQual\"]].values"
   ]
  },
  {
   "cell_type": "code",
   "execution_count": 12,
   "metadata": {},
   "outputs": [
    {
     "data": {
      "text/plain": [
       "(1460, 3)"
      ]
     },
     "execution_count": 12,
     "metadata": {},
     "output_type": "execute_result"
    }
   ],
   "source": [
    "data_input.shape"
   ]
  },
  {
   "cell_type": "code",
   "execution_count": 13,
   "metadata": {},
   "outputs": [
    {
     "data": {
      "text/plain": [
       "3"
      ]
     },
     "execution_count": 13,
     "metadata": {},
     "output_type": "execute_result"
    }
   ],
   "source": [
    "nr_inputs = data_input.shape[1]\n",
    "nr_inputs"
   ]
  },
  {
   "cell_type": "code",
   "execution_count": 14,
   "metadata": {},
   "outputs": [
    {
     "data": {
      "text/plain": [
       "array([[ 2003,  8450,     7],\n",
       "       [ 1976,  9600,     6],\n",
       "       [ 2001, 11250,     7],\n",
       "       ...,\n",
       "       [ 1941,  9042,     7],\n",
       "       [ 1950,  9717,     5],\n",
       "       [ 1965,  9937,     5]])"
      ]
     },
     "execution_count": 14,
     "metadata": {},
     "output_type": "execute_result"
    }
   ],
   "source": [
    "data_input"
   ]
  },
  {
   "cell_type": "code",
   "execution_count": 15,
   "metadata": {},
   "outputs": [],
   "source": [
    "data_output = t[\"SalePrice\"].values"
   ]
  },
  {
   "cell_type": "code",
   "execution_count": 16,
   "metadata": {},
   "outputs": [
    {
     "data": {
      "text/plain": [
       "array([208500, 181500, 223500, ..., 266500, 142125, 147500])"
      ]
     },
     "execution_count": 16,
     "metadata": {},
     "output_type": "execute_result"
    }
   ],
   "source": [
    "data_output"
   ]
  },
  {
   "cell_type": "markdown",
   "metadata": {},
   "source": [
    "# Daten normalisieren"
   ]
  },
  {
   "cell_type": "code",
   "execution_count": 17,
   "metadata": {},
   "outputs": [],
   "source": [
    "import numpy as np\n",
    "from sklearn.preprocessing import MinMaxScaler\n",
    "\n",
    "scaler_input = MinMaxScaler(feature_range=(0, 1))\n",
    "scaled_input_data = scaler_input.fit_transform(data_input)\n",
    "\n",
    "scaler_output = MinMaxScaler(feature_range=(0, 1))\n",
    "scaled_output_data = scaler_output.fit_transform(data_output.reshape(-1,1))"
   ]
  },
  {
   "cell_type": "code",
   "execution_count": 18,
   "metadata": {},
   "outputs": [
    {
     "data": {
      "text/plain": [
       "array([[0.94927536, 0.0334198 , 0.66666667],\n",
       "       [0.75362319, 0.03879502, 0.55555556],\n",
       "       [0.93478261, 0.04650728, 0.66666667],\n",
       "       ...,\n",
       "       [0.5       , 0.03618687, 0.66666667],\n",
       "       [0.56521739, 0.03934189, 0.44444444],\n",
       "       [0.67391304, 0.04037019, 0.44444444]])"
      ]
     },
     "execution_count": 18,
     "metadata": {},
     "output_type": "execute_result"
    }
   ],
   "source": [
    "scaled_input_data"
   ]
  },
  {
   "cell_type": "code",
   "execution_count": 19,
   "metadata": {},
   "outputs": [
    {
     "data": {
      "text/plain": [
       "array([[0.24107763],\n",
       "       [0.20358284],\n",
       "       [0.26190807],\n",
       "       ...,\n",
       "       [0.321622  ],\n",
       "       [0.14890293],\n",
       "       [0.15636717]])"
      ]
     },
     "execution_count": 19,
     "metadata": {},
     "output_type": "execute_result"
    }
   ],
   "source": [
    "scaled_output_data"
   ]
  },
  {
   "cell_type": "markdown",
   "metadata": {},
   "source": [
    "# Trainings- und Testdaten definieren"
   ]
  },
  {
   "cell_type": "code",
   "execution_count": 20,
   "metadata": {},
   "outputs": [],
   "source": [
    "x_train = scaled_input_data[0:1000]\n",
    "y_train = scaled_output_data[0:1000]\n",
    "\n",
    "x_test  = scaled_input_data[1000:]\n",
    "y_test  = scaled_output_data[1000:]"
   ]
  },
  {
   "cell_type": "code",
   "execution_count": 21,
   "metadata": {},
   "outputs": [
    {
     "data": {
      "text/plain": [
       "(1000, 3)"
      ]
     },
     "execution_count": 21,
     "metadata": {},
     "output_type": "execute_result"
    }
   ],
   "source": [
    "x_train.shape"
   ]
  },
  {
   "cell_type": "code",
   "execution_count": 22,
   "metadata": {},
   "outputs": [
    {
     "data": {
      "text/plain": [
       "(1000, 1)"
      ]
     },
     "execution_count": 22,
     "metadata": {},
     "output_type": "execute_result"
    }
   ],
   "source": [
    "y_train.shape"
   ]
  },
  {
   "cell_type": "code",
   "execution_count": 23,
   "metadata": {},
   "outputs": [
    {
     "data": {
      "text/plain": [
       "(460, 3)"
      ]
     },
     "execution_count": 23,
     "metadata": {},
     "output_type": "execute_result"
    }
   ],
   "source": [
    "x_test.shape"
   ]
  },
  {
   "cell_type": "code",
   "execution_count": 24,
   "metadata": {},
   "outputs": [
    {
     "data": {
      "text/plain": [
       "(460, 1)"
      ]
     },
     "execution_count": 24,
     "metadata": {},
     "output_type": "execute_result"
    }
   ],
   "source": [
    "y_test.shape"
   ]
  },
  {
   "cell_type": "code",
   "execution_count": 25,
   "metadata": {},
   "outputs": [
    {
     "name": "stdout",
     "output_type": "stream",
     "text": [
      "[0.67391304 0.04627357 0.44444444] --> [0.13137064]\n"
     ]
    }
   ],
   "source": [
    "print(x_train[10], \"-->\", y_train[10])"
   ]
  },
  {
   "cell_type": "markdown",
   "metadata": {},
   "source": [
    "# MLP vorbereiten"
   ]
  },
  {
   "cell_type": "code",
   "execution_count": 27,
   "metadata": {},
   "outputs": [
    {
     "name": "stdout",
     "output_type": "stream",
     "text": [
      "Model: \"sequential\"\n",
      "_________________________________________________________________\n",
      " Layer (type)                Output Shape              Param #   \n",
      "=================================================================\n",
      " Schicht1 (Dense)            (None, 80)                320       \n",
      "                                                                 \n",
      " Outputschicht (Dense)       (None, 1)                 81        \n",
      "                                                                 \n",
      "=================================================================\n",
      "Total params: 401\n",
      "Trainable params: 401\n",
      "Non-trainable params: 0\n",
      "_________________________________________________________________\n"
     ]
    }
   ],
   "source": [
    "import tensorflow as tf\n",
    "from tensorflow import keras\n",
    "\n",
    "tf.keras.backend.clear_session()\n",
    "\n",
    "model = keras.Sequential()\n",
    "model.add(keras.layers.Dense(80,\n",
    "                             activation=\"relu\",\n",
    "                             input_shape=(nr_inputs,),\n",
    "                             name=\"Schicht1\"))\n",
    "                             \n",
    "model.add(keras.layers.Dense(1,\n",
    "                             activation=\"linear\",\n",
    "                             name=\"Outputschicht\"))\n",
    "\n",
    "model.compile(optimizer='sgd',           \n",
    "              loss=tf.keras.losses.MeanSquaredError(),\n",
    "              metrics=['accuracy'])\n",
    "\n",
    "model.summary()"
   ]
  },
  {
   "cell_type": "markdown",
   "metadata": {},
   "source": [
    "# MLP trainieren"
   ]
  },
  {
   "cell_type": "code",
   "execution_count": 28,
   "metadata": {},
   "outputs": [
    {
     "name": "stdout",
     "output_type": "stream",
     "text": [
      "Epoch 1/200\n",
      "32/32 [==============================] - 0s 915us/step - loss: 0.0093 - accuracy: 0.0010\n",
      "Epoch 2/200\n",
      "32/32 [==============================] - 0s 806us/step - loss: 0.0076 - accuracy: 0.0010\n",
      "Epoch 3/200\n",
      "32/32 [==============================] - 0s 772us/step - loss: 0.0074 - accuracy: 0.0010\n",
      "Epoch 4/200\n",
      "32/32 [==============================] - 0s 873us/step - loss: 0.0073 - accuracy: 0.0010\n",
      "Epoch 5/200\n",
      "32/32 [==============================] - 0s 863us/step - loss: 0.0072 - accuracy: 0.0010\n",
      "Epoch 6/200\n",
      "32/32 [==============================] - 0s 741us/step - loss: 0.0071 - accuracy: 0.0010\n",
      "Epoch 7/200\n",
      "32/32 [==============================] - 0s 705us/step - loss: 0.0070 - accuracy: 0.0010\n",
      "Epoch 8/200\n",
      "32/32 [==============================] - 0s 732us/step - loss: 0.0069 - accuracy: 0.0010\n",
      "Epoch 9/200\n",
      "32/32 [==============================] - 0s 799us/step - loss: 0.0068 - accuracy: 0.0010\n",
      "Epoch 10/200\n",
      "32/32 [==============================] - 0s 765us/step - loss: 0.0067 - accuracy: 0.0010\n",
      "Epoch 11/200\n",
      "32/32 [==============================] - 0s 752us/step - loss: 0.0066 - accuracy: 0.0010\n",
      "Epoch 12/200\n",
      "32/32 [==============================] - 0s 805us/step - loss: 0.0065 - accuracy: 0.0010\n",
      "Epoch 13/200\n",
      "32/32 [==============================] - 0s 752us/step - loss: 0.0064 - accuracy: 0.0010\n",
      "Epoch 14/200\n",
      "32/32 [==============================] - 0s 761us/step - loss: 0.0064 - accuracy: 0.0010\n",
      "Epoch 15/200\n",
      "32/32 [==============================] - 0s 768us/step - loss: 0.0063 - accuracy: 0.0010\n",
      "Epoch 16/200\n",
      "32/32 [==============================] - 0s 822us/step - loss: 0.0063 - accuracy: 0.0010\n",
      "Epoch 17/200\n",
      "32/32 [==============================] - 0s 721us/step - loss: 0.0062 - accuracy: 0.0010\n",
      "Epoch 18/200\n",
      "32/32 [==============================] - 0s 715us/step - loss: 0.0061 - accuracy: 0.0010\n",
      "Epoch 19/200\n",
      "32/32 [==============================] - 0s 826us/step - loss: 0.0061 - accuracy: 0.0010\n",
      "Epoch 20/200\n",
      "32/32 [==============================] - 0s 724us/step - loss: 0.0060 - accuracy: 0.0010\n",
      "Epoch 21/200\n",
      "32/32 [==============================] - 0s 748us/step - loss: 0.0060 - accuracy: 0.0010\n",
      "Epoch 22/200\n",
      "32/32 [==============================] - 0s 761us/step - loss: 0.0059 - accuracy: 0.0010\n",
      "Epoch 23/200\n",
      "32/32 [==============================] - 0s 799us/step - loss: 0.0059 - accuracy: 0.0010\n",
      "Epoch 24/200\n",
      "32/32 [==============================] - 0s 789us/step - loss: 0.0058 - accuracy: 0.0010\n",
      "Epoch 25/200\n",
      "32/32 [==============================] - 0s 697us/step - loss: 0.0058 - accuracy: 0.0010\n",
      "Epoch 26/200\n",
      "32/32 [==============================] - 0s 842us/step - loss: 0.0058 - accuracy: 0.0010\n",
      "Epoch 27/200\n",
      "32/32 [==============================] - 0s 774us/step - loss: 0.0057 - accuracy: 0.0010\n",
      "Epoch 28/200\n",
      "32/32 [==============================] - 0s 759us/step - loss: 0.0057 - accuracy: 0.0010\n",
      "Epoch 29/200\n",
      "32/32 [==============================] - 0s 755us/step - loss: 0.0056 - accuracy: 0.0010\n",
      "Epoch 30/200\n",
      "32/32 [==============================] - 0s 785us/step - loss: 0.0056 - accuracy: 0.0010\n",
      "Epoch 31/200\n",
      "32/32 [==============================] - 0s 797us/step - loss: 0.0056 - accuracy: 0.0010\n",
      "Epoch 32/200\n",
      "32/32 [==============================] - 0s 744us/step - loss: 0.0055 - accuracy: 0.0010\n",
      "Epoch 33/200\n",
      "32/32 [==============================] - 0s 769us/step - loss: 0.0055 - accuracy: 0.0010\n",
      "Epoch 34/200\n",
      "32/32 [==============================] - 0s 811us/step - loss: 0.0054 - accuracy: 0.0010\n",
      "Epoch 35/200\n",
      "32/32 [==============================] - 0s 731us/step - loss: 0.0054 - accuracy: 0.0010\n",
      "Epoch 36/200\n",
      "32/32 [==============================] - 0s 826us/step - loss: 0.0054 - accuracy: 0.0010\n",
      "Epoch 37/200\n",
      "32/32 [==============================] - 0s 728us/step - loss: 0.0053 - accuracy: 0.0010\n",
      "Epoch 38/200\n",
      "32/32 [==============================] - 0s 955us/step - loss: 0.0053 - accuracy: 0.0010\n",
      "Epoch 39/200\n",
      "32/32 [==============================] - 0s 836us/step - loss: 0.0053 - accuracy: 0.0010\n",
      "Epoch 40/200\n",
      "32/32 [==============================] - 0s 795us/step - loss: 0.0053 - accuracy: 0.0010\n",
      "Epoch 41/200\n",
      "32/32 [==============================] - 0s 822us/step - loss: 0.0052 - accuracy: 0.0010\n",
      "Epoch 42/200\n",
      "32/32 [==============================] - 0s 886us/step - loss: 0.0052 - accuracy: 0.0010\n",
      "Epoch 43/200\n",
      "32/32 [==============================] - 0s 754us/step - loss: 0.0052 - accuracy: 0.0010\n",
      "Epoch 44/200\n",
      "32/32 [==============================] - 0s 806us/step - loss: 0.0052 - accuracy: 0.0010\n",
      "Epoch 45/200\n",
      "32/32 [==============================] - 0s 857us/step - loss: 0.0051 - accuracy: 0.0010\n",
      "Epoch 46/200\n",
      "32/32 [==============================] - 0s 731us/step - loss: 0.0051 - accuracy: 0.0010\n",
      "Epoch 47/200\n",
      "32/32 [==============================] - 0s 779us/step - loss: 0.0051 - accuracy: 0.0010\n",
      "Epoch 48/200\n",
      "32/32 [==============================] - 0s 761us/step - loss: 0.0051 - accuracy: 0.0010\n",
      "Epoch 49/200\n",
      "32/32 [==============================] - 0s 812us/step - loss: 0.0050 - accuracy: 0.0010\n",
      "Epoch 50/200\n",
      "32/32 [==============================] - 0s 818us/step - loss: 0.0050 - accuracy: 0.0010\n",
      "Epoch 51/200\n",
      "32/32 [==============================] - 0s 727us/step - loss: 0.0050 - accuracy: 0.0010\n",
      "Epoch 52/200\n",
      "32/32 [==============================] - 0s 785us/step - loss: 0.0050 - accuracy: 0.0010\n",
      "Epoch 53/200\n",
      "32/32 [==============================] - 0s 738us/step - loss: 0.0050 - accuracy: 0.0010\n",
      "Epoch 54/200\n",
      "32/32 [==============================] - 0s 697us/step - loss: 0.0049 - accuracy: 0.0010\n",
      "Epoch 55/200\n",
      "32/32 [==============================] - 0s 746us/step - loss: 0.0049 - accuracy: 0.0010\n",
      "Epoch 56/200\n",
      "32/32 [==============================] - 0s 683us/step - loss: 0.0049 - accuracy: 0.0010\n",
      "Epoch 57/200\n",
      "32/32 [==============================] - 0s 745us/step - loss: 0.0049 - accuracy: 0.0010\n",
      "Epoch 58/200\n",
      "32/32 [==============================] - 0s 731us/step - loss: 0.0049 - accuracy: 0.0010\n",
      "Epoch 59/200\n",
      "32/32 [==============================] - 0s 676us/step - loss: 0.0048 - accuracy: 0.0010\n",
      "Epoch 60/200\n",
      "32/32 [==============================] - 0s 734us/step - loss: 0.0048 - accuracy: 0.0010\n",
      "Epoch 61/200\n",
      "32/32 [==============================] - 0s 705us/step - loss: 0.0048 - accuracy: 0.0010\n",
      "Epoch 62/200\n",
      "32/32 [==============================] - 0s 697us/step - loss: 0.0048 - accuracy: 0.0010\n",
      "Epoch 63/200\n",
      "32/32 [==============================] - 0s 766us/step - loss: 0.0048 - accuracy: 0.0010\n",
      "Epoch 64/200\n",
      "32/32 [==============================] - 0s 695us/step - loss: 0.0048 - accuracy: 0.0010\n",
      "Epoch 65/200\n",
      "32/32 [==============================] - 0s 778us/step - loss: 0.0048 - accuracy: 0.0010\n",
      "Epoch 66/200\n",
      "32/32 [==============================] - 0s 806us/step - loss: 0.0047 - accuracy: 0.0010\n",
      "Epoch 67/200\n",
      "32/32 [==============================] - 0s 746us/step - loss: 0.0047 - accuracy: 0.0010\n",
      "Epoch 68/200\n",
      "32/32 [==============================] - 0s 691us/step - loss: 0.0047 - accuracy: 0.0010\n",
      "Epoch 69/200\n",
      "32/32 [==============================] - 0s 708us/step - loss: 0.0047 - accuracy: 0.0010\n",
      "Epoch 70/200\n",
      "32/32 [==============================] - 0s 718us/step - loss: 0.0047 - accuracy: 0.0010\n",
      "Epoch 71/200\n",
      "32/32 [==============================] - 0s 778us/step - loss: 0.0047 - accuracy: 0.0010\n",
      "Epoch 72/200\n",
      "32/32 [==============================] - 0s 734us/step - loss: 0.0047 - accuracy: 0.0010\n",
      "Epoch 73/200\n",
      "32/32 [==============================] - 0s 794us/step - loss: 0.0046 - accuracy: 0.0010\n",
      "Epoch 74/200\n",
      "32/32 [==============================] - 0s 748us/step - loss: 0.0046 - accuracy: 0.0010\n",
      "Epoch 75/200\n",
      "32/32 [==============================] - 0s 750us/step - loss: 0.0046 - accuracy: 0.0010\n",
      "Epoch 76/200\n",
      "32/32 [==============================] - 0s 714us/step - loss: 0.0046 - accuracy: 0.0010\n",
      "Epoch 77/200\n",
      "32/32 [==============================] - 0s 748us/step - loss: 0.0046 - accuracy: 0.0010\n",
      "Epoch 78/200\n",
      "32/32 [==============================] - 0s 718us/step - loss: 0.0046 - accuracy: 0.0010\n",
      "Epoch 79/200\n",
      "32/32 [==============================] - 0s 757us/step - loss: 0.0046 - accuracy: 0.0010\n",
      "Epoch 80/200\n",
      "32/32 [==============================] - 0s 751us/step - loss: 0.0046 - accuracy: 0.0010\n",
      "Epoch 81/200\n",
      "32/32 [==============================] - 0s 713us/step - loss: 0.0046 - accuracy: 0.0010\n",
      "Epoch 82/200\n",
      "32/32 [==============================] - 0s 716us/step - loss: 0.0046 - accuracy: 0.0010\n",
      "Epoch 83/200\n",
      "32/32 [==============================] - 0s 762us/step - loss: 0.0046 - accuracy: 0.0010\n",
      "Epoch 84/200\n",
      "32/32 [==============================] - 0s 749us/step - loss: 0.0045 - accuracy: 0.0010\n",
      "Epoch 85/200\n",
      "32/32 [==============================] - 0s 781us/step - loss: 0.0045 - accuracy: 0.0010\n",
      "Epoch 86/200\n",
      "32/32 [==============================] - 0s 733us/step - loss: 0.0045 - accuracy: 0.0010\n",
      "Epoch 87/200\n",
      "32/32 [==============================] - 0s 769us/step - loss: 0.0045 - accuracy: 0.0010\n",
      "Epoch 88/200\n",
      "32/32 [==============================] - 0s 837us/step - loss: 0.0045 - accuracy: 0.0010\n",
      "Epoch 89/200\n",
      "32/32 [==============================] - 0s 813us/step - loss: 0.0045 - accuracy: 0.0010\n",
      "Epoch 90/200\n",
      "32/32 [==============================] - 0s 759us/step - loss: 0.0045 - accuracy: 0.0010\n",
      "Epoch 91/200\n",
      "32/32 [==============================] - 0s 730us/step - loss: 0.0045 - accuracy: 0.0010\n",
      "Epoch 92/200\n",
      "32/32 [==============================] - 0s 755us/step - loss: 0.0045 - accuracy: 0.0010\n",
      "Epoch 93/200\n",
      "32/32 [==============================] - 0s 805us/step - loss: 0.0045 - accuracy: 0.0010\n",
      "Epoch 94/200\n",
      "32/32 [==============================] - 0s 737us/step - loss: 0.0045 - accuracy: 0.0010\n",
      "Epoch 95/200\n",
      "32/32 [==============================] - 0s 772us/step - loss: 0.0045 - accuracy: 0.0010\n",
      "Epoch 96/200\n",
      "32/32 [==============================] - 0s 746us/step - loss: 0.0044 - accuracy: 0.0010\n",
      "Epoch 97/200\n",
      "32/32 [==============================] - 0s 761us/step - loss: 0.0044 - accuracy: 0.0010\n",
      "Epoch 98/200\n",
      "32/32 [==============================] - 0s 739us/step - loss: 0.0044 - accuracy: 0.0010\n",
      "Epoch 99/200\n",
      "32/32 [==============================] - 0s 720us/step - loss: 0.0044 - accuracy: 0.0010\n",
      "Epoch 100/200\n",
      "32/32 [==============================] - 0s 739us/step - loss: 0.0044 - accuracy: 0.0010\n",
      "Epoch 101/200\n",
      "32/32 [==============================] - 0s 729us/step - loss: 0.0044 - accuracy: 0.0010\n",
      "Epoch 102/200\n",
      "32/32 [==============================] - 0s 757us/step - loss: 0.0044 - accuracy: 0.0010\n",
      "Epoch 103/200\n",
      "32/32 [==============================] - 0s 723us/step - loss: 0.0044 - accuracy: 0.0010\n",
      "Epoch 104/200\n",
      "32/32 [==============================] - 0s 754us/step - loss: 0.0044 - accuracy: 0.0010\n",
      "Epoch 105/200\n",
      "32/32 [==============================] - 0s 863us/step - loss: 0.0044 - accuracy: 0.0010\n",
      "Epoch 106/200\n",
      "32/32 [==============================] - 0s 856us/step - loss: 0.0044 - accuracy: 0.0010\n",
      "Epoch 107/200\n",
      "32/32 [==============================] - 0s 720us/step - loss: 0.0044 - accuracy: 0.0010\n",
      "Epoch 108/200\n",
      "32/32 [==============================] - 0s 646us/step - loss: 0.0044 - accuracy: 0.0010\n",
      "Epoch 109/200\n",
      "32/32 [==============================] - 0s 731us/step - loss: 0.0044 - accuracy: 0.0010\n",
      "Epoch 110/200\n",
      "32/32 [==============================] - 0s 698us/step - loss: 0.0044 - accuracy: 0.0010\n",
      "Epoch 111/200\n",
      "32/32 [==============================] - 0s 752us/step - loss: 0.0044 - accuracy: 0.0010\n",
      "Epoch 112/200\n",
      "32/32 [==============================] - 0s 701us/step - loss: 0.0044 - accuracy: 0.0010\n",
      "Epoch 113/200\n",
      "32/32 [==============================] - 0s 824us/step - loss: 0.0043 - accuracy: 0.0010\n",
      "Epoch 114/200\n",
      "32/32 [==============================] - 0s 678us/step - loss: 0.0043 - accuracy: 0.0010\n",
      "Epoch 115/200\n",
      "32/32 [==============================] - 0s 784us/step - loss: 0.0043 - accuracy: 0.0010\n",
      "Epoch 116/200\n",
      "32/32 [==============================] - 0s 699us/step - loss: 0.0043 - accuracy: 0.0010\n",
      "Epoch 117/200\n",
      "32/32 [==============================] - 0s 704us/step - loss: 0.0043 - accuracy: 0.0010\n",
      "Epoch 118/200\n",
      "32/32 [==============================] - 0s 786us/step - loss: 0.0043 - accuracy: 0.0010\n",
      "Epoch 119/200\n",
      "32/32 [==============================] - 0s 773us/step - loss: 0.0043 - accuracy: 0.0010\n",
      "Epoch 120/200\n",
      "32/32 [==============================] - 0s 765us/step - loss: 0.0043 - accuracy: 0.0010\n",
      "Epoch 121/200\n",
      "32/32 [==============================] - 0s 759us/step - loss: 0.0043 - accuracy: 0.0010\n",
      "Epoch 122/200\n",
      "32/32 [==============================] - 0s 758us/step - loss: 0.0043 - accuracy: 0.0010\n",
      "Epoch 123/200\n",
      "32/32 [==============================] - 0s 709us/step - loss: 0.0043 - accuracy: 0.0010\n",
      "Epoch 124/200\n",
      "32/32 [==============================] - 0s 750us/step - loss: 0.0043 - accuracy: 0.0010\n",
      "Epoch 125/200\n",
      "32/32 [==============================] - 0s 700us/step - loss: 0.0043 - accuracy: 0.0010\n",
      "Epoch 126/200\n",
      "32/32 [==============================] - 0s 773us/step - loss: 0.0043 - accuracy: 0.0010\n",
      "Epoch 127/200\n",
      "32/32 [==============================] - 0s 737us/step - loss: 0.0043 - accuracy: 0.0010\n",
      "Epoch 128/200\n",
      "32/32 [==============================] - 0s 783us/step - loss: 0.0043 - accuracy: 0.0010\n",
      "Epoch 129/200\n",
      "32/32 [==============================] - 0s 707us/step - loss: 0.0043 - accuracy: 0.0010\n",
      "Epoch 130/200\n",
      "32/32 [==============================] - 0s 750us/step - loss: 0.0043 - accuracy: 0.0010\n",
      "Epoch 131/200\n",
      "32/32 [==============================] - 0s 745us/step - loss: 0.0043 - accuracy: 0.0010\n",
      "Epoch 132/200\n",
      "32/32 [==============================] - 0s 750us/step - loss: 0.0043 - accuracy: 0.0010\n",
      "Epoch 133/200\n",
      "32/32 [==============================] - 0s 773us/step - loss: 0.0043 - accuracy: 0.0010\n",
      "Epoch 134/200\n",
      "32/32 [==============================] - 0s 872us/step - loss: 0.0043 - accuracy: 0.0010\n",
      "Epoch 135/200\n",
      "32/32 [==============================] - 0s 708us/step - loss: 0.0043 - accuracy: 0.0010\n",
      "Epoch 136/200\n",
      "32/32 [==============================] - 0s 764us/step - loss: 0.0042 - accuracy: 0.0010\n",
      "Epoch 137/200\n",
      "32/32 [==============================] - 0s 768us/step - loss: 0.0042 - accuracy: 0.0010\n",
      "Epoch 138/200\n",
      "32/32 [==============================] - 0s 797us/step - loss: 0.0042 - accuracy: 0.0010\n",
      "Epoch 139/200\n",
      "32/32 [==============================] - 0s 752us/step - loss: 0.0042 - accuracy: 0.0010\n",
      "Epoch 140/200\n",
      "32/32 [==============================] - 0s 774us/step - loss: 0.0042 - accuracy: 0.0010\n",
      "Epoch 141/200\n",
      "32/32 [==============================] - 0s 757us/step - loss: 0.0042 - accuracy: 0.0010\n",
      "Epoch 142/200\n",
      "32/32 [==============================] - 0s 764us/step - loss: 0.0042 - accuracy: 0.0010\n",
      "Epoch 143/200\n",
      "32/32 [==============================] - 0s 776us/step - loss: 0.0042 - accuracy: 0.0010\n",
      "Epoch 144/200\n",
      "32/32 [==============================] - 0s 770us/step - loss: 0.0042 - accuracy: 0.0010\n",
      "Epoch 145/200\n",
      "32/32 [==============================] - 0s 718us/step - loss: 0.0042 - accuracy: 0.0010\n",
      "Epoch 146/200\n",
      "32/32 [==============================] - 0s 662us/step - loss: 0.0042 - accuracy: 0.0010\n",
      "Epoch 147/200\n",
      "32/32 [==============================] - 0s 858us/step - loss: 0.0042 - accuracy: 0.0010\n",
      "Epoch 148/200\n",
      "32/32 [==============================] - 0s 689us/step - loss: 0.0042 - accuracy: 0.0010\n",
      "Epoch 149/200\n",
      "32/32 [==============================] - 0s 756us/step - loss: 0.0042 - accuracy: 0.0010\n",
      "Epoch 150/200\n",
      "32/32 [==============================] - 0s 701us/step - loss: 0.0042 - accuracy: 0.0010\n",
      "Epoch 151/200\n",
      "32/32 [==============================] - 0s 777us/step - loss: 0.0042 - accuracy: 0.0010\n",
      "Epoch 152/200\n",
      "32/32 [==============================] - 0s 690us/step - loss: 0.0042 - accuracy: 0.0010\n",
      "Epoch 153/200\n",
      "32/32 [==============================] - 0s 727us/step - loss: 0.0042 - accuracy: 0.0010\n",
      "Epoch 154/200\n",
      "32/32 [==============================] - 0s 712us/step - loss: 0.0042 - accuracy: 0.0010\n",
      "Epoch 155/200\n",
      "32/32 [==============================] - 0s 732us/step - loss: 0.0042 - accuracy: 0.0010\n",
      "Epoch 156/200\n",
      "32/32 [==============================] - 0s 703us/step - loss: 0.0042 - accuracy: 0.0010\n",
      "Epoch 157/200\n",
      "32/32 [==============================] - 0s 753us/step - loss: 0.0042 - accuracy: 0.0010\n",
      "Epoch 158/200\n",
      "32/32 [==============================] - 0s 732us/step - loss: 0.0042 - accuracy: 0.0010\n",
      "Epoch 159/200\n",
      "32/32 [==============================] - 0s 827us/step - loss: 0.0042 - accuracy: 0.0010\n",
      "Epoch 160/200\n",
      "32/32 [==============================] - 0s 715us/step - loss: 0.0042 - accuracy: 0.0010\n",
      "Epoch 161/200\n",
      "32/32 [==============================] - 0s 739us/step - loss: 0.0042 - accuracy: 0.0010\n",
      "Epoch 162/200\n",
      "32/32 [==============================] - 0s 737us/step - loss: 0.0042 - accuracy: 0.0010\n",
      "Epoch 163/200\n",
      "32/32 [==============================] - 0s 713us/step - loss: 0.0042 - accuracy: 0.0010\n",
      "Epoch 164/200\n",
      "32/32 [==============================] - 0s 705us/step - loss: 0.0042 - accuracy: 0.0010\n",
      "Epoch 165/200\n",
      "32/32 [==============================] - 0s 794us/step - loss: 0.0042 - accuracy: 0.0010\n",
      "Epoch 166/200\n",
      "32/32 [==============================] - 0s 805us/step - loss: 0.0042 - accuracy: 0.0010\n",
      "Epoch 167/200\n",
      "32/32 [==============================] - 0s 791us/step - loss: 0.0041 - accuracy: 0.0010\n",
      "Epoch 168/200\n",
      "32/32 [==============================] - 0s 803us/step - loss: 0.0041 - accuracy: 0.0010\n",
      "Epoch 169/200\n",
      "32/32 [==============================] - 0s 772us/step - loss: 0.0041 - accuracy: 0.0010\n",
      "Epoch 170/200\n",
      "32/32 [==============================] - 0s 778us/step - loss: 0.0041 - accuracy: 0.0010\n",
      "Epoch 171/200\n",
      "32/32 [==============================] - 0s 792us/step - loss: 0.0041 - accuracy: 0.0010\n",
      "Epoch 172/200\n",
      "32/32 [==============================] - 0s 749us/step - loss: 0.0041 - accuracy: 0.0010\n",
      "Epoch 173/200\n",
      "32/32 [==============================] - 0s 769us/step - loss: 0.0041 - accuracy: 0.0010\n",
      "Epoch 174/200\n",
      "32/32 [==============================] - 0s 742us/step - loss: 0.0041 - accuracy: 0.0010\n",
      "Epoch 175/200\n",
      "32/32 [==============================] - 0s 730us/step - loss: 0.0041 - accuracy: 0.0010\n",
      "Epoch 176/200\n",
      "32/32 [==============================] - 0s 773us/step - loss: 0.0041 - accuracy: 0.0010\n",
      "Epoch 177/200\n",
      "32/32 [==============================] - 0s 757us/step - loss: 0.0041 - accuracy: 0.0010\n",
      "Epoch 178/200\n",
      "32/32 [==============================] - 0s 795us/step - loss: 0.0041 - accuracy: 0.0010\n",
      "Epoch 179/200\n",
      "32/32 [==============================] - 0s 722us/step - loss: 0.0041 - accuracy: 0.0010\n",
      "Epoch 180/200\n",
      "32/32 [==============================] - 0s 786us/step - loss: 0.0041 - accuracy: 0.0010\n",
      "Epoch 181/200\n",
      "32/32 [==============================] - 0s 798us/step - loss: 0.0041 - accuracy: 0.0010\n",
      "Epoch 182/200\n",
      "32/32 [==============================] - 0s 801us/step - loss: 0.0041 - accuracy: 0.0010\n",
      "Epoch 183/200\n",
      "32/32 [==============================] - 0s 749us/step - loss: 0.0041 - accuracy: 0.0010\n",
      "Epoch 184/200\n",
      "32/32 [==============================] - 0s 727us/step - loss: 0.0041 - accuracy: 0.0010\n",
      "Epoch 185/200\n",
      "32/32 [==============================] - 0s 873us/step - loss: 0.0041 - accuracy: 0.0010\n",
      "Epoch 186/200\n",
      "32/32 [==============================] - 0s 800us/step - loss: 0.0041 - accuracy: 0.0010\n",
      "Epoch 187/200\n",
      "32/32 [==============================] - 0s 774us/step - loss: 0.0041 - accuracy: 0.0010\n",
      "Epoch 188/200\n",
      "32/32 [==============================] - 0s 748us/step - loss: 0.0041 - accuracy: 0.0010\n",
      "Epoch 189/200\n",
      "32/32 [==============================] - 0s 787us/step - loss: 0.0041 - accuracy: 0.0010\n",
      "Epoch 190/200\n",
      "32/32 [==============================] - 0s 769us/step - loss: 0.0041 - accuracy: 0.0010\n",
      "Epoch 191/200\n",
      "32/32 [==============================] - 0s 754us/step - loss: 0.0041 - accuracy: 0.0010\n",
      "Epoch 192/200\n",
      "32/32 [==============================] - 0s 778us/step - loss: 0.0041 - accuracy: 0.0010\n",
      "Epoch 193/200\n",
      "32/32 [==============================] - 0s 818us/step - loss: 0.0041 - accuracy: 0.0010\n",
      "Epoch 194/200\n",
      "32/32 [==============================] - 0s 721us/step - loss: 0.0041 - accuracy: 0.0010\n",
      "Epoch 195/200\n",
      "32/32 [==============================] - 0s 734us/step - loss: 0.0041 - accuracy: 0.0010\n",
      "Epoch 196/200\n",
      "32/32 [==============================] - 0s 837us/step - loss: 0.0041 - accuracy: 0.0010\n",
      "Epoch 197/200\n",
      "32/32 [==============================] - 0s 873us/step - loss: 0.0041 - accuracy: 0.0010\n",
      "Epoch 198/200\n",
      "32/32 [==============================] - 0s 787us/step - loss: 0.0041 - accuracy: 0.0010\n",
      "Epoch 199/200\n",
      "32/32 [==============================] - 0s 862us/step - loss: 0.0041 - accuracy: 0.0010\n",
      "Epoch 200/200\n",
      "32/32 [==============================] - 0s 812us/step - loss: 0.0041 - accuracy: 0.0010\n"
     ]
    }
   ],
   "source": [
    "history = model.fit(x_train,\n",
    "                    y_train,\n",
    "                    epochs=200)"
   ]
  },
  {
   "cell_type": "code",
   "execution_count": 29,
   "metadata": {},
   "outputs": [
    {
     "data": {
      "image/png": "[encoded data removed]",
      "text/plain": [
       "<Figure size 432x288 with 1 Axes>"
      ]
     },
     "metadata": {
      "needs_background": "light"
     },
     "output_type": "display_data"
    }
   ],
   "source": [
    "plt.plot(history.history[\"loss\"])\n",
    "plt.show()"
   ]
  },
  {
   "cell_type": "markdown",
   "metadata": {},
   "source": [
    "# Modell testen"
   ]
  },
  {
   "cell_type": "code",
   "execution_count": 30,
   "metadata": {},
   "outputs": [],
   "source": [
    "preds = model.predict(x_test)"
   ]
  },
  {
   "cell_type": "code",
   "execution_count": 31,
   "metadata": {},
   "outputs": [
    {
     "data": {
      "text/plain": [
       "(460, 1)"
      ]
     },
     "execution_count": 31,
     "metadata": {},
     "output_type": "execute_result"
    }
   ],
   "source": [
    "preds.shape"
   ]
  },
  {
   "cell_type": "code",
   "execution_count": 32,
   "metadata": {},
   "outputs": [
    {
     "data": {
      "text/plain": [
       "array([[ 61706.94 ],\n",
       "       [116119.125],\n",
       "       [272375.84 ],\n",
       "       [140694.17 ],\n",
       "       [225143.08 ],\n",
       "       [138968.58 ],\n",
       "       [177516.27 ],\n",
       "       [ 98696.195],\n",
       "       [230698.77 ],\n",
       "       [118349.07 ]], dtype=float32)"
      ]
     },
     "execution_count": 32,
     "metadata": {},
     "output_type": "execute_result"
    }
   ],
   "source": [
    "preds_dollar = scaler_output.inverse_transform( preds )\n",
    "preds_dollar[:10]"
   ]
  },
  {
   "cell_type": "code",
   "execution_count": 33,
   "metadata": {},
   "outputs": [],
   "source": [
    "gt_dollar = scaler_output.inverse_transform( y_test )"
   ]
  },
  {
   "cell_type": "code",
   "execution_count": 34,
   "metadata": {},
   "outputs": [
    {
     "data": {
      "text/plain": [
       "array([[ 82000.],\n",
       "       [ 86000.],\n",
       "       [232000.],\n",
       "       [136905.],\n",
       "       [181000.],\n",
       "       [149900.],\n",
       "       [163500.],\n",
       "       [ 88000.],\n",
       "       [240000.],\n",
       "       [102000.]])"
      ]
     },
     "execution_count": 34,
     "metadata": {},
     "output_type": "execute_result"
    }
   ],
   "source": [
    "gt_dollar[:10]"
   ]
  },
  {
   "cell_type": "code",
   "execution_count": 35,
   "metadata": {},
   "outputs": [
    {
     "data": {
      "text/plain": [
       "31634.247229534645"
      ]
     },
     "execution_count": 35,
     "metadata": {},
     "output_type": "execute_result"
    }
   ],
   "source": [
    "durchschnitt_fehler = np.mean(abs(gt_dollar - preds_dollar))\n",
    "durchschnitt_fehler"
   ]
  },
  {
   "cell_type": "markdown",
   "metadata": {},
   "source": [
    "# Modell speichern"
   ]
  },
  {
   "cell_type": "code",
   "execution_count": 36,
   "metadata": {},
   "outputs": [],
   "source": [
    "fname1 = \"hauspreis_schaetzer.h5\"\n",
    "model.save(fname1)"
   ]
  },
  {
   "cell_type": "code",
   "execution_count": 37,
   "metadata": {},
   "outputs": [],
   "source": [
    "import pickle\n",
    "fname2 = \"scaler.pkl\"\n",
    "fobj = open(fname2, \"wb\")\n",
    "pickle.dump(scaler_input, fobj)\n",
    "pickle.dump(scaler_output, fobj)\n",
    "fobj.close()"
   ]
  },
  {
   "cell_type": "markdown",
   "metadata": {},
   "source": [
    "# Modell wiederherstellen und anwenden"
   ]
  },
  {
   "cell_type": "code",
   "execution_count": 38,
   "metadata": {},
   "outputs": [],
   "source": [
    "from tensorflow import keras\n",
    "\n",
    "new_model = keras.models.load_model(\"hauspreis_schaetzer.h5\")\n",
    "\n",
    "fobj = open(\"scaler.pkl\", \"rb\")\n",
    "scaler_input = pickle.load(fobj)\n",
    "scaler_output = pickle.load(fobj)\n",
    "fobj.close()"
   ]
  },
  {
   "cell_type": "code",
   "execution_count": 39,
   "metadata": {},
   "outputs": [
    {
     "name": "stdout",
     "output_type": "stream",
     "text": [
      "Model: \"sequential\"\n",
      "_________________________________________________________________\n",
      " Layer (type)                Output Shape              Param #   \n",
      "=================================================================\n",
      " Schicht1 (Dense)            (None, 80)                320       \n",
      "                                                                 \n",
      " Outputschicht (Dense)       (None, 1)                 81        \n",
      "                                                                 \n",
      "=================================================================\n",
      "Total params: 401\n",
      "Trainable params: 401\n",
      "Non-trainable params: 0\n",
      "_________________________________________________________________\n"
     ]
    }
   ],
   "source": [
    "new_model.summary()"
   ]
  },
  {
   "cell_type": "code",
   "execution_count": 40,
   "metadata": {},
   "outputs": [
    {
     "name": "stdin",
     "output_type": "stream",
     "text": [
      "Baujahr: 2015\n",
      "Groesse: 5000\n",
      "Qualität: 9\n"
     ]
    },
    {
     "data": {
      "text/plain": [
       "(2015.0, 5000.0, 9.0)"
      ]
     },
     "execution_count": 40,
     "metadata": {},
     "output_type": "execute_result"
    }
   ],
   "source": [
    "baujahr = float(input(\"Baujahr:\"))\n",
    "groesse = float(input(\"Groesse:\"))\n",
    "qualitaet = float(input(\"Qualität:\"))\n",
    "baujahr, groesse, qualitaet"
   ]
  },
  {
   "cell_type": "code",
   "execution_count": 41,
   "metadata": {},
   "outputs": [],
   "source": [
    "input_matrix = scaler_input.transform( [[baujahr, groesse, qualitaet]] )"
   ]
  },
  {
   "cell_type": "code",
   "execution_count": 42,
   "metadata": {},
   "outputs": [
    {
     "data": {
      "text/plain": [
       "array([[1.03623188, 0.01729416, 0.88888889]])"
      ]
     },
     "execution_count": 42,
     "metadata": {},
     "output_type": "execute_result"
    }
   ],
   "source": [
    "input_matrix"
   ]
  },
  {
   "cell_type": "code",
   "execution_count": 43,
   "metadata": {},
   "outputs": [],
   "source": [
    "pred = new_model.predict( input_matrix )"
   ]
  },
  {
   "cell_type": "code",
   "execution_count": 44,
   "metadata": {},
   "outputs": [],
   "source": [
    "pred_dollar = scaler_output.inverse_transform( pred )[0][0]"
   ]
  },
  {
   "cell_type": "code",
   "execution_count": 45,
   "metadata": {},
   "outputs": [
    {
     "name": "stdout",
     "output_type": "stream",
     "text": [
      "Das Neuronale Netz sagt das Haus kann in etwa für 313306.28 $ verkauft werden.\n"
     ]
    }
   ],
   "source": [
    "print( f\"Das Neuronale Netz sagt das Haus kann in etwa für {pred_dollar:.2f} $ verkauft werden.\" )"
   ]
  },
  {
   "cell_type": "code",
   "execution_count": null,
   "metadata": {},
   "outputs": [],
   "source": []
  }
 ],
 "metadata": {
  "kernelspec": {
   "display_name": "Python 3 (ipykernel)",
   "language": "python",
   "name": "python3"
  },
  "language_info": {
   "codemirror_mode": {
    "name": "ipython",
    "version": 3
   },
   "file_extension": ".py",
   "mimetype": "text/x-python",
   "name": "python",
   "nbconvert_exporter": "python",
   "pygments_lexer": "ipython3",
   "version": "3.8.10"
  },
  "toc": {
   "base_numbering": 1,
   "nav_menu": {},
   "number_sections": true,
   "sideBar": true,
   "skip_h1_title": false,
   "title_cell": "Inhaltsverzeichnis",
   "title_sidebar": "Inhalte",
   "toc_cell": true,
   "toc_position": {
    "height": "calc(100% - 180px)",
    "left": "10px",
    "top": "150px",
    "width": "165px"
   },
   "toc_section_display": true,
   "toc_window_display": true
  },
  "toc-autonumbering": true
 },
 "nbformat": 4,
 "nbformat_minor": 4
}
