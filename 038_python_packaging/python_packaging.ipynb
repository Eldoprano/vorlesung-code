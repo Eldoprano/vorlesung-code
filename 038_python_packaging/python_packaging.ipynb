{
 "cells": [
  {
   "cell_type": "markdown",
   "id": "c35f3222-858c-45ee-85d3-9c36fb5a1758",
   "metadata": {},
   "source": [
    "# Welchen Nutzen haben virtuelle Umgebungen bei der Python-Code-Entwicklung?\n",
    "\n",
    "- Produkt-Deployment: Erstellen einer Umgebung, in der für einen Kunden alle benötigten Python-Pakete in der richtigen Version laufen\n",
    "- Reproduktion von Fehlern: Erstellen einer Umgebung, in der alte Pakete installiert sind (der Entwickler arbeitet vielleicht schon mit neueren Paketversionen)\n",
    "- Entwicklung von Software im Team: jeder Entwickler soll exakt die gleichen Pakete verwenden\n",
    "- Trennung von Programm- und Entwickler-Paketen"
   ]
  },
  {
   "cell_type": "markdown",
   "id": "9cd1a6fb-53d5-4319-9479-7c2a3c38f456",
   "metadata": {},
   "source": [
    "# Pip Basics\n",
    "\n",
    "- `pip` ist der Paket-Manager, der seit Python 3.4 automatisch bei einer Python-Installation mitinstalliert wird\n",
    "- `pip` ist dabei ein rekursives Akronym und steht für `pip install packages`\n",
    "- Vorgängerversion von `pip` hieß `pyinstall`\n",
    "- Pakete, die man mit pip installiert, kommen dabei erstmal vom sogenannten `PyPI` (**Py**thon **P**ackage **I**ndex (PyPI): https://pypi.org/\n",
    "- `pip` kann aber auch konfiguriert werden, Pakete von anderen (lokalen oder nicht-lokalen) Repositories zu holen"
   ]
  },
  {
   "cell_type": "code",
   "execution_count": 2,
   "id": "4e1b89fa-e5ce-40f2-aed7-cb2aefd7e9a9",
   "metadata": {},
   "outputs": [
    {
     "name": "stdout",
     "output_type": "stream",
     "text": [
      "\n",
      "Usage:   \n",
      "  pip <command> [options]\n",
      "\n",
      "Commands:\n",
      "  install                     Install packages.\n",
      "  download                    Download packages.\n",
      "  uninstall                   Uninstall packages.\n",
      "  freeze                      Output installed packages in requirements format.\n",
      "  inspect                     Inspect the python environment.\n",
      "  list                        List installed packages.\n",
      "  show                        Show information about installed packages.\n",
      "  check                       Verify installed packages have compatible dependencies.\n",
      "  config                      Manage local and global configuration.\n",
      "  search                      Search PyPI for packages.\n",
      "  cache                       Inspect and manage pip's wheel cache.\n",
      "  index                       Inspect information available from package indexes.\n",
      "  wheel                       Build wheels from your requirements.\n",
      "  hash                        Compute hashes of package archives.\n",
      "  completion                  A helper command used for command completion.\n",
      "  debug                       Show information useful for debugging.\n",
      "  help                        Show help for commands.\n",
      "\n",
      "General Options:\n",
      "  -h, --help                  Show help.\n",
      "  --debug                     Let unhandled exceptions propagate outside the\n",
      "                              main subroutine, instead of logging them to\n",
      "                              stderr.\n",
      "  --isolated                  Run pip in an isolated mode, ignoring\n",
      "                              environment variables and user configuration.\n",
      "  --require-virtualenv        Allow pip to only run in a virtual environment;\n",
      "                              exit with an error otherwise.\n",
      "  --python <python>           Run pip with the specified Python interpreter.\n",
      "  -v, --verbose               Give more output. Option is additive, and can be\n",
      "                              used up to 3 times.\n",
      "  -V, --version               Show version and exit.\n",
      "  -q, --quiet                 Give less output. Option is additive, and can be\n",
      "                              used up to 3 times (corresponding to WARNING,\n",
      "                              ERROR, and CRITICAL logging levels).\n",
      "  --log <path>                Path to a verbose appending log.\n",
      "  --no-input                  Disable prompting for input.\n",
      "  --proxy <proxy>             Specify a proxy in the form\n",
      "                              scheme://[user:passwd@]proxy.server:port.\n",
      "  --retries <retries>         Maximum number of retries each connection should\n",
      "                              attempt (default 5 times).\n",
      "  --timeout <sec>             Set the socket timeout (default 15 seconds).\n",
      "  --exists-action <action>    Default action when a path already exists:\n",
      "                              (s)witch, (i)gnore, (w)ipe, (b)ackup, (a)bort.\n",
      "  --trusted-host <hostname>   Mark this host or host:port pair as trusted,\n",
      "                              even though it does not have valid or any HTTPS.\n",
      "  --cert <path>               Path to PEM-encoded CA certificate bundle. If\n",
      "                              provided, overrides the default. See 'SSL\n",
      "                              Certificate Verification' in pip documentation\n",
      "                              for more information.\n",
      "  --client-cert <path>        Path to SSL client certificate, a single file\n",
      "                              containing the private key and the certificate\n",
      "                              in PEM format.\n",
      "  --cache-dir <dir>           Store the cache data in <dir>.\n",
      "  --no-cache-dir              Disable the cache.\n",
      "  --disable-pip-version-check\n",
      "                              Don't periodically check PyPI to determine\n",
      "                              whether a new version of pip is available for\n",
      "                              download. Implied with --no-index.\n",
      "  --no-color                  Suppress colored output.\n",
      "  --no-python-version-warning\n",
      "                              Silence deprecation warnings for upcoming\n",
      "                              unsupported Pythons.\n",
      "  --use-feature <feature>     Enable new functionality, that may be backward\n",
      "                              incompatible.\n",
      "  --use-deprecated <feature>  Enable deprecated functionality, that will be\n",
      "                              removed in the future.\n"
     ]
    }
   ],
   "source": [
    "# Mögliche Parameter für pip anzeigen\n",
    "!pip"
   ]
  },
  {
   "cell_type": "code",
   "execution_count": 3,
   "id": "6da09b53-9ebe-48c9-ace7-159e80c5adee",
   "metadata": {},
   "outputs": [
    {
     "name": "stdout",
     "output_type": "stream",
     "text": [
      "Found existing installation: pandas 1.2.0\n",
      "Uninstalling pandas-1.2.0:\n",
      "  Successfully uninstalled pandas-1.2.0\n"
     ]
    }
   ],
   "source": [
    "# Falls Paket vorher schon installiert, jetzt deinstallieren\n",
    "#!pip uninstall -y pandas"
   ]
  },
  {
   "cell_type": "code",
   "execution_count": 4,
   "id": "ca329757-e563-4261-9831-0bccd4adaafa",
   "metadata": {},
   "outputs": [
    {
     "name": "stdout",
     "output_type": "stream",
     "text": [
      "Defaulting to user installation because normal site-packages is not writeable\n",
      "\u001b[31mERROR: Could not find a version that satisfies the requirement pandas== (from versions: 0.1, 0.2, 0.3.0, 0.4.0, 0.4.1, 0.4.2, 0.4.3, 0.5.0, 0.6.0, 0.6.1, 0.7.0, 0.7.1, 0.7.2, 0.7.3, 0.8.0, 0.8.1, 0.9.0, 0.9.1, 0.10.0, 0.10.1, 0.11.0, 0.12.0, 0.13.0, 0.13.1, 0.14.0, 0.14.1, 0.15.0, 0.15.1, 0.15.2, 0.16.0, 0.16.1, 0.16.2, 0.17.0, 0.17.1, 0.18.0, 0.18.1, 0.19.0, 0.19.1, 0.19.2, 0.20.0, 0.20.1, 0.20.2, 0.20.3, 0.21.0, 0.21.1, 0.22.0, 0.23.0, 0.23.1, 0.23.2, 0.23.3, 0.23.4, 0.24.0, 0.24.1, 0.24.2, 0.25.0, 0.25.1, 0.25.2, 0.25.3, 1.0.0, 1.0.1, 1.0.2, 1.0.3, 1.0.4, 1.0.5, 1.1.0, 1.1.1, 1.1.2, 1.1.3, 1.1.4, 1.1.5, 1.2.0, 1.2.1, 1.2.2, 1.2.3, 1.2.4, 1.2.5, 1.3.0, 1.3.1, 1.3.2, 1.3.3, 1.3.4, 1.3.5, 1.4.0rc0, 1.4.0, 1.4.1, 1.4.2, 1.4.3, 1.4.4, 1.5.0rc0, 1.5.0, 1.5.1)\u001b[0m\u001b[31m\n",
      "\u001b[0m\u001b[31mERROR: No matching distribution found for pandas==\u001b[0m\u001b[31m\n",
      "\u001b[0m"
     ]
    }
   ],
   "source": [
    "# Trick: Alle verfügbaren Paketversionen anzeigen\n",
    "!pip install pandas=="
   ]
  },
  {
   "cell_type": "markdown",
   "id": "890f54ed-10f8-482c-a4e8-21e203010212",
   "metadata": {},
   "source": [
    "Auch hilfreich ist die `history` Funktion für jedes Paket auf der `PyPI`-Webseite:\n",
    "https://pypi.org/project/pandas/#history\n",
    "\n",
    "Dies ist also eine andere Möglichkeit einen Überblick über mögliche Paketversionen zu erhalten."
   ]
  },
  {
   "cell_type": "code",
   "execution_count": 5,
   "id": "8630d588-64d5-42d6-bd2b-082b284720dd",
   "metadata": {
    "tags": []
   },
   "outputs": [
    {
     "name": "stdout",
     "output_type": "stream",
     "text": [
      "Defaulting to user installation because normal site-packages is not writeable\n",
      "Collecting pandas==1.2.0\n",
      "  Downloading pandas-1.2.0-cp38-cp38-manylinux1_x86_64.whl (9.7 MB)\n",
      "\u001b[2K     \u001b[38;2;114;156;31m━━━━━━━━━━━━━━━━━━━━━━━━━━━━━━━━━━━━━━━━\u001b[0m \u001b[32m9.7/9.7 MB\u001b[0m \u001b[31m44.3 MB/s\u001b[0m eta \u001b[36m0:00:00\u001b[0mm eta \u001b[36m0:00:01\u001b[0m0:01\u001b[0m:01\u001b[0m\n",
      "\u001b[?25hRequirement already satisfied: python-dateutil>=2.7.3 in /home/juebrauer/.local/lib/python3.8/site-packages (from pandas==1.2.0) (2.8.2)\n",
      "Requirement already satisfied: pytz>=2017.3 in /home/juebrauer/.local/lib/python3.8/site-packages (from pandas==1.2.0) (2021.3)\n",
      "Requirement already satisfied: numpy>=1.16.5 in /home/juebrauer/.local/lib/python3.8/site-packages (from pandas==1.2.0) (1.22.2)\n",
      "Requirement already satisfied: six>=1.5 in /home/juebrauer/.local/lib/python3.8/site-packages (from python-dateutil>=2.7.3->pandas==1.2.0) (1.16.0)\n",
      "Installing collected packages: pandas\n",
      "Successfully installed pandas-1.2.0\n"
     ]
    }
   ],
   "source": [
    "!pip install pandas==1.2.0"
   ]
  },
  {
   "cell_type": "code",
   "execution_count": 6,
   "id": "e2c59c88-7aba-4c18-a9e4-93ec5c75c432",
   "metadata": {
    "tags": []
   },
   "outputs": [
    {
     "name": "stdout",
     "output_type": "stream",
     "text": [
      "Name: pandas\n",
      "Version: 1.2.0\n",
      "Summary: Powerful data structures for data analysis, time series, and statistics\n",
      "Home-page: https://pandas.pydata.org\n",
      "Author: \n",
      "Author-email: \n",
      "License: BSD\n",
      "Location: /home/juebrauer/.local/lib/python3.8/site-packages\n",
      "Requires: numpy, python-dateutil, pytz\n",
      "Required-by: yfinance\n"
     ]
    }
   ],
   "source": [
    "# Paket-Infos und Dependencies für ein Paket anzeigen\n",
    "!pip show pandas"
   ]
  },
  {
   "cell_type": "code",
   "execution_count": 7,
   "id": "92a1c68b-8da5-4a74-ab59-960ead091963",
   "metadata": {},
   "outputs": [
    {
     "name": "stdout",
     "output_type": "stream",
     "text": [
      "pip 22.3 from /home/juebrauer/.local/lib/python3.8/site-packages/pip (python 3.8)\n"
     ]
    }
   ],
   "source": [
    "# pip-Versionsnr anzeigen\n",
    "!pip -V"
   ]
  },
  {
   "cell_type": "code",
   "execution_count": 8,
   "id": "9b3d3a7d-3037-49a3-ae7f-dfc65db88fdc",
   "metadata": {},
   "outputs": [
    {
     "name": "stdout",
     "output_type": "stream",
     "text": [
      "pip 22.3 from /home/juebrauer/.local/lib/python3.8/site-packages/pip (python 3.8)\n"
     ]
    }
   ],
   "source": [
    "# Alternative:\n",
    "!pip --version"
   ]
  },
  {
   "cell_type": "code",
   "execution_count": 9,
   "id": "70ad82d2-6b44-4c0a-bab5-78447f0b3687",
   "metadata": {},
   "outputs": [
    {
     "name": "stdout",
     "output_type": "stream",
     "text": [
      "Defaulting to user installation because normal site-packages is not writeable\n",
      "\u001b[31mERROR: Could not find a version that satisfies the requirement pip== (from versions: 0.2, 0.2.1, 0.3, 0.3.1, 0.4, 0.5, 0.5.1, 0.6, 0.6.1, 0.6.2, 0.6.3, 0.7, 0.7.1, 0.7.2, 0.8, 0.8.1, 0.8.2, 0.8.3, 1.0, 1.0.1, 1.0.2, 1.1, 1.2, 1.2.1, 1.3, 1.3.1, 1.4, 1.4.1, 1.5, 1.5.1, 1.5.2, 1.5.3, 1.5.4, 1.5.5, 1.5.6, 6.0, 6.0.1, 6.0.2, 6.0.3, 6.0.4, 6.0.5, 6.0.6, 6.0.7, 6.0.8, 6.1.0, 6.1.1, 7.0.0, 7.0.1, 7.0.2, 7.0.3, 7.1.0, 7.1.1, 7.1.2, 8.0.0, 8.0.1, 8.0.2, 8.0.3, 8.1.0, 8.1.1, 8.1.2, 9.0.0, 9.0.1, 9.0.2, 9.0.3, 10.0.0b1, 10.0.0b2, 10.0.0, 10.0.1, 18.0, 18.1, 19.0, 19.0.1, 19.0.2, 19.0.3, 19.1, 19.1.1, 19.2, 19.2.1, 19.2.2, 19.2.3, 19.3, 19.3.1, 20.0, 20.0.1, 20.0.2, 20.1b1, 20.1, 20.1.1, 20.2b1, 20.2, 20.2.1, 20.2.2, 20.2.3, 20.2.4, 20.3b1, 20.3, 20.3.1, 20.3.2, 20.3.3, 20.3.4, 21.0, 21.0.1, 21.1, 21.1.1, 21.1.2, 21.1.3, 21.2, 21.2.1, 21.2.2, 21.2.3, 21.2.4, 21.3, 21.3.1, 22.0, 22.0.1, 22.0.2, 22.0.3, 22.0.4, 22.1b1, 22.1, 22.1.1, 22.1.2, 22.2, 22.2.1, 22.2.2, 22.3)\u001b[0m\u001b[31m\n",
      "\u001b[0m\u001b[31mERROR: No matching distribution found for pip==\u001b[0m\u001b[31m\n",
      "\u001b[0m"
     ]
    }
   ],
   "source": [
    "# Gibt es eine neuere Version?\n",
    "!pip install pip=="
   ]
  },
  {
   "cell_type": "code",
   "execution_count": 10,
   "id": "4441cde5-6b64-4385-b572-56710ce7452b",
   "metadata": {},
   "outputs": [
    {
     "name": "stdout",
     "output_type": "stream",
     "text": [
      "Defaulting to user installation because normal site-packages is not writeable\n",
      "Requirement already satisfied: pip==22.3 in /home/juebrauer/.local/lib/python3.8/site-packages (22.3)\n"
     ]
    }
   ],
   "source": [
    "# Installiere eine neuere Version von pip\n",
    "!pip install pip==22.3"
   ]
  },
  {
   "cell_type": "code",
   "execution_count": 11,
   "id": "ac2c81ab-4a1f-4ace-bc5d-ec21d7502323",
   "metadata": {},
   "outputs": [
    {
     "name": "stdout",
     "output_type": "stream",
     "text": [
      "pip 22.3 from /home/juebrauer/.local/lib/python3.8/site-packages/pip (python 3.8)\n"
     ]
    }
   ],
   "source": [
    "!pip -V"
   ]
  },
  {
   "cell_type": "code",
   "execution_count": 12,
   "id": "ed0c99d0-ed4c-4596-a439-bedfc8e0db35",
   "metadata": {},
   "outputs": [
    {
     "name": "stdout",
     "output_type": "stream",
     "text": [
      "Defaulting to user installation because normal site-packages is not writeable\n",
      "Requirement already satisfied: pip in /home/juebrauer/.local/lib/python3.8/site-packages (22.3)\n"
     ]
    }
   ],
   "source": [
    "# ohne eine spezifische Version anzugeben, können wir uns auch\n",
    "# einfach die neuste Version wünschen\n",
    "!pip install --upgrade pip"
   ]
  },
  {
   "cell_type": "code",
   "execution_count": 13,
   "id": "f60f48af-7f52-4982-9e0d-be5c44b1c0ec",
   "metadata": {},
   "outputs": [
    {
     "name": "stdout",
     "output_type": "stream",
     "text": [
      "Loading KWallet\n",
      "Loading SecretService\n",
      "Loading Windows\n",
      "Loading chainer\n",
      "Loading macOS\n",
      "\n",
      "Usage:   \n",
      "  pip install [options] <requirement specifier> [package-index-options] ...\n",
      "  pip install [options] -r <requirements file> [package-index-options] ...\n",
      "  pip install [options] [-e] <vcs project url> ...\n",
      "  pip install [options] [-e] <local project path> ...\n",
      "  pip install [options] <archive url/path> ...\n",
      "\n",
      "Description:\n",
      "  Install packages from:\n",
      "  \n",
      "  - PyPI (and other indexes) using requirement specifiers.\n",
      "  - VCS project urls.\n",
      "  - Local project directories.\n",
      "  - Local or remote source archives.\n",
      "  \n",
      "  pip also supports installing from \"requirements files\", which provide\n",
      "  an easy way to specify a whole environment to be installed.\n",
      "\n",
      "Install Options:\n",
      "  -r, --requirement <file>    Install from the given requirements file. This\n",
      "                              option can be used multiple times.\n",
      "  -c, --constraint <file>     Constrain versions using the given constraints\n",
      "                              file. This option can be used multiple times.\n",
      "  --no-deps                   Don't install package dependencies.\n",
      "  --pre                       Include pre-release and development versions. By\n",
      "                              default, pip only finds stable versions.\n",
      "  -e, --editable <path/url>   Install a project in editable mode (i.e.\n",
      "                              setuptools \"develop mode\") from a local project\n",
      "                              path or a VCS url.\n",
      "  --dry-run                   Don't actually install anything, just print what\n",
      "                              would be. Can be used in combination with\n",
      "                              --ignore-installed to 'resolve' the\n",
      "                              requirements.\n",
      "  -t, --target <dir>          Install packages into <dir>. By default this\n",
      "                              will not replace existing files/folders in\n",
      "                              <dir>. Use --upgrade to replace existing\n",
      "                              packages in <dir> with new versions.\n",
      "  --platform <platform>       Only use wheels compatible with <platform>.\n",
      "                              Defaults to the platform of the running system.\n",
      "                              Use this option multiple times to specify\n",
      "                              multiple platforms supported by the target\n",
      "                              interpreter.\n",
      "  --python-version <python_version>\n",
      "                              The Python interpreter version to use for wheel\n",
      "                              and \"Requires-Python\" compatibility checks.\n",
      "                              Defaults to a version derived from the running\n",
      "                              interpreter. The version can be specified using\n",
      "                              up to three dot-separated integers (e.g. \"3\" for\n",
      "                              3.0.0, \"3.7\" for 3.7.0, or \"3.7.3\"). A major-\n",
      "                              minor version can also be given as a string\n",
      "                              without dots (e.g. \"37\" for 3.7.0).\n",
      "  --implementation <implementation>\n",
      "                              Only use wheels compatible with Python\n",
      "                              implementation <implementation>, e.g. 'pp',\n",
      "                              'jy', 'cp',  or 'ip'. If not specified, then the\n",
      "                              current interpreter implementation is used.  Use\n",
      "                              'py' to force implementation-agnostic wheels.\n",
      "  --abi <abi>                 Only use wheels compatible with Python abi\n",
      "                              <abi>, e.g. 'pypy_41'. If not specified, then\n",
      "                              the current interpreter abi tag is used. Use\n",
      "                              this option multiple times to specify multiple\n",
      "                              abis supported by the target interpreter.\n",
      "                              Generally you will need to specify\n",
      "                              --implementation, --platform, and --python-\n",
      "                              version when using this option.\n",
      "  --user                      Install to the Python user install directory for\n",
      "                              your platform. Typically ~/.local/, or\n",
      "                              %APPDATA%\\Python on Windows. (See the Python\n",
      "                              documentation for site.USER_BASE for full\n",
      "                              details.)\n",
      "  --root <dir>                Install everything relative to this alternate\n",
      "                              root directory.\n",
      "  --prefix <dir>              Installation prefix where lib, bin and other\n",
      "                              top-level folders are placed\n",
      "  --src <dir>                 Directory to check out editable projects into.\n",
      "                              The default in a virtualenv is \"<venv\n",
      "                              path>/src\". The default for global installs is\n",
      "                              \"<current dir>/src\".\n",
      "  -U, --upgrade               Upgrade all specified packages to the newest\n",
      "                              available version. The handling of dependencies\n",
      "                              depends on the upgrade-strategy used.\n",
      "  --upgrade-strategy <upgrade_strategy>\n",
      "                              Determines how dependency upgrading should be\n",
      "                              handled [default: only-if-needed]. \"eager\" -\n",
      "                              dependencies are upgraded regardless of whether\n",
      "                              the currently installed version satisfies the\n",
      "                              requirements of the upgraded package(s). \"only-\n",
      "                              if-needed\" -  are upgraded only when they do not\n",
      "                              satisfy the requirements of the upgraded\n",
      "                              package(s).\n",
      "  --force-reinstall           Reinstall all packages even if they are already\n",
      "                              up-to-date.\n",
      "  -I, --ignore-installed      Ignore the installed packages, overwriting them.\n",
      "                              This can break your system if the existing\n",
      "                              package is of a different version or was\n",
      "                              installed with a different package manager!\n",
      "  --ignore-requires-python    Ignore the Requires-Python information.\n",
      "  --no-build-isolation        Disable isolation when building a modern source\n",
      "                              distribution. Build dependencies specified by\n",
      "                              PEP 518 must be already installed if this option\n",
      "                              is used.\n",
      "  --use-pep517                Use PEP 517 for building source distributions\n",
      "                              (use --no-use-pep517 to force legacy behaviour).\n",
      "  --check-build-dependencies  Check the build dependencies when PEP517 is\n",
      "                              used.\n",
      "  --config-settings <settings>\n",
      "                              Configuration settings to be passed to the PEP\n",
      "                              517 build backend. Settings take the form\n",
      "                              KEY=VALUE. Use multiple --config-settings\n",
      "                              options to pass multiple keys to the backend.\n",
      "  --install-option <options>  Extra arguments to be supplied to the setup.py\n",
      "                              install command (use like --install-option=\"--\n",
      "                              install-scripts=/usr/local/bin\"). Use multiple\n",
      "                              --install-option options to pass multiple\n",
      "                              options to setup.py install. If you are using an\n",
      "                              option with a directory path, be sure to use\n",
      "                              absolute path.\n",
      "  --global-option <options>   Extra global options to be supplied to the\n",
      "                              setup.py call before the install or bdist_wheel\n",
      "                              command.\n",
      "  --compile                   Compile Python source files to bytecode\n",
      "  --no-compile                Do not compile Python source files to bytecode\n",
      "  --no-warn-script-location   Do not warn when installing scripts outside PATH\n",
      "  --no-warn-conflicts         Do not warn about broken dependencies\n",
      "  --no-binary <format_control>\n",
      "                              Do not use binary packages. Can be supplied\n",
      "                              multiple times, and each time adds to the\n",
      "                              existing value. Accepts either \":all:\" to\n",
      "                              disable all binary packages, \":none:\" to empty\n",
      "                              the set (notice the colons), or one or more\n",
      "                              package names with commas between them (no\n",
      "                              colons). Note that some packages are tricky to\n",
      "                              compile and may fail to install when this option\n",
      "                              is used on them.\n",
      "  --only-binary <format_control>\n",
      "                              Do not use source packages. Can be supplied\n",
      "                              multiple times, and each time adds to the\n",
      "                              existing value. Accepts either \":all:\" to\n",
      "                              disable all source packages, \":none:\" to empty\n",
      "                              the set, or one or more package names with\n",
      "                              commas between them. Packages without binary\n",
      "                              distributions will fail to install when this\n",
      "                              option is used on them.\n",
      "  --prefer-binary             Prefer older binary packages over newer source\n",
      "                              packages.\n",
      "  --require-hashes            Require a hash to check each requirement\n",
      "                              against, for repeatable installs. This option is\n",
      "                              implied when any package in a requirements file\n",
      "                              has a --hash option.\n",
      "  --progress-bar <progress_bar>\n",
      "                              Specify whether the progress bar should be used\n",
      "                              [on, off] (default: on)\n",
      "  --root-user-action <root_user_action>\n",
      "                              Action if pip is run as a root user. By default,\n",
      "                              a warning message is shown.\n",
      "  --report <file>             Generate a JSON file describing what pip did to\n",
      "                              install the provided requirements. Can be used\n",
      "                              in combination with --dry-run and --ignore-\n",
      "                              installed to 'resolve' the requirements. When -\n",
      "                              is used as file name it writes to stdout. When\n",
      "                              writing to stdout, please combine with the\n",
      "                              --quiet option to avoid mixing pip logging\n",
      "                              output with JSON output.\n",
      "  --no-clean                  Don't clean up build directories.\n",
      "\n",
      "Package Index Options:\n",
      "  -i, --index-url <url>       Base URL of the Python Package Index (default\n",
      "                              https://pypi.org/simple). This should point to a\n",
      "                              repository compliant with PEP 503 (the simple\n",
      "                              repository API) or a local directory laid out in\n",
      "                              the same format.\n",
      "  --extra-index-url <url>     Extra URLs of package indexes to use in addition\n",
      "                              to --index-url. Should follow the same rules as\n",
      "                              --index-url.\n",
      "  --no-index                  Ignore package index (only looking at --find-\n",
      "                              links URLs instead).\n",
      "  -f, --find-links <url>      If a URL or path to an html file, then parse for\n",
      "                              links to archives such as sdist (.tar.gz) or\n",
      "                              wheel (.whl) files. If a local path or file://\n",
      "                              URL that's a directory, then look for archives\n",
      "                              in the directory listing. Links to VCS project\n",
      "                              URLs are not supported.\n",
      "\n",
      "General Options:\n",
      "  -h, --help                  Show help.\n",
      "  --debug                     Let unhandled exceptions propagate outside the\n",
      "                              main subroutine, instead of logging them to\n",
      "                              stderr.\n",
      "  --isolated                  Run pip in an isolated mode, ignoring\n",
      "                              environment variables and user configuration.\n",
      "  --require-virtualenv        Allow pip to only run in a virtual environment;\n",
      "                              exit with an error otherwise.\n",
      "  --python <python>           Run pip with the specified Python interpreter.\n",
      "  -v, --verbose               Give more output. Option is additive, and can be\n",
      "                              used up to 3 times.\n",
      "  -V, --version               Show version and exit.\n",
      "  -q, --quiet                 Give less output. Option is additive, and can be\n",
      "                              used up to 3 times (corresponding to WARNING,\n",
      "                              ERROR, and CRITICAL logging levels).\n",
      "  --log <path>                Path to a verbose appending log.\n",
      "  --no-input                  Disable prompting for input.\n",
      "  --proxy <proxy>             Specify a proxy in the form\n",
      "                              scheme://[user:passwd@]proxy.server:port.\n",
      "  --retries <retries>         Maximum number of retries each connection should\n",
      "                              attempt (default 5 times).\n",
      "  --timeout <sec>             Set the socket timeout (default 15 seconds).\n",
      "  --exists-action <action>    Default action when a path already exists:\n",
      "                              (s)witch, (i)gnore, (w)ipe, (b)ackup, (a)bort.\n",
      "  --trusted-host <hostname>   Mark this host or host:port pair as trusted,\n",
      "                              even though it does not have valid or any HTTPS.\n",
      "  --cert <path>               Path to PEM-encoded CA certificate bundle. If\n",
      "                              provided, overrides the default. See 'SSL\n",
      "                              Certificate Verification' in pip documentation\n",
      "                              for more information.\n",
      "  --client-cert <path>        Path to SSL client certificate, a single file\n",
      "                              containing the private key and the certificate\n",
      "                              in PEM format.\n",
      "  --cache-dir <dir>           Store the cache data in <dir>.\n",
      "  --no-cache-dir              Disable the cache.\n",
      "  --disable-pip-version-check\n",
      "                              Don't periodically check PyPI to determine\n",
      "                              whether a new version of pip is available for\n",
      "                              download. Implied with --no-index.\n",
      "  --no-color                  Suppress colored output.\n",
      "  --no-python-version-warning\n",
      "                              Silence deprecation warnings for upcoming\n",
      "                              unsupported Pythons.\n",
      "  --use-feature <feature>     Enable new functionality, that may be backward\n",
      "                              incompatible.\n",
      "  --use-deprecated <feature>  Enable deprecated functionality, that will be\n",
      "                              removed in the future.\n"
     ]
    }
   ],
   "source": [
    "# woher kommt jetzt der upgrade-Schalter?\n",
    "# der war bei der Hilfe von pip doch gar nicht aufgelistet!\n",
    "# wir können aber für jeden Befehl von pip spezifischere Hilfe bekommen:\n",
    "!pip help install"
   ]
  },
  {
   "cell_type": "markdown",
   "id": "570e68de-b957-4751-b17d-74660e64182f",
   "metadata": {},
   "source": [
    "# Verzeichnisstruktur erstellen"
   ]
  },
  {
   "cell_type": "code",
   "execution_count": 16,
   "id": "b61e4380-91eb-4eb3-b893-451a92126f5f",
   "metadata": {},
   "outputs": [
    {
     "name": "stdout",
     "output_type": "stream",
     "text": [
      " backgrounds   Downloads     Pictures\t       Templates\n",
      " backups       link_to_vcd   Public\t       tensorflow_datasets\n",
      " Desktop       Music\t     PycharmProjects   tmp\n",
      " Documents     packaging     snap\t      'VirtualBox VMs'\n"
     ]
    }
   ],
   "source": [
    "!ls ~"
   ]
  },
  {
   "cell_type": "code",
   "execution_count": 17,
   "id": "e97e43e4-e247-44a8-8093-eab9ce1f2a05",
   "metadata": {},
   "outputs": [
    {
     "name": "stdout",
     "output_type": "stream",
     "text": [
      "/home/juebrauer\n"
     ]
    }
   ],
   "source": [
    "!pwd"
   ]
  },
  {
   "cell_type": "code",
   "execution_count": 20,
   "id": "e85084e0-8ac7-462c-aad7-c80b7dd6b02d",
   "metadata": {},
   "outputs": [],
   "source": [
    "!mkdir -p ~/packaging/entwickler1/projA\n",
    "!mkdir -p ~/packaging/entwickler1/projB\n",
    "\n",
    "!mkdir -p ~/packaging/entwickler2/projA\n",
    "!mkdir -p ~/packaging/entwickler2/projB\n",
    "\n",
    "!mkdir -p ~/packaging/kunde1/projA\n",
    "!mkdir -p ~/packaging/kunde1/projB"
   ]
  },
  {
   "cell_type": "code",
   "execution_count": 138,
   "id": "c96a6dcb-1b78-4945-adf7-d2ec0ce3e9df",
   "metadata": {},
   "outputs": [
    {
     "name": "stdout",
     "output_type": "stream",
     "text": [
      "\u001b[01;34m/home/juebrauer/packaging\u001b[00m\n",
      "├── \u001b[01;34mentwickler1\u001b[00m\n",
      "│   ├── \u001b[01;34mprojA\u001b[00m\n",
      "│   │   ├── Pipfile\n",
      "│   │   └── Pipfile.lock\n",
      "│   └── \u001b[01;34mprojB\u001b[00m\n",
      "├── \u001b[01;34mentwickler2\u001b[00m\n",
      "│   ├── \u001b[01;34mprojA\u001b[00m\n",
      "│   │   ├── Pipfile\n",
      "│   │   └── Pipfile.lock\n",
      "│   └── \u001b[01;34mprojB\u001b[00m\n",
      "└── \u001b[01;34mkunde1\u001b[00m\n",
      "    ├── \u001b[01;34mprojA\u001b[00m\n",
      "    └── \u001b[01;34mprojB\u001b[00m\n",
      "\n",
      "9 directories, 4 files\n"
     ]
    }
   ],
   "source": [
    "!tree ~/packaging"
   ]
  },
  {
   "cell_type": "markdown",
   "id": "9298b0ef-80bb-4e6e-9cad-ae743fee7c16",
   "metadata": {},
   "source": [
    "# Installation von `pipenv` / Kommandozeilenparameter"
   ]
  },
  {
   "cell_type": "code",
   "execution_count": 21,
   "id": "ead4afb6-f9e9-43cd-ba14-d6fe3043aecf",
   "metadata": {},
   "outputs": [
    {
     "name": "stdout",
     "output_type": "stream",
     "text": [
      "Usage: \u001b[1mpipenv\u001b[0m [OPTIONS] COMMAND [ARGS]...\n",
      "\n",
      "\u001b[1mOptions:\u001b[0m\n",
      "  --where                         Output project home information.\n",
      "  --venv                          Output virtualenv information.\n",
      "  --py                            Output Python interpreter information.\n",
      "  --envs                          Output Environment Variable options.\n",
      "  --rm                            Remove the virtualenv.\n",
      "  --bare                          Minimal output.\n",
      "  --man                           Display manpage.\n",
      "  --support                       Output diagnostic information for use in\n",
      "                                  GitHub issues.\n",
      "  --site-packages / --no-site-packages\n",
      "                                  Enable site-packages for the virtualenv.\n",
      "                                  [env var: PIPENV_SITE_PACKAGES]\n",
      "  --python TEXT                   Specify which version of Python virtualenv\n",
      "                                  should use.\n",
      "  --three                         Use Python 3 when creating virtualenv.\n",
      "                                  Deprecated\n",
      "  --clear                         Clears caches (pipenv, pip).  [env var:\n",
      "                                  PIPENV_CLEAR]\n",
      "  -q, --quiet                     Quiet mode.\n",
      "  -v, --verbose                   Verbose mode.\n",
      "  --pypi-mirror TEXT              Specify a PyPI mirror.\n",
      "  --version                       Show the version and exit.\n",
      "  -h, --help                      Show this message and exit.\n",
      "\n",
      "\n",
      "Usage Examples:\n",
      "   Create a new project using Python 3.7, specifically:\n",
      "   $ \u001b[33mpipenv --python 3.7\u001b[0m\n",
      "\n",
      "   Remove project virtualenv (inferred from current directory):\n",
      "   $ \u001b[33mpipenv --rm\u001b[0m\n",
      "\n",
      "   Install all dependencies for a project (including dev):\n",
      "   $ \u001b[33mpipenv install --dev\u001b[0m\n",
      "\n",
      "   Create a lockfile containing pre-releases:\n",
      "   $ \u001b[33mpipenv lock --pre\u001b[0m\n",
      "\n",
      "   Show a graph of your installed dependencies:\n",
      "   $ \u001b[33mpipenv graph\u001b[0m\n",
      "\n",
      "   Check your installed dependencies for security vulnerabilities:\n",
      "   $ \u001b[33mpipenv check\u001b[0m\n",
      "\n",
      "   Install a local setup.py into your virtual environment/Pipfile:\n",
      "   $ \u001b[33mpipenv install -e .\u001b[0m\n",
      "\n",
      "   Use a lower-level pip command:\n",
      "   $ \u001b[33mpipenv run pip freeze\u001b[0m\n",
      "\n",
      "Commands:\n",
      "\u001b[31m\u001b[1m  check\u001b[0m         Checks for PyUp Safety security vulnerabilities and against\n",
      "                PEP 508 markers provided in Pipfile.\n",
      "\u001b[31m\u001b[1m  clean\u001b[0m         Uninstalls all packages not specified in Pipfile.lock.\n",
      "\u001b[31m\u001b[1m  graph\u001b[0m         Displays currently-installed dependency graph information.\n",
      "\u001b[35m\u001b[1m  install\u001b[0m       Installs provided packages and adds them to Pipfile, or (if no\n",
      "                packages are given), installs all packages from Pipfile.\n",
      "\u001b[32m\u001b[1m  lock\u001b[0m          Generates Pipfile.lock.\n",
      "\u001b[31m\u001b[1m  open\u001b[0m          View a given module in your editor.\n",
      "  requirements  Generate a requirements.txt from Pipfile.lock.\n",
      "\u001b[33m\u001b[1m  run\u001b[0m           Spawns a command installed into the virtualenv.\n",
      "\u001b[33m\u001b[1m  scripts\u001b[0m       Lists scripts in current environment config.\n",
      "\u001b[33m\u001b[1m  shell\u001b[0m         Spawns a shell within the virtualenv.\n",
      "\u001b[32m\u001b[1m  sync\u001b[0m          Installs all packages specified in Pipfile.lock.\n",
      "\u001b[35m\u001b[1m  uninstall\u001b[0m     Uninstalls a provided package and removes it from Pipfile.\n",
      "\u001b[32m\u001b[1m  update\u001b[0m        Runs lock, then sync.\n",
      "  verify        Verify the hash in Pipfile.lock is up-to-date.\n",
      "\u001b[0m"
     ]
    }
   ],
   "source": [
    "# Ist pipenv schon installiert?\n",
    "!pipenv"
   ]
  },
  {
   "cell_type": "code",
   "execution_count": 22,
   "id": "b353ffb1-3030-439d-bcf4-8fbb0228a735",
   "metadata": {},
   "outputs": [
    {
     "name": "stdout",
     "output_type": "stream",
     "text": [
      "\u001b[1mpipenv\u001b[0m, version 2022.10.25\n",
      "\u001b[0m"
     ]
    }
   ],
   "source": [
    "# Versions-Nr von pipenv anzeigen\n",
    "!pipenv --version"
   ]
  },
  {
   "cell_type": "code",
   "execution_count": 23,
   "id": "1ba72f13-1761-40cf-96e9-65207d82997f",
   "metadata": {},
   "outputs": [
    {
     "name": "stdout",
     "output_type": "stream",
     "text": [
      "Defaulting to user installation because normal site-packages is not writeable\n",
      "Requirement already satisfied: pipenv in ./.local/lib/python3.8/site-packages (2022.10.25)\n",
      "Requirement already satisfied: setuptools>=36.2.1 in /usr/local/lib/python3.8/dist-packages (from pipenv) (59.6.0)\n",
      "Requirement already satisfied: virtualenv-clone>=0.2.5 in ./.local/lib/python3.8/site-packages (from pipenv) (0.5.7)\n",
      "Requirement already satisfied: virtualenv in ./.local/lib/python3.8/site-packages (from pipenv) (20.13.1)\n",
      "Requirement already satisfied: certifi in /usr/lib/python3/dist-packages (from pipenv) (2019.11.28)\n",
      "Requirement already satisfied: distlib<1,>=0.3.1 in ./.local/lib/python3.8/site-packages (from virtualenv->pipenv) (0.3.4)\n",
      "Requirement already satisfied: platformdirs<3,>=2 in /usr/local/lib/python3.8/dist-packages (from virtualenv->pipenv) (2.4.0)\n",
      "Requirement already satisfied: six<2,>=1.9.0 in ./.local/lib/python3.8/site-packages (from virtualenv->pipenv) (1.16.0)\n",
      "Requirement already satisfied: filelock<4,>=3.2 in ./.local/lib/python3.8/site-packages (from virtualenv->pipenv) (3.4.2)\n"
     ]
    }
   ],
   "source": [
    "# Installiere neuste Version von pipenv\n",
    "!pip install --upgrade pipenv"
   ]
  },
  {
   "cell_type": "code",
   "execution_count": null,
   "id": "467c5898-fd2d-4436-a8b8-cd4ff4815a50",
   "metadata": {},
   "outputs": [],
   "source": [
    "# Deinstalliere testweise pipenv\n",
    "# Achtung: Aus Terminal ausführen weil Eingabe von super-user Passwort notwendig!\n",
    "# !sudo apt remove pipenv"
   ]
  },
  {
   "cell_type": "code",
   "execution_count": null,
   "id": "d22764a3-ab50-4783-afdf-303f3a591c71",
   "metadata": {},
   "outputs": [],
   "source": [
    "# Installiere pipenv\n",
    "# Achtung: Aus Terminal ausführen weil Eingabe von super-user Passwort notwendig!\n",
    "#!sudo apt install pipenv"
   ]
  },
  {
   "cell_type": "markdown",
   "id": "c2ebc8a6-8afd-421d-81db-8a12b7ad1bc7",
   "metadata": {},
   "source": [
    "# Einrichten einer ersten virtuellen Umgebung\n",
    "\n",
    "Wir wollen jetzt zwei Projektverzeichnisse mit unterschiedlichen Versionen des gleichen Pakets erstellen."
   ]
  },
  {
   "cell_type": "code",
   "execution_count": 24,
   "id": "e308ac7e-1e72-4e15-a8ff-bcc7a46a5fba",
   "metadata": {},
   "outputs": [
    {
     "name": "stdout",
     "output_type": "stream",
     "text": [
      "/home/juebrauer/packaging/entwickler1/projA\n"
     ]
    }
   ],
   "source": [
    "%cd ~/packaging/entwickler1/projA"
   ]
  },
  {
   "cell_type": "code",
   "execution_count": 25,
   "id": "b08c902e-044d-4ebd-ab28-5c296770c1a3",
   "metadata": {},
   "outputs": [
    {
     "name": "stdout",
     "output_type": "stream",
     "text": [
      "/home/juebrauer/packaging/entwickler1/projA\n"
     ]
    }
   ],
   "source": [
    "!pwd"
   ]
  },
  {
   "cell_type": "code",
   "execution_count": 26,
   "id": "42950f64-48e6-4180-b6ea-265498ed3ece",
   "metadata": {},
   "outputs": [
    {
     "name": "stdout",
     "output_type": "stream",
     "text": [
      "\u001b[1mRemoving virtualenv\u001b[0m (\u001b[32m/home/juebrauer/.local/share/virtualenvs/projA-9syro94U\u001b[0m)...\u001b[0m\n",
      "\u001b[K\u001b[?25h\u001b[0m...\u001b["
     ]
    }
   ],
   "source": [
    "# Löschen einer virtuellen Umgebung in diesem Verzeichnis,\n",
    "# falls es schon eine gibt!\n",
    "!pipenv --rm"
   ]
  },
  {
   "cell_type": "code",
   "execution_count": 27,
   "id": "19264c26-c19d-4e0e-808d-c4cca759bf1d",
   "metadata": {},
   "outputs": [
    {
     "name": "stdout",
     "output_type": "stream",
     "text": [
      "\u001b[1mCreating a virtualenv for this project...\u001b[0m\n",
      "Pipfile: \u001b[33m\u001b[1m/home/juebrauer/packaging/entwickler1/projA/Pipfile\u001b[0m\n",
      "\u001b[1mUsing\u001b[0m \u001b[33m\u001b[1m/usr/bin/python3.8\u001b[0m \u001b[32m(3.8.10)\u001b[0m \u001b[1mto create virtualenv...\u001b[0m\n",
      "⠴\u001b[0m Creating virtual environment...\u001b[K\u001b[36mcreated virtual environment CPython3.8.10.final.0-64 in 283ms\n",
      "  creator Venv(dest=/home/juebrauer/.local/share/virtualenvs/projA-9syro94U, clear=False, no_vcs_ignore=False, global=False, describe=CPython3Posix)\n",
      "  seeder FromAppData(download=False, pip=bundle, setuptools=bundle, wheel=bundle, via=copy, app_data_dir=/home/juebrauer/.local/share/virtualenv)\n",
      "    added seed packages: pip==22.2.2, setuptools==65.4.1, wheel==0.37.1\n",
      "  activators BashActivator,CShellActivator,FishActivator,NushellActivator,PowerShellActivator,PythonActivator\n",
      "\u001b[0m\n",
      "\u001b[K\u001b[?25h\u001b[32m\u001b[22m✔ Successfully created virtual environment!\u001b[39m\u001b[22m\u001b[0m \n",
      "\u001b[32mVirtualenv location: /home/juebrauer/.local/share/virtualenvs/projA-9syro94U\u001b[0m\n",
      "\u001b[1mCreating a Pipfile for this project...\u001b[0m\n",
      "\u001b[0m"
     ]
    }
   ],
   "source": [
    "# Einrichten einer virtuellen Umgebung\n",
    "!pipenv --python 3.8"
   ]
  },
  {
   "cell_type": "code",
   "execution_count": 28,
   "id": "8fd9ca22-c422-4f3b-9df2-358cca5e256e",
   "metadata": {},
   "outputs": [
    {
     "name": "stdout",
     "output_type": "stream",
     "text": [
      "total 12\n",
      "drwxrwxr-x 2 juebrauer juebrauer 4096 Nov  2 12:21 .\n",
      "drwxrwxr-x 4 juebrauer juebrauer 4096 Nov  2 12:20 ..\n",
      "-rw-rw-r-- 1 juebrauer juebrauer  169 Nov  2 12:21 Pipfile\n"
     ]
    }
   ],
   "source": [
    "# Mal schauen, was pipenv jetzt für Dateien erstellt hat\n",
    "!ls -la"
   ]
  },
  {
   "cell_type": "code",
   "execution_count": 29,
   "id": "e9396545-93f0-441e-82a9-09b08c2c4831",
   "metadata": {},
   "outputs": [
    {
     "name": "stdout",
     "output_type": "stream",
     "text": [
      "[[source]]\n",
      "url = \"https://pypi.org/simple\"\n",
      "verify_ssl = true\n",
      "name = \"pypi\"\n",
      "\n",
      "[packages]\n",
      "\n",
      "[dev-packages]\n",
      "\n",
      "[requires]\n",
      "python_version = \"3.8\"\n",
      "python_full_version = \"3.8.10\"\n"
     ]
    }
   ],
   "source": [
    "!cat Pipfile"
   ]
  },
  {
   "cell_type": "markdown",
   "id": "9aec2f5d-55f4-445b-a0c3-904eedd0ab77",
   "metadata": {},
   "source": [
    "Das Dateiformat wird TOML genannt:\n",
    "\n",
    "https://en.wikipedia.org/wiki/TOML"
   ]
  },
  {
   "cell_type": "markdown",
   "id": "d989bded-a410-40c0-a74e-d3d9b9d77c32",
   "metadata": {},
   "source": [
    "# Unterschied `pipenv shell` vs. `pipenv run`"
   ]
  },
  {
   "cell_type": "markdown",
   "id": "40267016-f1eb-4544-8833-819d5132a790",
   "metadata": {},
   "source": [
    "## `pipenv shell`"
   ]
  },
  {
   "cell_type": "code",
   "execution_count": 30,
   "id": "f83aabb9-d9ad-4f5d-8c31-04a369a7ab7d",
   "metadata": {},
   "outputs": [],
   "source": [
    "# Jetzt in einem Terminal eine Shell in dieser ersten virtuellen Umgebung starten mit:\n",
    "# pipenv shell\n",
    "\n",
    "# Zeigen, welche Pakete wir hier schon installiert haben\n",
    "# pip list\n",
    "\n",
    "# Zeigen, dass hier wirklich der Python-Interpreter 3.7 installiert wurde\n",
    "# python3\n",
    "# exit()\n",
    "\n",
    "# Schließen der Shell für die virtuelle Umgebung mit\n",
    "# exit"
   ]
  },
  {
   "cell_type": "markdown",
   "id": "9da478a5-b12b-4deb-9c54-cd1e2eb7dca1",
   "metadata": {},
   "source": [
    "## `pipenv run`"
   ]
  },
  {
   "cell_type": "code",
   "execution_count": 31,
   "id": "720400fb-56e5-40ab-b7da-bd9299ad6b6f",
   "metadata": {},
   "outputs": [
    {
     "name": "stdout",
     "output_type": "stream",
     "text": [
      "/home/juebrauer/packaging/entwickler1/projA\n"
     ]
    }
   ],
   "source": [
    "!pwd"
   ]
  },
  {
   "cell_type": "code",
   "execution_count": 32,
   "id": "b4684d4b-0259-424e-a2cb-25f28fc66bd2",
   "metadata": {},
   "outputs": [
    {
     "name": "stdout",
     "output_type": "stream",
     "text": [
      "Pipfile\n"
     ]
    }
   ],
   "source": [
    "!ls"
   ]
  },
  {
   "cell_type": "code",
   "execution_count": 33,
   "id": "f2821269-9811-4c66-8fc5-75662b8238b6",
   "metadata": {},
   "outputs": [
    {
     "name": "stdout",
     "output_type": "stream",
     "text": [
      "Package    Version\n",
      "---------- -------\n",
      "pip        22.2.2\n",
      "setuptools 65.4.1\n",
      "wheel      0.37.1\n"
     ]
    }
   ],
   "source": [
    "!pipenv run pip list"
   ]
  },
  {
   "cell_type": "code",
   "execution_count": 34,
   "id": "691763ef-1eec-44f3-8139-a87844366ef4",
   "metadata": {},
   "outputs": [
    {
     "name": "stdout",
     "output_type": "stream",
     "text": [
      "Python 3.8.10\n"
     ]
    }
   ],
   "source": [
    "!pipenv run python3 --version"
   ]
  },
  {
   "cell_type": "markdown",
   "id": "d4f992e4-12fa-4fae-a272-c7cf3f9e8e72",
   "metadata": {},
   "source": [
    "# Informationen zur virtuellen Umgebung ausgeben lassen"
   ]
  },
  {
   "cell_type": "code",
   "execution_count": 35,
   "id": "265b5beb-8a69-4ea4-a574-8027e4f2dbc6",
   "metadata": {},
   "outputs": [
    {
     "name": "stdout",
     "output_type": "stream",
     "text": [
      "/home/juebrauer/packaging/entwickler1/projA\n"
     ]
    }
   ],
   "source": [
    "%cd ~/packaging/entwickler1/projA"
   ]
  },
  {
   "cell_type": "code",
   "execution_count": 36,
   "id": "72c3f5ab-e366-4417-84bf-a7eb907ffbd6",
   "metadata": {},
   "outputs": [
    {
     "name": "stdout",
     "output_type": "stream",
     "text": [
      "/home/juebrauer/packaging/entwickler1/projA\n"
     ]
    }
   ],
   "source": [
    "!pwd"
   ]
  },
  {
   "cell_type": "code",
   "execution_count": 37,
   "id": "695fb875-3499-4e63-9bcc-d20ac208a756",
   "metadata": {},
   "outputs": [
    {
     "name": "stdout",
     "output_type": "stream",
     "text": [
      "/home/juebrauer/packaging/entwickler1/projA\n",
      "\u001b[0m"
     ]
    }
   ],
   "source": [
    "# Mit dieser virtuellen Umgebung arbeiten wir gerade\n",
    "!pipenv --where"
   ]
  },
  {
   "cell_type": "code",
   "execution_count": 38,
   "id": "c890114d-bef0-4080-9503-951f2b6ee811",
   "metadata": {},
   "outputs": [
    {
     "name": "stdout",
     "output_type": "stream",
     "text": [
      "/home/juebrauer/.local/share/virtualenvs/projA-9syro94U\n",
      "\u001b[0m"
     ]
    }
   ],
   "source": [
    "# Hier sind die installierten Pakete für diese Umgebung gespeichert:\n",
    "!pipenv --venv"
   ]
  },
  {
   "cell_type": "code",
   "execution_count": 39,
   "id": "3204fa52-b1ab-4b7d-ac9b-5e73fdb3cbd8",
   "metadata": {},
   "outputs": [
    {
     "name": "stdout",
     "output_type": "stream",
     "text": [
      "total 36\n",
      "drwxrwxr-x  6 juebrauer juebrauer 4096 Nov  1 15:45 .\n",
      "drwxrwxr-x 17 juebrauer juebrauer 4096 Nov  2 12:21 ..\n",
      "drwxrwxr-x  2 juebrauer juebrauer 4096 Nov  2 07:05 bin\n",
      "-rw-rw-r--  1 juebrauer juebrauer   40 Nov  1 15:44 .gitignore\n",
      "drwxrwxr-x  2 juebrauer juebrauer 4096 Nov  1 15:44 include\n",
      "drwxrwxr-x  3 juebrauer juebrauer 4096 Nov  1 15:44 lib\n",
      "lrwxrwxrwx  1 juebrauer juebrauer    3 Nov  1 15:44 lib64 -> lib\n",
      "-rw-rw-r--  1 juebrauer juebrauer   30 Nov  1 15:44 .project\n",
      "-rw-rw-r--  1 juebrauer juebrauer  161 Nov  1 15:44 pyvenv.cfg\n",
      "drwxrwxr-x  2 juebrauer juebrauer 4096 Nov  1 15:45 src\n"
     ]
    }
   ],
   "source": [
    "!ls -la /home/juebrauer/.local/share/virtualenvs/projA-6mwAVdee"
   ]
  },
  {
   "cell_type": "code",
   "execution_count": 40,
   "id": "27a5c175-c540-40a7-92cf-ee604c293452",
   "metadata": {},
   "outputs": [
    {
     "name": "stdout",
     "output_type": "stream",
     "text": [
      "total 92\n",
      "drwxrwxr-x 2 juebrauer juebrauer 4096 Nov  2 07:05 .\n",
      "drwxrwxr-x 6 juebrauer juebrauer 4096 Nov  1 15:45 ..\n",
      "-rw-r--r-- 1 juebrauer juebrauer 2184 Nov  1 15:44 activate\n",
      "-rw-r--r-- 1 juebrauer juebrauer 1476 Nov  1 15:44 activate.csh\n",
      "-rw-r--r-- 1 juebrauer juebrauer 3061 Nov  1 15:44 activate.fish\n",
      "-rw-rw-r-- 1 juebrauer juebrauer 1357 Nov  1 15:44 activate.nu\n",
      "-rw-rw-r-- 1 juebrauer juebrauer 1764 Nov  1 15:44 activate.ps1\n",
      "-rw-r--r-- 1 juebrauer juebrauer 8834 Nov  1 15:44 Activate.ps1\n",
      "-rw-rw-r-- 1 juebrauer juebrauer 1199 Nov  1 15:44 activate_this.py\n",
      "-rw-rw-r-- 1 juebrauer juebrauer  333 Nov  1 15:44 deactivate.nu\n",
      "-rwxrwxr-x 1 juebrauer juebrauer  266 Nov  1 15:46 f2py\n",
      "-rwxrwxr-x 1 juebrauer juebrauer  266 Nov  1 15:46 f2py3\n",
      "-rwxrwxr-x 1 juebrauer juebrauer  266 Nov  1 15:46 f2py3.8\n",
      "-rwxrwxr-x 1 juebrauer juebrauer  271 Nov  1 15:44 pip\n",
      "-rwxrwxr-x 1 juebrauer juebrauer  271 Nov  1 15:44 pip3\n",
      "-rwxrwxr-x 1 juebrauer juebrauer  271 Nov  1 15:44 pip-3.8\n",
      "-rwxrwxr-x 1 juebrauer juebrauer  271 Nov  1 15:44 pip3.8\n",
      "lrwxrwxrwx 1 juebrauer juebrauer    9 Nov  1 15:44 python -> python3.8\n",
      "lrwxrwxrwx 1 juebrauer juebrauer    9 Nov  1 15:44 python3 -> python3.8\n",
      "lrwxrwxrwx 1 juebrauer juebrauer   18 Nov  1 15:44 python3.8 -> /usr/bin/python3.8\n",
      "-rwxrwxr-x 1 juebrauer juebrauer  258 Nov  1 15:44 wheel\n",
      "-rwxrwxr-x 1 juebrauer juebrauer  258 Nov  1 15:44 wheel3\n",
      "-rwxrwxr-x 1 juebrauer juebrauer  258 Nov  1 15:44 wheel-3.8\n",
      "-rwxrwxr-x 1 juebrauer juebrauer  258 Nov  1 15:44 wheel3.8\n"
     ]
    }
   ],
   "source": [
    "!ls -la /home/juebrauer/.local/share/virtualenvs/projA-6mwAVdee/bin"
   ]
  },
  {
   "cell_type": "code",
   "execution_count": 41,
   "id": "ed1b43ed-8552-4a96-9cb6-7513ac295532",
   "metadata": {},
   "outputs": [
    {
     "name": "stdout",
     "output_type": "stream",
     "text": [
      "total 12\n",
      "drwxrwxr-x 3 juebrauer juebrauer 4096 Nov  1 15:44 .\n",
      "drwxrwxr-x 6 juebrauer juebrauer 4096 Nov  1 15:45 ..\n",
      "drwxrwxr-x 3 juebrauer juebrauer 4096 Nov  1 15:44 python3.8\n"
     ]
    }
   ],
   "source": [
    "!ls -la /home/juebrauer/.local/share/virtualenvs/projA-6mwAVdee/lib"
   ]
  },
  {
   "cell_type": "markdown",
   "id": "62c1ba84-1c04-43e1-b08b-5ddc2cc59497",
   "metadata": {},
   "source": [
    "# Installation/De-Installation von (normalen) Paketen"
   ]
  },
  {
   "cell_type": "markdown",
   "id": "a155ba89-d7d3-4cdb-ad5e-e2763a4ccd01",
   "metadata": {},
   "source": [
    "## Installation"
   ]
  },
  {
   "cell_type": "code",
   "execution_count": 42,
   "id": "dbbf78a1-66c7-4df5-9e80-b78fcb0161b0",
   "metadata": {},
   "outputs": [
    {
     "name": "stdout",
     "output_type": "stream",
     "text": [
      "/home/juebrauer/packaging/entwickler1/projA\n"
     ]
    }
   ],
   "source": [
    "!pwd"
   ]
  },
  {
   "cell_type": "code",
   "execution_count": 43,
   "id": "4939dd2e-0f72-4874-abde-447d6dc1b0de",
   "metadata": {},
   "outputs": [
    {
     "name": "stdout",
     "output_type": "stream",
     "text": [
      "\u001b[32m\u001b[1mInstalling pandas==...\u001b[0m\n",
      "\u001b[K\u001b[31m\u001b[1mError: \u001b[0m An error occurred while installing \u001b[32mpandas==\u001b[0m!\n",
      "\u001b[KError text: \n",
      "\u001b[K\u001b[36mERROR: Could not find a version that satisfies the requirement pandas== (from versions: 0.1, 0.2, 0.3.0, 0.4.0, 0.4.1, 0.4.2, 0.4.3, 0.5.0, 0.6.0, 0.6.1, 0.7.0, 0.7.1, 0.7.2, 0.7.3, 0.8.0, 0.8.1, 0.9.0, 0.9.1, 0.10.0, 0.10.1, 0.11.0, 0.12.0, 0.13.0, 0.13.1, 0.14.0, 0.14.1, 0.15.0, 0.15.1, 0.15.2, 0.16.0, 0.16.1, 0.16.2, 0.17.0, 0.17.1, 0.18.0, 0.18.1, 0.19.0, 0.19.1, 0.19.2, 0.20.0, 0.20.1, 0.20.2, 0.20.3, 0.21.0, 0.21.1, 0.22.0, 0.23.0, 0.23.1, 0.23.2, 0.23.3, 0.23.4, 0.24.0, 0.24.1, 0.24.2, 0.25.0, 0.25.1, 0.25.2, 0.25.3, 1.0.0, 1.0.1, 1.0.2, 1.0.3, 1.0.4, 1.0.5, 1.1.0, 1.1.1, 1.1.2, 1.1.3, 1.1.4, 1.1.5, 1.2.0, 1.2.1, 1.2.2, 1.2.3, 1.2.4, 1.2.5, 1.3.0, 1.3.1, 1.3.2, 1.3.3, 1.3.4, 1.3.5, 1.4.0rc0, 1.4.0, 1.4.1, 1.4.2, 1.4.3, 1.4.4, 1.5.0rc0, 1.5.0, 1.5.1)\n",
      "ERROR: No matching distribution found for pandas==\n",
      "\u001b[0m\n",
      "\u001b[K\u001b[?25h\u001b[31m\u001b[22m✘ Installation Failed\u001b[39m\u001b[22m\u001b[0m \n",
      "\u001b[0m"
     ]
    }
   ],
   "source": [
    "# Wir installieren jetzt mal die neuste Version von Pandas (1.5.1 am 01.11.2022)\n",
    "!pipenv install \"pandas==\""
   ]
  },
  {
   "cell_type": "markdown",
   "id": "54a77a7e-f4a5-4fc3-a7ce-09049c927c5c",
   "metadata": {},
   "source": [
    "Zur Spezifikation von Paket-Versions-Nr siehe:\n",
    "https://pipenv-fork.readthedocs.io/en/latest/basics.html#specifying-versions-of-a-package\n",
    "\n",
    "    $ pipenv install \"requests>=1.4\"   # will install a version equal or larger than 1.4.0\n",
    "    \n",
    "    $ pipenv install \"requests<=2.13\"  # will install a version equal or lower than 2.13.0\n",
    "    \n",
    "    $ pipenv install \"requests>2.19\"   # will install 2.19.1 but not 2.19.0\n",
    "    \n",
    "    $ pipenv install requests~=1.2     # Pipenv will install version 1.2 and any minor update, but not 2.0\n",
    "\n",
    "Siehe auch:\n",
    "\n",
    "https://stackoverflow.com/questions/56628261/please-explain-version-numbering-in-pipfile\n",
    "\n",
    "\n",
    "    ~= Compatible\n",
    "    == Matches, .* possible\n",
    "    != Excluding\n",
    "    <=, >= Inclusive (ordered)\n",
    "    <, > Exclusive (ordered)\n",
    "    === Arbitrary equality.\n",
    "    The comma (,) means logical and. "
   ]
  },
  {
   "cell_type": "code",
   "execution_count": 44,
   "id": "bfcf64f8-23e8-4d9b-b97f-85fd9124f484",
   "metadata": {},
   "outputs": [
    {
     "name": "stdout",
     "output_type": "stream",
     "text": [
      "\u001b[32m\u001b[1mInstalling pandas...\u001b[0m\n",
      "\u001b[K\u001b[1mAdding\u001b[0m \u001b[32m\u001b[1mpandas\u001b[0m \u001b[1mto Pipfile's\u001b[0m \u001b[33m\u001b[1m[packages]\u001b[0m\u001b[1m...\u001b[0m\n",
      "\u001b[K\u001b[?25h✔ Installation Succeeded\u001b[0m \n",
      "\u001b[1mPipfile.lock not found, creating...\u001b[0m\n",
      "Locking\u001b[0m \u001b[33m[packages]\u001b[0m dependencies...\u001b[0m\n",
      "\u001b[KBuilding requirements...\n",
      "\u001b[KResolving dependencies...\n",
      "\u001b[K\u001b[?25h\u001b[32m\u001b[22m✔ Success!\u001b[39m\u001b[22m\u001b[0m \n",
      "Locking\u001b[0m \u001b[33m[dev-packages]\u001b[0m dependencies...\u001b[0m\n",
      "\u001b[1mUpdated Pipfile.lock (f5a04f00dd1e4b4448ac8c59634e1161b1f872c565710cb6694935bc7dcc3e6e)!\u001b[0m\n",
      "\u001b[1mInstalling dependencies from Pipfile.lock (cc3e6e)...\u001b[0m\n",
      "To activate this project's virtualenv, run \u001b[33mpipenv shell\u001b[0m.\n",
      "Alternatively, run a command inside the virtualenv with \u001b[33mpipenv run\u001b[0m.\n",
      "\u001b[0m"
     ]
    }
   ],
   "source": [
    "!pipenv install pandas"
   ]
  },
  {
   "cell_type": "code",
   "execution_count": 45,
   "id": "0e5cd262-cb7b-4e0e-ab35-00d4d1b28847",
   "metadata": {},
   "outputs": [
    {
     "name": "stdout",
     "output_type": "stream",
     "text": [
      "Package         Version\n",
      "--------------- -------\n",
      "numpy           1.23.4\n",
      "pandas          1.5.1\n",
      "pip             22.2.2\n",
      "python-dateutil 2.8.2\n",
      "pytz            2022.6\n",
      "setuptools      65.4.1\n",
      "six             1.16.0\n",
      "wheel           0.37.1\n"
     ]
    }
   ],
   "source": [
    "# Mal schauen, welche Version von Pandas jetzt installiert wurde\n",
    "!pipenv run pip list"
   ]
  },
  {
   "cell_type": "code",
   "execution_count": 46,
   "id": "874e89c4-0afc-4720-8d44-db12dd85de25",
   "metadata": {},
   "outputs": [
    {
     "name": "stdout",
     "output_type": "stream",
     "text": [
      "\u001b[1mpandas==1.5.1\u001b[0m\n",
      "\u001b[22m  - numpy [required: >=1.20.3, installed: 1.23.4]\u001b[0m\n",
      "\u001b[22m  - python-dateutil [required: >=2.8.1, installed: 2.8.2]\u001b[0m\n",
      "\u001b[22m    - six [required: >=1.5, installed: 1.16.0]\u001b[0m\n",
      "\u001b[22m  - pytz [required: >=2020.1, installed: 2022.6]\u001b[0m\n",
      "\u001b[0m"
     ]
    }
   ],
   "source": [
    "# Anzeigen der installierten Pakete und der Dependencies\n",
    "!pipenv graph"
   ]
  },
  {
   "cell_type": "code",
   "execution_count": 47,
   "id": "42fe3779-a95e-417d-9752-ed4248c8776b",
   "metadata": {},
   "outputs": [
    {
     "name": "stdout",
     "output_type": "stream",
     "text": [
      "numpy==1.23.4\n",
      "pandas==1.5.1\n",
      "python-dateutil==2.8.2\n",
      "pytz==2022.6\n",
      "six==1.16.0\n"
     ]
    }
   ],
   "source": [
    "!pipenv run pip freeze"
   ]
  },
  {
   "cell_type": "code",
   "execution_count": 48,
   "id": "d349e150-54a6-425e-a217-68cfe2f7f862",
   "metadata": {},
   "outputs": [
    {
     "name": "stdout",
     "output_type": "stream",
     "text": [
      "Pipfile  Pipfile.lock\n"
     ]
    }
   ],
   "source": [
    "# Es ist eine neue Datei dazugekommen: Pipfile.lock\n",
    "# Wieso?\n",
    "!ls"
   ]
  },
  {
   "cell_type": "code",
   "execution_count": 49,
   "id": "1ed4e34e-2c9a-46dd-b6ca-c2ff8d776cbc",
   "metadata": {},
   "outputs": [
    {
     "name": "stdout",
     "output_type": "stream",
     "text": [
      "[[source]]\n",
      "url = \"https://pypi.org/simple\"\n",
      "verify_ssl = true\n",
      "name = \"pypi\"\n",
      "\n",
      "[packages]\n",
      "pandas = \"*\"\n",
      "\n",
      "[dev-packages]\n",
      "\n",
      "[requires]\n",
      "python_version = \"3.8\"\n",
      "python_full_version = \"3.8.10\"\n"
     ]
    }
   ],
   "source": [
    "# Wir sehen in der Pipfile wir haben irgendeine Version von Pandas angefordert\n",
    "!cat Pipfile"
   ]
  },
  {
   "cell_type": "code",
   "execution_count": 51,
   "id": "1dee2dda-59b6-4956-a413-274c0667182f",
   "metadata": {},
   "outputs": [
    {
     "name": "stdout",
     "output_type": "stream",
     "text": [
      "{\n",
      "    \"_meta\": {\n",
      "        \"hash\": {\n",
      "            \"sha256\": \"f5a04f00dd1e4b4448ac8c59634e1161b1f872c565710cb6694935bc7dcc3e6e\"\n",
      "        },\n",
      "        \"pipfile-spec\": 6,\n",
      "        \"requires\": {\n",
      "            \"python_full_version\": \"3.8.10\",\n",
      "            \"python_version\": \"3.8\"\n",
      "        },\n",
      "        \"sources\": [\n",
      "            {\n",
      "                \"name\": \"pypi\",\n",
      "                \"url\": \"https://pypi.org/simple\",\n",
      "                \"verify_ssl\": true\n",
      "            }\n",
      "        ]\n",
      "    },\n",
      "    \"default\": {\n",
      "        \"numpy\": {\n",
      "            \"hashes\": [\n",
      "                \"sha256:0fe563fc8ed9dc4474cbf70742673fc4391d70f4363f917599a7fa99f042d5a8\",\n",
      "                \"sha256:12ac457b63ec8ded85d85c1e17d85efd3c2b0967ca39560b307a35a6703a4735\",\n",
      "                \"sha256:2341f4ab6dba0834b685cce16dad5f9b6606ea8a00e6da154f5dbded70fdc4dd\",\n",
      "                \"sha256:296d17aed51161dbad3c67ed6d164e51fcd18dbcd5dd4f9d0a9c6055dce30810\",\n",
      "                \"sha256:488a66cb667359534bc70028d653ba1cf307bae88eab5929cd707c761ff037db\",\n",
      "                \"sha256:4d52914c88b4930dafb6c48ba5115a96cbab40f45740239d9f4159c4ba779962\",\n",
      "                \"sha256:5e13030f8793e9ee42f9c7d5777465a560eb78fa7e11b1c053427f2ccab90c79\",\n",
      "                \"sha256:61be02e3bf810b60ab74e81d6d0d36246dbfb644a462458bb53b595791251911\",\n",
      "                \"sha256:7607b598217745cc40f751da38ffd03512d33ec06f3523fb0b5f82e09f6f676d\",\n",
      "                \"sha256:7a70a7d3ce4c0e9284e92285cba91a4a3f5214d87ee0e95928f3614a256a1488\",\n",
      "                \"sha256:7ab46e4e7ec63c8a5e6dbf5c1b9e1c92ba23a7ebecc86c336cb7bf3bd2fb10e5\",\n",
      "                \"sha256:8981d9b5619569899666170c7c9748920f4a5005bf79c72c07d08c8a035757b0\",\n",
      "                \"sha256:8c053d7557a8f022ec823196d242464b6955a7e7e5015b719e76003f63f82d0f\",\n",
      "                \"sha256:926db372bc4ac1edf81cfb6c59e2a881606b409ddc0d0920b988174b2e2a767f\",\n",
      "                \"sha256:95d79ada05005f6f4f337d3bb9de8a7774f259341c70bc88047a1f7b96a4bcb2\",\n",
      "                \"sha256:95de7dc7dc47a312f6feddd3da2500826defdccbc41608d0031276a24181a2c0\",\n",
      "                \"sha256:a0882323e0ca4245eb0a3d0a74f88ce581cc33aedcfa396e415e5bba7bf05f68\",\n",
      "                \"sha256:a8365b942f9c1a7d0f0dc974747d99dd0a0cdfc5949a33119caf05cb314682d3\",\n",
      "                \"sha256:a8aae2fb3180940011b4862b2dd3756616841c53db9734b27bb93813cd79fce6\",\n",
      "                \"sha256:c237129f0e732885c9a6076a537e974160482eab8f10db6292e92154d4c67d71\",\n",
      "                \"sha256:c67b833dbccefe97cdd3f52798d430b9d3430396af7cdb2a0c32954c3ef73894\",\n",
      "                \"sha256:ce03305dd694c4873b9429274fd41fc7eb4e0e4dea07e0af97a933b079a5814f\",\n",
      "                \"sha256:d331afac87c92373826af83d2b2b435f57b17a5c74e6268b79355b970626e329\",\n",
      "                \"sha256:dada341ebb79619fe00a291185bba370c9803b1e1d7051610e01ed809ef3a4ba\",\n",
      "                \"sha256:ed2cc92af0efad20198638c69bb0fc2870a58dabfba6eb722c933b48556c686c\",\n",
      "                \"sha256:f260da502d7441a45695199b4e7fd8ca87db659ba1c78f2bbf31f934fe76ae0e\",\n",
      "                \"sha256:f2f390aa4da44454db40a1f0201401f9036e8d578a25f01a6e237cea238337ef\",\n",
      "                \"sha256:f76025acc8e2114bb664294a07ede0727aa75d63a06d2fae96bf29a81747e4a7\"\n",
      "            ],\n",
      "            \"markers\": \"python_version < '3.10'\",\n",
      "            \"version\": \"==1.23.4\"\n",
      "        },\n",
      "        \"pandas\": {\n",
      "            \"hashes\": [\n",
      "                \"sha256:04e51b01d5192499390c0015630975f57836cc95c7411415b499b599b05c0c96\",\n",
      "                \"sha256:05c527c64ee02a47a24031c880ee0ded05af0623163494173204c5b72ddce658\",\n",
      "                \"sha256:0a78e05ec09731c5b3bd7a9805927ea631fe6f6cb06f0e7c63191a9a778d52b4\",\n",
      "                \"sha256:17da7035d9e6f9ea9cdc3a513161f8739b8f8489d31dc932bc5a29a27243f93d\",\n",
      "                \"sha256:249cec5f2a5b22096440bd85c33106b6102e0672204abd2d5c014106459804ee\",\n",
      "                \"sha256:2c25e5c16ee5c0feb6cf9d982b869eec94a22ddfda9aa2fbed00842cbb697624\",\n",
      "                \"sha256:32e3d9f65606b3f6e76555bfd1d0b68d94aff0929d82010b791b6254bf5a4b96\",\n",
      "                \"sha256:36aa1f8f680d7584e9b572c3203b20d22d697c31b71189322f16811d4ecfecd3\",\n",
      "                \"sha256:5b0c970e2215572197b42f1cff58a908d734503ea54b326412c70d4692256391\",\n",
      "                \"sha256:5cee0c74e93ed4f9d39007e439debcaadc519d7ea5c0afc3d590a3a7b2edf060\",\n",
      "                \"sha256:669c8605dba6c798c1863157aefde959c1796671ffb342b80fcb80a4c0bc4c26\",\n",
      "                \"sha256:66a1ad667b56e679e06ba73bb88c7309b3f48a4c279bd3afea29f65a766e9036\",\n",
      "                \"sha256:683779e5728ac9138406c59a11e09cd98c7d2c12f0a5fc2b9c5eecdbb4a00075\",\n",
      "                \"sha256:6bb391659a747cf4f181a227c3e64b6d197100d53da98dcd766cc158bdd9ec68\",\n",
      "                \"sha256:81f0674fa50b38b6793cd84fae5d67f58f74c2d974d2cb4e476d26eee33343d0\",\n",
      "                \"sha256:927e59c694e039c75d7023465d311277a1fc29ed7236b5746e9dddf180393113\",\n",
      "                \"sha256:932d2d7d3cab44cfa275601c982f30c2d874722ef6396bb539e41e4dc4618ed4\",\n",
      "                \"sha256:a52419d9ba5906db516109660b114faf791136c94c1a636ed6b29cbfff9187ee\",\n",
      "                \"sha256:b156a971bc451c68c9e1f97567c94fd44155f073e3bceb1b0d195fd98ed12048\",\n",
      "                \"sha256:bcf1a82b770b8f8c1e495b19a20d8296f875a796c4fe6e91da5ef107f18c5ecb\",\n",
      "                \"sha256:cb2a9cf1150302d69bb99861c5cddc9c25aceacb0a4ef5299785d0f5389a3209\",\n",
      "                \"sha256:d8c709f4700573deb2036d240d140934df7e852520f4a584b2a8d5443b71f54d\",\n",
      "                \"sha256:db45b94885000981522fb92349e6b76f5aee0924cc5315881239c7859883117d\",\n",
      "                \"sha256:ddf46b940ef815af4e542697eaf071f0531449407a7607dd731bf23d156e20a7\",\n",
      "                \"sha256:e675f8fe9aa6c418dc8d3aac0087b5294c1a4527f1eacf9fe5ea671685285454\",\n",
      "                \"sha256:eb7e8cf2cf11a2580088009b43de84cabbf6f5dae94ceb489f28dba01a17cb77\",\n",
      "                \"sha256:f340331a3f411910adfb4bbe46c2ed5872d9e473a783d7f14ecf49bc0869c594\"\n",
      "            ],\n",
      "            \"index\": \"pypi\",\n",
      "            \"version\": \"==1.5.1\"\n",
      "        },\n",
      "        \"python-dateutil\": {\n",
      "            \"hashes\": [\n",
      "                \"sha256:0123cacc1627ae19ddf3c27a5de5bd67ee4586fbdd6440d9748f8abb483d3e86\",\n",
      "                \"sha256:961d03dc3453ebbc59dbdea9e4e11c5651520a876d0f4db161e8674aae935da9\"\n",
      "            ],\n",
      "            \"markers\": \"python_version >= '2.7' and python_version not in '3.0, 3.1, 3.2'\",\n",
      "            \"version\": \"==2.8.2\"\n",
      "        },\n",
      "        \"pytz\": {\n",
      "            \"hashes\": [\n",
      "                \"sha256:222439474e9c98fced559f1709d89e6c9cbf8d79c794ff3eb9f8800064291427\",\n",
      "                \"sha256:e89512406b793ca39f5971bc999cc538ce125c0e51c27941bef4568b460095e2\"\n",
      "            ],\n",
      "            \"version\": \"==2022.6\"\n",
      "        },\n",
      "        \"six\": {\n",
      "            \"hashes\": [\n",
      "                \"sha256:1e61c37477a1626458e36f7b1d82aa5c9b094fa4802892072e49de9c60c4c926\",\n",
      "                \"sha256:8abb2f1d86890a2dfb989f9a77cfcfd3e47c2a354b01111771326f8aa26e0254\"\n",
      "            ],\n",
      "            \"markers\": \"python_version >= '2.7' and python_version not in '3.0, 3.1, 3.2'\",\n",
      "            \"version\": \"==1.16.0\"\n",
      "        }\n",
      "    },\n",
      "    \"develop\": {}\n",
      "}\n"
     ]
    }
   ],
   "source": [
    "# In der Pipfile.lock wurde die konkrete Paket-Version vermerkt\n",
    "# Diese konkrete Paket-Versions-Information wird später benötigt,\n",
    "# um die Umgebung exakt zu reproduzieren\n",
    "!cat Pipfile.lock"
   ]
  },
  {
   "cell_type": "markdown",
   "id": "d1f79d2a-1d7f-487a-a0fd-b4b13507bcb3",
   "metadata": {},
   "source": [
    "## Deinstallation"
   ]
  },
  {
   "cell_type": "code",
   "execution_count": 52,
   "id": "08e1a0fa-2eb1-4bec-a788-f61773b09f61",
   "metadata": {},
   "outputs": [
    {
     "name": "stdout",
     "output_type": "stream",
     "text": [
      "\u001b[36mRemoving\u001b[0m \u001b[32mpandas\u001b[0m \u001b[36mfrom\u001b[0m \u001b[37mPipfile.lock...\u001b[0m\n",
      "\u001b[32mRemoved pandas from Pipfile category packages\u001b[0m\n",
      "\u001b[32m\u001b[1mUninstalling pandas\u001b[0m...\u001b[0m\n",
      "\u001b[36mFound existing installation: pandas 1.5.1\n",
      "Uninstalling pandas-1.5.1:\n",
      "  Successfully uninstalled pandas-1.5.1\n",
      "\u001b[0m\n",
      "Locking\u001b[0m \u001b[33m[packages]\u001b[0m dependencies...\u001b[0m\n",
      "Locking\u001b[0m \u001b[33m[dev-packages]\u001b[0m dependencies...\u001b[0m\n",
      "\u001b[1mUpdated Pipfile.lock (79c09cbcdef4a30c253b5e173db568037794c8207662736006c8b0976c3dcc15)!\u001b[0m\n",
      "\u001b[0m"
     ]
    }
   ],
   "source": [
    "!pipenv uninstall pandas"
   ]
  },
  {
   "cell_type": "code",
   "execution_count": 53,
   "id": "f24f2640-5805-44ea-902e-1384475b7da1",
   "metadata": {},
   "outputs": [
    {
     "name": "stdout",
     "output_type": "stream",
     "text": [
      "[[source]]\n",
      "url = \"https://pypi.org/simple\"\n",
      "verify_ssl = true\n",
      "name = \"pypi\"\n",
      "\n",
      "[packages]\n",
      "\n",
      "[dev-packages]\n",
      "\n",
      "[requires]\n",
      "python_version = \"3.8\"\n",
      "python_full_version = \"3.8.10\"\n"
     ]
    }
   ],
   "source": [
    "!cat Pipfile"
   ]
  },
  {
   "cell_type": "code",
   "execution_count": 54,
   "id": "a53d18ac-a1bc-43b0-a6c7-ed31acd765d3",
   "metadata": {},
   "outputs": [
    {
     "name": "stdout",
     "output_type": "stream",
     "text": [
      "{\n",
      "    \"_meta\": {\n",
      "        \"hash\": {\n",
      "            \"sha256\": \"79c09cbcdef4a30c253b5e173db568037794c8207662736006c8b0976c3dcc15\"\n",
      "        },\n",
      "        \"pipfile-spec\": 6,\n",
      "        \"requires\": {\n",
      "            \"python_full_version\": \"3.8.10\",\n",
      "            \"python_version\": \"3.8\"\n",
      "        },\n",
      "        \"sources\": [\n",
      "            {\n",
      "                \"name\": \"pypi\",\n",
      "                \"url\": \"https://pypi.org/simple\",\n",
      "                \"verify_ssl\": true\n",
      "            }\n",
      "        ]\n",
      "    },\n",
      "    \"default\": {\n",
      "        \"numpy\": {\n",
      "            \"hashes\": [\n",
      "                \"sha256:0fe563fc8ed9dc4474cbf70742673fc4391d70f4363f917599a7fa99f042d5a8\",\n",
      "                \"sha256:12ac457b63ec8ded85d85c1e17d85efd3c2b0967ca39560b307a35a6703a4735\",\n",
      "                \"sha256:2341f4ab6dba0834b685cce16dad5f9b6606ea8a00e6da154f5dbded70fdc4dd\",\n",
      "                \"sha256:296d17aed51161dbad3c67ed6d164e51fcd18dbcd5dd4f9d0a9c6055dce30810\",\n",
      "                \"sha256:488a66cb667359534bc70028d653ba1cf307bae88eab5929cd707c761ff037db\",\n",
      "                \"sha256:4d52914c88b4930dafb6c48ba5115a96cbab40f45740239d9f4159c4ba779962\",\n",
      "                \"sha256:5e13030f8793e9ee42f9c7d5777465a560eb78fa7e11b1c053427f2ccab90c79\",\n",
      "                \"sha256:61be02e3bf810b60ab74e81d6d0d36246dbfb644a462458bb53b595791251911\",\n",
      "                \"sha256:7607b598217745cc40f751da38ffd03512d33ec06f3523fb0b5f82e09f6f676d\",\n",
      "                \"sha256:7a70a7d3ce4c0e9284e92285cba91a4a3f5214d87ee0e95928f3614a256a1488\",\n",
      "                \"sha256:7ab46e4e7ec63c8a5e6dbf5c1b9e1c92ba23a7ebecc86c336cb7bf3bd2fb10e5\",\n",
      "                \"sha256:8981d9b5619569899666170c7c9748920f4a5005bf79c72c07d08c8a035757b0\",\n",
      "                \"sha256:8c053d7557a8f022ec823196d242464b6955a7e7e5015b719e76003f63f82d0f\",\n",
      "                \"sha256:926db372bc4ac1edf81cfb6c59e2a881606b409ddc0d0920b988174b2e2a767f\",\n",
      "                \"sha256:95d79ada05005f6f4f337d3bb9de8a7774f259341c70bc88047a1f7b96a4bcb2\",\n",
      "                \"sha256:95de7dc7dc47a312f6feddd3da2500826defdccbc41608d0031276a24181a2c0\",\n",
      "                \"sha256:a0882323e0ca4245eb0a3d0a74f88ce581cc33aedcfa396e415e5bba7bf05f68\",\n",
      "                \"sha256:a8365b942f9c1a7d0f0dc974747d99dd0a0cdfc5949a33119caf05cb314682d3\",\n",
      "                \"sha256:a8aae2fb3180940011b4862b2dd3756616841c53db9734b27bb93813cd79fce6\",\n",
      "                \"sha256:c237129f0e732885c9a6076a537e974160482eab8f10db6292e92154d4c67d71\",\n",
      "                \"sha256:c67b833dbccefe97cdd3f52798d430b9d3430396af7cdb2a0c32954c3ef73894\",\n",
      "                \"sha256:ce03305dd694c4873b9429274fd41fc7eb4e0e4dea07e0af97a933b079a5814f\",\n",
      "                \"sha256:d331afac87c92373826af83d2b2b435f57b17a5c74e6268b79355b970626e329\",\n",
      "                \"sha256:dada341ebb79619fe00a291185bba370c9803b1e1d7051610e01ed809ef3a4ba\",\n",
      "                \"sha256:ed2cc92af0efad20198638c69bb0fc2870a58dabfba6eb722c933b48556c686c\",\n",
      "                \"sha256:f260da502d7441a45695199b4e7fd8ca87db659ba1c78f2bbf31f934fe76ae0e\",\n",
      "                \"sha256:f2f390aa4da44454db40a1f0201401f9036e8d578a25f01a6e237cea238337ef\",\n",
      "                \"sha256:f76025acc8e2114bb664294a07ede0727aa75d63a06d2fae96bf29a81747e4a7\"\n",
      "            ],\n",
      "            \"markers\": \"python_version < '3.10'\",\n",
      "            \"version\": \"==1.23.4\"\n",
      "        },\n",
      "        \"python-dateutil\": {\n",
      "            \"hashes\": [\n",
      "                \"sha256:0123cacc1627ae19ddf3c27a5de5bd67ee4586fbdd6440d9748f8abb483d3e86\",\n",
      "                \"sha256:961d03dc3453ebbc59dbdea9e4e11c5651520a876d0f4db161e8674aae935da9\"\n",
      "            ],\n",
      "            \"markers\": \"python_version >= '2.7' and python_version not in '3.0, 3.1, 3.2'\",\n",
      "            \"version\": \"==2.8.2\"\n",
      "        },\n",
      "        \"pytz\": {\n",
      "            \"hashes\": [\n",
      "                \"sha256:222439474e9c98fced559f1709d89e6c9cbf8d79c794ff3eb9f8800064291427\",\n",
      "                \"sha256:e89512406b793ca39f5971bc999cc538ce125c0e51c27941bef4568b460095e2\"\n",
      "            ],\n",
      "            \"version\": \"==2022.6\"\n",
      "        },\n",
      "        \"six\": {\n",
      "            \"hashes\": [\n",
      "                \"sha256:1e61c37477a1626458e36f7b1d82aa5c9b094fa4802892072e49de9c60c4c926\",\n",
      "                \"sha256:8abb2f1d86890a2dfb989f9a77cfcfd3e47c2a354b01111771326f8aa26e0254\"\n",
      "            ],\n",
      "            \"markers\": \"python_version >= '2.7' and python_version not in '3.0, 3.1, 3.2'\",\n",
      "            \"version\": \"==1.16.0\"\n",
      "        }\n",
      "    },\n",
      "    \"develop\": {}\n",
      "}\n"
     ]
    }
   ],
   "source": [
    "!cat Pipfile.lock"
   ]
  },
  {
   "cell_type": "markdown",
   "id": "97cc38c7-159d-4ca3-821b-fd74b91c4f28",
   "metadata": {},
   "source": [
    "Man sieht hier, dass die Dependencies vom Paket `pandas` noch weiterhin aufgelistet und installiert sind. Dazu gleich mehr!"
   ]
  },
  {
   "cell_type": "code",
   "execution_count": 55,
   "id": "4a1bca9b-8a07-438d-9dd7-c26cc07aa27f",
   "metadata": {},
   "outputs": [
    {
     "name": "stdout",
     "output_type": "stream",
     "text": [
      "Package         Version\n",
      "--------------- -------\n",
      "numpy           1.23.4\n",
      "pip             22.2.2\n",
      "python-dateutil 2.8.2\n",
      "pytz            2022.6\n",
      "setuptools      65.4.1\n",
      "six             1.16.0\n",
      "wheel           0.37.1\n"
     ]
    }
   ],
   "source": [
    "!pipenv run pip list"
   ]
  },
  {
   "cell_type": "markdown",
   "id": "ada17a11-f47d-4cf9-ab1d-d5ab7a8f4bc2",
   "metadata": {},
   "source": [
    "# Installation/De-Installation von Entwickler-Paketen"
   ]
  },
  {
   "cell_type": "markdown",
   "id": "56b6558d-936e-4653-91e2-40900cbe9f4b",
   "metadata": {},
   "source": [
    "## Installation"
   ]
  },
  {
   "cell_type": "code",
   "execution_count": 56,
   "id": "d18ece0d-f958-4dc5-b17d-3d8474fc4365",
   "metadata": {},
   "outputs": [
    {
     "name": "stdout",
     "output_type": "stream",
     "text": [
      "Package         Version\n",
      "--------------- -------\n",
      "numpy           1.23.4\n",
      "pip             22.2.2\n",
      "python-dateutil 2.8.2\n",
      "pytz            2022.6\n",
      "setuptools      65.4.1\n",
      "six             1.16.0\n",
      "wheel           0.37.1\n"
     ]
    }
   ],
   "source": [
    "!pipenv run pip list"
   ]
  },
  {
   "cell_type": "code",
   "execution_count": 59,
   "id": "1e4973df-11e5-40b5-9bc5-04457f54b9ab",
   "metadata": {},
   "outputs": [
    {
     "name": "stdout",
     "output_type": "stream",
     "text": [
      "[[source]]\n",
      "url = \"https://pypi.org/simple\"\n",
      "verify_ssl = true\n",
      "name = \"pypi\"\n",
      "\n",
      "[packages]\n",
      "\n",
      "[dev-packages]\n",
      "pytest = \"*\"\n",
      "\n",
      "[requires]\n",
      "python_version = \"3.8\"\n",
      "python_full_version = \"3.8.10\"\n"
     ]
    }
   ],
   "source": [
    "# Schau mal in die Pipfile:\n",
    "# da gibt es in dieser TOML-Datei / beim TOML-Format\n",
    "# auch einen eigenen Abschnitt für [dev-packages] = Entwicklerpakete\n",
    "!cat Pipfile"
   ]
  },
  {
   "cell_type": "code",
   "execution_count": 60,
   "id": "6c74253b-45d3-4ccc-8b19-321ba1faadea",
   "metadata": {},
   "outputs": [
    {
     "name": "stdout",
     "output_type": "stream",
     "text": [
      "\u001b[32m\u001b[1mInstalling pytest...\u001b[0m\n",
      "\u001b[K\u001b[1mAdding\u001b[0m \u001b[32m\u001b[1mpytest\u001b[0m \u001b[1mto Pipfile's\u001b[0m \u001b[33m\u001b[1m[dev-packages]\u001b[0m\u001b[1m...\u001b[0m\n",
      "\u001b[K\u001b[?25h✔ Installation Succeeded\u001b[0m \n",
      "\u001b[1mInstalling dependencies from Pipfile.lock (f8bea4)...\u001b[0m\n",
      "\u001b[1mInstalling dependencies from Pipfile.lock (f8bea4)...\u001b[0m\n",
      "To activate this project's virtualenv, run \u001b[33mpipenv shell\u001b[0m.\n",
      "Alternatively, run a command inside the virtualenv with \u001b[33mpipenv run\u001b[0m.\n",
      "\u001b[0m"
     ]
    }
   ],
   "source": [
    "!pipenv install --dev pytest"
   ]
  },
  {
   "cell_type": "code",
   "execution_count": 61,
   "id": "c613eb0f-f7e4-4cfa-a19e-ffdc672a3d21",
   "metadata": {},
   "outputs": [
    {
     "name": "stdout",
     "output_type": "stream",
     "text": [
      "\u001b[1mnumpy==1.23.4\u001b[0m\n",
      "\u001b[1mpytest==7.2.0\u001b[0m\n",
      "\u001b[22m  - attrs [required: >=19.2.0, installed: 22.1.0]\u001b[0m\n",
      "\u001b[22m  - exceptiongroup [required: >=1.0.0rc8, installed: 1.0.0]\u001b[0m\n",
      "\u001b[22m  - iniconfig [required: Any, installed: 1.1.1]\u001b[0m\n",
      "\u001b[22m  - packaging [required: Any, installed: 21.3]\u001b[0m\n",
      "\u001b[22m    - pyparsing [required: >=2.0.2,!=3.0.5, installed: 3.0.9]\u001b[0m\n",
      "\u001b[22m  - pluggy [required: >=0.12,<2.0, installed: 1.0.0]\u001b[0m\n",
      "\u001b[22m  - tomli [required: >=1.0.0, installed: 2.0.1]\u001b[0m\n",
      "\u001b[1mpython-dateutil==2.8.2\u001b[0m\n",
      "\u001b[22m  - six [required: >=1.5, installed: 1.16.0]\u001b[0m\n",
      "\u001b[1mpytz==2022.6\u001b[0m\n",
      "\u001b[0m"
     ]
    }
   ],
   "source": [
    "!pipenv graph"
   ]
  },
  {
   "cell_type": "code",
   "execution_count": 62,
   "id": "2a287cb6-133e-4bd0-886c-d6e9b002e9fd",
   "metadata": {},
   "outputs": [
    {
     "name": "stdout",
     "output_type": "stream",
     "text": [
      "Package         Version\n",
      "--------------- -------\n",
      "attrs           22.1.0\n",
      "exceptiongroup  1.0.0\n",
      "iniconfig       1.1.1\n",
      "numpy           1.23.4\n",
      "packaging       21.3\n",
      "pip             22.2.2\n",
      "pluggy          1.0.0\n",
      "pyparsing       3.0.9\n",
      "pytest          7.2.0\n",
      "python-dateutil 2.8.2\n",
      "pytz            2022.6\n",
      "setuptools      65.4.1\n",
      "six             1.16.0\n",
      "tomli           2.0.1\n",
      "wheel           0.37.1\n"
     ]
    }
   ],
   "source": [
    "!pipenv run pip list"
   ]
  },
  {
   "cell_type": "code",
   "execution_count": 63,
   "id": "294d3058-60c8-493e-bf95-94315038a208",
   "metadata": {},
   "outputs": [
    {
     "name": "stdout",
     "output_type": "stream",
     "text": [
      "[[source]]\n",
      "url = \"https://pypi.org/simple\"\n",
      "verify_ssl = true\n",
      "name = \"pypi\"\n",
      "\n",
      "[packages]\n",
      "\n",
      "[dev-packages]\n",
      "pytest = \"*\"\n",
      "\n",
      "[requires]\n",
      "python_version = \"3.8\"\n",
      "python_full_version = \"3.8.10\"\n"
     ]
    }
   ],
   "source": [
    "!cat Pipfile"
   ]
  },
  {
   "cell_type": "code",
   "execution_count": 64,
   "id": "4c9bbdec-81f1-45a0-b833-2c8935403117",
   "metadata": {},
   "outputs": [
    {
     "name": "stdout",
     "output_type": "stream",
     "text": [
      "{\n",
      "    \"_meta\": {\n",
      "        \"hash\": {\n",
      "            \"sha256\": \"bf21f162b77c040a2d6be8d63245ce3a085de11fca88e3e54e38d08c8cf8bea4\"\n",
      "        },\n",
      "        \"pipfile-spec\": 6,\n",
      "        \"requires\": {\n",
      "            \"python_full_version\": \"3.8.10\",\n",
      "            \"python_version\": \"3.8\"\n",
      "        },\n",
      "        \"sources\": [\n",
      "            {\n",
      "                \"name\": \"pypi\",\n",
      "                \"url\": \"https://pypi.org/simple\",\n",
      "                \"verify_ssl\": true\n",
      "            }\n",
      "        ]\n",
      "    },\n",
      "    \"default\": {\n",
      "        \"numpy\": {\n",
      "            \"hashes\": [\n",
      "                \"sha256:0fe563fc8ed9dc4474cbf70742673fc4391d70f4363f917599a7fa99f042d5a8\",\n",
      "                \"sha256:12ac457b63ec8ded85d85c1e17d85efd3c2b0967ca39560b307a35a6703a4735\",\n",
      "                \"sha256:2341f4ab6dba0834b685cce16dad5f9b6606ea8a00e6da154f5dbded70fdc4dd\",\n",
      "                \"sha256:296d17aed51161dbad3c67ed6d164e51fcd18dbcd5dd4f9d0a9c6055dce30810\",\n",
      "                \"sha256:488a66cb667359534bc70028d653ba1cf307bae88eab5929cd707c761ff037db\",\n",
      "                \"sha256:4d52914c88b4930dafb6c48ba5115a96cbab40f45740239d9f4159c4ba779962\",\n",
      "                \"sha256:5e13030f8793e9ee42f9c7d5777465a560eb78fa7e11b1c053427f2ccab90c79\",\n",
      "                \"sha256:61be02e3bf810b60ab74e81d6d0d36246dbfb644a462458bb53b595791251911\",\n",
      "                \"sha256:7607b598217745cc40f751da38ffd03512d33ec06f3523fb0b5f82e09f6f676d\",\n",
      "                \"sha256:7a70a7d3ce4c0e9284e92285cba91a4a3f5214d87ee0e95928f3614a256a1488\",\n",
      "                \"sha256:7ab46e4e7ec63c8a5e6dbf5c1b9e1c92ba23a7ebecc86c336cb7bf3bd2fb10e5\",\n",
      "                \"sha256:8981d9b5619569899666170c7c9748920f4a5005bf79c72c07d08c8a035757b0\",\n",
      "                \"sha256:8c053d7557a8f022ec823196d242464b6955a7e7e5015b719e76003f63f82d0f\",\n",
      "                \"sha256:926db372bc4ac1edf81cfb6c59e2a881606b409ddc0d0920b988174b2e2a767f\",\n",
      "                \"sha256:95d79ada05005f6f4f337d3bb9de8a7774f259341c70bc88047a1f7b96a4bcb2\",\n",
      "                \"sha256:95de7dc7dc47a312f6feddd3da2500826defdccbc41608d0031276a24181a2c0\",\n",
      "                \"sha256:a0882323e0ca4245eb0a3d0a74f88ce581cc33aedcfa396e415e5bba7bf05f68\",\n",
      "                \"sha256:a8365b942f9c1a7d0f0dc974747d99dd0a0cdfc5949a33119caf05cb314682d3\",\n",
      "                \"sha256:a8aae2fb3180940011b4862b2dd3756616841c53db9734b27bb93813cd79fce6\",\n",
      "                \"sha256:c237129f0e732885c9a6076a537e974160482eab8f10db6292e92154d4c67d71\",\n",
      "                \"sha256:c67b833dbccefe97cdd3f52798d430b9d3430396af7cdb2a0c32954c3ef73894\",\n",
      "                \"sha256:ce03305dd694c4873b9429274fd41fc7eb4e0e4dea07e0af97a933b079a5814f\",\n",
      "                \"sha256:d331afac87c92373826af83d2b2b435f57b17a5c74e6268b79355b970626e329\",\n",
      "                \"sha256:dada341ebb79619fe00a291185bba370c9803b1e1d7051610e01ed809ef3a4ba\",\n",
      "                \"sha256:ed2cc92af0efad20198638c69bb0fc2870a58dabfba6eb722c933b48556c686c\",\n",
      "                \"sha256:f260da502d7441a45695199b4e7fd8ca87db659ba1c78f2bbf31f934fe76ae0e\",\n",
      "                \"sha256:f2f390aa4da44454db40a1f0201401f9036e8d578a25f01a6e237cea238337ef\",\n",
      "                \"sha256:f76025acc8e2114bb664294a07ede0727aa75d63a06d2fae96bf29a81747e4a7\"\n",
      "            ],\n",
      "            \"markers\": \"python_version < '3.10'\",\n",
      "            \"version\": \"==1.23.4\"\n",
      "        },\n",
      "        \"python-dateutil\": {\n",
      "            \"hashes\": [\n",
      "                \"sha256:0123cacc1627ae19ddf3c27a5de5bd67ee4586fbdd6440d9748f8abb483d3e86\",\n",
      "                \"sha256:961d03dc3453ebbc59dbdea9e4e11c5651520a876d0f4db161e8674aae935da9\"\n",
      "            ],\n",
      "            \"markers\": \"python_version >= '2.7' and python_version not in '3.0, 3.1, 3.2'\",\n",
      "            \"version\": \"==2.8.2\"\n",
      "        },\n",
      "        \"pytz\": {\n",
      "            \"hashes\": [\n",
      "                \"sha256:222439474e9c98fced559f1709d89e6c9cbf8d79c794ff3eb9f8800064291427\",\n",
      "                \"sha256:e89512406b793ca39f5971bc999cc538ce125c0e51c27941bef4568b460095e2\"\n",
      "            ],\n",
      "            \"version\": \"==2022.6\"\n",
      "        },\n",
      "        \"six\": {\n",
      "            \"hashes\": [\n",
      "                \"sha256:1e61c37477a1626458e36f7b1d82aa5c9b094fa4802892072e49de9c60c4c926\",\n",
      "                \"sha256:8abb2f1d86890a2dfb989f9a77cfcfd3e47c2a354b01111771326f8aa26e0254\"\n",
      "            ],\n",
      "            \"markers\": \"python_version >= '2.7' and python_version not in '3.0, 3.1, 3.2'\",\n",
      "            \"version\": \"==1.16.0\"\n",
      "        }\n",
      "    },\n",
      "    \"develop\": {\n",
      "        \"attrs\": {\n",
      "            \"hashes\": [\n",
      "                \"sha256:29adc2665447e5191d0e7c568fde78b21f9672d344281d0c6e1ab085429b22b6\",\n",
      "                \"sha256:86efa402f67bf2df34f51a335487cf46b1ec130d02b8d39fd248abfd30da551c\"\n",
      "            ],\n",
      "            \"markers\": \"python_version >= '3.5'\",\n",
      "            \"version\": \"==22.1.0\"\n",
      "        },\n",
      "        \"exceptiongroup\": {\n",
      "            \"hashes\": [\n",
      "                \"sha256:2ac84b496be68464a2da60da518af3785fff8b7ec0d090a581604bc870bdee41\",\n",
      "                \"sha256:affbabf13fb6e98988c38d9c5650e701569fe3c1de3233cfb61c5f33774690ad\"\n",
      "            ],\n",
      "            \"markers\": \"python_version < '3.11'\",\n",
      "            \"version\": \"==1.0.0\"\n",
      "        },\n",
      "        \"iniconfig\": {\n",
      "            \"hashes\": [\n",
      "                \"sha256:011e24c64b7f47f6ebd835bb12a743f2fbe9a26d4cecaa7f53bc4f35ee9da8b3\",\n",
      "                \"sha256:bc3af051d7d14b2ee5ef9969666def0cd1a000e121eaea580d4a313df4b37f32\"\n",
      "            ],\n",
      "            \"version\": \"==1.1.1\"\n",
      "        },\n",
      "        \"packaging\": {\n",
      "            \"hashes\": [\n",
      "                \"sha256:dd47c42927d89ab911e606518907cc2d3a1f38bbd026385970643f9c5b8ecfeb\",\n",
      "                \"sha256:ef103e05f519cdc783ae24ea4e2e0f508a9c99b2d4969652eed6a2e1ea5bd522\"\n",
      "            ],\n",
      "            \"markers\": \"python_version >= '3.6'\",\n",
      "            \"version\": \"==21.3\"\n",
      "        },\n",
      "        \"pluggy\": {\n",
      "            \"hashes\": [\n",
      "                \"sha256:4224373bacce55f955a878bf9cfa763c1e360858e330072059e10bad68531159\",\n",
      "                \"sha256:74134bbf457f031a36d68416e1509f34bd5ccc019f0bcc952c7b909d06b37bd3\"\n",
      "            ],\n",
      "            \"markers\": \"python_version >= '3.6'\",\n",
      "            \"version\": \"==1.0.0\"\n",
      "        },\n",
      "        \"pyparsing\": {\n",
      "            \"hashes\": [\n",
      "                \"sha256:2b020ecf7d21b687f219b71ecad3631f644a47f01403fa1d1036b0c6416d70fb\",\n",
      "                \"sha256:5026bae9a10eeaefb61dab2f09052b9f4307d44aee4eda64b309723d8d206bbc\"\n",
      "            ],\n",
      "            \"markers\": \"python_full_version >= '3.6.8'\",\n",
      "            \"version\": \"==3.0.9\"\n",
      "        },\n",
      "        \"pytest\": {\n",
      "            \"hashes\": [\n",
      "                \"sha256:892f933d339f068883b6fd5a459f03d85bfcb355e4981e146d2c7616c21fef71\",\n",
      "                \"sha256:c4014eb40e10f11f355ad4e3c2fb2c6c6d1919c73f3b5a433de4708202cade59\"\n",
      "            ],\n",
      "            \"index\": \"pypi\",\n",
      "            \"version\": \"==7.2.0\"\n",
      "        },\n",
      "        \"tomli\": {\n",
      "            \"hashes\": [\n",
      "                \"sha256:939de3e7a6161af0c887ef91b7d41a53e7c5a1ca976325f429cb46ea9bc30ecc\",\n",
      "                \"sha256:de526c12914f0c550d15924c62d72abc48d6fe7364aa87328337a31007fe8a4f\"\n",
      "            ],\n",
      "            \"markers\": \"python_version < '3.11'\",\n",
      "            \"version\": \"==2.0.1\"\n",
      "        }\n",
      "    }\n",
      "}\n"
     ]
    }
   ],
   "source": [
    "!cat Pipfile.lock"
   ]
  },
  {
   "cell_type": "markdown",
   "id": "1da888ee-ad3f-43ab-986f-9619f86249e0",
   "metadata": {},
   "source": [
    "## Deinstallation"
   ]
  },
  {
   "cell_type": "code",
   "execution_count": 65,
   "id": "83b18745-bbc5-4ca8-bca6-5d04c7d3fad7",
   "metadata": {},
   "outputs": [
    {
     "name": "stdout",
     "output_type": "stream",
     "text": [
      "Package         Version\n",
      "--------------- -------\n",
      "attrs           22.1.0\n",
      "exceptiongroup  1.0.0\n",
      "iniconfig       1.1.1\n",
      "numpy           1.23.4\n",
      "packaging       21.3\n",
      "pip             22.2.2\n",
      "pluggy          1.0.0\n",
      "pyparsing       3.0.9\n",
      "pytest          7.2.0\n",
      "python-dateutil 2.8.2\n",
      "pytz            2022.6\n",
      "setuptools      65.4.1\n",
      "six             1.16.0\n",
      "tomli           2.0.1\n",
      "wheel           0.37.1\n"
     ]
    }
   ],
   "source": [
    "!pipenv run pip list"
   ]
  },
  {
   "cell_type": "code",
   "execution_count": 66,
   "id": "8ea9aded-c8e1-4879-a42d-2a6f3c019522",
   "metadata": {},
   "outputs": [
    {
     "name": "stdout",
     "output_type": "stream",
     "text": [
      "\u001b[36mRemoving\u001b[0m \u001b[32mpytest\u001b[0m \u001b[36mfrom\u001b[0m \u001b[37mPipfile.lock...\u001b[0m\n",
      "\u001b[32mRemoved pytest from Pipfile category dev-packages\u001b[0m\n",
      "\u001b[32m\u001b[1mUninstalling pytest\u001b[0m...\u001b[0m\n",
      "\u001b[36mFound existing installation: pytest 7.2.0\n",
      "Uninstalling pytest-7.2.0:\n",
      "  Successfully uninstalled pytest-7.2.0\n",
      "\u001b[0m\n",
      "Locking\u001b[0m \u001b[33m[packages]\u001b[0m dependencies...\u001b[0m\n",
      "Locking\u001b[0m \u001b[33m[dev-packages]\u001b[0m dependencies...\u001b[0m\n",
      "\u001b[1mUpdated Pipfile.lock (79c09cbcdef4a30c253b5e173db568037794c8207662736006c8b0976c3dcc15)!\u001b[0m\n",
      "\u001b[0m"
     ]
    }
   ],
   "source": [
    "!pipenv uninstall pytest"
   ]
  },
  {
   "cell_type": "code",
   "execution_count": 67,
   "id": "84b4d9a0-c72c-401a-89b6-17cdc5b1505b",
   "metadata": {},
   "outputs": [
    {
     "name": "stdout",
     "output_type": "stream",
     "text": [
      "Package         Version\n",
      "--------------- -------\n",
      "attrs           22.1.0\n",
      "exceptiongroup  1.0.0\n",
      "iniconfig       1.1.1\n",
      "numpy           1.23.4\n",
      "packaging       21.3\n",
      "pip             22.2.2\n",
      "pluggy          1.0.0\n",
      "pyparsing       3.0.9\n",
      "python-dateutil 2.8.2\n",
      "pytz            2022.6\n",
      "setuptools      65.4.1\n",
      "six             1.16.0\n",
      "tomli           2.0.1\n",
      "wheel           0.37.1\n"
     ]
    }
   ],
   "source": [
    "# Wir sehen mal nach, ob die Dependencies von pytest wie z.B. attrs auch deinstalliert wurden?\n",
    "# Antwort --> nein!\n",
    "!pipenv run pip list"
   ]
  },
  {
   "cell_type": "code",
   "execution_count": 68,
   "id": "b3da57f0-e81b-4602-9fac-a33aeedf22e7",
   "metadata": {},
   "outputs": [
    {
     "name": "stdout",
     "output_type": "stream",
     "text": [
      "\u001b[1mattrs==22.1.0\u001b[0m\n",
      "\u001b[1mexceptiongroup==1.0.0\u001b[0m\n",
      "\u001b[1miniconfig==1.1.1\u001b[0m\n",
      "\u001b[1mnumpy==1.23.4\u001b[0m\n",
      "\u001b[1mpackaging==21.3\u001b[0m\n",
      "\u001b[22m  - pyparsing [required: >=2.0.2,!=3.0.5, installed: 3.0.9]\u001b[0m\n",
      "\u001b[1mpluggy==1.0.0\u001b[0m\n",
      "\u001b[1mpython-dateutil==2.8.2\u001b[0m\n",
      "\u001b[22m  - six [required: >=1.5, installed: 1.16.0]\u001b[0m\n",
      "\u001b[1mpytz==2022.6\u001b[0m\n",
      "\u001b[1mtomli==2.0.1\u001b[0m\n",
      "\u001b[0m"
     ]
    }
   ],
   "source": [
    "!pipenv graph"
   ]
  },
  {
   "cell_type": "code",
   "execution_count": 69,
   "id": "b8efc921-c537-482f-ac27-8bbc57c0bff2",
   "metadata": {},
   "outputs": [
    {
     "name": "stdout",
     "output_type": "stream",
     "text": [
      "[[source]]\n",
      "url = \"https://pypi.org/simple\"\n",
      "verify_ssl = true\n",
      "name = \"pypi\"\n",
      "\n",
      "[packages]\n",
      "\n",
      "[dev-packages]\n",
      "\n",
      "[requires]\n",
      "python_version = \"3.8\"\n",
      "python_full_version = \"3.8.10\"\n"
     ]
    }
   ],
   "source": [
    "!cat Pipfile"
   ]
  },
  {
   "cell_type": "code",
   "execution_count": 72,
   "id": "5babd071-cf58-4938-b55d-15d9eb484eeb",
   "metadata": {},
   "outputs": [
    {
     "name": "stdout",
     "output_type": "stream",
     "text": [
      "{\n",
      "    \"_meta\": {\n",
      "        \"hash\": {\n",
      "            \"sha256\": \"79c09cbcdef4a30c253b5e173db568037794c8207662736006c8b0976c3dcc15\"\n",
      "        },\n",
      "        \"pipfile-spec\": 6,\n",
      "        \"requires\": {\n",
      "            \"python_full_version\": \"3.8.10\",\n",
      "            \"python_version\": \"3.8\"\n",
      "        },\n",
      "        \"sources\": [\n",
      "            {\n",
      "                \"name\": \"pypi\",\n",
      "                \"url\": \"https://pypi.org/simple\",\n",
      "                \"verify_ssl\": true\n",
      "            }\n",
      "        ]\n",
      "    },\n",
      "    \"default\": {\n",
      "        \"numpy\": {\n",
      "            \"hashes\": [\n",
      "                \"sha256:0fe563fc8ed9dc4474cbf70742673fc4391d70f4363f917599a7fa99f042d5a8\",\n",
      "                \"sha256:12ac457b63ec8ded85d85c1e17d85efd3c2b0967ca39560b307a35a6703a4735\",\n",
      "                \"sha256:2341f4ab6dba0834b685cce16dad5f9b6606ea8a00e6da154f5dbded70fdc4dd\",\n",
      "                \"sha256:296d17aed51161dbad3c67ed6d164e51fcd18dbcd5dd4f9d0a9c6055dce30810\",\n",
      "                \"sha256:488a66cb667359534bc70028d653ba1cf307bae88eab5929cd707c761ff037db\",\n",
      "                \"sha256:4d52914c88b4930dafb6c48ba5115a96cbab40f45740239d9f4159c4ba779962\",\n",
      "                \"sha256:5e13030f8793e9ee42f9c7d5777465a560eb78fa7e11b1c053427f2ccab90c79\",\n",
      "                \"sha256:61be02e3bf810b60ab74e81d6d0d36246dbfb644a462458bb53b595791251911\",\n",
      "                \"sha256:7607b598217745cc40f751da38ffd03512d33ec06f3523fb0b5f82e09f6f676d\",\n",
      "                \"sha256:7a70a7d3ce4c0e9284e92285cba91a4a3f5214d87ee0e95928f3614a256a1488\",\n",
      "                \"sha256:7ab46e4e7ec63c8a5e6dbf5c1b9e1c92ba23a7ebecc86c336cb7bf3bd2fb10e5\",\n",
      "                \"sha256:8981d9b5619569899666170c7c9748920f4a5005bf79c72c07d08c8a035757b0\",\n",
      "                \"sha256:8c053d7557a8f022ec823196d242464b6955a7e7e5015b719e76003f63f82d0f\",\n",
      "                \"sha256:926db372bc4ac1edf81cfb6c59e2a881606b409ddc0d0920b988174b2e2a767f\",\n",
      "                \"sha256:95d79ada05005f6f4f337d3bb9de8a7774f259341c70bc88047a1f7b96a4bcb2\",\n",
      "                \"sha256:95de7dc7dc47a312f6feddd3da2500826defdccbc41608d0031276a24181a2c0\",\n",
      "                \"sha256:a0882323e0ca4245eb0a3d0a74f88ce581cc33aedcfa396e415e5bba7bf05f68\",\n",
      "                \"sha256:a8365b942f9c1a7d0f0dc974747d99dd0a0cdfc5949a33119caf05cb314682d3\",\n",
      "                \"sha256:a8aae2fb3180940011b4862b2dd3756616841c53db9734b27bb93813cd79fce6\",\n",
      "                \"sha256:c237129f0e732885c9a6076a537e974160482eab8f10db6292e92154d4c67d71\",\n",
      "                \"sha256:c67b833dbccefe97cdd3f52798d430b9d3430396af7cdb2a0c32954c3ef73894\",\n",
      "                \"sha256:ce03305dd694c4873b9429274fd41fc7eb4e0e4dea07e0af97a933b079a5814f\",\n",
      "                \"sha256:d331afac87c92373826af83d2b2b435f57b17a5c74e6268b79355b970626e329\",\n",
      "                \"sha256:dada341ebb79619fe00a291185bba370c9803b1e1d7051610e01ed809ef3a4ba\",\n",
      "                \"sha256:ed2cc92af0efad20198638c69bb0fc2870a58dabfba6eb722c933b48556c686c\",\n",
      "                \"sha256:f260da502d7441a45695199b4e7fd8ca87db659ba1c78f2bbf31f934fe76ae0e\",\n",
      "                \"sha256:f2f390aa4da44454db40a1f0201401f9036e8d578a25f01a6e237cea238337ef\",\n",
      "                \"sha256:f76025acc8e2114bb664294a07ede0727aa75d63a06d2fae96bf29a81747e4a7\"\n",
      "            ],\n",
      "            \"markers\": \"python_version < '3.10'\",\n",
      "            \"version\": \"==1.23.4\"\n",
      "        },\n",
      "        \"python-dateutil\": {\n",
      "            \"hashes\": [\n",
      "                \"sha256:0123cacc1627ae19ddf3c27a5de5bd67ee4586fbdd6440d9748f8abb483d3e86\",\n",
      "                \"sha256:961d03dc3453ebbc59dbdea9e4e11c5651520a876d0f4db161e8674aae935da9\"\n",
      "            ],\n",
      "            \"markers\": \"python_version >= '2.7' and python_version not in '3.0, 3.1, 3.2'\",\n",
      "            \"version\": \"==2.8.2\"\n",
      "        },\n",
      "        \"pytz\": {\n",
      "            \"hashes\": [\n",
      "                \"sha256:222439474e9c98fced559f1709d89e6c9cbf8d79c794ff3eb9f8800064291427\",\n",
      "                \"sha256:e89512406b793ca39f5971bc999cc538ce125c0e51c27941bef4568b460095e2\"\n",
      "            ],\n",
      "            \"version\": \"==2022.6\"\n",
      "        },\n",
      "        \"six\": {\n",
      "            \"hashes\": [\n",
      "                \"sha256:1e61c37477a1626458e36f7b1d82aa5c9b094fa4802892072e49de9c60c4c926\",\n",
      "                \"sha256:8abb2f1d86890a2dfb989f9a77cfcfd3e47c2a354b01111771326f8aa26e0254\"\n",
      "            ],\n",
      "            \"markers\": \"python_version >= '2.7' and python_version not in '3.0, 3.1, 3.2'\",\n",
      "            \"version\": \"==1.16.0\"\n",
      "        }\n",
      "    },\n",
      "    \"develop\": {\n",
      "        \"attrs\": {\n",
      "            \"hashes\": [\n",
      "                \"sha256:29adc2665447e5191d0e7c568fde78b21f9672d344281d0c6e1ab085429b22b6\",\n",
      "                \"sha256:86efa402f67bf2df34f51a335487cf46b1ec130d02b8d39fd248abfd30da551c\"\n",
      "            ],\n",
      "            \"markers\": \"python_version >= '3.5'\",\n",
      "            \"version\": \"==22.1.0\"\n",
      "        },\n",
      "        \"exceptiongroup\": {\n",
      "            \"hashes\": [\n",
      "                \"sha256:2ac84b496be68464a2da60da518af3785fff8b7ec0d090a581604bc870bdee41\",\n",
      "                \"sha256:affbabf13fb6e98988c38d9c5650e701569fe3c1de3233cfb61c5f33774690ad\"\n",
      "            ],\n",
      "            \"markers\": \"python_version < '3.11'\",\n",
      "            \"version\": \"==1.0.0\"\n",
      "        },\n",
      "        \"iniconfig\": {\n",
      "            \"hashes\": [\n",
      "                \"sha256:011e24c64b7f47f6ebd835bb12a743f2fbe9a26d4cecaa7f53bc4f35ee9da8b3\",\n",
      "                \"sha256:bc3af051d7d14b2ee5ef9969666def0cd1a000e121eaea580d4a313df4b37f32\"\n",
      "            ],\n",
      "            \"version\": \"==1.1.1\"\n",
      "        },\n",
      "        \"packaging\": {\n",
      "            \"hashes\": [\n",
      "                \"sha256:dd47c42927d89ab911e606518907cc2d3a1f38bbd026385970643f9c5b8ecfeb\",\n",
      "                \"sha256:ef103e05f519cdc783ae24ea4e2e0f508a9c99b2d4969652eed6a2e1ea5bd522\"\n",
      "            ],\n",
      "            \"markers\": \"python_version >= '3.6'\",\n",
      "            \"version\": \"==21.3\"\n",
      "        },\n",
      "        \"pluggy\": {\n",
      "            \"hashes\": [\n",
      "                \"sha256:4224373bacce55f955a878bf9cfa763c1e360858e330072059e10bad68531159\",\n",
      "                \"sha256:74134bbf457f031a36d68416e1509f34bd5ccc019f0bcc952c7b909d06b37bd3\"\n",
      "            ],\n",
      "            \"markers\": \"python_version >= '3.6'\",\n",
      "            \"version\": \"==1.0.0\"\n",
      "        },\n",
      "        \"pyparsing\": {\n",
      "            \"hashes\": [\n",
      "                \"sha256:2b020ecf7d21b687f219b71ecad3631f644a47f01403fa1d1036b0c6416d70fb\",\n",
      "                \"sha256:5026bae9a10eeaefb61dab2f09052b9f4307d44aee4eda64b309723d8d206bbc\"\n",
      "            ],\n",
      "            \"markers\": \"python_full_version >= '3.6.8'\",\n",
      "            \"version\": \"==3.0.9\"\n",
      "        },\n",
      "        \"tomli\": {\n",
      "            \"hashes\": [\n",
      "                \"sha256:939de3e7a6161af0c887ef91b7d41a53e7c5a1ca976325f429cb46ea9bc30ecc\",\n",
      "                \"sha256:de526c12914f0c550d15924c62d72abc48d6fe7364aa87328337a31007fe8a4f\"\n",
      "            ],\n",
      "            \"markers\": \"python_version < '3.11'\",\n",
      "            \"version\": \"==2.0.1\"\n",
      "        }\n",
      "    }\n",
      "}\n"
     ]
    }
   ],
   "source": [
    "# In der Pipfile.lock stehen noch die Dependencies vom Paket pytest\n",
    "# Aber wie werden die jetzt wieder los?\n",
    "!cat Pipfile.lock"
   ]
  },
  {
   "cell_type": "code",
   "execution_count": 73,
   "id": "383f3d78-8167-4fb5-9ab3-f138640b3eec",
   "metadata": {},
   "outputs": [
    {
     "name": "stdout",
     "output_type": "stream",
     "text": [
      "Locking\u001b[0m \u001b[33m[packages]\u001b[0m dependencies...\u001b[0m\n",
      "Locking\u001b[0m \u001b[33m[dev-packages]\u001b[0m dependencies...\u001b[0m\n",
      "\u001b[1mUpdated Pipfile.lock (79c09cbcdef4a30c253b5e173db568037794c8207662736006c8b0976c3dcc15)!\u001b[0m\n",
      "\u001b[0m"
     ]
    }
   ],
   "source": [
    "# Lösung: alle alten Dependencies entfernen. Schritt 1: Pipfile.lock löschen, eine neue Pipfile.lock aus Pipfile erzeugen\n",
    "!rm Pipfile.lock\n",
    "!pipenv lock"
   ]
  },
  {
   "cell_type": "code",
   "execution_count": 74,
   "id": "2c150c56-0773-4661-a6f6-c6ed9310020b",
   "metadata": {},
   "outputs": [
    {
     "name": "stdout",
     "output_type": "stream",
     "text": [
      "{\n",
      "    \"_meta\": {\n",
      "        \"hash\": {\n",
      "            \"sha256\": \"79c09cbcdef4a30c253b5e173db568037794c8207662736006c8b0976c3dcc15\"\n",
      "        },\n",
      "        \"pipfile-spec\": 6,\n",
      "        \"requires\": {\n",
      "            \"python_full_version\": \"3.8.10\",\n",
      "            \"python_version\": \"3.8\"\n",
      "        },\n",
      "        \"sources\": [\n",
      "            {\n",
      "                \"name\": \"pypi\",\n",
      "                \"url\": \"https://pypi.org/simple\",\n",
      "                \"verify_ssl\": true\n",
      "            }\n",
      "        ]\n",
      "    },\n",
      "    \"default\": {},\n",
      "    \"develop\": {}\n",
      "}\n"
     ]
    }
   ],
   "source": [
    "!cat Pipfile.lock"
   ]
  },
  {
   "cell_type": "code",
   "execution_count": 75,
   "id": "c7fc5dd0-056a-4048-a5ed-a16166066fea",
   "metadata": {},
   "outputs": [
    {
     "name": "stdout",
     "output_type": "stream",
     "text": [
      "\u001b[37m\u001b[1mUninstalling numpy...\u001b[0m\n",
      "\u001b[37m\u001b[1mUninstalling python-dateutil...\u001b[0m\n",
      "\u001b[37m\u001b[1mUninstalling tomli...\u001b[0m\n",
      "\u001b[37m\u001b[1mUninstalling iniconfig...\u001b[0m\n",
      "\u001b[37m\u001b[1mUninstalling exceptiongroup...\u001b[0m\n",
      "\u001b[37m\u001b[1mUninstalling pyparsing...\u001b[0m\n",
      "\u001b[37m\u001b[1mUninstalling six...\u001b[0m\n",
      "\u001b[37m\u001b[1mUninstalling packaging...\u001b[0m\n",
      "\u001b[37m\u001b[1mUninstalling pytz...\u001b[0m\n",
      "\u001b[37m\u001b[1mUninstalling attrs...\u001b[0m\n",
      "\u001b[37m\u001b[1mUninstalling pluggy...\u001b[0m\n",
      "\u001b[0m"
     ]
    }
   ],
   "source": [
    "# Lösung: alle alten Dependencies entfernen. Schritt 2: Nur die Pakete installieren, die auch in Pipfile.lock genannt sind\n",
    "!pipenv clean"
   ]
  },
  {
   "cell_type": "code",
   "execution_count": 76,
   "id": "80d391d9-eee3-4cdc-b648-c668cb9df3cf",
   "metadata": {},
   "outputs": [
    {
     "name": "stdout",
     "output_type": "stream",
     "text": [
      "Package    Version\n",
      "---------- -------\n",
      "pip        22.2.2\n",
      "setuptools 65.4.1\n",
      "wheel      0.37.1\n"
     ]
    }
   ],
   "source": [
    "!pipenv run pip list"
   ]
  },
  {
   "cell_type": "code",
   "execution_count": 77,
   "id": "42158efd-b8ed-4416-a913-2df9c3a6d113",
   "metadata": {},
   "outputs": [
    {
     "name": "stdout",
     "output_type": "stream",
     "text": [
      "\u001b[0m"
     ]
    }
   ],
   "source": [
    "!pipenv graph"
   ]
  },
  {
   "cell_type": "markdown",
   "id": "41ecfdc0-e7f5-4cdb-9fb7-abcd08b1d0f1",
   "metadata": {},
   "source": [
    "# Reproduktion einer Umgebung mit `sync`"
   ]
  },
  {
   "cell_type": "markdown",
   "id": "e7a3b556-e86b-4ea0-8e15-ef9d9d583b00",
   "metadata": {},
   "source": [
    "## Eine Umgebung, die wir woanders reproduzieren wollen vorbereiten"
   ]
  },
  {
   "cell_type": "code",
   "execution_count": 83,
   "id": "41b575e8-2cd2-4387-9a0f-31da64d796fd",
   "metadata": {},
   "outputs": [
    {
     "name": "stdout",
     "output_type": "stream",
     "text": [
      "/home/juebrauer/packaging/entwickler1/projA\n"
     ]
    }
   ],
   "source": [
    "# Wir bereiten erstmal ein paar Pakete in projA von entwickler1 vor\n",
    "%cd ~/packaging/entwickler1/projA"
   ]
  },
  {
   "cell_type": "code",
   "execution_count": 87,
   "id": "2b9bfb2c-67e0-43b0-a940-052d88fabbf2",
   "metadata": {},
   "outputs": [
    {
     "name": "stdout",
     "output_type": "stream",
     "text": [
      "\u001b[1mRemoving virtualenv\u001b[0m (\u001b[32m/home/juebrauer/.local/share/virtualenvs/projA-9syro94U\u001b[0m)...\u001b[0m\n",
      "\u001b[K\u001b[?25h\u001b[0m...\u001b["
     ]
    }
   ],
   "source": [
    "!pipenv --rm"
   ]
  },
  {
   "cell_type": "code",
   "execution_count": 88,
   "id": "76f68d85-754e-4a63-81ee-c02e8439a981",
   "metadata": {},
   "outputs": [],
   "source": [
    "!rm Pipfile\n",
    "!rm Pipfile.lock"
   ]
  },
  {
   "cell_type": "code",
   "execution_count": 89,
   "id": "8b07f9cd-88d2-4a5e-bbf8-31793c5b7835",
   "metadata": {},
   "outputs": [
    {
     "name": "stdout",
     "output_type": "stream",
     "text": [
      "\u001b[1mCreating a virtualenv for this project...\u001b[0m\n",
      "Pipfile: \u001b[33m\u001b[1m/home/juebrauer/packaging/entwickler1/projA/Pipfile\u001b[0m\n",
      "\u001b[1mUsing\u001b[0m \u001b[33m\u001b[1m/usr/bin/python3\u001b[0m \u001b[32m(3.8.10)\u001b[0m \u001b[1mto create virtualenv...\u001b[0m\n",
      "⠹\u001b[0m Creating virtual environment...\u001b[K\u001b[36mcreated virtual environment CPython3.8.10.final.0-64 in 135ms\n",
      "  creator Venv(dest=/home/juebrauer/.local/share/virtualenvs/projA-9syro94U, clear=False, no_vcs_ignore=False, global=False, describe=CPython3Posix)\n",
      "  seeder FromAppData(download=False, pip=bundle, setuptools=bundle, wheel=bundle, via=copy, app_data_dir=/home/juebrauer/.local/share/virtualenv)\n",
      "    added seed packages: pip==22.2.2, setuptools==65.4.1, wheel==0.37.1\n",
      "  activators BashActivator,CShellActivator,FishActivator,NushellActivator,PowerShellActivator,PythonActivator\n",
      "\u001b[0m\n",
      "\u001b[K\u001b[?25h\u001b[32m\u001b[22m✔ Successfully created virtual environment!\u001b[39m\u001b[22m\u001b[0m \n",
      "\u001b[32mVirtualenv location: /home/juebrauer/.local/share/virtualenvs/projA-9syro94U\u001b[0m\n",
      "\u001b[1mCreating a Pipfile for this project...\u001b[0m\n",
      "\u001b[32m\u001b[1mInstalling pandas...\u001b[0m\n",
      "\u001b[K\u001b[1mAdding\u001b[0m \u001b[32m\u001b[1mpandas\u001b[0m \u001b[1mto Pipfile's\u001b[0m \u001b[33m\u001b[1m[packages]\u001b[0m\u001b[1m...\u001b[0m\n",
      "\u001b[K\u001b[?25h✔ Installation Succeeded\u001b[0m \n",
      "\u001b[1mPipfile.lock not found, creating...\u001b[0m\n",
      "Locking\u001b[0m \u001b[33m[packages]\u001b[0m dependencies...\u001b[0m\n",
      "\u001b[KBuilding requirements...\n",
      "\u001b[KResolving dependencies...\n",
      "\u001b[K\u001b[?25h\u001b[32m\u001b[22m✔ Success!\u001b[39m\u001b[22m\u001b[0m \n",
      "Locking\u001b[0m \u001b[33m[dev-packages]\u001b[0m dependencies...\u001b[0m\n",
      "\u001b[1mUpdated Pipfile.lock (44a2006c840cfcfa4b8855e84f23bc17646a2b9634c870d36836c27d43571d6c)!\u001b[0m\n",
      "\u001b[1mInstalling dependencies from Pipfile.lock (571d6c)...\u001b[0m\n",
      "To activate this project's virtualenv, run \u001b[33mpipenv shell\u001b[0m.\n",
      "Alternatively, run a command inside the virtualenv with \u001b[33mpipenv run\u001b[0m.\n",
      "\u001b[0m"
     ]
    }
   ],
   "source": [
    "!pipenv install pandas"
   ]
  },
  {
   "cell_type": "code",
   "execution_count": 90,
   "id": "25c93efb-ffa0-44e2-9a06-53bcb0a6d37f",
   "metadata": {},
   "outputs": [
    {
     "name": "stdout",
     "output_type": "stream",
     "text": [
      "\u001b[32m\u001b[1mInstalling pytest...\u001b[0m\n",
      "\u001b[K\u001b[1mAdding\u001b[0m \u001b[32m\u001b[1mpytest\u001b[0m \u001b[1mto Pipfile's\u001b[0m \u001b[33m\u001b[1m[dev-packages]\u001b[0m\u001b[1m...\u001b[0m\n",
      "\u001b[K\u001b[?25h✔ Installation Succeeded\u001b[0m \n",
      "\u001b[33m\u001b[1mPipfile.lock (571d6c) out of date, updating to (58453c)...\u001b[0m\n",
      "Locking\u001b[0m \u001b[33m[packages]\u001b[0m dependencies...\u001b[0m\n",
      "\u001b[KBuilding requirements...\n",
      "\u001b[KResolving dependencies...\n",
      "\u001b[K\u001b[?25h\u001b[32m\u001b[22m✔ Success!\u001b[39m\u001b[22m\u001b[0m \n",
      "Locking\u001b[0m \u001b[33m[dev-packages]\u001b[0m dependencies...\u001b[0m\n",
      "\u001b[K\u001b[KBuilding requirements...\n",
      "\u001b[KResolving dependencies...\n",
      "\u001b[K\u001b[?25h\u001b[32m\u001b[22m✔ Success!\u001b[39m\u001b[22m\u001b[0m \n",
      "\u001b[1mUpdated Pipfile.lock (801ec589a9dad5796381432b5adb894bf8ea44ee9c31005d94ce5c6b0258453c)!\u001b[0m\n",
      "\u001b[1mInstalling dependencies from Pipfile.lock (58453c)...\u001b[0m\n",
      "\u001b[1mInstalling dependencies from Pipfile.lock (58453c)...\u001b[0m\n",
      "To activate this project's virtualenv, run \u001b[33mpipenv shell\u001b[0m.\n",
      "Alternatively, run a command inside the virtualenv with \u001b[33mpipenv run\u001b[0m.\n",
      "\u001b[0m"
     ]
    }
   ],
   "source": [
    "!pipenv install --dev pytest"
   ]
  },
  {
   "cell_type": "code",
   "execution_count": 91,
   "id": "1dafc6b6-8861-4c6e-8151-3347a6a0f3b4",
   "metadata": {},
   "outputs": [
    {
     "name": "stdout",
     "output_type": "stream",
     "text": [
      "\u001b[1mpandas==1.5.1\u001b[0m\n",
      "\u001b[22m  - numpy [required: >=1.20.3, installed: 1.23.4]\u001b[0m\n",
      "\u001b[22m  - python-dateutil [required: >=2.8.1, installed: 2.8.2]\u001b[0m\n",
      "\u001b[22m    - six [required: >=1.5, installed: 1.16.0]\u001b[0m\n",
      "\u001b[22m  - pytz [required: >=2020.1, installed: 2022.6]\u001b[0m\n",
      "\u001b[1mpytest==7.2.0\u001b[0m\n",
      "\u001b[22m  - attrs [required: >=19.2.0, installed: 22.1.0]\u001b[0m\n",
      "\u001b[22m  - exceptiongroup [required: >=1.0.0rc8, installed: 1.0.0]\u001b[0m\n",
      "\u001b[22m  - iniconfig [required: Any, installed: 1.1.1]\u001b[0m\n",
      "\u001b[22m  - packaging [required: Any, installed: 21.3]\u001b[0m\n",
      "\u001b[22m    - pyparsing [required: >=2.0.2,!=3.0.5, installed: 3.0.9]\u001b[0m\n",
      "\u001b[22m  - pluggy [required: >=0.12,<2.0, installed: 1.0.0]\u001b[0m\n",
      "\u001b[22m  - tomli [required: >=1.0.0, installed: 2.0.1]\u001b[0m\n",
      "\u001b[0m"
     ]
    }
   ],
   "source": [
    "!pipenv graph"
   ]
  },
  {
   "cell_type": "code",
   "execution_count": 93,
   "id": "8dbe20d1-54b7-4a6b-85f1-ff7849e72541",
   "metadata": {},
   "outputs": [
    {
     "name": "stdout",
     "output_type": "stream",
     "text": [
      "Package         Version\n",
      "--------------- -------\n",
      "attrs           22.1.0\n",
      "exceptiongroup  1.0.0\n",
      "iniconfig       1.1.1\n",
      "numpy           1.23.4\n",
      "packaging       21.3\n",
      "pandas          1.5.1\n",
      "pip             22.2.2\n",
      "pluggy          1.0.0\n",
      "pyparsing       3.0.9\n",
      "pytest          7.2.0\n",
      "python-dateutil 2.8.2\n",
      "pytz            2022.6\n",
      "setuptools      65.4.1\n",
      "six             1.16.0\n",
      "tomli           2.0.1\n",
      "wheel           0.37.1\n"
     ]
    }
   ],
   "source": [
    "!pipenv run pip list"
   ]
  },
  {
   "cell_type": "code",
   "execution_count": 94,
   "id": "5aa98133-1e56-4c43-9c0e-2d6a89d4fddb",
   "metadata": {},
   "outputs": [
    {
     "name": "stdout",
     "output_type": "stream",
     "text": [
      "Pipfile  Pipfile.lock\n"
     ]
    }
   ],
   "source": [
    "!ls"
   ]
  },
  {
   "cell_type": "markdown",
   "id": "2e8e7b52-8bcc-4b81-8c69-1311d86c50dd",
   "metadata": {},
   "source": [
    "## Reproduktion einer Entwickler-Umgebung aus Pipfile.lock"
   ]
  },
  {
   "cell_type": "code",
   "execution_count": 95,
   "id": "6e5335a3-0356-4297-bd33-96308084f251",
   "metadata": {},
   "outputs": [
    {
     "name": "stdout",
     "output_type": "stream",
     "text": [
      "/home/juebrauer/packaging/entwickler2/projA\n"
     ]
    }
   ],
   "source": [
    "%cd ~/packaging/entwickler2/projA"
   ]
  },
  {
   "cell_type": "code",
   "execution_count": 106,
   "id": "b4d198ce-9d43-4faa-8430-1e8d7199ce87",
   "metadata": {},
   "outputs": [
    {
     "name": "stdout",
     "output_type": "stream",
     "text": [
      "/home/juebrauer/packaging/entwickler2/projA\n"
     ]
    }
   ],
   "source": [
    "!pwd"
   ]
  },
  {
   "cell_type": "code",
   "execution_count": 127,
   "id": "27fba0ea-1a4a-4bdd-8f69-d64092447bf3",
   "metadata": {},
   "outputs": [
    {
     "name": "stdout",
     "output_type": "stream",
     "text": [
      "\u001b[31m\u001b[1mNo virtualenv has been created for this project yet!\u001b[0m\n",
      "Aborted!\n",
      "\u001b[0m"
     ]
    }
   ],
   "source": [
    "!pipenv --rm\n",
    "!rm Pipfile\n",
    "!rm Pipfile.lock"
   ]
  },
  {
   "cell_type": "code",
   "execution_count": 128,
   "id": "0dcdab7b-afa4-41dc-9206-2cf1b6d1f480",
   "metadata": {},
   "outputs": [
    {
     "name": "stdout",
     "output_type": "stream",
     "text": [
      "No Pipfile present at project home. Consider running \u001b[32m`pipenv install`\u001b[0m first to automatically generate a Pipfile for you.\n",
      "\u001b[0m"
     ]
    }
   ],
   "source": [
    "!pipenv --where"
   ]
  },
  {
   "cell_type": "code",
   "execution_count": 129,
   "id": "719dec1c-7754-4d8e-ba22-08df205b4cba",
   "metadata": {},
   "outputs": [],
   "source": [
    "!cp ~/packaging/entwickler1/projA/Pipfile.lock ~/packaging/entwickler2/projA"
   ]
  },
  {
   "cell_type": "code",
   "execution_count": 130,
   "id": "dc88c53a-0120-494c-85fe-fb731165d878",
   "metadata": {},
   "outputs": [
    {
     "name": "stdout",
     "output_type": "stream",
     "text": [
      "Pipfile.lock\n"
     ]
    }
   ],
   "source": [
    "!ls"
   ]
  },
  {
   "cell_type": "code",
   "execution_count": 131,
   "id": "7bf4e0e3-3bd4-4d82-a781-ab4db8e69a3d",
   "metadata": {},
   "outputs": [
    {
     "name": "stdout",
     "output_type": "stream",
     "text": [
      "\u001b[31m\u001b[1mWarning\u001b[0m: No virtualenv has been created for this project yet! Consider running \u001b[32m`pipenv install`\u001b[0m first to automatically generate one for you or see \u001b[32m`pipenv install --help`\u001b[0m for further instructions.\n",
      "\u001b[0m"
     ]
    }
   ],
   "source": [
    "# Bisher ist hier nix installiert\n",
    "!pipenv graph"
   ]
  },
  {
   "cell_type": "code",
   "execution_count": 132,
   "id": "a862c25d-9a58-469d-9f37-be6db790ced4",
   "metadata": {},
   "outputs": [
    {
     "name": "stdout",
     "output_type": "stream",
     "text": [
      "\u001b[1mCreating a virtualenv for this project...\u001b[0m\n",
      "Pipfile: \u001b[33m\u001b[1m/home/juebrauer/packaging/entwickler2/projA/Pipfile\u001b[0m\n",
      "\u001b[1mUsing\u001b[0m \u001b[33m\u001b[1m/usr/bin/python3\u001b[0m \u001b[32m(3.8.10)\u001b[0m \u001b[1mto create virtualenv...\u001b[0m\n",
      "⠹\u001b[0m Creating virtual environment...\u001b[K\u001b[36mcreated virtual environment CPython3.8.10.final.0-64 in 132ms\n",
      "  creator Venv(dest=/home/juebrauer/.local/share/virtualenvs/projA--VdCBTC_, clear=False, no_vcs_ignore=False, global=False, describe=CPython3Posix)\n",
      "  seeder FromAppData(download=False, pip=bundle, setuptools=bundle, wheel=bundle, via=copy, app_data_dir=/home/juebrauer/.local/share/virtualenv)\n",
      "    added seed packages: pip==22.2.2, setuptools==65.4.1, wheel==0.37.1\n",
      "  activators BashActivator,CShellActivator,FishActivator,NushellActivator,PowerShellActivator,PythonActivator\n",
      "\u001b[0m\n",
      "\u001b[K\u001b[?25h\u001b[32m\u001b[22m✔ Successfully created virtual environment!\u001b[39m\u001b[22m\u001b[0m \n",
      "\u001b[32mVirtualenv location: /home/juebrauer/.local/share/virtualenvs/projA--VdCBTC_\u001b[0m\n",
      "\u001b[1mCreating a Pipfile for this project...\u001b[0m\n",
      "\u001b[1mInstalling dependencies from Pipfile.lock (58453c)...\u001b[0m\n",
      "\u001b[1mInstalling dependencies from Pipfile.lock (58453c)...\u001b[0m\n",
      "To activate this project's virtualenv, run \u001b[33mpipenv shell\u001b[0m.\n",
      "Alternatively, run a command inside the virtualenv with \u001b[33mpipenv run\u001b[0m.\n",
      "\u001b[32mAll dependencies are now up-to-date!\u001b[0m\n",
      "\u001b[0m"
     ]
    }
   ],
   "source": [
    "# Installiere alle Pakete, die in Pipfile.lock spezifiziert sind\n",
    "# in exakt der gleichen Version\n",
    "!pipenv sync --dev"
   ]
  },
  {
   "cell_type": "code",
   "execution_count": 133,
   "id": "046903a1-6862-42a7-bebc-ff8d9a751cdf",
   "metadata": {},
   "outputs": [
    {
     "name": "stdout",
     "output_type": "stream",
     "text": [
      "Pipfile  Pipfile.lock\n"
     ]
    }
   ],
   "source": [
    "!ls"
   ]
  },
  {
   "cell_type": "code",
   "execution_count": 134,
   "id": "1d58ac8e-41a0-44d9-a22c-5baf73da933c",
   "metadata": {},
   "outputs": [
    {
     "name": "stdout",
     "output_type": "stream",
     "text": [
      "[[source]]\n",
      "url = \"https://pypi.org/simple\"\n",
      "verify_ssl = true\n",
      "name = \"pypi\"\n",
      "\n",
      "[packages]\n",
      "\n",
      "[dev-packages]\n",
      "\n",
      "[requires]\n",
      "python_version = \"3.8\"\n"
     ]
    }
   ],
   "source": [
    "!cat Pipfile"
   ]
  },
  {
   "cell_type": "code",
   "execution_count": 135,
   "id": "03f4ed3c-d85b-4c97-9a4f-bc09c8cdf0c7",
   "metadata": {},
   "outputs": [
    {
     "name": "stdout",
     "output_type": "stream",
     "text": [
      "{\n",
      "    \"_meta\": {\n",
      "        \"hash\": {\n",
      "            \"sha256\": \"801ec589a9dad5796381432b5adb894bf8ea44ee9c31005d94ce5c6b0258453c\"\n",
      "        },\n",
      "        \"pipfile-spec\": 6,\n",
      "        \"requires\": {\n",
      "            \"python_version\": \"3.8\"\n",
      "        },\n",
      "        \"sources\": [\n",
      "            {\n",
      "                \"name\": \"pypi\",\n",
      "                \"url\": \"https://pypi.org/simple\",\n",
      "                \"verify_ssl\": true\n",
      "            }\n",
      "        ]\n",
      "    },\n",
      "    \"default\": {\n",
      "        \"numpy\": {\n",
      "            \"hashes\": [\n",
      "                \"sha256:0fe563fc8ed9dc4474cbf70742673fc4391d70f4363f917599a7fa99f042d5a8\",\n",
      "                \"sha256:12ac457b63ec8ded85d85c1e17d85efd3c2b0967ca39560b307a35a6703a4735\",\n",
      "                \"sha256:2341f4ab6dba0834b685cce16dad5f9b6606ea8a00e6da154f5dbded70fdc4dd\",\n",
      "                \"sha256:296d17aed51161dbad3c67ed6d164e51fcd18dbcd5dd4f9d0a9c6055dce30810\",\n",
      "                \"sha256:488a66cb667359534bc70028d653ba1cf307bae88eab5929cd707c761ff037db\",\n",
      "                \"sha256:4d52914c88b4930dafb6c48ba5115a96cbab40f45740239d9f4159c4ba779962\",\n",
      "                \"sha256:5e13030f8793e9ee42f9c7d5777465a560eb78fa7e11b1c053427f2ccab90c79\",\n",
      "                \"sha256:61be02e3bf810b60ab74e81d6d0d36246dbfb644a462458bb53b595791251911\",\n",
      "                \"sha256:7607b598217745cc40f751da38ffd03512d33ec06f3523fb0b5f82e09f6f676d\",\n",
      "                \"sha256:7a70a7d3ce4c0e9284e92285cba91a4a3f5214d87ee0e95928f3614a256a1488\",\n",
      "                \"sha256:7ab46e4e7ec63c8a5e6dbf5c1b9e1c92ba23a7ebecc86c336cb7bf3bd2fb10e5\",\n",
      "                \"sha256:8981d9b5619569899666170c7c9748920f4a5005bf79c72c07d08c8a035757b0\",\n",
      "                \"sha256:8c053d7557a8f022ec823196d242464b6955a7e7e5015b719e76003f63f82d0f\",\n",
      "                \"sha256:926db372bc4ac1edf81cfb6c59e2a881606b409ddc0d0920b988174b2e2a767f\",\n",
      "                \"sha256:95d79ada05005f6f4f337d3bb9de8a7774f259341c70bc88047a1f7b96a4bcb2\",\n",
      "                \"sha256:95de7dc7dc47a312f6feddd3da2500826defdccbc41608d0031276a24181a2c0\",\n",
      "                \"sha256:a0882323e0ca4245eb0a3d0a74f88ce581cc33aedcfa396e415e5bba7bf05f68\",\n",
      "                \"sha256:a8365b942f9c1a7d0f0dc974747d99dd0a0cdfc5949a33119caf05cb314682d3\",\n",
      "                \"sha256:a8aae2fb3180940011b4862b2dd3756616841c53db9734b27bb93813cd79fce6\",\n",
      "                \"sha256:c237129f0e732885c9a6076a537e974160482eab8f10db6292e92154d4c67d71\",\n",
      "                \"sha256:c67b833dbccefe97cdd3f52798d430b9d3430396af7cdb2a0c32954c3ef73894\",\n",
      "                \"sha256:ce03305dd694c4873b9429274fd41fc7eb4e0e4dea07e0af97a933b079a5814f\",\n",
      "                \"sha256:d331afac87c92373826af83d2b2b435f57b17a5c74e6268b79355b970626e329\",\n",
      "                \"sha256:dada341ebb79619fe00a291185bba370c9803b1e1d7051610e01ed809ef3a4ba\",\n",
      "                \"sha256:ed2cc92af0efad20198638c69bb0fc2870a58dabfba6eb722c933b48556c686c\",\n",
      "                \"sha256:f260da502d7441a45695199b4e7fd8ca87db659ba1c78f2bbf31f934fe76ae0e\",\n",
      "                \"sha256:f2f390aa4da44454db40a1f0201401f9036e8d578a25f01a6e237cea238337ef\",\n",
      "                \"sha256:f76025acc8e2114bb664294a07ede0727aa75d63a06d2fae96bf29a81747e4a7\"\n",
      "            ],\n",
      "            \"markers\": \"python_version < '3.10'\",\n",
      "            \"version\": \"==1.23.4\"\n",
      "        },\n",
      "        \"pandas\": {\n",
      "            \"hashes\": [\n",
      "                \"sha256:04e51b01d5192499390c0015630975f57836cc95c7411415b499b599b05c0c96\",\n",
      "                \"sha256:05c527c64ee02a47a24031c880ee0ded05af0623163494173204c5b72ddce658\",\n",
      "                \"sha256:0a78e05ec09731c5b3bd7a9805927ea631fe6f6cb06f0e7c63191a9a778d52b4\",\n",
      "                \"sha256:17da7035d9e6f9ea9cdc3a513161f8739b8f8489d31dc932bc5a29a27243f93d\",\n",
      "                \"sha256:249cec5f2a5b22096440bd85c33106b6102e0672204abd2d5c014106459804ee\",\n",
      "                \"sha256:2c25e5c16ee5c0feb6cf9d982b869eec94a22ddfda9aa2fbed00842cbb697624\",\n",
      "                \"sha256:32e3d9f65606b3f6e76555bfd1d0b68d94aff0929d82010b791b6254bf5a4b96\",\n",
      "                \"sha256:36aa1f8f680d7584e9b572c3203b20d22d697c31b71189322f16811d4ecfecd3\",\n",
      "                \"sha256:5b0c970e2215572197b42f1cff58a908d734503ea54b326412c70d4692256391\",\n",
      "                \"sha256:5cee0c74e93ed4f9d39007e439debcaadc519d7ea5c0afc3d590a3a7b2edf060\",\n",
      "                \"sha256:669c8605dba6c798c1863157aefde959c1796671ffb342b80fcb80a4c0bc4c26\",\n",
      "                \"sha256:66a1ad667b56e679e06ba73bb88c7309b3f48a4c279bd3afea29f65a766e9036\",\n",
      "                \"sha256:683779e5728ac9138406c59a11e09cd98c7d2c12f0a5fc2b9c5eecdbb4a00075\",\n",
      "                \"sha256:6bb391659a747cf4f181a227c3e64b6d197100d53da98dcd766cc158bdd9ec68\",\n",
      "                \"sha256:81f0674fa50b38b6793cd84fae5d67f58f74c2d974d2cb4e476d26eee33343d0\",\n",
      "                \"sha256:927e59c694e039c75d7023465d311277a1fc29ed7236b5746e9dddf180393113\",\n",
      "                \"sha256:932d2d7d3cab44cfa275601c982f30c2d874722ef6396bb539e41e4dc4618ed4\",\n",
      "                \"sha256:a52419d9ba5906db516109660b114faf791136c94c1a636ed6b29cbfff9187ee\",\n",
      "                \"sha256:b156a971bc451c68c9e1f97567c94fd44155f073e3bceb1b0d195fd98ed12048\",\n",
      "                \"sha256:bcf1a82b770b8f8c1e495b19a20d8296f875a796c4fe6e91da5ef107f18c5ecb\",\n",
      "                \"sha256:cb2a9cf1150302d69bb99861c5cddc9c25aceacb0a4ef5299785d0f5389a3209\",\n",
      "                \"sha256:d8c709f4700573deb2036d240d140934df7e852520f4a584b2a8d5443b71f54d\",\n",
      "                \"sha256:db45b94885000981522fb92349e6b76f5aee0924cc5315881239c7859883117d\",\n",
      "                \"sha256:ddf46b940ef815af4e542697eaf071f0531449407a7607dd731bf23d156e20a7\",\n",
      "                \"sha256:e675f8fe9aa6c418dc8d3aac0087b5294c1a4527f1eacf9fe5ea671685285454\",\n",
      "                \"sha256:eb7e8cf2cf11a2580088009b43de84cabbf6f5dae94ceb489f28dba01a17cb77\",\n",
      "                \"sha256:f340331a3f411910adfb4bbe46c2ed5872d9e473a783d7f14ecf49bc0869c594\"\n",
      "            ],\n",
      "            \"index\": \"pypi\",\n",
      "            \"version\": \"==1.5.1\"\n",
      "        },\n",
      "        \"python-dateutil\": {\n",
      "            \"hashes\": [\n",
      "                \"sha256:0123cacc1627ae19ddf3c27a5de5bd67ee4586fbdd6440d9748f8abb483d3e86\",\n",
      "                \"sha256:961d03dc3453ebbc59dbdea9e4e11c5651520a876d0f4db161e8674aae935da9\"\n",
      "            ],\n",
      "            \"markers\": \"python_version >= '2.7' and python_version not in '3.0, 3.1, 3.2, 3.3'\",\n",
      "            \"version\": \"==2.8.2\"\n",
      "        },\n",
      "        \"pytz\": {\n",
      "            \"hashes\": [\n",
      "                \"sha256:222439474e9c98fced559f1709d89e6c9cbf8d79c794ff3eb9f8800064291427\",\n",
      "                \"sha256:e89512406b793ca39f5971bc999cc538ce125c0e51c27941bef4568b460095e2\"\n",
      "            ],\n",
      "            \"version\": \"==2022.6\"\n",
      "        },\n",
      "        \"six\": {\n",
      "            \"hashes\": [\n",
      "                \"sha256:1e61c37477a1626458e36f7b1d82aa5c9b094fa4802892072e49de9c60c4c926\",\n",
      "                \"sha256:8abb2f1d86890a2dfb989f9a77cfcfd3e47c2a354b01111771326f8aa26e0254\"\n",
      "            ],\n",
      "            \"markers\": \"python_version >= '2.7' and python_version not in '3.0, 3.1, 3.2, 3.3'\",\n",
      "            \"version\": \"==1.16.0\"\n",
      "        }\n",
      "    },\n",
      "    \"develop\": {\n",
      "        \"attrs\": {\n",
      "            \"hashes\": [\n",
      "                \"sha256:29adc2665447e5191d0e7c568fde78b21f9672d344281d0c6e1ab085429b22b6\",\n",
      "                \"sha256:86efa402f67bf2df34f51a335487cf46b1ec130d02b8d39fd248abfd30da551c\"\n",
      "            ],\n",
      "            \"markers\": \"python_version >= '3.5'\",\n",
      "            \"version\": \"==22.1.0\"\n",
      "        },\n",
      "        \"exceptiongroup\": {\n",
      "            \"hashes\": [\n",
      "                \"sha256:2ac84b496be68464a2da60da518af3785fff8b7ec0d090a581604bc870bdee41\",\n",
      "                \"sha256:affbabf13fb6e98988c38d9c5650e701569fe3c1de3233cfb61c5f33774690ad\"\n",
      "            ],\n",
      "            \"markers\": \"python_version < '3.11'\",\n",
      "            \"version\": \"==1.0.0\"\n",
      "        },\n",
      "        \"iniconfig\": {\n",
      "            \"hashes\": [\n",
      "                \"sha256:011e24c64b7f47f6ebd835bb12a743f2fbe9a26d4cecaa7f53bc4f35ee9da8b3\",\n",
      "                \"sha256:bc3af051d7d14b2ee5ef9969666def0cd1a000e121eaea580d4a313df4b37f32\"\n",
      "            ],\n",
      "            \"version\": \"==1.1.1\"\n",
      "        },\n",
      "        \"packaging\": {\n",
      "            \"hashes\": [\n",
      "                \"sha256:dd47c42927d89ab911e606518907cc2d3a1f38bbd026385970643f9c5b8ecfeb\",\n",
      "                \"sha256:ef103e05f519cdc783ae24ea4e2e0f508a9c99b2d4969652eed6a2e1ea5bd522\"\n",
      "            ],\n",
      "            \"markers\": \"python_version >= '3.6'\",\n",
      "            \"version\": \"==21.3\"\n",
      "        },\n",
      "        \"pluggy\": {\n",
      "            \"hashes\": [\n",
      "                \"sha256:4224373bacce55f955a878bf9cfa763c1e360858e330072059e10bad68531159\",\n",
      "                \"sha256:74134bbf457f031a36d68416e1509f34bd5ccc019f0bcc952c7b909d06b37bd3\"\n",
      "            ],\n",
      "            \"markers\": \"python_version >= '3.6'\",\n",
      "            \"version\": \"==1.0.0\"\n",
      "        },\n",
      "        \"pyparsing\": {\n",
      "            \"hashes\": [\n",
      "                \"sha256:2b020ecf7d21b687f219b71ecad3631f644a47f01403fa1d1036b0c6416d70fb\",\n",
      "                \"sha256:5026bae9a10eeaefb61dab2f09052b9f4307d44aee4eda64b309723d8d206bbc\"\n",
      "            ],\n",
      "            \"markers\": \"python_full_version >= '3.6.8'\",\n",
      "            \"version\": \"==3.0.9\"\n",
      "        },\n",
      "        \"pytest\": {\n",
      "            \"hashes\": [\n",
      "                \"sha256:892f933d339f068883b6fd5a459f03d85bfcb355e4981e146d2c7616c21fef71\",\n",
      "                \"sha256:c4014eb40e10f11f355ad4e3c2fb2c6c6d1919c73f3b5a433de4708202cade59\"\n",
      "            ],\n",
      "            \"index\": \"pypi\",\n",
      "            \"version\": \"==7.2.0\"\n",
      "        },\n",
      "        \"tomli\": {\n",
      "            \"hashes\": [\n",
      "                \"sha256:939de3e7a6161af0c887ef91b7d41a53e7c5a1ca976325f429cb46ea9bc30ecc\",\n",
      "                \"sha256:de526c12914f0c550d15924c62d72abc48d6fe7364aa87328337a31007fe8a4f\"\n",
      "            ],\n",
      "            \"markers\": \"python_version < '3.11'\",\n",
      "            \"version\": \"==2.0.1\"\n",
      "        }\n",
      "    }\n",
      "}\n"
     ]
    }
   ],
   "source": [
    "!cat Pipfile.lock"
   ]
  },
  {
   "cell_type": "code",
   "execution_count": 136,
   "id": "840ca598-b0ef-406d-9a68-e3ef13ee1b50",
   "metadata": {},
   "outputs": [
    {
     "name": "stdout",
     "output_type": "stream",
     "text": [
      "\u001b[1mpandas==1.5.1\u001b[0m\n",
      "\u001b[22m  - numpy [required: >=1.20.3, installed: 1.23.4]\u001b[0m\n",
      "\u001b[22m  - python-dateutil [required: >=2.8.1, installed: 2.8.2]\u001b[0m\n",
      "\u001b[22m    - six [required: >=1.5, installed: 1.16.0]\u001b[0m\n",
      "\u001b[22m  - pytz [required: >=2020.1, installed: 2022.6]\u001b[0m\n",
      "\u001b[1mpytest==7.2.0\u001b[0m\n",
      "\u001b[22m  - attrs [required: >=19.2.0, installed: 22.1.0]\u001b[0m\n",
      "\u001b[22m  - exceptiongroup [required: >=1.0.0rc8, installed: 1.0.0]\u001b[0m\n",
      "\u001b[22m  - iniconfig [required: Any, installed: 1.1.1]\u001b[0m\n",
      "\u001b[22m  - packaging [required: Any, installed: 21.3]\u001b[0m\n",
      "\u001b[22m    - pyparsing [required: >=2.0.2,!=3.0.5, installed: 3.0.9]\u001b[0m\n",
      "\u001b[22m  - pluggy [required: >=0.12,<2.0, installed: 1.0.0]\u001b[0m\n",
      "\u001b[22m  - tomli [required: >=1.0.0, installed: 2.0.1]\u001b[0m\n",
      "\u001b[0m"
     ]
    }
   ],
   "source": [
    "!pipenv graph"
   ]
  },
  {
   "cell_type": "code",
   "execution_count": 137,
   "id": "913ccb53-872e-43b6-bbf1-08a867bf7c01",
   "metadata": {},
   "outputs": [
    {
     "data": {
      "text/plain": [
       "'\\npandas==1.5.1\\n  - numpy [required: >=1.20.3, installed: 1.23.4]\\n  - python-dateutil [required: >=2.8.1, installed: 2.8.2]\\n    - six [required: >=1.5, installed: 1.16.0]\\n  - pytz [required: >=2020.1, installed: 2022.6]\\npytest==7.2.0\\n  - attrs [required: >=19.2.0, installed: 22.1.0]\\n  - exceptiongroup [required: >=1.0.0rc8, installed: 1.0.0]\\n  - iniconfig [required: Any, installed: 1.1.1]\\n  - packaging [required: Any, installed: 21.3]\\n    - pyparsing [required: >=2.0.2,!=3.0.5, installed: 3.0.9]\\n  - pluggy [required: >=0.12,<2.0, installed: 1.0.0]\\n  - tomli [required: >=1.0.0, installed: 2.0.1]\\n'"
      ]
     },
     "execution_count": 137,
     "metadata": {},
     "output_type": "execute_result"
    }
   ],
   "source": [
    "\"\"\"\n",
    "pandas==1.5.1\n",
    "  - numpy [required: >=1.20.3, installed: 1.23.4]\n",
    "  - python-dateutil [required: >=2.8.1, installed: 2.8.2]\n",
    "    - six [required: >=1.5, installed: 1.16.0]\n",
    "  - pytz [required: >=2020.1, installed: 2022.6]\n",
    "pytest==7.2.0\n",
    "  - attrs [required: >=19.2.0, installed: 22.1.0]\n",
    "  - exceptiongroup [required: >=1.0.0rc8, installed: 1.0.0]\n",
    "  - iniconfig [required: Any, installed: 1.1.1]\n",
    "  - packaging [required: Any, installed: 21.3]\n",
    "    - pyparsing [required: >=2.0.2,!=3.0.5, installed: 3.0.9]\n",
    "  - pluggy [required: >=0.12,<2.0, installed: 1.0.0]\n",
    "  - tomli [required: >=1.0.0, installed: 2.0.1]\n",
    "\"\"\""
   ]
  },
  {
   "cell_type": "markdown",
   "id": "cf48e77b-1451-4a29-aa8d-7c36d08b5cd2",
   "metadata": {},
   "source": [
    "## Reproduktion einer Kunden/Produkt-Umgebung aus Pipfile.lock"
   ]
  },
  {
   "cell_type": "code",
   "execution_count": 139,
   "id": "b30029e0-3af2-4595-bdb4-d3aa59d24c56",
   "metadata": {},
   "outputs": [
    {
     "name": "stdout",
     "output_type": "stream",
     "text": [
      "\u001b[01;34m/home/juebrauer/packaging\u001b[00m\n",
      "├── \u001b[01;34mentwickler1\u001b[00m\n",
      "│   ├── \u001b[01;34mprojA\u001b[00m\n",
      "│   │   ├── Pipfile\n",
      "│   │   └── Pipfile.lock\n",
      "│   └── \u001b[01;34mprojB\u001b[00m\n",
      "├── \u001b[01;34mentwickler2\u001b[00m\n",
      "│   ├── \u001b[01;34mprojA\u001b[00m\n",
      "│   │   ├── Pipfile\n",
      "│   │   └── Pipfile.lock\n",
      "│   └── \u001b[01;34mprojB\u001b[00m\n",
      "└── \u001b[01;34mkunde1\u001b[00m\n",
      "    ├── \u001b[01;34mprojA\u001b[00m\n",
      "    └── \u001b[01;34mprojB\u001b[00m\n",
      "\n",
      "9 directories, 4 files\n"
     ]
    }
   ],
   "source": [
    "!tree ~/packaging"
   ]
  },
  {
   "cell_type": "code",
   "execution_count": 140,
   "id": "1553407b-8960-4643-96c8-a47397623716",
   "metadata": {},
   "outputs": [
    {
     "name": "stdout",
     "output_type": "stream",
     "text": [
      "/home/juebrauer/packaging/kunde1/projA\n"
     ]
    }
   ],
   "source": [
    "%cd ~/packaging/kunde1/projA"
   ]
  },
  {
   "cell_type": "code",
   "execution_count": 141,
   "id": "485867c7-5b8a-4904-93de-e9dc55355f2d",
   "metadata": {},
   "outputs": [
    {
     "name": "stdout",
     "output_type": "stream",
     "text": [
      "\u001b[31m\u001b[1mNo virtualenv has been created for this project yet!\u001b[0m\n",
      "Aborted!\n",
      "\u001b[0mrm: cannot remove 'Pipfile': No such file or directory\n",
      "rm: cannot remove 'Pipfile.lock': No such file or directory\n"
     ]
    }
   ],
   "source": [
    "!pipenv --rm\n",
    "!rm Pipfile\n",
    "!rm Pipfile.lock"
   ]
  },
  {
   "cell_type": "code",
   "execution_count": 142,
   "id": "1fcc94b1-3013-4965-aee6-18390960ee79",
   "metadata": {},
   "outputs": [],
   "source": [
    "!cp ~/packaging/entwickler1/projA/Pipfile.lock ~/packaging/kunde1/projA"
   ]
  },
  {
   "cell_type": "code",
   "execution_count": 143,
   "id": "9c98853a-188a-4511-bccd-e73ad5284d7c",
   "metadata": {},
   "outputs": [
    {
     "name": "stdout",
     "output_type": "stream",
     "text": [
      "Pipfile.lock\n"
     ]
    }
   ],
   "source": [
    "!ls"
   ]
  },
  {
   "cell_type": "code",
   "execution_count": 144,
   "id": "177ff5aa-2a47-4bf6-8301-f4e60c3728ba",
   "metadata": {},
   "outputs": [
    {
     "name": "stdout",
     "output_type": "stream",
     "text": [
      "\u001b[1mCreating a virtualenv for this project...\u001b[0m\n",
      "Pipfile: \u001b[33m\u001b[1m/home/juebrauer/packaging/kunde1/projA/Pipfile\u001b[0m\n",
      "\u001b[1mUsing\u001b[0m \u001b[33m\u001b[1m/usr/bin/python3\u001b[0m \u001b[32m(3.8.10)\u001b[0m \u001b[1mto create virtualenv...\u001b[0m\n",
      "⠹\u001b[0m Creating virtual environment...\u001b[K\u001b[36mcreated virtual environment CPython3.8.10.final.0-64 in 137ms\n",
      "  creator Venv(dest=/home/juebrauer/.local/share/virtualenvs/projA-q2mqB5RC, clear=False, no_vcs_ignore=False, global=False, describe=CPython3Posix)\n",
      "  seeder FromAppData(download=False, pip=bundle, setuptools=bundle, wheel=bundle, via=copy, app_data_dir=/home/juebrauer/.local/share/virtualenv)\n",
      "    added seed packages: pip==22.2.2, setuptools==65.4.1, wheel==0.37.1\n",
      "  activators BashActivator,CShellActivator,FishActivator,NushellActivator,PowerShellActivator,PythonActivator\n",
      "\u001b[0m\n",
      "\u001b[K\u001b[?25h\u001b[32m\u001b[22m✔ Successfully created virtual environment!\u001b[39m\u001b[22m\u001b[0m \n",
      "\u001b[32mVirtualenv location: /home/juebrauer/.local/share/virtualenvs/projA-q2mqB5RC\u001b[0m\n",
      "\u001b[1mCreating a Pipfile for this project...\u001b[0m\n",
      "\u001b[1mInstalling dependencies from Pipfile.lock (58453c)...\u001b[0m\n",
      "To activate this project's virtualenv, run \u001b[33mpipenv shell\u001b[0m.\n",
      "Alternatively, run a command inside the virtualenv with \u001b[33mpipenv run\u001b[0m.\n",
      "\u001b[32mAll dependencies are now up-to-date!\u001b[0m\n",
      "\u001b[0m"
     ]
    }
   ],
   "source": [
    "# Jetzt ohne Schalter --dev, weil wir keine Entwicklerpakete haben wollen\n",
    "!pipenv sync"
   ]
  },
  {
   "cell_type": "code",
   "execution_count": 145,
   "id": "e503a595-6d5f-4de7-b4b7-b6d2af9fe535",
   "metadata": {},
   "outputs": [
    {
     "name": "stdout",
     "output_type": "stream",
     "text": [
      "\u001b[1mpandas==1.5.1\u001b[0m\n",
      "\u001b[22m  - numpy [required: >=1.20.3, installed: 1.23.4]\u001b[0m\n",
      "\u001b[22m  - python-dateutil [required: >=2.8.1, installed: 2.8.2]\u001b[0m\n",
      "\u001b[22m    - six [required: >=1.5, installed: 1.16.0]\u001b[0m\n",
      "\u001b[22m  - pytz [required: >=2020.1, installed: 2022.6]\u001b[0m\n",
      "\u001b[0m"
     ]
    }
   ],
   "source": [
    "!pipenv graph"
   ]
  },
  {
   "cell_type": "code",
   "execution_count": 146,
   "id": "f9e22406-998a-4a41-bb68-103acedef7d1",
   "metadata": {},
   "outputs": [
    {
     "name": "stdout",
     "output_type": "stream",
     "text": [
      "Package         Version\n",
      "--------------- -------\n",
      "numpy           1.23.4\n",
      "pandas          1.5.1\n",
      "pip             22.2.2\n",
      "python-dateutil 2.8.2\n",
      "pytz            2022.6\n",
      "setuptools      65.4.1\n",
      "six             1.16.0\n",
      "wheel           0.37.1\n"
     ]
    }
   ],
   "source": [
    "!pipenv run pip list"
   ]
  },
  {
   "cell_type": "markdown",
   "id": "f0a142dd-b777-4f9e-81dd-396dd012860c",
   "metadata": {},
   "source": [
    "# Reproduktion einer Umgebung mit `install`"
   ]
  },
  {
   "cell_type": "markdown",
   "id": "6ad89094-614a-46f7-83b2-c5a57978eab8",
   "metadata": {},
   "source": [
    "## Eine Umgebung, die wir woanders reproduzieren wollen vorbereiten"
   ]
  },
  {
   "cell_type": "code",
   "execution_count": 182,
   "id": "926bc2d8-1db7-4983-92cf-67b1a4d57cb1",
   "metadata": {},
   "outputs": [
    {
     "name": "stdout",
     "output_type": "stream",
     "text": [
      "\u001b[01;34m/home/juebrauer/packaging\u001b[00m\n",
      "├── \u001b[01;34mentwickler1\u001b[00m\n",
      "│   ├── \u001b[01;34mprojA\u001b[00m\n",
      "│   │   ├── Pipfile\n",
      "│   │   └── Pipfile.lock\n",
      "│   └── \u001b[01;34mprojB\u001b[00m\n",
      "│       ├── Pipfile\n",
      "│       └── Pipfile.lock\n",
      "├── \u001b[01;34mentwickler2\u001b[00m\n",
      "│   ├── \u001b[01;34mprojA\u001b[00m\n",
      "│   │   ├── Pipfile\n",
      "│   │   └── Pipfile.lock\n",
      "│   └── \u001b[01;34mprojB\u001b[00m\n",
      "│       ├── Pipfile\n",
      "│       └── Pipfile.lock\n",
      "└── \u001b[01;34mkunde1\u001b[00m\n",
      "    ├── \u001b[01;34mprojA\u001b[00m\n",
      "    │   ├── Pipfile\n",
      "    │   └── Pipfile.lock\n",
      "    └── \u001b[01;34mprojB\u001b[00m\n",
      "        └── Pipfile\n",
      "\n",
      "9 directories, 11 files\n"
     ]
    }
   ],
   "source": [
    "!tree ~/packaging"
   ]
  },
  {
   "cell_type": "code",
   "execution_count": 183,
   "id": "77c5c2fc-1873-4684-be34-df7cb5cc37a3",
   "metadata": {},
   "outputs": [
    {
     "name": "stdout",
     "output_type": "stream",
     "text": [
      "/home/juebrauer/packaging/entwickler1/projB\n"
     ]
    }
   ],
   "source": [
    "%cd ~/packaging/entwickler1/projB"
   ]
  },
  {
   "cell_type": "code",
   "execution_count": 184,
   "id": "80f61c86-0fc7-46db-b816-20c0b2ff74a6",
   "metadata": {},
   "outputs": [
    {
     "name": "stdout",
     "output_type": "stream",
     "text": [
      "\u001b[1mRemoving virtualenv\u001b[0m (\u001b[32m/home/juebrauer/.local/share/virtualenvs/projB-h4AzGLJe\u001b[0m)...\u001b[0m\n",
      "\u001b[K\u001b[?25h\u001b[0m...\u001b["
     ]
    }
   ],
   "source": [
    "!pipenv --rm\n",
    "!rm Pipfile\n",
    "!rm Pipfile.lock"
   ]
  },
  {
   "cell_type": "code",
   "execution_count": 185,
   "id": "4371d242-2f19-4007-aa6f-5894944ac291",
   "metadata": {},
   "outputs": [
    {
     "name": "stdout",
     "output_type": "stream",
     "text": [
      "\u001b[1mCreating a virtualenv for this project...\u001b[0m\n",
      "Pipfile: \u001b[33m\u001b[1m/home/juebrauer/packaging/entwickler1/projB/Pipfile\u001b[0m\n",
      "\u001b[1mUsing\u001b[0m \u001b[33m\u001b[1m/usr/bin/python3\u001b[0m \u001b[32m(3.8.10)\u001b[0m \u001b[1mto create virtualenv...\u001b[0m\n",
      "⠹\u001b[0m Creating virtual environment...\u001b[K\u001b[36mcreated virtual environment CPython3.8.10.final.0-64 in 145ms\n",
      "  creator Venv(dest=/home/juebrauer/.local/share/virtualenvs/projB-h4AzGLJe, clear=False, no_vcs_ignore=False, global=False, describe=CPython3Posix)\n",
      "  seeder FromAppData(download=False, pip=bundle, setuptools=bundle, wheel=bundle, via=copy, app_data_dir=/home/juebrauer/.local/share/virtualenv)\n",
      "    added seed packages: pip==22.2.2, setuptools==65.4.1, wheel==0.37.1\n",
      "  activators BashActivator,CShellActivator,FishActivator,NushellActivator,PowerShellActivator,PythonActivator\n",
      "\u001b[0m\n",
      "\u001b[K\u001b[?25h\u001b[32m\u001b[22m✔ Successfully created virtual environment!\u001b[39m\u001b[22m\u001b[0m \n",
      "\u001b[32mVirtualenv location: /home/juebrauer/.local/share/virtualenvs/projB-h4AzGLJe\u001b[0m\n",
      "\u001b[1mCreating a Pipfile for this project...\u001b[0m\n",
      "\u001b[32m\u001b[1mInstalling pandas==1.4.4...\u001b[0m\n",
      "\u001b[K\u001b[1mAdding\u001b[0m \u001b[32m\u001b[1mpandas\u001b[0m \u001b[1mto Pipfile's\u001b[0m \u001b[33m\u001b[1m[packages]\u001b[0m\u001b[1m...\u001b[0m\n",
      "\u001b[K\u001b[?25h✔ Installation Succeeded\u001b[0m \n",
      "\u001b[1mPipfile.lock not found, creating...\u001b[0m\n",
      "Locking\u001b[0m \u001b[33m[packages]\u001b[0m dependencies...\u001b[0m\n",
      "\u001b[KBuilding requirements...\n",
      "\u001b[KResolving dependencies...\n",
      "\u001b[K\u001b[?25h\u001b[32m\u001b[22m✔ Success!\u001b[39m\u001b[22m\u001b[0m \n",
      "Locking\u001b[0m \u001b[33m[dev-packages]\u001b[0m dependencies...\u001b[0m\n",
      "\u001b[1mUpdated Pipfile.lock (85a16f33eebf6f66be2073a6edcbd5355b2ab48b5c848ee90e2b1971e66fa613)!\u001b[0m\n",
      "\u001b[1mInstalling dependencies from Pipfile.lock (6fa613)...\u001b[0m\n",
      "To activate this project's virtualenv, run \u001b[33mpipenv shell\u001b[0m.\n",
      "Alternatively, run a command inside the virtualenv with \u001b[33mpipenv run\u001b[0m.\n",
      "\u001b[0m"
     ]
    }
   ],
   "source": [
    "!pipenv install pandas==1.4.4"
   ]
  },
  {
   "cell_type": "code",
   "execution_count": 186,
   "id": "d7669572-2c92-4f0b-8754-e70ae3999eed",
   "metadata": {},
   "outputs": [
    {
     "name": "stdout",
     "output_type": "stream",
     "text": [
      "\u001b[32m\u001b[1mInstalling pytest==6.2.5...\u001b[0m\n",
      "\u001b[K\u001b[1mAdding\u001b[0m \u001b[32m\u001b[1mpytest\u001b[0m \u001b[1mto Pipfile's\u001b[0m \u001b[33m\u001b[1m[dev-packages]\u001b[0m\u001b[1m...\u001b[0m\n",
      "\u001b[K\u001b[?25h✔ Installation Succeeded\u001b[0m \n",
      "\u001b[33m\u001b[1mPipfile.lock (6fa613) out of date, updating to (d26368)...\u001b[0m\n",
      "Locking\u001b[0m \u001b[33m[packages]\u001b[0m dependencies...\u001b[0m\n",
      "\u001b[KBuilding requirements...\n",
      "\u001b[KResolving dependencies...\n",
      "\u001b[K\u001b[?25h\u001b[32m\u001b[22m✔ Success!\u001b[39m\u001b[22m\u001b[0m \n",
      "Locking\u001b[0m \u001b[33m[dev-packages]\u001b[0m dependencies...\u001b[0m\n",
      "\u001b[K\u001b[KBuilding requirements...\n",
      "\u001b[KResolving dependencies...\n",
      "\u001b[K\u001b[?25h\u001b[32m\u001b[22m✔ Success!\u001b[39m\u001b[22m\u001b[0m \n",
      "\u001b[1mUpdated Pipfile.lock (d0c693aeb6342045ea9aca5f82752678c05aa01f066d737f1645bb7eb9d26368)!\u001b[0m\n",
      "\u001b[1mInstalling dependencies from Pipfile.lock (d26368)...\u001b[0m\n",
      "\u001b[1mInstalling dependencies from Pipfile.lock (d26368)...\u001b[0m\n",
      "To activate this project's virtualenv, run \u001b[33mpipenv shell\u001b[0m.\n",
      "Alternatively, run a command inside the virtualenv with \u001b[33mpipenv run\u001b[0m.\n",
      "\u001b[0m"
     ]
    }
   ],
   "source": [
    "!pipenv install --dev pytest==6.2.5"
   ]
  },
  {
   "cell_type": "code",
   "execution_count": 187,
   "id": "77d20970-98f8-4092-a449-c159df97fec0",
   "metadata": {},
   "outputs": [
    {
     "name": "stdout",
     "output_type": "stream",
     "text": [
      "\u001b[1mpandas==1.4.4\u001b[0m\n",
      "\u001b[22m  - numpy [required: >=1.18.5, installed: 1.23.4]\u001b[0m\n",
      "\u001b[22m  - python-dateutil [required: >=2.8.1, installed: 2.8.2]\u001b[0m\n",
      "\u001b[22m    - six [required: >=1.5, installed: 1.16.0]\u001b[0m\n",
      "\u001b[22m  - pytz [required: >=2020.1, installed: 2022.6]\u001b[0m\n",
      "\u001b[1mpytest==6.2.5\u001b[0m\n",
      "\u001b[22m  - attrs [required: >=19.2.0, installed: 22.1.0]\u001b[0m\n",
      "\u001b[22m  - iniconfig [required: Any, installed: 1.1.1]\u001b[0m\n",
      "\u001b[22m  - packaging [required: Any, installed: 21.3]\u001b[0m\n",
      "\u001b[22m    - pyparsing [required: >=2.0.2,!=3.0.5, installed: 3.0.9]\u001b[0m\n",
      "\u001b[22m  - pluggy [required: >=0.12,<2.0, installed: 1.0.0]\u001b[0m\n",
      "\u001b[22m  - py [required: >=1.8.2, installed: 1.11.0]\u001b[0m\n",
      "\u001b[22m  - toml [required: Any, installed: 0.10.2]\u001b[0m\n",
      "\u001b[0m"
     ]
    }
   ],
   "source": [
    "!pipenv graph"
   ]
  },
  {
   "cell_type": "code",
   "execution_count": 188,
   "id": "40e6c4f2-307b-419c-b907-417415844022",
   "metadata": {},
   "outputs": [
    {
     "name": "stdout",
     "output_type": "stream",
     "text": [
      "/home/juebrauer/packaging/entwickler1/projB\n",
      "\u001b[0m"
     ]
    }
   ],
   "source": [
    "!pipenv --where"
   ]
  },
  {
   "cell_type": "code",
   "execution_count": 189,
   "id": "1c59993e-3e71-4141-9159-1c37bf71af51",
   "metadata": {},
   "outputs": [
    {
     "name": "stdout",
     "output_type": "stream",
     "text": [
      "/home/juebrauer/.local/share/virtualenvs/projB-h4AzGLJe\n",
      "\u001b[0m"
     ]
    }
   ],
   "source": [
    "!pipenv --venv"
   ]
  },
  {
   "cell_type": "code",
   "execution_count": 190,
   "id": "43df73b1-da63-4080-8344-d4aae5dc3ed7",
   "metadata": {},
   "outputs": [
    {
     "name": "stdout",
     "output_type": "stream",
     "text": [
      "Pipfile  Pipfile.lock\n"
     ]
    }
   ],
   "source": [
    "!ls"
   ]
  },
  {
   "cell_type": "code",
   "execution_count": 191,
   "id": "46498e01-a826-404d-b76e-cd0ce4e0876e",
   "metadata": {},
   "outputs": [
    {
     "name": "stdout",
     "output_type": "stream",
     "text": [
      "[[source]]\n",
      "url = \"https://pypi.org/simple\"\n",
      "verify_ssl = true\n",
      "name = \"pypi\"\n",
      "\n",
      "[packages]\n",
      "pandas = \"==1.4.4\"\n",
      "\n",
      "[dev-packages]\n",
      "pytest = \"==6.2.5\"\n",
      "\n",
      "[requires]\n",
      "python_version = \"3.8\"\n"
     ]
    }
   ],
   "source": [
    "!cat Pipfile"
   ]
  },
  {
   "cell_type": "code",
   "execution_count": 192,
   "id": "e16a90a9-10c3-4c62-a60a-a5b61ddfec77",
   "metadata": {},
   "outputs": [
    {
     "name": "stdout",
     "output_type": "stream",
     "text": [
      "{\n",
      "    \"_meta\": {\n",
      "        \"hash\": {\n",
      "            \"sha256\": \"d0c693aeb6342045ea9aca5f82752678c05aa01f066d737f1645bb7eb9d26368\"\n",
      "        },\n",
      "        \"pipfile-spec\": 6,\n",
      "        \"requires\": {\n",
      "            \"python_version\": \"3.8\"\n",
      "        },\n",
      "        \"sources\": [\n",
      "            {\n",
      "                \"name\": \"pypi\",\n",
      "                \"url\": \"https://pypi.org/simple\",\n",
      "                \"verify_ssl\": true\n",
      "            }\n",
      "        ]\n",
      "    },\n",
      "    \"default\": {\n",
      "        \"numpy\": {\n",
      "            \"hashes\": [\n",
      "                \"sha256:0fe563fc8ed9dc4474cbf70742673fc4391d70f4363f917599a7fa99f042d5a8\",\n",
      "                \"sha256:12ac457b63ec8ded85d85c1e17d85efd3c2b0967ca39560b307a35a6703a4735\",\n",
      "                \"sha256:2341f4ab6dba0834b685cce16dad5f9b6606ea8a00e6da154f5dbded70fdc4dd\",\n",
      "                \"sha256:296d17aed51161dbad3c67ed6d164e51fcd18dbcd5dd4f9d0a9c6055dce30810\",\n",
      "                \"sha256:488a66cb667359534bc70028d653ba1cf307bae88eab5929cd707c761ff037db\",\n",
      "                \"sha256:4d52914c88b4930dafb6c48ba5115a96cbab40f45740239d9f4159c4ba779962\",\n",
      "                \"sha256:5e13030f8793e9ee42f9c7d5777465a560eb78fa7e11b1c053427f2ccab90c79\",\n",
      "                \"sha256:61be02e3bf810b60ab74e81d6d0d36246dbfb644a462458bb53b595791251911\",\n",
      "                \"sha256:7607b598217745cc40f751da38ffd03512d33ec06f3523fb0b5f82e09f6f676d\",\n",
      "                \"sha256:7a70a7d3ce4c0e9284e92285cba91a4a3f5214d87ee0e95928f3614a256a1488\",\n",
      "                \"sha256:7ab46e4e7ec63c8a5e6dbf5c1b9e1c92ba23a7ebecc86c336cb7bf3bd2fb10e5\",\n",
      "                \"sha256:8981d9b5619569899666170c7c9748920f4a5005bf79c72c07d08c8a035757b0\",\n",
      "                \"sha256:8c053d7557a8f022ec823196d242464b6955a7e7e5015b719e76003f63f82d0f\",\n",
      "                \"sha256:926db372bc4ac1edf81cfb6c59e2a881606b409ddc0d0920b988174b2e2a767f\",\n",
      "                \"sha256:95d79ada05005f6f4f337d3bb9de8a7774f259341c70bc88047a1f7b96a4bcb2\",\n",
      "                \"sha256:95de7dc7dc47a312f6feddd3da2500826defdccbc41608d0031276a24181a2c0\",\n",
      "                \"sha256:a0882323e0ca4245eb0a3d0a74f88ce581cc33aedcfa396e415e5bba7bf05f68\",\n",
      "                \"sha256:a8365b942f9c1a7d0f0dc974747d99dd0a0cdfc5949a33119caf05cb314682d3\",\n",
      "                \"sha256:a8aae2fb3180940011b4862b2dd3756616841c53db9734b27bb93813cd79fce6\",\n",
      "                \"sha256:c237129f0e732885c9a6076a537e974160482eab8f10db6292e92154d4c67d71\",\n",
      "                \"sha256:c67b833dbccefe97cdd3f52798d430b9d3430396af7cdb2a0c32954c3ef73894\",\n",
      "                \"sha256:ce03305dd694c4873b9429274fd41fc7eb4e0e4dea07e0af97a933b079a5814f\",\n",
      "                \"sha256:d331afac87c92373826af83d2b2b435f57b17a5c74e6268b79355b970626e329\",\n",
      "                \"sha256:dada341ebb79619fe00a291185bba370c9803b1e1d7051610e01ed809ef3a4ba\",\n",
      "                \"sha256:ed2cc92af0efad20198638c69bb0fc2870a58dabfba6eb722c933b48556c686c\",\n",
      "                \"sha256:f260da502d7441a45695199b4e7fd8ca87db659ba1c78f2bbf31f934fe76ae0e\",\n",
      "                \"sha256:f2f390aa4da44454db40a1f0201401f9036e8d578a25f01a6e237cea238337ef\",\n",
      "                \"sha256:f76025acc8e2114bb664294a07ede0727aa75d63a06d2fae96bf29a81747e4a7\"\n",
      "            ],\n",
      "            \"markers\": \"python_version < '3.10' and platform_machine != 'aarch64' and platform_machine != 'arm64'\",\n",
      "            \"version\": \"==1.23.4\"\n",
      "        },\n",
      "        \"pandas\": {\n",
      "            \"hashes\": [\n",
      "                \"sha256:050aada67a5ec6699a7879e769825b510018a95fb9ac462bb1867483d0974a97\",\n",
      "                \"sha256:0959c41004e3d2d16f39c828d6da66ebee329836a7ecee49fb777ac9ad8a7501\",\n",
      "                \"sha256:4591cadd06fbbbd16fafc2de6e840c1aaefeae3d5864b688004777ef1bbdede3\",\n",
      "                \"sha256:51c424ca134fdaeac9a4acd719d1ab48046afc60943a489028f0413fdbe9ef1c\",\n",
      "                \"sha256:785e878a6e6d8ddcdb8c181e600855402750052497d7fc6d6b508894f6b8830b\",\n",
      "                \"sha256:799e6a25932df7e6b1f8dabf63de064e2205dc309abb75956126a0453fd88e97\",\n",
      "                \"sha256:7cd1d69a387f7d5e1a5a06a87574d9ef2433847c0e78113ab51c84d3a8bcaeaa\",\n",
      "                \"sha256:87b4194f344dcd14c0f885cecb22005329b38bda10f1aaf7b9596a00ec8a4768\",\n",
      "                \"sha256:8d4d2fe2863ecddb0ba1979bdda26c8bc2ea138f5a979abe3ba80c0fa4015c91\",\n",
      "                \"sha256:94f2ed1fd51e545ebf71da1e942fe1822ee01e10d3dd2a7276d01351333b7c6b\",\n",
      "                \"sha256:9d2a7a3c1fea668d56bd91edbd5f2732e0af8feb9d2bf8d9bfacb2dea5fa9536\",\n",
      "                \"sha256:9d805bce209714b1c1fa29bfb1e42ad87e4c0a825e4b390c56a3e71593b7e8d8\",\n",
      "                \"sha256:a08ceb59db499864c58a9bf85ab6219d527d91f14c0240cc25fa2c261032b2a7\",\n",
      "                \"sha256:a981cfabf51c318a562deb4ae7deec594c07aee7cf18b4594a92c23718ec8275\",\n",
      "                \"sha256:ab6c0d738617b675183e5f28db32b5148b694ad9bba0a40c3ea26d96b431db67\",\n",
      "                \"sha256:afbddad78a98ec4d2ce08b384b81730de1ccc975b99eb663e6dac43703f36d98\",\n",
      "                \"sha256:c4bb8b0ab9f94207d07e401d24baebfc63057246b1a5e0cd9ee50df85a656871\",\n",
      "                \"sha256:ce35f947202b0b99c660221d82beb91d2e6d553d55a40b30128204e3e2c63848\",\n",
      "                \"sha256:d0022fe6a313df1c4869b5edc012d734c6519a6fffa3cf70930f32e6a1078e49\",\n",
      "                \"sha256:e7cc960959be28d064faefc0cb2aef854d46b827c004ebea7e79b5497ed83e7d\",\n",
      "                \"sha256:ee6f1848148ed3204235967613b0a32be2d77f214e9623f554511047705c1e04\"\n",
      "            ],\n",
      "            \"index\": \"pypi\",\n",
      "            \"version\": \"==1.4.4\"\n",
      "        },\n",
      "        \"python-dateutil\": {\n",
      "            \"hashes\": [\n",
      "                \"sha256:0123cacc1627ae19ddf3c27a5de5bd67ee4586fbdd6440d9748f8abb483d3e86\",\n",
      "                \"sha256:961d03dc3453ebbc59dbdea9e4e11c5651520a876d0f4db161e8674aae935da9\"\n",
      "            ],\n",
      "            \"markers\": \"python_version >= '2.7' and python_version not in '3.0, 3.1, 3.2, 3.3'\",\n",
      "            \"version\": \"==2.8.2\"\n",
      "        },\n",
      "        \"pytz\": {\n",
      "            \"hashes\": [\n",
      "                \"sha256:222439474e9c98fced559f1709d89e6c9cbf8d79c794ff3eb9f8800064291427\",\n",
      "                \"sha256:e89512406b793ca39f5971bc999cc538ce125c0e51c27941bef4568b460095e2\"\n",
      "            ],\n",
      "            \"version\": \"==2022.6\"\n",
      "        },\n",
      "        \"six\": {\n",
      "            \"hashes\": [\n",
      "                \"sha256:1e61c37477a1626458e36f7b1d82aa5c9b094fa4802892072e49de9c60c4c926\",\n",
      "                \"sha256:8abb2f1d86890a2dfb989f9a77cfcfd3e47c2a354b01111771326f8aa26e0254\"\n",
      "            ],\n",
      "            \"markers\": \"python_version >= '2.7' and python_version not in '3.0, 3.1, 3.2, 3.3'\",\n",
      "            \"version\": \"==1.16.0\"\n",
      "        }\n",
      "    },\n",
      "    \"develop\": {\n",
      "        \"attrs\": {\n",
      "            \"hashes\": [\n",
      "                \"sha256:29adc2665447e5191d0e7c568fde78b21f9672d344281d0c6e1ab085429b22b6\",\n",
      "                \"sha256:86efa402f67bf2df34f51a335487cf46b1ec130d02b8d39fd248abfd30da551c\"\n",
      "            ],\n",
      "            \"markers\": \"python_version >= '3.5'\",\n",
      "            \"version\": \"==22.1.0\"\n",
      "        },\n",
      "        \"iniconfig\": {\n",
      "            \"hashes\": [\n",
      "                \"sha256:011e24c64b7f47f6ebd835bb12a743f2fbe9a26d4cecaa7f53bc4f35ee9da8b3\",\n",
      "                \"sha256:bc3af051d7d14b2ee5ef9969666def0cd1a000e121eaea580d4a313df4b37f32\"\n",
      "            ],\n",
      "            \"version\": \"==1.1.1\"\n",
      "        },\n",
      "        \"packaging\": {\n",
      "            \"hashes\": [\n",
      "                \"sha256:dd47c42927d89ab911e606518907cc2d3a1f38bbd026385970643f9c5b8ecfeb\",\n",
      "                \"sha256:ef103e05f519cdc783ae24ea4e2e0f508a9c99b2d4969652eed6a2e1ea5bd522\"\n",
      "            ],\n",
      "            \"markers\": \"python_version >= '3.6'\",\n",
      "            \"version\": \"==21.3\"\n",
      "        },\n",
      "        \"pluggy\": {\n",
      "            \"hashes\": [\n",
      "                \"sha256:4224373bacce55f955a878bf9cfa763c1e360858e330072059e10bad68531159\",\n",
      "                \"sha256:74134bbf457f031a36d68416e1509f34bd5ccc019f0bcc952c7b909d06b37bd3\"\n",
      "            ],\n",
      "            \"markers\": \"python_version >= '3.6'\",\n",
      "            \"version\": \"==1.0.0\"\n",
      "        },\n",
      "        \"py\": {\n",
      "            \"hashes\": [\n",
      "                \"sha256:51c75c4126074b472f746a24399ad32f6053d1b34b68d2fa41e558e6f4a98719\",\n",
      "                \"sha256:607c53218732647dff4acdfcd50cb62615cedf612e72d1724fb1a0cc6405b378\"\n",
      "            ],\n",
      "            \"markers\": \"python_version >= '2.7' and python_version not in '3.0, 3.1, 3.2, 3.3, 3.4'\",\n",
      "            \"version\": \"==1.11.0\"\n",
      "        },\n",
      "        \"pyparsing\": {\n",
      "            \"hashes\": [\n",
      "                \"sha256:2b020ecf7d21b687f219b71ecad3631f644a47f01403fa1d1036b0c6416d70fb\",\n",
      "                \"sha256:5026bae9a10eeaefb61dab2f09052b9f4307d44aee4eda64b309723d8d206bbc\"\n",
      "            ],\n",
      "            \"markers\": \"python_full_version >= '3.6.8'\",\n",
      "            \"version\": \"==3.0.9\"\n",
      "        },\n",
      "        \"pytest\": {\n",
      "            \"hashes\": [\n",
      "                \"sha256:131b36680866a76e6781d13f101efb86cf674ebb9762eb70d3082b6f29889e89\",\n",
      "                \"sha256:7310f8d27bc79ced999e760ca304d69f6ba6c6649c0b60fb0e04a4a77cacc134\"\n",
      "            ],\n",
      "            \"index\": \"pypi\",\n",
      "            \"version\": \"==6.2.5\"\n",
      "        },\n",
      "        \"toml\": {\n",
      "            \"hashes\": [\n",
      "                \"sha256:806143ae5bfb6a3c6e736a764057db0e6a0e05e338b5630894a5f779cabb4f9b\",\n",
      "                \"sha256:b3bda1d108d5dd99f4a20d24d9c348e91c4db7ab1b749200bded2f839ccbe68f\"\n",
      "            ],\n",
      "            \"markers\": \"python_version >= '2.6' and python_version not in '3.0, 3.1, 3.2, 3.3'\",\n",
      "            \"version\": \"==0.10.2\"\n",
      "        }\n",
      "    }\n",
      "}\n"
     ]
    }
   ],
   "source": [
    "!cat Pipfile.lock"
   ]
  },
  {
   "cell_type": "markdown",
   "id": "6f51cf1b-8cde-45d8-b706-f9fd11e9d613",
   "metadata": {},
   "source": [
    "## Reproduktion einer Entwickler-Umgebung aus Pipfile"
   ]
  },
  {
   "cell_type": "code",
   "execution_count": 193,
   "id": "f0f5bec4-8d3b-4427-8fa1-d57ffc2f5ef4",
   "metadata": {},
   "outputs": [
    {
     "name": "stdout",
     "output_type": "stream",
     "text": [
      "\u001b[01;34m/home/juebrauer/packaging\u001b[00m\n",
      "├── \u001b[01;34mentwickler1\u001b[00m\n",
      "│   ├── \u001b[01;34mprojA\u001b[00m\n",
      "│   │   ├── Pipfile\n",
      "│   │   └── Pipfile.lock\n",
      "│   └── \u001b[01;34mprojB\u001b[00m\n",
      "│       ├── Pipfile\n",
      "│       └── Pipfile.lock\n",
      "├── \u001b[01;34mentwickler2\u001b[00m\n",
      "│   ├── \u001b[01;34mprojA\u001b[00m\n",
      "│   │   ├── Pipfile\n",
      "│   │   └── Pipfile.lock\n",
      "│   └── \u001b[01;34mprojB\u001b[00m\n",
      "│       ├── Pipfile\n",
      "│       └── Pipfile.lock\n",
      "└── \u001b[01;34mkunde1\u001b[00m\n",
      "    ├── \u001b[01;34mprojA\u001b[00m\n",
      "    │   ├── Pipfile\n",
      "    │   └── Pipfile.lock\n",
      "    └── \u001b[01;34mprojB\u001b[00m\n",
      "        └── Pipfile\n",
      "\n",
      "9 directories, 11 files\n"
     ]
    }
   ],
   "source": [
    "!tree ~/packaging"
   ]
  },
  {
   "cell_type": "code",
   "execution_count": 194,
   "id": "664ed661-de7d-4e46-8c75-3694d76327c9",
   "metadata": {},
   "outputs": [
    {
     "name": "stdout",
     "output_type": "stream",
     "text": [
      "/home/juebrauer/packaging/entwickler2/projB\n"
     ]
    }
   ],
   "source": [
    "%cd ~/packaging/entwickler2/projB"
   ]
  },
  {
   "cell_type": "code",
   "execution_count": 195,
   "id": "27880ca1-aee1-46c2-a141-63187c9f05ac",
   "metadata": {},
   "outputs": [
    {
     "name": "stdout",
     "output_type": "stream",
     "text": [
      "\u001b[1mRemoving virtualenv\u001b[0m (\u001b[32m/home/juebrauer/.local/share/virtualenvs/projB-ODVNIJzx\u001b[0m)...\u001b[0m\n",
      "\u001b[K\u001b[?25h\u001b[0m...\u001b["
     ]
    }
   ],
   "source": [
    "!pipenv --rm\n",
    "!rm Pipfile\n",
    "!rm Pipfile.lock"
   ]
  },
  {
   "cell_type": "code",
   "execution_count": 196,
   "id": "7f0f965e-7d61-4a0d-9af7-494cdacd2a90",
   "metadata": {},
   "outputs": [],
   "source": [
    "!cp ~/packaging/entwickler1/projB/Pipfile ~/packaging/entwickler2/projB"
   ]
  },
  {
   "cell_type": "code",
   "execution_count": 197,
   "id": "45dfc12e-1ef3-4442-b846-898432721c87",
   "metadata": {},
   "outputs": [
    {
     "name": "stdout",
     "output_type": "stream",
     "text": [
      "Pipfile\n"
     ]
    }
   ],
   "source": [
    "!ls"
   ]
  },
  {
   "cell_type": "code",
   "execution_count": 198,
   "id": "b427702c-a9a3-4fdd-b0fd-e39c9157aaa5",
   "metadata": {},
   "outputs": [
    {
     "name": "stdout",
     "output_type": "stream",
     "text": [
      "\u001b[1mCreating a virtualenv for this project...\u001b[0m\n",
      "Pipfile: \u001b[33m\u001b[1m/home/juebrauer/packaging/entwickler2/projB/Pipfile\u001b[0m\n",
      "\u001b[1mUsing\u001b[0m \u001b[33m\u001b[1m/usr/bin/python3.8\u001b[0m \u001b[32m(3.8.10)\u001b[0m \u001b[1mto create virtualenv...\u001b[0m\n",
      "⠸\u001b[0m Creating virtual environment...\u001b[K\u001b[36mcreated virtual environment CPython3.8.10.final.0-64 in 177ms\n",
      "  creator Venv(dest=/home/juebrauer/.local/share/virtualenvs/projB-ODVNIJzx, clear=False, no_vcs_ignore=False, global=False, describe=CPython3Posix)\n",
      "  seeder FromAppData(download=False, pip=bundle, setuptools=bundle, wheel=bundle, via=copy, app_data_dir=/home/juebrauer/.local/share/virtualenv)\n",
      "    added seed packages: pip==22.2.2, setuptools==65.4.1, wheel==0.37.1\n",
      "  activators BashActivator,CShellActivator,FishActivator,NushellActivator,PowerShellActivator,PythonActivator\n",
      "\u001b[0m\n",
      "\u001b[K\u001b[?25h\u001b[32m\u001b[22m✔ Successfully created virtual environment!\u001b[39m\u001b[22m\u001b[0m \n",
      "\u001b[32mVirtualenv location: /home/juebrauer/.local/share/virtualenvs/projB-ODVNIJzx\u001b[0m\n",
      "\u001b[1mPipfile.lock not found, creating...\u001b[0m\n",
      "Locking\u001b[0m \u001b[33m[packages]\u001b[0m dependencies...\u001b[0m\n",
      "\u001b[K\u001b[KBuilding requirements...\n",
      "\u001b[KResolving dependencies...\n",
      "\u001b[K\u001b[?25h\u001b[32m\u001b[22m✔ Success!\u001b[39m\u001b[22m\u001b[0m \n",
      "Locking\u001b[0m \u001b[33m[dev-packages]\u001b[0m dependencies...\u001b[0m\n",
      "\u001b[KBuilding requirements...\n",
      "\u001b[KResolving dependencies...\n",
      "\u001b[K\u001b[?25h\u001b[32m\u001b[22m✔ Success!\u001b[39m\u001b[22m\u001b[0m \n",
      "\u001b[1mUpdated Pipfile.lock (d0c693aeb6342045ea9aca5f82752678c05aa01f066d737f1645bb7eb9d26368)!\u001b[0m\n",
      "\u001b[1mInstalling dependencies from Pipfile.lock (d26368)...\u001b[0m\n",
      "\u001b[1mInstalling dependencies from Pipfile.lock (d26368)...\u001b[0m\n",
      "To activate this project's virtualenv, run \u001b[33mpipenv shell\u001b[0m.\n",
      "Alternatively, run a command inside the virtualenv with \u001b[33mpipenv run\u001b[0m.\n",
      "\u001b[0m"
     ]
    }
   ],
   "source": [
    "!pipenv install --dev"
   ]
  },
  {
   "cell_type": "code",
   "execution_count": 199,
   "id": "72602f83-df3c-46e0-8c3d-d1fde978b8cb",
   "metadata": {},
   "outputs": [
    {
     "name": "stdout",
     "output_type": "stream",
     "text": [
      "\u001b[1mpandas==1.4.4\u001b[0m\n",
      "\u001b[22m  - numpy [required: >=1.18.5, installed: 1.23.4]\u001b[0m\n",
      "\u001b[22m  - python-dateutil [required: >=2.8.1, installed: 2.8.2]\u001b[0m\n",
      "\u001b[22m    - six [required: >=1.5, installed: 1.16.0]\u001b[0m\n",
      "\u001b[22m  - pytz [required: >=2020.1, installed: 2022.6]\u001b[0m\n",
      "\u001b[1mpytest==6.2.5\u001b[0m\n",
      "\u001b[22m  - attrs [required: >=19.2.0, installed: 22.1.0]\u001b[0m\n",
      "\u001b[22m  - iniconfig [required: Any, installed: 1.1.1]\u001b[0m\n",
      "\u001b[22m  - packaging [required: Any, installed: 21.3]\u001b[0m\n",
      "\u001b[22m    - pyparsing [required: >=2.0.2,!=3.0.5, installed: 3.0.9]\u001b[0m\n",
      "\u001b[22m  - pluggy [required: >=0.12,<2.0, installed: 1.0.0]\u001b[0m\n",
      "\u001b[22m  - py [required: >=1.8.2, installed: 1.11.0]\u001b[0m\n",
      "\u001b[22m  - toml [required: Any, installed: 0.10.2]\u001b[0m\n",
      "\u001b[0m"
     ]
    }
   ],
   "source": [
    "!pipenv graph"
   ]
  },
  {
   "cell_type": "markdown",
   "id": "3096446d-af1a-4404-a366-025b666c2feb",
   "metadata": {},
   "source": [
    "## Reproduktion einer Kunden/Produkt-Umgebung aus Pipfile"
   ]
  },
  {
   "cell_type": "code",
   "execution_count": 200,
   "id": "595c407e-e0db-4f52-ba29-b8a1694079e4",
   "metadata": {},
   "outputs": [
    {
     "name": "stdout",
     "output_type": "stream",
     "text": [
      "\u001b[01;34m/home/juebrauer/packaging\u001b[00m\n",
      "├── \u001b[01;34mentwickler1\u001b[00m\n",
      "│   ├── \u001b[01;34mprojA\u001b[00m\n",
      "│   │   ├── Pipfile\n",
      "│   │   └── Pipfile.lock\n",
      "│   └── \u001b[01;34mprojB\u001b[00m\n",
      "│       ├── Pipfile\n",
      "│       └── Pipfile.lock\n",
      "├── \u001b[01;34mentwickler2\u001b[00m\n",
      "│   ├── \u001b[01;34mprojA\u001b[00m\n",
      "│   │   ├── Pipfile\n",
      "│   │   └── Pipfile.lock\n",
      "│   └── \u001b[01;34mprojB\u001b[00m\n",
      "│       ├── Pipfile\n",
      "│       └── Pipfile.lock\n",
      "└── \u001b[01;34mkunde1\u001b[00m\n",
      "    ├── \u001b[01;34mprojA\u001b[00m\n",
      "    │   ├── Pipfile\n",
      "    │   └── Pipfile.lock\n",
      "    └── \u001b[01;34mprojB\u001b[00m\n",
      "        └── Pipfile\n",
      "\n",
      "9 directories, 11 files\n"
     ]
    }
   ],
   "source": [
    "!tree ~/packaging"
   ]
  },
  {
   "cell_type": "code",
   "execution_count": 201,
   "id": "972ba5c0-0045-4a1d-a802-b0aa9fb1e4fd",
   "metadata": {},
   "outputs": [
    {
     "name": "stdout",
     "output_type": "stream",
     "text": [
      "/home/juebrauer/packaging/kunde1/projB\n"
     ]
    }
   ],
   "source": [
    "%cd ~/packaging/kunde1/projB"
   ]
  },
  {
   "cell_type": "code",
   "execution_count": 202,
   "id": "9e72bff0-2446-4af4-a2e0-f6f75b611e8f",
   "metadata": {},
   "outputs": [
    {
     "name": "stdout",
     "output_type": "stream",
     "text": [
      "\u001b[31m\u001b[1mNo virtualenv has been created for this project yet!\u001b[0m\n",
      "Aborted!\n",
      "\u001b[0mrm: cannot remove 'Pipfile.lock': No such file or directory\n"
     ]
    }
   ],
   "source": [
    "!pipenv --rm\n",
    "!rm Pipfile\n",
    "!rm Pipfile.lock"
   ]
  },
  {
   "cell_type": "code",
   "execution_count": 203,
   "id": "948c82d9-db0c-4836-8b5f-2d468bb6f9f9",
   "metadata": {},
   "outputs": [],
   "source": [
    "!cp ~/packaging/entwickler1/projB/Pipfile ~/packaging/kunde1/projB"
   ]
  },
  {
   "cell_type": "code",
   "execution_count": 204,
   "id": "a99701aa-df8d-4184-9db6-b79fa959e462",
   "metadata": {},
   "outputs": [
    {
     "name": "stdout",
     "output_type": "stream",
     "text": [
      "Pipfile\n"
     ]
    }
   ],
   "source": [
    "!ls"
   ]
  },
  {
   "cell_type": "code",
   "execution_count": 205,
   "id": "6047f05b-c628-4e16-9055-edb3b95e88ca",
   "metadata": {},
   "outputs": [
    {
     "name": "stdout",
     "output_type": "stream",
     "text": [
      "[[source]]\n",
      "url = \"https://pypi.org/simple\"\n",
      "verify_ssl = true\n",
      "name = \"pypi\"\n",
      "\n",
      "[packages]\n",
      "pandas = \"==1.4.4\"\n",
      "\n",
      "[dev-packages]\n",
      "pytest = \"==6.2.5\"\n",
      "\n",
      "[requires]\n",
      "python_version = \"3.8\"\n"
     ]
    }
   ],
   "source": [
    "!cat Pipfile"
   ]
  },
  {
   "cell_type": "code",
   "execution_count": 206,
   "id": "29784726-4f1f-40b4-ad87-7e047ccd112a",
   "metadata": {},
   "outputs": [
    {
     "name": "stdout",
     "output_type": "stream",
     "text": [
      "\u001b[1mCreating a virtualenv for this project...\u001b[0m\n",
      "Pipfile: \u001b[33m\u001b[1m/home/juebrauer/packaging/kunde1/projB/Pipfile\u001b[0m\n",
      "\u001b[1mUsing\u001b[0m \u001b[33m\u001b[1m/usr/bin/python3.8\u001b[0m \u001b[32m(3.8.10)\u001b[0m \u001b[1mto create virtualenv...\u001b[0m\n",
      "⠸\u001b[0m Creating virtual environment...\u001b[K\u001b[36mcreated virtual environment CPython3.8.10.final.0-64 in 169ms\n",
      "  creator Venv(dest=/home/juebrauer/.local/share/virtualenvs/projB-JWcRzNrN, clear=False, no_vcs_ignore=False, global=False, describe=CPython3Posix)\n",
      "  seeder FromAppData(download=False, pip=bundle, setuptools=bundle, wheel=bundle, via=copy, app_data_dir=/home/juebrauer/.local/share/virtualenv)\n",
      "    added seed packages: pip==22.2.2, setuptools==65.4.1, wheel==0.37.1\n",
      "  activators BashActivator,CShellActivator,FishActivator,NushellActivator,PowerShellActivator,PythonActivator\n",
      "\u001b[0m\n",
      "\u001b[K\u001b[?25h\u001b[32m\u001b[22m✔ Successfully created virtual environment!\u001b[39m\u001b[22m\u001b[0m \n",
      "\u001b[32mVirtualenv location: /home/juebrauer/.local/share/virtualenvs/projB-JWcRzNrN\u001b[0m\n",
      "\u001b[1mPipfile.lock not found, creating...\u001b[0m\n",
      "Locking\u001b[0m \u001b[33m[packages]\u001b[0m dependencies...\u001b[0m\n",
      "\u001b[KBuilding requirements...\n",
      "\u001b[KResolving dependencies...\n",
      "\u001b[K\u001b[?25h\u001b[32m\u001b[22m✔ Success!\u001b[39m\u001b[22m\u001b[0m \n",
      "Locking\u001b[0m \u001b[33m[dev-packages]\u001b[0m dependencies...\u001b[0m\n",
      "\u001b[KBuilding requirements...\n",
      "\u001b[KResolving dependencies...\n",
      "\u001b[K\u001b[?25h\u001b[32m\u001b[22m✔ Success!\u001b[39m\u001b[22m\u001b[0m \n",
      "\u001b[1mUpdated Pipfile.lock (d0c693aeb6342045ea9aca5f82752678c05aa01f066d737f1645bb7eb9d26368)!\u001b[0m\n",
      "\u001b[1mInstalling dependencies from Pipfile.lock (d26368)...\u001b[0m\n",
      "To activate this project's virtualenv, run \u001b[33mpipenv shell\u001b[0m.\n",
      "Alternatively, run a command inside the virtualenv with \u001b[33mpipenv run\u001b[0m.\n",
      "\u001b[0m"
     ]
    }
   ],
   "source": [
    "# Dieses mal ohne --dev, weil wir keine Entwickler-Pakete installieren wollen\n",
    "!pipenv install"
   ]
  },
  {
   "cell_type": "code",
   "execution_count": 207,
   "id": "478d24ad-8735-47f9-906a-58a62f293e7a",
   "metadata": {},
   "outputs": [
    {
     "name": "stdout",
     "output_type": "stream",
     "text": [
      "\u001b[1mpandas==1.4.4\u001b[0m\n",
      "\u001b[22m  - numpy [required: >=1.18.5, installed: 1.23.4]\u001b[0m\n",
      "\u001b[22m  - python-dateutil [required: >=2.8.1, installed: 2.8.2]\u001b[0m\n",
      "\u001b[22m    - six [required: >=1.5, installed: 1.16.0]\u001b[0m\n",
      "\u001b[22m  - pytz [required: >=2020.1, installed: 2022.6]\u001b[0m\n",
      "\u001b[0m"
     ]
    }
   ],
   "source": [
    "# Man sieht gleich: das Entwickler-Paket pytest wurde nicht mit installiert\n",
    "!pipenv graph"
   ]
  },
  {
   "cell_type": "code",
   "execution_count": 217,
   "id": "b9c699dd-0588-4ddd-b69f-b06055c8b59e",
   "metadata": {},
   "outputs": [
    {
     "name": "stdout",
     "output_type": "stream",
     "text": [
      "Package         Version\n",
      "--------------- -------\n",
      "numpy           1.23.4\n",
      "pandas          1.4.4\n",
      "pip             22.2.2\n",
      "python-dateutil 2.8.2\n",
      "pytz            2022.6\n",
      "setuptools      65.4.1\n",
      "six             1.16.0\n",
      "wheel           0.37.1\n"
     ]
    }
   ],
   "source": [
    "!pipenv run pip list"
   ]
  },
  {
   "cell_type": "markdown",
   "id": "be4cbbec-ffc1-4026-8be3-873fc6b2cc7e",
   "metadata": {},
   "source": [
    "# Wo sind eigentlich die Pakete gespeichert?"
   ]
  },
  {
   "cell_type": "code",
   "execution_count": 223,
   "id": "29307c7f-c9c4-4173-98bf-c6abcd381739",
   "metadata": {},
   "outputs": [
    {
     "name": "stdout",
     "output_type": "stream",
     "text": [
      "/home/juebrauer/packaging/kunde1/projB\n"
     ]
    }
   ],
   "source": [
    "%cd ~/packaging/kunde1/projB"
   ]
  },
  {
   "cell_type": "code",
   "execution_count": 224,
   "id": "0fb17fb2-ea3b-483f-9b61-662426609e6d",
   "metadata": {},
   "outputs": [
    {
     "name": "stdout",
     "output_type": "stream",
     "text": [
      "/home/juebrauer/packaging/kunde1/projB\n",
      "\u001b[0m"
     ]
    }
   ],
   "source": [
    "!pipenv --where"
   ]
  },
  {
   "cell_type": "code",
   "execution_count": 225,
   "id": "e5def56f-754d-4b89-8b99-16f84453a95d",
   "metadata": {},
   "outputs": [
    {
     "name": "stdout",
     "output_type": "stream",
     "text": [
      "/home/juebrauer/.local/share/virtualenvs/projB-JWcRzNrN\n",
      "\u001b[0m"
     ]
    }
   ],
   "source": [
    "!pipenv --venv"
   ]
  },
  {
   "cell_type": "code",
   "execution_count": 226,
   "id": "7b7316f0-8b48-483f-9677-bd763c15b1e9",
   "metadata": {},
   "outputs": [
    {
     "name": "stdout",
     "output_type": "stream",
     "text": [
      "total 36\n",
      "drwxrwxr-x  6 juebrauer juebrauer 4096 Nov  2 12:57 .\n",
      "drwxrwxr-x 21 juebrauer juebrauer 4096 Nov  2 12:56 ..\n",
      "drwxrwxr-x  2 juebrauer juebrauer 4096 Nov  2 12:57 bin\n",
      "-rw-rw-r--  1 juebrauer juebrauer   40 Nov  2 12:56 .gitignore\n",
      "drwxrwxr-x  2 juebrauer juebrauer 4096 Nov  2 12:56 include\n",
      "drwxrwxr-x  3 juebrauer juebrauer 4096 Nov  2 12:56 lib\n",
      "lrwxrwxrwx  1 juebrauer juebrauer    3 Nov  2 12:56 lib64 -> lib\n",
      "-rw-rw-r--  1 juebrauer juebrauer   38 Nov  2 12:56 .project\n",
      "-rw-rw-r--  1 juebrauer juebrauer  161 Nov  2 12:56 pyvenv.cfg\n",
      "drwxrwxr-x  2 juebrauer juebrauer 4096 Nov  2 12:57 src\n"
     ]
    }
   ],
   "source": [
    "!ls -la /home/juebrauer/.local/share/virtualenvs/projB-JWcRzNrN"
   ]
  },
  {
   "cell_type": "code",
   "execution_count": 227,
   "id": "1e54982c-8ddf-4ece-8b8a-1bd50934f151",
   "metadata": {},
   "outputs": [
    {
     "name": "stdout",
     "output_type": "stream",
     "text": [
      "total 136\n",
      "drwxrwxr-x 21 juebrauer juebrauer  4096 Nov  2 12:57 .\n",
      "drwxrwxr-x  3 juebrauer juebrauer  4096 Nov  2 12:56 ..\n",
      "drwxrwxr-x  6 juebrauer juebrauer  4096 Nov  2 12:57 dateutil\n",
      "drwxrwxr-x  2 juebrauer juebrauer  4096 Nov  2 12:56 _distutils_hack\n",
      "-rw-rw-r--  1 juebrauer juebrauer   151 Nov  2 12:56 distutils-precedence.pth\n",
      "drwxrwxr-x 21 juebrauer juebrauer  4096 Nov  2 12:57 numpy\n",
      "drwxrwxr-x  2 juebrauer juebrauer  4096 Nov  2 12:57 numpy-1.23.4.dist-info\n",
      "drwxrwxr-x  2 juebrauer juebrauer  4096 Nov  2 12:57 numpy.libs\n",
      "drwxrwxr-x 16 juebrauer juebrauer  4096 Nov  2 12:57 pandas\n",
      "drwxrwxr-x  2 juebrauer juebrauer  4096 Nov  2 12:57 pandas-1.4.4.dist-info\n",
      "drwxrwxr-x  4 juebrauer juebrauer  4096 Nov  2 12:56 pip\n",
      "drwxrwxr-x  2 juebrauer juebrauer  4096 Nov  2 12:56 pip-22.2.2.dist-info\n",
      "-rw-rw-r--  1 juebrauer juebrauer     0 Nov  2 12:56 pip-22.2.2.virtualenv\n",
      "drwxrwxr-x  4 juebrauer juebrauer  4096 Nov  2 12:56 pkg_resources\n",
      "drwxrwxr-x  2 juebrauer juebrauer  4096 Nov  2 12:57 __pycache__\n",
      "drwxrwxr-x  2 juebrauer juebrauer  4096 Nov  2 12:57 python_dateutil-2.8.2.dist-info\n",
      "drwxrwxr-x  4 juebrauer juebrauer  4096 Nov  2 12:57 pytz\n",
      "drwxrwxr-x  2 juebrauer juebrauer  4096 Nov  2 12:57 pytz-2022.6.dist-info\n",
      "drwxrwxr-x  7 juebrauer juebrauer  4096 Nov  2 12:56 setuptools\n",
      "drwxrwxr-x  2 juebrauer juebrauer  4096 Nov  2 12:56 setuptools-65.4.1.dist-info\n",
      "-rw-rw-r--  1 juebrauer juebrauer     0 Nov  2 12:56 setuptools-65.4.1.virtualenv\n",
      "drwxrwxr-x  2 juebrauer juebrauer  4096 Nov  2 12:57 six-1.16.0.dist-info\n",
      "-rw-rw-r--  1 juebrauer juebrauer 34549 Nov  2 12:57 six.py\n",
      "-rw-rw-r--  1 juebrauer juebrauer    18 Nov  2 12:56 _virtualenv.pth\n",
      "-rw-rw-r--  1 juebrauer juebrauer  5662 Nov  2 12:56 _virtualenv.py\n",
      "drwxrwxr-x  4 juebrauer juebrauer  4096 Nov  2 12:56 wheel\n",
      "drwxrwxr-x  2 juebrauer juebrauer  4096 Nov  2 12:56 wheel-0.37.1.dist-info\n",
      "-rw-rw-r--  1 juebrauer juebrauer     0 Nov  2 12:56 wheel-0.37.1.virtualenv\n"
     ]
    }
   ],
   "source": [
    "!ls -la /home/juebrauer/.local/share/virtualenvs/projB-JWcRzNrN/lib/python3.8/site-packages"
   ]
  },
  {
   "cell_type": "code",
   "execution_count": 228,
   "id": "4904a218-3e6e-4fc4-b5d0-1d8644bce3f6",
   "metadata": {},
   "outputs": [
    {
     "name": "stdout",
     "output_type": "stream",
     "text": [
      "Package         Version\n",
      "--------------- -------\n",
      "numpy           1.23.4\n",
      "pandas          1.4.4\n",
      "pip             22.2.2\n",
      "python-dateutil 2.8.2\n",
      "pytz            2022.6\n",
      "setuptools      65.4.1\n",
      "six             1.16.0\n",
      "wheel           0.37.1\n"
     ]
    }
   ],
   "source": [
    "!pipenv run pip list"
   ]
  },
  {
   "cell_type": "code",
   "execution_count": 229,
   "id": "4b516b93-f733-47a1-861e-e2d64cfc39df",
   "metadata": {},
   "outputs": [
    {
     "name": "stdout",
     "output_type": "stream",
     "text": [
      "total 140\n",
      "drwxrwxr-x 16 juebrauer juebrauer  4096 Nov  2 12:57 .\n",
      "drwxrwxr-x 21 juebrauer juebrauer  4096 Nov  2 12:57 ..\n",
      "drwxrwxr-x  6 juebrauer juebrauer  4096 Nov  2 12:57 api\n",
      "drwxrwxr-x  3 juebrauer juebrauer  4096 Nov  2 12:57 arrays\n",
      "drwxrwxr-x  4 juebrauer juebrauer  4096 Nov  2 12:57 compat\n",
      "drwxrwxr-x  3 juebrauer juebrauer  4096 Nov  2 12:57 _config\n",
      "-rw-rw-r--  1 juebrauer juebrauer 44401 Nov  2 12:57 conftest.py\n",
      "drwxrwxr-x 19 juebrauer juebrauer  4096 Nov  2 12:57 core\n",
      "drwxrwxr-x  3 juebrauer juebrauer  4096 Nov  2 12:57 errors\n",
      "-rw-rw-r--  1 juebrauer juebrauer 10222 Nov  2 12:57 __init__.py\n",
      "drwxrwxr-x  9 juebrauer juebrauer  4096 Nov  2 12:57 io\n",
      "drwxrwxr-x  6 juebrauer juebrauer  4096 Nov  2 12:57 _libs\n",
      "drwxrwxr-x  4 juebrauer juebrauer  4096 Nov  2 12:57 plotting\n",
      "drwxrwxr-x  2 juebrauer juebrauer  4096 Nov  2 12:57 __pycache__\n",
      "drwxrwxr-x  3 juebrauer juebrauer  4096 Nov  2 12:57 _testing\n",
      "-rw-rw-r--  1 juebrauer juebrauer   313 Nov  2 12:57 testing.py\n",
      "drwxrwxr-x 33 juebrauer juebrauer  4096 Nov  2 12:57 tests\n",
      "drwxrwxr-x  3 juebrauer juebrauer  4096 Nov  2 12:57 tseries\n",
      "-rw-rw-r--  1 juebrauer juebrauer  8515 Nov  2 12:57 _typing.py\n",
      "drwxrwxr-x  4 juebrauer juebrauer  4096 Nov  2 12:57 util\n",
      "-rw-rw-r--  1 juebrauer juebrauer   497 Nov  2 12:57 _version.py\n"
     ]
    }
   ],
   "source": [
    "!ls -la /home/juebrauer/.local/share/virtualenvs/projB-JWcRzNrN/lib/python3.8/site-packages/pandas"
   ]
  },
  {
   "cell_type": "markdown",
   "id": "63117d25-fa96-4660-a53c-67c281ae227d",
   "metadata": {},
   "source": [
    "Vergleiche mit Source-Code hier: https://github.com/pandas-dev/pandas/tree/main/pandas"
   ]
  },
  {
   "cell_type": "markdown",
   "id": "9232b274-f583-4f73-b66e-e0a72c63ab94",
   "metadata": {},
   "source": [
    "# Ein Praxisbeispiel"
   ]
  },
  {
   "cell_type": "markdown",
   "id": "c6c5ee7b-4aa3-4982-9d09-c68f5fc1658e",
   "metadata": {},
   "source": [
    "## Beispiel für Python-Code, der eine neuere Paket-Version braucht"
   ]
  },
  {
   "cell_type": "code",
   "execution_count": 230,
   "id": "29a6fd1b-af81-4a70-8092-f929d24c1f63",
   "metadata": {},
   "outputs": [],
   "source": [
    "!mkdir -p ~/packaging/praxisbeispiel/fehler\n",
    "!mkdir -p ~/packaging/praxisbeispiel/funktioniert"
   ]
  },
  {
   "cell_type": "code",
   "execution_count": 231,
   "id": "0dc10637-b8a9-4a60-b9b1-6355c12f0de5",
   "metadata": {},
   "outputs": [
    {
     "name": "stdout",
     "output_type": "stream",
     "text": [
      "\u001b[01;34m/home/juebrauer/packaging\u001b[00m\n",
      "├── \u001b[01;34mentwickler1\u001b[00m\n",
      "│   ├── \u001b[01;34mprojA\u001b[00m\n",
      "│   │   ├── Pipfile\n",
      "│   │   └── Pipfile.lock\n",
      "│   └── \u001b[01;34mprojB\u001b[00m\n",
      "│       ├── Pipfile\n",
      "│       └── Pipfile.lock\n",
      "├── \u001b[01;34mentwickler2\u001b[00m\n",
      "│   ├── \u001b[01;34mprojA\u001b[00m\n",
      "│   │   ├── Pipfile\n",
      "│   │   └── Pipfile.lock\n",
      "│   └── \u001b[01;34mprojB\u001b[00m\n",
      "│       ├── Pipfile\n",
      "│       └── Pipfile.lock\n",
      "├── \u001b[01;34mkunde1\u001b[00m\n",
      "│   ├── \u001b[01;34mprojA\u001b[00m\n",
      "│   │   ├── Pipfile\n",
      "│   │   └── Pipfile.lock\n",
      "│   └── \u001b[01;34mprojB\u001b[00m\n",
      "│       ├── Pipfile\n",
      "│       └── Pipfile.lock\n",
      "└── \u001b[01;34mpraxisbeispiel\u001b[00m\n",
      "    ├── \u001b[01;34mfehler\u001b[00m\n",
      "    └── \u001b[01;34mfunktioniert\u001b[00m\n",
      "\n",
      "12 directories, 12 files\n"
     ]
    }
   ],
   "source": [
    "!tree ~/packaging"
   ]
  },
  {
   "cell_type": "code",
   "execution_count": 232,
   "id": "76e2e54e-8f43-47ae-9cdd-1241bfe2be0e",
   "metadata": {},
   "outputs": [
    {
     "name": "stdout",
     "output_type": "stream",
     "text": [
      "/home/juebrauer/packaging/praxisbeispiel/fehler\n"
     ]
    }
   ],
   "source": [
    "%cd ~/packaging/praxisbeispiel/fehler"
   ]
  },
  {
   "cell_type": "code",
   "execution_count": 233,
   "id": "e27fac47-28eb-47c3-bdb8-1cbababccd64",
   "metadata": {},
   "outputs": [
    {
     "name": "stdout",
     "output_type": "stream",
     "text": [
      "\u001b[1mCreating a virtualenv for this project...\u001b[0m\n",
      "Pipfile: \u001b[33m\u001b[1m/home/juebrauer/packaging/praxisbeispiel/fehler/Pipfile\u001b[0m\n",
      "\u001b[1mUsing\u001b[0m \u001b[33m\u001b[1m/usr/bin/python3\u001b[0m \u001b[32m(3.8.10)\u001b[0m \u001b[1mto create virtualenv...\u001b[0m\n",
      "⠸\u001b[0m Creating virtual environment...\u001b[K\u001b[36mcreated virtual environment CPython3.8.10.final.0-64 in 152ms\n",
      "  creator Venv(dest=/home/juebrauer/.local/share/virtualenvs/fehler-9UEVLgRi, clear=False, no_vcs_ignore=False, global=False, describe=CPython3Posix)\n",
      "  seeder FromAppData(download=False, pip=bundle, setuptools=bundle, wheel=bundle, via=copy, app_data_dir=/home/juebrauer/.local/share/virtualenv)\n",
      "    added seed packages: pip==22.2.2, setuptools==65.4.1, wheel==0.37.1\n",
      "  activators BashActivator,CShellActivator,FishActivator,NushellActivator,PowerShellActivator,PythonActivator\n",
      "\u001b[0m\n",
      "\u001b[K\u001b[?25h\u001b[32m\u001b[22m✔ Successfully created virtual environment!\u001b[39m\u001b[22m\u001b[0m \n",
      "\u001b[32mVirtualenv location: /home/juebrauer/.local/share/virtualenvs/fehler-9UEVLgRi\u001b[0m\n",
      "\u001b[1mCreating a Pipfile for this project...\u001b[0m\n",
      "\u001b[32m\u001b[1mInstalling matplotlib==3.2.2...\u001b[0m\n",
      "\u001b[K\u001b[1mAdding\u001b[0m \u001b[32m\u001b[1mmatplotlib\u001b[0m \u001b[1mto Pipfile's\u001b[0m \u001b[33m\u001b[1m[packages]\u001b[0m\u001b[1m...\u001b[0m\n",
      "\u001b[K\u001b[?25h✔ Installation Succeeded\u001b[0m \n",
      "\u001b[1mPipfile.lock not found, creating...\u001b[0m\n",
      "Locking\u001b[0m \u001b[33m[packages]\u001b[0m dependencies...\u001b[0m\n",
      "\u001b[KBuilding requirements...\n",
      "\u001b[KResolving dependencies...\n",
      "\u001b[K\u001b[?25h\u001b[32m\u001b[22m✔ Success!\u001b[39m\u001b[22m\u001b[0m \n",
      "Locking\u001b[0m \u001b[33m[dev-packages]\u001b[0m dependencies...\u001b[0m\n",
      "\u001b[1mUpdated Pipfile.lock (75696091603bdd8b493e75172a9a77611acca4307c9352b1a117dbc9ab2489dd)!\u001b[0m\n",
      "\u001b[1mInstalling dependencies from Pipfile.lock (2489dd)...\u001b[0m\n",
      "To activate this project's virtualenv, run \u001b[33mpipenv shell\u001b[0m.\n",
      "Alternatively, run a command inside the virtualenv with \u001b[33mpipenv run\u001b[0m.\n",
      "\u001b[0m"
     ]
    }
   ],
   "source": [
    "# Unsere Vermutung: es liegt vielleicht an der Matplotlib Version\n",
    "# vielleicht ist diese zu alt?\n",
    "!pipenv install matplotlib==3.2.2"
   ]
  },
  {
   "cell_type": "code",
   "execution_count": 234,
   "id": "025b603b-9efe-4580-a8f1-3d6d3aaa74ca",
   "metadata": {},
   "outputs": [
    {
     "name": "stdout",
     "output_type": "stream",
     "text": [
      "\u001b[1mmatplotlib==3.2.2\u001b[0m\n",
      "\u001b[22m  - cycler [required: >=0.10, installed: 0.11.0]\u001b[0m\n",
      "\u001b[22m  - kiwisolver [required: >=1.0.1, installed: 1.4.4]\u001b[0m\n",
      "\u001b[22m  - numpy [required: >=1.11, installed: 1.23.4]\u001b[0m\n",
      "\u001b[22m  - pyparsing [required: >=2.0.1,!=2.1.6,!=2.1.2,!=2.0.4, installed: 3.0.9]\u001b[0m\n",
      "\u001b[22m  - python-dateutil [required: >=2.1, installed: 2.8.2]\u001b[0m\n",
      "\u001b[22m    - six [required: >=1.5, installed: 1.16.0]\u001b[0m\n",
      "\u001b[0m"
     ]
    }
   ],
   "source": [
    "!pipenv graph"
   ]
  },
  {
   "cell_type": "code",
   "execution_count": 236,
   "id": "1f418f30-4dff-4068-b51d-da45987f67d0",
   "metadata": {},
   "outputs": [
    {
     "name": "stdout",
     "output_type": "stream",
     "text": [
      "Traceback (most recent call last):\n",
      "  File \"balkendiagramm.py\", line 2, in <module>\n",
      "    import matplotlib.pyplot as plt\n",
      "  File \"/home/juebrauer/.local/share/virtualenvs/fehler-9UEVLgRi/lib/python3.8/site-packages/matplotlib/pyplot.py\", line 2282, in <module>\n",
      "    switch_backend(rcParams[\"backend\"])\n",
      "  File \"/home/juebrauer/.local/share/virtualenvs/fehler-9UEVLgRi/lib/python3.8/site-packages/matplotlib/pyplot.py\", line 221, in switch_backend\n",
      "    backend_mod = importlib.import_module(backend_name)\n",
      "  File \"/usr/lib/python3.8/importlib/__init__.py\", line 127, in import_module\n",
      "    return _bootstrap._gcd_import(name[level:], package, level)\n",
      "ModuleNotFoundError: No module named 'ipykernel'\n"
     ]
    }
   ],
   "source": [
    "# Klappt noch nicht, führt zur Fehlermeldung\n",
    "\"\"\"\n",
    "Traceback (most recent call last):\n",
    "  File \"balkendiagramm.py\", line 2, in <module>\n",
    "    import matplotlib.pyplot as plt\n",
    "  File \"/home/juebrauer/.local/share/virtualenvs/fehler-9UEVLgRi/lib/python3.8/site-packages/matplotlib/pyplot.py\", line 2282, in <module>\n",
    "    switch_backend(rcParams[\"backend\"])\n",
    "  File \"/home/juebrauer/.local/share/virtualenvs/fehler-9UEVLgRi/lib/python3.8/site-packages/matplotlib/pyplot.py\", line 221, in switch_backend\n",
    "    backend_mod = importlib.import_module(backend_name)\n",
    "  File \"/usr/lib/python3.8/importlib/__init__.py\", line 127, in import_module\n",
    "    return _bootstrap._gcd_import(name[level:], package, level)\n",
    "ModuleNotFoundError: No module named 'ipykernel'\n",
    "\"\"\"\n",
    "\n",
    "!pipenv run python3 balkendiagramm.py"
   ]
  },
  {
   "cell_type": "code",
   "execution_count": 237,
   "id": "cc3144e9-9fb4-4148-b1b2-fc381abb2a23",
   "metadata": {},
   "outputs": [
    {
     "name": "stdout",
     "output_type": "stream",
     "text": [
      "\u001b[32m\u001b[1mInstalling jupyterlab...\u001b[0m\n",
      "\u001b[K\u001b[1mAdding\u001b[0m \u001b[32m\u001b[1mjupyterlab\u001b[0m \u001b[1mto Pipfile's\u001b[0m \u001b[33m\u001b[1m[packages]\u001b[0m\u001b[1m...\u001b[0m\n",
      "\u001b[K\u001b[?25h✔ Installation Succeeded\u001b[0m \n",
      "\u001b[33m\u001b[1mPipfile.lock (2489dd) out of date, updating to (6a37e0)...\u001b[0m\n",
      "Locking\u001b[0m \u001b[33m[packages]\u001b[0m dependencies...\u001b[0m\n",
      "\u001b[KBuilding requirements...\n",
      "\u001b[KResolving dependencies...\n",
      "\u001b[K\u001b[?25h\u001b[32m\u001b[22m✔ Success!\u001b[39m\u001b[22m\u001b[0m \n",
      "Locking\u001b[0m \u001b[33m[dev-packages]\u001b[0m dependencies...\u001b[0m\n",
      "\u001b[1mUpdated Pipfile.lock (5741337e26dabcd15b935484c6a409149e0fbfb0da43f0ff998a8359726a37e0)!\u001b[0m\n",
      "\u001b[1mInstalling dependencies from Pipfile.lock (6a37e0)...\u001b[0m\n",
      "To activate this project's virtualenv, run \u001b[33mpipenv shell\u001b[0m.\n",
      "Alternatively, run a command inside the virtualenv with \u001b[33mpipenv run\u001b[0m.\n",
      "\u001b[0m"
     ]
    }
   ],
   "source": [
    "!pipenv install jupyterlab"
   ]
  },
  {
   "cell_type": "code",
   "execution_count": 239,
   "id": "c9bb5922-45bb-4d02-85d1-d7ca8cb818d4",
   "metadata": {},
   "outputs": [
    {
     "name": "stdout",
     "output_type": "stream",
     "text": [
      "Traceback (most recent call last):\n",
      "  File \"balkendiagramm.py\", line 54, in <module>\n",
      "    survey(results, category_names)\n",
      "  File \"balkendiagramm.py\", line 31, in survey\n",
      "    category_colors = plt.colormaps['RdYlGn'](\n",
      "TypeError: 'function' object is not subscriptable\n"
     ]
    }
   ],
   "source": [
    "# Jetzt können wir den Fehler rekonstruieren!\n",
    "!pipenv run python3 balkendiagramm.py"
   ]
  },
  {
   "cell_type": "markdown",
   "id": "f3c44259-ca12-4608-b8da-f8f4df39a877",
   "metadata": {},
   "source": [
    "## Umgebung, in der der Code funktioniert"
   ]
  },
  {
   "cell_type": "code",
   "execution_count": 240,
   "id": "3f841b49-1522-4895-a730-da1dc4fe9241",
   "metadata": {},
   "outputs": [
    {
     "name": "stdout",
     "output_type": "stream",
     "text": [
      "\u001b[01;34m/home/juebrauer/packaging\u001b[00m\n",
      "├── \u001b[01;34mentwickler1\u001b[00m\n",
      "│   ├── \u001b[01;34mprojA\u001b[00m\n",
      "│   │   ├── Pipfile\n",
      "│   │   └── Pipfile.lock\n",
      "│   └── \u001b[01;34mprojB\u001b[00m\n",
      "│       ├── Pipfile\n",
      "│       └── Pipfile.lock\n",
      "├── \u001b[01;34mentwickler2\u001b[00m\n",
      "│   ├── \u001b[01;34mprojA\u001b[00m\n",
      "│   │   ├── Pipfile\n",
      "│   │   └── Pipfile.lock\n",
      "│   └── \u001b[01;34mprojB\u001b[00m\n",
      "│       ├── Pipfile\n",
      "│       └── Pipfile.lock\n",
      "├── \u001b[01;34mkunde1\u001b[00m\n",
      "│   ├── \u001b[01;34mprojA\u001b[00m\n",
      "│   │   ├── Pipfile\n",
      "│   │   └── Pipfile.lock\n",
      "│   └── \u001b[01;34mprojB\u001b[00m\n",
      "│       ├── Pipfile\n",
      "│       └── Pipfile.lock\n",
      "└── \u001b[01;34mpraxisbeispiel\u001b[00m\n",
      "    ├── \u001b[01;34mfehler\u001b[00m\n",
      "    │   ├── balkendiagramm.py\n",
      "    │   ├── Pipfile\n",
      "    │   └── Pipfile.lock\n",
      "    └── \u001b[01;34mfunktioniert\u001b[00m\n",
      "\n",
      "12 directories, 15 files\n"
     ]
    }
   ],
   "source": [
    "!tree ~/packaging"
   ]
  },
  {
   "cell_type": "code",
   "execution_count": 241,
   "id": "0e8c37fd-aff6-402a-b4ba-1dccf4799157",
   "metadata": {},
   "outputs": [
    {
     "name": "stdout",
     "output_type": "stream",
     "text": [
      "/home/juebrauer/packaging/praxisbeispiel/funktioniert\n"
     ]
    }
   ],
   "source": [
    "%cd ~/packaging/praxisbeispiel/funktioniert"
   ]
  },
  {
   "cell_type": "code",
   "execution_count": 243,
   "id": "b7d8a024-16a3-431e-8485-417a6e376a78",
   "metadata": {},
   "outputs": [
    {
     "name": "stdout",
     "output_type": "stream",
     "text": [
      "\u001b[32m\u001b[1mInstalling matplotlib==...\u001b[0m\n",
      "\u001b[K\u001b[31m\u001b[1mError: \u001b[0m An error occurred while installing \u001b[32mmatplotlib==\u001b[0m!\n",
      "\u001b[KError text: \n",
      "\u001b[K\u001b[36mERROR: Could not find a version that satisfies the requirement matplotlib== (from versions: 0.86, 0.86.1, 0.86.2, 0.91.0, 0.91.1, 1.0.1, 1.1.0, 1.1.1, 1.2.0, 1.2.1, 1.3.0, 1.3.1, 1.4.0, 1.4.1rc1, 1.4.1, 1.4.2, 1.4.3, 1.5.0, 1.5.1, 1.5.2, 1.5.3, 2.0.0b1, 2.0.0b2, 2.0.0b3, 2.0.0b4, 2.0.0rc1, 2.0.0rc2, 2.0.0, 2.0.1, 2.0.2, 2.1.0rc1, 2.1.0, 2.1.1, 2.1.2, 2.2.0rc1, 2.2.0, 2.2.2, 2.2.3, 2.2.4, 2.2.5, 3.0.0rc2, 3.0.0, 3.0.1, 3.0.2, 3.0.3, 3.1.0rc1, 3.1.0rc2, 3.1.0, 3.1.1, 3.1.2, 3.1.3, 3.2.0rc1, 3.2.0rc3, 3.2.0, 3.2.1, 3.2.2, 3.3.0rc1, 3.3.0, 3.3.1, 3.3.2, 3.3.3, 3.3.4, 3.4.0rc1, 3.4.0rc2, 3.4.0rc3, 3.4.0, 3.4.1, 3.4.2, 3.4.3, 3.5.0b1, 3.5.0rc1, 3.5.0, 3.5.1, 3.5.2, 3.5.3, 3.6.0rc1, 3.6.0rc2, 3.6.0, 3.6.1)\n",
      "ERROR: No matching distribution found for matplotlib==\n",
      "\u001b[0m\n",
      "\u001b[K\u001b[?25h\u001b[31m\u001b[22m✘ Installation Failed\u001b[39m\u001b[22m\u001b[0m \n",
      "\u001b[0m"
     ]
    }
   ],
   "source": [
    "# Schauen wir mal, was es aktuell für Matplotlib für Versionen gibt\n",
    "# Wir sehen: bei Google Colab war eine sehr alte Version installiert!\n",
    "!pipenv install matplotlib=="
   ]
  },
  {
   "cell_type": "code",
   "execution_count": 244,
   "id": "51cf3b44-4e56-474a-a495-d540736197ad",
   "metadata": {},
   "outputs": [
    {
     "name": "stdout",
     "output_type": "stream",
     "text": [
      "\u001b[32m\u001b[1mInstalling matplotlib==3.6.1...\u001b[0m\n",
      "\u001b[K\u001b[1mAdding\u001b[0m \u001b[32m\u001b[1mmatplotlib\u001b[0m \u001b[1mto Pipfile's\u001b[0m \u001b[33m\u001b[1m[packages]\u001b[0m\u001b[1m...\u001b[0m\n",
      "\u001b[K\u001b[?25h✔ Installation Succeeded\u001b[0m \n",
      "\u001b[1mPipfile.lock not found, creating...\u001b[0m\n",
      "Locking\u001b[0m \u001b[33m[packages]\u001b[0m dependencies...\u001b[0m\n",
      "\u001b[KBuilding requirements...\n",
      "\u001b[KResolving dependencies...\n",
      "\u001b[K\u001b[?25h\u001b[32m\u001b[22m✔ Success!\u001b[39m\u001b[22m\u001b[0m \n",
      "Locking\u001b[0m \u001b[33m[dev-packages]\u001b[0m dependencies...\u001b[0m\n",
      "\u001b[1mUpdated Pipfile.lock (6ccebca51a49c9a7c9adca4652bc6ab5bbdd4f95c1e8ae3658d841dece29934d)!\u001b[0m\n",
      "\u001b[1mInstalling dependencies from Pipfile.lock (29934d)...\u001b[0m\n",
      "To activate this project's virtualenv, run \u001b[33mpipenv shell\u001b[0m.\n",
      "Alternatively, run a command inside the virtualenv with \u001b[33mpipenv run\u001b[0m.\n",
      "\u001b[0m"
     ]
    }
   ],
   "source": [
    "# Wir installieren die neuste Version von Matplotlib\n",
    "!pipenv install matplotlib==3.6.1"
   ]
  },
  {
   "cell_type": "code",
   "execution_count": 245,
   "id": "bdae0df8-85b8-4d46-96e9-4141b9723658",
   "metadata": {},
   "outputs": [
    {
     "name": "stdout",
     "output_type": "stream",
     "text": [
      "\u001b[32m\u001b[1mInstalling jupyterlab...\u001b[0m\n",
      "\u001b[K\u001b[1mAdding\u001b[0m \u001b[32m\u001b[1mjupyterlab\u001b[0m \u001b[1mto Pipfile's\u001b[0m \u001b[33m\u001b[1m[packages]\u001b[0m\u001b[1m...\u001b[0m\n",
      "\u001b[K\u001b[?25h✔ Installation Succeeded\u001b[0m \n",
      "\u001b[33m\u001b[1mPipfile.lock (29934d) out of date, updating to (cb0c14)...\u001b[0m\n",
      "Locking\u001b[0m \u001b[33m[packages]\u001b[0m dependencies...\u001b[0m\n",
      "\u001b[KBuilding requirements...\n",
      "\u001b[KResolving dependencies...\n",
      "\u001b[K\u001b[?25h\u001b[32m\u001b[22m✔ Success!\u001b[39m\u001b[22m\u001b[0m \n",
      "Locking\u001b[0m \u001b[33m[dev-packages]\u001b[0m dependencies...\u001b[0m\n",
      "\u001b[1mUpdated Pipfile.lock (aec99d1a859c769e45620a4aa20926b059bae89b38e62de89290ca7233cb0c14)!\u001b[0m\n",
      "\u001b[1mInstalling dependencies from Pipfile.lock (cb0c14)...\u001b[0m\n",
      "To activate this project's virtualenv, run \u001b[33mpipenv shell\u001b[0m.\n",
      "Alternatively, run a command inside the virtualenv with \u001b[33mpipenv run\u001b[0m.\n",
      "\u001b[0m"
     ]
    }
   ],
   "source": [
    "!pipenv install jupyterlab"
   ]
  },
  {
   "cell_type": "code",
   "execution_count": 246,
   "id": "fe791be7-c9f0-4c15-91aa-6bcc9bc8cf11",
   "metadata": {},
   "outputs": [],
   "source": [
    "!cp ~/packaging/praxisbeispiel/fehler/balkendiagramm.py ~/packaging/praxisbeispiel/funktioniert"
   ]
  },
  {
   "cell_type": "code",
   "execution_count": 247,
   "id": "3a04b4f7-01b3-4499-8397-efae0d15c76e",
   "metadata": {},
   "outputs": [
    {
     "name": "stdout",
     "output_type": "stream",
     "text": [
      "balkendiagramm.py  Pipfile  Pipfile.lock\n"
     ]
    }
   ],
   "source": [
    "!ls"
   ]
  },
  {
   "cell_type": "code",
   "execution_count": 248,
   "id": "c0272d45-84d7-447a-b0a7-d2cad349c9c5",
   "metadata": {},
   "outputs": [
    {
     "name": "stdout",
     "output_type": "stream",
     "text": [
      "[[source]]\n",
      "url = \"https://pypi.org/simple\"\n",
      "verify_ssl = true\n",
      "name = \"pypi\"\n",
      "\n",
      "[packages]\n",
      "matplotlib = \"==3.6.1\"\n",
      "jupyterlab = \"*\"\n",
      "\n",
      "[dev-packages]\n",
      "\n",
      "[requires]\n",
      "python_version = \"3.8\"\n"
     ]
    }
   ],
   "source": [
    "!cat Pipfile"
   ]
  },
  {
   "cell_type": "code",
   "execution_count": 250,
   "id": "068154a6-08f4-4f89-a7cb-c06db74d3ec8",
   "metadata": {},
   "outputs": [
    {
     "name": "stdout",
     "output_type": "stream",
     "text": [
      "Figure(920x500)\n"
     ]
    }
   ],
   "source": [
    "# Jetzt läuft der Code durch\n",
    "!pipenv run python3 balkendiagramm.py"
   ]
  },
  {
   "cell_type": "markdown",
   "id": "059fde22-b05a-4c93-8172-99b424e10907",
   "metadata": {},
   "source": [
    "# `pipenv verify`\n",
    "\n",
    "Wenn man z.B. die Pipfile direkt editiert, kann man überprüfen, ob man `pipenv lock` neu ausführen muss."
   ]
  },
  {
   "cell_type": "code",
   "execution_count": 257,
   "id": "253b6a46-7102-4670-bd63-765bda641b02",
   "metadata": {},
   "outputs": [
    {
     "name": "stdout",
     "output_type": "stream",
     "text": [
      "\u001b[01;34m/home/juebrauer/packaging\u001b[00m\n",
      "├── \u001b[01;34mentwickler1\u001b[00m\n",
      "│   ├── \u001b[01;34mprojA\u001b[00m\n",
      "│   │   ├── Pipfile\n",
      "│   │   └── Pipfile.lock\n",
      "│   └── \u001b[01;34mprojB\u001b[00m\n",
      "│       ├── Pipfile\n",
      "│       └── Pipfile.lock\n",
      "├── \u001b[01;34mentwickler2\u001b[00m\n",
      "│   ├── \u001b[01;34mprojA\u001b[00m\n",
      "│   │   ├── Pipfile\n",
      "│   │   └── Pipfile.lock\n",
      "│   └── \u001b[01;34mprojB\u001b[00m\n",
      "│       ├── Pipfile\n",
      "│       └── Pipfile.lock\n",
      "├── \u001b[01;34mkunde1\u001b[00m\n",
      "│   ├── \u001b[01;34mprojA\u001b[00m\n",
      "│   │   ├── Pipfile\n",
      "│   │   └── Pipfile.lock\n",
      "│   └── \u001b[01;34mprojB\u001b[00m\n",
      "│       ├── Pipfile\n",
      "│       └── Pipfile.lock\n",
      "└── \u001b[01;34mpraxisbeispiel\u001b[00m\n",
      "    ├── \u001b[01;34mfehler\u001b[00m\n",
      "    │   ├── balkendiagramm.py\n",
      "    │   ├── Pipfile\n",
      "    │   └── Pipfile.lock\n",
      "    └── \u001b[01;34mfunktioniert\u001b[00m\n",
      "        ├── balkendiagramm.py\n",
      "        ├── Pipfile\n",
      "        └── Pipfile.lock\n",
      "\n",
      "12 directories, 18 files\n"
     ]
    }
   ],
   "source": [
    "!tree ~/packaging"
   ]
  },
  {
   "cell_type": "code",
   "execution_count": 258,
   "id": "827d5062-362e-4ee2-a407-3c90cd21289f",
   "metadata": {},
   "outputs": [],
   "source": [
    "!mkdir -p ~/packaging/pipenv_verify"
   ]
  },
  {
   "cell_type": "code",
   "execution_count": 259,
   "id": "c515403b-cc68-405a-9ab3-e31544b5b63f",
   "metadata": {},
   "outputs": [
    {
     "name": "stdout",
     "output_type": "stream",
     "text": [
      "/home/juebrauer/packaging/pipenv_verify\n"
     ]
    }
   ],
   "source": [
    "%cd ~/packaging/pipenv_verify"
   ]
  },
  {
   "cell_type": "code",
   "execution_count": 260,
   "id": "c1d8f46a-da3e-4fb5-9f61-fe074db1b9ad",
   "metadata": {},
   "outputs": [
    {
     "name": "stdout",
     "output_type": "stream",
     "text": [
      "\u001b[1mCreating a virtualenv for this project...\u001b[0m\n",
      "Pipfile: \u001b[33m\u001b[1m/home/juebrauer/packaging/pipenv_verify/Pipfile\u001b[0m\n",
      "\u001b[1mUsing\u001b[0m \u001b[33m\u001b[1m/usr/bin/python3\u001b[0m \u001b[32m(3.8.10)\u001b[0m \u001b[1mto create virtualenv...\u001b[0m\n",
      "⠸\u001b[0m Creating virtual environment...\u001b[K\u001b[36mcreated virtual environment CPython3.8.10.final.0-64 in 161ms\n",
      "  creator Venv(dest=/home/juebrauer/.local/share/virtualenvs/pipenv_verify-NQx19OGn, clear=False, no_vcs_ignore=False, global=False, describe=CPython3Posix)\n",
      "  seeder FromAppData(download=False, pip=bundle, setuptools=bundle, wheel=bundle, via=copy, app_data_dir=/home/juebrauer/.local/share/virtualenv)\n",
      "    added seed packages: pip==22.2.2, setuptools==65.4.1, wheel==0.37.1\n",
      "  activators BashActivator,CShellActivator,FishActivator,NushellActivator,PowerShellActivator,PythonActivator\n",
      "\u001b[0m\n",
      "\u001b[K\u001b[?25h\u001b[32m\u001b[22m✔ Successfully created virtual environment!\u001b[39m\u001b[22m\u001b[0m \n",
      "\u001b[32mVirtualenv location: /home/juebrauer/.local/share/virtualenvs/pipenv_verify-NQx19OGn\u001b[0m\n",
      "\u001b[1mCreating a Pipfile for this project...\u001b[0m\n",
      "\u001b[1mPipfile.lock not found, creating...\u001b[0m\n",
      "Locking\u001b[0m \u001b[33m[packages]\u001b[0m dependencies...\u001b[0m\n",
      "Locking\u001b[0m \u001b[33m[dev-packages]\u001b[0m dependencies...\u001b[0m\n",
      "\u001b[1mUpdated Pipfile.lock (7f7606f08e0544d8d012ef4d097dabdd6df6843a28793eb6551245d4b2db4242)!\u001b[0m\n",
      "\u001b[1mInstalling dependencies from Pipfile.lock (db4242)...\u001b[0m\n",
      "To activate this project's virtualenv, run \u001b[33mpipenv shell\u001b[0m.\n",
      "Alternatively, run a command inside the virtualenv with \u001b[33mpipenv run\u001b[0m.\n",
      "\u001b[0m"
     ]
    }
   ],
   "source": [
    "# Wir erzeugen nur eine leere Umgebung\n",
    "!pipenv install"
   ]
  },
  {
   "cell_type": "code",
   "execution_count": 261,
   "id": "1abe72bb-5af8-4300-b4c8-c86de45358b0",
   "metadata": {},
   "outputs": [
    {
     "name": "stdout",
     "output_type": "stream",
     "text": [
      "Pipfile  Pipfile.lock\n"
     ]
    }
   ],
   "source": [
    "!ls"
   ]
  },
  {
   "cell_type": "code",
   "execution_count": 262,
   "id": "3d047640-e5be-418c-8518-9d677c299e68",
   "metadata": {},
   "outputs": [
    {
     "name": "stdout",
     "output_type": "stream",
     "text": [
      "[[source]]\n",
      "url = \"https://pypi.org/simple\"\n",
      "verify_ssl = true\n",
      "name = \"pypi\"\n",
      "\n",
      "[packages]\n",
      "\n",
      "[dev-packages]\n",
      "\n",
      "[requires]\n",
      "python_version = \"3.8\"\n"
     ]
    }
   ],
   "source": [
    "!cat Pipfile"
   ]
  },
  {
   "cell_type": "code",
   "execution_count": 263,
   "id": "79e50aaf-58b0-4242-b265-b96603935416",
   "metadata": {},
   "outputs": [
    {
     "name": "stdout",
     "output_type": "stream",
     "text": [
      "{\n",
      "    \"_meta\": {\n",
      "        \"hash\": {\n",
      "            \"sha256\": \"7f7606f08e0544d8d012ef4d097dabdd6df6843a28793eb6551245d4b2db4242\"\n",
      "        },\n",
      "        \"pipfile-spec\": 6,\n",
      "        \"requires\": {\n",
      "            \"python_version\": \"3.8\"\n",
      "        },\n",
      "        \"sources\": [\n",
      "            {\n",
      "                \"name\": \"pypi\",\n",
      "                \"url\": \"https://pypi.org/simple\",\n",
      "                \"verify_ssl\": true\n",
      "            }\n",
      "        ]\n",
      "    },\n",
      "    \"default\": {},\n",
      "    \"develop\": {}\n",
      "}\n"
     ]
    }
   ],
   "source": [
    "!cat Pipfile.lock"
   ]
  },
  {
   "cell_type": "code",
   "execution_count": 264,
   "id": "b3bb670d-9a63-410c-9869-faad4eb51a96",
   "metadata": {},
   "outputs": [
    {
     "name": "stdout",
     "output_type": "stream",
     "text": [
      "\u001b[32m\u001b[1mInstalling pandas==...\u001b[0m\n",
      "\u001b[K\u001b[31m\u001b[1mError: \u001b[0m An error occurred while installing \u001b[32mpandas==\u001b[0m!\n",
      "\u001b[KError text: \n",
      "\u001b[K\u001b[36mERROR: Could not find a version that satisfies the requirement pandas== (from versions: 0.1, 0.2, 0.3.0, 0.4.0, 0.4.1, 0.4.2, 0.4.3, 0.5.0, 0.6.0, 0.6.1, 0.7.0, 0.7.1, 0.7.2, 0.7.3, 0.8.0, 0.8.1, 0.9.0, 0.9.1, 0.10.0, 0.10.1, 0.11.0, 0.12.0, 0.13.0, 0.13.1, 0.14.0, 0.14.1, 0.15.0, 0.15.1, 0.15.2, 0.16.0, 0.16.1, 0.16.2, 0.17.0, 0.17.1, 0.18.0, 0.18.1, 0.19.0, 0.19.1, 0.19.2, 0.20.0, 0.20.1, 0.20.2, 0.20.3, 0.21.0, 0.21.1, 0.22.0, 0.23.0, 0.23.1, 0.23.2, 0.23.3, 0.23.4, 0.24.0, 0.24.1, 0.24.2, 0.25.0, 0.25.1, 0.25.2, 0.25.3, 1.0.0, 1.0.1, 1.0.2, 1.0.3, 1.0.4, 1.0.5, 1.1.0, 1.1.1, 1.1.2, 1.1.3, 1.1.4, 1.1.5, 1.2.0, 1.2.1, 1.2.2, 1.2.3, 1.2.4, 1.2.5, 1.3.0, 1.3.1, 1.3.2, 1.3.3, 1.3.4, 1.3.5, 1.4.0rc0, 1.4.0, 1.4.1, 1.4.2, 1.4.3, 1.4.4, 1.5.0rc0, 1.5.0, 1.5.1)\n",
      "ERROR: No matching distribution found for pandas==\n",
      "\u001b[0m\n",
      "\u001b[K\u001b[?25h\u001b[31m\u001b[22m✘ Installation Failed\u001b[39m\u001b[22m\u001b[0m \n",
      "\u001b[0m"
     ]
    }
   ],
   "source": [
    "!pipenv install pandas=="
   ]
  },
  {
   "cell_type": "code",
   "execution_count": 266,
   "id": "60fded4b-85ce-4ad2-a56e-6c6295fe556d",
   "metadata": {},
   "outputs": [],
   "source": [
    "# Wir editieren jetzt die Pipfile direkt und fügen ein Paket manuell hier hinzu, z.B.\n",
    "# pandas = \"==1.4.0\""
   ]
  },
  {
   "cell_type": "code",
   "execution_count": 267,
   "id": "00c305d2-b9d1-42ce-a209-c6b9106b0ca4",
   "metadata": {},
   "outputs": [
    {
     "name": "stdout",
     "output_type": "stream",
     "text": [
      "[[source]]\n",
      "url = \"https://pypi.org/simple\"\n",
      "verify_ssl = true\n",
      "name = \"pypi\"\n",
      "\n",
      "[packages]\n",
      "pandas = \"==1.4.0\"\n",
      "\n",
      "[dev-packages]\n",
      "\n",
      "[requires]\n",
      "python_version = \"3.8\"\n"
     ]
    }
   ],
   "source": [
    "!cat Pipfile"
   ]
  },
  {
   "cell_type": "code",
   "execution_count": 268,
   "id": "97878bb9-f74d-4bed-a592-13dc9aa31a41",
   "metadata": {},
   "outputs": [
    {
     "name": "stdout",
     "output_type": "stream",
     "text": [
      "Pipfile.lock is out-of-date. Run \u001b[33m\u001b[1m$ pipenv lock\u001b[0m to update.\n",
      "\u001b[0m"
     ]
    }
   ],
   "source": [
    "# Jetzt sind also Pipfile und Pipfile.lock nicht mehr synchron\n",
    "# Das können wir mit pipenv verify feststellen\n",
    "!pipenv verify"
   ]
  },
  {
   "cell_type": "code",
   "execution_count": 269,
   "id": "6c819822-9454-444f-9da0-95ed5ad088bd",
   "metadata": {},
   "outputs": [
    {
     "name": "stdout",
     "output_type": "stream",
     "text": [
      "Locking\u001b[0m \u001b[33m[packages]\u001b[0m dependencies...\u001b[0m\n",
      "\u001b[KBuilding requirements...\n",
      "\u001b[KResolving dependencies...\n",
      "\u001b[K\u001b[?25h\u001b[32m\u001b[22m✔ Success!\u001b[39m\u001b[22m\u001b[0m \n",
      "Locking\u001b[0m \u001b[33m[dev-packages]\u001b[0m dependencies...\u001b[0m\n",
      "\u001b[1mUpdated Pipfile.lock (822a5c5f21330387c1c004ffe3def0aba048e58a0f0ea661f8f8550278673d9e)!\u001b[0m\n",
      "\u001b[0m"
     ]
    }
   ],
   "source": [
    "# Ok, dann locken wir mal...\n",
    "!pipenv lock"
   ]
  },
  {
   "cell_type": "code",
   "execution_count": 270,
   "id": "9e436269-415a-4a08-b31a-a655edad60c2",
   "metadata": {},
   "outputs": [
    {
     "name": "stdout",
     "output_type": "stream",
     "text": [
      "{\n",
      "    \"_meta\": {\n",
      "        \"hash\": {\n",
      "            \"sha256\": \"822a5c5f21330387c1c004ffe3def0aba048e58a0f0ea661f8f8550278673d9e\"\n",
      "        },\n",
      "        \"pipfile-spec\": 6,\n",
      "        \"requires\": {\n",
      "            \"python_version\": \"3.8\"\n",
      "        },\n",
      "        \"sources\": [\n",
      "            {\n",
      "                \"name\": \"pypi\",\n",
      "                \"url\": \"https://pypi.org/simple\",\n",
      "                \"verify_ssl\": true\n",
      "            }\n",
      "        ]\n",
      "    },\n",
      "    \"default\": {\n",
      "        \"numpy\": {\n",
      "            \"hashes\": [\n",
      "                \"sha256:0fe563fc8ed9dc4474cbf70742673fc4391d70f4363f917599a7fa99f042d5a8\",\n",
      "                \"sha256:12ac457b63ec8ded85d85c1e17d85efd3c2b0967ca39560b307a35a6703a4735\",\n",
      "                \"sha256:2341f4ab6dba0834b685cce16dad5f9b6606ea8a00e6da154f5dbded70fdc4dd\",\n",
      "                \"sha256:296d17aed51161dbad3c67ed6d164e51fcd18dbcd5dd4f9d0a9c6055dce30810\",\n",
      "                \"sha256:488a66cb667359534bc70028d653ba1cf307bae88eab5929cd707c761ff037db\",\n",
      "                \"sha256:4d52914c88b4930dafb6c48ba5115a96cbab40f45740239d9f4159c4ba779962\",\n",
      "                \"sha256:5e13030f8793e9ee42f9c7d5777465a560eb78fa7e11b1c053427f2ccab90c79\",\n",
      "                \"sha256:61be02e3bf810b60ab74e81d6d0d36246dbfb644a462458bb53b595791251911\",\n",
      "                \"sha256:7607b598217745cc40f751da38ffd03512d33ec06f3523fb0b5f82e09f6f676d\",\n",
      "                \"sha256:7a70a7d3ce4c0e9284e92285cba91a4a3f5214d87ee0e95928f3614a256a1488\",\n",
      "                \"sha256:7ab46e4e7ec63c8a5e6dbf5c1b9e1c92ba23a7ebecc86c336cb7bf3bd2fb10e5\",\n",
      "                \"sha256:8981d9b5619569899666170c7c9748920f4a5005bf79c72c07d08c8a035757b0\",\n",
      "                \"sha256:8c053d7557a8f022ec823196d242464b6955a7e7e5015b719e76003f63f82d0f\",\n",
      "                \"sha256:926db372bc4ac1edf81cfb6c59e2a881606b409ddc0d0920b988174b2e2a767f\",\n",
      "                \"sha256:95d79ada05005f6f4f337d3bb9de8a7774f259341c70bc88047a1f7b96a4bcb2\",\n",
      "                \"sha256:95de7dc7dc47a312f6feddd3da2500826defdccbc41608d0031276a24181a2c0\",\n",
      "                \"sha256:a0882323e0ca4245eb0a3d0a74f88ce581cc33aedcfa396e415e5bba7bf05f68\",\n",
      "                \"sha256:a8365b942f9c1a7d0f0dc974747d99dd0a0cdfc5949a33119caf05cb314682d3\",\n",
      "                \"sha256:a8aae2fb3180940011b4862b2dd3756616841c53db9734b27bb93813cd79fce6\",\n",
      "                \"sha256:c237129f0e732885c9a6076a537e974160482eab8f10db6292e92154d4c67d71\",\n",
      "                \"sha256:c67b833dbccefe97cdd3f52798d430b9d3430396af7cdb2a0c32954c3ef73894\",\n",
      "                \"sha256:ce03305dd694c4873b9429274fd41fc7eb4e0e4dea07e0af97a933b079a5814f\",\n",
      "                \"sha256:d331afac87c92373826af83d2b2b435f57b17a5c74e6268b79355b970626e329\",\n",
      "                \"sha256:dada341ebb79619fe00a291185bba370c9803b1e1d7051610e01ed809ef3a4ba\",\n",
      "                \"sha256:ed2cc92af0efad20198638c69bb0fc2870a58dabfba6eb722c933b48556c686c\",\n",
      "                \"sha256:f260da502d7441a45695199b4e7fd8ca87db659ba1c78f2bbf31f934fe76ae0e\",\n",
      "                \"sha256:f2f390aa4da44454db40a1f0201401f9036e8d578a25f01a6e237cea238337ef\",\n",
      "                \"sha256:f76025acc8e2114bb664294a07ede0727aa75d63a06d2fae96bf29a81747e4a7\"\n",
      "            ],\n",
      "            \"markers\": \"python_version < '3.10' and platform_machine != 'aarch64' and platform_machine != 'arm64'\",\n",
      "            \"version\": \"==1.23.4\"\n",
      "        },\n",
      "        \"pandas\": {\n",
      "            \"hashes\": [\n",
      "                \"sha256:0f19504f2783526fb5b4de675ea69d68974e21c1624f4b92295d057a31d5ec5f\",\n",
      "                \"sha256:156aac90dd7b303bf0b91bae96c0503212777f86c731e41929c571125d26c8e9\",\n",
      "                \"sha256:1d59c958d6b8f96fdf850c7821571782168d5acfe75ccf78cd8d1ac15fb921df\",\n",
      "                \"sha256:1f3b74335390dda49f5d5089fab71958812bf56f42aa27663ee4c16d19f4f1c5\",\n",
      "                \"sha256:23c04dab11f3c6359cfa7afa83d3d054a8f8c283d773451184d98119ef54da97\",\n",
      "                \"sha256:2dad075089e17a72391de33021ad93720aff258c3c4b68c78e1cafce7e447045\",\n",
      "                \"sha256:46a18572f3e1cb75db59d9461940e9ba7ee38967fa48dd58f4139197f6e32280\",\n",
      "                \"sha256:4a8d5a200f8685e7ea562b2f022c77ab7cb82c1ca5b240e6965faa6f84e5c1e9\",\n",
      "                \"sha256:51e5da3802aaee1aa4254108ffaf1129a15fb3810b7ce8da1ec217c655b418f5\",\n",
      "                \"sha256:5229c95db3a907451dacebc551492db6f7d01743e49bbc862f4a6010c227d187\",\n",
      "                \"sha256:5280d057ddae06fe4a3cd6aa79040b8c205cd6dd21743004cf8635f39ed01712\",\n",
      "                \"sha256:55ec0e192eefa26d823fc25a1f213d6c304a3592915f368e360652994cdb8d9a\",\n",
      "                \"sha256:73f7da2ccc38cc988b74e5400b430b7905db5f2c413ff215506bea034eaf832d\",\n",
      "                \"sha256:784cca3f69cfd7f6bd7c7fdb44f2bbab17e6de55725e9ff36d6f382510dfefb5\",\n",
      "                \"sha256:b5af258c7b090cca7b742cf2bd67ad1919aa9e4e681007366c9edad2d6a3d42b\",\n",
      "                \"sha256:cdd76254c7f0a1583bd4e4781fb450d0ebf392e10d3f12e92c95575942e37df5\",\n",
      "                \"sha256:de62cf699122dcef175988f0714678e59c453dc234c5b47b7136bfd7641e3c8c\",\n",
      "                \"sha256:de8f8999864399529e8514a2e6bfe00fd161f0a667903655552ed12e583ae3cb\",\n",
      "                \"sha256:f045bb5c6bfaba536089573bf97d6b8ccc7159d951fe63904c395a5e486fbe14\",\n",
      "                \"sha256:f103a5cdcd66cb18882ccdc18a130c31c3cfe3529732e7f10a8ab3559164819c\",\n",
      "                \"sha256:fe454180ad31bbbe1e5d111b44443258730467f035e26b4e354655ab59405871\"\n",
      "            ],\n",
      "            \"index\": \"pypi\",\n",
      "            \"version\": \"==1.4.0\"\n",
      "        },\n",
      "        \"python-dateutil\": {\n",
      "            \"hashes\": [\n",
      "                \"sha256:0123cacc1627ae19ddf3c27a5de5bd67ee4586fbdd6440d9748f8abb483d3e86\",\n",
      "                \"sha256:961d03dc3453ebbc59dbdea9e4e11c5651520a876d0f4db161e8674aae935da9\"\n",
      "            ],\n",
      "            \"markers\": \"python_version >= '2.7' and python_version not in '3.0, 3.1, 3.2, 3.3'\",\n",
      "            \"version\": \"==2.8.2\"\n",
      "        },\n",
      "        \"pytz\": {\n",
      "            \"hashes\": [\n",
      "                \"sha256:222439474e9c98fced559f1709d89e6c9cbf8d79c794ff3eb9f8800064291427\",\n",
      "                \"sha256:e89512406b793ca39f5971bc999cc538ce125c0e51c27941bef4568b460095e2\"\n",
      "            ],\n",
      "            \"version\": \"==2022.6\"\n",
      "        },\n",
      "        \"six\": {\n",
      "            \"hashes\": [\n",
      "                \"sha256:1e61c37477a1626458e36f7b1d82aa5c9b094fa4802892072e49de9c60c4c926\",\n",
      "                \"sha256:8abb2f1d86890a2dfb989f9a77cfcfd3e47c2a354b01111771326f8aa26e0254\"\n",
      "            ],\n",
      "            \"markers\": \"python_version >= '2.7' and python_version not in '3.0, 3.1, 3.2, 3.3'\",\n",
      "            \"version\": \"==1.16.0\"\n",
      "        }\n",
      "    },\n",
      "    \"develop\": {}\n",
      "}\n"
     ]
    }
   ],
   "source": [
    "!cat Pipfile.lock"
   ]
  },
  {
   "cell_type": "code",
   "execution_count": 272,
   "id": "770a49dd-651a-4287-a2a2-0ddc390f92ad",
   "metadata": {},
   "outputs": [
    {
     "name": "stdout",
     "output_type": "stream",
     "text": [
      "\u001b[32mPipfile.lock is up-to-date.\u001b[0m\n",
      "\u001b[0m"
     ]
    }
   ],
   "source": [
    "# Jetzt müssten Pipfile und Pipfile.lock wieder synchron sein, oder?\n",
    "# Ja, passt!\n",
    "!pipenv verify"
   ]
  },
  {
   "cell_type": "code",
   "execution_count": null,
   "id": "21f91d5b-2acb-4da4-af1d-9e942cdce6a8",
   "metadata": {},
   "outputs": [],
   "source": []
  }
 ],
 "metadata": {
  "kernelspec": {
   "display_name": "Python 3",
   "language": "python",
   "name": "python3"
  },
  "language_info": {
   "codemirror_mode": {
    "name": "ipython",
    "version": 3
   },
   "file_extension": ".py",
   "mimetype": "text/x-python",
   "name": "python",
   "nbconvert_exporter": "python",
   "pygments_lexer": "ipython3",
   "version": "3.8.10"
  },
  "toc-autonumbering": true
 },
 "nbformat": 4,
 "nbformat_minor": 5
}
