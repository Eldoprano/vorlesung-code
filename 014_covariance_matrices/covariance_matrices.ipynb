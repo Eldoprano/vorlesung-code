{
 "cells": [
  {
   "cell_type": "markdown",
   "id": "e08df146-07e0-40b8-9e3c-3d14ebd20d72",
   "metadata": {},
   "source": [
    "# Introduction\n",
    "\n",
    "This is an introduction on\n",
    "- how to compute a sample covariance matrix given some data\n",
    "- how to visualize the sample covariance matrix"
   ]
  },
  {
   "cell_type": "markdown",
   "id": "eb3e120f-4a31-4a24-ad42-00175c65dadb",
   "metadata": {},
   "source": [
    "# Variants\n",
    "\n",
    "This notebook provides 3 different variants:\n",
    "\n",
    "1. where two variables x,y are independent\n",
    "2. where x and y are dependant: the larger x, the larger y\n",
    "3. where x and y are dependant: the larger x, the smaller y"
   ]
  },
  {
   "cell_type": "code",
   "execution_count": 181,
   "id": "37aeba97-3a31-4d4e-9bf0-eb60876e1fbb",
   "metadata": {},
   "outputs": [],
   "source": [
    "variant = 2"
   ]
  },
  {
   "cell_type": "markdown",
   "id": "dfbca4d7-efb5-41f4-b1b4-e427ae547fab",
   "metadata": {},
   "source": [
    "# Generate and visualize some data"
   ]
  },
  {
   "cell_type": "code",
   "execution_count": 182,
   "id": "667b0665-345b-4f0e-85f5-6fa3a55e25a2",
   "metadata": {},
   "outputs": [
    {
     "name": "stdout",
     "output_type": "stream",
     "text": [
      "shape of M is (1000, 2)\n"
     ]
    },
    {
     "data": {
      "image/png": "[encoded data removed]",
      "text/plain": [
       "<Figure size 432x288 with 1 Axes>"
      ]
     },
     "metadata": {
      "needs_background": "light"
     },
     "output_type": "display_data"
    }
   ],
   "source": [
    "import numpy\n",
    "N = 1000\n",
    "M = numpy.zeros((N,2))\n",
    "\n",
    "for i in range(N):\n",
    "    x = numpy.random.normal(loc=0, scale=1)\n",
    "    \n",
    "    if variant==1:\n",
    "        y = numpy.random.normal(loc=0, scale=1)\n",
    "    elif variant==2:\n",
    "        y = x + numpy.random.normal(loc=0, scale=1)\n",
    "    elif variant==3:\n",
    "        y = -x + numpy.random.normal(loc=0, scale=1)\n",
    "        \n",
    "    M[i,0] = x\n",
    "    M[i,1] = y\n",
    "    \n",
    "print( f\"shape of M is {M.shape}\" )\n",
    "\n",
    "import matplotlib.pyplot as plt\n",
    "plt.scatter(M[:,0], M[:,1], marker=\".\", alpha=0.4)\n",
    "plt.xlim(-10,10)\n",
    "plt.ylim(-10,10)\n",
    "plt.xlabel(\"x\")\n",
    "plt.ylabel(\"y\")\n",
    "plt.grid()\n",
    "plt.show()"
   ]
  },
  {
   "cell_type": "markdown",
   "id": "2acf3585-a8de-4c90-9cab-f718c96cd4c6",
   "metadata": {},
   "source": [
    "# Compute sample covariance matrix\n",
    "\n",
    "For the definition of the sample covariance matrix see e.g.\n",
    "- https://en.wikipedia.org/wiki/Sample_mean_and_covariance#Definition_of_sample_covariance (English)\n",
    "- https://de.wikipedia.org/wiki/Stichprobenkovarianz (German)\n",
    "    \n",
    "\n",
    "$\\sigma_{x,y} := Cov(x,y) := \\frac{1}{n-1} \\sum \\limits_{i=1}^n (x_i - \\overline x) (y_i - \\overline y)$"
   ]
  },
  {
   "cell_type": "markdown",
   "id": "e1c5d522-4e91-4f60-874c-31e124672e7b",
   "metadata": {},
   "source": [
    "## Variant A\n",
    "\n",
    "Here we do not use NumPy functionality, but compute the covariance matrix by our own:"
   ]
  },
  {
   "cell_type": "code",
   "execution_count": 183,
   "id": "abd22815-a2c4-418a-9cd4-02958f180a87",
   "metadata": {},
   "outputs": [
    {
     "name": "stdout",
     "output_type": "stream",
     "text": [
      "Cov_M:\n",
      "[[1.06348184 1.07747143]\n",
      " [1.07747143 2.06303464]]\n"
     ]
    }
   ],
   "source": [
    "Cov_M = numpy.zeros( (2,2) )\n",
    "\n",
    "def cov(x,y):\n",
    "    \n",
    "    n = len(x)\n",
    "        \n",
    "    # compute means\n",
    "    mean_x = 0\n",
    "    mean_y = 0\n",
    "    for i in range(n):\n",
    "        mean_x += x[i]\n",
    "        mean_y += y[i]\n",
    "    mean_x /= n\n",
    "    mean_y /= n\n",
    "        \n",
    "    # compute covariance\n",
    "    sigma_xy = 0\n",
    "    for i in range(n):\n",
    "        sigma_xy += (x[i] - mean_x) * (y[i] - mean_y)\n",
    "    sigma_xy *= 1/(n-1)\n",
    "    \n",
    "    return sigma_xy\n",
    "\n",
    "x = M[:,0]\n",
    "y = M[:,1]\n",
    "\n",
    "Cov_M[0,0] = cov(x,x)\n",
    "Cov_M[0,1] = cov(x,y)\n",
    "Cov_M[1,0] = cov(y,x)\n",
    "Cov_M[1,1] = cov(y,y)\n",
    "\n",
    "print(\"Cov_M:\")\n",
    "print(Cov_M)"
   ]
  },
  {
   "cell_type": "markdown",
   "id": "f1088120-4fc8-49d4-8185-a47c7b58f646",
   "metadata": {},
   "source": [
    "## Variant B\n",
    "\n",
    "We can directly compute the covariance matrix `Cov_M` of a given matrix `M` using NumPy's function `cov()`.\n",
    "\n",
    "Note the importance of the flag `rowvar=False`, which tells NumPy that each column is a single variable and each row an observation:\n",
    "\n",
    "see https://numpy.org/doc/stable/reference/generated/numpy.cov.html\n",
    "\n"
   ]
  },
  {
   "cell_type": "code",
   "execution_count": 184,
   "id": "5dd8fb3b-b4cb-4a11-8298-23be74c96328",
   "metadata": {},
   "outputs": [
    {
     "name": "stdout",
     "output_type": "stream",
     "text": [
      "Cov_M:\n",
      "[[1.06348184 1.07747143]\n",
      " [1.07747143 2.06303464]]\n"
     ]
    }
   ],
   "source": [
    "Cov_M = numpy.cov(M, rowvar=False, bias=False)\n",
    "print(\"Cov_M:\")\n",
    "print(Cov_M)"
   ]
  },
  {
   "cell_type": "markdown",
   "id": "8e6e6a61-fc9d-4f9e-b957-00fbcc1556c5",
   "metadata": {},
   "source": [
    "We can see that both resulting covariance matrices - computing the covariance matrix by our own and computing the covariance matrix using NumPy - are the same."
   ]
  },
  {
   "cell_type": "markdown",
   "id": "ba503b1c-59c0-4ef4-87ef-c8fdc7fcade7",
   "metadata": {},
   "source": [
    "# Relationship between variance and covariance\n",
    "\n",
    "$Var(X) = Cov(X,X)$"
   ]
  },
  {
   "cell_type": "code",
   "execution_count": 185,
   "id": "ebae0eca-1cbb-4fc4-9beb-f2c7fbb52349",
   "metadata": {},
   "outputs": [
    {
     "data": {
      "text/plain": [
       "array([[1.06241836, 1.07639396],\n",
       "       [1.07639396, 2.06097161]])"
      ]
     },
     "execution_count": 185,
     "metadata": {},
     "output_type": "execute_result"
    }
   ],
   "source": [
    "Cov_M = numpy.cov(M, rowvar=False, bias=True)\n",
    "Cov_M"
   ]
  },
  {
   "cell_type": "code",
   "execution_count": 186,
   "id": "be2dfd61-9022-4b83-b0ad-0600fde032c3",
   "metadata": {},
   "outputs": [
    {
     "data": {
      "text/plain": [
       "1.062418358793476"
      ]
     },
     "execution_count": 186,
     "metadata": {},
     "output_type": "execute_result"
    }
   ],
   "source": [
    "numpy.var(M[:,0])"
   ]
  },
  {
   "cell_type": "code",
   "execution_count": 187,
   "id": "a6fe880a-6760-494d-93d7-40197b44d554",
   "metadata": {},
   "outputs": [
    {
     "data": {
      "text/plain": [
       "2.060971605269446"
      ]
     },
     "execution_count": 187,
     "metadata": {},
     "output_type": "execute_result"
    }
   ],
   "source": [
    "numpy.var(M[:,1])"
   ]
  },
  {
   "cell_type": "markdown",
   "id": "02135755-d9a3-43ca-b1cc-0e77fa1f5659",
   "metadata": {},
   "source": [
    "# Visualize the covariance matrix\n",
    "\n",
    "## As a heatmap"
   ]
  },
  {
   "cell_type": "code",
   "execution_count": 188,
   "id": "d5af3b86-c11d-4be7-a981-a55318c085d9",
   "metadata": {},
   "outputs": [
    {
     "data": {
      "text/plain": [
       "array([[1.06241836, 1.07639396],\n",
       "       [1.07639396, 2.06097161]])"
      ]
     },
     "execution_count": 188,
     "metadata": {},
     "output_type": "execute_result"
    }
   ],
   "source": [
    "Cov_M"
   ]
  },
  {
   "cell_type": "code",
   "execution_count": 189,
   "id": "170e0e1a-7291-4a3c-bb1b-808b377ad38d",
   "metadata": {},
   "outputs": [
    {
     "data": {
      "image/png": "[encoded data removed]",
      "text/plain": [
       "<Figure size 432x288 with 2 Axes>"
      ]
     },
     "metadata": {
      "needs_background": "light"
     },
     "output_type": "display_data"
    }
   ],
   "source": [
    "plt.imshow( Cov_M, cmap=\"gray\" )\n",
    "plt.colorbar()\n",
    "plt.show()"
   ]
  },
  {
   "cell_type": "markdown",
   "id": "cc331498-6174-438a-bd90-b465040a14c0",
   "metadata": {},
   "source": [
    "## As an ellipse\n",
    "\n",
    "See https://stackoverflow.com/questions/20126061/creating-a-confidence-ellipses-in-a-sccatterplot-using-matplotlib"
   ]
  },
  {
   "cell_type": "code",
   "execution_count": 190,
   "id": "c6ee7b28-b11e-4f36-be44-6d7045c690ff",
   "metadata": {},
   "outputs": [
    {
     "data": {
      "image/png": "[encoded data removed]",
      "text/plain": [
       "<Figure size 360x360 with 1 Axes>"
      ]
     },
     "metadata": {
      "needs_background": "light"
     },
     "output_type": "display_data"
    }
   ],
   "source": [
    "def plot_ellipse_for_data_matrix(M):\n",
    "\n",
    "    from matplotlib.patches import Ellipse\n",
    "\n",
    "    def eigsorted(cov):\n",
    "        vals, vecs = numpy.linalg.eigh(cov)\n",
    "        order = vals.argsort()[::-1]\n",
    "        return vals[order], vecs[:,order]\n",
    "\n",
    "    # see https://en.wikipedia.org/wiki/Normal_distribution#Standard_deviation_and_coverage\n",
    "    # 2 sigma corresponds to 95% of the data points\n",
    "    nstd = 2\n",
    "\n",
    "    # compute covariance matrix\n",
    "    x = M[:,0]\n",
    "    y = M[:,1]\n",
    "    cov = numpy.cov(x,y)\n",
    "\n",
    "    # compute eigenvectors and eigenvalues\n",
    "    # sort eigenvectors in descing order of eigenvalues\n",
    "    vals, vecs = eigsorted(cov)\n",
    "\n",
    "    # compute angle of ellipse\n",
    "    theta = numpy.degrees(numpy.arctan2(*vecs[:,0][::-1]))\n",
    "\n",
    "    # compute width and height of ellipse\n",
    "    # see https://cookierobotics.com/007/\n",
    "    # note: the lengths of the eigenvectors such that we\n",
    "    #       have a 1 sigma ellipse are\n",
    "    #       sqrt(eigenvalue1) and sqrt(eigenvalue2)\n",
    "    #\n",
    "    #       so the length of the ellipse rectangle sides\n",
    "    #       are 2*sqrt(eigenvalue1) and 2*sqrt(eigenvalue2)\n",
    "    #\n",
    "    #       since we do not want to plot the 1 sigma= 90% confidence area,\n",
    "    #       but the 2 sigma = 95% confidence area, we multiply with nstd\n",
    "    plt.figure(figsize=(5,5))\n",
    "    ax = plt.subplot(111)\n",
    "    plt.scatter(x, y, marker=\".\", alpha=0.4)\n",
    "    plt.xlabel(\"x\")\n",
    "    plt.ylabel(\"y\")\n",
    "    plt.xlim(-10,10)\n",
    "    plt.ylim(-10,10)\n",
    "    plt.grid()\n",
    "    for sigma in range(1,4):\n",
    "        w, h = 2 * sigma * numpy.sqrt(vals)\n",
    "        ell = Ellipse(xy=(numpy.mean(x), numpy.mean(y)),\n",
    "                      width=w, height=h,\n",
    "                      angle=theta, color='red')\n",
    "        ell.set_facecolor('none')\n",
    "        ax.add_artist(ell)\n",
    "    plt.show()\n",
    "    \n",
    "plot_ellipse_for_data_matrix(M)"
   ]
  },
  {
   "cell_type": "markdown",
   "id": "374ef77d-651a-4970-881d-a1b4c991c6c3",
   "metadata": {},
   "source": [
    "# Check whether a matrix is a covariance matrix\n",
    "\n",
    "See https://localcoder.org/find-out-if-matrix-is-positive-definite-with-numpy"
   ]
  },
  {
   "cell_type": "code",
   "execution_count": 191,
   "id": "acfdb4c4-09d1-4154-a4ab-84583c64549d",
   "metadata": {},
   "outputs": [],
   "source": [
    "def is_pos_semi_definite(x):\n",
    "    return numpy.all(numpy.linalg.eigvals(x) >= 0)"
   ]
  },
  {
   "cell_type": "code",
   "execution_count": 192,
   "id": "ed14382e-9b66-4080-a3ab-c0a05f31afbb",
   "metadata": {},
   "outputs": [
    {
     "data": {
      "text/plain": [
       "True"
      ]
     },
     "execution_count": 192,
     "metadata": {},
     "output_type": "execute_result"
    }
   ],
   "source": [
    "Cov_M = numpy.cov(M, rowvar=False, bias=False)\n",
    "is_pos_semi_definite(Cov_M)"
   ]
  },
  {
   "cell_type": "code",
   "execution_count": 193,
   "id": "d235705c-8c9f-4043-9e76-1d628a75ff80",
   "metadata": {},
   "outputs": [
    {
     "data": {
      "text/plain": [
       "False"
      ]
     },
     "execution_count": 193,
     "metadata": {},
     "output_type": "execute_result"
    }
   ],
   "source": [
    "Cov_M = [[1, 0],\n",
    "         [0, -5]]\n",
    "is_pos_semi_definite(Cov_M)"
   ]
  },
  {
   "cell_type": "code",
   "execution_count": 194,
   "id": "49dbd5d5-eb38-4d1e-8344-30830bf4a7b0",
   "metadata": {},
   "outputs": [
    {
     "data": {
      "text/plain": [
       "True"
      ]
     },
     "execution_count": 194,
     "metadata": {},
     "output_type": "execute_result"
    }
   ],
   "source": [
    "Cov_M = [[1, 0],\n",
    "         [0, 5]]\n",
    "is_pos_semi_definite(Cov_M)"
   ]
  },
  {
   "cell_type": "code",
   "execution_count": 195,
   "id": "0e4778cf-c45d-4b7f-8dc7-14593d75f745",
   "metadata": {},
   "outputs": [
    {
     "data": {
      "text/plain": [
       "True"
      ]
     },
     "execution_count": 195,
     "metadata": {},
     "output_type": "execute_result"
    }
   ],
   "source": [
    "Cov_M = [[1, 2],\n",
    "         [2, 4]]\n",
    "is_pos_semi_definite(Cov_M)"
   ]
  },
  {
   "cell_type": "code",
   "execution_count": 196,
   "id": "3bbfcfef-1e3f-49e0-8e95-04512d90560b",
   "metadata": {},
   "outputs": [
    {
     "data": {
      "text/plain": [
       "False"
      ]
     },
     "execution_count": 196,
     "metadata": {},
     "output_type": "execute_result"
    }
   ],
   "source": [
    "Cov_M = [[1, 2],\n",
    "         [3, 4]]\n",
    "is_pos_semi_definite(Cov_M)"
   ]
  },
  {
   "cell_type": "code",
   "execution_count": 197,
   "id": "762991c4-aa65-4263-b66c-a424090ec11b",
   "metadata": {},
   "outputs": [
    {
     "data": {
      "text/plain": [
       "False"
      ]
     },
     "execution_count": 197,
     "metadata": {},
     "output_type": "execute_result"
    }
   ],
   "source": [
    "Cov_M = [[1, 2],\n",
    "         [3, 5]]\n",
    "is_pos_semi_definite(Cov_M)"
   ]
  },
  {
   "cell_type": "code",
   "execution_count": null,
   "id": "014ca77f-417d-419a-a65d-253ea1e03c7e",
   "metadata": {},
   "outputs": [],
   "source": []
  }
 ],
 "metadata": {
  "kernelspec": {
   "display_name": "Python 3 (ipykernel)",
   "language": "python",
   "name": "python3"
  },
  "language_info": {
   "codemirror_mode": {
    "name": "ipython",
    "version": 3
   },
   "file_extension": ".py",
   "mimetype": "text/x-python",
   "name": "python",
   "nbconvert_exporter": "python",
   "pygments_lexer": "ipython3",
   "version": "3.8.10"
  },
  "toc-autonumbering": true
 },
 "nbformat": 4,
 "nbformat_minor": 5
}
