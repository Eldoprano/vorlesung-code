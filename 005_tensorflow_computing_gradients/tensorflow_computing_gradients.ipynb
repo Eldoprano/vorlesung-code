{
 "cells": [
  {
   "cell_type": "markdown",
   "id": "287297f3-a1fb-43f9-b809-761df920caea",
   "metadata": {},
   "source": [
    "# Introduction\n",
    "\n",
    "I use this notebook to work myself into TensorFlow:\n",
    "\n",
    "https://www.tensorflow.org/\n",
    "\n",
    "Here I show how to use TensorFlow in order to\n",
    "\n",
    "- compute gradients\n",
    "- learn how to add or subtract two inputs"
   ]
  },
  {
   "cell_type": "markdown",
   "id": "01e94b19-e488-4676-98ca-2c4c2958eb6c",
   "metadata": {},
   "source": [
    "# Computing gradients with TensorFlow"
   ]
  },
  {
   "cell_type": "markdown",
   "id": "74affa8e-aa83-4a0e-a6ff-04c9d6beaa39",
   "metadata": {},
   "source": [
    "## Display TensorFlow version"
   ]
  },
  {
   "cell_type": "code",
   "execution_count": 1,
   "id": "dea026b3-e492-4798-9656-b45653d72bc0",
   "metadata": {},
   "outputs": [],
   "source": [
    "import tensorflow as tf"
   ]
  },
  {
   "cell_type": "code",
   "execution_count": 2,
   "id": "97c312db-15dd-4533-860f-a4d76bfe1c3f",
   "metadata": {},
   "outputs": [
    {
     "data": {
      "text/plain": [
       "'2.4.1'"
      ]
     },
     "execution_count": 2,
     "metadata": {},
     "output_type": "execute_result"
    }
   ],
   "source": [
    "tf.__version__"
   ]
  },
  {
   "cell_type": "markdown",
   "id": "579f0646-4acb-45d3-bc5e-b6f02d127b57",
   "metadata": {},
   "source": [
    "## A mini computation graph"
   ]
  },
  {
   "cell_type": "code",
   "execution_count": 3,
   "id": "9d9de851-52e3-4be5-b925-56bba14d428b",
   "metadata": {},
   "outputs": [
    {
     "name": "stderr",
     "output_type": "stream",
     "text": [
      "2022-04-25 15:13:27.560565: I tensorflow/compiler/jit/xla_cpu_device.cc:41] Not creating XLA devices, tf_xla_enable_xla_devices not set\n",
      "2022-04-25 15:13:27.561150: I tensorflow/core/platform/cpu_feature_guard.cc:142] This TensorFlow binary is optimized with oneAPI Deep Neural Network Library (oneDNN) to use the following CPU instructions in performance-critical operations:  SSE4.1 SSE4.2 AVX AVX2 FMA\n",
      "To enable them in other operations, rebuild TensorFlow with the appropriate compiler flags.\n",
      "2022-04-25 15:13:27.562789: I tensorflow/core/common_runtime/process_util.cc:146] Creating new thread pool with default inter op setting: 2. Tune using inter_op_parallelism_threads for best performance.\n"
     ]
    }
   ],
   "source": [
    "a = tf.constant(3)\n",
    "b = tf.constant(4)"
   ]
  },
  {
   "cell_type": "code",
   "execution_count": 4,
   "id": "098610ae-3674-49ec-a789-f71fb15f882c",
   "metadata": {},
   "outputs": [
    {
     "name": "stdout",
     "output_type": "stream",
     "text": [
      "tf.Tensor(3, shape=(), dtype=int32)\n"
     ]
    }
   ],
   "source": [
    "print(a)"
   ]
  },
  {
   "cell_type": "code",
   "execution_count": 5,
   "id": "6dd93fcd-5901-4585-8f5b-cd80582154b3",
   "metadata": {},
   "outputs": [
    {
     "name": "stdout",
     "output_type": "stream",
     "text": [
      "tf.Tensor(4, shape=(), dtype=int32)\n"
     ]
    }
   ],
   "source": [
    "print(b)"
   ]
  },
  {
   "cell_type": "code",
   "execution_count": 6,
   "id": "d3a05a61-8806-4ef5-85c7-4895ac0212da",
   "metadata": {},
   "outputs": [
    {
     "data": {
      "text/plain": [
       "<tf.Tensor: shape=(), dtype=int32, numpy=7>"
      ]
     },
     "execution_count": 6,
     "metadata": {},
     "output_type": "execute_result"
    }
   ],
   "source": [
    "a+b"
   ]
  },
  {
   "cell_type": "code",
   "execution_count": 7,
   "id": "730df6c4-e0e9-4402-b949-b628d36a1b06",
   "metadata": {},
   "outputs": [],
   "source": [
    "c = a+b"
   ]
  },
  {
   "cell_type": "code",
   "execution_count": 8,
   "id": "18e52468-33a4-4bb2-a834-5822f4b455f8",
   "metadata": {},
   "outputs": [
    {
     "name": "stdout",
     "output_type": "stream",
     "text": [
      "tf.Tensor(7, shape=(), dtype=int32)\n"
     ]
    }
   ],
   "source": [
    "print(c)"
   ]
  },
  {
   "cell_type": "code",
   "execution_count": 9,
   "id": "e1465be9-dae8-4f77-96b6-3d5c4752ee74",
   "metadata": {},
   "outputs": [
    {
     "data": {
      "text/plain": [
       "7"
      ]
     },
     "execution_count": 9,
     "metadata": {},
     "output_type": "execute_result"
    }
   ],
   "source": [
    "c.numpy()"
   ]
  },
  {
   "cell_type": "markdown",
   "id": "1e7d119c-f6ba-46d4-b106-d3f1d149efc4",
   "metadata": {},
   "source": [
    "## Reuse the computation graph?"
   ]
  },
  {
   "cell_type": "code",
   "execution_count": 10,
   "id": "44b69c0d-9992-4c8d-bca7-8369cb7827bd",
   "metadata": {},
   "outputs": [],
   "source": [
    "a = tf.constant(10)\n",
    "b = tf.constant(20)"
   ]
  },
  {
   "cell_type": "code",
   "execution_count": 11,
   "id": "8e11ea03-37e7-4af2-bbf1-790f97b9f6dd",
   "metadata": {},
   "outputs": [
    {
     "name": "stdout",
     "output_type": "stream",
     "text": [
      "tf.Tensor(10, shape=(), dtype=int32)\n"
     ]
    }
   ],
   "source": [
    "print(a)"
   ]
  },
  {
   "cell_type": "code",
   "execution_count": 12,
   "id": "6a4cefe4-561b-4a86-b39a-c443dfaf6fa9",
   "metadata": {},
   "outputs": [
    {
     "name": "stdout",
     "output_type": "stream",
     "text": [
      "tf.Tensor(20, shape=(), dtype=int32)\n"
     ]
    }
   ],
   "source": [
    "print(b)"
   ]
  },
  {
   "cell_type": "code",
   "execution_count": 13,
   "id": "c6e571e1-7115-4efe-9fb5-af22d3d5f976",
   "metadata": {},
   "outputs": [
    {
     "data": {
      "text/plain": [
       "<tf.Tensor: shape=(), dtype=int32, numpy=7>"
      ]
     },
     "execution_count": 13,
     "metadata": {},
     "output_type": "execute_result"
    }
   ],
   "source": [
    "c"
   ]
  },
  {
   "cell_type": "markdown",
   "id": "0924507a-5130-401d-937b-ce1fe5428ba6",
   "metadata": {},
   "source": [
    "## A reusable computation graph"
   ]
  },
  {
   "cell_type": "code",
   "execution_count": 14,
   "id": "a93e3a1c-7d01-4e06-9176-96345aec6ba9",
   "metadata": {},
   "outputs": [],
   "source": [
    "a = tf.Variable(3)\n",
    "b = tf.Variable(4)"
   ]
  },
  {
   "cell_type": "code",
   "execution_count": 15,
   "id": "3518955e-bb06-4ab1-8353-82fbed8889dd",
   "metadata": {},
   "outputs": [
    {
     "name": "stdout",
     "output_type": "stream",
     "text": [
      "<tf.Variable 'Variable:0' shape=() dtype=int32, numpy=3>\n"
     ]
    }
   ],
   "source": [
    "print(a)"
   ]
  },
  {
   "cell_type": "code",
   "execution_count": 16,
   "id": "84ae5ff2-3534-452b-91c5-1d87e3b79883",
   "metadata": {},
   "outputs": [
    {
     "name": "stdout",
     "output_type": "stream",
     "text": [
      "<tf.Variable 'Variable:0' shape=() dtype=int32, numpy=4>\n"
     ]
    }
   ],
   "source": [
    "print(b)"
   ]
  },
  {
   "cell_type": "code",
   "execution_count": 17,
   "id": "7abc2299-f877-4c63-b803-71022df09942",
   "metadata": {},
   "outputs": [],
   "source": [
    "c = a+b"
   ]
  },
  {
   "cell_type": "code",
   "execution_count": 18,
   "id": "8af8368c-c94b-4248-b0c7-c8171ee64e2d",
   "metadata": {},
   "outputs": [
    {
     "name": "stdout",
     "output_type": "stream",
     "text": [
      "tf.Tensor(7, shape=(), dtype=int32)\n"
     ]
    }
   ],
   "source": [
    "print(c)"
   ]
  },
  {
   "cell_type": "code",
   "execution_count": 19,
   "id": "c5f1d6fb-dc26-4cc2-811e-433d8704e071",
   "metadata": {},
   "outputs": [
    {
     "data": {
      "text/plain": [
       "<tf.Variable 'UnreadVariable' shape=() dtype=int32, numpy=10>"
      ]
     },
     "execution_count": 19,
     "metadata": {},
     "output_type": "execute_result"
    }
   ],
   "source": [
    "a.assign(10)"
   ]
  },
  {
   "cell_type": "code",
   "execution_count": 20,
   "id": "86ed2be9-2d73-485b-bca8-f37d82918922",
   "metadata": {},
   "outputs": [
    {
     "data": {
      "text/plain": [
       "<tf.Variable 'UnreadVariable' shape=() dtype=int32, numpy=10>"
      ]
     },
     "execution_count": 20,
     "metadata": {},
     "output_type": "execute_result"
    }
   ],
   "source": [
    "b.assign(10)"
   ]
  },
  {
   "cell_type": "code",
   "execution_count": 21,
   "id": "90190a6c-8a44-41d4-9e58-e12ad7899567",
   "metadata": {},
   "outputs": [
    {
     "data": {
      "text/plain": [
       "<tf.Tensor: shape=(), dtype=int32, numpy=7>"
      ]
     },
     "execution_count": 21,
     "metadata": {},
     "output_type": "execute_result"
    }
   ],
   "source": [
    "c"
   ]
  },
  {
   "cell_type": "code",
   "execution_count": 22,
   "id": "e8ec8ae3-cdde-46dd-a88b-d96d689a8894",
   "metadata": {},
   "outputs": [],
   "source": [
    "def compute(a,b):\n",
    "    c = a+b\n",
    "    return c"
   ]
  },
  {
   "cell_type": "code",
   "execution_count": 23,
   "id": "3f6d3625-860f-4607-b415-7614b603a815",
   "metadata": {},
   "outputs": [
    {
     "data": {
      "text/plain": [
       "<tf.Tensor: shape=(), dtype=int32, numpy=30>"
      ]
     },
     "execution_count": 23,
     "metadata": {},
     "output_type": "execute_result"
    }
   ],
   "source": [
    "a.assign(10)\n",
    "b.assign(20)\n",
    "result = compute(a,b)\n",
    "result"
   ]
  },
  {
   "cell_type": "code",
   "execution_count": 24,
   "id": "93ff3519-fd10-49d6-9957-f7af2abc6992",
   "metadata": {},
   "outputs": [
    {
     "data": {
      "text/plain": [
       "140302893729744"
      ]
     },
     "execution_count": 24,
     "metadata": {},
     "output_type": "execute_result"
    }
   ],
   "source": [
    "id(result)"
   ]
  },
  {
   "cell_type": "code",
   "execution_count": 25,
   "id": "588ef441-2cc9-4773-aa11-9df68774767e",
   "metadata": {},
   "outputs": [
    {
     "data": {
      "text/plain": [
       "<tf.Tensor: shape=(), dtype=int32, numpy=60>"
      ]
     },
     "execution_count": 25,
     "metadata": {},
     "output_type": "execute_result"
    }
   ],
   "source": [
    "a.assign(30)\n",
    "b.assign(30)\n",
    "result = compute(a,b)\n",
    "result"
   ]
  },
  {
   "cell_type": "code",
   "execution_count": 26,
   "id": "c7f0a74a-40ed-4378-8872-ba64df7fa102",
   "metadata": {},
   "outputs": [
    {
     "data": {
      "text/plain": [
       "140302948907136"
      ]
     },
     "execution_count": 26,
     "metadata": {},
     "output_type": "execute_result"
    }
   ],
   "source": [
    "id(result)"
   ]
  },
  {
   "cell_type": "markdown",
   "id": "6f495de7-2895-4612-96e0-7ddebe72342c",
   "metadata": {},
   "source": [
    "We can see: now `c` is always a new tensor object!\n",
    "\n",
    "Best practice is to *decorate* your function with `@tf.function`:"
   ]
  },
  {
   "cell_type": "code",
   "execution_count": 27,
   "id": "e5ce4a4f-ceed-44da-8ff8-0ccfeab2d587",
   "metadata": {},
   "outputs": [],
   "source": [
    "@tf.function\n",
    "def compute(a,b):\n",
    "    c = a+b\n",
    "    return c"
   ]
  },
  {
   "cell_type": "code",
   "execution_count": 28,
   "id": "8a29953a-c0bf-4cdb-985b-e1f7d9530bca",
   "metadata": {},
   "outputs": [
    {
     "name": "stderr",
     "output_type": "stream",
     "text": [
      "2022-04-25 15:13:27.813426: I tensorflow/compiler/mlir/mlir_graph_optimization_pass.cc:116] None of the MLIR optimization passes are enabled (registered 2)\n",
      "2022-04-25 15:13:27.832689: I tensorflow/core/platform/profile_utils/cpu_utils.cc:112] CPU Frequency: 2899885000 Hz\n"
     ]
    },
    {
     "data": {
      "text/plain": [
       "<tf.Tensor: shape=(), dtype=int32, numpy=30>"
      ]
     },
     "execution_count": 28,
     "metadata": {},
     "output_type": "execute_result"
    }
   ],
   "source": [
    "a.assign(10)\n",
    "b.assign(20)\n",
    "result = compute(a,b)\n",
    "result"
   ]
  },
  {
   "cell_type": "code",
   "execution_count": 29,
   "id": "324d87e2-2c69-483c-8c73-6a334e3f2974",
   "metadata": {},
   "outputs": [
    {
     "data": {
      "text/plain": [
       "140302948900528"
      ]
     },
     "execution_count": 29,
     "metadata": {},
     "output_type": "execute_result"
    }
   ],
   "source": [
    "id(result)"
   ]
  },
  {
   "cell_type": "code",
   "execution_count": 30,
   "id": "41c6f646-c932-4367-a918-1ea619691bd4",
   "metadata": {},
   "outputs": [
    {
     "data": {
      "text/plain": [
       "<tf.Tensor: shape=(), dtype=int32, numpy=60>"
      ]
     },
     "execution_count": 30,
     "metadata": {},
     "output_type": "execute_result"
    }
   ],
   "source": [
    "a.assign(30)\n",
    "b.assign(30)\n",
    "result = compute(a,b)\n",
    "result"
   ]
  },
  {
   "cell_type": "code",
   "execution_count": 31,
   "id": "95fde875-36dc-4eca-b7f6-46716e83a095",
   "metadata": {},
   "outputs": [
    {
     "data": {
      "text/plain": [
       "140304368462128"
      ]
     },
     "execution_count": 31,
     "metadata": {},
     "output_type": "execute_result"
    }
   ],
   "source": [
    "id(result)"
   ]
  },
  {
   "cell_type": "markdown",
   "id": "122cc579-7eca-4a5a-b2a5-eda2d290b7ad",
   "metadata": {},
   "source": [
    "See https://www.tensorflow.org/api_docs/python/tf/function"
   ]
  },
  {
   "cell_type": "markdown",
   "id": "3d7a5e02-b1c4-4695-afb3-6312d5bad1a0",
   "metadata": {},
   "source": [
    "## Gradient tapes"
   ]
  },
  {
   "cell_type": "markdown",
   "id": "ff004d40-6c91-45e0-9b32-100e2937ade8",
   "metadata": {},
   "source": [
    "What are *gradient tapes?*\n",
    "\n",
    "See here:\n",
    "\n",
    "https://www.tensorflow.org/guide/autodiff\n",
    "\n",
    "    Computing gradients\n",
    "\n",
    "    To differentiate automatically, TensorFlow needs to remember what operations happen in what order during the forward pass. Then, during the backward pass, TensorFlow traverses this list of operations in reverse order to compute gradients.\n",
    "    \n",
    "    Gradient tapes\n",
    "    TensorFlow provides the tf.GradientTape API for automatic differentiation; that is, computing the gradient of a computation with respect to some inputs, usually tf.Variables. TensorFlow \"records\" relevant operations executed inside the context of a tf.GradientTape onto a \"tape\". TensorFlow then uses that tape to compute the gradients of a \"recorded\" computation using reverse mode differentiation."
   ]
  },
  {
   "cell_type": "markdown",
   "id": "16008b65-471e-4e55-8bc5-c8254ad49d11",
   "metadata": {},
   "source": [
    "## A gradient computation example"
   ]
  },
  {
   "cell_type": "code",
   "execution_count": 32,
   "id": "f9f7af27-07da-4934-aefe-2b457816d9d5",
   "metadata": {},
   "outputs": [],
   "source": [
    "x = tf.constant(3.0)\n",
    "with tf.GradientTape() as t:\n",
    "  t.watch(x)\n",
    "  y = x * x\n",
    "dy_dx = t.gradient(y, x) # Will compute to 6.0"
   ]
  },
  {
   "cell_type": "code",
   "execution_count": 33,
   "id": "a64812fb-9738-4230-aed1-46569c940c89",
   "metadata": {},
   "outputs": [
    {
     "data": {
      "text/plain": [
       "<tf.Tensor: shape=(), dtype=float32, numpy=6.0>"
      ]
     },
     "execution_count": 33,
     "metadata": {},
     "output_type": "execute_result"
    }
   ],
   "source": [
    "dy_dx"
   ]
  },
  {
   "cell_type": "code",
   "execution_count": 34,
   "id": "82efcb46-f84c-4fb1-aca0-7a12eb4068b4",
   "metadata": {},
   "outputs": [
    {
     "data": {
      "text/plain": [
       "<tf.Tensor: shape=(), dtype=float32, numpy=9.0>"
      ]
     },
     "execution_count": 34,
     "metadata": {},
     "output_type": "execute_result"
    }
   ],
   "source": [
    "y"
   ]
  },
  {
   "cell_type": "code",
   "execution_count": 35,
   "id": "4c3fe5dd-860b-44ea-aa4e-93216d8e1c50",
   "metadata": {},
   "outputs": [
    {
     "data": {
      "text/plain": [
       "<tf.Tensor: shape=(), dtype=float32, numpy=3.0>"
      ]
     },
     "execution_count": 35,
     "metadata": {},
     "output_type": "execute_result"
    }
   ],
   "source": [
    "x"
   ]
  },
  {
   "cell_type": "markdown",
   "id": "a7a6e00a-bf16-42f1-81a1-aae4e1fc1d11",
   "metadata": {},
   "source": [
    "## Importance of the `watch()` function"
   ]
  },
  {
   "cell_type": "markdown",
   "id": "c47560d9-e269-47b4-9a9b-7d006fe2d5da",
   "metadata": {},
   "source": [
    "Note that the statement `t.watch(x)` is important. If we omit it, the tape has not stored any information in order to compute the gradient of $y=x^2$:"
   ]
  },
  {
   "cell_type": "code",
   "execution_count": 36,
   "id": "7bc88b74-af34-456d-b6e4-b39a381e9273",
   "metadata": {},
   "outputs": [],
   "source": [
    "x = tf.constant(3.0)\n",
    "with tf.GradientTape() as t:\n",
    "  #t.watch(x)\n",
    "  y = x * x\n",
    "dy_dx = t.gradient(y, x) # Will compute to 6.0"
   ]
  },
  {
   "cell_type": "code",
   "execution_count": 37,
   "id": "237e0cbd-bb78-413c-a4cf-a8f39a1294bf",
   "metadata": {},
   "outputs": [],
   "source": [
    "dy_dx"
   ]
  },
  {
   "cell_type": "code",
   "execution_count": 38,
   "id": "7fb8f5da-1ec6-417b-8131-0ff4c02de15a",
   "metadata": {},
   "outputs": [
    {
     "name": "stdout",
     "output_type": "stream",
     "text": [
      "None\n"
     ]
    }
   ],
   "source": [
    "print(dy_dx)"
   ]
  },
  {
   "cell_type": "code",
   "execution_count": 39,
   "id": "f8b4b650-43a2-484f-8e16-d0b54d2b8f85",
   "metadata": {},
   "outputs": [
    {
     "data": {
      "text/plain": [
       "NoneType"
      ]
     },
     "execution_count": 39,
     "metadata": {},
     "output_type": "execute_result"
    }
   ],
   "source": [
    "type(dy_dx)"
   ]
  },
  {
   "cell_type": "markdown",
   "id": "ff7b5027-441a-4232-9e7b-a24ee093fa27",
   "metadata": {},
   "source": [
    "## Automatically watched tensors\n",
    "\n",
    "Some tensors are watched automatically, e.g. `tf.Variables`\n",
    "\n",
    "See https://www.tensorflow.org/api_docs/python/tf/GradientTape\n",
    "\n",
    "    Trainable variables (created by tf.Variable or tf.compat.v1.get_variable, where trainable=True is default in both cases) are automatically watched. Tensors can be manually watched by invoking the watch method on this context manager."
   ]
  },
  {
   "cell_type": "code",
   "execution_count": 40,
   "id": "5d899904-4e9a-4424-ab12-d74107a61a27",
   "metadata": {},
   "outputs": [],
   "source": [
    "x = tf.Variable(3.0)\n",
    "with tf.GradientTape() as t:\n",
    "  #t.watch(x)  # <-- we now omit this statement\n",
    "  y = x * x\n",
    "dy_dx = t.gradient(y, x) # Will compute to 6.0"
   ]
  },
  {
   "cell_type": "code",
   "execution_count": 41,
   "id": "d0e6fe71-65c0-4b78-9582-0da13d3c053a",
   "metadata": {},
   "outputs": [
    {
     "name": "stdout",
     "output_type": "stream",
     "text": [
      "tf.Tensor(6.0, shape=(), dtype=float32)\n"
     ]
    }
   ],
   "source": [
    "print(dy_dx)"
   ]
  },
  {
   "cell_type": "markdown",
   "id": "a496a96e-dbc6-44ed-9e35-4715ed454b98",
   "metadata": {},
   "source": [
    "So the derivative of `y` with respect to `x` is computed, although we did not explicitly tell TensorFlow to \"watch\" the tensor `y`."
   ]
  },
  {
   "cell_type": "markdown",
   "id": "44e0dcb9-844c-4af7-a201-2bd6c9d8443e",
   "metadata": {},
   "source": [
    "## Computing the derivative of more than one tensor\n",
    "\n",
    "In the following example we do not only compute $\\frac{dz}{dx}$, but also $\\frac{dy}{dx}$ :"
   ]
  },
  {
   "cell_type": "code",
   "execution_count": 42,
   "id": "b1d0dc40-8d73-48da-83b4-fc4f5b46fc38",
   "metadata": {},
   "outputs": [],
   "source": [
    "x = tf.constant(3.0)\n",
    "with tf.GradientTape(persistent=True) as t:\n",
    "#with tf.GradientTape() as t:\n",
    "  t.watch(x)\n",
    "  y = x * x # y=x^2\n",
    "  z = y * y # z=y^2=(x^2)^2=x^4\n",
    "\n",
    "dz_dx = t.gradient(z, x)  # 108.0 (4*x^3 at x=3 --> 4*27=108)\n",
    "dy_dx = t.gradient(y, x)  # 6.0 (2*x at x=3 --> 6)"
   ]
  },
  {
   "cell_type": "code",
   "execution_count": 43,
   "id": "7f0e2fbe-ce1e-4bb5-8240-79d3c4a42fe6",
   "metadata": {},
   "outputs": [
    {
     "data": {
      "text/plain": [
       "<tf.Tensor: shape=(), dtype=float32, numpy=108.0>"
      ]
     },
     "execution_count": 43,
     "metadata": {},
     "output_type": "execute_result"
    }
   ],
   "source": [
    "dz_dx"
   ]
  },
  {
   "cell_type": "code",
   "execution_count": 44,
   "id": "2e3b395b-52d4-4980-a85e-5a1b88454703",
   "metadata": {},
   "outputs": [
    {
     "data": {
      "text/plain": [
       "<tf.Tensor: shape=(), dtype=float32, numpy=6.0>"
      ]
     },
     "execution_count": 44,
     "metadata": {},
     "output_type": "execute_result"
    }
   ],
   "source": [
    "dy_dx"
   ]
  },
  {
   "cell_type": "markdown",
   "id": "bb186a3b-17e4-4b24-9c94-102edfc0c4d5",
   "metadata": {},
   "source": [
    "Did you notice the flag `persistent=True`?\n",
    "\n",
    "Here is the description why we need this flag to be set:\n",
    "\n",
    "    By default, the resources held by a GradientTape are released as soon as GradientTape.gradient() method is called. To compute multiple gradients over the same computation, create a persistent gradient tape.\n",
    "    \n",
    "If we do not set this flag to `True`, we will get the following `RuntimeError`:\n",
    "\n",
    "    RuntimeError: A non-persistent GradientTape can only be used tocompute one set of gradients (or jacobians)"
   ]
  },
  {
   "cell_type": "code",
   "execution_count": null,
   "id": "4cd7e402-5df3-44b5-8fdf-30e02d0b8ce2",
   "metadata": {},
   "outputs": [],
   "source": []
  }
 ],
 "metadata": {
  "kernelspec": {
   "display_name": "Python 3 (ipykernel)",
   "language": "python",
   "name": "python3"
  },
  "language_info": {
   "codemirror_mode": {
    "name": "ipython",
    "version": 3
   },
   "file_extension": ".py",
   "mimetype": "text/x-python",
   "name": "python",
   "nbconvert_exporter": "python",
   "pygments_lexer": "ipython3",
   "version": "3.9.7"
  }
 },
 "nbformat": 4,
 "nbformat_minor": 5
}
