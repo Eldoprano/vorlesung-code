{
 "cells": [
  {
   "cell_type": "markdown",
   "id": "8a962350-8ed7-46a5-8955-6f01cdf4cdd3",
   "metadata": {},
   "source": [
    "# Introduction\n",
    "\n",
    "Here I collect some examples for stuff that can easily be automated with small Python scripts"
   ]
  },
  {
   "cell_type": "markdown",
   "id": "9f4ec6f4-d2e5-4afa-98f4-b249770f244d",
   "metadata": {},
   "source": [
    "# Example: Download a single image from a website"
   ]
  },
  {
   "cell_type": "code",
   "execution_count": 23,
   "id": "0d05bcc7-0321-4c20-aa0f-6caf2f366f82",
   "metadata": {},
   "outputs": [],
   "source": [
    "import requests\n",
    "\n",
    "def download_image(image_url, save_path):\n",
    "    response = requests.get(image_url, stream=True)\n",
    "\n",
    "    if response.status_code == 200:\n",
    "        # Öffnen der Datei im Schreibmodus (binary) und Speichern des Inhalts\n",
    "        with open(save_path, 'wb') as file:\n",
    "            file.write(response.content)\n",
    "    else:\n",
    "        print(f\"Anfrage fehlgeschlagen mit Status Code {response.status_code}.\")\n",
    "\n",
    "# Nutzungsbeispiel\n",
    "download_image('https://static.wikia.nocookie.net/grimmbilder/images/7/7e/Rumpelstilzchen_Rosa-Warzilek_03.jpg/revision/latest?cb=20160109162936&path-prefix=de', './image.jpg')"
   ]
  },
  {
   "cell_type": "markdown",
   "id": "ac8d3da9-4d14-4f11-a2ef-c0d7970fbdb5",
   "metadata": {},
   "source": [
    "# Example: Download a file at once with `wget`"
   ]
  },
  {
   "cell_type": "code",
   "execution_count": 1,
   "id": "11266030-4274-48d1-b093-dfdddd0c8b15",
   "metadata": {},
   "outputs": [
    {
     "name": "stdout",
     "output_type": "stream",
     "text": [
      "\u001b[33mWARNING: Package(s) not found: wget\u001b[0m\u001b[33m\n",
      "\u001b[0m"
     ]
    }
   ],
   "source": [
    "!pip show wget"
   ]
  },
  {
   "cell_type": "code",
   "execution_count": 2,
   "id": "c60ad18d-c8d0-44db-aef4-c576333b8beb",
   "metadata": {},
   "outputs": [
    {
     "name": "stdout",
     "output_type": "stream",
     "text": [
      "Collecting wget\n",
      "  Downloading wget-3.2.zip (10 kB)\n",
      "  Preparing metadata (setup.py) ... \u001b[?25ldone\n",
      "\u001b[?25hBuilding wheels for collected packages: wget\n",
      "  Building wheel for wget (setup.py) ... \u001b[?25ldone\n",
      "\u001b[?25h  Created wheel for wget: filename=wget-3.2-py3-none-any.whl size=9656 sha256=c7db78ad6d78e7413fef22cf68f26e1b905fdc9703b358e268ac7cfcd86c7510\n",
      "  Stored in directory: /home/juebrauer/.cache/pip/wheels/ba/78/fb/e0c24a9e73d7483b073d15b7e05f43f3fc2ac75eff6899c7aa\n",
      "Successfully built wget\n",
      "Installing collected packages: wget\n",
      "Successfully installed wget-3.2\n"
     ]
    }
   ],
   "source": [
    "!pip install wget"
   ]
  },
  {
   "cell_type": "code",
   "execution_count": 51,
   "id": "ef820487-2344-417f-9c26-2ccef3103dc1",
   "metadata": {},
   "outputs": [
    {
     "data": {
      "text/plain": [
       "'bilder.zip'"
      ]
     },
     "execution_count": 51,
     "metadata": {},
     "output_type": "execute_result"
    }
   ],
   "source": [
    "import wget\n",
    "url = 'http://www.juergenbrauer.org/datasets/bilder.zip'\n",
    "wget.download(url, 'bilder.zip')"
   ]
  },
  {
   "cell_type": "markdown",
   "id": "b1506655-b490-4c03-a597-63b1161fa8bf",
   "metadata": {},
   "source": [
    "# Example: Extract a `.zip` file"
   ]
  },
  {
   "cell_type": "code",
   "execution_count": 50,
   "id": "11a16211-bc5c-4022-89cd-e24a4e3932a8",
   "metadata": {},
   "outputs": [],
   "source": [
    "import shutil\n",
    "\n",
    "shutil.rmtree('entpackt')\n",
    "shutil.rmtree('bilder')"
   ]
  },
  {
   "cell_type": "code",
   "execution_count": 52,
   "id": "ea6ed1e7-7d2c-4bfd-b266-0c53a6fa8b0f",
   "metadata": {},
   "outputs": [],
   "source": [
    "import zipfile\n",
    "\n",
    "z = zipfile.ZipFile('bilder.zip', 'r')\n",
    "#z.extractall('entpackt')\n",
    "z.extractall()"
   ]
  },
  {
   "cell_type": "markdown",
   "id": "7a219191-2a05-40c1-8604-a1ada0ba10d5",
   "metadata": {},
   "source": [
    "# Example: Convert a single file / many files\n",
    "\n",
    "Convert a pdf file to png, then resize the image und convert it back to pdf."
   ]
  },
  {
   "cell_type": "code",
   "execution_count": 34,
   "id": "8295da63-48fa-46d4-b5c3-164d97d7a7fe",
   "metadata": {},
   "outputs": [
    {
     "data": {
      "text/plain": [
       "0"
      ]
     },
     "execution_count": 34,
     "metadata": {},
     "output_type": "execute_result"
    }
   ],
   "source": [
    "import os\n",
    "os.system(\"convert -density 300 01.pdf 01.png\")\n",
    "os.system(\"convert -resize 1748x2480 01.png 01_resized.pdf\")"
   ]
  },
  {
   "cell_type": "code",
   "execution_count": 55,
   "id": "0df05948-dec9-433e-9a1d-83f299c441d9",
   "metadata": {},
   "outputs": [],
   "source": [
    "folder = \"bilder\"\n",
    "for nr in range(1,12):\n",
    "    os.system(f\"convert -density 300 {folder}/{nr:02}.pdf {folder}/{nr:02}.png\")\n",
    "    os.system(f\"convert -resize 1748x2480 {folder}/{nr:02}.png {folder}/{nr:02}_resized.pdf\")"
   ]
  },
  {
   "cell_type": "markdown",
   "id": "04fa9328-f35e-4177-ace6-ac1f70b577ed",
   "metadata": {},
   "source": [
    "# Example: Show information about a pdf file"
   ]
  },
  {
   "cell_type": "code",
   "execution_count": 37,
   "id": "9e0bc253-6cfa-4195-a276-b37155664995",
   "metadata": {},
   "outputs": [
    {
     "name": "stdout",
     "output_type": "stream",
     "text": [
      "\u001b[33mWARNING: Package(s) not found: PyPDF2\u001b[0m\u001b[33m\n",
      "\u001b[0m"
     ]
    }
   ],
   "source": [
    "!pip show PyPDF2"
   ]
  },
  {
   "cell_type": "code",
   "execution_count": 38,
   "id": "fcea7bc0-9847-4a40-885e-011ca4a93019",
   "metadata": {},
   "outputs": [
    {
     "name": "stdout",
     "output_type": "stream",
     "text": [
      "Collecting PyPDF2\n",
      "  Downloading pypdf2-3.0.1-py3-none-any.whl (232 kB)\n",
      "\u001b[2K     \u001b[38;2;114;156;31m━━━━━━━━━━━━━━━━━━━━━━━━━━━━━━━━━━━━━━━\u001b[0m \u001b[32m232.6/232.6 kB\u001b[0m \u001b[31m3.9 MB/s\u001b[0m eta \u001b[36m0:00:00\u001b[0m MB/s\u001b[0m eta \u001b[36m0:00:01\u001b[0m\n",
      "\u001b[?25hRequirement already satisfied: typing_extensions>=3.10.0.0 in /home/juebrauer/prg/miniconda3/envs/e1/lib/python3.9/site-packages (from PyPDF2) (4.5.0)\n",
      "Installing collected packages: PyPDF2\n",
      "Successfully installed PyPDF2-3.0.1\n"
     ]
    }
   ],
   "source": [
    "!pip install PyPDF2"
   ]
  },
  {
   "cell_type": "code",
   "execution_count": 44,
   "id": "ee29207d-95c5-494f-9bf9-550424ea08f6",
   "metadata": {},
   "outputs": [
    {
     "name": "stdout",
     "output_type": "stream",
     "text": [
      "The PDF file has 1 pages.\n",
      "Page 1 size is: ((0, 0), (223.44, 277.92))\n"
     ]
    }
   ],
   "source": [
    "import PyPDF2\n",
    "\n",
    "def get_pdf_info(pdf_path):\n",
    "    pdf_file = open(pdf_path, 'rb')\n",
    "    pdf_reader = PyPDF2.PdfReader(pdf_file)\n",
    "    num_pages = len(pdf_reader.pages)\n",
    "\n",
    "    print(f\"The PDF file has {num_pages} pages.\")\n",
    "\n",
    "    for page_num in range(num_pages):\n",
    "        page = pdf_reader.pages[page_num]\n",
    "        print(f\"Page {page_num + 1} size is: {page.mediabox.lower_left, page.mediabox.upper_right}\")\n",
    "\n",
    "    pdf_file.close()\n",
    "\n",
    "get_pdf_info('bilder/01.pdf')\n"
   ]
  },
  {
   "cell_type": "markdown",
   "id": "b75874c1-073b-40d3-b6b0-930d26912ce1",
   "metadata": {},
   "source": [
    "# Make images smaller"
   ]
  },
  {
   "cell_type": "code",
   "execution_count": 56,
   "id": "64b478eb-af99-4ec4-ab7f-903f630ba44c",
   "metadata": {},
   "outputs": [],
   "source": [
    "# pdfjam output1_resized.pdf output2_resized.pdf --nup 2x1 --landscape --outfile final_output.pdf\n",
    "\n",
    "for nr in range(1,12):\n",
    "    fname = f\"bilder/{nr:02}.pdf\"\n",
    "    os.system(f\"pdfjam {fname} {fname} {fname} {fname} {fname} {fname} --nup 3x2 --landscape --outfile \"\n",
    "              f\"bilder/final_{nr:02}.pdf\")"
   ]
  },
  {
   "cell_type": "code",
   "execution_count": null,
   "id": "08c9ba40-f96f-43a9-8502-c782fa90f7a0",
   "metadata": {},
   "outputs": [],
   "source": []
  }
 ],
 "metadata": {
  "kernelspec": {
   "display_name": "Python 3",
   "language": "python",
   "name": "python3"
  },
  "language_info": {
   "codemirror_mode": {
    "name": "ipython",
    "version": 3
   },
   "file_extension": ".py",
   "mimetype": "text/x-python",
   "name": "python",
   "nbconvert_exporter": "python",
   "pygments_lexer": "ipython3",
   "version": "3.9.16"
  },
  "toc-autonumbering": true
 },
 "nbformat": 4,
 "nbformat_minor": 5
}
