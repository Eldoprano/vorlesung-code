{
 "cells": [
  {
   "cell_type": "markdown",
   "metadata": {},
   "source": [
    "# Einleitung"
   ]
  },
  {
   "cell_type": "markdown",
   "metadata": {},
   "source": [
    "Dieses kleine Jupyter-Notebook soll zeigen, wie man ein kleines Neuronales Netz - ein sog. \"Perzeptron\" - selber in Python programmieren, trainieren und anwenden kann."
   ]
  },
  {
   "cell_type": "markdown",
   "metadata": {},
   "source": [
    "# Einlesen eines Datensatzes"
   ]
  },
  {
   "cell_type": "code",
   "execution_count": 1,
   "metadata": {},
   "outputs": [
    {
     "name": "stderr",
     "output_type": "stream",
     "text": [
      "2022-10-05 20:54:13.059887: W tensorflow/stream_executor/platform/default/dso_loader.cc:64] Could not load dynamic library 'libcudart.so.11.0'; dlerror: libcudart.so.11.0: cannot open shared object file: No such file or directory; LD_LIBRARY_PATH: /opt/ros/noetic/lib\n",
      "2022-10-05 20:54:13.059913: I tensorflow/stream_executor/cuda/cudart_stub.cc:29] Ignore above cudart dlerror if you do not have a GPU set up on your machine.\n"
     ]
    }
   ],
   "source": [
    "import tensorflow as tf"
   ]
  },
  {
   "cell_type": "code",
   "execution_count": 2,
   "metadata": {},
   "outputs": [
    {
     "name": "stdout",
     "output_type": "stream",
     "text": [
      "Downloading data from https://storage.googleapis.com/tensorflow/tf-keras-datasets/mnist.npz\n",
      "11493376/11490434 [==============================] - 2s 0us/step\n",
      "11501568/11490434 [==============================] - 2s 0us/step\n"
     ]
    }
   ],
   "source": [
    "mnist_dataset = tf.keras.datasets.mnist\n",
    "(x_train, y_train), (x_test, y_test) = mnist_dataset.load_data()"
   ]
  },
  {
   "cell_type": "code",
   "execution_count": 3,
   "metadata": {},
   "outputs": [
    {
     "data": {
      "text/plain": [
       "numpy.ndarray"
      ]
     },
     "execution_count": 3,
     "metadata": {},
     "output_type": "execute_result"
    }
   ],
   "source": [
    "type(x_train)"
   ]
  },
  {
   "cell_type": "code",
   "execution_count": 4,
   "metadata": {},
   "outputs": [
    {
     "data": {
      "text/plain": [
       "(60000, 28, 28)"
      ]
     },
     "execution_count": 4,
     "metadata": {},
     "output_type": "execute_result"
    }
   ],
   "source": [
    "x_train.shape"
   ]
  },
  {
   "cell_type": "code",
   "execution_count": 5,
   "metadata": {},
   "outputs": [
    {
     "data": {
      "text/plain": [
       "3"
      ]
     },
     "execution_count": 5,
     "metadata": {},
     "output_type": "execute_result"
    }
   ],
   "source": [
    "x_train.ndim"
   ]
  },
  {
   "cell_type": "code",
   "execution_count": 6,
   "metadata": {},
   "outputs": [
    {
     "data": {
      "text/plain": [
       "(60000,)"
      ]
     },
     "execution_count": 6,
     "metadata": {},
     "output_type": "execute_result"
    }
   ],
   "source": [
    "y_train.shape"
   ]
  },
  {
   "cell_type": "code",
   "execution_count": 7,
   "metadata": {},
   "outputs": [
    {
     "data": {
      "text/plain": [
       "array([5, 0, 4, 1, 9], dtype=uint8)"
      ]
     },
     "execution_count": 7,
     "metadata": {},
     "output_type": "execute_result"
    }
   ],
   "source": [
    "y_train[0:5]"
   ]
  },
  {
   "cell_type": "code",
   "execution_count": 8,
   "metadata": {},
   "outputs": [
    {
     "data": {
      "text/plain": [
       "(10000, 28, 28)"
      ]
     },
     "execution_count": 8,
     "metadata": {},
     "output_type": "execute_result"
    }
   ],
   "source": [
    "x_test.shape"
   ]
  },
  {
   "cell_type": "code",
   "execution_count": 9,
   "metadata": {},
   "outputs": [
    {
     "data": {
      "text/plain": [
       "(10000,)"
      ]
     },
     "execution_count": 9,
     "metadata": {},
     "output_type": "execute_result"
    }
   ],
   "source": [
    "y_test.shape"
   ]
  },
  {
   "cell_type": "code",
   "execution_count": 10,
   "metadata": {},
   "outputs": [
    {
     "data": {
      "text/plain": [
       "array([7, 2, 1, 0, 4], dtype=uint8)"
      ]
     },
     "execution_count": 10,
     "metadata": {},
     "output_type": "execute_result"
    }
   ],
   "source": [
    "y_test[:5]"
   ]
  },
  {
   "cell_type": "markdown",
   "metadata": {},
   "source": [
    "# Visualisieren einiger Bilder"
   ]
  },
  {
   "cell_type": "code",
   "execution_count": 11,
   "metadata": {},
   "outputs": [],
   "source": [
    "bild = x_train[0, :, :]"
   ]
  },
  {
   "cell_type": "code",
   "execution_count": 12,
   "metadata": {},
   "outputs": [
    {
     "data": {
      "text/plain": [
       "numpy.ndarray"
      ]
     },
     "execution_count": 12,
     "metadata": {},
     "output_type": "execute_result"
    }
   ],
   "source": [
    "type(bild)"
   ]
  },
  {
   "cell_type": "code",
   "execution_count": 13,
   "metadata": {},
   "outputs": [
    {
     "data": {
      "text/plain": [
       "(28, 28)"
      ]
     },
     "execution_count": 13,
     "metadata": {},
     "output_type": "execute_result"
    }
   ],
   "source": [
    "bild.shape"
   ]
  },
  {
   "cell_type": "code",
   "execution_count": 14,
   "metadata": {},
   "outputs": [
    {
     "data": {
      "text/plain": [
       "array([[  0,   0,   0,   0,   0,   0,   0,   0,   0,   0,   0,   0,   0,\n",
       "          0,   0,   0,   0,   0,   0,   0,   0,   0,   0,   0,   0,   0,\n",
       "          0,   0],\n",
       "       [  0,   0,   0,   0,   0,   0,   0,   0,   0,   0,   0,   0,   0,\n",
       "          0,   0,   0,   0,   0,   0,   0,   0,   0,   0,   0,   0,   0,\n",
       "          0,   0],\n",
       "       [  0,   0,   0,   0,   0,   0,   0,   0,   0,   0,   0,   0,   0,\n",
       "          0,   0,   0,   0,   0,   0,   0,   0,   0,   0,   0,   0,   0,\n",
       "          0,   0],\n",
       "       [  0,   0,   0,   0,   0,   0,   0,   0,   0,   0,   0,   0,   0,\n",
       "          0,   0,   0,   0,   0,   0,   0,   0,   0,   0,   0,   0,   0,\n",
       "          0,   0],\n",
       "       [  0,   0,   0,   0,   0,   0,   0,   0,   0,   0,   0,   0,   0,\n",
       "          0,   0,   0,   0,   0,   0,   0,   0,   0,   0,   0,   0,   0,\n",
       "          0,   0],\n",
       "       [  0,   0,   0,   0,   0,   0,   0,   0,   0,   0,   0,   0,   3,\n",
       "         18,  18,  18, 126, 136, 175,  26, 166, 255, 247, 127,   0,   0,\n",
       "          0,   0],\n",
       "       [  0,   0,   0,   0,   0,   0,   0,   0,  30,  36,  94, 154, 170,\n",
       "        253, 253, 253, 253, 253, 225, 172, 253, 242, 195,  64,   0,   0,\n",
       "          0,   0],\n",
       "       [  0,   0,   0,   0,   0,   0,   0,  49, 238, 253, 253, 253, 253,\n",
       "        253, 253, 253, 253, 251,  93,  82,  82,  56,  39,   0,   0,   0,\n",
       "          0,   0],\n",
       "       [  0,   0,   0,   0,   0,   0,   0,  18, 219, 253, 253, 253, 253,\n",
       "        253, 198, 182, 247, 241,   0,   0,   0,   0,   0,   0,   0,   0,\n",
       "          0,   0],\n",
       "       [  0,   0,   0,   0,   0,   0,   0,   0,  80, 156, 107, 253, 253,\n",
       "        205,  11,   0,  43, 154,   0,   0,   0,   0,   0,   0,   0,   0,\n",
       "          0,   0],\n",
       "       [  0,   0,   0,   0,   0,   0,   0,   0,   0,  14,   1, 154, 253,\n",
       "         90,   0,   0,   0,   0,   0,   0,   0,   0,   0,   0,   0,   0,\n",
       "          0,   0],\n",
       "       [  0,   0,   0,   0,   0,   0,   0,   0,   0,   0,   0, 139, 253,\n",
       "        190,   2,   0,   0,   0,   0,   0,   0,   0,   0,   0,   0,   0,\n",
       "          0,   0],\n",
       "       [  0,   0,   0,   0,   0,   0,   0,   0,   0,   0,   0,  11, 190,\n",
       "        253,  70,   0,   0,   0,   0,   0,   0,   0,   0,   0,   0,   0,\n",
       "          0,   0],\n",
       "       [  0,   0,   0,   0,   0,   0,   0,   0,   0,   0,   0,   0,  35,\n",
       "        241, 225, 160, 108,   1,   0,   0,   0,   0,   0,   0,   0,   0,\n",
       "          0,   0],\n",
       "       [  0,   0,   0,   0,   0,   0,   0,   0,   0,   0,   0,   0,   0,\n",
       "         81, 240, 253, 253, 119,  25,   0,   0,   0,   0,   0,   0,   0,\n",
       "          0,   0],\n",
       "       [  0,   0,   0,   0,   0,   0,   0,   0,   0,   0,   0,   0,   0,\n",
       "          0,  45, 186, 253, 253, 150,  27,   0,   0,   0,   0,   0,   0,\n",
       "          0,   0],\n",
       "       [  0,   0,   0,   0,   0,   0,   0,   0,   0,   0,   0,   0,   0,\n",
       "          0,   0,  16,  93, 252, 253, 187,   0,   0,   0,   0,   0,   0,\n",
       "          0,   0],\n",
       "       [  0,   0,   0,   0,   0,   0,   0,   0,   0,   0,   0,   0,   0,\n",
       "          0,   0,   0,   0, 249, 253, 249,  64,   0,   0,   0,   0,   0,\n",
       "          0,   0],\n",
       "       [  0,   0,   0,   0,   0,   0,   0,   0,   0,   0,   0,   0,   0,\n",
       "          0,  46, 130, 183, 253, 253, 207,   2,   0,   0,   0,   0,   0,\n",
       "          0,   0],\n",
       "       [  0,   0,   0,   0,   0,   0,   0,   0,   0,   0,   0,   0,  39,\n",
       "        148, 229, 253, 253, 253, 250, 182,   0,   0,   0,   0,   0,   0,\n",
       "          0,   0],\n",
       "       [  0,   0,   0,   0,   0,   0,   0,   0,   0,   0,  24, 114, 221,\n",
       "        253, 253, 253, 253, 201,  78,   0,   0,   0,   0,   0,   0,   0,\n",
       "          0,   0],\n",
       "       [  0,   0,   0,   0,   0,   0,   0,   0,  23,  66, 213, 253, 253,\n",
       "        253, 253, 198,  81,   2,   0,   0,   0,   0,   0,   0,   0,   0,\n",
       "          0,   0],\n",
       "       [  0,   0,   0,   0,   0,   0,  18, 171, 219, 253, 253, 253, 253,\n",
       "        195,  80,   9,   0,   0,   0,   0,   0,   0,   0,   0,   0,   0,\n",
       "          0,   0],\n",
       "       [  0,   0,   0,   0,  55, 172, 226, 253, 253, 253, 253, 244, 133,\n",
       "         11,   0,   0,   0,   0,   0,   0,   0,   0,   0,   0,   0,   0,\n",
       "          0,   0],\n",
       "       [  0,   0,   0,   0, 136, 253, 253, 253, 212, 135, 132,  16,   0,\n",
       "          0,   0,   0,   0,   0,   0,   0,   0,   0,   0,   0,   0,   0,\n",
       "          0,   0],\n",
       "       [  0,   0,   0,   0,   0,   0,   0,   0,   0,   0,   0,   0,   0,\n",
       "          0,   0,   0,   0,   0,   0,   0,   0,   0,   0,   0,   0,   0,\n",
       "          0,   0],\n",
       "       [  0,   0,   0,   0,   0,   0,   0,   0,   0,   0,   0,   0,   0,\n",
       "          0,   0,   0,   0,   0,   0,   0,   0,   0,   0,   0,   0,   0,\n",
       "          0,   0],\n",
       "       [  0,   0,   0,   0,   0,   0,   0,   0,   0,   0,   0,   0,   0,\n",
       "          0,   0,   0,   0,   0,   0,   0,   0,   0,   0,   0,   0,   0,\n",
       "          0,   0]], dtype=uint8)"
      ]
     },
     "execution_count": 14,
     "metadata": {},
     "output_type": "execute_result"
    }
   ],
   "source": [
    "bild"
   ]
  },
  {
   "cell_type": "code",
   "execution_count": 15,
   "metadata": {},
   "outputs": [],
   "source": [
    "from matplotlib import pyplot as plt"
   ]
  },
  {
   "cell_type": "code",
   "execution_count": 16,
   "metadata": {},
   "outputs": [
    {
     "data": {
      "text/plain": [
       "<matplotlib.colorbar.Colorbar at 0x7f9a9decbbe0>"
      ]
     },
     "execution_count": 16,
     "metadata": {},
     "output_type": "execute_result"
    },
    {
     "data": {
      "image/png": "[encoded data removed]",
      "text/plain": [
       "<Figure size 432x288 with 2 Axes>"
      ]
     },
     "metadata": {
      "needs_background": "light"
     },
     "output_type": "display_data"
    }
   ],
   "source": [
    "plt.imshow(bild, cmap=\"gray\")\n",
    "plt.colorbar()"
   ]
  },
  {
   "cell_type": "code",
   "execution_count": 17,
   "metadata": {},
   "outputs": [
    {
     "data": {
      "text/plain": [
       "array([5, 0, 4, ..., 5, 6, 8], dtype=uint8)"
      ]
     },
     "execution_count": 17,
     "metadata": {},
     "output_type": "execute_result"
    }
   ],
   "source": [
    "y_train"
   ]
  },
  {
   "cell_type": "markdown",
   "metadata": {},
   "source": [
    "# Vorbereitung der Implementierung"
   ]
  },
  {
   "cell_type": "markdown",
   "metadata": {},
   "source": [
    "## Erzeugen der Targets"
   ]
  },
  {
   "cell_type": "code",
   "execution_count": 18,
   "metadata": {},
   "outputs": [
    {
     "data": {
      "text/plain": [
       "array([5, 0, 4, 1, 9, 2, 1, 3, 1, 4, 3, 5, 3, 6, 1, 7, 2, 8, 6, 9, 4, 0,\n",
       "       9, 1, 1, 2, 4, 3, 2, 7], dtype=uint8)"
      ]
     },
     "execution_count": 18,
     "metadata": {},
     "output_type": "execute_result"
    }
   ],
   "source": [
    "y_train[:30]"
   ]
  },
  {
   "cell_type": "code",
   "execution_count": 19,
   "metadata": {},
   "outputs": [],
   "source": [
    "from sklearn.preprocessing import OneHotEncoder\n",
    "\n",
    "def one_hot(labels):\n",
    "    enc = OneHotEncoder()\n",
    "    enc.fit(labels.reshape(-1,1))\n",
    "    one_hot_kodierung = enc.transform(labels.reshape(-1,1)).toarray()\n",
    "    return one_hot_kodierung"
   ]
  },
  {
   "cell_type": "code",
   "execution_count": 20,
   "metadata": {},
   "outputs": [],
   "source": [
    "one_hot_kodierung = one_hot(y_train)"
   ]
  },
  {
   "cell_type": "code",
   "execution_count": 21,
   "metadata": {},
   "outputs": [
    {
     "data": {
      "text/plain": [
       "array([[0., 0., 0., 0., 0., 1., 0., 0., 0., 0.],\n",
       "       [1., 0., 0., 0., 0., 0., 0., 0., 0., 0.],\n",
       "       [0., 0., 0., 0., 1., 0., 0., 0., 0., 0.],\n",
       "       [0., 1., 0., 0., 0., 0., 0., 0., 0., 0.],\n",
       "       [0., 0., 0., 0., 0., 0., 0., 0., 0., 1.]])"
      ]
     },
     "execution_count": 21,
     "metadata": {},
     "output_type": "execute_result"
    }
   ],
   "source": [
    "one_hot_kodierung[:5]"
   ]
  },
  {
   "cell_type": "markdown",
   "metadata": {},
   "source": [
    "## Bilder sind 2D Inputs, KNN erwartet 1D Input"
   ]
  },
  {
   "cell_type": "code",
   "execution_count": 22,
   "metadata": {},
   "outputs": [
    {
     "data": {
      "text/plain": [
       "(28, 28)"
      ]
     },
     "execution_count": 22,
     "metadata": {},
     "output_type": "execute_result"
    }
   ],
   "source": [
    "bild.shape"
   ]
  },
  {
   "cell_type": "code",
   "execution_count": 23,
   "metadata": {},
   "outputs": [
    {
     "data": {
      "text/plain": [
       "784"
      ]
     },
     "execution_count": 23,
     "metadata": {},
     "output_type": "execute_result"
    }
   ],
   "source": [
    "28*28"
   ]
  },
  {
   "cell_type": "code",
   "execution_count": 24,
   "metadata": {},
   "outputs": [],
   "source": [
    "v = bild.reshape(-1)"
   ]
  },
  {
   "cell_type": "code",
   "execution_count": 25,
   "metadata": {},
   "outputs": [
    {
     "data": {
      "text/plain": [
       "array([  0,   0,   0,   0,   0,   0,   0,   0,   0,   0,   0,   0,   0,\n",
       "         0,   0,   0,   0,   0,   0,   0,   0,   0,   0,   0,   0,   0,\n",
       "         0,   0,   0,   0,   0,   0,   0,   0,   0,   0,   0,   0,   0,\n",
       "         0,   0,   0,   0,   0,   0,   0,   0,   0,   0,   0,   0,   0,\n",
       "         0,   0,   0,   0,   0,   0,   0,   0,   0,   0,   0,   0,   0,\n",
       "         0,   0,   0,   0,   0,   0,   0,   0,   0,   0,   0,   0,   0,\n",
       "         0,   0,   0,   0,   0,   0,   0,   0,   0,   0,   0,   0,   0,\n",
       "         0,   0,   0,   0,   0,   0,   0,   0,   0,   0,   0,   0,   0,\n",
       "         0,   0,   0,   0,   0,   0,   0,   0,   0,   0,   0,   0,   0,\n",
       "         0,   0,   0,   0,   0,   0,   0,   0,   0,   0,   0,   0,   0,\n",
       "         0,   0,   0,   0,   0,   0,   0,   0,   0,   0,   0,   0,   0,\n",
       "         0,   0,   0,   0,   0,   0,   0,   0,   0,   3,  18,  18,  18,\n",
       "       126, 136, 175,  26, 166, 255, 247, 127,   0,   0,   0,   0,   0,\n",
       "         0,   0,   0,   0,   0,   0,   0,  30,  36,  94, 154, 170, 253,\n",
       "       253, 253, 253, 253, 225, 172, 253, 242, 195,  64,   0,   0,   0,\n",
       "         0,   0,   0,   0,   0,   0,   0,   0,  49, 238, 253, 253, 253,\n",
       "       253, 253, 253, 253, 253, 251,  93,  82,  82,  56,  39,   0,   0,\n",
       "         0,   0,   0,   0,   0,   0,   0,   0,   0,   0,  18, 219, 253,\n",
       "       253, 253, 253, 253, 198, 182, 247, 241,   0,   0,   0,   0,   0,\n",
       "         0,   0,   0,   0,   0,   0,   0,   0,   0,   0,   0,   0,   0,\n",
       "        80, 156, 107, 253, 253, 205,  11,   0,  43, 154,   0,   0,   0,\n",
       "         0,   0,   0,   0,   0,   0,   0,   0,   0,   0,   0,   0,   0,\n",
       "         0,   0,   0,  14,   1, 154, 253,  90,   0,   0,   0,   0,   0,\n",
       "         0,   0,   0,   0,   0,   0,   0,   0,   0,   0,   0,   0,   0,\n",
       "         0,   0,   0,   0,   0,   0,   0, 139, 253, 190,   2,   0,   0,\n",
       "         0,   0,   0,   0,   0,   0,   0,   0,   0,   0,   0,   0,   0,\n",
       "         0,   0,   0,   0,   0,   0,   0,   0,   0,  11, 190, 253,  70,\n",
       "         0,   0,   0,   0,   0,   0,   0,   0,   0,   0,   0,   0,   0,\n",
       "         0,   0,   0,   0,   0,   0,   0,   0,   0,   0,   0,   0,  35,\n",
       "       241, 225, 160, 108,   1,   0,   0,   0,   0,   0,   0,   0,   0,\n",
       "         0,   0,   0,   0,   0,   0,   0,   0,   0,   0,   0,   0,   0,\n",
       "         0,   0,  81, 240, 253, 253, 119,  25,   0,   0,   0,   0,   0,\n",
       "         0,   0,   0,   0,   0,   0,   0,   0,   0,   0,   0,   0,   0,\n",
       "         0,   0,   0,   0,   0,  45, 186, 253, 253, 150,  27,   0,   0,\n",
       "         0,   0,   0,   0,   0,   0,   0,   0,   0,   0,   0,   0,   0,\n",
       "         0,   0,   0,   0,   0,   0,   0,   0,  16,  93, 252, 253, 187,\n",
       "         0,   0,   0,   0,   0,   0,   0,   0,   0,   0,   0,   0,   0,\n",
       "         0,   0,   0,   0,   0,   0,   0,   0,   0,   0,   0,   0, 249,\n",
       "       253, 249,  64,   0,   0,   0,   0,   0,   0,   0,   0,   0,   0,\n",
       "         0,   0,   0,   0,   0,   0,   0,   0,   0,   0,   0,  46, 130,\n",
       "       183, 253, 253, 207,   2,   0,   0,   0,   0,   0,   0,   0,   0,\n",
       "         0,   0,   0,   0,   0,   0,   0,   0,   0,   0,   0,  39, 148,\n",
       "       229, 253, 253, 253, 250, 182,   0,   0,   0,   0,   0,   0,   0,\n",
       "         0,   0,   0,   0,   0,   0,   0,   0,   0,   0,   0,  24, 114,\n",
       "       221, 253, 253, 253, 253, 201,  78,   0,   0,   0,   0,   0,   0,\n",
       "         0,   0,   0,   0,   0,   0,   0,   0,   0,   0,   0,  23,  66,\n",
       "       213, 253, 253, 253, 253, 198,  81,   2,   0,   0,   0,   0,   0,\n",
       "         0,   0,   0,   0,   0,   0,   0,   0,   0,   0,   0,  18, 171,\n",
       "       219, 253, 253, 253, 253, 195,  80,   9,   0,   0,   0,   0,   0,\n",
       "         0,   0,   0,   0,   0,   0,   0,   0,   0,   0,   0,  55, 172,\n",
       "       226, 253, 253, 253, 253, 244, 133,  11,   0,   0,   0,   0,   0,\n",
       "         0,   0,   0,   0,   0,   0,   0,   0,   0,   0,   0,   0,   0,\n",
       "       136, 253, 253, 253, 212, 135, 132,  16,   0,   0,   0,   0,   0,\n",
       "         0,   0,   0,   0,   0,   0,   0,   0,   0,   0,   0,   0,   0,\n",
       "         0,   0,   0,   0,   0,   0,   0,   0,   0,   0,   0,   0,   0,\n",
       "         0,   0,   0,   0,   0,   0,   0,   0,   0,   0,   0,   0,   0,\n",
       "         0,   0,   0,   0,   0,   0,   0,   0,   0,   0,   0,   0,   0,\n",
       "         0,   0,   0,   0,   0,   0,   0,   0,   0,   0,   0,   0,   0,\n",
       "         0,   0,   0,   0,   0,   0,   0,   0,   0,   0,   0,   0,   0,\n",
       "         0,   0,   0,   0,   0,   0,   0,   0,   0,   0,   0,   0,   0,\n",
       "         0,   0,   0,   0], dtype=uint8)"
      ]
     },
     "execution_count": 25,
     "metadata": {},
     "output_type": "execute_result"
    }
   ],
   "source": [
    "v"
   ]
  },
  {
   "cell_type": "code",
   "execution_count": 26,
   "metadata": {},
   "outputs": [
    {
     "data": {
      "text/plain": [
       "(784,)"
      ]
     },
     "execution_count": 26,
     "metadata": {},
     "output_type": "execute_result"
    }
   ],
   "source": [
    "v.shape"
   ]
  },
  {
   "cell_type": "code",
   "execution_count": 27,
   "metadata": {},
   "outputs": [
    {
     "data": {
      "text/plain": [
       "numpy.ndarray"
      ]
     },
     "execution_count": 27,
     "metadata": {},
     "output_type": "execute_result"
    }
   ],
   "source": [
    "type(v)"
   ]
  },
  {
   "cell_type": "code",
   "execution_count": 28,
   "metadata": {},
   "outputs": [
    {
     "data": {
      "text/plain": [
       "1"
      ]
     },
     "execution_count": 28,
     "metadata": {},
     "output_type": "execute_result"
    }
   ],
   "source": [
    "v.ndim"
   ]
  },
  {
   "cell_type": "code",
   "execution_count": 29,
   "metadata": {},
   "outputs": [
    {
     "data": {
      "text/plain": [
       "2"
      ]
     },
     "execution_count": 29,
     "metadata": {},
     "output_type": "execute_result"
    }
   ],
   "source": [
    "bild.ndim"
   ]
  },
  {
   "cell_type": "code",
   "execution_count": 30,
   "metadata": {},
   "outputs": [],
   "source": [
    "import numpy as np\n",
    "v_mit_bias_input = np.append(v, [1])"
   ]
  },
  {
   "cell_type": "code",
   "execution_count": 31,
   "metadata": {},
   "outputs": [
    {
     "data": {
      "text/plain": [
       "(785,)"
      ]
     },
     "execution_count": 31,
     "metadata": {},
     "output_type": "execute_result"
    }
   ],
   "source": [
    "v_mit_bias_input.shape"
   ]
  },
  {
   "cell_type": "code",
   "execution_count": 32,
   "metadata": {},
   "outputs": [
    {
     "data": {
      "text/plain": [
       "array([  0,   0,   0,   0,   0,   0,   0,   0,   0,   0,   0,   0,   0,\n",
       "         0,   0,   0,   0,   0,   0,   0,   0,   0,   0,   0,   0,   0,\n",
       "         0,   0,   0,   0,   0,   0,   0,   0,   0,   0,   0,   0,   0,\n",
       "         0,   0,   0,   0,   0,   0,   0,   0,   0,   0,   0,   0,   0,\n",
       "         0,   0,   0,   0,   0,   0,   0,   0,   0,   0,   0,   0,   0,\n",
       "         0,   0,   0,   0,   0,   0,   0,   0,   0,   0,   0,   0,   0,\n",
       "         0,   0,   0,   0,   0,   0,   0,   0,   0,   0,   0,   0,   0,\n",
       "         0,   0,   0,   0,   0,   0,   0,   0,   0,   0,   0,   0,   0,\n",
       "         0,   0,   0,   0,   0,   0,   0,   0,   0,   0,   0,   0,   0,\n",
       "         0,   0,   0,   0,   0,   0,   0,   0,   0,   0,   0,   0,   0,\n",
       "         0,   0,   0,   0,   0,   0,   0,   0,   0,   0,   0,   0,   0,\n",
       "         0,   0,   0,   0,   0,   0,   0,   0,   0,   3,  18,  18,  18,\n",
       "       126, 136, 175,  26, 166, 255, 247, 127,   0,   0,   0,   0,   0,\n",
       "         0,   0,   0,   0,   0,   0,   0,  30,  36,  94, 154, 170, 253,\n",
       "       253, 253, 253, 253, 225, 172, 253, 242, 195,  64,   0,   0,   0,\n",
       "         0,   0,   0,   0,   0,   0,   0,   0,  49, 238, 253, 253, 253,\n",
       "       253, 253, 253, 253, 253, 251,  93,  82,  82,  56,  39,   0,   0,\n",
       "         0,   0,   0,   0,   0,   0,   0,   0,   0,   0,  18, 219, 253,\n",
       "       253, 253, 253, 253, 198, 182, 247, 241,   0,   0,   0,   0,   0,\n",
       "         0,   0,   0,   0,   0,   0,   0,   0,   0,   0,   0,   0,   0,\n",
       "        80, 156, 107, 253, 253, 205,  11,   0,  43, 154,   0,   0,   0,\n",
       "         0,   0,   0,   0,   0,   0,   0,   0,   0,   0,   0,   0,   0,\n",
       "         0,   0,   0,  14,   1, 154, 253,  90,   0,   0,   0,   0,   0,\n",
       "         0,   0,   0,   0,   0,   0,   0,   0,   0,   0,   0,   0,   0,\n",
       "         0,   0,   0,   0,   0,   0,   0, 139, 253, 190,   2,   0,   0,\n",
       "         0,   0,   0,   0,   0,   0,   0,   0,   0,   0,   0,   0,   0,\n",
       "         0,   0,   0,   0,   0,   0,   0,   0,   0,  11, 190, 253,  70,\n",
       "         0,   0,   0,   0,   0,   0,   0,   0,   0,   0,   0,   0,   0,\n",
       "         0,   0,   0,   0,   0,   0,   0,   0,   0,   0,   0,   0,  35,\n",
       "       241, 225, 160, 108,   1,   0,   0,   0,   0,   0,   0,   0,   0,\n",
       "         0,   0,   0,   0,   0,   0,   0,   0,   0,   0,   0,   0,   0,\n",
       "         0,   0,  81, 240, 253, 253, 119,  25,   0,   0,   0,   0,   0,\n",
       "         0,   0,   0,   0,   0,   0,   0,   0,   0,   0,   0,   0,   0,\n",
       "         0,   0,   0,   0,   0,  45, 186, 253, 253, 150,  27,   0,   0,\n",
       "         0,   0,   0,   0,   0,   0,   0,   0,   0,   0,   0,   0,   0,\n",
       "         0,   0,   0,   0,   0,   0,   0,   0,  16,  93, 252, 253, 187,\n",
       "         0,   0,   0,   0,   0,   0,   0,   0,   0,   0,   0,   0,   0,\n",
       "         0,   0,   0,   0,   0,   0,   0,   0,   0,   0,   0,   0, 249,\n",
       "       253, 249,  64,   0,   0,   0,   0,   0,   0,   0,   0,   0,   0,\n",
       "         0,   0,   0,   0,   0,   0,   0,   0,   0,   0,   0,  46, 130,\n",
       "       183, 253, 253, 207,   2,   0,   0,   0,   0,   0,   0,   0,   0,\n",
       "         0,   0,   0,   0,   0,   0,   0,   0,   0,   0,   0,  39, 148,\n",
       "       229, 253, 253, 253, 250, 182,   0,   0,   0,   0,   0,   0,   0,\n",
       "         0,   0,   0,   0,   0,   0,   0,   0,   0,   0,   0,  24, 114,\n",
       "       221, 253, 253, 253, 253, 201,  78,   0,   0,   0,   0,   0,   0,\n",
       "         0,   0,   0,   0,   0,   0,   0,   0,   0,   0,   0,  23,  66,\n",
       "       213, 253, 253, 253, 253, 198,  81,   2,   0,   0,   0,   0,   0,\n",
       "         0,   0,   0,   0,   0,   0,   0,   0,   0,   0,   0,  18, 171,\n",
       "       219, 253, 253, 253, 253, 195,  80,   9,   0,   0,   0,   0,   0,\n",
       "         0,   0,   0,   0,   0,   0,   0,   0,   0,   0,   0,  55, 172,\n",
       "       226, 253, 253, 253, 253, 244, 133,  11,   0,   0,   0,   0,   0,\n",
       "         0,   0,   0,   0,   0,   0,   0,   0,   0,   0,   0,   0,   0,\n",
       "       136, 253, 253, 253, 212, 135, 132,  16,   0,   0,   0,   0,   0,\n",
       "         0,   0,   0,   0,   0,   0,   0,   0,   0,   0,   0,   0,   0,\n",
       "         0,   0,   0,   0,   0,   0,   0,   0,   0,   0,   0,   0,   0,\n",
       "         0,   0,   0,   0,   0,   0,   0,   0,   0,   0,   0,   0,   0,\n",
       "         0,   0,   0,   0,   0,   0,   0,   0,   0,   0,   0,   0,   0,\n",
       "         0,   0,   0,   0,   0,   0,   0,   0,   0,   0,   0,   0,   0,\n",
       "         0,   0,   0,   0,   0,   0,   0,   0,   0,   0,   0,   0,   0,\n",
       "         0,   0,   0,   0,   0,   0,   0,   0,   0,   0,   0,   0,   0,\n",
       "         0,   0,   0,   0,   1])"
      ]
     },
     "execution_count": 32,
     "metadata": {},
     "output_type": "execute_result"
    }
   ],
   "source": [
    "v_mit_bias_input"
   ]
  },
  {
   "cell_type": "markdown",
   "metadata": {},
   "source": [
    "## Erzeugen einer Gewichtsmatrix"
   ]
  },
  {
   "cell_type": "code",
   "execution_count": 33,
   "metadata": {},
   "outputs": [],
   "source": [
    "nr_inputs = 28**2 + 1"
   ]
  },
  {
   "cell_type": "code",
   "execution_count": 34,
   "metadata": {},
   "outputs": [
    {
     "data": {
      "text/plain": [
       "785"
      ]
     },
     "execution_count": 34,
     "metadata": {},
     "output_type": "execute_result"
    }
   ],
   "source": [
    "nr_inputs"
   ]
  },
  {
   "cell_type": "code",
   "execution_count": 35,
   "metadata": {},
   "outputs": [],
   "source": [
    "nr_outputs = 10"
   ]
  },
  {
   "cell_type": "code",
   "execution_count": 36,
   "metadata": {},
   "outputs": [],
   "source": [
    "W = np.zeros( (nr_inputs, nr_outputs) )"
   ]
  },
  {
   "cell_type": "code",
   "execution_count": 37,
   "metadata": {},
   "outputs": [
    {
     "data": {
      "text/plain": [
       "(785, 10)"
      ]
     },
     "execution_count": 37,
     "metadata": {},
     "output_type": "execute_result"
    }
   ],
   "source": [
    "W.shape"
   ]
  },
  {
   "cell_type": "code",
   "execution_count": 38,
   "metadata": {},
   "outputs": [
    {
     "data": {
      "text/plain": [
       "array([[0., 0., 0., ..., 0., 0., 0.],\n",
       "       [0., 0., 0., ..., 0., 0., 0.],\n",
       "       [0., 0., 0., ..., 0., 0., 0.],\n",
       "       ...,\n",
       "       [0., 0., 0., ..., 0., 0., 0.],\n",
       "       [0., 0., 0., ..., 0., 0., 0.],\n",
       "       [0., 0., 0., ..., 0., 0., 0.]])"
      ]
     },
     "execution_count": 38,
     "metadata": {},
     "output_type": "execute_result"
    }
   ],
   "source": [
    "W"
   ]
  },
  {
   "cell_type": "code",
   "execution_count": 39,
   "metadata": {},
   "outputs": [],
   "source": [
    "low = -0.1\n",
    "high = +0.1\n",
    "W = np.random.uniform( low, high, (nr_inputs, nr_outputs) )"
   ]
  },
  {
   "cell_type": "code",
   "execution_count": 40,
   "metadata": {},
   "outputs": [
    {
     "data": {
      "text/plain": [
       "(785, 10)"
      ]
     },
     "execution_count": 40,
     "metadata": {},
     "output_type": "execute_result"
    }
   ],
   "source": [
    "W.shape"
   ]
  },
  {
   "cell_type": "code",
   "execution_count": 41,
   "metadata": {},
   "outputs": [
    {
     "data": {
      "text/plain": [
       "array([[-0.03371315, -0.01901974, -0.04814605, ..., -0.02776588,\n",
       "         0.00562357,  0.0603357 ],\n",
       "       [-0.03268141, -0.06194109, -0.08150492, ...,  0.05593409,\n",
       "         0.06588638,  0.00395976],\n",
       "       [ 0.09412188, -0.00018931, -0.08289176, ...,  0.07311855,\n",
       "        -0.05191864,  0.09432571],\n",
       "       ...,\n",
       "       [ 0.01676563,  0.0651771 ,  0.0261138 , ...,  0.09960577,\n",
       "         0.05045266,  0.01502384],\n",
       "       [-0.05147481,  0.05497471, -0.03215917, ...,  0.01283693,\n",
       "        -0.05619511,  0.0631773 ],\n",
       "       [-0.06334359,  0.02942766, -0.09066999, ...,  0.0543012 ,\n",
       "         0.09817443,  0.00574459]])"
      ]
     },
     "execution_count": 41,
     "metadata": {},
     "output_type": "execute_result"
    }
   ],
   "source": [
    "W"
   ]
  },
  {
   "cell_type": "markdown",
   "metadata": {},
   "source": [
    "## Berechnung des Aktivierungsvektors"
   ]
  },
  {
   "cell_type": "code",
   "execution_count": 42,
   "metadata": {},
   "outputs": [
    {
     "data": {
      "text/plain": [
       "(785,)"
      ]
     },
     "execution_count": 42,
     "metadata": {},
     "output_type": "execute_result"
    }
   ],
   "source": [
    "v_mit_bias_input.shape"
   ]
  },
  {
   "cell_type": "code",
   "execution_count": 43,
   "metadata": {},
   "outputs": [],
   "source": [
    "inp_matrix = v_mit_bias_input.reshape(1,785)"
   ]
  },
  {
   "cell_type": "code",
   "execution_count": 44,
   "metadata": {},
   "outputs": [
    {
     "data": {
      "text/plain": [
       "2"
      ]
     },
     "execution_count": 44,
     "metadata": {},
     "output_type": "execute_result"
    }
   ],
   "source": [
    "inp_matrix.ndim"
   ]
  },
  {
   "cell_type": "code",
   "execution_count": 45,
   "metadata": {},
   "outputs": [
    {
     "data": {
      "text/plain": [
       "(1, 785)"
      ]
     },
     "execution_count": 45,
     "metadata": {},
     "output_type": "execute_result"
    }
   ],
   "source": [
    "inp_matrix.shape"
   ]
  },
  {
   "cell_type": "code",
   "execution_count": 46,
   "metadata": {},
   "outputs": [
    {
     "data": {
      "text/plain": [
       "(785, 10)"
      ]
     },
     "execution_count": 46,
     "metadata": {},
     "output_type": "execute_result"
    }
   ],
   "source": [
    "W.shape"
   ]
  },
  {
   "cell_type": "code",
   "execution_count": 47,
   "metadata": {},
   "outputs": [],
   "source": [
    "act = np.matmul(inp_matrix, W)"
   ]
  },
  {
   "cell_type": "code",
   "execution_count": 48,
   "metadata": {},
   "outputs": [
    {
     "data": {
      "text/plain": [
       "(1, 10)"
      ]
     },
     "execution_count": 48,
     "metadata": {},
     "output_type": "execute_result"
    }
   ],
   "source": [
    "act.shape"
   ]
  },
  {
   "cell_type": "code",
   "execution_count": 49,
   "metadata": {},
   "outputs": [
    {
     "data": {
      "text/plain": [
       "array([[ 195.72357889, -150.12351949,  -52.06000462,   67.62308893,\n",
       "         213.8711182 ,   47.75877654, -164.52633605,   66.34252658,\n",
       "          -3.3041268 ,  161.69324706]])"
      ]
     },
     "execution_count": 49,
     "metadata": {},
     "output_type": "execute_result"
    }
   ],
   "source": [
    "act"
   ]
  },
  {
   "cell_type": "markdown",
   "metadata": {},
   "source": [
    "## Berechnung des Outputvektors"
   ]
  },
  {
   "cell_type": "code",
   "execution_count": 50,
   "metadata": {},
   "outputs": [],
   "source": [
    "def RELU(x):\n",
    "    if x < 0:\n",
    "        return 0\n",
    "    else:\n",
    "        return x"
   ]
  },
  {
   "cell_type": "code",
   "execution_count": 51,
   "metadata": {},
   "outputs": [
    {
     "data": {
      "text/plain": [
       "0"
      ]
     },
     "execution_count": 51,
     "metadata": {},
     "output_type": "execute_result"
    }
   ],
   "source": [
    "RELU(-0.5)"
   ]
  },
  {
   "cell_type": "code",
   "execution_count": 52,
   "metadata": {},
   "outputs": [
    {
     "data": {
      "text/plain": [
       "2.4"
      ]
     },
     "execution_count": 52,
     "metadata": {},
     "output_type": "execute_result"
    }
   ],
   "source": [
    "RELU(2.4)"
   ]
  },
  {
   "cell_type": "code",
   "execution_count": 53,
   "metadata": {},
   "outputs": [
    {
     "data": {
      "text/plain": [
       "numpy.ndarray"
      ]
     },
     "execution_count": 53,
     "metadata": {},
     "output_type": "execute_result"
    }
   ],
   "source": [
    "type(act)"
   ]
  },
  {
   "cell_type": "code",
   "execution_count": 54,
   "metadata": {},
   "outputs": [
    {
     "data": {
      "text/plain": [
       "(1, 10)"
      ]
     },
     "execution_count": 54,
     "metadata": {},
     "output_type": "execute_result"
    }
   ],
   "source": [
    "act.shape"
   ]
  },
  {
   "cell_type": "code",
   "execution_count": 55,
   "metadata": {},
   "outputs": [],
   "source": [
    "# RELU(act)"
   ]
  },
  {
   "cell_type": "code",
   "execution_count": 56,
   "metadata": {},
   "outputs": [],
   "source": [
    "RELU_vecfunc = np.vectorize(RELU, otypes=[float] )"
   ]
  },
  {
   "cell_type": "code",
   "execution_count": 57,
   "metadata": {},
   "outputs": [],
   "source": [
    "out = RELU_vecfunc(act)"
   ]
  },
  {
   "cell_type": "code",
   "execution_count": 58,
   "metadata": {},
   "outputs": [
    {
     "data": {
      "text/plain": [
       "array([[195.72357889,   0.        ,   0.        ,  67.62308893,\n",
       "        213.8711182 ,  47.75877654,   0.        ,  66.34252658,\n",
       "          0.        , 161.69324706]])"
      ]
     },
     "execution_count": 58,
     "metadata": {},
     "output_type": "execute_result"
    }
   ],
   "source": [
    "out"
   ]
  },
  {
   "cell_type": "code",
   "execution_count": 59,
   "metadata": {},
   "outputs": [
    {
     "data": {
      "text/plain": [
       "4"
      ]
     },
     "execution_count": 59,
     "metadata": {},
     "output_type": "execute_result"
    }
   ],
   "source": [
    "np.argmax(out)"
   ]
  },
  {
   "cell_type": "code",
   "execution_count": 60,
   "metadata": {},
   "outputs": [
    {
     "data": {
      "text/plain": [
       "array([[ 195.72357889, -150.12351949,  -52.06000462,   67.62308893,\n",
       "         213.8711182 ,   47.75877654, -164.52633605,   66.34252658,\n",
       "          -3.3041268 ,  161.69324706]])"
      ]
     },
     "execution_count": 60,
     "metadata": {},
     "output_type": "execute_result"
    }
   ],
   "source": [
    "act"
   ]
  },
  {
   "cell_type": "markdown",
   "metadata": {},
   "source": [
    "## Berechnung des Fehlervektors"
   ]
  },
  {
   "cell_type": "code",
   "execution_count": 61,
   "metadata": {},
   "outputs": [
    {
     "data": {
      "text/plain": [
       "array([[195.72357889,   0.        ,   0.        ,  67.62308893,\n",
       "        213.8711182 ,  47.75877654,   0.        ,  66.34252658,\n",
       "          0.        , 161.69324706]])"
      ]
     },
     "execution_count": 61,
     "metadata": {},
     "output_type": "execute_result"
    }
   ],
   "source": [
    "out"
   ]
  },
  {
   "cell_type": "code",
   "execution_count": 62,
   "metadata": {},
   "outputs": [
    {
     "data": {
      "text/plain": [
       "(1, 10)"
      ]
     },
     "execution_count": 62,
     "metadata": {},
     "output_type": "execute_result"
    }
   ],
   "source": [
    "out.shape"
   ]
  },
  {
   "cell_type": "code",
   "execution_count": 63,
   "metadata": {},
   "outputs": [],
   "source": [
    "out1D = out.reshape(-1)"
   ]
  },
  {
   "cell_type": "code",
   "execution_count": 64,
   "metadata": {},
   "outputs": [
    {
     "data": {
      "text/plain": [
       "array([195.72357889,   0.        ,   0.        ,  67.62308893,\n",
       "       213.8711182 ,  47.75877654,   0.        ,  66.34252658,\n",
       "         0.        , 161.69324706])"
      ]
     },
     "execution_count": 64,
     "metadata": {},
     "output_type": "execute_result"
    }
   ],
   "source": [
    "out1D"
   ]
  },
  {
   "cell_type": "code",
   "execution_count": 65,
   "metadata": {},
   "outputs": [
    {
     "data": {
      "text/plain": [
       "(10,)"
      ]
     },
     "execution_count": 65,
     "metadata": {},
     "output_type": "execute_result"
    }
   ],
   "source": [
    "out1D.shape"
   ]
  },
  {
   "cell_type": "code",
   "execution_count": 66,
   "metadata": {},
   "outputs": [],
   "source": [
    "target_vector = one_hot_kodierung[0,:]"
   ]
  },
  {
   "cell_type": "code",
   "execution_count": 67,
   "metadata": {},
   "outputs": [
    {
     "data": {
      "text/plain": [
       "(10,)"
      ]
     },
     "execution_count": 67,
     "metadata": {},
     "output_type": "execute_result"
    }
   ],
   "source": [
    "target_vector.shape"
   ]
  },
  {
   "cell_type": "code",
   "execution_count": 68,
   "metadata": {},
   "outputs": [
    {
     "data": {
      "text/plain": [
       "array([0., 0., 0., 0., 0., 1., 0., 0., 0., 0.])"
      ]
     },
     "execution_count": 68,
     "metadata": {},
     "output_type": "execute_result"
    }
   ],
   "source": [
    "target_vector"
   ]
  },
  {
   "cell_type": "code",
   "execution_count": 69,
   "metadata": {},
   "outputs": [],
   "source": [
    "error_vector = target_vector - out1D"
   ]
  },
  {
   "cell_type": "code",
   "execution_count": 70,
   "metadata": {},
   "outputs": [
    {
     "data": {
      "text/plain": [
       "array([-195.72357889,    0.        ,    0.        ,  -67.62308893,\n",
       "       -213.8711182 ,  -46.75877654,    0.        ,  -66.34252658,\n",
       "          0.        , -161.69324706])"
      ]
     },
     "execution_count": 70,
     "metadata": {},
     "output_type": "execute_result"
    }
   ],
   "source": [
    "error_vector"
   ]
  },
  {
   "cell_type": "markdown",
   "metadata": {},
   "source": [
    "## Berechnung aller Gewichtsänderungen"
   ]
  },
  {
   "cell_type": "code",
   "execution_count": 71,
   "metadata": {},
   "outputs": [
    {
     "data": {
      "text/plain": [
       "10"
      ]
     },
     "execution_count": 71,
     "metadata": {},
     "output_type": "execute_result"
    }
   ],
   "source": [
    "nr_outputs"
   ]
  },
  {
   "cell_type": "code",
   "execution_count": 72,
   "metadata": {},
   "outputs": [
    {
     "data": {
      "text/plain": [
       "785"
      ]
     },
     "execution_count": 72,
     "metadata": {},
     "output_type": "execute_result"
    }
   ],
   "source": [
    "nr_inputs"
   ]
  },
  {
   "cell_type": "code",
   "execution_count": 73,
   "metadata": {},
   "outputs": [
    {
     "data": {
      "text/plain": [
       "(785,)"
      ]
     },
     "execution_count": 73,
     "metadata": {},
     "output_type": "execute_result"
    }
   ],
   "source": [
    "v_mit_bias_input.shape"
   ]
  },
  {
   "cell_type": "code",
   "execution_count": 74,
   "metadata": {},
   "outputs": [],
   "source": [
    "alpha = 0.001\n",
    "\n",
    "for out_neuron_nr in range(0,nr_outputs):\n",
    "    for inp_nr in range(0,nr_inputs):\n",
    "        weight = W[inp_nr, out_neuron_nr]\n",
    "        \n",
    "        # Compute weight change for the current weight\n",
    "        # based on the Perceptron Learning Rule\n",
    "        delta_weight = v_mit_bias_input[inp_nr] * error_vector[out_neuron_nr] * alpha\n",
    "        \n",
    "        # Learning happens here!\n",
    "        W[inp_nr, out_neuron_nr] += delta_weight        "
   ]
  },
  {
   "cell_type": "markdown",
   "metadata": {},
   "source": [
    "# Einzelteile zusammensetzen zu einem Programm"
   ]
  },
  {
   "cell_type": "code",
   "execution_count": 75,
   "metadata": {
    "scrolled": true
   },
   "outputs": [],
   "source": [
    "import tensorflow as tf\n",
    "import numpy as np\n",
    "import random\n",
    "from sklearn.preprocessing import OneHotEncoder\n",
    "\n",
    "\n",
    "def one_hot(labels):\n",
    "    enc = OneHotEncoder()\n",
    "    enc.fit(labels.reshape(-1,1))\n",
    "    one_hot_kodierung = enc.transform(labels.reshape(-1,1)).toarray()\n",
    "    return one_hot_kodierung\n",
    "\n",
    "\n",
    "def act_func_relu_scalar(x):\n",
    "    if x < 0:\n",
    "        return 0\n",
    "    else:\n",
    "        return x\n",
    "    \n",
    "act_func_relu_vector = np.vectorize(act_func_relu_scalar, otypes=[float] )\n",
    "\n",
    "\n",
    "def preprocess_data(M):\n",
    "    M = M.astype(float)\n",
    "    M = M * (1.0/255.0)\n",
    "    return M    \n",
    "\n",
    "\n",
    "def prepare_data():\n",
    "    \n",
    "    # 1. load MNIST data\n",
    "    mnist_dataset = tf.keras.datasets.mnist\n",
    "    (x_train, y_train), (x_test, y_test) = mnist_dataset.load_data()\n",
    "    \n",
    "    # 2. map image pixel values from [0,255] to [0,1]\n",
    "    x_train = preprocess_data(x_train)\n",
    "    x_test  = preprocess_data(x_test)\n",
    "        \n",
    "    # 3. map train data target labels to one-hot encoded vectors\n",
    "    y_train_onehot = one_hot(y_train)\n",
    "    \n",
    "    # 4. map test data target labels to one-hot encoded vectors\n",
    "    y_test_onehot = one_hot(y_test)\n",
    "    \n",
    "    return x_train, y_train_onehot, \\\n",
    "           x_test,  y_test_onehot\n",
    "\n",
    "\n",
    "def perceptron_predict(image,W):\n",
    "        \n",
    "    # 1. transform 2D input image (28x28 pixel) to 1D vector\n",
    "    v = image.reshape(-1)\n",
    "    \n",
    "    # 2. add bias input to input vector v\n",
    "    v_mit_bias_input = np.append(v, [1])\n",
    "    \n",
    "    # 3. compute activations of all <nr_outputs> output neurons\n",
    "    act = np.matmul(v_mit_bias_input, W)\n",
    "        \n",
    "    # 4. compute output vector given activation vector\n",
    "    out = act_func_relu_vector(act)\n",
    "    \n",
    "    return v_mit_bias_input, out\n",
    "    \n",
    "    \n",
    "\n",
    "def preceptron_train(v_with_add_bias_input,y,t,W):\n",
    "    \n",
    "    # 1. compute error for each of the output neurons\n",
    "    error_vector = t - y\n",
    "    \n",
    "    # 2. define learning rate\n",
    "    alpha = 0.001\n",
    "    \n",
    "    # 3. for all output neurons ...\n",
    "    for out_neuron_nr in range(0,nr_outputs):\n",
    "        \n",
    "        # for all inputs of that output neuron ...\n",
    "        for inp_nr in range(0,nr_inputs):\n",
    "            \n",
    "            # compute weight change for the current weight\n",
    "            # based on the Perceptron learning rule\n",
    "            delta_weight = v_with_add_bias_input[inp_nr] *  \\\n",
    "                           error_vector[out_neuron_nr] *    \\\n",
    "                           alpha\n",
    "\n",
    "            # Learning happens here!\n",
    "            W[inp_nr, out_neuron_nr] += delta_weight\n",
    "\n",
    "            \n",
    "            \n",
    "def perceptron_test(x_test, y_test, W):\n",
    "    \n",
    "    nr_test_samples = x_test.shape[0]\n",
    "    \n",
    "    correct = 0\n",
    "    for sample_id in range(0,nr_test_samples):\n",
    "\n",
    "        # get next test sample\n",
    "        image       = x_test[sample_id]\n",
    "        teacher_vec = y_test[sample_id]\n",
    "        \n",
    "        # compute prediction vector\n",
    "        _, pred_vec = perceptron_predict(image,W)\n",
    "        \n",
    "        # compute predicted label\n",
    "        pred_label = np.argmax(pred_vec)\n",
    "        \n",
    "        # get actual label\n",
    "        gt_label = np.argmax(teacher_vec)\n",
    "        \n",
    "        #print(\"pred: {0} vs. gt: {1}\".format(pred_label, gt_label))\n",
    "        \n",
    "        # was the predicted label correct?\n",
    "        if pred_label == gt_label:\n",
    "            correct += 1\n",
    "            \n",
    "    acc = correct/nr_test_samples\n",
    "    return acc"
   ]
  },
  {
   "cell_type": "markdown",
   "metadata": {},
   "source": [
    "# Trainieren des Perzeptrons"
   ]
  },
  {
   "cell_type": "code",
   "execution_count": 76,
   "metadata": {},
   "outputs": [
    {
     "name": "stdout",
     "output_type": "stream",
     "text": [
      "train step: 0 --> test data set accuracy: 0.111\n",
      "train step: 100 --> test data set accuracy: 0.134\n",
      "train step: 200 --> test data set accuracy: 0.143\n",
      "train step: 300 --> test data set accuracy: 0.137\n",
      "train step: 400 --> test data set accuracy: 0.137\n",
      "train step: 500 --> test data set accuracy: 0.139\n",
      "train step: 600 --> test data set accuracy: 0.137\n",
      "train step: 700 --> test data set accuracy: 0.141\n",
      "train step: 800 --> test data set accuracy: 0.143\n",
      "train step: 900 --> test data set accuracy: 0.150\n",
      "train step: 1000 --> test data set accuracy: 0.152\n",
      "train step: 1100 --> test data set accuracy: 0.155\n",
      "train step: 1200 --> test data set accuracy: 0.156\n",
      "train step: 1300 --> test data set accuracy: 0.156\n",
      "train step: 1400 --> test data set accuracy: 0.162\n",
      "train step: 1500 --> test data set accuracy: 0.163\n",
      "train step: 1600 --> test data set accuracy: 0.169\n",
      "train step: 1700 --> test data set accuracy: 0.175\n",
      "train step: 1800 --> test data set accuracy: 0.181\n",
      "train step: 1900 --> test data set accuracy: 0.187\n",
      "train step: 2000 --> test data set accuracy: 0.197\n",
      "train step: 2100 --> test data set accuracy: 0.201\n",
      "train step: 2200 --> test data set accuracy: 0.201\n",
      "train step: 2300 --> test data set accuracy: 0.205\n",
      "train step: 2400 --> test data set accuracy: 0.207\n",
      "train step: 2500 --> test data set accuracy: 0.215\n",
      "train step: 2600 --> test data set accuracy: 0.215\n",
      "train step: 2700 --> test data set accuracy: 0.222\n",
      "train step: 2800 --> test data set accuracy: 0.232\n",
      "train step: 2900 --> test data set accuracy: 0.233\n",
      "train step: 3000 --> test data set accuracy: 0.239\n",
      "train step: 3100 --> test data set accuracy: 0.241\n",
      "train step: 3200 --> test data set accuracy: 0.243\n",
      "train step: 3300 --> test data set accuracy: 0.240\n",
      "train step: 3400 --> test data set accuracy: 0.245\n",
      "train step: 3500 --> test data set accuracy: 0.246\n",
      "train step: 3600 --> test data set accuracy: 0.252\n",
      "train step: 3700 --> test data set accuracy: 0.256\n",
      "train step: 3800 --> test data set accuracy: 0.264\n",
      "train step: 3900 --> test data set accuracy: 0.271\n",
      "train step: 4000 --> test data set accuracy: 0.277\n",
      "train step: 4100 --> test data set accuracy: 0.278\n",
      "train step: 4200 --> test data set accuracy: 0.282\n",
      "train step: 4300 --> test data set accuracy: 0.282\n",
      "train step: 4400 --> test data set accuracy: 0.289\n",
      "train step: 4500 --> test data set accuracy: 0.292\n",
      "train step: 4600 --> test data set accuracy: 0.294\n",
      "train step: 4700 --> test data set accuracy: 0.304\n",
      "train step: 4800 --> test data set accuracy: 0.316\n",
      "train step: 4900 --> test data set accuracy: 0.314\n",
      "train step: 5000 --> test data set accuracy: 0.312\n",
      "train step: 5100 --> test data set accuracy: 0.319\n",
      "train step: 5200 --> test data set accuracy: 0.326\n",
      "train step: 5300 --> test data set accuracy: 0.325\n",
      "train step: 5400 --> test data set accuracy: 0.322\n",
      "train step: 5500 --> test data set accuracy: 0.332\n",
      "train step: 5600 --> test data set accuracy: 0.328\n",
      "train step: 5700 --> test data set accuracy: 0.333\n",
      "train step: 5800 --> test data set accuracy: 0.332\n",
      "train step: 5900 --> test data set accuracy: 0.343\n",
      "train step: 6000 --> test data set accuracy: 0.343\n",
      "train step: 6100 --> test data set accuracy: 0.332\n",
      "train step: 6200 --> test data set accuracy: 0.347\n",
      "train step: 6300 --> test data set accuracy: 0.345\n",
      "train step: 6400 --> test data set accuracy: 0.352\n",
      "train step: 6500 --> test data set accuracy: 0.352\n",
      "train step: 6600 --> test data set accuracy: 0.343\n",
      "train step: 6700 --> test data set accuracy: 0.349\n",
      "train step: 6800 --> test data set accuracy: 0.353\n",
      "train step: 6900 --> test data set accuracy: 0.353\n",
      "train step: 7000 --> test data set accuracy: 0.356\n",
      "train step: 7100 --> test data set accuracy: 0.361\n",
      "train step: 7200 --> test data set accuracy: 0.370\n",
      "train step: 7300 --> test data set accuracy: 0.370\n",
      "train step: 7400 --> test data set accuracy: 0.377\n",
      "train step: 7500 --> test data set accuracy: 0.383\n",
      "train step: 7600 --> test data set accuracy: 0.386\n",
      "train step: 7700 --> test data set accuracy: 0.386\n",
      "train step: 7800 --> test data set accuracy: 0.382\n",
      "train step: 7900 --> test data set accuracy: 0.386\n",
      "train step: 8000 --> test data set accuracy: 0.390\n",
      "train step: 8100 --> test data set accuracy: 0.400\n",
      "train step: 8200 --> test data set accuracy: 0.388\n",
      "train step: 8300 --> test data set accuracy: 0.397\n",
      "train step: 8400 --> test data set accuracy: 0.403\n",
      "train step: 8500 --> test data set accuracy: 0.403\n",
      "train step: 8600 --> test data set accuracy: 0.410\n",
      "train step: 8700 --> test data set accuracy: 0.402\n",
      "train step: 8800 --> test data set accuracy: 0.405\n",
      "train step: 8900 --> test data set accuracy: 0.396\n",
      "train step: 9000 --> test data set accuracy: 0.393\n",
      "train step: 9100 --> test data set accuracy: 0.395\n",
      "train step: 9200 --> test data set accuracy: 0.400\n",
      "train step: 9300 --> test data set accuracy: 0.409\n",
      "train step: 9400 --> test data set accuracy: 0.411\n",
      "train step: 9500 --> test data set accuracy: 0.407\n",
      "train step: 9600 --> test data set accuracy: 0.389\n",
      "train step: 9700 --> test data set accuracy: 0.392\n",
      "train step: 9800 --> test data set accuracy: 0.404\n",
      "train step: 9900 --> test data set accuracy: 0.404\n",
      "train step: 10000 --> test data set accuracy: 0.401\n",
      "train step: 10100 --> test data set accuracy: 0.399\n",
      "train step: 10200 --> test data set accuracy: 0.401\n",
      "train step: 10300 --> test data set accuracy: 0.401\n",
      "train step: 10400 --> test data set accuracy: 0.388\n",
      "train step: 10500 --> test data set accuracy: 0.405\n",
      "train step: 10600 --> test data set accuracy: 0.411\n",
      "train step: 10700 --> test data set accuracy: 0.423\n",
      "train step: 10800 --> test data set accuracy: 0.424\n",
      "train step: 10900 --> test data set accuracy: 0.423\n",
      "train step: 11000 --> test data set accuracy: 0.419\n",
      "train step: 11100 --> test data set accuracy: 0.415\n",
      "train step: 11200 --> test data set accuracy: 0.411\n",
      "train step: 11300 --> test data set accuracy: 0.418\n",
      "train step: 11400 --> test data set accuracy: 0.411\n",
      "train step: 11500 --> test data set accuracy: 0.411\n",
      "train step: 11600 --> test data set accuracy: 0.410\n",
      "train step: 11700 --> test data set accuracy: 0.412\n",
      "train step: 11800 --> test data set accuracy: 0.427\n",
      "train step: 11900 --> test data set accuracy: 0.420\n",
      "train step: 12000 --> test data set accuracy: 0.414\n",
      "train step: 12100 --> test data set accuracy: 0.428\n",
      "train step: 12200 --> test data set accuracy: 0.432\n",
      "train step: 12300 --> test data set accuracy: 0.428\n",
      "train step: 12400 --> test data set accuracy: 0.429\n",
      "train step: 12500 --> test data set accuracy: 0.437\n",
      "train step: 12600 --> test data set accuracy: 0.426\n",
      "train step: 12700 --> test data set accuracy: 0.433\n",
      "train step: 12800 --> test data set accuracy: 0.432\n",
      "train step: 12900 --> test data set accuracy: 0.445\n",
      "train step: 13000 --> test data set accuracy: 0.456\n",
      "train step: 13100 --> test data set accuracy: 0.453\n",
      "train step: 13200 --> test data set accuracy: 0.437\n",
      "train step: 13300 --> test data set accuracy: 0.430\n",
      "train step: 13400 --> test data set accuracy: 0.420\n",
      "train step: 13500 --> test data set accuracy: 0.439\n",
      "train step: 13600 --> test data set accuracy: 0.444\n",
      "train step: 13700 --> test data set accuracy: 0.447\n",
      "train step: 13800 --> test data set accuracy: 0.438\n",
      "train step: 13900 --> test data set accuracy: 0.440\n",
      "train step: 14000 --> test data set accuracy: 0.444\n",
      "train step: 14100 --> test data set accuracy: 0.446\n",
      "train step: 14200 --> test data set accuracy: 0.450\n",
      "train step: 14300 --> test data set accuracy: 0.453\n",
      "train step: 14400 --> test data set accuracy: 0.458\n",
      "train step: 14500 --> test data set accuracy: 0.461\n",
      "train step: 14600 --> test data set accuracy: 0.451\n",
      "train step: 14700 --> test data set accuracy: 0.437\n",
      "train step: 14800 --> test data set accuracy: 0.428\n",
      "train step: 14900 --> test data set accuracy: 0.441\n",
      "train step: 15000 --> test data set accuracy: 0.444\n",
      "train step: 15100 --> test data set accuracy: 0.444\n",
      "train step: 15200 --> test data set accuracy: 0.449\n",
      "train step: 15300 --> test data set accuracy: 0.456\n",
      "train step: 15400 --> test data set accuracy: 0.446\n",
      "train step: 15500 --> test data set accuracy: 0.447\n",
      "train step: 15600 --> test data set accuracy: 0.450\n",
      "train step: 15700 --> test data set accuracy: 0.455\n",
      "train step: 15800 --> test data set accuracy: 0.458\n",
      "train step: 15900 --> test data set accuracy: 0.454\n",
      "train step: 16000 --> test data set accuracy: 0.466\n",
      "train step: 16100 --> test data set accuracy: 0.473\n",
      "train step: 16200 --> test data set accuracy: 0.463\n",
      "train step: 16300 --> test data set accuracy: 0.458\n",
      "train step: 16400 --> test data set accuracy: 0.471\n",
      "train step: 16500 --> test data set accuracy: 0.466\n",
      "train step: 16600 --> test data set accuracy: 0.473\n",
      "train step: 16700 --> test data set accuracy: 0.455\n",
      "train step: 16800 --> test data set accuracy: 0.457\n",
      "train step: 16900 --> test data set accuracy: 0.469\n",
      "train step: 17000 --> test data set accuracy: 0.467\n",
      "train step: 17100 --> test data set accuracy: 0.471\n",
      "train step: 17200 --> test data set accuracy: 0.476\n",
      "train step: 17300 --> test data set accuracy: 0.465\n",
      "train step: 17400 --> test data set accuracy: 0.475\n",
      "train step: 17500 --> test data set accuracy: 0.476\n",
      "train step: 17600 --> test data set accuracy: 0.477\n",
      "train step: 17700 --> test data set accuracy: 0.490\n",
      "train step: 17800 --> test data set accuracy: 0.497\n",
      "train step: 17900 --> test data set accuracy: 0.475\n",
      "train step: 18000 --> test data set accuracy: 0.470\n",
      "train step: 18100 --> test data set accuracy: 0.473\n",
      "train step: 18200 --> test data set accuracy: 0.473\n",
      "train step: 18300 --> test data set accuracy: 0.472\n",
      "train step: 18400 --> test data set accuracy: 0.461\n",
      "train step: 18500 --> test data set accuracy: 0.463\n",
      "train step: 18600 --> test data set accuracy: 0.473\n",
      "train step: 18700 --> test data set accuracy: 0.481\n",
      "train step: 18800 --> test data set accuracy: 0.488\n",
      "train step: 18900 --> test data set accuracy: 0.483\n",
      "train step: 19000 --> test data set accuracy: 0.475\n",
      "train step: 19100 --> test data set accuracy: 0.471\n",
      "train step: 19200 --> test data set accuracy: 0.473\n",
      "train step: 19300 --> test data set accuracy: 0.472\n",
      "train step: 19400 --> test data set accuracy: 0.475\n",
      "train step: 19500 --> test data set accuracy: 0.470\n",
      "train step: 19600 --> test data set accuracy: 0.485\n",
      "train step: 19700 --> test data set accuracy: 0.476\n",
      "train step: 19800 --> test data set accuracy: 0.472\n",
      "train step: 19900 --> test data set accuracy: 0.486\n",
      "train step: 20000 --> test data set accuracy: 0.488\n",
      "train step: 20100 --> test data set accuracy: 0.490\n",
      "train step: 20200 --> test data set accuracy: 0.487\n",
      "train step: 20300 --> test data set accuracy: 0.499\n",
      "train step: 20400 --> test data set accuracy: 0.494\n",
      "train step: 20500 --> test data set accuracy: 0.499\n",
      "train step: 20600 --> test data set accuracy: 0.496\n",
      "train step: 20700 --> test data set accuracy: 0.497\n",
      "train step: 20800 --> test data set accuracy: 0.495\n",
      "train step: 20900 --> test data set accuracy: 0.504\n",
      "train step: 21000 --> test data set accuracy: 0.498\n",
      "train step: 21100 --> test data set accuracy: 0.490\n",
      "train step: 21200 --> test data set accuracy: 0.493\n",
      "train step: 21300 --> test data set accuracy: 0.491\n",
      "train step: 21400 --> test data set accuracy: 0.483\n",
      "train step: 21500 --> test data set accuracy: 0.482\n",
      "train step: 21600 --> test data set accuracy: 0.495\n",
      "train step: 21700 --> test data set accuracy: 0.488\n",
      "train step: 21800 --> test data set accuracy: 0.496\n",
      "train step: 21900 --> test data set accuracy: 0.484\n",
      "train step: 22000 --> test data set accuracy: 0.492\n",
      "train step: 22100 --> test data set accuracy: 0.492\n",
      "train step: 22200 --> test data set accuracy: 0.499\n",
      "train step: 22300 --> test data set accuracy: 0.499\n",
      "train step: 22400 --> test data set accuracy: 0.502\n",
      "train step: 22500 --> test data set accuracy: 0.507\n",
      "train step: 22600 --> test data set accuracy: 0.501\n",
      "train step: 22700 --> test data set accuracy: 0.499\n",
      "train step: 22800 --> test data set accuracy: 0.503\n",
      "train step: 22900 --> test data set accuracy: 0.500\n",
      "train step: 23000 --> test data set accuracy: 0.493\n",
      "train step: 23100 --> test data set accuracy: 0.497\n",
      "train step: 23200 --> test data set accuracy: 0.501\n",
      "train step: 23300 --> test data set accuracy: 0.506\n",
      "train step: 23400 --> test data set accuracy: 0.505\n",
      "train step: 23500 --> test data set accuracy: 0.515\n",
      "train step: 23600 --> test data set accuracy: 0.517\n",
      "train step: 23700 --> test data set accuracy: 0.513\n",
      "train step: 23800 --> test data set accuracy: 0.510\n",
      "train step: 23900 --> test data set accuracy: 0.524\n",
      "train step: 24000 --> test data set accuracy: 0.517\n",
      "train step: 24100 --> test data set accuracy: 0.520\n",
      "train step: 24200 --> test data set accuracy: 0.519\n",
      "train step: 24300 --> test data set accuracy: 0.524\n",
      "train step: 24400 --> test data set accuracy: 0.514\n",
      "train step: 24500 --> test data set accuracy: 0.527\n",
      "train step: 24600 --> test data set accuracy: 0.518\n",
      "train step: 24700 --> test data set accuracy: 0.514\n",
      "train step: 24800 --> test data set accuracy: 0.523\n",
      "train step: 24900 --> test data set accuracy: 0.512\n",
      "train step: 25000 --> test data set accuracy: 0.499\n",
      "train step: 25100 --> test data set accuracy: 0.502\n",
      "train step: 25200 --> test data set accuracy: 0.502\n",
      "train step: 25300 --> test data set accuracy: 0.499\n",
      "train step: 25400 --> test data set accuracy: 0.498\n",
      "train step: 25500 --> test data set accuracy: 0.512\n",
      "train step: 25600 --> test data set accuracy: 0.507\n",
      "train step: 25700 --> test data set accuracy: 0.510\n",
      "train step: 25800 --> test data set accuracy: 0.499\n",
      "train step: 25900 --> test data set accuracy: 0.508\n",
      "train step: 26000 --> test data set accuracy: 0.516\n",
      "train step: 26100 --> test data set accuracy: 0.505\n",
      "train step: 26200 --> test data set accuracy: 0.504\n",
      "train step: 26300 --> test data set accuracy: 0.520\n",
      "train step: 26400 --> test data set accuracy: 0.526\n",
      "train step: 26500 --> test data set accuracy: 0.528\n",
      "train step: 26600 --> test data set accuracy: 0.527\n",
      "train step: 26700 --> test data set accuracy: 0.520\n",
      "train step: 26800 --> test data set accuracy: 0.510\n",
      "train step: 26900 --> test data set accuracy: 0.516\n",
      "train step: 27000 --> test data set accuracy: 0.539\n",
      "train step: 27100 --> test data set accuracy: 0.532\n",
      "train step: 27200 --> test data set accuracy: 0.532\n",
      "train step: 27300 --> test data set accuracy: 0.532\n",
      "train step: 27400 --> test data set accuracy: 0.531\n",
      "train step: 27500 --> test data set accuracy: 0.536\n",
      "train step: 27600 --> test data set accuracy: 0.528\n",
      "train step: 27700 --> test data set accuracy: 0.529\n",
      "train step: 27800 --> test data set accuracy: 0.521\n",
      "train step: 27900 --> test data set accuracy: 0.526\n",
      "train step: 28000 --> test data set accuracy: 0.522\n",
      "train step: 28100 --> test data set accuracy: 0.530\n",
      "train step: 28200 --> test data set accuracy: 0.518\n",
      "train step: 28300 --> test data set accuracy: 0.528\n",
      "train step: 28400 --> test data set accuracy: 0.537\n",
      "train step: 28500 --> test data set accuracy: 0.533\n",
      "train step: 28600 --> test data set accuracy: 0.540\n",
      "train step: 28700 --> test data set accuracy: 0.540\n",
      "train step: 28800 --> test data set accuracy: 0.532\n",
      "train step: 28900 --> test data set accuracy: 0.537\n",
      "train step: 29000 --> test data set accuracy: 0.518\n",
      "train step: 29100 --> test data set accuracy: 0.514\n",
      "train step: 29200 --> test data set accuracy: 0.531\n",
      "train step: 29300 --> test data set accuracy: 0.520\n",
      "train step: 29400 --> test data set accuracy: 0.515\n",
      "train step: 29500 --> test data set accuracy: 0.515\n",
      "train step: 29600 --> test data set accuracy: 0.512\n",
      "train step: 29700 --> test data set accuracy: 0.505\n",
      "train step: 29800 --> test data set accuracy: 0.511\n",
      "train step: 29900 --> test data set accuracy: 0.510\n",
      "train step: 30000 --> test data set accuracy: 0.528\n",
      "train step: 30100 --> test data set accuracy: 0.533\n",
      "train step: 30200 --> test data set accuracy: 0.537\n",
      "train step: 30300 --> test data set accuracy: 0.550\n",
      "train step: 30400 --> test data set accuracy: 0.559\n",
      "train step: 30500 --> test data set accuracy: 0.550\n",
      "train step: 30600 --> test data set accuracy: 0.533\n",
      "train step: 30700 --> test data set accuracy: 0.540\n",
      "train step: 30800 --> test data set accuracy: 0.536\n",
      "train step: 30900 --> test data set accuracy: 0.534\n",
      "train step: 31000 --> test data set accuracy: 0.549\n",
      "train step: 31100 --> test data set accuracy: 0.542\n",
      "train step: 31200 --> test data set accuracy: 0.535\n",
      "train step: 31300 --> test data set accuracy: 0.533\n",
      "train step: 31400 --> test data set accuracy: 0.536\n",
      "train step: 31500 --> test data set accuracy: 0.537\n",
      "train step: 31600 --> test data set accuracy: 0.546\n",
      "train step: 31700 --> test data set accuracy: 0.534\n",
      "train step: 31800 --> test data set accuracy: 0.535\n",
      "train step: 31900 --> test data set accuracy: 0.539\n",
      "train step: 32000 --> test data set accuracy: 0.539\n",
      "train step: 32100 --> test data set accuracy: 0.546\n",
      "train step: 32200 --> test data set accuracy: 0.546\n",
      "train step: 32300 --> test data set accuracy: 0.533\n",
      "train step: 32400 --> test data set accuracy: 0.522\n",
      "train step: 32500 --> test data set accuracy: 0.518\n",
      "train step: 32600 --> test data set accuracy: 0.521\n",
      "train step: 32700 --> test data set accuracy: 0.528\n",
      "train step: 32800 --> test data set accuracy: 0.527\n",
      "train step: 32900 --> test data set accuracy: 0.533\n",
      "train step: 33000 --> test data set accuracy: 0.528\n",
      "train step: 33100 --> test data set accuracy: 0.533\n",
      "train step: 33200 --> test data set accuracy: 0.541\n",
      "train step: 33300 --> test data set accuracy: 0.541\n",
      "train step: 33400 --> test data set accuracy: 0.538\n",
      "train step: 33500 --> test data set accuracy: 0.544\n",
      "train step: 33600 --> test data set accuracy: 0.545\n",
      "train step: 33700 --> test data set accuracy: 0.548\n",
      "train step: 33800 --> test data set accuracy: 0.555\n",
      "train step: 33900 --> test data set accuracy: 0.558\n",
      "train step: 34000 --> test data set accuracy: 0.563\n",
      "train step: 34100 --> test data set accuracy: 0.557\n",
      "train step: 34200 --> test data set accuracy: 0.536\n",
      "train step: 34300 --> test data set accuracy: 0.542\n",
      "train step: 34400 --> test data set accuracy: 0.542\n",
      "train step: 34500 --> test data set accuracy: 0.530\n",
      "train step: 34600 --> test data set accuracy: 0.529\n",
      "train step: 34700 --> test data set accuracy: 0.534\n",
      "train step: 34800 --> test data set accuracy: 0.538\n",
      "train step: 34900 --> test data set accuracy: 0.543\n",
      "train step: 35000 --> test data set accuracy: 0.536\n",
      "train step: 35100 --> test data set accuracy: 0.532\n",
      "train step: 35200 --> test data set accuracy: 0.531\n",
      "train step: 35300 --> test data set accuracy: 0.537\n",
      "train step: 35400 --> test data set accuracy: 0.541\n",
      "train step: 35500 --> test data set accuracy: 0.546\n",
      "train step: 35600 --> test data set accuracy: 0.548\n",
      "train step: 35700 --> test data set accuracy: 0.546\n",
      "train step: 35800 --> test data set accuracy: 0.540\n",
      "train step: 35900 --> test data set accuracy: 0.532\n",
      "train step: 36000 --> test data set accuracy: 0.540\n",
      "train step: 36100 --> test data set accuracy: 0.541\n",
      "train step: 36200 --> test data set accuracy: 0.536\n",
      "train step: 36300 --> test data set accuracy: 0.543\n",
      "train step: 36400 --> test data set accuracy: 0.533\n",
      "train step: 36500 --> test data set accuracy: 0.535\n",
      "train step: 36600 --> test data set accuracy: 0.545\n",
      "train step: 36700 --> test data set accuracy: 0.545\n",
      "train step: 36800 --> test data set accuracy: 0.543\n",
      "train step: 36900 --> test data set accuracy: 0.526\n",
      "train step: 37000 --> test data set accuracy: 0.534\n",
      "train step: 37100 --> test data set accuracy: 0.542\n",
      "train step: 37200 --> test data set accuracy: 0.542\n",
      "train step: 37300 --> test data set accuracy: 0.533\n",
      "train step: 37400 --> test data set accuracy: 0.537\n",
      "train step: 37500 --> test data set accuracy: 0.555\n",
      "train step: 37600 --> test data set accuracy: 0.551\n",
      "train step: 37700 --> test data set accuracy: 0.547\n",
      "train step: 37800 --> test data set accuracy: 0.558\n",
      "train step: 37900 --> test data set accuracy: 0.552\n",
      "train step: 38000 --> test data set accuracy: 0.547\n",
      "train step: 38100 --> test data set accuracy: 0.556\n",
      "train step: 38200 --> test data set accuracy: 0.546\n",
      "train step: 38300 --> test data set accuracy: 0.541\n",
      "train step: 38400 --> test data set accuracy: 0.542\n",
      "train step: 38500 --> test data set accuracy: 0.538\n",
      "train step: 38600 --> test data set accuracy: 0.549\n",
      "train step: 38700 --> test data set accuracy: 0.548\n",
      "train step: 38800 --> test data set accuracy: 0.555\n",
      "train step: 38900 --> test data set accuracy: 0.556\n",
      "train step: 39000 --> test data set accuracy: 0.552\n",
      "train step: 39100 --> test data set accuracy: 0.546\n",
      "train step: 39200 --> test data set accuracy: 0.557\n",
      "train step: 39300 --> test data set accuracy: 0.557\n",
      "train step: 39400 --> test data set accuracy: 0.556\n",
      "train step: 39500 --> test data set accuracy: 0.557\n",
      "train step: 39600 --> test data set accuracy: 0.559\n",
      "train step: 39700 --> test data set accuracy: 0.548\n",
      "train step: 39800 --> test data set accuracy: 0.562\n",
      "train step: 39900 --> test data set accuracy: 0.583\n",
      "\n",
      "finished!\n"
     ]
    }
   ],
   "source": [
    "# 1. get training data\n",
    "x_train, y_train, x_test, y_test = prepare_data()\n",
    "\n",
    "\n",
    "# 2. prepare a weight matrix for the Perceptron\n",
    "nr_inputs = 28**2 + 1\n",
    "nr_outputs = 10\n",
    "low = -1.0\n",
    "high = +1.0\n",
    "W = np.random.uniform( low, high, (nr_inputs, nr_outputs) )\n",
    "\n",
    "\n",
    "# 3. training\n",
    "nr_train_samples = x_train.shape[0]\n",
    "accs = []\n",
    "HOW_MANY_STEPS_TO_TRAIN = 40000\n",
    "    \n",
    "# for each training sample in the training dataset ...\n",
    "correct = 0    \n",
    "for train_step_nr in range(0,HOW_MANY_STEPS_TO_TRAIN):\n",
    "\n",
    "    # get next training sample\n",
    "    sample_id   = np.random.randint(0,nr_train_samples)\n",
    "    image       = x_train[sample_id]\n",
    "    teacher_vec = y_train[sample_id]\n",
    "\n",
    "    # compute prediction vector\n",
    "    v_with_add_bias_input, pred_vec = perceptron_predict(image,W)\n",
    "\n",
    "    # compute predicted label\n",
    "    pred_label = np.argmax(pred_vec)\n",
    "\n",
    "    # get actual label\n",
    "    gt_label = np.argmax(teacher_vec)\n",
    "\n",
    "    #print(\"pred: {0} vs. gt: {1}\".format(pred_label, gt_label))\n",
    "\n",
    "    if pred_label == gt_label:\n",
    "        correct += 1\n",
    "\n",
    "    # adapt weights due to error\n",
    "    # and according to Perceptron learning rule?        \n",
    "    preceptron_train(v_with_add_bias_input,pred_vec,teacher_vec,W)\n",
    "\n",
    "    if train_step_nr % 100 == 0:\n",
    "        acc = perceptron_test(x_test, y_test, W)\n",
    "        print(\"train step: {0} --> test data set accuracy: {1:.3f}\".format(train_step_nr, acc))\n",
    "\n",
    "        accs.append(acc)\n",
    "\n",
    "print(\"\\nfinished!\")"
   ]
  },
  {
   "cell_type": "code",
   "execution_count": 77,
   "metadata": {},
   "outputs": [
    {
     "data": {
      "text/plain": [
       "(7850,)"
      ]
     },
     "execution_count": 77,
     "metadata": {},
     "output_type": "execute_result"
    }
   ],
   "source": [
    "W.flatten().shape"
   ]
  },
  {
   "cell_type": "code",
   "execution_count": 78,
   "metadata": {},
   "outputs": [
    {
     "data": {
      "text/plain": [
       "-1.4243514427526442"
      ]
     },
     "execution_count": 78,
     "metadata": {},
     "output_type": "execute_result"
    }
   ],
   "source": [
    "W.flatten().min()"
   ]
  },
  {
   "cell_type": "code",
   "execution_count": 79,
   "metadata": {},
   "outputs": [
    {
     "data": {
      "text/plain": [
       "1.1425106540632242"
      ]
     },
     "execution_count": 79,
     "metadata": {},
     "output_type": "execute_result"
    }
   ],
   "source": [
    "W.flatten().max()"
   ]
  },
  {
   "cell_type": "code",
   "execution_count": 80,
   "metadata": {},
   "outputs": [
    {
     "data": {
      "image/png": "[encoded data removed]",
      "text/plain": [
       "<Figure size 432x288 with 1 Axes>"
      ]
     },
     "metadata": {
      "needs_background": "light"
     },
     "output_type": "display_data"
    }
   ],
   "source": [
    "from matplotlib import pyplot as plt\n",
    "plt.hist( W.flatten(), bins=100 )\n",
    "plt.show()"
   ]
  },
  {
   "cell_type": "markdown",
   "metadata": {},
   "source": [
    "# Plotten der Lernkurve"
   ]
  },
  {
   "cell_type": "code",
   "execution_count": 81,
   "metadata": {},
   "outputs": [
    {
     "data": {
      "image/png": "[encoded data removed]",
      "text/plain": [
       "<Figure size 432x288 with 1 Axes>"
      ]
     },
     "metadata": {
      "needs_background": "light"
     },
     "output_type": "display_data"
    }
   ],
   "source": [
    "from matplotlib import pyplot as plt\n",
    "plt.plot(accs)\n",
    "plt.show()"
   ]
  },
  {
   "cell_type": "markdown",
   "metadata": {},
   "source": [
    "# Abspeichern der gelernten Gewichte"
   ]
  },
  {
   "cell_type": "code",
   "execution_count": 82,
   "metadata": {},
   "outputs": [],
   "source": [
    "import pickle\n",
    "fname = \"perceptron_weights.pkl\"\n",
    "fobj = open(fname, \"wb\")\n",
    "pickle.dump(W, fobj)\n",
    "fobj.close()"
   ]
  },
  {
   "cell_type": "markdown",
   "metadata": {},
   "source": [
    "# Wiederherstellen der Gewichte"
   ]
  },
  {
   "cell_type": "code",
   "execution_count": 83,
   "metadata": {},
   "outputs": [
    {
     "data": {
      "text/plain": [
       "array([[ 0.33703436, -0.92921859,  0.77584359, ..., -0.6196178 ,\n",
       "        -0.16947373, -0.20652987],\n",
       "       [-0.39472858,  0.28494815,  0.44487144, ..., -0.64634774,\n",
       "         0.68630293, -0.45997351],\n",
       "       [ 0.67676802,  0.98699254, -0.51020989, ..., -0.53814062,\n",
       "         0.56538884, -0.67653506],\n",
       "       ...,\n",
       "       [ 0.80537741, -0.09022135, -0.99870732, ..., -0.37951325,\n",
       "        -0.60969272,  0.59410447],\n",
       "       [-0.70787509,  0.79902006,  0.79901592, ..., -0.19080713,\n",
       "        -0.5281935 , -0.74372123],\n",
       "       [ 0.01174531,  0.10442105, -0.28851116, ..., -0.87402385,\n",
       "        -0.32843346, -1.18633474]])"
      ]
     },
     "execution_count": 83,
     "metadata": {},
     "output_type": "execute_result"
    }
   ],
   "source": [
    "# das Notebook kann jetzt geschlossen werden bzw.\n",
    "# der Python-Kernel kann neu gestartet werden\n",
    "# die Matrix W wird dadurch \"vergessen\":\n",
    "W"
   ]
  },
  {
   "cell_type": "code",
   "execution_count": 84,
   "metadata": {},
   "outputs": [],
   "source": [
    "# jetzt wird die Gewichtsmatrix W wiederhergestellt\n",
    "import pickle\n",
    "fname = \"perceptron_weights.pkl\"\n",
    "fobj = open(fname, \"rb\")\n",
    "W = pickle.load(fobj)"
   ]
  },
  {
   "cell_type": "code",
   "execution_count": 85,
   "metadata": {},
   "outputs": [
    {
     "data": {
      "text/plain": [
       "(785, 10)"
      ]
     },
     "execution_count": 85,
     "metadata": {},
     "output_type": "execute_result"
    }
   ],
   "source": [
    "W.shape"
   ]
  },
  {
   "cell_type": "code",
   "execution_count": 86,
   "metadata": {},
   "outputs": [
    {
     "data": {
      "text/plain": [
       "array([[ 0.33703436, -0.92921859,  0.77584359, ..., -0.6196178 ,\n",
       "        -0.16947373, -0.20652987],\n",
       "       [-0.39472858,  0.28494815,  0.44487144, ..., -0.64634774,\n",
       "         0.68630293, -0.45997351],\n",
       "       [ 0.67676802,  0.98699254, -0.51020989, ..., -0.53814062,\n",
       "         0.56538884, -0.67653506],\n",
       "       ...,\n",
       "       [ 0.80537741, -0.09022135, -0.99870732, ..., -0.37951325,\n",
       "        -0.60969272,  0.59410447],\n",
       "       [-0.70787509,  0.79902006,  0.79901592, ..., -0.19080713,\n",
       "        -0.5281935 , -0.74372123],\n",
       "       [ 0.01174531,  0.10442105, -0.28851116, ..., -0.87402385,\n",
       "        -0.32843346, -1.18633474]])"
      ]
     },
     "execution_count": 86,
     "metadata": {},
     "output_type": "execute_result"
    }
   ],
   "source": [
    "W"
   ]
  },
  {
   "cell_type": "code",
   "execution_count": 87,
   "metadata": {},
   "outputs": [
    {
     "data": {
      "image/png": "[encoded data removed]",
      "text/plain": [
       "<Figure size 720x7200 with 1 Axes>"
      ]
     },
     "metadata": {
      "needs_background": "light"
     },
     "output_type": "display_data"
    }
   ],
   "source": [
    "from matplotlib import pyplot as plt\n",
    "plt.figure(figsize=(10,100))\n",
    "plt.imshow(W)\n",
    "plt.show()"
   ]
  },
  {
   "cell_type": "markdown",
   "metadata": {},
   "source": [
    "# Testen des Netzes"
   ]
  },
  {
   "cell_type": "code",
   "execution_count": 96,
   "metadata": {},
   "outputs": [],
   "source": [
    "import cv2\n",
    "\n",
    "testbild = x_test[0,:,:]"
   ]
  },
  {
   "cell_type": "code",
   "execution_count": 97,
   "metadata": {},
   "outputs": [
    {
     "data": {
      "text/plain": [
       "numpy.ndarray"
      ]
     },
     "execution_count": 97,
     "metadata": {},
     "output_type": "execute_result"
    }
   ],
   "source": [
    "type(testbild)"
   ]
  },
  {
   "cell_type": "code",
   "execution_count": 98,
   "metadata": {},
   "outputs": [
    {
     "data": {
      "text/plain": [
       "(28, 28)"
      ]
     },
     "execution_count": 98,
     "metadata": {},
     "output_type": "execute_result"
    }
   ],
   "source": [
    "testbild.shape"
   ]
  },
  {
   "cell_type": "code",
   "execution_count": 99,
   "metadata": {},
   "outputs": [
    {
     "data": {
      "text/plain": [
       "<matplotlib.colorbar.Colorbar at 0x7f9aa1bd2e50>"
      ]
     },
     "execution_count": 99,
     "metadata": {},
     "output_type": "execute_result"
    },
    {
     "data": {
      "image/png": "[encoded data removed]",
      "text/plain": [
       "<Figure size 432x288 with 2 Axes>"
      ]
     },
     "metadata": {
      "needs_background": "light"
     },
     "output_type": "display_data"
    }
   ],
   "source": [
    "from matplotlib import pyplot as plt\n",
    "plt.imshow(testbild)\n",
    "plt.colorbar()"
   ]
  },
  {
   "cell_type": "code",
   "execution_count": 100,
   "metadata": {},
   "outputs": [],
   "source": [
    "_, pred_vec = perceptron_predict(testbild, W)"
   ]
  },
  {
   "cell_type": "code",
   "execution_count": 101,
   "metadata": {},
   "outputs": [
    {
     "data": {
      "text/plain": [
       "array([0.        , 0.        , 0.        , 0.18546896, 0.        ,\n",
       "       0.        , 0.        , 2.40454294, 0.        , 0.        ])"
      ]
     },
     "execution_count": 101,
     "metadata": {},
     "output_type": "execute_result"
    }
   ],
   "source": [
    "pred_vec"
   ]
  },
  {
   "cell_type": "code",
   "execution_count": 102,
   "metadata": {},
   "outputs": [
    {
     "data": {
      "text/plain": [
       "7"
      ]
     },
     "execution_count": 102,
     "metadata": {},
     "output_type": "execute_result"
    }
   ],
   "source": [
    "np.argmax(pred_vec)"
   ]
  },
  {
   "cell_type": "code",
   "execution_count": null,
   "metadata": {},
   "outputs": [],
   "source": []
  }
 ],
 "metadata": {
  "kernelspec": {
   "display_name": "Python 3 (ipykernel)",
   "language": "python",
   "name": "python3"
  },
  "language_info": {
   "codemirror_mode": {
    "name": "ipython",
    "version": 3
   },
   "file_extension": ".py",
   "mimetype": "text/x-python",
   "name": "python",
   "nbconvert_exporter": "python",
   "pygments_lexer": "ipython3",
   "version": "3.8.10"
  },
  "toc": {
   "base_numbering": 1,
   "nav_menu": {},
   "number_sections": true,
   "sideBar": true,
   "skip_h1_title": false,
   "title_cell": "Table of Contents",
   "title_sidebar": "Contents",
   "toc_cell": false,
   "toc_position": {
    "height": "calc(100% - 180px)",
    "left": "10px",
    "top": "150px",
    "width": "273.383px"
   },
   "toc_section_display": true,
   "toc_window_display": true
  },
  "toc-autonumbering": true
 },
 "nbformat": 4,
 "nbformat_minor": 4
}
