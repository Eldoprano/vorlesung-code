{
 "cells": [
  {
   "cell_type": "code",
   "execution_count": 2,
   "metadata": {},
   "outputs": [
    {
     "data": {
      "text/plain": [
       "array([0.92011495, 0.17656882])"
      ]
     },
     "execution_count": 2,
     "metadata": {},
     "output_type": "execute_result"
    }
   ],
   "source": [
    "import numpy as np\n",
    "input_dim = 2\n",
    "np.random.uniform(low=0.0, high=1.0, size=input_dim)"
   ]
  },
  {
   "cell_type": "code",
   "execution_count": 5,
   "metadata": {},
   "outputs": [
    {
     "data": {
      "text/plain": [
       "array([[0.98861231, 0.01542049],\n",
       "       [0.3945531 , 0.21585044],\n",
       "       [0.71722573, 0.41365284]])"
      ]
     },
     "execution_count": 5,
     "metadata": {},
     "output_type": "execute_result"
    }
   ],
   "source": [
    "nr_clusters = 3\n",
    "centroids = np.random.uniform(low=0.0, high=1.0, size=(nr_clusters, 2))\n",
    "centroids"
   ]
  },
  {
   "cell_type": "code",
   "execution_count": 6,
   "metadata": {},
   "outputs": [
    {
     "name": "stdout",
     "output_type": "stream",
     "text": [
      "[0.98861231 0.01542049]\n",
      "[0.3945531  0.21585044]\n",
      "[0.71722573 0.41365284]\n"
     ]
    }
   ],
   "source": [
    "for centroid in centroids:\n",
    "    print(centroid)"
   ]
  },
  {
   "cell_type": "code",
   "execution_count": 7,
   "metadata": {},
   "outputs": [],
   "source": [
    "def generate_data(nr_clusters=3, nr_samples_per_cluster=20):\n",
    "\n",
    "    centroids = np.random.uniform(low=0.0, high=1.0, size=(nr_clusters, 2))\n",
    "\n",
    "    data = np.zeros( (nr_clusters*nr_samples_per_cluster, 2) )\n",
    "\n",
    "    i = 0\n",
    "    for centroid in centroids:\n",
    "        for sample_nr in range(nr_samples_per_cluster):\n",
    "            offset_vec =np.random.uniform(low=-0.1, high=+0.1, size=2)\n",
    "            data_point = centroid + offset_vec\n",
    "            data[i] = data_point\n",
    "            i+=1\n",
    "\n",
    "    return data"
   ]
  },
  {
   "cell_type": "code",
   "execution_count": 17,
   "metadata": {},
   "outputs": [
    {
     "data": {
      "image/png": "[encoded data removed]",
      "text/plain": [
       "<Figure size 432x288 with 1 Axes>"
      ]
     },
     "metadata": {
      "needs_background": "light"
     },
     "output_type": "display_data"
    }
   ],
   "source": [
    "D = generate_data()\n",
    "import matplotlib.pyplot as plt\n",
    "plt.scatter(D[:,0], D[:,1] )\n",
    "plt.show()"
   ]
  },
  {
   "cell_type": "code",
   "execution_count": 5,
   "metadata": {},
   "outputs": [
    {
     "data": {
      "image/png": "[encoded data removed]",
      "text/plain": [
       "<Figure size 432x288 with 1 Axes>"
      ]
     },
     "metadata": {
      "needs_background": "light"
     },
     "output_type": "display_data"
    },
    {
     "name": "stdout",
     "output_type": "stream",
     "text": [
      "I have generated 49 many neurons.\n",
      "id of BMU=11\n"
     ]
    }
   ],
   "source": [
    "from som import som\n",
    "\n",
    "import numpy as np\n",
    "\n",
    "def generate_data(nr_clusters=3, nr_samples_per_cluster=20):\n",
    "\n",
    "    centroids = np.random.uniform(low=0.0, high=1.0, size=(nr_clusters, 2))\n",
    "\n",
    "    data = np.zeros( (nr_clusters*nr_samples_per_cluster, 2) )\n",
    "\n",
    "    i = 0\n",
    "    for centroid in centroids:\n",
    "        for sample_nr in range(nr_samples_per_cluster):\n",
    "            offset_vec =np.random.uniform(low=-0.1, high=+0.1, size=2)\n",
    "            data_point = centroid + offset_vec\n",
    "            data[i] = data_point\n",
    "            i+=1\n",
    "\n",
    "    return data\n",
    "\n",
    "# 1. Generate training data for the SOM\n",
    "D = generate_data()\n",
    "\n",
    "# 2. Show the training data\n",
    "import matplotlib.pyplot as plt\n",
    "plt.scatter(D[:,0], D[:,1] )\n",
    "plt.show()\n",
    "\n",
    "# 3. Generate a SOM\n",
    "my_som = som(input_dim=2, map_side_len=7)\n",
    "\n",
    "# 4. Train the SOM\n",
    "NR_TRAIN_STEPS = 1\n",
    "NR_DATA_POINTS = D.shape[0]\n",
    "\n",
    "for train_step in range(NR_TRAIN_STEPS):\n",
    "    rnd_data_point_index = np.random.randint(low=0, high=NR_DATA_POINTS)\n",
    "    data_point = D[rnd_data_point_index]\n",
    "\n",
    "    # adapt SOM to current train data point\n",
    "    my_som.adapt( data_point )"
   ]
  }
 ],
 "metadata": {
  "kernelspec": {
   "display_name": "Python 3.8.10 64-bit",
   "language": "python",
   "name": "python3"
  },
  "language_info": {
   "codemirror_mode": {
    "name": "ipython",
    "version": 3
   },
   "file_extension": ".py",
   "mimetype": "text/x-python",
   "name": "python",
   "nbconvert_exporter": "python",
   "pygments_lexer": "ipython3",
   "version": "3.8.10"
  },
  "orig_nbformat": 4,
  "vscode": {
   "interpreter": {
    "hash": "916dbcbb3f70747c44a77c7bcd40155683ae19c65e1c03b4aa3499c5328201f1"
   }
  }
 },
 "nbformat": 4,
 "nbformat_minor": 2
}
