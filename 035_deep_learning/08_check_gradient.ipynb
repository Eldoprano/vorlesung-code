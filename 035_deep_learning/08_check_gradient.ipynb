{
 "cells": [
  {
   "cell_type": "code",
   "execution_count": 1,
   "id": "9c3fb1d3-e407-4425-a652-c3c9ed0fa917",
   "metadata": {},
   "outputs": [],
   "source": [
    "from sympy import *\n"
   ]
  },
  {
   "cell_type": "code",
   "execution_count": 4,
   "id": "13d30b2a-8406-4067-8c9b-a4d33e2b2549",
   "metadata": {},
   "outputs": [],
   "source": [
    "w1 = Symbol(\"w1\")\n",
    "w2 = Symbol(\"w2\")\n",
    "f = sin(7*(Pow(w1,3)+w1*w2))"
   ]
  },
  {
   "cell_type": "code",
   "execution_count": 5,
   "id": "288091eb-f1c6-4932-a480-8fec80225de7",
   "metadata": {},
   "outputs": [
    {
     "data": {
      "text/latex": [
       "$\\displaystyle \\left(21 w_{1}^{2} + 7 w_{2}\\right) \\cos{\\left(7 w_{1}^{3} + 7 w_{1} w_{2} \\right)}$"
      ],
      "text/plain": [
       "(21*w1**2 + 7*w2)*cos(7*w1**3 + 7*w1*w2)"
      ]
     },
     "execution_count": 5,
     "metadata": {},
     "output_type": "execute_result"
    }
   ],
   "source": [
    "diff(f,w1)"
   ]
  },
  {
   "cell_type": "code",
   "execution_count": 6,
   "id": "e93565e2-b711-45d9-a26c-8cbf61e6c53d",
   "metadata": {},
   "outputs": [
    {
     "data": {
      "text/latex": [
       "$\\displaystyle 7 w_{1} \\cos{\\left(7 w_{1}^{3} + 7 w_{1} w_{2} \\right)}$"
      ],
      "text/plain": [
       "7*w1*cos(7*w1**3 + 7*w1*w2)"
      ]
     },
     "execution_count": 6,
     "metadata": {},
     "output_type": "execute_result"
    }
   ],
   "source": [
    "diff(f,w2)"
   ]
  },
  {
   "cell_type": "code",
   "execution_count": null,
   "id": "a26a18a0-42d0-45ee-97f9-ba9a6fe1c1ca",
   "metadata": {},
   "outputs": [],
   "source": []
  }
 ],
 "metadata": {
  "kernelspec": {
   "display_name": "Python 3 (ipykernel)",
   "language": "python",
   "name": "python3"
  },
  "language_info": {
   "codemirror_mode": {
    "name": "ipython",
    "version": 3
   },
   "file_extension": ".py",
   "mimetype": "text/x-python",
   "name": "python",
   "nbconvert_exporter": "python",
   "pygments_lexer": "ipython3",
   "version": "3.8.10"
  }
 },
 "nbformat": 4,
 "nbformat_minor": 5
}
