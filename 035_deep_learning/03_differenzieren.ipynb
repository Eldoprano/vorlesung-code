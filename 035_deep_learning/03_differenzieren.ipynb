{
 "cells": [
  {
   "cell_type": "markdown",
   "id": "4428f602-ba8a-4c20-ad91-2d94dd717fca",
   "metadata": {},
   "source": [
    "# Symbolisches Differenzieren"
   ]
  },
  {
   "cell_type": "code",
   "execution_count": 1,
   "id": "9994a30b-1940-4444-ae6a-5c160a0903dd",
   "metadata": {},
   "outputs": [],
   "source": [
    "from sympy import *"
   ]
  },
  {
   "cell_type": "code",
   "execution_count": 12,
   "id": "13c6be01-1a03-4130-8c28-3cbc4c797577",
   "metadata": {},
   "outputs": [
    {
     "name": "stdout",
     "output_type": "stream",
     "text": [
      "df/dx1 = x2 + cos(x1)\n",
      "df/dx2 = x1\n",
      "df/dx1 (1.0,2.0) = 2.54030230586814\n",
      "df/dx2 (1.0,2.0) = 1.00000000000000\n"
     ]
    }
   ],
   "source": [
    "x1 = Symbol(\"x1\")\n",
    "x2 = Symbol(\"x2\")\n",
    "f = x1*x2 + sin(x1)\n",
    "\n",
    "derivative_x1 = diff(f,x1)\n",
    "derivative_x2 = diff(f,x2)\n",
    "print( f\"df/dx1 = {derivative_x1}\" )\n",
    "print( f\"df/dx2 = {derivative_x2}\" )\n",
    "  \n",
    "print( f\"df/dx1 (1.0,2.0) = {  derivative_x1.evalf( subs={x1: 1.0, x2: 2.0}) }\" )\n",
    "print( f\"df/dx2 (1.0,2.0) = {  derivative_x2.evalf( subs={x1: 1.0, x2: 2.0}) }\" )"
   ]
  },
  {
   "cell_type": "code",
   "execution_count": 14,
   "id": "8b9b3770-cf6e-45ef-adcd-e6be51667b1c",
   "metadata": {},
   "outputs": [
    {
     "name": "stdout",
     "output_type": "stream",
     "text": [
      "g vereinfacht ist: y + 1\n"
     ]
    }
   ],
   "source": [
    "x = Symbol(\"x\")\n",
    "y = Symbol(\"y\")\n",
    "g = (x+x*y)/x\n",
    "print(f\"g vereinfacht ist: {simplify(g)}\")"
   ]
  },
  {
   "cell_type": "code",
   "execution_count": 18,
   "id": "cc777abb-0227-4214-a5d6-48a303c58078",
   "metadata": {},
   "outputs": [],
   "source": [
    "import numpy as np\n",
    "def h(x1,x2):\n",
    "    result = 0\n",
    "    if x1<=x2: # x1*x2+sin(x1)\n",
    "        result = x1*x2+np.sin(x1)\n",
    "    else: # pi + x1*x2 + 5*x1^2\n",
    "        result = np.pi\n",
    "        result += x1*x2\n",
    "        for i in range(0,5):\n",
    "            result += x1**2\n",
    "    \n",
    "    return result"
   ]
  },
  {
   "cell_type": "code",
   "execution_count": 19,
   "id": "5a6b4ecc-30c6-46f6-8f0e-ee7d1956ffff",
   "metadata": {},
   "outputs": [
    {
     "data": {
      "text/plain": [
       "2.8414709848078967"
      ]
     },
     "execution_count": 19,
     "metadata": {},
     "output_type": "execute_result"
    }
   ],
   "source": [
    "h(1,2)"
   ]
  },
  {
   "cell_type": "markdown",
   "id": "0c441332-66da-4cbc-95bb-cd3e85fbab69",
   "metadata": {},
   "source": [
    "# Numerisches Differenzieren"
   ]
  },
  {
   "cell_type": "code",
   "execution_count": 25,
   "id": "756d714b-1ea4-4ede-9c5a-b0e2b5905177",
   "metadata": {},
   "outputs": [],
   "source": [
    "def numerical_dhdx1(x1,x2,s):\n",
    "    return (h(x1+s,x2) - h(x1,x2)) / s\n",
    "\n",
    "def numerical_dhdx2(x1,x2,s):\n",
    "    return (h(x1,x2+s) - h(x1,x2)) / s"
   ]
  },
  {
   "cell_type": "code",
   "execution_count": 22,
   "id": "b08ac4f7-893f-4085-bd3a-5f079d68e430",
   "metadata": {},
   "outputs": [
    {
     "data": {
      "text/plain": [
       "2.5402980984967627"
      ]
     },
     "execution_count": 22,
     "metadata": {},
     "output_type": "execute_result"
    }
   ],
   "source": [
    "numerical_dhdx1(1,2)"
   ]
  },
  {
   "cell_type": "code",
   "execution_count": 24,
   "id": "e5ee3458-05d8-4cff-a03a-de40e62e5f8e",
   "metadata": {},
   "outputs": [
    {
     "data": {
      "text/plain": [
       "0.9999999999621422"
      ]
     },
     "execution_count": 24,
     "metadata": {},
     "output_type": "execute_result"
    }
   ],
   "source": [
    "numerical_dhdx2(1,2)"
   ]
  },
  {
   "cell_type": "code",
   "execution_count": 28,
   "id": "743e5aee-a05c-4aec-85de-e5876b184b88",
   "metadata": {},
   "outputs": [
    {
     "name": "stdout",
     "output_type": "stream",
     "text": [
      "numerical_dhdx1(1,2) mit s=0.10000000000000000555: 2.4973637525353887\n",
      "numerical_dhdx1(1,2) mit s=0.01000000000000000021: 2.5360859810118264\n",
      "numerical_dhdx1(1,2) mit s=0.00100000000000000002: 2.5398814803598846\n",
      "numerical_dhdx1(1,2) mit s=0.00010000000000000000: 2.540260231418401\n",
      "numerical_dhdx1(1,2) mit s=0.00001000000000000000: 2.5402980984967627\n",
      "numerical_dhdx1(1,2) mit s=0.00000100000000000000: 2.5403018848457743\n",
      "numerical_dhdx1(1,2) mit s=0.00000010000000000000: 2.5403022618775135\n",
      "numerical_dhdx1(1,2) mit s=0.00000001000000000000: 2.540302279641082\n",
      "numerical_dhdx1(1,2) mit s=0.00000000100000000000: 2.5403021908232395\n",
      "numerical_dhdx1(1,2) mit s=0.00000000010000000000: 2.54030130264482\n",
      "numerical_dhdx1(1,2) mit s=0.00000000001000000000: 2.5402790981843273\n",
      "numerical_dhdx1(1,2) mit s=0.00000000000100000000: 2.5401902803423577\n",
      "numerical_dhdx1(1,2) mit s=0.00000000000010000000: 2.535749388243857\n",
      "numerical_dhdx1(1,2) mit s=0.00000000000001000000: 2.5313084961453565\n",
      "numerical_dhdx1(1,2) mit s=0.00000000000000100000: 2.6645352591003757\n",
      "numerical_dhdx1(1,2) mit s=0.00000000000000010000: 0.0\n",
      "numerical_dhdx1(1,2) mit s=0.00000000000000001000: 0.0\n",
      "numerical_dhdx1(1,2) mit s=0.00000000000000000100: 0.0\n",
      "numerical_dhdx1(1,2) mit s=0.00000000000000000010: 0.0\n"
     ]
    }
   ],
   "source": [
    "s = 1.0\n",
    "for i in range(1,20):\n",
    "    s = s/10.0\n",
    "    ableitung = numerical_dhdx1(1,2,s)\n",
    "    print( f\"numerical_dhdx1(1,2) mit s={s:.20f}: {ableitung}\" )"
   ]
  },
  {
   "cell_type": "code",
   "execution_count": null,
   "id": "904490f8-253d-46fd-871a-4eff36d2ebe7",
   "metadata": {},
   "outputs": [],
   "source": [
    "2.54030230586814"
   ]
  },
  {
   "cell_type": "markdown",
   "id": "fc66f123-e4f5-4811-8753-365be6cf2126",
   "metadata": {},
   "source": [
    "# Automatisches Differenzieren"
   ]
  },
  {
   "cell_type": "markdown",
   "id": "28240660-2664-4841-ae83-5678382b48f1",
   "metadata": {},
   "source": [
    "## Forward Mode"
   ]
  },
  {
   "cell_type": "code",
   "execution_count": 26,
   "id": "9e508058-3dc3-4c1d-a8b7-17b04ab72fd0",
   "metadata": {},
   "outputs": [],
   "source": [
    "import numpy as np\n",
    "\n",
    "def f_and_dfx(x1,x2):\n",
    "    \"\"\"\n",
    "    This function computes f = x1*x2 + sin(x1)\n",
    "    \"\"\"\n",
    "    w1 = x1\n",
    "    dw1 = 0\n",
    "    \n",
    "    w2 = x2\n",
    "    dw2 = 1\n",
    "    \n",
    "    w3 = w1*w2\n",
    "    dw3 = dw1*w2 + dw2*w1\n",
    "    \n",
    "    w4 = np.sin(w1)\n",
    "    dw4 = np.cos(w1) * dw1\n",
    "    \n",
    "    w5 = w3 + w4\n",
    "    dw5 = dw3 + dw4\n",
    "    \n",
    "    return w5, dw5"
   ]
  },
  {
   "cell_type": "code",
   "execution_count": 27,
   "id": "9620129f-39aa-40cc-bbd5-6388180c1fb1",
   "metadata": {},
   "outputs": [],
   "source": [
    "fval, dfx = f_and_dfx(1,2)"
   ]
  },
  {
   "cell_type": "code",
   "execution_count": 28,
   "id": "bcdcc476-3df6-4f0e-b4bc-12786c2c0476",
   "metadata": {},
   "outputs": [
    {
     "data": {
      "text/plain": [
       "2.8414709848078967"
      ]
     },
     "execution_count": 28,
     "metadata": {},
     "output_type": "execute_result"
    }
   ],
   "source": [
    "fval"
   ]
  },
  {
   "cell_type": "code",
   "execution_count": 29,
   "id": "1a44362f-f431-45f1-855f-4787b5048246",
   "metadata": {},
   "outputs": [
    {
     "data": {
      "text/plain": [
       "1.0"
      ]
     },
     "execution_count": 29,
     "metadata": {},
     "output_type": "execute_result"
    }
   ],
   "source": [
    "dfx"
   ]
  },
  {
   "cell_type": "markdown",
   "id": "58e2b1ef-ba7a-4617-9390-e031967b1d7e",
   "metadata": {},
   "source": [
    "## Reverse Mode"
   ]
  },
  {
   "cell_type": "code",
   "execution_count": 18,
   "id": "086a76d4-9ed8-4267-a632-b19d66c7ac75",
   "metadata": {},
   "outputs": [],
   "source": [
    "def f_and_gradf(x1,x2):\n",
    "    \n",
    "    # Forward Step\n",
    "    w1 = x1\n",
    "    w2 = x2\n",
    "    w3 = w1*w2\n",
    "    w4 = np.sin(w1)\n",
    "    w5 = w3 + w4\n",
    "    \n",
    "    # Backward Step\n",
    "    _w5 = 1\n",
    "    _w4 = _w5 * 1\n",
    "    _w3 = _w5 * 1\n",
    "    _w2 = _w3 * w1\n",
    "    _w1a = _w3 * w2\n",
    "    _w1b = _w4 * np.cos(w1)\n",
    "    _w1 = _w1a + _w1b\n",
    "    \n",
    "    return w5, _w1, _w2   \n",
    "    "
   ]
  },
  {
   "cell_type": "code",
   "execution_count": 19,
   "id": "9bfddecb-85ab-452f-83eb-13d560db1292",
   "metadata": {},
   "outputs": [
    {
     "data": {
      "text/plain": [
       "(2.8414709848078967, 2.5403023058681398, 1)"
      ]
     },
     "execution_count": 19,
     "metadata": {},
     "output_type": "execute_result"
    }
   ],
   "source": [
    "f_and_gradf(1,2)"
   ]
  },
  {
   "cell_type": "code",
   "execution_count": null,
   "id": "3d7e5d75-e6d1-48e8-984e-26e14fd27a83",
   "metadata": {},
   "outputs": [],
   "source": []
  }
 ],
 "metadata": {
  "kernelspec": {
   "display_name": "Python 3 (ipykernel)",
   "language": "python",
   "name": "python3"
  },
  "language_info": {
   "codemirror_mode": {
    "name": "ipython",
    "version": 3
   },
   "file_extension": ".py",
   "mimetype": "text/x-python",
   "name": "python",
   "nbconvert_exporter": "python",
   "pygments_lexer": "ipython3",
   "version": "3.8.10"
  },
  "toc-autonumbering": true
 },
 "nbformat": 4,
 "nbformat_minor": 5
}
