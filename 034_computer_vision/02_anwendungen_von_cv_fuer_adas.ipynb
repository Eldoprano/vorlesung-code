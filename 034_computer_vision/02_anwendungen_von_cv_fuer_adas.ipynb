{
 "cells": [
  {
   "cell_type": "markdown",
   "id": "ad9d4a39-c3e6-4b25-bdae-c4103fb2ff7c",
   "metadata": {},
   "source": [
    "# Anwendungsbeispiele CV für ADAS\n",
    "\n",
    "In diesem Notebook sammle ich ein paar Anwendungsbeispiele, die zeigen, wie man *Computer Vision* speziell für *Fahrerassistenzsysteme* einsetzen kann:"
   ]
  },
  {
   "cell_type": "code",
   "execution_count": 2,
   "id": "84ad3863-ed77-427f-9068-4b68ff9337c9",
   "metadata": {},
   "outputs": [],
   "source": [
    "from IPython.display import Video"
   ]
  },
  {
   "cell_type": "markdown",
   "id": "21a8013b-5d88-400d-856c-d830ed06a868",
   "metadata": {},
   "source": [
    "## Verkehrszeichenerkennung (Traffic Sign Detection, TSD)\n",
    "\n",
    "Beispiel aus dem Jahre 2022\n",
    "\n",
    "[Videoquelle](https://www.youtube.com/watch?v=C2s5KFWO8eM)"
   ]
  },
  {
   "cell_type": "code",
   "execution_count": 3,
   "id": "1c497178-5b7d-4e53-9dc4-9e5dcee0393d",
   "metadata": {},
   "outputs": [
    {
     "data": {
      "text/html": [
       "<video src=\"videos/01_traffic_sign_detection_demo.mp4\" controls  width=\"800\" >\n",
       "      Your browser does not support the <code>video</code> element.\n",
       "    </video>"
      ],
      "text/plain": [
       "<IPython.core.display.Video object>"
      ]
     },
     "execution_count": 3,
     "metadata": {},
     "output_type": "execute_result"
    }
   ],
   "source": [
    "Video(\"videos/01_traffic_sign_detection_demo.mp4\", width=800)"
   ]
  },
  {
   "cell_type": "markdown",
   "id": "183d3d6d-5913-4dc6-b03b-976f323c8cb7",
   "metadata": {},
   "source": [
    "## Spurerkennung (Lane Detection)\n",
    "\n",
    "Beispiel aus dem Jahre 2018\n",
    "\n",
    "[Videoquelle](https://www.youtube.com/watch?v=qg3NrG-Gcy0)\n",
    "\n",
    "[Quellcode als Jupyter-Notebook verfügbar](https://github.com/kemfic/Curved-Lane-Lines)"
   ]
  },
  {
   "cell_type": "code",
   "execution_count": 12,
   "id": "157430fd-7fa1-4394-95d6-32de2aaf883d",
   "metadata": {},
   "outputs": [
    {
     "data": {
      "text/html": [
       "<video src=\"videos/02_lane_detection_demo.mp4\" controls  width=\"800\" >\n",
       "      Your browser does not support the <code>video</code> element.\n",
       "    </video>"
      ],
      "text/plain": [
       "<IPython.core.display.Video object>"
      ]
     },
     "execution_count": 12,
     "metadata": {},
     "output_type": "execute_result"
    }
   ],
   "source": [
    "Video(\"videos/02_lane_detection_demo.mp4\", width=800)"
   ]
  },
  {
   "cell_type": "markdown",
   "id": "db1493ce-fd87-4878-a645-90289b576f7b",
   "metadata": {},
   "source": [
    "## Ampeldetektion (Traffic Lights Detection)\n",
    "\n",
    "[Videoquelle](https://www.youtube.com/watch?v=KLgnqnKbpGI)"
   ]
  },
  {
   "cell_type": "code",
   "execution_count": 14,
   "id": "a2bda396-43a6-44a6-865c-bd4e94f82f4a",
   "metadata": {},
   "outputs": [
    {
     "data": {
      "text/html": [
       "<video src=\"videos/03_traffic_light_detection.mp4\" controls  width=\"800\" >\n",
       "      Your browser does not support the <code>video</code> element.\n",
       "    </video>"
      ],
      "text/plain": [
       "<IPython.core.display.Video object>"
      ]
     },
     "execution_count": 14,
     "metadata": {},
     "output_type": "execute_result"
    }
   ],
   "source": [
    "Video(\"videos/03_traffic_light_detection.mp4\", width=800)"
   ]
  },
  {
   "cell_type": "markdown",
   "id": "04a838e0-353c-42ec-b629-7cda7f2c2372",
   "metadata": {},
   "source": [
    "## Lackschaden-Inspektion\n",
    "\n",
    "[Videoquelle](https://www.youtube.com/watch?v=bXeq57e_BNg)"
   ]
  },
  {
   "cell_type": "code",
   "execution_count": 16,
   "id": "d54c2326-8f8f-4be0-9312-723482eb2592",
   "metadata": {},
   "outputs": [
    {
     "data": {
      "text/html": [
       "<video src=\"videos/04_scratch_detection.mp4\" controls  width=\"800\" >\n",
       "      Your browser does not support the <code>video</code> element.\n",
       "    </video>"
      ],
      "text/plain": [
       "<IPython.core.display.Video object>"
      ]
     },
     "execution_count": 16,
     "metadata": {},
     "output_type": "execute_result"
    }
   ],
   "source": [
    "Video(\"videos/04_scratch_detection.mp4\", width=800)"
   ]
  },
  {
   "cell_type": "markdown",
   "id": "08719545-935d-4125-a967-bf09d24d5817",
   "metadata": {},
   "source": [
    "## Parkplatz-Zählung\n",
    "\n",
    "Beispiel aus dem Jahr 2021 (Detektor: YOLO v5)\n",
    "\n",
    "[Videoquelle](https://www.youtube.com/watch?v=B0EuijnaCqU)"
   ]
  },
  {
   "cell_type": "code",
   "execution_count": 17,
   "id": "428f8eeb-9c26-4181-8a6f-aca8599d10b0",
   "metadata": {},
   "outputs": [
    {
     "data": {
      "text/html": [
       "<video src=\"videos/05_parking_lot_counting.mp4\" controls  width=\"800\" >\n",
       "      Your browser does not support the <code>video</code> element.\n",
       "    </video>"
      ],
      "text/plain": [
       "<IPython.core.display.Video object>"
      ]
     },
     "execution_count": 17,
     "metadata": {},
     "output_type": "execute_result"
    }
   ],
   "source": [
    "Video(\"videos/05_parking_lot_counting.mp4\", width=800)"
   ]
  },
  {
   "cell_type": "markdown",
   "id": "76194980-6c3c-4260-8cbb-0c36cd1b0d64",
   "metadata": {},
   "source": [
    "## Schläfrigkeits-Detektion (drowsiness detection, driver fatigue)\n",
    "\n",
    "Video von 2018\n",
    "\n",
    "[Videoquelle](https://www.youtube.com/watch?v=4XoGOhywiOk)"
   ]
  },
  {
   "cell_type": "code",
   "execution_count": 5,
   "id": "98c182ac-7775-4733-801c-a59e9cab349f",
   "metadata": {},
   "outputs": [
    {
     "data": {
      "text/html": [
       "<video src=\"videos/06_driver_drowsiness_detection.mp4\" controls  width=\"800\" >\n",
       "      Your browser does not support the <code>video</code> element.\n",
       "    </video>"
      ],
      "text/plain": [
       "<IPython.core.display.Video object>"
      ]
     },
     "execution_count": 5,
     "metadata": {},
     "output_type": "execute_result"
    }
   ],
   "source": [
    "Video(\"videos/06_driver_drowsiness_detection.mp4\", width=800)"
   ]
  },
  {
   "cell_type": "markdown",
   "id": "10c1b3c4-d58a-4163-8b65-3f5123ec27f2",
   "metadata": {},
   "source": [
    "## Kollisions-Warnsysteme ((forward)collision warning system)\n",
    "\n",
    "Video aus dem Jahr 2022\n",
    "\n",
    "[Videoquelle](https://www.youtube.com/watch?v=OIkdlQxw-VU)"
   ]
  },
  {
   "cell_type": "code",
   "execution_count": 8,
   "id": "0800f3b6-8e3f-4f86-b7e4-2481e7bc6cea",
   "metadata": {},
   "outputs": [
    {
     "data": {
      "text/html": [
       "<video src=\"videos/07_collision_warning_system.mp4\" controls  width=\"800\" >\n",
       "      Your browser does not support the <code>video</code> element.\n",
       "    </video>"
      ],
      "text/plain": [
       "<IPython.core.display.Video object>"
      ]
     },
     "execution_count": 8,
     "metadata": {},
     "output_type": "execute_result"
    }
   ],
   "source": [
    "Video(\"videos/07_collision_warning_system.mp4\", width=800)"
   ]
  },
  {
   "cell_type": "markdown",
   "id": "bf11fad1-55d0-4aa8-9a87-0dd475e90948",
   "metadata": {},
   "source": [
    "## Verkehrs-Überwachtung (traffic surveillance)\n",
    "\n",
    "Auch nützlich für ADAS durch Information von intelligenter Verkehrsinfrastruktur (Car2X Kommunikation)\n",
    "\n",
    "Video von 2021\n",
    "\n",
    "[Videoquelle](https://www.youtube.com/watch?v=FdiQ_EGbZe0)"
   ]
  },
  {
   "cell_type": "code",
   "execution_count": 10,
   "id": "c722f9fa-1924-4990-8f71-3240d871464e",
   "metadata": {},
   "outputs": [
    {
     "data": {
      "text/html": [
       "<video src=\"videos/08_intelligent_traffic_infrastructure_car2x.mp4\" controls  width=\"800\" >\n",
       "      Your browser does not support the <code>video</code> element.\n",
       "    </video>"
      ],
      "text/plain": [
       "<IPython.core.display.Video object>"
      ]
     },
     "execution_count": 10,
     "metadata": {},
     "output_type": "execute_result"
    }
   ],
   "source": [
    "Video(\"videos/08_intelligent_traffic_infrastructure_car2x.mp4\", width=800)"
   ]
  },
  {
   "cell_type": "markdown",
   "id": "f0965d0e-1d4e-4667-afe5-830c805be6a2",
   "metadata": {},
   "source": [
    "## Ernte-Hilfe-Systeme (assisted farming)\n",
    "\n",
    "Video von 2017/2018\n",
    "\n",
    "[Videoquelle](https://www.youtube.com/watch?v=Yq7Xwkn5yDI)"
   ]
  },
  {
   "cell_type": "code",
   "execution_count": 12,
   "id": "4e7a64d1-eb0e-419e-a345-9c348b40d7d7",
   "metadata": {},
   "outputs": [
    {
     "data": {
      "text/html": [
       "<video src=\"videos/09_assisted_farming.mp4\" controls  width=\"800\" >\n",
       "      Your browser does not support the <code>video</code> element.\n",
       "    </video>"
      ],
      "text/plain": [
       "<IPython.core.display.Video object>"
      ]
     },
     "execution_count": 12,
     "metadata": {},
     "output_type": "execute_result"
    }
   ],
   "source": [
    "Video(\"videos/09_assisted_farming.mp4\", width=800)"
   ]
  },
  {
   "cell_type": "markdown",
   "id": "8c1fa106-4366-45d9-b37b-a2be4ecb474f",
   "metadata": {},
   "source": [
    "## Geisterfahrerdetektion (Wrong Way Driving Warning)\n",
    "\n",
    "Video von 2021\n",
    "\n",
    "[Videoquelle](https://www.youtube.com/watch?v=DTK1xo7sWzI)"
   ]
  },
  {
   "cell_type": "code",
   "execution_count": 14,
   "id": "f1c11372-f79f-4a10-848b-2cd3ba212b2a",
   "metadata": {},
   "outputs": [
    {
     "data": {
      "text/html": [
       "<video src=\"videos/10_wrong_way_driving_detection.mp4\" controls  width=\"800\" >\n",
       "      Your browser does not support the <code>video</code> element.\n",
       "    </video>"
      ],
      "text/plain": [
       "<IPython.core.display.Video object>"
      ]
     },
     "execution_count": 14,
     "metadata": {},
     "output_type": "execute_result"
    }
   ],
   "source": [
    "Video(\"videos/10_wrong_way_driving_detection.mp4\", width=800)"
   ]
  },
  {
   "cell_type": "code",
   "execution_count": null,
   "id": "23479fe5-b576-41ef-9579-fb42462a1c2b",
   "metadata": {},
   "outputs": [],
   "source": []
  }
 ],
 "metadata": {
  "kernelspec": {
   "display_name": "Python 3 (ipykernel)",
   "language": "python",
   "name": "python3"
  },
  "language_info": {
   "codemirror_mode": {
    "name": "ipython",
    "version": 3
   },
   "file_extension": ".py",
   "mimetype": "text/x-python",
   "name": "python",
   "nbconvert_exporter": "python",
   "pygments_lexer": "ipython3",
   "version": "3.8.10"
  },
  "toc-autonumbering": true
 },
 "nbformat": 4,
 "nbformat_minor": 5
}
