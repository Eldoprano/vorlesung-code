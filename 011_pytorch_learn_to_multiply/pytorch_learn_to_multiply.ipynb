{
 "cells": [
  {
   "cell_type": "markdown",
   "id": "91ffcaf7-6d31-45d1-83fd-d4c416e2a0e3",
   "metadata": {},
   "source": [
    "# Motivation\n",
    "\n",
    "A standard neural network like a MLP has problems to learn to multiply two input numbers x1,x2!\n",
    "\n",
    "Reason:\n",
    "$y = x1*x2$ cannot be simulated using linear layers.\n"
   ]
  },
  {
   "cell_type": "markdown",
   "id": "2db2d84e-bd47-493b-9562-c0386ebd2523",
   "metadata": {},
   "source": [
    "# A MLP has problems to learn to multiply\n",
    "\n",
    "Here we try to learn the multiplication with a standard MLP and show that is does not work."
   ]
  },
  {
   "cell_type": "code",
   "execution_count": 1,
   "id": "2c9275dd-b025-46dd-91a1-fe90665aa8c3",
   "metadata": {},
   "outputs": [],
   "source": [
    "import torch\n",
    "import numpy\n",
    "import matplotlib.pyplot as plt\n",
    "\n",
    "def get_ground_truth_output_from_input_tensor(input_vec):\n",
    "    x1 = input_vec[0].item()\n",
    "    x2 = input_vec[1].item()\n",
    "    x3 = input_vec[2].item()\n",
    "    \n",
    "    # target is x1*x2\n",
    "    return torch.tensor( [x1*x2] )\n",
    "    \n",
    "    # target is x1+x2\n",
    "    #return torch.tensor( [x1+x2] )\n",
    "\n",
    "\n",
    "class net1(torch.nn.Module):\n",
    "    \n",
    "    def __init__(self, input_size, hidden_size, output_size):\n",
    "        \n",
    "        super().__init__()\n",
    "        self.layer1 = torch.nn.Linear(input_size, hidden_size)\n",
    "        self.layer2 = torch.nn.Linear(hidden_size, output_size)        \n",
    "        \n",
    "    def forward(self, input_vec):\n",
    "        \n",
    "        out1 = self.layer1(input_vec)\n",
    "        out2 = self.layer2(out1)\n",
    "        return out2\n",
    "\n",
    "    \n",
    "def learn(net, nr_train_steps):\n",
    "\n",
    "    loss_fn = torch.nn.L1Loss()\n",
    "    #loss_fn = torch.nn.MSELoss()\n",
    "    optimizer = torch.optim.SGD(net.parameters(), lr=0.0001)\n",
    "\n",
    "    list_of_errors = []\n",
    "    list_of_avg_errors = []\n",
    "\n",
    "    for train_step in range(nr_train_steps):\n",
    "\n",
    "        if train_step % (nr_train_steps/10) == 0:\n",
    "            print(\"train_step=\", train_step)\n",
    "\n",
    "        # generate a training sample\n",
    "        x1 = numpy.random.uniform(low=0.0, high=10.0)\n",
    "        x2 = numpy.random.uniform(low=0.0, high=10.0)\n",
    "        x3 = numpy.random.uniform(low=0.0, high=10.0)\n",
    "        input_vec   = torch.tensor([x1,x2,x3])\n",
    "        teacher_vec = get_ground_truth_output_from_input_tensor( input_vec )\n",
    "        #print( f\"{input_vec} --> {teacher_vec}\" )\n",
    "\n",
    "        # forward step\n",
    "        y_pred = net(input_vec)\n",
    "        \n",
    "        # compute loss\n",
    "        loss = loss_fn(y_pred, teacher_vec)\n",
    "\n",
    "        # save current loss for plotting it later\n",
    "        error = abs(teacher_vec-y_pred)\n",
    "        list_of_errors.append( error.item() )\n",
    "\n",
    "        if len(list_of_errors) > 100 :\n",
    "            list_of_avg_errors.append( numpy.mean(list_of_errors[-100:]) )\n",
    "\n",
    "        # backward step -> computes gradients\n",
    "        net.zero_grad()\n",
    "        loss.backward()\n",
    "\n",
    "        # optimizer step -> adapts weights\n",
    "        optimizer.step()\n",
    "\n",
    "        if False:\n",
    "            error = abs(teacher_vec-y_pred)\n",
    "            print( f\"teacher={teacher_vec}, predicted={y_pred:} -> error={error}\" )\n",
    "        \n",
    "    plt.plot( list_of_avg_errors )\n",
    "    plt.show()\n",
    "    \n",
    "    print(\"Testing:\")\n",
    "    numbers = [0, 0.5, 1.0, 2.0, 3.0, 4.0]\n",
    "    x3 = 2\n",
    "    for x1 in numbers:\n",
    "        for x2 in numbers:\n",
    "            input_vec = torch.tensor([x1,x2,x3], dtype=torch.float32)\n",
    "            y_pred = net(input_vec)            \n",
    "            \n",
    "            gt = get_ground_truth_output_from_input_tensor( input_vec )\n",
    "            print( f\"f({x1}, {x2}, {x3})={gt.detach().numpy()[0]} <-> net: {y_pred.detach().numpy()[0]:.2f}\" )"
   ]
  },
  {
   "cell_type": "code",
   "execution_count": 2,
   "id": "9ec0f21b-3793-46b2-a665-0cfd89f77b63",
   "metadata": {},
   "outputs": [
    {
     "name": "stdout",
     "output_type": "stream",
     "text": [
      "train_step= 0\n",
      "train_step= 3000\n",
      "train_step= 6000\n",
      "train_step= 9000\n",
      "train_step= 12000\n",
      "train_step= 15000\n",
      "train_step= 18000\n",
      "train_step= 21000\n",
      "train_step= 24000\n",
      "train_step= 27000\n"
     ]
    },
    {
     "data": {
      "image/png": "[encoded data removed]",
      "text/plain": [
       "<Figure size 432x288 with 1 Axes>"
      ]
     },
     "metadata": {
      "needs_background": "light"
     },
     "output_type": "display_data"
    },
    {
     "name": "stdout",
     "output_type": "stream",
     "text": [
      "Testing:\n",
      "f(0, 0, 2)=0.0 <-> net: -10.08\n",
      "f(0, 0.5, 2)=0.0 <-> net: -8.28\n",
      "f(0, 1.0, 2)=0.0 <-> net: -6.48\n",
      "f(0, 2.0, 2)=0.0 <-> net: -2.87\n",
      "f(0, 3.0, 2)=0.0 <-> net: 0.74\n",
      "f(0, 4.0, 2)=0.0 <-> net: 4.35\n",
      "f(0.5, 0, 2)=0.0 <-> net: -8.22\n",
      "f(0.5, 0.5, 2)=0.25 <-> net: -6.42\n",
      "f(0.5, 1.0, 2)=0.5 <-> net: -4.61\n",
      "f(0.5, 2.0, 2)=1.0 <-> net: -1.01\n",
      "f(0.5, 3.0, 2)=1.5 <-> net: 2.60\n",
      "f(0.5, 4.0, 2)=2.0 <-> net: 6.21\n",
      "f(1.0, 0, 2)=0.0 <-> net: -6.36\n",
      "f(1.0, 0.5, 2)=0.5 <-> net: -4.56\n",
      "f(1.0, 1.0, 2)=1.0 <-> net: -2.75\n",
      "f(1.0, 2.0, 2)=2.0 <-> net: 0.86\n",
      "f(1.0, 3.0, 2)=3.0 <-> net: 4.46\n",
      "f(1.0, 4.0, 2)=4.0 <-> net: 8.07\n",
      "f(2.0, 0, 2)=0.0 <-> net: -2.64\n",
      "f(2.0, 0.5, 2)=1.0 <-> net: -0.83\n",
      "f(2.0, 1.0, 2)=2.0 <-> net: 0.97\n",
      "f(2.0, 2.0, 2)=4.0 <-> net: 4.58\n",
      "f(2.0, 3.0, 2)=6.0 <-> net: 8.19\n",
      "f(2.0, 4.0, 2)=8.0 <-> net: 11.80\n",
      "f(3.0, 0, 2)=0.0 <-> net: 1.09\n",
      "f(3.0, 0.5, 2)=1.5 <-> net: 2.89\n",
      "f(3.0, 1.0, 2)=3.0 <-> net: 4.69\n",
      "f(3.0, 2.0, 2)=6.0 <-> net: 8.30\n",
      "f(3.0, 3.0, 2)=9.0 <-> net: 11.91\n",
      "f(3.0, 4.0, 2)=12.0 <-> net: 15.52\n",
      "f(4.0, 0, 2)=0.0 <-> net: 4.81\n",
      "f(4.0, 0.5, 2)=2.0 <-> net: 6.61\n",
      "f(4.0, 1.0, 2)=4.0 <-> net: 8.42\n",
      "f(4.0, 2.0, 2)=8.0 <-> net: 12.03\n",
      "f(4.0, 3.0, 2)=12.0 <-> net: 15.63\n",
      "f(4.0, 4.0, 2)=16.0 <-> net: 19.24\n"
     ]
    }
   ],
   "source": [
    "my_net1 = net1(3,100,1)\n",
    "learn(net=my_net1, nr_train_steps=30000)"
   ]
  },
  {
   "cell_type": "markdown",
   "id": "8e3df311-8f84-4892-b489-cd34144a65b7",
   "metadata": {},
   "source": [
    "# A network with other operations can learn to multiply"
   ]
  },
  {
   "cell_type": "markdown",
   "id": "52c5016e-bd8f-4dd7-8bd3-6127370e7d42",
   "metadata": {},
   "source": [
    "## Computing all multiplication variants of an input tensor"
   ]
  },
  {
   "cell_type": "code",
   "execution_count": 3,
   "id": "171ad335-0bd1-44da-a43c-fab72a8088df",
   "metadata": {},
   "outputs": [],
   "source": [
    "x = torch.tensor( [1,2,3], dtype=torch.float32 )"
   ]
  },
  {
   "cell_type": "code",
   "execution_count": 4,
   "id": "d779da61-b63a-41b5-b034-220334953f64",
   "metadata": {},
   "outputs": [
    {
     "data": {
      "text/plain": [
       "3"
      ]
     },
     "execution_count": 4,
     "metadata": {},
     "output_type": "execute_result"
    }
   ],
   "source": [
    "len(x)"
   ]
  },
  {
   "cell_type": "code",
   "execution_count": 5,
   "id": "ee600663-602d-496d-a1c9-11ae822716a4",
   "metadata": {},
   "outputs": [
    {
     "data": {
      "text/plain": [
       "tensor([2., 4., 6.])"
      ]
     },
     "execution_count": 5,
     "metadata": {},
     "output_type": "execute_result"
    }
   ],
   "source": [
    "x+x"
   ]
  },
  {
   "cell_type": "code",
   "execution_count": 6,
   "id": "ff78e3ed-3695-4549-a46e-13aec56e6f0f",
   "metadata": {},
   "outputs": [
    {
     "data": {
      "text/plain": [
       "tensor([1., 4., 9.])"
      ]
     },
     "execution_count": 6,
     "metadata": {},
     "output_type": "execute_result"
    }
   ],
   "source": [
    "x*x"
   ]
  },
  {
   "cell_type": "code",
   "execution_count": 7,
   "id": "1b481714-20ea-4d6d-b95f-c28118b72527",
   "metadata": {},
   "outputs": [
    {
     "data": {
      "text/plain": [
       "tensor([[1.],\n",
       "        [2.],\n",
       "        [3.]])"
      ]
     },
     "execution_count": 7,
     "metadata": {},
     "output_type": "execute_result"
    }
   ],
   "source": [
    "x.view(3,1)"
   ]
  },
  {
   "cell_type": "code",
   "execution_count": 8,
   "id": "6c7917d0-3180-4159-ab38-fbb5f9944892",
   "metadata": {},
   "outputs": [
    {
     "data": {
      "text/plain": [
       "tensor([[1., 2., 3.]])"
      ]
     },
     "execution_count": 8,
     "metadata": {},
     "output_type": "execute_result"
    }
   ],
   "source": [
    "x.view(1,3)"
   ]
  },
  {
   "cell_type": "code",
   "execution_count": 9,
   "id": "b7164b9f-152c-424c-bee5-b59fe46254a0",
   "metadata": {},
   "outputs": [
    {
     "data": {
      "text/plain": [
       "tensor([[1., 2., 3.],\n",
       "        [2., 4., 6.],\n",
       "        [3., 6., 9.]])"
      ]
     },
     "execution_count": 9,
     "metadata": {},
     "output_type": "execute_result"
    }
   ],
   "source": [
    "M = x.view(3,1) * x.view(1,3)\n",
    "M"
   ]
  },
  {
   "cell_type": "code",
   "execution_count": 10,
   "id": "693b7204-1caf-4c52-b854-0bb7d8dde8b6",
   "metadata": {},
   "outputs": [
    {
     "data": {
      "text/plain": [
       "tensor([1., 2., 3., 2., 4., 6., 3., 6., 9.])"
      ]
     },
     "execution_count": 10,
     "metadata": {},
     "output_type": "execute_result"
    }
   ],
   "source": [
    "M.flatten()"
   ]
  },
  {
   "cell_type": "code",
   "execution_count": 11,
   "id": "5c79748e-6c35-4500-9a32-fa99ac20c546",
   "metadata": {},
   "outputs": [],
   "source": [
    "l1 = torch.nn.Linear(3**2, 1)"
   ]
  },
  {
   "cell_type": "code",
   "execution_count": 12,
   "id": "e71fe32b-2884-404e-9045-f52e5df08532",
   "metadata": {},
   "outputs": [
    {
     "data": {
      "text/plain": [
       "Parameter containing:\n",
       "tensor([[-0.0677,  0.1915, -0.2600,  0.1841,  0.1857, -0.2825, -0.2740,  0.0541,\n",
       "         -0.0521]], requires_grad=True)"
      ]
     },
     "execution_count": 12,
     "metadata": {},
     "output_type": "execute_result"
    }
   ],
   "source": [
    "l1.weight"
   ]
  },
  {
   "cell_type": "code",
   "execution_count": 13,
   "id": "98414288",
   "metadata": {},
   "outputs": [
    {
     "data": {
      "text/plain": [
       "Parameter containing:\n",
       "tensor([-0.0775], requires_grad=True)"
      ]
     },
     "execution_count": 13,
     "metadata": {},
     "output_type": "execute_result"
    }
   ],
   "source": [
    "l1.bias"
   ]
  },
  {
   "cell_type": "code",
   "execution_count": 14,
   "id": "724ccb35-4d83-4a3d-b383-66650bd2e10f",
   "metadata": {},
   "outputs": [
    {
     "data": {
      "text/plain": [
       "tensor([-2.0925], grad_fn=<AddBackward0>)"
      ]
     },
     "execution_count": 14,
     "metadata": {},
     "output_type": "execute_result"
    }
   ],
   "source": [
    "l1( M.flatten() )"
   ]
  },
  {
   "cell_type": "code",
   "execution_count": 15,
   "id": "0fd7206e",
   "metadata": {},
   "outputs": [
    {
     "data": {
      "text/plain": [
       "tensor([-2.0925], grad_fn=<AddBackward0>)"
      ]
     },
     "execution_count": 15,
     "metadata": {},
     "output_type": "execute_result"
    }
   ],
   "source": [
    "torch.dot( l1.weight.flatten(), M.flatten() ) + l1.bias"
   ]
  },
  {
   "cell_type": "markdown",
   "id": "1512c4c9",
   "metadata": {},
   "source": [
    "## A new network type\n",
    "\n",
    "The following network first computes all multiplicative variants of its inputs and then can learn how to combine these inputs using a linear layer."
   ]
  },
  {
   "cell_type": "code",
   "execution_count": 16,
   "id": "5480317e-7cc4-4288-b877-6ad96bc7cd54",
   "metadata": {},
   "outputs": [],
   "source": [
    "class net2(torch.nn.Module):\n",
    "    \n",
    "    def __init__(self, input_size):\n",
    "        \n",
    "        super().__init__()\n",
    "        self.layer1 = torch.nn.Linear(input_size**2, 1)\n",
    "        \n",
    "    def forward(self, x):\n",
    "        \n",
    "        N = len(x)\n",
    "               \n",
    "        M = x.view(N,1) * x.view(1,N)\n",
    "        M_flat = torch.flatten(M)\n",
    "        out = self.layer1( M_flat )\n",
    "        return out"
   ]
  },
  {
   "cell_type": "code",
   "execution_count": 17,
   "id": "bb9dcc41-05b3-4ef5-b0c4-205b05bce311",
   "metadata": {},
   "outputs": [
    {
     "name": "stdout",
     "output_type": "stream",
     "text": [
      "train_step= 0\n",
      "train_step= 4000\n",
      "train_step= 8000\n",
      "train_step= 12000\n",
      "train_step= 16000\n",
      "train_step= 20000\n",
      "train_step= 24000\n",
      "train_step= 28000\n",
      "train_step= 32000\n",
      "train_step= 36000\n"
     ]
    },
    {
     "data": {
      "image/png": "[encoded data removed]",
      "text/plain": [
       "<Figure size 432x288 with 1 Axes>"
      ]
     },
     "metadata": {
      "needs_background": "light"
     },
     "output_type": "display_data"
    },
    {
     "name": "stdout",
     "output_type": "stream",
     "text": [
      "Testing:\n",
      "f(0, 0, 2)=0.0 <-> net: 0.04\n",
      "f(0, 0.5, 2)=0.0 <-> net: 0.03\n",
      "f(0, 1.0, 2)=0.0 <-> net: 0.02\n",
      "f(0, 2.0, 2)=0.0 <-> net: -0.00\n",
      "f(0, 3.0, 2)=0.0 <-> net: -0.04\n",
      "f(0, 4.0, 2)=0.0 <-> net: -0.09\n",
      "f(0.5, 0, 2)=0.0 <-> net: 0.04\n",
      "f(0.5, 0.5, 2)=0.25 <-> net: 0.28\n",
      "f(0.5, 1.0, 2)=0.5 <-> net: 0.52\n",
      "f(0.5, 2.0, 2)=1.0 <-> net: 1.00\n",
      "f(0.5, 3.0, 2)=1.5 <-> net: 1.46\n",
      "f(0.5, 4.0, 2)=2.0 <-> net: 1.91\n",
      "f(1.0, 0, 2)=0.0 <-> net: 0.03\n",
      "f(1.0, 0.5, 2)=0.5 <-> net: 0.53\n",
      "f(1.0, 1.0, 2)=1.0 <-> net: 1.02\n",
      "f(1.0, 2.0, 2)=2.0 <-> net: 1.99\n",
      "f(1.0, 3.0, 2)=3.0 <-> net: 2.95\n",
      "f(1.0, 4.0, 2)=4.0 <-> net: 3.90\n",
      "f(2.0, 0, 2)=0.0 <-> net: -0.00\n",
      "f(2.0, 0.5, 2)=1.0 <-> net: 0.99\n",
      "f(2.0, 1.0, 2)=2.0 <-> net: 1.98\n",
      "f(2.0, 2.0, 2)=4.0 <-> net: 3.95\n",
      "f(2.0, 3.0, 2)=6.0 <-> net: 5.91\n",
      "f(2.0, 4.0, 2)=8.0 <-> net: 7.86\n",
      "f(3.0, 0, 2)=0.0 <-> net: -0.07\n",
      "f(3.0, 0.5, 2)=1.5 <-> net: 1.42\n",
      "f(3.0, 1.0, 2)=3.0 <-> net: 2.91\n",
      "f(3.0, 2.0, 2)=6.0 <-> net: 5.88\n",
      "f(3.0, 3.0, 2)=9.0 <-> net: 8.84\n",
      "f(3.0, 4.0, 2)=12.0 <-> net: 11.79\n",
      "f(4.0, 0, 2)=0.0 <-> net: -0.17\n",
      "f(4.0, 0.5, 2)=2.0 <-> net: 1.82\n",
      "f(4.0, 1.0, 2)=4.0 <-> net: 3.81\n",
      "f(4.0, 2.0, 2)=8.0 <-> net: 7.78\n",
      "f(4.0, 3.0, 2)=12.0 <-> net: 11.74\n",
      "f(4.0, 4.0, 2)=16.0 <-> net: 15.69\n"
     ]
    }
   ],
   "source": [
    "my_net2 = net2(3)\n",
    "learn(net=my_net2, nr_train_steps=40000)"
   ]
  },
  {
   "cell_type": "code",
   "execution_count": 18,
   "id": "978999c4",
   "metadata": {},
   "outputs": [
    {
     "data": {
      "text/plain": [
       "Parameter containing:\n",
       "tensor([[-0.0153,  0.7553, -0.1850,  0.2436, -0.0057, -0.0683,  0.1901,  0.0641,\n",
       "          0.0067]], requires_grad=True)"
      ]
     },
     "execution_count": 18,
     "metadata": {},
     "output_type": "execute_result"
    }
   ],
   "source": [
    "my_net2.layer1.weight"
   ]
  },
  {
   "cell_type": "code",
   "execution_count": 25,
   "id": "f5a0553a",
   "metadata": {},
   "outputs": [
    {
     "data": {
      "text/plain": [
       "array([[-0.01534308,  0.75526595, -0.185046  ],\n",
       "       [ 0.24358693, -0.00566215, -0.06830511],\n",
       "       [ 0.19012325,  0.06413131,  0.00666862]], dtype=float32)"
      ]
     },
     "execution_count": 25,
     "metadata": {},
     "output_type": "execute_result"
    }
   ],
   "source": [
    "T = my_net2.layer1.weight.view(3,3)\n",
    "W = T.detach().numpy()\n",
    "W"
   ]
  },
  {
   "cell_type": "code",
   "execution_count": 32,
   "id": "0231b4d9",
   "metadata": {},
   "outputs": [
    {
     "data": {
      "image/png": "[encoded data removed]",
      "text/plain": [
       "<Figure size 432x288 with 2 Axes>"
      ]
     },
     "metadata": {
      "needs_background": "light"
     },
     "output_type": "display_data"
    }
   ],
   "source": [
    "plt.imshow(W, cmap=\"coolwarm\")\n",
    "plt.colorbar()\n",
    "plt.show()"
   ]
  },
  {
   "cell_type": "code",
   "execution_count": null,
   "id": "13a0c1fc",
   "metadata": {},
   "outputs": [],
   "source": []
  }
 ],
 "metadata": {
  "interpreter": {
   "hash": "98d061f84637717eb85b2e5453e8040f4ac2bd60ccf7ccbdcda59bb3604783b7"
  },
  "kernelspec": {
   "display_name": "Python 3 (ipykernel)",
   "language": "python",
   "name": "python3"
  },
  "language_info": {
   "codemirror_mode": {
    "name": "ipython",
    "version": 3
   },
   "file_extension": ".py",
   "mimetype": "text/x-python",
   "name": "python",
   "nbconvert_exporter": "python",
   "pygments_lexer": "ipython3",
   "version": "3.8.10"
  },
  "toc-autonumbering": true
 },
 "nbformat": 4,
 "nbformat_minor": 5
}
