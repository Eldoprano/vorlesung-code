{
 "cells": [
  {
   "cell_type": "markdown",
   "id": "91ffcaf7-6d31-45d1-83fd-d4c416e2a0e3",
   "metadata": {},
   "source": [
    "# Motivation\n",
    "\n",
    "A standard neural network like a MLP has problems to learn to multiply two input numbers x1,x2!\n",
    "\n",
    "Reason:\n",
    "$y = x1*x2$ cannot be simulated using linear layers.\n"
   ]
  },
  {
   "cell_type": "markdown",
   "id": "2db2d84e-bd47-493b-9562-c0386ebd2523",
   "metadata": {},
   "source": [
    "# Example\n",
    "\n",
    "Here we try to learn the multiplication with a standard MLP and show that is does not work."
   ]
  },
  {
   "cell_type": "code",
   "execution_count": 29,
   "id": "2c9275dd-b025-46dd-91a1-fe90665aa8c3",
   "metadata": {},
   "outputs": [],
   "source": [
    "import torch\n",
    "import numpy\n",
    "import matplotlib.pyplot as plt\n",
    "\n",
    "def get_ground_truth_output_from_input_tensor(input_vec):\n",
    "    x1 = input_vec[0].item()\n",
    "    x2 = input_vec[1].item()\n",
    "    \n",
    "    # target is x1*x2\n",
    "    return torch.tensor( [x1*x2] )\n",
    "\n",
    "\n",
    "class net1(torch.nn.Module):\n",
    "    \n",
    "    def __init__(self, input_size, hidden_size, output_size):\n",
    "        \n",
    "        super().__init__()\n",
    "        self.layer1 = torch.nn.Linear(input_size, hidden_size)\n",
    "        self.layer2 = torch.nn.Linear(hidden_size, output_size)        \n",
    "        \n",
    "    def forward(self, input_vec):\n",
    "        \n",
    "        out1 = self.layer1(input_vec)\n",
    "        out2 = self.layer2(out1)\n",
    "        return out2\n",
    "\n",
    "    \n",
    "def learn(net, nr_train_steps):\n",
    "\n",
    "    loss_fn = torch.nn.L1Loss()\n",
    "    optimizer = torch.optim.SGD(net.parameters(), lr=0.001)\n",
    "\n",
    "    list_of_errors = []\n",
    "    list_of_avg_errors = []\n",
    "\n",
    "    for train_step in range(nr_train_steps):\n",
    "\n",
    "        if train_step % (nr_train_steps/10) == 0:\n",
    "            print(\"train_step=\", train_step)\n",
    "\n",
    "        # generate a training sample\n",
    "        x1 = numpy.random.uniform(low=0.0, high=10.0)\n",
    "        x2 = numpy.random.uniform(low=0.0, high=10.0)\n",
    "        input_vec   = torch.tensor([x1,x2])        \n",
    "        teacher_vec = get_ground_truth_output_from_input_tensor( input_vec )\n",
    "        #print( f\"{input_vec} --> {teacher_vec}\" )\n",
    "\n",
    "        # forward step\n",
    "        y_pred = net(input_vec)\n",
    "        \n",
    "        # compute loss\n",
    "        loss = loss_fn(y_pred, teacher_vec)\n",
    "\n",
    "        # save current loss for plotting it later\n",
    "        error = abs(teacher_vec-y_pred)\n",
    "        list_of_errors.append( error.item() )\n",
    "\n",
    "        if len(list_of_errors) > 100 :\n",
    "            list_of_avg_errors.append( numpy.mean(list_of_errors[-100:]) )\n",
    "\n",
    "        # backward step -> computes gradients\n",
    "        net.zero_grad()\n",
    "        loss.backward()\n",
    "\n",
    "        # optimizer step -> adapts weights\n",
    "        optimizer.step()\n",
    "\n",
    "        if False:\n",
    "            error = abs(teacher_vec-y_pred)\n",
    "            print( f\"teacher={teacher_vec}, predicted={y_pred:} -> error={error}\" )\n",
    "        \n",
    "    plt.plot( list_of_avg_errors )\n",
    "    plt.show()\n",
    "    \n",
    "    print(\"Testing:\")\n",
    "    numbers = [0, 0.5, 1.0, 2.0, 3.0, 4.0]\n",
    "    for x1 in numbers:\n",
    "        for x2 in numbers:\n",
    "            input_vec = torch.tensor([x1,x2], dtype=torch.float32)\n",
    "            y_pred = net(input_vec)\n",
    "            print( f\"{x1}*{x2} is {x1*x2} and net says {y_pred.detach().numpy()}\" )"
   ]
  },
  {
   "cell_type": "code",
   "execution_count": 30,
   "id": "9ec0f21b-3793-46b2-a665-0cfd89f77b63",
   "metadata": {},
   "outputs": [
    {
     "name": "stdout",
     "output_type": "stream",
     "text": [
      "train_step= 0\n",
      "train_step= 5000\n",
      "train_step= 10000\n",
      "train_step= 15000\n",
      "train_step= 20000\n",
      "train_step= 25000\n",
      "train_step= 30000\n",
      "train_step= 35000\n",
      "train_step= 40000\n",
      "train_step= 45000\n"
     ]
    },
    {
     "data": {
      "image/png": "[encoded data removed]",
      "text/plain": [
       "<Figure size 432x288 with 1 Axes>"
      ]
     },
     "metadata": {
      "needs_background": "light"
     },
     "output_type": "display_data"
    },
    {
     "name": "stdout",
     "output_type": "stream",
     "text": [
      "Testing:\n",
      "0*0 is 0 and net says [-23.116898]\n",
      "0*0.5 is 0.0 and net says [-21.040089]\n",
      "0*1.0 is 0.0 and net says [-18.963278]\n",
      "0*2.0 is 0.0 and net says [-14.80966]\n",
      "0*3.0 is 0.0 and net says [-10.656042]\n",
      "0*4.0 is 0.0 and net says [-6.5024233]\n",
      "0.5*0 is 0.0 and net says [-20.506601]\n",
      "0.5*0.5 is 0.25 and net says [-18.429792]\n",
      "0.5*1.0 is 0.5 and net says [-16.352982]\n",
      "0.5*2.0 is 1.0 and net says [-12.199364]\n",
      "0.5*3.0 is 1.5 and net says [-8.045746]\n",
      "0.5*4.0 is 2.0 and net says [-3.892127]\n",
      "1.0*0 is 0.0 and net says [-17.896305]\n",
      "1.0*0.5 is 0.5 and net says [-15.819496]\n",
      "1.0*1.0 is 1.0 and net says [-13.742686]\n",
      "1.0*2.0 is 2.0 and net says [-9.589067]\n",
      "1.0*3.0 is 3.0 and net says [-5.43545]\n",
      "1.0*4.0 is 4.0 and net says [-1.2818313]\n",
      "2.0*0 is 0.0 and net says [-12.675713]\n",
      "2.0*0.5 is 1.0 and net says [-10.598904]\n",
      "2.0*1.0 is 2.0 and net says [-8.522094]\n",
      "2.0*2.0 is 4.0 and net says [-4.368476]\n",
      "2.0*3.0 is 6.0 and net says [-0.21485746]\n",
      "2.0*4.0 is 8.0 and net says [3.9387608]\n",
      "3.0*0 is 0.0 and net says [-7.45512]\n",
      "3.0*0.5 is 1.5 and net says [-5.3783116]\n",
      "3.0*1.0 is 3.0 and net says [-3.3015022]\n",
      "3.0*2.0 is 6.0 and net says [0.8521161]\n",
      "3.0*3.0 is 9.0 and net says [5.0057344]\n",
      "3.0*4.0 is 12.0 and net says [9.159353]\n",
      "4.0*0 is 0.0 and net says [-2.2345285]\n",
      "4.0*0.5 is 2.0 and net says [-0.15771937]\n",
      "4.0*1.0 is 4.0 and net says [1.91909]\n",
      "4.0*2.0 is 8.0 and net says [6.072708]\n",
      "4.0*3.0 is 12.0 and net says [10.226326]\n",
      "4.0*4.0 is 16.0 and net says [14.379946]\n"
     ]
    }
   ],
   "source": [
    "my_net1 = net1(2,100,1)\n",
    "learn(net=my_net1, nr_train_steps=50000)"
   ]
  },
  {
   "cell_type": "code",
   "execution_count": null,
   "id": "b1aa30c0-fa89-497e-a910-f784f7a99ab0",
   "metadata": {},
   "outputs": [],
   "source": []
  }
 ],
 "metadata": {
  "kernelspec": {
   "display_name": "Python 3 (ipykernel)",
   "language": "python",
   "name": "python3"
  },
  "language_info": {
   "codemirror_mode": {
    "name": "ipython",
    "version": 3
   },
   "file_extension": ".py",
   "mimetype": "text/x-python",
   "name": "python",
   "nbconvert_exporter": "python",
   "pygments_lexer": "ipython3",
   "version": "3.8.10"
  },
  "toc-autonumbering": true
 },
 "nbformat": 4,
 "nbformat_minor": 5
}
