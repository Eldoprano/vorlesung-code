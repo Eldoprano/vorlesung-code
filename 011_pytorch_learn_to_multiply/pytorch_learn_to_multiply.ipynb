{
 "cells": [
  {
   "cell_type": "markdown",
   "id": "91ffcaf7-6d31-45d1-83fd-d4c416e2a0e3",
   "metadata": {},
   "source": [
    "# Motivation\n",
    "\n",
    "A standard neural network like a MLP has problems to learn to multiply two input numbers x1,x2!\n",
    "\n",
    "Reason:\n",
    "$y = x1*x2$ cannot be simulated using linear layers.\n"
   ]
  },
  {
   "cell_type": "markdown",
   "id": "2db2d84e-bd47-493b-9562-c0386ebd2523",
   "metadata": {},
   "source": [
    "# A MLP has problems to learn to multiply\n",
    "\n",
    "Here we try to learn the multiplication with a standard MLP and show that is does not work."
   ]
  },
  {
   "cell_type": "code",
   "execution_count": 17,
   "id": "2c9275dd-b025-46dd-91a1-fe90665aa8c3",
   "metadata": {},
   "outputs": [],
   "source": [
    "import torch\n",
    "import numpy\n",
    "import matplotlib.pyplot as plt\n",
    "\n",
    "def get_ground_truth_output_from_input_tensor(input_vec):\n",
    "    x1 = input_vec[0].item()\n",
    "    x2 = input_vec[1].item()\n",
    "    \n",
    "    # target is x1*x2\n",
    "    return torch.tensor( [x1*x2] )\n",
    "    \n",
    "    # target is x1+x2\n",
    "    #return torch.tensor( [x1+x2] )\n",
    "\n",
    "\n",
    "class net1(torch.nn.Module):\n",
    "    \n",
    "    def __init__(self, input_size, hidden_size, output_size):\n",
    "        \n",
    "        super().__init__()\n",
    "        self.layer1 = torch.nn.Linear(input_size, hidden_size)\n",
    "        self.layer2 = torch.nn.Linear(hidden_size, output_size)        \n",
    "        \n",
    "    def forward(self, input_vec):\n",
    "        \n",
    "        out1 = self.layer1(input_vec)\n",
    "        out2 = self.layer2(out1)\n",
    "        return out2\n",
    "\n",
    "    \n",
    "def learn(net, nr_train_steps):\n",
    "\n",
    "    loss_fn = torch.nn.L1Loss()\n",
    "    optimizer = torch.optim.SGD(net.parameters(), lr=0.001)\n",
    "\n",
    "    list_of_errors = []\n",
    "    list_of_avg_errors = []\n",
    "\n",
    "    for train_step in range(nr_train_steps):\n",
    "\n",
    "        if train_step % (nr_train_steps/10) == 0:\n",
    "            print(\"train_step=\", train_step)\n",
    "\n",
    "        # generate a training sample\n",
    "        x1 = numpy.random.uniform(low=0.0, high=10.0)\n",
    "        x2 = numpy.random.uniform(low=0.0, high=10.0)\n",
    "        input_vec   = torch.tensor([x1,x2])        \n",
    "        teacher_vec = get_ground_truth_output_from_input_tensor( input_vec )\n",
    "        #print( f\"{input_vec} --> {teacher_vec}\" )\n",
    "\n",
    "        # forward step\n",
    "        y_pred = net(input_vec)\n",
    "        \n",
    "        # compute loss\n",
    "        loss = loss_fn(y_pred, teacher_vec)\n",
    "\n",
    "        # save current loss for plotting it later\n",
    "        error = abs(teacher_vec-y_pred)\n",
    "        list_of_errors.append( error.item() )\n",
    "\n",
    "        if len(list_of_errors) > 100 :\n",
    "            list_of_avg_errors.append( numpy.mean(list_of_errors[-100:]) )\n",
    "\n",
    "        # backward step -> computes gradients\n",
    "        net.zero_grad()\n",
    "        loss.backward()\n",
    "\n",
    "        # optimizer step -> adapts weights\n",
    "        optimizer.step()\n",
    "\n",
    "        if False:\n",
    "            error = abs(teacher_vec-y_pred)\n",
    "            print( f\"teacher={teacher_vec}, predicted={y_pred:} -> error={error}\" )\n",
    "        \n",
    "    plt.plot( list_of_avg_errors )\n",
    "    plt.show()\n",
    "    \n",
    "    print(\"Testing:\")\n",
    "    numbers = [0, 0.5, 1.0, 2.0, 3.0, 4.0]\n",
    "    for x1 in numbers:\n",
    "        for x2 in numbers:\n",
    "            input_vec = torch.tensor([x1,x2], dtype=torch.float32)\n",
    "            y_pred = net(input_vec)\n",
    "            \n",
    "            input_tensor = torch.tensor([x1,x2]) \n",
    "            gt = get_ground_truth_output_from_input_tensor( input_tensor )\n",
    "            print( f\"f({x1},{x2})={gt.detach().numpy()[0]} <-> net: {y_pred.detach().numpy()[0]:.2f}\" )"
   ]
  },
  {
   "cell_type": "code",
   "execution_count": 18,
   "id": "9ec0f21b-3793-46b2-a665-0cfd89f77b63",
   "metadata": {},
   "outputs": [
    {
     "name": "stdout",
     "output_type": "stream",
     "text": [
      "train_step= 0\n",
      "train_step= 2000\n",
      "train_step= 4000\n",
      "train_step= 6000\n",
      "train_step= 8000\n",
      "train_step= 10000\n",
      "train_step= 12000\n",
      "train_step= 14000\n",
      "train_step= 16000\n",
      "train_step= 18000\n"
     ]
    },
    {
     "data": {
      "image/png": "[encoded data removed]",
      "text/plain": [
       "<Figure size 432x288 with 1 Axes>"
      ]
     },
     "metadata": {
      "needs_background": "light"
     },
     "output_type": "display_data"
    },
    {
     "name": "stdout",
     "output_type": "stream",
     "text": [
      "Testing:\n",
      "f(0,0)=0 <-> net: -23.45\n",
      "f(0,0.5)=0.0 <-> net: -20.92\n",
      "f(0,1.0)=0.0 <-> net: -18.40\n",
      "f(0,2.0)=0.0 <-> net: -13.35\n",
      "f(0,3.0)=0.0 <-> net: -8.30\n",
      "f(0,4.0)=0.0 <-> net: -3.25\n",
      "f(0.5,0)=0.0 <-> net: -21.17\n",
      "f(0.5,0.5)=0.25 <-> net: -18.64\n",
      "f(0.5,1.0)=0.5 <-> net: -16.12\n",
      "f(0.5,2.0)=1.0 <-> net: -11.07\n",
      "f(0.5,3.0)=1.5 <-> net: -6.02\n",
      "f(0.5,4.0)=2.0 <-> net: -0.97\n",
      "f(1.0,0)=0.0 <-> net: -18.89\n",
      "f(1.0,0.5)=0.5 <-> net: -16.36\n",
      "f(1.0,1.0)=1.0 <-> net: -13.84\n",
      "f(1.0,2.0)=2.0 <-> net: -8.79\n",
      "f(1.0,3.0)=3.0 <-> net: -3.74\n",
      "f(1.0,4.0)=4.0 <-> net: 1.31\n",
      "f(2.0,0)=0.0 <-> net: -14.32\n",
      "f(2.0,0.5)=1.0 <-> net: -11.80\n",
      "f(2.0,1.0)=2.0 <-> net: -9.28\n",
      "f(2.0,2.0)=4.0 <-> net: -4.23\n",
      "f(2.0,3.0)=6.0 <-> net: 0.82\n",
      "f(2.0,4.0)=8.0 <-> net: 5.87\n",
      "f(3.0,0)=0.0 <-> net: -9.76\n",
      "f(3.0,0.5)=1.5 <-> net: -7.24\n",
      "f(3.0,1.0)=3.0 <-> net: -4.71\n",
      "f(3.0,2.0)=6.0 <-> net: 0.33\n",
      "f(3.0,3.0)=9.0 <-> net: 5.38\n",
      "f(3.0,4.0)=12.0 <-> net: 10.43\n",
      "f(4.0,0)=0.0 <-> net: -5.20\n",
      "f(4.0,0.5)=2.0 <-> net: -2.68\n",
      "f(4.0,1.0)=4.0 <-> net: -0.15\n",
      "f(4.0,2.0)=8.0 <-> net: 4.90\n",
      "f(4.0,3.0)=12.0 <-> net: 9.94\n",
      "f(4.0,4.0)=16.0 <-> net: 14.99\n"
     ]
    }
   ],
   "source": [
    "my_net1 = net1(2,100,1)\n",
    "learn(net=my_net1, nr_train_steps=20000)"
   ]
  },
  {
   "cell_type": "markdown",
   "id": "8e3df311-8f84-4892-b489-cd34144a65b7",
   "metadata": {},
   "source": [
    "# A network with other operations can learn to multiply"
   ]
  },
  {
   "cell_type": "markdown",
   "id": "52c5016e-bd8f-4dd7-8bd3-6127370e7d42",
   "metadata": {},
   "source": [
    "## Computing all multiplication variants of an input tensor"
   ]
  },
  {
   "cell_type": "code",
   "execution_count": 32,
   "id": "171ad335-0bd1-44da-a43c-fab72a8088df",
   "metadata": {},
   "outputs": [],
   "source": [
    "x = torch.tensor( [1,2,3], dtype=torch.float32 )"
   ]
  },
  {
   "cell_type": "code",
   "execution_count": 43,
   "id": "d779da61-b63a-41b5-b034-220334953f64",
   "metadata": {},
   "outputs": [
    {
     "data": {
      "text/plain": [
       "3"
      ]
     },
     "execution_count": 43,
     "metadata": {},
     "output_type": "execute_result"
    }
   ],
   "source": [
    "len(x)"
   ]
  },
  {
   "cell_type": "code",
   "execution_count": 33,
   "id": "ee600663-602d-496d-a1c9-11ae822716a4",
   "metadata": {},
   "outputs": [
    {
     "data": {
      "text/plain": [
       "tensor([2., 4., 6.])"
      ]
     },
     "execution_count": 33,
     "metadata": {},
     "output_type": "execute_result"
    }
   ],
   "source": [
    "x+x"
   ]
  },
  {
   "cell_type": "code",
   "execution_count": 34,
   "id": "ff78e3ed-3695-4549-a46e-13aec56e6f0f",
   "metadata": {},
   "outputs": [
    {
     "data": {
      "text/plain": [
       "tensor([1., 4., 9.])"
      ]
     },
     "execution_count": 34,
     "metadata": {},
     "output_type": "execute_result"
    }
   ],
   "source": [
    "x*x"
   ]
  },
  {
   "cell_type": "code",
   "execution_count": 35,
   "id": "1b481714-20ea-4d6d-b95f-c28118b72527",
   "metadata": {},
   "outputs": [
    {
     "data": {
      "text/plain": [
       "tensor([[1.],\n",
       "        [2.],\n",
       "        [3.]])"
      ]
     },
     "execution_count": 35,
     "metadata": {},
     "output_type": "execute_result"
    }
   ],
   "source": [
    "x.view(3,1)"
   ]
  },
  {
   "cell_type": "code",
   "execution_count": 36,
   "id": "6c7917d0-3180-4159-ab38-fbb5f9944892",
   "metadata": {},
   "outputs": [
    {
     "data": {
      "text/plain": [
       "tensor([[1., 2., 3.]])"
      ]
     },
     "execution_count": 36,
     "metadata": {},
     "output_type": "execute_result"
    }
   ],
   "source": [
    "x.view(1,3)"
   ]
  },
  {
   "cell_type": "code",
   "execution_count": 37,
   "id": "b7164b9f-152c-424c-bee5-b59fe46254a0",
   "metadata": {},
   "outputs": [
    {
     "data": {
      "text/plain": [
       "tensor([[1., 2., 3.],\n",
       "        [2., 4., 6.],\n",
       "        [3., 6., 9.]])"
      ]
     },
     "execution_count": 37,
     "metadata": {},
     "output_type": "execute_result"
    }
   ],
   "source": [
    "M = x.view(3,1) * x.view(1,3)\n",
    "M"
   ]
  },
  {
   "cell_type": "code",
   "execution_count": 38,
   "id": "693b7204-1caf-4c52-b854-0bb7d8dde8b6",
   "metadata": {},
   "outputs": [
    {
     "data": {
      "text/plain": [
       "tensor([1., 2., 3., 2., 4., 6., 3., 6., 9.])"
      ]
     },
     "execution_count": 38,
     "metadata": {},
     "output_type": "execute_result"
    }
   ],
   "source": [
    "M.flatten()"
   ]
  },
  {
   "cell_type": "code",
   "execution_count": 39,
   "id": "5c79748e-6c35-4500-9a32-fa99ac20c546",
   "metadata": {},
   "outputs": [],
   "source": [
    "l1 = torch.nn.Linear(3**2, 1)"
   ]
  },
  {
   "cell_type": "code",
   "execution_count": 40,
   "id": "e71fe32b-2884-404e-9045-f52e5df08532",
   "metadata": {},
   "outputs": [
    {
     "data": {
      "text/plain": [
       "Parameter containing:\n",
       "tensor([[-0.3292, -0.3246, -0.1632,  0.0691, -0.0321,  0.0693,  0.0673,  0.1723,\n",
       "         -0.2501]], requires_grad=True)"
      ]
     },
     "execution_count": 40,
     "metadata": {},
     "output_type": "execute_result"
    }
   ],
   "source": [
    "l1.weight"
   ]
  },
  {
   "cell_type": "code",
   "execution_count": 41,
   "id": "724ccb35-4d83-4a3d-b383-66650bd2e10f",
   "metadata": {},
   "outputs": [
    {
     "data": {
      "text/plain": [
       "tensor([-1.8811], grad_fn=<AddBackward0>)"
      ]
     },
     "execution_count": 41,
     "metadata": {},
     "output_type": "execute_result"
    }
   ],
   "source": [
    "l1( M.flatten() )"
   ]
  },
  {
   "cell_type": "code",
   "execution_count": 44,
   "id": "5480317e-7cc4-4288-b877-6ad96bc7cd54",
   "metadata": {},
   "outputs": [],
   "source": [
    "class net2(torch.nn.Module):\n",
    "    \n",
    "    def __init__(self, input_size):\n",
    "        \n",
    "        super().__init__()\n",
    "        self.layer1 = torch.nn.Linear(input_size, 1)\n",
    "        \n",
    "    def forward(self, x):\n",
    "        \n",
    "        N = len(x)\n",
    "                \n",
    "        M = x.view(N,1) * x.view(1,N)\n",
    "        M_flat = torch.flatten()\n",
    "        out = self.layer1( M_flat )\n",
    "        return out2"
   ]
  },
  {
   "cell_type": "code",
   "execution_count": null,
   "id": "bb9dcc41-05b3-4ef5-b0c4-205b05bce311",
   "metadata": {},
   "outputs": [],
   "source": []
  }
 ],
 "metadata": {
  "kernelspec": {
   "display_name": "Python 3 (ipykernel)",
   "language": "python",
   "name": "python3"
  },
  "language_info": {
   "codemirror_mode": {
    "name": "ipython",
    "version": 3
   },
   "file_extension": ".py",
   "mimetype": "text/x-python",
   "name": "python",
   "nbconvert_exporter": "python",
   "pygments_lexer": "ipython3",
   "version": "3.8.10"
  },
  "toc-autonumbering": true
 },
 "nbformat": 4,
 "nbformat_minor": 5
}
