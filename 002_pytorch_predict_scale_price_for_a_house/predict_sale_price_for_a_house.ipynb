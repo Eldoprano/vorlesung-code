{
 "cells": [
  {
   "cell_type": "markdown",
   "id": "b53adce6-5488-4f27-85d9-e9222b2d1c18",
   "metadata": {},
   "source": [
    "# Intro\n",
    "\n",
    "This notebook shows how to predict the sale price for a house using a neural network implemented with PyTorch."
   ]
  },
  {
   "cell_type": "markdown",
   "id": "80feff78-3af7-48a5-a938-3a71a60fa765",
   "metadata": {},
   "source": [
    "# Read in a dataset"
   ]
  },
  {
   "cell_type": "code",
   "execution_count": 1,
   "id": "fc041ff9-dd2e-46cf-a508-e9193fb4b36d",
   "metadata": {},
   "outputs": [],
   "source": [
    "import pandas\n",
    "t = pandas.read_csv(\"houses.csv\")"
   ]
  },
  {
   "cell_type": "code",
   "execution_count": 2,
   "id": "cbd395ae-02be-4c64-9464-7f79963945c3",
   "metadata": {},
   "outputs": [
    {
     "data": {
      "text/html": [
       "<div>\n",
       "<style scoped>\n",
       "    .dataframe tbody tr th:only-of-type {\n",
       "        vertical-align: middle;\n",
       "    }\n",
       "\n",
       "    .dataframe tbody tr th {\n",
       "        vertical-align: top;\n",
       "    }\n",
       "\n",
       "    .dataframe thead th {\n",
       "        text-align: right;\n",
       "    }\n",
       "</style>\n",
       "<table border=\"1\" class=\"dataframe\">\n",
       "  <thead>\n",
       "    <tr style=\"text-align: right;\">\n",
       "      <th></th>\n",
       "      <th>Id</th>\n",
       "      <th>MSSubClass</th>\n",
       "      <th>MSZoning</th>\n",
       "      <th>LotFrontage</th>\n",
       "      <th>LotArea</th>\n",
       "      <th>Street</th>\n",
       "      <th>Alley</th>\n",
       "      <th>LotShape</th>\n",
       "      <th>LandContour</th>\n",
       "      <th>Utilities</th>\n",
       "      <th>...</th>\n",
       "      <th>PoolArea</th>\n",
       "      <th>PoolQC</th>\n",
       "      <th>Fence</th>\n",
       "      <th>MiscFeature</th>\n",
       "      <th>MiscVal</th>\n",
       "      <th>MoSold</th>\n",
       "      <th>YrSold</th>\n",
       "      <th>SaleType</th>\n",
       "      <th>SaleCondition</th>\n",
       "      <th>SalePrice</th>\n",
       "    </tr>\n",
       "  </thead>\n",
       "  <tbody>\n",
       "    <tr>\n",
       "      <th>0</th>\n",
       "      <td>1</td>\n",
       "      <td>60</td>\n",
       "      <td>RL</td>\n",
       "      <td>65.0</td>\n",
       "      <td>8450</td>\n",
       "      <td>Pave</td>\n",
       "      <td>NaN</td>\n",
       "      <td>Reg</td>\n",
       "      <td>Lvl</td>\n",
       "      <td>AllPub</td>\n",
       "      <td>...</td>\n",
       "      <td>0</td>\n",
       "      <td>NaN</td>\n",
       "      <td>NaN</td>\n",
       "      <td>NaN</td>\n",
       "      <td>0</td>\n",
       "      <td>2</td>\n",
       "      <td>2008</td>\n",
       "      <td>WD</td>\n",
       "      <td>Normal</td>\n",
       "      <td>208500</td>\n",
       "    </tr>\n",
       "    <tr>\n",
       "      <th>1</th>\n",
       "      <td>2</td>\n",
       "      <td>20</td>\n",
       "      <td>RL</td>\n",
       "      <td>80.0</td>\n",
       "      <td>9600</td>\n",
       "      <td>Pave</td>\n",
       "      <td>NaN</td>\n",
       "      <td>Reg</td>\n",
       "      <td>Lvl</td>\n",
       "      <td>AllPub</td>\n",
       "      <td>...</td>\n",
       "      <td>0</td>\n",
       "      <td>NaN</td>\n",
       "      <td>NaN</td>\n",
       "      <td>NaN</td>\n",
       "      <td>0</td>\n",
       "      <td>5</td>\n",
       "      <td>2007</td>\n",
       "      <td>WD</td>\n",
       "      <td>Normal</td>\n",
       "      <td>181500</td>\n",
       "    </tr>\n",
       "    <tr>\n",
       "      <th>2</th>\n",
       "      <td>3</td>\n",
       "      <td>60</td>\n",
       "      <td>RL</td>\n",
       "      <td>68.0</td>\n",
       "      <td>11250</td>\n",
       "      <td>Pave</td>\n",
       "      <td>NaN</td>\n",
       "      <td>IR1</td>\n",
       "      <td>Lvl</td>\n",
       "      <td>AllPub</td>\n",
       "      <td>...</td>\n",
       "      <td>0</td>\n",
       "      <td>NaN</td>\n",
       "      <td>NaN</td>\n",
       "      <td>NaN</td>\n",
       "      <td>0</td>\n",
       "      <td>9</td>\n",
       "      <td>2008</td>\n",
       "      <td>WD</td>\n",
       "      <td>Normal</td>\n",
       "      <td>223500</td>\n",
       "    </tr>\n",
       "    <tr>\n",
       "      <th>3</th>\n",
       "      <td>4</td>\n",
       "      <td>70</td>\n",
       "      <td>RL</td>\n",
       "      <td>60.0</td>\n",
       "      <td>9550</td>\n",
       "      <td>Pave</td>\n",
       "      <td>NaN</td>\n",
       "      <td>IR1</td>\n",
       "      <td>Lvl</td>\n",
       "      <td>AllPub</td>\n",
       "      <td>...</td>\n",
       "      <td>0</td>\n",
       "      <td>NaN</td>\n",
       "      <td>NaN</td>\n",
       "      <td>NaN</td>\n",
       "      <td>0</td>\n",
       "      <td>2</td>\n",
       "      <td>2006</td>\n",
       "      <td>WD</td>\n",
       "      <td>Abnorml</td>\n",
       "      <td>140000</td>\n",
       "    </tr>\n",
       "    <tr>\n",
       "      <th>4</th>\n",
       "      <td>5</td>\n",
       "      <td>60</td>\n",
       "      <td>RL</td>\n",
       "      <td>84.0</td>\n",
       "      <td>14260</td>\n",
       "      <td>Pave</td>\n",
       "      <td>NaN</td>\n",
       "      <td>IR1</td>\n",
       "      <td>Lvl</td>\n",
       "      <td>AllPub</td>\n",
       "      <td>...</td>\n",
       "      <td>0</td>\n",
       "      <td>NaN</td>\n",
       "      <td>NaN</td>\n",
       "      <td>NaN</td>\n",
       "      <td>0</td>\n",
       "      <td>12</td>\n",
       "      <td>2008</td>\n",
       "      <td>WD</td>\n",
       "      <td>Normal</td>\n",
       "      <td>250000</td>\n",
       "    </tr>\n",
       "    <tr>\n",
       "      <th>...</th>\n",
       "      <td>...</td>\n",
       "      <td>...</td>\n",
       "      <td>...</td>\n",
       "      <td>...</td>\n",
       "      <td>...</td>\n",
       "      <td>...</td>\n",
       "      <td>...</td>\n",
       "      <td>...</td>\n",
       "      <td>...</td>\n",
       "      <td>...</td>\n",
       "      <td>...</td>\n",
       "      <td>...</td>\n",
       "      <td>...</td>\n",
       "      <td>...</td>\n",
       "      <td>...</td>\n",
       "      <td>...</td>\n",
       "      <td>...</td>\n",
       "      <td>...</td>\n",
       "      <td>...</td>\n",
       "      <td>...</td>\n",
       "      <td>...</td>\n",
       "    </tr>\n",
       "    <tr>\n",
       "      <th>1455</th>\n",
       "      <td>1456</td>\n",
       "      <td>60</td>\n",
       "      <td>RL</td>\n",
       "      <td>62.0</td>\n",
       "      <td>7917</td>\n",
       "      <td>Pave</td>\n",
       "      <td>NaN</td>\n",
       "      <td>Reg</td>\n",
       "      <td>Lvl</td>\n",
       "      <td>AllPub</td>\n",
       "      <td>...</td>\n",
       "      <td>0</td>\n",
       "      <td>NaN</td>\n",
       "      <td>NaN</td>\n",
       "      <td>NaN</td>\n",
       "      <td>0</td>\n",
       "      <td>8</td>\n",
       "      <td>2007</td>\n",
       "      <td>WD</td>\n",
       "      <td>Normal</td>\n",
       "      <td>175000</td>\n",
       "    </tr>\n",
       "    <tr>\n",
       "      <th>1456</th>\n",
       "      <td>1457</td>\n",
       "      <td>20</td>\n",
       "      <td>RL</td>\n",
       "      <td>85.0</td>\n",
       "      <td>13175</td>\n",
       "      <td>Pave</td>\n",
       "      <td>NaN</td>\n",
       "      <td>Reg</td>\n",
       "      <td>Lvl</td>\n",
       "      <td>AllPub</td>\n",
       "      <td>...</td>\n",
       "      <td>0</td>\n",
       "      <td>NaN</td>\n",
       "      <td>MnPrv</td>\n",
       "      <td>NaN</td>\n",
       "      <td>0</td>\n",
       "      <td>2</td>\n",
       "      <td>2010</td>\n",
       "      <td>WD</td>\n",
       "      <td>Normal</td>\n",
       "      <td>210000</td>\n",
       "    </tr>\n",
       "    <tr>\n",
       "      <th>1457</th>\n",
       "      <td>1458</td>\n",
       "      <td>70</td>\n",
       "      <td>RL</td>\n",
       "      <td>66.0</td>\n",
       "      <td>9042</td>\n",
       "      <td>Pave</td>\n",
       "      <td>NaN</td>\n",
       "      <td>Reg</td>\n",
       "      <td>Lvl</td>\n",
       "      <td>AllPub</td>\n",
       "      <td>...</td>\n",
       "      <td>0</td>\n",
       "      <td>NaN</td>\n",
       "      <td>GdPrv</td>\n",
       "      <td>Shed</td>\n",
       "      <td>2500</td>\n",
       "      <td>5</td>\n",
       "      <td>2010</td>\n",
       "      <td>WD</td>\n",
       "      <td>Normal</td>\n",
       "      <td>266500</td>\n",
       "    </tr>\n",
       "    <tr>\n",
       "      <th>1458</th>\n",
       "      <td>1459</td>\n",
       "      <td>20</td>\n",
       "      <td>RL</td>\n",
       "      <td>68.0</td>\n",
       "      <td>9717</td>\n",
       "      <td>Pave</td>\n",
       "      <td>NaN</td>\n",
       "      <td>Reg</td>\n",
       "      <td>Lvl</td>\n",
       "      <td>AllPub</td>\n",
       "      <td>...</td>\n",
       "      <td>0</td>\n",
       "      <td>NaN</td>\n",
       "      <td>NaN</td>\n",
       "      <td>NaN</td>\n",
       "      <td>0</td>\n",
       "      <td>4</td>\n",
       "      <td>2010</td>\n",
       "      <td>WD</td>\n",
       "      <td>Normal</td>\n",
       "      <td>142125</td>\n",
       "    </tr>\n",
       "    <tr>\n",
       "      <th>1459</th>\n",
       "      <td>1460</td>\n",
       "      <td>20</td>\n",
       "      <td>RL</td>\n",
       "      <td>75.0</td>\n",
       "      <td>9937</td>\n",
       "      <td>Pave</td>\n",
       "      <td>NaN</td>\n",
       "      <td>Reg</td>\n",
       "      <td>Lvl</td>\n",
       "      <td>AllPub</td>\n",
       "      <td>...</td>\n",
       "      <td>0</td>\n",
       "      <td>NaN</td>\n",
       "      <td>NaN</td>\n",
       "      <td>NaN</td>\n",
       "      <td>0</td>\n",
       "      <td>6</td>\n",
       "      <td>2008</td>\n",
       "      <td>WD</td>\n",
       "      <td>Normal</td>\n",
       "      <td>147500</td>\n",
       "    </tr>\n",
       "  </tbody>\n",
       "</table>\n",
       "<p>1460 rows × 81 columns</p>\n",
       "</div>"
      ],
      "text/plain": [
       "        Id  MSSubClass MSZoning  LotFrontage  LotArea Street Alley LotShape  \\\n",
       "0        1          60       RL         65.0     8450   Pave   NaN      Reg   \n",
       "1        2          20       RL         80.0     9600   Pave   NaN      Reg   \n",
       "2        3          60       RL         68.0    11250   Pave   NaN      IR1   \n",
       "3        4          70       RL         60.0     9550   Pave   NaN      IR1   \n",
       "4        5          60       RL         84.0    14260   Pave   NaN      IR1   \n",
       "...    ...         ...      ...          ...      ...    ...   ...      ...   \n",
       "1455  1456          60       RL         62.0     7917   Pave   NaN      Reg   \n",
       "1456  1457          20       RL         85.0    13175   Pave   NaN      Reg   \n",
       "1457  1458          70       RL         66.0     9042   Pave   NaN      Reg   \n",
       "1458  1459          20       RL         68.0     9717   Pave   NaN      Reg   \n",
       "1459  1460          20       RL         75.0     9937   Pave   NaN      Reg   \n",
       "\n",
       "     LandContour Utilities  ... PoolArea PoolQC  Fence MiscFeature MiscVal  \\\n",
       "0            Lvl    AllPub  ...        0    NaN    NaN         NaN       0   \n",
       "1            Lvl    AllPub  ...        0    NaN    NaN         NaN       0   \n",
       "2            Lvl    AllPub  ...        0    NaN    NaN         NaN       0   \n",
       "3            Lvl    AllPub  ...        0    NaN    NaN         NaN       0   \n",
       "4            Lvl    AllPub  ...        0    NaN    NaN         NaN       0   \n",
       "...          ...       ...  ...      ...    ...    ...         ...     ...   \n",
       "1455         Lvl    AllPub  ...        0    NaN    NaN         NaN       0   \n",
       "1456         Lvl    AllPub  ...        0    NaN  MnPrv         NaN       0   \n",
       "1457         Lvl    AllPub  ...        0    NaN  GdPrv        Shed    2500   \n",
       "1458         Lvl    AllPub  ...        0    NaN    NaN         NaN       0   \n",
       "1459         Lvl    AllPub  ...        0    NaN    NaN         NaN       0   \n",
       "\n",
       "     MoSold YrSold  SaleType  SaleCondition  SalePrice  \n",
       "0         2   2008        WD         Normal     208500  \n",
       "1         5   2007        WD         Normal     181500  \n",
       "2         9   2008        WD         Normal     223500  \n",
       "3         2   2006        WD        Abnorml     140000  \n",
       "4        12   2008        WD         Normal     250000  \n",
       "...     ...    ...       ...            ...        ...  \n",
       "1455      8   2007        WD         Normal     175000  \n",
       "1456      2   2010        WD         Normal     210000  \n",
       "1457      5   2010        WD         Normal     266500  \n",
       "1458      4   2010        WD         Normal     142125  \n",
       "1459      6   2008        WD         Normal     147500  \n",
       "\n",
       "[1460 rows x 81 columns]"
      ]
     },
     "execution_count": 2,
     "metadata": {},
     "output_type": "execute_result"
    }
   ],
   "source": [
    "t"
   ]
  },
  {
   "cell_type": "markdown",
   "id": "ec162350-be65-44ad-954b-6b500897b826",
   "metadata": {},
   "source": [
    "# Prepare example data"
   ]
  },
  {
   "cell_type": "code",
   "execution_count": 3,
   "id": "f83d9660-04d7-4d28-8bc2-d47ec4c29eca",
   "metadata": {},
   "outputs": [],
   "source": [
    "x = t[ [\"LotArea\", \"OverallQual\", \"YearBuilt\" ]]"
   ]
  },
  {
   "cell_type": "code",
   "execution_count": 4,
   "id": "5c47a1e6-847a-4d9d-a10a-b4891956a480",
   "metadata": {},
   "outputs": [
    {
     "data": {
      "text/html": [
       "<div>\n",
       "<style scoped>\n",
       "    .dataframe tbody tr th:only-of-type {\n",
       "        vertical-align: middle;\n",
       "    }\n",
       "\n",
       "    .dataframe tbody tr th {\n",
       "        vertical-align: top;\n",
       "    }\n",
       "\n",
       "    .dataframe thead th {\n",
       "        text-align: right;\n",
       "    }\n",
       "</style>\n",
       "<table border=\"1\" class=\"dataframe\">\n",
       "  <thead>\n",
       "    <tr style=\"text-align: right;\">\n",
       "      <th></th>\n",
       "      <th>LotArea</th>\n",
       "      <th>OverallQual</th>\n",
       "      <th>YearBuilt</th>\n",
       "    </tr>\n",
       "  </thead>\n",
       "  <tbody>\n",
       "    <tr>\n",
       "      <th>0</th>\n",
       "      <td>8450</td>\n",
       "      <td>7</td>\n",
       "      <td>2003</td>\n",
       "    </tr>\n",
       "    <tr>\n",
       "      <th>1</th>\n",
       "      <td>9600</td>\n",
       "      <td>6</td>\n",
       "      <td>1976</td>\n",
       "    </tr>\n",
       "    <tr>\n",
       "      <th>2</th>\n",
       "      <td>11250</td>\n",
       "      <td>7</td>\n",
       "      <td>2001</td>\n",
       "    </tr>\n",
       "    <tr>\n",
       "      <th>3</th>\n",
       "      <td>9550</td>\n",
       "      <td>7</td>\n",
       "      <td>1915</td>\n",
       "    </tr>\n",
       "    <tr>\n",
       "      <th>4</th>\n",
       "      <td>14260</td>\n",
       "      <td>8</td>\n",
       "      <td>2000</td>\n",
       "    </tr>\n",
       "    <tr>\n",
       "      <th>...</th>\n",
       "      <td>...</td>\n",
       "      <td>...</td>\n",
       "      <td>...</td>\n",
       "    </tr>\n",
       "    <tr>\n",
       "      <th>1455</th>\n",
       "      <td>7917</td>\n",
       "      <td>6</td>\n",
       "      <td>1999</td>\n",
       "    </tr>\n",
       "    <tr>\n",
       "      <th>1456</th>\n",
       "      <td>13175</td>\n",
       "      <td>6</td>\n",
       "      <td>1978</td>\n",
       "    </tr>\n",
       "    <tr>\n",
       "      <th>1457</th>\n",
       "      <td>9042</td>\n",
       "      <td>7</td>\n",
       "      <td>1941</td>\n",
       "    </tr>\n",
       "    <tr>\n",
       "      <th>1458</th>\n",
       "      <td>9717</td>\n",
       "      <td>5</td>\n",
       "      <td>1950</td>\n",
       "    </tr>\n",
       "    <tr>\n",
       "      <th>1459</th>\n",
       "      <td>9937</td>\n",
       "      <td>5</td>\n",
       "      <td>1965</td>\n",
       "    </tr>\n",
       "  </tbody>\n",
       "</table>\n",
       "<p>1460 rows × 3 columns</p>\n",
       "</div>"
      ],
      "text/plain": [
       "      LotArea  OverallQual  YearBuilt\n",
       "0        8450            7       2003\n",
       "1        9600            6       1976\n",
       "2       11250            7       2001\n",
       "3        9550            7       1915\n",
       "4       14260            8       2000\n",
       "...       ...          ...        ...\n",
       "1455     7917            6       1999\n",
       "1456    13175            6       1978\n",
       "1457     9042            7       1941\n",
       "1458     9717            5       1950\n",
       "1459     9937            5       1965\n",
       "\n",
       "[1460 rows x 3 columns]"
      ]
     },
     "execution_count": 4,
     "metadata": {},
     "output_type": "execute_result"
    }
   ],
   "source": [
    "x"
   ]
  },
  {
   "cell_type": "code",
   "execution_count": 5,
   "id": "5a824192-3ce9-4b44-99f6-a11be636d696",
   "metadata": {},
   "outputs": [],
   "source": [
    "y = t[ [\"SalePrice\"] ]"
   ]
  },
  {
   "cell_type": "code",
   "execution_count": 6,
   "id": "c9c352a5-af4c-4e7a-841b-26070e0af813",
   "metadata": {},
   "outputs": [
    {
     "data": {
      "text/html": [
       "<div>\n",
       "<style scoped>\n",
       "    .dataframe tbody tr th:only-of-type {\n",
       "        vertical-align: middle;\n",
       "    }\n",
       "\n",
       "    .dataframe tbody tr th {\n",
       "        vertical-align: top;\n",
       "    }\n",
       "\n",
       "    .dataframe thead th {\n",
       "        text-align: right;\n",
       "    }\n",
       "</style>\n",
       "<table border=\"1\" class=\"dataframe\">\n",
       "  <thead>\n",
       "    <tr style=\"text-align: right;\">\n",
       "      <th></th>\n",
       "      <th>SalePrice</th>\n",
       "    </tr>\n",
       "  </thead>\n",
       "  <tbody>\n",
       "    <tr>\n",
       "      <th>0</th>\n",
       "      <td>208500</td>\n",
       "    </tr>\n",
       "    <tr>\n",
       "      <th>1</th>\n",
       "      <td>181500</td>\n",
       "    </tr>\n",
       "    <tr>\n",
       "      <th>2</th>\n",
       "      <td>223500</td>\n",
       "    </tr>\n",
       "    <tr>\n",
       "      <th>3</th>\n",
       "      <td>140000</td>\n",
       "    </tr>\n",
       "    <tr>\n",
       "      <th>4</th>\n",
       "      <td>250000</td>\n",
       "    </tr>\n",
       "    <tr>\n",
       "      <th>...</th>\n",
       "      <td>...</td>\n",
       "    </tr>\n",
       "    <tr>\n",
       "      <th>1455</th>\n",
       "      <td>175000</td>\n",
       "    </tr>\n",
       "    <tr>\n",
       "      <th>1456</th>\n",
       "      <td>210000</td>\n",
       "    </tr>\n",
       "    <tr>\n",
       "      <th>1457</th>\n",
       "      <td>266500</td>\n",
       "    </tr>\n",
       "    <tr>\n",
       "      <th>1458</th>\n",
       "      <td>142125</td>\n",
       "    </tr>\n",
       "    <tr>\n",
       "      <th>1459</th>\n",
       "      <td>147500</td>\n",
       "    </tr>\n",
       "  </tbody>\n",
       "</table>\n",
       "<p>1460 rows × 1 columns</p>\n",
       "</div>"
      ],
      "text/plain": [
       "      SalePrice\n",
       "0        208500\n",
       "1        181500\n",
       "2        223500\n",
       "3        140000\n",
       "4        250000\n",
       "...         ...\n",
       "1455     175000\n",
       "1456     210000\n",
       "1457     266500\n",
       "1458     142125\n",
       "1459     147500\n",
       "\n",
       "[1460 rows x 1 columns]"
      ]
     },
     "execution_count": 6,
     "metadata": {},
     "output_type": "execute_result"
    }
   ],
   "source": [
    "y"
   ]
  },
  {
   "cell_type": "markdown",
   "id": "c0ef7030-0032-451a-b36d-43a9024d60c6",
   "metadata": {},
   "source": [
    "# Scale example data"
   ]
  },
  {
   "cell_type": "markdown",
   "id": "58bca7c2-ccc1-4d11-ba48-230a4ddc0b12",
   "metadata": {},
   "source": [
    "Check whether scikit-learn is installed:"
   ]
  },
  {
   "cell_type": "code",
   "execution_count": 7,
   "id": "421cdaf4-ca00-4a24-83db-5ea9df0a0237",
   "metadata": {},
   "outputs": [
    {
     "name": "stdout",
     "output_type": "stream",
     "text": [
      "scikit-learn                 1.0.2\n"
     ]
    }
   ],
   "source": [
    "!pip list | grep learn"
   ]
  },
  {
   "cell_type": "code",
   "execution_count": 8,
   "id": "ebb24dc5-e818-4cc6-b4f0-bc5ef6aa9a7b",
   "metadata": {},
   "outputs": [],
   "source": [
    "from sklearn.preprocessing import MinMaxScaler\n",
    "x_scaler = MinMaxScaler()\n",
    "y_scaler  = MinMaxScaler()\n",
    "x_scaled = x_scaler.fit_transform( x )\n",
    "y_scaled = y_scaler.fit_transform( y )"
   ]
  },
  {
   "cell_type": "code",
   "execution_count": 9,
   "id": "fb3373b8-8bf9-4a54-884e-d8d756b8807c",
   "metadata": {},
   "outputs": [
    {
     "data": {
      "text/plain": [
       "array([[0.0334198 , 0.66666667, 0.94927536],\n",
       "       [0.03879502, 0.55555556, 0.75362319],\n",
       "       [0.04650728, 0.66666667, 0.93478261],\n",
       "       ...,\n",
       "       [0.03618687, 0.66666667, 0.5       ],\n",
       "       [0.03934189, 0.44444444, 0.56521739],\n",
       "       [0.04037019, 0.44444444, 0.67391304]])"
      ]
     },
     "execution_count": 9,
     "metadata": {},
     "output_type": "execute_result"
    }
   ],
   "source": [
    "x_scaled"
   ]
  },
  {
   "cell_type": "code",
   "execution_count": 10,
   "id": "b90e5590-b9ad-403d-bbc2-264ef489c84c",
   "metadata": {},
   "outputs": [
    {
     "data": {
      "text/plain": [
       "array([[0.24107763],\n",
       "       [0.20358284],\n",
       "       [0.26190807],\n",
       "       ...,\n",
       "       [0.321622  ],\n",
       "       [0.14890293],\n",
       "       [0.15636717]])"
      ]
     },
     "execution_count": 10,
     "metadata": {},
     "output_type": "execute_result"
    }
   ],
   "source": [
    "y_scaled"
   ]
  },
  {
   "cell_type": "markdown",
   "id": "3e2ae731-fcb6-4ddc-b330-d96fdd495501",
   "metadata": {},
   "source": [
    "# Split example data into train and test data"
   ]
  },
  {
   "cell_type": "code",
   "execution_count": 11,
   "id": "713d36b3-0e21-4ca4-a97d-e07c06fcc9fd",
   "metadata": {},
   "outputs": [],
   "source": [
    "nr_train_samples = 1000\n",
    "\n",
    "x_train = x_scaled[:nr_train_samples]\n",
    "y_train = y_scaled[:nr_train_samples]\n",
    "\n",
    "x_test = x_scaled[nr_train_samples:]\n",
    "y_test = y_scaled[nr_train_samples:]"
   ]
  },
  {
   "cell_type": "code",
   "execution_count": 12,
   "id": "ab9de0b7-11ec-423d-a54c-cdcda833428d",
   "metadata": {},
   "outputs": [
    {
     "data": {
      "text/plain": [
       "(1000, 3)"
      ]
     },
     "execution_count": 12,
     "metadata": {},
     "output_type": "execute_result"
    }
   ],
   "source": [
    "x_train.shape"
   ]
  },
  {
   "cell_type": "code",
   "execution_count": 13,
   "id": "d2f8d370-9bf9-4f52-9519-06118a9f1ed2",
   "metadata": {},
   "outputs": [
    {
     "data": {
      "text/plain": [
       "(460, 3)"
      ]
     },
     "execution_count": 13,
     "metadata": {},
     "output_type": "execute_result"
    }
   ],
   "source": [
    "x_test.shape"
   ]
  },
  {
   "cell_type": "code",
   "execution_count": 14,
   "id": "879ee2b6-d155-4920-914c-5618bcaa7fc8",
   "metadata": {},
   "outputs": [
    {
     "data": {
      "text/plain": [
       "(1000, 1)"
      ]
     },
     "execution_count": 14,
     "metadata": {},
     "output_type": "execute_result"
    }
   ],
   "source": [
    "y_train.shape"
   ]
  },
  {
   "cell_type": "code",
   "execution_count": 15,
   "id": "31782f08-79b0-48bf-abbb-3d039d1e5ac8",
   "metadata": {},
   "outputs": [
    {
     "data": {
      "text/plain": [
       "(460, 1)"
      ]
     },
     "execution_count": 15,
     "metadata": {},
     "output_type": "execute_result"
    }
   ],
   "source": [
    "y_test.shape"
   ]
  },
  {
   "cell_type": "code",
   "execution_count": 16,
   "id": "a1ab3472-0530-49ed-be48-90c856d75d87",
   "metadata": {},
   "outputs": [
    {
     "name": "stdout",
     "output_type": "stream",
     "text": [
      "One training example\n",
      "[0.0334198  0.66666667 0.94927536] --> [0.24107763]\n"
     ]
    }
   ],
   "source": [
    "print(\"One training example\")\n",
    "print( f\"{x_train[0]} --> {y_train[0]}\" )"
   ]
  },
  {
   "cell_type": "markdown",
   "id": "75959d92-596e-4ba8-ba4e-6b245c1ad05e",
   "metadata": {},
   "source": [
    "# Prepare a neural network class using PyTorch"
   ]
  },
  {
   "cell_type": "code",
   "execution_count": 17,
   "id": "74edd583-6cc1-455f-a7b4-4ee3091ded72",
   "metadata": {},
   "outputs": [],
   "source": [
    "# Import libraries\n",
    "import torch\n",
    "import torch.nn as nn\n",
    "import torch.nn.functional as F\n",
    "import torch.optim as optim\n",
    "\n",
    "\n",
    "# Define a neural net\n",
    "class NeuralNet(nn.Module):\n",
    "    def __init__(self):\n",
    "        super().__init__()\n",
    "        \n",
    "        # note: order of generated layers here does not matter!       \n",
    "        # it is the order of layers in forward() that does matter.\n",
    "        # see: https://discuss.pytorch.org/t/can-i-change-the-order-of-layers-in-init/105027:\n",
    "        #\n",
    "        #  \"It doesn’t matter. forward is which defines the real order. \n",
    "        #   The only difference is they will be displayed differently \n",
    "        #   when you print the model or save it.\"\n",
    "        #\n",
    "        self.fc1 = nn.Linear(3, 20)\n",
    "        self.actfunc = torch.nn.ReLU()\n",
    "        #self.actfunc = torch.nn.Sigmoid()\n",
    "        self.fc2 = nn.Linear(20, 1)        \n",
    "\n",
    "    def forward(self, input_vec):\n",
    "        x = self.fc1(input_vec)\n",
    "        x = self.actfunc(x)\n",
    "        x = self.fc2(x)\n",
    "        return x"
   ]
  },
  {
   "cell_type": "code",
   "execution_count": 18,
   "id": "73c23253-2a3c-4263-9753-84f3efab08c9",
   "metadata": {},
   "outputs": [],
   "source": [
    "net = NeuralNet()"
   ]
  },
  {
   "cell_type": "code",
   "execution_count": 19,
   "id": "08e3fedd-afe5-4020-b710-82cee00e709a",
   "metadata": {},
   "outputs": [
    {
     "data": {
      "text/plain": [
       "__main__.NeuralNet"
      ]
     },
     "execution_count": 19,
     "metadata": {},
     "output_type": "execute_result"
    }
   ],
   "source": [
    "type(net)"
   ]
  },
  {
   "cell_type": "code",
   "execution_count": 20,
   "id": "0b676bac-15cc-4be9-9df9-1240849b9148",
   "metadata": {},
   "outputs": [
    {
     "name": "stdout",
     "output_type": "stream",
     "text": [
      "NeuralNet(\n",
      "  (fc1): Linear(in_features=3, out_features=20, bias=True)\n",
      "  (actfunc): ReLU()\n",
      "  (fc2): Linear(in_features=20, out_features=1, bias=True)\n",
      ")\n"
     ]
    }
   ],
   "source": [
    "print(net)"
   ]
  },
  {
   "cell_type": "code",
   "execution_count": 21,
   "id": "70239fc2-c502-4ab7-8266-4fbc52465ce8",
   "metadata": {},
   "outputs": [
    {
     "data": {
      "text/plain": [
       "torch.nn.modules.linear.Linear"
      ]
     },
     "execution_count": 21,
     "metadata": {},
     "output_type": "execute_result"
    }
   ],
   "source": [
    "type( net.fc1 )"
   ]
  },
  {
   "cell_type": "markdown",
   "id": "68fff61b-8910-4330-9c0e-d96f87959b3b",
   "metadata": {},
   "source": [
    "# Get the weights for one layer"
   ]
  },
  {
   "cell_type": "code",
   "execution_count": 22,
   "id": "b91b6174-f4dd-4c75-a034-d5f3b62345d0",
   "metadata": {},
   "outputs": [
    {
     "data": {
      "text/plain": [
       "torch.nn.parameter.Parameter"
      ]
     },
     "execution_count": 22,
     "metadata": {},
     "output_type": "execute_result"
    }
   ],
   "source": [
    "type(net.fc1.weight)"
   ]
  },
  {
   "cell_type": "code",
   "execution_count": 23,
   "id": "28d28ac5-6df2-449e-9191-2aa6e9182c69",
   "metadata": {},
   "outputs": [
    {
     "data": {
      "text/plain": [
       "Parameter containing:\n",
       "tensor([[-0.3598,  0.2796, -0.3197],\n",
       "        [-0.0288,  0.4129,  0.2385],\n",
       "        [-0.5363, -0.4216,  0.0312],\n",
       "        [-0.1906, -0.5004,  0.2271],\n",
       "        [-0.3826,  0.3803,  0.0006],\n",
       "        [-0.4599,  0.3380,  0.1384],\n",
       "        [-0.5225, -0.1625,  0.2092],\n",
       "        [-0.2642, -0.2497,  0.1957],\n",
       "        [-0.2964,  0.5148, -0.2456],\n",
       "        [ 0.3415,  0.4672,  0.1179],\n",
       "        [ 0.4568,  0.2792,  0.5315],\n",
       "        [-0.1179,  0.2690,  0.1200],\n",
       "        [ 0.0164,  0.0041, -0.1546],\n",
       "        [-0.4405,  0.0190, -0.3462],\n",
       "        [ 0.5549, -0.4905,  0.0051],\n",
       "        [-0.5723,  0.0687, -0.3790],\n",
       "        [ 0.3029, -0.2273,  0.5474],\n",
       "        [-0.5167,  0.1080,  0.3329],\n",
       "        [-0.3088,  0.2421,  0.3884],\n",
       "        [-0.0713,  0.0149,  0.1276]], requires_grad=True)"
      ]
     },
     "execution_count": 23,
     "metadata": {},
     "output_type": "execute_result"
    }
   ],
   "source": [
    "net.fc1.weight"
   ]
  },
  {
   "cell_type": "code",
   "execution_count": 24,
   "id": "125498e5-24ce-48e6-bb9a-4bbce5456e5a",
   "metadata": {},
   "outputs": [
    {
     "data": {
      "text/plain": [
       "torch.float32"
      ]
     },
     "execution_count": 24,
     "metadata": {},
     "output_type": "execute_result"
    }
   ],
   "source": [
    "net.fc1.weight.dtype"
   ]
  },
  {
   "cell_type": "code",
   "execution_count": 25,
   "id": "54791cab-9c72-4645-8745-9e5688b6799d",
   "metadata": {},
   "outputs": [
    {
     "data": {
      "text/plain": [
       "Parameter containing:\n",
       "tensor([ 0.0953,  0.2083, -0.1617,  0.1048,  0.0434,  0.2894, -0.0384,  0.1766,\n",
       "         0.1314, -0.4130, -0.1133,  0.0292, -0.0603, -0.3857,  0.0229, -0.2495,\n",
       "         0.1515, -0.0916, -0.0052,  0.5115], requires_grad=True)"
      ]
     },
     "execution_count": 25,
     "metadata": {},
     "output_type": "execute_result"
    }
   ],
   "source": [
    "net.fc1.bias"
   ]
  },
  {
   "cell_type": "code",
   "execution_count": 26,
   "id": "b405a34a-0cbe-431d-84cc-3197ebf59f9a",
   "metadata": {},
   "outputs": [
    {
     "data": {
      "text/plain": [
       "torch.float32"
      ]
     },
     "execution_count": 26,
     "metadata": {},
     "output_type": "execute_result"
    }
   ],
   "source": [
    "net.fc1.bias.dtype"
   ]
  },
  {
   "cell_type": "code",
   "execution_count": 27,
   "id": "8d445a13-6d14-4f81-9ec8-450ac5505006",
   "metadata": {},
   "outputs": [
    {
     "name": "stdout",
     "output_type": "stream",
     "text": [
      "Parameter containing:\n",
      "tensor([[-0.3598,  0.2796, -0.3197],\n",
      "        [-0.0288,  0.4129,  0.2385],\n",
      "        [-0.5363, -0.4216,  0.0312],\n",
      "        [-0.1906, -0.5004,  0.2271],\n",
      "        [-0.3826,  0.3803,  0.0006],\n",
      "        [-0.4599,  0.3380,  0.1384],\n",
      "        [-0.5225, -0.1625,  0.2092],\n",
      "        [-0.2642, -0.2497,  0.1957],\n",
      "        [-0.2964,  0.5148, -0.2456],\n",
      "        [ 0.3415,  0.4672,  0.1179],\n",
      "        [ 0.4568,  0.2792,  0.5315],\n",
      "        [-0.1179,  0.2690,  0.1200],\n",
      "        [ 0.0164,  0.0041, -0.1546],\n",
      "        [-0.4405,  0.0190, -0.3462],\n",
      "        [ 0.5549, -0.4905,  0.0051],\n",
      "        [-0.5723,  0.0687, -0.3790],\n",
      "        [ 0.3029, -0.2273,  0.5474],\n",
      "        [-0.5167,  0.1080,  0.3329],\n",
      "        [-0.3088,  0.2421,  0.3884],\n",
      "        [-0.0713,  0.0149,  0.1276]], requires_grad=True)\n",
      "Parameter containing:\n",
      "tensor([ 0.0953,  0.2083, -0.1617,  0.1048,  0.0434,  0.2894, -0.0384,  0.1766,\n",
      "         0.1314, -0.4130, -0.1133,  0.0292, -0.0603, -0.3857,  0.0229, -0.2495,\n",
      "         0.1515, -0.0916, -0.0052,  0.5115], requires_grad=True)\n"
     ]
    }
   ],
   "source": [
    "for parameter in net.fc1.parameters():\n",
    "    print(parameter)"
   ]
  },
  {
   "cell_type": "markdown",
   "id": "d90f4e76-4f1a-4965-a59c-300db73c5cc3",
   "metadata": {},
   "source": [
    "# Feed forward one input vector"
   ]
  },
  {
   "cell_type": "code",
   "execution_count": 28,
   "id": "47ba01f3-4a38-4c77-b57e-aa1f2ab797e6",
   "metadata": {},
   "outputs": [],
   "source": [
    "input_vec = torch.tensor( [1.0,  0.5, 2.0], dtype=torch.float32 )\n",
    "\n",
    "output = net( input_vec )"
   ]
  },
  {
   "cell_type": "code",
   "execution_count": 29,
   "id": "5e90600c-7785-4d47-9f26-4be8a6ebc4a3",
   "metadata": {},
   "outputs": [
    {
     "data": {
      "text/plain": [
       "torch.float32"
      ]
     },
     "execution_count": 29,
     "metadata": {},
     "output_type": "execute_result"
    }
   ],
   "source": [
    "input_vec.dtype"
   ]
  },
  {
   "cell_type": "code",
   "execution_count": 30,
   "id": "d4573465-f7bb-43f2-9678-c6b0c3180f41",
   "metadata": {},
   "outputs": [
    {
     "data": {
      "text/plain": [
       "torch.float32"
      ]
     },
     "execution_count": 30,
     "metadata": {},
     "output_type": "execute_result"
    }
   ],
   "source": [
    "output.dtype"
   ]
  },
  {
   "cell_type": "code",
   "execution_count": 31,
   "id": "72f999b2-03f8-40d4-b43b-be44a6bbb536",
   "metadata": {},
   "outputs": [
    {
     "data": {
      "text/plain": [
       "torch.Tensor"
      ]
     },
     "execution_count": 31,
     "metadata": {},
     "output_type": "execute_result"
    }
   ],
   "source": [
    "type(output)"
   ]
  },
  {
   "cell_type": "code",
   "execution_count": 32,
   "id": "770414a0-c169-4bc0-87da-22be73748099",
   "metadata": {},
   "outputs": [
    {
     "data": {
      "text/plain": [
       "tensor([-0.5245], grad_fn=<AddBackward0>)"
      ]
     },
     "execution_count": 32,
     "metadata": {},
     "output_type": "execute_result"
    }
   ],
   "source": [
    "output"
   ]
  },
  {
   "cell_type": "code",
   "execution_count": 33,
   "id": "d96379a9-0595-4625-9d62-ebe1bf9c6374",
   "metadata": {},
   "outputs": [
    {
     "data": {
      "text/plain": [
       "tensor([1.0000, 0.5000, 2.0000])"
      ]
     },
     "execution_count": 33,
     "metadata": {},
     "output_type": "execute_result"
    }
   ],
   "source": [
    "input_vec "
   ]
  },
  {
   "cell_type": "code",
   "execution_count": 34,
   "id": "0ce5fe4d-cdc1-4af3-959e-1de81492164f",
   "metadata": {},
   "outputs": [
    {
     "data": {
      "text/plain": [
       "Parameter containing:\n",
       "tensor([[-0.3598,  0.2796, -0.3197],\n",
       "        [-0.0288,  0.4129,  0.2385],\n",
       "        [-0.5363, -0.4216,  0.0312],\n",
       "        [-0.1906, -0.5004,  0.2271],\n",
       "        [-0.3826,  0.3803,  0.0006],\n",
       "        [-0.4599,  0.3380,  0.1384],\n",
       "        [-0.5225, -0.1625,  0.2092],\n",
       "        [-0.2642, -0.2497,  0.1957],\n",
       "        [-0.2964,  0.5148, -0.2456],\n",
       "        [ 0.3415,  0.4672,  0.1179],\n",
       "        [ 0.4568,  0.2792,  0.5315],\n",
       "        [-0.1179,  0.2690,  0.1200],\n",
       "        [ 0.0164,  0.0041, -0.1546],\n",
       "        [-0.4405,  0.0190, -0.3462],\n",
       "        [ 0.5549, -0.4905,  0.0051],\n",
       "        [-0.5723,  0.0687, -0.3790],\n",
       "        [ 0.3029, -0.2273,  0.5474],\n",
       "        [-0.5167,  0.1080,  0.3329],\n",
       "        [-0.3088,  0.2421,  0.3884],\n",
       "        [-0.0713,  0.0149,  0.1276]], requires_grad=True)"
      ]
     },
     "execution_count": 34,
     "metadata": {},
     "output_type": "execute_result"
    }
   ],
   "source": [
    "net.fc1.weight"
   ]
  },
  {
   "cell_type": "code",
   "execution_count": 35,
   "id": "cdee34b0-edf8-48ab-89c9-49a503d5ced2",
   "metadata": {},
   "outputs": [
    {
     "data": {
      "text/plain": [
       "Parameter containing:\n",
       "tensor([ 0.0953,  0.2083, -0.1617,  0.1048,  0.0434,  0.2894, -0.0384,  0.1766,\n",
       "         0.1314, -0.4130, -0.1133,  0.0292, -0.0603, -0.3857,  0.0229, -0.2495,\n",
       "         0.1515, -0.0916, -0.0052,  0.5115], requires_grad=True)"
      ]
     },
     "execution_count": 35,
     "metadata": {},
     "output_type": "execute_result"
    }
   ],
   "source": [
    "net.fc1.bias"
   ]
  },
  {
   "cell_type": "code",
   "execution_count": 36,
   "id": "8484fdc0-ec33-4e8d-b545-a2795601b5cc",
   "metadata": {},
   "outputs": [
    {
     "data": {
      "text/plain": [
       "Parameter containing:\n",
       "tensor([[ 0.1818,  0.0197, -0.1084,  0.0124,  0.0319, -0.1055, -0.2111,  0.1077,\n",
       "          0.0861,  0.1441, -0.1968, -0.0301,  0.1530, -0.0594,  0.1210,  0.0530,\n",
       "         -0.0206, -0.0941,  0.0444, -0.1627]], requires_grad=True)"
      ]
     },
     "execution_count": 36,
     "metadata": {},
     "output_type": "execute_result"
    }
   ],
   "source": [
    "net.fc2.weight"
   ]
  },
  {
   "cell_type": "code",
   "execution_count": 37,
   "id": "0daba523-c5d1-4bc9-a3e6-c8d6475c6299",
   "metadata": {},
   "outputs": [
    {
     "data": {
      "text/plain": [
       "Parameter containing:\n",
       "tensor([-0.1907], requires_grad=True)"
      ]
     },
     "execution_count": 37,
     "metadata": {},
     "output_type": "execute_result"
    }
   ],
   "source": [
    "net.fc2.bias"
   ]
  },
  {
   "cell_type": "markdown",
   "id": "95ffef8f-ba32-4bb7-9f4d-5bbca15b590d",
   "metadata": {},
   "source": [
    "# Prepare gradient descent / neural network training"
   ]
  },
  {
   "cell_type": "code",
   "execution_count": 38,
   "id": "e0c9860e-6ce4-4b3b-afa4-4a10815032e8",
   "metadata": {},
   "outputs": [],
   "source": [
    "#loss_function = torch.nn.L1Loss()\n",
    "loss_function = torch.nn.MSELoss()\n",
    "optimizer = optim.Adam(net.parameters(), lr=0.001)\n",
    "#optimizer = optim.SGD(net.parameters(), lr=0.001)"
   ]
  },
  {
   "cell_type": "code",
   "execution_count": 39,
   "id": "f3a1d9e6-2ac0-4fb8-9a59-b1edeb5589fa",
   "metadata": {},
   "outputs": [
    {
     "data": {
      "text/plain": [
       "torch.nn.modules.loss.MSELoss"
      ]
     },
     "execution_count": 39,
     "metadata": {},
     "output_type": "execute_result"
    }
   ],
   "source": [
    "type(loss_function)"
   ]
  },
  {
   "cell_type": "code",
   "execution_count": 40,
   "id": "c3d46ed1-a0fa-401b-bf67-a87b8cc52261",
   "metadata": {},
   "outputs": [
    {
     "data": {
      "text/plain": [
       "torch.optim.adam.Adam"
      ]
     },
     "execution_count": 40,
     "metadata": {},
     "output_type": "execute_result"
    }
   ],
   "source": [
    "type(optimizer)"
   ]
  },
  {
   "cell_type": "markdown",
   "id": "4e671775-2e47-4fca-aa74-508dbc04d595",
   "metadata": {},
   "source": [
    "# Generate and train the network"
   ]
  },
  {
   "cell_type": "code",
   "execution_count": 41,
   "id": "5cb0e747-d192-4f1e-a2d8-f0e000eeef25",
   "metadata": {},
   "outputs": [
    {
     "data": {
      "text/plain": [
       "1000"
      ]
     },
     "execution_count": 41,
     "metadata": {},
     "output_type": "execute_result"
    }
   ],
   "source": [
    "nr_train_samples"
   ]
  },
  {
   "cell_type": "code",
   "execution_count": 42,
   "id": "3ad286d9-cf20-4845-a521-95b82fe76842",
   "metadata": {},
   "outputs": [
    {
     "name": "stdout",
     "output_type": "stream",
     "text": [
      "train_step= 0\n",
      "train_step= 1000\n",
      "train_step= 2000\n",
      "train_step= 3000\n",
      "train_step= 4000\n",
      "train_step= 5000\n",
      "train_step= 6000\n",
      "train_step= 7000\n",
      "train_step= 8000\n",
      "train_step= 9000\n",
      "train_step= 10000\n",
      "train_step= 11000\n",
      "train_step= 12000\n",
      "train_step= 13000\n",
      "train_step= 14000\n",
      "train_step= 15000\n",
      "train_step= 16000\n",
      "train_step= 17000\n",
      "train_step= 18000\n",
      "train_step= 19000\n"
     ]
    }
   ],
   "source": [
    "import numpy\n",
    "\n",
    "# prepare neural network\n",
    "net = NeuralNet()\n",
    "loss_fn = torch.nn.MSELoss()\n",
    "optimizer = optim.Adam(net.parameters(), lr=0.001)\n",
    "\n",
    "N_train_steps = 20000\n",
    "\n",
    "losses = []\n",
    "avg_losses = []\n",
    "for train_step in range(N_train_steps):   \n",
    "    \n",
    "    # 1. get a random training sample\n",
    "    #    consisting of an input vec and a teacher vec\n",
    "    random_idx = numpy.random.randint(low=0, high=nr_train_samples)  \n",
    "    input_vec   = torch.tensor( x_train[random_idx], dtype=torch.float32 )\n",
    "    teacher_vec = torch.tensor( y_train[random_idx], dtype=torch.float32 )\n",
    "    \n",
    "    # 2. sets gradients to 0 before calculating loss   \n",
    "    # For: net.zero_grad() vs optim.zero_grad() see:    \n",
    "    # https://stackoverflow.com/questions/61898668/net-zero-grad-vs-optim-zero-grad-pytorch\n",
    "    #net.zero_grad()\n",
    "    optimizer.zero_grad()\n",
    "\n",
    "    # 3. feed forward step\n",
    "    output_vec = net( input_vec )\n",
    "\n",
    "    # 4. compute loss\n",
    "    loss = loss_fn(output_vec, teacher_vec)\n",
    "    \n",
    "    # 5. apply this loss backwards thru the network's parameters\n",
    "    loss.backward() \n",
    "    \n",
    "    # 6. change weights, i.e.\n",
    "    #    attempt to optimize weights to account for loss/gradients\n",
    "    optimizer.step() \n",
    "\n",
    "    # 7. save loss\n",
    "    loss_value = loss.detach().numpy()\n",
    "    losses.append( loss_value )\n",
    "    if len(losses)>100:\n",
    "        avg_losses.append( numpy.mean(losses[-100:]) )\n",
    "    \n",
    "    # 8 show progress\n",
    "    if train_step % 1000 == 0:\n",
    "        print(\"train_step=\", train_step)"
   ]
  },
  {
   "cell_type": "markdown",
   "id": "27b8d7c2-e1f9-427b-acef-95ab3feec8af",
   "metadata": {},
   "source": [
    "# Show training loss curve"
   ]
  },
  {
   "cell_type": "code",
   "execution_count": 43,
   "id": "be5dda2b-038c-42ab-ba15-b34d426807c0",
   "metadata": {},
   "outputs": [
    {
     "data": {
      "image/png": "[encoded data removed]",
      "text/plain": [
       "<Figure size 432x288 with 1 Axes>"
      ]
     },
     "metadata": {
      "needs_background": "light"
     },
     "output_type": "display_data"
    }
   ],
   "source": [
    "import matplotlib.pyplot as plt\n",
    "plt.plot( avg_losses )\n",
    "plt.show()"
   ]
  },
  {
   "cell_type": "markdown",
   "id": "0c8f4933-fac3-40fe-83d4-8a59fcba80bc",
   "metadata": {},
   "source": [
    "# Compute model quality"
   ]
  },
  {
   "cell_type": "code",
   "execution_count": 44,
   "id": "107ece2b-3bbe-40b8-aa88-9f91d89aa3de",
   "metadata": {},
   "outputs": [
    {
     "data": {
      "text/plain": [
       "array([[ 82000.],\n",
       "       [ 86000.],\n",
       "       [232000.],\n",
       "       [136905.],\n",
       "       [181000.],\n",
       "       [149900.],\n",
       "       [163500.],\n",
       "       [ 88000.],\n",
       "       [240000.],\n",
       "       [102000.],\n",
       "       [135000.],\n",
       "       [100000.],\n",
       "       [165000.],\n",
       "       [ 85000.],\n",
       "       [119200.]])"
      ]
     },
     "execution_count": 44,
     "metadata": {},
     "output_type": "execute_result"
    }
   ],
   "source": [
    "gt_dollar = y_scaler.inverse_transform( y_test )\n",
    "gt_dollar[:15]"
   ]
  },
  {
   "cell_type": "code",
   "execution_count": 45,
   "id": "a9aa4f22-3434-402c-b125-be78e4dabe52",
   "metadata": {},
   "outputs": [
    {
     "data": {
      "text/plain": [
       "(460, 1)"
      ]
     },
     "execution_count": 45,
     "metadata": {},
     "output_type": "execute_result"
    }
   ],
   "source": [
    "gt_dollar.shape"
   ]
  },
  {
   "cell_type": "code",
   "execution_count": 46,
   "id": "d879f741-d4fc-44a2-bd88-20c77ea503a8",
   "metadata": {},
   "outputs": [],
   "source": [
    "preds = numpy.zeros( gt_dollar.shape )"
   ]
  },
  {
   "cell_type": "code",
   "execution_count": 47,
   "id": "3a5d0175-332c-4999-bb8a-f04c0e767901",
   "metadata": {},
   "outputs": [
    {
     "data": {
      "text/plain": [
       "(460, 1)"
      ]
     },
     "execution_count": 47,
     "metadata": {},
     "output_type": "execute_result"
    }
   ],
   "source": [
    "preds.shape"
   ]
  },
  {
   "cell_type": "code",
   "execution_count": 48,
   "id": "f220e78e-5b6b-4169-acff-97ff7f94b38b",
   "metadata": {},
   "outputs": [
    {
     "data": {
      "text/plain": [
       "array([[0.],\n",
       "       [0.],\n",
       "       [0.],\n",
       "       [0.],\n",
       "       [0.],\n",
       "       [0.],\n",
       "       [0.],\n",
       "       [0.],\n",
       "       [0.],\n",
       "       [0.],\n",
       "       [0.],\n",
       "       [0.],\n",
       "       [0.],\n",
       "       [0.],\n",
       "       [0.]])"
      ]
     },
     "execution_count": 48,
     "metadata": {},
     "output_type": "execute_result"
    }
   ],
   "source": [
    "preds[:15]"
   ]
  },
  {
   "cell_type": "code",
   "execution_count": 49,
   "id": "6e0e4331-552f-47ae-b3bd-756bed422043",
   "metadata": {},
   "outputs": [],
   "source": [
    "net.eval()\n",
    "\n",
    "with torch.no_grad():\n",
    "\n",
    "    for i in range(0, len(x_test) ):\n",
    "        input_vec = torch.tensor( x_test[i], dtype=torch.float32 )\n",
    "        output_vec = net( input_vec )\n",
    "        preds[i,:] = output_vec.detach().numpy()"
   ]
  },
  {
   "cell_type": "code",
   "execution_count": 50,
   "id": "1ba2ec40-540d-404d-958e-0c90e5b60ed5",
   "metadata": {},
   "outputs": [
    {
     "data": {
      "text/plain": [
       "array([[0.07709105],\n",
       "       [0.0912568 ],\n",
       "       [0.3255761 ],\n",
       "       [0.13912982],\n",
       "       [0.20169546],\n",
       "       [0.12259288],\n",
       "       [0.16413578],\n",
       "       [0.06334963],\n",
       "       [0.2418779 ],\n",
       "       [0.09485006],\n",
       "       [0.18271729],\n",
       "       [0.12635528],\n",
       "       [0.15145549],\n",
       "       [0.10041466],\n",
       "       [0.1587026 ]])"
      ]
     },
     "execution_count": 50,
     "metadata": {},
     "output_type": "execute_result"
    }
   ],
   "source": [
    "preds[:15]"
   ]
  },
  {
   "cell_type": "code",
   "execution_count": 51,
   "id": "abef3416-6be3-4351-a7a7-8858e69aff9f",
   "metadata": {},
   "outputs": [
    {
     "data": {
      "text/plain": [
       "array([[ 90413.26735765],\n",
       "       [100614.02511075],\n",
       "       [269347.34728634],\n",
       "       [135087.38157153],\n",
       "       [180140.89865834],\n",
       "       [123179.13383991],\n",
       "       [153094.17799413],\n",
       "       [ 80518.06637272],\n",
       "       [209076.27476305],\n",
       "       [103201.52523443],\n",
       "       [166474.72305   ],\n",
       "       [125888.43389601],\n",
       "       [143963.09963167],\n",
       "       [107208.59922469],\n",
       "       [149181.74011558]])"
      ]
     },
     "execution_count": 51,
     "metadata": {},
     "output_type": "execute_result"
    }
   ],
   "source": [
    "preds_dollar = y_scaler.inverse_transform( preds )\n",
    "preds_dollar[:15]"
   ]
  },
  {
   "cell_type": "code",
   "execution_count": 52,
   "id": "baf5c014-6049-4be4-ba51-4e404069e573",
   "metadata": {},
   "outputs": [
    {
     "data": {
      "text/plain": [
       "27747.97342096859"
      ]
     },
     "execution_count": 52,
     "metadata": {},
     "output_type": "execute_result"
    }
   ],
   "source": [
    "MAE_in_dollar = numpy.mean(abs(gt_dollar - preds_dollar))\n",
    "MAE_in_dollar"
   ]
  },
  {
   "cell_type": "code",
   "execution_count": 53,
   "id": "7a78e4bb-ef5c-4e35-85b2-f480509831fd",
   "metadata": {},
   "outputs": [
    {
     "name": "stdout",
     "output_type": "stream",
     "text": [
      "We can estimate the sale price of an unknown house with an average error of 27747.97342096859\n"
     ]
    }
   ],
   "source": [
    "print( f\"We can estimate the sale price of an unknown house with an average error of {MAE_in_dollar}\" )"
   ]
  },
  {
   "cell_type": "code",
   "execution_count": null,
   "id": "87c6da0c-62a6-4f2c-8114-f5eff3d81796",
   "metadata": {},
   "outputs": [],
   "source": []
  }
 ],
 "metadata": {
  "kernelspec": {
   "display_name": "Python 3 (ipykernel)",
   "language": "python",
   "name": "python3"
  },
  "language_info": {
   "codemirror_mode": {
    "name": "ipython",
    "version": 3
   },
   "file_extension": ".py",
   "mimetype": "text/x-python",
   "name": "python",
   "nbconvert_exporter": "python",
   "pygments_lexer": "ipython3",
   "version": "3.8.10"
  },
  "toc-autonumbering": true
 },
 "nbformat": 4,
 "nbformat_minor": 5
}
