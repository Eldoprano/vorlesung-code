{
 "cells": [
  {
   "cell_type": "markdown",
   "id": "67c63f45-00d5-4bb2-8f3a-6c04150cf1c0",
   "metadata": {},
   "source": [
    "# Introduction\n",
    "\n",
    "In this notebook I try to let a Perceptron - implemented in PyTorch - learn to classify N (e.g. N=5) different patterns that differ only in some small details."
   ]
  },
  {
   "cell_type": "markdown",
   "id": "43dfc6eb-7a7e-4409-9d2a-479f8410971c",
   "metadata": {},
   "source": [
    "# Generating example data\n",
    "\n",
    "Here I generate N training patterns that differ only in some small region."
   ]
  },
  {
   "cell_type": "code",
   "execution_count": 1,
   "id": "e2b4e0d1-ab12-42ce-ae3a-9e0e74699eb5",
   "metadata": {},
   "outputs": [
    {
     "name": "stdout",
     "output_type": "stream",
     "text": [
      "tensor([[ 0.1237, -0.0566],\n",
      "        [ 0.0327, -0.1240]])\n",
      "tensor([[-0.0562,  0.0253],\n",
      "        [ 0.0838, -0.2146]])\n",
      "tensor([[-0.0296, -0.0530],\n",
      "        [ 0.1241,  0.0431]])\n",
      "tensor([[ 0.0086, -0.0052],\n",
      "        [-0.0425,  0.0843]])\n",
      "tensor([[ 0.0053, -0.0625],\n",
      "        [ 0.0090, -0.0031]])\n"
     ]
    }
   ],
   "source": [
    "import torch\n",
    "\n",
    "S = 6\n",
    "N_base_patterns = 5\n",
    "N_training_patterns_per_base_pattern = 100\n",
    "N_total_training_patterns = N_base_patterns * N_training_patterns_per_base_pattern\n",
    "\n",
    "x = torch.zeros(N_total_training_patterns, S**2)\n",
    "y = torch.zeros(N_total_training_patterns, N_base_patterns)\n",
    "\n",
    "# generate base patterns\n",
    "list_base_patterns = []\n",
    "for base_pattern_nr in range(N_base_patterns):\n",
    "    new_base_pattern = torch.randn(2,2) * 0.1\n",
    "    print(new_base_pattern)\n",
    "    list_base_patterns.append( new_base_pattern )\n",
    "\n",
    "# generate training patterns of size (S,S)\n",
    "pattern_nr = 0\n",
    "for base_pattern_idx in range(N_base_patterns):\n",
    "    \n",
    "    # get the next base pattern\n",
    "    base_pattern = list_base_patterns[base_pattern_idx]\n",
    "    \n",
    "    # create trainings patterns with the base pattern in the center\n",
    "    for nr_training_pattern in range(N_training_patterns_per_base_pattern):\n",
    "        \n",
    "        # generate random input pattern with defined center values\n",
    "        pattern = torch.randn(S, S)\n",
    "        pattern[S//2-1:S//2+1, S//2-1:S//2+1 ] = base_pattern\n",
    "        #print(pattern)\n",
    "        #print(pattern.view(S**2))\n",
    "        \n",
    "        # store new input pattern\n",
    "        x[pattern_nr,:] = pattern.view(S**2)\n",
    "        \n",
    "        # generate new target pattern\n",
    "        one_hot_vec = torch.zeros(N_base_patterns)\n",
    "        one_hot_vec[base_pattern_idx] = 1\n",
    "        #print(one_hot_vec)\n",
    "        \n",
    "        # store target pattern\n",
    "        y[pattern_nr,:] = one_hot_vec\n",
    "        \n",
    "        pattern_nr += 1"
   ]
  },
  {
   "cell_type": "code",
   "execution_count": 2,
   "id": "821840e0-2d63-478a-a321-f336d15e4a19",
   "metadata": {},
   "outputs": [
    {
     "data": {
      "text/plain": [
       "torch.Size([500, 36])"
      ]
     },
     "execution_count": 2,
     "metadata": {},
     "output_type": "execute_result"
    }
   ],
   "source": [
    "x.shape"
   ]
  },
  {
   "cell_type": "code",
   "execution_count": 3,
   "id": "d78f20f4-9b76-46c6-988f-4b3e9f4c7e78",
   "metadata": {},
   "outputs": [
    {
     "data": {
      "text/plain": [
       "torch.Size([500, 5])"
      ]
     },
     "execution_count": 3,
     "metadata": {},
     "output_type": "execute_result"
    }
   ],
   "source": [
    "y.shape"
   ]
  },
  {
   "cell_type": "code",
   "execution_count": 4,
   "id": "9692a190-d9f0-41e4-9f3c-0c6668fbbfc7",
   "metadata": {},
   "outputs": [],
   "source": [
    "#for i in range(0,100):\n",
    " #   print(x[i])"
   ]
  },
  {
   "cell_type": "markdown",
   "id": "64868510-bb1b-4302-b0cd-9e986f5c4ea8",
   "metadata": {},
   "source": [
    "# Shuffle example data"
   ]
  },
  {
   "cell_type": "code",
   "execution_count": 5,
   "id": "d97192c2-49a7-4a38-be68-aab2381310a6",
   "metadata": {},
   "outputs": [
    {
     "name": "stdout",
     "output_type": "stream",
     "text": [
      "Original Matrix:\n",
      " tensor([[1., 2., 3.],\n",
      "        [4., 5., 6.],\n",
      "        [7., 8., 9.]])\n"
     ]
    }
   ],
   "source": [
    "matrix = torch.tensor([[1., 2., 3.],[4., 5., 6.],[7, 8, 9]])\n",
    "print(\"Original Matrix:\\n\", matrix)"
   ]
  },
  {
   "cell_type": "code",
   "execution_count": 6,
   "id": "a53cb730-7d50-45bd-a35b-471a6c51df9b",
   "metadata": {},
   "outputs": [],
   "source": [
    "r = torch.tensor([1, 0, 2])"
   ]
  },
  {
   "cell_type": "code",
   "execution_count": 7,
   "id": "c1b343d2-e433-4d84-b473-bf6c604b1caa",
   "metadata": {},
   "outputs": [
    {
     "data": {
      "text/plain": [
       "tensor([[4., 5., 6.],\n",
       "        [1., 2., 3.],\n",
       "        [7., 8., 9.]])"
      ]
     },
     "execution_count": 7,
     "metadata": {},
     "output_type": "execute_result"
    }
   ],
   "source": [
    "matrix2 = matrix[r, :] # shuffles rows\n",
    "matrix2"
   ]
  },
  {
   "cell_type": "code",
   "execution_count": 8,
   "id": "cc382ff9-4126-490d-8ea8-a2bd01ea0326",
   "metadata": {},
   "outputs": [
    {
     "data": {
      "text/plain": [
       "tensor([2, 0, 1])"
      ]
     },
     "execution_count": 8,
     "metadata": {},
     "output_type": "execute_result"
    }
   ],
   "source": [
    "torch.randperm(3)"
   ]
  },
  {
   "cell_type": "code",
   "execution_count": 9,
   "id": "8df51ead-eb21-41e2-beb7-3a5a3311b3ae",
   "metadata": {},
   "outputs": [
    {
     "data": {
      "text/plain": [
       "tensor([[7., 8., 9.],\n",
       "        [1., 2., 3.],\n",
       "        [4., 5., 6.]])"
      ]
     },
     "execution_count": 9,
     "metadata": {},
     "output_type": "execute_result"
    }
   ],
   "source": [
    "matrix2 = matrix[torch.randperm(3), :] # shuffles rows\n",
    "matrix2"
   ]
  },
  {
   "cell_type": "code",
   "execution_count": 10,
   "id": "c2b3a4f0-2350-46b2-8650-c5cfa56a842f",
   "metadata": {},
   "outputs": [],
   "source": [
    "r = torch.randperm(N_total_training_patterns)\n",
    "x = x[r, :]\n",
    "y = y[r, :]"
   ]
  },
  {
   "cell_type": "code",
   "execution_count": 11,
   "id": "4f1249cf-16b9-4a9b-bbe0-ffbb04f61d00",
   "metadata": {},
   "outputs": [
    {
     "data": {
      "text/plain": [
       "torch.Size([500, 36])"
      ]
     },
     "execution_count": 11,
     "metadata": {},
     "output_type": "execute_result"
    }
   ],
   "source": [
    "x.shape"
   ]
  },
  {
   "cell_type": "code",
   "execution_count": 12,
   "id": "bbd18e1c-ec0f-456c-aacc-4b9631485ac3",
   "metadata": {},
   "outputs": [
    {
     "data": {
      "text/plain": [
       "torch.Size([500, 5])"
      ]
     },
     "execution_count": 12,
     "metadata": {},
     "output_type": "execute_result"
    }
   ],
   "source": [
    "y.shape"
   ]
  },
  {
   "cell_type": "code",
   "execution_count": 13,
   "id": "6308e621-f1fd-4364-b5ac-1d35aabec7fc",
   "metadata": {},
   "outputs": [
    {
     "data": {
      "text/plain": [
       "tensor([[-1.3597,  0.5327, -0.3627, -1.5491,  0.9362, -1.3758],\n",
       "        [ 1.3428,  1.5596, -0.6851,  0.8249,  1.0412, -0.0809],\n",
       "        [-1.9868, -0.3438,  0.0086, -0.0052, -0.2876, -1.0565],\n",
       "        [ 1.3202, -1.0102, -0.0425,  0.0843,  1.0791,  0.3613],\n",
       "        [ 1.0903,  1.7652, -0.6553,  2.0992,  0.6211, -0.5079],\n",
       "        [-0.1331,  0.9848, -0.0364,  1.2708,  1.1292, -1.1389]])"
      ]
     },
     "execution_count": 13,
     "metadata": {},
     "output_type": "execute_result"
    }
   ],
   "source": [
    "x[0].view(S,S)"
   ]
  },
  {
   "cell_type": "code",
   "execution_count": 14,
   "id": "8e111bb7-8532-4526-a755-b17be097df18",
   "metadata": {},
   "outputs": [
    {
     "data": {
      "text/plain": [
       "tensor([0., 0., 0., 1., 0.])"
      ]
     },
     "execution_count": 14,
     "metadata": {},
     "output_type": "execute_result"
    }
   ],
   "source": [
    "y[0]"
   ]
  },
  {
   "cell_type": "code",
   "execution_count": 15,
   "id": "2fba2c9d-ed2c-40e9-92b3-0c8244aecd9f",
   "metadata": {},
   "outputs": [
    {
     "data": {
      "text/plain": [
       "tensor([[ 0.5009,  0.2851,  0.6736, -0.3560, -1.3948, -0.6606],\n",
       "        [-0.8988, -1.6524,  1.1920,  1.4805,  0.4013, -2.0024],\n",
       "        [-2.6372, -0.0571, -0.0296, -0.0530,  0.5280,  1.1623],\n",
       "        [ 0.6830, -0.1201,  0.1241,  0.0431,  0.5684, -0.9306],\n",
       "        [-0.4524, -0.8493, -1.4346, -0.2620,  1.5562, -1.3662],\n",
       "        [-2.2725, -0.2893,  0.8302,  1.7105,  0.6588,  3.1339]])"
      ]
     },
     "execution_count": 15,
     "metadata": {},
     "output_type": "execute_result"
    }
   ],
   "source": [
    "x[1].view(S,S)"
   ]
  },
  {
   "cell_type": "code",
   "execution_count": 16,
   "id": "48cb79d3-6b70-4507-9555-5b54fd95fa18",
   "metadata": {},
   "outputs": [
    {
     "data": {
      "text/plain": [
       "tensor([0., 0., 1., 0., 0.])"
      ]
     },
     "execution_count": 16,
     "metadata": {},
     "output_type": "execute_result"
    }
   ],
   "source": [
    "y[1]"
   ]
  },
  {
   "cell_type": "markdown",
   "id": "1a3bc29b-4f27-4ccb-a1df-e233095539b9",
   "metadata": {},
   "source": [
    "# Split example data intro train and test data"
   ]
  },
  {
   "cell_type": "code",
   "execution_count": 17,
   "id": "e88b0d98-cc63-4542-8ce9-daa95dac80e8",
   "metadata": {},
   "outputs": [
    {
     "data": {
      "text/plain": [
       "torch.Size([500, 36])"
      ]
     },
     "execution_count": 17,
     "metadata": {},
     "output_type": "execute_result"
    }
   ],
   "source": [
    "x.shape"
   ]
  },
  {
   "cell_type": "code",
   "execution_count": 18,
   "id": "0e6394aa-5c6c-4637-84de-44e7e3357fc2",
   "metadata": {},
   "outputs": [
    {
     "data": {
      "text/plain": [
       "torch.Size([500, 5])"
      ]
     },
     "execution_count": 18,
     "metadata": {},
     "output_type": "execute_result"
    }
   ],
   "source": [
    "y.shape"
   ]
  },
  {
   "cell_type": "code",
   "execution_count": 19,
   "id": "1d890b31-b5ec-4f50-a081-55b4b3ffeaec",
   "metadata": {},
   "outputs": [
    {
     "data": {
      "text/plain": [
       "400"
      ]
     },
     "execution_count": 19,
     "metadata": {},
     "output_type": "execute_result"
    }
   ],
   "source": [
    "train_ratio = 0.8\n",
    "train_N = int(train_ratio * x.shape[0])\n",
    "train_N"
   ]
  },
  {
   "cell_type": "code",
   "execution_count": 20,
   "id": "6615c2fb-ba5e-43b9-a173-74ab415366fd",
   "metadata": {},
   "outputs": [],
   "source": [
    "x_train = x[:train_N]\n",
    "y_train = y[:train_N]\n",
    "x_test  = x[train_N:]\n",
    "y_test  = y[train_N:]"
   ]
  },
  {
   "cell_type": "code",
   "execution_count": 21,
   "id": "aadf229b-b6df-4a5e-b7c5-f44497e97d77",
   "metadata": {},
   "outputs": [
    {
     "data": {
      "text/plain": [
       "torch.Size([400, 36])"
      ]
     },
     "execution_count": 21,
     "metadata": {},
     "output_type": "execute_result"
    }
   ],
   "source": [
    "x_train.shape"
   ]
  },
  {
   "cell_type": "code",
   "execution_count": 22,
   "id": "70a80974-82d8-4b9f-a892-2c01438420d0",
   "metadata": {},
   "outputs": [
    {
     "data": {
      "text/plain": [
       "torch.Size([400, 5])"
      ]
     },
     "execution_count": 22,
     "metadata": {},
     "output_type": "execute_result"
    }
   ],
   "source": [
    "y_train.shape"
   ]
  },
  {
   "cell_type": "code",
   "execution_count": 23,
   "id": "be56bbf3-785d-43e1-b17e-0ba5e9576117",
   "metadata": {},
   "outputs": [
    {
     "data": {
      "text/plain": [
       "torch.Size([100, 36])"
      ]
     },
     "execution_count": 23,
     "metadata": {},
     "output_type": "execute_result"
    }
   ],
   "source": [
    "x_test.shape"
   ]
  },
  {
   "cell_type": "code",
   "execution_count": 24,
   "id": "069df865-3666-4ebb-a1f8-cd1a54439568",
   "metadata": {},
   "outputs": [
    {
     "data": {
      "text/plain": [
       "torch.Size([100, 5])"
      ]
     },
     "execution_count": 24,
     "metadata": {},
     "output_type": "execute_result"
    }
   ],
   "source": [
    "y_test.shape"
   ]
  },
  {
   "cell_type": "code",
   "execution_count": 25,
   "id": "b1ad1d82-ba7c-42d1-9faa-36099eb35323",
   "metadata": {},
   "outputs": [
    {
     "data": {
      "text/plain": [
       "torch.float32"
      ]
     },
     "execution_count": 25,
     "metadata": {},
     "output_type": "execute_result"
    }
   ],
   "source": [
    "x_train.dtype"
   ]
  },
  {
   "cell_type": "code",
   "execution_count": 26,
   "id": "10317355-9b49-4703-9e40-3a1584744fb0",
   "metadata": {},
   "outputs": [
    {
     "data": {
      "text/plain": [
       "torch.float32"
      ]
     },
     "execution_count": 26,
     "metadata": {},
     "output_type": "execute_result"
    }
   ],
   "source": [
    "y_train.dtype"
   ]
  },
  {
   "cell_type": "markdown",
   "id": "0900910a-c3f3-4346-a309-64469367c20e",
   "metadata": {},
   "source": [
    "# Perceptron-Klasse"
   ]
  },
  {
   "cell_type": "code",
   "execution_count": 27,
   "id": "2312de48-94f9-4a8e-850b-45c203b30f30",
   "metadata": {},
   "outputs": [],
   "source": [
    "# Import libraries\n",
    "import torch\n",
    "import torch.nn as nn\n",
    "import torch.nn.functional as F\n",
    "import torch.optim as optim\n",
    "\n",
    "\n",
    "# Define a neural net\n",
    "class MLP(nn.Module):\n",
    "    def __init__(self, nr_inputs, nr_outputs, use_hidden_layer=False, nr_neurons_hidden1=20):\n",
    "        super().__init__()\n",
    "        \n",
    "        # note: order of generated layers here does not matter!       \n",
    "        # it is the order of layers in forward() that does matter.\n",
    "        # see: https://discuss.pytorch.org/t/can-i-change-the-order-of-layers-in-init/105027:\n",
    "        #\n",
    "        #  \"It doesn’t matter. forward is which defines the real order. \n",
    "        #   The only difference is they will be displayed differently \n",
    "        #   when you print the model or save it.\"\n",
    "        #\n",
    "        self.use_hidden_layer = use_hidden_layer\n",
    "        if self.use_hidden_layer:\n",
    "            self.fc1 = nn.Linear(nr_inputs, nr_neurons_hidden1)\n",
    "            self.actfunc = torch.nn.ReLU()            \n",
    "            self.fc2 = nn.Linear(nr_neurons_hidden1, nr_outputs)        \n",
    "        else:\n",
    "            self.fc1 = nn.Linear(nr_inputs, nr_outputs)\n",
    "\n",
    "    def forward(self, input_vec):\n",
    "        if self.use_hidden_layer:\n",
    "            x = self.fc1(input_vec)\n",
    "            x = self.actfunc(x)\n",
    "            x = self.fc2(x)\n",
    "        else:\n",
    "            x = self.fc1(input_vec)\n",
    "        return x"
   ]
  },
  {
   "cell_type": "code",
   "execution_count": 28,
   "id": "faead238-fb4d-404f-b93d-b3f424f6cc79",
   "metadata": {},
   "outputs": [],
   "source": [
    "net = MLP(S**2, N_base_patterns, True)"
   ]
  },
  {
   "cell_type": "code",
   "execution_count": 29,
   "id": "47fa45e3-ab88-4fad-ac82-7ec84bea5a2a",
   "metadata": {},
   "outputs": [
    {
     "data": {
      "text/plain": [
       "Linear(in_features=36, out_features=20, bias=True)"
      ]
     },
     "execution_count": 29,
     "metadata": {},
     "output_type": "execute_result"
    }
   ],
   "source": [
    "net.fc1"
   ]
  },
  {
   "cell_type": "code",
   "execution_count": 30,
   "id": "5423853b-07bb-47a2-84f5-5d51649ab99a",
   "metadata": {},
   "outputs": [
    {
     "data": {
      "text/plain": [
       "Linear(in_features=20, out_features=5, bias=True)"
      ]
     },
     "execution_count": 30,
     "metadata": {},
     "output_type": "execute_result"
    }
   ],
   "source": [
    "net.fc2"
   ]
  },
  {
   "cell_type": "code",
   "execution_count": 31,
   "id": "5325c79c-c38d-4c4c-844c-8b2c64ef2bc5",
   "metadata": {},
   "outputs": [
    {
     "data": {
      "text/plain": [
       "torch.Size([20, 36])"
      ]
     },
     "execution_count": 31,
     "metadata": {},
     "output_type": "execute_result"
    }
   ],
   "source": [
    "net.fc1.weight.shape"
   ]
  },
  {
   "cell_type": "code",
   "execution_count": 32,
   "id": "c973a09a-66a0-428c-87ac-c8af4e3da4a3",
   "metadata": {},
   "outputs": [
    {
     "data": {
      "text/plain": [
       "torch.Size([20])"
      ]
     },
     "execution_count": 32,
     "metadata": {},
     "output_type": "execute_result"
    }
   ],
   "source": [
    "net.fc1.bias.shape"
   ]
  },
  {
   "cell_type": "code",
   "execution_count": 33,
   "id": "3916558e-e091-411f-b3c7-7343a0901387",
   "metadata": {},
   "outputs": [
    {
     "data": {
      "text/plain": [
       "torch.Size([5, 20])"
      ]
     },
     "execution_count": 33,
     "metadata": {},
     "output_type": "execute_result"
    }
   ],
   "source": [
    "net.fc2.weight.shape"
   ]
  },
  {
   "cell_type": "code",
   "execution_count": 34,
   "id": "234b0758-4a69-476e-a959-68302b76f527",
   "metadata": {},
   "outputs": [
    {
     "data": {
      "text/plain": [
       "torch.Size([5])"
      ]
     },
     "execution_count": 34,
     "metadata": {},
     "output_type": "execute_result"
    }
   ],
   "source": [
    "net.fc2.bias.shape"
   ]
  },
  {
   "cell_type": "code",
   "execution_count": 35,
   "id": "3cf8b066-8c74-4349-a186-f22c88cf0204",
   "metadata": {},
   "outputs": [],
   "source": [
    "net = MLP(S**2, N_base_patterns, use_hidden_layer=False)"
   ]
  },
  {
   "cell_type": "code",
   "execution_count": 36,
   "id": "8d99f882-fada-4329-9ae9-25de3c7aa3f3",
   "metadata": {},
   "outputs": [
    {
     "data": {
      "text/plain": [
       "MLP(\n",
       "  (fc1): Linear(in_features=36, out_features=5, bias=True)\n",
       ")"
      ]
     },
     "execution_count": 36,
     "metadata": {},
     "output_type": "execute_result"
    }
   ],
   "source": [
    "net"
   ]
  },
  {
   "cell_type": "code",
   "execution_count": 37,
   "id": "c50c4770-f6dd-42a3-b5a6-b5d66f22e942",
   "metadata": {},
   "outputs": [
    {
     "data": {
      "text/plain": [
       "Parameter containing:\n",
       "tensor([[ 0.0774,  0.1637, -0.0517, -0.0494, -0.1386,  0.0984, -0.1504,  0.0118,\n",
       "         -0.0526,  0.0324, -0.0247, -0.1497,  0.0967,  0.0959, -0.1289,  0.0921,\n",
       "          0.0389,  0.1359, -0.1660,  0.0500,  0.0905,  0.1392,  0.0385, -0.0151,\n",
       "         -0.0103, -0.0882, -0.0819, -0.1009, -0.0151,  0.1652,  0.0053,  0.1269,\n",
       "          0.0169,  0.1272, -0.0808,  0.1361],\n",
       "        [-0.1349, -0.1051, -0.1481,  0.0200,  0.0034, -0.0541,  0.1226,  0.0279,\n",
       "         -0.1225, -0.0814,  0.0914,  0.1375,  0.1444,  0.0963, -0.0327, -0.1230,\n",
       "         -0.1015, -0.1088, -0.0131, -0.0181,  0.0155,  0.1326,  0.0407,  0.1398,\n",
       "         -0.1272,  0.1197, -0.0210,  0.0880, -0.0263, -0.0978,  0.0945,  0.1586,\n",
       "         -0.0892, -0.1447, -0.0298,  0.1149],\n",
       "        [-0.0031, -0.0067,  0.0892, -0.0940,  0.0759, -0.1584,  0.0851,  0.1511,\n",
       "          0.1067,  0.1027,  0.1543,  0.1662,  0.1056,  0.1069, -0.1176, -0.1609,\n",
       "          0.0860, -0.0096, -0.0120,  0.1433, -0.0943,  0.1611, -0.0939,  0.0956,\n",
       "         -0.0510,  0.1408, -0.1164,  0.0297, -0.1270,  0.1165, -0.1306, -0.0690,\n",
       "          0.0195,  0.1331, -0.0589,  0.0269],\n",
       "        [-0.1413,  0.1453,  0.1117, -0.0795,  0.1113, -0.0059,  0.1055,  0.0744,\n",
       "         -0.0530, -0.0264,  0.0118, -0.0416,  0.0873,  0.1505,  0.1114,  0.0243,\n",
       "         -0.0196,  0.1156,  0.0096, -0.0774, -0.0452, -0.1177,  0.1225,  0.0098,\n",
       "         -0.0430,  0.0355, -0.1345, -0.0791, -0.0665,  0.0647, -0.0805, -0.1516,\n",
       "          0.0439,  0.0398, -0.1318, -0.0823],\n",
       "        [-0.1020,  0.1404,  0.0095, -0.1052,  0.1026, -0.1438, -0.0255,  0.0412,\n",
       "         -0.1574,  0.1323,  0.0825,  0.0002, -0.0413,  0.0932,  0.0241, -0.0517,\n",
       "          0.1038, -0.1518, -0.1529,  0.0467, -0.1651,  0.0725,  0.0415, -0.0556,\n",
       "         -0.0594, -0.0562, -0.0974,  0.1163,  0.1488, -0.0104, -0.0155, -0.0128,\n",
       "         -0.0410,  0.1573,  0.0691, -0.0929]], requires_grad=True)"
      ]
     },
     "execution_count": 37,
     "metadata": {},
     "output_type": "execute_result"
    }
   ],
   "source": [
    "net.fc1.weight"
   ]
  },
  {
   "cell_type": "code",
   "execution_count": 38,
   "id": "77384d3b-46b5-41b9-a29f-ed8693f672bd",
   "metadata": {},
   "outputs": [
    {
     "data": {
      "text/plain": [
       "Parameter containing:\n",
       "tensor([-0.0061, -0.0390, -0.0635,  0.0065, -0.0918], requires_grad=True)"
      ]
     },
     "execution_count": 38,
     "metadata": {},
     "output_type": "execute_result"
    }
   ],
   "source": [
    "net.fc1.bias"
   ]
  },
  {
   "cell_type": "markdown",
   "id": "28c4847d-d5b1-4e49-8ec1-41c74a5380ba",
   "metadata": {},
   "source": [
    "# Train MLP to discriminate patterns"
   ]
  },
  {
   "cell_type": "code",
   "execution_count": 39,
   "id": "3c5e6b17-2d3d-4e75-a47b-ec5bdbef8bac",
   "metadata": {},
   "outputs": [
    {
     "name": "stdout",
     "output_type": "stream",
     "text": [
      "MLP(\n",
      "  (fc1): Linear(in_features=36, out_features=20, bias=True)\n",
      "  (actfunc): ReLU()\n",
      "  (fc2): Linear(in_features=20, out_features=5, bias=True)\n",
      ")\n",
      "train_step= 0\n",
      "train_step= 1000\n",
      "train_step= 2000\n",
      "train_step= 3000\n",
      "train_step= 4000\n",
      "train_step= 5000\n",
      "train_step= 6000\n",
      "train_step= 7000\n",
      "train_step= 8000\n",
      "train_step= 9000\n",
      "train_step= 10000\n",
      "train_step= 11000\n",
      "train_step= 12000\n",
      "train_step= 13000\n",
      "train_step= 14000\n",
      "train_step= 15000\n",
      "train_step= 16000\n",
      "train_step= 17000\n",
      "train_step= 18000\n",
      "train_step= 19000\n"
     ]
    },
    {
     "data": {
      "image/png": "[encoded data removed]",
      "text/plain": [
       "<Figure size 640x480 with 1 Axes>"
      ]
     },
     "metadata": {},
     "output_type": "display_data"
    }
   ],
   "source": [
    "import numpy\n",
    "\n",
    "# prepare neural network\n",
    "nr_inputs  = S**2\n",
    "nr_hidden1 = 20\n",
    "nr_outputs = N_base_patterns\n",
    "net = MLP(nr_inputs, nr_outputs, use_hidden_layer=True, nr_neurons_hidden1=nr_hidden1) # MLP\n",
    "#net = MLP(nr_inputs, nr_outputs, use_hidden_layer=False) # Perceptron\n",
    "print(net)\n",
    "\n",
    "# prepare loss and optimizer\n",
    "#loss_fn = torch.nn.L1Loss()\n",
    "loss_fn = torch.nn.MSELoss()\n",
    "optimizer = optim.Adam(net.parameters(), lr=0.001)\n",
    "\n",
    "N_train_steps = 20000\n",
    "\n",
    "losses = []\n",
    "avg_losses = []\n",
    "for train_step in range(N_train_steps):   \n",
    "    \n",
    "    # 1. get a random training sample\n",
    "    #    consisting of an input vec and a teacher vec\n",
    "    random_idx = numpy.random.randint(low=0, high=x_train.shape[0])  \n",
    "    input_vec   = x_train[random_idx]\n",
    "    teacher_vec = y_train[random_idx]\n",
    "    \n",
    "    # 2. sets gradients to 0 before calculating loss   \n",
    "    # For: net.zero_grad() vs optim.zero_grad() see:    \n",
    "    # https://stackoverflow.com/questions/61898668/net-zero-grad-vs-optim-zero-grad-pytorch\n",
    "    #net.zero_grad()\n",
    "    optimizer.zero_grad()\n",
    "\n",
    "    # 3. feed forward step\n",
    "    output_vec = net( input_vec )\n",
    "\n",
    "    # 4. compute loss\n",
    "    loss = loss_fn(output_vec, teacher_vec)\n",
    "    \n",
    "    # 5. apply this loss backwards thru the network's parameters\n",
    "    loss.backward() \n",
    "    \n",
    "    # 6. change weights, i.e.\n",
    "    #    attempt to optimize weights to account for loss/gradients\n",
    "    optimizer.step() \n",
    "\n",
    "    # 7. save loss\n",
    "    loss_value = loss.detach().numpy()\n",
    "    losses.append( loss_value )\n",
    "    if len(losses)>100:\n",
    "        avg_losses.append( numpy.mean(losses[-100:]) )\n",
    "    \n",
    "    # 8 show progress\n",
    "    if train_step % 1000 == 0:\n",
    "        print(\"train_step=\", train_step)\n",
    "        \n",
    "import matplotlib.pyplot as plt\n",
    "plt.plot( avg_losses )\n",
    "plt.title(\"Average losses\")\n",
    "plt.show()"
   ]
  },
  {
   "cell_type": "markdown",
   "id": "c80f1583-8aba-40d8-b3e9-8e74b546eaf4",
   "metadata": {},
   "source": [
    "# Test how good the MLP can discriminate the base patterns"
   ]
  },
  {
   "cell_type": "code",
   "execution_count": 40,
   "id": "a3a588d3-f108-44d0-8e0a-2195207d015b",
   "metadata": {},
   "outputs": [
    {
     "data": {
      "text/plain": [
       "tensor([[-0.0191, -1.1428, -0.8079,  ...,  0.5557, -0.4062, -0.0577],\n",
       "        [-0.3339,  0.3117, -1.2566,  ...,  1.8622,  1.0672,  0.3525],\n",
       "        [-0.8037,  1.4583,  0.3285,  ..., -1.6856, -0.8577, -0.6882],\n",
       "        ...,\n",
       "        [ 0.4823, -0.5858, -0.5813,  ..., -0.8091,  0.3605,  0.0252],\n",
       "        [-2.0648, -0.1385,  0.2938,  ..., -0.8368, -0.1994,  1.3036],\n",
       "        [-0.0911,  1.2883,  0.2370,  ..., -0.1108,  0.6781,  2.6399]])"
      ]
     },
     "execution_count": 40,
     "metadata": {},
     "output_type": "execute_result"
    }
   ],
   "source": [
    "x_test"
   ]
  },
  {
   "cell_type": "code",
   "execution_count": 41,
   "id": "62bb49cf-e696-4aba-8607-611c2aff465a",
   "metadata": {},
   "outputs": [
    {
     "data": {
      "text/plain": [
       "100"
      ]
     },
     "execution_count": 41,
     "metadata": {},
     "output_type": "execute_result"
    }
   ],
   "source": [
    "N_test_patterns = x_test.shape[0]\n",
    "N_test_patterns"
   ]
  },
  {
   "cell_type": "code",
   "execution_count": 42,
   "id": "c493ab5e-d50e-47f5-b929-36f075d8f464",
   "metadata": {},
   "outputs": [
    {
     "name": "stdout",
     "output_type": "stream",
     "text": [
      "\n",
      "pred=tensor([-0.0315, -0.0110,  0.9442, -0.0222,  0.1111], grad_fn=<AddBackward0>), pred_label=2\n",
      "gt  =tensor([0., 0., 1., 0., 0.]),   gt_label  =2\n",
      "\n",
      "pred=tensor([ 0.9238,  0.0570, -0.0654, -0.0468,  0.1173], grad_fn=<AddBackward0>), pred_label=0\n",
      "gt  =tensor([1., 0., 0., 0., 0.]),   gt_label  =0\n",
      "\n",
      "pred=tensor([-0.0978,  0.0056, -0.0553,  0.8264,  0.3171], grad_fn=<AddBackward0>), pred_label=3\n",
      "gt  =tensor([0., 0., 0., 1., 0.]),   gt_label  =3\n",
      "\n",
      "pred=tensor([ 0.9713, -0.0041,  0.0168,  0.0416, -0.0252], grad_fn=<AddBackward0>), pred_label=0\n",
      "gt  =tensor([1., 0., 0., 0., 0.]),   gt_label  =0\n",
      "\n",
      "pred=tensor([ 0.3918, -0.0532,  0.2430,  0.4189, -0.0171], grad_fn=<AddBackward0>), pred_label=3\n",
      "gt  =tensor([0., 0., 0., 0., 1.]),   gt_label  =4\n",
      "\n",
      "pred=tensor([ 1.1720, -0.0265,  0.0920,  0.1628, -0.4065], grad_fn=<AddBackward0>), pred_label=0\n",
      "gt  =tensor([1., 0., 0., 0., 0.]),   gt_label  =0\n",
      "\n",
      "pred=tensor([-0.1415,  1.0104, -0.0654, -0.0914,  0.2832], grad_fn=<AddBackward0>), pred_label=1\n",
      "gt  =tensor([0., 1., 0., 0., 0.]),   gt_label  =1\n",
      "\n",
      "pred=tensor([ 0.0571,  0.0596, -0.0717,  0.1296,  0.8189], grad_fn=<AddBackward0>), pred_label=4\n",
      "gt  =tensor([0., 0., 0., 0., 1.]),   gt_label  =4\n",
      "\n",
      "pred=tensor([ 0.3296, -0.0284,  0.1795,  0.4277,  0.0945], grad_fn=<AddBackward0>), pred_label=3\n",
      "gt  =tensor([0., 0., 0., 0., 1.]),   gt_label  =4\n",
      "\n",
      "pred=tensor([ 0.7598,  0.0470, -0.1532, -0.0789,  0.4088], grad_fn=<AddBackward0>), pred_label=0\n",
      "gt  =tensor([1., 0., 0., 0., 0.]),   gt_label  =0\n",
      "\n",
      "pred=tensor([-9.6718e-02,  4.0433e-04, -8.7353e-02,  7.4056e-01,  4.4610e-01],\n",
      "       grad_fn=<AddBackward0>), pred_label=3\n",
      "gt  =tensor([0., 0., 0., 1., 0.]),   gt_label  =3\n",
      "\n",
      "pred=tensor([ 0.1631, -0.0346,  1.0402,  0.2082, -0.3739], grad_fn=<AddBackward0>), pred_label=2\n",
      "gt  =tensor([0., 0., 1., 0., 0.]),   gt_label  =2\n",
      "\n",
      "pred=tensor([ 0.0824, -0.0243,  0.0956,  1.1149, -0.2810], grad_fn=<AddBackward0>), pred_label=3\n",
      "gt  =tensor([0., 0., 0., 1., 0.]),   gt_label  =3\n",
      "\n",
      "pred=tensor([-0.2191,  0.0268, -0.1201,  0.5860,  0.7006], grad_fn=<AddBackward0>), pred_label=4\n",
      "gt  =tensor([0., 0., 0., 1., 0.]),   gt_label  =3\n",
      "\n",
      "pred=tensor([-3.6404e-04,  9.5890e-01,  7.2414e-02, -4.5890e-02, -4.8214e-03],\n",
      "       grad_fn=<AddBackward0>), pred_label=1\n",
      "gt  =tensor([0., 1., 0., 0., 0.]),   gt_label  =1\n",
      "\n",
      "pred=tensor([ 0.4814, -0.1007,  0.3307,  0.4756, -0.2350], grad_fn=<AddBackward0>), pred_label=0\n",
      "gt  =tensor([0., 0., 0., 0., 1.]),   gt_label  =4\n",
      "\n",
      "pred=tensor([ 0.9716, -0.0030,  0.0631, -0.0693,  0.0250], grad_fn=<AddBackward0>), pred_label=0\n",
      "gt  =tensor([1., 0., 0., 0., 0.]),   gt_label  =0\n",
      "\n",
      "pred=tensor([ 0.1047, -0.0469,  0.0915,  0.0941,  0.7500], grad_fn=<AddBackward0>), pred_label=4\n",
      "gt  =tensor([0., 0., 0., 0., 1.]),   gt_label  =4\n",
      "\n",
      "pred=tensor([-0.0813,  1.0004, -0.1106, -0.0635,  0.2377], grad_fn=<AddBackward0>), pred_label=1\n",
      "gt  =tensor([0., 1., 0., 0., 0.]),   gt_label  =1\n",
      "\n",
      "pred=tensor([-0.1860,  0.0232, -0.0561,  0.7143,  0.4972], grad_fn=<AddBackward0>), pred_label=3\n",
      "gt  =tensor([0., 0., 0., 1., 0.]),   gt_label  =3\n",
      "\n",
      "pred=tensor([-0.0121, -0.0091,  0.0230,  0.8383,  0.1582], grad_fn=<AddBackward0>), pred_label=3\n",
      "gt  =tensor([0., 0., 0., 1., 0.]),   gt_label  =3\n",
      "\n",
      "pred=tensor([ 0.0852, -0.0057,  0.9596,  0.2055, -0.2384], grad_fn=<AddBackward0>), pred_label=2\n",
      "gt  =tensor([0., 0., 1., 0., 0.]),   gt_label  =2\n",
      "\n",
      "pred=tensor([ 0.3309, -0.0172,  0.1013,  0.5930, -0.0085], grad_fn=<AddBackward0>), pred_label=3\n",
      "gt  =tensor([0., 0., 0., 0., 1.]),   gt_label  =4\n",
      "\n",
      "pred=tensor([ 0.9543,  0.0498, -0.1731,  0.1850,  0.0081], grad_fn=<AddBackward0>), pred_label=0\n",
      "gt  =tensor([1., 0., 0., 0., 0.]),   gt_label  =0\n",
      "\n",
      "pred=tensor([-0.0720, -0.0469,  1.0108, -0.0770,  0.1666], grad_fn=<AddBackward0>), pred_label=2\n",
      "gt  =tensor([0., 0., 1., 0., 0.]),   gt_label  =2\n",
      "\n",
      "pred=tensor([-0.1656, -0.0193, -0.0292,  0.8075,  0.3986], grad_fn=<AddBackward0>), pred_label=3\n",
      "gt  =tensor([0., 0., 0., 1., 0.]),   gt_label  =3\n",
      "\n",
      "pred=tensor([ 1.0282, -0.0584,  0.0312,  0.1026, -0.0860], grad_fn=<AddBackward0>), pred_label=0\n",
      "gt  =tensor([1., 0., 0., 0., 0.]),   gt_label  =0\n",
      "\n",
      "pred=tensor([ 0.0798, -0.0181,  0.0941,  1.2133, -0.3690], grad_fn=<AddBackward0>), pred_label=3\n",
      "gt  =tensor([0., 0., 0., 1., 0.]),   gt_label  =3\n",
      "\n",
      "pred=tensor([-0.0385,  1.0103, -0.0807, -0.0077,  0.0937], grad_fn=<AddBackward0>), pred_label=1\n",
      "gt  =tensor([0., 1., 0., 0., 0.]),   gt_label  =1\n",
      "\n",
      "pred=tensor([ 0.1608, -0.0388,  0.0832,  0.2040,  0.5682], grad_fn=<AddBackward0>), pred_label=4\n",
      "gt  =tensor([0., 0., 0., 0., 1.]),   gt_label  =4\n",
      "\n",
      "pred=tensor([ 0.1278, -0.0163,  0.1086,  0.1030,  0.6629], grad_fn=<AddBackward0>), pred_label=4\n",
      "gt  =tensor([0., 0., 0., 0., 1.]),   gt_label  =4\n",
      "\n",
      "pred=tensor([-0.1670,  0.0737,  0.7048, -0.0726,  0.4534], grad_fn=<AddBackward0>), pred_label=2\n",
      "gt  =tensor([0., 0., 1., 0., 0.]),   gt_label  =2\n",
      "\n",
      "pred=tensor([ 0.2201, -0.0062,  0.0670,  0.3007,  0.4043], grad_fn=<AddBackward0>), pred_label=4\n",
      "gt  =tensor([0., 0., 0., 0., 1.]),   gt_label  =4\n",
      "\n",
      "pred=tensor([-0.1002,  0.0654, -0.1629,  1.0101,  0.1916], grad_fn=<AddBackward0>), pred_label=3\n",
      "gt  =tensor([0., 0., 0., 1., 0.]),   gt_label  =3\n",
      "\n",
      "pred=tensor([ 0.1440, -0.0155,  0.0728,  0.0442,  0.7513], grad_fn=<AddBackward0>), pred_label=4\n",
      "gt  =tensor([0., 0., 0., 0., 1.]),   gt_label  =4\n",
      "\n",
      "pred=tensor([ 0.0081,  0.0065,  0.8940, -0.0267,  0.1274], grad_fn=<AddBackward0>), pred_label=2\n",
      "gt  =tensor([0., 0., 1., 0., 0.]),   gt_label  =2\n",
      "\n",
      "pred=tensor([ 0.1560, -0.0469,  0.1436,  0.2233,  0.5139], grad_fn=<AddBackward0>), pred_label=4\n",
      "gt  =tensor([0., 0., 0., 0., 1.]),   gt_label  =4\n",
      "\n",
      "pred=tensor([ 0.0089,  0.0392,  0.9036,  0.0797, -0.0287], grad_fn=<AddBackward0>), pred_label=2\n",
      "gt  =tensor([0., 0., 1., 0., 0.]),   gt_label  =2\n",
      "\n",
      "pred=tensor([ 0.9840,  0.0472,  0.0507,  0.3660, -0.4527], grad_fn=<AddBackward0>), pred_label=0\n",
      "gt  =tensor([1., 0., 0., 0., 0.]),   gt_label  =0\n",
      "\n",
      "pred=tensor([-0.0189,  0.0082,  0.8108,  0.0255,  0.1778], grad_fn=<AddBackward0>), pred_label=2\n",
      "gt  =tensor([0., 0., 1., 0., 0.]),   gt_label  =2\n",
      "\n",
      "pred=tensor([ 0.6186,  0.1249, -0.1274, -0.0581,  0.4175], grad_fn=<AddBackward0>), pred_label=0\n",
      "gt  =tensor([1., 0., 0., 0., 0.]),   gt_label  =0\n",
      "\n",
      "pred=tensor([ 0.1873, -0.0225,  0.0847,  0.1924,  0.5531], grad_fn=<AddBackward0>), pred_label=4\n",
      "gt  =tensor([0., 0., 0., 0., 1.]),   gt_label  =4\n",
      "\n",
      "pred=tensor([-0.0124,  0.0219,  0.9027, -0.0344,  0.1174], grad_fn=<AddBackward0>), pred_label=2\n",
      "gt  =tensor([0., 0., 1., 0., 0.]),   gt_label  =2\n",
      "\n",
      "pred=tensor([ 0.0716, -0.0399,  0.0792,  0.1604,  0.7251], grad_fn=<AddBackward0>), pred_label=4\n",
      "gt  =tensor([0., 0., 0., 0., 1.]),   gt_label  =4\n",
      "\n",
      "pred=tensor([-0.0192,  0.9973, -0.0989, -0.0186,  0.1182], grad_fn=<AddBackward0>), pred_label=1\n",
      "gt  =tensor([0., 1., 0., 0., 0.]),   gt_label  =1\n",
      "\n",
      "pred=tensor([ 1.1718, -0.0487,  0.0753,  0.3521, -0.5390], grad_fn=<AddBackward0>), pred_label=0\n",
      "gt  =tensor([1., 0., 0., 0., 0.]),   gt_label  =0\n",
      "\n",
      "pred=tensor([ 0.1076, -0.0320,  0.1180,  1.1893, -0.3991], grad_fn=<AddBackward0>), pred_label=3\n",
      "gt  =tensor([0., 0., 0., 1., 0.]),   gt_label  =3\n",
      "\n",
      "pred=tensor([ 0.9503, -0.0237,  0.1074,  0.0426, -0.0863], grad_fn=<AddBackward0>), pred_label=0\n",
      "gt  =tensor([1., 0., 0., 0., 0.]),   gt_label  =0\n",
      "\n",
      "pred=tensor([ 0.1058, -0.0158,  0.0787,  0.2326,  0.5767], grad_fn=<AddBackward0>), pred_label=4\n",
      "gt  =tensor([0., 0., 0., 0., 1.]),   gt_label  =4\n",
      "\n",
      "pred=tensor([ 0.1030,  0.0043,  0.9524,  0.2889, -0.3621], grad_fn=<AddBackward0>), pred_label=2\n",
      "gt  =tensor([0., 0., 1., 0., 0.]),   gt_label  =2\n",
      "\n",
      "pred=tensor([-0.0933, -0.0199,  0.0402,  0.7743,  0.2850], grad_fn=<AddBackward0>), pred_label=3\n",
      "gt  =tensor([0., 0., 0., 1., 0.]),   gt_label  =3\n",
      "\n",
      "pred=tensor([-0.0990,  1.0833, -0.1320, -0.0724,  0.2019], grad_fn=<AddBackward0>), pred_label=1\n",
      "gt  =tensor([0., 1., 0., 0., 0.]),   gt_label  =1\n",
      "\n",
      "pred=tensor([ 0.2167, -0.0156,  0.1454,  0.2759,  0.3626], grad_fn=<AddBackward0>), pred_label=4\n",
      "gt  =tensor([0., 0., 0., 0., 1.]),   gt_label  =4\n",
      "\n",
      "pred=tensor([ 0.2506, -0.0313,  0.0932,  0.4378,  0.2433], grad_fn=<AddBackward0>), pred_label=3\n",
      "gt  =tensor([0., 0., 0., 0., 1.]),   gt_label  =4\n",
      "\n",
      "pred=tensor([ 0.0359,  0.0335, -0.0299,  0.0467,  0.9102], grad_fn=<AddBackward0>), pred_label=4\n",
      "gt  =tensor([0., 0., 0., 0., 1.]),   gt_label  =4\n",
      "\n",
      "pred=tensor([-0.3760,  0.0468, -0.1229,  0.7065,  0.7380], grad_fn=<AddBackward0>), pred_label=4\n",
      "gt  =tensor([0., 0., 0., 1., 0.]),   gt_label  =3\n",
      "\n",
      "pred=tensor([ 0.0894, -0.0373,  0.1343,  1.2090, -0.4149], grad_fn=<AddBackward0>), pred_label=3\n",
      "gt  =tensor([0., 0., 0., 1., 0.]),   gt_label  =3\n",
      "\n",
      "pred=tensor([-0.1927,  0.0202,  0.8568, -0.1923,  0.4937], grad_fn=<AddBackward0>), pred_label=2\n",
      "gt  =tensor([0., 0., 1., 0., 0.]),   gt_label  =2\n",
      "\n",
      "pred=tensor([-0.0162,  0.0316, -0.0233,  0.0419,  0.9489], grad_fn=<AddBackward0>), pred_label=4\n",
      "gt  =tensor([0., 0., 0., 0., 1.]),   gt_label  =4\n",
      "\n",
      "pred=tensor([ 0.1072, -0.0420,  0.8965, -0.0421,  0.0988], grad_fn=<AddBackward0>), pred_label=2\n",
      "gt  =tensor([0., 0., 1., 0., 0.]),   gt_label  =2\n",
      "\n",
      "pred=tensor([-0.2923,  0.9844, -0.1263, -0.2978,  0.7082], grad_fn=<AddBackward0>), pred_label=1\n",
      "gt  =tensor([0., 1., 0., 0., 0.]),   gt_label  =1\n",
      "\n",
      "pred=tensor([ 1.0283, -0.0122,  0.0648,  0.0341, -0.1191], grad_fn=<AddBackward0>), pred_label=0\n",
      "gt  =tensor([1., 0., 0., 0., 0.]),   gt_label  =0\n",
      "\n",
      "pred=tensor([ 1.0987,  0.0218, -0.0494,  0.1414, -0.2216], grad_fn=<AddBackward0>), pred_label=0\n",
      "gt  =tensor([1., 0., 0., 0., 0.]),   gt_label  =0\n",
      "\n",
      "pred=tensor([ 0.0942,  0.9850,  0.0459,  0.0626, -0.2042], grad_fn=<AddBackward0>), pred_label=1\n",
      "gt  =tensor([0., 1., 0., 0., 0.]),   gt_label  =1\n",
      "\n",
      "pred=tensor([-0.2776, -0.0037,  0.0737,  0.8873,  0.3030], grad_fn=<AddBackward0>), pred_label=3\n",
      "gt  =tensor([0., 0., 0., 1., 0.]),   gt_label  =3\n",
      "\n",
      "pred=tensor([ 0.8487,  0.0112, -0.0609, -0.1417,  0.3463], grad_fn=<AddBackward0>), pred_label=0\n",
      "gt  =tensor([1., 0., 0., 0., 0.]),   gt_label  =0\n",
      "\n",
      "pred=tensor([-0.0684,  0.0362, -0.0593,  0.8691,  0.2136], grad_fn=<AddBackward0>), pred_label=3\n",
      "gt  =tensor([0., 0., 0., 1., 0.]),   gt_label  =3\n",
      "\n",
      "pred=tensor([-0.1091,  0.0054,  0.8876, -0.1247,  0.3372], grad_fn=<AddBackward0>), pred_label=2\n",
      "gt  =tensor([0., 0., 1., 0., 0.]),   gt_label  =2\n",
      "\n",
      "pred=tensor([-0.0386,  0.0736,  0.8112,  0.0405,  0.1151], grad_fn=<AddBackward0>), pred_label=2\n",
      "gt  =tensor([0., 0., 1., 0., 0.]),   gt_label  =2\n",
      "\n",
      "pred=tensor([ 0.2818, -0.0465,  0.1499,  0.4557,  0.1488], grad_fn=<AddBackward0>), pred_label=3\n",
      "gt  =tensor([0., 0., 0., 0., 1.]),   gt_label  =4\n",
      "\n",
      "pred=tensor([ 0.0789,  0.0115,  0.0144,  0.9949, -0.1008], grad_fn=<AddBackward0>), pred_label=3\n",
      "gt  =tensor([0., 0., 0., 1., 0.]),   gt_label  =3\n",
      "\n",
      "pred=tensor([ 0.1370,  0.9638,  0.1428,  0.1632, -0.4305], grad_fn=<AddBackward0>), pred_label=1\n",
      "gt  =tensor([0., 1., 0., 0., 0.]),   gt_label  =1\n",
      "\n",
      "pred=tensor([ 0.0974, -0.0078,  0.9228,  0.0095, -0.0378], grad_fn=<AddBackward0>), pred_label=2\n",
      "gt  =tensor([0., 0., 1., 0., 0.]),   gt_label  =2\n",
      "\n",
      "pred=tensor([-0.0812,  0.0101,  0.9601, -0.0637,  0.1829], grad_fn=<AddBackward0>), pred_label=2\n",
      "gt  =tensor([0., 0., 1., 0., 0.]),   gt_label  =2\n",
      "\n",
      "pred=tensor([-0.1016, -0.0081,  0.8857, -0.0472,  0.2470], grad_fn=<AddBackward0>), pred_label=2\n",
      "gt  =tensor([0., 0., 1., 0., 0.]),   gt_label  =2\n",
      "\n",
      "pred=tensor([ 0.0116,  0.9663, -0.0440, -0.0393,  0.0916], grad_fn=<AddBackward0>), pred_label=1\n",
      "gt  =tensor([0., 1., 0., 0., 0.]),   gt_label  =1\n",
      "\n",
      "pred=tensor([ 0.0552, -0.0180,  0.0132,  1.1081, -0.1528], grad_fn=<AddBackward0>), pred_label=3\n",
      "gt  =tensor([0., 0., 0., 1., 0.]),   gt_label  =3\n",
      "\n",
      "pred=tensor([-0.0405, -0.0267, -0.0145,  0.7926,  0.2879], grad_fn=<AddBackward0>), pred_label=3\n",
      "gt  =tensor([0., 0., 0., 1., 0.]),   gt_label  =3\n",
      "\n",
      "pred=tensor([-0.0482,  0.9554, -0.0235, -0.0616,  0.1576], grad_fn=<AddBackward0>), pred_label=1\n",
      "gt  =tensor([0., 1., 0., 0., 0.]),   gt_label  =1\n",
      "\n",
      "pred=tensor([ 0.2479, -0.0588,  0.1765,  0.2264,  0.4018], grad_fn=<AddBackward0>), pred_label=4\n",
      "gt  =tensor([0., 0., 0., 0., 1.]),   gt_label  =4\n",
      "\n",
      "pred=tensor([-0.0020,  0.9813,  0.0409,  0.0453, -0.0800], grad_fn=<AddBackward0>), pred_label=1\n",
      "gt  =tensor([0., 1., 0., 0., 0.]),   gt_label  =1\n",
      "\n",
      "pred=tensor([ 0.0619, -0.0292,  0.0505,  0.1394,  0.7578], grad_fn=<AddBackward0>), pred_label=4\n",
      "gt  =tensor([0., 0., 0., 0., 1.]),   gt_label  =4\n",
      "\n",
      "pred=tensor([ 0.0832,  0.9244,  0.1426,  0.0822, -0.2620], grad_fn=<AddBackward0>), pred_label=1\n",
      "gt  =tensor([0., 1., 0., 0., 0.]),   gt_label  =1\n",
      "\n",
      "pred=tensor([-0.0782, -0.0549,  0.9955, -0.0857,  0.2129], grad_fn=<AddBackward0>), pred_label=2\n",
      "gt  =tensor([0., 0., 1., 0., 0.]),   gt_label  =2\n",
      "\n",
      "pred=tensor([-0.1478,  0.0129, -0.0205,  0.6975,  0.4419], grad_fn=<AddBackward0>), pred_label=3\n",
      "gt  =tensor([0., 0., 0., 1., 0.]),   gt_label  =3\n",
      "\n",
      "pred=tensor([-0.0282, -0.0011,  1.0239,  0.1355, -0.1358], grad_fn=<AddBackward0>), pred_label=2\n",
      "gt  =tensor([0., 0., 1., 0., 0.]),   gt_label  =2\n",
      "\n",
      "pred=tensor([ 0.0222,  0.0125, -0.0449,  1.1399, -0.1355], grad_fn=<AddBackward0>), pred_label=3\n",
      "gt  =tensor([0., 0., 0., 1., 0.]),   gt_label  =3\n",
      "\n",
      "pred=tensor([-0.0369,  0.0224, -0.0595,  0.7441,  0.3274], grad_fn=<AddBackward0>), pred_label=3\n",
      "gt  =tensor([0., 0., 0., 1., 0.]),   gt_label  =3\n",
      "\n",
      "pred=tensor([ 0.1645,  0.9554,  0.0932,  0.1548, -0.3971], grad_fn=<AddBackward0>), pred_label=1\n",
      "gt  =tensor([0., 1., 0., 0., 0.]),   gt_label  =1\n",
      "\n",
      "pred=tensor([-0.0479,  0.9936, -0.0400, -0.0764,  0.1525], grad_fn=<AddBackward0>), pred_label=1\n",
      "gt  =tensor([0., 1., 0., 0., 0.]),   gt_label  =1\n",
      "\n",
      "pred=tensor([ 0.8678,  0.0143, -0.1184, -0.0852,  0.3253], grad_fn=<AddBackward0>), pred_label=0\n",
      "gt  =tensor([1., 0., 0., 0., 0.]),   gt_label  =0\n",
      "\n",
      "pred=tensor([-0.0563,  0.9828, -0.0142, -0.0818,  0.1533], grad_fn=<AddBackward0>), pred_label=1\n",
      "gt  =tensor([0., 1., 0., 0., 0.]),   gt_label  =1\n",
      "\n",
      "pred=tensor([ 0.1377, -0.0200,  0.9792,  0.2197, -0.3244], grad_fn=<AddBackward0>), pred_label=2\n",
      "gt  =tensor([0., 0., 1., 0., 0.]),   gt_label  =2\n",
      "\n",
      "pred=tensor([ 0.1855, -0.0051,  0.0768,  0.3116,  0.4207], grad_fn=<AddBackward0>), pred_label=4\n",
      "gt  =tensor([0., 0., 0., 0., 1.]),   gt_label  =4\n",
      "\n",
      "pred=tensor([-0.0887,  0.0641,  0.7940, -0.0855,  0.3230], grad_fn=<AddBackward0>), pred_label=2\n",
      "gt  =tensor([0., 0., 1., 0., 0.]),   gt_label  =2\n",
      "\n",
      "pred=tensor([-0.0479, -0.0472,  0.9943, -0.1608,  0.2473], grad_fn=<AddBackward0>), pred_label=2\n",
      "gt  =tensor([0., 0., 1., 0., 0.]),   gt_label  =2\n",
      "\n",
      "pred=tensor([ 0.0930,  0.9754,  0.0874,  0.0846, -0.2553], grad_fn=<AddBackward0>), pred_label=1\n",
      "gt  =tensor([0., 1., 0., 0., 0.]),   gt_label  =1\n",
      "\n",
      "pred=tensor([ 0.0120, -0.0381,  1.0021,  0.0586, -0.0522], grad_fn=<AddBackward0>), pred_label=2\n",
      "gt  =tensor([0., 0., 1., 0., 0.]),   gt_label  =2\n",
      "\n",
      "pred=tensor([ 0.1464, -0.0386,  0.0774,  0.2712,  0.5350], grad_fn=<AddBackward0>), pred_label=4\n",
      "gt  =tensor([0., 0., 0., 0., 1.]),   gt_label  =4\n",
      "\n",
      "pred=tensor([ 0.0054, -0.0127,  0.0662,  0.8850,  0.0257], grad_fn=<AddBackward0>), pred_label=3\n",
      "gt  =tensor([0., 0., 0., 1., 0.]),   gt_label  =3\n",
      "Classified 92.0% of the 100 test patterns correctly.\n"
     ]
    }
   ],
   "source": [
    "correct = 0\n",
    "for test_pattern_idx in range(N_test_patterns):\n",
    "    input_vec = x_test[test_pattern_idx]\n",
    "    #print(input_vec)\n",
    "    gt        = y_test[test_pattern_idx]\n",
    "    \n",
    "    pred = net(input_vec)\n",
    "    pred_label = torch.argmax( pred )\n",
    "    gt_label   = torch.argmax( gt )\n",
    "    print()\n",
    "    print( f\"pred={pred}, pred_label={pred_label}\" )\n",
    "    print( f\"gt  ={gt},   gt_label  ={gt_label}\"   )\n",
    "    \n",
    "    if pred_label == gt_label:\n",
    "        correct += 1\n",
    "        \n",
    "CCR = correct/N_test_patterns\n",
    "print( f\"Classified {CCR*100}% of the {N_test_patterns} test patterns correctly.\" ) "
   ]
  },
  {
   "cell_type": "markdown",
   "id": "aef2eeb2-d55a-4d80-b150-9afa54c71b96",
   "metadata": {},
   "source": [
    "# Analysing the learned weights"
   ]
  },
  {
   "cell_type": "code",
   "execution_count": 43,
   "id": "b2659657-0c1e-473d-9e99-179e0f420803",
   "metadata": {},
   "outputs": [
    {
     "data": {
      "text/plain": [
       "MLP(\n",
       "  (fc1): Linear(in_features=36, out_features=20, bias=True)\n",
       "  (actfunc): ReLU()\n",
       "  (fc2): Linear(in_features=20, out_features=5, bias=True)\n",
       ")"
      ]
     },
     "execution_count": 43,
     "metadata": {},
     "output_type": "execute_result"
    }
   ],
   "source": [
    "net"
   ]
  },
  {
   "cell_type": "code",
   "execution_count": 44,
   "id": "4e890274-b4d8-417b-b249-4c1ed18ff69c",
   "metadata": {},
   "outputs": [
    {
     "data": {
      "text/plain": [
       "torch.Size([20, 36])"
      ]
     },
     "execution_count": 44,
     "metadata": {},
     "output_type": "execute_result"
    }
   ],
   "source": [
    "net.fc1.weight.shape"
   ]
  },
  {
   "cell_type": "code",
   "execution_count": 45,
   "id": "10ba1456-d731-42d6-81bf-0dac83960661",
   "metadata": {},
   "outputs": [
    {
     "data": {
      "text/plain": [
       "Parameter containing:\n",
       "tensor([[ 6.4264e-03,  4.4631e-03, -2.1774e-03,  1.3875e-02, -7.4734e-03,\n",
       "          8.9291e-03,  1.3012e-04, -1.5830e-03,  7.5183e-03, -6.5153e-03,\n",
       "          2.4415e-03, -1.0849e-03,  1.9023e-03,  8.3983e-03, -2.6546e+00,\n",
       "          2.5485e+00, -2.3088e-03,  4.8130e-03, -1.2009e-03,  2.0540e-03,\n",
       "          3.1671e+00, -1.3186e+00, -2.0147e-03,  7.1198e-03,  1.3177e-03,\n",
       "          4.3002e-03,  1.1167e-02,  6.3468e-03,  3.1025e-03, -6.7504e-03,\n",
       "         -1.2123e-02, -1.4406e-02,  8.6464e-03,  4.5082e-03,  9.6505e-03,\n",
       "          8.5798e-03],\n",
       "        [ 1.2102e-01, -6.5012e-02, -5.5323e-02,  6.4320e-02,  1.2157e-01,\n",
       "         -1.2138e-01, -8.3345e-02,  5.4457e-03,  5.2204e-02, -7.3021e-02,\n",
       "         -2.1139e-01,  1.7588e-01, -1.0803e-01, -5.6062e-02,  9.9637e-01,\n",
       "          2.8686e+00, -2.2001e-03,  2.3554e-01, -1.2713e-01,  1.8171e-01,\n",
       "         -9.6578e-01, -7.5181e-01,  1.2655e-01,  1.4706e-01,  5.8377e-02,\n",
       "         -1.3243e-01, -3.2812e-02, -7.6999e-02,  1.0370e-01,  2.1623e-01,\n",
       "          1.5939e-01,  1.2895e-01,  1.1325e-01, -1.8524e-01,  8.4834e-03,\n",
       "          1.0703e-01],\n",
       "        [-6.0184e-02, -4.1728e-02,  6.6450e-02,  1.3725e-02, -8.8092e-03,\n",
       "          6.2876e-02,  1.7503e-02,  1.1761e-02, -1.3343e-03,  4.9260e-02,\n",
       "         -1.3257e-03,  4.4929e-02,  2.6321e-02,  3.4220e-02,  1.8124e+00,\n",
       "         -3.0363e+00,  6.5233e-02,  1.9564e-02,  8.9358e-03,  8.5591e-02,\n",
       "          2.4673e+00,  8.8191e-02,  3.2748e-02, -9.1617e-03,  2.5698e-02,\n",
       "          1.8856e-02,  9.2052e-04, -3.5042e-02, -3.3391e-02,  2.8251e-02,\n",
       "          1.4826e-02, -7.1729e-03,  5.4661e-02, -2.1941e-02,  6.9045e-02,\n",
       "         -1.6645e-02],\n",
       "        [-2.6468e-02, -6.1907e-03, -6.2239e-03, -6.0002e-03,  2.9998e-03,\n",
       "          5.8760e-03, -1.5526e-03, -3.8786e-03,  3.3046e-03,  2.8287e-02,\n",
       "          2.6631e-03, -4.4184e-03,  1.2197e-02, -1.0723e-02, -7.7535e-01,\n",
       "          9.6003e-01, -1.4618e-02,  2.4528e-03, -8.8600e-03,  8.8158e-03,\n",
       "          1.0877e+00,  3.2514e+00,  9.2936e-03, -1.4173e-04, -2.6326e-03,\n",
       "          6.1553e-03, -5.6017e-03, -6.2117e-03, -1.1477e-02,  1.2028e-02,\n",
       "         -4.1867e-03,  2.4917e-02,  5.5355e-03,  1.0596e-02,  1.1262e-02,\n",
       "          1.0554e-02],\n",
       "        [-9.1421e-03, -6.0543e-03,  6.0816e-02, -1.6611e-02,  1.6355e-02,\n",
       "          4.0844e-02,  4.6507e-02,  2.0011e-03, -3.3840e-02, -3.5773e-02,\n",
       "         -4.0634e-02,  7.4396e-02,  2.0269e-02,  3.4233e-02, -2.3663e+00,\n",
       "          1.2969e+00,  1.0618e-01,  3.9382e-02,  1.4564e-02, -2.3631e-02,\n",
       "         -2.9713e+00, -2.4288e-02,  6.3783e-03, -6.0092e-02,  2.4859e-02,\n",
       "         -2.7439e-02, -2.1443e-02, -1.8730e-02,  5.6218e-02,  1.9891e-02,\n",
       "          3.1011e-02,  9.6180e-03,  4.4017e-02, -3.6562e-03,  5.2052e-03,\n",
       "         -5.5994e-02],\n",
       "        [-1.1318e-01, -7.2326e-02,  1.1750e-02,  6.0441e-02, -2.2050e-01,\n",
       "         -7.7829e-02,  2.9935e-02, -1.8615e-01, -2.2906e-01,  7.8369e-05,\n",
       "          6.2359e-02, -3.9109e-02, -3.3653e-02,  1.9030e-01,  1.4555e+00,\n",
       "          2.0748e+00,  2.0488e-01,  3.9883e-02, -1.4519e-02, -6.4501e-02,\n",
       "         -4.4364e-01,  2.4362e+00, -1.1281e-01, -1.5110e-01, -2.5733e-01,\n",
       "          1.8227e-02, -2.3845e-03, -6.5119e-02,  1.6317e-01, -3.5051e-03,\n",
       "          1.0059e-01, -1.5669e-01,  1.0660e-01,  4.9983e-02, -6.8279e-02,\n",
       "         -6.4317e-02],\n",
       "        [-1.5196e-01,  2.9028e-02, -6.9806e-03, -1.8504e-02,  7.8300e-02,\n",
       "         -2.7406e-02,  7.1213e-02, -4.2322e-02, -2.7990e-01,  3.4887e-02,\n",
       "         -3.9598e-02, -8.7558e-02, -3.2634e-02, -5.5295e-02, -1.7100e+00,\n",
       "         -6.0542e-01,  1.8640e-02, -1.4323e-01, -8.5008e-02,  1.9617e-01,\n",
       "         -1.3444e+00, -1.1590e+00,  5.3433e-02, -2.0396e-01,  5.9685e-02,\n",
       "         -5.7613e-02,  9.5177e-02,  1.6809e-01, -2.9990e-01, -2.8414e-01,\n",
       "          6.1851e-02,  2.2017e-01, -9.2360e-02, -6.5385e-02, -3.3420e-01,\n",
       "          1.2057e-01],\n",
       "        [ 1.2430e-02,  1.5893e-02,  9.6281e-02, -4.5310e-02,  1.5744e-02,\n",
       "          5.6725e-02,  1.6738e-01, -1.1878e-01,  1.5505e-02,  1.5153e-01,\n",
       "          2.7569e-02, -2.0644e-01, -2.0877e-01,  2.2496e-01, -9.6969e-02,\n",
       "          2.6323e+00,  1.8817e-02,  2.4496e-02,  1.4917e-01,  1.4963e-01,\n",
       "          4.1270e-01, -6.3110e-01,  2.3374e-01, -1.9690e-01, -2.0004e-01,\n",
       "          5.6785e-02,  5.0617e-03, -1.3928e-02,  5.8634e-02, -9.7503e-03,\n",
       "         -4.9709e-02,  4.8497e-02,  1.6945e-01,  9.3629e-02,  1.0253e-01,\n",
       "         -1.4479e-01],\n",
       "        [-8.7325e-02, -6.7884e-02,  4.3746e-02,  1.5357e-02, -1.6412e-01,\n",
       "          1.1887e-01, -1.1257e-02, -6.3823e-02,  9.4802e-02,  1.0333e-01,\n",
       "         -1.0418e-01,  2.0494e-01, -2.6810e-01, -1.3035e-01, -2.2361e+00,\n",
       "          1.9020e-01,  8.5636e-03, -6.5647e-02,  1.9192e-02,  2.7861e-01,\n",
       "         -2.0199e+00, -2.4761e-01,  6.1757e-02,  2.3073e-01,  4.1320e-02,\n",
       "          5.9656e-03,  1.3060e-01,  1.3414e-02, -3.5604e-02,  1.2963e-01,\n",
       "         -1.4437e-01, -6.8681e-02,  3.5064e-02, -7.2551e-02,  3.3037e-01,\n",
       "          4.0137e-02],\n",
       "        [-3.0295e-01, -1.0687e-01,  5.2915e-03,  3.1632e-02,  3.6700e-03,\n",
       "          6.2320e-02, -5.4861e-02,  1.7407e-01, -4.9803e-02,  5.9167e-02,\n",
       "         -1.2006e-01,  1.1322e-02, -2.5690e-01, -5.2314e-03,  1.6202e+00,\n",
       "          2.6402e+00, -5.6574e-02, -2.4714e-01, -4.1712e-02, -2.0882e-02,\n",
       "         -1.0569e+00, -1.6859e-01, -2.0686e-01,  1.4561e-01,  4.2354e-02,\n",
       "          1.4258e-01, -5.9672e-02,  5.6379e-02, -5.3468e-02,  3.6696e-02,\n",
       "          1.8830e-01, -5.2036e-02, -2.4912e-01, -4.4898e-02,  1.9307e-02,\n",
       "          1.1183e-01],\n",
       "        [ 9.4703e-02,  1.7275e-02, -2.5545e-01, -3.3264e-02,  5.5554e-02,\n",
       "         -1.5649e-01, -1.2167e-01,  7.4135e-02,  1.2114e-03, -2.6594e-01,\n",
       "          5.4017e-02, -3.5470e-01, -1.2945e-01, -7.1814e-02, -1.9524e+00,\n",
       "          6.4822e-01, -2.9282e-01,  1.6036e-02, -1.2382e-01, -1.4990e-01,\n",
       "         -1.7046e+00, -5.7954e-01,  6.4646e-02, -1.4305e-01, -7.9165e-02,\n",
       "         -1.4688e-01,  2.4181e-02, -8.3465e-02,  9.3683e-02,  2.1161e-02,\n",
       "          2.1881e-02, -2.0999e-01, -2.1245e-01,  5.6900e-02,  7.7284e-02,\n",
       "         -5.3197e-02],\n",
       "        [ 3.6220e-02,  3.7794e-02, -5.3942e-02,  3.3033e-02, -1.0815e-01,\n",
       "         -5.4942e-02,  1.5744e-02, -1.3303e-02,  2.1336e-02, -3.2103e-02,\n",
       "          3.3082e-02,  5.6079e-03,  1.3507e-02, -3.4733e-02,  2.5130e+00,\n",
       "         -2.2563e-01, -1.3133e-01, -1.0927e-02, -2.3340e-02,  9.3044e-02,\n",
       "          2.9481e+00, -8.2981e-01, -9.2364e-03,  1.1677e-02,  1.2100e-01,\n",
       "         -1.6109e-01,  3.8488e-02, -2.9919e-02,  3.0268e-02, -1.6496e-01,\n",
       "         -2.9099e-02,  1.3845e-01, -7.9868e-03, -4.5741e-02, -1.6259e-02,\n",
       "         -5.2897e-02],\n",
       "        [ 1.0434e-02, -1.1413e-02,  2.6997e-03, -2.1485e-02,  5.8687e-03,\n",
       "          5.4027e-02,  6.5621e-03,  3.1903e-02, -1.2748e-02, -5.4728e-02,\n",
       "         -2.8356e-02,  6.7613e-02, -7.1562e-02, -3.2053e-02,  1.9295e+00,\n",
       "         -2.1033e+00,  7.1283e-02, -2.4749e-02, -3.1917e-02, -5.2777e-02,\n",
       "         -1.5094e+00, -8.0631e-01,  3.6915e-02, -3.3085e-02,  1.3814e-03,\n",
       "          2.1139e-03, -4.1297e-03, -1.7256e-02,  6.0728e-02, -4.1521e-02,\n",
       "         -6.3307e-03,  3.2106e-03, -1.0700e-02, -4.0497e-03,  1.1973e-02,\n",
       "         -7.9922e-03],\n",
       "        [ 7.4001e-02,  1.0683e-01,  8.4573e-02, -9.3655e-02,  8.6450e-02,\n",
       "         -1.5719e-02,  1.6422e-01, -1.1545e-01,  1.0717e-01, -1.1174e-01,\n",
       "         -3.4810e-02,  1.9156e-01,  2.1916e-03, -2.8656e-01,  2.0699e+00,\n",
       "          2.4731e+00,  2.1217e-01,  9.8974e-02,  1.5466e-01, -8.0189e-02,\n",
       "          2.3729e-01, -2.5536e-01, -4.7188e-02, -5.0346e-02, -9.0821e-02,\n",
       "         -2.9714e-02,  2.4037e-01, -7.2739e-03, -1.0082e-01,  4.0081e-02,\n",
       "         -2.0055e-01, -9.9729e-02, -2.1669e-01,  1.2318e-01, -5.6691e-02,\n",
       "          1.8618e-02],\n",
       "        [ 3.0336e-02,  1.7006e-02,  4.0122e-02,  3.0942e-03,  5.1625e-02,\n",
       "         -1.0592e-01,  7.3650e-02, -7.7297e-02, -3.8767e-02, -2.9494e-02,\n",
       "         -9.3812e-02,  2.8096e-02,  6.8063e-02,  1.0978e-01,  8.5028e-01,\n",
       "         -2.6364e+00,  6.2714e-02,  1.0419e-01,  1.2303e-01, -4.8229e-02,\n",
       "         -5.7776e-01, -1.7843e+00, -9.5966e-02,  1.0525e-02, -5.6907e-02,\n",
       "         -7.2798e-02, -2.0513e-02,  8.6451e-02,  1.1280e-01,  2.1385e-01,\n",
       "          2.3650e-02, -5.6055e-02,  1.1417e-02,  7.1585e-02, -6.9215e-02,\n",
       "         -5.1323e-02],\n",
       "        [ 5.5344e-02,  5.5145e-02, -2.1886e-01,  7.3005e-02,  6.3843e-03,\n",
       "          4.2217e-03,  6.0104e-02, -8.5608e-02, -3.3996e-01, -7.9869e-02,\n",
       "         -2.4807e-01,  2.7120e-02,  2.6596e-01,  7.7859e-02,  7.1300e-01,\n",
       "          2.7966e-01, -5.9037e-02,  1.2287e-01, -1.5823e-01, -9.7150e-02,\n",
       "          1.1224e+00,  1.3560e+00,  1.5341e-01, -1.3415e-01,  2.1616e-02,\n",
       "         -1.9439e-01, -5.8831e-02,  1.3819e-01,  1.5329e-01,  1.9586e-01,\n",
       "          1.6165e-01, -1.8513e-01, -7.8454e-03,  1.8218e-02,  1.6765e-02,\n",
       "          9.9805e-02],\n",
       "        [-3.8198e-02, -3.9503e-03, -1.1798e-02, -4.5243e-02,  2.1435e-02,\n",
       "          3.2976e-02,  2.0348e-02,  5.7196e-03, -2.9636e-02,  1.2458e-02,\n",
       "         -2.8384e-02,  1.5694e-02, -4.4896e-02, -2.7982e-02, -1.0433e+00,\n",
       "          4.4289e-01,  2.6213e-02, -9.0749e-03, -1.5248e-02, -6.6578e-02,\n",
       "          3.9193e+00, -6.8184e-01,  3.5823e-02, -5.6686e-02, -4.1295e-02,\n",
       "          4.8317e-02, -4.3132e-02, -3.3553e-02,  2.5206e-02,  8.7061e-03,\n",
       "          2.9647e-02,  4.7615e-02, -2.0327e-03,  2.3733e-02, -2.2802e-02,\n",
       "         -6.4547e-03],\n",
       "        [ 1.7348e-02,  8.6921e-02,  5.7543e-02, -3.1771e-02,  6.5626e-02,\n",
       "         -2.3832e-03,  6.1252e-02, -1.0527e-01, -3.2782e-02, -9.0681e-02,\n",
       "         -4.4427e-02, -2.6996e-02,  5.1868e-02,  7.0172e-02, -1.3915e+00,\n",
       "         -3.7599e+00,  2.8422e-03,  1.6404e-02,  4.5202e-02, -9.9216e-02,\n",
       "          1.9610e+00,  8.9817e-01, -8.3290e-02, -1.3868e-01, -1.7044e-02,\n",
       "         -6.3964e-02,  5.6674e-03,  9.9414e-03,  9.1709e-02, -6.2137e-03,\n",
       "          3.0471e-02, -1.1448e-02, -4.7408e-02,  1.8099e-02, -1.1070e-01,\n",
       "         -8.3375e-02],\n",
       "        [ 5.6612e-02, -8.8457e-02, -2.7660e-02,  3.9759e-02, -2.7326e-02,\n",
       "         -1.1014e-02,  9.9972e-03,  4.1085e-02, -1.6864e-03, -8.4757e-02,\n",
       "         -7.5872e-02,  1.1716e-01, -1.8203e-01, -6.1248e-02, -1.9687e+00,\n",
       "         -2.4036e+00,  1.4805e-01, -1.2257e-02,  5.2017e-03, -1.4124e-02,\n",
       "          1.7730e+00,  1.6301e+00,  4.0330e-02,  8.1204e-02, -1.5401e-02,\n",
       "         -3.1760e-02,  1.5044e-02,  2.7639e-02,  1.2818e-01,  3.7553e-02,\n",
       "         -2.2114e-02, -3.6353e-02, -2.7325e-03,  1.3182e-03,  5.5193e-02,\n",
       "          1.2117e-02],\n",
       "        [ 9.4728e-02, -1.3265e-01, -1.9894e-02,  1.0334e-01,  1.1527e-02,\n",
       "          7.3929e-02,  2.4234e-02,  8.9614e-02, -6.0617e-02, -7.4464e-02,\n",
       "          8.3383e-02, -1.1402e-01,  3.3270e-02,  1.8208e-01,  1.6247e+00,\n",
       "          2.5443e+00, -1.6064e-01, -1.1488e-01,  1.6602e-02,  1.5337e-01,\n",
       "         -2.1125e+00,  2.0204e+00,  8.7473e-02,  1.0617e-02,  6.9340e-02,\n",
       "          1.2107e-02,  6.2303e-02,  1.0588e-01,  9.2453e-02,  4.9673e-02,\n",
       "         -1.7558e-01, -2.1347e-01, -3.5195e-02,  3.9550e-02, -3.1437e-02,\n",
       "          2.2015e-02]], requires_grad=True)"
      ]
     },
     "execution_count": 45,
     "metadata": {},
     "output_type": "execute_result"
    }
   ],
   "source": [
    "net.fc1.weight"
   ]
  },
  {
   "cell_type": "code",
   "execution_count": 46,
   "id": "befa7a95-9dd9-4625-abbd-18f76567f7c0",
   "metadata": {},
   "outputs": [
    {
     "data": {
      "image/png": "[encoded data removed]",
      "text/plain": [
       "<Figure size 640x480 with 2 Axes>"
      ]
     },
     "metadata": {},
     "output_type": "display_data"
    }
   ],
   "source": [
    "import seaborn\n",
    "M = net.fc1.weight.detach().numpy()\n",
    "seaborn.heatmap( M, cmap=\"coolwarm\" )\n",
    "plt.show()"
   ]
  },
  {
   "cell_type": "code",
   "execution_count": 47,
   "id": "7a520902-7a25-4a5a-a078-89810e2ca89e",
   "metadata": {},
   "outputs": [
    {
     "data": {
      "text/plain": [
       "array([[ 0,  1,  2,  3,  4,  5],\n",
       "       [ 6,  7,  8,  9, 10, 11],\n",
       "       [12, 13, 14, 15, 16, 17],\n",
       "       [18, 19, 20, 21, 22, 23],\n",
       "       [24, 25, 26, 27, 28, 29],\n",
       "       [30, 31, 32, 33, 34, 35]])"
      ]
     },
     "execution_count": 47,
     "metadata": {},
     "output_type": "execute_result"
    }
   ],
   "source": [
    "numpy.arange(0,S**2).reshape(S,S)"
   ]
  },
  {
   "cell_type": "markdown",
   "id": "13e6dfcf-6f76-4676-83d1-dda7b84a2a2b",
   "metadata": {},
   "source": [
    "We can see that some of the hidden neurons have learned to strongly weight the center input pixels 14,15,20,21.\n",
    "\n",
    "And what about the output neurons?"
   ]
  },
  {
   "cell_type": "code",
   "execution_count": 48,
   "id": "2df9e59a-7fab-4041-9a6c-557d8b307ea0",
   "metadata": {},
   "outputs": [
    {
     "data": {
      "text/plain": [
       "MLP(\n",
       "  (fc1): Linear(in_features=36, out_features=20, bias=True)\n",
       "  (actfunc): ReLU()\n",
       "  (fc2): Linear(in_features=20, out_features=5, bias=True)\n",
       ")"
      ]
     },
     "execution_count": 48,
     "metadata": {},
     "output_type": "execute_result"
    }
   ],
   "source": [
    "net"
   ]
  },
  {
   "cell_type": "code",
   "execution_count": 49,
   "id": "0b45dd9d-4518-4f7f-b218-0fb02cf89673",
   "metadata": {},
   "outputs": [
    {
     "data": {
      "text/plain": [
       "torch.Size([5, 20])"
      ]
     },
     "execution_count": 49,
     "metadata": {},
     "output_type": "execute_result"
    }
   ],
   "source": [
    "net.fc2.weight.shape"
   ]
  },
  {
   "cell_type": "code",
   "execution_count": 50,
   "id": "dfe3d001-e610-4aaa-af53-57d25220436d",
   "metadata": {},
   "outputs": [
    {
     "data": {
      "text/plain": [
       "Parameter containing:\n",
       "tensor([[-3.4167e-01,  1.1460e-01,  2.7065e-01, -4.2263e-01, -4.6056e-01,\n",
       "          1.1971e-01, -2.0882e-01,  8.8963e-02, -1.6990e-01,  1.3204e-01,\n",
       "         -1.4204e-01,  2.4896e-01,  3.6229e-01,  1.6959e-01,  8.1393e-02,\n",
       "          9.8408e-02,  6.5684e-02, -1.4074e-01, -1.5698e-01,  1.6341e-01],\n",
       "        [ 6.9937e-01, -4.8107e-03, -2.1997e-01, -4.4304e-01,  2.9186e-01,\n",
       "         -1.3139e-02,  3.7006e-02, -1.0978e-03,  6.8573e-02,  5.8419e-03,\n",
       "          3.5281e-02, -2.6671e-02, -1.3086e-01, -4.5464e-05, -1.1341e-02,\n",
       "         -3.0700e-02,  9.7718e-02, -1.2674e-01, -9.6399e-02,  7.9521e-03],\n",
       "        [ 2.1924e-01,  3.0530e-02,  4.2288e-01,  4.9324e-01, -4.5332e-01,\n",
       "          6.2817e-02, -1.3555e-01,  1.6292e-02, -1.5961e-01,  1.3800e-02,\n",
       "         -1.0500e-01,  1.2961e-01, -2.6721e-01,  7.1238e-02, -1.2417e-01,\n",
       "          9.1154e-02,  2.4225e-01,  2.5911e-01,  3.1393e-01,  3.8424e-02],\n",
       "        [-1.3983e-01,  1.5005e-01, -4.5696e-01,  5.3487e-01,  4.1350e-01,\n",
       "          2.3357e-01, -2.0290e-01,  1.2797e-01, -1.1274e-01,  1.9251e-01,\n",
       "         -1.2543e-01,  1.3246e-01, -2.7942e-02,  2.3146e-01, -2.0878e-01,\n",
       "          1.0026e-01, -1.9508e-01, -3.2019e-01, -2.2103e-01,  3.4193e-01],\n",
       "        [-3.7295e-01, -2.9562e-01, -8.4944e-03, -1.1146e-01,  1.9178e-01,\n",
       "         -4.0035e-01,  5.1187e-01, -2.3502e-01,  3.7294e-01, -3.4544e-01,\n",
       "          3.3598e-01, -4.8100e-01,  1.2825e-01, -4.7398e-01,  2.7621e-01,\n",
       "         -2.7140e-01, -2.5339e-01,  3.3266e-01,  1.5038e-01, -5.4847e-01]],\n",
       "       requires_grad=True)"
      ]
     },
     "execution_count": 50,
     "metadata": {},
     "output_type": "execute_result"
    }
   ],
   "source": [
    "net.fc2.weight"
   ]
  },
  {
   "cell_type": "code",
   "execution_count": 51,
   "id": "1a799118-ecb9-430d-a4b3-9dc4a510e4b8",
   "metadata": {},
   "outputs": [
    {
     "data": {
      "image/png": "[encoded data removed]",
      "text/plain": [
       "<Figure size 640x480 with 2 Axes>"
      ]
     },
     "metadata": {},
     "output_type": "display_data"
    }
   ],
   "source": [
    "M = net.fc2.weight.detach().numpy()\n",
    "seaborn.heatmap( M, cmap=\"coolwarm\" )\n",
    "plt.show()"
   ]
  },
  {
   "cell_type": "code",
   "execution_count": null,
   "id": "a0fbb70e-e4aa-4018-b96d-5f3c1c382c51",
   "metadata": {},
   "outputs": [],
   "source": []
  }
 ],
 "metadata": {
  "kernelspec": {
   "display_name": "Python 3 (ipykernel)",
   "language": "python",
   "name": "python3"
  },
  "language_info": {
   "codemirror_mode": {
    "name": "ipython",
    "version": 3
   },
   "file_extension": ".py",
   "mimetype": "text/x-python",
   "name": "python",
   "nbconvert_exporter": "python",
   "pygments_lexer": "ipython3",
   "version": "3.8.10"
  },
  "toc-autonumbering": true
 },
 "nbformat": 4,
 "nbformat_minor": 5
}
