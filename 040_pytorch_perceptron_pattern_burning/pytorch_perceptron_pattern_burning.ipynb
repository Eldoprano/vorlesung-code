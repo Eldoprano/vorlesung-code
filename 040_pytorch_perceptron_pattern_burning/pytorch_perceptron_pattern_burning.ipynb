{
 "cells": [
  {
   "cell_type": "markdown",
   "id": "67c63f45-00d5-4bb2-8f3a-6c04150cf1c0",
   "metadata": {},
   "source": [
    "# Introduction\n",
    "\n",
    "In this notebook I try to let a Perceptron - implemented in PyTorch - learn to classify N (e.g. N=5) different patterns that differ only in some small details."
   ]
  },
  {
   "cell_type": "markdown",
   "id": "43dfc6eb-7a7e-4409-9d2a-479f8410971c",
   "metadata": {},
   "source": [
    "# Generating example data\n",
    "\n",
    "Here I generate N training patterns that differ only in some small region."
   ]
  },
  {
   "cell_type": "code",
   "execution_count": 12,
   "id": "e2b4e0d1-ab12-42ce-ae3a-9e0e74699eb5",
   "metadata": {},
   "outputs": [
    {
     "name": "stdout",
     "output_type": "stream",
     "text": [
      "Here are all 5 base patterns:\n",
      "tensor([[-0.1969, -0.0649],\n",
      "        [-0.0267, -0.0380]])\n",
      "tensor([[-0.0289,  0.1948],\n",
      "        [ 0.0148,  0.0173]])\n",
      "tensor([[ 0.1213,  0.0135],\n",
      "        [-0.2136, -0.1203]])\n",
      "tensor([[-0.1394,  0.0830],\n",
      "        [-0.0164,  0.0035]])\n",
      "tensor([[ 0.1757, -0.0350],\n",
      "        [ 0.0567, -0.1281]])\n",
      "\n",
      "Here are some examples of the 500 patterns in total:\n",
      "tensor([[ 0.8559,  0.9191,  0.0833,  0.4022,  0.4125,  0.6601],\n",
      "        [ 0.9183,  0.4894,  0.2157,  0.5322,  0.5023,  0.5656],\n",
      "        [ 0.4306,  0.9159, -0.1969, -0.0649,  0.0809,  0.5040],\n",
      "        [ 0.5121,  0.1989, -0.0267, -0.0380,  0.3111,  0.4261],\n",
      "        [ 0.0929,  0.1189,  0.2506,  0.0699,  0.4020,  0.2219],\n",
      "        [ 0.3706,  0.7563,  0.6316,  0.6568,  0.7487,  0.5180]])\n",
      "tensor([[ 0.8765,  0.2375,  0.2955,  0.3533,  0.2710,  0.7387],\n",
      "        [ 0.5770,  0.3328,  0.1846,  0.6230,  0.5827,  0.1521],\n",
      "        [ 0.0310,  0.8933, -0.1969, -0.0649,  0.0404,  0.4575],\n",
      "        [ 0.7273,  0.7424, -0.0267, -0.0380,  0.0161,  0.6290],\n",
      "        [ 0.6289,  0.9759,  0.8346,  0.8133,  0.7394,  0.4006],\n",
      "        [ 0.0499,  0.5224,  0.1869,  0.6207,  0.2246,  0.8541]])\n",
      "tensor([[ 0.3668,  0.2246,  0.6117,  0.5587,  0.9737,  0.8213],\n",
      "        [ 0.3435,  0.8987,  0.7774,  0.1569,  0.4290,  0.9909],\n",
      "        [ 0.8396,  0.2174, -0.1969, -0.0649,  0.9468,  0.9815],\n",
      "        [ 0.1102,  0.5856, -0.0267, -0.0380,  0.2374,  0.2614],\n",
      "        [ 0.4026,  0.9463,  0.1968,  0.8937,  0.6606,  0.2013],\n",
      "        [ 0.7591,  0.2229,  0.1278,  0.2145,  0.1412,  0.9056]])\n"
     ]
    }
   ],
   "source": [
    "import torch\n",
    "\n",
    "# 1. define side length of one pattern. pattern are two-dimensional, shape: (S,S)\n",
    "S = 6\n",
    "\n",
    "# 2. define how much different base patterns we want to simulate\n",
    "N_base_patterns = 5\n",
    "\n",
    "# 3. define how many noisy variants of each base patterns we want to generate\n",
    "N_training_patterns_per_base_pattern = 100\n",
    "\n",
    "# 4. compute resulting total number of patterns we will generate\n",
    "N_total_training_patterns = N_base_patterns * N_training_patterns_per_base_pattern\n",
    "\n",
    "# 5. prepare data structures to hold input patterns x\n",
    "# and corresponding one-hot-encoded label vectors y\n",
    "x = torch.zeros(N_total_training_patterns, S**2)\n",
    "y = torch.zeros(N_total_training_patterns, N_base_patterns)\n",
    "\n",
    "# 6. generate desired number of base patterns of shape (2,2)\n",
    "print(f\"Here are all {N_base_patterns} base patterns:\")\n",
    "list_base_patterns = []\n",
    "for base_pattern_nr in range(N_base_patterns):\n",
    "    new_base_pattern = torch.randn(2,2) * 0.1\n",
    "    print(new_base_pattern)\n",
    "    list_base_patterns.append( new_base_pattern )\n",
    "\n",
    "# 7. generate training patterns of shape (S,S)\n",
    "#    where the base pattern of shape (2,2) is in the center of this pattern\n",
    "print(f\"\\nHere are some examples of the {N_total_training_patterns} patterns in total:\")\n",
    "pattern_nr = 0\n",
    "for base_pattern_idx in range(N_base_patterns):\n",
    "    \n",
    "    # 7.1 get the next base pattern\n",
    "    base_pattern = list_base_patterns[base_pattern_idx]\n",
    "    \n",
    "    # 7.2 create trainings patterns with the base pattern in the center\n",
    "    for nr_training_pattern in range(N_training_patterns_per_base_pattern):\n",
    "        \n",
    "        # generate random input pattern with defined center values\n",
    "        #pattern = torch.randn(S, S)\n",
    "        pattern = torch.rand(S,S)\n",
    "        pattern[S//2-1:S//2+1, S//2-1:S//2+1 ] = base_pattern\n",
    "        \n",
    "        # show the first 3 generated pattern\n",
    "        if pattern_nr < 3:\n",
    "            print(pattern)\n",
    "            #print(pattern.view(S**2))\n",
    "        \n",
    "        # store new input pattern\n",
    "        x[pattern_nr,:] = pattern.view(S**2)\n",
    "        \n",
    "        # generate new target pattern\n",
    "        one_hot_vec = torch.zeros(N_base_patterns)\n",
    "        one_hot_vec[base_pattern_idx] = 1\n",
    "                \n",
    "        # store target pattern\n",
    "        y[pattern_nr,:] = one_hot_vec\n",
    "        \n",
    "        pattern_nr += 1"
   ]
  },
  {
   "cell_type": "code",
   "execution_count": 13,
   "id": "821840e0-2d63-478a-a321-f336d15e4a19",
   "metadata": {},
   "outputs": [
    {
     "data": {
      "text/plain": [
       "torch.Size([500, 36])"
      ]
     },
     "execution_count": 13,
     "metadata": {},
     "output_type": "execute_result"
    }
   ],
   "source": [
    "x.shape"
   ]
  },
  {
   "cell_type": "code",
   "execution_count": 14,
   "id": "d78f20f4-9b76-46c6-988f-4b3e9f4c7e78",
   "metadata": {},
   "outputs": [
    {
     "data": {
      "text/plain": [
       "torch.Size([500, 5])"
      ]
     },
     "execution_count": 14,
     "metadata": {},
     "output_type": "execute_result"
    }
   ],
   "source": [
    "y.shape"
   ]
  },
  {
   "cell_type": "markdown",
   "id": "64868510-bb1b-4302-b0cd-9e986f5c4ea8",
   "metadata": {},
   "source": [
    "# Shuffle example data"
   ]
  },
  {
   "cell_type": "code",
   "execution_count": 15,
   "id": "d97192c2-49a7-4a38-be68-aab2381310a6",
   "metadata": {},
   "outputs": [
    {
     "name": "stdout",
     "output_type": "stream",
     "text": [
      "Original Matrix:\n",
      " tensor([[1., 2., 3.],\n",
      "        [4., 5., 6.],\n",
      "        [7., 8., 9.]])\n"
     ]
    }
   ],
   "source": [
    "matrix = torch.tensor([[1., 2., 3.],[4., 5., 6.],[7, 8, 9]])\n",
    "print(\"Original Matrix:\\n\", matrix)"
   ]
  },
  {
   "cell_type": "code",
   "execution_count": 16,
   "id": "a53cb730-7d50-45bd-a35b-471a6c51df9b",
   "metadata": {},
   "outputs": [],
   "source": [
    "r = torch.tensor([1, 0, 2])"
   ]
  },
  {
   "cell_type": "code",
   "execution_count": 17,
   "id": "c1b343d2-e433-4d84-b473-bf6c604b1caa",
   "metadata": {},
   "outputs": [
    {
     "data": {
      "text/plain": [
       "tensor([[4., 5., 6.],\n",
       "        [1., 2., 3.],\n",
       "        [7., 8., 9.]])"
      ]
     },
     "execution_count": 17,
     "metadata": {},
     "output_type": "execute_result"
    }
   ],
   "source": [
    "matrix2 = matrix[r, :] # shuffles rows\n",
    "matrix2"
   ]
  },
  {
   "cell_type": "code",
   "execution_count": 21,
   "id": "cc382ff9-4126-490d-8ea8-a2bd01ea0326",
   "metadata": {},
   "outputs": [
    {
     "data": {
      "text/plain": [
       "tensor([1, 2, 0])"
      ]
     },
     "execution_count": 21,
     "metadata": {},
     "output_type": "execute_result"
    }
   ],
   "source": [
    "r = torch.randperm(3)\n",
    "r"
   ]
  },
  {
   "cell_type": "code",
   "execution_count": 22,
   "id": "8df51ead-eb21-41e2-beb7-3a5a3311b3ae",
   "metadata": {},
   "outputs": [
    {
     "data": {
      "text/plain": [
       "tensor([[4., 5., 6.],\n",
       "        [7., 8., 9.],\n",
       "        [1., 2., 3.]])"
      ]
     },
     "execution_count": 22,
     "metadata": {},
     "output_type": "execute_result"
    }
   ],
   "source": [
    "matrix2 = matrix[r, :] # shuffles rows\n",
    "matrix2"
   ]
  },
  {
   "cell_type": "code",
   "execution_count": 23,
   "id": "c2b3a4f0-2350-46b2-8650-c5cfa56a842f",
   "metadata": {},
   "outputs": [],
   "source": [
    "r = torch.randperm(N_total_training_patterns)\n",
    "x = x[r, :]\n",
    "y = y[r, :]"
   ]
  },
  {
   "cell_type": "code",
   "execution_count": 32,
   "id": "afb3d97c-e309-40c0-a88c-1b23abd34080",
   "metadata": {},
   "outputs": [
    {
     "data": {
      "text/plain": [
       "500"
      ]
     },
     "execution_count": 32,
     "metadata": {},
     "output_type": "execute_result"
    }
   ],
   "source": [
    "len(r)"
   ]
  },
  {
   "cell_type": "code",
   "execution_count": 33,
   "id": "470ab985-0c19-4d28-a606-bf27cf81161b",
   "metadata": {},
   "outputs": [
    {
     "data": {
      "text/plain": [
       "torch.Size([500])"
      ]
     },
     "execution_count": 33,
     "metadata": {},
     "output_type": "execute_result"
    }
   ],
   "source": [
    "r.shape"
   ]
  },
  {
   "cell_type": "code",
   "execution_count": 31,
   "id": "1895f788-53e7-446f-ad82-19f0f204dcd7",
   "metadata": {},
   "outputs": [
    {
     "data": {
      "text/plain": [
       "tensor([317, 338, 295, 239, 216, 371, 152, 426, 400, 368, 409, 242, 478, 379,\n",
       "        108,  56,  44, 110, 363,  29,  58, 218, 196, 294, 134, 270, 285, 354,\n",
       "        312, 322, 232, 474,  71, 190,  33, 280, 433, 431,  18,  52, 211, 448,\n",
       "        165, 281,  72, 121, 468, 153, 349,  78, 465,  30, 177, 275, 365, 193,\n",
       "        486, 106, 267, 286, 325, 101, 450, 422, 120, 355, 374, 344, 103, 407,\n",
       "         76,  28, 413, 208, 489,  43, 224,  47, 258, 214, 150,  73, 380, 171,\n",
       "        140,  87,  41,  75, 273, 279,  88, 306, 367, 199, 497, 393, 291, 182,\n",
       "         70, 411, 463, 406, 301, 315, 432, 227, 207, 244, 204,  67, 217, 160,\n",
       "        222, 142,  36,  53, 456,  12, 447, 382, 228, 124, 334, 357,  60, 251,\n",
       "        307,   4, 166, 250,  26, 178, 229, 404, 305, 360, 490, 316, 373, 428,\n",
       "        435, 151, 321, 383, 392, 284, 391, 376, 170, 445, 100, 366,  16, 439,\n",
       "          6, 139, 185, 398,  42, 137,  85,  15, 494,  64, 262,  63,  82, 126,\n",
       "         74, 399, 255, 223, 195, 116, 480, 458,  27, 330, 205, 183,  89,   8,\n",
       "        240, 194, 484, 122,  35, 252,  65, 169, 339, 310,  80, 361, 269, 289,\n",
       "        326, 131,  69,  81, 147, 425, 187, 128, 449, 246, 320, 202, 340, 274,\n",
       "        104, 287, 348,  91, 311,  31, 364,  11,  93, 403, 347,  83, 221, 499,\n",
       "        444, 256,   1,  49, 327, 263,  55, 351, 265, 308, 446, 143, 109, 467,\n",
       "         86, 441, 401,  32, 243, 324,  62, 459, 272, 471, 159, 381, 495, 389,\n",
       "        248, 220,  96,   9, 378, 138, 440, 198, 264, 200, 148, 179,   0, 241,\n",
       "        288, 266, 453, 237,  90, 253, 114, 112, 464,  51, 259,  19, 418, 387,\n",
       "        238,  21, 397, 162, 437,   7, 358, 498, 438,  92, 352, 119,  38,   3,\n",
       "        249, 231, 105, 226, 343, 412, 172, 341,  10, 370, 254, 201, 133, 176,\n",
       "        276,  54,  95, 496, 215, 455,  61,  23, 408, 212,  34, 395, 485, 319,\n",
       "         37, 491, 385, 210, 405, 469, 130, 333, 282, 394,  45, 115, 154, 423,\n",
       "        125, 157, 454,  14, 146, 314, 135,  68, 487, 421, 155, 476, 158, 461,\n",
       "        493, 345, 356, 117,  46, 359,  59, 197, 161, 303, 247, 219, 377, 277,\n",
       "        118, 442, 342, 184, 452, 181,  13, 384, 479, 402, 417, 234,  79, 488,\n",
       "         24, 290,  66, 466, 416, 164, 481, 189, 429, 149, 353, 127, 167, 107,\n",
       "         57, 472, 123, 386, 175, 192,  20, 483, 427, 372, 332, 168, 302, 235,\n",
       "        414, 443, 323,  98, 225, 174, 492, 206, 261, 156,   5, 129, 436, 460,\n",
       "        113, 388, 136, 477,  48, 415, 209, 328, 419,  97, 293, 424, 268, 144,\n",
       "         17,  40, 362, 309,  94, 299, 390, 420, 329, 245, 451, 297,  25, 346,\n",
       "        260, 369, 475, 292, 410,  39,   2, 313, 145, 457, 278, 141, 473, 298,\n",
       "        186, 375, 283, 304, 396, 296, 337, 132, 203, 350, 163, 191, 236, 213,\n",
       "        233, 300, 230,  77, 271, 470,  22,  99,  50, 335, 102, 318,  84, 188,\n",
       "        336, 462, 173, 111, 180, 430, 331, 257, 482, 434])"
      ]
     },
     "execution_count": 31,
     "metadata": {},
     "output_type": "execute_result"
    }
   ],
   "source": [
    "r"
   ]
  },
  {
   "cell_type": "code",
   "execution_count": 24,
   "id": "4f1249cf-16b9-4a9b-bbe0-ffbb04f61d00",
   "metadata": {},
   "outputs": [
    {
     "data": {
      "text/plain": [
       "torch.Size([500, 36])"
      ]
     },
     "execution_count": 24,
     "metadata": {},
     "output_type": "execute_result"
    }
   ],
   "source": [
    "x.shape"
   ]
  },
  {
   "cell_type": "code",
   "execution_count": 25,
   "id": "bbd18e1c-ec0f-456c-aacc-4b9631485ac3",
   "metadata": {},
   "outputs": [
    {
     "data": {
      "text/plain": [
       "torch.Size([500, 5])"
      ]
     },
     "execution_count": 25,
     "metadata": {},
     "output_type": "execute_result"
    }
   ],
   "source": [
    "y.shape"
   ]
  },
  {
   "cell_type": "code",
   "execution_count": 26,
   "id": "6308e621-f1fd-4364-b5ac-1d35aabec7fc",
   "metadata": {},
   "outputs": [
    {
     "data": {
      "text/plain": [
       "tensor([[ 0.3402,  0.4836,  0.7416,  0.0315,  0.5222,  0.8754],\n",
       "        [ 0.8635,  0.9094,  0.3935,  0.3115,  0.9259,  0.2883],\n",
       "        [ 0.5740,  0.7847, -0.1394,  0.0830,  0.0232,  0.0246],\n",
       "        [ 0.3860,  0.4221, -0.0164,  0.0035,  0.8479,  0.6980],\n",
       "        [ 0.9930,  0.1471,  0.5036,  0.6709,  0.4968,  0.4362],\n",
       "        [ 0.8777,  0.0156,  0.3206,  0.2635,  0.2232,  0.8999]])"
      ]
     },
     "execution_count": 26,
     "metadata": {},
     "output_type": "execute_result"
    }
   ],
   "source": [
    "x[0].view(S,S)"
   ]
  },
  {
   "cell_type": "code",
   "execution_count": 27,
   "id": "8e111bb7-8532-4526-a755-b17be097df18",
   "metadata": {},
   "outputs": [
    {
     "data": {
      "text/plain": [
       "tensor([0., 0., 0., 1., 0.])"
      ]
     },
     "execution_count": 27,
     "metadata": {},
     "output_type": "execute_result"
    }
   ],
   "source": [
    "y[0]"
   ]
  },
  {
   "cell_type": "code",
   "execution_count": 29,
   "id": "2fba2c9d-ed2c-40e9-92b3-0c8244aecd9f",
   "metadata": {},
   "outputs": [
    {
     "data": {
      "text/plain": [
       "tensor([[ 0.7279,  0.8880,  0.0660,  0.1948,  0.1768,  0.0015],\n",
       "        [ 0.9301,  0.5337,  0.0954,  0.1775,  0.4703,  0.0992],\n",
       "        [ 0.9108,  0.6030,  0.1213,  0.0135,  0.4733,  0.9809],\n",
       "        [ 0.0406,  0.6602, -0.2136, -0.1203,  0.4293,  0.3796],\n",
       "        [ 0.1892,  0.1335,  0.7483,  0.2218,  0.3679,  0.0945],\n",
       "        [ 0.3014,  0.9479,  0.5654,  0.1562,  0.3254,  0.9981]])"
      ]
     },
     "execution_count": 29,
     "metadata": {},
     "output_type": "execute_result"
    }
   ],
   "source": [
    "x[2].view(S,S)"
   ]
  },
  {
   "cell_type": "code",
   "execution_count": 30,
   "id": "48cb79d3-6b70-4507-9555-5b54fd95fa18",
   "metadata": {},
   "outputs": [
    {
     "data": {
      "text/plain": [
       "tensor([0., 0., 1., 0., 0.])"
      ]
     },
     "execution_count": 30,
     "metadata": {},
     "output_type": "execute_result"
    }
   ],
   "source": [
    "y[2]"
   ]
  },
  {
   "cell_type": "markdown",
   "id": "1a3bc29b-4f27-4ccb-a1df-e233095539b9",
   "metadata": {},
   "source": [
    "# Split example data intro train and test data"
   ]
  },
  {
   "cell_type": "code",
   "execution_count": 34,
   "id": "e88b0d98-cc63-4542-8ce9-daa95dac80e8",
   "metadata": {},
   "outputs": [
    {
     "data": {
      "text/plain": [
       "torch.Size([500, 36])"
      ]
     },
     "execution_count": 34,
     "metadata": {},
     "output_type": "execute_result"
    }
   ],
   "source": [
    "x.shape"
   ]
  },
  {
   "cell_type": "code",
   "execution_count": 35,
   "id": "0e6394aa-5c6c-4637-84de-44e7e3357fc2",
   "metadata": {},
   "outputs": [
    {
     "data": {
      "text/plain": [
       "torch.Size([500, 5])"
      ]
     },
     "execution_count": 35,
     "metadata": {},
     "output_type": "execute_result"
    }
   ],
   "source": [
    "y.shape"
   ]
  },
  {
   "cell_type": "code",
   "execution_count": 36,
   "id": "1d890b31-b5ec-4f50-a081-55b4b3ffeaec",
   "metadata": {},
   "outputs": [
    {
     "data": {
      "text/plain": [
       "400"
      ]
     },
     "execution_count": 36,
     "metadata": {},
     "output_type": "execute_result"
    }
   ],
   "source": [
    "train_ratio = 0.8\n",
    "train_N = int(train_ratio * x.shape[0])\n",
    "train_N"
   ]
  },
  {
   "cell_type": "code",
   "execution_count": 37,
   "id": "6615c2fb-ba5e-43b9-a173-74ab415366fd",
   "metadata": {},
   "outputs": [],
   "source": [
    "x_train = x[:train_N]\n",
    "y_train = y[:train_N]\n",
    "x_test  = x[train_N:]\n",
    "y_test  = y[train_N:]"
   ]
  },
  {
   "cell_type": "code",
   "execution_count": 38,
   "id": "aadf229b-b6df-4a5e-b7c5-f44497e97d77",
   "metadata": {},
   "outputs": [
    {
     "data": {
      "text/plain": [
       "torch.Size([400, 36])"
      ]
     },
     "execution_count": 38,
     "metadata": {},
     "output_type": "execute_result"
    }
   ],
   "source": [
    "x_train.shape"
   ]
  },
  {
   "cell_type": "code",
   "execution_count": 39,
   "id": "70a80974-82d8-4b9f-a892-2c01438420d0",
   "metadata": {},
   "outputs": [
    {
     "data": {
      "text/plain": [
       "torch.Size([400, 5])"
      ]
     },
     "execution_count": 39,
     "metadata": {},
     "output_type": "execute_result"
    }
   ],
   "source": [
    "y_train.shape"
   ]
  },
  {
   "cell_type": "code",
   "execution_count": 40,
   "id": "be56bbf3-785d-43e1-b17e-0ba5e9576117",
   "metadata": {},
   "outputs": [
    {
     "data": {
      "text/plain": [
       "torch.Size([100, 36])"
      ]
     },
     "execution_count": 40,
     "metadata": {},
     "output_type": "execute_result"
    }
   ],
   "source": [
    "x_test.shape"
   ]
  },
  {
   "cell_type": "code",
   "execution_count": 41,
   "id": "069df865-3666-4ebb-a1f8-cd1a54439568",
   "metadata": {},
   "outputs": [
    {
     "data": {
      "text/plain": [
       "torch.Size([100, 5])"
      ]
     },
     "execution_count": 41,
     "metadata": {},
     "output_type": "execute_result"
    }
   ],
   "source": [
    "y_test.shape"
   ]
  },
  {
   "cell_type": "code",
   "execution_count": 42,
   "id": "b1ad1d82-ba7c-42d1-9faa-36099eb35323",
   "metadata": {},
   "outputs": [
    {
     "data": {
      "text/plain": [
       "torch.float32"
      ]
     },
     "execution_count": 42,
     "metadata": {},
     "output_type": "execute_result"
    }
   ],
   "source": [
    "x_train.dtype"
   ]
  },
  {
   "cell_type": "code",
   "execution_count": 43,
   "id": "10317355-9b49-4703-9e40-3a1584744fb0",
   "metadata": {},
   "outputs": [
    {
     "data": {
      "text/plain": [
       "torch.float32"
      ]
     },
     "execution_count": 43,
     "metadata": {},
     "output_type": "execute_result"
    }
   ],
   "source": [
    "y_train.dtype"
   ]
  },
  {
   "cell_type": "markdown",
   "id": "0900910a-c3f3-4346-a309-64469367c20e",
   "metadata": {},
   "source": [
    "# Perceptron-Klasse"
   ]
  },
  {
   "cell_type": "code",
   "execution_count": 44,
   "id": "2312de48-94f9-4a8e-850b-45c203b30f30",
   "metadata": {},
   "outputs": [],
   "source": [
    "# Import libraries\n",
    "import torch\n",
    "import torch.nn as nn\n",
    "import torch.nn.functional as F\n",
    "import torch.optim as optim\n",
    "\n",
    "\n",
    "# Define a neural net\n",
    "class MLP(nn.Module):\n",
    "    def __init__(self, nr_inputs, nr_outputs, use_hidden_layer=False, nr_neurons_hidden1=20):\n",
    "        super().__init__()\n",
    "        \n",
    "        # note: order of generated layers here does not matter!       \n",
    "        # it is the order of layers in forward() that does matter.\n",
    "        # see: https://discuss.pytorch.org/t/can-i-change-the-order-of-layers-in-init/105027:\n",
    "        #\n",
    "        #  \"It doesn’t matter. forward is which defines the real order. \n",
    "        #   The only difference is they will be displayed differently \n",
    "        #   when you print the model or save it.\"\n",
    "        #\n",
    "        self.use_hidden_layer = use_hidden_layer\n",
    "        if self.use_hidden_layer:\n",
    "            self.fc1 = nn.Linear(nr_inputs, nr_neurons_hidden1)\n",
    "            self.actfunc = torch.nn.ReLU()            \n",
    "            self.fc2 = nn.Linear(nr_neurons_hidden1, nr_outputs)        \n",
    "        else:\n",
    "            self.fc1 = nn.Linear(nr_inputs, nr_outputs)\n",
    "\n",
    "    def forward(self, input_vec):\n",
    "        if self.use_hidden_layer:\n",
    "            x = self.fc1(input_vec)\n",
    "            x = self.actfunc(x)\n",
    "            x = self.fc2(x)\n",
    "        else:\n",
    "            x = self.fc1(input_vec)\n",
    "        return x"
   ]
  },
  {
   "cell_type": "code",
   "execution_count": 55,
   "id": "faead238-fb4d-404f-b93d-b3f424f6cc79",
   "metadata": {},
   "outputs": [],
   "source": [
    "net = MLP(S**2, N_base_patterns, True)"
   ]
  },
  {
   "cell_type": "code",
   "execution_count": 56,
   "id": "eb1dc0a7-53cf-4081-b42a-f9cde0c2ddb2",
   "metadata": {},
   "outputs": [
    {
     "data": {
      "text/plain": [
       "MLP(\n",
       "  (fc1): Linear(in_features=36, out_features=20, bias=True)\n",
       "  (actfunc): ReLU()\n",
       "  (fc2): Linear(in_features=20, out_features=5, bias=True)\n",
       ")"
      ]
     },
     "execution_count": 56,
     "metadata": {},
     "output_type": "execute_result"
    }
   ],
   "source": [
    "net"
   ]
  },
  {
   "cell_type": "code",
   "execution_count": 57,
   "id": "47fa45e3-ab88-4fad-ac82-7ec84bea5a2a",
   "metadata": {},
   "outputs": [
    {
     "data": {
      "text/plain": [
       "Linear(in_features=36, out_features=20, bias=True)"
      ]
     },
     "execution_count": 57,
     "metadata": {},
     "output_type": "execute_result"
    }
   ],
   "source": [
    "net.fc1"
   ]
  },
  {
   "cell_type": "code",
   "execution_count": 58,
   "id": "5423853b-07bb-47a2-84f5-5d51649ab99a",
   "metadata": {},
   "outputs": [
    {
     "data": {
      "text/plain": [
       "Linear(in_features=20, out_features=5, bias=True)"
      ]
     },
     "execution_count": 58,
     "metadata": {},
     "output_type": "execute_result"
    }
   ],
   "source": [
    "net.fc2"
   ]
  },
  {
   "cell_type": "code",
   "execution_count": 59,
   "id": "5325c79c-c38d-4c4c-844c-8b2c64ef2bc5",
   "metadata": {},
   "outputs": [
    {
     "data": {
      "text/plain": [
       "torch.Size([20, 36])"
      ]
     },
     "execution_count": 59,
     "metadata": {},
     "output_type": "execute_result"
    }
   ],
   "source": [
    "net.fc1.weight.shape"
   ]
  },
  {
   "cell_type": "code",
   "execution_count": 60,
   "id": "c973a09a-66a0-428c-87ac-c8af4e3da4a3",
   "metadata": {},
   "outputs": [
    {
     "data": {
      "text/plain": [
       "torch.Size([20])"
      ]
     },
     "execution_count": 60,
     "metadata": {},
     "output_type": "execute_result"
    }
   ],
   "source": [
    "net.fc1.bias.shape"
   ]
  },
  {
   "cell_type": "code",
   "execution_count": 61,
   "id": "3916558e-e091-411f-b3c7-7343a0901387",
   "metadata": {},
   "outputs": [
    {
     "data": {
      "text/plain": [
       "torch.Size([5, 20])"
      ]
     },
     "execution_count": 61,
     "metadata": {},
     "output_type": "execute_result"
    }
   ],
   "source": [
    "net.fc2.weight.shape"
   ]
  },
  {
   "cell_type": "code",
   "execution_count": 62,
   "id": "234b0758-4a69-476e-a959-68302b76f527",
   "metadata": {},
   "outputs": [
    {
     "data": {
      "text/plain": [
       "torch.Size([5])"
      ]
     },
     "execution_count": 62,
     "metadata": {},
     "output_type": "execute_result"
    }
   ],
   "source": [
    "net.fc2.bias.shape"
   ]
  },
  {
   "cell_type": "code",
   "execution_count": 63,
   "id": "5fc28a97-dc3d-43cc-b9c5-18bac33bd8e1",
   "metadata": {},
   "outputs": [
    {
     "data": {
      "text/plain": [
       "Parameter containing:\n",
       "tensor([[-1.7823e-01,  9.1667e-02,  2.9252e-02, -1.6461e-01,  1.2583e-01,\n",
       "          2.3422e-03,  1.2909e-01,  1.1736e-01,  8.2748e-02, -2.2312e-01,\n",
       "          2.0573e-01,  7.1010e-02,  6.8912e-02,  1.4662e-01,  1.2298e-01,\n",
       "         -2.0536e-02,  2.1069e-01, -2.7207e-02, -5.2305e-02,  1.1675e-01],\n",
       "        [ 3.2207e-02, -4.9236e-02, -1.0290e-01, -1.3275e-02, -1.8381e-01,\n",
       "         -8.5992e-02,  1.3289e-01, -2.1842e-01, -2.0769e-01,  1.6531e-01,\n",
       "         -6.5349e-02, -1.0767e-01,  9.5822e-02, -8.7097e-02,  6.3408e-02,\n",
       "         -1.7887e-01,  8.4034e-02, -1.0587e-01,  2.1925e-02,  1.3788e-01],\n",
       "        [ 7.3056e-03, -2.2278e-01, -1.8547e-01,  6.1399e-03,  1.7675e-01,\n",
       "         -1.5565e-01, -1.2025e-01, -9.0134e-02,  5.7953e-02, -9.4801e-02,\n",
       "          6.4420e-02, -9.5703e-03, -8.9502e-02,  8.4784e-02, -1.2935e-01,\n",
       "          2.0134e-01,  8.0144e-03, -6.2066e-03,  1.5453e-01,  7.5146e-02],\n",
       "        [ 1.0223e-01, -6.8143e-02, -1.5823e-01, -1.8291e-01,  1.2543e-01,\n",
       "         -7.3651e-05, -2.0902e-01, -1.5284e-01,  7.8634e-02, -1.5805e-01,\n",
       "         -4.2006e-02,  6.6997e-02, -8.2093e-02, -6.7349e-02, -2.8310e-02,\n",
       "          1.5864e-01,  1.8337e-01, -6.8675e-02,  9.4563e-02,  5.6900e-02],\n",
       "        [-9.2896e-02,  1.0942e-01, -1.6678e-01,  2.0419e-01, -1.0185e-01,\n",
       "         -2.2187e-01,  1.1169e-01,  1.0938e-01,  1.9772e-02,  1.9065e-01,\n",
       "         -4.1903e-02, -2.1494e-01,  2.3664e-02,  2.0721e-01, -1.4988e-01,\n",
       "         -7.4550e-02,  1.4491e-01,  1.4561e-01, -5.1841e-02,  5.3710e-02]],\n",
       "       requires_grad=True)"
      ]
     },
     "execution_count": 63,
     "metadata": {},
     "output_type": "execute_result"
    }
   ],
   "source": [
    "net.fc2.weight"
   ]
  },
  {
   "cell_type": "code",
   "execution_count": 64,
   "id": "3cf8b066-8c74-4349-a186-f22c88cf0204",
   "metadata": {},
   "outputs": [],
   "source": [
    "net = MLP(S**2, N_base_patterns, use_hidden_layer=False)"
   ]
  },
  {
   "cell_type": "code",
   "execution_count": 65,
   "id": "8d99f882-fada-4329-9ae9-25de3c7aa3f3",
   "metadata": {},
   "outputs": [
    {
     "data": {
      "text/plain": [
       "MLP(\n",
       "  (fc1): Linear(in_features=36, out_features=5, bias=True)\n",
       ")"
      ]
     },
     "execution_count": 65,
     "metadata": {},
     "output_type": "execute_result"
    }
   ],
   "source": [
    "net"
   ]
  },
  {
   "cell_type": "code",
   "execution_count": 66,
   "id": "c50c4770-f6dd-42a3-b5a6-b5d66f22e942",
   "metadata": {},
   "outputs": [
    {
     "data": {
      "text/plain": [
       "Parameter containing:\n",
       "tensor([[-7.0208e-02,  5.1631e-02, -3.0093e-02,  1.5440e-01, -1.5609e-01,\n",
       "         -1.1941e-01,  2.9352e-02,  5.7847e-02, -1.5232e-01,  6.4402e-02,\n",
       "          8.7233e-02,  3.4358e-02, -2.9961e-02, -5.5064e-02,  9.8101e-02,\n",
       "         -5.7913e-02,  4.4336e-04,  1.3441e-01,  5.2831e-02, -1.3719e-01,\n",
       "          7.0802e-02,  6.7647e-03, -3.7098e-02, -6.4540e-02, -8.4184e-02,\n",
       "         -1.4830e-01, -1.4171e-01, -3.2538e-03,  1.5850e-01, -7.6306e-02,\n",
       "          1.3609e-01,  1.4755e-02,  2.9474e-02, -1.2233e-01, -2.6653e-02,\n",
       "          1.2485e-01],\n",
       "        [ 6.5296e-02, -4.1981e-02,  6.2233e-02,  4.0028e-02, -1.2366e-01,\n",
       "          1.5684e-01, -4.5949e-02,  2.7943e-02, -1.6622e-01,  1.2380e-01,\n",
       "         -4.3320e-02,  1.8238e-02, -1.5483e-01,  1.2862e-01, -7.4371e-03,\n",
       "          1.8767e-02, -5.0422e-02, -5.5408e-02, -1.7385e-02,  5.9154e-02,\n",
       "          1.5031e-01,  1.0001e-02,  4.8698e-02, -8.0781e-02, -2.3165e-02,\n",
       "         -1.1971e-01,  5.2076e-02,  1.1948e-01,  9.2642e-02,  2.3674e-02,\n",
       "         -1.3359e-02,  7.7875e-02,  1.4400e-01,  1.5740e-01, -7.5286e-02,\n",
       "          5.6219e-02],\n",
       "        [ 1.6171e-01, -1.5065e-01,  8.0177e-03,  1.1455e-01,  1.3310e-01,\n",
       "          1.1705e-01, -1.1163e-01,  5.0135e-04, -3.0563e-02,  2.8644e-02,\n",
       "         -1.2651e-01,  1.4975e-02, -1.1023e-01, -9.6152e-02, -8.0840e-02,\n",
       "          1.2087e-01,  1.3504e-01,  1.2962e-01, -8.3243e-02,  9.0673e-02,\n",
       "         -1.2095e-01,  1.5539e-01,  1.6547e-01,  1.4208e-01,  1.0637e-01,\n",
       "          2.7595e-02, -5.2018e-02,  8.0142e-02,  1.1210e-01, -6.8850e-02,\n",
       "          1.2314e-01, -1.1645e-02, -1.2136e-01,  3.5368e-02,  1.3775e-02,\n",
       "         -8.9891e-02],\n",
       "        [ 1.4245e-01,  3.0017e-02, -1.5030e-01,  2.9582e-02, -1.2253e-04,\n",
       "          4.9259e-02,  4.5928e-02, -9.7451e-02, -1.3674e-01, -2.3254e-02,\n",
       "         -1.4205e-01,  1.0323e-01, -5.3530e-02, -1.9555e-02,  1.3285e-01,\n",
       "         -1.4691e-01, -7.6488e-03, -7.6096e-02, -4.8590e-02,  9.5030e-02,\n",
       "          1.3184e-01, -1.6551e-01, -1.6064e-01,  4.7466e-02,  6.1828e-02,\n",
       "          1.0254e-01, -3.3136e-02,  8.6838e-02, -2.9012e-02, -1.6350e-01,\n",
       "          5.4811e-02, -1.5639e-01,  2.3279e-02, -5.7622e-02, -6.7983e-02,\n",
       "         -8.4868e-02],\n",
       "        [ 7.7676e-02, -1.3095e-01,  5.7555e-02,  3.1868e-03, -3.8018e-02,\n",
       "         -1.3688e-01, -9.8371e-02, -2.9703e-03, -8.7485e-03,  9.0309e-03,\n",
       "          2.3926e-02,  5.0042e-02,  1.2855e-02,  1.0175e-01,  1.8107e-02,\n",
       "         -2.1846e-02,  1.5363e-01, -1.6300e-01, -5.2786e-02,  3.9013e-02,\n",
       "         -1.3828e-01, -1.3674e-01, -1.0381e-01, -3.5356e-02, -3.8871e-02,\n",
       "          3.6819e-02, -1.6312e-03,  1.0321e-01, -1.1906e-01,  8.5525e-02,\n",
       "         -1.1534e-01,  1.1477e-02,  1.0052e-01, -8.9263e-02,  2.5992e-02,\n",
       "          3.2887e-02]], requires_grad=True)"
      ]
     },
     "execution_count": 66,
     "metadata": {},
     "output_type": "execute_result"
    }
   ],
   "source": [
    "net.fc1.weight"
   ]
  },
  {
   "cell_type": "code",
   "execution_count": 67,
   "id": "77384d3b-46b5-41b9-a29f-ed8693f672bd",
   "metadata": {},
   "outputs": [
    {
     "data": {
      "text/plain": [
       "Parameter containing:\n",
       "tensor([-0.1059, -0.1387, -0.1198, -0.0021, -0.1566], requires_grad=True)"
      ]
     },
     "execution_count": 67,
     "metadata": {},
     "output_type": "execute_result"
    }
   ],
   "source": [
    "net.fc1.bias"
   ]
  },
  {
   "cell_type": "markdown",
   "id": "28c4847d-d5b1-4e49-8ec1-41c74a5380ba",
   "metadata": {},
   "source": [
    "# Train MLP to discriminate patterns"
   ]
  },
  {
   "cell_type": "code",
   "execution_count": 68,
   "id": "3c5e6b17-2d3d-4e75-a47b-ec5bdbef8bac",
   "metadata": {},
   "outputs": [
    {
     "name": "stdout",
     "output_type": "stream",
     "text": [
      "MLP(\n",
      "  (fc1): Linear(in_features=36, out_features=20, bias=True)\n",
      "  (actfunc): ReLU()\n",
      "  (fc2): Linear(in_features=20, out_features=5, bias=True)\n",
      ")\n",
      "train_step= 0\n",
      "train_step= 1000\n",
      "train_step= 2000\n",
      "train_step= 3000\n",
      "train_step= 4000\n",
      "train_step= 5000\n",
      "train_step= 6000\n",
      "train_step= 7000\n",
      "train_step= 8000\n",
      "train_step= 9000\n",
      "train_step= 10000\n",
      "train_step= 11000\n",
      "train_step= 12000\n",
      "train_step= 13000\n",
      "train_step= 14000\n",
      "train_step= 15000\n",
      "train_step= 16000\n",
      "train_step= 17000\n",
      "train_step= 18000\n",
      "train_step= 19000\n"
     ]
    },
    {
     "data": {
      "image/png": "[encoded data removed]",
      "text/plain": [
       "<Figure size 432x288 with 1 Axes>"
      ]
     },
     "metadata": {
      "needs_background": "light"
     },
     "output_type": "display_data"
    }
   ],
   "source": [
    "import numpy\n",
    "\n",
    "# prepare neural network\n",
    "nr_inputs  = S**2\n",
    "nr_hidden1 = 20\n",
    "nr_outputs = N_base_patterns\n",
    "net = MLP(nr_inputs, nr_outputs, use_hidden_layer=True, nr_neurons_hidden1=nr_hidden1) # MLP\n",
    "#net = MLP(nr_inputs, nr_outputs, use_hidden_layer=False) # Perceptron\n",
    "print(net)\n",
    "\n",
    "# prepare loss and optimizer\n",
    "#loss_fn = torch.nn.L1Loss()\n",
    "loss_fn = torch.nn.MSELoss()\n",
    "optimizer = optim.Adam(net.parameters(), lr=0.001)\n",
    "\n",
    "N_train_steps = 20000\n",
    "\n",
    "losses = []\n",
    "avg_losses = []\n",
    "for train_step in range(N_train_steps):   \n",
    "    \n",
    "    # 1. get a random training sample\n",
    "    #    consisting of an input vec and a teacher vec\n",
    "    random_idx = numpy.random.randint(low=0, high=x_train.shape[0])  \n",
    "    input_vec   = x_train[random_idx]\n",
    "    teacher_vec = y_train[random_idx]\n",
    "    \n",
    "    # 2. sets gradients to 0 before calculating loss   \n",
    "    # For: net.zero_grad() vs optim.zero_grad() see:    \n",
    "    # https://stackoverflow.com/questions/61898668/net-zero-grad-vs-optim-zero-grad-pytorch\n",
    "    #net.zero_grad()\n",
    "    optimizer.zero_grad()\n",
    "\n",
    "    # 3. feed forward step:\n",
    "    #    here the input vector is used\n",
    "    output_vec = net( input_vec )\n",
    "\n",
    "    # 4. compute loss:\n",
    "    #    here we compare the output vector with the teacher vector, i.e.,\n",
    "    #    supervised learning happens here\n",
    "    loss = loss_fn(output_vec, teacher_vec)\n",
    "    \n",
    "    # 5. apply this loss backwards thru the network's parameters\n",
    "    loss.backward() \n",
    "    \n",
    "    # 6. change weights, i.e.\n",
    "    #    attempt to optimize weights to account for loss/gradients\n",
    "    optimizer.step() \n",
    "\n",
    "    # 7. save loss\n",
    "    loss_value = loss.detach().numpy()\n",
    "    losses.append( loss_value )\n",
    "    if len(losses)>100:\n",
    "        avg_losses.append( numpy.mean(losses[-100:]) )\n",
    "    \n",
    "    # 8 show progress\n",
    "    if train_step % 1000 == 0:\n",
    "        print(\"train_step=\", train_step)\n",
    "        \n",
    "import matplotlib.pyplot as plt\n",
    "plt.plot( avg_losses )\n",
    "plt.title(\"Average losses\")\n",
    "plt.show()"
   ]
  },
  {
   "cell_type": "markdown",
   "id": "c80f1583-8aba-40d8-b3e9-8e74b546eaf4",
   "metadata": {},
   "source": [
    "# Test how good the MLP can discriminate the base patterns"
   ]
  },
  {
   "cell_type": "code",
   "execution_count": 69,
   "id": "a3a588d3-f108-44d0-8e0a-2195207d015b",
   "metadata": {},
   "outputs": [
    {
     "data": {
      "text/plain": [
       "tensor([[0.3611, 0.5396, 0.6984,  ..., 0.0428, 0.8330, 0.5017],\n",
       "        [0.9985, 0.4945, 0.4333,  ..., 0.2138, 0.6477, 0.8010],\n",
       "        [0.6496, 0.8377, 0.8169,  ..., 0.2571, 0.1862, 0.3213],\n",
       "        ...,\n",
       "        [0.4416, 0.3548, 0.4010,  ..., 0.7788, 0.4541, 0.9277],\n",
       "        [0.6689, 0.9211, 0.6596,  ..., 0.7201, 0.8782, 0.3250],\n",
       "        [0.1469, 0.9608, 0.7949,  ..., 0.1269, 0.5158, 0.3858]])"
      ]
     },
     "execution_count": 69,
     "metadata": {},
     "output_type": "execute_result"
    }
   ],
   "source": [
    "x_test"
   ]
  },
  {
   "cell_type": "code",
   "execution_count": 70,
   "id": "62bb49cf-e696-4aba-8607-611c2aff465a",
   "metadata": {},
   "outputs": [
    {
     "data": {
      "text/plain": [
       "100"
      ]
     },
     "execution_count": 70,
     "metadata": {},
     "output_type": "execute_result"
    }
   ],
   "source": [
    "N_test_patterns = x_test.shape[0]\n",
    "N_test_patterns"
   ]
  },
  {
   "cell_type": "code",
   "execution_count": 73,
   "id": "c493ab5e-d50e-47f5-b929-36f075d8f464",
   "metadata": {},
   "outputs": [
    {
     "name": "stdout",
     "output_type": "stream",
     "text": [
      "\n",
      "pred=tensor([ 0.0032, -0.0100,  0.0090, -0.0047,  1.0106], grad_fn=<AddBackward0>), pred_label=4\n",
      "gt  =tensor([0., 0., 0., 0., 1.]),   gt_label  =4\n",
      "\n",
      "pred=tensor([ 6.6460e-04, -2.4947e-02, -1.1390e-02,  1.0429e+00,  9.7656e-03],\n",
      "       grad_fn=<AddBackward0>), pred_label=3\n",
      "gt  =tensor([0., 0., 0., 1., 0.]),   gt_label  =3\n",
      "\n",
      "pred=tensor([ 0.0021,  0.0053, -0.0053,  0.9835,  0.0064], grad_fn=<AddBackward0>), pred_label=3\n",
      "gt  =tensor([0., 0., 0., 1., 0.]),   gt_label  =3\n",
      "\n",
      "pred=tensor([ 3.8142e-04,  9.9417e-01, -4.7536e-03,  2.3718e-03,  5.5532e-03],\n",
      "       grad_fn=<AddBackward0>), pred_label=1\n",
      "gt  =tensor([0., 1., 0., 0., 0.]),   gt_label  =1\n",
      "\n",
      "pred=tensor([-0.0047, -0.0174,  0.0025,  1.0281, -0.0070], grad_fn=<AddBackward0>), pred_label=3\n",
      "gt  =tensor([0., 0., 0., 1., 0.]),   gt_label  =3\n",
      "\n",
      "pred=tensor([-0.0028, -0.0078,  1.0023,  0.0173,  0.0030], grad_fn=<AddBackward0>), pred_label=2\n",
      "gt  =tensor([0., 0., 1., 0., 0.]),   gt_label  =2\n",
      "\n",
      "pred=tensor([-0.0042,  0.0227, -0.0091, -0.0332,  1.0148], grad_fn=<AddBackward0>), pred_label=4\n",
      "gt  =tensor([0., 0., 0., 0., 1.]),   gt_label  =4\n",
      "\n",
      "pred=tensor([-0.0022, -0.0056, -0.0109,  0.0151,  1.0237], grad_fn=<AddBackward0>), pred_label=4\n",
      "gt  =tensor([0., 0., 0., 0., 1.]),   gt_label  =4\n",
      "\n",
      "pred=tensor([-0.0105,  0.0123,  0.0020,  0.9812,  0.0092], grad_fn=<AddBackward0>), pred_label=3\n",
      "gt  =tensor([0., 0., 0., 1., 0.]),   gt_label  =3\n",
      "\n",
      "pred=tensor([ 0.9922, -0.0108, -0.0095,  0.0265,  0.0199], grad_fn=<AddBackward0>), pred_label=0\n",
      "gt  =tensor([1., 0., 0., 0., 0.]),   gt_label  =0\n",
      "\n",
      "Classified 100.0% of the 100 test patterns correctly.\n"
     ]
    }
   ],
   "source": [
    "correct = 0\n",
    "for test_pattern_idx in range(N_test_patterns):\n",
    "    input_vec = x_test[test_pattern_idx]\n",
    "    #print(input_vec)\n",
    "    gt        = y_test[test_pattern_idx]\n",
    "    \n",
    "    pred = net(input_vec)\n",
    "    pred_label = torch.argmax( pred )\n",
    "    gt_label   = torch.argmax( gt )\n",
    "    \n",
    "    if test_pattern_idx < 10:\n",
    "        print()\n",
    "        print( f\"pred={pred}, pred_label={pred_label}\" )\n",
    "        print( f\"gt  ={gt},   gt_label  ={gt_label}\"   )\n",
    "    \n",
    "    if pred_label == gt_label:\n",
    "        correct += 1\n",
    "        \n",
    "CCR = correct/N_test_patterns\n",
    "print( f\"\\nClassified {CCR*100}% of the {N_test_patterns} test patterns correctly.\" ) "
   ]
  },
  {
   "cell_type": "markdown",
   "id": "aef2eeb2-d55a-4d80-b150-9afa54c71b96",
   "metadata": {},
   "source": [
    "# Analysing the learned weights"
   ]
  },
  {
   "cell_type": "code",
   "execution_count": 74,
   "id": "b2659657-0c1e-473d-9e99-179e0f420803",
   "metadata": {},
   "outputs": [
    {
     "data": {
      "text/plain": [
       "MLP(\n",
       "  (fc1): Linear(in_features=36, out_features=20, bias=True)\n",
       "  (actfunc): ReLU()\n",
       "  (fc2): Linear(in_features=20, out_features=5, bias=True)\n",
       ")"
      ]
     },
     "execution_count": 74,
     "metadata": {},
     "output_type": "execute_result"
    }
   ],
   "source": [
    "net"
   ]
  },
  {
   "cell_type": "code",
   "execution_count": 75,
   "id": "4e890274-b4d8-417b-b249-4c1ed18ff69c",
   "metadata": {},
   "outputs": [
    {
     "data": {
      "text/plain": [
       "torch.Size([20, 36])"
      ]
     },
     "execution_count": 75,
     "metadata": {},
     "output_type": "execute_result"
    }
   ],
   "source": [
    "net.fc1.weight.shape"
   ]
  },
  {
   "cell_type": "code",
   "execution_count": 77,
   "id": "10ba1456-d731-42d6-81bf-0dac83960661",
   "metadata": {},
   "outputs": [
    {
     "data": {
      "text/plain": [
       "tensor([[-0.0030, -0.1060, -0.0855,  0.0307, -0.0587, -0.0211, -0.0137, -0.0933,\n",
       "          0.1216, -0.1279, -0.0401, -0.0156, -0.1780,  0.0277, -0.0036, -0.0780,\n",
       "          0.0586,  0.0729,  0.0667, -0.0496, -0.0495, -0.1821, -0.0143,  0.0692,\n",
       "         -0.0777, -0.0650, -0.0841,  0.1376, -0.0393, -0.1148, -0.1263,  0.0202,\n",
       "         -0.0897, -0.1325, -0.1286,  0.1092],\n",
       "        [ 0.0475, -0.1187, -0.0672, -0.0670,  0.1186, -0.0898,  0.0665, -0.1617,\n",
       "          0.0192, -0.1483, -0.1052, -0.1029,  0.0386,  0.0973,  0.0849, -0.0259,\n",
       "          0.0077,  0.1585,  0.0505,  0.0704,  0.0283,  0.1247,  0.1180,  0.0384,\n",
       "         -0.1498, -0.0210, -0.0269,  0.1188, -0.0173,  0.0842, -0.1015, -0.0850,\n",
       "         -0.0757, -0.0828, -0.0033, -0.1180]], grad_fn=<SliceBackward0>)"
      ]
     },
     "execution_count": 77,
     "metadata": {},
     "output_type": "execute_result"
    }
   ],
   "source": [
    "net.fc1.weight[:2]"
   ]
  },
  {
   "cell_type": "code",
   "execution_count": 79,
   "id": "befa7a95-9dd9-4625-abbd-18f76567f7c0",
   "metadata": {},
   "outputs": [
    {
     "data": {
      "image/png": "[encoded data removed]",
      "text/plain": [
       "<Figure size 432x288 with 2 Axes>"
      ]
     },
     "metadata": {
      "needs_background": "light"
     },
     "output_type": "display_data"
    }
   ],
   "source": [
    "import seaborn\n",
    "M = net.fc1.weight.detach().numpy()\n",
    "seaborn.heatmap( M, cmap=\"coolwarm\" )\n",
    "plt.show()"
   ]
  },
  {
   "cell_type": "code",
   "execution_count": 80,
   "id": "7a520902-7a25-4a5a-a078-89810e2ca89e",
   "metadata": {},
   "outputs": [
    {
     "data": {
      "text/plain": [
       "array([[ 0,  1,  2,  3,  4,  5],\n",
       "       [ 6,  7,  8,  9, 10, 11],\n",
       "       [12, 13, 14, 15, 16, 17],\n",
       "       [18, 19, 20, 21, 22, 23],\n",
       "       [24, 25, 26, 27, 28, 29],\n",
       "       [30, 31, 32, 33, 34, 35]])"
      ]
     },
     "execution_count": 80,
     "metadata": {},
     "output_type": "execute_result"
    }
   ],
   "source": [
    "numpy.arange(0,S**2).reshape(S,S)"
   ]
  },
  {
   "cell_type": "markdown",
   "id": "13e6dfcf-6f76-4676-83d1-dda7b84a2a2b",
   "metadata": {},
   "source": [
    "We can see that some of the hidden neurons have learned to strongly weight the center input pixels 14,15,20,21.\n",
    "\n",
    "Here are also the 20 bias weights:"
   ]
  },
  {
   "cell_type": "code",
   "execution_count": 85,
   "id": "56eac5f2-966a-4c58-a52d-8ceec9d47e64",
   "metadata": {},
   "outputs": [
    {
     "data": {
      "text/plain": [
       "Parameter containing:\n",
       "tensor([-0.1779, -0.1464,  0.1530,  0.0591, -0.0037, -0.0952, -0.1381,  0.2217,\n",
       "        -0.1202,  0.3418, -0.0481, -0.0272,  0.0342, -0.0116,  0.2151, -0.1033,\n",
       "         0.1703,  0.1443, -0.1453, -0.1362], requires_grad=True)"
      ]
     },
     "execution_count": 85,
     "metadata": {},
     "output_type": "execute_result"
    }
   ],
   "source": [
    "net.fc1.bias"
   ]
  },
  {
   "cell_type": "markdown",
   "id": "b9340f6c-7291-4ed8-94ec-87ae7575b7a6",
   "metadata": {},
   "source": [
    "And what about the output neurons?"
   ]
  },
  {
   "cell_type": "code",
   "execution_count": 81,
   "id": "2df9e59a-7fab-4041-9a6c-557d8b307ea0",
   "metadata": {},
   "outputs": [
    {
     "data": {
      "text/plain": [
       "MLP(\n",
       "  (fc1): Linear(in_features=36, out_features=20, bias=True)\n",
       "  (actfunc): ReLU()\n",
       "  (fc2): Linear(in_features=20, out_features=5, bias=True)\n",
       ")"
      ]
     },
     "execution_count": 81,
     "metadata": {},
     "output_type": "execute_result"
    }
   ],
   "source": [
    "net"
   ]
  },
  {
   "cell_type": "code",
   "execution_count": 82,
   "id": "0b45dd9d-4518-4f7f-b218-0fb02cf89673",
   "metadata": {},
   "outputs": [
    {
     "data": {
      "text/plain": [
       "torch.Size([5, 20])"
      ]
     },
     "execution_count": 82,
     "metadata": {},
     "output_type": "execute_result"
    }
   ],
   "source": [
    "net.fc2.weight.shape"
   ]
  },
  {
   "cell_type": "code",
   "execution_count": 83,
   "id": "dfe3d001-e610-4aaa-af53-57d25220436d",
   "metadata": {},
   "outputs": [
    {
     "data": {
      "text/plain": [
       "Parameter containing:\n",
       "tensor([[ 0.0329, -0.1537, -0.1126, -0.0860, -0.1605, -0.1008, -0.1704,  0.0930,\n",
       "          0.0260, -0.0558, -0.0610,  1.1011,  0.0459,  0.3624,  0.1240, -0.1342,\n",
       "         -0.0285,  0.0853,  0.1663,  0.0278],\n",
       "        [-0.0927, -0.1852,  0.2009, -0.1213,  0.4487,  0.1944,  0.1809, -0.3625,\n",
       "          0.3968,  0.1876, -0.0446,  0.7380, -0.0135,  0.7440, -0.3351,  0.1441,\n",
       "          0.1142, -0.3429, -0.0726, -0.2415],\n",
       "        [ 0.0851, -0.1340, -0.3852,  0.1197, -0.3106,  0.4400,  0.1327,  0.3623,\n",
       "          0.4077, -0.2283,  0.0279, -0.1064, -0.1702, -0.1020, -0.2604, -0.0889,\n",
       "         -0.2102, -0.0927, -0.0877,  0.2063],\n",
       "        [-0.1919,  0.0631, -0.2256, -0.0695,  0.0326,  0.0312,  0.0909,  0.1217,\n",
       "         -0.5465,  0.1782,  0.1229, -1.6239,  0.3111, -0.8732,  0.1014, -0.2120,\n",
       "          0.0952,  0.5825,  0.1916, -0.2896],\n",
       "        [ 0.0114,  0.0452,  0.4836,  0.0248, -0.1449, -0.4667,  0.0797, -0.0599,\n",
       "         -0.3277,  0.0358,  0.1163, -0.2223, -0.2046,  0.1147,  0.4023, -0.1413,\n",
       "          0.0939, -0.1522,  0.2172,  0.3055]], requires_grad=True)"
      ]
     },
     "execution_count": 83,
     "metadata": {},
     "output_type": "execute_result"
    }
   ],
   "source": [
    "net.fc2.weight"
   ]
  },
  {
   "cell_type": "code",
   "execution_count": 84,
   "id": "1a799118-ecb9-430d-a4b3-9dc4a510e4b8",
   "metadata": {},
   "outputs": [
    {
     "data": {
      "image/png": "[encoded data removed]",
      "text/plain": [
       "<Figure size 432x288 with 2 Axes>"
      ]
     },
     "metadata": {
      "needs_background": "light"
     },
     "output_type": "display_data"
    }
   ],
   "source": [
    "M = net.fc2.weight.detach().numpy()\n",
    "seaborn.heatmap( M, cmap=\"coolwarm\" )\n",
    "plt.show()"
   ]
  },
  {
   "cell_type": "markdown",
   "id": "9254339e-cf4d-4652-8957-1aac6c12372d",
   "metadata": {},
   "source": [
    "Here there is no clear weight pattern. The 20 sending neurons have connectionts to the 5 output neurons where sometimes the weights are positive and sometimes the weights are negative."
   ]
  },
  {
   "cell_type": "code",
   "execution_count": null,
   "id": "904e0171-158e-4395-aac7-ba074751617b",
   "metadata": {},
   "outputs": [],
   "source": []
  }
 ],
 "metadata": {
  "kernelspec": {
   "display_name": "Python 3",
   "language": "python",
   "name": "python3"
  },
  "language_info": {
   "codemirror_mode": {
    "name": "ipython",
    "version": 3
   },
   "file_extension": ".py",
   "mimetype": "text/x-python",
   "name": "python",
   "nbconvert_exporter": "python",
   "pygments_lexer": "ipython3",
   "version": "3.9.16"
  },
  "toc-autonumbering": true
 },
 "nbformat": 4,
 "nbformat_minor": 5
}
