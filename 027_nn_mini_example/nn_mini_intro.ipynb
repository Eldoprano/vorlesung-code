{
 "cells": [
  {
   "cell_type": "markdown",
   "id": "f6e91227-41bc-4c11-b536-8da629b469e0",
   "metadata": {},
   "source": [
    "# Erzeugen von Trainingsdaten"
   ]
  },
  {
   "cell_type": "code",
   "execution_count": 90,
   "id": "4495495b-e8fb-4429-8eb6-82628981ac20",
   "metadata": {},
   "outputs": [],
   "source": [
    "import numpy as np\n",
    "x = np.arange(0.0, 1.0, 0.01).reshape(-1,1)"
   ]
  },
  {
   "cell_type": "code",
   "execution_count": 91,
   "id": "bf271de7-a96d-439b-84d9-656da1211cf1",
   "metadata": {},
   "outputs": [
    {
     "data": {
      "text/plain": [
       "array([[0.  ],\n",
       "       [0.01],\n",
       "       [0.02],\n",
       "       [0.03],\n",
       "       [0.04],\n",
       "       [0.05],\n",
       "       [0.06],\n",
       "       [0.07],\n",
       "       [0.08],\n",
       "       [0.09]])"
      ]
     },
     "execution_count": 91,
     "metadata": {},
     "output_type": "execute_result"
    }
   ],
   "source": [
    "x[:10]"
   ]
  },
  {
   "cell_type": "code",
   "execution_count": 120,
   "id": "8f79422c-b42e-4912-aee4-22372f026f04",
   "metadata": {},
   "outputs": [],
   "source": [
    "y = x*2.0"
   ]
  },
  {
   "cell_type": "code",
   "execution_count": 121,
   "id": "0b23cca8-e2ca-40d3-a0ff-c2aef78dc2ff",
   "metadata": {},
   "outputs": [
    {
     "data": {
      "text/plain": [
       "array([[0.  ],\n",
       "       [0.02],\n",
       "       [0.04],\n",
       "       [0.06],\n",
       "       [0.08],\n",
       "       [0.1 ],\n",
       "       [0.12],\n",
       "       [0.14],\n",
       "       [0.16],\n",
       "       [0.18]])"
      ]
     },
     "execution_count": 121,
     "metadata": {},
     "output_type": "execute_result"
    }
   ],
   "source": [
    "y[:10]"
   ]
  },
  {
   "cell_type": "markdown",
   "id": "aedb7098-1a83-4749-a112-2eb7ae73f8f8",
   "metadata": {},
   "source": [
    "# Erstellen eines NN mittels TensorFlow / Keras"
   ]
  },
  {
   "cell_type": "code",
   "execution_count": 122,
   "id": "53cbe059-998e-475f-95c5-0ad74c24c20f",
   "metadata": {},
   "outputs": [],
   "source": [
    "nr_inputs = 1"
   ]
  },
  {
   "cell_type": "code",
   "execution_count": 142,
   "id": "a42aa007-dcdf-4b2b-a060-19eee5aa7ac0",
   "metadata": {},
   "outputs": [
    {
     "name": "stdout",
     "output_type": "stream",
     "text": [
      "Model: \"Mein_NN\"\n",
      "_________________________________________________________________\n",
      " Layer (type)                Output Shape              Param #   \n",
      "=================================================================\n",
      " dense_32 (Dense)            (None, 10)                20        \n",
      "                                                                 \n",
      " dense_33 (Dense)            (None, 1)                 11        \n",
      "                                                                 \n",
      "=================================================================\n",
      "Total params: 31\n",
      "Trainable params: 31\n",
      "Non-trainable params: 0\n",
      "_________________________________________________________________\n"
     ]
    }
   ],
   "source": [
    "from tensorflow import keras\n",
    "\n",
    "m = keras.Sequential(name=\"Mein_NN\")\n",
    "l0 = keras.layers.Input(shape=(nr_inputs,))\n",
    "l1 = keras.layers.Dense(10, activation=\"relu\")\n",
    "l2 = keras.layers.Dense(1)\n",
    "m.add( l0 )\n",
    "m.add( l1 )\n",
    "m.add( l2 )\n",
    "m.summary()"
   ]
  },
  {
   "cell_type": "markdown",
   "id": "30a27e5e-f265-44f0-93c5-5b508b84a38d",
   "metadata": {},
   "source": [
    "# Vorbereiten des Trainings und Training"
   ]
  },
  {
   "cell_type": "code",
   "execution_count": 143,
   "id": "803b0910-de89-4a7d-bb1b-c26f1d5934f9",
   "metadata": {},
   "outputs": [],
   "source": [
    "m.compile(optimizer=\"sgd\", loss=keras.losses.MeanSquaredError())"
   ]
  },
  {
   "cell_type": "code",
   "execution_count": 144,
   "id": "9c1b8571-d77c-4bb3-bcca-b0ca7ca285b9",
   "metadata": {},
   "outputs": [],
   "source": [
    "history = m.fit(x,y, epochs=2000, verbose=0)"
   ]
  },
  {
   "cell_type": "code",
   "execution_count": 145,
   "id": "1f803f64-7149-49be-82e1-37fd5f7dae5e",
   "metadata": {},
   "outputs": [
    {
     "data": {
      "image/png": "[encoded data removed]",
      "text/plain": [
       "<Figure size 432x288 with 1 Axes>"
      ]
     },
     "metadata": {
      "needs_background": "light"
     },
     "output_type": "display_data"
    }
   ],
   "source": [
    "import matplotlib.pyplot as plt\n",
    "plt.plot(history.history[\"loss\"])\n",
    "plt.show()"
   ]
  },
  {
   "cell_type": "markdown",
   "id": "13cb0791-7cee-45df-9ecf-f19628a0729f",
   "metadata": {},
   "source": [
    "# Modell anwenden"
   ]
  },
  {
   "cell_type": "code",
   "execution_count": 146,
   "id": "5759b0df-1255-41a1-bda5-ea579c294c36",
   "metadata": {},
   "outputs": [],
   "source": [
    "x_test = np.arange(0.0, 2.0, 0.01).reshape(-1,1)"
   ]
  },
  {
   "cell_type": "code",
   "execution_count": 147,
   "id": "49dac53f-72a5-42ad-81b9-a3c6c888bb52",
   "metadata": {},
   "outputs": [
    {
     "data": {
      "text/plain": [
       "array([[0.  ],\n",
       "       [0.01],\n",
       "       [0.02],\n",
       "       [0.03],\n",
       "       [0.04],\n",
       "       [0.05],\n",
       "       [0.06],\n",
       "       [0.07],\n",
       "       [0.08],\n",
       "       [0.09]])"
      ]
     },
     "execution_count": 147,
     "metadata": {},
     "output_type": "execute_result"
    }
   ],
   "source": [
    "x_test[:10]"
   ]
  },
  {
   "cell_type": "code",
   "execution_count": 148,
   "id": "e37c34a8-2aaf-4e93-aee1-df0edc95c184",
   "metadata": {},
   "outputs": [
    {
     "data": {
      "text/plain": [
       "array([[0.  ],\n",
       "       [0.02],\n",
       "       [0.04],\n",
       "       [0.06],\n",
       "       [0.08],\n",
       "       [0.1 ],\n",
       "       [0.12],\n",
       "       [0.14],\n",
       "       [0.16],\n",
       "       [0.18]])"
      ]
     },
     "execution_count": 148,
     "metadata": {},
     "output_type": "execute_result"
    }
   ],
   "source": [
    "(x_test*2.0)[:10]"
   ]
  },
  {
   "cell_type": "code",
   "execution_count": 149,
   "id": "779192f7-043e-41d6-8699-b55eaa085e7d",
   "metadata": {},
   "outputs": [
    {
     "data": {
      "text/plain": [
       "array([[0.01683556],\n",
       "       [0.0245927 ],\n",
       "       [0.03991118],\n",
       "       [0.05959244],\n",
       "       [0.07959923],\n",
       "       [0.09960604],\n",
       "       [0.11961283],\n",
       "       [0.13961963],\n",
       "       [0.15962642],\n",
       "       [0.17963324]], dtype=float32)"
      ]
     },
     "execution_count": 149,
     "metadata": {},
     "output_type": "execute_result"
    }
   ],
   "source": [
    "preds = m.predict( x_test )\n",
    "preds[:10]"
   ]
  },
  {
   "cell_type": "code",
   "execution_count": 150,
   "id": "8418f5e9-448d-49b5-b1ec-6d7a43d0c366",
   "metadata": {},
   "outputs": [
    {
     "data": {
      "image/png": "[encoded data removed]",
      "text/plain": [
       "<Figure size 432x288 with 1 Axes>"
      ]
     },
     "metadata": {
      "needs_background": "light"
     },
     "output_type": "display_data"
    }
   ],
   "source": [
    "plt.plot(x_test, preds)\n",
    "plt.show()"
   ]
  },
  {
   "cell_type": "code",
   "execution_count": 151,
   "id": "3afb9935-66f2-412b-9a8d-27bf4f769e5b",
   "metadata": {},
   "outputs": [
    {
     "data": {
      "text/plain": [
       "array([[0.01683556],\n",
       "       [0.19964002],\n",
       "       [0.9999119 ],\n",
       "       [2.0002518 ],\n",
       "       [3.0005915 ],\n",
       "       [4.0009317 ]], dtype=float32)"
      ]
     },
     "execution_count": 151,
     "metadata": {},
     "output_type": "execute_result"
    }
   ],
   "source": [
    "m.predict( [[0.0], [0.1], [0.5], [1.0], [1.5], [2.0]] )"
   ]
  },
  {
   "cell_type": "code",
   "execution_count": null,
   "id": "4edbd6a0-a938-49a0-9f83-f496fd81fa48",
   "metadata": {},
   "outputs": [],
   "source": []
  }
 ],
 "metadata": {
  "kernelspec": {
   "display_name": "Python 3 (ipykernel)",
   "language": "python",
   "name": "python3"
  },
  "language_info": {
   "codemirror_mode": {
    "name": "ipython",
    "version": 3
   },
   "file_extension": ".py",
   "mimetype": "text/x-python",
   "name": "python",
   "nbconvert_exporter": "python",
   "pygments_lexer": "ipython3",
   "version": "3.8.10"
  },
  "toc-autonumbering": true
 },
 "nbformat": 4,
 "nbformat_minor": 5
}
