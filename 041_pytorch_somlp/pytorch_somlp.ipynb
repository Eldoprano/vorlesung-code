{
 "cells": [
  {
   "cell_type": "markdown",
   "id": "46b43a66-dc8c-4b0e-bcab-c1ab83b06575",
   "metadata": {},
   "source": [
    "# Generate example, train and test data"
   ]
  },
  {
   "cell_type": "code",
   "execution_count": 1,
   "id": "bcb58625-dc39-4348-966d-714c47ec665b",
   "metadata": {},
   "outputs": [
    {
     "name": "stdout",
     "output_type": "stream",
     "text": [
      "Here are all 5 base patterns:\n",
      "tensor([[-0.0062, -0.1187],\n",
      "        [ 0.1358,  0.1564]])\n",
      "tensor([[ 0.1473,  0.0067],\n",
      "        [-0.0309,  0.2618]])\n",
      "tensor([[-0.0192,  0.0304],\n",
      "        [ 0.0838,  0.1170]])\n",
      "tensor([[ 0.1180, -0.1575],\n",
      "        [-0.0359,  0.0127]])\n",
      "tensor([[-0.0375, -0.0354],\n",
      "        [ 0.0154,  0.0167]])\n",
      "\n",
      "Here are some examples of the 500 patterns in total:\n",
      "tensor([[ 7.9332e-02,  7.4208e-04,  9.2026e-01,  6.5755e-01,  7.4244e-01,\n",
      "          5.9322e-01],\n",
      "        [ 3.7820e-01,  7.0711e-01,  7.5938e-02,  3.3751e-01,  7.8243e-02,\n",
      "          1.2814e-01],\n",
      "        [ 6.9194e-01,  1.1008e-01, -6.2069e-03, -1.1869e-01,  1.2536e-01,\n",
      "          9.0290e-01],\n",
      "        [ 6.1832e-01,  5.2795e-02,  1.3581e-01,  1.5637e-01,  8.4879e-01,\n",
      "          3.2193e-01],\n",
      "        [ 1.2002e-01,  1.2569e-01,  4.8343e-02,  7.7959e-01,  7.2645e-01,\n",
      "          3.9085e-01],\n",
      "        [ 4.2486e-01,  7.1451e-02,  7.6220e-01,  4.0618e-01,  5.5265e-01,\n",
      "          7.6041e-01]])\n",
      "tensor([[ 0.7144,  0.1634,  0.1627,  0.8896,  0.2038,  0.9226],\n",
      "        [ 0.8292,  0.7462,  0.8095,  0.5887,  0.7203,  0.0368],\n",
      "        [ 0.7713,  0.6910, -0.0062, -0.1187,  0.3131,  0.1115],\n",
      "        [ 0.1465,  0.9220,  0.1358,  0.1564,  0.9614,  0.0024],\n",
      "        [ 0.4064,  0.1279,  0.2359,  0.8349,  0.5543,  0.0920],\n",
      "        [ 0.5546,  0.1060,  0.3796,  0.9962,  0.2922,  0.6669]])\n",
      "tensor([[ 0.9490,  0.4347,  0.7813,  0.1560,  0.7673,  0.4420],\n",
      "        [ 0.2621,  0.0987,  0.4361,  0.2556,  0.5444,  0.7480],\n",
      "        [ 0.2514,  0.7257, -0.0062, -0.1187,  0.7160,  0.1094],\n",
      "        [ 0.5892,  0.6087,  0.1358,  0.1564,  0.5203,  0.1748],\n",
      "        [ 0.3149,  0.0627,  0.1154,  0.7398,  0.1401,  0.3122],\n",
      "        [ 0.4466,  0.5402,  0.9234,  0.3381,  0.6875,  0.7631]])\n"
     ]
    }
   ],
   "source": [
    "import torch\n",
    "\n",
    "# 1. define side length of one pattern. pattern are two-dimensional, shape: (S,S)\n",
    "S = 6\n",
    "\n",
    "# 2. define how much different base patterns we want to simulate\n",
    "N_base_patterns = 5\n",
    "\n",
    "# 3. define how many noisy variants of each base patterns we want to generate\n",
    "N_training_patterns_per_base_pattern = 100\n",
    "\n",
    "# 4. compute resulting total number of patterns we will generate\n",
    "N_total_training_patterns = N_base_patterns * N_training_patterns_per_base_pattern\n",
    "\n",
    "# 5. prepare data structures to hold input patterns x\n",
    "# and corresponding one-hot-encoded label vectors y\n",
    "x = torch.zeros(N_total_training_patterns, S**2)\n",
    "y = torch.zeros(N_total_training_patterns, N_base_patterns)\n",
    "\n",
    "# 6. generate desired number of base patterns of shape (2,2)\n",
    "print(f\"Here are all {N_base_patterns} base patterns:\")\n",
    "list_base_patterns = []\n",
    "for base_pattern_nr in range(N_base_patterns):\n",
    "    new_base_pattern = torch.randn(2,2) * 0.1\n",
    "    print(new_base_pattern)\n",
    "    list_base_patterns.append( new_base_pattern )\n",
    "\n",
    "# 7. generate training patterns of shape (S,S)\n",
    "#    where the base pattern of shape (2,2) is in the center of this pattern\n",
    "print(f\"\\nHere are some examples of the {N_total_training_patterns} patterns in total:\")\n",
    "pattern_nr = 0\n",
    "for base_pattern_idx in range(N_base_patterns):\n",
    "    \n",
    "    # 7.1 get the next base pattern\n",
    "    base_pattern = list_base_patterns[base_pattern_idx]\n",
    "    \n",
    "    # 7.2 create trainings patterns with the base pattern in the center\n",
    "    for nr_training_pattern in range(N_training_patterns_per_base_pattern):\n",
    "        \n",
    "        # generate random input pattern with defined center values\n",
    "        #pattern = torch.randn(S, S)\n",
    "        pattern = torch.rand(S,S)\n",
    "        pattern[S//2-1:S//2+1, S//2-1:S//2+1 ] = base_pattern\n",
    "        \n",
    "        # show the first 3 generated pattern\n",
    "        if pattern_nr < 3:\n",
    "            print(pattern)\n",
    "            #print(pattern.view(S**2))\n",
    "        \n",
    "        # store new input pattern\n",
    "        x[pattern_nr,:] = pattern.view(S**2)\n",
    "        \n",
    "        # generate new target pattern\n",
    "        one_hot_vec = torch.zeros(N_base_patterns)\n",
    "        one_hot_vec[base_pattern_idx] = 1\n",
    "                \n",
    "        # store target pattern\n",
    "        y[pattern_nr,:] = one_hot_vec\n",
    "        \n",
    "        pattern_nr += 1"
   ]
  },
  {
   "cell_type": "code",
   "execution_count": 2,
   "id": "a48b2a49-9cc8-4c33-8e96-707b29bf9989",
   "metadata": {},
   "outputs": [],
   "source": [
    "r = torch.randperm(N_total_training_patterns)\n",
    "x = x[r, :]\n",
    "y = y[r, :]"
   ]
  },
  {
   "cell_type": "code",
   "execution_count": 3,
   "id": "28661fad-f4e3-43c6-8cb2-c4cda723abbd",
   "metadata": {},
   "outputs": [],
   "source": [
    "train_ratio = 0.8\n",
    "train_N = int(train_ratio * x.shape[0])\n",
    "x_train = x[:train_N]\n",
    "y_train = y[:train_N]\n",
    "x_test  = x[train_N:]\n",
    "y_test  = y[train_N:]"
   ]
  },
  {
   "cell_type": "code",
   "execution_count": 4,
   "id": "5652c0e8-3823-4279-b201-0a11a4b200d2",
   "metadata": {},
   "outputs": [
    {
     "data": {
      "text/plain": [
       "torch.Size([400, 36])"
      ]
     },
     "execution_count": 4,
     "metadata": {},
     "output_type": "execute_result"
    }
   ],
   "source": [
    "x_train.shape"
   ]
  },
  {
   "cell_type": "code",
   "execution_count": 5,
   "id": "ce284afb-d9be-45e4-8858-3ae0e3dd5623",
   "metadata": {},
   "outputs": [
    {
     "data": {
      "text/plain": [
       "torch.Size([400, 5])"
      ]
     },
     "execution_count": 5,
     "metadata": {},
     "output_type": "execute_result"
    }
   ],
   "source": [
    "y_train.shape"
   ]
  },
  {
   "cell_type": "code",
   "execution_count": 6,
   "id": "1af1fd25-7f1d-402c-87be-d39242880fcc",
   "metadata": {},
   "outputs": [
    {
     "data": {
      "text/plain": [
       "torch.Size([100, 36])"
      ]
     },
     "execution_count": 6,
     "metadata": {},
     "output_type": "execute_result"
    }
   ],
   "source": [
    "x_test.shape"
   ]
  },
  {
   "cell_type": "code",
   "execution_count": 7,
   "id": "5f258170-dcf0-49e3-9b39-bd8ea638de7d",
   "metadata": {},
   "outputs": [
    {
     "data": {
      "text/plain": [
       "torch.Size([100, 5])"
      ]
     },
     "execution_count": 7,
     "metadata": {},
     "output_type": "execute_result"
    }
   ],
   "source": [
    "y_test.shape"
   ]
  },
  {
   "cell_type": "markdown",
   "id": "b35205a4-e0c5-488b-a653-0e0bce9988be",
   "metadata": {},
   "source": [
    "# SOMLP model definition"
   ]
  },
  {
   "cell_type": "code",
   "execution_count": 8,
   "id": "189b45d5-17ea-489c-8f45-57014ba4529c",
   "metadata": {},
   "outputs": [],
   "source": [
    "import torch\n",
    "import torch.nn as nn\n",
    "import torch.nn.functional as F\n",
    "import torch.optim as optim\n",
    "\n",
    "class SOMLP(nn.Module):\n",
    "    def __init__(self, nr_inputs, nr_outputs, use_hidden_layer=False, nr_neurons_hidden1=20):\n",
    "        super().__init__()\n",
    "        \n",
    "        self.use_hidden_layer = use_hidden_layer\n",
    "        if self.use_hidden_layer:\n",
    "            self.fc1 = nn.Linear(nr_inputs, nr_neurons_hidden1)\n",
    "            self.actfunc = torch.nn.ReLU()            \n",
    "            self.fc2 = nn.Linear(nr_neurons_hidden1, nr_outputs)        \n",
    "        else:\n",
    "            self.fc1 = nn.Linear(nr_inputs, nr_outputs)\n",
    "\n",
    "    def forward(self, input_vec):\n",
    "        if self.use_hidden_layer:\n",
    "            x = self.fc1(input_vec)\n",
    "            x = self.actfunc(x)\n",
    "            x = self.fc2(x)\n",
    "        else:\n",
    "            x = self.fc1(input_vec)\n",
    "        \n",
    "        bmu = torch.argmax( x ).item()\n",
    "        \n",
    "        return x, bmu"
   ]
  },
  {
   "cell_type": "code",
   "execution_count": 9,
   "id": "51f4fa92-3742-4e9d-bb99-41420405466b",
   "metadata": {},
   "outputs": [
    {
     "data": {
      "text/plain": [
       "SOMLP(\n",
       "  (fc1): Linear(in_features=36, out_features=20, bias=True)\n",
       "  (actfunc): ReLU()\n",
       "  (fc2): Linear(in_features=20, out_features=5, bias=True)\n",
       ")"
      ]
     },
     "execution_count": 9,
     "metadata": {},
     "output_type": "execute_result"
    }
   ],
   "source": [
    "net = SOMLP(S**2, N_base_patterns, True)\n",
    "net"
   ]
  },
  {
   "cell_type": "code",
   "execution_count": 10,
   "id": "d3fc0349-f94c-4a62-9e00-3ab3f74a6fca",
   "metadata": {},
   "outputs": [
    {
     "data": {
      "text/plain": [
       "torch.float32"
      ]
     },
     "execution_count": 10,
     "metadata": {},
     "output_type": "execute_result"
    }
   ],
   "source": [
    "torch.get_default_dtype()"
   ]
  },
  {
   "cell_type": "code",
   "execution_count": 11,
   "id": "94a702ab-d9c7-4f69-b477-474d9ce5201e",
   "metadata": {},
   "outputs": [
    {
     "data": {
      "text/plain": [
       "tensor([ 0.,  1.,  2.,  3.,  4.,  5.,  6.,  7.,  8.,  9., 10., 11., 12., 13.,\n",
       "        14., 15., 16., 17., 18., 19., 20., 21., 22., 23., 24., 25., 26., 27.,\n",
       "        28., 29., 30., 31., 32., 33., 34., 35.])"
      ]
     },
     "execution_count": 11,
     "metadata": {},
     "output_type": "execute_result"
    }
   ],
   "source": [
    "input_vec1 = torch.arange(S**2, dtype=torch.float32)\n",
    "input_vec1"
   ]
  },
  {
   "cell_type": "code",
   "execution_count": 12,
   "id": "226379bb-3111-4548-a533-ca66a870ec3d",
   "metadata": {},
   "outputs": [
    {
     "data": {
      "text/plain": [
       "torch.float32"
      ]
     },
     "execution_count": 12,
     "metadata": {},
     "output_type": "execute_result"
    }
   ],
   "source": [
    "input_vec1.dtype"
   ]
  },
  {
   "cell_type": "code",
   "execution_count": 13,
   "id": "59c543e3-81c0-40bb-8feb-c73079303675",
   "metadata": {},
   "outputs": [
    {
     "data": {
      "text/plain": [
       "(tensor([ 6.4687,  1.2490,  7.6822, -2.1401, -1.1413], grad_fn=<AddBackward0>),\n",
       " 2)"
      ]
     },
     "execution_count": 13,
     "metadata": {},
     "output_type": "execute_result"
    }
   ],
   "source": [
    "net.forward( input_vec1 )"
   ]
  },
  {
   "cell_type": "code",
   "execution_count": 14,
   "id": "516fa615-56cf-4755-b9ec-e7e3edafd09b",
   "metadata": {},
   "outputs": [
    {
     "data": {
      "text/plain": [
       "(tensor([ 6.4687,  1.2490,  7.6822, -2.1401, -1.1413], grad_fn=<AddBackward0>),\n",
       " 2)"
      ]
     },
     "execution_count": 14,
     "metadata": {},
     "output_type": "execute_result"
    }
   ],
   "source": [
    "net( input_vec1 )"
   ]
  },
  {
   "cell_type": "markdown",
   "id": "afeee212-5638-4fe4-81be-7ea95872941b",
   "metadata": {},
   "source": [
    "# SOMLP training"
   ]
  },
  {
   "cell_type": "code",
   "execution_count": 41,
   "id": "e01f1ace-2415-484b-8873-f0c7b97a4289",
   "metadata": {},
   "outputs": [
    {
     "name": "stdout",
     "output_type": "stream",
     "text": [
      "SOMLP(\n",
      "  (fc1): Linear(in_features=36, out_features=20, bias=True)\n",
      "  (actfunc): ReLU()\n",
      "  (fc2): Linear(in_features=20, out_features=5, bias=True)\n",
      ")\n",
      "train_step= 0\n",
      "train_step= 1000\n",
      "counter 'neuron was BMU' in the last 1000 steps: tensor([  0.,  11., 474., 514.,   1.])\n",
      "neuron outputs now: tensor([0.0097, 0.3661, 1.0141, 1.0475, 0.7309], grad_fn=<AddBackward0>)\n",
      "train_step= 2000\n",
      "counter 'neuron was BMU' in the last 1000 steps: tensor([  0.,  11., 474., 514.,   1.])\n",
      "neuron outputs now: tensor([0.0198, 0.3292, 0.9671, 1.0096, 0.7530], grad_fn=<AddBackward0>)\n",
      "train_step= 3000\n",
      "counter 'neuron was BMU' in the last 1000 steps: tensor([  0.,  11., 474., 514.,   1.])\n",
      "neuron outputs now: tensor([0.0084, 0.2596, 0.8626, 0.8778, 0.5918], grad_fn=<AddBackward0>)\n",
      "train_step= 4000\n",
      "counter 'neuron was BMU' in the last 1000 steps: tensor([  0.,  11., 474., 514.,   1.])\n",
      "neuron outputs now: tensor([-0.0250,  0.3144,  1.0489,  1.0573,  0.6112], grad_fn=<AddBackward0>)\n",
      "train_step= 5000\n",
      "counter 'neuron was BMU' in the last 1000 steps: tensor([  0.,  11., 474., 514.,   1.])\n",
      "neuron outputs now: tensor([0.2816, 0.8431, 1.0421, 0.7862, 0.1848], grad_fn=<AddBackward0>)\n",
      "train_step= 6000\n",
      "counter 'neuron was BMU' in the last 1000 steps: tensor([  0.,  11., 474., 514.,   1.])\n",
      "neuron outputs now: tensor([-0.0057,  0.7877,  1.1195,  1.1292,  0.3416], grad_fn=<AddBackward0>)\n",
      "train_step= 7000\n",
      "counter 'neuron was BMU' in the last 1000 steps: tensor([  0.,  11., 474., 514.,   1.])\n",
      "neuron outputs now: tensor([0.3211, 0.8529, 0.9613, 0.6380, 0.1364], grad_fn=<AddBackward0>)\n",
      "train_step= 8000\n",
      "counter 'neuron was BMU' in the last 1000 steps: tensor([  0.,  11., 474., 514.,   1.])\n",
      "neuron outputs now: tensor([0.0654, 0.5282, 0.9695, 0.8776, 0.3789], grad_fn=<AddBackward0>)\n",
      "train_step= 9000\n",
      "counter 'neuron was BMU' in the last 1000 steps: tensor([  0.,  11., 474., 514.,   1.])\n",
      "neuron outputs now: tensor([ 0.6684,  1.1832,  0.9808,  0.3069, -0.2035], grad_fn=<AddBackward0>)\n",
      "train_step= 10000\n",
      "counter 'neuron was BMU' in the last 1000 steps: tensor([  0.,  11., 474., 514.,   1.])\n",
      "neuron outputs now: tensor([ 0.6073,  1.1172,  0.9977,  0.4311, -0.0650], grad_fn=<AddBackward0>)\n",
      "train_step= 11000\n",
      "counter 'neuron was BMU' in the last 1000 steps: tensor([  0.,  11., 474., 514.,   1.])\n",
      "neuron outputs now: tensor([0.2260, 0.6273, 0.9876, 0.7098, 0.3603], grad_fn=<AddBackward0>)\n",
      "train_step= 12000\n",
      "counter 'neuron was BMU' in the last 1000 steps: tensor([  0.,  11., 474., 514.,   1.])\n",
      "neuron outputs now: tensor([-0.1969,  0.1721,  1.0067,  1.2131,  0.8327], grad_fn=<AddBackward0>)\n",
      "train_step= 13000\n",
      "counter 'neuron was BMU' in the last 1000 steps: tensor([  0.,  11., 474., 514.,   1.])\n",
      "neuron outputs now: tensor([0.2497, 0.8669, 1.0362, 0.8103, 0.1590], grad_fn=<AddBackward0>)\n",
      "train_step= 14000\n",
      "counter 'neuron was BMU' in the last 1000 steps: tensor([  0.,  11., 474., 514.,   1.])\n",
      "neuron outputs now: tensor([0.1423, 0.6386, 0.9564, 0.8617, 0.3416], grad_fn=<AddBackward0>)\n",
      "train_step= 15000\n",
      "counter 'neuron was BMU' in the last 1000 steps: tensor([  0.,  11., 474., 514.,   1.])\n",
      "neuron outputs now: tensor([0.0555, 0.3760, 1.0852, 1.0715, 0.6762], grad_fn=<AddBackward0>)\n",
      "train_step= 16000\n",
      "counter 'neuron was BMU' in the last 1000 steps: tensor([  0.,  11., 474., 514.,   1.])\n",
      "neuron outputs now: tensor([0.2317, 0.7348, 1.0682, 0.7039, 0.2309], grad_fn=<AddBackward0>)\n",
      "train_step= 17000\n",
      "counter 'neuron was BMU' in the last 1000 steps: tensor([  0.,  11., 474., 514.,   1.])\n",
      "neuron outputs now: tensor([ 0.4020, -0.1414,  0.5409,  1.0198,  1.1763], grad_fn=<AddBackward0>)\n",
      "train_step= 18000\n",
      "counter 'neuron was BMU' in the last 1000 steps: tensor([  0.,  11., 474., 514.,   1.])\n",
      "neuron outputs now: tensor([0.0693, 0.3331, 0.9936, 0.9239, 0.5944], grad_fn=<AddBackward0>)\n",
      "train_step= 19000\n",
      "counter 'neuron was BMU' in the last 1000 steps: tensor([  0.,  11., 474., 514.,   1.])\n",
      "neuron outputs now: tensor([ 0.3813, -0.0295,  0.6534,  0.9581,  1.0669], grad_fn=<AddBackward0>)\n",
      "train_step= 20000\n",
      "counter 'neuron was BMU' in the last 1000 steps: tensor([  0.,  11., 474., 514.,   1.])\n",
      "neuron outputs now: tensor([0.1544, 0.8770, 1.0165, 0.6766, 0.0590], grad_fn=<AddBackward0>)\n",
      "train_step= 21000\n",
      "counter 'neuron was BMU' in the last 1000 steps: tensor([  0.,  11., 474., 514.,   1.])\n",
      "neuron outputs now: tensor([0.3134, 0.0383, 0.6549, 1.0018, 0.9413], grad_fn=<AddBackward0>)\n",
      "train_step= 22000\n",
      "counter 'neuron was BMU' in the last 1000 steps: tensor([  0.,  11., 474., 514.,   1.])\n",
      "neuron outputs now: tensor([ 0.7870,  1.0936,  0.9311,  0.3057, -0.0583], grad_fn=<AddBackward0>)\n",
      "train_step= 23000\n",
      "counter 'neuron was BMU' in the last 1000 steps: tensor([  0.,  11., 474., 514.,   1.])\n",
      "neuron outputs now: tensor([ 1.0653, -0.2708,  0.0547,  0.8245,  1.2734], grad_fn=<AddBackward0>)\n",
      "train_step= 24000\n",
      "counter 'neuron was BMU' in the last 1000 steps: tensor([  0.,  11., 474., 514.,   1.])\n",
      "neuron outputs now: tensor([0.0928, 0.7769, 1.0488, 0.8780, 0.1948], grad_fn=<AddBackward0>)\n",
      "train_step= 25000\n",
      "counter 'neuron was BMU' in the last 1000 steps: tensor([  0.,  11., 474., 514.,   1.])\n",
      "neuron outputs now: tensor([ 1.4660,  0.4915, -0.4122,  0.2370,  1.0910], grad_fn=<AddBackward0>)\n",
      "train_step= 26000\n",
      "counter 'neuron was BMU' in the last 1000 steps: tensor([  0.,  11., 474., 514.,   1.])\n",
      "neuron outputs now: tensor([0.8771, 0.0978, 0.2600, 0.6581, 1.0587], grad_fn=<AddBackward0>)\n",
      "train_step= 27000\n",
      "counter 'neuron was BMU' in the last 1000 steps: tensor([  0.,  11., 474., 514.,   1.])\n",
      "neuron outputs now: tensor([0.7367, 0.1966, 0.2683, 0.7879, 0.9958], grad_fn=<AddBackward0>)\n",
      "train_step= 28000\n",
      "counter 'neuron was BMU' in the last 1000 steps: tensor([  0.,  11., 474., 514.,   1.])\n",
      "neuron outputs now: tensor([0.8474, 0.3948, 0.1351, 0.5620, 0.9511], grad_fn=<AddBackward0>)\n",
      "train_step= 29000\n",
      "counter 'neuron was BMU' in the last 1000 steps: tensor([  0.,  11., 474., 514.,   1.])\n",
      "neuron outputs now: tensor([-0.1255,  0.0895,  0.8750,  1.2906,  0.8944], grad_fn=<AddBackward0>)\n"
     ]
    },
    {
     "data": {
      "image/png": "[encoded data removed]",
      "text/plain": [
       "<Figure size 432x288 with 1 Axes>"
      ]
     },
     "metadata": {
      "needs_background": "light"
     },
     "output_type": "display_data"
    }
   ],
   "source": [
    "import numpy\n",
    "\n",
    "BMU_TARGET_VALUE = 1.0\n",
    "BMU_NEIGHBORS_TARGET_VALUE = 1.0\n",
    "\n",
    "def get_neighbors1d(neuron_idx, nr_neurons):\n",
    "    \n",
    "    # edge neurons?\n",
    "    if neuron_idx == 0:\n",
    "        return [nr_neurons-1, neuron_idx+1]\n",
    "    if neuron_idx == nr_neurons-1:\n",
    "        return [neuron_idx-1, 0]\n",
    "    \n",
    "    # inner neuron\n",
    "    return [neuron_idx-1, neuron_idx+1]\n",
    "\n",
    "\n",
    "# prepare neural network\n",
    "nr_inputs  = S**2\n",
    "nr_hidden1 = 20\n",
    "nr_outputs = N_base_patterns\n",
    "net = SOMLP(nr_inputs, nr_outputs, use_hidden_layer=True, nr_neurons_hidden1=nr_hidden1) # SOMLP\n",
    "#net = SOMLP(nr_inputs, nr_outputs, use_hidden_layer=False) # SO-Perceptron\n",
    "print(net)\n",
    "\n",
    "# prepare loss and optimizer\n",
    "#loss_fn = torch.nn.L1Loss()\n",
    "loss_fn = torch.nn.MSELoss()\n",
    "optimizer = optim.Adam(net.parameters(), lr=0.001)\n",
    "\n",
    "N_train_steps = 30000\n",
    "\n",
    "losses = []\n",
    "avg_losses = []\n",
    "bmus = []\n",
    "for train_step in range(N_train_steps):   \n",
    "    \n",
    "    # 1. get a random training sample\n",
    "    #    consisting of an input vec and a teacher vec\n",
    "    random_idx = numpy.random.randint(low=0, high=x_train.shape[0])  \n",
    "    input_vec   = x_train[random_idx]\n",
    "    \n",
    "    # 2. sets gradients to 0 before calculating loss   \n",
    "    # For: net.zero_grad() vs optim.zero_grad() see:    \n",
    "    # https://stackoverflow.com/questions/61898668/net-zero-grad-vs-optim-zero-grad-pytorch\n",
    "    #net.zero_grad()\n",
    "    optimizer.zero_grad()\n",
    "\n",
    "    # 3. feed forward step\n",
    "    output_vec, bmu = net( input_vec )\n",
    "    \n",
    "    # 4. get BMU neighbors\n",
    "    bmu_neighbors = get_neighbors1d( bmu, nr_outputs )\n",
    "    \n",
    "    # 5. prepare teacher vector\n",
    "    teacher_vec = torch.zeros( nr_outputs )\n",
    "    teacher_vec[bmu] = BMU_TARGET_VALUE\n",
    "    for neighbor in bmu_neighbors:\n",
    "        teacher_vec[neighbor] = BMU_NEIGHBORS_TARGET_VALUE\n",
    "    #print( f\"bmu={bmu}, neighbors={bmu_neighbors}\" )\n",
    "    #print( f\"teacher_vec={teacher_vec}\" )\n",
    "    \n",
    "    # 6. compute loss\n",
    "    loss = loss_fn(output_vec, teacher_vec)\n",
    "    \n",
    "    # 7. apply this loss backwards thru the network's parameters\n",
    "    loss.backward() \n",
    "    \n",
    "    # 8. change weights, i.e.\n",
    "    #    attempt to optimize weights to account for loss/gradients\n",
    "    optimizer.step() \n",
    "\n",
    "    # 9. save loss\n",
    "    loss_value = loss.detach().numpy()\n",
    "    losses.append( loss_value )\n",
    "    if len(losses)>100:\n",
    "        avg_losses.append( numpy.mean(losses[-100:]) )    \n",
    "    \n",
    "    # 10. save information which neuron was BMU\n",
    "    bmus.append( bmu )\n",
    "    X = 1000\n",
    "    if len(bmus)>X and len(bmus) % X == 0:\n",
    "        # count how often each neuron was BMU\n",
    "        # in the last X steps\n",
    "        last_bmus = bmus[-X:]\n",
    "        counter = torch.zeros(nr_outputs)\n",
    "        for i in range(X):\n",
    "            counter[bmus[i]] += 1\n",
    "        print(f\"counter 'neuron was BMU' in the last {X} steps: {counter}\")\n",
    "        print(f\"neuron outputs now: {output_vec}\")\n",
    "    \n",
    "    # 11. show progress\n",
    "    if train_step % 1000 == 0:\n",
    "        print(\"train_step=\", train_step)\n",
    "        \n",
    "import matplotlib.pyplot as plt\n",
    "plt.plot( avg_losses )\n",
    "plt.title(\"Average losses\")\n",
    "plt.show()"
   ]
  },
  {
   "cell_type": "markdown",
   "id": "1e7ef1eb-aa4f-46e7-814f-ddf46bd95919",
   "metadata": {},
   "source": [
    "# Distinctiveness of patterns"
   ]
  },
  {
   "cell_type": "code",
   "execution_count": 42,
   "id": "e56877fc-51da-48ab-8e44-5dfbb28035f1",
   "metadata": {},
   "outputs": [
    {
     "data": {
      "text/plain": [
       "torch.Size([400, 36])"
      ]
     },
     "execution_count": 42,
     "metadata": {},
     "output_type": "execute_result"
    }
   ],
   "source": [
    "x_train.shape"
   ]
  },
  {
   "cell_type": "code",
   "execution_count": 43,
   "id": "e33ba81e-6b90-4d43-b558-82f7e9da02c6",
   "metadata": {},
   "outputs": [
    {
     "data": {
      "text/plain": [
       "torch.Size([400, 5])"
      ]
     },
     "execution_count": 43,
     "metadata": {},
     "output_type": "execute_result"
    }
   ],
   "source": [
    "y_train.shape"
   ]
  },
  {
   "cell_type": "code",
   "execution_count": 44,
   "id": "27aa072e-0145-425e-ae98-6c53d943922d",
   "metadata": {},
   "outputs": [
    {
     "data": {
      "text/plain": [
       "SOMLP(\n",
       "  (fc1): Linear(in_features=36, out_features=20, bias=True)\n",
       "  (actfunc): ReLU()\n",
       "  (fc2): Linear(in_features=20, out_features=5, bias=True)\n",
       ")"
      ]
     },
     "execution_count": 44,
     "metadata": {},
     "output_type": "execute_result"
    }
   ],
   "source": [
    "net"
   ]
  },
  {
   "cell_type": "code",
   "execution_count": 45,
   "id": "77ea54db-883e-414f-974d-69425b20e579",
   "metadata": {},
   "outputs": [
    {
     "data": {
      "text/plain": [
       "torch.Size([100, 36])"
      ]
     },
     "execution_count": 45,
     "metadata": {},
     "output_type": "execute_result"
    }
   ],
   "source": [
    "x_test.shape"
   ]
  },
  {
   "cell_type": "code",
   "execution_count": 46,
   "id": "1ebe81ff-addc-4f4c-9742-933633bf14bc",
   "metadata": {},
   "outputs": [
    {
     "data": {
      "text/plain": [
       "torch.Size([100, 5])"
      ]
     },
     "execution_count": 46,
     "metadata": {},
     "output_type": "execute_result"
    }
   ],
   "source": [
    "y_test.shape"
   ]
  },
  {
   "cell_type": "code",
   "execution_count": 47,
   "id": "a31f10fe-64bc-4703-8183-3f695b8c042f",
   "metadata": {},
   "outputs": [],
   "source": [
    "# 1. define whether we want to test the SOMLP\n",
    "#    using the train or the test data\n",
    "data_source = \"train\"\n",
    "#data_source = \"test\"\n",
    "\n",
    "if data_source == \"train\":\n",
    "    x_data = x_train\n",
    "    y_data = y_train\n",
    "elif data_source == \"test\":\n",
    "    x_data = x_test\n",
    "    y_data = y_test\n",
    "\n",
    "N = x_data.shape[0]\n",
    "\n",
    "# 2. prepare result matrix that shall reflect\n",
    "#    how good we can discriminate the patterns\n",
    "D = torch.zeros( (N_base_patterns, nr_outputs) )\n",
    "\n",
    "# 2. iterate over all patterns ...\n",
    "for pattern_idx in range(N):\n",
    "    \n",
    "    # get next input pattern\n",
    "    input_vec = x_data[pattern_idx]\n",
    "    \n",
    "    # get corresponding class label\n",
    "    class_label = torch.argmax( y_data[pattern_idx] )\n",
    "    \n",
    "    # feed-forward the pattern thru the network\n",
    "    output_vec, bmu = net( input_vec )    \n",
    "    \n",
    "    # increase counter in D at (class_label, bmu)\n",
    "    D[class_label, bmu] += 1"
   ]
  },
  {
   "cell_type": "code",
   "execution_count": 50,
   "id": "29f5738a-c770-41f0-86db-e2d390b540b6",
   "metadata": {},
   "outputs": [
    {
     "data": {
      "text/plain": [
       "tensor([[ 0.,  2., 42., 44.,  0.],\n",
       "        [ 0.,  7., 41., 31.,  0.],\n",
       "        [ 0.,  4., 30., 47.,  0.],\n",
       "        [ 0.,  3., 37., 34.,  0.],\n",
       "        [ 0.,  4., 41., 33.,  0.]])"
      ]
     },
     "execution_count": 50,
     "metadata": {},
     "output_type": "execute_result"
    }
   ],
   "source": [
    "# columns: neuron ID\n",
    "# rows: class labels\n",
    "# D(c,n): how often was neuron n BMU for pattern c?\n",
    "D"
   ]
  },
  {
   "cell_type": "code",
   "execution_count": 49,
   "id": "07b89c33-2c4f-4776-8569-10578566429b",
   "metadata": {},
   "outputs": [
    {
     "data": {
      "text/plain": [
       "tensor(20.)"
      ]
     },
     "execution_count": 49,
     "metadata": {},
     "output_type": "execute_result"
    }
   ],
   "source": [
    "sum(D[:,1])"
   ]
  },
  {
   "cell_type": "code",
   "execution_count": null,
   "id": "b973967d-e2a2-48da-b9cd-68a7edf3b0f6",
   "metadata": {},
   "outputs": [],
   "source": []
  }
 ],
 "metadata": {
  "kernelspec": {
   "display_name": "Python 3",
   "language": "python",
   "name": "python3"
  },
  "language_info": {
   "codemirror_mode": {
    "name": "ipython",
    "version": 3
   },
   "file_extension": ".py",
   "mimetype": "text/x-python",
   "name": "python",
   "nbconvert_exporter": "python",
   "pygments_lexer": "ipython3",
   "version": "3.9.16"
  },
  "toc-autonumbering": true
 },
 "nbformat": 4,
 "nbformat_minor": 5
}
